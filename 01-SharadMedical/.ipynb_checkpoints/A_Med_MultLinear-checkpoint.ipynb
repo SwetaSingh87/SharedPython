{
 "cells": [
  {
   "cell_type": "code",
   "execution_count": 1,
   "id": "bcdc4f65-11b4-48d5-bc1d-d19174f5185f",
   "metadata": {
    "jupyter": {
     "outputs_hidden": true
    },
    "tags": []
   },
   "outputs": [
    {
     "name": "stdout",
     "output_type": "stream",
     "text": [
      "Requirement already satisfied: openpyxl in c:\\users\\abhis\\anaconda3\\lib\\site-packages (3.0.10)\n",
      "Requirement already satisfied: et_xmlfile in c:\\users\\abhis\\anaconda3\\lib\\site-packages (from openpyxl) (1.1.0)\n",
      "Requirement already satisfied: imbalanced-learn in c:\\users\\abhis\\anaconda3\\lib\\site-packages (0.10.1)\n",
      "Requirement already satisfied: numpy>=1.17.3 in c:\\users\\abhis\\anaconda3\\lib\\site-packages (from imbalanced-learn) (1.21.5)\n",
      "Requirement already satisfied: joblib>=1.1.1 in c:\\users\\abhis\\anaconda3\\lib\\site-packages (from imbalanced-learn) (1.2.0)\n",
      "Requirement already satisfied: scipy>=1.3.2 in c:\\users\\abhis\\anaconda3\\lib\\site-packages (from imbalanced-learn) (1.9.1)\n",
      "Requirement already satisfied: scikit-learn>=1.0.2 in c:\\users\\abhis\\anaconda3\\lib\\site-packages (from imbalanced-learn) (1.0.2)\n",
      "Requirement already satisfied: threadpoolctl>=2.0.0 in c:\\users\\abhis\\anaconda3\\lib\\site-packages (from imbalanced-learn) (2.2.0)\n",
      "Requirement already satisfied: ipympl in c:\\users\\abhis\\anaconda3\\lib\\site-packages (0.9.3)\n",
      "Requirement already satisfied: ipython<9 in c:\\users\\abhis\\anaconda3\\lib\\site-packages (from ipympl) (7.31.1)\n",
      "Requirement already satisfied: ipython-genutils in c:\\users\\abhis\\anaconda3\\lib\\site-packages (from ipympl) (0.2.0)\n",
      "Requirement already satisfied: numpy in c:\\users\\abhis\\anaconda3\\lib\\site-packages (from ipympl) (1.21.5)\n",
      "Requirement already satisfied: pillow in c:\\users\\abhis\\anaconda3\\lib\\site-packages (from ipympl) (9.2.0)\n",
      "Requirement already satisfied: traitlets<6 in c:\\users\\abhis\\anaconda3\\lib\\site-packages (from ipympl) (5.1.1)\n",
      "Requirement already satisfied: ipywidgets<9,>=7.6.0 in c:\\users\\abhis\\anaconda3\\lib\\site-packages (from ipympl) (7.6.5)\n",
      "Requirement already satisfied: matplotlib<4,>=3.4.0 in c:\\users\\abhis\\anaconda3\\lib\\site-packages (from ipympl) (3.5.2)\n",
      "Requirement already satisfied: setuptools>=18.5 in c:\\users\\abhis\\anaconda3\\lib\\site-packages (from ipython<9->ipympl) (63.4.1)\n",
      "Requirement already satisfied: backcall in c:\\users\\abhis\\anaconda3\\lib\\site-packages (from ipython<9->ipympl) (0.2.0)\n",
      "Requirement already satisfied: colorama in c:\\users\\abhis\\anaconda3\\lib\\site-packages (from ipython<9->ipympl) (0.4.5)\n",
      "Requirement already satisfied: pygments in c:\\users\\abhis\\anaconda3\\lib\\site-packages (from ipython<9->ipympl) (2.11.2)\n",
      "Requirement already satisfied: jedi>=0.16 in c:\\users\\abhis\\anaconda3\\lib\\site-packages (from ipython<9->ipympl) (0.18.1)\n",
      "Requirement already satisfied: matplotlib-inline in c:\\users\\abhis\\anaconda3\\lib\\site-packages (from ipython<9->ipympl) (0.1.6)\n",
      "Requirement already satisfied: decorator in c:\\users\\abhis\\anaconda3\\lib\\site-packages (from ipython<9->ipympl) (5.1.1)\n",
      "Requirement already satisfied: pickleshare in c:\\users\\abhis\\anaconda3\\lib\\site-packages (from ipython<9->ipympl) (0.7.5)\n",
      "Requirement already satisfied: prompt-toolkit!=3.0.0,!=3.0.1,<3.1.0,>=2.0.0 in c:\\users\\abhis\\anaconda3\\lib\\site-packages (from ipython<9->ipympl) (3.0.20)\n",
      "Requirement already satisfied: ipykernel>=4.5.1 in c:\\users\\abhis\\anaconda3\\lib\\site-packages (from ipywidgets<9,>=7.6.0->ipympl) (6.15.2)\n",
      "Requirement already satisfied: nbformat>=4.2.0 in c:\\users\\abhis\\anaconda3\\lib\\site-packages (from ipywidgets<9,>=7.6.0->ipympl) (5.5.0)\n",
      "Requirement already satisfied: jupyterlab-widgets>=1.0.0 in c:\\users\\abhis\\anaconda3\\lib\\site-packages (from ipywidgets<9,>=7.6.0->ipympl) (1.0.0)\n",
      "Requirement already satisfied: widgetsnbextension~=3.5.0 in c:\\users\\abhis\\anaconda3\\lib\\site-packages (from ipywidgets<9,>=7.6.0->ipympl) (3.5.2)\n",
      "Requirement already satisfied: fonttools>=4.22.0 in c:\\users\\abhis\\anaconda3\\lib\\site-packages (from matplotlib<4,>=3.4.0->ipympl) (4.25.0)\n",
      "Requirement already satisfied: pyparsing>=2.2.1 in c:\\users\\abhis\\anaconda3\\lib\\site-packages (from matplotlib<4,>=3.4.0->ipympl) (3.0.9)\n",
      "Requirement already satisfied: python-dateutil>=2.7 in c:\\users\\abhis\\anaconda3\\lib\\site-packages (from matplotlib<4,>=3.4.0->ipympl) (2.8.2)\n",
      "Requirement already satisfied: packaging>=20.0 in c:\\users\\abhis\\anaconda3\\lib\\site-packages (from matplotlib<4,>=3.4.0->ipympl) (21.3)\n",
      "Requirement already satisfied: kiwisolver>=1.0.1 in c:\\users\\abhis\\anaconda3\\lib\\site-packages (from matplotlib<4,>=3.4.0->ipympl) (1.4.2)\n",
      "Requirement already satisfied: cycler>=0.10 in c:\\users\\abhis\\anaconda3\\lib\\site-packages (from matplotlib<4,>=3.4.0->ipympl) (0.11.0)\n",
      "Requirement already satisfied: psutil in c:\\users\\abhis\\anaconda3\\lib\\site-packages (from ipykernel>=4.5.1->ipywidgets<9,>=7.6.0->ipympl) (5.9.0)\n",
      "Requirement already satisfied: jupyter-client>=6.1.12 in c:\\users\\abhis\\anaconda3\\lib\\site-packages (from ipykernel>=4.5.1->ipywidgets<9,>=7.6.0->ipympl) (7.3.4)\n",
      "Requirement already satisfied: pyzmq>=17 in c:\\users\\abhis\\anaconda3\\lib\\site-packages (from ipykernel>=4.5.1->ipywidgets<9,>=7.6.0->ipympl) (23.2.0)\n",
      "Requirement already satisfied: tornado>=6.1 in c:\\users\\abhis\\anaconda3\\lib\\site-packages (from ipykernel>=4.5.1->ipywidgets<9,>=7.6.0->ipympl) (6.1)\n",
      "Requirement already satisfied: debugpy>=1.0 in c:\\users\\abhis\\anaconda3\\lib\\site-packages (from ipykernel>=4.5.1->ipywidgets<9,>=7.6.0->ipympl) (1.5.1)\n",
      "Requirement already satisfied: nest-asyncio in c:\\users\\abhis\\anaconda3\\lib\\site-packages (from ipykernel>=4.5.1->ipywidgets<9,>=7.6.0->ipympl) (1.5.5)\n",
      "Requirement already satisfied: parso<0.9.0,>=0.8.0 in c:\\users\\abhis\\anaconda3\\lib\\site-packages (from jedi>=0.16->ipython<9->ipympl) (0.8.3)\n",
      "Requirement already satisfied: jupyter_core in c:\\users\\abhis\\anaconda3\\lib\\site-packages (from nbformat>=4.2.0->ipywidgets<9,>=7.6.0->ipympl) (4.11.1)\n",
      "Requirement already satisfied: fastjsonschema in c:\\users\\abhis\\anaconda3\\lib\\site-packages (from nbformat>=4.2.0->ipywidgets<9,>=7.6.0->ipympl) (2.16.2)\n",
      "Requirement already satisfied: jsonschema>=2.6 in c:\\users\\abhis\\anaconda3\\lib\\site-packages (from nbformat>=4.2.0->ipywidgets<9,>=7.6.0->ipympl) (4.16.0)\n",
      "Requirement already satisfied: wcwidth in c:\\users\\abhis\\anaconda3\\lib\\site-packages (from prompt-toolkit!=3.0.0,!=3.0.1,<3.1.0,>=2.0.0->ipython<9->ipympl) (0.2.5)\n",
      "Requirement already satisfied: six>=1.5 in c:\\users\\abhis\\anaconda3\\lib\\site-packages (from python-dateutil>=2.7->matplotlib<4,>=3.4.0->ipympl) (1.16.0)\n",
      "Requirement already satisfied: notebook>=4.4.1 in c:\\users\\abhis\\anaconda3\\lib\\site-packages (from widgetsnbextension~=3.5.0->ipywidgets<9,>=7.6.0->ipympl) (6.4.12)\n",
      "Requirement already satisfied: pyrsistent!=0.17.0,!=0.17.1,!=0.17.2,>=0.14.0 in c:\\users\\abhis\\anaconda3\\lib\\site-packages (from jsonschema>=2.6->nbformat>=4.2.0->ipywidgets<9,>=7.6.0->ipympl) (0.18.0)\n",
      "Requirement already satisfied: attrs>=17.4.0 in c:\\users\\abhis\\anaconda3\\lib\\site-packages (from jsonschema>=2.6->nbformat>=4.2.0->ipywidgets<9,>=7.6.0->ipympl) (21.4.0)\n",
      "Requirement already satisfied: entrypoints in c:\\users\\abhis\\anaconda3\\lib\\site-packages (from jupyter-client>=6.1.12->ipykernel>=4.5.1->ipywidgets<9,>=7.6.0->ipympl) (0.4)\n",
      "Requirement already satisfied: pywin32>=1.0 in c:\\users\\abhis\\anaconda3\\lib\\site-packages (from jupyter_core->nbformat>=4.2.0->ipywidgets<9,>=7.6.0->ipympl) (302)\n",
      "Requirement already satisfied: prometheus-client in c:\\users\\abhis\\anaconda3\\lib\\site-packages (from notebook>=4.4.1->widgetsnbextension~=3.5.0->ipywidgets<9,>=7.6.0->ipympl) (0.14.1)\n",
      "Requirement already satisfied: argon2-cffi in c:\\users\\abhis\\anaconda3\\lib\\site-packages (from notebook>=4.4.1->widgetsnbextension~=3.5.0->ipywidgets<9,>=7.6.0->ipympl) (21.3.0)\n",
      "Requirement already satisfied: jinja2 in c:\\users\\abhis\\anaconda3\\lib\\site-packages (from notebook>=4.4.1->widgetsnbextension~=3.5.0->ipywidgets<9,>=7.6.0->ipympl) (2.11.3)\n",
      "Requirement already satisfied: terminado>=0.8.3 in c:\\users\\abhis\\anaconda3\\lib\\site-packages (from notebook>=4.4.1->widgetsnbextension~=3.5.0->ipywidgets<9,>=7.6.0->ipympl) (0.13.1)\n",
      "Requirement already satisfied: Send2Trash>=1.8.0 in c:\\users\\abhis\\anaconda3\\lib\\site-packages (from notebook>=4.4.1->widgetsnbextension~=3.5.0->ipywidgets<9,>=7.6.0->ipympl) (1.8.0)\n",
      "Requirement already satisfied: nbconvert>=5 in c:\\users\\abhis\\anaconda3\\lib\\site-packages (from notebook>=4.4.1->widgetsnbextension~=3.5.0->ipywidgets<9,>=7.6.0->ipympl) (6.4.4)\n",
      "Requirement already satisfied: pandocfilters>=1.4.1 in c:\\users\\abhis\\anaconda3\\lib\\site-packages (from nbconvert>=5->notebook>=4.4.1->widgetsnbextension~=3.5.0->ipywidgets<9,>=7.6.0->ipympl) (1.5.0)\n",
      "Requirement already satisfied: mistune<2,>=0.8.1 in c:\\users\\abhis\\anaconda3\\lib\\site-packages (from nbconvert>=5->notebook>=4.4.1->widgetsnbextension~=3.5.0->ipywidgets<9,>=7.6.0->ipympl) (0.8.4)\n",
      "Requirement already satisfied: beautifulsoup4 in c:\\users\\abhis\\anaconda3\\lib\\site-packages (from nbconvert>=5->notebook>=4.4.1->widgetsnbextension~=3.5.0->ipywidgets<9,>=7.6.0->ipympl) (4.11.1)\n",
      "Requirement already satisfied: nbclient<0.6.0,>=0.5.0 in c:\\users\\abhis\\anaconda3\\lib\\site-packages (from nbconvert>=5->notebook>=4.4.1->widgetsnbextension~=3.5.0->ipywidgets<9,>=7.6.0->ipympl) (0.5.13)\n",
      "Requirement already satisfied: jupyterlab-pygments in c:\\users\\abhis\\anaconda3\\lib\\site-packages (from nbconvert>=5->notebook>=4.4.1->widgetsnbextension~=3.5.0->ipywidgets<9,>=7.6.0->ipympl) (0.1.2)\n",
      "Requirement already satisfied: testpath in c:\\users\\abhis\\anaconda3\\lib\\site-packages (from nbconvert>=5->notebook>=4.4.1->widgetsnbextension~=3.5.0->ipywidgets<9,>=7.6.0->ipympl) (0.6.0)\n",
      "Requirement already satisfied: bleach in c:\\users\\abhis\\anaconda3\\lib\\site-packages (from nbconvert>=5->notebook>=4.4.1->widgetsnbextension~=3.5.0->ipywidgets<9,>=7.6.0->ipympl) (4.1.0)\n",
      "Requirement already satisfied: defusedxml in c:\\users\\abhis\\anaconda3\\lib\\site-packages (from nbconvert>=5->notebook>=4.4.1->widgetsnbextension~=3.5.0->ipywidgets<9,>=7.6.0->ipympl) (0.7.1)\n",
      "Requirement already satisfied: MarkupSafe>=0.23 in c:\\users\\abhis\\anaconda3\\lib\\site-packages (from jinja2->notebook>=4.4.1->widgetsnbextension~=3.5.0->ipywidgets<9,>=7.6.0->ipympl) (2.0.1)\n",
      "Requirement already satisfied: pywinpty>=1.1.0 in c:\\users\\abhis\\anaconda3\\lib\\site-packages (from terminado>=0.8.3->notebook>=4.4.1->widgetsnbextension~=3.5.0->ipywidgets<9,>=7.6.0->ipympl) (2.0.2)\n",
      "Requirement already satisfied: argon2-cffi-bindings in c:\\users\\abhis\\anaconda3\\lib\\site-packages (from argon2-cffi->notebook>=4.4.1->widgetsnbextension~=3.5.0->ipywidgets<9,>=7.6.0->ipympl) (21.2.0)\n",
      "Requirement already satisfied: cffi>=1.0.1 in c:\\users\\abhis\\anaconda3\\lib\\site-packages (from argon2-cffi-bindings->argon2-cffi->notebook>=4.4.1->widgetsnbextension~=3.5.0->ipywidgets<9,>=7.6.0->ipympl) (1.15.1)\n",
      "Requirement already satisfied: soupsieve>1.2 in c:\\users\\abhis\\anaconda3\\lib\\site-packages (from beautifulsoup4->nbconvert>=5->notebook>=4.4.1->widgetsnbextension~=3.5.0->ipywidgets<9,>=7.6.0->ipympl) (2.3.1)\n",
      "Requirement already satisfied: webencodings in c:\\users\\abhis\\anaconda3\\lib\\site-packages (from bleach->nbconvert>=5->notebook>=4.4.1->widgetsnbextension~=3.5.0->ipywidgets<9,>=7.6.0->ipympl) (0.5.1)\n",
      "Requirement already satisfied: pycparser in c:\\users\\abhis\\anaconda3\\lib\\site-packages (from cffi>=1.0.1->argon2-cffi-bindings->argon2-cffi->notebook>=4.4.1->widgetsnbextension~=3.5.0->ipywidgets<9,>=7.6.0->ipympl) (2.21)\n"
     ]
    },
    {
     "name": "stdout",
     "output_type": "stream",
     "text": [
      "Requirement already satisfied: shapely in c:\\users\\abhis\\anaconda3\\lib\\site-packages (2.0.1)\n",
      "Requirement already satisfied: numpy>=1.14 in c:\\users\\abhis\\anaconda3\\lib\\site-packages (from shapely) (1.21.5)\n"
     ]
    }
   ],
   "source": [
    "!pip install openpyxl\n",
    "!pip install imbalanced-learn\n",
    "!pip3 install ipympl\n",
    "!pip install shapely"
   ]
  },
  {
   "cell_type": "markdown",
   "id": "09393c93",
   "metadata": {},
   "source": [
    "# Step 0: Importing Essentials"
   ]
  },
  {
   "cell_type": "code",
   "execution_count": 2,
   "id": "04e0b131-dbc4-4e21-8f88-255bc0cbea05",
   "metadata": {},
   "outputs": [],
   "source": [
    "import pandas as pd\n",
    "import numpy as np\n",
    "import matplotlib.pyplot as plt\n",
    "import seaborn as sns\n",
    "import os, sys\n",
    "from numpy import nan\n",
    "import re\n",
    "import ipympl\n",
    "# from IPython.core.display import display, HTML\n",
    "import json\n",
    "from os import listdir\n",
    "import glob\n",
    "import math\n",
    "from IPython.display import Image, display, HTML\n",
    "from shapely.geometry import mapping\n",
    "from sklearn.cross_decomposition import PLSRegression\n",
    "from sklearn.ensemble import RandomForestRegressor\n",
    "from sklearn.model_selection import cross_val_score, train_test_split, RepeatedKFold, cross_val_predict\n",
    "from sklearn.metrics import r2_score, mean_squared_error, precision_score, recall_score, mean_absolute_error, make_scorer\n",
    "from sklearn.svm import SVR\n",
    "from sklearn.linear_model import LinearRegression\n",
    "from sklearn.kernel_ridge import KernelRidge\n",
    "from sklearn.model_selection import GridSearchCV, RandomizedSearchCV, LeaveOneOut, cross_validate\n",
    "from sklearn.impute import SimpleImputer\n",
    "from tqdm.notebook import tqdm\n",
    "from sklearn.svm import SVC\n",
    "from tqdm import tqdm\n",
    "import pickle\n",
    "from imblearn.over_sampling import SMOTE\n",
    "from scipy.stats import ks_2samp\n",
    "from scipy import stats\n",
    "np.seterr(divide='ignore', invalid='ignore')\n",
    "pd.options.display.max_columns = 100\n",
    "%matplotlib inline\n"
   ]
  },
  {
   "cell_type": "markdown",
   "id": "9a121f00",
   "metadata": {},
   "source": [
    "# Step 1: Data Acquisition"
   ]
  },
  {
   "cell_type": "code",
   "execution_count": 3,
   "id": "e58c243b",
   "metadata": {},
   "outputs": [
    {
     "data": {
      "text/html": [
       "<div>\n",
       "<style scoped>\n",
       "    .dataframe tbody tr th:only-of-type {\n",
       "        vertical-align: middle;\n",
       "    }\n",
       "\n",
       "    .dataframe tbody tr th {\n",
       "        vertical-align: top;\n",
       "    }\n",
       "\n",
       "    .dataframe thead th {\n",
       "        text-align: right;\n",
       "    }\n",
       "</style>\n",
       "<table border=\"1\" class=\"dataframe\">\n",
       "  <thead>\n",
       "    <tr style=\"text-align: right;\">\n",
       "      <th></th>\n",
       "      <th>ID</th>\n",
       "      <th>Name</th>\n",
       "      <th>Birth (year)</th>\n",
       "      <th>Date of test</th>\n",
       "      <th>Smoker (1/0)</th>\n",
       "      <th>LI 7</th>\n",
       "      <th>Age</th>\n",
       "      <th>W</th>\n",
       "      <th>H</th>\n",
       "      <th>L2.5</th>\n",
       "      <th>BMI</th>\n",
       "      <th>LI5_Measurement</th>\n",
       "    </tr>\n",
       "  </thead>\n",
       "  <tbody>\n",
       "    <tr>\n",
       "      <th>0</th>\n",
       "      <td>1669411-9</td>\n",
       "      <td>Shwartzman Mika</td>\n",
       "      <td>1941-01-01 00:00:00</td>\n",
       "      <td>2010-06-12 00:00:00</td>\n",
       "      <td>0.0</td>\n",
       "      <td>NaN</td>\n",
       "      <td>69</td>\n",
       "      <td>88.5</td>\n",
       "      <td>1.8</td>\n",
       "      <td>26.7</td>\n",
       "      <td>27.314815</td>\n",
       "      <td>54.0</td>\n",
       "    </tr>\n",
       "    <tr>\n",
       "      <th>1</th>\n",
       "      <td>1669411-9</td>\n",
       "      <td>Shwartzman Mika</td>\n",
       "      <td>1941-01-01 00:00:00</td>\n",
       "      <td>2010-07-14 00:00:00</td>\n",
       "      <td>0.0</td>\n",
       "      <td>NaN</td>\n",
       "      <td>69</td>\n",
       "      <td>88.0</td>\n",
       "      <td>1.8</td>\n",
       "      <td>26.7</td>\n",
       "      <td>27.160494</td>\n",
       "      <td>53.0</td>\n",
       "    </tr>\n",
       "    <tr>\n",
       "      <th>2</th>\n",
       "      <td>1669411-9</td>\n",
       "      <td>Shwartzman Mika</td>\n",
       "      <td>1941-01-01 00:00:00</td>\n",
       "      <td>2015-07-19 00:00:00</td>\n",
       "      <td>0.0</td>\n",
       "      <td>NaN</td>\n",
       "      <td>74</td>\n",
       "      <td>88.0</td>\n",
       "      <td>1.8</td>\n",
       "      <td>26.7</td>\n",
       "      <td>27.160494</td>\n",
       "      <td>53.6</td>\n",
       "    </tr>\n",
       "    <tr>\n",
       "      <th>3</th>\n",
       "      <td>1669411-9</td>\n",
       "      <td>Shwartzman Mika</td>\n",
       "      <td>1941-01-01 00:00:00</td>\n",
       "      <td>2015-08-23 00:00:00</td>\n",
       "      <td>0.0</td>\n",
       "      <td>NaN</td>\n",
       "      <td>74</td>\n",
       "      <td>88.2</td>\n",
       "      <td>1.8</td>\n",
       "      <td>26.7</td>\n",
       "      <td>27.222222</td>\n",
       "      <td>57.3</td>\n",
       "    </tr>\n",
       "    <tr>\n",
       "      <th>4</th>\n",
       "      <td>1669411-9</td>\n",
       "      <td>Shwartzman Mika</td>\n",
       "      <td>1941-01-01 00:00:00</td>\n",
       "      <td>2016-01-24 00:00:00</td>\n",
       "      <td>0.0</td>\n",
       "      <td>NaN</td>\n",
       "      <td>75</td>\n",
       "      <td>87.0</td>\n",
       "      <td>1.8</td>\n",
       "      <td>26.7</td>\n",
       "      <td>26.851852</td>\n",
       "      <td>52.7</td>\n",
       "    </tr>\n",
       "  </tbody>\n",
       "</table>\n",
       "</div>"
      ],
      "text/plain": [
       "          ID             Name         Birth (year)         Date of test  \\\n",
       "0  1669411-9  Shwartzman Mika  1941-01-01 00:00:00  2010-06-12 00:00:00   \n",
       "1  1669411-9  Shwartzman Mika  1941-01-01 00:00:00  2010-07-14 00:00:00   \n",
       "2  1669411-9  Shwartzman Mika  1941-01-01 00:00:00  2015-07-19 00:00:00   \n",
       "3  1669411-9  Shwartzman Mika  1941-01-01 00:00:00  2015-08-23 00:00:00   \n",
       "4  1669411-9  Shwartzman Mika  1941-01-01 00:00:00  2016-01-24 00:00:00   \n",
       "\n",
       "   Smoker (1/0)  LI 7  Age     W    H  L2.5        BMI  LI5_Measurement  \n",
       "0           0.0   NaN   69  88.5  1.8  26.7  27.314815             54.0  \n",
       "1           0.0   NaN   69  88.0  1.8  26.7  27.160494             53.0  \n",
       "2           0.0   NaN   74  88.0  1.8  26.7  27.160494             53.6  \n",
       "3           0.0   NaN   74  88.2  1.8  26.7  27.222222             57.3  \n",
       "4           0.0   NaN   75  87.0  1.8  26.7  26.851852             52.7  "
      ]
     },
     "execution_count": 3,
     "metadata": {},
     "output_type": "execute_result"
    }
   ],
   "source": [
    "medData = pd.read_excel('MedicalData.xlsx')\n",
    "medData.head(5)"
   ]
  },
  {
   "cell_type": "code",
   "execution_count": 4,
   "id": "e12ae968",
   "metadata": {},
   "outputs": [
    {
     "data": {
      "text/html": [
       "<div>\n",
       "<style scoped>\n",
       "    .dataframe tbody tr th:only-of-type {\n",
       "        vertical-align: middle;\n",
       "    }\n",
       "\n",
       "    .dataframe tbody tr th {\n",
       "        vertical-align: top;\n",
       "    }\n",
       "\n",
       "    .dataframe thead th {\n",
       "        text-align: right;\n",
       "    }\n",
       "</style>\n",
       "<table border=\"1\" class=\"dataframe\">\n",
       "  <thead>\n",
       "    <tr style=\"text-align: right;\">\n",
       "      <th></th>\n",
       "      <th>Smoker (1/0)</th>\n",
       "      <th>LI 7</th>\n",
       "      <th>Age</th>\n",
       "      <th>W</th>\n",
       "      <th>H</th>\n",
       "      <th>L2.5</th>\n",
       "      <th>BMI</th>\n",
       "      <th>LI5_Measurement</th>\n",
       "    </tr>\n",
       "  </thead>\n",
       "  <tbody>\n",
       "    <tr>\n",
       "      <th>count</th>\n",
       "      <td>1300.000000</td>\n",
       "      <td>599.000000</td>\n",
       "      <td>1300.000000</td>\n",
       "      <td>1300.000000</td>\n",
       "      <td>1300.000000</td>\n",
       "      <td>1300.000000</td>\n",
       "      <td>1300.000000</td>\n",
       "      <td>1300.000000</td>\n",
       "    </tr>\n",
       "    <tr>\n",
       "      <th>mean</th>\n",
       "      <td>0.201154</td>\n",
       "      <td>43.869950</td>\n",
       "      <td>57.786923</td>\n",
       "      <td>86.845831</td>\n",
       "      <td>1.733473</td>\n",
       "      <td>25.087692</td>\n",
       "      <td>28.857462</td>\n",
       "      <td>60.186392</td>\n",
       "    </tr>\n",
       "    <tr>\n",
       "      <th>std</th>\n",
       "      <td>0.398369</td>\n",
       "      <td>8.907205</td>\n",
       "      <td>14.478196</td>\n",
       "      <td>15.905414</td>\n",
       "      <td>0.084504</td>\n",
       "      <td>2.041951</td>\n",
       "      <td>4.576883</td>\n",
       "      <td>15.202266</td>\n",
       "    </tr>\n",
       "    <tr>\n",
       "      <th>min</th>\n",
       "      <td>0.000000</td>\n",
       "      <td>25.300000</td>\n",
       "      <td>17.000000</td>\n",
       "      <td>51.500000</td>\n",
       "      <td>1.520000</td>\n",
       "      <td>18.500000</td>\n",
       "      <td>18.466062</td>\n",
       "      <td>29.300000</td>\n",
       "    </tr>\n",
       "    <tr>\n",
       "      <th>25%</th>\n",
       "      <td>0.000000</td>\n",
       "      <td>37.250000</td>\n",
       "      <td>49.000000</td>\n",
       "      <td>75.375000</td>\n",
       "      <td>1.670000</td>\n",
       "      <td>23.600000</td>\n",
       "      <td>25.940657</td>\n",
       "      <td>49.100000</td>\n",
       "    </tr>\n",
       "    <tr>\n",
       "      <th>50%</th>\n",
       "      <td>0.000000</td>\n",
       "      <td>42.900000</td>\n",
       "      <td>58.000000</td>\n",
       "      <td>85.050000</td>\n",
       "      <td>1.730000</td>\n",
       "      <td>25.000000</td>\n",
       "      <td>28.046091</td>\n",
       "      <td>59.100000</td>\n",
       "    </tr>\n",
       "    <tr>\n",
       "      <th>75%</th>\n",
       "      <td>0.000000</td>\n",
       "      <td>48.400000</td>\n",
       "      <td>66.000000</td>\n",
       "      <td>95.825000</td>\n",
       "      <td>1.790000</td>\n",
       "      <td>26.500000</td>\n",
       "      <td>31.187647</td>\n",
       "      <td>69.025000</td>\n",
       "    </tr>\n",
       "    <tr>\n",
       "      <th>max</th>\n",
       "      <td>1.000000</td>\n",
       "      <td>77.600000</td>\n",
       "      <td>96.000000</td>\n",
       "      <td>175.700000</td>\n",
       "      <td>2.000000</td>\n",
       "      <td>31.500000</td>\n",
       "      <td>54.228395</td>\n",
       "      <td>127.900000</td>\n",
       "    </tr>\n",
       "  </tbody>\n",
       "</table>\n",
       "</div>"
      ],
      "text/plain": [
       "       Smoker (1/0)        LI 7          Age            W            H  \\\n",
       "count   1300.000000  599.000000  1300.000000  1300.000000  1300.000000   \n",
       "mean       0.201154   43.869950    57.786923    86.845831     1.733473   \n",
       "std        0.398369    8.907205    14.478196    15.905414     0.084504   \n",
       "min        0.000000   25.300000    17.000000    51.500000     1.520000   \n",
       "25%        0.000000   37.250000    49.000000    75.375000     1.670000   \n",
       "50%        0.000000   42.900000    58.000000    85.050000     1.730000   \n",
       "75%        0.000000   48.400000    66.000000    95.825000     1.790000   \n",
       "max        1.000000   77.600000    96.000000   175.700000     2.000000   \n",
       "\n",
       "              L2.5          BMI  LI5_Measurement  \n",
       "count  1300.000000  1300.000000      1300.000000  \n",
       "mean     25.087692    28.857462        60.186392  \n",
       "std       2.041951     4.576883        15.202266  \n",
       "min      18.500000    18.466062        29.300000  \n",
       "25%      23.600000    25.940657        49.100000  \n",
       "50%      25.000000    28.046091        59.100000  \n",
       "75%      26.500000    31.187647        69.025000  \n",
       "max      31.500000    54.228395       127.900000  "
      ]
     },
     "execution_count": 4,
     "metadata": {},
     "output_type": "execute_result"
    }
   ],
   "source": [
    "medData.describe()"
   ]
  },
  {
   "cell_type": "markdown",
   "id": "5660659d",
   "metadata": {},
   "source": [
    "# Step 2: Data Preprocessing \n",
    "\n",
    "        - Type Conversion (of Data Fields) \n",
    "        - Identifying Missing Values (NaN)\n",
    "        - Imputation  (Adjustments for missing values)"
   ]
  },
  {
   "cell_type": "code",
   "execution_count": 5,
   "id": "b86dc28e-041f-4e9e-a579-e24adac39bec",
   "metadata": {},
   "outputs": [],
   "source": [
    "# type conversion of a field/column\n",
    "medData['Smoker (1/0)'] = medData['Smoker (1/0)'].astype('category')"
   ]
  },
  {
   "cell_type": "code",
   "execution_count": 6,
   "id": "3adb61f6-a5eb-4e13-aeca-9fa73839ce92",
   "metadata": {
    "tags": []
   },
   "outputs": [
    {
     "name": "stdout",
     "output_type": "stream",
     "text": [
      "Missing: 701\n",
      "Smoker (1/0)         0\n",
      "LI 7               701\n",
      "Age                  0\n",
      "W                    0\n",
      "H                    0\n",
      "L2.5                 0\n",
      "BMI                  0\n",
      "LI5_Measurement      0\n",
      "dtype: int64\n"
     ]
    }
   ],
   "source": [
    "# Finding missing values in each column  \n",
    "# isnan Vs isnull\n",
    "temp = medData[[\"Smoker (1/0)\", 'LI 7', \"Age\", \"W\", \"H\", \"L2.5\", \"BMI\", \"LI5_Measurement\"]]\n",
    "#print(' Missing:', np.isnan(temp.to_numpy()).sum())\n",
    "# print('All Missing:', np.isnan(temp.to_numpy()).sum())\n",
    "print('Missing:', temp.isnull().sum().sum())   # alternate to previous (inferred from next command)\n",
    "print(temp.isnull().sum())       # isnull applies to df but isnan applies only to ndarray"
   ]
  },
  {
   "cell_type": "markdown",
   "id": "63f337a2",
   "metadata": {},
   "source": [
    "In this data column LI7 contains missing values. There can be 3 possible ways to deal with the missing data.\n",
    "1. Case 1: Do not use this predictor in the model.\n",
    "2. Case 2: Imppute missing values in the column LI7 by the mean of the existing values in this column.\n",
    "3. Case 3: Remove those rows from the data where LI7 contains missing values."
   ]
  },
  {
   "cell_type": "code",
   "execution_count": 9,
   "id": "5debe49d",
   "metadata": {},
   "outputs": [],
   "source": [
    "# eliminating column with missing value (here 'LI 7')\n",
    "#transformed = medData[[\"Smoker (1/0)\", \"Age\", \"W\", \"H\", \"L2.5\", \"BMI\", \"LI5_Measurement\"]]\n",
    "transformed = temp.drop(columns = 'LI 7')\n",
    "random_state = 14"
   ]
  },
  {
   "cell_type": "markdown",
   "id": "23d61311",
   "metadata": {},
   "source": [
    "# Step 3: Fixing Target, Features and  Train-Test Split\n",
    "\n",
    "        - Deciding Features and Target\n",
    "        - Split the Train-Test data\n",
    "        - Check the goodness of split (by Some statistical test/plots)"
   ]
  },
  {
   "cell_type": "code",
   "execution_count": 56,
   "id": "3c6d5158",
   "metadata": {},
   "outputs": [
    {
     "data": {
      "text/plain": [
       "pandas.core.series.Series"
      ]
     },
     "execution_count": 56,
     "metadata": {},
     "output_type": "execute_result"
    }
   ],
   "source": [
    "X_train, X_test,y_train, y_test = train_test_split(X, y, test_size = 0.3, random_state = random_state)\n"
   ]
  },
  {
   "cell_type": "code",
   "execution_count": 57,
   "id": "c1400d6c",
   "metadata": {},
   "outputs": [
    {
     "name": "stdout",
     "output_type": "stream",
     "text": [
      "KstestResult(statistic=0.04212454212454213, pvalue=0.7024965334591775)\n"
     ]
    }
   ],
   "source": [
    "# Two-sample Kolmogorov-Smirnov test for checking the train and test distribution\n",
    "ks2_test = ks_2samp(y_train, y_test)\n",
    "print(ks2_test)"
   ]
  },
  {
   "cell_type": "code",
   "execution_count": 91,
   "id": "0a44cc9f",
   "metadata": {},
   "outputs": [
    {
     "data": {
      "image/png": "[encoded data removed]",
      "text/plain": [
       "<Figure size 640x480 with 1 Axes>"
      ]
     },
     "metadata": {},
     "output_type": "display_data"
    }
   ],
   "source": [
    "## Plotting the Distribution of Training and Testing Dependent Variable (---TODO---)\n",
    "#plt.style.use('seaborn-deep')\n",
    "min_y = np.min(y)\n",
    "max_y = np.max(y)\n",
    "\n",
    "#fig, ax = plt.subplots(1,2, figsize=(10,4))\n",
    "bins = np.linspace(min_y, max_y, 8)\n",
    "\n",
    "# plt.hist([y_train, y_test], bins , label=['Train', 'Test'], color = ['firebrick','gray'])\n",
    "# #ax[0].legend(loc='upper right')\n",
    "# plt.xlabel('y values')\n",
    "# plt.ylabel('Count')\n",
    "\n",
    "plt.hist([y_train, y_test], bins , label=['Train', 'Test'], density=True, color = ['firebrick','gray'])\n",
    "#ax[0].legend(loc='upper right')\n",
    "plt.xlabel('y values')\n",
    "plt.ylabel('Density')\n",
    "plt.show()"
   ]
  },
  {
   "cell_type": "code",
   "execution_count": null,
   "id": "917c42c2",
   "metadata": {},
   "outputs": [],
   "source": []
  },
  {
   "cell_type": "markdown",
   "id": "de92135d",
   "metadata": {},
   "source": [
    "# Step 4: Training the Model\n",
    "\n",
    "        - Create a regr object\n",
    "        - Apply fit function (using regr object) on training data\n",
    "        - Check the weights/parameters generated by fit function "
   ]
  },
  {
   "cell_type": "code",
   "execution_count": 59,
   "id": "b8ff9232",
   "metadata": {},
   "outputs": [
    {
     "data": {
      "text/plain": [
       "LinearRegression()"
      ]
     },
     "execution_count": 59,
     "metadata": {},
     "output_type": "execute_result"
    }
   ],
   "source": [
    "from sklearn import linear_model\n",
    "\n",
    "# train the model using X_train and y_train (identified in previous step)\n",
    "regr = linear_model.LinearRegression()\n",
    "regr"
   ]
  },
  {
   "cell_type": "code",
   "execution_count": 60,
   "id": "b1271667",
   "metadata": {},
   "outputs": [
    {
     "data": {
      "text/plain": [
       "LinearRegression()"
      ]
     },
     "execution_count": 60,
     "metadata": {},
     "output_type": "execute_result"
    }
   ],
   "source": [
    "regr.fit(X_train, y_train)"
   ]
  },
  {
   "cell_type": "code",
   "execution_count": 16,
   "id": "d397ea18",
   "metadata": {},
   "outputs": [
    {
     "name": "stdout",
     "output_type": "stream",
     "text": [
      "Coefficients:  [ 5.20120941  0.18448428 -0.58045586 84.76114586  1.01968267  3.76678593]\n",
      "Intercept:  -182.46239389722575\n"
     ]
    }
   ],
   "source": [
    "print ('Coefficients: ', regr.coef_)\n",
    "print ('Intercept: ', regr.intercept_)"
   ]
  },
  {
   "cell_type": "markdown",
   "id": "39556ce6",
   "metadata": {},
   "source": [
    "# Step 5: Prediction on Test Data "
   ]
  },
  {
   "cell_type": "code",
   "execution_count": 89,
   "id": "811090fd",
   "metadata": {},
   "outputs": [],
   "source": [
    "y_pred = regr.predict(X_test)\n",
    "y_pred = np.round(y_pred, 2)\n",
    "\n"
   ]
  },
  {
   "cell_type": "markdown",
   "id": "f1b957fb",
   "metadata": {},
   "source": [
    "# Step 6: Evaluating Model Accuracy "
   ]
  },
  {
   "cell_type": "code",
   "execution_count": 90,
   "id": "bc0a3406",
   "metadata": {},
   "outputs": [
    {
     "name": "stdout",
     "output_type": "stream",
     "text": [
      "Mean Percentage Error: 12.767195294048653\n",
      "Coefficient of determination- r2: 0.5558617620431641\n"
     ]
    }
   ],
   "source": [
    "errors = np.mean(abs((y_pred - y_test)/y_test))\n",
    "#y_avg = np.mean(y)\n",
    "r2 = r2_score(y_test, y_pred)\n",
    "#print('Mean of Absolute Error:', errors)\n",
    "print('Mean Percentage Error:', errors*100)\n",
    "print('Coefficient of determination- r2:', r2)\n"
   ]
  },
  {
   "cell_type": "code",
   "execution_count": 63,
   "id": "e3a29283",
   "metadata": {},
   "outputs": [],
   "source": [
    "\n",
    "#plt.fill_between(x, y1m, y2m,alpha=1, linewidth=0)\n",
    "\n",
    "# x= y_test.index\n",
    "# plt.fill_between(x, y1, y2, alpha=1, linewidth=0)\n",
    "# # creating a list of index names\n",
    "# index_values = x\n",
    "   \n",
    "# # creating a list of column names\n",
    "# column_values = ['y1', 'y2']\n",
    "  \n",
    "# # creating the dataframe\n",
    "# df = pd.DataFrame(data = [y1 y2], \n",
    "#                   index = index_values, \n",
    "#                   columns = column_values\n",
    "\n"
   ]
  },
  {
   "cell_type": "code",
   "execution_count": 86,
   "id": "5cda0f9c",
   "metadata": {},
   "outputs": [
    {
     "data": {
      "text/plain": [
       "<matplotlib.collections.PathCollection at 0x246e5d01e50>"
      ]
     },
     "execution_count": 86,
     "metadata": {},
     "output_type": "execute_result"
    },
    {
     "data": {
      "image/png": "[encoded data removed]",
      "text/plain": [
       "<Figure size 640x480 with 1 Axes>"
      ]
     },
     "metadata": {},
     "output_type": "display_data"
    }
   ],
   "source": [
    "y_tst = y_test.to_numpy()\n",
    "#y_pred\n",
    "arg = y_tst.argsort()\n",
    "testY = y_tst[arg]\n",
    "predY = y_pred[arg]\n",
    "x = np.arange(0, len(testY))\n",
    "plt.plot(x, testY)\n",
    "plt.scatter(x, predY, c='y')"
   ]
  },
  {
   "cell_type": "markdown",
   "id": "4eb12f7a-bc0f-49e4-8f6c-761c30e5cfb2",
   "metadata": {
    "jp-MarkdownHeadingCollapsed": true,
    "tags": []
   },
   "source": [
    "### Kernel Ridge Regression"
   ]
  },
  {
   "cell_type": "markdown",
   "id": "f8f6d40b-ef19-419b-ba56-ab8da34478b3",
   "metadata": {
    "jp-MarkdownHeadingCollapsed": true,
    "tags": []
   },
   "source": [
    "### Support Vector Regression"
   ]
  },
  {
   "cell_type": "markdown",
   "id": "06e87fd1-28ef-43cc-811a-c0e6adac741f",
   "metadata": {
    "jp-MarkdownHeadingCollapsed": true,
    "tags": []
   },
   "source": [
    "### Multinomial Linear Regression"
   ]
  },
  {
   "cell_type": "markdown",
   "id": "d6c79546-0c9d-4f0f-af34-9d1ca09ae3a8",
   "metadata": {},
   "source": [
    "## Clustering Models"
   ]
  },
  {
   "cell_type": "markdown",
   "id": "363e6357-08ee-497c-8ae7-b8126e62b823",
   "metadata": {},
   "source": [
    "### K-means Clustering"
   ]
  }
 ],
 "metadata": {
  "kernelspec": {
   "display_name": "Python 3 (ipykernel)",
   "language": "python",
   "name": "python3"
  },
  "language_info": {
   "codemirror_mode": {
    "name": "ipython",
    "version": 3
   },
   "file_extension": ".py",
   "mimetype": "text/x-python",
   "name": "python",
   "nbconvert_exporter": "python",
   "pygments_lexer": "ipython3",
   "version": "3.9.13"
  }
 },
 "nbformat": 4,
 "nbformat_minor": 5
}
