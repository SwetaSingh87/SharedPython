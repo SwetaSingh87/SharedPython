{
 "cells": [
  {
   "cell_type": "markdown",
   "id": "9e44ac43",
   "metadata": {},
   "source": [
    "# Importing Header and SoilPrep"
   ]
  },
  {
   "cell_type": "code",
   "execution_count": 1,
   "id": "188e54fc",
   "metadata": {},
   "outputs": [
    {
     "name": "stdout",
     "output_type": "stream",
     "text": [
      "importing Jupyter notebook from Header.ipynb\n"
     ]
    }
   ],
   "source": [
    "import import_ipynb \n",
    "from Header import *"
   ]
  },
  {
   "cell_type": "code",
   "execution_count": 2,
   "id": "22684781",
   "metadata": {},
   "outputs": [
    {
     "name": "stdout",
     "output_type": "stream",
     "text": [
      "importing Jupyter notebook from SoilPrep.ipynb\n"
     ]
    }
   ],
   "source": [
    "import import_ipynb\n",
    "from SoilPrep import * "
   ]
  },
  {
   "cell_type": "markdown",
   "id": "4bf91556",
   "metadata": {},
   "source": [
    "## Loading Data and MetaData"
   ]
  },
  {
   "cell_type": "code",
   "execution_count": 3,
   "id": "76054719",
   "metadata": {},
   "outputs": [
    {
     "name": "stdout",
     "output_type": "stream",
     "text": [
      "importing Jupyter notebook from LoadDataMetaData.ipynb\n"
     ]
    }
   ],
   "source": [
    "import import_ipynb\n",
    "from LoadDataMetaData import *"
   ]
  },
  {
   "cell_type": "markdown",
   "id": "57f4447f",
   "metadata": {},
   "source": [
    "## Fixed One Time Resampling"
   ]
  },
  {
   "cell_type": "code",
   "execution_count": 4,
   "id": "09b821d0",
   "metadata": {},
   "outputs": [],
   "source": [
    "mid_locs = [ '493', '560', '665', '704', '741', '783', '833', '865', '1614', '2202']\n",
    "band_widths = [ 65, 35, 30, 14, 14, 19, 105, 21, 90, 174]  "
   ]
  },
  {
   "cell_type": "code",
   "execution_count": 5,
   "id": "d33ed0e7",
   "metadata": {},
   "outputs": [],
   "source": [
    "# def resample_at (spectrum, mid_locs, band_widths):\n",
    "    \n",
    "#     #----- obtaining the sampling ilocations in indx----\n",
    "#     mid_ilocs = []\n",
    "#     for l in mid_locs:\n",
    "#         #print(l)\n",
    "#         i = spectrum.columns.get_loc(l)\n",
    "#         mid_ilocs.append(i)\n",
    "    \n",
    "#     #print(mid_ilocs)\n",
    "#     #print(mid_ilocs)\n",
    "#     #print(mid_locs)   \n",
    "    \n",
    "#     #----- finding initial shape for red_spectra ------\n",
    "#     red_spectra = spectrum.iloc[:, mid_ilocs].copy()\n",
    "#     #print(red_spectra.head(5))\n",
    "#     #print(len(mid_ilocs))\n",
    "    \n",
    "#     for i in range(0, len(mid_ilocs)):\n",
    "#         m = mid_ilocs[i]\n",
    "#         l = mid_locs[i]\n",
    "#         window = np.floor(0.5*band_widths[i]).astype(int)\n",
    "#         #print('m: ', m, 'window:', window)\n",
    "#         red_spectra.loc[:,l] = spectrum.iloc[:,(m-window):(m+window)].mean(axis=1).copy()\n",
    "        \n",
    "#     return (red_spectra)\n"
   ]
  },
  {
   "cell_type": "code",
   "execution_count": 6,
   "id": "520a1f1f-924d-40e4-af13-3d2780939a09",
   "metadata": {},
   "outputs": [],
   "source": [
    "def resample_at(spectrum, mid_locs, band_widths):\n",
    "    \"\"\"\n",
    "    Resample the given spectrum DataFrame at specified mid_locs with the specified band_widths.\n",
    "\n",
    "    Args:\n",
    "    spectrum (pd.DataFrame): The input spectrum data.\n",
    "    mid_locs (list of str): The mid locations (column names) to sample.\n",
    "    band_widths (list of int): The widths of the bands for each mid location.\n",
    "\n",
    "    Returns:\n",
    "    pd.DataFrame: The resampled spectrum DataFrame.\n",
    "    \"\"\"\n",
    "    # Ensure the input is a DataFrame\n",
    "    spectrum = pd.DataFrame(spectrum)\n",
    "    \n",
    "    # Obtain the column indices of mid_locs\n",
    "    mid_ilocs = []\n",
    "    for l in mid_locs:\n",
    "        if l in spectrum.columns:\n",
    "            i = spectrum.columns.get_loc(l)\n",
    "            mid_ilocs.append(i)\n",
    "        else:\n",
    "            raise ValueError(f\"Column '{l}' not found in spectrum DataFrame.\")\n",
    "    \n",
    "    # Initialize the reduced spectrum DataFrame\n",
    "    red_spectra = spectrum.iloc[:, mid_ilocs].copy()\n",
    "    \n",
    "    # Resample the spectrum based on the given mid locations and band widths\n",
    "    for i in range(len(mid_ilocs)):\n",
    "        m = mid_ilocs[i]\n",
    "        l = mid_locs[i]\n",
    "        window = np.floor(0.5 * band_widths[i]).astype(int)\n",
    "        \n",
    "        # Ensure window bounds are within the DataFrame\n",
    "        start = max(0, m - window)\n",
    "        end = min(spectrum.shape[1], m + window + 1)\n",
    "        \n",
    "        # Compute the mean of the specified window and assign to the reduced spectrum\n",
    "        red_spectra.loc[:, l] = spectrum.iloc[:, start:end].mean(axis=1).copy()\n",
    "    \n",
    "    return red_spectra\n"
   ]
  },
  {
   "cell_type": "code",
   "execution_count": 7,
   "id": "793637f2",
   "metadata": {},
   "outputs": [
    {
     "data": {
      "text/html": [
       "<div>\n",
       "<style scoped>\n",
       "    .dataframe tbody tr th:only-of-type {\n",
       "        vertical-align: middle;\n",
       "    }\n",
       "\n",
       "    .dataframe tbody tr th {\n",
       "        vertical-align: top;\n",
       "    }\n",
       "\n",
       "    .dataframe thead th {\n",
       "        text-align: right;\n",
       "    }\n",
       "</style>\n",
       "<table border=\"1\" class=\"dataframe\">\n",
       "  <thead>\n",
       "    <tr style=\"text-align: right;\">\n",
       "      <th></th>\n",
       "      <th>493</th>\n",
       "      <th>560</th>\n",
       "      <th>665</th>\n",
       "      <th>704</th>\n",
       "      <th>741</th>\n",
       "      <th>783</th>\n",
       "      <th>833</th>\n",
       "      <th>865</th>\n",
       "      <th>1614</th>\n",
       "      <th>2202</th>\n",
       "    </tr>\n",
       "  </thead>\n",
       "  <tbody>\n",
       "    <tr>\n",
       "      <th>0</th>\n",
       "      <td>0.214318</td>\n",
       "      <td>0.301691</td>\n",
       "      <td>0.404041</td>\n",
       "      <td>0.435586</td>\n",
       "      <td>0.461896</td>\n",
       "      <td>0.485131</td>\n",
       "      <td>0.499780</td>\n",
       "      <td>0.506545</td>\n",
       "      <td>0.640772</td>\n",
       "      <td>0.624687</td>\n",
       "    </tr>\n",
       "    <tr>\n",
       "      <th>1</th>\n",
       "      <td>0.182993</td>\n",
       "      <td>0.259551</td>\n",
       "      <td>0.347659</td>\n",
       "      <td>0.377244</td>\n",
       "      <td>0.403143</td>\n",
       "      <td>0.427015</td>\n",
       "      <td>0.442318</td>\n",
       "      <td>0.449443</td>\n",
       "      <td>0.588703</td>\n",
       "      <td>0.566219</td>\n",
       "    </tr>\n",
       "    <tr>\n",
       "      <th>2</th>\n",
       "      <td>0.161247</td>\n",
       "      <td>0.235603</td>\n",
       "      <td>0.302999</td>\n",
       "      <td>0.323174</td>\n",
       "      <td>0.341602</td>\n",
       "      <td>0.358887</td>\n",
       "      <td>0.368405</td>\n",
       "      <td>0.372160</td>\n",
       "      <td>0.470552</td>\n",
       "      <td>0.402688</td>\n",
       "    </tr>\n",
       "    <tr>\n",
       "      <th>3</th>\n",
       "      <td>0.253942</td>\n",
       "      <td>0.342896</td>\n",
       "      <td>0.421458</td>\n",
       "      <td>0.443620</td>\n",
       "      <td>0.462474</td>\n",
       "      <td>0.478952</td>\n",
       "      <td>0.486621</td>\n",
       "      <td>0.489143</td>\n",
       "      <td>0.612758</td>\n",
       "      <td>0.599407</td>\n",
       "    </tr>\n",
       "    <tr>\n",
       "      <th>4</th>\n",
       "      <td>0.091376</td>\n",
       "      <td>0.133395</td>\n",
       "      <td>0.206626</td>\n",
       "      <td>0.249770</td>\n",
       "      <td>0.293040</td>\n",
       "      <td>0.339323</td>\n",
       "      <td>0.385908</td>\n",
       "      <td>0.413456</td>\n",
       "      <td>0.607292</td>\n",
       "      <td>0.476570</td>\n",
       "    </tr>\n",
       "  </tbody>\n",
       "</table>\n",
       "</div>"
      ],
      "text/plain": [
       "        493       560       665       704       741       783       833  \\\n",
       "0  0.214318  0.301691  0.404041  0.435586  0.461896  0.485131  0.499780   \n",
       "1  0.182993  0.259551  0.347659  0.377244  0.403143  0.427015  0.442318   \n",
       "2  0.161247  0.235603  0.302999  0.323174  0.341602  0.358887  0.368405   \n",
       "3  0.253942  0.342896  0.421458  0.443620  0.462474  0.478952  0.486621   \n",
       "4  0.091376  0.133395  0.206626  0.249770  0.293040  0.339323  0.385908   \n",
       "\n",
       "        865      1614      2202  \n",
       "0  0.506545  0.640772  0.624687  \n",
       "1  0.449443  0.588703  0.566219  \n",
       "2  0.372160  0.470552  0.402688  \n",
       "3  0.489143  0.612758  0.599407  \n",
       "4  0.413456  0.607292  0.476570  "
      ]
     },
     "execution_count": 7,
     "metadata": {},
     "output_type": "execute_result"
    }
   ],
   "source": [
    "sampled_spec10 = resample_at (spec2[51], mid_locs, band_widths)\n",
    "sampled_spec10.head(5)"
   ]
  },
  {
   "cell_type": "code",
   "execution_count": 42,
   "id": "0bd25f0e-16ce-4224-bafc-89b126ef7d55",
   "metadata": {},
   "outputs": [],
   "source": [
    "big_df = pd.concat([sampled_spec10] * 100, ignore_index=True)"
   ]
  },
  {
   "cell_type": "code",
   "execution_count": 43,
   "id": "99ff9f24-19f7-42b2-a35a-72a065f716dc",
   "metadata": {},
   "outputs": [
    {
     "data": {
      "text/plain": [
       "(29400, 10)"
      ]
     },
     "execution_count": 43,
     "metadata": {},
     "output_type": "execute_result"
    }
   ],
   "source": [
    "big_df.shape"
   ]
  },
  {
   "cell_type": "code",
   "execution_count": 44,
   "id": "5aff0e53-d748-4cc0-902b-6935ff3f853b",
   "metadata": {},
   "outputs": [],
   "source": [
    "import os\n",
    "os.system('say \"your Meta Tree started building\"')\n",
    "import time"
   ]
  },
  {
   "cell_type": "code",
   "execution_count": 45,
   "id": "f087ca71-1be6-4c0a-b0b8-7f9351629363",
   "metadata": {},
   "outputs": [
    {
     "name": "stdout",
     "output_type": "stream",
     "text": [
      "End time - Start time = 0.0041255950927734375\n"
     ]
    }
   ],
   "source": [
    "start = time.time()\n",
    "sampled_fod = fod (big_df)\n",
    "end = time.time() \n",
    "print('End time - Start time =', (end-start))"
   ]
  },
  {
   "cell_type": "code",
   "execution_count": 48,
   "id": "707e683c-950c-4d22-b60c-a5dcf7311c3d",
   "metadata": {},
   "outputs": [
    {
     "name": "stdout",
     "output_type": "stream",
     "text": [
      "End time - Start time = 54.050272703170776\n"
     ]
    }
   ],
   "source": [
    "start = time.time()\n",
    "sampled_cr10_fst = continuum_removed_fast (big_df)\n",
    "end = time.time() \n",
    "print('End time - Start time =', (end-start))"
   ]
  },
  {
   "cell_type": "code",
   "execution_count": 49,
   "id": "9417e19c-fa2c-4a4b-8911-321398600fc5",
   "metadata": {},
   "outputs": [
    {
     "name": "stdout",
     "output_type": "stream",
     "text": [
      "End time - Start time = 65.78011202812195\n"
     ]
    }
   ],
   "source": [
    "start = time.time()\n",
    "sampled_cr10 = continuum_removed (big_df)\n",
    "end = time.time() \n",
    "print('End time - Start time =', (end-start))"
   ]
  },
  {
   "cell_type": "code",
   "execution_count": 20,
   "id": "5e91945b-2a43-464c-a20b-16749b8888f5",
   "metadata": {},
   "outputs": [
    {
     "name": "stdout",
     "output_type": "stream",
     "text": [
      "End time - Start time = 23.447484016418457\n"
     ]
    }
   ],
   "source": [
    "start = time.time()\n",
    "for i in range (0,20):    \n",
    "    sampled_cr10_fst = continuum_removed_fast (spec2[51])\n",
    "end = time.time() \n",
    "print('End time - Start time =', (end-start))"
   ]
  },
  {
   "cell_type": "code",
   "execution_count": 21,
   "id": "36feb996-6266-4d09-8300-8a8750a7d8d3",
   "metadata": {},
   "outputs": [
    {
     "name": "stdout",
     "output_type": "stream",
     "text": [
      "End time - Start time = 26.730000257492065\n"
     ]
    }
   ],
   "source": [
    "start = time.time()\n",
    "for i in range (0,20):    \n",
    "    sampled_cr10 = continuum_removed (spec2[51])\n",
    "end = time.time() \n",
    "print('End time - Start time =', (end-start))"
   ]
  },
  {
   "cell_type": "code",
   "execution_count": 22,
   "id": "4312dbbb-7be9-498b-86bb-60a73719ac93",
   "metadata": {},
   "outputs": [],
   "source": [
    "sampled_cr10_fst = continuum_removed_fast (spec2[51])\n",
    "sampled_cr10 = continuum_removed (spec2[51])"
   ]
  },
  {
   "cell_type": "code",
   "execution_count": 23,
   "id": "0d979d91-b7de-4e55-9c39-8852b0e28334",
   "metadata": {},
   "outputs": [
    {
     "data": {
      "image/png": "[encoded data removed]",
      "text/plain": [
       "<Figure size 640x480 with 1 Axes>"
      ]
     },
     "metadata": {},
     "output_type": "display_data"
    }
   ],
   "source": [
    "for i in range (0,10,1):\n",
    "    sampled_cr10_fst.iloc[i,:].plot()"
   ]
  },
  {
   "cell_type": "code",
   "execution_count": 24,
   "id": "b1fbc2f8-54db-4727-9a51-d0894f80e859",
   "metadata": {},
   "outputs": [
    {
     "data": {
      "image/png": "[encoded data removed]",
      "text/plain": [
       "<Figure size 640x480 with 1 Axes>"
      ]
     },
     "metadata": {},
     "output_type": "display_data"
    }
   ],
   "source": [
    "for i in range (0,10,1):\n",
    "    sampled_cr10.iloc[i,:].plot()"
   ]
  },
  {
   "cell_type": "code",
   "execution_count": 15,
   "id": "64522900-f200-4b2e-8679-5397b9bf804a",
   "metadata": {},
   "outputs": [],
   "source": [
    "sampled_cr10 = continuum_removed (spec2[51])"
   ]
  },
  {
   "cell_type": "code",
   "execution_count": null,
   "id": "196da467-d284-47aa-8d2e-72171e5a0fc0",
   "metadata": {},
   "outputs": [],
   "source": [
    "halt here"
   ]
  },
  {
   "cell_type": "code",
   "execution_count": null,
   "id": "d0c7fc0b",
   "metadata": {},
   "outputs": [],
   "source": [
    "sampled_cr10 = resample_at (cr_spec, mid_locs, band_widths)\n",
    "#sampled_cr10.head(5)"
   ]
  },
  {
   "cell_type": "code",
   "execution_count": null,
   "id": "36aa5135",
   "metadata": {},
   "outputs": [],
   "source": [
    "sampled_log10 = resample_at(log_spec, mid_locs, band_widths)\n",
    "#sampled_log10.head(5)"
   ]
  },
  {
   "cell_type": "code",
   "execution_count": null,
   "id": "0633fca8",
   "metadata": {},
   "outputs": [],
   "source": [
    "fod_sampled10 = fod (sampled_spec10)\n",
    "#fod_sampled10.head(5)"
   ]
  },
  {
   "cell_type": "code",
   "execution_count": null,
   "id": "589c2044",
   "metadata": {},
   "outputs": [],
   "source": [
    "fod_cr10 = fod (sampled_cr10)\n",
    "#fod_cr10.head(5)"
   ]
  },
  {
   "cell_type": "code",
   "execution_count": null,
   "id": "1b0e9968",
   "metadata": {},
   "outputs": [],
   "source": [
    "fod_log10 = fod (sampled_log10)\n",
    "#fod_log10.head(5)"
   ]
  },
  {
   "cell_type": "code",
   "execution_count": null,
   "id": "8021a04d",
   "metadata": {},
   "outputs": [],
   "source": [
    "import os\n",
    "os.system('say \"your Meta Tree started building\"')\n",
    "import time"
   ]
  },
  {
   "cell_type": "code",
   "execution_count": null,
   "id": "0eb4f371-6f0d-4290-9fc7-4d98d8aedde6",
   "metadata": {},
   "outputs": [],
   "source": [
    "def find_X(p):\n",
    "    if p == 'fod':\n",
    "        X = fod_sampled10.copy()\n",
    "    elif p == 'cr':\n",
    "        X = sampled_cr10.copy()\n",
    "    elif p == 'log':\n",
    "        X = sampled_log10.copy()\n",
    "    elif p == 'none':\n",
    "        X = sampled_spec10.copy()\n",
    "    elif p == 'fod_cr':\n",
    "        X = fod_cr10.copy()\n",
    "    else:\n",
    "        X = fod_log10.copy()\n",
    "    return X\n",
    "\n",
    "def find_spec(p, m):    \n",
    "    spec = find_X(p)\n",
    "    return spec   \n",
    "\n",
    "def find_y(t):\n",
    "    i = target_names.index(t)\n",
    "    y = T[i].copy()\n",
    "    return y\n"
   ]
  },
  {
   "cell_type": "code",
   "execution_count": null,
   "id": "ef75fce3",
   "metadata": {},
   "outputs": [],
   "source": [
    "# # prepare_spec = ['none', 'fod2', 'continuum', 'log']\n",
    "# # prepare_target = ['none', 'minmax']\n",
    "\n",
    "# def find_X(p):\n",
    "#     if p == 'fod':\n",
    "#         X = fod_sampled10\n",
    "#     elif p == 'cr':\n",
    "#         X = sampled_cr10\n",
    "#     elif p == 'log':\n",
    "#         X = sampled_log10\n",
    "#     elif p == 'none':\n",
    "#         X = sampled_spec10\n",
    "#     elif p == 'fod_cr':\n",
    "#         X = fod_cr10\n",
    "#     else:\n",
    "#         X = fod_log10\n",
    "#     return X\n",
    "\n",
    "# def find_spec(p, m):    \n",
    "#     spec = find_X(p)\n",
    "#     return spec    \n",
    "\n",
    "\n",
    "# def find_y(t):\n",
    "#     i = target_names.index(t) \n",
    "#     y = T[i]\n",
    "#     return y\n",
    "        \n",
    "        "
   ]
  },
  {
   "cell_type": "markdown",
   "id": "8475a10d",
   "metadata": {},
   "source": [
    "## Recording Hypertuning Parameters"
   ]
  },
  {
   "cell_type": "code",
   "execution_count": null,
   "id": "933a88e1",
   "metadata": {},
   "outputs": [],
   "source": [
    "from sklearn.metrics import make_scorer, r2_score\n",
    "\n",
    "model ={}\n",
    "param_grid ={}\n",
    "model['mult'] = LinearRegression()\n",
    "param_grid['mult'] = { 'fit_intercept': [True, False] }\n",
    "\n",
    "model['ridge'] = KernelRidge()\n",
    "param_grid['ridge']={'alpha': [ 0.00001,0.00002, 0.00005, 0.0001, 0.0002, 0.0005, 0.001, 0.002, \\\n",
    "                               0.005,  0.01, 0.05, 0.1, 0.5, 1]}\n",
    "\n",
    "model['plsr'] = PLSRegression()\n",
    "param_grid['plsr']={'n_components': [1, 2, 3, 4, 5, 6, 7, 8, 9, 10]}\n",
    "\n",
    "\n",
    "model['cubist'] = Cubist(random_state = 42)  \n",
    "param_grid['cubist'] = { 'n_committees': [5, 10, 15, 20], 'n_rules': [10, 20, 30, 40, 50] }\n",
    "                        \n",
    "\n",
    "model['gbrt'] = GradientBoostingRegressor(random_state = 42)\n",
    "param_grid['gbrt'] = {\n",
    "    'n_estimators': [20,30,40,50],        # Number of boosting stages to be used\n",
    "    'learning_rate': [0.01, 0.1],     # Step size shrinkage used in updating weights\n",
    "    'max_depth': [3, 4, 5]                # Maximum depth of individual trees\n",
    "#     'min_samples_split': [2, 3],        # Minimum number of samples required to split an internal node\n",
    "#     'min_samples_leaf': [1, 2],         # Minimum number of samples required to be at a leaf node\n",
    "}\n",
    "\n",
    "model['svr'] = SVR()\n",
    "param_grid['svr'] = {\n",
    "    'C': [0.1, 1, 10],              # Regularization parameter\n",
    "    'kernel': ['linear', 'rbf'],   # Kernel function\n",
    "    'gamma': [0.01, 0.1, 1],      # Kernel coefficient (only for 'rbf' kernel)\n",
    "}\n"
   ]
  },
  {
   "cell_type": "markdown",
   "id": "72d06dd7",
   "metadata": {},
   "source": [
    "### Finding Hypertuned Parameters"
   ]
  },
  {
   "cell_type": "code",
   "execution_count": null,
   "id": "b2b2f120-410c-40ce-8849-11029e8232a7",
   "metadata": {},
   "outputs": [],
   "source": [
    "# def find_core_model_param_on (m, t, p, tp, n):\n",
    "#     Model = model[m]\n",
    "#     X = find_spec(p,n,m)\n",
    "#     y = find_y(t, tp)\n",
    "    \n",
    "#     row, col = X.shape\n",
    "\n",
    "#     scorer = make_scorer(mean_squared_error, greater_is_better=False)\n",
    "#     cv = RepeatedKFold(n_splits=row, n_repeats=1, random_state=3)\n",
    "        \n",
    "#     grid_search = GridSearchCV(Model, param_grid=param_grid[m], cv=cv,\\\n",
    "#                                 scoring= scorer, refit=True, verbose=1, error_score='raise', n_jobs=-1)\n",
    "#     grid_search.fit(X,y)\n",
    "    \n",
    "#     return (grid_search.best_params_)"
   ]
  },
  {
   "cell_type": "code",
   "execution_count": null,
   "id": "2255dc5b-e498-414d-ad83-ec8feeb09588",
   "metadata": {},
   "outputs": [],
   "source": [
    "# def find_tuned_param_on (X_train, y_train, m):\n",
    "#     Model = model[m]\n",
    "#     X = X_train\n",
    "#     y = y_train\n",
    "    \n",
    "#     row, col = X.shape\n",
    "\n",
    "#     scorer = make_scorer(mean_squared_error, greater_is_better=False)\n",
    "#     cv = RepeatedKFold(n_splits=row, n_repeats=1, random_state=3)\n",
    "        \n",
    "#     grid_search = GridSearchCV(Model, param_grid=param_grid[m], cv=cv,\\\n",
    "#                                 scoring= scorer, refit=True, verbose=1, error_score='raise', n_jobs=-1)\n",
    "#     grid_search.fit(X,y)\n",
    "    \n",
    "#     return (grid_search.best_params_)\n",
    "    "
   ]
  },
  {
   "cell_type": "code",
   "execution_count": null,
   "id": "cece33eb-d431-461c-afac-afa0100cd30c",
   "metadata": {},
   "outputs": [],
   "source": [
    "def find_tuned_param_on(X_train, y_train, m):\n",
    "    Model = model[m]\n",
    "\n",
    "    # Ensure X_train and y_train are mutable copies\n",
    "    X = X_train.copy()\n",
    "    y = y_train.copy()\n",
    "    \n",
    "    print(f'Type of X: {type(X)}, Type of y: {type(y)}')\n",
    "    print(f'Shape of X: {X.shape}, Shape of y: {y.shape}')\n",
    "    \n",
    "    row, col = X.shape\n",
    "\n",
    "    scorer = make_scorer(mean_squared_error, greater_is_better=False)\n",
    "    cv = RepeatedKFold(n_splits=row, n_repeats=1, random_state=3)\n",
    "    \n",
    "    grid_search = GridSearchCV(Model, param_grid=param_grid[m], cv=cv, \n",
    "                               scoring=scorer, refit=True, verbose=1, error_score='raise', n_jobs=-1)\n",
    "    \n",
    "    grid_search.fit(X, y)\n",
    "    \n",
    "    return grid_search.best_params_\n"
   ]
  },
  {
   "cell_type": "markdown",
   "id": "fa03214f",
   "metadata": {},
   "source": [
    "### Creating Hypertuned Models"
   ]
  },
  {
   "cell_type": "code",
   "execution_count": null,
   "id": "534d7764",
   "metadata": {},
   "outputs": [],
   "source": [
    "def create_core_model_on (m, BP):\n",
    "    if m == 'mult':\n",
    "        Model = LinearRegression()\n",
    "        \n",
    "    elif m == 'ridge':\n",
    "        Model =  KernelRidge(alpha = BP['alpha'])\n",
    "        \n",
    "    elif m == 'plsr':\n",
    "        Model = PLSRegression(n_components = BP['n_components'])\n",
    "        \n",
    "    elif m == 'cubist':\n",
    "        Model =  Cubist( n_committees = BP['n_committees'], n_rules = BP['n_rules'], random_state = 42) \n",
    "    \n",
    "    elif m == 'gbrt':\n",
    "        Model = GradientBoostingRegressor(n_estimators = BP['n_estimators'], learning_rate = BP['learning_rate'], \\\n",
    "                                          max_depth = BP['max_depth'],  random_state = 42)\n",
    "    elif m == 'svr':\n",
    "        Model = SVR(C = BP['C'], kernel = BP['kernel'], gamma = BP['gamma'])\n",
    "        \n",
    "    return Model    \n",
    "            "
   ]
  },
  {
   "cell_type": "markdown",
   "id": "c1e2d24b",
   "metadata": {},
   "source": [
    "## Building HMtree and BPtree"
   ]
  },
  {
   "cell_type": "code",
   "execution_count": null,
   "id": "cb17d51c",
   "metadata": {},
   "outputs": [],
   "source": [
    "ml_methods = ['mult', 'ridge', 'plsr', 'svr', 'cubist', 'gbrt']"
   ]
  },
  {
   "cell_type": "code",
   "execution_count": null,
   "id": "6ab01feb",
   "metadata": {},
   "outputs": [],
   "source": [
    "def L1_y_pred (spectra, target, method, bp):\n",
    "    m = method\n",
    "    (r,c) = spectra.shape\n",
    "    \n",
    "    Y_test = target.copy()\n",
    "    Y_pred = target.copy()\n",
    "    #print('r:', r)\n",
    "    for i in range (0, r): \n",
    "        #print('i: ', i)\n",
    "        full_spec = spectra.copy()\n",
    "        X_train = full_spec.drop(full_spec.index[i], axis=0)\n",
    "        X_test = full_spec.iloc[[i],:].copy()\n",
    "        full_tar = target.copy()\n",
    "        y_train = full_tar.drop(full_tar.index[i], axis=0)\n",
    "        y_test = full_tar.iloc[i].copy()        \n",
    "        #---- Model Creation, fitting, and predictions--------\n",
    "        Model = create_core_model_on (m, bp)\n",
    "        Model.fit(X_train, y_train)\n",
    "        y_pred = Model.predict(X_test)\n",
    "        Y_pred.iloc[i] = y_pred\n",
    "        \n",
    "    return Y_pred      "
   ]
  },
  {
   "cell_type": "code",
   "execution_count": null,
   "id": "719adf00",
   "metadata": {},
   "outputs": [],
   "source": [
    "def build_HMtree_on (method_name, target):\n",
    "    \n",
    "    tree ={}\n",
    "    \n",
    "    start = time.time()\n",
    "    m = method_name\n",
    "    t = target\n",
    "    \n",
    "    print('tree for: '+ m +' ------> running on: ' + t)\n",
    "    \n",
    "    for tp in prepare_target:\n",
    "        tree[tp] ={}        \n",
    "        for p in prepare_spec:\n",
    "            tree[tp][p] ={}            \n",
    "            \n",
    "            Y = tree[tp][p]\n",
    "                                           \n",
    "            #------ setting spec to appropriate (sampled) spectra----                \n",
    "            spec = find_spec(p, m)                \n",
    "                                        \n",
    "            #---- target selection and normalization ---\n",
    "            y = find_y(t)\n",
    "                                \n",
    "            #---- performing train-test split----------------------\n",
    "            X_train, X_test, y_train, y_test = train_test_split(spec, y, test_size= 0.3, random_state=42)\n",
    "                            \n",
    "            #----- hypertuning parameter, model creation, fitting and prediction ----                \n",
    "                \n",
    "            #bp = find_tuned_param_on (X_train, y_train, m)\n",
    "            bp = find_tuned_param_on (spec, y, m)\n",
    "                \n",
    "            Y['bp'] = bp\n",
    "            print('Method: '+ m + '---> Target: '+ t+ '----> SpecProc: ' +p+ ' ---> n_band: 10')\n",
    "            Model = create_core_model_on (m, bp)\n",
    "            Model.fit(X_train, y_train)\n",
    "                \n",
    "            y_pred = Model.predict(X_test)\n",
    "            yhat_pred = Model.predict(X_train)\n",
    "                    \n",
    "            #----- Data for Model accuracy and plotting -----------\n",
    "            Y['X_test'] = X_test                \n",
    "            Y['y_test'] = y_test\n",
    "            Y['y_testP'] = y_pred\n",
    "                \n",
    "            Y['X_train'] = X_train\n",
    "            Y['y_train'] = y_train\n",
    "            Y['y_trainP'] = yhat_pred\n",
    "                    \n",
    "            Y['iqrp_test'] = find_iqrp(y_pred, y_test)\n",
    "            Y['r2_test'] = find_r2(y_pred, y_test)\n",
    "            Y['rpd_test'] = find_rpd(y_pred, y_test)                 \n",
    "                \n",
    "            Y['r2_train'] = find_r2(yhat_pred, y_train)\n",
    "                \n",
    "            #------- L1 out prediction on test data -----------------\n",
    "            L1y_pred = L1_y_pred (spec, y, m, bp)\n",
    "            Y['L1y_testP'] = L1y_pred\n",
    "            Y['L1y_test'] = y\n",
    "             \n",
    "            \n",
    "            Y['L1iqrp_test'] = find_iqrp(L1y_pred, y)\n",
    "            Y['L1r2_test'] = find_r2(L1y_pred, y)\n",
    "            Y['L1rpd_test'] = find_rpd(L1y_pred, y) \n",
    "                \n",
    "                                                                         \n",
    "    end = time.time()                            \n",
    "    os.system('say \"your hyper tuned meta tree finished for one more method\"')                            \n",
    "\n",
    "    print('End time - Start time =', (end-start)) \n",
    "    \n",
    "    return tree.copy()"
   ]
  },
  {
   "cell_type": "code",
   "execution_count": null,
   "id": "ad48e885",
   "metadata": {},
   "outputs": [],
   "source": [
    "def build_HMtree_for (method_name):\n",
    "    tree ={}\n",
    "    \n",
    "    start = time.time()\n",
    "    m = method_name\n",
    "    for t in target_names:\n",
    "        #print('tree for: '+ m +' ------> running on: ' + t)\n",
    "        tree[t] = build_HMtree_on (m, t)\n",
    "        \n",
    "    end = time.time()                            \n",
    "    os.system('say \"your meta tree finished for one more method\"')                            \n",
    "    print('End time - Start time =', (end-start))     \n",
    "    return tree.copy()"
   ]
  },
  {
   "cell_type": "code",
   "execution_count": null,
   "id": "d5174de0",
   "metadata": {},
   "outputs": [],
   "source": [
    "def best_score_on (HMtree, target, method, scorer):\n",
    "    t=target\n",
    "    m= method\n",
    "    \n",
    "    best_score = -1\n",
    "    #best_n_comp = 'NA'\n",
    "    \n",
    "    \n",
    "    for tp in prepare_target:\n",
    "        for p in prepare_spec:\n",
    "            \n",
    "            Y = HMtree[m][t][tp][p]\n",
    "            #r2_train = Y['r2_train']\n",
    "            #r2_test = Y['r2_test']\n",
    "            #L1r2_test = Y['L1r2_test']\n",
    "                 \n",
    "                    \n",
    "            if scorer == 'iqrp':\n",
    "                cur_score = Y['iqrp_test']\n",
    "            elif scorer == 'L1iqrp':\n",
    "                cur_score = Y['L1iqrp_test']\n",
    "            elif scorer == 'r2':\n",
    "                cur_score = Y['r2_test'] \n",
    "            else:\n",
    "                cur_score = Y['L1r2_test']  \n",
    "                    \n",
    "            if cur_score > best_score:\n",
    "                best_score = cur_score\n",
    "                best_tp = tp\n",
    "                best_n = 10\n",
    "                best_p = p\n",
    "                            \n",
    "    param_list = [scorer, np.round(best_score,2), 'Spec:', best_p, 'bands: 10']                                 \n",
    "    return (param_list)          "
   ]
  },
  {
   "cell_type": "code",
   "execution_count": null,
   "id": "d3435868-fdf6-4346-b14b-77abc6c26169",
   "metadata": {},
   "outputs": [],
   "source": [
    "def best_score_on_ncr (HMtree, target, method, scorer):\n",
    "    t=target\n",
    "    m= method\n",
    "    \n",
    "    best_score = -1\n",
    "    #best_n_comp = 'NA'\n",
    "    \n",
    "    \n",
    "    for tp in prepare_target:\n",
    "        for p in prepare_spec:\n",
    "            \n",
    "            Y = HMtree[m][t][tp][p]\n",
    "            #r2_train = Y['r2_train']\n",
    "            #r2_test = Y['r2_test']\n",
    "            #L1r2_test = Y['L1r2_test']\n",
    "                 \n",
    "                    \n",
    "            if scorer == 'iqrp':\n",
    "                cur_score = Y['iqrp_test']\n",
    "            elif scorer == 'L1iqrp':\n",
    "                cur_score = Y['L1iqrp_test']\n",
    "            elif scorer == 'r2':\n",
    "                cur_score = Y['r2_test'] \n",
    "            else:\n",
    "                cur_score = Y['L1r2_test']  \n",
    "                    \n",
    "            if cur_score > best_score and p != 'cr' and p != 'fod_cr':\n",
    "                best_score = cur_score\n",
    "                best_tp = tp\n",
    "                best_n = 10\n",
    "                best_p = p\n",
    "                            \n",
    "    param_list = [scorer, np.round(best_score,2), 'Spec:', best_p, 'bands: 10']                                 \n",
    "    return (param_list)"
   ]
  },
  {
   "cell_type": "code",
   "execution_count": null,
   "id": "ea137bb9",
   "metadata": {},
   "outputs": [],
   "source": [
    "def best_score_for (HMtree, target, scorer):\n",
    "    \n",
    "    for method in ml_methods:\n",
    "        param_list= best_score_on (HMtree, target, method, scorer)\n",
    "        print('For:'+target+'->', param_list, ':'+method)\n",
    "     \n",
    "    return"
   ]
  },
  {
   "cell_type": "code",
   "execution_count": null,
   "id": "1ab653d4-cc0c-49ce-8240-80eeedb61217",
   "metadata": {},
   "outputs": [],
   "source": [
    "def best_score_for_ncr (HMtree, target, scorer):\n",
    "    \n",
    "    for method in ml_methods:\n",
    "        param_list= best_score_on_ncr (HMtree, target, method, scorer)\n",
    "        print('For:'+target+'->', param_list, ':'+method)\n",
    "     \n",
    "    return"
   ]
  },
  {
   "cell_type": "code",
   "execution_count": null,
   "id": "0202464c",
   "metadata": {},
   "outputs": [],
   "source": [
    "with open ('HMtree.pickle', 'rb') as file:\n",
    "    HMtree = pickle.load(file)\n",
    " "
   ]
  },
  {
   "cell_type": "markdown",
   "id": "45f047e6",
   "metadata": {},
   "source": [
    "## Creating different branches of Mtree (for separate methods)"
   ]
  },
  {
   "cell_type": "code",
   "execution_count": null,
   "id": "2e116cfa",
   "metadata": {},
   "outputs": [],
   "source": [
    "#HMtree = {}"
   ]
  },
  {
   "cell_type": "code",
   "execution_count": null,
   "id": "788aa377",
   "metadata": {},
   "outputs": [],
   "source": [
    "# HMtree['mult'] = build_HMtree_for('mult')\n",
    "# HMtree['plsr'] = build_HMtree_for('plsr')\n",
    "# HMtree['svr'] = build_HMtree_for('svr')\n",
    "# HMtree['ridge'] = build_HMtree_for('ridge')\n",
    "# HMtree['cubist'] = build_HMtree_for('cubist')\n",
    "# HMtree['gbrt'] = build_HMtree_for('gbrt')"
   ]
  },
  {
   "cell_type": "code",
   "execution_count": null,
   "id": "1c646a73",
   "metadata": {},
   "outputs": [],
   "source": [
    "# with open ('HMtree.pickle', 'wb') as file:\n",
    "#     pickle.dump(HMtree, file)\n",
    "        "
   ]
  },
  {
   "cell_type": "code",
   "execution_count": null,
   "id": "dcd97bf6",
   "metadata": {},
   "outputs": [],
   "source": [
    "def plot_model_acc_half (method, target, spec_preprocessing):\n",
    "    \n",
    "    m = method\n",
    "    t = target\n",
    "    \n",
    "    i = target_names.index(target)    \n",
    "    \n",
    "    p = spec_preprocessing\n",
    "    #n = n_bands\n",
    "    tp = 'none'\n",
    "    \n",
    "    Y = HMtree[m][t][tp][p]\n",
    "    \n",
    "    y_test = Y['y_test']\n",
    "    y_pred = Y['y_testP']\n",
    "    L1y_pred = Y['L1y_testP']\n",
    "    L1y_test = Y['L1y_test']\n",
    "    \n",
    "\n",
    "    \n",
    "    if m == 'plsr':\n",
    "        y_pred = y_pred[:,0]\n",
    "        #L1y_pred = L1y_pred[:,0]\n",
    "\n",
    "    \n",
    "    iqrp_test = Y['iqrp_test']\n",
    "    r2_test = Y['r2_test']\n",
    "    rpd_test = Y['rpd_test']\n",
    "    \n",
    "    L1iqrp_test = Y['L1iqrp_test']\n",
    "    L1r2_test = Y['L1r2_test']\n",
    "    L1rpd_test = Y['L1rpd_test']\n",
    "    \n",
    "    y_tp = pd.DataFrame({'actual':y_test.values, 'predic': y_pred})\n",
    "    z = np.polyfit(y_test, y_pred, 1)\n",
    "    \n",
    "    L1y_tp = pd.DataFrame({'actual':L1y_test.values, 'predic': L1y_pred})\n",
    "    L1z = np.polyfit(L1y_test, L1y_pred, 1)\n",
    "    \n",
    "    fig, (axes1,axes2) = plt.subplots(1,2, figsize=(10,5))\n",
    "    plt. grid(False)\n",
    "    \n",
    "    #with plt.style.context(('ggplot')): ---- PLOT of test-prediction --------------------------------------\n",
    "    y_tp.plot.scatter(ax= axes1, x=\"actual\", y=\"predic\", alpha=1.0, color = clr[i], edgecolors='k')\n",
    "    axes1.plot(y_test, np.polyval(z, y_test),  c='blue', linewidth=1)\n",
    "    axes1.plot(y_test, y_test, color='green', linewidth=1)\n",
    "    axes1.tick_params(axis='both', labelsize=10)\n",
    "    axes1.text(0.05, 0.95, target_names[i]+' (Train-Test Score)', transform=axes1.transAxes, fontsize = 14, color = clr[i])\n",
    "    axes1.text(0.05, 0.90, 'IQRP ={:.2f}'.format(iqrp_test), transform=axes1.transAxes, fontsize = 11)\n",
    "    axes1.text(0.05, 0.85, 'RPD ={:.2f}'.format(rpd_test), transform=axes1.transAxes, fontsize = 11)\n",
    "    axes1.text(0.05, 0.80, 'R2 ={:.2f}'.format(np.round(r2_test,3)), transform=axes1.transAxes, fontsize = 11)\n",
    "    axes1.text(0.95, 0.15, 'Method: '+method, transform=axes1.transAxes, \n",
    "                    horizontalalignment='right', fontsize = 12)\n",
    "    \n",
    "    L1y_tp.plot.scatter(ax= axes2, x=\"actual\", y=\"predic\", alpha=1.0, color = clr[i], edgecolors='k')\n",
    "    axes2.plot(L1y_test, np.polyval(L1z, L1y_test),  c='blue', linewidth=1)\n",
    "    axes2.plot(L1y_test, L1y_test, color='green', linewidth=1)\n",
    "    axes2.tick_params(axis='both', labelsize=10)\n",
    "    axes2.text(0.05, 0.95, target_names[i]+' (L1-out Score)', transform=axes2.transAxes, fontsize = 14, color = clr[i])\n",
    "    axes2.text(0.05, 0.90, 'IQRP ={:.2f}'.format(L1iqrp_test), transform=axes2.transAxes, fontsize = 11)\n",
    "    axes2.text(0.05, 0.85, 'RPD ={:.2f}'.format(L1rpd_test), transform=axes2.transAxes, fontsize = 11)\n",
    "    axes2.text(0.05, 0.80, 'R2 ={:.2f}'.format(np.round(L1r2_test,3)), transform=axes2.transAxes, fontsize = 11)\n",
    "    axes2.text(0.95, 0.15, 'Method: '+method, transform=axes2.transAxes, \n",
    "                    horizontalalignment='right', fontsize = 12)\n",
    "    \n",
    "    return\n"
   ]
  },
  {
   "cell_type": "code",
   "execution_count": null,
   "id": "a65f2074",
   "metadata": {},
   "outputs": [],
   "source": [
    "#ml_methods = ['mult', 'ridge', 'plsr', 'svr', 'cubist', 'gbrt']\n",
    "\n",
    "ml_methods = ['mult', 'plsr', 'svr', 'ridge', 'cubist','gbrt']"
   ]
  },
  {
   "cell_type": "code",
   "execution_count": null,
   "id": "47386a6e",
   "metadata": {},
   "outputs": [],
   "source": [
    "#best_score_for (HMtree, 'Sand', 'r2')"
   ]
  },
  {
   "cell_type": "code",
   "execution_count": null,
   "id": "972bb881",
   "metadata": {},
   "outputs": [],
   "source": [
    "best_score_for (HMtree, 'Sand', 'L1r2')"
   ]
  },
  {
   "cell_type": "code",
   "execution_count": null,
   "id": "c2e018eb-2cd2-4d11-9248-42c275532963",
   "metadata": {},
   "outputs": [],
   "source": [
    "best_score_for_ncr (HMtree, 'Sand', 'L1r2')"
   ]
  },
  {
   "cell_type": "code",
   "execution_count": null,
   "id": "0f3cf3cb",
   "metadata": {},
   "outputs": [],
   "source": [
    "#best_score_for (HMtree, 'Silt', 'r2')"
   ]
  },
  {
   "cell_type": "code",
   "execution_count": null,
   "id": "47c850cd",
   "metadata": {},
   "outputs": [],
   "source": [
    "best_score_for (HMtree, 'Silt', 'L1r2')"
   ]
  },
  {
   "cell_type": "code",
   "execution_count": null,
   "id": "ce11c318-350b-437c-8872-ced2987b9971",
   "metadata": {},
   "outputs": [],
   "source": [
    "best_score_for_ncr (HMtree, 'Silt', 'L1r2')"
   ]
  },
  {
   "cell_type": "code",
   "execution_count": null,
   "id": "96795286",
   "metadata": {},
   "outputs": [],
   "source": [
    "#best_score_for (HMtree, 'Clay', 'r2')"
   ]
  },
  {
   "cell_type": "code",
   "execution_count": null,
   "id": "8ef3ceab",
   "metadata": {},
   "outputs": [],
   "source": [
    "best_score_for (HMtree, 'Clay', 'L1r2')"
   ]
  },
  {
   "cell_type": "code",
   "execution_count": null,
   "id": "fdfaa94c-b376-420e-b9b5-dddefbc1fce6",
   "metadata": {},
   "outputs": [],
   "source": [
    "best_score_for_ncr (HMtree, 'Clay', 'L1r2')"
   ]
  },
  {
   "cell_type": "code",
   "execution_count": null,
   "id": "5685580a-e8ed-46f5-a903-d962be155b82",
   "metadata": {},
   "outputs": [],
   "source": [
    "halt here"
   ]
  },
  {
   "cell_type": "code",
   "execution_count": null,
   "id": "77ec7927",
   "metadata": {},
   "outputs": [],
   "source": [
    "#best_score_for (HMtree, 'TOC', 'r2')"
   ]
  },
  {
   "cell_type": "code",
   "execution_count": null,
   "id": "d694abb7",
   "metadata": {},
   "outputs": [],
   "source": [
    "best_score_for (HMtree, 'TOC', 'L1r2')"
   ]
  },
  {
   "cell_type": "code",
   "execution_count": null,
   "id": "091797dc",
   "metadata": {},
   "outputs": [],
   "source": [
    "#best_score_for (HMtree, 'CaCO3', 'r2')"
   ]
  },
  {
   "cell_type": "code",
   "execution_count": null,
   "id": "68e76543",
   "metadata": {},
   "outputs": [],
   "source": [
    "#best_score_for (HMtree, 'CaCO3', 'L1r2')"
   ]
  },
  {
   "cell_type": "markdown",
   "id": "fe74d829",
   "metadata": {},
   "source": [
    "## Plotting Model Accuracy (ipywidgets)"
   ]
  },
  {
   "cell_type": "code",
   "execution_count": null,
   "id": "2a6a7a17",
   "metadata": {},
   "outputs": [],
   "source": [
    "ipywidgets.interact( plot_model_acc_half, target = target_names, method = ml_methods, \\\n",
    "                    spec_preprocessing = prepare_spec,  \\\n",
    "                    target_preprocessing = prepare_target)"
   ]
  },
  {
   "cell_type": "code",
   "execution_count": null,
   "id": "7f8c3328",
   "metadata": {},
   "outputs": [],
   "source": [
    "# with open ('HMtree.pickle', 'wb') as file:\n",
    "#     pickle.dump(HMtree, file)"
   ]
  },
  {
   "cell_type": "code",
   "execution_count": null,
   "id": "2f9b1ae4",
   "metadata": {},
   "outputs": [],
   "source": [
    "# MTable = {'Input': ['Hyperspectral', 'Sentinal', 'Venus'], \n",
    "#           'Target': ['Sand', 'Sand', 'Sand'], \n",
    "#           'plsr': ['R2:0.57  bands:13','R2:0.57 bands:13','R2:0.57  bands:13'],\n",
    "#           'cubist': ['R2:0.57  bands:13','R2:0.57 bands:13','R2:0.57  bands:13'],\n",
    "#           'gbrt': ['R2:0.57  bands:13','R2:0.57 bands:13','R2:0.57  bands:13'],\n",
    "#           'svr': ['R2:0.57  bands:13','R2:0.57 bands:13','R2:0.57  bands:13'],\n",
    "#           'kridge': ['R2:0.57  bands:13','R2:0.57 bands:13','R2:0.57  bands:13']}\n",
    "          "
   ]
  },
  {
   "cell_type": "code",
   "execution_count": null,
   "id": "8d542ac6",
   "metadata": {},
   "outputs": [],
   "source": [
    "#MTable = pd.DataFrame.from_dict(MTable)\n"
   ]
  },
  {
   "cell_type": "code",
   "execution_count": null,
   "id": "de5d7398",
   "metadata": {},
   "outputs": [],
   "source": [
    "#pd.set_option('display.colheader_justify', 'center')"
   ]
  },
  {
   "cell_type": "code",
   "execution_count": null,
   "id": "852125d9",
   "metadata": {},
   "outputs": [],
   "source": [
    "#MTable"
   ]
  },
  {
   "cell_type": "code",
   "execution_count": null,
   "id": "72d5ff2c",
   "metadata": {},
   "outputs": [],
   "source": []
  }
 ],
 "metadata": {
  "kernelspec": {
   "display_name": "Python 3 (ipykernel)",
   "language": "python",
   "name": "python3"
  },
  "language_info": {
   "codemirror_mode": {
    "name": "ipython",
    "version": 3
   },
   "file_extension": ".py",
   "mimetype": "text/x-python",
   "name": "python",
   "nbconvert_exporter": "python",
   "pygments_lexer": "ipython3",
   "version": "3.11.2"
  }
 },
 "nbformat": 4,
 "nbformat_minor": 5
}
