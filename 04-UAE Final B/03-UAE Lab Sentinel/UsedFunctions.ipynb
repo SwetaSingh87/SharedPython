{
 "cells": [
  {
   "cell_type": "markdown",
   "id": "136fce3e-f126-4451-8cef-e62f84331803",
   "metadata": {},
   "source": [
    "### Definitions of the functions which are used to evaluate the best model for Sentinel of UAE and description of the nomenclature of different spectras which are used in the best models."
   ]
  },
  {
   "cell_type": "markdown",
   "id": "2ecdc27f-a6d1-4ecb-8370-cf5bb6a28f82",
   "metadata": {},
   "source": [
    "### continuum_removed function is used to find out the continuum removal of the smoothed spectra"
   ]
  },
  {
   "cell_type": "code",
   "execution_count": 3,
   "id": "66679246-9dc5-4ece-9ee4-81a3654f11ef",
   "metadata": {},
   "outputs": [],
   "source": [
    "def continuum_removal(points, show=False):\n",
    "    x1, y1 = points.T\n",
    "    augmented = np.concatenate([points, [(x1[0], np.min(y1)-1), (x1[-1], np.min(y1)-1)]], axis=0)\n",
    "    hull = ConvexHull(augmented)\n",
    "    continuum_points = points[np.sort([v for v in hull.vertices if v < len(points)])]\n",
    "    continuum_function = interp1d(*continuum_points.T)\n",
    "    yprime = continuum_function(x1) - y1\n",
    "    #yprime = y1 / continuum_function(x1)\n",
    "\n",
    "    if show:\n",
    "        fig, axes = plt.subplots(2, 1, sharex=True)\n",
    "        axes[0].plot(x1, y1, label='Data')\n",
    "        axes[0].plot(*continuum_points.T, label='Continuum')\n",
    "        axes[0].legend()\n",
    "        axes[1].plot(x1, yprime, label='Data / Continuum')\n",
    "        axes[1].legend()\n",
    "\n",
    "    return yprime\n",
    "\n",
    "\n",
    "def optimized_continuum_removed(spectra):\n",
    "    cr_spec = spectra.copy()    \n",
    "    row, col = spectra.shape\n",
    "    x1 = np.arange(0, col, 1)\n",
    "    \n",
    "    def process_each_row(y1):\n",
    "        points = np.c_[x1, y1]\n",
    "        yprime = continuum_removal(points, show=False)\n",
    "        return yprime\n",
    "\n",
    "    cr_spec.values[:] = np.apply_along_axis(process_each_row, 1, cr_spec.values)\n",
    "    \n",
    "    return cr_spec"
   ]
  },
  {
   "cell_type": "markdown",
   "id": "0f9de101-fcd3-4224-a990-47596fa3dcc6",
   "metadata": {},
   "source": [
    "### fod function is used to find out the first order derivative of the various preprocessed spectras.\n"
   ]
  },
  {
   "cell_type": "code",
   "execution_count": 7,
   "id": "a5e2e92f-373c-4829-a7b3-679400eb1e88",
   "metadata": {},
   "outputs": [],
   "source": [
    "def fod (spectra):\n",
    "    fo_spec = spectra.iloc[:,:].copy()\n",
    "    (row,col) = fo_spec.shape\n",
    "    \n",
    "    for i in range(0,col):\n",
    "        if i==col-1:\n",
    "            fo_spec.iloc[:,i] = fo_spec.iloc[:,i-1]\n",
    "        else:    \n",
    "            fo_spec.iloc[:,i] = (spectra.iloc[:,i+1]- spectra.iloc[:,i])\n",
    "        \n",
    "    return(fo_spec.copy())"
   ]
  },
  {
   "cell_type": "code",
   "execution_count": null,
   "id": "b4b8093e-29ce-4567-90c1-96f03409106f",
   "metadata": {},
   "outputs": [],
   "source": []
  }
 ],
 "metadata": {
  "kernelspec": {
   "display_name": "Python 3 (ipykernel)",
   "language": "python",
   "name": "python3"
  },
  "language_info": {
   "codemirror_mode": {
    "name": "ipython",
    "version": 3
   },
   "file_extension": ".py",
   "mimetype": "text/x-python",
   "name": "python",
   "nbconvert_exporter": "python",
   "pygments_lexer": "ipython3",
   "version": "3.11.2"
  }
 },
 "nbformat": 4,
 "nbformat_minor": 5
}
