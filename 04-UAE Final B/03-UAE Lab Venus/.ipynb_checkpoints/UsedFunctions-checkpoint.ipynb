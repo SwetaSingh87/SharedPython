{
 "cells": [
  {
   "cell_type": "markdown",
   "id": "136fce3e-f126-4451-8cef-e62f84331803",
   "metadata": {},
   "source": [
    "### Definitions of the functions which are used to evaluate the best model for Sentinel of Israel and description of the nomenclature of different spectras which are used in the best models."
   ]
  },
  {
   "cell_type": "markdown",
   "id": "94daeac1-5552-4016-9e12-ace669f3b1f3",
   "metadata": {},
   "source": [
    "##### The provided spectra is smoothed using second order savitzky golay filter at a window length of 51 and it is termed as **spec2[51]**."
   ]
  },
  {
   "cell_type": "markdown",
   "id": "e8402bdd-45aa-4ee3-86ee-294fc73e0a51",
   "metadata": {},
   "source": [
    "##### spec2[51] is passed as an argument (spectrum) to the resample_at function."
   ]
  },
  {
   "cell_type": "markdown",
   "id": "bd2e786c-6b0b-4535-96dd-4b82bb8be741",
   "metadata": {},
   "source": [
    "### resample_at function is used to resample the spectra to the 10 bands of Sentinel."
   ]
  },
  {
   "cell_type": "code",
   "execution_count": 4,
   "id": "cbe485ad-c829-4d7e-ab4f-4e880a4bd645",
   "metadata": {},
   "outputs": [],
   "source": [
    "mid_locs = [ '493', '560', '665', '704', '741', '783', '833', '865', '1614', '2202']\n",
    "band_widths = [ 65, 35, 30, 14, 14, 19, 105, 21, 90, 174] "
   ]
  },
  {
   "cell_type": "code",
   "execution_count": 5,
   "id": "f88db523-2bcd-4c30-ab35-ec6e01487481",
   "metadata": {},
   "outputs": [],
   "source": [
    "def resample_at (spectrum, mid_locs, band_widths):\n",
    "    \n",
    "    #----- obtaining the sampling ilocations in indx----\n",
    "    mid_ilocs = []\n",
    "    for l in mid_locs:\n",
    "        #print(l)\n",
    "        i = spectrum.columns.get_loc(l)\n",
    "        mid_ilocs.append(i)\n",
    "    \n",
    "   \n",
    "    #----- finding initial shape for red_spectra ------\n",
    "    red_spectra = spectrum.iloc[:, mid_ilocs].copy()\n",
    "    \n",
    "    for i in range(0, len(mid_ilocs)):\n",
    "        m = mid_ilocs[i]\n",
    "        l = mid_locs[i]\n",
    "        window = np.floor(0.5*band_widths[i]).astype(int)\n",
    "        red_spectra.loc[:,l] = spectrum.iloc[:,(m-window):(m+window)].mean(axis=1).copy()\n",
    "        \n",
    "    return (red_spectra)"
   ]
  },
  {
   "cell_type": "markdown",
   "id": "05ec955d-c376-40d4-8252-3e84425ba12a",
   "metadata": {},
   "source": [
    "##### red_spectra returned by the resample_at function is known as **sampled_spec10**."
   ]
  },
  {
   "cell_type": "markdown",
   "id": "9a1d44c8-f8a3-4c26-bd1f-c047c3ebaa0f",
   "metadata": {},
   "source": [
    "#### Logarithmic Transformed Spectra"
   ]
  },
  {
   "cell_type": "markdown",
   "id": "ca2a2742-a97b-48d6-a131-4a5b8e9493b6",
   "metadata": {},
   "source": [
    "##### First we obtain logarithmic tranformed spectra **log_spec** by applying (np.log) to the inverse of the smoothed spectra (1/spec2[51]). Then the spectra **sampled_log10** is obtained by passing log_spec as an argument to the resample_at function."
   ]
  },
  {
   "cell_type": "markdown",
   "id": "347e6de6-82c7-4846-a87f-be0e154b1bb9",
   "metadata": {},
   "source": [
    "log_spec = ((1/spec2[51]).apply(np.log))"
   ]
  },
  {
   "cell_type": "markdown",
   "id": "715ffc6b-9d5e-4f45-894e-af8da18eebc3",
   "metadata": {},
   "source": [
    "sampled_log10 = resample_at(log_spec, mid_locs, band_widths)"
   ]
  },
  {
   "cell_type": "markdown",
   "id": "0f9de101-fcd3-4224-a990-47596fa3dcc6",
   "metadata": {},
   "source": [
    "### fod function is used to find out the first order derivative of the various preprocessed spectras.\n"
   ]
  },
  {
   "cell_type": "code",
   "execution_count": 7,
   "id": "a5e2e92f-373c-4829-a7b3-679400eb1e88",
   "metadata": {},
   "outputs": [],
   "source": [
    "def fod (spectra):\n",
    "    fo_spec = spectra.iloc[:,:].copy()\n",
    "    (row,col) = fo_spec.shape\n",
    "    \n",
    "    for i in range(0,col):\n",
    "        if i==col-1:\n",
    "            fo_spec.iloc[:,i] = fo_spec.iloc[:,i-1]\n",
    "        else:    \n",
    "            fo_spec.iloc[:,i] = (spectra.iloc[:,i+1]- spectra.iloc[:,i])\n",
    "        \n",
    "    return(fo_spec.copy())"
   ]
  },
  {
   "cell_type": "markdown",
   "id": "9cb7fced-5f06-4b27-8c7b-b8dd13f01b42",
   "metadata": {},
   "source": [
    "#### Description of the 2 preprocessed spectras used in the best models."
   ]
  },
  {
   "cell_type": "markdown",
   "id": "183f85ac-6899-4ecd-a026-cfe440d4d58c",
   "metadata": {},
   "source": [
    "#####  **fod_sampled10** is obtained by passing sampled_spec10 as an argument to the fod function. Further **fod_log10** is obtained by passing sampled_log10 as an argument to the fod function."
   ]
  },
  {
   "cell_type": "markdown",
   "id": "76e1a695-52a9-49bc-b5e7-924cffcc0b8e",
   "metadata": {},
   "source": [
    "fod_sampled10 = fod (sampled_spec10)"
   ]
  },
  {
   "cell_type": "markdown",
   "id": "762f9502-3419-4c2c-8727-419c056d8a12",
   "metadata": {},
   "source": [
    "fod_log10 = fod (sampled_log10)"
   ]
  },
  {
   "cell_type": "markdown",
   "id": "2ecdc27f-a6d1-4ecb-8370-cf5bb6a28f82",
   "metadata": {},
   "source": [
    "### continuum_removed function is used to find out the continuum removal of the smoothed spectra"
   ]
  },
  {
   "cell_type": "code",
   "execution_count": null,
   "id": "66679246-9dc5-4ece-9ee4-81a3654f11ef",
   "metadata": {},
   "outputs": [],
   "source": [
    "def continuum_removal(points, show=False):\n",
    "    x1, y1 = points.T\n",
    "    augmented = np.concatenate([points, [(x1[0], np.min(y1)-1), (x1[-1], np.min(y1)-1)]], axis=0)\n",
    "    hull = ConvexHull(augmented)\n",
    "    continuum_points = points[np.sort([v for v in hull.vertices if v < len(points)])]\n",
    "    continuum_function = interp1d(*continuum_points.T)\n",
    "    yprime = continuum_function(x1) - y1\n",
    "    #yprime = y1 / continuum_function(x1)\n",
    "\n",
    "    if show:\n",
    "        fig, axes = plt.subplots(2, 1, sharex=True)\n",
    "        axes[0].plot(x1, y1, label='Data')\n",
    "        axes[0].plot(*continuum_points.T, label='Continuum')\n",
    "        axes[0].legend()\n",
    "        axes[1].plot(x1, yprime, label='Data / Continuum')\n",
    "        axes[1].legend()\n",
    "\n",
    "    return yprime\n",
    "\n",
    "\n",
    "def continuum_removed(spectra):\n",
    "    cr_spec = spectra.copy()    \n",
    "    row, col = spectra.shape\n",
    "    x1 = np.arange (0, col, 1)\n",
    "    \n",
    "    \n",
    "    for r in range(0,row,1):\n",
    "        y1 = cr_spec.iloc[r,:]\n",
    "        points = np.c_[x1, y1]\n",
    "        yprime = continuum_removal(points, show=False)\n",
    "        cr_spec.iloc[r,:] = yprime\n",
    "        \n",
    "    return cr_spec\n"
   ]
  },
  {
   "cell_type": "markdown",
   "id": "29d56c5c-5c50-4a05-acf4-695cb8e2b61a",
   "metadata": {},
   "source": [
    "##### Continuum removed spectra **cr_spec** is obtained by passing spec2[51] as an argument to the continuum_removed function. Then the spectra **sampled_cr10** is obtained by passing cr_spec as an argument to the resample_at function."
   ]
  },
  {
   "cell_type": "code",
   "execution_count": null,
   "id": "bfb4efe6-1bbf-4113-a68c-7cdf5272161a",
   "metadata": {},
   "outputs": [],
   "source": []
  }
 ],
 "metadata": {
  "kernelspec": {
   "display_name": "Python 3 (ipykernel)",
   "language": "python",
   "name": "python3"
  },
  "language_info": {
   "codemirror_mode": {
    "name": "ipython",
    "version": 3
   },
   "file_extension": ".py",
   "mimetype": "text/x-python",
   "name": "python",
   "nbconvert_exporter": "python",
   "pygments_lexer": "ipython3",
   "version": "3.11.2"
  }
 },
 "nbformat": 4,
 "nbformat_minor": 5
}
