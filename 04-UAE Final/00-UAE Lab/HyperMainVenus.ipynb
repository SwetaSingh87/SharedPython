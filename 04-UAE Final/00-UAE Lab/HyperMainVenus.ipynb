{
 "cells": [
  {
   "cell_type": "markdown",
   "id": "9e44ac43",
   "metadata": {},
   "source": [
    "# Importing Header and SoilPrep"
   ]
  },
  {
   "cell_type": "code",
   "execution_count": 1,
   "id": "188e54fc",
   "metadata": {},
   "outputs": [
    {
     "name": "stdout",
     "output_type": "stream",
     "text": [
      "importing Jupyter notebook from Header.ipynb\n"
     ]
    }
   ],
   "source": [
    "import import_ipynb \n",
    "from Header import *"
   ]
  },
  {
   "cell_type": "code",
   "execution_count": 2,
   "id": "22684781",
   "metadata": {},
   "outputs": [
    {
     "name": "stdout",
     "output_type": "stream",
     "text": [
      "importing Jupyter notebook from SoilPrep.ipynb\n"
     ]
    }
   ],
   "source": [
    "import import_ipynb\n",
    "from SoilPrep import * "
   ]
  },
  {
   "cell_type": "markdown",
   "id": "4bf91556",
   "metadata": {},
   "source": [
    "## Loading Data and MetaData"
   ]
  },
  {
   "cell_type": "code",
   "execution_count": 3,
   "id": "76054719",
   "metadata": {},
   "outputs": [
    {
     "name": "stdout",
     "output_type": "stream",
     "text": [
      "importing Jupyter notebook from LoadDataMetaData.ipynb\n"
     ]
    }
   ],
   "source": [
    "import import_ipynb\n",
    "from LoadDataMetaData import *"
   ]
  },
  {
   "cell_type": "markdown",
   "id": "57f4447f",
   "metadata": {},
   "source": [
    "## Fixed One Time Resampling"
   ]
  },
  {
   "cell_type": "code",
   "execution_count": 4,
   "id": "09b821d0",
   "metadata": {},
   "outputs": [],
   "source": [
    "mid_locs = ['420', '443', '490', '555', '638', '672', '702', '742', '782', '865', '910']\n",
    "band_widths = [25, 40, 20, 20, 24, 16, 24, 16, 16, 20, 20]  "
   ]
  },
  {
   "cell_type": "code",
   "execution_count": 5,
   "id": "d33ed0e7",
   "metadata": {},
   "outputs": [],
   "source": [
    "def resample_at (spectrum, mid_locs, band_widths):\n",
    "    \n",
    "    #----- obtaining the sampling ilocations in indx----\n",
    "    mid_ilocs = []\n",
    "    for l in mid_locs:\n",
    "        #print(l)\n",
    "        i = spectrum.columns.get_loc(l)\n",
    "        mid_ilocs.append(i)\n",
    "    \n",
    "    #print(mid_ilocs)\n",
    "    #print(mid_ilocs)\n",
    "    #print(mid_locs)   \n",
    "    \n",
    "    #----- finding initial shape for red_spectra ------\n",
    "    red_spectra = spectrum.iloc[:, mid_ilocs].copy()\n",
    "    #print(red_spectra.head(5))\n",
    "    #print(len(mid_ilocs))\n",
    "    \n",
    "    for i in range(0, len(mid_ilocs)):\n",
    "        m = mid_ilocs[i]\n",
    "        l = mid_locs[i]\n",
    "        window = np.floor(0.5*band_widths[i]).astype(int)\n",
    "        #print('m: ', m, 'window:', window)\n",
    "        red_spectra.loc[:,l] = spectrum.iloc[:,(m-window):(m+window)].mean(axis=1).copy()\n",
    "        \n",
    "    return (red_spectra)\n"
   ]
  },
  {
   "cell_type": "code",
   "execution_count": 6,
   "id": "793637f2",
   "metadata": {},
   "outputs": [
    {
     "data": {
      "text/html": [
       "<div>\n",
       "<style scoped>\n",
       "    .dataframe tbody tr th:only-of-type {\n",
       "        vertical-align: middle;\n",
       "    }\n",
       "\n",
       "    .dataframe tbody tr th {\n",
       "        vertical-align: top;\n",
       "    }\n",
       "\n",
       "    .dataframe thead th {\n",
       "        text-align: right;\n",
       "    }\n",
       "</style>\n",
       "<table border=\"1\" class=\"dataframe\">\n",
       "  <thead>\n",
       "    <tr style=\"text-align: right;\">\n",
       "      <th></th>\n",
       "      <th>420</th>\n",
       "      <th>443</th>\n",
       "      <th>490</th>\n",
       "      <th>555</th>\n",
       "      <th>638</th>\n",
       "      <th>672</th>\n",
       "      <th>702</th>\n",
       "      <th>742</th>\n",
       "      <th>782</th>\n",
       "      <th>865</th>\n",
       "      <th>910</th>\n",
       "    </tr>\n",
       "  </thead>\n",
       "  <tbody>\n",
       "    <tr>\n",
       "      <th>0</th>\n",
       "      <td>0.144063</td>\n",
       "      <td>0.166948</td>\n",
       "      <td>0.209295</td>\n",
       "      <td>0.292499</td>\n",
       "      <td>0.386718</td>\n",
       "      <td>0.407968</td>\n",
       "      <td>0.433550</td>\n",
       "      <td>0.462206</td>\n",
       "      <td>0.484446</td>\n",
       "      <td>0.506469</td>\n",
       "      <td>0.514470</td>\n",
       "    </tr>\n",
       "    <tr>\n",
       "      <th>1</th>\n",
       "      <td>0.119426</td>\n",
       "      <td>0.140218</td>\n",
       "      <td>0.178285</td>\n",
       "      <td>0.252382</td>\n",
       "      <td>0.330722</td>\n",
       "      <td>0.351590</td>\n",
       "      <td>0.375340</td>\n",
       "      <td>0.403457</td>\n",
       "      <td>0.426307</td>\n",
       "      <td>0.449363</td>\n",
       "      <td>0.457361</td>\n",
       "    </tr>\n",
       "    <tr>\n",
       "      <th>2</th>\n",
       "      <td>0.098955</td>\n",
       "      <td>0.120106</td>\n",
       "      <td>0.156299</td>\n",
       "      <td>0.228972</td>\n",
       "      <td>0.292581</td>\n",
       "      <td>0.305398</td>\n",
       "      <td>0.321836</td>\n",
       "      <td>0.341828</td>\n",
       "      <td>0.358382</td>\n",
       "      <td>0.372124</td>\n",
       "      <td>0.376753</td>\n",
       "    </tr>\n",
       "    <tr>\n",
       "      <th>3</th>\n",
       "      <td>0.179440</td>\n",
       "      <td>0.205586</td>\n",
       "      <td>0.248111</td>\n",
       "      <td>0.334626</td>\n",
       "      <td>0.410647</td>\n",
       "      <td>0.423945</td>\n",
       "      <td>0.442194</td>\n",
       "      <td>0.462696</td>\n",
       "      <td>0.478491</td>\n",
       "      <td>0.489124</td>\n",
       "      <td>0.492481</td>\n",
       "    </tr>\n",
       "    <tr>\n",
       "      <th>4</th>\n",
       "      <td>0.057449</td>\n",
       "      <td>0.066915</td>\n",
       "      <td>0.089151</td>\n",
       "      <td>0.129092</td>\n",
       "      <td>0.189341</td>\n",
       "      <td>0.211225</td>\n",
       "      <td>0.246785</td>\n",
       "      <td>0.293607</td>\n",
       "      <td>0.337743</td>\n",
       "      <td>0.413081</td>\n",
       "      <td>0.444682</td>\n",
       "    </tr>\n",
       "  </tbody>\n",
       "</table>\n",
       "</div>"
      ],
      "text/plain": [
       "        420       443       490       555       638       672       702  \\\n",
       "0  0.144063  0.166948  0.209295  0.292499  0.386718  0.407968  0.433550   \n",
       "1  0.119426  0.140218  0.178285  0.252382  0.330722  0.351590  0.375340   \n",
       "2  0.098955  0.120106  0.156299  0.228972  0.292581  0.305398  0.321836   \n",
       "3  0.179440  0.205586  0.248111  0.334626  0.410647  0.423945  0.442194   \n",
       "4  0.057449  0.066915  0.089151  0.129092  0.189341  0.211225  0.246785   \n",
       "\n",
       "        742       782       865       910  \n",
       "0  0.462206  0.484446  0.506469  0.514470  \n",
       "1  0.403457  0.426307  0.449363  0.457361  \n",
       "2  0.341828  0.358382  0.372124  0.376753  \n",
       "3  0.462696  0.478491  0.489124  0.492481  \n",
       "4  0.293607  0.337743  0.413081  0.444682  "
      ]
     },
     "execution_count": 6,
     "metadata": {},
     "output_type": "execute_result"
    }
   ],
   "source": [
    "sampled_spec11 = resample_at (spec2[51], mid_locs, band_widths)\n",
    "sampled_spec11.head(5)"
   ]
  },
  {
   "cell_type": "code",
   "execution_count": null,
   "id": "421d2395",
   "metadata": {},
   "outputs": [],
   "source": []
  },
  {
   "cell_type": "code",
   "execution_count": 7,
   "id": "d0c7fc0b",
   "metadata": {},
   "outputs": [],
   "source": [
    "sampled_cr11 = resample_at (cr_spec, mid_locs, band_widths)\n",
    "#sampled_cr11.head(5)"
   ]
  },
  {
   "cell_type": "code",
   "execution_count": 8,
   "id": "0633fca8",
   "metadata": {},
   "outputs": [],
   "source": [
    "fod_sampled11 = fod (sampled_spec11)\n",
    "#fod_sampled13.head(5)"
   ]
  },
  {
   "cell_type": "code",
   "execution_count": 9,
   "id": "36aa5135",
   "metadata": {},
   "outputs": [],
   "source": [
    "sampled_log11 = resample_at(log_spec, mid_locs, band_widths)\n",
    "#sampled_log13.head(5)"
   ]
  },
  {
   "cell_type": "code",
   "execution_count": 10,
   "id": "8021a04d",
   "metadata": {},
   "outputs": [],
   "source": [
    "import os\n",
    "os.system('say \"your Meta Tree started building\"')\n",
    "import time"
   ]
  },
  {
   "cell_type": "code",
   "execution_count": 11,
   "id": "ef75fce3",
   "metadata": {},
   "outputs": [],
   "source": [
    "# prepare_spec = ['none', 'fod2', 'continuum', 'log']\n",
    "# prepare_target = ['none', 'minmax']\n",
    "\n",
    "def find_X(p):\n",
    "    if p == 'fod2':\n",
    "        X = fod_sampled11\n",
    "    elif p == 'cr':\n",
    "        X = sampled_cr11\n",
    "    elif p == 'log':\n",
    "        X = sampled_log11\n",
    "    else:\n",
    "        X = sampled_spec11\n",
    "    return X\n",
    "\n",
    "def find_spec(p, m):    \n",
    "    spec = find_X(p)\n",
    "    return spec    \n",
    "\n",
    "\n",
    "def find_y(t):\n",
    "    i = target_names.index(t) \n",
    "    y = T[i]\n",
    "    return y\n",
    "        \n",
    "        "
   ]
  },
  {
   "cell_type": "markdown",
   "id": "8475a10d",
   "metadata": {},
   "source": [
    "## Recording Hypertuning Parameters"
   ]
  },
  {
   "cell_type": "code",
   "execution_count": 12,
   "id": "933a88e1",
   "metadata": {},
   "outputs": [],
   "source": [
    "from sklearn.metrics import make_scorer, r2_score\n",
    "\n",
    "model ={}\n",
    "param_grid ={}\n",
    "model['mult'] = LinearRegression()\n",
    "param_grid['mult'] = { 'fit_intercept': [True, False] }\n",
    "\n",
    "model['ridge'] = KernelRidge()\n",
    "param_grid['ridge']={'alpha': [ 0.00001,0.00002, 0.00005, 0.0001, 0.0002, 0.0005, 0.001, 0.002, \\\n",
    "                               0.005,  0.01, 0.05, 0.1, 0.5, 1]}\n",
    "\n",
    "model['plsr'] = PLSRegression()\n",
    "param_grid['plsr']={'n_components': [1, 2, 3, 4, 5, 6, 7, 8, 9, 10]}\n",
    "\n",
    "\n",
    "model['cubist'] = Cubist(random_state = 42)  \n",
    "param_grid['cubist'] = { 'n_committees': [5, 10, 15, 20], 'n_rules': [10, 20, 30, 40, 50] }\n",
    "                        \n",
    "\n",
    "model['gbrt'] = GradientBoostingRegressor(random_state = 42)\n",
    "param_grid['gbrt'] = {\n",
    "    'n_estimators': [30,40,50],        # Number of boosting stages to be used\n",
    "    'learning_rate': [0.01, 0.1],     # Step size shrinkage used in updating weights\n",
    "    'max_depth': [3, 4, 5]                # Maximum depth of individual trees\n",
    "#     'min_samples_split': [2, 3],        # Minimum number of samples required to split an internal node\n",
    "#     'min_samples_leaf': [1, 2],         # Minimum number of samples required to be at a leaf node\n",
    "}\n",
    "\n",
    "model['svr'] = SVR()\n",
    "param_grid['svr'] = {\n",
    "    'C': [0.1, 1, 10],              # Regularization parameter\n",
    "    'kernel': ['linear', 'rbf'],   # Kernel function\n",
    "    'gamma': [0.01, 0.1, 1],      # Kernel coefficient (only for 'rbf' kernel)\n",
    "}\n"
   ]
  },
  {
   "cell_type": "markdown",
   "id": "72d06dd7",
   "metadata": {},
   "source": [
    "### Finding Hypertuned Parameters"
   ]
  },
  {
   "cell_type": "code",
   "execution_count": 13,
   "id": "bf49b104",
   "metadata": {},
   "outputs": [],
   "source": [
    "# def find_core_model_param_on (m, t, p, tp, n):\n",
    "#     Model = model[m]\n",
    "#     X = find_spec(p,n,m)\n",
    "#     y = find_y(t, tp)\n",
    "    \n",
    "#     row, col = X.shape\n",
    "\n",
    "#     scorer = make_scorer(mean_squared_error, greater_is_better=False)\n",
    "#     cv = RepeatedKFold(n_splits=row, n_repeats=1, random_state=3)\n",
    "        \n",
    "#     grid_search = GridSearchCV(Model, param_grid=param_grid[m], cv=cv,\\\n",
    "#                                 scoring= scorer, refit=True, verbose=1, error_score='raise', n_jobs=-1)\n",
    "#     grid_search.fit(X,y)\n",
    "    \n",
    "#     return (grid_search.best_params_)\n",
    "\n",
    "def find_tuned_param_on (X_train, y_train, m):\n",
    "    Model = model[m]\n",
    "    X = X_train\n",
    "    y = y_train\n",
    "    \n",
    "    row, col = X.shape\n",
    "\n",
    "    scorer = make_scorer(mean_squared_error, greater_is_better=False)\n",
    "    cv = RepeatedKFold(n_splits=row, n_repeats=1, random_state=3)\n",
    "        \n",
    "    grid_search = GridSearchCV(Model, param_grid=param_grid[m], cv=cv,\\\n",
    "                                scoring= scorer, refit=True, verbose=1, error_score='raise', n_jobs=-1)\n",
    "    grid_search.fit(X,y)\n",
    "    \n",
    "    return (grid_search.best_params_)\n",
    "    "
   ]
  },
  {
   "cell_type": "markdown",
   "id": "fa03214f",
   "metadata": {},
   "source": [
    "### Creating Hypertuned Models"
   ]
  },
  {
   "cell_type": "code",
   "execution_count": 14,
   "id": "534d7764",
   "metadata": {},
   "outputs": [],
   "source": [
    "def create_core_model_on (m, BP):\n",
    "    if m == 'mult':\n",
    "        Model = LinearRegression()\n",
    "        \n",
    "    elif m == 'ridge':\n",
    "        Model =  KernelRidge(alpha = BP['alpha'])\n",
    "        \n",
    "    elif m == 'plsr':\n",
    "        Model = PLSRegression(n_components = BP['n_components'])\n",
    "        \n",
    "    elif m == 'cubist':\n",
    "        Model =  Cubist( n_committees = BP['n_committees'], n_rules = BP['n_rules'], random_state = 42) \n",
    "    \n",
    "    elif m == 'gbrt':\n",
    "        Model = GradientBoostingRegressor(n_estimators = BP['n_estimators'], learning_rate = BP['learning_rate'], \\\n",
    "                                          max_depth = BP['max_depth'],  random_state = 42)\n",
    "    elif m == 'svr':\n",
    "        Model = SVR(C = BP['C'], kernel = BP['kernel'], gamma = BP['gamma'])\n",
    "        \n",
    "    return Model    \n",
    "            "
   ]
  },
  {
   "cell_type": "markdown",
   "id": "c1e2d24b",
   "metadata": {},
   "source": [
    "## Building HMtree and BPtree"
   ]
  },
  {
   "cell_type": "code",
   "execution_count": 15,
   "id": "cb17d51c",
   "metadata": {},
   "outputs": [],
   "source": [
    "ml_methods = ['mult', 'ridge', 'plsr', 'svr', 'cubist', 'gbrt']"
   ]
  },
  {
   "cell_type": "code",
   "execution_count": 16,
   "id": "6ab01feb",
   "metadata": {},
   "outputs": [],
   "source": [
    "def L1_y_pred (spectra, target, method, bp):\n",
    "    m = method\n",
    "    (r,c) = spectra.shape\n",
    "    \n",
    "    Y_test = target.copy()\n",
    "    Y_pred = target.copy()\n",
    "    #print('r:', r)\n",
    "    for i in range (0, r): \n",
    "        #print('i: ', i)\n",
    "        full_spec = spectra.copy()\n",
    "        X_train = full_spec.drop(full_spec.index[i], axis=0)\n",
    "        X_test = full_spec.iloc[[i],:].copy()\n",
    "        full_tar = target.copy()\n",
    "        y_train = full_tar.drop(full_tar.index[i], axis=0)\n",
    "        y_test = full_tar.iloc[i].copy()        \n",
    "        #---- Model Creation, fitting, and predictions--------\n",
    "        Model = create_core_model_on (m, bp)\n",
    "        Model.fit(X_train, y_train)\n",
    "        y_pred = Model.predict(X_test)\n",
    "        Y_pred.iloc[i] = y_pred\n",
    "        \n",
    "    return Y_pred      "
   ]
  },
  {
   "cell_type": "code",
   "execution_count": 17,
   "id": "719adf00",
   "metadata": {},
   "outputs": [],
   "source": [
    "def build_HMtree_on (method_name, target):\n",
    "    \n",
    "    tree ={}\n",
    "    \n",
    "    start = time.time()\n",
    "    m = method_name\n",
    "    t = target\n",
    "    \n",
    "    print('tree for: '+ m +' ------> running on: ' + t)\n",
    "    \n",
    "    for tp in prepare_target:\n",
    "        tree[tp] ={}        \n",
    "        for p in prepare_spec:\n",
    "            tree[tp][p] ={}            \n",
    "            \n",
    "            Y = tree[tp][p]\n",
    "                                           \n",
    "            #------ setting spec to appropriate (sampled) spectra----                \n",
    "            spec = find_spec(p, m)                \n",
    "                                        \n",
    "            #---- target selection and normalization ---\n",
    "            y = find_y(t)\n",
    "                                \n",
    "            #---- performing train-test split----------------------\n",
    "            X_train, X_test, y_train, y_test = train_test_split(spec, y, test_size= 0.3, random_state=42)\n",
    "                            \n",
    "            #----- hypertuning parameter, model creation, fitting and prediction ----                \n",
    "                \n",
    "            #bp = find_tuned_param_on (X_train, y_train, m)\n",
    "            bp = find_tuned_param_on (spec, y, m)\n",
    "                \n",
    "            Y['bp'] = bp\n",
    "            print('Method: '+ m + '---> Target: '+ t+ '----> SpecProc: ' +p+ ' ---> n_band: 11')\n",
    "            Model = create_core_model_on (m, bp)\n",
    "            Model.fit(X_train, y_train)\n",
    "                \n",
    "            y_pred = Model.predict(X_test)\n",
    "            yhat_pred = Model.predict(X_train)\n",
    "                    \n",
    "            #----- Data for Model accuracy and plotting -----------\n",
    "            Y['X_test'] = X_test                \n",
    "            Y['y_test'] = y_test\n",
    "            Y['y_testP'] = y_pred\n",
    "                \n",
    "            Y['X_train'] = X_train\n",
    "            Y['y_train'] = y_train\n",
    "            Y['y_trainP'] = yhat_pred\n",
    "                    \n",
    "            Y['iqrp_test'] = find_iqrp(y_pred, y_test)\n",
    "            Y['r2_test'] = find_r2(y_pred, y_test)\n",
    "            Y['rpd_test'] = find_rpd(y_pred, y_test)                 \n",
    "                \n",
    "            Y['r2_train'] = find_r2(yhat_pred, y_train)\n",
    "                \n",
    "            #------- L1 out prediction on test data -----------------\n",
    "            L1y_pred = L1_y_pred (spec, y, m, bp)\n",
    "            Y['L1y_testP'] = L1y_pred\n",
    "            Y['L1y_test'] = y\n",
    "             \n",
    "            \n",
    "            Y['L1iqrp_test'] = find_iqrp(L1y_pred, y)\n",
    "            Y['L1r2_test'] = find_r2(L1y_pred, y)\n",
    "            Y['L1rpd_test'] = find_rpd(L1y_pred, y) \n",
    "                \n",
    "                                                                         \n",
    "    end = time.time()                            \n",
    "    os.system('say \"your hyper tuned meta tree finished for one more method\"')                            \n",
    "\n",
    "    print('End time - Start time =', (end-start)) \n",
    "    \n",
    "    return tree.copy()"
   ]
  },
  {
   "cell_type": "code",
   "execution_count": 18,
   "id": "ad48e885",
   "metadata": {},
   "outputs": [],
   "source": [
    "def build_HMtree_for (method_name):\n",
    "    tree ={}\n",
    "    \n",
    "    start = time.time()\n",
    "    m = method_name\n",
    "    for t in target_names:\n",
    "        #print('tree for: '+ m +' ------> running on: ' + t)\n",
    "        tree[t] = build_HMtree_on (m, t)\n",
    "        \n",
    "    end = time.time()                            \n",
    "    os.system('say \"your meta tree finished for one more method\"')                            \n",
    "    print('End time - Start time =', (end-start))     \n",
    "    return tree.copy()"
   ]
  },
  {
   "cell_type": "code",
   "execution_count": 19,
   "id": "d5174de0",
   "metadata": {},
   "outputs": [],
   "source": [
    "def best_score_on (HMtree, target, method, scorer):\n",
    "    t=target\n",
    "    m= method\n",
    "    \n",
    "    best_score = -1\n",
    "    #best_n_comp = 'NA'\n",
    "    \n",
    "    \n",
    "    for tp in prepare_target:\n",
    "        for p in prepare_spec:\n",
    "            \n",
    "            Y = HMtree[m][t][tp][p]\n",
    "            #r2_train = Y['r2_train']\n",
    "            #r2_test = Y['r2_test']\n",
    "            #L1r2_test = Y['L1r2_test']\n",
    "                 \n",
    "                    \n",
    "            if scorer == 'iqrp':\n",
    "                cur_score = Y['iqrp_test']\n",
    "            elif scorer == 'L1iqrp':\n",
    "                cur_score = Y['L1iqrp_test']\n",
    "            elif scorer == 'r2':\n",
    "                cur_score = Y['r2_test'] \n",
    "            else:\n",
    "                cur_score = Y['L1r2_test']  \n",
    "                    \n",
    "            if cur_score > best_score:\n",
    "                best_score = cur_score\n",
    "                best_tp = tp\n",
    "                best_n = 13\n",
    "                best_p = p\n",
    "                            \n",
    "    param_list = [scorer, np.round(best_score,2), 'Spec:', best_p, 'bands: 11']                                 \n",
    "    return (param_list)          "
   ]
  },
  {
   "cell_type": "code",
   "execution_count": 20,
   "id": "ea137bb9",
   "metadata": {},
   "outputs": [],
   "source": [
    "def best_score_for (HMtree, target, scorer):\n",
    "    \n",
    "    for method in ml_methods:\n",
    "        param_list= best_score_on (HMtree, target, method, scorer)\n",
    "        print('For:'+target+'->', param_list, ':'+method)\n",
    "     \n",
    "    return"
   ]
  },
  {
   "cell_type": "code",
   "execution_count": 21,
   "id": "0202464c",
   "metadata": {},
   "outputs": [],
   "source": [
    "with open ('HMtreeVen.pickle', 'rb') as file:\n",
    "    HMtree = pickle.load(file)\n",
    " "
   ]
  },
  {
   "cell_type": "markdown",
   "id": "45f047e6",
   "metadata": {},
   "source": [
    "## Creating different branches of Mtree (for separate methods)"
   ]
  },
  {
   "cell_type": "code",
   "execution_count": 22,
   "id": "2e116cfa",
   "metadata": {},
   "outputs": [],
   "source": [
    "#HMtree = {}"
   ]
  },
  {
   "cell_type": "code",
   "execution_count": 23,
   "id": "788aa377",
   "metadata": {},
   "outputs": [
    {
     "name": "stdout",
     "output_type": "stream",
     "text": [
      "tree for: mult ------> running on: Sand\n",
      "Fitting 294 folds for each of 2 candidates, totalling 588 fits\n",
      "Method: mult---> Target: Sand----> SpecProc: none ---> n_band: 11\n",
      "Fitting 294 folds for each of 2 candidates, totalling 588 fits\n",
      "Method: mult---> Target: Sand----> SpecProc: fod2 ---> n_band: 11\n",
      "Fitting 294 folds for each of 2 candidates, totalling 588 fits\n",
      "Method: mult---> Target: Sand----> SpecProc: cr ---> n_band: 11\n",
      "Fitting 294 folds for each of 2 candidates, totalling 588 fits\n",
      "Method: mult---> Target: Sand----> SpecProc: log ---> n_band: 11\n",
      "End time - Start time = 47.41159772872925\n",
      "tree for: mult ------> running on: Silt\n",
      "Fitting 294 folds for each of 2 candidates, totalling 588 fits\n",
      "Method: mult---> Target: Silt----> SpecProc: none ---> n_band: 11\n",
      "Fitting 294 folds for each of 2 candidates, totalling 588 fits\n",
      "Method: mult---> Target: Silt----> SpecProc: fod2 ---> n_band: 11\n",
      "Fitting 294 folds for each of 2 candidates, totalling 588 fits\n",
      "Method: mult---> Target: Silt----> SpecProc: cr ---> n_band: 11\n",
      "Fitting 294 folds for each of 2 candidates, totalling 588 fits\n",
      "Method: mult---> Target: Silt----> SpecProc: log ---> n_band: 11\n",
      "End time - Start time = 179.04005193710327\n",
      "tree for: mult ------> running on: Clay\n",
      "Fitting 294 folds for each of 2 candidates, totalling 588 fits\n",
      "Method: mult---> Target: Clay----> SpecProc: none ---> n_band: 11\n",
      "Fitting 294 folds for each of 2 candidates, totalling 588 fits\n",
      "Method: mult---> Target: Clay----> SpecProc: fod2 ---> n_band: 11\n",
      "Fitting 294 folds for each of 2 candidates, totalling 588 fits\n",
      "Method: mult---> Target: Clay----> SpecProc: cr ---> n_band: 11\n",
      "Fitting 294 folds for each of 2 candidates, totalling 588 fits\n",
      "Method: mult---> Target: Clay----> SpecProc: log ---> n_band: 11\n",
      "End time - Start time = 5.849718809127808\n",
      "tree for: mult ------> running on: TOC\n",
      "Fitting 294 folds for each of 2 candidates, totalling 588 fits\n",
      "Method: mult---> Target: TOC----> SpecProc: none ---> n_band: 11\n",
      "Fitting 294 folds for each of 2 candidates, totalling 588 fits\n",
      "Method: mult---> Target: TOC----> SpecProc: fod2 ---> n_band: 11\n",
      "Fitting 294 folds for each of 2 candidates, totalling 588 fits\n",
      "Method: mult---> Target: TOC----> SpecProc: cr ---> n_band: 11\n",
      "Fitting 294 folds for each of 2 candidates, totalling 588 fits\n",
      "Method: mult---> Target: TOC----> SpecProc: log ---> n_band: 11\n",
      "End time - Start time = 5.614774227142334\n",
      "End time - Start time = 238.74484872817993\n",
      "tree for: plsr ------> running on: Sand\n",
      "Fitting 294 folds for each of 10 candidates, totalling 2940 fits\n",
      "Method: plsr---> Target: Sand----> SpecProc: none ---> n_band: 11\n",
      "Fitting 294 folds for each of 10 candidates, totalling 2940 fits\n",
      "Method: plsr---> Target: Sand----> SpecProc: fod2 ---> n_band: 11\n",
      "Fitting 294 folds for each of 10 candidates, totalling 2940 fits\n",
      "Method: plsr---> Target: Sand----> SpecProc: cr ---> n_band: 11\n",
      "Fitting 294 folds for each of 10 candidates, totalling 2940 fits\n",
      "Method: plsr---> Target: Sand----> SpecProc: log ---> n_band: 11\n",
      "End time - Start time = 20.70122718811035\n",
      "tree for: plsr ------> running on: Silt\n",
      "Fitting 294 folds for each of 10 candidates, totalling 2940 fits\n",
      "Method: plsr---> Target: Silt----> SpecProc: none ---> n_band: 11\n",
      "Fitting 294 folds for each of 10 candidates, totalling 2940 fits\n",
      "Method: plsr---> Target: Silt----> SpecProc: fod2 ---> n_band: 11\n",
      "Fitting 294 folds for each of 10 candidates, totalling 2940 fits\n",
      "Method: plsr---> Target: Silt----> SpecProc: cr ---> n_band: 11\n",
      "Fitting 294 folds for each of 10 candidates, totalling 2940 fits\n",
      "Method: plsr---> Target: Silt----> SpecProc: log ---> n_band: 11\n",
      "End time - Start time = 20.083052396774292\n",
      "tree for: plsr ------> running on: Clay\n",
      "Fitting 294 folds for each of 10 candidates, totalling 2940 fits\n",
      "Method: plsr---> Target: Clay----> SpecProc: none ---> n_band: 11\n",
      "Fitting 294 folds for each of 10 candidates, totalling 2940 fits\n",
      "Method: plsr---> Target: Clay----> SpecProc: fod2 ---> n_band: 11\n",
      "Fitting 294 folds for each of 10 candidates, totalling 2940 fits\n",
      "Method: plsr---> Target: Clay----> SpecProc: cr ---> n_band: 11\n",
      "Fitting 294 folds for each of 10 candidates, totalling 2940 fits\n",
      "Method: plsr---> Target: Clay----> SpecProc: log ---> n_band: 11\n",
      "End time - Start time = 25.271522521972656\n",
      "tree for: plsr ------> running on: TOC\n",
      "Fitting 294 folds for each of 10 candidates, totalling 2940 fits\n",
      "Method: plsr---> Target: TOC----> SpecProc: none ---> n_band: 11\n",
      "Fitting 294 folds for each of 10 candidates, totalling 2940 fits\n",
      "Method: plsr---> Target: TOC----> SpecProc: fod2 ---> n_band: 11\n",
      "Fitting 294 folds for each of 10 candidates, totalling 2940 fits\n",
      "Method: plsr---> Target: TOC----> SpecProc: cr ---> n_band: 11\n",
      "Fitting 294 folds for each of 10 candidates, totalling 2940 fits\n",
      "Method: plsr---> Target: TOC----> SpecProc: log ---> n_band: 11\n",
      "End time - Start time = 30.30154013633728\n",
      "End time - Start time = 96.63121509552002\n",
      "tree for: svr ------> running on: Sand\n",
      "Fitting 294 folds for each of 18 candidates, totalling 5292 fits\n",
      "Method: svr---> Target: Sand----> SpecProc: none ---> n_band: 11\n",
      "Fitting 294 folds for each of 18 candidates, totalling 5292 fits\n",
      "Method: svr---> Target: Sand----> SpecProc: fod2 ---> n_band: 11\n",
      "Fitting 294 folds for each of 18 candidates, totalling 5292 fits\n",
      "Method: svr---> Target: Sand----> SpecProc: cr ---> n_band: 11\n",
      "Fitting 294 folds for each of 18 candidates, totalling 5292 fits\n",
      "Method: svr---> Target: Sand----> SpecProc: log ---> n_band: 11\n",
      "End time - Start time = 110.42170190811157\n",
      "tree for: svr ------> running on: Silt\n",
      "Fitting 294 folds for each of 18 candidates, totalling 5292 fits\n",
      "Method: svr---> Target: Silt----> SpecProc: none ---> n_band: 11\n",
      "Fitting 294 folds for each of 18 candidates, totalling 5292 fits\n",
      "Method: svr---> Target: Silt----> SpecProc: fod2 ---> n_band: 11\n",
      "Fitting 294 folds for each of 18 candidates, totalling 5292 fits\n",
      "Method: svr---> Target: Silt----> SpecProc: cr ---> n_band: 11\n",
      "Fitting 294 folds for each of 18 candidates, totalling 5292 fits\n",
      "Method: svr---> Target: Silt----> SpecProc: log ---> n_band: 11\n",
      "End time - Start time = 107.04592728614807\n",
      "tree for: svr ------> running on: Clay\n",
      "Fitting 294 folds for each of 18 candidates, totalling 5292 fits\n",
      "Method: svr---> Target: Clay----> SpecProc: none ---> n_band: 11\n",
      "Fitting 294 folds for each of 18 candidates, totalling 5292 fits\n",
      "Method: svr---> Target: Clay----> SpecProc: fod2 ---> n_band: 11\n",
      "Fitting 294 folds for each of 18 candidates, totalling 5292 fits\n",
      "Method: svr---> Target: Clay----> SpecProc: cr ---> n_band: 11\n",
      "Fitting 294 folds for each of 18 candidates, totalling 5292 fits\n",
      "Method: svr---> Target: Clay----> SpecProc: log ---> n_band: 11\n",
      "End time - Start time = 108.3399088382721\n",
      "tree for: svr ------> running on: TOC\n",
      "Fitting 294 folds for each of 18 candidates, totalling 5292 fits\n",
      "Method: svr---> Target: TOC----> SpecProc: none ---> n_band: 11\n",
      "Fitting 294 folds for each of 18 candidates, totalling 5292 fits\n",
      "Method: svr---> Target: TOC----> SpecProc: fod2 ---> n_band: 11\n",
      "Fitting 294 folds for each of 18 candidates, totalling 5292 fits\n",
      "Method: svr---> Target: TOC----> SpecProc: cr ---> n_band: 11\n",
      "Fitting 294 folds for each of 18 candidates, totalling 5292 fits\n",
      "Method: svr---> Target: TOC----> SpecProc: log ---> n_band: 11\n",
      "End time - Start time = 73.25527381896973\n",
      "End time - Start time = 399.8913621902466\n",
      "tree for: ridge ------> running on: Sand\n",
      "Fitting 294 folds for each of 14 candidates, totalling 4116 fits\n",
      "Method: ridge---> Target: Sand----> SpecProc: none ---> n_band: 11\n",
      "Fitting 294 folds for each of 14 candidates, totalling 4116 fits\n",
      "Method: ridge---> Target: Sand----> SpecProc: fod2 ---> n_band: 11\n",
      "Fitting 294 folds for each of 14 candidates, totalling 4116 fits\n",
      "Method: ridge---> Target: Sand----> SpecProc: cr ---> n_band: 11\n",
      "Fitting 294 folds for each of 14 candidates, totalling 4116 fits\n",
      "Method: ridge---> Target: Sand----> SpecProc: log ---> n_band: 11\n",
      "End time - Start time = 92.81158566474915\n",
      "tree for: ridge ------> running on: Silt\n",
      "Fitting 294 folds for each of 14 candidates, totalling 4116 fits\n",
      "Method: ridge---> Target: Silt----> SpecProc: none ---> n_band: 11\n",
      "Fitting 294 folds for each of 14 candidates, totalling 4116 fits\n",
      "Method: ridge---> Target: Silt----> SpecProc: fod2 ---> n_band: 11\n"
     ]
    },
    {
     "name": "stdout",
     "output_type": "stream",
     "text": [
      "Fitting 294 folds for each of 14 candidates, totalling 4116 fits\n",
      "Method: ridge---> Target: Silt----> SpecProc: cr ---> n_band: 11\n",
      "Fitting 294 folds for each of 14 candidates, totalling 4116 fits\n",
      "Method: ridge---> Target: Silt----> SpecProc: log ---> n_band: 11\n",
      "End time - Start time = 92.25027394294739\n",
      "tree for: ridge ------> running on: Clay\n",
      "Fitting 294 folds for each of 14 candidates, totalling 4116 fits\n",
      "Method: ridge---> Target: Clay----> SpecProc: none ---> n_band: 11\n",
      "Fitting 294 folds for each of 14 candidates, totalling 4116 fits\n",
      "Method: ridge---> Target: Clay----> SpecProc: fod2 ---> n_band: 11\n",
      "Fitting 294 folds for each of 14 candidates, totalling 4116 fits\n",
      "Method: ridge---> Target: Clay----> SpecProc: cr ---> n_band: 11\n",
      "Fitting 294 folds for each of 14 candidates, totalling 4116 fits\n",
      "Method: ridge---> Target: Clay----> SpecProc: log ---> n_band: 11\n",
      "End time - Start time = 94.77086305618286\n",
      "tree for: ridge ------> running on: TOC\n",
      "Fitting 294 folds for each of 14 candidates, totalling 4116 fits\n",
      "Method: ridge---> Target: TOC----> SpecProc: none ---> n_band: 11\n",
      "Fitting 294 folds for each of 14 candidates, totalling 4116 fits\n",
      "Method: ridge---> Target: TOC----> SpecProc: fod2 ---> n_band: 11\n",
      "Fitting 294 folds for each of 14 candidates, totalling 4116 fits\n",
      "Method: ridge---> Target: TOC----> SpecProc: cr ---> n_band: 11\n",
      "Fitting 294 folds for each of 14 candidates, totalling 4116 fits\n",
      "Method: ridge---> Target: TOC----> SpecProc: log ---> n_band: 11\n",
      "End time - Start time = 39.4400200843811\n",
      "End time - Start time = 320.10453844070435\n",
      "tree for: cubist ------> running on: Sand\n",
      "Fitting 294 folds for each of 20 candidates, totalling 5880 fits\n",
      "Method: cubist---> Target: Sand----> SpecProc: none ---> n_band: 11\n",
      "Fitting 294 folds for each of 20 candidates, totalling 5880 fits\n",
      "Method: cubist---> Target: Sand----> SpecProc: fod2 ---> n_band: 11\n",
      "Fitting 294 folds for each of 20 candidates, totalling 5880 fits\n",
      "Method: cubist---> Target: Sand----> SpecProc: cr ---> n_band: 11\n",
      "Fitting 294 folds for each of 20 candidates, totalling 5880 fits\n",
      "Method: cubist---> Target: Sand----> SpecProc: log ---> n_band: 11\n",
      "End time - Start time = 1467.8609457015991\n",
      "tree for: cubist ------> running on: Silt\n",
      "Fitting 294 folds for each of 20 candidates, totalling 5880 fits\n"
     ]
    },
    {
     "name": "stderr",
     "output_type": "stream",
     "text": [
      "C:\\Users\\abhis\\anaconda3\\lib\\site-packages\\joblib\\externals\\loky\\process_executor.py:700: UserWarning: A worker stopped while some jobs were given to the executor. This can be caused by a too short worker timeout or by a memory leak.\n",
      "  warnings.warn(\n"
     ]
    },
    {
     "name": "stdout",
     "output_type": "stream",
     "text": [
      "Method: cubist---> Target: Silt----> SpecProc: none ---> n_band: 11\n",
      "Fitting 294 folds for each of 20 candidates, totalling 5880 fits\n",
      "Method: cubist---> Target: Silt----> SpecProc: fod2 ---> n_band: 11\n",
      "Fitting 294 folds for each of 20 candidates, totalling 5880 fits\n",
      "Method: cubist---> Target: Silt----> SpecProc: cr ---> n_band: 11\n",
      "Fitting 294 folds for each of 20 candidates, totalling 5880 fits\n",
      "Method: cubist---> Target: Silt----> SpecProc: log ---> n_band: 11\n",
      "End time - Start time = 1423.2792780399323\n",
      "tree for: cubist ------> running on: Clay\n",
      "Fitting 294 folds for each of 20 candidates, totalling 5880 fits\n"
     ]
    },
    {
     "name": "stderr",
     "output_type": "stream",
     "text": [
      "C:\\Users\\abhis\\anaconda3\\lib\\site-packages\\joblib\\externals\\loky\\process_executor.py:700: UserWarning: A worker stopped while some jobs were given to the executor. This can be caused by a too short worker timeout or by a memory leak.\n",
      "  warnings.warn(\n"
     ]
    },
    {
     "name": "stdout",
     "output_type": "stream",
     "text": [
      "Method: cubist---> Target: Clay----> SpecProc: none ---> n_band: 11\n",
      "Fitting 294 folds for each of 20 candidates, totalling 5880 fits\n"
     ]
    },
    {
     "name": "stderr",
     "output_type": "stream",
     "text": [
      "C:\\Users\\abhis\\anaconda3\\lib\\site-packages\\joblib\\externals\\loky\\process_executor.py:700: UserWarning: A worker stopped while some jobs were given to the executor. This can be caused by a too short worker timeout or by a memory leak.\n",
      "  warnings.warn(\n"
     ]
    },
    {
     "name": "stdout",
     "output_type": "stream",
     "text": [
      "Method: cubist---> Target: Clay----> SpecProc: fod2 ---> n_band: 11\n",
      "Fitting 294 folds for each of 20 candidates, totalling 5880 fits\n",
      "Method: cubist---> Target: Clay----> SpecProc: cr ---> n_band: 11\n",
      "Fitting 294 folds for each of 20 candidates, totalling 5880 fits\n",
      "Method: cubist---> Target: Clay----> SpecProc: log ---> n_band: 11\n",
      "End time - Start time = 4339.641870737076\n",
      "tree for: cubist ------> running on: TOC\n",
      "Fitting 294 folds for each of 20 candidates, totalling 5880 fits\n",
      "Method: cubist---> Target: TOC----> SpecProc: none ---> n_band: 11\n",
      "Fitting 294 folds for each of 20 candidates, totalling 5880 fits\n",
      "Method: cubist---> Target: TOC----> SpecProc: fod2 ---> n_band: 11\n",
      "Fitting 294 folds for each of 20 candidates, totalling 5880 fits\n",
      "Method: cubist---> Target: TOC----> SpecProc: cr ---> n_band: 11\n",
      "Fitting 294 folds for each of 20 candidates, totalling 5880 fits\n"
     ]
    },
    {
     "name": "stderr",
     "output_type": "stream",
     "text": [
      "C:\\Users\\abhis\\anaconda3\\lib\\site-packages\\joblib\\externals\\loky\\process_executor.py:700: UserWarning: A worker stopped while some jobs were given to the executor. This can be caused by a too short worker timeout or by a memory leak.\n",
      "  warnings.warn(\n"
     ]
    },
    {
     "name": "stdout",
     "output_type": "stream",
     "text": [
      "Method: cubist---> Target: TOC----> SpecProc: log ---> n_band: 11\n",
      "End time - Start time = 4269.585121631622\n",
      "End time - Start time = 11501.701481342316\n",
      "tree for: gbrt ------> running on: Sand\n",
      "Fitting 294 folds for each of 18 candidates, totalling 5292 fits\n",
      "Method: gbrt---> Target: Sand----> SpecProc: none ---> n_band: 11\n",
      "Fitting 294 folds for each of 18 candidates, totalling 5292 fits\n",
      "Method: gbrt---> Target: Sand----> SpecProc: fod2 ---> n_band: 11\n",
      "Fitting 294 folds for each of 18 candidates, totalling 5292 fits\n",
      "Method: gbrt---> Target: Sand----> SpecProc: cr ---> n_band: 11\n",
      "Fitting 294 folds for each of 18 candidates, totalling 5292 fits\n",
      "Method: gbrt---> Target: Sand----> SpecProc: log ---> n_band: 11\n",
      "End time - Start time = 498.83856439590454\n",
      "tree for: gbrt ------> running on: Silt\n",
      "Fitting 294 folds for each of 18 candidates, totalling 5292 fits\n",
      "Method: gbrt---> Target: Silt----> SpecProc: none ---> n_band: 11\n",
      "Fitting 294 folds for each of 18 candidates, totalling 5292 fits\n",
      "Method: gbrt---> Target: Silt----> SpecProc: fod2 ---> n_band: 11\n",
      "Fitting 294 folds for each of 18 candidates, totalling 5292 fits\n",
      "Method: gbrt---> Target: Silt----> SpecProc: cr ---> n_band: 11\n",
      "Fitting 294 folds for each of 18 candidates, totalling 5292 fits\n",
      "Method: gbrt---> Target: Silt----> SpecProc: log ---> n_band: 11\n",
      "End time - Start time = 489.3745801448822\n",
      "tree for: gbrt ------> running on: Clay\n",
      "Fitting 294 folds for each of 18 candidates, totalling 5292 fits\n",
      "Method: gbrt---> Target: Clay----> SpecProc: none ---> n_band: 11\n",
      "Fitting 294 folds for each of 18 candidates, totalling 5292 fits\n",
      "Method: gbrt---> Target: Clay----> SpecProc: fod2 ---> n_band: 11\n",
      "Fitting 294 folds for each of 18 candidates, totalling 5292 fits\n",
      "Method: gbrt---> Target: Clay----> SpecProc: cr ---> n_band: 11\n",
      "Fitting 294 folds for each of 18 candidates, totalling 5292 fits\n",
      "Method: gbrt---> Target: Clay----> SpecProc: log ---> n_band: 11\n",
      "End time - Start time = 273.1145570278168\n",
      "tree for: gbrt ------> running on: TOC\n",
      "Fitting 294 folds for each of 18 candidates, totalling 5292 fits\n",
      "Method: gbrt---> Target: TOC----> SpecProc: none ---> n_band: 11\n",
      "Fitting 294 folds for each of 18 candidates, totalling 5292 fits\n",
      "Method: gbrt---> Target: TOC----> SpecProc: fod2 ---> n_band: 11\n",
      "Fitting 294 folds for each of 18 candidates, totalling 5292 fits\n",
      "Method: gbrt---> Target: TOC----> SpecProc: cr ---> n_band: 11\n",
      "Fitting 294 folds for each of 18 candidates, totalling 5292 fits\n",
      "Method: gbrt---> Target: TOC----> SpecProc: log ---> n_band: 11\n",
      "End time - Start time = 279.7229435443878\n",
      "End time - Start time = 1541.454226732254\n"
     ]
    }
   ],
   "source": [
    "# HMtree['mult'] = build_HMtree_for('mult')\n",
    "# HMtree['plsr'] = build_HMtree_for('plsr')\n",
    "# HMtree['svr'] = build_HMtree_for('svr')\n",
    "# HMtree['ridge'] = build_HMtree_for('ridge')\n",
    "# HMtree['cubist'] = build_HMtree_for('cubist')\n",
    "# HMtree['gbrt'] = build_HMtree_for('gbrt')"
   ]
  },
  {
   "cell_type": "code",
   "execution_count": 24,
   "id": "1c646a73",
   "metadata": {},
   "outputs": [],
   "source": [
    "with open ('HMtreeVen.pickle', 'wb') as file:\n",
    "    pickle.dump(HMtree, file)\n",
    "        "
   ]
  },
  {
   "cell_type": "code",
   "execution_count": 25,
   "id": "8dd90a0e",
   "metadata": {},
   "outputs": [],
   "source": [
    "#Plotting Model Accuracy (ipywidgets)\n",
    "def plot_model_acc (method, target, spec_preprocessing):\n",
    "    \n",
    "    m = method\n",
    "    t = target\n",
    "    \n",
    "    i = target_names.index(target)    \n",
    "    \n",
    "    p = spec_preprocessing\n",
    "    #n = n_bands\n",
    "    tp = 'none'\n",
    "    \n",
    "    Y = HMtree[m][t][tp][p]\n",
    "    \n",
    "    y_test = Y['y_test']\n",
    "    y_pred = Y['y_testP']\n",
    "    L1y_pred = Y['L1y_testP']\n",
    "    L1y_test = Y['L1y_test']\n",
    "    \n",
    "\n",
    "    \n",
    "    if m == 'plsr':\n",
    "        y_pred = y_pred[:,0]\n",
    "        #L1y_pred = L1y_pred[:,0]\n",
    "\n",
    "    \n",
    "    iqrp_test = Y['iqrp_test']\n",
    "    r2_test = Y['r2_test']\n",
    "    rpd_test = Y['rpd_test']\n",
    "    \n",
    "    L1iqrp_test = Y['L1iqrp_test']\n",
    "    L1r2_test = Y['L1r2_test']\n",
    "    L1rpd_test = Y['L1rpd_test']\n",
    "    \n",
    "    y_tp = pd.DataFrame({'actual':y_test.values, 'predic': y_pred})\n",
    "    z = np.polyfit(y_test, y_pred, 1)\n",
    "    \n",
    "    L1y_tp = pd.DataFrame({'actual':L1y_test.values, 'predic': L1y_pred})\n",
    "    L1z = np.polyfit(L1y_test, L1y_pred, 1)\n",
    "    \n",
    "    fig, axes = plt.subplots(2,2, figsize=(18,16))\n",
    "    \n",
    "    #with plt.style.context(('ggplot')): ---- PLOT of test-prediction --------------------------------------\n",
    "    y_tp.plot.scatter(ax= axes[0][0], x=\"actual\", y=\"predic\", alpha=0.8, color = clr[i], edgecolors='k')\n",
    "    axes[0][0].plot(y_test, np.polyval(z, y_test),  c='blue', linewidth=1)\n",
    "    axes[0][0].plot(y_test, y_test, color='green', linewidth=1)\n",
    "    axes[0][0].tick_params(axis='both', labelsize=10)\n",
    "    axes[0][0].text(0.05, 0.95, target_names[i]+' (Train-Test Score)', transform=axes[0][0].transAxes, fontsize = 20, color = clr[i])\n",
    "    axes[0][0].text(0.05, 0.90, 'IQRP ={:.2f}'.format(iqrp_test), transform=axes[0][0].transAxes, fontsize = 16)\n",
    "    axes[0][0].text(0.05, 0.85, 'RPD ={:.2f}'.format(rpd_test), transform=axes[0][0].transAxes, fontsize = 16)\n",
    "    axes[0][0].text(0.05, 0.80, 'R2 ={:.2f}'.format(np.round(r2_test,3)), transform=axes[0][0].transAxes, fontsize = 16)\n",
    "    axes[0][0].text(0.95, 0.15, 'Method: '+method, transform=axes[0][0].transAxes, \n",
    "                    horizontalalignment='right', fontsize = 20)\n",
    "    \n",
    "    L1y_tp.plot.scatter(ax= axes[0][1], x=\"actual\", y=\"predic\", alpha=0.8, color = clr[i], edgecolors='k')\n",
    "    axes[0][1].plot(L1y_test, np.polyval(L1z, L1y_test),  c='blue', linewidth=1)\n",
    "    axes[0][1].plot(L1y_test, L1y_test, color='green', linewidth=1)\n",
    "    axes[0][1].tick_params(axis='both', labelsize=10)\n",
    "    axes[0][1].text(0.05, 0.95, target_names[i]+' (L1-out Score)', transform=axes[0][1].transAxes, fontsize = 20, color = clr[i])\n",
    "    axes[0][1].text(0.05, 0.90, 'IQRP ={:.2f}'.format(L1iqrp_test), transform=axes[0][1].transAxes, fontsize = 16)\n",
    "    axes[0][1].text(0.05, 0.85, 'RPD ={:.2f}'.format(L1rpd_test), transform=axes[0][1].transAxes, fontsize = 16)\n",
    "    axes[0][1].text(0.05, 0.80, 'R2 ={:.2f}'.format(np.round(L1r2_test,3)), transform=axes[0][1].transAxes, fontsize = 16)\n",
    "    axes[0][1].text(0.95, 0.15, 'Method: '+method, transform=axes[0][1].transAxes, \n",
    "                    horizontalalignment='right', fontsize = 20)\n",
    "\n",
    "    \n",
    "     #------------------------ Ploting R2 Vs N_bands-----------------------------------\n",
    "    \n",
    "    #--- data for creating n_bands vs r2 scores plot -------------------------------\n",
    "    \n",
    "#     pY = HMtree[m][t]['none'][p]        \n",
    "#     X = nbands_sampling\n",
    "    \n",
    "#     Yr2 = []\n",
    "#     L1Yr2 = []\n",
    "    \n",
    "#     for j in X:\n",
    "#         Yr2.append(pY[j]['r2_test'])\n",
    "#         L1Yr2.append(pY[j]['L1r2_test'])  \n",
    "   \n",
    "#     j = 0\n",
    "#     while j < len(Yr2): \n",
    "#         if Yr2[j] <= 0:\n",
    "#             Yr2[j] = 0\n",
    "#         if L1Yr2[j] <= 0:\n",
    "#             L1Yr2[j] = 0\n",
    "#         j = j + 1\n",
    " \n",
    "    #------------------------------ STEM PLOT ---- for accuracy Vs n_bands ---------------------------------- \n",
    "    \n",
    "#     axes[1][0].stem(X,Yr2)\n",
    "#     axes[1][0].tick_params(axis='both', labelsize=10)\n",
    "#     axes[1][0].text(0.00, 1.01,  target_names[i], transform=axes[1][0].transAxes,fontsize = 20, color = clr[i])\n",
    "#     axes[1][0].text(0.99, 1.01, 'Spec_prep: '+ p, transform=axes[1][0].transAxes, horizontalalignment='right', fontsize = 16)\n",
    "#     axes[1][0].text(0.17, 1.01, '(train-test)', transform=axes[1][0].transAxes, horizontalalignment='left', fontsize = 16)\n",
    "#     axes[1][0].text(0.60, -0.1, 'n_bands', transform=axes[1][0].transAxes, horizontalalignment='right', fontsize = 16)\n",
    "#     axes[1][0].text(-0.1, 0.5, 'R2 Scores', horizontalalignment='left', verticalalignment='center', \\\n",
    "#                 rotation='vertical', transform=axes[1][0].transAxes, fontsize = 16)\n",
    "    \n",
    "    \n",
    "#     axes[1][1].stem(X,L1Yr2)\n",
    "#     axes[1][1].tick_params(axis='both', labelsize=10)\n",
    "#     axes[1][1].text(0.00, 1.01,  target_names[i], transform=axes[1][1].transAxes,fontsize = 20, color = clr[i])\n",
    "#     axes[1][1].text(0.99, 1.01, 'Spec_prep: '+ p, transform=axes[1][1].transAxes, horizontalalignment='right', fontsize = 16)\n",
    "#     axes[1][1].text(0.17, 1.01, '(L1-out)', transform=axes[1][1].transAxes, horizontalalignment='left', fontsize = 16)\n",
    "#     axes[1][1].text(0.60, -0.1, 'n_bands', transform=axes[1][1].transAxes, horizontalalignment='right', fontsize = 16)\n",
    "#     axes[1][1].text(-0.1, 0.5, 'R2 Scores', horizontalalignment='left', verticalalignment='center', \\\n",
    "#                 rotation='vertical', transform=axes[1][1].transAxes, fontsize = 16)\n",
    "        \n",
    "   \n",
    "    return    "
   ]
  },
  {
   "cell_type": "code",
   "execution_count": 26,
   "id": "a65f2074",
   "metadata": {},
   "outputs": [],
   "source": [
    "#ml_methods = ['mult', 'ridge', 'plsr', 'svr', 'cubist', 'gbrt']\n",
    "\n",
    "ml_methods = ['mult', 'plsr', 'svr', 'ridge', 'cubist','gbrt']"
   ]
  },
  {
   "cell_type": "code",
   "execution_count": 27,
   "id": "47386a6e",
   "metadata": {},
   "outputs": [],
   "source": [
    "#best_score_for (HMtree, 'Sand', 'r2')"
   ]
  },
  {
   "cell_type": "code",
   "execution_count": 28,
   "id": "972bb881",
   "metadata": {},
   "outputs": [
    {
     "name": "stdout",
     "output_type": "stream",
     "text": [
      "For:Sand-> ['L1r2', 0.22, 'Spec:', 'none', 'bands: 11'] :mult\n",
      "For:Sand-> ['L1r2', 0.25, 'Spec:', 'none', 'bands: 11'] :plsr\n",
      "For:Sand-> ['L1r2', 0.17, 'Spec:', 'log', 'bands: 11'] :svr\n",
      "For:Sand-> ['L1r2', -0.14, 'Spec:', 'fod2', 'bands: 11'] :ridge\n",
      "For:Sand-> ['L1r2', 0.31, 'Spec:', 'none', 'bands: 11'] :cubist\n",
      "For:Sand-> ['L1r2', 0.32, 'Spec:', 'fod2', 'bands: 11'] :gbrt\n"
     ]
    }
   ],
   "source": [
    "best_score_for (HMtree, 'Sand', 'L1r2')"
   ]
  },
  {
   "cell_type": "code",
   "execution_count": 29,
   "id": "0f3cf3cb",
   "metadata": {},
   "outputs": [],
   "source": [
    "#best_score_for (HMtree, 'Silt', 'r2')"
   ]
  },
  {
   "cell_type": "code",
   "execution_count": 30,
   "id": "47c850cd",
   "metadata": {},
   "outputs": [
    {
     "name": "stdout",
     "output_type": "stream",
     "text": [
      "For:Silt-> ['L1r2', 0.16, 'Spec:', 'fod2', 'bands: 11'] :mult\n",
      "For:Silt-> ['L1r2', 0.19, 'Spec:', 'none', 'bands: 11'] :plsr\n",
      "For:Silt-> ['L1r2', 0.09, 'Spec:', 'log', 'bands: 11'] :svr\n",
      "For:Silt-> ['L1r2', 0.18, 'Spec:', 'log', 'bands: 11'] :ridge\n",
      "For:Silt-> ['L1r2', 0.21, 'Spec:', 'fod2', 'bands: 11'] :cubist\n",
      "For:Silt-> ['L1r2', 0.06, 'Spec:', 'log', 'bands: 11'] :gbrt\n"
     ]
    }
   ],
   "source": [
    "best_score_for (HMtree, 'Silt', 'L1r2')"
   ]
  },
  {
   "cell_type": "code",
   "execution_count": 31,
   "id": "96795286",
   "metadata": {},
   "outputs": [],
   "source": [
    "#best_score_for (HMtree, 'Clay', 'r2')"
   ]
  },
  {
   "cell_type": "code",
   "execution_count": 32,
   "id": "8ef3ceab",
   "metadata": {},
   "outputs": [
    {
     "name": "stdout",
     "output_type": "stream",
     "text": [
      "For:Clay-> ['L1r2', 0.25, 'Spec:', 'log', 'bands: 11'] :mult\n",
      "For:Clay-> ['L1r2', 0.25, 'Spec:', 'log', 'bands: 11'] :plsr\n",
      "For:Clay-> ['L1r2', -0.08, 'Spec:', 'log', 'bands: 11'] :svr\n",
      "For:Clay-> ['L1r2', 0.26, 'Spec:', 'log', 'bands: 11'] :ridge\n",
      "For:Clay-> ['L1r2', 0.25, 'Spec:', 'log', 'bands: 11'] :cubist\n",
      "For:Clay-> ['L1r2', 0.22, 'Spec:', 'fod2', 'bands: 11'] :gbrt\n"
     ]
    }
   ],
   "source": [
    "best_score_for (HMtree, 'Clay', 'L1r2')"
   ]
  },
  {
   "cell_type": "code",
   "execution_count": 33,
   "id": "77ec7927",
   "metadata": {},
   "outputs": [],
   "source": [
    "#best_score_for (HMtree, 'TOC', 'r2')"
   ]
  },
  {
   "cell_type": "code",
   "execution_count": 34,
   "id": "d694abb7",
   "metadata": {},
   "outputs": [
    {
     "name": "stdout",
     "output_type": "stream",
     "text": [
      "For:TOC-> ['L1r2', 0.31, 'Spec:', 'fod2', 'bands: 11'] :mult\n",
      "For:TOC-> ['L1r2', 0.38, 'Spec:', 'log', 'bands: 11'] :plsr\n",
      "For:TOC-> ['L1r2', 0.42, 'Spec:', 'log', 'bands: 11'] :svr\n",
      "For:TOC-> ['L1r2', 0.38, 'Spec:', 'log', 'bands: 11'] :ridge\n",
      "For:TOC-> ['L1r2', 0.35, 'Spec:', 'fod2', 'bands: 11'] :cubist\n",
      "For:TOC-> ['L1r2', 0.25, 'Spec:', 'fod2', 'bands: 11'] :gbrt\n"
     ]
    }
   ],
   "source": [
    "best_score_for (HMtree, 'TOC', 'L1r2')"
   ]
  },
  {
   "cell_type": "markdown",
   "id": "fe74d829",
   "metadata": {},
   "source": [
    "## Plotting Model Accuracy (ipywidgets)"
   ]
  },
  {
   "cell_type": "code",
   "execution_count": 35,
   "id": "2a6a7a17",
   "metadata": {},
   "outputs": [
    {
     "data": {
      "application/vnd.jupyter.widget-view+json": {
       "model_id": "a7b5f63b82ee48bdbe65aed9ac3feec5",
       "version_major": 2,
       "version_minor": 0
      },
      "text/plain": [
       "interactive(children=(Dropdown(description='method', options=('mult', 'plsr', 'svr', 'ridge', 'cubist', 'gbrt'…"
      ]
     },
     "metadata": {},
     "output_type": "display_data"
    },
    {
     "data": {
      "text/plain": [
       "<function __main__.plot_model_acc(method, target, spec_preprocessing)>"
      ]
     },
     "execution_count": 35,
     "metadata": {},
     "output_type": "execute_result"
    }
   ],
   "source": [
    "ipywidgets.interact( plot_model_acc, target = target_names, method = ml_methods, \\\n",
    "                    spec_preprocessing = prepare_spec,  \\\n",
    "                    target_preprocessing = prepare_target)"
   ]
  },
  {
   "cell_type": "code",
   "execution_count": 36,
   "id": "7f8c3328",
   "metadata": {},
   "outputs": [],
   "source": [
    "with open ('HMtree.pickle', 'wb') as file:\n",
    "    pickle.dump(HMtree, file)"
   ]
  },
  {
   "cell_type": "code",
   "execution_count": 37,
   "id": "2f9b1ae4",
   "metadata": {},
   "outputs": [],
   "source": [
    "# MTable = {'Input': ['Hyperspectral', 'Sentinal', 'Venus'], \n",
    "#           'Target': ['Sand', 'Sand', 'Sand'], \n",
    "#           'plsr': ['R2:0.57  bands:13','R2:0.57 bands:13','R2:0.57  bands:13'],\n",
    "#           'cubist': ['R2:0.57  bands:13','R2:0.57 bands:13','R2:0.57  bands:13'],\n",
    "#           'gbrt': ['R2:0.57  bands:13','R2:0.57 bands:13','R2:0.57  bands:13'],\n",
    "#           'svr': ['R2:0.57  bands:13','R2:0.57 bands:13','R2:0.57  bands:13'],\n",
    "#           'kridge': ['R2:0.57  bands:13','R2:0.57 bands:13','R2:0.57  bands:13']}\n",
    "          "
   ]
  },
  {
   "cell_type": "code",
   "execution_count": 38,
   "id": "8d542ac6",
   "metadata": {},
   "outputs": [],
   "source": [
    "#MTable = pd.DataFrame.from_dict(MTable)\n"
   ]
  },
  {
   "cell_type": "code",
   "execution_count": 39,
   "id": "de5d7398",
   "metadata": {},
   "outputs": [],
   "source": [
    "#pd.set_option('display.colheader_justify', 'center')"
   ]
  },
  {
   "cell_type": "code",
   "execution_count": 40,
   "id": "852125d9",
   "metadata": {},
   "outputs": [],
   "source": [
    "#MTable"
   ]
  },
  {
   "cell_type": "code",
   "execution_count": null,
   "id": "72d5ff2c",
   "metadata": {},
   "outputs": [],
   "source": []
  }
 ],
 "metadata": {
  "kernelspec": {
   "display_name": "Python 3 (ipykernel)",
   "language": "python",
   "name": "python3"
  },
  "language_info": {
   "codemirror_mode": {
    "name": "ipython",
    "version": 3
   },
   "file_extension": ".py",
   "mimetype": "text/x-python",
   "name": "python",
   "nbconvert_exporter": "python",
   "pygments_lexer": "ipython3",
   "version": "3.9.13"
  }
 },
 "nbformat": 4,
 "nbformat_minor": 5
}
