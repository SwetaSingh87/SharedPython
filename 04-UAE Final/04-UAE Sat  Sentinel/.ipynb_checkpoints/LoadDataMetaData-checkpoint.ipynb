{
 "cells": [
  {
   "cell_type": "markdown",
   "id": "ed141a88",
   "metadata": {},
   "source": [
    "## Importing Header and SoilPrep Files"
   ]
  },
  {
   "cell_type": "code",
   "execution_count": 1,
   "id": "2bee2fa9",
   "metadata": {},
   "outputs": [
    {
     "name": "stdout",
     "output_type": "stream",
     "text": [
      "importing Jupyter notebook from Header.ipynb\n",
      "importing Jupyter notebook from SoilPrep.ipynb\n"
     ]
    }
   ],
   "source": [
    "import import_ipynb \n",
    "from Header import *\n",
    "\n",
    "import import_ipynb\n",
    "from SoilPrep import *"
   ]
  },
  {
   "cell_type": "markdown",
   "id": "aaf5057d",
   "metadata": {},
   "source": [
    "## Loading Data, MetaData, and Mtree"
   ]
  },
  {
   "cell_type": "code",
   "execution_count": 2,
   "id": "5b8e9442",
   "metadata": {},
   "outputs": [],
   "source": [
    "with open ('meta_data.pickle', 'rb') as file:\n",
    "    MetaData = pickle.load(file)\n",
    "\n",
    "sg_filters = MetaData['sg_filters']\n",
    "window_lengths = MetaData['window_lengths']\n",
    "prepare_spec = MetaData['prepare_spec']\n",
    "nbands_sampling = MetaData['nbands_sampling']\n",
    "target_names = MetaData['target_names']\n",
    "prepare_target = MetaData['prepare_target']\n",
    "ml_methods = MetaData['ml_methods']\n",
    "clr = MetaData['clr']\n",
    "\n",
    "\n",
    "with open ('data.pickle', 'rb') as file:\n",
    "    Data = pickle.load(file)\n",
    "\n",
    "spectra = Data['spectra']\n",
    "T = Data['T']\n",
    "# spec1 = Data['spec1'] \n",
    "# spec2 = Data['spec2']\n",
    "# smth_spec = Data['smth_spec']\n",
    "# fod_spec = Data['fod_spec']\n",
    "# cr_spec10 = Data['cr_spec10']\n",
    "# log_spec10 = Data['log_spec10']\n",
    "#sampled_spec = Data['sampled_spec']\n",
    "sampled_cr10 = Data['sampled_cr10']\n",
    "sampled_log10 = Data['sampled_log10']\n",
    "fod_sampled10= Data['fod_sampled10']\n",
    "fod_cr10 = Data['fod_cr10']\n",
    "fod_log10 = Data['fod_log10']"
   ]
  },
  {
   "cell_type": "code",
   "execution_count": 3,
   "id": "6a0a1931",
   "metadata": {},
   "outputs": [
    {
     "data": {
      "text/plain": [
       "['mult', 'cubist', 'svr', 'ridge', 'plsr', 'randomforest', 'gbrt']"
      ]
     },
     "execution_count": 3,
     "metadata": {},
     "output_type": "execute_result"
    }
   ],
   "source": [
    "ml_methods"
   ]
  },
  {
   "cell_type": "code",
   "execution_count": null,
   "id": "8b75408c",
   "metadata": {},
   "outputs": [],
   "source": []
  }
 ],
 "metadata": {
  "kernelspec": {
   "display_name": "Python 3 (ipykernel)",
   "language": "python",
   "name": "python3"
  },
  "language_info": {
   "codemirror_mode": {
    "name": "ipython",
    "version": 3
   },
   "file_extension": ".py",
   "mimetype": "text/x-python",
   "name": "python",
   "nbconvert_exporter": "python",
   "pygments_lexer": "ipython3",
   "version": "3.9.13"
  }
 },
 "nbformat": 4,
 "nbformat_minor": 5
}
