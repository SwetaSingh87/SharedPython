{
 "cells": [
  {
   "cell_type": "markdown",
   "id": "ed141a88",
   "metadata": {},
   "source": [
    "## Importing Header and SoilPrep Files"
   ]
  },
  {
   "cell_type": "code",
   "execution_count": 1,
   "id": "2bee2fa9",
   "metadata": {},
   "outputs": [
    {
     "name": "stdout",
     "output_type": "stream",
     "text": [
      "importing Jupyter notebook from Header.ipynb\n",
      "importing Jupyter notebook from SoilPrep.ipynb\n"
     ]
    }
   ],
   "source": [
    "import import_ipynb \n",
    "from Header import *\n",
    "\n",
    "import import_ipynb\n",
    "from SoilPrep import *"
   ]
  },
  {
   "cell_type": "markdown",
   "id": "aaf5057d",
   "metadata": {},
   "source": [
    "## Loading Data, MetaData, and Mtree"
   ]
  },
  {
   "cell_type": "code",
   "execution_count": 2,
   "id": "5b8e9442",
   "metadata": {},
   "outputs": [],
   "source": [
    "with open ('meta_data.pickle', 'rb') as file:\n",
    "    MetaData = pickle.load(file)\n",
    "\n",
    "sg_filters = MetaData['sg_filters']\n",
    "window_lengths = MetaData['window_lengths']\n",
    "prepare_spec = MetaData['prepare_spec']\n",
    "nbands_sampling = MetaData['nbands_sampling']\n",
    "target_names = MetaData['target_names']\n",
    "prepare_target = MetaData['prepare_target']\n",
    "ml_methods = MetaData['ml_methods']\n",
    "clr = MetaData['clr']\n",
    "\n",
    "\n",
    "with open ('data.pickle', 'rb') as file:\n",
    "    Data = pickle.load(file)\n",
    "\n",
    "spectra = Data['spectra']\n",
    "T = Data['T']\n",
    "spec1 = Data['spec1'] \n",
    "spec2 = Data['spec2']\n",
    "smth_spec = Data['smth_spec']\n",
    "fod_spec = Data['fod_spec']\n",
    "cr_spec = Data['cr_spec']\n",
    "log_spec = Data['log_spec']\n",
    "sampled_spec = Data['sampled_spec']\n",
    "sampled_cr = Data['sampled_cr']\n",
    "sampled_log = Data['sampled_log'] \n",
    "fod_sampled= Data['fod_sampled']\n",
    "fod_cr = Data['fod_cr']\n",
    "fod_log = Data['fod_log']\n"
   ]
  },
  {
   "cell_type": "code",
   "execution_count": 3,
   "id": "6a0a1931",
   "metadata": {},
   "outputs": [
    {
     "data": {
      "text/plain": [
       "['mult', 'cubist', 'svr', 'ridge', 'plsr', 'gbrt']"
      ]
     },
     "execution_count": 3,
     "metadata": {},
     "output_type": "execute_result"
    }
   ],
   "source": [
    "ml_methods"
   ]
  },
  {
   "cell_type": "code",
   "execution_count": 3,
   "id": "8b75408c",
   "metadata": {},
   "outputs": [
    {
     "ename": "NameError",
     "evalue": "name 'clr' is not defined",
     "output_type": "error",
     "traceback": [
      "\u001b[1;31m---------------------------------------------------------------------------\u001b[0m",
      "\u001b[1;31mNameError\u001b[0m                                 Traceback (most recent call last)",
      "\u001b[1;32m~\\AppData\\Local\\Temp\\ipykernel_5608\\2881546895.py\u001b[0m in \u001b[0;36m<module>\u001b[1;34m\u001b[0m\n\u001b[1;32m----> 1\u001b[1;33m \u001b[0mclr\u001b[0m\u001b[1;33m\u001b[0m\u001b[1;33m\u001b[0m\u001b[0m\n\u001b[0m",
      "\u001b[1;31mNameError\u001b[0m: name 'clr' is not defined"
     ]
    }
   ],
   "source": [
    "clr"
   ]
  },
  {
   "cell_type": "code",
   "execution_count": null,
   "id": "3cf2491b",
   "metadata": {},
   "outputs": [],
   "source": []
  }
 ],
 "metadata": {
  "kernelspec": {
   "display_name": "Python 3 (ipykernel)",
   "language": "python",
   "name": "python3"
  },
  "language_info": {
   "codemirror_mode": {
    "name": "ipython",
    "version": 3
   },
   "file_extension": ".py",
   "mimetype": "text/x-python",
   "name": "python",
   "nbconvert_exporter": "python",
   "pygments_lexer": "ipython3",
   "version": "3.9.13"
  }
 },
 "nbformat": 4,
 "nbformat_minor": 5
}
