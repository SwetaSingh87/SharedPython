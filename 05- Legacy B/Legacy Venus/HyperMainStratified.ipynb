{
 "cells": [
  {
   "cell_type": "markdown",
   "id": "9e44ac43",
   "metadata": {},
   "source": [
    "# Importing Header and SoilPrep"
   ]
  },
  {
   "cell_type": "code",
   "execution_count": 1,
   "id": "188e54fc",
   "metadata": {},
   "outputs": [
    {
     "name": "stdout",
     "output_type": "stream",
     "text": [
      "importing Jupyter notebook from Header.ipynb\n"
     ]
    }
   ],
   "source": [
    "import import_ipynb \n",
    "from Header import *"
   ]
  },
  {
   "cell_type": "code",
   "execution_count": 2,
   "id": "22684781",
   "metadata": {},
   "outputs": [
    {
     "name": "stdout",
     "output_type": "stream",
     "text": [
      "importing Jupyter notebook from SoilPrep.ipynb\n"
     ]
    }
   ],
   "source": [
    "import import_ipynb\n",
    "from SoilPrep import * "
   ]
  },
  {
   "cell_type": "markdown",
   "id": "4bf91556",
   "metadata": {},
   "source": [
    "## Loading Data and MetaData"
   ]
  },
  {
   "cell_type": "code",
   "execution_count": 3,
   "id": "76054719",
   "metadata": {},
   "outputs": [
    {
     "name": "stdout",
     "output_type": "stream",
     "text": [
      "importing Jupyter notebook from LoadDataMetaData.ipynb\n"
     ]
    }
   ],
   "source": [
    "import import_ipynb\n",
    "from LoadDataMetaData import *"
   ]
  },
  {
   "cell_type": "markdown",
   "id": "57f4447f",
   "metadata": {},
   "source": [
    "## Fixed One Time Resampling"
   ]
  },
  {
   "cell_type": "code",
   "execution_count": 4,
   "id": "09b821d0",
   "metadata": {},
   "outputs": [],
   "source": [
    "mid_locs = ['420', '443', '490', '555', '638', '672', '702', '742', '782', '865', '910']\n",
    "band_widths = [25, 40, 20, 20, 24, 16, 24, 16, 16, 20, 20]  "
   ]
  },
  {
   "cell_type": "code",
   "execution_count": 5,
   "id": "d33ed0e7",
   "metadata": {},
   "outputs": [],
   "source": [
    "def resample_at (spectrum, mid_locs, band_widths):\n",
    "    \n",
    "    #----- obtaining the sampling ilocations in indx----\n",
    "    mid_ilocs = []\n",
    "    for l in mid_locs:\n",
    "        #print(l)\n",
    "        i = spectrum.columns.get_loc(l)\n",
    "        mid_ilocs.append(i)\n",
    "    \n",
    "    #print(mid_ilocs)\n",
    "    #print(mid_ilocs)\n",
    "    #print(mid_locs)   \n",
    "    \n",
    "    #----- finding initial shape for red_spectra ------\n",
    "    red_spectra = spectrum.iloc[:, mid_ilocs].copy()\n",
    "    #print(red_spectra.head(5))\n",
    "    #print(len(mid_ilocs))\n",
    "    \n",
    "    for i in range(0, len(mid_ilocs)):\n",
    "        m = mid_ilocs[i]\n",
    "        l = mid_locs[i]\n",
    "        window = np.floor(0.5*band_widths[i]).astype(int)\n",
    "        #print('m: ', m, 'window:', window)\n",
    "        red_spectra.loc[:,l] = spectrum.iloc[:,(m-window):(m+window)].mean(axis=1).copy()\n",
    "        \n",
    "    return (red_spectra)\n"
   ]
  },
  {
   "cell_type": "code",
   "execution_count": 6,
   "id": "793637f2",
   "metadata": {},
   "outputs": [
    {
     "data": {
      "text/html": [
       "<div>\n",
       "<style scoped>\n",
       "    .dataframe tbody tr th:only-of-type {\n",
       "        vertical-align: middle;\n",
       "    }\n",
       "\n",
       "    .dataframe tbody tr th {\n",
       "        vertical-align: top;\n",
       "    }\n",
       "\n",
       "    .dataframe thead th {\n",
       "        text-align: right;\n",
       "    }\n",
       "</style>\n",
       "<table border=\"1\" class=\"dataframe\">\n",
       "  <thead>\n",
       "    <tr style=\"text-align: right;\">\n",
       "      <th></th>\n",
       "      <th>420</th>\n",
       "      <th>443</th>\n",
       "      <th>490</th>\n",
       "      <th>555</th>\n",
       "      <th>638</th>\n",
       "      <th>672</th>\n",
       "      <th>702</th>\n",
       "      <th>742</th>\n",
       "      <th>782</th>\n",
       "      <th>865</th>\n",
       "      <th>910</th>\n",
       "    </tr>\n",
       "  </thead>\n",
       "  <tbody>\n",
       "    <tr>\n",
       "      <th>0</th>\n",
       "      <td>0.052008</td>\n",
       "      <td>0.058243</td>\n",
       "      <td>0.070345</td>\n",
       "      <td>0.114810</td>\n",
       "      <td>0.200542</td>\n",
       "      <td>0.223375</td>\n",
       "      <td>0.245792</td>\n",
       "      <td>0.273688</td>\n",
       "      <td>0.293500</td>\n",
       "      <td>0.31500</td>\n",
       "      <td>0.3270</td>\n",
       "    </tr>\n",
       "    <tr>\n",
       "      <th>1</th>\n",
       "      <td>0.054167</td>\n",
       "      <td>0.060743</td>\n",
       "      <td>0.073805</td>\n",
       "      <td>0.124350</td>\n",
       "      <td>0.215292</td>\n",
       "      <td>0.239937</td>\n",
       "      <td>0.264000</td>\n",
       "      <td>0.294313</td>\n",
       "      <td>0.316125</td>\n",
       "      <td>0.33915</td>\n",
       "      <td>0.3517</td>\n",
       "    </tr>\n",
       "    <tr>\n",
       "      <th>2</th>\n",
       "      <td>0.042587</td>\n",
       "      <td>0.046690</td>\n",
       "      <td>0.055260</td>\n",
       "      <td>0.092510</td>\n",
       "      <td>0.211417</td>\n",
       "      <td>0.239375</td>\n",
       "      <td>0.264708</td>\n",
       "      <td>0.292938</td>\n",
       "      <td>0.303875</td>\n",
       "      <td>0.30000</td>\n",
       "      <td>0.3050</td>\n",
       "    </tr>\n",
       "    <tr>\n",
       "      <th>3</th>\n",
       "      <td>0.047825</td>\n",
       "      <td>0.052785</td>\n",
       "      <td>0.063235</td>\n",
       "      <td>0.101105</td>\n",
       "      <td>0.179250</td>\n",
       "      <td>0.200500</td>\n",
       "      <td>0.221500</td>\n",
       "      <td>0.247563</td>\n",
       "      <td>0.266062</td>\n",
       "      <td>0.28530</td>\n",
       "      <td>0.2954</td>\n",
       "    </tr>\n",
       "    <tr>\n",
       "      <th>4</th>\n",
       "      <td>0.053779</td>\n",
       "      <td>0.062303</td>\n",
       "      <td>0.075350</td>\n",
       "      <td>0.123100</td>\n",
       "      <td>0.191375</td>\n",
       "      <td>0.203625</td>\n",
       "      <td>0.215750</td>\n",
       "      <td>0.229938</td>\n",
       "      <td>0.235875</td>\n",
       "      <td>0.23030</td>\n",
       "      <td>0.2280</td>\n",
       "    </tr>\n",
       "  </tbody>\n",
       "</table>\n",
       "</div>"
      ],
      "text/plain": [
       "        420       443       490       555       638       672       702  \\\n",
       "0  0.052008  0.058243  0.070345  0.114810  0.200542  0.223375  0.245792   \n",
       "1  0.054167  0.060743  0.073805  0.124350  0.215292  0.239937  0.264000   \n",
       "2  0.042587  0.046690  0.055260  0.092510  0.211417  0.239375  0.264708   \n",
       "3  0.047825  0.052785  0.063235  0.101105  0.179250  0.200500  0.221500   \n",
       "4  0.053779  0.062303  0.075350  0.123100  0.191375  0.203625  0.215750   \n",
       "\n",
       "        742       782      865     910  \n",
       "0  0.273688  0.293500  0.31500  0.3270  \n",
       "1  0.294313  0.316125  0.33915  0.3517  \n",
       "2  0.292938  0.303875  0.30000  0.3050  \n",
       "3  0.247563  0.266062  0.28530  0.2954  \n",
       "4  0.229938  0.235875  0.23030  0.2280  "
      ]
     },
     "execution_count": 6,
     "metadata": {},
     "output_type": "execute_result"
    }
   ],
   "source": [
    "sampled_spec11 = resample_at (spec2[51], mid_locs, band_widths)\n",
    "sampled_spec11.head(5)"
   ]
  },
  {
   "cell_type": "code",
   "execution_count": 7,
   "id": "d0c7fc0b",
   "metadata": {},
   "outputs": [],
   "source": [
    "sampled_cr11 = resample_at (cr_spec, mid_locs, band_widths)\n",
    "#sampled_cr11.head(5)"
   ]
  },
  {
   "cell_type": "code",
   "execution_count": 8,
   "id": "36aa5135",
   "metadata": {},
   "outputs": [],
   "source": [
    "sampled_log11 = resample_at(log_spec, mid_locs, band_widths)\n",
    "#sampled_log11.head(5)"
   ]
  },
  {
   "cell_type": "code",
   "execution_count": 9,
   "id": "0633fca8",
   "metadata": {},
   "outputs": [],
   "source": [
    "fod_sampled11 = fod (sampled_spec11)\n",
    "#fod_sampled11.head(5)"
   ]
  },
  {
   "cell_type": "code",
   "execution_count": 10,
   "id": "536b8164",
   "metadata": {},
   "outputs": [],
   "source": [
    "fod_cr11 = fod (sampled_cr11)\n",
    "#fod_cr10.head(5)"
   ]
  },
  {
   "cell_type": "code",
   "execution_count": 11,
   "id": "7eea8fef",
   "metadata": {},
   "outputs": [],
   "source": [
    "fod_log11 = fod (sampled_log11)\n",
    "#fod_log11.head(5)"
   ]
  },
  {
   "cell_type": "code",
   "execution_count": 12,
   "id": "8021a04d",
   "metadata": {},
   "outputs": [],
   "source": [
    "import os\n",
    "os.system('say \"your Meta Tree started building\"')\n",
    "import time"
   ]
  },
  {
   "cell_type": "code",
   "execution_count": 13,
   "id": "ef75fce3",
   "metadata": {},
   "outputs": [],
   "source": [
    "# prepare_spec = ['none', 'fod2', 'continuum', 'log']\n",
    "# prepare_target = ['none', 'minmax']\n",
    "\n",
    "def find_X(p):\n",
    "    if p == 'fod':\n",
    "        X = fod_sampled11\n",
    "    elif p == 'cr':\n",
    "        X = sampled_cr11\n",
    "    elif p == 'log':\n",
    "        X = sampled_log11\n",
    "    elif p == 'none':\n",
    "        X = sampled_spec11\n",
    "    elif p == 'fod_cr':\n",
    "        X = fod_cr11\n",
    "    else:\n",
    "        X = fod_log11\n",
    "    return X\n",
    "\n",
    "def find_spec(p, m):    \n",
    "    spec = find_X(p)\n",
    "    return spec    \n",
    "\n",
    "\n",
    "def find_y(t):\n",
    "    i = target_names.index(t) \n",
    "    y = T[i]\n",
    "    return y\n",
    "        \n",
    "        "
   ]
  },
  {
   "cell_type": "markdown",
   "id": "8475a10d",
   "metadata": {},
   "source": [
    "## Recording Hypertuning Parameters"
   ]
  },
  {
   "cell_type": "code",
   "execution_count": 14,
   "id": "933a88e1",
   "metadata": {},
   "outputs": [],
   "source": [
    "from sklearn.metrics import make_scorer, r2_score\n",
    "\n",
    "model ={}\n",
    "param_grid ={}\n",
    "model['mult'] = LinearRegression()\n",
    "param_grid['mult'] = { 'fit_intercept': [True, False] }\n",
    "\n",
    "model['ridge'] = KernelRidge()\n",
    "param_grid['ridge']={'alpha': [ 0.00001,0.00002, 0.00005, 0.0001, 0.0002, 0.0005, 0.001, 0.002, \\\n",
    "                               0.005,  0.01, 0.05, 0.1, 0.5, 1]}\n",
    "\n",
    "model['plsr'] = PLSRegression()\n",
    "param_grid['plsr']={'n_components': [1, 2, 3, 4, 5, 6, 7, 8, 9, 10]}\n",
    "\n",
    "\n",
    "model['cubist'] = Cubist(random_state = 42)  \n",
    "param_grid['cubist'] = { 'n_committees': [5, 10, 15, 20], 'n_rules': [10, 20, 30, 40, 50] }\n",
    "                        \n",
    "\n",
    "model['gbrt'] = GradientBoostingRegressor(random_state = 42)\n",
    "param_grid['gbrt'] = {\n",
    "    'n_estimators': [30,40,50],        # Number of boosting stages to be used\n",
    "    'learning_rate': [0.01, 0.1],     # Step size shrinkage used in updating weights\n",
    "    'max_depth': [3, 4, 5]                # Maximum depth of individual trees\n",
    "#     'min_samples_split': [2, 3],        # Minimum number of samples required to split an internal node\n",
    "#     'min_samples_leaf': [1, 2],         # Minimum number of samples required to be at a leaf node\n",
    "}\n",
    "\n",
    "model['svr'] = SVR()\n",
    "param_grid['svr'] = {\n",
    "    'C': [0.1, 1, 10],              # Regularization parameter\n",
    "    'kernel': ['linear', 'rbf'],   # Kernel function\n",
    "    'gamma': [0.01, 0.1, 1],      # Kernel coefficient (only for 'rbf' kernel)\n",
    "}\n"
   ]
  },
  {
   "cell_type": "markdown",
   "id": "72d06dd7",
   "metadata": {},
   "source": [
    "### Finding Hypertuned Parameters"
   ]
  },
  {
   "cell_type": "code",
   "execution_count": 15,
   "id": "bf49b104",
   "metadata": {},
   "outputs": [],
   "source": [
    "# def find_core_model_param_on (m, t, p, tp, n):\n",
    "#     Model = model[m]\n",
    "#     X = find_spec(p,n,m)\n",
    "#     y = find_y(t, tp)\n",
    "    \n",
    "#     row, col = X.shape\n",
    "\n",
    "#     scorer = make_scorer(mean_squared_error, greater_is_better=False)\n",
    "#     cv = RepeatedKFold(n_splits=row, n_repeats=1, random_state=3)\n",
    "        \n",
    "#     grid_search = GridSearchCV(Model, param_grid=param_grid[m], cv=cv,\\\n",
    "#                                 scoring= scorer, refit=True, verbose=1, error_score='raise', n_jobs=-1)\n",
    "#     grid_search.fit(X,y)\n",
    "    \n",
    "#     return (grid_search.best_params_)\n",
    "\n",
    "def find_tuned_param_on (X_train, y_train, m):\n",
    "    Model = model[m]\n",
    "    X = X_train\n",
    "    y = y_train\n",
    "    \n",
    "    row, col = X.shape\n",
    "\n",
    "    scorer = make_scorer(mean_squared_error, greater_is_better=False)\n",
    "    cv = RepeatedKFold(n_splits=row, n_repeats=1, random_state=3)\n",
    "        \n",
    "    grid_search = GridSearchCV(Model, param_grid=param_grid[m], cv=cv,\\\n",
    "                                scoring= scorer, refit=True, verbose=1, error_score='raise', n_jobs=-1)\n",
    "    grid_search.fit(X,y)\n",
    "    \n",
    "    return (grid_search.best_params_)\n",
    "    "
   ]
  },
  {
   "cell_type": "markdown",
   "id": "fa03214f",
   "metadata": {},
   "source": [
    "### Creating Hypertuned Models"
   ]
  },
  {
   "cell_type": "code",
   "execution_count": 16,
   "id": "534d7764",
   "metadata": {},
   "outputs": [],
   "source": [
    "def create_core_model_on (m, BP):\n",
    "    if m == 'mult':\n",
    "        Model = LinearRegression()\n",
    "        \n",
    "    elif m == 'ridge':\n",
    "        Model =  KernelRidge(alpha = BP['alpha'])\n",
    "        \n",
    "    elif m == 'plsr':\n",
    "        Model = PLSRegression(n_components = BP['n_components'])\n",
    "        \n",
    "    elif m == 'cubist':\n",
    "        Model =  Cubist( n_committees = BP['n_committees'], n_rules = BP['n_rules'], random_state = 42) \n",
    "    \n",
    "    elif m == 'gbrt':\n",
    "        Model = GradientBoostingRegressor(n_estimators = BP['n_estimators'], learning_rate = BP['learning_rate'], \\\n",
    "                                          max_depth = BP['max_depth'],  random_state = 42)\n",
    "    elif m == 'svr':\n",
    "        Model = SVR(C = BP['C'], kernel = BP['kernel'], gamma = BP['gamma'])\n",
    "        \n",
    "    return Model    \n",
    "            "
   ]
  },
  {
   "cell_type": "markdown",
   "id": "c1e2d24b",
   "metadata": {},
   "source": [
    "## Building HMtree and BPtree"
   ]
  },
  {
   "cell_type": "code",
   "execution_count": 17,
   "id": "cb17d51c",
   "metadata": {},
   "outputs": [],
   "source": [
    "ml_methods = ['mult', 'ridge', 'plsr', 'svr', 'cubist', 'gbrt']"
   ]
  },
  {
   "cell_type": "code",
   "execution_count": 18,
   "id": "6ab01feb",
   "metadata": {},
   "outputs": [],
   "source": [
    "def L1_y_pred (spectra, target, method, bp):\n",
    "    m = method\n",
    "    (r,c) = spectra.shape\n",
    "    \n",
    "    Y_test = target.copy()\n",
    "    Y_pred = target.copy()\n",
    "    #print('r:', r)\n",
    "    for i in range (0, r): \n",
    "        #print('i: ', i)\n",
    "        full_spec = spectra.copy()\n",
    "        X_train = full_spec.drop(full_spec.index[i], axis=0)\n",
    "        X_test = full_spec.iloc[[i],:].copy()\n",
    "        full_tar = target.copy()\n",
    "        y_train = full_tar.drop(full_tar.index[i], axis=0)\n",
    "        y_test = full_tar.iloc[i].copy()        \n",
    "        #---- Model Creation, fitting, and predictions--------\n",
    "        Model = create_core_model_on (m, bp)\n",
    "        Model.fit(X_train, y_train)\n",
    "        y_pred = Model.predict(X_test)\n",
    "        Y_pred.iloc[i] = y_pred\n",
    "        \n",
    "    return Y_pred      "
   ]
  },
  {
   "cell_type": "code",
   "execution_count": 30,
   "id": "3f2a910b-555e-480c-a2d9-45acddbc1d9d",
   "metadata": {},
   "outputs": [
    {
     "name": "stdout",
     "output_type": "stream",
     "text": [
      "Training set: (43, 11), (43,)\n",
      "Test set: (43, 11), (43,)\n"
     ]
    },
    {
     "data": {
      "image/png": "[encoded data removed]",
      "text/plain": [
       "<Figure size 1400x600 with 2 Axes>"
      ]
     },
     "metadata": {},
     "output_type": "display_data"
    }
   ],
   "source": [
    "t = 'Sand'\n",
    "m = 'cubist'\n",
    "p ='none'\n",
    "\n",
    "spec = find_spec(p, m)  \n",
    "y = find_y(t)\n",
    "\n",
    "num_bins = 5  # Adjust this number based on your needs\n",
    "Y_binned, bin_edges = pd.qcut(y, q=num_bins, labels=False, retbins=True)\n",
    "X_train, X_test, y_train, y_test = train_test_split(spec, y, test_size= 0.5, stratify=Y_binned, random_state=0)\n",
    "\n",
    "print(f'Training set: {X_train.shape}, {y_train.shape}')\n",
    "print(f'Test set: {X_test.shape}, {y_test.shape}')\n",
    "\n",
    "Y_train_df = pd.DataFrame(y_train, columns=['TOC'])\n",
    "Y_test_df = pd.DataFrame(y_test, columns=['TOC'])\n",
    "\n",
    "# Plot histograms of the train and test sets\n",
    "plt.figure(figsize=(14, 6))\n",
    "\n",
    "plt.subplot(1, 2, 1)\n",
    "sns.histplot(y_train, bins=num_bins, kde=False, color='blue', edgecolor='black')\n",
    "plt.title('Train Set TOC Distribution')\n",
    "plt.xlabel('Total Organic Carbon (TOC)')\n",
    "plt.ylabel('Frequency')\n",
    "\n",
    "plt.subplot(1, 2, 2)\n",
    "sns.histplot(y_test, bins=num_bins, kde=False, color='green', edgecolor='black')\n",
    "plt.title('Test Set TOC Distribution')\n",
    "plt.xlabel('Total Organic Carbon (TOC)')\n",
    "plt.ylabel('Frequency')\n",
    "\n",
    "plt.tight_layout()\n"
   ]
  },
  {
   "cell_type": "code",
   "execution_count": 20,
   "id": "c68b3a92-0ae9-4a6f-9a56-72e9e51092ef",
   "metadata": {},
   "outputs": [
    {
     "ename": "SyntaxError",
     "evalue": "invalid syntax (3817168042.py, line 1)",
     "output_type": "error",
     "traceback": [
      "\u001b[1;36m  Cell \u001b[1;32mIn[20], line 1\u001b[1;36m\u001b[0m\n\u001b[1;33m    halt here\u001b[0m\n\u001b[1;37m         ^\u001b[0m\n\u001b[1;31mSyntaxError\u001b[0m\u001b[1;31m:\u001b[0m invalid syntax\n"
     ]
    }
   ],
   "source": [
    "halt here"
   ]
  },
  {
   "cell_type": "code",
   "execution_count": null,
   "id": "719adf00",
   "metadata": {},
   "outputs": [],
   "source": [
    "def build_HMtree_on (method_name, target):\n",
    "    \n",
    "    tree ={}\n",
    "    \n",
    "    start = time.time()\n",
    "    m = method_name\n",
    "    t = target\n",
    "    \n",
    "    print('tree for: '+ m +' ------> running on: ' + t)\n",
    "    \n",
    "    for tp in prepare_target:\n",
    "        tree[tp] ={}        \n",
    "        for p in prepare_spec:\n",
    "            tree[tp][p] ={}            \n",
    "            \n",
    "            Y = tree[tp][p]\n",
    "                                           \n",
    "            #------ setting spec to appropriate (sampled) spectra----                \n",
    "            spec = find_spec(p, m)                \n",
    "                                        \n",
    "            #---- target selection and normalization ---\n",
    "            y = find_y(t)\n",
    "                                \n",
    "            #---- performing train-test split----------------------\n",
    "            X_train, X_test, y_train, y_test = train_test_split(spec, y, test_size= 0.3, random_state=42)\n",
    "                            \n",
    "            #----- hypertuning parameter, model creation, fitting and prediction ----                \n",
    "                \n",
    "            #bp = find_tuned_param_on (X_train, y_train, m)\n",
    "            bp = find_tuned_param_on (spec, y, m)\n",
    "                \n",
    "            Y['bp'] = bp\n",
    "            print('Method: '+ m + '---> Target: '+ t+ '----> SpecProc: ' +p+ ' ---> n_band: 11')\n",
    "            Model = create_core_model_on (m, bp)\n",
    "            Model.fit(X_train, y_train)\n",
    "                \n",
    "            y_pred = Model.predict(X_test)\n",
    "            yhat_pred = Model.predict(X_train)\n",
    "                    \n",
    "            #----- Data for Model accuracy and plotting -----------\n",
    "            Y['X_test'] = X_test                \n",
    "            Y['y_test'] = y_test\n",
    "            Y['y_testP'] = y_pred\n",
    "                \n",
    "            Y['X_train'] = X_train\n",
    "            Y['y_train'] = y_train\n",
    "            Y['y_trainP'] = yhat_pred\n",
    "                    \n",
    "            Y['iqrp_test'] = find_iqrp(y_pred, y_test)\n",
    "            Y['r2_test'] = find_r2(y_pred, y_test)\n",
    "            Y['rpd_test'] = find_rpd(y_pred, y_test)                 \n",
    "                \n",
    "            Y['r2_train'] = find_r2(yhat_pred, y_train)\n",
    "                \n",
    "            #------- L1 out prediction on test data -----------------\n",
    "            L1y_pred = L1_y_pred (spec, y, m, bp)\n",
    "            Y['L1y_testP'] = L1y_pred\n",
    "            Y['L1y_test'] = y\n",
    "             \n",
    "            \n",
    "            Y['L1iqrp_test'] = find_iqrp(L1y_pred, y)\n",
    "            Y['L1r2_test'] = find_r2(L1y_pred, y)\n",
    "            Y['L1rpd_test'] = find_rpd(L1y_pred, y) \n",
    "                \n",
    "                                                                         \n",
    "    end = time.time()                            \n",
    "    os.system('say \"your hyper tuned meta tree finished for one more method\"')                            \n",
    "\n",
    "    print('End time - Start time =', (end-start)) \n",
    "    \n",
    "    return tree.copy()"
   ]
  },
  {
   "cell_type": "code",
   "execution_count": null,
   "id": "ad48e885",
   "metadata": {},
   "outputs": [],
   "source": [
    "def build_HMtree_for (method_name):\n",
    "    tree ={}\n",
    "    \n",
    "    start = time.time()\n",
    "    m = method_name\n",
    "    for t in target_names:\n",
    "        #print('tree for: '+ m +' ------> running on: ' + t)\n",
    "        tree[t] = build_HMtree_on (m, t)\n",
    "        \n",
    "    end = time.time()                            \n",
    "    os.system('say \"your meta tree finished for one more method\"')                            \n",
    "    print('End time - Start time =', (end-start))     \n",
    "    return tree.copy()"
   ]
  },
  {
   "cell_type": "code",
   "execution_count": null,
   "id": "d5174de0",
   "metadata": {},
   "outputs": [],
   "source": [
    "def best_score_on (HMtree, target, method, scorer):\n",
    "    t=target\n",
    "    m= method\n",
    "    \n",
    "    best_score = -1\n",
    "    #best_n_comp = 'NA'\n",
    "    \n",
    "    \n",
    "    for tp in prepare_target:\n",
    "        for p in prepare_spec:\n",
    "            \n",
    "            Y = HMtree[m][t][tp][p]\n",
    "            #r2_train = Y['r2_train']\n",
    "            #r2_test = Y['r2_test']\n",
    "            #L1r2_test = Y['L1r2_test']\n",
    "                 \n",
    "                    \n",
    "            if scorer == 'iqrp':\n",
    "                cur_score = Y['iqrp_test']\n",
    "            elif scorer == 'L1iqrp':\n",
    "                cur_score = Y['L1iqrp_test']\n",
    "            elif scorer == 'r2':\n",
    "                cur_score = Y['r2_test'] \n",
    "            else:\n",
    "                cur_score = Y['L1r2_test']  \n",
    "                    \n",
    "            if cur_score > best_score:\n",
    "                best_score = cur_score\n",
    "                best_tp = tp\n",
    "                best_n = 13\n",
    "                best_p = p\n",
    "                            \n",
    "    param_list = [scorer, np.round(best_score,2), 'Spec:', best_p, 'bands: 11']                                 \n",
    "    return (param_list)          "
   ]
  },
  {
   "cell_type": "code",
   "execution_count": null,
   "id": "ea137bb9",
   "metadata": {},
   "outputs": [],
   "source": [
    "def best_score_for (HMtree, target, scorer):\n",
    "    \n",
    "    for method in ml_methods:\n",
    "        param_list= best_score_on (HMtree, target, method, scorer)\n",
    "        print('For:'+target+'->', param_list, ':'+method)\n",
    "     \n",
    "    return"
   ]
  },
  {
   "cell_type": "code",
   "execution_count": null,
   "id": "0202464c",
   "metadata": {},
   "outputs": [],
   "source": [
    "with open ('HMtree.pickle', 'rb') as file:\n",
    "    HMtree = pickle.load(file)\n",
    " "
   ]
  },
  {
   "cell_type": "markdown",
   "id": "45f047e6",
   "metadata": {},
   "source": [
    "## Creating different branches of Mtree (for separate methods)"
   ]
  },
  {
   "cell_type": "code",
   "execution_count": null,
   "id": "2e116cfa",
   "metadata": {},
   "outputs": [],
   "source": [
    "#HMtree = {}"
   ]
  },
  {
   "cell_type": "code",
   "execution_count": null,
   "id": "788aa377",
   "metadata": {},
   "outputs": [],
   "source": [
    "# HMtree['mult'] = build_HMtree_for('mult')\n",
    "# HMtree['plsr'] = build_HMtree_for('plsr')\n",
    "# HMtree['svr'] = build_HMtree_for('svr')\n",
    "# HMtree['ridge'] = build_HMtree_for('ridge')\n",
    "# HMtree['cubist'] = build_HMtree_for('cubist')\n",
    "# HMtree['gbrt'] = build_HMtree_for('gbrt')"
   ]
  },
  {
   "cell_type": "code",
   "execution_count": null,
   "id": "1c646a73",
   "metadata": {},
   "outputs": [],
   "source": [
    "# with open ('HMtree.pickle', 'wb') as file:\n",
    "#     pickle.dump(HMtree, file)\n",
    "        "
   ]
  },
  {
   "cell_type": "code",
   "execution_count": null,
   "id": "4b9d5bfc",
   "metadata": {},
   "outputs": [],
   "source": [
    "#Plotting Model Accuracy (ipywidgets)\n",
    "def plot_model_acc_half (method, target, spec_preprocessing):\n",
    "    \n",
    "    m = method\n",
    "    t = target\n",
    "    \n",
    "    i = target_names.index(target)    \n",
    "    \n",
    "    p = spec_preprocessing\n",
    "    #n = n_bands\n",
    "    tp = 'none'\n",
    "    \n",
    "    Y = HMtree[m][t][tp][p]\n",
    "    \n",
    "    y_test = Y['y_test']\n",
    "    y_pred = Y['y_testP']\n",
    "    L1y_pred = Y['L1y_testP']\n",
    "    L1y_test = Y['L1y_test']\n",
    "    \n",
    "\n",
    "    \n",
    "    if m == 'plsr':\n",
    "        y_pred = y_pred[:,0]\n",
    "        #L1y_pred = L1y_pred[:,0]\n",
    "\n",
    "    \n",
    "    iqrp_test = Y['iqrp_test']\n",
    "    r2_test = Y['r2_test']\n",
    "    rpd_test = Y['rpd_test']\n",
    "    \n",
    "    L1iqrp_test = Y['L1iqrp_test']\n",
    "    L1r2_test = Y['L1r2_test']\n",
    "    L1rpd_test = Y['L1rpd_test']\n",
    "    \n",
    "    y_tp = pd.DataFrame({'actual':y_test.values, 'predic': y_pred})\n",
    "    z = np.polyfit(y_test, y_pred, 1)\n",
    "    \n",
    "    L1y_tp = pd.DataFrame({'actual':L1y_test.values, 'predic': L1y_pred})\n",
    "    L1z = np.polyfit(L1y_test, L1y_pred, 1)\n",
    "    \n",
    "    fig, (axes1,axes2) = plt.subplots(1,2, figsize=(10,5))\n",
    "    plt. grid(False)\n",
    "    \n",
    "    #with plt.style.context(('ggplot')): ---- PLOT of test-prediction --------------------------------------\n",
    "    y_tp.plot.scatter(ax= axes1, x=\"actual\", y=\"predic\", alpha=1.0, color = clr[i], edgecolors='k')\n",
    "    axes1.plot(y_test, np.polyval(z, y_test),  c='blue', linewidth=1)\n",
    "    axes1.plot(y_test, y_test, color='green', linewidth=1)\n",
    "    axes1.tick_params(axis='both', labelsize=10)\n",
    "    axes1.text(0.05, 0.95, target_names[i]+' (Train-Test Score)', transform=axes1.transAxes, fontsize = 14, color = clr[i])\n",
    "    axes1.text(0.05, 0.90, 'IQRP ={:.2f}'.format(iqrp_test), transform=axes1.transAxes, fontsize = 11)\n",
    "    axes1.text(0.05, 0.85, 'RPD ={:.2f}'.format(rpd_test), transform=axes1.transAxes, fontsize = 11)\n",
    "    axes1.text(0.05, 0.80, 'R2 ={:.2f}'.format(np.round(r2_test,3)), transform=axes1.transAxes, fontsize = 11)\n",
    "    axes1.text(0.95, 0.15, 'Method: '+method, transform=axes1.transAxes, \n",
    "                    horizontalalignment='right', fontsize = 12)\n",
    "    \n",
    "    L1y_tp.plot.scatter(ax= axes2, x=\"actual\", y=\"predic\", alpha=1.0, color = clr[i], edgecolors='k')\n",
    "    axes2.plot(L1y_test, np.polyval(L1z, L1y_test),  c='blue', linewidth=1)\n",
    "    axes2.plot(L1y_test, L1y_test, color='green', linewidth=1)\n",
    "    axes2.tick_params(axis='both', labelsize=10)\n",
    "    axes2.text(0.05, 0.95, target_names[i]+' (L1-out Score)', transform=axes2.transAxes, fontsize = 14, color = clr[i])\n",
    "    axes2.text(0.05, 0.90, 'IQRP ={:.2f}'.format(L1iqrp_test), transform=axes2.transAxes, fontsize = 11)\n",
    "    axes2.text(0.05, 0.85, 'RPD ={:.2f}'.format(L1rpd_test), transform=axes2.transAxes, fontsize = 11)\n",
    "    axes2.text(0.05, 0.80, 'R2 ={:.2f}'.format(np.round(L1r2_test,3)), transform=axes2.transAxes, fontsize = 11)\n",
    "    axes2.text(0.95, 0.15, 'Method: '+method, transform=axes2.transAxes, \n",
    "                    horizontalalignment='right', fontsize = 12)\n",
    "    \n",
    "    return\n"
   ]
  },
  {
   "cell_type": "code",
   "execution_count": null,
   "id": "a65f2074",
   "metadata": {},
   "outputs": [],
   "source": [
    "#ml_methods = ['mult', 'ridge', 'plsr', 'svr', 'cubist', 'gbrt']\n",
    "\n",
    "ml_methods = ['mult', 'plsr', 'svr', 'ridge', 'cubist','gbrt']"
   ]
  },
  {
   "cell_type": "code",
   "execution_count": null,
   "id": "47386a6e",
   "metadata": {},
   "outputs": [],
   "source": [
    "#best_score_for (HMtree, 'Sand', 'r2')"
   ]
  },
  {
   "cell_type": "code",
   "execution_count": null,
   "id": "972bb881",
   "metadata": {},
   "outputs": [],
   "source": [
    "best_score_for (HMtree, 'Sand', 'L1r2')"
   ]
  },
  {
   "cell_type": "code",
   "execution_count": null,
   "id": "0f3cf3cb",
   "metadata": {},
   "outputs": [],
   "source": [
    "#best_score_for (HMtree, 'Silt', 'r2')"
   ]
  },
  {
   "cell_type": "code",
   "execution_count": null,
   "id": "47c850cd",
   "metadata": {},
   "outputs": [],
   "source": [
    "best_score_for (HMtree, 'Silt', 'L1r2')"
   ]
  },
  {
   "cell_type": "code",
   "execution_count": null,
   "id": "96795286",
   "metadata": {},
   "outputs": [],
   "source": [
    "#best_score_for (HMtree, 'Clay', 'r2')"
   ]
  },
  {
   "cell_type": "code",
   "execution_count": null,
   "id": "8ef3ceab",
   "metadata": {},
   "outputs": [],
   "source": [
    "best_score_for (HMtree, 'Clay', 'L1r2')"
   ]
  },
  {
   "cell_type": "code",
   "execution_count": null,
   "id": "77ec7927",
   "metadata": {},
   "outputs": [],
   "source": [
    "#best_score_for (HMtree, 'TOC', 'r2')"
   ]
  },
  {
   "cell_type": "code",
   "execution_count": null,
   "id": "d694abb7",
   "metadata": {},
   "outputs": [],
   "source": [
    "best_score_for (HMtree, 'TOC', 'L1r2')"
   ]
  },
  {
   "cell_type": "code",
   "execution_count": null,
   "id": "091797dc",
   "metadata": {},
   "outputs": [],
   "source": [
    "#best_score_for (HMtree, 'CaCO3', 'r2')"
   ]
  },
  {
   "cell_type": "code",
   "execution_count": null,
   "id": "68e76543",
   "metadata": {},
   "outputs": [],
   "source": [
    "best_score_for (HMtree, 'CaCO3', 'L1r2')"
   ]
  },
  {
   "cell_type": "markdown",
   "id": "fe74d829",
   "metadata": {},
   "source": [
    "## Plotting Model Accuracy (ipywidgets)"
   ]
  },
  {
   "cell_type": "code",
   "execution_count": null,
   "id": "2a6a7a17",
   "metadata": {},
   "outputs": [],
   "source": [
    "ipywidgets.interact( plot_model_acc_half, target = target_names, method = ml_methods, \\\n",
    "                    spec_preprocessing = prepare_spec,  \\\n",
    "                    target_preprocessing = prepare_target)"
   ]
  },
  {
   "cell_type": "code",
   "execution_count": null,
   "id": "7f8c3328",
   "metadata": {},
   "outputs": [],
   "source": [
    "# with open ('HMtree.pickle', 'wb') as file:\n",
    "#     pickle.dump(HMtree, file)"
   ]
  },
  {
   "cell_type": "code",
   "execution_count": null,
   "id": "2f9b1ae4",
   "metadata": {},
   "outputs": [],
   "source": [
    "# MTable = {'Input': ['Hyperspectral', 'Sentinal', 'Venus'], \n",
    "#           'Target': ['Sand', 'Sand', 'Sand'], \n",
    "#           'plsr': ['R2:0.57  bands:13','R2:0.57 bands:13','R2:0.57  bands:13'],\n",
    "#           'cubist': ['R2:0.57  bands:13','R2:0.57 bands:13','R2:0.57  bands:13'],\n",
    "#           'gbrt': ['R2:0.57  bands:13','R2:0.57 bands:13','R2:0.57  bands:13'],\n",
    "#           'svr': ['R2:0.57  bands:13','R2:0.57 bands:13','R2:0.57  bands:13'],\n",
    "#           'kridge': ['R2:0.57  bands:13','R2:0.57 bands:13','R2:0.57  bands:13']}\n",
    "          "
   ]
  },
  {
   "cell_type": "code",
   "execution_count": null,
   "id": "8d542ac6",
   "metadata": {},
   "outputs": [],
   "source": [
    "#MTable = pd.DataFrame.from_dict(MTable)\n"
   ]
  },
  {
   "cell_type": "code",
   "execution_count": null,
   "id": "de5d7398",
   "metadata": {},
   "outputs": [],
   "source": [
    "#pd.set_option('display.colheader_justify', 'center')"
   ]
  },
  {
   "cell_type": "code",
   "execution_count": null,
   "id": "852125d9",
   "metadata": {},
   "outputs": [],
   "source": [
    "#MTable"
   ]
  },
  {
   "cell_type": "code",
   "execution_count": null,
   "id": "72d5ff2c",
   "metadata": {},
   "outputs": [],
   "source": []
  },
  {
   "cell_type": "code",
   "execution_count": null,
   "id": "0dbd4adf-c4a8-454c-9147-367ecf380455",
   "metadata": {},
   "outputs": [],
   "source": []
  }
 ],
 "metadata": {
  "kernelspec": {
   "display_name": "Python 3 (ipykernel)",
   "language": "python",
   "name": "python3"
  },
  "language_info": {
   "codemirror_mode": {
    "name": "ipython",
    "version": 3
   },
   "file_extension": ".py",
   "mimetype": "text/x-python",
   "name": "python",
   "nbconvert_exporter": "python",
   "pygments_lexer": "ipython3",
   "version": "3.11.2"
  }
 },
 "nbformat": 4,
 "nbformat_minor": 5
}
