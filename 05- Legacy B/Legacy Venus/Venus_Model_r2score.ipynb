{
 "cells": [
  {
   "cell_type": "markdown",
   "id": "9e44ac43",
   "metadata": {},
   "source": [
    "# Importing Header and SoilPrep"
   ]
  },
  {
   "cell_type": "code",
   "execution_count": 21,
   "id": "188e54fc",
   "metadata": {},
   "outputs": [],
   "source": [
    "#!pip install tabulate"
   ]
  },
  {
   "cell_type": "code",
   "execution_count": 22,
   "id": "3a5d1611-5d8c-46f3-9aae-b7288c205280",
   "metadata": {},
   "outputs": [],
   "source": [
    "import import_ipynb \n",
    "from HyperMain import *"
   ]
  },
  {
   "cell_type": "code",
   "execution_count": 23,
   "id": "302a3071-5825-4c31-ab13-60eccc76a083",
   "metadata": {},
   "outputs": [],
   "source": [
    "import import_ipynb \n",
    "from FinalHypertunedBestModels import *"
   ]
  },
  {
   "cell_type": "code",
   "execution_count": 24,
   "id": "62436e03-ba57-4b95-931a-3a966183dc76",
   "metadata": {},
   "outputs": [],
   "source": [
    "legacy_spec = pd.read_csv('spectra.csv')\n",
    "legacy_tar = pd.read_csv('targets.csv')\n",
    "\n",
    "legacy_spec.rename(columns= {'sample':'id'}, inplace=True)\n",
    "legacy_tar.rename(columns = {'SOIL': 'id', 'CLAI':'Clay', 'SILT': 'Silt', 'SAND': 'Sand', 'OC': 'TOC', 'CACO3':'CaCO3'}, inplace = True)"
   ]
  },
  {
   "cell_type": "code",
   "execution_count": 25,
   "id": "a9753551-6d6c-439d-9e17-d64b5e70c1ab",
   "metadata": {},
   "outputs": [],
   "source": [
    "legacy_spec = legacy_spec.set_index('id', drop=True)\n",
    "legacy_tar = legacy_tar.set_index('id', drop=True)"
   ]
  },
  {
   "cell_type": "code",
   "execution_count": 26,
   "id": "ee17ef74-9c45-4e3c-85be-c9cc665efe44",
   "metadata": {},
   "outputs": [],
   "source": [
    "legacy_tar = legacy_tar[['Sand', 'Silt', 'Clay', 'TOC', 'CaCO3']]"
   ]
  },
  {
   "cell_type": "code",
   "execution_count": 27,
   "id": "8d2c7686-c256-467f-9449-874526d935aa",
   "metadata": {},
   "outputs": [],
   "source": [
    "# Missing ID's are taken care by setting the index to ID and obtaining inner join.\n",
    "legacy_fr = pd.merge(legacy_tar, legacy_spec, on = 'id', how = 'inner')\n",
    "legacy_fr.reset_index(inplace = True)"
   ]
  },
  {
   "cell_type": "code",
   "execution_count": 28,
   "id": "82cff7b2-0a3d-4d75-8929-ed561739efc2",
   "metadata": {},
   "outputs": [
    {
     "name": "stdout",
     "output_type": "stream",
     "text": [
      "Missing: 3\n",
      "id      0\n",
      "Sand    1\n",
      "Silt    1\n",
      "Clay    1\n",
      "TOC     0\n",
      "       ..\n",
      "2496    0\n",
      "2497    0\n",
      "2498    0\n",
      "2499    0\n",
      "2500    0\n",
      "Length: 2157, dtype: int64\n"
     ]
    }
   ],
   "source": [
    "print('Missing:', legacy_fr.isnull().sum().sum())   \n",
    "print(legacy_fr.isnull().sum())\n",
    "legacy_fr.dropna(axis=0, inplace = True)"
   ]
  },
  {
   "cell_type": "code",
   "execution_count": 29,
   "id": "4c17ad68-f4e5-4040-95fc-db091fcca5da",
   "metadata": {},
   "outputs": [],
   "source": [
    "df = legacy_fr\n",
    "# ------------- Target Isolation ----------------------\n",
    "\n",
    "#clr = ['#F4A460', '#8B7355', '#A52A2A', 'green', 'blue']\n",
    "\n",
    "def isolate_targets(df, target_names):\n",
    "    T=[]\n",
    "    for i in range (0,len(target_names)):\n",
    "        T.append(df[target_names[i]])\n",
    "    return(T)\n",
    "    \n",
    "T = isolate_targets(df,target_names) "
   ]
  },
  {
   "cell_type": "code",
   "execution_count": 30,
   "id": "bd7d4b3b-dfe6-44aa-b229-2bacaf5926ce",
   "metadata": {},
   "outputs": [],
   "source": [
    "tar = pd.DataFrame(T)\n",
    "y = tar.T"
   ]
  },
  {
   "cell_type": "code",
   "execution_count": 31,
   "id": "cc2d6f59-e92b-4ecc-ae05-f785c376d571",
   "metadata": {},
   "outputs": [],
   "source": [
    "# List of pretrained models\n",
    "models = [sand_model_gbrt, silt_model_gbrt, clay_model_cubist, TOC_model_cubist, CaCO3_model_cubist]  \n",
    "\n",
    "# List of preprocessed spectra\n",
    "preprocessed_spectra = [fod_sampled11, fod_sampled11, fod_sampled11, fod_log11, fod_log11] "
   ]
  },
  {
   "cell_type": "code",
   "execution_count": 32,
   "id": "d7d4eda4-61bf-4316-b3d3-170fe3fd4867",
   "metadata": {},
   "outputs": [
    {
     "name": "stdout",
     "output_type": "stream",
     "text": [
      "Model 1 R2 Score: 0.8573567212434977\n",
      "Model 2 R2 Score: 0.8682389358609224\n",
      "Model 3 R2 Score: 0.6338895498363157\n",
      "Model 4 R2 Score: 0.8093619604229948\n",
      "Model 5 R2 Score: 0.7585512957677691\n"
     ]
    },
    {
     "name": "stderr",
     "output_type": "stream",
     "text": [
      "C:\\Users\\abhis\\AppData\\Local\\Programs\\Python\\Python311\\Lib\\site-packages\\cubist\\_make_data_string.py:67: FutureWarning: DataFrame.applymap has been deprecated. Use DataFrame.map instead.\n",
      "  x = x.applymap(lambda a: a.lstrip())\n",
      "C:\\Users\\abhis\\AppData\\Local\\Programs\\Python\\Python311\\Lib\\site-packages\\cubist\\_make_data_string.py:67: FutureWarning: DataFrame.applymap has been deprecated. Use DataFrame.map instead.\n",
      "  x = x.applymap(lambda a: a.lstrip())\n",
      "C:\\Users\\abhis\\AppData\\Local\\Programs\\Python\\Python311\\Lib\\site-packages\\cubist\\_make_data_string.py:67: FutureWarning: DataFrame.applymap has been deprecated. Use DataFrame.map instead.\n",
      "  x = x.applymap(lambda a: a.lstrip())\n"
     ]
    }
   ],
   "source": [
    "# Calculate R2 score\n",
    "r2_scores = [] \n",
    "\n",
    "for i, model in enumerate(models):\n",
    "    # Predict the soil property values for the preprocessed spectra\n",
    "    y_pred = model.predict(preprocessed_spectra[i])\n",
    "    \n",
    "    # Calculate R2 score\n",
    "    r2 = find_r2(y_pred, y.iloc[:, i])\n",
    "    r2_scores.append(r2)\n",
    "\n",
    "# Print R2 scores for each model\n",
    "for i, r2 in enumerate(r2_scores):\n",
    "    print(f\"Model {i+1} R2 Score: {r2}\")\n"
   ]
  },
  {
   "cell_type": "code",
   "execution_count": 33,
   "id": "52f5ebcd-4db3-44c0-a6ed-930e8cef0673",
   "metadata": {},
   "outputs": [
    {
     "name": "stdout",
     "output_type": "stream",
     "text": [
      "+--------------------+--------------------+----------------------+\n",
      "|       Model        | R2 (Leave One Out) | R2 (Full Prediction) |\n",
      "+--------------------+--------------------+----------------------+\n",
      "|  sand_model_gbrt   |        0.35        |        0.857         |\n",
      "|  silt_model_gbrt   |        0.34        |        0.868         |\n",
      "| clay_model_cubist  |        0.43        |        0.634         |\n",
      "|  TOC_model_cubist  |        0.5         |        0.809         |\n",
      "| CaCO3_model_cubist |        0.6         |        0.758         |\n",
      "+--------------------+--------------------+----------------------+\n"
     ]
    }
   ],
   "source": [
    "from tabulate import tabulate\n",
    "\n",
    "# List of lists containing model names and R2 scores\n",
    "results = [\n",
    "    [\"sand_model_gbrt\", 0.35, 0.857],\n",
    "    [\"silt_model_gbrt\", 0.34, 0.868],\n",
    "    [\"clay_model_cubist\", 0.43, 0.634],\n",
    "    [\"TOC_model_cubist\", 0.5, 0.809],\n",
    "    [\"CaCO3_model_cubist\", 0.6, 0.758],\n",
    "    \n",
    "]\n",
    "\n",
    "# Print the results in a table format\n",
    "print(tabulate(results, headers=['Model', 'R2 (Leave One Out)', 'R2 (Full Prediction)'], tablefmt='pretty'))\n"
   ]
  }
 ],
 "metadata": {
  "kernelspec": {
   "display_name": "Python 3 (ipykernel)",
   "language": "python",
   "name": "python3"
  },
  "language_info": {
   "codemirror_mode": {
    "name": "ipython",
    "version": 3
   },
   "file_extension": ".py",
   "mimetype": "text/x-python",
   "name": "python",
   "nbconvert_exporter": "python",
   "pygments_lexer": "ipython3",
   "version": "3.11.2"
  }
 },
 "nbformat": 4,
 "nbformat_minor": 5
}
