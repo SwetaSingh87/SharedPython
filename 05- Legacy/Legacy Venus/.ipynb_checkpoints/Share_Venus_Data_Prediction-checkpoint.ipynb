{
 "cells": [
  {
   "cell_type": "code",
   "execution_count": null,
   "id": "eb4efac9-f5a1-4710-85ee-a73419349856",
   "metadata": {},
   "outputs": [],
   "source": [
    "#!pip install rasterio"
   ]
  },
  {
   "cell_type": "code",
   "execution_count": null,
   "id": "533d32bc-681d-49c5-b5ec-314495353a27",
   "metadata": {},
   "outputs": [],
   "source": [
    "#!pip install gdal"
   ]
  },
  {
   "cell_type": "code",
   "execution_count": null,
   "id": "5b9d2dac-f863-429e-bc28-6826eb22d9f2",
   "metadata": {},
   "outputs": [],
   "source": [
    "#!conda install -c conda-forge gdal"
   ]
  },
  {
   "cell_type": "code",
   "execution_count": 1,
   "id": "4d2f3dbb-a64e-4b23-9196-d3430bde6d60",
   "metadata": {},
   "outputs": [],
   "source": [
    "import os\n",
    "import numpy as np\n",
    "#from osgeo import gdal, gdal_array, ogr\n",
    "import rasterio as rio\n",
    "import pandas as pd\n",
    "import pickle\n",
    "import cubist\n",
    "from sklearn.cross_decomposition import PLSRegression\n",
    "from sklearn.model_selection import train_test_split\n",
    "import multiprocessing as mp\n",
    "from sklearn.ensemble import GradientBoostingRegressor\n",
    "from sklearn.impute import SimpleImputer"
   ]
  },
  {
   "cell_type": "code",
   "execution_count": 2,
   "id": "609024f2-20d7-4e55-8a27-52a6b602f0d8",
   "metadata": {},
   "outputs": [],
   "source": [
    "# Function to calculate first-order differences of spectra\n",
    "def fod (spectra):\n",
    "    fo_spec = spectra.iloc[:,:]\n",
    "    (row,col) = fo_spec.shape\n",
    "    \n",
    "    for i in range(0, col):\n",
    "        if i==col-1:\n",
    "            fo_spec.iloc[:,i] = fo_spec.iloc[:,i-1]\n",
    "        else:    \n",
    "            fo_spec.iloc[:,i] = (spectra.iloc[:,i+1]- spectra.iloc[:,i])\n",
    "    return fo_spec\n",
    "\n",
    "# Worker function for parallel predictions\n",
    "def worker(arr):\n",
    "    return model.predict(arr)\n",
    "\n",
    "# Function to make parallel predictions\n",
    "def make_parallel_predictions(model, X):\n",
    "    num_processes = mp.cpu_count()\n",
    "    chunk_size = int(X.shape[0] / num_processes)\n",
    "    chunks = [X[i:i + chunk_size] for i in range(0, X.shape[0], chunk_size)]\n",
    "\n",
    "    with mp.Pool(processes=num_processes) as pool:\n",
    "        results = pool.map(worker, chunks)\n",
    "\n",
    "    y_pred = np.concatenate(results, axis=0)\n",
    "    return y_pred\n",
    "    "
   ]
  },
  {
   "cell_type": "code",
   "execution_count": 3,
   "id": "f81597e8-73b9-4c82-b432-9c63a403fc2f",
   "metadata": {},
   "outputs": [],
   "source": [
    "## VENuS Image\n",
    "# fname = './VE_VM03_VSC_L2VALD_ISRAELWI_20220824/VE_VM03_VSC_L2VALD_ISRAELWI_20220824.DBL.DIR/VE_VM03_VSC_PDTIMG_L2VALD_ISRAELWI_20220824_SRE.DBL.TIF'\n",
    "fname = 'VE_VM03_VSC_L2VALD_ISRAELWI_20220824_Clip.tif'\n",
    "\n",
    "src = rio.open(fname)\n",
    "metadata = src.meta\n",
    "num_bands = src.count\n",
    "\n",
    "venus_image = []\n",
    "\n",
    "for i in range(num_bands):\n",
    "    image = src.read(i + 1)\n",
    "    image = image.astype(float)\n",
    "    image[image < 0] = np.nan\n",
    "    image = image / 1000\n",
    "    image[image < 0] = np.nan\n",
    "    venus_image.append(image.flatten())\n",
    "\n",
    "venus_image = np.array(venus_image).T"
   ]
  },
  {
   "cell_type": "code",
   "execution_count": 4,
   "id": "4c0979ec-2069-47ae-adc8-48d3af614106",
   "metadata": {},
   "outputs": [],
   "source": [
    "# Function to preprocess input data based on soil property\n",
    "def get_process_func(soil_property):\n",
    "    if soil_property == 'caco3' or soil_property == 'toc':\n",
    "        return lambda df: fod((1 / df).apply(np.log))\n",
    "    else:\n",
    "        return lambda df: fod(df)\n",
    "\n",
    "# Function to get appropriate model based on soil property\n",
    "def get_model_dump(soil_property):\n",
    "    if soil_property == 'caco3':\n",
    "        return './models/CaCO3_model_cubist.pkl'\n",
    "    elif soil_property == 'clay':\n",
    "        return './models/clay_model_cubist.pkl'\n",
    "    elif soil_property == 'toc':\n",
    "        return './models/TOC_model_cubist.pkl'\n",
    "    elif soil_property == 'silt':\n",
    "        return './models/silt_model_gbrt.pkl'\n",
    "    elif soil_property == 'sand':\n",
    "        return './models/sand_model_gbrt.pkl'\n",
    "\n",
    "# Function to predict soil property using pre-trained model\n",
    "def predict_soil_property(soil_property, venus_df_cleaned):\n",
    "    imputer = SimpleImputer(strategy='mean')\n",
    "    process_func = get_process_func(soil_property)\n",
    "    process2 = process_func(venus_df_cleaned)\n",
    "    process2.replace([np.inf, -np.inf], np.nan, inplace=True)\n",
    "    x_pred = pd.DataFrame(imputer.fit_transform(process2), columns=process2.columns)\n",
    "    print(f'Model loaded for {soil_property}')\n",
    "    dumpName = get_model_dump(soil_property)\n",
    "    model = pickle.load(open(dumpName, 'rb'))\n",
    "    return model.predict(x_pred)"
   ]
  },
  {
   "cell_type": "code",
   "execution_count": 5,
   "id": "d3094984-fc66-461f-bfdc-44bacaaf0f1a",
   "metadata": {},
   "outputs": [],
   "source": [
    "venus_df = pd.DataFrame(venus_image)\n",
    "venus_df.columns = ['420', '443', '490', '555', '619', '638', '672', '702', '742', '782', '865', '910']\n",
    "venus_df.drop('619', axis=1, inplace=True)"
   ]
  },
  {
   "cell_type": "code",
   "execution_count": 6,
   "id": "51600c82-8bff-47bb-b40a-921b191c48c8",
   "metadata": {},
   "outputs": [],
   "source": [
    "# 1. Remove NaN values from the dataframe\n",
    "nan_indices = venus_df.index[venus_df.isna().any(axis=1)]\n",
    "venus_df_cleaned = venus_df.dropna()"
   ]
  },
  {
   "cell_type": "code",
   "execution_count": 7,
   "id": "71d48fef-d1e4-41ac-a159-d785d10b0ed9",
   "metadata": {},
   "outputs": [],
   "source": [
    "# # Initialize DataFrame with all five soil properties\n",
    "# df = pd.DataFrame(index=venus_df_cleaned.index)"
   ]
  },
  {
   "cell_type": "code",
   "execution_count": null,
   "id": "fd851d69-88da-40bb-a630-67cc7d9682c4",
   "metadata": {},
   "outputs": [],
   "source": [
    "# with open ('y_pred.pickle', 'rb') as file:\n",
    "#     y_pred = pickle.load(file)\n",
    " "
   ]
  },
  {
   "cell_type": "code",
   "execution_count": 8,
   "id": "262ff48f-38c3-4ef1-971a-e7bd23603d2b",
   "metadata": {},
   "outputs": [],
   "source": [
    "# Define soil properties\n",
    "soil_properties = ['caco3', 'clay', 'toc', 'silt', 'sand']"
   ]
  },
  {
   "cell_type": "code",
   "execution_count": 11,
   "id": "20776d17-e703-4243-8480-4b384113cd14",
   "metadata": {},
   "outputs": [],
   "source": [
    "# Check if pickle file exists\n",
    "pickle_file = 'predictions.pickle'\n",
    "try:\n",
    "    # Try to load predictions from pickle file\n",
    "    with open(pickle_file, 'rb') as f:\n",
    "        predictions = pickle.load(f)\n",
    "    print(\"Predictions loaded from pickle file.\")\n",
    "except FileNotFoundError:\n",
    "    # If pickle file doesn't exist, make predictions and save to pickle file\n",
    "    predictions = {}"
   ]
  },
  {
   "cell_type": "code",
   "execution_count": 13,
   "id": "773ea09b-108e-44b2-90f9-c7223b12218c",
   "metadata": {},
   "outputs": [
    {
     "name": "stdout",
     "output_type": "stream",
     "text": [
      "Model loaded for caco3\n"
     ]
    },
    {
     "name": "stderr",
     "output_type": "stream",
     "text": [
      "C:\\Users\\abhis\\AppData\\Local\\Programs\\Python\\Python311\\Lib\\site-packages\\cubist\\_make_data_string.py:67: FutureWarning: DataFrame.applymap has been deprecated. Use DataFrame.map instead.\n",
      "  x = x.applymap(lambda a: a.lstrip())\n"
     ]
    },
    {
     "name": "stdout",
     "output_type": "stream",
     "text": [
      "Soil property: caco3, y_pred size: 3138920\n",
      "Model loaded for clay\n"
     ]
    },
    {
     "name": "stderr",
     "output_type": "stream",
     "text": [
      "C:\\Users\\abhis\\AppData\\Local\\Programs\\Python\\Python311\\Lib\\site-packages\\cubist\\_make_data_string.py:67: FutureWarning: DataFrame.applymap has been deprecated. Use DataFrame.map instead.\n",
      "  x = x.applymap(lambda a: a.lstrip())\n"
     ]
    },
    {
     "name": "stdout",
     "output_type": "stream",
     "text": [
      "Soil property: clay, y_pred size: 3138920\n",
      "Model loaded for toc\n"
     ]
    },
    {
     "name": "stderr",
     "output_type": "stream",
     "text": [
      "C:\\Users\\abhis\\AppData\\Local\\Programs\\Python\\Python311\\Lib\\site-packages\\cubist\\_make_data_string.py:67: FutureWarning: DataFrame.applymap has been deprecated. Use DataFrame.map instead.\n",
      "  x = x.applymap(lambda a: a.lstrip())\n"
     ]
    },
    {
     "name": "stdout",
     "output_type": "stream",
     "text": [
      "Soil property: toc, y_pred size: 3138920\n",
      "Model loaded for silt\n",
      "Soil property: silt, y_pred size: 3138920\n",
      "Model loaded for sand\n",
      "Soil property: sand, y_pred size: 3138920\n"
     ]
    }
   ],
   "source": [
    "# Predict each soil property and store in DataFrame\n",
    "for soil_property in soil_properties:\n",
    "    y_pred = predict_soil_property(soil_property, venus_df_cleaned)\n",
    "    print(f'Soil property: {soil_property}, y_pred size: {y_pred.size}')\n",
    "    predictions[soil_property] = y_pred"
   ]
  },
  {
   "cell_type": "code",
   "execution_count": null,
   "id": "8727e6a0-73ac-45ac-950c-930ccb93af01",
   "metadata": {},
   "outputs": [],
   "source": [
    "# Save predictions to pickle file\n",
    "with open(pickle_file, 'wb') as f:\n",
    "    pickle.dump(predictions, f)\n",
    "\n",
    "print(\"Predictions saved to pickle file.\")"
   ]
  },
  {
   "cell_type": "code",
   "execution_count": null,
   "id": "581484bb-0d90-406c-bcd4-7b7b905eb8c0",
   "metadata": {},
   "outputs": [],
   "source": [
    "# Store predictions in DataFrame\n",
    "df = pd.DataFrame(predictions)"
   ]
  },
  {
   "cell_type": "code",
   "execution_count": null,
   "id": "91703784-b1f5-4652-ace8-45b36d65127d",
   "metadata": {},
   "outputs": [],
   "source": [
    "# Reshape y_pred using the dimensions of the VENuS image\n",
    "y_pred_reshaped = y_pred.reshape(src.height, src.width)"
   ]
  },
  {
   "cell_type": "code",
   "execution_count": null,
   "id": "d04cff40-a9c4-407e-93db-0eeb075c63b4",
   "metadata": {},
   "outputs": [],
   "source": [
    "y_pred.size"
   ]
  },
  {
   "cell_type": "code",
   "execution_count": null,
   "id": "ec0f02ef-1efd-414f-8770-a397bd56b64e",
   "metadata": {},
   "outputs": [],
   "source": [
    "src.height"
   ]
  },
  {
   "cell_type": "code",
   "execution_count": null,
   "id": "022456f8-c506-433b-8246-d6f6b3c07c29",
   "metadata": {},
   "outputs": [],
   "source": [
    "src.width"
   ]
  },
  {
   "cell_type": "code",
   "execution_count": null,
   "id": "7827d2a8-7676-410f-8f83-a5fc7e364f92",
   "metadata": {},
   "outputs": [],
   "source": [
    "# Printing minimum and maximum values of caco3 in the predictions\n",
    "minimum_value = df['caco3'].min()\n",
    "maximum_value = df['caco3'].max()\n",
    "\n",
    "print(f\"Minimum value: {minimum_value}\")\n",
    "print(f\"Maximum value: {maximum_value}\")"
   ]
  },
  {
   "cell_type": "code",
   "execution_count": null,
   "id": "74e94e62-a8a2-4f2c-900d-33012b012ea2",
   "metadata": {},
   "outputs": [],
   "source": [
    "# Printing minimum and maximum values of caco3 in the predictions\n",
    "minimum_value = df['clay'].min()\n",
    "maximum_value = df['clay'].max()\n",
    "\n",
    "print(f\"Minimum value: {minimum_value}\")\n",
    "print(f\"Maximum value: {maximum_value}\")"
   ]
  },
  {
   "cell_type": "code",
   "execution_count": null,
   "id": "dbc7aebd-b380-47ea-b815-0760ac86fdb1",
   "metadata": {},
   "outputs": [],
   "source": [
    "# Printing minimum and maximum values of caco3 in the predictions\n",
    "minimum_value = df['toc'].min()\n",
    "maximum_value = df['toc'].max()\n",
    "\n",
    "print(f\"Minimum value: {minimum_value}\")\n",
    "print(f\"Maximum value: {maximum_value}\")"
   ]
  },
  {
   "cell_type": "code",
   "execution_count": null,
   "id": "a5c62764-38bd-4526-8797-bcf57e82dade",
   "metadata": {},
   "outputs": [],
   "source": [
    "# Printing minimum and maximum values of caco3 in the predictions\n",
    "minimum_value = df['sand'].min()\n",
    "maximum_value = df['sand'].max()\n",
    "\n",
    "print(f\"Minimum value: {minimum_value}\")\n",
    "print(f\"Maximum value: {maximum_value}\")"
   ]
  },
  {
   "cell_type": "code",
   "execution_count": null,
   "id": "718cb932-8543-4139-9f19-c2d98aa62495",
   "metadata": {},
   "outputs": [],
   "source": [
    "# Printing minimum and maximum values of caco3 in the predictions\n",
    "minimum_value = df['silt'].min()\n",
    "maximum_value = df['silt'].max()\n",
    "\n",
    "print(f\"Minimum value: {minimum_value}\")\n",
    "print(f\"Maximum value: {maximum_value}\")"
   ]
  },
  {
   "cell_type": "code",
   "execution_count": null,
   "id": "315d34b2-5c1e-4a08-8234-b4d40d08cb6c",
   "metadata": {},
   "outputs": [],
   "source": [
    "# y_pred = y_pred.flatten()\n",
    "# predicted_image = y_pred.reshape(metadata['height'], metadata['width'])\n",
    "# predicted_image = np.where(np.isnan(predicted_image), 0, predicted_image)\n",
    "# predicted_image = np.expand_dims(predicted_image, axis=0)\n",
    "# model_name = dumpName.split('.pkl')[0].split('_')[-1]\n",
    "# output_path = f'./results/20220824_Clip_Predicted_{model_name}_{soil_property}.tif'\n",
    "# output_image = rio.open(output_path, 'w', driver = 'GTiff', dtype = 'float32', crs = src.crs, width=metadata['width'], height=metadata['height'], count=1, transform = src.transform)\n",
    "# output_image.write(predicted_image)\n",
    "# output_image.close()\n",
    "\n",
    "# print(\"Predicted results saved :\", output_path)"
   ]
  },
  {
   "cell_type": "code",
   "execution_count": null,
   "id": "d693dbe3-1ab1-44be-a0ae-1cfda9a546c1",
   "metadata": {},
   "outputs": [],
   "source": [
    "# Write predicted image to GeoTIFF file\n",
    "output_path = f'./results/20220824_Clip_Predicted_{model_name}_{soil_property}.tif'\n",
    "output_image = rio.open(output_path, 'w', driver='GTiff', dtype='float32', crs=src.crs, \n",
    "                            width=src.width, height=src.height, count=1, transform=src.transform)\n",
    "output_image.write(y_pred_reshaped, 1)\n",
    "output_image.close()\n",
    "\n",
    "print(\"Predicted results saved:\", output_path)"
   ]
  },
  {
   "cell_type": "code",
   "execution_count": null,
   "id": "a6fe776c-1a8e-46d8-a0ba-ba0c19a3ec34",
   "metadata": {},
   "outputs": [],
   "source": []
  }
 ],
 "metadata": {
  "kernelspec": {
   "display_name": "Python 3 (ipykernel)",
   "language": "python",
   "name": "python3"
  },
  "language_info": {
   "codemirror_mode": {
    "name": "ipython",
    "version": 3
   },
   "file_extension": ".py",
   "mimetype": "text/x-python",
   "name": "python",
   "nbconvert_exporter": "python",
   "pygments_lexer": "ipython3",
   "version": "3.11.2"
  },
  "widgets": {
   "application/vnd.jupyter.widget-state+json": {
    "state": {},
    "version_major": 2,
    "version_minor": 0
   }
  }
 },
 "nbformat": 4,
 "nbformat_minor": 5
}
