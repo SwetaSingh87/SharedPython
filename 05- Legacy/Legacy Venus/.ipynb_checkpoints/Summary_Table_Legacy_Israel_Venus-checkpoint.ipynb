{
 "cells": [
  {
   "cell_type": "markdown",
   "id": "345a36f7-98a0-4abd-83cd-36cbe51bf17c",
   "metadata": {},
   "source": [
    "### Summary Table of the statistics parameters of the  models (Israel Venus)"
   ]
  },
  {
   "cell_type": "code",
   "execution_count": 21,
   "id": "52f5ebcd-4db3-44c0-a6ed-930e8cef0673",
   "metadata": {},
   "outputs": [
    {
     "name": "stdout",
     "output_type": "stream",
     "text": [
      "+------------+--------------------+--------------------+----------------------+------------------------+\n",
      "| Attributes |     Model Name     | R2 (Leave One Out) | R2 (Full Prediction) | Spectral Preprocessing |\n",
      "+------------+--------------------+--------------------+----------------------+------------------------+\n",
      "|    Sand    |  sand_model_gbrt   |        0.35        |        0.857         |          fod           |\n",
      "|    Silt    |  silt_model_gbrt   |        0.34        |        0.868         |          fod           |\n",
      "|    Clay    | clay_model_cubist  |        0.43        |        0.634         |          fod           |\n",
      "|    TOC     |  TOC_model_cubist  |        0.5         |        0.809         |        fod_log         |\n",
      "|   CaCO3    | CaCO3_model_cubist |        0.6         |        0.758         |        fod_log         |\n",
      "+------------+--------------------+--------------------+----------------------+------------------------+\n"
     ]
    }
   ],
   "source": [
    "from tabulate import tabulate\n",
    "\n",
    "# List of lists containing model names and R2 scores\n",
    "results = [\n",
    "    [\"Sand\", \"sand_model_gbrt\", 0.35, 0.857, \"fod\"],\n",
    "    [\"Silt\", \"silt_model_gbrt\", 0.34, 0.868, \"fod\"],\n",
    "    [\"Clay\", \"clay_model_cubist\", 0.43, 0.634, \"fod\"],\n",
    "    [\"TOC\", \"TOC_model_cubist\", 0.5, 0.809, \"fod_log\"],\n",
    "    [\"CaCO3\", \"CaCO3_model_cubist\", 0.6, 0.758, \"fod_log\"],\n",
    "] \n",
    "\n",
    "# Print the results in a table format\n",
    "print(tabulate(results, headers=['Attributes', 'Model Name', 'R2 (Leave One Out)', 'R2 (Full Prediction)', 'Spectral Preprocessing'], tablefmt='pretty'))\n"
   ]
  },
  {
   "cell_type": "markdown",
   "id": "91d25a17-1482-45e4-864a-1b7ef2016e3c",
   "metadata": {},
   "source": [
    " R2 scores of all the models is calculated using two different techniques: leave-one-out  and direct predictions on the entire spectra. "
   ]
  },
  {
   "cell_type": "markdown",
   "id": "f9f95e5c-8df6-4ecb-8a8c-26257e13f6a2",
   "metadata": {},
   "source": [
    "The last column presents different spectral preprocessing techniques utilized by the various models. For instance :  \n",
    "- **fod** means first order derivative was applied on the spectra.\n",
    "- **fod_log** means logarithmic transformation was applied on the absorbance and then first order derivative was applied on the resultant spectra."
   ]
  },
  {
   "cell_type": "code",
   "execution_count": null,
   "id": "009a4e10-36ee-48fd-929b-703a1c51813f",
   "metadata": {},
   "outputs": [],
   "source": []
  }
 ],
 "metadata": {
  "kernelspec": {
   "display_name": "Python 3 (ipykernel)",
   "language": "python",
   "name": "python3"
  },
  "language_info": {
   "codemirror_mode": {
    "name": "ipython",
    "version": 3
   },
   "file_extension": ".py",
   "mimetype": "text/x-python",
   "name": "python",
   "nbconvert_exporter": "python",
   "pygments_lexer": "ipython3",
   "version": "3.11.2"
  }
 },
 "nbformat": 4,
 "nbformat_minor": 5
}
