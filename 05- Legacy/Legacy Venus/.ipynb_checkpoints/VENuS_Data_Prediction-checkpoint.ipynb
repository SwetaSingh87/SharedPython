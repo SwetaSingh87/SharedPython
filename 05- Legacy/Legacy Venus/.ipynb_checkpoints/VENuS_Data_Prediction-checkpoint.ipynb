{
 "cells": [
  {
   "cell_type": "code",
   "execution_count": null,
   "id": "eb4efac9-f5a1-4710-85ee-a73419349856",
   "metadata": {},
   "outputs": [],
   "source": [
    "import os\n",
    "import numpy as np\n",
    "from osgeo import gdal, gdal_array, ogr\n",
    "import rasterio as rio\n",
    "import pandas as pd\n",
    "import pickle\n",
    "import cubist\n",
    "from sklearn.cross_decomposition import PLSRegression\n",
    "from sklearn.model_selection import train_test_split\n",
    "import multiprocessing as mp\n",
    "from sklearn.ensemble import GradientBoostingRegressor"
   ]
  },
  {
   "cell_type": "code",
   "execution_count": 2,
   "id": "bb00f149-c519-4744-8159-dd2153fb1a7a",
   "metadata": {},
   "outputs": [],
   "source": [
    "def fod (spectra):\n",
    "    fo_spec = spectra.iloc[:,:]\n",
    "    (row,col) = fo_spec.shape\n",
    "    \n",
    "    for i in range(0, col):\n",
    "        if i==col-1:\n",
    "            fo_spec.iloc[:,i] = fo_spec.iloc[:,i-1]\n",
    "        else:    \n",
    "            fo_spec.iloc[:,i] = (spectra.iloc[:,i+1]- spectra.iloc[:,i])\n",
    "    return fo_spec\n",
    "\n",
    "def worker(arr):\n",
    "    return model.predict(arr)\n",
    "\n",
    "def make_parallel_predictions(model, X):\n",
    "    num_processes = mp.cpu_count()\n",
    "    chunk_size = int(X.shape[0] / num_processes)\n",
    "    chunks = [X[i:i + chunk_size] for i in range(0, X.shape[0], chunk_size)]\n",
    "\n",
    "    with mp.Pool(processes=num_processes) as pool:\n",
    "        results = pool.map(worker, chunks)\n",
    "\n",
    "    y_pred = np.concatenate(results, axis=0)\n",
    "    return y_pred"
   ]
  },
  {
   "cell_type": "code",
   "execution_count": 3,
   "id": "01cdd76b-6232-4327-a71c-d0819879a0a1",
   "metadata": {},
   "outputs": [],
   "source": [
    "## VENuS Image\n",
    "# fname = './VE_VM03_VSC_L2VALD_ISRAELWI_20220824/VE_VM03_VSC_L2VALD_ISRAELWI_20220824.DBL.DIR/VE_VM03_VSC_PDTIMG_L2VALD_ISRAELWI_20220824_SRE.DBL.TIF'\n",
    "fname = 'VE_VM03_VSC_L2VALD_ISRAELWI_20220824_Clip.tif'\n",
    "\n",
    "src = rio.open(fname)\n",
    "metadata = src.meta\n",
    "num_bands = src.count\n",
    "\n",
    "venus_image = []\n",
    "\n",
    "for i in range(num_bands):\n",
    "    image = src.read(i + 1)\n",
    "    image = image.astype(float)\n",
    "    image[image < 0] = np.nan\n",
    "    image = image / 1000\n",
    "    image[image < 0] = np.nan\n",
    "    venus_image.append(image.flatten())\n",
    "\n",
    "venus_image = np.array(venus_image).T"
   ]
  },
  {
   "cell_type": "code",
   "execution_count": 4,
   "id": "48c519d3-1f0e-4bfb-a031-e1911409566f",
   "metadata": {},
   "outputs": [],
   "source": [
    "venus_df = pd.DataFrame(venus_image)\n",
    "venus_df.columns = ['420', '443', '490', '555', '619', '638', '672', '702', '742', '782', '865', '910']\n",
    "venus_df.drop('619', axis=1, inplace=True)"
   ]
  },
  {
   "cell_type": "code",
   "execution_count": 5,
   "id": "dd7065b1-f685-4a8b-aa49-c37aa4b91dcf",
   "metadata": {},
   "outputs": [],
   "source": [
    "# 1. Remove NaN values from the dataframe\n",
    "nan_indices = venus_df.index[venus_df.isna().any(axis=1)]\n",
    "venus_df_cleaned = venus_df.dropna()"
   ]
  },
  {
   "cell_type": "code",
   "execution_count": 6,
   "id": "a67d855a-63b3-46c1-a583-256aee6563bd",
   "metadata": {},
   "outputs": [
    {
     "name": "stdin",
     "output_type": "stream",
     "text": [
      "Which soil property do you want to predict (caco3/clay/toc/silt/sand) -  clay\n"
     ]
    }
   ],
   "source": [
    "soil_property = input('Which soil property do you want to predict (caco3/clay/toc/silt/sand) - ')"
   ]
  },
  {
   "cell_type": "code",
   "execution_count": 19,
   "id": "7354006a-8bf4-4014-8bcf-0307ad4c5ef6",
   "metadata": {},
   "outputs": [
    {
     "name": "stdout",
     "output_type": "stream",
     "text": [
      "Model loaded for clay\n"
     ]
    }
   ],
   "source": [
    "if soil_property == 'caco3':\n",
    "    # CaCO3\n",
    "    dumpName = './models/CaCO3_model_cubist.pkl'\n",
    "    process1 = venus_df_cleaned.apply(np.log)\n",
    "    process2 = fod(process1)\n",
    "    process2 = process2.replace(-np.inf, 0)\n",
    "    x_pred = process2\n",
    "    \n",
    "elif soil_property == 'clay':\n",
    "    # Clay Model - PLSR\n",
    "    dumpName = './models/clay_model_cubist.pkl'\n",
    "    # process1 = venus_df_cleaned.apply(np.log)\n",
    "    # process2 = process1\n",
    "    process2 = fod(venus_df_cleaned)\n",
    "    process2 = process2.replace(-np.inf, 0)\n",
    "    x_pred = process2\n",
    "    print(f'Model loaded for {soil_property}')\n",
    "    \n",
    "elif soil_property == 'toc':\n",
    "    # TOC Model - Cubist \n",
    "    dumpName = './models/TOC_model_cubist.pkl'\n",
    "    process1 = venus_df_cleaned.apply(np.log)\n",
    "    process2 = fod(process1)\n",
    "    process2 = process2.replace(-np.inf, 0)\n",
    "    x_pred = process2\n",
    "\n",
    "elif soil_property == 'silt':\n",
    "    # Silt Model - GBRT \n",
    "    dumpName = './models/silt_model_gbrt.pkl'\n",
    "    process2 = fod(venus_df_cleaned)\n",
    "    process2 = process2.replace(-np.inf, 0)\n",
    "    x_pred = process2\n",
    "\n",
    "elif soil_property == 'sand':\n",
    "    # Sand Model - GBRT \n",
    "    dumpName = './models/sand_model_gbrt.pkl'\n",
    "    process2 = fod(venus_df_cleaned)\n",
    "    process2 = process2.replace(-np.inf, 0)\n",
    "    x_pred = process2\n"
   ]
  },
  {
   "cell_type": "code",
   "execution_count": 20,
   "id": "21780802-2595-4d2f-97d6-c361a889853b",
   "metadata": {},
   "outputs": [
    {
     "name": "stderr",
     "output_type": "stream",
     "text": [
      "C:\\Users\\gupta\\AppData\\Local\\anaconda3\\envs\\emit\\Lib\\site-packages\\cubist\\_make_data_string.py:67: FutureWarning: DataFrame.applymap has been deprecated. Use DataFrame.map instead.\n",
      "  x = x.applymap(lambda a: a.lstrip())\n"
     ]
    }
   ],
   "source": [
    "# 2. Make predictions on the cleaned dataframe\n",
    "model = pickle.load(open(dumpName, 'rb'))\n",
    "y_pred = model.predict(x_pred)"
   ]
  },
  {
   "cell_type": "code",
   "execution_count": 21,
   "id": "64b62979-6a64-46fe-a5bf-f97b7e0606db",
   "metadata": {},
   "outputs": [],
   "source": [
    "# 3. Reinsert the NaN values in the predicted outcomes\n",
    "y_pred_with_nans = np.full(len(venus_df), np.nan)\n",
    "y_pred_with_nans[~venus_df.index.isin(nan_indices)] = y_pred\n",
    "y_pred = y_pred_with_nans"
   ]
  },
  {
   "cell_type": "code",
   "execution_count": 22,
   "id": "315d34b2-5c1e-4a08-8234-b4d40d08cb6c",
   "metadata": {},
   "outputs": [
    {
     "name": "stdout",
     "output_type": "stream",
     "text": [
      "Predicted results saved : ./results/20220824_Clip_Predicted_cubist_clay.tif\n"
     ]
    }
   ],
   "source": [
    "y_pred = y_pred.flatten()\n",
    "predicted_image = y_pred.reshape(metadata['height'], metadata['width'])\n",
    "predicted_image = np.where(np.isnan(predicted_image), 0, predicted_image)\n",
    "predicted_image = np.expand_dims(predicted_image, axis=0)\n",
    "model_name = dumpName.split('.pkl')[0].split('_')[-1]\n",
    "output_path = f'./results/20220824_Clip_Predicted_{model_name}_{soil_property}.tif'\n",
    "output_image = rio.open(output_path, 'w', driver = 'GTiff', dtype = 'float32', crs = src.crs, width=metadata['width'], height=metadata['height'], count=1, transform = src.transform)\n",
    "output_image.write(predicted_image)\n",
    "output_image.close()\n",
    "\n",
    "print(\"Predicted results saved :\", output_path)"
   ]
  },
  {
   "cell_type": "code",
   "execution_count": null,
   "id": "7ff11f8c-9834-42d4-88cd-cf08ea0f97f1",
   "metadata": {},
   "outputs": [],
   "source": []
  }
 ],
 "metadata": {
  "kernelspec": {
   "display_name": "Python 3 (ipykernel)",
   "language": "python",
   "name": "python3"
  },
  "language_info": {
   "codemirror_mode": {
    "name": "ipython",
    "version": 3
   },
   "file_extension": ".py",
   "mimetype": "text/x-python",
   "name": "python",
   "nbconvert_exporter": "python",
   "pygments_lexer": "ipython3",
   "version": "3.11.2"
  },
  "widgets": {
   "application/vnd.jupyter.widget-state+json": {
    "state": {},
    "version_major": 2,
    "version_minor": 0
   }
  }
 },
 "nbformat": 4,
 "nbformat_minor": 5
}
