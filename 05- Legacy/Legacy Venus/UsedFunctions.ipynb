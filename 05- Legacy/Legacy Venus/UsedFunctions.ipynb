{
 "cells": [
  {
   "cell_type": "markdown",
   "id": "136fce3e-f126-4451-8cef-e62f84331803",
   "metadata": {},
   "source": [
    "### Definitions of the functions used to evaluate the best model and description the nomenclature of different spectras which are used in the best models."
   ]
  },
  {
   "cell_type": "markdown",
   "id": "94daeac1-5552-4016-9e12-ace669f3b1f3",
   "metadata": {},
   "source": [
    "##### The provided spectra is smoothed using second order savitzky golay filter at a window length of 51 and it is termed as **spec2[51]**."
   ]
  },
  {
   "cell_type": "markdown",
   "id": "e8402bdd-45aa-4ee3-86ee-294fc73e0a51",
   "metadata": {},
   "source": [
    "##### spec2[51] is passed as an argument (spectrum) to the resample_at function."
   ]
  },
  {
   "cell_type": "markdown",
   "id": "bd2e786c-6b0b-4535-96dd-4b82bb8be741",
   "metadata": {},
   "source": [
    "### resample_at function is used to resample the spectra to the 11 bands of Venus"
   ]
  },
  {
   "cell_type": "code",
   "execution_count": 1,
   "id": "cbe485ad-c829-4d7e-ab4f-4e880a4bd645",
   "metadata": {},
   "outputs": [],
   "source": [
    "mid_locs = ['420', '443', '490', '555', '638', '672', '702', '742', '782', '865', '910']\n",
    "band_widths = [25, 40, 20, 20, 24, 16, 24, 16, 16, 20, 20]  "
   ]
  },
  {
   "cell_type": "code",
   "execution_count": 2,
   "id": "f88db523-2bcd-4c30-ab35-ec6e01487481",
   "metadata": {},
   "outputs": [],
   "source": [
    "def resample_at (spectrum, mid_locs, band_widths):\n",
    "    \n",
    "    #----- obtaining the sampling ilocations in indx----\n",
    "    mid_ilocs = []\n",
    "    for l in mid_locs:\n",
    "        #print(l)\n",
    "        i = spectrum.columns.get_loc(l)\n",
    "        mid_ilocs.append(i)\n",
    "    \n",
    "    #print(mid_ilocs)\n",
    "    #print(mid_ilocs)\n",
    "    #print(mid_locs)   \n",
    "    \n",
    "    #----- finding initial shape for red_spectra ------\n",
    "    red_spectra = spectrum.iloc[:, mid_ilocs].copy()\n",
    "    #print(red_spectra.head(5))\n",
    "    #print(len(mid_ilocs))\n",
    "    \n",
    "    for i in range(0, len(mid_ilocs)):\n",
    "        m = mid_ilocs[i]\n",
    "        l = mid_locs[i]\n",
    "        window = np.floor(0.5*band_widths[i]).astype(int)\n",
    "        #print('m: ', m, 'window:', window)\n",
    "        red_spectra.loc[:,l] = spectrum.iloc[:,(m-window):(m+window)].mean(axis=1).copy()\n",
    "        \n",
    "    return (red_spectra)"
   ]
  },
  {
   "cell_type": "markdown",
   "id": "05ec955d-c376-40d4-8252-3e84425ba12a",
   "metadata": {},
   "source": [
    "##### red_spectra returned by the resample_at function is known as **sampled_spec11**."
   ]
  },
  {
   "cell_type": "markdown",
   "id": "9a1d44c8-f8a3-4c26-bd1f-c047c3ebaa0f",
   "metadata": {},
   "source": [
    "#### Logarithmic Transformed Spectra"
   ]
  },
  {
   "cell_type": "markdown",
   "id": "ca2a2742-a97b-48d6-a131-4a5b8e9493b6",
   "metadata": {},
   "source": [
    "##### First we obtain logarithmic tranformed spectra **log_spec** by applying np.log to smoothed spectra spec2[51]. Then the spectra **sampled_log11** is obtained by passing log_spec as an argument to the resample_at function."
   ]
  },
  {
   "cell_type": "code",
   "execution_count": null,
   "id": "08f59519-e2ee-40dc-8a54-56cdb1e99324",
   "metadata": {},
   "outputs": [],
   "source": [
    "log_spec = ((1/spec2[51]).apply(np.log)).copy()"
   ]
  },
  {
   "cell_type": "markdown",
   "id": "715ffc6b-9d5e-4f45-894e-af8da18eebc3",
   "metadata": {},
   "source": [
    "sampled_log11 = resample_at(log_spec, mid_locs, band_widths)"
   ]
  },
  {
   "cell_type": "markdown",
   "id": "0f9de101-fcd3-4224-a990-47596fa3dcc6",
   "metadata": {},
   "source": [
    "### fod function is used to find out the first order derivative of the various preprocessed spectras."
   ]
  },
  {
   "cell_type": "code",
   "execution_count": null,
   "id": "a5e2e92f-373c-4829-a7b3-679400eb1e88",
   "metadata": {},
   "outputs": [],
   "source": [
    "def fod (spectra):\n",
    "    fo_spec = spectra.iloc[:,:].copy()\n",
    "    (row,col) = fo_spec.shape\n",
    "    \n",
    "    for i in range(0,col):\n",
    "        if i==col-1:\n",
    "            fo_spec.iloc[:,i] = fo_spec.iloc[:,i-1]\n",
    "        else:    \n",
    "            fo_spec.iloc[:,i] = (spectra.iloc[:,i+1]- spectra.iloc[:,i])\n",
    "        \n",
    "    #fo_spec = 100*fo_spec\n",
    "    return(fo_spec.copy())"
   ]
  },
  {
   "cell_type": "markdown",
   "id": "9cb7fced-5f06-4b27-8c7b-b8dd13f01b42",
   "metadata": {},
   "source": [
    "#### Description of the 2 preprocessed spectras used in the best models."
   ]
  },
  {
   "cell_type": "markdown",
   "id": "183f85ac-6899-4ecd-a026-cfe440d4d58c",
   "metadata": {},
   "source": [
    "#####  **fod_sampled11** is obtained by passing sampled_spec11 as an argument to the fod function. Further **fod_log11** is obtained by passing sampled_log11 as an argument to the fod function."
   ]
  },
  {
   "cell_type": "code",
   "execution_count": null,
   "id": "f5bfcd57-e830-41f4-87b3-459d65df68e8",
   "metadata": {},
   "outputs": [],
   "source": [
    "fod_sampled11 = fod (sampled_spec11)"
   ]
  },
  {
   "cell_type": "code",
   "execution_count": null,
   "id": "6257744f-955a-4762-96b6-51ac0f95aad4",
   "metadata": {},
   "outputs": [],
   "source": [
    "fod_log11 = fod (sampled_log11)"
   ]
  },
  {
   "cell_type": "code",
   "execution_count": null,
   "id": "5774c90e-cdd6-44ce-9cdf-e256e5a4582f",
   "metadata": {},
   "outputs": [],
   "source": []
  }
 ],
 "metadata": {
  "kernelspec": {
   "display_name": "Python 3 (ipykernel)",
   "language": "python",
   "name": "python3"
  },
  "language_info": {
   "codemirror_mode": {
    "name": "ipython",
    "version": 3
   },
   "file_extension": ".py",
   "mimetype": "text/x-python",
   "name": "python",
   "nbconvert_exporter": "python",
   "pygments_lexer": "ipython3",
   "version": "3.11.2"
  }
 },
 "nbformat": 4,
 "nbformat_minor": 5
}
