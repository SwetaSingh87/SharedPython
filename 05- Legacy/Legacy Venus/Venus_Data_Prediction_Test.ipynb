{
 "cells": [
  {
   "cell_type": "code",
   "execution_count": null,
   "id": "eb4efac9-f5a1-4710-85ee-a73419349856",
   "metadata": {},
   "outputs": [],
   "source": [
    "#!pip install rasterio"
   ]
  },
  {
   "cell_type": "code",
   "execution_count": null,
   "id": "533d32bc-681d-49c5-b5ec-314495353a27",
   "metadata": {},
   "outputs": [],
   "source": [
    "#!pip install gdal"
   ]
  },
  {
   "cell_type": "code",
   "execution_count": 1,
   "id": "4d2f3dbb-a64e-4b23-9196-d3430bde6d60",
   "metadata": {},
   "outputs": [],
   "source": [
    "import os\n",
    "import numpy as np\n",
    "#from osgeo import gdal, gdal_array, ogr\n",
    "import rasterio as rio\n",
    "import pandas as pd\n",
    "import pickle\n",
    "import cubist\n",
    "from sklearn.cross_decomposition import PLSRegression\n",
    "from sklearn.model_selection import train_test_split\n",
    "import multiprocessing as mp\n",
    "from sklearn.ensemble import GradientBoostingRegressor\n",
    "from sklearn.impute import SimpleImputer"
   ]
  },
  {
   "cell_type": "code",
   "execution_count": 2,
   "id": "bb00f149-c519-4744-8159-dd2153fb1a7a",
   "metadata": {},
   "outputs": [],
   "source": [
    "# Function to calculate first-order differences of spectra\n",
    "def fod (spectra):\n",
    "    fo_spec = spectra.iloc[:,:]\n",
    "    (row,col) = fo_spec.shape\n",
    "    \n",
    "    for i in range(0, col):\n",
    "        if i==col-1:\n",
    "            fo_spec.iloc[:,i] = fo_spec.iloc[:,i-1]\n",
    "        else:    \n",
    "            fo_spec.iloc[:,i] = (spectra.iloc[:,i+1]- spectra.iloc[:,i])\n",
    "    return fo_spec\n",
    "\n",
    "# Worker function for parallel predictions\n",
    "def worker(arr):\n",
    "    return model.predict(arr)\n",
    "\n",
    "# Function to make parallel predictions\n",
    "def make_parallel_predictions(model, X):\n",
    "    num_processes = mp.cpu_count()\n",
    "    chunk_size = int(X.shape[0] / num_processes)\n",
    "    chunks = [X[i:i + chunk_size] for i in range(0, X.shape[0], chunk_size)]\n",
    "\n",
    "    with mp.Pool(processes=num_processes) as pool:\n",
    "        results = pool.map(worker, chunks)\n",
    "\n",
    "    y_pred = np.concatenate(results, axis=0)\n",
    "    return y_pred"
   ]
  },
  {
   "cell_type": "code",
   "execution_count": 3,
   "id": "01cdd76b-6232-4327-a71c-d0819879a0a1",
   "metadata": {},
   "outputs": [],
   "source": [
    "## VENuS Image\n",
    "# fname = './VE_VM03_VSC_L2VALD_ISRAELWI_20220824/VE_VM03_VSC_L2VALD_ISRAELWI_20220824.DBL.DIR/VE_VM03_VSC_PDTIMG_L2VALD_ISRAELWI_20220824_SRE.DBL.TIF'\n",
    "fname = 'VE_VM03_VSC_L2VALD_ISRAELWI_20220824_Clip.tif'\n",
    "\n",
    "src = rio.open(fname)\n",
    "metadata = src.meta\n",
    "num_bands = src.count\n",
    "\n",
    "venus_image = []\n",
    "\n",
    "for i in range(num_bands):\n",
    "    image = src.read(i + 1)\n",
    "    image = image.astype(float)\n",
    "    image[image < 0] = np.nan\n",
    "    image = image / 1000\n",
    "    image[image < 0] = np.nan\n",
    "    venus_image.append(image.flatten())\n",
    "\n",
    "venus_image = np.array(venus_image).T"
   ]
  },
  {
   "cell_type": "code",
   "execution_count": 4,
   "id": "10443ed4-e9e5-4a66-97ab-919b0586e403",
   "metadata": {},
   "outputs": [],
   "source": [
    "# Function to preprocess input data based on soil property\n",
    "def get_process_func(soil_property):\n",
    "    if soil_property == 'caco3' or soil_property == 'toc':\n",
    "        return lambda df: fod((1 / df).apply(np.log))\n",
    "    else:\n",
    "        return lambda df: fod(df)\n",
    "\n",
    "# Function to get appropriate model based on soil property\n",
    "def get_model_dump(soil_property):\n",
    "    if soil_property == 'caco3':\n",
    "        return './models/CaCO3_model_cubist.pkl'\n",
    "    elif soil_property == 'clay':\n",
    "        return './models/clay_model_cubist.pkl'\n",
    "    elif soil_property == 'toc':\n",
    "        return './models/TOC_model_cubist.pkl'\n",
    "    elif soil_property == 'silt':\n",
    "        return './models/silt_model_gbrt.pkl'\n",
    "    elif soil_property == 'sand':\n",
    "        return './models/sand_model_gbrt.pkl'\n",
    "\n",
    "# Function to predict soil property using pre-trained model\n",
    "def predict_soil_property(soil_property, venus_df_cleaned):\n",
    "    imputer = SimpleImputer(strategy='mean')\n",
    "    process_func = get_process_func(soil_property)\n",
    "    process2 = process_func(venus_df_cleaned)\n",
    "    process2.replace([np.inf, -np.inf], np.nan, inplace=True)\n",
    "    x_pred = pd.DataFrame(imputer.fit_transform(process2), columns=process2.columns)\n",
    "    print(f'Model loaded for {soil_property}')\n",
    "    dumpName = get_model_dump(soil_property)\n",
    "    model = pickle.load(open(dumpName, 'rb'))\n",
    "    return model.predict(x_pred)"
   ]
  },
  {
   "cell_type": "code",
   "execution_count": 5,
   "id": "5725388e-3519-4b23-beb3-6dae39dfc3f1",
   "metadata": {},
   "outputs": [],
   "source": [
    "venus_df = pd.DataFrame(venus_image)\n",
    "venus_df.columns = ['420', '443', '490', '555', '619', '638', '672', '702', '742', '782', '865', '910']\n",
    "venus_df.drop('619', axis=1, inplace=True)"
   ]
  },
  {
   "cell_type": "code",
   "execution_count": 6,
   "id": "f797ee3f-44a9-40ad-8e3a-a088ff235808",
   "metadata": {},
   "outputs": [],
   "source": [
    "# 1. Remove NaN values from the dataframe\n",
    "nan_indices = venus_df.index[venus_df.isna().any(axis=1)]\n",
    "venus_df_cleaned = venus_df.dropna()"
   ]
  },
  {
   "cell_type": "code",
   "execution_count": 7,
   "id": "1c3e8405-44db-4ea5-9c44-1bf87b692519",
   "metadata": {},
   "outputs": [],
   "source": [
    "# Initialize DataFrame with all five soil properties\n",
    "df = pd.DataFrame(index=venus_df_cleaned.index)"
   ]
  },
  {
   "cell_type": "code",
   "execution_count": 8,
   "id": "fe42d121-2ffc-4d0d-b1ef-fcfd23aa5dbf",
   "metadata": {},
   "outputs": [
    {
     "name": "stdout",
     "output_type": "stream",
     "text": [
      "Model loaded for caco3\n"
     ]
    },
    {
     "name": "stderr",
     "output_type": "stream",
     "text": [
      "C:\\Users\\abhis\\AppData\\Local\\Programs\\Python\\Python311\\Lib\\site-packages\\cubist\\_make_data_string.py:67: FutureWarning: DataFrame.applymap has been deprecated. Use DataFrame.map instead.\n",
      "  x = x.applymap(lambda a: a.lstrip())\n"
     ]
    },
    {
     "name": "stdout",
     "output_type": "stream",
     "text": [
      "Model loaded for clay\n"
     ]
    },
    {
     "name": "stderr",
     "output_type": "stream",
     "text": [
      "C:\\Users\\abhis\\AppData\\Local\\Programs\\Python\\Python311\\Lib\\site-packages\\cubist\\_make_data_string.py:67: FutureWarning: DataFrame.applymap has been deprecated. Use DataFrame.map instead.\n",
      "  x = x.applymap(lambda a: a.lstrip())\n"
     ]
    },
    {
     "name": "stdout",
     "output_type": "stream",
     "text": [
      "Model loaded for toc\n"
     ]
    },
    {
     "name": "stderr",
     "output_type": "stream",
     "text": [
      "C:\\Users\\abhis\\AppData\\Local\\Programs\\Python\\Python311\\Lib\\site-packages\\cubist\\_make_data_string.py:67: FutureWarning: DataFrame.applymap has been deprecated. Use DataFrame.map instead.\n",
      "  x = x.applymap(lambda a: a.lstrip())\n"
     ]
    },
    {
     "name": "stdout",
     "output_type": "stream",
     "text": [
      "Model loaded for silt\n",
      "Model loaded for sand\n"
     ]
    }
   ],
   "source": [
    "# Define soil properties\n",
    "soil_properties = ['caco3', 'clay', 'toc', 'silt', 'sand']\n",
    "\n",
    "# Predict each soil property and store in DataFrame\n",
    "for soil_property in soil_properties:\n",
    "    y_pred = predict_soil_property(soil_property, venus_df_cleaned)\n",
    "    df[soil_property] = y_pred"
   ]
  },
  {
   "cell_type": "code",
   "execution_count": 9,
   "id": "789826de-b168-48f2-9377-80ecd65bec05",
   "metadata": {},
   "outputs": [
    {
     "name": "stdout",
     "output_type": "stream",
     "text": [
      "             caco3       clay       toc       silt       sand\n",
      "0        31.895304  58.796413  2.077100  20.415575  60.549108\n",
      "1        25.951981  57.408215  1.844009  20.931020  16.808039\n",
      "2        41.906776  56.753895  1.452600  20.931020  25.310917\n",
      "3        42.138924  55.581898  1.790100  20.931020  23.054884\n",
      "4        38.123386  56.753895  1.452600  23.196149  25.310917\n",
      "...            ...        ...       ...        ...        ...\n",
      "3138995  45.243664  54.755413  2.079725  22.351752  17.029827\n",
      "3138996  45.503422  54.540611  1.938298  22.351752  22.524963\n",
      "3138997  45.631046  54.275414  2.079725  18.717393  61.831945\n",
      "3138998  45.667618  50.454014  2.079725  22.351752  23.115978\n",
      "3138999  49.386536  49.777882  1.606850  22.351752  25.267531\n",
      "\n",
      "[3138920 rows x 5 columns]\n"
     ]
    }
   ],
   "source": [
    "#Print or further process the DataFrame as needed\n",
    "print(df)"
   ]
  },
  {
   "cell_type": "code",
   "execution_count": 10,
   "id": "df8071e3-1907-47ed-87ae-a4739ef6caa3",
   "metadata": {},
   "outputs": [
    {
     "name": "stdout",
     "output_type": "stream",
     "text": [
      "Minimum value: 0.12259998172521591\n",
      "Maximum value: 77.68974304199219\n"
     ]
    }
   ],
   "source": [
    "# Printing minimum and maximum values of caco3 in the predictions\n",
    "minimum_value = df['caco3'].min()\n",
    "maximum_value = df['caco3'].max()\n",
    "\n",
    "print(f\"Minimum value: {minimum_value}\")\n",
    "print(f\"Maximum value: {maximum_value}\")"
   ]
  },
  {
   "cell_type": "code",
   "execution_count": 11,
   "id": "7db37a0d-60f9-4625-8127-c46771eb3e1a",
   "metadata": {},
   "outputs": [
    {
     "name": "stdout",
     "output_type": "stream",
     "text": [
      "Minimum value: 3.755192756652832\n",
      "Maximum value: 68.30780792236328\n"
     ]
    }
   ],
   "source": [
    "# Printing minimum and maximum values of clay in the predictions\n",
    "minimum_value = df['clay'].min()\n",
    "maximum_value = df['clay'].max()\n",
    "\n",
    "print(f\"Minimum value: {minimum_value}\")\n",
    "print(f\"Maximum value: {maximum_value}\")"
   ]
  },
  {
   "cell_type": "code",
   "execution_count": 12,
   "id": "528c17b1-03d5-45a1-bfbf-966e7c873b86",
   "metadata": {},
   "outputs": [
    {
     "name": "stdout",
     "output_type": "stream",
     "text": [
      "Minimum value: 0.09645845741033554\n",
      "Maximum value: 4.359137535095215\n"
     ]
    }
   ],
   "source": [
    "# Printing minimum and maximum values of toc in the predictions\n",
    "minimum_value = df['toc'].min()\n",
    "maximum_value = df['toc'].max()\n",
    "\n",
    "print(f\"Minimum value: {minimum_value}\")\n",
    "print(f\"Maximum value: {maximum_value}\")"
   ]
  },
  {
   "cell_type": "code",
   "execution_count": 13,
   "id": "511ebc15-d587-41a9-83a7-01e2456eae19",
   "metadata": {},
   "outputs": [
    {
     "name": "stdout",
     "output_type": "stream",
     "text": [
      "Minimum value: 5.237735936524191\n",
      "Maximum value: 37.26202036492388\n"
     ]
    }
   ],
   "source": [
    "# Printing minimum and maximum values of silt in the predictions\n",
    "minimum_value = df['silt'].min()\n",
    "maximum_value = df['silt'].max()\n",
    "\n",
    "print(f\"Minimum value: {minimum_value}\")\n",
    "print(f\"Maximum value: {maximum_value}\")"
   ]
  },
  {
   "cell_type": "code",
   "execution_count": 14,
   "id": "c45f158d-430d-47eb-9ab6-64c7bfb2873e",
   "metadata": {},
   "outputs": [
    {
     "name": "stdout",
     "output_type": "stream",
     "text": [
      "Minimum value: 15.512983700763643\n",
      "Maximum value: 81.06558325549952\n"
     ]
    }
   ],
   "source": [
    "# Printing minimum and maximum values of sand in the predictions\n",
    "minimum_value = df['sand'].min()\n",
    "maximum_value = df['sand'].max()\n",
    "\n",
    "print(f\"Minimum value: {minimum_value}\")\n",
    "print(f\"Maximum value: {maximum_value}\")"
   ]
  },
  {
   "cell_type": "code",
   "execution_count": null,
   "id": "315d34b2-5c1e-4a08-8234-b4d40d08cb6c",
   "metadata": {},
   "outputs": [],
   "source": [
    "y_pred = y_pred.flatten()\n",
    "predicted_image = y_pred.reshape(metadata['height'], metadata['width'])\n",
    "predicted_image = np.where(np.isnan(predicted_image), 0, predicted_image)\n",
    "predicted_image = np.expand_dims(predicted_image, axis=0)\n",
    "model_name = dumpName.split('.pkl')[0].split('_')[-1]\n",
    "output_path = f'./results/20220824_Clip_Predicted_{model_name}_{soil_property}.tif'\n",
    "output_image = rio.open(output_path, 'w', driver = 'GTiff', dtype = 'float32', crs = src.crs, width=metadata['width'], height=metadata['height'], count=1, transform = src.transform)\n",
    "output_image.write(predicted_image)\n",
    "output_image.close()\n",
    "\n",
    "print(\"Predicted results saved :\", output_path)"
   ]
  },
  {
   "cell_type": "code",
   "execution_count": null,
   "id": "7ff11f8c-9834-42d4-88cd-cf08ea0f97f1",
   "metadata": {},
   "outputs": [],
   "source": []
  }
 ],
 "metadata": {
  "kernelspec": {
   "display_name": "Python 3 (ipykernel)",
   "language": "python",
   "name": "python3"
  },
  "language_info": {
   "codemirror_mode": {
    "name": "ipython",
    "version": 3
   },
   "file_extension": ".py",
   "mimetype": "text/x-python",
   "name": "python",
   "nbconvert_exporter": "python",
   "pygments_lexer": "ipython3",
   "version": "3.11.2"
  },
  "widgets": {
   "application/vnd.jupyter.widget-state+json": {
    "state": {},
    "version_major": 2,
    "version_minor": 0
   }
  }
 },
 "nbformat": 4,
 "nbformat_minor": 5
}
