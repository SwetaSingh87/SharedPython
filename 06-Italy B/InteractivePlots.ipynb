{
 "cells": [
  {
   "cell_type": "markdown",
   "id": "f9874567",
   "metadata": {},
   "source": [
    "# Importing Header and PlotFunctions"
   ]
  },
  {
   "cell_type": "code",
   "execution_count": 1,
   "id": "20044405",
   "metadata": {},
   "outputs": [
    {
     "name": "stdout",
     "output_type": "stream",
     "text": [
      "importing Jupyter notebook from Header.ipynb\n"
     ]
    }
   ],
   "source": [
    "import import_ipynb \n",
    "from Header import *"
   ]
  },
  {
   "cell_type": "code",
   "execution_count": 2,
   "id": "4c78bc5e",
   "metadata": {},
   "outputs": [
    {
     "name": "stdout",
     "output_type": "stream",
     "text": [
      "importing Jupyter notebook from PlotFunctions.ipynb\n",
      "importing Jupyter notebook from SoilPrep.ipynb\n",
      "importing Jupyter notebook from LoadDataMetaData.ipynb\n"
     ]
    }
   ],
   "source": [
    "import import_ipynb\n",
    "from PlotFunctions import *"
   ]
  },
  {
   "cell_type": "markdown",
   "id": "dd579a55",
   "metadata": {},
   "source": [
    "### Data, MetaData, and Mtree already loaded in PlotFunctions"
   ]
  },
  {
   "cell_type": "code",
   "execution_count": 3,
   "id": "9e7efa83",
   "metadata": {},
   "outputs": [],
   "source": [
    "# import import_ipynb\n",
    "# from LoadDataMetaData import *"
   ]
  },
  {
   "cell_type": "code",
   "execution_count": 4,
   "id": "9095a701",
   "metadata": {},
   "outputs": [],
   "source": [
    "with open ('HMtree.pickle', 'rb') as file:\n",
    "    HMtree = pickle.load(file)\n",
    " "
   ]
  },
  {
   "cell_type": "markdown",
   "id": "06785a0f",
   "metadata": {},
   "source": [
    "## Visualizing Processed Spectrum (variable samples)"
   ]
  },
  {
   "cell_type": "code",
   "execution_count": 5,
   "id": "c19462e9",
   "metadata": {},
   "outputs": [
    {
     "data": {
      "application/vnd.jupyter.widget-view+json": {
       "model_id": "6120885c826d4a36b7fd15683c53975d",
       "version_major": 2,
       "version_minor": 0
      },
      "text/plain": [
       "interactive(children=(IntSlider(value=42, description='sample', max=85), Dropdown(description='process', optio…"
      ]
     },
     "metadata": {},
     "output_type": "display_data"
    },
    {
     "data": {
      "text/plain": [
       "<function PlotFunctions.plot_spec(sample, process)>"
      ]
     },
     "execution_count": 5,
     "metadata": {},
     "output_type": "execute_result"
    }
   ],
   "source": [
    "ipywidgets.interact(plot_spec, sample = (0, 85,1), process = ['continuum', 'fod', 'log'])"
   ]
  },
  {
   "cell_type": "markdown",
   "id": "62ef6013",
   "metadata": {},
   "source": [
    "## Correlation between wavelengths and Targets"
   ]
  },
  {
   "cell_type": "code",
   "execution_count": 6,
   "id": "3b191166",
   "metadata": {},
   "outputs": [
    {
     "data": {
      "application/vnd.jupyter.widget-view+json": {
       "model_id": "9bd6cbdf480648309766ad019401e2da",
       "version_major": 2,
       "version_minor": 0
      },
      "text/plain": [
       "interactive(children=(Dropdown(description='target', options=('Sand', 'Silt', 'Clay', 'TOC', 'CaCO3'), value='…"
      ]
     },
     "metadata": {},
     "output_type": "display_data"
    },
    {
     "data": {
      "text/plain": [
       "<function PlotFunctions.plot_corr(target, prepare_spec, n_bands)>"
      ]
     },
     "execution_count": 6,
     "metadata": {},
     "output_type": "execute_result"
    }
   ],
   "source": [
    "ipywidgets.interact(plot_corr, target = target_names, prepare_spec = ['spec', 'cr','fod','log'], n_bands = nbands_sampling)"
   ]
  },
  {
   "cell_type": "markdown",
   "id": "8d1df772",
   "metadata": {},
   "source": [
    "## Plotting Model Accuracy (ipywidgets)"
   ]
  },
  {
   "cell_type": "code",
   "execution_count": 7,
   "id": "23cd074b",
   "metadata": {},
   "outputs": [
    {
     "data": {
      "application/vnd.jupyter.widget-view+json": {
       "model_id": "3ee5db92fc3d4aadbe621d12c2896f27",
       "version_major": 2,
       "version_minor": 0
      },
      "text/plain": [
       "interactive(children=(Dropdown(description='method', options=('mult', 'cubist', 'svr', 'ridge', 'plsr', 'gbrt'…"
      ]
     },
     "metadata": {},
     "output_type": "display_data"
    },
    {
     "data": {
      "text/plain": [
       "<function PlotFunctions.plot_model_acc(method, target, spec_preprocessing, n_bands)>"
      ]
     },
     "execution_count": 7,
     "metadata": {},
     "output_type": "execute_result"
    }
   ],
   "source": [
    "ipywidgets.interact( plot_model_acc, target = target_names, method = ml_methods, \\\n",
    "                    spec_preprocessing = prepare_spec,  \\\n",
    "                    target_preprocessing = prepare_target, n_bands = nbands_sampling )"
   ]
  },
  {
   "cell_type": "code",
   "execution_count": 8,
   "id": "ac15fee2",
   "metadata": {},
   "outputs": [
    {
     "name": "stdout",
     "output_type": "stream",
     "text": [
      "For:Sand-> ['L1r2', 0.55, 'Spec:', 'fod_log', 'bands:', 7] :mult\n",
      "For:Sand-> ['L1r2', 0.6, 'Spec:', 'fod_log', 'bands:', 10] :cubist\n",
      "For:Sand-> ['L1r2', 0.51, 'Spec:', 'log', 'bands:', 0] :svr\n",
      "For:Sand-> ['L1r2', 0.54, 'Spec:', 'fod_log', 'bands:', 10] :ridge\n",
      "For:Sand-> ['L1r2', 0.56, 'Spec:', 'fod_log', 'bands:', 7] :plsr\n",
      "For:Sand-> ['L1r2', 0.62, 'Spec:', 'fod', 'bands:', 70] :gbrt\n"
     ]
    }
   ],
   "source": [
    "best_score_for(HMtree, 'Sand', 'L1r2')"
   ]
  },
  {
   "cell_type": "code",
   "execution_count": 9,
   "id": "2d684843",
   "metadata": {},
   "outputs": [
    {
     "name": "stdout",
     "output_type": "stream",
     "text": [
      "For:Silt-> ['L1r2', 0.31, 'Spec:', 'none', 'bands:', 5] :mult\n",
      "For:Silt-> ['L1r2', 0.44, 'Spec:', 'fod', 'bands:', 80] :cubist\n",
      "For:Silt-> ['L1r2', 0.33, 'Spec:', 'log', 'bands:', 70] :svr\n",
      "For:Silt-> ['L1r2', 0.33, 'Spec:', 'none', 'bands:', 5] :ridge\n",
      "For:Silt-> ['L1r2', 0.36, 'Spec:', 'fod', 'bands:', 15] :plsr\n",
      "For:Silt-> ['L1r2', 0.48, 'Spec:', 'fod', 'bands:', 27] :gbrt\n"
     ]
    }
   ],
   "source": [
    "best_score_for(HMtree, 'Silt', 'L1r2')"
   ]
  },
  {
   "cell_type": "code",
   "execution_count": 10,
   "id": "b678e94c",
   "metadata": {},
   "outputs": [
    {
     "name": "stdout",
     "output_type": "stream",
     "text": [
      "For:Clay-> ['L1r2', 0.62, 'Spec:', 'none', 'bands:', 19] :mult\n",
      "For:Clay-> ['L1r2', 0.66, 'Spec:', 'fod', 'bands:', 10] :cubist\n",
      "For:Clay-> ['L1r2', 0.62, 'Spec:', 'log', 'bands:', 0] :svr\n",
      "For:Clay-> ['L1r2', 0.61, 'Spec:', 'log', 'bands:', 100] :ridge\n",
      "For:Clay-> ['L1r2', 0.62, 'Spec:', 'log', 'bands:', 7] :plsr\n",
      "For:Clay-> ['L1r2', 0.57, 'Spec:', 'fod', 'bands:', 50] :gbrt\n"
     ]
    }
   ],
   "source": [
    "best_score_for(HMtree, 'Clay', 'L1r2')"
   ]
  },
  {
   "cell_type": "code",
   "execution_count": 11,
   "id": "edecb646",
   "metadata": {},
   "outputs": [
    {
     "name": "stdout",
     "output_type": "stream",
     "text": [
      "For:TOC-> ['L1r2', 0.41, 'Spec:', 'fod_cr', 'bands:', 13] :mult\n",
      "For:TOC-> ['L1r2', 0.57, 'Spec:', 'fod_log', 'bands:', 15] :cubist\n",
      "For:TOC-> ['L1r2', 0.45, 'Spec:', 'log', 'bands:', 0] :svr\n",
      "For:TOC-> ['L1r2', 0.47, 'Spec:', 'log', 'bands:', 0] :ridge\n",
      "For:TOC-> ['L1r2', 0.46, 'Spec:', 'log', 'bands:', 19] :plsr\n",
      "For:TOC-> ['L1r2', 0.54, 'Spec:', 'cr', 'bands:', 31] :gbrt\n"
     ]
    }
   ],
   "source": [
    "best_score_for(HMtree, 'TOC', 'L1r2')"
   ]
  },
  {
   "cell_type": "code",
   "execution_count": 12,
   "id": "051d636f",
   "metadata": {},
   "outputs": [
    {
     "name": "stdout",
     "output_type": "stream",
     "text": [
      "For:CaCO3-> ['L1r2', 0.58, 'Spec:', 'log', 'bands:', 7] :mult\n",
      "For:CaCO3-> ['L1r2', 0.67, 'Spec:', 'fod_log', 'bands:', 0] :cubist\n",
      "For:CaCO3-> ['L1r2', 0.57, 'Spec:', 'log', 'bands:', 90] :svr\n",
      "For:CaCO3-> ['L1r2', 0.66, 'Spec:', 'fod_log', 'bands:', 70] :ridge\n",
      "For:CaCO3-> ['L1r2', 0.6, 'Spec:', 'log', 'bands:', 7] :plsr\n",
      "For:CaCO3-> ['L1r2', 0.68, 'Spec:', 'cr', 'bands:', 80] :gbrt\n"
     ]
    }
   ],
   "source": [
    "best_score_for (HMtree, 'CaCO3', 'L1r2')"
   ]
  },
  {
   "cell_type": "code",
   "execution_count": null,
   "id": "8128794c",
   "metadata": {},
   "outputs": [],
   "source": []
  }
 ],
 "metadata": {
  "kernelspec": {
   "display_name": "Python 3 (ipykernel)",
   "language": "python",
   "name": "python3"
  },
  "language_info": {
   "codemirror_mode": {
    "name": "ipython",
    "version": 3
   },
   "file_extension": ".py",
   "mimetype": "text/x-python",
   "name": "python",
   "nbconvert_exporter": "python",
   "pygments_lexer": "ipython3",
   "version": "3.9.13"
  }
 },
 "nbformat": 4,
 "nbformat_minor": 5
}
