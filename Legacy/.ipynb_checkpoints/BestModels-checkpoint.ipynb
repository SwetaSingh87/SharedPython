{
 "cells": [
  {
   "cell_type": "markdown",
   "id": "5e9a84d7",
   "metadata": {},
   "source": [
    "# Importing Header and SoilPrep"
   ]
  },
  {
   "cell_type": "code",
   "execution_count": 1,
   "id": "5265ba48",
   "metadata": {},
   "outputs": [
    {
     "name": "stdout",
     "output_type": "stream",
     "text": [
      "importing Jupyter notebook from Header.ipynb\n",
      "importing Jupyter notebook from SoilPrep.ipynb\n"
     ]
    }
   ],
   "source": [
    "import import_ipynb \n",
    "from Header import *\n",
    "\n",
    "import import_ipynb\n",
    "from SoilPrep import *"
   ]
  },
  {
   "cell_type": "markdown",
   "id": "097d5f4e",
   "metadata": {},
   "source": [
    "## Loading Data, MetaData, and Mtree "
   ]
  },
  {
   "cell_type": "code",
   "execution_count": 2,
   "id": "a2e3e20d",
   "metadata": {},
   "outputs": [],
   "source": [
    "with open ('meta_data.pickle', 'rb') as file:\n",
    "    MetaData = pickle.load(file)\n",
    "\n",
    "sg_filters = MetaData['sg_filters']\n",
    "window_lengths = MetaData['window_lengths']\n",
    "prepare_spec = MetaData['prepare_spec']\n",
    "nbands_sampling = MetaData['nbands_sampling']\n",
    "target_names = MetaData['target_names']\n",
    "prepare_target = MetaData['prepare_target']\n",
    "ml_methods = MetaData['ml_methods']\n",
    "\n",
    "\n",
    "with open ('data.pickle', 'rb') as file:\n",
    "    Data = pickle.load(file)\n",
    "\n",
    "spectra = Data['spectra']\n",
    "T = Data['T']\n",
    "NT = Data['NT']\n",
    "smth_spec = Data['smth_spec']\n",
    "fod_spec = Data['fod_spec']\n",
    "cr_spec = Data['cr_spec'] \n",
    "log_spec = Data['log_spec']\n",
    "sampled_spec = Data['sampled_spec']\n",
    "sampled_cr = Data['sampled_cr']\n",
    "sampled_fod = Data['sampled_fod']\n",
    "sampled_log = Data['sampled_log'] \n",
    "rand_t = Data['rand_t']\n",
    "rand_nt = Data['rand_nt'] \n",
    "\n",
    "\n",
    "with open ('Mtree.pickle', 'rb') as file:\n",
    "    Mtree = pickle.load(file)"
   ]
  },
  {
   "cell_type": "markdown",
   "id": "cfb6cc5e",
   "metadata": {},
   "source": [
    "## Plotting Functions for important features"
   ]
  },
  {
   "cell_type": "code",
   "execution_count": 83,
   "id": "04eec6f7",
   "metadata": {},
   "outputs": [],
   "source": [
    "def plot_feature_importances(perm_importance_result, r_factor, feat_name, n_feature):\n",
    "    \"\"\"bar plot the feature importance\"\"\"\n",
    "\n",
    "    fig, ax = plt.subplots(figsize=(10,7))\n",
    "\n",
    "    indices = perm_importance_result[\"importances_mean\"].argsort()\n",
    "    indices = indices[:: -1]\n",
    "    indices = indices[0:n_feature]\n",
    "    indices = indices[:: -1]\n",
    "    #print(indices)\n",
    "    plt.barh(\n",
    "        range(len(indices)),\n",
    "        r_factor*perm_importance_result[\"importances_mean\"][indices],\n",
    "        xerr=perm_importance_result[\"importances_std\"][indices],\n",
    "    )\n",
    "\n",
    "    ax.set_yticks(range(len(indices)))\n",
    "    _ = ax.set_yticklabels(feat_name[indices],fontsize = 6)\n",
    "    \n",
    "    ax.text(0.95, 0.95, 'Method: Cubist', transform=ax.transAxes, \n",
    "                    horizontalalignment='right', fontsize = 20)"
   ]
  },
  {
   "cell_type": "code",
   "execution_count": 13,
   "id": "39cf04b7",
   "metadata": {},
   "outputs": [],
   "source": [
    "find_gray = ['#FFFFFF', '#FCFCFC', '#E3E3E3', '#C9C9C9', '#B0B0B0', '#969696', '#7D7D7D', '#636363', '#4A4A4A', '#303030']"
   ]
  },
  {
   "cell_type": "code",
   "execution_count": 189,
   "id": "43d399e2",
   "metadata": {},
   "outputs": [],
   "source": [
    "def show_important_features(r, X_val, sample):\n",
    "    #--- finding Normalized means (range: 0-9) of features to get corresponding colours--- \n",
    "    Nr_means = np.round((r[\"importances_mean\"]/max(r[\"importances_mean\"]))*9,0)\n",
    "    Nr = [int(x) for x in Nr_means]\n",
    "    feature_colors = [find_gray[x] for x in Nr]\n",
    "    \n",
    "    plt.bar(X_val.columns.tolist(), X_val.iloc[sample].tolist(), color = feature_colors, edgecolor='gray')\n",
    "    plt.xticks(rotation='vertical', fontsize = 6)\n",
    "    plt.show()"
   ]
  },
  {
   "cell_type": "code",
   "execution_count": 190,
   "id": "5db2efe9",
   "metadata": {},
   "outputs": [],
   "source": [
    "def show_important_features_for (tar, model_details, feature_scores, r_factor, X_factor, sample):\n",
    "    \n",
    "    perm_importance_result = feature_scores[tar]\n",
    "    #r_factor =10 \n",
    "    X_val = model_details[tar]['spec']\n",
    "    feat_name = X_val.columns \n",
    "    n_feature = model_details[tar]['n_bands']\n",
    "    \n",
    "    fig, ax = plt.subplots(figsize=(10,7))\n",
    "\n",
    "    indices = perm_importance_result[\"importances_mean\"].argsort()\n",
    "    indices = indices[:: -1]\n",
    "    indices = indices[0:n_feature]\n",
    "    indices = indices[:: -1]\n",
    "    #print(indices)\n",
    "    plt.barh(\n",
    "        range(len(indices)),\n",
    "        r_factor*perm_importance_result[\"importances_mean\"][indices],\n",
    "        xerr=r_factor*perm_importance_result[\"importances_std\"][indices],\n",
    "    )\n",
    "\n",
    "    ax.set_yticks(range(len(indices)))\n",
    "    _ = ax.set_yticklabels(feat_name[indices],fontsize = 6)\n",
    "    \n",
    "    #---------------putting appropriate text labels---------------------\n",
    "    \n",
    "    M = model_details[tar]\n",
    "    ax.text(0.95, 0.95, 'Target: '+ tar, transform=ax.transAxes, horizontalalignment='right', fontsize = 18)\n",
    "    ax.text(0.95, 0.90, 'Method: '+ M['method'], transform=ax.transAxes, horizontalalignment='right', fontsize = 14)\n",
    "    ax.text(0.95, 0.85, 'nbands ={:.0f}'.format(M['n_bands']), transform=ax.transAxes, horizontalalignment='right', fontsize = 14)\n",
    "    \n",
    "    r= feature_scores[tar]\n",
    "    show_important_features(r, X_factor*X_val, sample)\n",
    "    \n",
    "    \n",
    "#     r = feature_scores['Sand']\n",
    "# X_val = sampled_spec[50]\n",
    "# plot_feature_importances(r, 10, X_val.columns, 50)\n",
    "    "
   ]
  },
  {
   "cell_type": "markdown",
   "id": "d689372b",
   "metadata": {},
   "source": [
    " #  Best Models for Sand, Silt, Clay, TOC, and CaCO3.."
   ]
  },
  {
   "cell_type": "code",
   "execution_count": 15,
   "id": "722f082f",
   "metadata": {},
   "outputs": [],
   "source": [
    "#feature_scores = {}"
   ]
  },
  {
   "cell_type": "code",
   "execution_count": 78,
   "id": "d22f6168",
   "metadata": {},
   "outputs": [],
   "source": [
    "#model_details ={}"
   ]
  },
  {
   "cell_type": "markdown",
   "id": "d9dbaf43",
   "metadata": {},
   "source": [
    "##  Sand "
   ]
  },
  {
   "cell_type": "markdown",
   "id": "4a09fc82",
   "metadata": {},
   "source": [
    "Sand -> [ iqrp - **3.05**, r2 - **0.69**, Spec - none, n_bands - 50, Tar - none] :   **cubist**   <br/><br/>\n",
    "***Description***: We get the best model for sand when we use cubist method. \\\n",
    "While training the model we utilize the smoothed spectra resampled to 50 bands and\n",
    "sand values are used without any preprocessing."
   ]
  },
  {
   "cell_type": "code",
   "execution_count": 16,
   "id": "d18ce5ad",
   "metadata": {},
   "outputs": [
    {
     "data": {
      "text/plain": [
       "Cubist(n_committees=5, n_rules=50, random_state=42)"
      ]
     },
     "execution_count": 16,
     "metadata": {},
     "output_type": "execute_result"
    }
   ],
   "source": [
    "sand_model_cubist = Cubist(n_rules = 50, n_committees = 5, random_state = 42) \n",
    "sand_model_cubist.fit(sampled_spec[50], T[0])"
   ]
  },
  {
   "cell_type": "code",
   "execution_count": 73,
   "id": "8515f7c3",
   "metadata": {},
   "outputs": [
    {
     "data": {
      "text/html": [
       "<div>\n",
       "<style scoped>\n",
       "    .dataframe tbody tr th:only-of-type {\n",
       "        vertical-align: middle;\n",
       "    }\n",
       "\n",
       "    .dataframe tbody tr th {\n",
       "        vertical-align: top;\n",
       "    }\n",
       "\n",
       "    .dataframe thead th {\n",
       "        text-align: right;\n",
       "    }\n",
       "</style>\n",
       "<table border=\"1\" class=\"dataframe\">\n",
       "  <thead>\n",
       "    <tr style=\"text-align: right;\">\n",
       "      <th></th>\n",
       "      <th>471</th>\n",
       "      <th>512</th>\n",
       "      <th>553</th>\n",
       "      <th>594</th>\n",
       "      <th>635</th>\n",
       "      <th>676</th>\n",
       "      <th>717</th>\n",
       "      <th>758</th>\n",
       "      <th>799</th>\n",
       "      <th>840</th>\n",
       "      <th>881</th>\n",
       "      <th>922</th>\n",
       "      <th>963</th>\n",
       "      <th>1004</th>\n",
       "      <th>1045</th>\n",
       "      <th>1086</th>\n",
       "      <th>1127</th>\n",
       "      <th>1168</th>\n",
       "      <th>1209</th>\n",
       "      <th>1250</th>\n",
       "      <th>1291</th>\n",
       "      <th>1332</th>\n",
       "      <th>1373</th>\n",
       "      <th>1414</th>\n",
       "      <th>1455</th>\n",
       "      <th>1496</th>\n",
       "      <th>1537</th>\n",
       "      <th>1578</th>\n",
       "      <th>1619</th>\n",
       "      <th>1660</th>\n",
       "      <th>1701</th>\n",
       "      <th>1742</th>\n",
       "      <th>1783</th>\n",
       "      <th>1824</th>\n",
       "      <th>1865</th>\n",
       "      <th>1906</th>\n",
       "      <th>1947</th>\n",
       "      <th>1988</th>\n",
       "      <th>2029</th>\n",
       "      <th>2070</th>\n",
       "      <th>2111</th>\n",
       "      <th>2152</th>\n",
       "      <th>2193</th>\n",
       "      <th>2234</th>\n",
       "      <th>2275</th>\n",
       "      <th>2316</th>\n",
       "      <th>2357</th>\n",
       "      <th>2398</th>\n",
       "      <th>2439</th>\n",
       "      <th>2480</th>\n",
       "    </tr>\n",
       "  </thead>\n",
       "  <tbody>\n",
       "    <tr>\n",
       "      <th>0</th>\n",
       "      <td>0.065518</td>\n",
       "      <td>0.080202</td>\n",
       "      <td>0.113403</td>\n",
       "      <td>0.165125</td>\n",
       "      <td>0.198475</td>\n",
       "      <td>0.2264</td>\n",
       "      <td>0.25675</td>\n",
       "      <td>0.282425</td>\n",
       "      <td>0.29905</td>\n",
       "      <td>0.30945</td>\n",
       "      <td>0.3189</td>\n",
       "      <td>0.3309</td>\n",
       "      <td>0.345</td>\n",
       "      <td>0.360275</td>\n",
       "      <td>0.3753</td>\n",
       "      <td>0.390125</td>\n",
       "      <td>0.402675</td>\n",
       "      <td>0.413175</td>\n",
       "      <td>0.421875</td>\n",
       "      <td>0.4292</td>\n",
       "      <td>0.4341</td>\n",
       "      <td>0.436675</td>\n",
       "      <td>0.431225</td>\n",
       "      <td>0.399075</td>\n",
       "      <td>0.413375</td>\n",
       "      <td>0.42825</td>\n",
       "      <td>0.440925</td>\n",
       "      <td>0.44875</td>\n",
       "      <td>0.454</td>\n",
       "      <td>0.45855</td>\n",
       "      <td>0.46225</td>\n",
       "      <td>0.463</td>\n",
       "      <td>0.465925</td>\n",
       "      <td>0.46915</td>\n",
       "      <td>0.45905</td>\n",
       "      <td>0.35295</td>\n",
       "      <td>0.355775</td>\n",
       "      <td>0.3959</td>\n",
       "      <td>0.432425</td>\n",
       "      <td>0.45385</td>\n",
       "      <td>0.467725</td>\n",
       "      <td>0.462925</td>\n",
       "      <td>0.43035</td>\n",
       "      <td>0.4346</td>\n",
       "      <td>0.43735</td>\n",
       "      <td>0.4252</td>\n",
       "      <td>0.4079</td>\n",
       "      <td>0.38775</td>\n",
       "      <td>0.359375</td>\n",
       "      <td>0.330325</td>\n",
       "    </tr>\n",
       "  </tbody>\n",
       "</table>\n",
       "</div>"
      ],
      "text/plain": [
       "        471       512       553       594       635     676      717  \\\n",
       "0  0.065518  0.080202  0.113403  0.165125  0.198475  0.2264  0.25675   \n",
       "\n",
       "        758      799      840     881     922    963      1004    1045  \\\n",
       "0  0.282425  0.29905  0.30945  0.3189  0.3309  0.345  0.360275  0.3753   \n",
       "\n",
       "       1086      1127      1168      1209    1250    1291      1332      1373  \\\n",
       "0  0.390125  0.402675  0.413175  0.421875  0.4292  0.4341  0.436675  0.431225   \n",
       "\n",
       "       1414      1455     1496      1537     1578   1619     1660     1701  \\\n",
       "0  0.399075  0.413375  0.42825  0.440925  0.44875  0.454  0.45855  0.46225   \n",
       "\n",
       "    1742      1783     1824     1865     1906      1947    1988      2029  \\\n",
       "0  0.463  0.465925  0.46915  0.45905  0.35295  0.355775  0.3959  0.432425   \n",
       "\n",
       "      2070      2111      2152     2193    2234     2275    2316    2357  \\\n",
       "0  0.45385  0.467725  0.462925  0.43035  0.4346  0.43735  0.4252  0.4079   \n",
       "\n",
       "      2398      2439      2480  \n",
       "0  0.38775  0.359375  0.330325  "
      ]
     },
     "execution_count": 73,
     "metadata": {},
     "output_type": "execute_result"
    }
   ],
   "source": [
    "sampled_spec[50].head(1)"
   ]
  },
  {
   "cell_type": "code",
   "execution_count": 18,
   "id": "845552b6",
   "metadata": {},
   "outputs": [],
   "source": [
    "feature_scores['Sand'] = permutation_importance(sand_model_cubist, sampled_spec[50], T[0], n_repeats=20, random_state=0)"
   ]
  },
  {
   "cell_type": "code",
   "execution_count": 110,
   "id": "49e2a5f8",
   "metadata": {},
   "outputs": [],
   "source": [
    "model_details['Sand'] = {'method': 'Cubist', 'spec': sampled_spec[50], 'spec_proc': 'spectra', 'n_bands': 50}"
   ]
  },
  {
   "cell_type": "code",
   "execution_count": 154,
   "id": "a9727338",
   "metadata": {},
   "outputs": [
    {
     "data": {
      "image/png": "[encoded data removed]",
      "text/plain": [
       "<Figure size 1000x700 with 1 Axes>"
      ]
     },
     "metadata": {},
     "output_type": "display_data"
    }
   ],
   "source": [
    "show_important_features_for ('Sand', model_details, feature_scores, 10, 50, 1)"
   ]
  },
  {
   "cell_type": "markdown",
   "id": "c023ffd4",
   "metadata": {},
   "source": [
    "###  Silt "
   ]
  },
  {
   "cell_type": "markdown",
   "id": "f255bdef",
   "metadata": {},
   "source": [
    "Silt -> [ iqrp - **1.91**, r2 - **0.43**, Spec - fod, n_bands - 8, Tar - none] :   **mult**  <br/><br/>\n",
    "***Description***: We get the best model for silt when we use mult (multiple linear regression) method. \\\n",
    "While training the model we utilize the first order derivative of the smoothed spectra which is resampled to 8 bands and\n",
    "silt values are used without any preprocessing."
   ]
  },
  {
   "cell_type": "code",
   "execution_count": 112,
   "id": "9a840b51",
   "metadata": {},
   "outputs": [
    {
     "data": {
      "text/plain": [
       "LinearRegression()"
      ]
     },
     "execution_count": 112,
     "metadata": {},
     "output_type": "execute_result"
    }
   ],
   "source": [
    "silt_model_mult = linear_model.LinearRegression()\n",
    "silt_model_mult.fit(sampled_fod[8], T[1])"
   ]
  },
  {
   "cell_type": "code",
   "execution_count": 113,
   "id": "02bea89b",
   "metadata": {},
   "outputs": [
    {
     "data": {
      "text/html": [
       "<div>\n",
       "<style scoped>\n",
       "    .dataframe tbody tr th:only-of-type {\n",
       "        vertical-align: middle;\n",
       "    }\n",
       "\n",
       "    .dataframe tbody tr th {\n",
       "        vertical-align: top;\n",
       "    }\n",
       "\n",
       "    .dataframe thead th {\n",
       "        text-align: right;\n",
       "    }\n",
       "</style>\n",
       "<table border=\"1\" class=\"dataframe\">\n",
       "  <thead>\n",
       "    <tr style=\"text-align: right;\">\n",
       "      <th></th>\n",
       "      <th>579</th>\n",
       "      <th>835</th>\n",
       "      <th>1091</th>\n",
       "      <th>1347</th>\n",
       "      <th>1604</th>\n",
       "      <th>1860</th>\n",
       "      <th>2116</th>\n",
       "      <th>2372</th>\n",
       "    </tr>\n",
       "  </thead>\n",
       "  <tbody>\n",
       "    <tr>\n",
       "      <th>0</th>\n",
       "      <td>0.000736</td>\n",
       "      <td>0.000372</td>\n",
       "      <td>0.000309</td>\n",
       "      <td>-0.000015</td>\n",
       "      <td>0.000167</td>\n",
       "      <td>-0.000264</td>\n",
       "      <td>0.000163</td>\n",
       "      <td>-0.00046</td>\n",
       "    </tr>\n",
       "  </tbody>\n",
       "</table>\n",
       "</div>"
      ],
      "text/plain": [
       "        579       835      1091      1347      1604      1860      2116  \\\n",
       "0  0.000736  0.000372  0.000309 -0.000015  0.000167 -0.000264  0.000163   \n",
       "\n",
       "      2372  \n",
       "0 -0.00046  "
      ]
     },
     "execution_count": 113,
     "metadata": {},
     "output_type": "execute_result"
    }
   ],
   "source": [
    "sampled_fod[8].head(1)"
   ]
  },
  {
   "cell_type": "code",
   "execution_count": 115,
   "id": "bf0a8cef",
   "metadata": {},
   "outputs": [],
   "source": [
    "feature_scores['Silt'] = permutation_importance(silt_model_mult, sampled_fod[8], T[1], n_repeats=20, random_state=0)"
   ]
  },
  {
   "cell_type": "code",
   "execution_count": 155,
   "id": "90a6831c",
   "metadata": {},
   "outputs": [
    {
     "data": {
      "image/png": "[encoded data removed]",
      "text/plain": [
       "<Figure size 1000x700 with 1 Axes>"
      ]
     },
     "metadata": {},
     "output_type": "display_data"
    }
   ],
   "source": [
    "model_details['Silt'] = {'method': 'mult', 'spec': sampled_fod[8], 'spec_proc': 'fod', 'n_bands': 8}\n",
    "\n",
    "show_important_features_for ('Silt', model_details, feature_scores, 1, 1000, 5)"
   ]
  },
  {
   "cell_type": "markdown",
   "id": "23888536",
   "metadata": {},
   "source": [
    "##  Clay"
   ]
  },
  {
   "cell_type": "markdown",
   "id": "bf66e623",
   "metadata": {},
   "source": [
    "Clay -> [ iqrp - **2.99**, r2 - **0.77**, Spec - log, n_bands - 15, Tar - minmax] :   **mult**   <br/><br/>\n",
    "***Description***: We get the best model for clay when we use mult (multiple linear regression) method. \\\n",
    "While training the model we utilize the inverse logarithmic reflectance (1/logR) of the smoothed spectra which is resampled to 15 bands and clay values are used by  normalizing it in the range of 0-10."
   ]
  },
  {
   "cell_type": "code",
   "execution_count": 156,
   "id": "fbb260ce",
   "metadata": {},
   "outputs": [
    {
     "data": {
      "text/plain": [
       "LinearRegression()"
      ]
     },
     "execution_count": 156,
     "metadata": {},
     "output_type": "execute_result"
    }
   ],
   "source": [
    "clay_model_mult = linear_model.LinearRegression()\n",
    "clay_model_mult.fit(sampled_log[15], NT[2])"
   ]
  },
  {
   "cell_type": "code",
   "execution_count": 157,
   "id": "65690195",
   "metadata": {},
   "outputs": [
    {
     "data": {
      "text/html": [
       "<div>\n",
       "<style scoped>\n",
       "    .dataframe tbody tr th:only-of-type {\n",
       "        vertical-align: middle;\n",
       "    }\n",
       "\n",
       "    .dataframe tbody tr th {\n",
       "        vertical-align: top;\n",
       "    }\n",
       "\n",
       "    .dataframe thead th {\n",
       "        text-align: right;\n",
       "    }\n",
       "</style>\n",
       "<table border=\"1\" class=\"dataframe\">\n",
       "  <thead>\n",
       "    <tr style=\"text-align: right;\">\n",
       "      <th></th>\n",
       "      <th>519</th>\n",
       "      <th>656</th>\n",
       "      <th>792</th>\n",
       "      <th>929</th>\n",
       "      <th>1066</th>\n",
       "      <th>1202</th>\n",
       "      <th>1339</th>\n",
       "      <th>1476</th>\n",
       "      <th>1612</th>\n",
       "      <th>1749</th>\n",
       "      <th>1886</th>\n",
       "      <th>2022</th>\n",
       "      <th>2159</th>\n",
       "      <th>2295</th>\n",
       "      <th>2432</th>\n",
       "    </tr>\n",
       "  </thead>\n",
       "  <tbody>\n",
       "    <tr>\n",
       "      <th>0</th>\n",
       "      <td>2.420115</td>\n",
       "      <td>1.556326</td>\n",
       "      <td>1.225854</td>\n",
       "      <td>1.09747</td>\n",
       "      <td>0.961566</td>\n",
       "      <td>0.867871</td>\n",
       "      <td>0.841234</td>\n",
       "      <td>0.869084</td>\n",
       "      <td>0.792377</td>\n",
       "      <td>0.767627</td>\n",
       "      <td>0.909422</td>\n",
       "      <td>0.866668</td>\n",
       "      <td>0.796801</td>\n",
       "      <td>0.847628</td>\n",
       "      <td>1.014666</td>\n",
       "    </tr>\n",
       "  </tbody>\n",
       "</table>\n",
       "</div>"
      ],
      "text/plain": [
       "        519       656       792      929      1066      1202      1339  \\\n",
       "0  2.420115  1.556326  1.225854  1.09747  0.961566  0.867871  0.841234   \n",
       "\n",
       "       1476      1612      1749      1886      2022      2159      2295  \\\n",
       "0  0.869084  0.792377  0.767627  0.909422  0.866668  0.796801  0.847628   \n",
       "\n",
       "       2432  \n",
       "0  1.014666  "
      ]
     },
     "execution_count": 157,
     "metadata": {},
     "output_type": "execute_result"
    }
   ],
   "source": [
    "sampled_log[15].head(1)"
   ]
  },
  {
   "cell_type": "code",
   "execution_count": 158,
   "id": "b674239a",
   "metadata": {},
   "outputs": [],
   "source": [
    "feature_scores['Clay'] = permutation_importance(clay_model_mult, sampled_log[15], NT[2], n_repeats=20, random_state=0)\n",
    "\n",
    "model_details['Clay'] = {'method': 'mult', 'spec': sampled_log[15], 'spec_proc': 'log', 'n_bands': 15}"
   ]
  },
  {
   "cell_type": "code",
   "execution_count": 191,
   "id": "96c7f30b",
   "metadata": {},
   "outputs": [
    {
     "data": {
      "image/png": "[encoded data removed]",
      "text/plain": [
       "<Figure size 1000x700 with 1 Axes>"
      ]
     },
     "metadata": {},
     "output_type": "display_data"
    }
   ],
   "source": [
    "show_important_features_for ('Clay', model_details, feature_scores, 0.001, 1, 2)"
   ]
  },
  {
   "cell_type": "markdown",
   "id": "844c3528",
   "metadata": {},
   "source": [
    "##  TOC "
   ]
  },
  {
   "cell_type": "markdown",
   "id": "f4b601b5",
   "metadata": {},
   "source": [
    "TOC -> [ iqrp - **2.22**, r2 - **0.76**, Spec - continuum, n_bands - 55, Tar - minmax] :   **gbrt**  <br/><br/>\n",
    "***Description***: We get the best model for TOC when we use gbrt (gradient boosted regression tree) method. \\\n",
    "While training the model we utilize the continuum removed version of the smoothed spectra which is resampled to 55 bands and\n",
    "TOC values are used by  normalizing it in the range of 0-10."
   ]
  },
  {
   "cell_type": "code",
   "execution_count": 193,
   "id": "5c4440a6",
   "metadata": {},
   "outputs": [
    {
     "data": {
      "text/plain": [
       "GradientBoostingRegressor()"
      ]
     },
     "execution_count": 193,
     "metadata": {},
     "output_type": "execute_result"
    }
   ],
   "source": [
    "TOC_model_gbrt = GradientBoostingRegressor() \n",
    "TOC_model_gbrt.fit(sampled_cr[55], NT[3])"
   ]
  },
  {
   "cell_type": "code",
   "execution_count": 194,
   "id": "26b8f04d",
   "metadata": {},
   "outputs": [
    {
     "data": {
      "text/html": [
       "<div>\n",
       "<style scoped>\n",
       "    .dataframe tbody tr th:only-of-type {\n",
       "        vertical-align: middle;\n",
       "    }\n",
       "\n",
       "    .dataframe tbody tr th {\n",
       "        vertical-align: top;\n",
       "    }\n",
       "\n",
       "    .dataframe thead th {\n",
       "        text-align: right;\n",
       "    }\n",
       "</style>\n",
       "<table border=\"1\" class=\"dataframe\">\n",
       "  <thead>\n",
       "    <tr style=\"text-align: right;\">\n",
       "      <th></th>\n",
       "      <th>469</th>\n",
       "      <th>506</th>\n",
       "      <th>544</th>\n",
       "      <th>581</th>\n",
       "      <th>618</th>\n",
       "      <th>656</th>\n",
       "      <th>693</th>\n",
       "      <th>730</th>\n",
       "      <th>767</th>\n",
       "      <th>805</th>\n",
       "      <th>842</th>\n",
       "      <th>879</th>\n",
       "      <th>916</th>\n",
       "      <th>954</th>\n",
       "      <th>991</th>\n",
       "      <th>1028</th>\n",
       "      <th>1066</th>\n",
       "      <th>1103</th>\n",
       "      <th>1140</th>\n",
       "      <th>1177</th>\n",
       "      <th>1215</th>\n",
       "      <th>1252</th>\n",
       "      <th>1289</th>\n",
       "      <th>1326</th>\n",
       "      <th>1364</th>\n",
       "      <th>1401</th>\n",
       "      <th>1438</th>\n",
       "      <th>1476</th>\n",
       "      <th>1513</th>\n",
       "      <th>1550</th>\n",
       "      <th>1587</th>\n",
       "      <th>1625</th>\n",
       "      <th>1662</th>\n",
       "      <th>1699</th>\n",
       "      <th>1736</th>\n",
       "      <th>1774</th>\n",
       "      <th>1811</th>\n",
       "      <th>1848</th>\n",
       "      <th>1886</th>\n",
       "      <th>1923</th>\n",
       "      <th>1960</th>\n",
       "      <th>1997</th>\n",
       "      <th>2035</th>\n",
       "      <th>2072</th>\n",
       "      <th>2109</th>\n",
       "      <th>2146</th>\n",
       "      <th>2184</th>\n",
       "      <th>2221</th>\n",
       "      <th>2258</th>\n",
       "      <th>2296</th>\n",
       "      <th>2333</th>\n",
       "      <th>2370</th>\n",
       "      <th>2407</th>\n",
       "      <th>2445</th>\n",
       "      <th>2482</th>\n",
       "    </tr>\n",
       "  </thead>\n",
       "  <tbody>\n",
       "    <tr>\n",
       "      <th>0</th>\n",
       "      <td>0.008825</td>\n",
       "      <td>0.025007</td>\n",
       "      <td>0.027884</td>\n",
       "      <td>0.009624</td>\n",
       "      <td>0.00061</td>\n",
       "      <td>0.002165</td>\n",
       "      <td>0.00156</td>\n",
       "      <td>0.000405</td>\n",
       "      <td>0.000406</td>\n",
       "      <td>0.00075</td>\n",
       "      <td>0.003497</td>\n",
       "      <td>0.006763</td>\n",
       "      <td>0.00789</td>\n",
       "      <td>0.007139</td>\n",
       "      <td>0.005405</td>\n",
       "      <td>0.003143</td>\n",
       "      <td>0.001337</td>\n",
       "      <td>0.000544</td>\n",
       "      <td>0.000473</td>\n",
       "      <td>0.000461</td>\n",
       "      <td>0.000408</td>\n",
       "      <td>0.000406</td>\n",
       "      <td>0.000449</td>\n",
       "      <td>0.000631</td>\n",
       "      <td>0.004752</td>\n",
       "      <td>0.035943</td>\n",
       "      <td>0.039189</td>\n",
       "      <td>0.026865</td>\n",
       "      <td>0.015806</td>\n",
       "      <td>0.008635</td>\n",
       "      <td>0.005048</td>\n",
       "      <td>0.00303</td>\n",
       "      <td>0.001526</td>\n",
       "      <td>0.000624</td>\n",
       "      <td>0.002</td>\n",
       "      <td>0.002036</td>\n",
       "      <td>0.001459</td>\n",
       "      <td>0.001745</td>\n",
       "      <td>0.05774</td>\n",
       "      <td>0.136774</td>\n",
       "      <td>0.103642</td>\n",
       "      <td>0.067122</td>\n",
       "      <td>0.03583</td>\n",
       "      <td>0.017892</td>\n",
       "      <td>0.005733</td>\n",
       "      <td>0.003792</td>\n",
       "      <td>0.02346</td>\n",
       "      <td>0.024483</td>\n",
       "      <td>0.004395</td>\n",
       "      <td>0.001013</td>\n",
       "      <td>0.000679</td>\n",
       "      <td>0.001348</td>\n",
       "      <td>0.000833</td>\n",
       "      <td>0.004565</td>\n",
       "      <td>0.003966</td>\n",
       "    </tr>\n",
       "  </tbody>\n",
       "</table>\n",
       "</div>"
      ],
      "text/plain": [
       "        469       506       544       581      618       656      693  \\\n",
       "0  0.008825  0.025007  0.027884  0.009624  0.00061  0.002165  0.00156   \n",
       "\n",
       "        730       767      805       842       879      916       954  \\\n",
       "0  0.000405  0.000406  0.00075  0.003497  0.006763  0.00789  0.007139   \n",
       "\n",
       "        991      1028      1066      1103      1140      1177      1215  \\\n",
       "0  0.005405  0.003143  0.001337  0.000544  0.000473  0.000461  0.000408   \n",
       "\n",
       "       1252      1289      1326      1364      1401      1438      1476  \\\n",
       "0  0.000406  0.000449  0.000631  0.004752  0.035943  0.039189  0.026865   \n",
       "\n",
       "       1513      1550      1587     1625      1662      1699   1736      1774  \\\n",
       "0  0.015806  0.008635  0.005048  0.00303  0.001526  0.000624  0.002  0.002036   \n",
       "\n",
       "       1811      1848     1886      1923      1960      1997     2035  \\\n",
       "0  0.001459  0.001745  0.05774  0.136774  0.103642  0.067122  0.03583   \n",
       "\n",
       "       2072      2109      2146     2184      2221      2258      2296  \\\n",
       "0  0.017892  0.005733  0.003792  0.02346  0.024483  0.004395  0.001013   \n",
       "\n",
       "       2333      2370      2407      2445      2482  \n",
       "0  0.000679  0.001348  0.000833  0.004565  0.003966  "
      ]
     },
     "execution_count": 194,
     "metadata": {},
     "output_type": "execute_result"
    }
   ],
   "source": [
    "sampled_cr[55].head(1)"
   ]
  },
  {
   "cell_type": "code",
   "execution_count": 195,
   "id": "43f83124",
   "metadata": {},
   "outputs": [],
   "source": [
    "feature_scores['TOC'] = permutation_importance(TOC_model_gbrt, sampled_cr[55], NT[3], n_repeats=20, random_state=0)\n",
    "\n",
    "model_details['TOC'] = {'method': 'gbrt', 'spec': sampled_cr[55], 'spec_proc': 'cr', 'n_bands': 55}"
   ]
  },
  {
   "cell_type": "code",
   "execution_count": 205,
   "id": "8bef8fc7",
   "metadata": {},
   "outputs": [
    {
     "data": {
      "image/png": "[encoded data removed]",
      "text/plain": [
       "<Figure size 1000x700 with 1 Axes>"
      ]
     },
     "metadata": {},
     "output_type": "display_data"
    }
   ],
   "source": [
    "show_important_features_for ('TOC', model_details, feature_scores, 50, 250, 55)"
   ]
  },
  {
   "cell_type": "markdown",
   "id": "fc82c7ff",
   "metadata": {},
   "source": [
    "##  CaCO3 "
   ]
  },
  {
   "cell_type": "markdown",
   "id": "c42e8ba8",
   "metadata": {},
   "source": [
    "CaCO3 -> [ iqrp - **2.35**, r2 - **0.61**, Spec - none, n_bands - 3, Tar - none] :   **gbrt**  <br/><br/>\n",
    "***Description***: We get the best model for CaCO3 when we use gbrt (gradient boosted regression tree ) method. \\\n",
    "While training the model we utilize the smoothed spectra which is resampled to 3 bands and\n",
    "CaCO3 values are used without any preprocessing."
   ]
  },
  {
   "cell_type": "code",
   "execution_count": 206,
   "id": "6e8e9de1",
   "metadata": {},
   "outputs": [
    {
     "data": {
      "text/plain": [
       "GradientBoostingRegressor()"
      ]
     },
     "execution_count": 206,
     "metadata": {},
     "output_type": "execute_result"
    }
   ],
   "source": [
    "CaCO3_model_gbrt = GradientBoostingRegressor()\n",
    "CaCO3_model_gbrt.fit(sampled_spec[3], T[4])"
   ]
  },
  {
   "cell_type": "code",
   "execution_count": 207,
   "id": "630d213e",
   "metadata": {},
   "outputs": [
    {
     "data": {
      "text/html": [
       "<div>\n",
       "<style scoped>\n",
       "    .dataframe tbody tr th:only-of-type {\n",
       "        vertical-align: middle;\n",
       "    }\n",
       "\n",
       "    .dataframe tbody tr th {\n",
       "        vertical-align: top;\n",
       "    }\n",
       "\n",
       "    .dataframe thead th {\n",
       "        text-align: right;\n",
       "    }\n",
       "</style>\n",
       "<table border=\"1\" class=\"dataframe\">\n",
       "  <thead>\n",
       "    <tr style=\"text-align: right;\">\n",
       "      <th></th>\n",
       "      <th>792</th>\n",
       "      <th>1476</th>\n",
       "      <th>2159</th>\n",
       "    </tr>\n",
       "  </thead>\n",
       "  <tbody>\n",
       "    <tr>\n",
       "      <th>0</th>\n",
       "      <td>0.263038</td>\n",
       "      <td>0.437562</td>\n",
       "      <td>0.414411</td>\n",
       "    </tr>\n",
       "  </tbody>\n",
       "</table>\n",
       "</div>"
      ],
      "text/plain": [
       "        792      1476      2159\n",
       "0  0.263038  0.437562  0.414411"
      ]
     },
     "execution_count": 207,
     "metadata": {},
     "output_type": "execute_result"
    }
   ],
   "source": [
    "sampled_spec[3].head(1)"
   ]
  },
  {
   "cell_type": "code",
   "execution_count": 210,
   "id": "fa83a0f7",
   "metadata": {},
   "outputs": [],
   "source": [
    "feature_scores['CaCO3'] = permutation_importance(CaCO3_model_gbrt, sampled_spec[3], T[4], n_repeats=20, random_state=0)\n",
    "\n",
    "model_details['CaCO3'] = {'method': 'gbrt', 'spec': sampled_spec[3], 'spec_proc': 'spectra', 'n_bands': 3}"
   ]
  },
  {
   "cell_type": "code",
   "execution_count": 222,
   "id": "e6e80258",
   "metadata": {},
   "outputs": [
    {
     "data": {
      "image/png": "[encoded data removed]",
      "text/plain": [
       "<Figure size 1000x700 with 1 Axes>"
      ]
     },
     "metadata": {},
     "output_type": "display_data"
    }
   ],
   "source": [
    "show_important_features_for ('CaCO3', model_details, feature_scores, 0.02, 0.5, 3)"
   ]
  },
  {
   "cell_type": "code",
   "execution_count": 204,
   "id": "3fe64bc4",
   "metadata": {},
   "outputs": [
    {
     "data": {
      "application/vnd.jupyter.widget-view+json": {
       "model_id": "cd7f95c882e6491690fa34da72387d48",
       "version_major": 2,
       "version_minor": 0
      },
      "text/plain": [
       "interactive(children=(Dropdown(description='tar', options=('Sand', 'Silt', 'Clay', 'TOC', 'CaCO3'), value='San…"
      ]
     },
     "metadata": {},
     "output_type": "display_data"
    },
    {
     "data": {
      "text/plain": [
       "<function __main__.show_important_features_for(tar, model_details, feature_scores, r_factor, X_factor, sample)>"
      ]
     },
     "execution_count": 204,
     "metadata": {},
     "output_type": "execute_result"
    }
   ],
   "source": [
    "ipywidgets.interact(show_important_features_for, tar = target_names, model_details = [model_details], \n",
    "                    feature_scores = [feature_scores], r_factor = (0,100,0.01), X_factor = (0,1000,1), sample = (0,50,1))\n",
    "                    \n",
    "                                       \n",
    "#                     model_details= model_details, \\\n",
    "#                     feature_scores = feature_scores, r_factor = 1, X_factor= 1000, sample = (0,50,1))"
   ]
  }
 ],
 "metadata": {
  "kernelspec": {
   "display_name": "Python 3 (ipykernel)",
   "language": "python",
   "name": "python3"
  },
  "language_info": {
   "codemirror_mode": {
    "name": "ipython",
    "version": 3
   },
   "file_extension": ".py",
   "mimetype": "text/x-python",
   "name": "python",
   "nbconvert_exporter": "python",
   "pygments_lexer": "ipython3",
   "version": "3.9.13"
  }
 },
 "nbformat": 4,
 "nbformat_minor": 5
}
