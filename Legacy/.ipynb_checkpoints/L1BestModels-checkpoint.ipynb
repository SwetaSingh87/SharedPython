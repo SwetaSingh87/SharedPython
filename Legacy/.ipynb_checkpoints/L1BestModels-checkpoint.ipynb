{
 "cells": [
  {
   "cell_type": "markdown",
   "id": "5e9a84d7",
   "metadata": {},
   "source": [
    "# Importing Header, SoilPrep, and PlotFunctions"
   ]
  },
  {
   "cell_type": "code",
   "execution_count": 2,
   "id": "5265ba48",
   "metadata": {},
   "outputs": [
    {
     "name": "stdout",
     "output_type": "stream",
     "text": [
      "importing Jupyter notebook from Header.ipynb\n",
      "importing Jupyter notebook from SoilPrep.ipynb\n"
     ]
    }
   ],
   "source": [
    "import import_ipynb \n",
    "from Header import *\n",
    "\n",
    "import import_ipynb\n",
    "from SoilPrep import *"
   ]
  },
  {
   "cell_type": "code",
   "execution_count": 3,
   "id": "998a9d0c",
   "metadata": {},
   "outputs": [
    {
     "name": "stdout",
     "output_type": "stream",
     "text": [
      "importing Jupyter notebook from PlotFunctions.ipynb\n",
      "importing Jupyter notebook from LoadDataMetaData.ipynb\n"
     ]
    }
   ],
   "source": [
    "import import_ipynb\n",
    "from PlotFunctions import *"
   ]
  },
  {
   "cell_type": "markdown",
   "id": "097d5f4e",
   "metadata": {},
   "source": [
    "## Loading Data, MetaData, and Mtree "
   ]
  },
  {
   "cell_type": "code",
   "execution_count": null,
   "id": "74c42b35",
   "metadata": {},
   "outputs": [],
   "source": [
    "# with open ('meta_data.pickle', 'rb') as file:\n",
    "#     MetaData = pickle.load(file)\n",
    "\n",
    "# sg_filters = MetaData['sg_filters']\n",
    "# window_lengths = MetaData['window_lengths']\n",
    "# prepare_spec = MetaData['prepare_spec']\n",
    "# nbands_sampling = MetaData['nbands_sampling']\n",
    "# target_names = MetaData['target_names']\n",
    "# prepare_target = MetaData['prepare_target']\n",
    "# ml_methods = MetaData['ml_methods']\n",
    "\n",
    "\n",
    "# with open ('data.pickle', 'rb') as file:\n",
    "#     Data = pickle.load(file)\n",
    "\n",
    "# spectra = Data['spectra']\n",
    "# T = Data['T']\n",
    "# NT = Data['NT']\n",
    "# spec1 = Data['spec1'] \n",
    "# spec2 = Data['spec2']\n",
    "# smth_spec = Data['smth_spec']\n",
    "# fod_spec = Data['fod_spec']\n",
    "# cr_spec = Data['cr_spec'] \n",
    "# log_spec = Data['log_spec']\n",
    "# sampled_spec = Data['sampled_spec']\n",
    "# sampled_cr = Data['sampled_cr']\n",
    "\n",
    "# fod_sampled= Data['fod_sampled']\n",
    "# sampled_log = Data['sampled_log'] \n",
    "# rand_t = Data['rand_t']\n",
    "# rand_nt = Data['rand_nt'] "
   ]
  },
  {
   "cell_type": "code",
   "execution_count": 4,
   "id": "a2e3e20d",
   "metadata": {},
   "outputs": [],
   "source": [
    "with open ('L1Mtree.pickle', 'rb') as file:\n",
    "    Mtree = pickle.load(file)"
   ]
  },
  {
   "cell_type": "markdown",
   "id": "d689372b",
   "metadata": {},
   "source": [
    " #  Best Models for Sand, Silt, Clay, TOC, and CaCO3.."
   ]
  },
  {
   "cell_type": "code",
   "execution_count": 5,
   "id": "d22f6168",
   "metadata": {},
   "outputs": [],
   "source": [
    "feature_scores = {}\n",
    "\n",
    "model_details ={}"
   ]
  },
  {
   "cell_type": "markdown",
   "id": "d9dbaf43",
   "metadata": {},
   "source": [
    "##  Sand "
   ]
  },
  {
   "cell_type": "markdown",
   "id": "4a09fc82",
   "metadata": {},
   "source": [
    "Sand -> [ iqrp - **2.53**, r2 - **0.6**, Spec - log, n_bands - 7, Tar - minmax] :   **cubist**   <br/><br/>\n",
    "***Description***: We get the best model for sand when we use cubist method. \\\n",
    "While training the model we utilize the inverse logarithmic reflectance (1/logR) of the smoothed spectra which is  resampled to 7 bands and sand values are used by normalizing it in the range of 1-10."
   ]
  },
  {
   "cell_type": "code",
   "execution_count": 6,
   "id": "d18ce5ad",
   "metadata": {},
   "outputs": [
    {
     "data": {
      "text/plain": [
       "Cubist(n_committees=5, n_rules=50, random_state=42)"
      ]
     },
     "execution_count": 6,
     "metadata": {},
     "output_type": "execute_result"
    }
   ],
   "source": [
    "sand_model_cubist = Cubist(n_rules = 50, n_committees = 5, random_state = 42) \n",
    "sand_model_cubist.fit(sampled_log[7],  NT[0])"
   ]
  },
  {
   "cell_type": "code",
   "execution_count": 7,
   "id": "8515f7c3",
   "metadata": {},
   "outputs": [
    {
     "data": {
      "text/html": [
       "<div>\n",
       "<style scoped>\n",
       "    .dataframe tbody tr th:only-of-type {\n",
       "        vertical-align: middle;\n",
       "    }\n",
       "\n",
       "    .dataframe tbody tr th {\n",
       "        vertical-align: top;\n",
       "    }\n",
       "\n",
       "    .dataframe thead th {\n",
       "        text-align: right;\n",
       "    }\n",
       "</style>\n",
       "<table border=\"1\" class=\"dataframe\">\n",
       "  <thead>\n",
       "    <tr style=\"text-align: right;\">\n",
       "      <th></th>\n",
       "      <th>597</th>\n",
       "      <th>890</th>\n",
       "      <th>1183</th>\n",
       "      <th>1476</th>\n",
       "      <th>1768</th>\n",
       "      <th>2061</th>\n",
       "      <th>2354</th>\n",
       "    </tr>\n",
       "  </thead>\n",
       "  <tbody>\n",
       "    <tr>\n",
       "      <th>0</th>\n",
       "      <td>1.943961</td>\n",
       "      <td>1.130602</td>\n",
       "      <td>0.885943</td>\n",
       "      <td>0.845219</td>\n",
       "      <td>0.795006</td>\n",
       "      <td>0.861571</td>\n",
       "      <td>0.926086</td>\n",
       "    </tr>\n",
       "    <tr>\n",
       "      <th>1</th>\n",
       "      <td>1.875993</td>\n",
       "      <td>1.056910</td>\n",
       "      <td>0.807646</td>\n",
       "      <td>0.767232</td>\n",
       "      <td>0.716776</td>\n",
       "      <td>0.777129</td>\n",
       "      <td>0.842225</td>\n",
       "    </tr>\n",
       "  </tbody>\n",
       "</table>\n",
       "</div>"
      ],
      "text/plain": [
       "        597       890      1183      1476      1768      2061      2354\n",
       "0  1.943961  1.130602  0.885943  0.845219  0.795006  0.861571  0.926086\n",
       "1  1.875993  1.056910  0.807646  0.767232  0.716776  0.777129  0.842225"
      ]
     },
     "execution_count": 7,
     "metadata": {},
     "output_type": "execute_result"
    }
   ],
   "source": [
    "sampled_log[7].head(2)"
   ]
  },
  {
   "cell_type": "code",
   "execution_count": 23,
   "id": "a9727338",
   "metadata": {},
   "outputs": [
    {
     "data": {
      "image/png": "[encoded data removed]",
      "text/plain": [
       "<Figure size 1000x700 with 1 Axes>"
      ]
     },
     "metadata": {},
     "output_type": "display_data"
    }
   ],
   "source": [
    "feature_scores['Sand'] = permutation_importance(sand_model_cubist, sampled_log[7], NT[0], n_repeats=20, random_state=0)\n",
    "model_details['Sand'] = {'method': 'Cubist', 'spec': sampled_log[7], 'spec_proc': 'log', 'n_bands': 7}\n",
    "show_important_features_for ('Sand', model_details, feature_scores, 5, 40, 1)"
   ]
  },
  {
   "cell_type": "markdown",
   "id": "ae8acff0",
   "metadata": {},
   "source": [
    "Sand -> [ iqrp - **2.5**, r2 - **0.6**, Spec - fod2, n_bands - 39, Tar - minmax] :   **lasso**   <br/><br/>\n",
    "***Description***: We get the best model for sand when we use lasso method. \\\n",
    "While training the model we utilize the first order derivative (of the smoothed spectra which is resampled to 39 bands) and \n",
    "sand values are used by normalizing it in the range of 1-10."
   ]
  },
  {
   "cell_type": "code",
   "execution_count": 26,
   "id": "80a11cea",
   "metadata": {},
   "outputs": [
    {
     "data": {
      "text/plain": [
       "Lasso(alpha=10)"
      ]
     },
     "execution_count": 26,
     "metadata": {},
     "output_type": "execute_result"
    }
   ],
   "source": [
    "sand_model_lasso = Lasso(alpha=10) \n",
    "sand_model_lasso.fit(fod_sampled[39],  NT[0])"
   ]
  },
  {
   "cell_type": "code",
   "execution_count": 27,
   "id": "f4d85dbd",
   "metadata": {},
   "outputs": [
    {
     "data": {
      "text/html": [
       "<div>\n",
       "<style scoped>\n",
       "    .dataframe tbody tr th:only-of-type {\n",
       "        vertical-align: middle;\n",
       "    }\n",
       "\n",
       "    .dataframe tbody tr th {\n",
       "        vertical-align: top;\n",
       "    }\n",
       "\n",
       "    .dataframe thead th {\n",
       "        text-align: right;\n",
       "    }\n",
       "</style>\n",
       "<table border=\"1\" class=\"dataframe\">\n",
       "  <thead>\n",
       "    <tr style=\"text-align: right;\">\n",
       "      <th></th>\n",
       "      <th>477</th>\n",
       "      <th>529</th>\n",
       "      <th>582</th>\n",
       "      <th>634</th>\n",
       "      <th>687</th>\n",
       "      <th>740</th>\n",
       "      <th>792</th>\n",
       "      <th>845</th>\n",
       "      <th>897</th>\n",
       "      <th>950</th>\n",
       "      <th>1002</th>\n",
       "      <th>1055</th>\n",
       "      <th>1108</th>\n",
       "      <th>1160</th>\n",
       "      <th>1213</th>\n",
       "      <th>1265</th>\n",
       "      <th>1318</th>\n",
       "      <th>1370</th>\n",
       "      <th>1423</th>\n",
       "      <th>1476</th>\n",
       "      <th>1528</th>\n",
       "      <th>1581</th>\n",
       "      <th>1633</th>\n",
       "      <th>1686</th>\n",
       "      <th>1738</th>\n",
       "      <th>1791</th>\n",
       "      <th>1843</th>\n",
       "      <th>1896</th>\n",
       "      <th>1949</th>\n",
       "      <th>2001</th>\n",
       "      <th>2054</th>\n",
       "      <th>2106</th>\n",
       "      <th>2159</th>\n",
       "      <th>2211</th>\n",
       "      <th>2264</th>\n",
       "      <th>2317</th>\n",
       "      <th>2369</th>\n",
       "      <th>2422</th>\n",
       "      <th>2474</th>\n",
       "    </tr>\n",
       "  </thead>\n",
       "  <tbody>\n",
       "    <tr>\n",
       "      <th>0</th>\n",
       "      <td>0.024187</td>\n",
       "      <td>0.058948</td>\n",
       "      <td>0.047365</td>\n",
       "      <td>0.036885</td>\n",
       "      <td>0.037365</td>\n",
       "      <td>0.024615</td>\n",
       "      <td>0.013981</td>\n",
       "      <td>0.012750</td>\n",
       "      <td>0.017115</td>\n",
       "      <td>0.019077</td>\n",
       "      <td>0.019538</td>\n",
       "      <td>0.017923</td>\n",
       "      <td>0.014327</td>\n",
       "      <td>0.011327</td>\n",
       "      <td>0.008692</td>\n",
       "      <td>0.004654</td>\n",
       "      <td>-0.004712</td>\n",
       "      <td>-0.030212</td>\n",
       "      <td>0.019808</td>\n",
       "      <td>0.017635</td>\n",
       "      <td>0.010654</td>\n",
       "      <td>0.006442</td>\n",
       "      <td>0.005500</td>\n",
       "      <td>0.001923</td>\n",
       "      <td>0.003500</td>\n",
       "      <td>0.002346</td>\n",
       "      <td>-0.086327</td>\n",
       "      <td>-0.024962</td>\n",
       "      <td>0.051019</td>\n",
       "      <td>0.038000</td>\n",
       "      <td>0.019558</td>\n",
       "      <td>-0.008423</td>\n",
       "      <td>-0.029500</td>\n",
       "      <td>0.009788</td>\n",
       "      <td>-0.013365</td>\n",
       "      <td>-0.022904</td>\n",
       "      <td>-0.029154</td>\n",
       "      <td>-0.038308</td>\n",
       "      <td>-0.038308</td>\n",
       "    </tr>\n",
       "    <tr>\n",
       "      <th>1</th>\n",
       "      <td>0.027552</td>\n",
       "      <td>0.064592</td>\n",
       "      <td>0.049923</td>\n",
       "      <td>0.039462</td>\n",
       "      <td>0.040365</td>\n",
       "      <td>0.027212</td>\n",
       "      <td>0.015077</td>\n",
       "      <td>0.013231</td>\n",
       "      <td>0.018058</td>\n",
       "      <td>0.021288</td>\n",
       "      <td>0.021365</td>\n",
       "      <td>0.020269</td>\n",
       "      <td>0.016404</td>\n",
       "      <td>0.012481</td>\n",
       "      <td>0.009212</td>\n",
       "      <td>0.004788</td>\n",
       "      <td>-0.005500</td>\n",
       "      <td>-0.034135</td>\n",
       "      <td>0.023077</td>\n",
       "      <td>0.019538</td>\n",
       "      <td>0.011519</td>\n",
       "      <td>0.006308</td>\n",
       "      <td>0.006327</td>\n",
       "      <td>0.002788</td>\n",
       "      <td>0.003615</td>\n",
       "      <td>0.001808</td>\n",
       "      <td>-0.095096</td>\n",
       "      <td>-0.023827</td>\n",
       "      <td>0.055000</td>\n",
       "      <td>0.043365</td>\n",
       "      <td>0.022558</td>\n",
       "      <td>-0.009115</td>\n",
       "      <td>-0.036365</td>\n",
       "      <td>0.013231</td>\n",
       "      <td>-0.014135</td>\n",
       "      <td>-0.026750</td>\n",
       "      <td>-0.031615</td>\n",
       "      <td>-0.039212</td>\n",
       "      <td>-0.039212</td>\n",
       "    </tr>\n",
       "  </tbody>\n",
       "</table>\n",
       "</div>"
      ],
      "text/plain": [
       "        477       529       582       634       687       740       792  \\\n",
       "0  0.024187  0.058948  0.047365  0.036885  0.037365  0.024615  0.013981   \n",
       "1  0.027552  0.064592  0.049923  0.039462  0.040365  0.027212  0.015077   \n",
       "\n",
       "        845       897       950      1002      1055      1108      1160  \\\n",
       "0  0.012750  0.017115  0.019077  0.019538  0.017923  0.014327  0.011327   \n",
       "1  0.013231  0.018058  0.021288  0.021365  0.020269  0.016404  0.012481   \n",
       "\n",
       "       1213      1265      1318      1370      1423      1476      1528  \\\n",
       "0  0.008692  0.004654 -0.004712 -0.030212  0.019808  0.017635  0.010654   \n",
       "1  0.009212  0.004788 -0.005500 -0.034135  0.023077  0.019538  0.011519   \n",
       "\n",
       "       1581      1633      1686      1738      1791      1843      1896  \\\n",
       "0  0.006442  0.005500  0.001923  0.003500  0.002346 -0.086327 -0.024962   \n",
       "1  0.006308  0.006327  0.002788  0.003615  0.001808 -0.095096 -0.023827   \n",
       "\n",
       "       1949      2001      2054      2106      2159      2211      2264  \\\n",
       "0  0.051019  0.038000  0.019558 -0.008423 -0.029500  0.009788 -0.013365   \n",
       "1  0.055000  0.043365  0.022558 -0.009115 -0.036365  0.013231 -0.014135   \n",
       "\n",
       "       2317      2369      2422      2474  \n",
       "0 -0.022904 -0.029154 -0.038308 -0.038308  \n",
       "1 -0.026750 -0.031615 -0.039212 -0.039212  "
      ]
     },
     "execution_count": 27,
     "metadata": {},
     "output_type": "execute_result"
    }
   ],
   "source": [
    "fod_sampled[39].head(2)"
   ]
  },
  {
   "cell_type": "code",
   "execution_count": 28,
   "id": "76eb2336",
   "metadata": {},
   "outputs": [
    {
     "ename": "ValueError",
     "evalue": "cannot convert float NaN to integer",
     "output_type": "error",
     "traceback": [
      "\u001b[1;31m---------------------------------------------------------------------------\u001b[0m",
      "\u001b[1;31mValueError\u001b[0m                                Traceback (most recent call last)",
      "\u001b[1;32m~\\AppData\\Local\\Temp\\ipykernel_15036\\3007231427.py\u001b[0m in \u001b[0;36m<module>\u001b[1;34m\u001b[0m\n\u001b[0;32m      1\u001b[0m \u001b[0mfeature_scores\u001b[0m\u001b[1;33m[\u001b[0m\u001b[1;34m'Sand'\u001b[0m\u001b[1;33m]\u001b[0m \u001b[1;33m=\u001b[0m \u001b[0mpermutation_importance\u001b[0m\u001b[1;33m(\u001b[0m\u001b[0msand_model_lasso\u001b[0m\u001b[1;33m,\u001b[0m \u001b[0mfod_sampled\u001b[0m\u001b[1;33m[\u001b[0m\u001b[1;36m39\u001b[0m\u001b[1;33m]\u001b[0m\u001b[1;33m,\u001b[0m \u001b[0mNT\u001b[0m\u001b[1;33m[\u001b[0m\u001b[1;36m0\u001b[0m\u001b[1;33m]\u001b[0m\u001b[1;33m,\u001b[0m \u001b[0mn_repeats\u001b[0m\u001b[1;33m=\u001b[0m\u001b[1;36m20\u001b[0m\u001b[1;33m,\u001b[0m \u001b[0mrandom_state\u001b[0m\u001b[1;33m=\u001b[0m\u001b[1;36m0\u001b[0m\u001b[1;33m)\u001b[0m\u001b[1;33m\u001b[0m\u001b[1;33m\u001b[0m\u001b[0m\n\u001b[0;32m      2\u001b[0m \u001b[0mmodel_details\u001b[0m\u001b[1;33m[\u001b[0m\u001b[1;34m'Sand'\u001b[0m\u001b[1;33m]\u001b[0m \u001b[1;33m=\u001b[0m \u001b[1;33m{\u001b[0m\u001b[1;34m'method'\u001b[0m\u001b[1;33m:\u001b[0m \u001b[1;34m'lasso'\u001b[0m\u001b[1;33m,\u001b[0m \u001b[1;34m'spec'\u001b[0m\u001b[1;33m:\u001b[0m \u001b[0mfod_sampled\u001b[0m\u001b[1;33m[\u001b[0m\u001b[1;36m39\u001b[0m\u001b[1;33m]\u001b[0m\u001b[1;33m,\u001b[0m \u001b[1;34m'spec_proc'\u001b[0m\u001b[1;33m:\u001b[0m \u001b[1;34m'fod2'\u001b[0m\u001b[1;33m,\u001b[0m \u001b[1;34m'n_bands'\u001b[0m\u001b[1;33m:\u001b[0m \u001b[1;36m39\u001b[0m\u001b[1;33m}\u001b[0m\u001b[1;33m\u001b[0m\u001b[1;33m\u001b[0m\u001b[0m\n\u001b[1;32m----> 3\u001b[1;33m \u001b[0mshow_important_features_for\u001b[0m \u001b[1;33m(\u001b[0m\u001b[1;34m'Sand'\u001b[0m\u001b[1;33m,\u001b[0m \u001b[0mmodel_details\u001b[0m\u001b[1;33m,\u001b[0m \u001b[0mfeature_scores\u001b[0m\u001b[1;33m,\u001b[0m \u001b[1;36m5\u001b[0m\u001b[1;33m,\u001b[0m \u001b[1;36m40\u001b[0m\u001b[1;33m,\u001b[0m \u001b[1;36m1\u001b[0m\u001b[1;33m)\u001b[0m\u001b[1;33m\u001b[0m\u001b[1;33m\u001b[0m\u001b[0m\n\u001b[0m",
      "\u001b[1;32m~\\GitRepo\\SharedPython\\Legacy\\PlotFunctions.ipynb\u001b[0m in \u001b[0;36mshow_important_features_for\u001b[1;34m(tar, model_details, feature_scores, r_factor, X_factor, sample)\u001b[0m\n",
      "\u001b[1;32m~\\GitRepo\\SharedPython\\Legacy\\PlotFunctions.ipynb\u001b[0m in \u001b[0;36mshow_important_features\u001b[1;34m(r, X_val, sample)\u001b[0m\n",
      "\u001b[1;32m~\\GitRepo\\SharedPython\\Legacy\\PlotFunctions.ipynb\u001b[0m in \u001b[0;36m<listcomp>\u001b[1;34m(.0)\u001b[0m\n",
      "\u001b[1;31mValueError\u001b[0m: cannot convert float NaN to integer"
     ]
    },
    {
     "data": {
      "image/png": "[encoded data removed]",
      "text/plain": [
       "<Figure size 1000x700 with 1 Axes>"
      ]
     },
     "metadata": {},
     "output_type": "display_data"
    }
   ],
   "source": [
    "feature_scores['Sand'] = permutation_importance(sand_model_lasso, fod_sampled[39], NT[0], n_repeats=20, random_state=0)\n",
    "model_details['Sand'] = {'method': 'lasso', 'spec': fod_sampled[39], 'spec_proc': 'fod2', 'n_bands': 39}\n",
    "show_important_features_for ('Sand', model_details, feature_scores, 5, 40, 1)"
   ]
  },
  {
   "cell_type": "code",
   "execution_count": 8,
   "id": "00cc0d34",
   "metadata": {},
   "outputs": [
    {
     "ename": "NameError",
     "evalue": "name 'sampled_fod' is not defined",
     "output_type": "error",
     "traceback": [
      "\u001b[1;31m---------------------------------------------------------------------------\u001b[0m",
      "\u001b[1;31mNameError\u001b[0m                                 Traceback (most recent call last)",
      "\u001b[1;32m~\\AppData\\Local\\Temp\\ipykernel_21196\\91774506.py\u001b[0m in \u001b[0;36m<module>\u001b[1;34m\u001b[0m\n\u001b[0;32m      2\u001b[0m \u001b[1;33m\u001b[0m\u001b[0m\n\u001b[0;32m      3\u001b[0m \u001b[0msand_model_gbrt\u001b[0m \u001b[1;33m=\u001b[0m \u001b[0mGradientBoostingRegressor\u001b[0m\u001b[1;33m(\u001b[0m\u001b[1;33m)\u001b[0m\u001b[1;33m\u001b[0m\u001b[1;33m\u001b[0m\u001b[0m\n\u001b[1;32m----> 4\u001b[1;33m \u001b[0msand_model_gbrt\u001b[0m\u001b[1;33m.\u001b[0m\u001b[0mfit\u001b[0m\u001b[1;33m(\u001b[0m\u001b[0msampled_fod\u001b[0m\u001b[1;33m[\u001b[0m\u001b[1;36m24\u001b[0m\u001b[1;33m]\u001b[0m\u001b[1;33m,\u001b[0m \u001b[0mT\u001b[0m\u001b[1;33m[\u001b[0m\u001b[1;36m0\u001b[0m\u001b[1;33m]\u001b[0m\u001b[1;33m)\u001b[0m\u001b[1;33m\u001b[0m\u001b[1;33m\u001b[0m\u001b[0m\n\u001b[0m",
      "\u001b[1;31mNameError\u001b[0m: name 'sampled_fod' is not defined"
     ]
    }
   ],
   "source": [
    " Sand -> [ iqrp - 3.05, r2 - 0.69, Spec - fod, n_bands - 24, Tar - minmax] : gbrt\n",
    "\n",
    "sand_model_gbrt = GradientBoostingRegressor()  \n",
    "sand_model_gbrt.fit(sampled_fod[24], T[0])"
   ]
  },
  {
   "cell_type": "code",
   "execution_count": null,
   "id": "d4219f6e",
   "metadata": {},
   "outputs": [],
   "source": [
    "sampled_fod[24].head(1)"
   ]
  },
  {
   "cell_type": "code",
   "execution_count": null,
   "id": "b5a14f53",
   "metadata": {},
   "outputs": [],
   "source": [
    "feature_scores['Sand'] = permutation_importance(sand_model_gbrt, sampled_fod[24], T[0], n_repeats=20, random_state=0)\n",
    "\n",
    "model_details['Sand'] = {'method': 'gbrt', 'spec': sampled_fod[24], 'spec_proc': 'fod', 'n_bands': 24}"
   ]
  },
  {
   "cell_type": "code",
   "execution_count": null,
   "id": "153dd7a3",
   "metadata": {},
   "outputs": [],
   "source": [
    "show_important_features_for ('Sand', model_details, feature_scores, 10, 9000, 1)"
   ]
  },
  {
   "cell_type": "markdown",
   "id": "c023ffd4",
   "metadata": {},
   "source": [
    "###  Silt "
   ]
  },
  {
   "cell_type": "code",
   "execution_count": null,
   "id": "d5c0d352",
   "metadata": {},
   "outputs": [],
   "source": [
    "# For:Silt-> ['r2', 0.5, 'Spec:', 'fod2', 'bands:', 12, 'Tar:', 'none'] :randomforest"
   ]
  },
  {
   "cell_type": "markdown",
   "id": "f255bdef",
   "metadata": {},
   "source": [
    "Silt -> [ iqrp - **2.04**, r2 - **0.5**, Spec - fod2, n_bands - 12, Tar - none] :   **random**  <br/><br/>\n",
    "***Description***: We get the best model for silt when we use randomforest method. \\\n",
    "While training the model we utilize the first order derivative (of the smoothed spectra which is resampled to 12 bands) and\n",
    "silt values are used without any preprocessing."
   ]
  },
  {
   "cell_type": "code",
   "execution_count": null,
   "id": "9a840b51",
   "metadata": {},
   "outputs": [],
   "source": [
    "silt_model_rand = RandomForestRegressor(random_state= 23)\n",
    "silt_model_rand.fit(fod_sampled[12], T[1])"
   ]
  },
  {
   "cell_type": "code",
   "execution_count": null,
   "id": "02bea89b",
   "metadata": {},
   "outputs": [],
   "source": [
    "fod_sampled[12].head(1)"
   ]
  },
  {
   "cell_type": "code",
   "execution_count": null,
   "id": "bf0a8cef",
   "metadata": {},
   "outputs": [],
   "source": [
    "feature_scores['Silt'] = permutation_importance(silt_model_rand, fod_sampled[12], T[1], n_repeats=20, random_state=0)"
   ]
  },
  {
   "cell_type": "code",
   "execution_count": null,
   "id": "90a6831c",
   "metadata": {},
   "outputs": [],
   "source": [
    "model_details['Silt'] = {'method': 'rand', 'spec': fod_sampled[12], 'spec_proc': 'fod2', 'n_bands': 12}\n",
    "\n",
    "show_important_features_for ('Silt', model_details, feature_scores, 5, 10, 5)"
   ]
  },
  {
   "cell_type": "markdown",
   "id": "23888536",
   "metadata": {},
   "source": [
    "##  Clay"
   ]
  },
  {
   "cell_type": "markdown",
   "id": "bf66e623",
   "metadata": {},
   "source": [
    "Clay -> [ iqrp - **2.99**, r2 - **0.77**, Spec - log, n_bands - 15, Tar - minmax] :   **mult**   <br/><br/>\n",
    "***Description***: We get the best model for clay when we use mult (multiple linear regression) method. \\\n",
    "While training the model we utilize the inverse logarithmic reflectance (1/logR) of the smoothed spectra which is resampled to 15 bands and clay values are used by  normalizing it in the range of 0-10.\n",
    "\n",
    "Clay -> [ iqrp - **2.97**, r2 - **0.77**, Spec - continuum, n_bands - 30, Tar - minmax] :   **gbrt**   <br/><br/>\n",
    "***Description***: We get the best model for clay when we use mult (multiple linear regression) method. \\\n",
    "While training the model we utilize the continum removed smoothed spectra which is resampled to 30 bands and clay values are used by  normalizing it in the range of 0-10."
   ]
  },
  {
   "cell_type": "code",
   "execution_count": null,
   "id": "fbb260ce",
   "metadata": {},
   "outputs": [],
   "source": [
    "clay_model_mult = linear_model.LinearRegression()\n",
    "clay_model_mult.fit(sampled_log[15], NT[2])"
   ]
  },
  {
   "cell_type": "code",
   "execution_count": null,
   "id": "65690195",
   "metadata": {},
   "outputs": [],
   "source": [
    "sampled_log[15].head(1)"
   ]
  },
  {
   "cell_type": "code",
   "execution_count": null,
   "id": "b674239a",
   "metadata": {},
   "outputs": [],
   "source": [
    "feature_scores['Clay'] = permutation_importance(clay_model_mult, sampled_log[15], NT[2], n_repeats=20, random_state=0)\n",
    "\n",
    "model_details['Clay'] = {'method': 'mult', 'spec': sampled_log[15], 'spec_proc': 'log', 'n_bands': 15}"
   ]
  },
  {
   "cell_type": "code",
   "execution_count": null,
   "id": "96c7f30b",
   "metadata": {},
   "outputs": [],
   "source": [
    "show_important_features_for ('Clay', model_details, feature_scores, 0.001, 1, 2)"
   ]
  },
  {
   "cell_type": "code",
   "execution_count": null,
   "id": "5cefc1b0",
   "metadata": {},
   "outputs": [],
   "source": [
    "# For:Clay-> ['r2', 0.77, 'Spec:', 'continuum', 'bands:', 30, 'Tar:', 'minmax'] :gbrt\n",
    "clay_model_gbrt = GradientBoostingRegressor()\n",
    "clay_model_gbrt.fit(sampled_cr[30], NT[2])"
   ]
  },
  {
   "cell_type": "code",
   "execution_count": null,
   "id": "8419612a",
   "metadata": {},
   "outputs": [],
   "source": [
    "sampled_cr[30].head(1)"
   ]
  },
  {
   "cell_type": "code",
   "execution_count": null,
   "id": "64354efc",
   "metadata": {},
   "outputs": [],
   "source": [
    "feature_scores['Clay'] = permutation_importance(clay_model_gbrt, sampled_cr[30], NT[2], n_repeats=20, random_state=0)\n",
    "\n",
    "model_details['Clay'] = {'method': 'gbrt', 'spec': sampled_cr[30], 'spec_proc': 'continuum', 'n_bands': 30}"
   ]
  },
  {
   "cell_type": "code",
   "execution_count": null,
   "id": "f0f508e2",
   "metadata": {},
   "outputs": [],
   "source": [
    "show_important_features_for ('Clay', model_details, feature_scores, 20, 150, 2)"
   ]
  },
  {
   "cell_type": "markdown",
   "id": "844c3528",
   "metadata": {},
   "source": [
    "##  TOC "
   ]
  },
  {
   "cell_type": "code",
   "execution_count": null,
   "id": "981f4262",
   "metadata": {},
   "outputs": [],
   "source": [
    "# For:TOC-> ['iqrp', 2.51, 'Spec:', 'fod2', 'bands:', 40, 'Tar:', 'minmax'] :gbrt\n",
    "# For:TOC-> ['r2', 0.81, 'Spec:', 'fod2', 'bands:', 40, 'Tar:', 'minmax'] :gbrt"
   ]
  },
  {
   "cell_type": "markdown",
   "id": "f4b601b5",
   "metadata": {},
   "source": [
    "TOC -> [ iqrp - **2.51**, r2 - **0.81**, Spec - fod2, n_bands - 40, Tar - minmax] :   **gbrt**  <br/><br/>\n",
    "***Description***: We get the best model for TOC when we use gbrt (gradient boosted regression tree) method. \\\n",
    "While training the model we utilize the fod (of the smoothed spectra which is resampled to 55 bands) and\n",
    "TOC values are used by  normalizing it in the range of 0-10."
   ]
  },
  {
   "cell_type": "code",
   "execution_count": null,
   "id": "5c4440a6",
   "metadata": {},
   "outputs": [],
   "source": [
    "TOC_model_gbrt = GradientBoostingRegressor() \n",
    "TOC_model_gbrt.fit(fod_sampled[40], NT[3])"
   ]
  },
  {
   "cell_type": "code",
   "execution_count": null,
   "id": "26b8f04d",
   "metadata": {},
   "outputs": [],
   "source": [
    "fod_sampled[40].head(1)"
   ]
  },
  {
   "cell_type": "code",
   "execution_count": null,
   "id": "43f83124",
   "metadata": {},
   "outputs": [],
   "source": [
    "feature_scores['TOC'] = permutation_importance(TOC_model_gbrt, fod_sampled[40], NT[3], n_repeats=20, random_state=0)\n",
    "\n",
    "model_details['TOC'] = {'method': 'gbrt', 'spec': fod_sampled[40], 'spec_proc': 'fod2', 'n_bands': 40}"
   ]
  },
  {
   "cell_type": "code",
   "execution_count": null,
   "id": "8bef8fc7",
   "metadata": {},
   "outputs": [],
   "source": [
    "show_important_features_for ('TOC', model_details, feature_scores, 50, 70, 55)"
   ]
  },
  {
   "cell_type": "markdown",
   "id": "fc82c7ff",
   "metadata": {},
   "source": [
    "##  CaCO3 "
   ]
  },
  {
   "cell_type": "code",
   "execution_count": null,
   "id": "9fe59ff6",
   "metadata": {},
   "outputs": [],
   "source": [
    "#For:CaCO3-> ['iqrp', 2.32, 'Spec:', 'none', 'bands:', 3, 'Tar:', 'none'] :gbrt\n",
    "#For:CaCO3-> ['r2', 0.6, 'Spec:', 'none', 'bands:', 3, 'Tar:', 'none'] :gbrt"
   ]
  },
  {
   "cell_type": "markdown",
   "id": "c42e8ba8",
   "metadata": {},
   "source": [
    "CaCO3 -> [ iqrp - **2.32**, r2 - **0.6**, Spec - none, n_bands - 3, Tar - none] :   **gbrt**  <br/><br/>\n",
    "***Description***: We get the best model for CaCO3 when we use gbrt (gradient boosted regression tree ) method. \\\n",
    "While training the model we utilize the smoothed spectra which is resampled to 3 bands and\n",
    "CaCO3 values are used without any preprocessing."
   ]
  },
  {
   "cell_type": "code",
   "execution_count": null,
   "id": "6e8e9de1",
   "metadata": {},
   "outputs": [],
   "source": [
    "CaCO3_model_gbrt = GradientBoostingRegressor()\n",
    "CaCO3_model_gbrt.fit(sampled_spec[3], T[4])"
   ]
  },
  {
   "cell_type": "code",
   "execution_count": null,
   "id": "630d213e",
   "metadata": {},
   "outputs": [],
   "source": [
    "sampled_spec[3].head(1)"
   ]
  },
  {
   "cell_type": "code",
   "execution_count": null,
   "id": "fa83a0f7",
   "metadata": {},
   "outputs": [],
   "source": [
    "feature_scores['CaCO3'] = permutation_importance(CaCO3_model_gbrt, sampled_spec[3], T[4], n_repeats=20, random_state=0)\n",
    "\n",
    "model_details['CaCO3'] = {'method': 'gbrt', 'spec': sampled_spec[3], 'spec_proc': 'spectra', 'n_bands': 3}"
   ]
  },
  {
   "cell_type": "code",
   "execution_count": null,
   "id": "e6e80258",
   "metadata": {},
   "outputs": [],
   "source": [
    "show_important_features_for ('CaCO3', model_details, feature_scores, 0.02, 0.5, 3)"
   ]
  },
  {
   "cell_type": "code",
   "execution_count": null,
   "id": "3fe64bc4",
   "metadata": {},
   "outputs": [],
   "source": [
    "ipywidgets.interact(show_important_features_for, tar = target_names, model_details = [model_details], \n",
    "                    feature_scores = [feature_scores], r_factor = (0,100,0.01), X_factor = (0,1000,1), sample = (0,50,1))\n",
    "                    \n"
   ]
  }
 ],
 "metadata": {
  "kernelspec": {
   "display_name": "Python 3 (ipykernel)",
   "language": "python",
   "name": "python3"
  },
  "language_info": {
   "codemirror_mode": {
    "name": "ipython",
    "version": 3
   },
   "file_extension": ".py",
   "mimetype": "text/x-python",
   "name": "python",
   "nbconvert_exporter": "python",
   "pygments_lexer": "ipython3",
   "version": "3.9.13"
  }
 },
 "nbformat": 4,
 "nbformat_minor": 5
}
