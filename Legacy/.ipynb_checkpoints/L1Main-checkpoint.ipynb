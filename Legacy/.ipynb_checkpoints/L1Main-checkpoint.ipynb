{
 "cells": [
  {
   "cell_type": "markdown",
   "id": "9e44ac43",
   "metadata": {},
   "source": [
    "# Importing Header and SoilPrep"
   ]
  },
  {
   "cell_type": "code",
   "execution_count": 2,
   "id": "188e54fc",
   "metadata": {},
   "outputs": [
    {
     "name": "stdout",
     "output_type": "stream",
     "text": [
      "importing Jupyter notebook from Header.ipynb\n"
     ]
    }
   ],
   "source": [
    "import import_ipynb \n",
    "from Header import *"
   ]
  },
  {
   "cell_type": "code",
   "execution_count": 3,
   "id": "22684781",
   "metadata": {},
   "outputs": [
    {
     "name": "stdout",
     "output_type": "stream",
     "text": [
      "importing Jupyter notebook from SoilPrep.ipynb\n"
     ]
    }
   ],
   "source": [
    "import import_ipynb\n",
    "from SoilPrep import * "
   ]
  },
  {
   "cell_type": "markdown",
   "id": "4bf91556",
   "metadata": {},
   "source": [
    "## Loading Data and MetaData"
   ]
  },
  {
   "cell_type": "code",
   "execution_count": 4,
   "id": "76054719",
   "metadata": {},
   "outputs": [
    {
     "name": "stdout",
     "output_type": "stream",
     "text": [
      "importing Jupyter notebook from LoadDataMetaData.ipynb\n"
     ]
    }
   ],
   "source": [
    "import import_ipynb\n",
    "from LoadDataMetaData import *"
   ]
  },
  {
   "cell_type": "markdown",
   "id": "fb33b3e5",
   "metadata": {},
   "source": [
    "# Step 3: Leave one out Predictions"
   ]
  },
  {
   "cell_type": "markdown",
   "id": "fdf5ad81",
   "metadata": {},
   "source": [
    "##  find_y_pred"
   ]
  },
  {
   "cell_type": "code",
   "execution_count": 51,
   "id": "7ec67bd9",
   "metadata": {},
   "outputs": [],
   "source": [
    "def find_y_pred (spectra, target, method):\n",
    "    m = method\n",
    "    (r,c) = spectra.shape\n",
    "    \n",
    "    Y_test = target.copy()\n",
    "    Y_pred = target.copy()\n",
    "    \n",
    "    n_comp = 'NA'\n",
    "    \n",
    "#     if method == 'plsr':\n",
    "#         #--- avg_iqrp[n] stores iqrp for plsr when plsr model is created with 'n' n_comp... \n",
    "#         avg_iqrp =[0]\n",
    "#         Yp =['NA']\n",
    "#         for n in range (1,max_n_comp):\n",
    "#             for i in range (0,r): \n",
    "#                 full_spec = spectra.copy()\n",
    "#                 X_train = full_spec.drop(full_spec.index[i], axis=0)\n",
    "#                 X_test = full_spec.iloc[[i],:].copy()\n",
    "#                 full_tar = target.copy()\n",
    "#                 y_train = full_tar.drop(full_tar.index[i], axis=0)\n",
    "#                 y_test = full_tar.iloc[i].copy() \n",
    "            \n",
    "#                 Model = PLSRegression(n_components=n, scale=True)\n",
    "#                 Model.fit(X_train, y_train)\n",
    "#                 y_pred = Model.predict(X_test, copy=True)\n",
    "#                 Y_pred.iloc[i] = y_pred\n",
    "                \n",
    "                \n",
    "#             avg_iqrp.append(np.round(find_iqrp (Y_pred, Y_test),2))\n",
    "            \n",
    "#             Yp.append(Y_pred)\n",
    "        \n",
    "#         max_iqrp = max(avg_iqrp)\n",
    "#         n_comp = avg_iqrp.index(max_iqrp)\n",
    "#         Y_pred = Yp[n_comp]\n",
    "                \n",
    "        \n",
    "        \n",
    "    if method == 'plsr':\n",
    "        #--- avg_iqrp[n] stores iqrp for plsr when plsr model is created with 'n' n_comp... \n",
    "        avg_iqrp =[]\n",
    "        Y_pred = []        \n",
    "        N =[]\n",
    "        \n",
    "        for n in range (0,max_n_comp):\n",
    "            avg_iqrp.append(0)\n",
    "            Y_pred.append(target.copy())\n",
    "            N.append(n)\n",
    "        \n",
    "        for i in range (0,r): \n",
    "            print('i: ', i)\n",
    "            full_spec = spectra.copy()\n",
    "            X_train = full_spec.drop(full_spec.index[i], axis=0)\n",
    "            X_test = full_spec.iloc[[i],:].copy()\n",
    "            full_tar = target.copy()\n",
    "            y_train = full_tar.drop(full_tar.index[i], axis=0)\n",
    "            y_test = full_tar.iloc[i].copy() \n",
    "            \n",
    "            Model = list(map(lambda x: (PLSRegression(n_components=x+1, scale=True)), N))            \n",
    "            Model = list(map(lambda x: Model[x].fit(X_train, y_train), N))            \n",
    "            y_pred = list(map(lambda x:Model[x].predict(X_test, copy=True), N))                          \n",
    "            for n in range (0,max_n_comp):\n",
    "                Y_pred[n].iloc[i] = y_pred[n]\n",
    "                                \n",
    "                \n",
    "        for n in range (0,max_n_comp):        \n",
    "            avg_iqrp[n] = (np.round(find_iqrp (Y_pred[n], Y_test),2))\n",
    "            \n",
    "        Yp = Y_pred.copy()\n",
    "        \n",
    "        max_iqrp = max(avg_iqrp)\n",
    "        n_comp = avg_iqrp.index(max_iqrp) + 1\n",
    "        Y_pred = Yp[n_comp - 1]\n",
    "                \n",
    "            \n",
    "    else:  \n",
    "        for i in range (0,r): \n",
    "            #print('i: ', i)\n",
    "            full_spec = spectra.copy()\n",
    "            X_train = full_spec.drop(full_spec.index[i], axis=0)\n",
    "            X_test = full_spec.iloc[[i],:].copy()\n",
    "            full_tar = target.copy()\n",
    "            y_train = full_tar.drop(full_tar.index[i], axis=0)\n",
    "            y_test = full_tar.iloc[i].copy() \n",
    "            \n",
    "            #----- MULTILINEAR:  fitting, and prediction---------- \n",
    "            if m == 'mult':\n",
    "                Model = linear_model.LinearRegression()    \n",
    "            #----- RANDOM_FOREST:   fitting, and prediction---------- \n",
    "            elif m == 'randomforest': \n",
    "                Model = RandomForestRegressor(random_state= 23)    \n",
    "            #----- CUBIST REGRESSION:    fitting and prediction---------\n",
    "            elif m == 'cubist':\n",
    "                Model = Cubist(n_rules = 50, n_committees = 5, random_state = 42)    \n",
    "            #------ SUPPORT VECTOR MACHINE FOR REGRESSION: fitting and prediction-----------      \n",
    "            elif m == 'svr': \n",
    "                Model = SVR()\n",
    "            #------ RIDGE REGRESSION: fitting and prediction-----------      \n",
    "            elif m == 'ridge': \n",
    "                Model = KernelRidge()\n",
    "            #------ GRADIENT BOOSTING REGRESSION: fitting and prediction-----------      \n",
    "            else: \n",
    "                Model = GradientBoostingRegressor()\n",
    "                    \n",
    "            Model.fit(X_train, y_train)\n",
    "            y_pred = Model.predict(X_test)\n",
    "            #print(y_pred.shape)\n",
    "            Y_pred.iloc[i] = y_pred\n",
    "\n",
    "    return (Y_pred, n_comp)"
   ]
  },
  {
   "cell_type": "markdown",
   "id": "d908099c",
   "metadata": {},
   "source": [
    "# Step 4: Building Model Tree (Mtree)"
   ]
  },
  {
   "cell_type": "code",
   "execution_count": 33,
   "id": "07468618",
   "metadata": {},
   "outputs": [],
   "source": [
    "import os\n",
    "os.system('say \"your Meta Tree started building\"')\n",
    "import time"
   ]
  },
  {
   "cell_type": "code",
   "execution_count": 34,
   "id": "f4a97c5c",
   "metadata": {},
   "outputs": [],
   "source": [
    "# 0. Available machine learning regression models --------------------------------- (7)\n",
    "#ml_methods = ['mult', 'plsr', 'randomforest', 'svr', 'ridge', 'gbrt']\n",
    "#ml_methods = ['mult', 'plsr', 'cubist', 'randomforest', 'ridge' 'gbrt', 'svr']"
   ]
  },
  {
   "cell_type": "code",
   "execution_count": 35,
   "id": "36d247b4",
   "metadata": {},
   "outputs": [],
   "source": [
    "def build_tree_for (method_name):\n",
    "    tree ={}\n",
    "    start = time.time()\n",
    "    m = method_name\n",
    "    #-- code to build tree----\n",
    "    for t in target_names:\n",
    "        print('tree for: '+ m +' ------> running on: ' + t)\n",
    "        tree[t] ={}\n",
    "        for tp in prepare_target:\n",
    "            tree[t][tp] ={}\n",
    "            for p in prepare_spec:\n",
    "                tree[t][tp][p] ={}\n",
    "                for n in nbands_sampling:\n",
    "                    tree[t][tp][p][n] ={}\n",
    "                    Y = tree[t][tp][p][n]\n",
    "                    \n",
    "                        \n",
    "                    #------ setting spec to appropriate (sampled) spectra----\n",
    "                    if p == 'none':\n",
    "                        if n == 0:\n",
    "                            if m == 'randomforest' or m == 'cubist' or m == 'gbrt':\n",
    "                                #---- reched here due to tree based methods e.g. randomforest--\n",
    "                                spec = sampled_spec[100]\n",
    "                            else:\n",
    "                                spec = spec2[51]\n",
    "                        else:\n",
    "                            #---- reached here with some n!=0----\n",
    "                            spec = sampled_spec[n]\n",
    "                        \n",
    "#                     elif p == 'fod':\n",
    "#                         if n == 0:\n",
    "#                             if m == 'randomforest' or m == 'cubist' or m == 'gbrt':\n",
    "#                                 #---- reched here due to tree based methods e.g. randomforest--\n",
    "#                                 spec = sampled_fod[100]\n",
    "#                             else:\n",
    "#                                 spec = fod_spec\n",
    "#                         else:\n",
    "#                             #---- reached here with some n!=0----\n",
    "#                             spec = sampled_fod[n]\n",
    "                    elif p == 'fod2':\n",
    "                        if n == 0:\n",
    "                            if m == 'randomforest' or m == 'cubist' or m == 'gbrt':\n",
    "                                #---- reched here due to tree based methods e.g. randomforest--\n",
    "                                spec = fod_sampled[100]\n",
    "                            else:\n",
    "                                spec = fod_spec\n",
    "                        else:\n",
    "                            #---- reached here with some n!=0----\n",
    "                            spec = fod_sampled[n]            \n",
    "                    elif p== 'continuum':  \n",
    "                        if n == 0:\n",
    "                            if m == 'randomforest' or m == 'cubist' or m == 'gbrt':\n",
    "                                #---- reched here due to tree based methods e.g. randomforest--\n",
    "                                spec = sampled_cr[100]\n",
    "                            else:\n",
    "                                spec = cr_spec\n",
    "                        else:\n",
    "                            #---- reached here with some n!=0----\n",
    "                            spec = sampled_cr[n]\n",
    "                        \n",
    "                    else: \n",
    "                        if n == 0:\n",
    "                            if m == 'randomforest' or m == 'cubist' or m == 'gbrt':\n",
    "                                #---- reched here due to tree based methods e.g. randomforest--\n",
    "                                spec = sampled_log[100]\n",
    "                            else:\n",
    "                                spec = log_spec\n",
    "                        else:\n",
    "                            #---- reached here with some n!=0----\n",
    "                            spec = sampled_log[n]\n",
    "                    \n",
    "                    \n",
    "                    \n",
    "                    #---- target selection and normalization ---\n",
    "                    if tp == 'none':\n",
    "                        y = T[target_names.index(t)]\n",
    "                        rand_n = rand_t[target_names.index(t)]  #-- for future use in train-test split\n",
    "                    else:\n",
    "                        y = NT[target_names.index(t)]\n",
    "                        rand_n = rand_nt[target_names.index(t)] #-- for future use in train-test split\n",
    "                        #print('one more target set')\n",
    "                            \n",
    "                    #----- calling find_y_pred to compute leave one out predictions----\n",
    "                    y_pred, n_com = find_y_pred (spec, y, m)\n",
    "                    y_test = y\n",
    "                    \n",
    "                    \n",
    "#                     print(y_test.shape)\n",
    "#                     print(y_pred.shape)\n",
    "                    \n",
    "#                     if m == 'plsr':\n",
    "#                         y_pred = y_pred[:,0]\n",
    "                    \n",
    "                    #----- Model accuracy evaluation and plotting datas-----------\n",
    "                                \n",
    "                    Y['test'] = y_test\n",
    "                    Y['testP'] = y_pred\n",
    "                    Y['n_comp'] = n_com\n",
    "                    \n",
    "                    \n",
    "                    \n",
    "\n",
    "                    Y['iqrp_test'] = find_iqrp(y_pred, y_test)\n",
    "                    Y['r2_test'] = find_r2(y_pred, y_test)\n",
    "                    Y['rpd_test'] = find_rpd(y_pred, y_test)\n",
    "                    Y['rmse_test'] = find_rmse(y_pred, y_test)\n",
    "                                                                \n",
    "                                                                         \n",
    "    end = time.time()                            \n",
    "    os.system('say \"your meta tree finished for one more method\"')                            \n",
    "\n",
    "    print('End time - Start time =', (end-start)) \n",
    "    \n",
    "    return (tree.copy())\n"
   ]
  },
  {
   "cell_type": "markdown",
   "id": "a5b71507",
   "metadata": {},
   "source": [
    "## Loading the saved Mtree"
   ]
  },
  {
   "cell_type": "code",
   "execution_count": 36,
   "id": "a2bd545a",
   "metadata": {},
   "outputs": [],
   "source": [
    "with open ('L1Mtree.pickle', 'rb') as file:\n",
    "    Mtree = pickle.load(file)"
   ]
  },
  {
   "cell_type": "markdown",
   "id": "71e1faa5",
   "metadata": {},
   "source": [
    "## Best of all worlds"
   ]
  },
  {
   "cell_type": "code",
   "execution_count": 37,
   "id": "a1f85e45",
   "metadata": {},
   "outputs": [],
   "source": [
    "#ml_methods = ['mult', 'plsr', 'randomforest','svr', 'ridge', 'gbrt']"
   ]
  },
  {
   "cell_type": "code",
   "execution_count": 38,
   "id": "04241275",
   "metadata": {},
   "outputs": [],
   "source": [
    "def best_model_parameters (Mtree, target, method, scorer):\n",
    "    t=target\n",
    "    m= method\n",
    "    \n",
    "    best_score = -1\n",
    "    best_n_comp = 'NA'\n",
    "    \n",
    "    \n",
    "    for tp in prepare_target:\n",
    "        for p in prepare_spec:\n",
    "            for n in nbands_sampling:\n",
    "                Y = Mtree[m][t][tp][p][n]\n",
    "                #r2_train = Y['r2_train']\n",
    "                r2_test = Y['r2_test']\n",
    "                    \n",
    "                if scorer == 'iqrp':\n",
    "                    cur_score = Y['iqrp_test']\n",
    "                elif scorer == 'rpd':\n",
    "                    cur_score = Y['rpd_test']\n",
    "                else:\n",
    "                    cur_score = Y['r2_test']  \n",
    "                    \n",
    "                if cur_score > best_score:\n",
    "                    best_score = cur_score\n",
    "                    best_tp = tp\n",
    "                    best_n = n\n",
    "                    best_p = p\n",
    "                    if m == 'plsr':\n",
    "                        best_n_comp = Y['n_comp']\n",
    "                            \n",
    "    param_list = [scorer, np.round(best_score,2), 'Spec:', best_p, 'bands:', best_n, 'Tar:', best_tp]                                 \n",
    "    return (param_list)                                \n",
    "    "
   ]
  },
  {
   "cell_type": "code",
   "execution_count": 39,
   "id": "0b8e5bf2",
   "metadata": {},
   "outputs": [],
   "source": [
    "def best_score_for (Mtree, target, scorer):\n",
    "    \n",
    "    for method in ml_methods:\n",
    "        param_list= best_model_parameters (Mtree, target, method, scorer)\n",
    "        print('For:'+target+'->', param_list, ':'+method)\n",
    "     \n",
    "    return"
   ]
  },
  {
   "cell_type": "markdown",
   "id": "fe74d829",
   "metadata": {},
   "source": [
    "## Plotting Model Accuracy (ipywidgets)"
   ]
  },
  {
   "cell_type": "code",
   "execution_count": 63,
   "id": "8dd90a0e",
   "metadata": {},
   "outputs": [],
   "source": [
    "def plot_model_acc (method, target, target_preprocessing, spec_preprocessing, n_bands):\n",
    "    \n",
    "    m = method\n",
    "    t = target\n",
    "    \n",
    "    i = target_names.index(target)\n",
    "    \n",
    "    \n",
    "    p = spec_preprocessing\n",
    "    n = n_bands\n",
    "    tp = target_preprocessing\n",
    "    \n",
    "    Y = Mtree[m][t][tp][p][n]\n",
    "    \n",
    "    y_test = Y['test']\n",
    "    y_pred = Y['testP']\n",
    "#     y_train = Y['train']\n",
    "#     yhat_pred = Y['trainP']\n",
    "    \n",
    "    if m == 'plsr':\n",
    "        n_com = Y['n_comp']\n",
    "        #y_pred = y_pred[:,0]\n",
    "        #yhat_pred = yhat_pred[:,0]\n",
    "    \n",
    "    \n",
    "    iqrp_test = Y['iqrp_test']\n",
    "    r2_test = Y['r2_test']\n",
    "    rpd_test = Y['rpd_test']\n",
    "    \n",
    "#     iqrp_train = find_iqrp(yhat_pred, y_train)\n",
    "#     r2_train = find_r2(yhat_pred, y_train)\n",
    "#     rpd_train = find_rpd(yhat_pred, y_train)\n",
    "    \n",
    "    y_tp = pd.DataFrame({'actual':y_test.values, 'predic': y_pred})\n",
    "    z = np.polyfit(y_test, y_pred, 1)\n",
    "    \n",
    "#     yhat_tp = pd.DataFrame({'actual':y_train.values, 'predic': yhat_pred})\n",
    "#     zhat = np.polyfit(y_train, yhat_pred, 1)\n",
    "    \n",
    "    fig, axes = plt.subplots(1,2, figsize=(18,8))\n",
    "    \n",
    "    #with plt.style.context(('ggplot')): ---- PLOT of test-prediction --------------------------------------\n",
    "    y_tp.plot.scatter(ax= axes[0], x=\"actual\", y=\"predic\", alpha=0.8, color = clr[i], edgecolors='k')\n",
    "    axes[0].plot(y_test, np.polyval(z, y_test),  c='blue', linewidth=1)\n",
    "    axes[0].plot(y_test, y_test, color='green', linewidth=1)\n",
    "    axes[0].tick_params(axis='both', labelsize=10)\n",
    "    axes[0].text(0.05, 0.95, target_names[i]+' (Test Data)', transform=axes[0].transAxes, fontsize = 20, color = clr[i])\n",
    "    axes[0].text(0.05, 0.90, 'IQRP ={:.2f}'.format(iqrp_test), transform=axes[0].transAxes, fontsize = 16)\n",
    "    axes[0].text(0.05, 0.85, 'RPD ={:.2f}'.format(rpd_test), transform=axes[0].transAxes, fontsize = 16)\n",
    "    axes[0].text(0.05, 0.80, 'R2 ={:.2f}'.format(np.round(r2_test,3)), transform=axes[0].transAxes, fontsize = 16)\n",
    "    axes[0].text(0.95, 0.15, 'Method: '+method, transform=axes[0].transAxes, \n",
    "                    horizontalalignment='right', fontsize = 20)\n",
    "    \n",
    "    if method == 'plsr':\n",
    "        axes[0].text(0.95, 0.05, 'n_component={:.2f}'.format(n_com), transform=axes[0].transAxes, \n",
    "                    horizontalalignment='right', fontsize = 12)\n",
    "    \n",
    "     #------------------------ Ploting R2 Vs N_bands-----------------------------------\n",
    "    \n",
    "    #--- data for creating n_bands vs r2 scores plot -------------------------------\n",
    "    \n",
    "    pY = Mtree[m][t]['none'][p]\n",
    "    pYN = Mtree[m][t]['minmax'][p]\n",
    "    \n",
    "    \n",
    "    X = nbands_sampling\n",
    "    \n",
    "    Yr2 = []\n",
    "    YNr2 = []\n",
    "    \n",
    "    \n",
    "    for j in X:\n",
    "        Yr2.append(pY[j]['r2_test']) \n",
    "        YNr2.append(pYN[j]['r2_test'])\n",
    "        \n",
    "        \n",
    "   \n",
    "    j = 0\n",
    "    while j < len(Yr2): \n",
    "        if Yr2[j] <= 0:\n",
    "            Yr2[j] = 0\n",
    "        if YNr2[j] <= 0:\n",
    "            YNr2[j] = 0\n",
    "        \n",
    "        j = j + 1\n",
    " \n",
    "    #------------------------------ STEM PLOT ---- for accuracy Vs n_bands ---------------------------------- \n",
    "    if tp == 'none':\n",
    "        axes[1].stem(X,Yr2)\n",
    "        axes[1].tick_params(axis='both', labelsize=10)\n",
    "        axes[1].text(0.00, 1.01,  target_names[i], transform=axes[1].transAxes,fontsize = 20, color = clr[i])\n",
    "        axes[1].text(0.99, 1.01, 'Spec_prep: '+ p, transform=axes[1].transAxes, horizontalalignment='right', fontsize = 16)\n",
    "        axes[1].text(0.17, 1.01, '(none)', transform=axes[1].transAxes, horizontalalignment='left', fontsize = 16)\n",
    "        axes[1].text(0.60, -0.1, 'n_bands', transform=axes[1].transAxes, horizontalalignment='right', fontsize = 16)\n",
    "        axes[1].text(-0.1, 0.5, 'R2 Scores', horizontalalignment='left', verticalalignment='center', \\\n",
    "                    rotation='vertical', transform=axes[1].transAxes, fontsize = 16)\n",
    "        \n",
    "    else:\n",
    "        axes[1].stem(X,YNr2)\n",
    "        axes[1].tick_params(axis='both', labelsize=10)\n",
    "        axes[1].text(0.00, 1.01,  target_names[i], transform=axes[1].transAxes,fontsize = 20, color = clr[i])\n",
    "        axes[1].text(0.99, 1.01, 'Spec_prep: '+ p, transform=axes[1].transAxes, horizontalalignment='right', fontsize = 16)\n",
    "        axes[1].text(0.17, 1.01, '(minmax)', transform=axes[1].transAxes, horizontalalignment='left', fontsize = 16)\n",
    "        axes[1].text(0.60, -0.1, 'n_bands', transform=axes[1].transAxes, horizontalalignment='right', fontsize = 16)\n",
    "        axes[1].text(-0.1, 0.5, 'R2 Scores', horizontalalignment='left', verticalalignment='center', \\\n",
    "                    rotation='vertical', transform=axes[1].transAxes, fontsize = 16)\n",
    "        \n",
    "   \n",
    "    return    "
   ]
  },
  {
   "cell_type": "markdown",
   "id": "45f047e6",
   "metadata": {},
   "source": [
    "## Creating different branches of Mtree (for separate methods)"
   ]
  },
  {
   "cell_type": "code",
   "execution_count": 52,
   "id": "6192c1e2",
   "metadata": {},
   "outputs": [],
   "source": [
    "# Mtree Building (run below code only once)\n",
    "\n",
    "#Mtree ={}"
   ]
  },
  {
   "cell_type": "code",
   "execution_count": 68,
   "id": "10d27534",
   "metadata": {},
   "outputs": [
    {
     "name": "stdout",
     "output_type": "stream",
     "text": [
      "tree for: mult ------> running on: Sand\n",
      "tree for: mult ------> running on: Silt\n",
      "tree for: mult ------> running on: Clay\n",
      "tree for: mult ------> running on: TOC\n",
      "tree for: mult ------> running on: CaCO3\n",
      "End time - Start time = 314.6743857860565\n",
      "tree for: svr ------> running on: Sand\n",
      "tree for: svr ------> running on: Silt\n",
      "tree for: svr ------> running on: Clay\n",
      "tree for: svr ------> running on: TOC\n",
      "tree for: svr ------> running on: CaCO3\n",
      "End time - Start time = 302.66998386383057\n",
      "tree for: ridge ------> running on: Sand\n",
      "tree for: ridge ------> running on: Silt\n",
      "tree for: ridge ------> running on: Clay\n",
      "tree for: ridge ------> running on: TOC\n",
      "tree for: ridge ------> running on: CaCO3\n",
      "End time - Start time = 275.89786767959595\n",
      "tree for: lasso ------> running on: Sand\n",
      "tree for: lasso ------> running on: Silt\n",
      "tree for: lasso ------> running on: Clay\n",
      "tree for: lasso ------> running on: TOC\n",
      "tree for: lasso ------> running on: CaCO3\n",
      "End time - Start time = 10805.2618329525\n"
     ]
    }
   ],
   "source": [
    "# max_n_comp = 10\n",
    "# Mtree['plsr'] = build_tree_for ('plsr')\n",
    "\n",
    "# Mtree['mult'] = build_tree_for ('mult')\n",
    "\n",
    "# Mtree['svr'] = build_tree_for ('svr')\n",
    "\n",
    "# Mtree['ridge'] = build_tree_for ('ridge')\n",
    "\n",
    "# Mtree['lasso'] = build_tree_for ('lasso')\n"
   ]
  },
  {
   "cell_type": "code",
   "execution_count": 69,
   "id": "cc78110b",
   "metadata": {},
   "outputs": [
    {
     "name": "stdout",
     "output_type": "stream",
     "text": [
      "tree for: cubist ------> running on: Sand\n",
      "tree for: cubist ------> running on: Silt\n",
      "tree for: cubist ------> running on: Clay\n",
      "tree for: cubist ------> running on: TOC\n",
      "tree for: cubist ------> running on: CaCO3\n"
     ]
    },
    {
     "ename": "CubistError",
     "evalue": "\n*** unable to allocate sufficient memory\n\nError limit exceeded\n",
     "output_type": "error",
     "traceback": [
      "\u001b[1;31m---------------------------------------------------------------------------\u001b[0m",
      "\u001b[1;31mCubistError\u001b[0m                               Traceback (most recent call last)",
      "\u001b[1;32m~\\AppData\\Local\\Temp\\ipykernel_18412\\2968298304.py\u001b[0m in \u001b[0;36m<module>\u001b[1;34m\u001b[0m\n\u001b[1;32m----> 1\u001b[1;33m \u001b[0mMtree\u001b[0m\u001b[1;33m[\u001b[0m\u001b[1;34m'cubist'\u001b[0m\u001b[1;33m]\u001b[0m \u001b[1;33m=\u001b[0m \u001b[0mbuild_tree_for\u001b[0m \u001b[1;33m(\u001b[0m\u001b[1;34m'cubist'\u001b[0m\u001b[1;33m)\u001b[0m\u001b[1;33m\u001b[0m\u001b[1;33m\u001b[0m\u001b[0m\n\u001b[0m",
      "\u001b[1;32m~\\AppData\\Local\\Temp\\ipykernel_18412\\3492490258.py\u001b[0m in \u001b[0;36mbuild_tree_for\u001b[1;34m(method_name)\u001b[0m\n\u001b[0;32m     82\u001b[0m \u001b[1;33m\u001b[0m\u001b[0m\n\u001b[0;32m     83\u001b[0m                     \u001b[1;31m#----- calling find_y_pred to compute leave one out predictions----\u001b[0m\u001b[1;33m\u001b[0m\u001b[1;33m\u001b[0m\u001b[0m\n\u001b[1;32m---> 84\u001b[1;33m                     \u001b[0my_pred\u001b[0m\u001b[1;33m,\u001b[0m \u001b[0mn_com\u001b[0m \u001b[1;33m=\u001b[0m \u001b[0mfind_y_pred\u001b[0m \u001b[1;33m(\u001b[0m\u001b[0mspec\u001b[0m\u001b[1;33m,\u001b[0m \u001b[0my\u001b[0m\u001b[1;33m,\u001b[0m \u001b[0mm\u001b[0m\u001b[1;33m)\u001b[0m\u001b[1;33m\u001b[0m\u001b[1;33m\u001b[0m\u001b[0m\n\u001b[0m\u001b[0;32m     85\u001b[0m                     \u001b[0my_test\u001b[0m \u001b[1;33m=\u001b[0m \u001b[0my\u001b[0m\u001b[1;33m\u001b[0m\u001b[1;33m\u001b[0m\u001b[0m\n\u001b[0;32m     86\u001b[0m \u001b[1;33m\u001b[0m\u001b[0m\n",
      "\u001b[1;32m~\\AppData\\Local\\Temp\\ipykernel_18412\\3639067520.py\u001b[0m in \u001b[0;36mfind_y_pred\u001b[1;34m(spectra, target, method)\u001b[0m\n\u001b[0;32m    104\u001b[0m \u001b[1;33m\u001b[0m\u001b[0m\n\u001b[0;32m    105\u001b[0m             \u001b[0mModel\u001b[0m\u001b[1;33m.\u001b[0m\u001b[0mfit\u001b[0m\u001b[1;33m(\u001b[0m\u001b[0mX_train\u001b[0m\u001b[1;33m,\u001b[0m \u001b[0my_train\u001b[0m\u001b[1;33m)\u001b[0m\u001b[1;33m\u001b[0m\u001b[1;33m\u001b[0m\u001b[0m\n\u001b[1;32m--> 106\u001b[1;33m             \u001b[0my_pred\u001b[0m \u001b[1;33m=\u001b[0m \u001b[0mModel\u001b[0m\u001b[1;33m.\u001b[0m\u001b[0mpredict\u001b[0m\u001b[1;33m(\u001b[0m\u001b[0mX_test\u001b[0m\u001b[1;33m)\u001b[0m\u001b[1;33m\u001b[0m\u001b[1;33m\u001b[0m\u001b[0m\n\u001b[0m\u001b[0;32m    107\u001b[0m             \u001b[1;31m#print(y_pred.shape)\u001b[0m\u001b[1;33m\u001b[0m\u001b[1;33m\u001b[0m\u001b[0m\n\u001b[0;32m    108\u001b[0m             \u001b[0mY_pred\u001b[0m\u001b[1;33m.\u001b[0m\u001b[0miloc\u001b[0m\u001b[1;33m[\u001b[0m\u001b[0mi\u001b[0m\u001b[1;33m]\u001b[0m \u001b[1;33m=\u001b[0m \u001b[0my_pred\u001b[0m\u001b[1;33m\u001b[0m\u001b[1;33m\u001b[0m\u001b[0m\n",
      "\u001b[1;32m~\\anaconda3\\lib\\site-packages\\cubist\\cubist.py\u001b[0m in \u001b[0;36mpredict\u001b[1;34m(self, X)\u001b[0m\n\u001b[0;32m    441\u001b[0m         \u001b[1;31m# raise Cubist prediction errors\u001b[0m\u001b[1;33m\u001b[0m\u001b[1;33m\u001b[0m\u001b[0m\n\u001b[0;32m    442\u001b[0m         \u001b[1;32mif\u001b[0m \u001b[1;34m\"***\"\u001b[0m \u001b[1;32min\u001b[0m \u001b[0moutput\u001b[0m \u001b[1;32mor\u001b[0m \u001b[1;34m\"Error\"\u001b[0m \u001b[1;32min\u001b[0m \u001b[0moutput\u001b[0m\u001b[1;33m:\u001b[0m\u001b[1;33m\u001b[0m\u001b[1;33m\u001b[0m\u001b[0m\n\u001b[1;32m--> 443\u001b[1;33m             \u001b[1;32mraise\u001b[0m \u001b[0mCubistError\u001b[0m\u001b[1;33m(\u001b[0m\u001b[0moutput\u001b[0m\u001b[1;33m)\u001b[0m\u001b[1;33m\u001b[0m\u001b[1;33m\u001b[0m\u001b[0m\n\u001b[0m\u001b[0;32m    444\u001b[0m \u001b[1;33m\u001b[0m\u001b[0m\n\u001b[0;32m    445\u001b[0m         \u001b[1;32mif\u001b[0m \u001b[0moutput\u001b[0m\u001b[1;33m:\u001b[0m\u001b[1;33m\u001b[0m\u001b[1;33m\u001b[0m\u001b[0m\n",
      "\u001b[1;31mCubistError\u001b[0m: \n*** unable to allocate sufficient memory\n\nError limit exceeded\n"
     ]
    }
   ],
   "source": [
    "Mtree['cubist'] = build_tree_for ('cubist')"
   ]
  },
  {
   "cell_type": "code",
   "execution_count": null,
   "id": "5cb1b3a2",
   "metadata": {},
   "outputs": [],
   "source": [
    "with open ('L1Mtree.pickle', 'wb') as file:\n",
    "    pickle.dump(Mtree, file)"
   ]
  },
  {
   "cell_type": "code",
   "execution_count": null,
   "id": "fa7159f2",
   "metadata": {},
   "outputs": [],
   "source": [
    "Mtree['gbrt'] = build_tree_for ('gbrt')"
   ]
  },
  {
   "cell_type": "code",
   "execution_count": null,
   "id": "f051bd21",
   "metadata": {},
   "outputs": [],
   "source": [
    "with open ('L1Mtree.pickle', 'wb') as file:\n",
    "    pickle.dump(Mtree, file)"
   ]
  },
  {
   "cell_type": "code",
   "execution_count": null,
   "id": "6395c798",
   "metadata": {},
   "outputs": [],
   "source": [
    "Mtree['randomforest'] = build_tree_for ('randomforest')"
   ]
  },
  {
   "cell_type": "code",
   "execution_count": null,
   "id": "aaf654cc",
   "metadata": {},
   "outputs": [],
   "source": [
    "with open ('L1Mtree.pickle', 'wb') as file:\n",
    "    pickle.dump(Mtree, file)"
   ]
  },
  {
   "cell_type": "code",
   "execution_count": null,
   "id": "bdfed1fa",
   "metadata": {},
   "outputs": [],
   "source": [
    "best_score_for(Mtree, 'Sand', 'r2')"
   ]
  },
  {
   "cell_type": "code",
   "execution_count": null,
   "id": "2c25ffa3",
   "metadata": {},
   "outputs": [],
   "source": [
    "best_score_for(Mtree, 'Silt', 'r2')"
   ]
  },
  {
   "cell_type": "code",
   "execution_count": null,
   "id": "d5a6113d",
   "metadata": {},
   "outputs": [],
   "source": [
    "best_score_for(Mtree, 'Clay', 'r2')"
   ]
  },
  {
   "cell_type": "code",
   "execution_count": null,
   "id": "7b89dc2c",
   "metadata": {},
   "outputs": [],
   "source": [
    "best_score_for(Mtree, 'TOC', 'r2')"
   ]
  },
  {
   "cell_type": "code",
   "execution_count": null,
   "id": "41642a4d",
   "metadata": {},
   "outputs": [],
   "source": [
    "best_score_for(Mtree, 'CaCO3', 'r2')"
   ]
  },
  {
   "cell_type": "code",
   "execution_count": 64,
   "id": "89b9db47",
   "metadata": {},
   "outputs": [
    {
     "data": {
      "application/vnd.jupyter.widget-view+json": {
       "model_id": "8f0b48adab6d4a679a22754c0cd876aa",
       "version_major": 2,
       "version_minor": 0
      },
      "text/plain": [
       "interactive(children=(Dropdown(description='method', options=('mult', 'cubist', 'svr', 'ridge', 'lasso', 'plsr…"
      ]
     },
     "metadata": {},
     "output_type": "display_data"
    },
    {
     "data": {
      "text/plain": [
       "<function __main__.plot_model_acc(method, target, target_preprocessing, spec_preprocessing, n_bands)>"
      ]
     },
     "execution_count": 64,
     "metadata": {},
     "output_type": "execute_result"
    }
   ],
   "source": [
    "ipywidgets.interact( plot_model_acc, target = target_names, method = ml_methods, \\\n",
    "                    spec_preprocessing = prepare_spec,  \\\n",
    "                    target_preprocessing = prepare_target, n_bands = nbands_sampling )"
   ]
  },
  {
   "cell_type": "code",
   "execution_count": null,
   "id": "7f8c3328",
   "metadata": {},
   "outputs": [],
   "source": [
    "# with open ('L1Mtree.pickle', 'wb') as file:\n",
    "#     pickle.dump(Mtree, file)"
   ]
  },
  {
   "cell_type": "code",
   "execution_count": null,
   "id": "ce43f938",
   "metadata": {},
   "outputs": [],
   "source": []
  }
 ],
 "metadata": {
  "kernelspec": {
   "display_name": "Python 3 (ipykernel)",
   "language": "python",
   "name": "python3"
  },
  "language_info": {
   "codemirror_mode": {
    "name": "ipython",
    "version": 3
   },
   "file_extension": ".py",
   "mimetype": "text/x-python",
   "name": "python",
   "nbconvert_exporter": "python",
   "pygments_lexer": "ipython3",
   "version": "3.9.16"
  }
 },
 "nbformat": 4,
 "nbformat_minor": 5
}
