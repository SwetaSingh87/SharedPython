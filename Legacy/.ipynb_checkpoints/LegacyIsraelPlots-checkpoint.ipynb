{
 "cells": [
  {
   "cell_type": "code",
   "execution_count": 1,
   "id": "4c78bc5e",
   "metadata": {},
   "outputs": [
    {
     "name": "stdout",
     "output_type": "stream",
     "text": [
      "importing Jupyter notebook from PlotFunctions.ipynb\n",
      "importing Jupyter notebook from HeaderFile.ipynb\n",
      "importing Jupyter notebook from SoilPrep.ipynb\n"
     ]
    }
   ],
   "source": [
    "import import_ipynb\n",
    "from PlotFunctions import *"
   ]
  },
  {
   "cell_type": "markdown",
   "id": "8d1df772",
   "metadata": {},
   "source": [
    "## Plotting Model Accuracy (ipywidgets)"
   ]
  },
  {
   "cell_type": "code",
   "execution_count": 2,
   "id": "23cd074b",
   "metadata": {},
   "outputs": [
    {
     "data": {
      "application/vnd.jupyter.widget-view+json": {
       "model_id": "1c102f5b82124bf790dd893e1f628b57",
       "version_major": 2,
       "version_minor": 0
      },
      "text/plain": [
       "interactive(children=(Dropdown(description='target', options=('Sand', 'Silt', 'Clay', 'TOC', 'CaCO3'), value='…"
      ]
     },
     "metadata": {},
     "output_type": "display_data"
    },
    {
     "data": {
      "text/plain": [
       "<function PlotFunctions.plot_model_acc(target, spec_preprocessing, n_bands, target_preprocessing, method)>"
      ]
     },
     "execution_count": 2,
     "metadata": {},
     "output_type": "execute_result"
    }
   ],
   "source": [
    "ipywidgets.interact(plot_model_acc, target = target_names, \\\n",
    "                    spec_preprocessing = prepare_spec, n_bands = nbands_sampling, \\\n",
    "                    target_preprocessing = prepare_target,  method = ml_methods)"
   ]
  },
  {
   "cell_type": "code",
   "execution_count": 3,
   "id": "ac15fee2",
   "metadata": {},
   "outputs": [
    {
     "name": "stdout",
     "output_type": "stream",
     "text": [
      "For:Sand-> ['r2', 0.62, 'Spec:', 'fod', 'bands:', 25, 'Tar:', 'none'] :mult\n",
      "For:Sand-> ['r2', 0.6, 'Spec:', 'fod', 'bands:', 15, 'Tar:', 'none'] :plsr\n",
      "For:Sand-> ['r2', 0.61, 'Spec:', 'fod', 'bands:', 50, 'Tar:', 'none'] :randomforest\n",
      "For:Sand-> ['r2', 0.69, 'Spec:', 'none', 'bands:', 50, 'Tar:', 'none'] :cubist\n",
      "For:Sand-> ['r2', 0.34, 'Spec:', 'log', 'bands:', 35, 'Tar:', 'minmax'] :svr\n",
      "For:Sand-> ['r2', 0.31, 'Spec:', 'none', 'bands:', 0, 'Tar:', 'minmax'] :ridge\n",
      "For:Sand-> ['r2', 0.67, 'Spec:', 'fod', 'bands:', 30, 'Tar:', 'minmax'] :gbrt\n"
     ]
    }
   ],
   "source": [
    "best_score_for(Mtree, 'Sand', 'r2')"
   ]
  },
  {
   "cell_type": "code",
   "execution_count": 4,
   "id": "2d684843",
   "metadata": {},
   "outputs": [
    {
     "name": "stdout",
     "output_type": "stream",
     "text": [
      "For:Silt-> ['r2', 0.24, 'Spec:', 'fod', 'bands:', 10, 'Tar:', 'none'] :mult\n",
      "For:Silt-> ['r2', 0.41, 'Spec:', 'fod', 'bands:', 25, 'Tar:', 'minmax'] :plsr\n",
      "For:Silt-> ['r2', 0.21, 'Spec:', 'continuum', 'bands:', 15, 'Tar:', 'none'] :randomforest\n",
      "For:Silt-> ['r2', 0.35, 'Spec:', 'log', 'bands:', 80, 'Tar:', 'minmax'] :cubist\n",
      "For:Silt-> ['r2', 0.14, 'Spec:', 'continuum', 'bands:', 5, 'Tar:', 'minmax'] :svr\n",
      "For:Silt-> ['r2', 0.29, 'Spec:', 'log', 'bands:', 0, 'Tar:', 'none'] :ridge\n",
      "For:Silt-> ['r2', 0.36, 'Spec:', 'fod', 'bands:', 25, 'Tar:', 'none'] :gbrt\n"
     ]
    }
   ],
   "source": [
    "best_score_for(Mtree, 'Silt', 'r2')"
   ]
  },
  {
   "cell_type": "code",
   "execution_count": 5,
   "id": "b678e94c",
   "metadata": {},
   "outputs": [
    {
     "name": "stdout",
     "output_type": "stream",
     "text": [
      "For:Clay-> ['r2', 0.77, 'Spec:', 'log', 'bands:', 15, 'Tar:', 'minmax'] :mult\n",
      "For:Clay-> ['r2', 0.65, 'Spec:', 'fod', 'bands:', 15, 'Tar:', 'minmax'] :plsr\n",
      "For:Clay-> ['r2', 0.6, 'Spec:', 'fod', 'bands:', 25, 'Tar:', 'none'] :randomforest\n",
      "For:Clay-> ['r2', 0.66, 'Spec:', 'none', 'bands:', 40, 'Tar:', 'none'] :cubist\n",
      "For:Clay-> ['r2', 0.46, 'Spec:', 'log', 'bands:', 90, 'Tar:', 'minmax'] :svr\n",
      "For:Clay-> ['r2', 0.48, 'Spec:', 'log', 'bands:', 0, 'Tar:', 'minmax'] :ridge\n",
      "For:Clay-> ['r2', 0.73, 'Spec:', 'continuum', 'bands:', 15, 'Tar:', 'minmax'] :gbrt\n"
     ]
    }
   ],
   "source": [
    "best_score_for(Mtree, 'Clay', 'r2')"
   ]
  },
  {
   "cell_type": "code",
   "execution_count": 6,
   "id": "7eb2e41e",
   "metadata": {},
   "outputs": [
    {
     "name": "stdout",
     "output_type": "stream",
     "text": [
      "For:TOC-> ['r2', 0.6, 'Spec:', 'log', 'bands:', 20, 'Tar:', 'minmax'] :mult\n",
      "For:TOC-> ['r2', 0.53, 'Spec:', 'fod', 'bands:', 100, 'Tar:', 'minmax'] :plsr\n",
      "For:TOC-> ['r2', 0.71, 'Spec:', 'continuum', 'bands:', 30, 'Tar:', 'minmax'] :randomforest\n",
      "For:TOC-> ['r2', 0.69, 'Spec:', 'log', 'bands:', 35, 'Tar:', 'none'] :cubist\n",
      "For:TOC-> ['r2', 0.26, 'Spec:', 'fod', 'bands:', 10, 'Tar:', 'minmax'] :svr\n",
      "For:TOC-> ['r2', 0.45, 'Spec:', 'log', 'bands:', 100, 'Tar:', 'minmax'] :ridge\n",
      "For:TOC-> ['r2', 0.75, 'Spec:', 'continuum', 'bands:', 30, 'Tar:', 'minmax'] :gbrt\n"
     ]
    }
   ],
   "source": [
    "best_score_for(Mtree, 'TOC', 'r2')"
   ]
  },
  {
   "cell_type": "code",
   "execution_count": 7,
   "id": "051d636f",
   "metadata": {},
   "outputs": [
    {
     "name": "stdout",
     "output_type": "stream",
     "text": [
      "For:CaCO3-> ['r2', 0.51, 'Spec:', 'log', 'bands:', 5, 'Tar:', 'none'] :mult\n",
      "For:CaCO3-> ['r2', 0.58, 'Spec:', 'fod', 'bands:', 20, 'Tar:', 'none'] :plsr\n",
      "For:CaCO3-> ['r2', 0.55, 'Spec:', 'fod', 'bands:', 10, 'Tar:', 'minmax'] :randomforest\n",
      "For:CaCO3-> ['r2', 0.52, 'Spec:', 'log', 'bands:', 5, 'Tar:', 'none'] :cubist\n",
      "For:CaCO3-> ['r2', 0.41, 'Spec:', 'fod', 'bands:', 25, 'Tar:', 'minmax'] :svr\n",
      "For:CaCO3-> ['r2', 0.52, 'Spec:', 'log', 'bands:', 0, 'Tar:', 'none'] :ridge\n",
      "For:CaCO3-> ['r2', 0.53, 'Spec:', 'continuum', 'bands:', 30, 'Tar:', 'none'] :gbrt\n"
     ]
    }
   ],
   "source": [
    "best_score_for(Mtree, 'CaCO3', 'r2')"
   ]
  }
 ],
 "metadata": {
  "kernelspec": {
   "display_name": "Python 3 (ipykernel)",
   "language": "python",
   "name": "python3"
  },
  "language_info": {
   "codemirror_mode": {
    "name": "ipython",
    "version": 3
   },
   "file_extension": ".py",
   "mimetype": "text/x-python",
   "name": "python",
   "nbconvert_exporter": "python",
   "pygments_lexer": "ipython3",
   "version": "3.9.13"
  }
 },
 "nbformat": 4,
 "nbformat_minor": 5
}
