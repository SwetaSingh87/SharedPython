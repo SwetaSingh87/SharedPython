{
 "cells": [
  {
   "cell_type": "markdown",
   "id": "ab1ed35d",
   "metadata": {},
   "source": [
    "## Importing Header and SoilPrep Files"
   ]
  },
  {
   "cell_type": "code",
   "execution_count": 1,
   "id": "6a224d38",
   "metadata": {},
   "outputs": [
    {
     "name": "stdout",
     "output_type": "stream",
     "text": [
      "importing Jupyter notebook from Header.ipynb\n",
      "importing Jupyter notebook from SoilPrep.ipynb\n"
     ]
    }
   ],
   "source": [
    "import import_ipynb \n",
    "from Header import *\n",
    "\n",
    "import import_ipynb\n",
    "from SoilPrep import *"
   ]
  },
  {
   "cell_type": "markdown",
   "id": "a840829b",
   "metadata": {},
   "source": [
    "## Loading Data, MetaData, and Mtree"
   ]
  },
  {
   "cell_type": "code",
   "execution_count": null,
   "id": "dfd64d75",
   "metadata": {},
   "outputs": [],
   "source": [
    "with open ('meta_data.pickle', 'rb') as file:\n",
    "    MetaData = pickle.load(file)\n",
    "\n",
    "sg_filters = MetaData['sg_filters']\n",
    "window_lengths = MetaData['window_lengths']\n",
    "prepare_spec = MetaData['prepare_spec']\n",
    "nbands_sampling = MetaData['nbands_sampling']\n",
    "target_names = MetaData['target_names']\n",
    "prepare_target = MetaData['prepare_target']\n",
    "ml_methods = MetaData['ml_methods']\n",
    "clr = MetaData['clr']\n",
    "\n",
    "\n",
    "with open ('data.pickle', 'rb') as file:\n",
    "    Data = pickle.load(file)\n",
    "\n",
    "spectra = Data['spectra']\n",
    "T = Data['T']\n",
    "NT = Data['NT']\n",
    "spec1 = Data['spec1'] \n",
    "spec2 = Data['spec2']\n",
    "smth_spec = Data['smth_spec']\n",
    "fod_spec = Data['fod_spec']\n",
    "cr_spec = Data['cr_spec'] \n",
    "log_spec = Data['log_spec']\n",
    "sampled_spec = Data['sampled_spec']\n",
    "sampled_cr = Data['sampled_cr']\n",
    "\n",
    "fod_sampled= Data['fod_sampled']\n",
    "sampled_log = Data['sampled_log'] \n",
    "rand_t = Data['rand_t']\n",
    "rand_nt = Data['rand_nt'] "
   ]
  },
  {
   "cell_type": "code",
   "execution_count": null,
   "id": "b1429898",
   "metadata": {},
   "outputs": [],
   "source": []
  }
 ],
 "metadata": {
  "kernelspec": {
   "display_name": "Python 3 (ipykernel)",
   "language": "python",
   "name": "python3"
  },
  "language_info": {
   "codemirror_mode": {
    "name": "ipython",
    "version": 3
   },
   "file_extension": ".py",
   "mimetype": "text/x-python",
   "name": "python",
   "nbconvert_exporter": "python",
   "pygments_lexer": "ipython3",
   "version": "3.9.13"
  }
 },
 "nbformat": 4,
 "nbformat_minor": 5
}
