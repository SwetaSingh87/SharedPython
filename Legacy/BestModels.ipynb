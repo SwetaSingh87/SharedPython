{
 "cells": [
  {
   "cell_type": "markdown",
   "id": "5e9a84d7",
   "metadata": {},
   "source": [
    "# Importing Header, SoilPrep, and PlotFunctions"
   ]
  },
  {
   "cell_type": "code",
   "execution_count": 1,
   "id": "5265ba48",
   "metadata": {},
   "outputs": [
    {
     "name": "stdout",
     "output_type": "stream",
     "text": [
      "importing Jupyter notebook from Header.ipynb\n",
      "importing Jupyter notebook from SoilPrep.ipynb\n"
     ]
    }
   ],
   "source": [
    "import import_ipynb \n",
    "from Header import *\n",
    "\n",
    "import import_ipynb\n",
    "from SoilPrep import *"
   ]
  },
  {
   "cell_type": "code",
   "execution_count": 2,
   "id": "998a9d0c",
   "metadata": {},
   "outputs": [
    {
     "name": "stdout",
     "output_type": "stream",
     "text": [
      "importing Jupyter notebook from PlotFunctions.ipynb\n"
     ]
    }
   ],
   "source": [
    "import import_ipynb\n",
    "from PlotFunctions import *"
   ]
  },
  {
   "cell_type": "markdown",
   "id": "097d5f4e",
   "metadata": {},
   "source": [
    "## Loading  Mtree "
   ]
  },
  {
   "cell_type": "code",
   "execution_count": 3,
   "id": "a2e3e20d",
   "metadata": {},
   "outputs": [],
   "source": [
    "with open ('Mtree.pickle', 'rb') as file:\n",
    "    Mtree = pickle.load(file)"
   ]
  },
  {
   "cell_type": "markdown",
   "id": "d689372b",
   "metadata": {},
   "source": [
    " #  Best Models for Sand, Silt, Clay, TOC, and CaCO3.."
   ]
  },
  {
   "cell_type": "code",
   "execution_count": 4,
   "id": "d22f6168",
   "metadata": {},
   "outputs": [],
   "source": [
    "feature_scores = {}\n",
    "\n",
    "model_details ={}"
   ]
  },
  {
   "cell_type": "markdown",
   "id": "d9dbaf43",
   "metadata": {},
   "source": [
    "##  Sand "
   ]
  },
  {
   "cell_type": "markdown",
   "id": "4a09fc82",
   "metadata": {},
   "source": [
    "Sand -> [ iqrp - **3.05**, r2 - **0.69**, Spec - none, n_bands - 50, Tar - none] :   **cubist**   <br/><br/>\n",
    "***Description***: We get the best model for sand when we use cubist method. \\\n",
    "While training the model we utilize the smoothed spectra resampled to 50 bands and\n",
    "sand values are used without any preprocessing.\n",
    "\n",
    "\n",
    "Sand -> [ iqrp - **3.05**, r2 - **0.69**, Spec - fod, n_bands - 24, Tar - minmax] :   **gbrt**   <br/><br/>\n",
    "***Description***: We get the best model for sand when we use gbrt method. \\\n",
    "While training the model we utilize the smoothed fod spectra resampled to 24 bands and\n",
    "sand values are used with minmax normalization."
   ]
  },
  {
   "cell_type": "code",
   "execution_count": 5,
   "id": "d18ce5ad",
   "metadata": {},
   "outputs": [
    {
     "data": {
      "text/plain": [
       "Cubist(n_committees=5, n_rules=50, random_state=42)"
      ]
     },
     "execution_count": 5,
     "metadata": {},
     "output_type": "execute_result"
    }
   ],
   "source": [
    "sand_model_cubist = Cubist(n_rules = 50, n_committees = 5, random_state = 42) \n",
    "sand_model_cubist.fit(sampled_spec[50], T[0])"
   ]
  },
  {
   "cell_type": "code",
   "execution_count": 6,
   "id": "8515f7c3",
   "metadata": {},
   "outputs": [
    {
     "data": {
      "text/html": [
       "<div>\n",
       "<style scoped>\n",
       "    .dataframe tbody tr th:only-of-type {\n",
       "        vertical-align: middle;\n",
       "    }\n",
       "\n",
       "    .dataframe tbody tr th {\n",
       "        vertical-align: top;\n",
       "    }\n",
       "\n",
       "    .dataframe thead th {\n",
       "        text-align: right;\n",
       "    }\n",
       "</style>\n",
       "<table border=\"1\" class=\"dataframe\">\n",
       "  <thead>\n",
       "    <tr style=\"text-align: right;\">\n",
       "      <th></th>\n",
       "      <th>471</th>\n",
       "      <th>512</th>\n",
       "      <th>553</th>\n",
       "      <th>594</th>\n",
       "      <th>635</th>\n",
       "      <th>676</th>\n",
       "      <th>717</th>\n",
       "      <th>758</th>\n",
       "      <th>799</th>\n",
       "      <th>840</th>\n",
       "      <th>881</th>\n",
       "      <th>922</th>\n",
       "      <th>963</th>\n",
       "      <th>1004</th>\n",
       "      <th>1045</th>\n",
       "      <th>1086</th>\n",
       "      <th>1127</th>\n",
       "      <th>1168</th>\n",
       "      <th>1209</th>\n",
       "      <th>1250</th>\n",
       "      <th>1291</th>\n",
       "      <th>1332</th>\n",
       "      <th>1373</th>\n",
       "      <th>1414</th>\n",
       "      <th>1455</th>\n",
       "      <th>1496</th>\n",
       "      <th>1537</th>\n",
       "      <th>1578</th>\n",
       "      <th>1619</th>\n",
       "      <th>1660</th>\n",
       "      <th>1701</th>\n",
       "      <th>1742</th>\n",
       "      <th>1783</th>\n",
       "      <th>1824</th>\n",
       "      <th>1865</th>\n",
       "      <th>1906</th>\n",
       "      <th>1947</th>\n",
       "      <th>1988</th>\n",
       "      <th>2029</th>\n",
       "      <th>2070</th>\n",
       "      <th>2111</th>\n",
       "      <th>2152</th>\n",
       "      <th>2193</th>\n",
       "      <th>2234</th>\n",
       "      <th>2275</th>\n",
       "      <th>2316</th>\n",
       "      <th>2357</th>\n",
       "      <th>2398</th>\n",
       "      <th>2439</th>\n",
       "      <th>2480</th>\n",
       "    </tr>\n",
       "  </thead>\n",
       "  <tbody>\n",
       "    <tr>\n",
       "      <th>0</th>\n",
       "      <td>0.065518</td>\n",
       "      <td>0.080202</td>\n",
       "      <td>0.113403</td>\n",
       "      <td>0.165125</td>\n",
       "      <td>0.198475</td>\n",
       "      <td>0.2264</td>\n",
       "      <td>0.25675</td>\n",
       "      <td>0.282425</td>\n",
       "      <td>0.29905</td>\n",
       "      <td>0.30945</td>\n",
       "      <td>0.3189</td>\n",
       "      <td>0.3309</td>\n",
       "      <td>0.345</td>\n",
       "      <td>0.360275</td>\n",
       "      <td>0.3753</td>\n",
       "      <td>0.390125</td>\n",
       "      <td>0.402675</td>\n",
       "      <td>0.413175</td>\n",
       "      <td>0.421875</td>\n",
       "      <td>0.4292</td>\n",
       "      <td>0.4341</td>\n",
       "      <td>0.436675</td>\n",
       "      <td>0.431225</td>\n",
       "      <td>0.399075</td>\n",
       "      <td>0.413375</td>\n",
       "      <td>0.42825</td>\n",
       "      <td>0.440925</td>\n",
       "      <td>0.44875</td>\n",
       "      <td>0.454</td>\n",
       "      <td>0.45855</td>\n",
       "      <td>0.46225</td>\n",
       "      <td>0.463</td>\n",
       "      <td>0.465925</td>\n",
       "      <td>0.46915</td>\n",
       "      <td>0.45905</td>\n",
       "      <td>0.35295</td>\n",
       "      <td>0.355775</td>\n",
       "      <td>0.3959</td>\n",
       "      <td>0.432425</td>\n",
       "      <td>0.45385</td>\n",
       "      <td>0.467725</td>\n",
       "      <td>0.462925</td>\n",
       "      <td>0.43035</td>\n",
       "      <td>0.4346</td>\n",
       "      <td>0.43735</td>\n",
       "      <td>0.4252</td>\n",
       "      <td>0.4079</td>\n",
       "      <td>0.38775</td>\n",
       "      <td>0.359375</td>\n",
       "      <td>0.330325</td>\n",
       "    </tr>\n",
       "  </tbody>\n",
       "</table>\n",
       "</div>"
      ],
      "text/plain": [
       "        471       512       553       594       635     676      717  \\\n",
       "0  0.065518  0.080202  0.113403  0.165125  0.198475  0.2264  0.25675   \n",
       "\n",
       "        758      799      840     881     922    963      1004    1045  \\\n",
       "0  0.282425  0.29905  0.30945  0.3189  0.3309  0.345  0.360275  0.3753   \n",
       "\n",
       "       1086      1127      1168      1209    1250    1291      1332      1373  \\\n",
       "0  0.390125  0.402675  0.413175  0.421875  0.4292  0.4341  0.436675  0.431225   \n",
       "\n",
       "       1414      1455     1496      1537     1578   1619     1660     1701  \\\n",
       "0  0.399075  0.413375  0.42825  0.440925  0.44875  0.454  0.45855  0.46225   \n",
       "\n",
       "    1742      1783     1824     1865     1906      1947    1988      2029  \\\n",
       "0  0.463  0.465925  0.46915  0.45905  0.35295  0.355775  0.3959  0.432425   \n",
       "\n",
       "      2070      2111      2152     2193    2234     2275    2316    2357  \\\n",
       "0  0.45385  0.467725  0.462925  0.43035  0.4346  0.43735  0.4252  0.4079   \n",
       "\n",
       "      2398      2439      2480  \n",
       "0  0.38775  0.359375  0.330325  "
      ]
     },
     "execution_count": 6,
     "metadata": {},
     "output_type": "execute_result"
    }
   ],
   "source": [
    "sampled_spec[50].head(1)"
   ]
  },
  {
   "cell_type": "code",
   "execution_count": 7,
   "id": "a9727338",
   "metadata": {},
   "outputs": [
    {
     "data": {
      "image/png": "[encoded data removed]",
      "text/plain": [
       "<Figure size 1000x700 with 1 Axes>"
      ]
     },
     "metadata": {},
     "output_type": "display_data"
    }
   ],
   "source": [
    "feature_scores['Sand'] = permutation_importance(sand_model_cubist, sampled_spec[50], T[0], n_repeats=20, random_state=0)\n",
    "model_details['Sand'] = {'method': 'Cubist', 'spec': sampled_spec[50], 'spec_proc': 'spectra', 'n_bands': 50}\n",
    "show_important_features_for ('Sand', model_details, feature_scores, 10, 50, 1)"
   ]
  },
  {
   "cell_type": "code",
   "execution_count": 8,
   "id": "00cc0d34",
   "metadata": {},
   "outputs": [
    {
     "ename": "NameError",
     "evalue": "name 'sampled_fod' is not defined",
     "output_type": "error",
     "traceback": [
      "\u001b[1;31m---------------------------------------------------------------------------\u001b[0m",
      "\u001b[1;31mNameError\u001b[0m                                 Traceback (most recent call last)",
      "\u001b[1;32m~\\AppData\\Local\\Temp\\ipykernel_21196\\91774506.py\u001b[0m in \u001b[0;36m<module>\u001b[1;34m\u001b[0m\n\u001b[0;32m      2\u001b[0m \u001b[1;33m\u001b[0m\u001b[0m\n\u001b[0;32m      3\u001b[0m \u001b[0msand_model_gbrt\u001b[0m \u001b[1;33m=\u001b[0m \u001b[0mGradientBoostingRegressor\u001b[0m\u001b[1;33m(\u001b[0m\u001b[1;33m)\u001b[0m\u001b[1;33m\u001b[0m\u001b[1;33m\u001b[0m\u001b[0m\n\u001b[1;32m----> 4\u001b[1;33m \u001b[0msand_model_gbrt\u001b[0m\u001b[1;33m.\u001b[0m\u001b[0mfit\u001b[0m\u001b[1;33m(\u001b[0m\u001b[0msampled_fod\u001b[0m\u001b[1;33m[\u001b[0m\u001b[1;36m24\u001b[0m\u001b[1;33m]\u001b[0m\u001b[1;33m,\u001b[0m \u001b[0mT\u001b[0m\u001b[1;33m[\u001b[0m\u001b[1;36m0\u001b[0m\u001b[1;33m]\u001b[0m\u001b[1;33m)\u001b[0m\u001b[1;33m\u001b[0m\u001b[1;33m\u001b[0m\u001b[0m\n\u001b[0m",
      "\u001b[1;31mNameError\u001b[0m: name 'sampled_fod' is not defined"
     ]
    }
   ],
   "source": [
    "# Sand -> [ iqrp - 3.05, r2 - 0.69, Spec - fod, n_bands - 24, Tar - minmax] : gbrt\n",
    "\n",
    "sand_model_gbrt = GradientBoostingRegressor()  \n",
    "sand_model_gbrt.fit(sampled_fod[24], T[0])"
   ]
  },
  {
   "cell_type": "code",
   "execution_count": null,
   "id": "d4219f6e",
   "metadata": {},
   "outputs": [],
   "source": [
    "sampled_fod[24].head(1)"
   ]
  },
  {
   "cell_type": "code",
   "execution_count": null,
   "id": "b5a14f53",
   "metadata": {},
   "outputs": [],
   "source": [
    "feature_scores['Sand'] = permutation_importance(sand_model_gbrt, sampled_fod[24], T[0], n_repeats=20, random_state=0)\n",
    "\n",
    "model_details['Sand'] = {'method': 'gbrt', 'spec': sampled_fod[24], 'spec_proc': 'fod', 'n_bands': 24}"
   ]
  },
  {
   "cell_type": "code",
   "execution_count": null,
   "id": "153dd7a3",
   "metadata": {},
   "outputs": [],
   "source": [
    "show_important_features_for ('Sand', model_details, feature_scores, 10, 9000, 1)"
   ]
  },
  {
   "cell_type": "markdown",
   "id": "c023ffd4",
   "metadata": {},
   "source": [
    "###  Silt "
   ]
  },
  {
   "cell_type": "code",
   "execution_count": null,
   "id": "d5c0d352",
   "metadata": {},
   "outputs": [],
   "source": [
    "# For:Silt-> ['r2', 0.5, 'Spec:', 'fod2', 'bands:', 12, 'Tar:', 'none'] :randomforest"
   ]
  },
  {
   "cell_type": "markdown",
   "id": "f255bdef",
   "metadata": {},
   "source": [
    "Silt -> [ iqrp - **2.04**, r2 - **0.5**, Spec - fod2, n_bands - 12, Tar - none] :   **random**  <br/><br/>\n",
    "***Description***: We get the best model for silt when we use randomforest method. \\\n",
    "While training the model we utilize the first order derivative (of the smoothed spectra which is resampled to 12 bands) and\n",
    "silt values are used without any preprocessing."
   ]
  },
  {
   "cell_type": "code",
   "execution_count": null,
   "id": "9a840b51",
   "metadata": {},
   "outputs": [],
   "source": [
    "silt_model_rand = RandomForestRegressor(random_state= 23)\n",
    "silt_model_rand.fit(fod_sampled[12], T[1])"
   ]
  },
  {
   "cell_type": "code",
   "execution_count": null,
   "id": "02bea89b",
   "metadata": {},
   "outputs": [],
   "source": [
    "fod_sampled[12].head(1)"
   ]
  },
  {
   "cell_type": "code",
   "execution_count": null,
   "id": "bf0a8cef",
   "metadata": {},
   "outputs": [],
   "source": [
    "feature_scores['Silt'] = permutation_importance(silt_model_rand, fod_sampled[12], T[1], n_repeats=20, random_state=0)"
   ]
  },
  {
   "cell_type": "code",
   "execution_count": null,
   "id": "90a6831c",
   "metadata": {},
   "outputs": [],
   "source": [
    "model_details['Silt'] = {'method': 'rand', 'spec': fod_sampled[12], 'spec_proc': 'fod2', 'n_bands': 12}\n",
    "\n",
    "show_important_features_for ('Silt', model_details, feature_scores, 5, 10, 5)"
   ]
  },
  {
   "cell_type": "markdown",
   "id": "23888536",
   "metadata": {},
   "source": [
    "##  Clay"
   ]
  },
  {
   "cell_type": "markdown",
   "id": "bf66e623",
   "metadata": {},
   "source": [
    "Clay -> [ iqrp - **2.99**, r2 - **0.77**, Spec - log, n_bands - 15, Tar - minmax] :   **mult**   <br/><br/>\n",
    "***Description***: We get the best model for clay when we use mult (multiple linear regression) method. \\\n",
    "While training the model we utilize the inverse logarithmic reflectance (1/logR) of the smoothed spectra which is resampled to 15 bands and clay values are used by  normalizing it in the range of 0-10.\n",
    "\n",
    "Clay -> [ iqrp - **2.97**, r2 - **0.77**, Spec - continuum, n_bands - 30, Tar - minmax] :   **gbrt**   <br/><br/>\n",
    "***Description***: We get the best model for clay when we use mult (multiple linear regression) method. \\\n",
    "While training the model we utilize the continum removed smoothed spectra which is resampled to 30 bands and clay values are used by  normalizing it in the range of 0-10."
   ]
  },
  {
   "cell_type": "code",
   "execution_count": null,
   "id": "fbb260ce",
   "metadata": {},
   "outputs": [],
   "source": [
    "clay_model_mult = linear_model.LinearRegression()\n",
    "clay_model_mult.fit(sampled_log[15], NT[2])"
   ]
  },
  {
   "cell_type": "code",
   "execution_count": null,
   "id": "65690195",
   "metadata": {},
   "outputs": [],
   "source": [
    "sampled_log[15].head(1)"
   ]
  },
  {
   "cell_type": "code",
   "execution_count": null,
   "id": "b674239a",
   "metadata": {},
   "outputs": [],
   "source": [
    "feature_scores['Clay'] = permutation_importance(clay_model_mult, sampled_log[15], NT[2], n_repeats=20, random_state=0)\n",
    "\n",
    "model_details['Clay'] = {'method': 'mult', 'spec': sampled_log[15], 'spec_proc': 'log', 'n_bands': 15}"
   ]
  },
  {
   "cell_type": "code",
   "execution_count": null,
   "id": "96c7f30b",
   "metadata": {},
   "outputs": [],
   "source": [
    "show_important_features_for ('Clay', model_details, feature_scores, 0.001, 1, 2)"
   ]
  },
  {
   "cell_type": "code",
   "execution_count": null,
   "id": "5cefc1b0",
   "metadata": {},
   "outputs": [],
   "source": [
    "# For:Clay-> ['r2', 0.77, 'Spec:', 'continuum', 'bands:', 30, 'Tar:', 'minmax'] :gbrt\n",
    "clay_model_gbrt = GradientBoostingRegressor()\n",
    "clay_model_gbrt.fit(sampled_cr[30], NT[2])"
   ]
  },
  {
   "cell_type": "code",
   "execution_count": null,
   "id": "8419612a",
   "metadata": {},
   "outputs": [],
   "source": [
    "sampled_cr[30].head(1)"
   ]
  },
  {
   "cell_type": "code",
   "execution_count": null,
   "id": "64354efc",
   "metadata": {},
   "outputs": [],
   "source": [
    "feature_scores['Clay'] = permutation_importance(clay_model_gbrt, sampled_cr[30], NT[2], n_repeats=20, random_state=0)\n",
    "\n",
    "model_details['Clay'] = {'method': 'gbrt', 'spec': sampled_cr[30], 'spec_proc': 'continuum', 'n_bands': 30}"
   ]
  },
  {
   "cell_type": "code",
   "execution_count": null,
   "id": "f0f508e2",
   "metadata": {},
   "outputs": [],
   "source": [
    "show_important_features_for ('Clay', model_details, feature_scores, 20, 150, 2)"
   ]
  },
  {
   "cell_type": "markdown",
   "id": "844c3528",
   "metadata": {},
   "source": [
    "##  TOC "
   ]
  },
  {
   "cell_type": "code",
   "execution_count": null,
   "id": "981f4262",
   "metadata": {},
   "outputs": [],
   "source": [
    "# For:TOC-> ['iqrp', 2.51, 'Spec:', 'fod2', 'bands:', 40, 'Tar:', 'minmax'] :gbrt\n",
    "# For:TOC-> ['r2', 0.81, 'Spec:', 'fod2', 'bands:', 40, 'Tar:', 'minmax'] :gbrt"
   ]
  },
  {
   "cell_type": "markdown",
   "id": "f4b601b5",
   "metadata": {},
   "source": [
    "TOC -> [ iqrp - **2.51**, r2 - **0.81**, Spec - fod2, n_bands - 40, Tar - minmax] :   **gbrt**  <br/><br/>\n",
    "***Description***: We get the best model for TOC when we use gbrt (gradient boosted regression tree) method. \\\n",
    "While training the model we utilize the fod (of the smoothed spectra which is resampled to 55 bands) and\n",
    "TOC values are used by  normalizing it in the range of 0-10."
   ]
  },
  {
   "cell_type": "code",
   "execution_count": null,
   "id": "5c4440a6",
   "metadata": {},
   "outputs": [],
   "source": [
    "TOC_model_gbrt = GradientBoostingRegressor() \n",
    "TOC_model_gbrt.fit(fod_sampled[40], NT[3])"
   ]
  },
  {
   "cell_type": "code",
   "execution_count": null,
   "id": "26b8f04d",
   "metadata": {},
   "outputs": [],
   "source": [
    "fod_sampled[40].head(1)"
   ]
  },
  {
   "cell_type": "code",
   "execution_count": null,
   "id": "43f83124",
   "metadata": {},
   "outputs": [],
   "source": [
    "feature_scores['TOC'] = permutation_importance(TOC_model_gbrt, fod_sampled[40], NT[3], n_repeats=20, random_state=0)\n",
    "\n",
    "model_details['TOC'] = {'method': 'gbrt', 'spec': fod_sampled[40], 'spec_proc': 'fod2', 'n_bands': 40}"
   ]
  },
  {
   "cell_type": "code",
   "execution_count": null,
   "id": "8bef8fc7",
   "metadata": {},
   "outputs": [],
   "source": [
    "show_important_features_for ('TOC', model_details, feature_scores, 50, 70, 55)"
   ]
  },
  {
   "cell_type": "markdown",
   "id": "fc82c7ff",
   "metadata": {},
   "source": [
    "##  CaCO3 "
   ]
  },
  {
   "cell_type": "code",
   "execution_count": null,
   "id": "9fe59ff6",
   "metadata": {},
   "outputs": [],
   "source": [
    "#For:CaCO3-> ['iqrp', 2.32, 'Spec:', 'none', 'bands:', 3, 'Tar:', 'none'] :gbrt\n",
    "#For:CaCO3-> ['r2', 0.6, 'Spec:', 'none', 'bands:', 3, 'Tar:', 'none'] :gbrt"
   ]
  },
  {
   "cell_type": "markdown",
   "id": "c42e8ba8",
   "metadata": {},
   "source": [
    "CaCO3 -> [ iqrp - **2.32**, r2 - **0.6**, Spec - none, n_bands - 3, Tar - none] :   **gbrt**  <br/><br/>\n",
    "***Description***: We get the best model for CaCO3 when we use gbrt (gradient boosted regression tree ) method. \\\n",
    "While training the model we utilize the smoothed spectra which is resampled to 3 bands and\n",
    "CaCO3 values are used without any preprocessing."
   ]
  },
  {
   "cell_type": "code",
   "execution_count": null,
   "id": "6e8e9de1",
   "metadata": {},
   "outputs": [],
   "source": [
    "CaCO3_model_gbrt = GradientBoostingRegressor()\n",
    "CaCO3_model_gbrt.fit(sampled_spec[3], T[4])"
   ]
  },
  {
   "cell_type": "code",
   "execution_count": null,
   "id": "630d213e",
   "metadata": {},
   "outputs": [],
   "source": [
    "sampled_spec[3].head(1)"
   ]
  },
  {
   "cell_type": "code",
   "execution_count": null,
   "id": "fa83a0f7",
   "metadata": {},
   "outputs": [],
   "source": [
    "feature_scores['CaCO3'] = permutation_importance(CaCO3_model_gbrt, sampled_spec[3], T[4], n_repeats=20, random_state=0)\n",
    "\n",
    "model_details['CaCO3'] = {'method': 'gbrt', 'spec': sampled_spec[3], 'spec_proc': 'spectra', 'n_bands': 3}"
   ]
  },
  {
   "cell_type": "code",
   "execution_count": null,
   "id": "e6e80258",
   "metadata": {},
   "outputs": [],
   "source": [
    "show_important_features_for ('CaCO3', model_details, feature_scores, 0.02, 0.5, 3)"
   ]
  },
  {
   "cell_type": "code",
   "execution_count": null,
   "id": "3fe64bc4",
   "metadata": {},
   "outputs": [],
   "source": [
    "ipywidgets.interact(show_important_features_for, tar = target_names, model_details = [model_details], \n",
    "                    feature_scores = [feature_scores], r_factor = (0,100,0.01), X_factor = (0,1000,1), sample = (0,50,1))\n",
    "                    \n"
   ]
  }
 ],
 "metadata": {
  "kernelspec": {
   "display_name": "Python 3 (ipykernel)",
   "language": "python",
   "name": "python3"
  },
  "language_info": {
   "codemirror_mode": {
    "name": "ipython",
    "version": 3
   },
   "file_extension": ".py",
   "mimetype": "text/x-python",
   "name": "python",
   "nbconvert_exporter": "python",
   "pygments_lexer": "ipython3",
   "version": "3.9.13"
  }
 },
 "nbformat": 4,
 "nbformat_minor": 5
}
