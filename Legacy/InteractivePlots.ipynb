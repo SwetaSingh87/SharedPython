{
 "cells": [
  {
   "cell_type": "markdown",
   "id": "f9874567",
   "metadata": {},
   "source": [
    "# Importing Header and PlotFunctions"
   ]
  },
  {
   "cell_type": "code",
   "execution_count": 1,
   "id": "20044405",
   "metadata": {},
   "outputs": [
    {
     "name": "stdout",
     "output_type": "stream",
     "text": [
      "importing Jupyter notebook from Header.ipynb\n"
     ]
    }
   ],
   "source": [
    "import import_ipynb \n",
    "from Header import *"
   ]
  },
  {
   "cell_type": "code",
   "execution_count": 2,
   "id": "4c78bc5e",
   "metadata": {},
   "outputs": [
    {
     "name": "stdout",
     "output_type": "stream",
     "text": [
      "importing Jupyter notebook from PlotFunctions.ipynb\n",
      "importing Jupyter notebook from SoilPrep.ipynb\n"
     ]
    }
   ],
   "source": [
    "import import_ipynb\n",
    "from PlotFunctions import *"
   ]
  },
  {
   "cell_type": "markdown",
   "id": "dd579a55",
   "metadata": {},
   "source": [
    "### Data, MetaData, and Mtree already loaded in PlotFunctions"
   ]
  },
  {
   "cell_type": "markdown",
   "id": "06785a0f",
   "metadata": {},
   "source": [
    "## Visualizing Processed Spectrum (variable samples)"
   ]
  },
  {
   "cell_type": "code",
   "execution_count": 3,
   "id": "c19462e9",
   "metadata": {},
   "outputs": [
    {
     "data": {
      "application/vnd.jupyter.widget-view+json": {
       "model_id": "e5e2c8e3a7a8409f9f78a3ae247d31d3",
       "version_major": 2,
       "version_minor": 0
      },
      "text/plain": [
       "interactive(children=(IntSlider(value=42, description='sample', max=85), Dropdown(description='process', optio…"
      ]
     },
     "metadata": {},
     "output_type": "display_data"
    },
    {
     "data": {
      "text/plain": [
       "<function PlotFunctions.plot_spec(sample, process)>"
      ]
     },
     "execution_count": 3,
     "metadata": {},
     "output_type": "execute_result"
    }
   ],
   "source": [
    "ipywidgets.interact(plot_spec, sample = (0, 85,1), process = ['continuum', 'fod', 'log'])"
   ]
  },
  {
   "cell_type": "markdown",
   "id": "62ef6013",
   "metadata": {},
   "source": [
    "## Correlation between wavelengths and Targets"
   ]
  },
  {
   "cell_type": "code",
   "execution_count": 4,
   "id": "3b191166",
   "metadata": {},
   "outputs": [
    {
     "data": {
      "application/vnd.jupyter.widget-view+json": {
       "model_id": "213e497386364d10a7b60964b1b6efec",
       "version_major": 2,
       "version_minor": 0
      },
      "text/plain": [
       "interactive(children=(Dropdown(description='target', options=('Sand', 'Silt', 'Clay', 'TOC', 'CaCO3'), value='…"
      ]
     },
     "metadata": {},
     "output_type": "display_data"
    },
    {
     "data": {
      "text/plain": [
       "<function PlotFunctions.plot_corr(target, prepare_spec, n_bands)>"
      ]
     },
     "execution_count": 4,
     "metadata": {},
     "output_type": "execute_result"
    }
   ],
   "source": [
    "ipywidgets.interact(plot_corr, target = target_names, prepare_spec = ['spec', 'cr','fod','log'], n_bands = nbands_sampling)"
   ]
  },
  {
   "cell_type": "markdown",
   "id": "8d1df772",
   "metadata": {},
   "source": [
    "## Plotting Model Accuracy (ipywidgets)"
   ]
  },
  {
   "cell_type": "code",
   "execution_count": 5,
   "id": "23cd074b",
   "metadata": {},
   "outputs": [
    {
     "data": {
      "application/vnd.jupyter.widget-view+json": {
       "model_id": "a63bcd9437b04a728f3bf0365cb3932c",
       "version_major": 2,
       "version_minor": 0
      },
      "text/plain": [
       "interactive(children=(Dropdown(description='method', options=('mult', 'plsr', 'randomforest', 'cubist', 'svr',…"
      ]
     },
     "metadata": {},
     "output_type": "display_data"
    },
    {
     "data": {
      "text/plain": [
       "<function PlotFunctions.plot_model_acc(method, target, target_preprocessing, spec_preprocessing, n_bands)>"
      ]
     },
     "execution_count": 5,
     "metadata": {},
     "output_type": "execute_result"
    }
   ],
   "source": [
    "ipywidgets.interact(plot_model_acc, target = target_names, \\\n",
    "                    spec_preprocessing = prepare_spec, n_bands = nbands_sampling, \\\n",
    "                    target_preprocessing = prepare_target,  method = ml_methods)"
   ]
  },
  {
   "cell_type": "code",
   "execution_count": 6,
   "id": "ac15fee2",
   "metadata": {},
   "outputs": [
    {
     "name": "stdout",
     "output_type": "stream",
     "text": [
      "For:Sand-> ['r2', 0.64, 'Spec:', 'fod', 'bands:', 16, 'Tar:', 'minmax'] :mult\n",
      "For:Sand-> ['r2', 0.6, 'Spec:', 'fod', 'bands:', 22, 'Tar:', 'none'] :plsr\n",
      "For:Sand-> ['r2', 0.63, 'Spec:', 'fod', 'bands:', 24, 'Tar:', 'none'] :randomforest\n",
      "For:Sand-> ['r2', 0.69, 'Spec:', 'none', 'bands:', 50, 'Tar:', 'none'] :cubist\n",
      "For:Sand-> ['r2', 0.34, 'Spec:', 'log', 'bands:', 90, 'Tar:', 'minmax'] :svr\n",
      "For:Sand-> ['r2', 0.31, 'Spec:', 'none', 'bands:', 0, 'Tar:', 'minmax'] :ridge\n",
      "For:Sand-> ['r2', 0.66, 'Spec:', 'fod', 'bands:', 24, 'Tar:', 'minmax'] :gbrt\n"
     ]
    }
   ],
   "source": [
    "best_score_for(Mtree, 'Sand', 'r2')"
   ]
  },
  {
   "cell_type": "code",
   "execution_count": 7,
   "id": "2d684843",
   "metadata": {},
   "outputs": [
    {
     "name": "stdout",
     "output_type": "stream",
     "text": [
      "For:Silt-> ['r2', 0.43, 'Spec:', 'fod', 'bands:', 8, 'Tar:', 'none'] :mult\n",
      "For:Silt-> ['r2', 0.34, 'Spec:', 'none', 'bands:', 10, 'Tar:', 'none'] :plsr\n",
      "For:Silt-> ['r2', 0.32, 'Spec:', 'continuum', 'bands:', 32, 'Tar:', 'minmax'] :randomforest\n",
      "For:Silt-> ['r2', 0.4, 'Spec:', 'none', 'bands:', 36, 'Tar:', 'none'] :cubist\n",
      "For:Silt-> ['r2', 0.17, 'Spec:', 'continuum', 'bands:', 4, 'Tar:', 'minmax'] :svr\n",
      "For:Silt-> ['r2', 0.29, 'Spec:', 'log', 'bands:', 0, 'Tar:', 'none'] :ridge\n",
      "For:Silt-> ['r2', 0.38, 'Spec:', 'fod', 'bands:', 55, 'Tar:', 'minmax'] :gbrt\n"
     ]
    }
   ],
   "source": [
    "best_score_for(Mtree, 'Silt', 'r2')"
   ]
  },
  {
   "cell_type": "code",
   "execution_count": 8,
   "id": "b678e94c",
   "metadata": {},
   "outputs": [
    {
     "name": "stdout",
     "output_type": "stream",
     "text": [
      "For:Clay-> ['r2', 0.77, 'Spec:', 'log', 'bands:', 15, 'Tar:', 'minmax'] :mult\n",
      "For:Clay-> ['r2', 0.59, 'Spec:', 'continuum', 'bands:', 0, 'Tar:', 'minmax'] :plsr\n",
      "For:Clay-> ['r2', 0.62, 'Spec:', 'continuum', 'bands:', 26, 'Tar:', 'minmax'] :randomforest\n",
      "For:Clay-> ['r2', 0.69, 'Spec:', 'none', 'bands:', 32, 'Tar:', 'none'] :cubist\n",
      "For:Clay-> ['r2', 0.46, 'Spec:', 'log', 'bands:', 90, 'Tar:', 'minmax'] :svr\n",
      "For:Clay-> ['r2', 0.48, 'Spec:', 'log', 'bands:', 0, 'Tar:', 'minmax'] :ridge\n",
      "For:Clay-> ['r2', 0.75, 'Spec:', 'continuum', 'bands:', 30, 'Tar:', 'minmax'] :gbrt\n"
     ]
    }
   ],
   "source": [
    "best_score_for(Mtree, 'Clay', 'r2')"
   ]
  },
  {
   "cell_type": "code",
   "execution_count": 15,
   "id": "edecb646",
   "metadata": {},
   "outputs": [
    {
     "name": "stdout",
     "output_type": "stream",
     "text": [
      "For:TOC-> ['r2', 0.65, 'Spec:', 'log', 'bands:', 18, 'Tar:', 'minmax'] :mult\n",
      "For:TOC-> ['r2', 0.49, 'Spec:', 'fod', 'bands:', 17, 'Tar:', 'minmax'] :plsr\n",
      "For:TOC-> ['r2', 0.71, 'Spec:', 'continuum', 'bands:', 30, 'Tar:', 'minmax'] :randomforest\n",
      "For:TOC-> ['r2', 0.7, 'Spec:', 'log', 'bands:', 34, 'Tar:', 'none'] :cubist\n",
      "For:TOC-> ['r2', 0.26, 'Spec:', 'fod', 'bands:', 10, 'Tar:', 'minmax'] :svr\n",
      "For:TOC-> ['r2', 0.45, 'Spec:', 'log', 'bands:', 100, 'Tar:', 'minmax'] :ridge\n",
      "For:TOC-> ['r2', 0.76, 'Spec:', 'continuum', 'bands:', 55, 'Tar:', 'minmax'] :gbrt\n"
     ]
    }
   ],
   "source": [
    "best_score_for(Mtree, 'TOC', 'r2')"
   ]
  },
  {
   "cell_type": "code",
   "execution_count": 10,
   "id": "051d636f",
   "metadata": {},
   "outputs": [
    {
     "name": "stdout",
     "output_type": "stream",
     "text": [
      "For:CaCO3-> ['r2', 0.56, 'Spec:', 'fod', 'bands:', 7, 'Tar:', 'none'] :mult\n",
      "For:CaCO3-> ['r2', 0.56, 'Spec:', 'continuum', 'bands:', 20, 'Tar:', 'none'] :plsr\n",
      "For:CaCO3-> ['r2', 0.55, 'Spec:', 'fod', 'bands:', 10, 'Tar:', 'minmax'] :randomforest\n",
      "For:CaCO3-> ['r2', 0.52, 'Spec:', 'log', 'bands:', 5, 'Tar:', 'none'] :cubist\n",
      "For:CaCO3-> ['r2', 0.42, 'Spec:', 'fod', 'bands:', 24, 'Tar:', 'minmax'] :svr\n",
      "For:CaCO3-> ['r2', 0.52, 'Spec:', 'log', 'bands:', 0, 'Tar:', 'none'] :ridge\n",
      "For:CaCO3-> ['r2', 0.61, 'Spec:', 'none', 'bands:', 3, 'Tar:', 'none'] :gbrt\n"
     ]
    }
   ],
   "source": [
    "best_score_for(Mtree, 'CaCO3', 'r2')"
   ]
  },
  {
   "cell_type": "code",
   "execution_count": 16,
   "id": "205308ae",
   "metadata": {},
   "outputs": [
    {
     "name": "stdout",
     "output_type": "stream",
     "text": [
      "For:CaCO3-> ['iqrp', 2.21, 'Spec:', 'fod', 'bands:', 7, 'Tar:', 'none'] :mult\n",
      "For:CaCO3-> ['iqrp', 2.22, 'Spec:', 'continuum', 'bands:', 20, 'Tar:', 'none'] :plsr\n",
      "For:CaCO3-> ['iqrp', 2.18, 'Spec:', 'fod', 'bands:', 10, 'Tar:', 'minmax'] :randomforest\n",
      "For:CaCO3-> ['iqrp', 2.12, 'Spec:', 'log', 'bands:', 5, 'Tar:', 'none'] :cubist\n",
      "For:CaCO3-> ['iqrp', 1.93, 'Spec:', 'fod', 'bands:', 24, 'Tar:', 'minmax'] :svr\n",
      "For:CaCO3-> ['iqrp', 2.12, 'Spec:', 'log', 'bands:', 0, 'Tar:', 'none'] :ridge\n",
      "For:CaCO3-> ['iqrp', 2.35, 'Spec:', 'none', 'bands:', 3, 'Tar:', 'none'] :gbrt\n"
     ]
    }
   ],
   "source": [
    "best_score_for(Mtree, 'CaCO3', 'iqrp')"
   ]
  },
  {
   "cell_type": "code",
   "execution_count": null,
   "id": "8128794c",
   "metadata": {},
   "outputs": [],
   "source": []
  }
 ],
 "metadata": {
  "kernelspec": {
   "display_name": "Python 3 (ipykernel)",
   "language": "python",
   "name": "python3"
  },
  "language_info": {
   "codemirror_mode": {
    "name": "ipython",
    "version": 3
   },
   "file_extension": ".py",
   "mimetype": "text/x-python",
   "name": "python",
   "nbconvert_exporter": "python",
   "pygments_lexer": "ipython3",
   "version": "3.9.16"
  }
 },
 "nbformat": 4,
 "nbformat_minor": 5
}
