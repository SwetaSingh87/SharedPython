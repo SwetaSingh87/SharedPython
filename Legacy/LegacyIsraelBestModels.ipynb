{
 "cells": [
  {
   "cell_type": "code",
   "execution_count": 1,
   "id": "5265ba48",
   "metadata": {},
   "outputs": [
    {
     "name": "stdout",
     "output_type": "stream",
     "text": [
      "importing Jupyter notebook from HeaderFile.ipynb\n",
      "importing Jupyter notebook from SoilPrep.ipynb\n"
     ]
    }
   ],
   "source": [
    "import import_ipynb \n",
    "from HeaderFile import *\n",
    "\n",
    "import import_ipynb\n",
    "from SoilPrep import *"
   ]
  },
  {
   "cell_type": "code",
   "execution_count": 2,
   "id": "a2e3e20d",
   "metadata": {},
   "outputs": [],
   "source": [
    "with open ('meta_data.pickle', 'rb') as file:\n",
    "    MetaData = pickle.load(file)\n",
    "\n",
    "sg_filters = MetaData['sg_filters']\n",
    "window_lengths = MetaData['window_lengths']\n",
    "prepare_spec = MetaData['prepare_spec']\n",
    "nbands_sampling = MetaData['nbands_sampling']\n",
    "target_names = MetaData['target_names']\n",
    "prepare_target = MetaData['prepare_target']\n",
    "ml_methods = MetaData['ml_methods']\n",
    "\n",
    "\n",
    "with open ('data.pickle', 'rb') as file:\n",
    "    Data = pickle.load(file)\n",
    "\n",
    "spectra = Data['spectra']\n",
    "T = Data['T']\n",
    "NT = Data['NT']\n",
    "smth_spec = Data['smth_spec']\n",
    "fod_spec = Data['fod_spec']\n",
    "cr_spec = Data['cr_spec'] \n",
    "log_spec = Data['log_spec']\n",
    "sampled_spec = Data['sampled_spec']\n",
    "sampled_cr = Data['sampled_cr']\n",
    "sampled_fod = Data['sampled_fod']\n",
    "sampled_log = Data['sampled_log'] \n",
    "rand_t = Data['rand_t']\n",
    "rand_nt = Data['rand_nt'] \n",
    "\n",
    "\n",
    "with open ('Mtree.pickle', 'rb') as file:\n",
    "    Mtree = pickle.load(file)"
   ]
  },
  {
   "cell_type": "markdown",
   "id": "d689372b",
   "metadata": {},
   "source": [
    " #  Models for Sand, Silt, Clay, TOC, and CaCO3.."
   ]
  },
  {
   "cell_type": "markdown",
   "id": "d9dbaf43",
   "metadata": {},
   "source": [
    "##  Sand (Best 3 Models)"
   ]
  },
  {
   "cell_type": "markdown",
   "id": "4a09fc82",
   "metadata": {},
   "source": [
    "Sand -> [ iqrp - **3.05**, r2 - **0.69**, Spec - none, n_bands - 50, Tar - none] :   **cubist**  (Best Model) <br/><br/>\n",
    "***Description***: We get the best model for sand when we use cubist method. \\\n",
    "While training the model we utilize the smoothed spectra resampled to 50 bands and\n",
    "sand values are used without any preprocessing."
   ]
  },
  {
   "cell_type": "code",
   "execution_count": 3,
   "id": "d18ce5ad",
   "metadata": {},
   "outputs": [
    {
     "data": {
      "text/plain": [
       "Cubist(n_committees=5, n_rules=50, random_state=42)"
      ]
     },
     "execution_count": 3,
     "metadata": {},
     "output_type": "execute_result"
    }
   ],
   "source": [
    "sand_model1_cubist = Cubist(n_rules = 50, n_committees = 5, random_state = 42) \n",
    "sand_model1_cubist.fit(sampled_spec[50], T[0])"
   ]
  },
  {
   "cell_type": "markdown",
   "id": "9d41c4ce",
   "metadata": {},
   "source": [
    "Sand-> [ iqrp - **2.99**, r2 - **0.67**, Spec - fod, n_bands - 30, Tar - minmax] : **gbrt**   (Second Best) <br/><br/>\n",
    "***Description*** We get the second best model for sand when we use gbrt (gradient boosted regression tree) method. \\\n",
    "While training the model we utilize the first order derivative of the smoothed spectra which is resampled to 30 bands \n",
    "and sand values are used by  normalizing it in the range of 0-10."
   ]
  },
  {
   "cell_type": "code",
   "execution_count": 4,
   "id": "11a95b95",
   "metadata": {},
   "outputs": [
    {
     "data": {
      "text/plain": [
       "GradientBoostingRegressor()"
      ]
     },
     "execution_count": 4,
     "metadata": {},
     "output_type": "execute_result"
    }
   ],
   "source": [
    "sand_model2_gbrt = GradientBoostingRegressor() \n",
    "sand_model2_gbrt.fit(sampled_fod[30], NT[0])"
   ]
  },
  {
   "cell_type": "markdown",
   "id": "05aaa5d2",
   "metadata": {},
   "source": [
    "Sand-> [ iqrp - **2.75**, r2 -**0.62**, Spec - fod, n_bands - 25, Tar - none]: **mult**  (Third Best) <br/><br/>\n",
    "***Description*** We get the third best model for sand when we use mult (multiple linear regression) method. \\\n",
    "While training the model we utilize the first order derivative of the smoothed spectra which is resampled to 25 bands and sand values are used without any preprocessing."
   ]
  },
  {
   "cell_type": "code",
   "execution_count": 5,
   "id": "bb97c366",
   "metadata": {},
   "outputs": [
    {
     "data": {
      "text/plain": [
       "LinearRegression()"
      ]
     },
     "execution_count": 5,
     "metadata": {},
     "output_type": "execute_result"
    }
   ],
   "source": [
    "sand_model3_mult = linear_model.LinearRegression()\n",
    "sand_model3_mult.fit(sampled_fod[25], T[0])"
   ]
  },
  {
   "cell_type": "markdown",
   "id": "c023ffd4",
   "metadata": {},
   "source": [
    "##  Silt (Best  Model)"
   ]
  },
  {
   "cell_type": "markdown",
   "id": "f255bdef",
   "metadata": {},
   "source": [
    "Silt -> [ iqrp - **1.89**, r2 - **0.41**, Spec - fod, n_bands - 25, Tar - minmax] :   **plsr**  (Best Model) <br/><br/>\n",
    "***Description***: We get the best model for silt when we use plsr method. \\\n",
    "While training the model we utilize the first order derivative of the smoothed spectra which is resampled to 25 bands and\n",
    "silt values are used by normalizing it in the range of 0-10."
   ]
  },
  {
   "cell_type": "code",
   "execution_count": 6,
   "id": "9a840b51",
   "metadata": {},
   "outputs": [
    {
     "data": {
      "text/plain": [
       "PLSRegression(n_components=4)"
      ]
     },
     "execution_count": 6,
     "metadata": {},
     "output_type": "execute_result"
    }
   ],
   "source": [
    "silt_model_plsr = PLSRegression(n_components= 4, scale=True)\n",
    "silt_model_plsr.fit(sampled_fod[25], NT[1])"
   ]
  },
  {
   "cell_type": "markdown",
   "id": "23888536",
   "metadata": {},
   "source": [
    "##  Clay (Best 3 Models)"
   ]
  },
  {
   "cell_type": "markdown",
   "id": "bf66e623",
   "metadata": {},
   "source": [
    "Clay -> [ iqrp - **2.99**, r2 - **0.77**, Spec - log, n_bands - 15, Tar - minmax] :   **mult**  (Best Model) <br/><br/>\n",
    "***Description***: We get the best model for clay when we use mult (multiple linear regression) method. \\\n",
    "While training the model we utilize the inverse logarithmic reflectance (1/logR) of the smoothed spectra which is resampled to 15 bands and\n",
    "clay values are used by  normalizing it in the range of 0-10."
   ]
  },
  {
   "cell_type": "code",
   "execution_count": 7,
   "id": "fbb260ce",
   "metadata": {},
   "outputs": [
    {
     "data": {
      "text/plain": [
       "LinearRegression()"
      ]
     },
     "execution_count": 7,
     "metadata": {},
     "output_type": "execute_result"
    }
   ],
   "source": [
    "clay_model1_mult = linear_model.LinearRegression()\n",
    "clay_model1_mult.fit(sampled_log[15], NT[2])"
   ]
  },
  {
   "cell_type": "markdown",
   "id": "8e2971e5",
   "metadata": {},
   "source": [
    "Clay-> [ iqrp - **2.75**, r2 - **0.73**, Spec - continuum, n_bands - 15, Tar - minmax] : **gbrt**   (Second Best) <br/><br/>\n",
    "***Description*** We get the second best model for clay when we use gbrt (gradient boosted regression tree) method. \\\n",
    "While training the model we utilize the continuum removed version of the smoothed spectra which is resampled to 15 bands \n",
    "and clay values are used by  normalizing it in the range of 0-10."
   ]
  },
  {
   "cell_type": "code",
   "execution_count": 8,
   "id": "7cda708b",
   "metadata": {},
   "outputs": [
    {
     "data": {
      "text/plain": [
       "GradientBoostingRegressor()"
      ]
     },
     "execution_count": 8,
     "metadata": {},
     "output_type": "execute_result"
    }
   ],
   "source": [
    "clay_model2_gbrt = GradientBoostingRegressor() \n",
    "clay_model2_gbrt.fit(sampled_cr[15], NT[2])"
   ]
  },
  {
   "cell_type": "markdown",
   "id": "db8d3b83",
   "metadata": {},
   "source": [
    "Clay -> [ iqrp - **2.46**, r2 - **0.66**, Spec - none, n_bands - 40, Tar - none] :   **cubist**  (Best Model) <br/><br/>\n",
    "***Description***: We get the third best model for clay when we use cubist method. \\\n",
    "While training the model we utilize the smoothed spectra resampled to 40 bands and\n",
    "clay values are used without any preprocessing."
   ]
  },
  {
   "cell_type": "code",
   "execution_count": 9,
   "id": "01b966e6",
   "metadata": {},
   "outputs": [
    {
     "data": {
      "text/plain": [
       "Cubist(n_committees=5, n_rules=50, random_state=42)"
      ]
     },
     "execution_count": 9,
     "metadata": {},
     "output_type": "execute_result"
    }
   ],
   "source": [
    "clay_model3_cubist = Cubist(n_rules = 50, n_committees = 5, random_state = 42) \n",
    "clay_model3_cubist.fit(sampled_spec[40], T[2])"
   ]
  },
  {
   "cell_type": "markdown",
   "id": "844c3528",
   "metadata": {},
   "source": [
    "##  TOC (Best 3 Models)"
   ]
  },
  {
   "cell_type": "markdown",
   "id": "f4b601b5",
   "metadata": {},
   "source": [
    "TOC -> [ iqrp - **2.21**, r2 - **0.75**, Spec - continuum, n_bands - 30, Tar - minmax] :   **gbrt**  (Best Model) <br/><br/>\n",
    "***Description***: We get the best model for TOC when we use gbrt (gradient boosted regression tree) method. \\\n",
    "While training the model we utilize the continuum removed version of the smoothed spectra which is resampled to 30 bands and\n",
    "TOC values are used by  normalizing it in the range of 0-10."
   ]
  },
  {
   "cell_type": "code",
   "execution_count": 10,
   "id": "5c4440a6",
   "metadata": {},
   "outputs": [
    {
     "data": {
      "text/plain": [
       "GradientBoostingRegressor()"
      ]
     },
     "execution_count": 10,
     "metadata": {},
     "output_type": "execute_result"
    }
   ],
   "source": [
    "TOC_model1_gbrt = GradientBoostingRegressor() \n",
    "TOC_model1_gbrt.fit(sampled_cr[30], NT[3])"
   ]
  },
  {
   "cell_type": "markdown",
   "id": "b7a9ee6d",
   "metadata": {},
   "source": [
    "TOC-> [ iqrp - **2.02**, r2 - **0.71**, Spec - continuum, n_bands - 30, Tar - minmax] : **randomforest**   (Second Best) <br/><br/>\n",
    "***Description*** We get the second best model for TOC when we use random forest method. \\\n",
    "While training the model we utilize the continuum removed version of the smoothed spectra which is resampled to 30 bands \n",
    "and TOC values are used by  normalizing it in the range of 0-10."
   ]
  },
  {
   "cell_type": "code",
   "execution_count": 11,
   "id": "7777ff43",
   "metadata": {},
   "outputs": [
    {
     "data": {
      "text/plain": [
       "RandomForestRegressor(random_state=23)"
      ]
     },
     "execution_count": 11,
     "metadata": {},
     "output_type": "execute_result"
    }
   ],
   "source": [
    "TOC_model2_randomforest =RandomForestRegressor(random_state= 23)   \n",
    "TOC_model2_randomforest.fit(sampled_cr[30], NT[3])"
   ]
  },
  {
   "cell_type": "markdown",
   "id": "c73e9c42",
   "metadata": {},
   "source": [
    "TOC-> [ iqrp - **2.21**, r2 - **0.69**, Spec - log, n_bands - 35, Tar - none] : **cubist**   (Third Best) <br/><br/>\n",
    "***Description*** We get the third best model for TOC when we use cubist method. \\\n",
    "While training the model we utilize the inverse logarithmic reflectance (1/logR) of the smoothed spectra which is resampled to 35 bands and TOC values are used without any preprocessing."
   ]
  },
  {
   "cell_type": "code",
   "execution_count": 12,
   "id": "7c417ee7",
   "metadata": {},
   "outputs": [
    {
     "data": {
      "text/plain": [
       "Cubist(n_committees=5, n_rules=50, random_state=42)"
      ]
     },
     "execution_count": 12,
     "metadata": {},
     "output_type": "execute_result"
    }
   ],
   "source": [
    "TOC_model3_cubist = Cubist(n_rules = 50, n_committees = 5, random_state = 42) \n",
    "TOC_model3_cubist.fit(sampled_log[35], T[3])"
   ]
  },
  {
   "cell_type": "markdown",
   "id": "fc82c7ff",
   "metadata": {},
   "source": [
    "##  CaCO3 (Best 3 Models)"
   ]
  },
  {
   "cell_type": "markdown",
   "id": "c42e8ba8",
   "metadata": {},
   "source": [
    "CaCO3 -> [ iqrp - **2.27**, r2 - **0.58**, Spec - fod, n_bands - 20, Tar - none] :   **plsr**  (Best Model) <br/><br/>\n",
    "***Description***: We get the best model for CaCO3 when we use plsr method. \\\n",
    "While training the model we utilize the first order derivative of the smoothed spectra which is resampled to 20 bands and\n",
    "CaCO3 values are used without any preprocessing."
   ]
  },
  {
   "cell_type": "code",
   "execution_count": 13,
   "id": "6e8e9de1",
   "metadata": {},
   "outputs": [
    {
     "data": {
      "text/plain": [
       "PLSRegression(n_components=3)"
      ]
     },
     "execution_count": 13,
     "metadata": {},
     "output_type": "execute_result"
    }
   ],
   "source": [
    "CaCO3_model1_plsr = PLSRegression(n_components= 3, scale=True)\n",
    "CaCO3_model1_plsr.fit(sampled_fod[20], T[4])"
   ]
  },
  {
   "cell_type": "markdown",
   "id": "7fe56876",
   "metadata": {},
   "source": [
    "CaCO3-> [ iqrp - **2.18**, r2 - **0.55**, Spec - fod, n_bands - 10, Tar - minmax] : **randomforest**   (Second Best) <br/><br/>\n",
    "***Description*** We get the second best model for CaCO3 when we use random forest method. \\\n",
    "While training the model we utilize the first order derivative of the smoothed spectra which is resampled to 10 bands \n",
    "and CaCO3 values are used by  normalizing it in the range of 0-10."
   ]
  },
  {
   "cell_type": "code",
   "execution_count": 14,
   "id": "b2657773",
   "metadata": {},
   "outputs": [
    {
     "data": {
      "text/plain": [
       "RandomForestRegressor(random_state=23)"
      ]
     },
     "execution_count": 14,
     "metadata": {},
     "output_type": "execute_result"
    }
   ],
   "source": [
    "CaCO3_model2_randomforest =RandomForestRegressor(random_state= 23)   \n",
    "CaCO3_model2_randomforest.fit(sampled_fod[10], NT[4])"
   ]
  },
  {
   "cell_type": "markdown",
   "id": "35fa839b",
   "metadata": {},
   "source": [
    "CaCO3 -> [ iqrp - **2.14**, r2 - **0.53**, Spec - continuum, n_bands - 30, Tar - none] :   **gbrt**  (Third Best) <br/><br/>\n",
    "***Description***: We get the third best model for CaCO3 when we use gbrt (gradient boosted regression tree) method. \\\n",
    "While training the model we utilize the continuum removed version of the smoothed spectra which is resampled to 30 bands and\n",
    "CaCO3 values are used without any preprocessing."
   ]
  },
  {
   "cell_type": "code",
   "execution_count": 15,
   "id": "3aab3f85",
   "metadata": {},
   "outputs": [
    {
     "data": {
      "text/plain": [
       "GradientBoostingRegressor()"
      ]
     },
     "execution_count": 15,
     "metadata": {},
     "output_type": "execute_result"
    }
   ],
   "source": [
    "CaCO3_model3_gbrt = GradientBoostingRegressor() \n",
    "CaCO3_model3_gbrt.fit(sampled_cr[30], T[4])"
   ]
  },
  {
   "cell_type": "code",
   "execution_count": null,
   "id": "630d213e",
   "metadata": {},
   "outputs": [],
   "source": []
  }
 ],
 "metadata": {
  "kernelspec": {
   "display_name": "Python 3 (ipykernel)",
   "language": "python",
   "name": "python3"
  },
  "language_info": {
   "codemirror_mode": {
    "name": "ipython",
    "version": 3
   },
   "file_extension": ".py",
   "mimetype": "text/x-python",
   "name": "python",
   "nbconvert_exporter": "python",
   "pygments_lexer": "ipython3",
   "version": "3.9.13"
  }
 },
 "nbformat": 4,
 "nbformat_minor": 5
}
