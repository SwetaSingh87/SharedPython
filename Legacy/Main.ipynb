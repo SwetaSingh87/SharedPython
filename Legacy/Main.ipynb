{
 "cells": [
  {
   "cell_type": "markdown",
   "metadata": {},
   "source": [
    "# Importing Header and SoilPrep"
   ]
  },
  {
   "cell_type": "code",
   "execution_count": 1,
   "metadata": {},
   "outputs": [
    {
     "name": "stdout",
     "output_type": "stream",
     "text": [
      "importing Jupyter notebook from Header.ipynb\n"
     ]
    }
   ],
   "source": [
    "import import_ipynb \n",
    "from Header import *"
   ]
  },
  {
   "cell_type": "code",
   "execution_count": 2,
   "metadata": {},
   "outputs": [
    {
     "name": "stdout",
     "output_type": "stream",
     "text": [
      "importing Jupyter notebook from SoilPrep.ipynb\n"
     ]
    }
   ],
   "source": [
    "import import_ipynb\n",
    "from SoilPrep import * "
   ]
  },
  {
   "cell_type": "markdown",
   "metadata": {},
   "source": [
    "## Loading Data and MetaData"
   ]
  },
  {
   "cell_type": "code",
   "execution_count": 3,
   "metadata": {},
   "outputs": [
    {
     "name": "stdout",
     "output_type": "stream",
     "text": [
      "importing Jupyter notebook from LoadDataMetaData.ipynb\n"
     ]
    }
   ],
   "source": [
    "import import_ipynb\n",
    "from LoadDataMetaData import *"
   ]
  },
  {
   "cell_type": "code",
   "execution_count": 4,
   "metadata": {},
   "outputs": [
    {
     "data": {
      "text/plain": [
       "['mult', 'cubist', 'svr', 'ridge', 'plsr', 'randomforest', 'gbrt']"
      ]
     },
     "execution_count": 4,
     "metadata": {},
     "output_type": "execute_result"
    }
   ],
   "source": [
    "ml_methods\n"
   ]
  },
  {
   "cell_type": "markdown",
   "metadata": {},
   "source": [
    "# Building Model Tree (Mtree)"
   ]
  },
  {
   "cell_type": "code",
   "execution_count": 5,
   "metadata": {},
   "outputs": [],
   "source": [
    "import os\n",
    "os.system('say \"your Meta Tree started building\"')\n",
    "import time"
   ]
  },
  {
   "cell_type": "code",
   "execution_count": 6,
   "metadata": {},
   "outputs": [],
   "source": [
    "# 0. Available machine learning regression models --------------------------------- (7)\n",
    "#ml_methods = ['mult', 'plsr', 'randomforest', 'svr', 'ridge', 'gbrt']\n",
    "#ml_methods = ['mult', 'plsr', 'cubist', 'randomforest', 'ridge' 'gbrt', 'svr']"
   ]
  },
  {
   "cell_type": "code",
   "execution_count": 7,
   "metadata": {},
   "outputs": [],
   "source": [
    "# prepare_spec = ['none', 'fod2', 'continuum', 'log']\n",
    "# prepare_target = ['none', 'minmax']\n",
    "\n",
    "def find_X(p, n):\n",
    "    if p == 'fod2':\n",
    "        X = fod_sampled[n]\n",
    "    elif p == 'cr':\n",
    "        X = sampled_cr[n] \n",
    "    elif p == 'log':\n",
    "        X = sampled_log[n]\n",
    "    else:\n",
    "        X = sampled_spec[n]\n",
    "    return X\n",
    "\n",
    "def find_spec(p, n, m):\n",
    "    if n == 0:\n",
    "        if m == 'randomforest' or m == 'cubist' or m == 'gbrt':\n",
    "            spec = find_X(p, 100)\n",
    "        else:\n",
    "            spec = find_X(p,n)            \n",
    "    else:\n",
    "        spec = find_X(p,n)\n",
    "    return spec    \n",
    "\n",
    "\n",
    "def find_y(t):\n",
    "    i = target_names.index(t)     \n",
    "    y = T[i]\n",
    "    return y\n",
    "        "
   ]
  },
  {
   "cell_type": "code",
   "execution_count": 8,
   "metadata": {},
   "outputs": [],
   "source": [
    "def build_tree_for (method_name):\n",
    "    tree ={}\n",
    "    start = time.time()\n",
    "    m = method_name\n",
    "    #-- code to build tree----\n",
    "    for t in target_names:\n",
    "        print('tree for: '+ m +' ------> running on: ' + t)\n",
    "        tree[t] ={}\n",
    "        for tp in prepare_target:\n",
    "            tree[t][tp] ={}\n",
    "            for p in prepare_spec:\n",
    "                tree[t][tp][p] ={}\n",
    "                for n in nbands_sampling:\n",
    "                    tree[t][tp][p][n] ={}\n",
    "                    Y = tree[t][tp][p][n]\n",
    "                    \n",
    "                        \n",
    "                    #------ setting spec to appropriate (sampled) spectra----\n",
    "                    spec = find_spec(p, n, m)\n",
    "                    \n",
    "                    \n",
    "                    #---- target selection and normalization ---\n",
    "                    if tp == 'none':\n",
    "                        y = T[target_names.index(t)]\n",
    "                        rand_n = rand_t[target_names.index(t)]  #-- for future use in train-test split\n",
    "                    else:\n",
    "                        y = NT[target_names.index(t)]\n",
    "                        rand_n = rand_nt[target_names.index(t)] #-- for future use in train-test split\n",
    "                       \n",
    "                            \n",
    "                    #---- performing train-test split----------------------\n",
    "                    X_train, X_test, y_train, y_test = train_test_split(spec, y, test_size= tst_siz, random_state=rand_n)\n",
    "                        \n",
    "                        \n",
    "                    #------INITIATING the appropriate models-----------------------------------------------\n",
    "                    #----- PLSR: best parameters, fitting, and prediction\n",
    "                    if m == 'plsr':\n",
    "                        n_com = best_param_PLSR (X_train, y_train, rand_n, max_n_comp)\n",
    "                        Y['n_comp'] = n_com\n",
    "                        Model = PLSRegression(n_components=n_com, scale=True)\n",
    "                    #----- MULTILINEAR:  fitting, and prediction---------- \n",
    "                    elif m == 'mult':\n",
    "                        Model = linear_model.LinearRegression()    \n",
    "                    #----- RANDOM_FOREST:   fitting, and prediction---------- \n",
    "                    elif m == 'randomforest': \n",
    "                        Model = RandomForestRegressor(random_state= 23)    \n",
    "                    #----- CUBIST REGRESSION:    fitting and prediction---------\n",
    "                    elif m == 'cubist':\n",
    "                        Model = Cubist(n_rules = 50, n_committees = 5, random_state = 42)    \n",
    "                    #------ SUPPORT VECTOR MACHINE FOR REGRESSION: fitting and prediction-----------      \n",
    "                    elif m == 'svr': \n",
    "                        Model = SVR()\n",
    "                    #------ RIDGE REGRESSION: fitting and prediction-----------      \n",
    "                    elif m == 'ridge': \n",
    "                        Model = KernelRidge()\n",
    "                    #------ GRADIENT BOOSTING REGRESSION: fitting and prediction-----------      \n",
    "                    else: \n",
    "                        Model = GradientBoostingRegressor()                         \n",
    "                        \n",
    "                    Model.fit(X_train, y_train)\n",
    "                    y_pred = Model.predict(X_test)\n",
    "                    yhat_pred = Model.predict(X_train)\n",
    "                                \n",
    "                    Y['test'] = y_test\n",
    "                    Y['testP'] = y_pred\n",
    "                    Y['train'] = y_train\n",
    "                    Y['trainP'] = yhat_pred\n",
    "                    Y['iqrp_test'] = find_iqrp(y_pred, y_test)\n",
    "                    Y['r2_test'] = find_r2(y_pred, y_test)\n",
    "                    Y['rpd_test'] = find_rpd(y_pred, y_test)\n",
    "                    Y['rmse_test'] = find_rmse(y_pred, y_test)\n",
    "                    \n",
    "                    Y['r2_train'] = find_r2(yhat_pred, y_train)\n",
    "                                                                \n",
    "                                                                         \n",
    "    end = time.time()                            \n",
    "    os.system('say \"your meta tree finished for one more method\"')                            \n",
    "\n",
    "    print('End time - Start time =', (end-start)) \n",
    "    \n",
    "    return (tree.copy())\n"
   ]
  },
  {
   "cell_type": "markdown",
   "metadata": {},
   "source": [
    "## Loading the saved Mtree"
   ]
  },
  {
   "cell_type": "code",
   "execution_count": 9,
   "metadata": {},
   "outputs": [],
   "source": [
    "# with open ('Mtree.pickle', 'rb') as file:\n",
    "#     Mtree = pickle.load(file)"
   ]
  },
  {
   "cell_type": "markdown",
   "metadata": {},
   "source": [
    "## Mtree Building (run below code only once)"
   ]
  },
  {
   "cell_type": "code",
   "execution_count": 10,
   "metadata": {},
   "outputs": [],
   "source": [
    "#max_n_comp = 2\n",
    "tst_siz = 0.20"
   ]
  },
  {
   "cell_type": "code",
   "execution_count": 11,
   "metadata": {},
   "outputs": [],
   "source": [
    "Mtree ={}"
   ]
  },
  {
   "cell_type": "code",
   "execution_count": 12,
   "metadata": {},
   "outputs": [
    {
     "name": "stdout",
     "output_type": "stream",
     "text": [
      "tree for: mult ------> running on: Sand\n",
      "tree for: mult ------> running on: Silt\n",
      "tree for: mult ------> running on: Clay\n",
      "tree for: mult ------> running on: TOC\n",
      "tree for: mult ------> running on: CaCO3\n",
      "End time - Start time = 7.739753007888794\n",
      "tree for: svr ------> running on: Sand\n",
      "tree for: svr ------> running on: Silt\n",
      "tree for: svr ------> running on: Clay\n",
      "tree for: svr ------> running on: TOC\n",
      "tree for: svr ------> running on: CaCO3\n",
      "End time - Start time = 9.999588012695312\n",
      "tree for: cubist ------> running on: Sand\n",
      "tree for: cubist ------> running on: Silt\n",
      "tree for: cubist ------> running on: Clay\n",
      "tree for: cubist ------> running on: TOC\n",
      "tree for: cubist ------> running on: CaCO3\n",
      "End time - Start time = 144.7351574897766\n",
      "tree for: gbrt ------> running on: Sand\n",
      "tree for: gbrt ------> running on: Silt\n",
      "tree for: gbrt ------> running on: Clay\n",
      "tree for: gbrt ------> running on: TOC\n",
      "tree for: gbrt ------> running on: CaCO3\n",
      "End time - Start time = 54.38483738899231\n"
     ]
    }
   ],
   "source": [
    "Mtree['mult'] = build_tree_for ('mult')\n",
    "Mtree['svr'] = build_tree_for ('svr')\n",
    "\n",
    "\n",
    "Mtree['cubist'] = build_tree_for ('cubist')\n",
    "\n",
    "Mtree['gbrt'] = build_tree_for ('gbrt')"
   ]
  },
  {
   "cell_type": "code",
   "execution_count": 13,
   "metadata": {},
   "outputs": [
    {
     "name": "stdout",
     "output_type": "stream",
     "text": [
      "tree for: randomforest ------> running on: Sand\n",
      "tree for: randomforest ------> running on: Silt\n",
      "tree for: randomforest ------> running on: Clay\n",
      "tree for: randomforest ------> running on: TOC\n",
      "tree for: randomforest ------> running on: CaCO3\n",
      "End time - Start time = 124.32634830474854\n"
     ]
    }
   ],
   "source": [
    "Mtree['randomforest'] = build_tree_for ('randomforest')"
   ]
  },
  {
   "cell_type": "code",
   "execution_count": 14,
   "metadata": {},
   "outputs": [
    {
     "name": "stdout",
     "output_type": "stream",
     "text": [
      "tree for: plsr ------> running on: Sand\n"
     ]
    },
    {
     "name": "stderr",
     "output_type": "stream",
     "text": [
      "C:\\Users\\sweta\\AppData\\Roaming\\Python\\Python38\\site-packages\\sklearn\\cross_decomposition\\_pls.py:230: FutureWarning: As of version 0.24, n_components(3) should be in [1, n_features].n_components=2 will be used instead. In version 1.1 (renaming of 0.26), an error will be raised.\n",
      "  warnings.warn(\n",
      "C:\\Users\\sweta\\AppData\\Roaming\\Python\\Python38\\site-packages\\sklearn\\cross_decomposition\\_pls.py:230: FutureWarning: As of version 0.24, n_components(4) should be in [1, n_features].n_components=2 will be used instead. In version 1.1 (renaming of 0.26), an error will be raised.\n",
      "  warnings.warn(\n",
      "C:\\Users\\sweta\\AppData\\Roaming\\Python\\Python38\\site-packages\\sklearn\\cross_decomposition\\_pls.py:230: FutureWarning: As of version 0.24, n_components(5) should be in [1, n_features].n_components=2 will be used instead. In version 1.1 (renaming of 0.26), an error will be raised.\n",
      "  warnings.warn(\n",
      "C:\\Users\\sweta\\AppData\\Roaming\\Python\\Python38\\site-packages\\sklearn\\cross_decomposition\\_pls.py:230: FutureWarning: As of version 0.24, n_components(4) should be in [1, n_features].n_components=3 will be used instead. In version 1.1 (renaming of 0.26), an error will be raised.\n",
      "  warnings.warn(\n",
      "C:\\Users\\sweta\\AppData\\Roaming\\Python\\Python38\\site-packages\\sklearn\\cross_decomposition\\_pls.py:230: FutureWarning: As of version 0.24, n_components(5) should be in [1, n_features].n_components=3 will be used instead. In version 1.1 (renaming of 0.26), an error will be raised.\n",
      "  warnings.warn(\n",
      "C:\\Users\\sweta\\AppData\\Roaming\\Python\\Python38\\site-packages\\sklearn\\cross_decomposition\\_pls.py:230: FutureWarning: As of version 0.24, n_components(3) should be in [1, n_features].n_components=2 will be used instead. In version 1.1 (renaming of 0.26), an error will be raised.\n",
      "  warnings.warn(\n",
      "C:\\Users\\sweta\\AppData\\Roaming\\Python\\Python38\\site-packages\\sklearn\\cross_decomposition\\_pls.py:230: FutureWarning: As of version 0.24, n_components(4) should be in [1, n_features].n_components=2 will be used instead. In version 1.1 (renaming of 0.26), an error will be raised.\n",
      "  warnings.warn(\n",
      "C:\\Users\\sweta\\AppData\\Roaming\\Python\\Python38\\site-packages\\sklearn\\cross_decomposition\\_pls.py:230: FutureWarning: As of version 0.24, n_components(5) should be in [1, n_features].n_components=2 will be used instead. In version 1.1 (renaming of 0.26), an error will be raised.\n",
      "  warnings.warn(\n",
      "C:\\Users\\sweta\\AppData\\Roaming\\Python\\Python38\\site-packages\\sklearn\\cross_decomposition\\_pls.py:230: FutureWarning: As of version 0.24, n_components(4) should be in [1, n_features].n_components=3 will be used instead. In version 1.1 (renaming of 0.26), an error will be raised.\n",
      "  warnings.warn(\n",
      "C:\\Users\\sweta\\AppData\\Roaming\\Python\\Python38\\site-packages\\sklearn\\cross_decomposition\\_pls.py:230: FutureWarning: As of version 0.24, n_components(5) should be in [1, n_features].n_components=3 will be used instead. In version 1.1 (renaming of 0.26), an error will be raised.\n",
      "  warnings.warn(\n",
      "C:\\Users\\sweta\\AppData\\Roaming\\Python\\Python38\\site-packages\\sklearn\\cross_decomposition\\_pls.py:230: FutureWarning: As of version 0.24, n_components(3) should be in [1, n_features].n_components=2 will be used instead. In version 1.1 (renaming of 0.26), an error will be raised.\n",
      "  warnings.warn(\n",
      "C:\\Users\\sweta\\AppData\\Roaming\\Python\\Python38\\site-packages\\sklearn\\cross_decomposition\\_pls.py:230: FutureWarning: As of version 0.24, n_components(4) should be in [1, n_features].n_components=2 will be used instead. In version 1.1 (renaming of 0.26), an error will be raised.\n",
      "  warnings.warn(\n",
      "C:\\Users\\sweta\\AppData\\Roaming\\Python\\Python38\\site-packages\\sklearn\\cross_decomposition\\_pls.py:230: FutureWarning: As of version 0.24, n_components(5) should be in [1, n_features].n_components=2 will be used instead. In version 1.1 (renaming of 0.26), an error will be raised.\n",
      "  warnings.warn(\n",
      "C:\\Users\\sweta\\AppData\\Roaming\\Python\\Python38\\site-packages\\sklearn\\cross_decomposition\\_pls.py:230: FutureWarning: As of version 0.24, n_components(4) should be in [1, n_features].n_components=3 will be used instead. In version 1.1 (renaming of 0.26), an error will be raised.\n",
      "  warnings.warn(\n",
      "C:\\Users\\sweta\\AppData\\Roaming\\Python\\Python38\\site-packages\\sklearn\\cross_decomposition\\_pls.py:230: FutureWarning: As of version 0.24, n_components(5) should be in [1, n_features].n_components=3 will be used instead. In version 1.1 (renaming of 0.26), an error will be raised.\n",
      "  warnings.warn(\n",
      "C:\\Users\\sweta\\AppData\\Roaming\\Python\\Python38\\site-packages\\sklearn\\cross_decomposition\\_pls.py:230: FutureWarning: As of version 0.24, n_components(3) should be in [1, n_features].n_components=2 will be used instead. In version 1.1 (renaming of 0.26), an error will be raised.\n",
      "  warnings.warn(\n",
      "C:\\Users\\sweta\\AppData\\Roaming\\Python\\Python38\\site-packages\\sklearn\\cross_decomposition\\_pls.py:230: FutureWarning: As of version 0.24, n_components(4) should be in [1, n_features].n_components=2 will be used instead. In version 1.1 (renaming of 0.26), an error will be raised.\n",
      "  warnings.warn(\n",
      "C:\\Users\\sweta\\AppData\\Roaming\\Python\\Python38\\site-packages\\sklearn\\cross_decomposition\\_pls.py:230: FutureWarning: As of version 0.24, n_components(5) should be in [1, n_features].n_components=2 will be used instead. In version 1.1 (renaming of 0.26), an error will be raised.\n",
      "  warnings.warn(\n",
      "C:\\Users\\sweta\\AppData\\Roaming\\Python\\Python38\\site-packages\\sklearn\\cross_decomposition\\_pls.py:230: FutureWarning: As of version 0.24, n_components(4) should be in [1, n_features].n_components=3 will be used instead. In version 1.1 (renaming of 0.26), an error will be raised.\n",
      "  warnings.warn(\n",
      "C:\\Users\\sweta\\AppData\\Roaming\\Python\\Python38\\site-packages\\sklearn\\cross_decomposition\\_pls.py:230: FutureWarning: As of version 0.24, n_components(5) should be in [1, n_features].n_components=3 will be used instead. In version 1.1 (renaming of 0.26), an error will be raised.\n",
      "  warnings.warn(\n"
     ]
    },
    {
     "name": "stdout",
     "output_type": "stream",
     "text": [
      "tree for: plsr ------> running on: Silt\n"
     ]
    },
    {
     "name": "stderr",
     "output_type": "stream",
     "text": [
      "C:\\Users\\sweta\\AppData\\Roaming\\Python\\Python38\\site-packages\\sklearn\\cross_decomposition\\_pls.py:230: FutureWarning: As of version 0.24, n_components(3) should be in [1, n_features].n_components=2 will be used instead. In version 1.1 (renaming of 0.26), an error will be raised.\n",
      "  warnings.warn(\n",
      "C:\\Users\\sweta\\AppData\\Roaming\\Python\\Python38\\site-packages\\sklearn\\cross_decomposition\\_pls.py:230: FutureWarning: As of version 0.24, n_components(4) should be in [1, n_features].n_components=2 will be used instead. In version 1.1 (renaming of 0.26), an error will be raised.\n",
      "  warnings.warn(\n",
      "C:\\Users\\sweta\\AppData\\Roaming\\Python\\Python38\\site-packages\\sklearn\\cross_decomposition\\_pls.py:230: FutureWarning: As of version 0.24, n_components(5) should be in [1, n_features].n_components=2 will be used instead. In version 1.1 (renaming of 0.26), an error will be raised.\n",
      "  warnings.warn(\n",
      "C:\\Users\\sweta\\AppData\\Roaming\\Python\\Python38\\site-packages\\sklearn\\cross_decomposition\\_pls.py:230: FutureWarning: As of version 0.24, n_components(4) should be in [1, n_features].n_components=3 will be used instead. In version 1.1 (renaming of 0.26), an error will be raised.\n",
      "  warnings.warn(\n",
      "C:\\Users\\sweta\\AppData\\Roaming\\Python\\Python38\\site-packages\\sklearn\\cross_decomposition\\_pls.py:230: FutureWarning: As of version 0.24, n_components(5) should be in [1, n_features].n_components=3 will be used instead. In version 1.1 (renaming of 0.26), an error will be raised.\n",
      "  warnings.warn(\n",
      "C:\\Users\\sweta\\AppData\\Roaming\\Python\\Python38\\site-packages\\sklearn\\cross_decomposition\\_pls.py:230: FutureWarning: As of version 0.24, n_components(3) should be in [1, n_features].n_components=2 will be used instead. In version 1.1 (renaming of 0.26), an error will be raised.\n",
      "  warnings.warn(\n",
      "C:\\Users\\sweta\\AppData\\Roaming\\Python\\Python38\\site-packages\\sklearn\\cross_decomposition\\_pls.py:230: FutureWarning: As of version 0.24, n_components(4) should be in [1, n_features].n_components=2 will be used instead. In version 1.1 (renaming of 0.26), an error will be raised.\n",
      "  warnings.warn(\n",
      "C:\\Users\\sweta\\AppData\\Roaming\\Python\\Python38\\site-packages\\sklearn\\cross_decomposition\\_pls.py:230: FutureWarning: As of version 0.24, n_components(5) should be in [1, n_features].n_components=2 will be used instead. In version 1.1 (renaming of 0.26), an error will be raised.\n",
      "  warnings.warn(\n",
      "C:\\Users\\sweta\\AppData\\Roaming\\Python\\Python38\\site-packages\\sklearn\\cross_decomposition\\_pls.py:230: FutureWarning: As of version 0.24, n_components(4) should be in [1, n_features].n_components=3 will be used instead. In version 1.1 (renaming of 0.26), an error will be raised.\n",
      "  warnings.warn(\n",
      "C:\\Users\\sweta\\AppData\\Roaming\\Python\\Python38\\site-packages\\sklearn\\cross_decomposition\\_pls.py:230: FutureWarning: As of version 0.24, n_components(5) should be in [1, n_features].n_components=3 will be used instead. In version 1.1 (renaming of 0.26), an error will be raised.\n",
      "  warnings.warn(\n",
      "C:\\Users\\sweta\\AppData\\Roaming\\Python\\Python38\\site-packages\\sklearn\\cross_decomposition\\_pls.py:230: FutureWarning: As of version 0.24, n_components(3) should be in [1, n_features].n_components=2 will be used instead. In version 1.1 (renaming of 0.26), an error will be raised.\n",
      "  warnings.warn(\n",
      "C:\\Users\\sweta\\AppData\\Roaming\\Python\\Python38\\site-packages\\sklearn\\cross_decomposition\\_pls.py:230: FutureWarning: As of version 0.24, n_components(4) should be in [1, n_features].n_components=2 will be used instead. In version 1.1 (renaming of 0.26), an error will be raised.\n",
      "  warnings.warn(\n",
      "C:\\Users\\sweta\\AppData\\Roaming\\Python\\Python38\\site-packages\\sklearn\\cross_decomposition\\_pls.py:230: FutureWarning: As of version 0.24, n_components(5) should be in [1, n_features].n_components=2 will be used instead. In version 1.1 (renaming of 0.26), an error will be raised.\n",
      "  warnings.warn(\n",
      "C:\\Users\\sweta\\AppData\\Roaming\\Python\\Python38\\site-packages\\sklearn\\cross_decomposition\\_pls.py:230: FutureWarning: As of version 0.24, n_components(4) should be in [1, n_features].n_components=3 will be used instead. In version 1.1 (renaming of 0.26), an error will be raised.\n",
      "  warnings.warn(\n",
      "C:\\Users\\sweta\\AppData\\Roaming\\Python\\Python38\\site-packages\\sklearn\\cross_decomposition\\_pls.py:230: FutureWarning: As of version 0.24, n_components(5) should be in [1, n_features].n_components=3 will be used instead. In version 1.1 (renaming of 0.26), an error will be raised.\n",
      "  warnings.warn(\n",
      "C:\\Users\\sweta\\AppData\\Roaming\\Python\\Python38\\site-packages\\sklearn\\cross_decomposition\\_pls.py:230: FutureWarning: As of version 0.24, n_components(3) should be in [1, n_features].n_components=2 will be used instead. In version 1.1 (renaming of 0.26), an error will be raised.\n",
      "  warnings.warn(\n",
      "C:\\Users\\sweta\\AppData\\Roaming\\Python\\Python38\\site-packages\\sklearn\\cross_decomposition\\_pls.py:230: FutureWarning: As of version 0.24, n_components(4) should be in [1, n_features].n_components=2 will be used instead. In version 1.1 (renaming of 0.26), an error will be raised.\n",
      "  warnings.warn(\n",
      "C:\\Users\\sweta\\AppData\\Roaming\\Python\\Python38\\site-packages\\sklearn\\cross_decomposition\\_pls.py:230: FutureWarning: As of version 0.24, n_components(5) should be in [1, n_features].n_components=2 will be used instead. In version 1.1 (renaming of 0.26), an error will be raised.\n",
      "  warnings.warn(\n",
      "C:\\Users\\sweta\\AppData\\Roaming\\Python\\Python38\\site-packages\\sklearn\\cross_decomposition\\_pls.py:230: FutureWarning: As of version 0.24, n_components(4) should be in [1, n_features].n_components=3 will be used instead. In version 1.1 (renaming of 0.26), an error will be raised.\n",
      "  warnings.warn(\n",
      "C:\\Users\\sweta\\AppData\\Roaming\\Python\\Python38\\site-packages\\sklearn\\cross_decomposition\\_pls.py:230: FutureWarning: As of version 0.24, n_components(5) should be in [1, n_features].n_components=3 will be used instead. In version 1.1 (renaming of 0.26), an error will be raised.\n",
      "  warnings.warn(\n"
     ]
    },
    {
     "name": "stdout",
     "output_type": "stream",
     "text": [
      "tree for: plsr ------> running on: Clay\n"
     ]
    },
    {
     "name": "stderr",
     "output_type": "stream",
     "text": [
      "C:\\Users\\sweta\\AppData\\Roaming\\Python\\Python38\\site-packages\\sklearn\\cross_decomposition\\_pls.py:230: FutureWarning: As of version 0.24, n_components(3) should be in [1, n_features].n_components=2 will be used instead. In version 1.1 (renaming of 0.26), an error will be raised.\n",
      "  warnings.warn(\n",
      "C:\\Users\\sweta\\AppData\\Roaming\\Python\\Python38\\site-packages\\sklearn\\cross_decomposition\\_pls.py:230: FutureWarning: As of version 0.24, n_components(4) should be in [1, n_features].n_components=2 will be used instead. In version 1.1 (renaming of 0.26), an error will be raised.\n",
      "  warnings.warn(\n",
      "C:\\Users\\sweta\\AppData\\Roaming\\Python\\Python38\\site-packages\\sklearn\\cross_decomposition\\_pls.py:230: FutureWarning: As of version 0.24, n_components(5) should be in [1, n_features].n_components=2 will be used instead. In version 1.1 (renaming of 0.26), an error will be raised.\n",
      "  warnings.warn(\n",
      "C:\\Users\\sweta\\AppData\\Roaming\\Python\\Python38\\site-packages\\sklearn\\cross_decomposition\\_pls.py:230: FutureWarning: As of version 0.24, n_components(4) should be in [1, n_features].n_components=3 will be used instead. In version 1.1 (renaming of 0.26), an error will be raised.\n",
      "  warnings.warn(\n",
      "C:\\Users\\sweta\\AppData\\Roaming\\Python\\Python38\\site-packages\\sklearn\\cross_decomposition\\_pls.py:230: FutureWarning: As of version 0.24, n_components(5) should be in [1, n_features].n_components=3 will be used instead. In version 1.1 (renaming of 0.26), an error will be raised.\n",
      "  warnings.warn(\n",
      "C:\\Users\\sweta\\AppData\\Roaming\\Python\\Python38\\site-packages\\sklearn\\cross_decomposition\\_pls.py:230: FutureWarning: As of version 0.24, n_components(3) should be in [1, n_features].n_components=2 will be used instead. In version 1.1 (renaming of 0.26), an error will be raised.\n",
      "  warnings.warn(\n",
      "C:\\Users\\sweta\\AppData\\Roaming\\Python\\Python38\\site-packages\\sklearn\\cross_decomposition\\_pls.py:230: FutureWarning: As of version 0.24, n_components(4) should be in [1, n_features].n_components=2 will be used instead. In version 1.1 (renaming of 0.26), an error will be raised.\n",
      "  warnings.warn(\n",
      "C:\\Users\\sweta\\AppData\\Roaming\\Python\\Python38\\site-packages\\sklearn\\cross_decomposition\\_pls.py:230: FutureWarning: As of version 0.24, n_components(5) should be in [1, n_features].n_components=2 will be used instead. In version 1.1 (renaming of 0.26), an error will be raised.\n",
      "  warnings.warn(\n",
      "C:\\Users\\sweta\\AppData\\Roaming\\Python\\Python38\\site-packages\\sklearn\\cross_decomposition\\_pls.py:230: FutureWarning: As of version 0.24, n_components(4) should be in [1, n_features].n_components=3 will be used instead. In version 1.1 (renaming of 0.26), an error will be raised.\n",
      "  warnings.warn(\n",
      "C:\\Users\\sweta\\AppData\\Roaming\\Python\\Python38\\site-packages\\sklearn\\cross_decomposition\\_pls.py:230: FutureWarning: As of version 0.24, n_components(5) should be in [1, n_features].n_components=3 will be used instead. In version 1.1 (renaming of 0.26), an error will be raised.\n",
      "  warnings.warn(\n",
      "C:\\Users\\sweta\\AppData\\Roaming\\Python\\Python38\\site-packages\\sklearn\\cross_decomposition\\_pls.py:230: FutureWarning: As of version 0.24, n_components(3) should be in [1, n_features].n_components=2 will be used instead. In version 1.1 (renaming of 0.26), an error will be raised.\n",
      "  warnings.warn(\n",
      "C:\\Users\\sweta\\AppData\\Roaming\\Python\\Python38\\site-packages\\sklearn\\cross_decomposition\\_pls.py:230: FutureWarning: As of version 0.24, n_components(4) should be in [1, n_features].n_components=2 will be used instead. In version 1.1 (renaming of 0.26), an error will be raised.\n",
      "  warnings.warn(\n",
      "C:\\Users\\sweta\\AppData\\Roaming\\Python\\Python38\\site-packages\\sklearn\\cross_decomposition\\_pls.py:230: FutureWarning: As of version 0.24, n_components(5) should be in [1, n_features].n_components=2 will be used instead. In version 1.1 (renaming of 0.26), an error will be raised.\n",
      "  warnings.warn(\n",
      "C:\\Users\\sweta\\AppData\\Roaming\\Python\\Python38\\site-packages\\sklearn\\cross_decomposition\\_pls.py:230: FutureWarning: As of version 0.24, n_components(4) should be in [1, n_features].n_components=3 will be used instead. In version 1.1 (renaming of 0.26), an error will be raised.\n",
      "  warnings.warn(\n",
      "C:\\Users\\sweta\\AppData\\Roaming\\Python\\Python38\\site-packages\\sklearn\\cross_decomposition\\_pls.py:230: FutureWarning: As of version 0.24, n_components(5) should be in [1, n_features].n_components=3 will be used instead. In version 1.1 (renaming of 0.26), an error will be raised.\n",
      "  warnings.warn(\n",
      "C:\\Users\\sweta\\AppData\\Roaming\\Python\\Python38\\site-packages\\sklearn\\cross_decomposition\\_pls.py:230: FutureWarning: As of version 0.24, n_components(3) should be in [1, n_features].n_components=2 will be used instead. In version 1.1 (renaming of 0.26), an error will be raised.\n",
      "  warnings.warn(\n",
      "C:\\Users\\sweta\\AppData\\Roaming\\Python\\Python38\\site-packages\\sklearn\\cross_decomposition\\_pls.py:230: FutureWarning: As of version 0.24, n_components(4) should be in [1, n_features].n_components=2 will be used instead. In version 1.1 (renaming of 0.26), an error will be raised.\n",
      "  warnings.warn(\n",
      "C:\\Users\\sweta\\AppData\\Roaming\\Python\\Python38\\site-packages\\sklearn\\cross_decomposition\\_pls.py:230: FutureWarning: As of version 0.24, n_components(5) should be in [1, n_features].n_components=2 will be used instead. In version 1.1 (renaming of 0.26), an error will be raised.\n",
      "  warnings.warn(\n",
      "C:\\Users\\sweta\\AppData\\Roaming\\Python\\Python38\\site-packages\\sklearn\\cross_decomposition\\_pls.py:230: FutureWarning: As of version 0.24, n_components(4) should be in [1, n_features].n_components=3 will be used instead. In version 1.1 (renaming of 0.26), an error will be raised.\n",
      "  warnings.warn(\n",
      "C:\\Users\\sweta\\AppData\\Roaming\\Python\\Python38\\site-packages\\sklearn\\cross_decomposition\\_pls.py:230: FutureWarning: As of version 0.24, n_components(5) should be in [1, n_features].n_components=3 will be used instead. In version 1.1 (renaming of 0.26), an error will be raised.\n",
      "  warnings.warn(\n"
     ]
    },
    {
     "name": "stdout",
     "output_type": "stream",
     "text": [
      "tree for: plsr ------> running on: TOC\n"
     ]
    },
    {
     "name": "stderr",
     "output_type": "stream",
     "text": [
      "C:\\Users\\sweta\\AppData\\Roaming\\Python\\Python38\\site-packages\\sklearn\\cross_decomposition\\_pls.py:230: FutureWarning: As of version 0.24, n_components(3) should be in [1, n_features].n_components=2 will be used instead. In version 1.1 (renaming of 0.26), an error will be raised.\n",
      "  warnings.warn(\n",
      "C:\\Users\\sweta\\AppData\\Roaming\\Python\\Python38\\site-packages\\sklearn\\cross_decomposition\\_pls.py:230: FutureWarning: As of version 0.24, n_components(4) should be in [1, n_features].n_components=2 will be used instead. In version 1.1 (renaming of 0.26), an error will be raised.\n",
      "  warnings.warn(\n",
      "C:\\Users\\sweta\\AppData\\Roaming\\Python\\Python38\\site-packages\\sklearn\\cross_decomposition\\_pls.py:230: FutureWarning: As of version 0.24, n_components(5) should be in [1, n_features].n_components=2 will be used instead. In version 1.1 (renaming of 0.26), an error will be raised.\n",
      "  warnings.warn(\n",
      "C:\\Users\\sweta\\AppData\\Roaming\\Python\\Python38\\site-packages\\sklearn\\cross_decomposition\\_pls.py:230: FutureWarning: As of version 0.24, n_components(4) should be in [1, n_features].n_components=3 will be used instead. In version 1.1 (renaming of 0.26), an error will be raised.\n",
      "  warnings.warn(\n",
      "C:\\Users\\sweta\\AppData\\Roaming\\Python\\Python38\\site-packages\\sklearn\\cross_decomposition\\_pls.py:230: FutureWarning: As of version 0.24, n_components(5) should be in [1, n_features].n_components=3 will be used instead. In version 1.1 (renaming of 0.26), an error will be raised.\n",
      "  warnings.warn(\n",
      "C:\\Users\\sweta\\AppData\\Roaming\\Python\\Python38\\site-packages\\sklearn\\cross_decomposition\\_pls.py:230: FutureWarning: As of version 0.24, n_components(3) should be in [1, n_features].n_components=2 will be used instead. In version 1.1 (renaming of 0.26), an error will be raised.\n",
      "  warnings.warn(\n",
      "C:\\Users\\sweta\\AppData\\Roaming\\Python\\Python38\\site-packages\\sklearn\\cross_decomposition\\_pls.py:230: FutureWarning: As of version 0.24, n_components(4) should be in [1, n_features].n_components=2 will be used instead. In version 1.1 (renaming of 0.26), an error will be raised.\n",
      "  warnings.warn(\n",
      "C:\\Users\\sweta\\AppData\\Roaming\\Python\\Python38\\site-packages\\sklearn\\cross_decomposition\\_pls.py:230: FutureWarning: As of version 0.24, n_components(5) should be in [1, n_features].n_components=2 will be used instead. In version 1.1 (renaming of 0.26), an error will be raised.\n",
      "  warnings.warn(\n",
      "C:\\Users\\sweta\\AppData\\Roaming\\Python\\Python38\\site-packages\\sklearn\\cross_decomposition\\_pls.py:230: FutureWarning: As of version 0.24, n_components(4) should be in [1, n_features].n_components=3 will be used instead. In version 1.1 (renaming of 0.26), an error will be raised.\n",
      "  warnings.warn(\n",
      "C:\\Users\\sweta\\AppData\\Roaming\\Python\\Python38\\site-packages\\sklearn\\cross_decomposition\\_pls.py:230: FutureWarning: As of version 0.24, n_components(5) should be in [1, n_features].n_components=3 will be used instead. In version 1.1 (renaming of 0.26), an error will be raised.\n",
      "  warnings.warn(\n",
      "C:\\Users\\sweta\\AppData\\Roaming\\Python\\Python38\\site-packages\\sklearn\\cross_decomposition\\_pls.py:230: FutureWarning: As of version 0.24, n_components(3) should be in [1, n_features].n_components=2 will be used instead. In version 1.1 (renaming of 0.26), an error will be raised.\n",
      "  warnings.warn(\n",
      "C:\\Users\\sweta\\AppData\\Roaming\\Python\\Python38\\site-packages\\sklearn\\cross_decomposition\\_pls.py:230: FutureWarning: As of version 0.24, n_components(4) should be in [1, n_features].n_components=2 will be used instead. In version 1.1 (renaming of 0.26), an error will be raised.\n",
      "  warnings.warn(\n",
      "C:\\Users\\sweta\\AppData\\Roaming\\Python\\Python38\\site-packages\\sklearn\\cross_decomposition\\_pls.py:230: FutureWarning: As of version 0.24, n_components(5) should be in [1, n_features].n_components=2 will be used instead. In version 1.1 (renaming of 0.26), an error will be raised.\n",
      "  warnings.warn(\n",
      "C:\\Users\\sweta\\AppData\\Roaming\\Python\\Python38\\site-packages\\sklearn\\cross_decomposition\\_pls.py:230: FutureWarning: As of version 0.24, n_components(4) should be in [1, n_features].n_components=3 will be used instead. In version 1.1 (renaming of 0.26), an error will be raised.\n",
      "  warnings.warn(\n",
      "C:\\Users\\sweta\\AppData\\Roaming\\Python\\Python38\\site-packages\\sklearn\\cross_decomposition\\_pls.py:230: FutureWarning: As of version 0.24, n_components(5) should be in [1, n_features].n_components=3 will be used instead. In version 1.1 (renaming of 0.26), an error will be raised.\n",
      "  warnings.warn(\n",
      "C:\\Users\\sweta\\AppData\\Roaming\\Python\\Python38\\site-packages\\sklearn\\cross_decomposition\\_pls.py:230: FutureWarning: As of version 0.24, n_components(3) should be in [1, n_features].n_components=2 will be used instead. In version 1.1 (renaming of 0.26), an error will be raised.\n",
      "  warnings.warn(\n",
      "C:\\Users\\sweta\\AppData\\Roaming\\Python\\Python38\\site-packages\\sklearn\\cross_decomposition\\_pls.py:230: FutureWarning: As of version 0.24, n_components(4) should be in [1, n_features].n_components=2 will be used instead. In version 1.1 (renaming of 0.26), an error will be raised.\n",
      "  warnings.warn(\n",
      "C:\\Users\\sweta\\AppData\\Roaming\\Python\\Python38\\site-packages\\sklearn\\cross_decomposition\\_pls.py:230: FutureWarning: As of version 0.24, n_components(5) should be in [1, n_features].n_components=2 will be used instead. In version 1.1 (renaming of 0.26), an error will be raised.\n",
      "  warnings.warn(\n",
      "C:\\Users\\sweta\\AppData\\Roaming\\Python\\Python38\\site-packages\\sklearn\\cross_decomposition\\_pls.py:230: FutureWarning: As of version 0.24, n_components(4) should be in [1, n_features].n_components=3 will be used instead. In version 1.1 (renaming of 0.26), an error will be raised.\n",
      "  warnings.warn(\n",
      "C:\\Users\\sweta\\AppData\\Roaming\\Python\\Python38\\site-packages\\sklearn\\cross_decomposition\\_pls.py:230: FutureWarning: As of version 0.24, n_components(5) should be in [1, n_features].n_components=3 will be used instead. In version 1.1 (renaming of 0.26), an error will be raised.\n",
      "  warnings.warn(\n"
     ]
    },
    {
     "name": "stdout",
     "output_type": "stream",
     "text": [
      "tree for: plsr ------> running on: CaCO3\n"
     ]
    },
    {
     "name": "stderr",
     "output_type": "stream",
     "text": [
      "C:\\Users\\sweta\\AppData\\Roaming\\Python\\Python38\\site-packages\\sklearn\\cross_decomposition\\_pls.py:230: FutureWarning: As of version 0.24, n_components(3) should be in [1, n_features].n_components=2 will be used instead. In version 1.1 (renaming of 0.26), an error will be raised.\n",
      "  warnings.warn(\n",
      "C:\\Users\\sweta\\AppData\\Roaming\\Python\\Python38\\site-packages\\sklearn\\cross_decomposition\\_pls.py:230: FutureWarning: As of version 0.24, n_components(4) should be in [1, n_features].n_components=2 will be used instead. In version 1.1 (renaming of 0.26), an error will be raised.\n",
      "  warnings.warn(\n",
      "C:\\Users\\sweta\\AppData\\Roaming\\Python\\Python38\\site-packages\\sklearn\\cross_decomposition\\_pls.py:230: FutureWarning: As of version 0.24, n_components(5) should be in [1, n_features].n_components=2 will be used instead. In version 1.1 (renaming of 0.26), an error will be raised.\n",
      "  warnings.warn(\n",
      "C:\\Users\\sweta\\AppData\\Roaming\\Python\\Python38\\site-packages\\sklearn\\cross_decomposition\\_pls.py:230: FutureWarning: As of version 0.24, n_components(4) should be in [1, n_features].n_components=3 will be used instead. In version 1.1 (renaming of 0.26), an error will be raised.\n",
      "  warnings.warn(\n",
      "C:\\Users\\sweta\\AppData\\Roaming\\Python\\Python38\\site-packages\\sklearn\\cross_decomposition\\_pls.py:230: FutureWarning: As of version 0.24, n_components(5) should be in [1, n_features].n_components=3 will be used instead. In version 1.1 (renaming of 0.26), an error will be raised.\n",
      "  warnings.warn(\n",
      "C:\\Users\\sweta\\AppData\\Roaming\\Python\\Python38\\site-packages\\sklearn\\cross_decomposition\\_pls.py:230: FutureWarning: As of version 0.24, n_components(3) should be in [1, n_features].n_components=2 will be used instead. In version 1.1 (renaming of 0.26), an error will be raised.\n",
      "  warnings.warn(\n",
      "C:\\Users\\sweta\\AppData\\Roaming\\Python\\Python38\\site-packages\\sklearn\\cross_decomposition\\_pls.py:230: FutureWarning: As of version 0.24, n_components(4) should be in [1, n_features].n_components=2 will be used instead. In version 1.1 (renaming of 0.26), an error will be raised.\n",
      "  warnings.warn(\n",
      "C:\\Users\\sweta\\AppData\\Roaming\\Python\\Python38\\site-packages\\sklearn\\cross_decomposition\\_pls.py:230: FutureWarning: As of version 0.24, n_components(5) should be in [1, n_features].n_components=2 will be used instead. In version 1.1 (renaming of 0.26), an error will be raised.\n",
      "  warnings.warn(\n",
      "C:\\Users\\sweta\\AppData\\Roaming\\Python\\Python38\\site-packages\\sklearn\\cross_decomposition\\_pls.py:230: FutureWarning: As of version 0.24, n_components(4) should be in [1, n_features].n_components=3 will be used instead. In version 1.1 (renaming of 0.26), an error will be raised.\n",
      "  warnings.warn(\n",
      "C:\\Users\\sweta\\AppData\\Roaming\\Python\\Python38\\site-packages\\sklearn\\cross_decomposition\\_pls.py:230: FutureWarning: As of version 0.24, n_components(5) should be in [1, n_features].n_components=3 will be used instead. In version 1.1 (renaming of 0.26), an error will be raised.\n",
      "  warnings.warn(\n",
      "C:\\Users\\sweta\\AppData\\Roaming\\Python\\Python38\\site-packages\\sklearn\\cross_decomposition\\_pls.py:230: FutureWarning: As of version 0.24, n_components(3) should be in [1, n_features].n_components=2 will be used instead. In version 1.1 (renaming of 0.26), an error will be raised.\n",
      "  warnings.warn(\n",
      "C:\\Users\\sweta\\AppData\\Roaming\\Python\\Python38\\site-packages\\sklearn\\cross_decomposition\\_pls.py:230: FutureWarning: As of version 0.24, n_components(4) should be in [1, n_features].n_components=2 will be used instead. In version 1.1 (renaming of 0.26), an error will be raised.\n",
      "  warnings.warn(\n",
      "C:\\Users\\sweta\\AppData\\Roaming\\Python\\Python38\\site-packages\\sklearn\\cross_decomposition\\_pls.py:230: FutureWarning: As of version 0.24, n_components(5) should be in [1, n_features].n_components=2 will be used instead. In version 1.1 (renaming of 0.26), an error will be raised.\n",
      "  warnings.warn(\n",
      "C:\\Users\\sweta\\AppData\\Roaming\\Python\\Python38\\site-packages\\sklearn\\cross_decomposition\\_pls.py:230: FutureWarning: As of version 0.24, n_components(4) should be in [1, n_features].n_components=3 will be used instead. In version 1.1 (renaming of 0.26), an error will be raised.\n",
      "  warnings.warn(\n",
      "C:\\Users\\sweta\\AppData\\Roaming\\Python\\Python38\\site-packages\\sklearn\\cross_decomposition\\_pls.py:230: FutureWarning: As of version 0.24, n_components(5) should be in [1, n_features].n_components=3 will be used instead. In version 1.1 (renaming of 0.26), an error will be raised.\n",
      "  warnings.warn(\n",
      "C:\\Users\\sweta\\AppData\\Roaming\\Python\\Python38\\site-packages\\sklearn\\cross_decomposition\\_pls.py:230: FutureWarning: As of version 0.24, n_components(3) should be in [1, n_features].n_components=2 will be used instead. In version 1.1 (renaming of 0.26), an error will be raised.\n",
      "  warnings.warn(\n",
      "C:\\Users\\sweta\\AppData\\Roaming\\Python\\Python38\\site-packages\\sklearn\\cross_decomposition\\_pls.py:230: FutureWarning: As of version 0.24, n_components(4) should be in [1, n_features].n_components=2 will be used instead. In version 1.1 (renaming of 0.26), an error will be raised.\n",
      "  warnings.warn(\n",
      "C:\\Users\\sweta\\AppData\\Roaming\\Python\\Python38\\site-packages\\sklearn\\cross_decomposition\\_pls.py:230: FutureWarning: As of version 0.24, n_components(5) should be in [1, n_features].n_components=2 will be used instead. In version 1.1 (renaming of 0.26), an error will be raised.\n",
      "  warnings.warn(\n",
      "C:\\Users\\sweta\\AppData\\Roaming\\Python\\Python38\\site-packages\\sklearn\\cross_decomposition\\_pls.py:230: FutureWarning: As of version 0.24, n_components(4) should be in [1, n_features].n_components=3 will be used instead. In version 1.1 (renaming of 0.26), an error will be raised.\n",
      "  warnings.warn(\n",
      "C:\\Users\\sweta\\AppData\\Roaming\\Python\\Python38\\site-packages\\sklearn\\cross_decomposition\\_pls.py:230: FutureWarning: As of version 0.24, n_components(5) should be in [1, n_features].n_components=3 will be used instead. In version 1.1 (renaming of 0.26), an error will be raised.\n",
      "  warnings.warn(\n"
     ]
    },
    {
     "name": "stdout",
     "output_type": "stream",
     "text": [
      "End time - Start time = 38.692073345184326\n"
     ]
    }
   ],
   "source": [
    "max_n_comp = 6\n",
    "Mtree['plsr'] = build_tree_for ('plsr')"
   ]
  },
  {
   "cell_type": "code",
   "execution_count": 15,
   "metadata": {},
   "outputs": [
    {
     "name": "stdout",
     "output_type": "stream",
     "text": [
      "tree for: ridge ------> running on: Sand\n",
      "tree for: ridge ------> running on: Silt\n",
      "tree for: ridge ------> running on: Clay\n",
      "tree for: ridge ------> running on: TOC\n",
      "tree for: ridge ------> running on: CaCO3\n",
      "End time - Start time = 7.128020286560059\n"
     ]
    }
   ],
   "source": [
    "Mtree['ridge'] = build_tree_for ('ridge')"
   ]
  },
  {
   "cell_type": "markdown",
   "metadata": {},
   "source": [
    "## Saving the Mtree"
   ]
  },
  {
   "cell_type": "code",
   "execution_count": 16,
   "metadata": {},
   "outputs": [],
   "source": [
    "with open ('Mtree.pickle', 'wb') as file:\n",
    "    pickle.dump(Mtree, file)"
   ]
  },
  {
   "cell_type": "markdown",
   "metadata": {},
   "source": [
    "## Best of all worlds"
   ]
  },
  {
   "cell_type": "code",
   "execution_count": 17,
   "metadata": {},
   "outputs": [],
   "source": [
    "def best_score_on (Mtree, target, method, scorer):\n",
    "    t=target\n",
    "    m= method\n",
    "    \n",
    "    best_score = -1\n",
    "    best_n_comp = 'NA'\n",
    "    best_p = 'NA'\n",
    "    best_n = 'NA'\n",
    "    \n",
    "    for tp in prepare_target:\n",
    "        for p in prepare_spec:\n",
    "            for n in nbands_sampling:\n",
    "                Y = Mtree[m][t][tp][p][n]\n",
    "                r2_train = Y['r2_train']\n",
    "                r2_test = Y['r2_test']\n",
    "                    \n",
    "                if scorer == 'iqrp':\n",
    "                    cur_score = Y['iqrp_test']\n",
    "                elif scorer == 'rpd':\n",
    "                    cur_score = Y['rpd_test']\n",
    "                else:\n",
    "                    cur_score = Y['r2_test']  \n",
    "                    \n",
    "                if cur_score > best_score and r2_train >= r2_test:\n",
    "                    best_score = cur_score\n",
    "                    best_tp = tp\n",
    "                    best_n = n\n",
    "                    best_p = p\n",
    "                    if m == 'plsr':\n",
    "                        best_n_comp = Y['n_comp']\n",
    "                            \n",
    "    param_list = [scorer, np.round(best_score,2), 'Spec:', best_p, 'bands:', best_n]                                 \n",
    "    return (param_list)                                \n",
    "    "
   ]
  },
  {
   "cell_type": "code",
   "execution_count": 18,
   "metadata": {},
   "outputs": [],
   "source": [
    "def best_score_for (Mtree, target, scorer):\n",
    "    \n",
    "    for method in ml_methods:\n",
    "        param_list= best_score_on (Mtree, target, method, scorer)\n",
    "        print('For:'+target+'->', param_list, ':'+method)\n",
    "     \n",
    "    return"
   ]
  },
  {
   "cell_type": "code",
   "execution_count": 19,
   "metadata": {},
   "outputs": [
    {
     "data": {
      "text/plain": [
       "['mult', 'cubist', 'svr', 'ridge', 'plsr', 'randomforest', 'gbrt']"
      ]
     },
     "execution_count": 19,
     "metadata": {},
     "output_type": "execute_result"
    }
   ],
   "source": [
    "ml_methods"
   ]
  },
  {
   "cell_type": "code",
   "execution_count": 20,
   "metadata": {},
   "outputs": [
    {
     "name": "stdout",
     "output_type": "stream",
     "text": [
      "For:Sand-> ['r2', 0.66, 'Spec:', 'none', 'bands:', 13] :mult\n",
      "For:Sand-> ['r2', 0.7, 'Spec:', 'none', 'bands:', 55] :cubist\n",
      "For:Sand-> ['r2', 0.13, 'Spec:', 'fod2', 'bands:', 3] :svr\n",
      "For:Sand-> ['r2', 0.25, 'Spec:', 'log', 'bands:', 0] :ridge\n",
      "For:Sand-> ['r2', 0.67, 'Spec:', 'fod2', 'bands:', 23] :plsr\n",
      "For:Sand-> ['r2', 0.65, 'Spec:', 'fod2', 'bands:', 17] :randomforest\n",
      "For:Sand-> ['r2', 0.66, 'Spec:', 'fod2', 'bands:', 40] :gbrt\n"
     ]
    }
   ],
   "source": [
    "best_score_for(Mtree, 'Sand', 'r2')"
   ]
  },
  {
   "cell_type": "code",
   "execution_count": 21,
   "metadata": {},
   "outputs": [
    {
     "name": "stdout",
     "output_type": "stream",
     "text": [
      "For:Silt-> ['r2', 0.25, 'Spec:', 'fod2', 'bands:', 7] :mult\n",
      "For:Silt-> ['r2', 0.57, 'Spec:', 'fod2', 'bands:', 40] :cubist\n",
      "For:Silt-> ['r2', 0.06, 'Spec:', 'cr', 'bands:', 11] :svr\n",
      "For:Silt-> ['r2', 0.27, 'Spec:', 'log', 'bands:', 0] :ridge\n",
      "For:Silt-> ['r2', 0.3, 'Spec:', 'fod2', 'bands:', 39] :plsr\n",
      "For:Silt-> ['r2', 0.45, 'Spec:', 'fod2', 'bands:', 10] :randomforest\n",
      "For:Silt-> ['r2', 0.49, 'Spec:', 'cr', 'bands:', 33] :gbrt\n"
     ]
    }
   ],
   "source": [
    "best_score_for(Mtree, 'Silt', 'r2')"
   ]
  },
  {
   "cell_type": "code",
   "execution_count": 22,
   "metadata": {},
   "outputs": [
    {
     "name": "stdout",
     "output_type": "stream",
     "text": [
      "For:Clay-> ['r2', 0.74, 'Spec:', 'none', 'bands:', 15] :mult\n",
      "For:Clay-> ['r2', 0.68, 'Spec:', 'none', 'bands:', 80] :cubist\n",
      "For:Clay-> ['r2', 0.27, 'Spec:', 'fod2', 'bands:', 5] :svr\n",
      "For:Clay-> ['r2', 0.49, 'Spec:', 'log', 'bands:', 0] :ridge\n",
      "For:Clay-> ['r2', 0.6, 'Spec:', 'cr', 'bands:', 25] :plsr\n",
      "For:Clay-> ['r2', 0.64, 'Spec:', 'cr', 'bands:', 25] :randomforest\n",
      "For:Clay-> ['r2', 0.73, 'Spec:', 'cr', 'bands:', 31] :gbrt\n"
     ]
    }
   ],
   "source": [
    "best_score_for(Mtree, 'Clay', 'r2')"
   ]
  },
  {
   "cell_type": "code",
   "execution_count": 23,
   "metadata": {},
   "outputs": [
    {
     "name": "stdout",
     "output_type": "stream",
     "text": [
      "For:TOC-> ['r2', 0.53, 'Spec:', 'fod2', 'bands:', 0] :mult\n",
      "For:TOC-> ['r2', 0.76, 'Spec:', 'cr', 'bands:', 0] :cubist\n",
      "For:TOC-> ['r2', 0.17, 'Spec:', 'log', 'bands:', 7] :svr\n",
      "For:TOC-> ['r2', 0.43, 'Spec:', 'log', 'bands:', 0] :ridge\n",
      "For:TOC-> ['r2', 0.52, 'Spec:', 'fod2', 'bands:', 0] :plsr\n",
      "For:TOC-> ['r2', 0.57, 'Spec:', 'cr', 'bands:', 20] :randomforest\n",
      "For:TOC-> ['r2', 0.66, 'Spec:', 'cr', 'bands:', 55] :gbrt\n"
     ]
    }
   ],
   "source": [
    "best_score_for(Mtree, 'TOC', 'r2')"
   ]
  },
  {
   "cell_type": "code",
   "execution_count": 24,
   "metadata": {},
   "outputs": [
    {
     "name": "stdout",
     "output_type": "stream",
     "text": [
      "For:CaCO3-> ['r2', 0.54, 'Spec:', 'none', 'bands:', 5] :mult\n",
      "For:CaCO3-> ['r2', 0.59, 'Spec:', 'fod2', 'bands:', 11] :cubist\n",
      "For:CaCO3-> ['r2', 0.12, 'Spec:', 'log', 'bands:', 100] :svr\n",
      "For:CaCO3-> ['r2', 0.5, 'Spec:', 'log', 'bands:', 0] :ridge\n",
      "For:CaCO3-> ['r2', 0.55, 'Spec:', 'cr', 'bands:', 15] :plsr\n",
      "For:CaCO3-> ['r2', 0.49, 'Spec:', 'log', 'bands:', 3] :randomforest\n",
      "For:CaCO3-> ['r2', 0.56, 'Spec:', 'log', 'bands:', 3] :gbrt\n"
     ]
    }
   ],
   "source": [
    "best_score_for(Mtree, 'CaCO3', 'r2')"
   ]
  },
  {
   "cell_type": "markdown",
   "metadata": {},
   "source": [
    "## Plotting Model Accuracy (ipywidgets)"
   ]
  },
  {
   "cell_type": "code",
   "execution_count": 25,
   "metadata": {},
   "outputs": [],
   "source": [
    "def plot_model_acc (method, target, spec_preprocessing, n_bands):\n",
    "    \n",
    "    m = method\n",
    "    t = target\n",
    "    \n",
    "    i = target_names.index(target)\n",
    "    \n",
    "    \n",
    "    p = spec_preprocessing\n",
    "    n = n_bands\n",
    "    tp = 'none'\n",
    "    \n",
    "    Y = Mtree[m][t][tp][p][n]\n",
    "    \n",
    "    y_test = Y['test']\n",
    "    y_pred = Y['testP']\n",
    "    y_train = Y['train']\n",
    "    yhat_pred = Y['trainP']\n",
    "    \n",
    "    if m == 'plsr':\n",
    "        n_com = Y['n_comp']\n",
    "        y_pred = y_pred[:,0]\n",
    "        yhat_pred = yhat_pred[:,0]\n",
    "    \n",
    "    \n",
    "    iqrp_test = Y['iqrp_test']\n",
    "    r2_test = Y['r2_test']\n",
    "    rpd_test = Y['rpd_test']\n",
    "    \n",
    "    iqrp_train = find_iqrp(yhat_pred, y_train)\n",
    "    r2_train = find_r2(yhat_pred, y_train)\n",
    "    rpd_train = find_rpd(yhat_pred, y_train)\n",
    "    \n",
    "    y_tp = pd.DataFrame({'actual':y_test.values, 'predic': y_pred})\n",
    "    z = np.polyfit(y_test, y_pred, 1)\n",
    "    \n",
    "    yhat_tp = pd.DataFrame({'actual':y_train.values, 'predic': yhat_pred})\n",
    "    zhat = np.polyfit(y_train, yhat_pred, 1)\n",
    "    \n",
    "    fig, axes = plt.subplots(1,2, figsize=(18,8))\n",
    "    \n",
    "    #with plt.style.context(('ggplot')): ---- PLOT of test-prediction --------------------------------------\n",
    "    y_tp.plot.scatter(ax= axes[0], x=\"actual\", y=\"predic\", alpha=0.8, color = clr[i], edgecolors='k')\n",
    "    axes[0].plot(y_test, np.polyval(z, y_test),  c='blue', linewidth=1)\n",
    "    axes[0].plot(y_test, y_test, color='green', linewidth=1)\n",
    "    axes[0].tick_params(axis='both', labelsize=10)\n",
    "    axes[0].text(0.05, 0.95, target_names[i]+' (Test Data)', transform=axes[0].transAxes, fontsize = 20, color = clr[i])\n",
    "    axes[0].text(0.05, 0.90, 'IQRP ={:.2f}'.format(iqrp_test), transform=axes[0].transAxes, fontsize = 16)\n",
    "    axes[0].text(0.05, 0.85, 'RPD ={:.2f}'.format(rpd_test), transform=axes[0].transAxes, fontsize = 16)\n",
    "    axes[0].text(0.05, 0.80, 'R2 ={:.2f}'.format(np.round(r2_test,3)), transform=axes[0].transAxes, fontsize = 16)\n",
    "    axes[0].text(0.95, 0.15, 'Method: '+method, transform=axes[0].transAxes, \n",
    "                    horizontalalignment='right', fontsize = 20)\n",
    "    \n",
    "    if method == 'plsr':\n",
    "        axes[0].text(0.95, 0.05, 'n_component={:.2f}'.format(n_com), transform=axes[0].transAxes, \n",
    "                    horizontalalignment='right', fontsize = 12)\n",
    "    \n",
    "    #---------------------------------- ---- PLOT of train-prediction --------------------------------------\n",
    "    yhat_tp.plot.scatter(ax= axes[1], x=\"actual\", y=\"predic\", alpha=0.8, color = clr[i], edgecolors='k')\n",
    "    axes[1].plot(y_train, np.polyval(zhat, y_train),  c='blue', linewidth=1)\n",
    "    axes[1].plot(y_train, y_train, color='green', linewidth=1)\n",
    "    axes[1].tick_params(axis='both', labelsize=10)\n",
    "    axes[1].text(0.05, 0.95,  target_names[i]+' (Training Data)', transform=axes[1].transAxes,fontsize = 20, color = clr[i])\n",
    "    axes[1].text(0.05, 0.90, 'IQRP ={:.2f}'.format(iqrp_train), transform=axes[1].transAxes, fontsize = 16)\n",
    "    axes[1].text(0.05, 0.85, 'RPD ={:.2f}'.format(rpd_train), transform=axes[1].transAxes, fontsize = 16)\n",
    "    axes[1].text(0.05, 0.80, 'R2 ={:.2f}'.format(np.round(r2_train,3)), transform=axes[1].transAxes, fontsize = 16)\n",
    "    axes[1].text(0.95, 0.15, 'Method: '+method, transform=axes[1].transAxes, \n",
    "                    horizontalalignment='right', fontsize = 20)\n",
    "    return    "
   ]
  },
  {
   "cell_type": "code",
   "execution_count": 26,
   "metadata": {},
   "outputs": [
    {
     "data": {
      "image/png": "[encoded data removed]",
      "text/plain": [
       "<Figure size 1296x576 with 2 Axes>"
      ]
     },
     "metadata": {
      "needs_background": "light"
     },
     "output_type": "display_data"
    },
    {
     "data": {
      "application/vnd.jupyter.widget-view+json": {
       "model_id": "94bdea5737ef45fabb7b5a0cacd0aef0",
       "version_major": 2,
       "version_minor": 0
      },
      "text/plain": [
       "interactive(children=(Dropdown(description='method', options=('mult', 'cubist', 'svr', 'ridge', 'plsr', 'rando…"
      ]
     },
     "metadata": {},
     "output_type": "display_data"
    },
    {
     "data": {
      "text/plain": [
       "<function __main__.plot_model_acc(method, target, spec_preprocessing, n_bands)>"
      ]
     },
     "execution_count": 26,
     "metadata": {},
     "output_type": "execute_result"
    },
    {
     "data": {
      "image/png": "[encoded data removed]",
      "text/plain": [
       "<Figure size 1296x576 with 2 Axes>"
      ]
     },
     "metadata": {
      "needs_background": "light"
     },
     "output_type": "display_data"
    }
   ],
   "source": [
    "ipywidgets.interact( plot_model_acc, target = target_names, method = ml_methods, \\\n",
    "                    spec_preprocessing = prepare_spec,  \\\n",
    "                    n_bands = nbands_sampling )"
   ]
  },
  {
   "cell_type": "code",
   "execution_count": null,
   "metadata": {},
   "outputs": [],
   "source": []
  }
 ],
 "metadata": {
  "kernelspec": {
   "display_name": "Python 3",
   "language": "python",
   "name": "python3"
  },
  "language_info": {
   "codemirror_mode": {
    "name": "ipython",
    "version": 3
   },
   "file_extension": ".py",
   "mimetype": "text/x-python",
   "name": "python",
   "nbconvert_exporter": "python",
   "pygments_lexer": "ipython3",
   "version": "3.8.5"
  }
 },
 "nbformat": 4,
 "nbformat_minor": 5
}
