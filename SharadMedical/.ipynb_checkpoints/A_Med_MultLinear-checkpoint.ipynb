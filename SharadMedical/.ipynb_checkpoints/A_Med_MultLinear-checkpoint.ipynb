{
 "cells": [
  {
   "cell_type": "code",
   "execution_count": 111,
   "id": "bcdc4f65-11b4-48d5-bc1d-d19174f5185f",
   "metadata": {
    "jupyter": {
     "outputs_hidden": true
    },
    "tags": []
   },
   "outputs": [
    {
     "name": "stdout",
     "output_type": "stream",
     "text": [
      "Requirement already satisfied: openpyxl in c:\\users\\abhis\\anaconda3\\lib\\site-packages (3.0.10)\n",
      "Requirement already satisfied: et_xmlfile in c:\\users\\abhis\\anaconda3\\lib\\site-packages (from openpyxl) (1.1.0)\n",
      "Requirement already satisfied: imbalanced-learn in c:\\users\\abhis\\anaconda3\\lib\\site-packages (0.10.1)\n",
      "Requirement already satisfied: threadpoolctl>=2.0.0 in c:\\users\\abhis\\anaconda3\\lib\\site-packages (from imbalanced-learn) (2.2.0)\n",
      "Requirement already satisfied: scipy>=1.3.2 in c:\\users\\abhis\\anaconda3\\lib\\site-packages (from imbalanced-learn) (1.9.1)\n",
      "Requirement already satisfied: scikit-learn>=1.0.2 in c:\\users\\abhis\\anaconda3\\lib\\site-packages (from imbalanced-learn) (1.0.2)\n",
      "Requirement already satisfied: joblib>=1.1.1 in c:\\users\\abhis\\anaconda3\\lib\\site-packages (from imbalanced-learn) (1.2.0)\n",
      "Requirement already satisfied: numpy>=1.17.3 in c:\\users\\abhis\\anaconda3\\lib\\site-packages (from imbalanced-learn) (1.21.5)\n",
      "Requirement already satisfied: ipympl in c:\\users\\abhis\\anaconda3\\lib\\site-packages (0.9.3)\n",
      "Requirement already satisfied: pillow in c:\\users\\abhis\\anaconda3\\lib\\site-packages (from ipympl) (9.2.0)\n",
      "Requirement already satisfied: ipywidgets<9,>=7.6.0 in c:\\users\\abhis\\anaconda3\\lib\\site-packages (from ipympl) (7.6.5)\n",
      "Requirement already satisfied: numpy in c:\\users\\abhis\\anaconda3\\lib\\site-packages (from ipympl) (1.21.5)\n",
      "Requirement already satisfied: ipython<9 in c:\\users\\abhis\\anaconda3\\lib\\site-packages (from ipympl) (7.31.1)\n",
      "Requirement already satisfied: traitlets<6 in c:\\users\\abhis\\anaconda3\\lib\\site-packages (from ipympl) (5.1.1)\n",
      "Requirement already satisfied: matplotlib<4,>=3.4.0 in c:\\users\\abhis\\anaconda3\\lib\\site-packages (from ipympl) (3.5.2)\n",
      "Requirement already satisfied: ipython-genutils in c:\\users\\abhis\\anaconda3\\lib\\site-packages (from ipympl) (0.2.0)\n",
      "Requirement already satisfied: matplotlib-inline in c:\\users\\abhis\\anaconda3\\lib\\site-packages (from ipython<9->ipympl) (0.1.6)\n",
      "Requirement already satisfied: jedi>=0.16 in c:\\users\\abhis\\anaconda3\\lib\\site-packages (from ipython<9->ipympl) (0.18.1)\n",
      "Requirement already satisfied: pickleshare in c:\\users\\abhis\\anaconda3\\lib\\site-packages (from ipython<9->ipympl) (0.7.5)\n",
      "Requirement already satisfied: pygments in c:\\users\\abhis\\anaconda3\\lib\\site-packages (from ipython<9->ipympl) (2.11.2)\n",
      "Requirement already satisfied: colorama in c:\\users\\abhis\\anaconda3\\lib\\site-packages (from ipython<9->ipympl) (0.4.5)\n",
      "Requirement already satisfied: prompt-toolkit!=3.0.0,!=3.0.1,<3.1.0,>=2.0.0 in c:\\users\\abhis\\anaconda3\\lib\\site-packages (from ipython<9->ipympl) (3.0.20)\n",
      "Requirement already satisfied: decorator in c:\\users\\abhis\\anaconda3\\lib\\site-packages (from ipython<9->ipympl) (5.1.1)\n",
      "Requirement already satisfied: setuptools>=18.5 in c:\\users\\abhis\\anaconda3\\lib\\site-packages (from ipython<9->ipympl) (63.4.1)\n",
      "Requirement already satisfied: backcall in c:\\users\\abhis\\anaconda3\\lib\\site-packages (from ipython<9->ipympl) (0.2.0)\n",
      "Requirement already satisfied: widgetsnbextension~=3.5.0 in c:\\users\\abhis\\anaconda3\\lib\\site-packages (from ipywidgets<9,>=7.6.0->ipympl) (3.5.2)\n",
      "Requirement already satisfied: nbformat>=4.2.0 in c:\\users\\abhis\\anaconda3\\lib\\site-packages (from ipywidgets<9,>=7.6.0->ipympl) (5.5.0)\n",
      "Requirement already satisfied: jupyterlab-widgets>=1.0.0 in c:\\users\\abhis\\anaconda3\\lib\\site-packages (from ipywidgets<9,>=7.6.0->ipympl) (1.0.0)\n",
      "Requirement already satisfied: ipykernel>=4.5.1 in c:\\users\\abhis\\anaconda3\\lib\\site-packages (from ipywidgets<9,>=7.6.0->ipympl) (6.15.2)\n",
      "Requirement already satisfied: pyparsing>=2.2.1 in c:\\users\\abhis\\anaconda3\\lib\\site-packages (from matplotlib<4,>=3.4.0->ipympl) (3.0.9)\n",
      "Requirement already satisfied: python-dateutil>=2.7 in c:\\users\\abhis\\anaconda3\\lib\\site-packages (from matplotlib<4,>=3.4.0->ipympl) (2.8.2)\n",
      "Requirement already satisfied: packaging>=20.0 in c:\\users\\abhis\\anaconda3\\lib\\site-packages (from matplotlib<4,>=3.4.0->ipympl) (21.3)\n",
      "Requirement already satisfied: kiwisolver>=1.0.1 in c:\\users\\abhis\\anaconda3\\lib\\site-packages (from matplotlib<4,>=3.4.0->ipympl) (1.4.2)\n",
      "Requirement already satisfied: cycler>=0.10 in c:\\users\\abhis\\anaconda3\\lib\\site-packages (from matplotlib<4,>=3.4.0->ipympl) (0.11.0)\n",
      "Requirement already satisfied: fonttools>=4.22.0 in c:\\users\\abhis\\anaconda3\\lib\\site-packages (from matplotlib<4,>=3.4.0->ipympl) (4.25.0)\n",
      "Requirement already satisfied: nest-asyncio in c:\\users\\abhis\\anaconda3\\lib\\site-packages (from ipykernel>=4.5.1->ipywidgets<9,>=7.6.0->ipympl) (1.5.5)\n",
      "Requirement already satisfied: psutil in c:\\users\\abhis\\anaconda3\\lib\\site-packages (from ipykernel>=4.5.1->ipywidgets<9,>=7.6.0->ipympl) (5.9.0)\n",
      "Requirement already satisfied: jupyter-client>=6.1.12 in c:\\users\\abhis\\anaconda3\\lib\\site-packages (from ipykernel>=4.5.1->ipywidgets<9,>=7.6.0->ipympl) (7.3.4)\n",
      "Requirement already satisfied: pyzmq>=17 in c:\\users\\abhis\\anaconda3\\lib\\site-packages (from ipykernel>=4.5.1->ipywidgets<9,>=7.6.0->ipympl) (23.2.0)\n",
      "Requirement already satisfied: tornado>=6.1 in c:\\users\\abhis\\anaconda3\\lib\\site-packages (from ipykernel>=4.5.1->ipywidgets<9,>=7.6.0->ipympl) (6.1)\n",
      "Requirement already satisfied: debugpy>=1.0 in c:\\users\\abhis\\anaconda3\\lib\\site-packages (from ipykernel>=4.5.1->ipywidgets<9,>=7.6.0->ipympl) (1.5.1)\n",
      "Requirement already satisfied: parso<0.9.0,>=0.8.0 in c:\\users\\abhis\\anaconda3\\lib\\site-packages (from jedi>=0.16->ipython<9->ipympl) (0.8.3)\n",
      "Requirement already satisfied: jupyter_core in c:\\users\\abhis\\anaconda3\\lib\\site-packages (from nbformat>=4.2.0->ipywidgets<9,>=7.6.0->ipympl) (4.11.1)\n",
      "Requirement already satisfied: jsonschema>=2.6 in c:\\users\\abhis\\anaconda3\\lib\\site-packages (from nbformat>=4.2.0->ipywidgets<9,>=7.6.0->ipympl) (4.16.0)\n",
      "Requirement already satisfied: fastjsonschema in c:\\users\\abhis\\anaconda3\\lib\\site-packages (from nbformat>=4.2.0->ipywidgets<9,>=7.6.0->ipympl) (2.16.2)\n",
      "Requirement already satisfied: wcwidth in c:\\users\\abhis\\anaconda3\\lib\\site-packages (from prompt-toolkit!=3.0.0,!=3.0.1,<3.1.0,>=2.0.0->ipython<9->ipympl) (0.2.5)\n",
      "Requirement already satisfied: six>=1.5 in c:\\users\\abhis\\anaconda3\\lib\\site-packages (from python-dateutil>=2.7->matplotlib<4,>=3.4.0->ipympl) (1.16.0)\n",
      "Requirement already satisfied: notebook>=4.4.1 in c:\\users\\abhis\\anaconda3\\lib\\site-packages (from widgetsnbextension~=3.5.0->ipywidgets<9,>=7.6.0->ipympl) (6.4.12)\n",
      "Requirement already satisfied: attrs>=17.4.0 in c:\\users\\abhis\\anaconda3\\lib\\site-packages (from jsonschema>=2.6->nbformat>=4.2.0->ipywidgets<9,>=7.6.0->ipympl) (21.4.0)\n",
      "Requirement already satisfied: pyrsistent!=0.17.0,!=0.17.1,!=0.17.2,>=0.14.0 in c:\\users\\abhis\\anaconda3\\lib\\site-packages (from jsonschema>=2.6->nbformat>=4.2.0->ipywidgets<9,>=7.6.0->ipympl) (0.18.0)\n",
      "Requirement already satisfied: entrypoints in c:\\users\\abhis\\anaconda3\\lib\\site-packages (from jupyter-client>=6.1.12->ipykernel>=4.5.1->ipywidgets<9,>=7.6.0->ipympl) (0.4)\n",
      "Requirement already satisfied: pywin32>=1.0 in c:\\users\\abhis\\anaconda3\\lib\\site-packages (from jupyter_core->nbformat>=4.2.0->ipywidgets<9,>=7.6.0->ipympl) (302)\n",
      "Requirement already satisfied: jinja2 in c:\\users\\abhis\\anaconda3\\lib\\site-packages (from notebook>=4.4.1->widgetsnbextension~=3.5.0->ipywidgets<9,>=7.6.0->ipympl) (2.11.3)\n",
      "Requirement already satisfied: argon2-cffi in c:\\users\\abhis\\anaconda3\\lib\\site-packages (from notebook>=4.4.1->widgetsnbextension~=3.5.0->ipywidgets<9,>=7.6.0->ipympl) (21.3.0)\n",
      "Requirement already satisfied: prometheus-client in c:\\users\\abhis\\anaconda3\\lib\\site-packages (from notebook>=4.4.1->widgetsnbextension~=3.5.0->ipywidgets<9,>=7.6.0->ipympl) (0.14.1)\n",
      "Requirement already satisfied: Send2Trash>=1.8.0 in c:\\users\\abhis\\anaconda3\\lib\\site-packages (from notebook>=4.4.1->widgetsnbextension~=3.5.0->ipywidgets<9,>=7.6.0->ipympl) (1.8.0)\n",
      "Requirement already satisfied: terminado>=0.8.3 in c:\\users\\abhis\\anaconda3\\lib\\site-packages (from notebook>=4.4.1->widgetsnbextension~=3.5.0->ipywidgets<9,>=7.6.0->ipympl) (0.13.1)\n",
      "Requirement already satisfied: nbconvert>=5 in c:\\users\\abhis\\anaconda3\\lib\\site-packages (from notebook>=4.4.1->widgetsnbextension~=3.5.0->ipywidgets<9,>=7.6.0->ipympl) (6.4.4)\n",
      "Requirement already satisfied: beautifulsoup4 in c:\\users\\abhis\\anaconda3\\lib\\site-packages (from nbconvert>=5->notebook>=4.4.1->widgetsnbextension~=3.5.0->ipywidgets<9,>=7.6.0->ipympl) (4.11.1)\n",
      "Requirement already satisfied: nbclient<0.6.0,>=0.5.0 in c:\\users\\abhis\\anaconda3\\lib\\site-packages (from nbconvert>=5->notebook>=4.4.1->widgetsnbextension~=3.5.0->ipywidgets<9,>=7.6.0->ipympl) (0.5.13)\n",
      "Requirement already satisfied: mistune<2,>=0.8.1 in c:\\users\\abhis\\anaconda3\\lib\\site-packages (from nbconvert>=5->notebook>=4.4.1->widgetsnbextension~=3.5.0->ipywidgets<9,>=7.6.0->ipympl) (0.8.4)\n",
      "Requirement already satisfied: testpath in c:\\users\\abhis\\anaconda3\\lib\\site-packages (from nbconvert>=5->notebook>=4.4.1->widgetsnbextension~=3.5.0->ipywidgets<9,>=7.6.0->ipympl) (0.6.0)\n",
      "Requirement already satisfied: jupyterlab-pygments in c:\\users\\abhis\\anaconda3\\lib\\site-packages (from nbconvert>=5->notebook>=4.4.1->widgetsnbextension~=3.5.0->ipywidgets<9,>=7.6.0->ipympl) (0.1.2)\n",
      "Requirement already satisfied: defusedxml in c:\\users\\abhis\\anaconda3\\lib\\site-packages (from nbconvert>=5->notebook>=4.4.1->widgetsnbextension~=3.5.0->ipywidgets<9,>=7.6.0->ipympl) (0.7.1)\n",
      "Requirement already satisfied: bleach in c:\\users\\abhis\\anaconda3\\lib\\site-packages (from nbconvert>=5->notebook>=4.4.1->widgetsnbextension~=3.5.0->ipywidgets<9,>=7.6.0->ipympl) (4.1.0)\n",
      "Requirement already satisfied: pandocfilters>=1.4.1 in c:\\users\\abhis\\anaconda3\\lib\\site-packages (from nbconvert>=5->notebook>=4.4.1->widgetsnbextension~=3.5.0->ipywidgets<9,>=7.6.0->ipympl) (1.5.0)\n",
      "Requirement already satisfied: MarkupSafe>=0.23 in c:\\users\\abhis\\anaconda3\\lib\\site-packages (from jinja2->notebook>=4.4.1->widgetsnbextension~=3.5.0->ipywidgets<9,>=7.6.0->ipympl) (2.0.1)\n",
      "Requirement already satisfied: pywinpty>=1.1.0 in c:\\users\\abhis\\anaconda3\\lib\\site-packages (from terminado>=0.8.3->notebook>=4.4.1->widgetsnbextension~=3.5.0->ipywidgets<9,>=7.6.0->ipympl) (2.0.2)\n",
      "Requirement already satisfied: argon2-cffi-bindings in c:\\users\\abhis\\anaconda3\\lib\\site-packages (from argon2-cffi->notebook>=4.4.1->widgetsnbextension~=3.5.0->ipywidgets<9,>=7.6.0->ipympl) (21.2.0)\n",
      "Requirement already satisfied: cffi>=1.0.1 in c:\\users\\abhis\\anaconda3\\lib\\site-packages (from argon2-cffi-bindings->argon2-cffi->notebook>=4.4.1->widgetsnbextension~=3.5.0->ipywidgets<9,>=7.6.0->ipympl) (1.15.1)\n",
      "Requirement already satisfied: soupsieve>1.2 in c:\\users\\abhis\\anaconda3\\lib\\site-packages (from beautifulsoup4->nbconvert>=5->notebook>=4.4.1->widgetsnbextension~=3.5.0->ipywidgets<9,>=7.6.0->ipympl) (2.3.1)\n",
      "Requirement already satisfied: webencodings in c:\\users\\abhis\\anaconda3\\lib\\site-packages (from bleach->nbconvert>=5->notebook>=4.4.1->widgetsnbextension~=3.5.0->ipywidgets<9,>=7.6.0->ipympl) (0.5.1)\n",
      "Requirement already satisfied: pycparser in c:\\users\\abhis\\anaconda3\\lib\\site-packages (from cffi>=1.0.1->argon2-cffi-bindings->argon2-cffi->notebook>=4.4.1->widgetsnbextension~=3.5.0->ipywidgets<9,>=7.6.0->ipympl) (2.21)\n"
     ]
    },
    {
     "name": "stdout",
     "output_type": "stream",
     "text": [
      "Requirement already satisfied: shapely in c:\\users\\abhis\\anaconda3\\lib\\site-packages (2.0.1)\n",
      "Requirement already satisfied: numpy>=1.14 in c:\\users\\abhis\\anaconda3\\lib\\site-packages (from shapely) (1.21.5)\n"
     ]
    }
   ],
   "source": [
    "!pip install openpyxl\n",
    "!pip install imbalanced-learn\n",
    "!pip3 install ipympl\n",
    "!pip install shapely"
   ]
  },
  {
   "cell_type": "markdown",
   "id": "09393c93",
   "metadata": {},
   "source": [
    "# Step 0: Importing Essentials"
   ]
  },
  {
   "cell_type": "code",
   "execution_count": 112,
   "id": "04e0b131-dbc4-4e21-8f88-255bc0cbea05",
   "metadata": {},
   "outputs": [],
   "source": [
    "import pandas as pd\n",
    "import numpy as np\n",
    "import matplotlib.pyplot as plt\n",
    "import seaborn as sns\n",
    "import os, sys\n",
    "from numpy import nan\n",
    "import re\n",
    "import ipympl\n",
    "# from IPython.core.display import display, HTML\n",
    "import json\n",
    "from os import listdir\n",
    "import glob\n",
    "import math\n",
    "from IPython.display import Image, display, HTML\n",
    "from shapely.geometry import mapping\n",
    "from sklearn.cross_decomposition import PLSRegression\n",
    "from sklearn.ensemble import RandomForestRegressor\n",
    "from sklearn.model_selection import cross_val_score, train_test_split, RepeatedKFold, cross_val_predict\n",
    "from sklearn.metrics import r2_score, mean_squared_error, precision_score, recall_score, mean_absolute_error, make_scorer\n",
    "from sklearn.svm import SVR\n",
    "from sklearn.linear_model import LinearRegression\n",
    "from sklearn.kernel_ridge import KernelRidge\n",
    "from sklearn.model_selection import GridSearchCV, RandomizedSearchCV, LeaveOneOut, cross_validate\n",
    "from sklearn.impute import SimpleImputer\n",
    "from tqdm.notebook import tqdm\n",
    "from sklearn.svm import SVC\n",
    "from tqdm import tqdm\n",
    "import pickle\n",
    "from imblearn.over_sampling import SMOTE\n",
    "from scipy.stats import ks_2samp\n",
    "from scipy import stats\n",
    "np.seterr(divide='ignore', invalid='ignore')\n",
    "pd.options.display.max_columns = 100\n",
    "%matplotlib inline\n"
   ]
  },
  {
   "cell_type": "markdown",
   "id": "9a121f00",
   "metadata": {},
   "source": [
    "# Step 1: Data Acquisition"
   ]
  },
  {
   "cell_type": "code",
   "execution_count": 113,
   "id": "e58c243b",
   "metadata": {},
   "outputs": [
    {
     "data": {
      "text/html": [
       "<div>\n",
       "<style scoped>\n",
       "    .dataframe tbody tr th:only-of-type {\n",
       "        vertical-align: middle;\n",
       "    }\n",
       "\n",
       "    .dataframe tbody tr th {\n",
       "        vertical-align: top;\n",
       "    }\n",
       "\n",
       "    .dataframe thead th {\n",
       "        text-align: right;\n",
       "    }\n",
       "</style>\n",
       "<table border=\"1\" class=\"dataframe\">\n",
       "  <thead>\n",
       "    <tr style=\"text-align: right;\">\n",
       "      <th></th>\n",
       "      <th>ID</th>\n",
       "      <th>Name</th>\n",
       "      <th>Birth (year)</th>\n",
       "      <th>Date of test</th>\n",
       "      <th>Smoker (1/0)</th>\n",
       "      <th>LI 7</th>\n",
       "      <th>Age</th>\n",
       "      <th>W</th>\n",
       "      <th>H</th>\n",
       "      <th>L2.5</th>\n",
       "      <th>BMI</th>\n",
       "      <th>LI5_Measurement</th>\n",
       "    </tr>\n",
       "  </thead>\n",
       "  <tbody>\n",
       "    <tr>\n",
       "      <th>0</th>\n",
       "      <td>1669411-9</td>\n",
       "      <td>Shwartzman Mika</td>\n",
       "      <td>1941-01-01 00:00:00</td>\n",
       "      <td>2010-06-12 00:00:00</td>\n",
       "      <td>0.0</td>\n",
       "      <td>NaN</td>\n",
       "      <td>69</td>\n",
       "      <td>88.5</td>\n",
       "      <td>1.8</td>\n",
       "      <td>26.7</td>\n",
       "      <td>27.314815</td>\n",
       "      <td>54.0</td>\n",
       "    </tr>\n",
       "    <tr>\n",
       "      <th>1</th>\n",
       "      <td>1669411-9</td>\n",
       "      <td>Shwartzman Mika</td>\n",
       "      <td>1941-01-01 00:00:00</td>\n",
       "      <td>2010-07-14 00:00:00</td>\n",
       "      <td>0.0</td>\n",
       "      <td>NaN</td>\n",
       "      <td>69</td>\n",
       "      <td>88.0</td>\n",
       "      <td>1.8</td>\n",
       "      <td>26.7</td>\n",
       "      <td>27.160494</td>\n",
       "      <td>53.0</td>\n",
       "    </tr>\n",
       "    <tr>\n",
       "      <th>2</th>\n",
       "      <td>1669411-9</td>\n",
       "      <td>Shwartzman Mika</td>\n",
       "      <td>1941-01-01 00:00:00</td>\n",
       "      <td>2015-07-19 00:00:00</td>\n",
       "      <td>0.0</td>\n",
       "      <td>NaN</td>\n",
       "      <td>74</td>\n",
       "      <td>88.0</td>\n",
       "      <td>1.8</td>\n",
       "      <td>26.7</td>\n",
       "      <td>27.160494</td>\n",
       "      <td>53.6</td>\n",
       "    </tr>\n",
       "    <tr>\n",
       "      <th>3</th>\n",
       "      <td>1669411-9</td>\n",
       "      <td>Shwartzman Mika</td>\n",
       "      <td>1941-01-01 00:00:00</td>\n",
       "      <td>2015-08-23 00:00:00</td>\n",
       "      <td>0.0</td>\n",
       "      <td>NaN</td>\n",
       "      <td>74</td>\n",
       "      <td>88.2</td>\n",
       "      <td>1.8</td>\n",
       "      <td>26.7</td>\n",
       "      <td>27.222222</td>\n",
       "      <td>57.3</td>\n",
       "    </tr>\n",
       "    <tr>\n",
       "      <th>4</th>\n",
       "      <td>1669411-9</td>\n",
       "      <td>Shwartzman Mika</td>\n",
       "      <td>1941-01-01 00:00:00</td>\n",
       "      <td>2016-01-24 00:00:00</td>\n",
       "      <td>0.0</td>\n",
       "      <td>NaN</td>\n",
       "      <td>75</td>\n",
       "      <td>87.0</td>\n",
       "      <td>1.8</td>\n",
       "      <td>26.7</td>\n",
       "      <td>26.851852</td>\n",
       "      <td>52.7</td>\n",
       "    </tr>\n",
       "  </tbody>\n",
       "</table>\n",
       "</div>"
      ],
      "text/plain": [
       "          ID             Name         Birth (year)         Date of test  \\\n",
       "0  1669411-9  Shwartzman Mika  1941-01-01 00:00:00  2010-06-12 00:00:00   \n",
       "1  1669411-9  Shwartzman Mika  1941-01-01 00:00:00  2010-07-14 00:00:00   \n",
       "2  1669411-9  Shwartzman Mika  1941-01-01 00:00:00  2015-07-19 00:00:00   \n",
       "3  1669411-9  Shwartzman Mika  1941-01-01 00:00:00  2015-08-23 00:00:00   \n",
       "4  1669411-9  Shwartzman Mika  1941-01-01 00:00:00  2016-01-24 00:00:00   \n",
       "\n",
       "   Smoker (1/0)  LI 7  Age     W    H  L2.5        BMI  LI5_Measurement  \n",
       "0           0.0   NaN   69  88.5  1.8  26.7  27.314815             54.0  \n",
       "1           0.0   NaN   69  88.0  1.8  26.7  27.160494             53.0  \n",
       "2           0.0   NaN   74  88.0  1.8  26.7  27.160494             53.6  \n",
       "3           0.0   NaN   74  88.2  1.8  26.7  27.222222             57.3  \n",
       "4           0.0   NaN   75  87.0  1.8  26.7  26.851852             52.7  "
      ]
     },
     "execution_count": 113,
     "metadata": {},
     "output_type": "execute_result"
    }
   ],
   "source": [
    "medData = pd.read_excel('MedicalData.xlsx')\n",
    "medData.head(5)"
   ]
  },
  {
   "cell_type": "code",
   "execution_count": 116,
   "id": "e12ae968",
   "metadata": {},
   "outputs": [
    {
     "data": {
      "text/html": [
       "<div>\n",
       "<style scoped>\n",
       "    .dataframe tbody tr th:only-of-type {\n",
       "        vertical-align: middle;\n",
       "    }\n",
       "\n",
       "    .dataframe tbody tr th {\n",
       "        vertical-align: top;\n",
       "    }\n",
       "\n",
       "    .dataframe thead th {\n",
       "        text-align: right;\n",
       "    }\n",
       "</style>\n",
       "<table border=\"1\" class=\"dataframe\">\n",
       "  <thead>\n",
       "    <tr style=\"text-align: right;\">\n",
       "      <th></th>\n",
       "      <th>Smoker (1/0)</th>\n",
       "      <th>LI 7</th>\n",
       "      <th>Age</th>\n",
       "      <th>W</th>\n",
       "      <th>H</th>\n",
       "      <th>L2.5</th>\n",
       "      <th>BMI</th>\n",
       "      <th>LI5_Measurement</th>\n",
       "    </tr>\n",
       "  </thead>\n",
       "  <tbody>\n",
       "    <tr>\n",
       "      <th>count</th>\n",
       "      <td>1300.000000</td>\n",
       "      <td>599.000000</td>\n",
       "      <td>1300.000000</td>\n",
       "      <td>1300.000000</td>\n",
       "      <td>1300.000000</td>\n",
       "      <td>1300.000000</td>\n",
       "      <td>1300.000000</td>\n",
       "      <td>1300.000000</td>\n",
       "    </tr>\n",
       "    <tr>\n",
       "      <th>mean</th>\n",
       "      <td>0.201154</td>\n",
       "      <td>43.869950</td>\n",
       "      <td>57.786923</td>\n",
       "      <td>86.845831</td>\n",
       "      <td>1.733473</td>\n",
       "      <td>25.087692</td>\n",
       "      <td>28.857462</td>\n",
       "      <td>60.186392</td>\n",
       "    </tr>\n",
       "    <tr>\n",
       "      <th>std</th>\n",
       "      <td>0.398369</td>\n",
       "      <td>8.907205</td>\n",
       "      <td>14.478196</td>\n",
       "      <td>15.905414</td>\n",
       "      <td>0.084504</td>\n",
       "      <td>2.041951</td>\n",
       "      <td>4.576883</td>\n",
       "      <td>15.202266</td>\n",
       "    </tr>\n",
       "    <tr>\n",
       "      <th>min</th>\n",
       "      <td>0.000000</td>\n",
       "      <td>25.300000</td>\n",
       "      <td>17.000000</td>\n",
       "      <td>51.500000</td>\n",
       "      <td>1.520000</td>\n",
       "      <td>18.500000</td>\n",
       "      <td>18.466062</td>\n",
       "      <td>29.300000</td>\n",
       "    </tr>\n",
       "    <tr>\n",
       "      <th>25%</th>\n",
       "      <td>0.000000</td>\n",
       "      <td>37.250000</td>\n",
       "      <td>49.000000</td>\n",
       "      <td>75.375000</td>\n",
       "      <td>1.670000</td>\n",
       "      <td>23.600000</td>\n",
       "      <td>25.940657</td>\n",
       "      <td>49.100000</td>\n",
       "    </tr>\n",
       "    <tr>\n",
       "      <th>50%</th>\n",
       "      <td>0.000000</td>\n",
       "      <td>42.900000</td>\n",
       "      <td>58.000000</td>\n",
       "      <td>85.050000</td>\n",
       "      <td>1.730000</td>\n",
       "      <td>25.000000</td>\n",
       "      <td>28.046091</td>\n",
       "      <td>59.100000</td>\n",
       "    </tr>\n",
       "    <tr>\n",
       "      <th>75%</th>\n",
       "      <td>0.000000</td>\n",
       "      <td>48.400000</td>\n",
       "      <td>66.000000</td>\n",
       "      <td>95.825000</td>\n",
       "      <td>1.790000</td>\n",
       "      <td>26.500000</td>\n",
       "      <td>31.187647</td>\n",
       "      <td>69.025000</td>\n",
       "    </tr>\n",
       "    <tr>\n",
       "      <th>max</th>\n",
       "      <td>1.000000</td>\n",
       "      <td>77.600000</td>\n",
       "      <td>96.000000</td>\n",
       "      <td>175.700000</td>\n",
       "      <td>2.000000</td>\n",
       "      <td>31.500000</td>\n",
       "      <td>54.228395</td>\n",
       "      <td>127.900000</td>\n",
       "    </tr>\n",
       "  </tbody>\n",
       "</table>\n",
       "</div>"
      ],
      "text/plain": [
       "       Smoker (1/0)        LI 7          Age            W            H  \\\n",
       "count   1300.000000  599.000000  1300.000000  1300.000000  1300.000000   \n",
       "mean       0.201154   43.869950    57.786923    86.845831     1.733473   \n",
       "std        0.398369    8.907205    14.478196    15.905414     0.084504   \n",
       "min        0.000000   25.300000    17.000000    51.500000     1.520000   \n",
       "25%        0.000000   37.250000    49.000000    75.375000     1.670000   \n",
       "50%        0.000000   42.900000    58.000000    85.050000     1.730000   \n",
       "75%        0.000000   48.400000    66.000000    95.825000     1.790000   \n",
       "max        1.000000   77.600000    96.000000   175.700000     2.000000   \n",
       "\n",
       "              L2.5          BMI  LI5_Measurement  \n",
       "count  1300.000000  1300.000000      1300.000000  \n",
       "mean     25.087692    28.857462        60.186392  \n",
       "std       2.041951     4.576883        15.202266  \n",
       "min      18.500000    18.466062        29.300000  \n",
       "25%      23.600000    25.940657        49.100000  \n",
       "50%      25.000000    28.046091        59.100000  \n",
       "75%      26.500000    31.187647        69.025000  \n",
       "max      31.500000    54.228395       127.900000  "
      ]
     },
     "execution_count": 116,
     "metadata": {},
     "output_type": "execute_result"
    }
   ],
   "source": [
    "medData.describe()"
   ]
  },
  {
   "cell_type": "markdown",
   "id": "5660659d",
   "metadata": {},
   "source": [
    "# Step 2: Data Preprocessing \n",
    "\n",
    "        - Type Conversion (of Data Fields) \n",
    "        - Identifying Missing Values (NaN)\n",
    "        - Imputation  (Adjustments for missing values)"
   ]
  },
  {
   "cell_type": "code",
   "execution_count": 119,
   "id": "b86dc28e-041f-4e9e-a579-e24adac39bec",
   "metadata": {},
   "outputs": [],
   "source": [
    "# type conversion of a field/column\n",
    "medData['Smoker (1/0)'] = medData['Smoker (1/0)'].astype('category')"
   ]
  },
  {
   "cell_type": "code",
   "execution_count": 128,
   "id": "3adb61f6-a5eb-4e13-aeca-9fa73839ce92",
   "metadata": {
    "tags": []
   },
   "outputs": [
    {
     "name": "stdout",
     "output_type": "stream",
     "text": [
      "Missing: 701\n",
      "Smoker (1/0)         0\n",
      "LI 7               701\n",
      "Age                  0\n",
      "W                    0\n",
      "H                    0\n",
      "L2.5                 0\n",
      "BMI                  0\n",
      "LI5_Measurement      0\n",
      "dtype: int64\n"
     ]
    }
   ],
   "source": [
    "# Finding missing values in each column  \n",
    "# isnan Vs isnull\n",
    "temp = medData[[\"Smoker (1/0)\", 'LI 7', \"Age\", \"W\", \"H\", \"L2.5\", \"BMI\", \"LI5_Measurement\"]]\n",
    "#print(' Missing:', np.isnan(temp.to_numpy()).sum())\n",
    "# print('All Missing:', np.isnan(temp.to_numpy()).sum())\n",
    "print('Missing:', temp.isnull().sum().sum())   # alternate to previous (inferred from next command)\n",
    "print(temp.isnull().sum())       # isnull applies to df but isnan applies only to ndarray"
   ]
  },
  {
   "cell_type": "markdown",
   "id": "63f337a2",
   "metadata": {},
   "source": [
    "In this data column LI7 contains missing values. There can be 3 possible ways to deal with the missing data.\n",
    "1. Case 1: Do not use this predictor in the model.\n",
    "2. Case 2: Imppute missing values in the column LI7 by the mean of the existing values in this column.\n",
    "3. Case 3: Remove those rows from the data where LI7 contains missing values."
   ]
  },
  {
   "cell_type": "code",
   "execution_count": 133,
   "id": "5debe49d",
   "metadata": {},
   "outputs": [],
   "source": [
    "# eliminating column with missing value (here 'LI 7')\n",
    "#transformed = medData[[\"Smoker (1/0)\", \"Age\", \"W\", \"H\", \"L2.5\", \"BMI\", \"LI5_Measurement\"]]\n",
    "transformed = temp.drop(columns = 'LI 7')\n",
    "random_state = 14"
   ]
  },
  {
   "cell_type": "code",
   "execution_count": 125,
   "id": "2a58c51a",
   "metadata": {},
   "outputs": [
    {
     "name": "stdout",
     "output_type": "stream",
     "text": [
      "Enter the case (1/2/3) - 2\n",
      "Missing: 701 before imputation\n",
      "Smoker (1/0)         0\n",
      "LI 7               701\n",
      "Age                  0\n",
      "W                    0\n",
      "H                    0\n",
      "L2.5                 0\n",
      "BMI                  0\n",
      "LI5_Measurement      0\n",
      "dtype: int64\n",
      "Missing: 0 after imputation\n"
     ]
    }
   ],
   "source": [
    "case = input('Enter the case (1/2/3) - ')\n",
    "\n",
    "if case == '1':\n",
    "    data = medData[[\"Smoker (1/0)\", \"Age\", \"W\", \"H\", \"L2.5\", \"BMI\", \"LI5_Measurement\"]]\n",
    "    transformed = data\n",
    "    random_state = 14\n",
    "elif case == '2':\n",
    "    data = medData[[\"Smoker (1/0)\", 'LI 7', \"Age\", \"W\", \"H\", \"L2.5\", \"BMI\", \"LI5_Measurement\"]]\n",
    "    print('Missing: %d before imputation' % np.isnan(data.values).sum())\n",
    "    print(data.isnull().sum())\n",
    "    imputer = SimpleImputer(missing_values = np.nan, strategy='median') \n",
    "    transformed = imputer.fit_transform(data) # fit the data into a model and transform it into a form that is more suitable for the model in a single step.\n",
    "    # count the number of NaN values in each column\n",
    "    print('Missing: %d after imputation' % np.isnan(transformed).sum())\n",
    "    transformed = pd.DataFrame(transformed, columns=data.columns)       # -- why this ?  ---> from ndarray to dataframe  \n",
    "    transformed['Smoker (1/0)'] = transformed[\"Smoker (1/0)\"].astype('uint8').astype('category') #----- Also this here?\n",
    "    random_state = 14\n",
    "elif case == '3':\n",
    "    data = medData[[\"Smoker (1/0)\", 'LI 7', \"Age\", \"W\", \"H\", \"L2.5\", \"BMI\", \"LI5_Measurement\"]]\n",
    "    data.dropna(axis=0, inplace=True)            # --------------- why axis=0 and inplace=true?                         \n",
    "    transformed = data\n",
    "    random_state = 4 # why 4 here and not 14?"
   ]
  },
  {
   "cell_type": "markdown",
   "id": "23d61311",
   "metadata": {},
   "source": [
    "# Step 3: Fixing Target, Features and  Train-Test Split\n",
    "\n",
    "        - Deciding Features and Target\n",
    "        - Split the Train-Test data\n",
    "        - Check the goodness of split (by Some statistical test/plots)"
   ]
  },
  {
   "cell_type": "code",
   "execution_count": 138,
   "id": "95b92aeb",
   "metadata": {},
   "outputs": [],
   "source": [
    "(rows, cols) = transformed.shape\n",
    "(rows,cols)\n",
    "X = transformed.iloc[: , 0:cols-1]\n",
    "y = transformed.iloc[: , cols-1]"
   ]
  },
  {
   "cell_type": "code",
   "execution_count": 137,
   "id": "3c6d5158",
   "metadata": {},
   "outputs": [],
   "source": [
    "X_train, X_test, _train, y_test = train_test_split(X, y, test_size = 0.3, random_state = random_state)\n",
    "\n"
   ]
  },
  {
   "cell_type": "code",
   "execution_count": 139,
   "id": "c1400d6c",
   "metadata": {},
   "outputs": [
    {
     "name": "stdout",
     "output_type": "stream",
     "text": [
      "KstestResult(statistic=0.04212454212454213, pvalue=0.7024965334591775)\n"
     ]
    }
   ],
   "source": [
    "# Two-sample Kolmogorov-Smirnov test for checking the train and test distribution\n",
    "ks2_test = ks_2samp(y_train, y_test)\n",
    "print(ks2_test)"
   ]
  },
  {
   "cell_type": "code",
   "execution_count": null,
   "id": "c5ef41fb",
   "metadata": {},
   "outputs": [],
   "source": [
    "# for i in np.arange(0,25,1):\n",
    "#     X_train, X_test, y_train, y_test = train_test_split(X, y, test_size=0.3, random_state=i)\n",
    "#     ks2_test = ks_2samp(y_train, y_test)\n",
    "#     print(str(ks2_test)+'_RS_'+str(i))"
   ]
  },
  {
   "cell_type": "code",
   "execution_count": 149,
   "id": "0a44cc9f",
   "metadata": {},
   "outputs": [
    {
     "data": {
      "image/png": "[encoded data removed]",
      "text/plain": [
       "<Figure size 1000x400 with 2 Axes>"
      ]
     },
     "metadata": {},
     "output_type": "display_data"
    }
   ],
   "source": [
    "## Plotting the Distribution of Training and Testing Dependent Variable (---TODO---)\n",
    "#plt.style.use('seaborn-deep')\n",
    "min_y = np.min(y)\n",
    "max_y = np.max(y)\n",
    "\n",
    "fig, ax = plt.subplots(1,2, figsize=(10,4))\n",
    "bins = np.linspace(min_y, max_y, 8)\n",
    "\n",
    "plt.hist([y_train, y_test], bins , label=['Train', 'Test'], color = ['firebrick','gray'])\n",
    "#ax[0].legend(loc='upper right')\n",
    "plt.xlabel('y values')\n",
    "plt.ylabel('Count')\n",
    "\n",
    "plt.hist([y_train, y_test], bins , label=['Train', 'Test'], density=True, color = ['firebrick','gray'])\n",
    "#ax[0].legend(loc='upper right')\n",
    "plt.xlabel('y values')\n",
    "plt.ylabel('Density')\n",
    "plt.show()"
   ]
  },
  {
   "cell_type": "code",
   "execution_count": null,
   "id": "917c42c2",
   "metadata": {},
   "outputs": [],
   "source": []
  },
  {
   "cell_type": "markdown",
   "id": "de92135d",
   "metadata": {},
   "source": [
    "# Step 4: Training the Model\n",
    "\n",
    "        - Create a regr object\n",
    "        - Apply fit function (using regr object) on training data\n",
    "        - Check the weights/parameters generated by fit function "
   ]
  },
  {
   "cell_type": "code",
   "execution_count": 282,
   "id": "b8ff9232",
   "metadata": {},
   "outputs": [
    {
     "data": {
      "text/plain": [
       "LinearRegression()"
      ]
     },
     "execution_count": 282,
     "metadata": {},
     "output_type": "execute_result"
    }
   ],
   "source": [
    "from sklearn import linear_model\n",
    "\n",
    "# train the model using X_train and y_train (identified in previous step)\n",
    "regr = linear_model.LinearRegression()\n",
    "regr"
   ]
  },
  {
   "cell_type": "code",
   "execution_count": 283,
   "id": "b1271667",
   "metadata": {},
   "outputs": [
    {
     "data": {
      "text/plain": [
       "LinearRegression()"
      ]
     },
     "execution_count": 283,
     "metadata": {},
     "output_type": "execute_result"
    }
   ],
   "source": [
    "regr.fit(X_train, y_train)"
   ]
  },
  {
   "cell_type": "code",
   "execution_count": 284,
   "id": "d397ea18",
   "metadata": {},
   "outputs": [
    {
     "name": "stdout",
     "output_type": "stream",
     "text": [
      "Coefficients:  [ 5.20120941  0.18448428 -0.58045586 84.76114586  1.01968267  3.76678593]\n",
      "Intercept:  -182.46239389722575\n"
     ]
    }
   ],
   "source": [
    "print ('Coefficients: ', regr.coef_)\n",
    "print ('Intercept: ', regr.intercept_)"
   ]
  },
  {
   "cell_type": "markdown",
   "id": "39556ce6",
   "metadata": {},
   "source": [
    "# Step 5: Prediction on Test Data "
   ]
  },
  {
   "cell_type": "code",
   "execution_count": 292,
   "id": "811090fd",
   "metadata": {},
   "outputs": [
    {
     "name": "stdout",
     "output_type": "stream",
     "text": [
      "\n",
      "Calibration Results\n"
     ]
    },
    {
     "ename": "NameError",
     "evalue": "name 'X_test_' is not defined",
     "output_type": "error",
     "traceback": [
      "\u001b[1;31m---------------------------------------------------------------------------\u001b[0m",
      "\u001b[1;31mNameError\u001b[0m                                 Traceback (most recent call last)",
      "\u001b[1;32m~\\AppData\\Local\\Temp\\ipykernel_22088\\2522215194.py\u001b[0m in \u001b[0;36m<module>\u001b[1;34m\u001b[0m\n\u001b[0;32m     16\u001b[0m \u001b[1;33m\u001b[0m\u001b[0m\n\u001b[0;32m     17\u001b[0m \u001b[0mprint\u001b[0m\u001b[1;33m(\u001b[0m\u001b[1;34m'\\nCalibration Results'\u001b[0m\u001b[1;33m)\u001b[0m\u001b[1;33m\u001b[0m\u001b[1;33m\u001b[0m\u001b[0m\n\u001b[1;32m---> 18\u001b[1;33m \u001b[0mevaluate\u001b[0m\u001b[1;33m(\u001b[0m\u001b[0mregr\u001b[0m\u001b[1;33m,\u001b[0m \u001b[0mX_train\u001b[0m\u001b[1;33m,\u001b[0m \u001b[0my_train\u001b[0m\u001b[1;33m)\u001b[0m\u001b[1;33m\u001b[0m\u001b[1;33m\u001b[0m\u001b[0m\n\u001b[0m\u001b[0;32m     19\u001b[0m \u001b[1;33m\u001b[0m\u001b[0m\n\u001b[0;32m     20\u001b[0m \u001b[0mprint\u001b[0m\u001b[1;33m(\u001b[0m\u001b[1;34m'\\nValidation Results'\u001b[0m\u001b[1;33m)\u001b[0m\u001b[1;33m\u001b[0m\u001b[1;33m\u001b[0m\u001b[0m\n",
      "\u001b[1;32m~\\AppData\\Local\\Temp\\ipykernel_22088\\2522215194.py\u001b[0m in \u001b[0;36mevaluate\u001b[1;34m(model, x_test_, y_test_)\u001b[0m\n\u001b[0;32m      6\u001b[0m \u001b[1;33m\u001b[0m\u001b[0m\n\u001b[0;32m      7\u001b[0m \u001b[1;32mdef\u001b[0m \u001b[0mevaluate\u001b[0m\u001b[1;33m(\u001b[0m\u001b[0mmodel\u001b[0m\u001b[1;33m,\u001b[0m \u001b[0mx_test_\u001b[0m\u001b[1;33m,\u001b[0m \u001b[0my_test_\u001b[0m\u001b[1;33m)\u001b[0m\u001b[1;33m:\u001b[0m\u001b[1;33m\u001b[0m\u001b[1;33m\u001b[0m\u001b[0m\n\u001b[1;32m----> 8\u001b[1;33m     \u001b[0my_pred\u001b[0m \u001b[1;33m=\u001b[0m \u001b[0mregr\u001b[0m\u001b[1;33m.\u001b[0m\u001b[0mpredict\u001b[0m\u001b[1;33m(\u001b[0m\u001b[0mX_test_\u001b[0m\u001b[1;33m)\u001b[0m\u001b[1;33m\u001b[0m\u001b[1;33m\u001b[0m\u001b[0m\n\u001b[0m\u001b[0;32m      9\u001b[0m     \u001b[0merrors\u001b[0m \u001b[1;33m=\u001b[0m \u001b[0mabs\u001b[0m\u001b[1;33m(\u001b[0m\u001b[0my_pred\u001b[0m \u001b[1;33m-\u001b[0m \u001b[0my_test_\u001b[0m\u001b[1;33m)\u001b[0m\u001b[1;33m\u001b[0m\u001b[1;33m\u001b[0m\u001b[0m\n\u001b[0;32m     10\u001b[0m     \u001b[0mr2\u001b[0m \u001b[1;33m=\u001b[0m \u001b[0mr2_score\u001b[0m\u001b[1;33m(\u001b[0m\u001b[0my_test_\u001b[0m\u001b[1;33m,\u001b[0m \u001b[0my_pred\u001b[0m\u001b[1;33m)\u001b[0m\u001b[1;33m\u001b[0m\u001b[1;33m\u001b[0m\u001b[0m\n",
      "\u001b[1;31mNameError\u001b[0m: name 'X_test_' is not defined"
     ]
    }
   ],
   "source": [
    "#y_pred = regr.predict(X_test)\n",
    "y_pred = np.round(y_pred, 2)\n",
    "y_pred = pd.DataFrame(y_pred)\n",
    "\n",
    "#score_cv = r2_score(y_test, y_pred)\n",
    "\n",
    "def evaluate(model, x1_test, y1_test):\n",
    "    y_pred = regr.predict(X_test_)\n",
    "    errors = abs(y_pred - y_test_)\n",
    "    r2 = r2_score(y_test_, y_pred)\n",
    "    print('\\nModel Performance:')\n",
    "    print('Absolute Error: {:0.4f}'.format(np.mean(errors)))\n",
    "    print('Coefficient of determination : {:0.2f}'.format(r2))\n",
    "    return\n",
    "\n",
    "\n",
    "print('\\nCalibration Results')\n",
    "evaluate(regr, X_train, y_train)\n",
    "\n",
    "print('\\nValidation Results')\n",
    "evaluate(regr, X_test, y_test)\n",
    "\n",
    "def MAPE(test_labels, test_predicted):\n",
    "    test_labels, test_predicted = np.array(test_labels), np.array(test_predicted)\n",
    "    mape = np.mean(np.abs((test_labels - test_predicted)/test_labels))*100\n",
    "    return mape\n",
    "\n",
    "mape = MAPE(y_test,y_pred)\n",
    "print('Mean Absolute Percentage Error = ',mape)"
   ]
  },
  {
   "cell_type": "markdown",
   "id": "f1b957fb",
   "metadata": {},
   "source": [
    "# Step 6: Evaluating Model Accuracy "
   ]
  },
  {
   "cell_type": "code",
   "execution_count": 256,
   "id": "bc0a3406",
   "metadata": {},
   "outputs": [
    {
     "data": {
      "text/plain": [
       "numpy.ndarray"
      ]
     },
     "execution_count": 256,
     "metadata": {},
     "output_type": "execute_result"
    }
   ],
   "source": [
    "# average of percentage difference\n",
    "diff_per = (y_pred- y_test)/y_test\n",
    "diff_per.mean()\n",
    "\n",
    "#which kind of plots \n",
    "\n",
    "x= y_test.index\n",
    "x= x.to_numpy()\n",
    "y1= y_test.to_numpy()\n",
    "y2= y_pred\n",
    "type(y2)"
   ]
  },
  {
   "cell_type": "code",
   "execution_count": 275,
   "id": "e3a29283",
   "metadata": {},
   "outputs": [
    {
     "data": {
      "text/plain": [
       "<matplotlib.collections.PathCollection at 0x15d1cdea640>"
      ]
     },
     "execution_count": 275,
     "metadata": {},
     "output_type": "execute_result"
    },
    {
     "data": {
      "image/png": "[encoded data removed]",
      "text/plain": [
       "<Figure size 640x480 with 1 Axes>"
      ]
     },
     "metadata": {},
     "output_type": "display_data"
    }
   ],
   "source": [
    "y = np.array([y1,y2])\n",
    "y = y.transpose()\n",
    "# y.shape\n",
    "x= np.arange(0,390,1)\n",
    "y_by_y1= y [y[:,0].argsort()]\n",
    "y1m = y_by_y1 [:, 0]\n",
    "y2m = y_by_y1 [:, 1]\n",
    "plt.plot(x, y1m)\n",
    "plt.scatter(x, y2m, c='y')\n",
    "\n",
    "\n",
    "\n",
    "\n",
    "#plt.fill_between(x, y1m, y2m,alpha=1, linewidth=0)\n",
    "\n",
    "# x= y_test.index\n",
    "# plt.fill_between(x, y1, y2, alpha=1, linewidth=0)\n",
    "# # creating a list of index names\n",
    "# index_values = x\n",
    "   \n",
    "# # creating a list of column names\n",
    "# column_values = ['y1', 'y2']\n",
    "  \n",
    "# # creating the dataframe\n",
    "# df = pd.DataFrame(data = [y1 y2], \n",
    "#                   index = index_values, \n",
    "#                   columns = column_values)"
   ]
  },
  {
   "cell_type": "code",
   "execution_count": 270,
   "id": "d53dbc25",
   "metadata": {},
   "outputs": [
    {
     "data": {
      "text/plain": [
       "[<matplotlib.lines.Line2D at 0x15d1bb6f9a0>]"
      ]
     },
     "execution_count": 270,
     "metadata": {},
     "output_type": "execute_result"
    },
    {
     "data": {
      "image/png": "[encoded data removed]",
      "text/plain": [
       "<Figure size 640x480 with 1 Axes>"
      ]
     },
     "metadata": {},
     "output_type": "display_data"
    }
   ],
   "source": [
    "y_by_y2= y [y[:,1].argsort()]\n",
    "y1m1 = y_by_y2 [:, 0]\n",
    "y2m1 = y_by_y2 [:, 1]\n",
    "plt.plot(x, y1m1)\n",
    "plt.plot(x, y2m1)\n"
   ]
  },
  {
   "cell_type": "code",
   "execution_count": 214,
   "id": "88c93399",
   "metadata": {},
   "outputs": [
    {
     "data": {
      "text/plain": [
       "array([119.2       ,  59.3       ,  55.8       ,  81.9       ,\n",
       "        64.        ,  90.8       ,  55.8       ,  72.4       ,\n",
       "        44.1       ,  81.4       ,  52.7       ,  77.4       ,\n",
       "        36.4       ,  86.5       ,  85.        ,  60.        ,\n",
       "        43.3       ,  70.8       ,  82.2       ,  55.        ,\n",
       "        40.1       ,  59.7       ,  59.9       ,  47.3       ,\n",
       "        53.5       ,  54.8       ,  72.8       ,  48.9       ,\n",
       "        89.5       ,  48.4       ,  69.4       ,  45.        ,\n",
       "        45.6       ,  44.8       ,  89.9       ,  83.2       ,\n",
       "        74.5       ,  63.7       ,  46.8       ,  76.1       ,\n",
       "        39.        , 100.5       ,  40.2       ,  96.9       ,\n",
       "        63.3       ,  54.4       ,  51.3       ,  81.7       ,\n",
       "        62.9       ,  54.8       ,  41.9       ,  63.9       ,\n",
       "        38.4       ,  43.        ,  46.2       ,  63.7       ,\n",
       "        67.4       ,  56.8       ,  54.8       ,  44.6       ,\n",
       "        38.3       ,  56.        ,  39.2       ,  51.6       ,\n",
       "        46.4       ,  47.4       ,  67.3       ,  80.1       ,\n",
       "        72.4       ,  65.7       , 104.        ,  67.9       ,\n",
       "        43.2       ,  52.        ,  53.7       ,  84.5       ,\n",
       "        68.6       ,  67.        ,  64.3       ,  35.6       ,\n",
       "        61.9       ,  39.5       ,  40.        ,  78.7       ,\n",
       "        44.9       ,  77.8       ,  46.4       , 108.1       ,\n",
       "        62.6       ,  74.9       ,  47.7       ,  46.9       ,\n",
       "        82.9       ,  57.1       ,  65.3       ,  64.8       ,\n",
       "        52.2       ,  68.1       ,  90.8       ,  50.5       ,\n",
       "        65.4       ,  71.        ,  55.2       ,  52.3       ,\n",
       "        57.1       ,  52.6       ,  57.9       ,  43.6       ,\n",
       "        50.4       ,  42.4       ,  64.2       ,  72.4       ,\n",
       "        70.1       ,  37.        ,  60.1       ,  82.6       ,\n",
       "        90.3       ,  52.8       ,  45.8       ,  48.9       ,\n",
       "        66.3       ,  64.        ,  47.4       ,  55.3       ,\n",
       "        52.9       ,  55.4       ,  93.3       ,  74.1       ,\n",
       "        38.4       ,  36.        ,  64.8       ,  65.5       ,\n",
       "       100.8       ,  58.7       ,  51.5       ,  58.5       ,\n",
       "        47.2       ,  40.9       ,  66.        ,  94.        ,\n",
       "        81.4       ,  59.2       ,  83.8       ,  37.5       ,\n",
       "        52.2       ,  40.2       ,  84.4       ,  52.7       ,\n",
       "        49.5       ,  40.        ,  43.9       ,  68.2       ,\n",
       "        53.        ,  53.6       ,  53.        ,  70.4       ,\n",
       "        41.7       ,  63.9       ,  44.1       ,  38.9       ,\n",
       "        66.2       ,  45.9       ,  50.9       ,  78.5       ,\n",
       "        53.4       ,  74.4       ,  64.8       ,  46.7       ,\n",
       "        61.6       ,  32.9       ,  72.4       ,  39.4       ,\n",
       "        65.2       ,  79.3       ,  53.5       ,  56.6       ,\n",
       "        40.8       ,  46.4       ,  65.4       ,  44.3       ,\n",
       "        65.8       ,  61.4       ,  72.5       ,  65.9       ,\n",
       "        48.5       ,  37.5       ,  41.6       ,  53.5       ,\n",
       "        63.        ,  66.1       ,  61.9       ,  39.6       ,\n",
       "        37.8       ,  72.8       ,  67.3       ,  73.9       ,\n",
       "        63.9       ,  74.1       ,  73.5       ,  55.9       ,\n",
       "        63.4       ,  60.8       ,  70.2       ,  56.6       ,\n",
       "        98.2       ,  60.5       ,  52.7       ,  68.2       ,\n",
       "        87.7       ,  76.9       ,  57.        ,  68.8       ,\n",
       "        82.6       ,  44.3       ,  55.1       ,  55.1       ,\n",
       "        64.8       ,  65.5       ,  45.3       ,  70.        ,\n",
       "        52.7       ,  71.8       ,  39.4       ,  72.6       ,\n",
       "        46.2       ,  64.7       ,  47.5       ,  53.9       ,\n",
       "        47.3       ,  53.7       ,  65.        ,  71.3       ,\n",
       "        61.4       ,  59.        ,  69.4       ,  69.        ,\n",
       "        74.8       ,  75.7       ,  49.9       ,  50.7       ,\n",
       "        52.8       ,  94.6       ,  48.5       ,  68.5       ,\n",
       "        45.5       ,  59.8       ,  68.5       ,  56.6       ,\n",
       "        60.        , 103.        ,  62.3       ,  73.5       ,\n",
       "        57.6       ,  60.1       ,  40.2       ,  78.1       ,\n",
       "        54.4       ,  68.4       ,  54.        ,  47.5       ,\n",
       "        73.5       ,  47.1       ,  67.4       ,  46.        ,\n",
       "        63.1       ,  61.7       ,  77.5       ,  85.4       ,\n",
       "        87.1       ,  40.4       ,  39.5       ,  38.7       ,\n",
       "        68.3       ,  40.        ,  58.5       ,  57.1       ,\n",
       "        54.5       ,  60.4       ,  69.7       ,  66.7       ,\n",
       "        80.2       ,  89.4       ,  79.2       ,  85.1       ,\n",
       "        62.3       ,  68.4       ,  46.5       ,  59.7       ,\n",
       "        39.6       ,  57.8       ,  70.        ,  43.3       ,\n",
       "        51.3       ,  55.3       ,  58.6       ,  57.2       ,\n",
       "        38.3       ,  57.6       ,  59.4       ,  66.6       ,\n",
       "        51.8       ,  70.6       ,  46.6       ,  63.1       ,\n",
       "        62.7       ,  70.        ,  41.6       ,  59.5       ,\n",
       "        61.4       ,  70.2       ,  69.1       ,  52.        ,\n",
       "        41.3       ,  57.8       ,  43.6       ,  81.8       ,\n",
       "        50.3       ,  50.2       ,  67.3       ,  66.5       ,\n",
       "        84.4       ,  76.5       ,  59.1       ,  48.2       ,\n",
       "        52.8       ,  61.9       ,  69.1       ,  56.1       ,\n",
       "        84.1       ,  72.6       ,  66.        ,  59.1       ,\n",
       "        61.3       ,  57.3       ,  53.6       ,  40.7       ,\n",
       "        67.2       ,  55.8       ,  48.8       ,  67.3       ,\n",
       "        61.4       ,  63.3       ,  63.        ,  66.        ,\n",
       "        59.5       ,  64.9       ,  52.        ,  47.1       ,\n",
       "        73.3       ,  90.7       ,  72.3       ,  65.6       ,\n",
       "        53.1       ,  68.3       ,  45.3       ,  64.        ,\n",
       "        71.9       ,  68.5       ,  54.2       ,  72.6       ,\n",
       "        63.6       ,  56.8       ,  75.7       ,  65.7       ,\n",
       "        40.2       ,  39.5       ,  59.9       ,  42.6       ,\n",
       "        42.7       ,  35.        ,  62.        ,  43.        ,\n",
       "        58.6       ,  62.3       ,  46.1       , 100.9       ,\n",
       "        60.8       ,  74.6       ,  61.6       ,  59.5       ,\n",
       "        37.9       ,  86.7       ,  63.7       ,  47.7       ,\n",
       "        74.7       ,  58.4       ,  57.9       ,  49.5       ,\n",
       "        51.1       ,  46.6       ,  73.96681876,  40.21388743,\n",
       "        51.01220457,  65.88642319,  59.55318947,  73.63008426,\n",
       "        53.65090535,  63.44191045,  46.37643654,  69.75077061,\n",
       "        61.81503489,  73.48535651,  42.78700036,  67.45295028,\n",
       "        69.14385459,  52.78943122,  57.15811771,  61.25114744,\n",
       "        81.51810634,  56.07393013,  49.13155171,  53.69452756,\n",
       "        68.12811459,  59.96187698,  48.0713912 ,  56.13160303,\n",
       "        64.40780115,  45.21315578,  64.5449856 ,  48.73831278,\n",
       "        61.85439656,  63.24642696,  49.43959256,  48.2227801 ,\n",
       "        69.18958048,  66.83861673,  65.68983085,  71.23864135,\n",
       "        54.02447784,  54.40594069,  49.16571891, 105.27027379,\n",
       "        49.13155171,  89.40779401,  69.65101071,  52.67174151,\n",
       "        63.55129019,  67.77969487,  56.57357791,  57.95356599,\n",
       "        49.81542234,  66.29307553,  50.20485383,  42.8177556 ,\n",
       "        50.81287796,  59.22911322,  66.01010929,  56.64626589,\n",
       "        54.91763999,  41.11446251,  51.01627059,  54.95308376,\n",
       "        38.44922576,  47.22333946,  63.13538056,  50.07038984,\n",
       "        68.91176451,  57.12245581,  72.20025069,  61.77665973,\n",
       "       112.08160315,  51.1129497 ,  49.85827296,  59.06932991,\n",
       "        57.36982457,  78.32900407,  66.45490664,  58.743195  ,\n",
       "        57.30878583,  42.80128145,  52.83565335,  55.03007921,\n",
       "        50.340494  ,  80.48490541,  45.26107844,  64.70537836,\n",
       "        58.41878705, 103.85087581,  54.49783531,  89.85333467,\n",
       "        52.22529741,  53.45438447,  69.07845372,  55.94731186,\n",
       "        57.4916803 ,  66.89913531,  54.45124454,  69.50662618,\n",
       "        60.81149297,  54.36419572,  60.98908268,  82.06494347,\n",
       "        46.43817228,  63.02422378,  63.16423792,  56.92509392,\n",
       "        59.15005737,  46.75390024,  44.65054981,  49.40944772,\n",
       "        57.54297255,  77.71398311,  66.53812843,  42.71055832,\n",
       "        47.10561536,  71.62813361,  80.85245992,  47.41509663,\n",
       "        53.51257698,  48.89074012,  80.49321751,  58.14823202,\n",
       "        46.90778223,  59.40135458,  43.30662178,  55.63194381,\n",
       "        61.61904671,  52.50381724,  50.1474003 ,  37.98787925,\n",
       "        69.52816204,  66.92725502,  63.8884171 ,  63.11304791,\n",
       "        62.29000222,  56.87072954,  54.73877004,  49.21703554,\n",
       "        67.91028233,  81.92058593,  71.90007941,  62.49567751,\n",
       "        70.2433137 ,  49.51997253,  47.88389872,  48.33229002,\n",
       "        53.49294602,  57.30285188,  50.31694416,  50.37982546,\n",
       "        40.27898201,  65.84309703,  61.9085908 ,  62.9989888 ,\n",
       "        61.5915378 ,  66.63347305,  50.74361074,  57.36849403,\n",
       "        44.81555957,  44.31350678,  69.60438275,  44.83365931,\n",
       "        55.03038975,  80.28813294,  54.31142747,  76.53387048,\n",
       "        58.24527387,  48.48247183,  68.68260383,  38.00995495,\n",
       "        67.74146951,  49.316036  ,  71.3590867 ,  84.45903492,\n",
       "        49.01585064,  48.51365226,  54.59634445,  49.75154249,\n",
       "        71.13815815,  48.42532616,  60.18829623,  56.49968543,\n",
       "        60.45930541,  65.88939455,  48.15711477,  49.316036  ,\n",
       "        49.99392756,  54.46730229,  48.28946779,  66.36174293,\n",
       "        49.95427239,  47.57373735,  36.91575514,  77.52611478,\n",
       "        73.97103469,  66.95537133,  55.64669398,  61.10283027,\n",
       "        67.01478293,  68.41041357,  62.16685574,  57.04867121,\n",
       "        74.49557564,  60.40633583,  63.08529686,  75.61421345,\n",
       "        48.01075168,  73.38519126,  70.57070933,  75.2600211 ,\n",
       "        47.01830152,  72.54758867,  83.47849394,  63.65302595,\n",
       "        58.0084525 ,  59.11031927,  63.67725763,  55.15043221,\n",
       "        75.99413159,  68.94787388,  40.13068237,  66.39060035,\n",
       "        49.13155171,  67.63670356,  50.99381606,  62.86940739,\n",
       "        51.22621198,  48.98925233,  51.33736737,  45.32053004,\n",
       "        80.26767943,  66.65884317,  81.97437283,  67.17628801,\n",
       "        65.06370531,  65.34651148,  70.61950896,  68.03580861,\n",
       "        60.06565642,  75.72891904,  48.60785225,  85.11115441,\n",
       "        63.96360645,  59.17136025,  49.89612855,  54.83863029,\n",
       "        72.92754924,  48.80958223,  57.8283469 , 108.63180305,\n",
       "        67.92989183,  58.70917833,  61.12567781,  36.99710557,\n",
       "        50.45064473,  80.04817591,  55.5137812 ,  64.88705053,\n",
       "        48.78697717,  55.75114951,  61.88079799,  50.07507518,\n",
       "        53.85744898,  51.42075931,  69.7668411 ,  56.67160121,\n",
       "        61.57950581,  69.28271953,  56.73256844,  51.21230842,\n",
       "        50.33571866,  49.04606789,  66.81591351,  49.13155171,\n",
       "        64.00846666,  63.28913334,  56.52927936,  68.25410586,\n",
       "        65.9336532 ,  69.44536285,  85.93883093,  82.78597792,\n",
       "        84.51412312,  73.21193411,  53.77508071,  65.16122694,\n",
       "        45.77414408,  55.06511844,  44.58721952,  46.14090967,\n",
       "        77.70446909,  52.29977206,  55.55500678,  64.50876314,\n",
       "        64.42477684,  57.04578189,  47.13693425,  67.76447711,\n",
       "        64.44415342,  72.26730417,  53.26866375,  71.58280066,\n",
       "        43.18575171,  64.53365129,  64.3062468 ,  54.5468934 ,\n",
       "        49.13155171,  48.99237104,  64.28008932,  60.22874524,\n",
       "        77.494032  ,  47.71515881,  40.5233071 ,  48.8845733 ,\n",
       "        49.99392756,  63.10017904,  66.74448395,  57.36318953,\n",
       "        67.11244508,  54.35543752,  66.37809682,  70.99073179,\n",
       "        48.09576936,  41.07929819,  53.43708476,  74.59028403,\n",
       "        65.72238229,  62.9197525 ,  67.0853119 ,  71.23864135,\n",
       "        68.9055206 ,  73.46608788,  69.54763841,  62.32910948,\n",
       "        54.35830753,  45.61049899,  67.25423338,  65.64410977,\n",
       "        57.60631335,  66.39866721,  51.91329461,  75.51617192,\n",
       "        58.63018239,  63.00674735,  62.26721231,  68.53681247,\n",
       "        56.78839669,  63.20466008,  68.02109395,  71.7895318 ,\n",
       "        83.532992  ,  56.45241995,  63.71789645,  68.93513303,\n",
       "        48.73162456,  62.26619725,  59.21938855,  64.73812522,\n",
       "        54.17603975,  65.01891062,  60.2637236 ,  54.67855338,\n",
       "        82.48426855,  66.4273556 ,  49.04606789,  35.2343362 ,\n",
       "        56.71231048,  41.7785628 ,  58.86701389,  31.7991592 ,\n",
       "        56.49484879,  62.2884761 ,  55.4947176 ,  50.1615698 ,\n",
       "        45.26107844,  85.96155263,  70.73875403,  59.84477156,\n",
       "        67.43287371,  71.41781537,  49.316036  ,  83.87834125,\n",
       "        62.35615277,  41.41721671,  63.49837946,  64.21269583,\n",
       "        67.20810177,  56.9753275 ,  53.1856403 ,  53.15053921])"
      ]
     },
     "execution_count": 214,
     "metadata": {},
     "output_type": "execute_result"
    }
   ],
   "source": [
    "y = np.concatenate((y1, y2), axis=1)\n",
    "y\n",
    "#plt.plot(x, y1, y1)\n",
    "#plt.fill_between(x, y1, y2,alpha=1, linewidth=0)\n",
    "#y = np.vstack([y1, y2])\n",
    "#plt.stackplot(x,y)"
   ]
  },
  {
   "cell_type": "code",
   "execution_count": 176,
   "id": "f59c5e1f",
   "metadata": {},
   "outputs": [
    {
     "ename": "AttributeError",
     "evalue": "'PandasArray' object has no attribute 'value_sort'",
     "output_type": "error",
     "traceback": [
      "\u001b[1;31m---------------------------------------------------------------------------\u001b[0m",
      "\u001b[1;31mAttributeError\u001b[0m                            Traceback (most recent call last)",
      "\u001b[1;32m~\\AppData\\Local\\Temp\\ipykernel_22088\\734699206.py\u001b[0m in \u001b[0;36m<module>\u001b[1;34m\u001b[0m\n\u001b[0;32m     11\u001b[0m \u001b[0mx\u001b[0m\u001b[1;33m=\u001b[0m \u001b[0mx\u001b[0m\u001b[1;33m.\u001b[0m\u001b[0marray\u001b[0m\u001b[1;33m\u001b[0m\u001b[1;33m\u001b[0m\u001b[0m\n\u001b[0;32m     12\u001b[0m \u001b[0mtype\u001b[0m\u001b[1;33m(\u001b[0m\u001b[0mx\u001b[0m\u001b[1;33m)\u001b[0m\u001b[1;33m\u001b[0m\u001b[1;33m\u001b[0m\u001b[0m\n\u001b[1;32m---> 13\u001b[1;33m \u001b[0mx\u001b[0m\u001b[1;33m=\u001b[0m \u001b[0mx\u001b[0m\u001b[1;33m.\u001b[0m\u001b[0mvalue_sort\u001b[0m\u001b[1;33m(\u001b[0m\u001b[1;33m)\u001b[0m\u001b[1;33m\u001b[0m\u001b[1;33m\u001b[0m\u001b[0m\n\u001b[0m\u001b[0;32m     14\u001b[0m \u001b[0mtype\u001b[0m\u001b[1;33m(\u001b[0m\u001b[0my_train\u001b[0m\u001b[1;33m)\u001b[0m\u001b[1;33m(\u001b[0m\u001b[1;33m)\u001b[0m\u001b[1;33m\u001b[0m\u001b[1;33m\u001b[0m\u001b[0m\n\u001b[0;32m     15\u001b[0m \u001b[0my1\u001b[0m\u001b[1;33m=\u001b[0m \u001b[0my_test\u001b[0m\u001b[1;33m.\u001b[0m\u001b[0marray\u001b[0m\u001b[1;33m\u001b[0m\u001b[1;33m\u001b[0m\u001b[0m\n",
      "\u001b[1;31mAttributeError\u001b[0m: 'PandasArray' object has no attribute 'value_sort'"
     ]
    }
   ],
   "source": [
    "\n",
    "type(y_train)()\n",
    "y1= y_test.array\n",
    "y1\n",
    "y2 = y_pred.array\n",
    "y2= x*x\n",
    "y = 4 + 2 * np.sin(2 * x)\n",
    "plt.plot(x,y,linewidth=2.0)\n",
    "\n",
    "# len(y_test)\n",
    "# len(y_pred)\n",
    "# y_test.isnull().sum()\n",
    "# y_pred.isnull().sum()\n",
    "# y_pred_test = pd.concat([y_pred, y_test], axis=1)\n",
    "# y_pred_test"
   ]
  },
  {
   "cell_type": "markdown",
   "id": "4eb12f7a-bc0f-49e4-8f6c-761c30e5cfb2",
   "metadata": {
    "jp-MarkdownHeadingCollapsed": true,
    "tags": []
   },
   "source": [
    "### Kernel Ridge Regression"
   ]
  },
  {
   "cell_type": "markdown",
   "id": "f8f6d40b-ef19-419b-ba56-ab8da34478b3",
   "metadata": {
    "jp-MarkdownHeadingCollapsed": true,
    "tags": []
   },
   "source": [
    "### Support Vector Regression"
   ]
  },
  {
   "cell_type": "markdown",
   "id": "06e87fd1-28ef-43cc-811a-c0e6adac741f",
   "metadata": {
    "jp-MarkdownHeadingCollapsed": true,
    "tags": []
   },
   "source": [
    "### Multinomial Linear Regression"
   ]
  },
  {
   "cell_type": "markdown",
   "id": "d6c79546-0c9d-4f0f-af34-9d1ca09ae3a8",
   "metadata": {},
   "source": [
    "## Clustering Models"
   ]
  },
  {
   "cell_type": "markdown",
   "id": "363e6357-08ee-497c-8ae7-b8126e62b823",
   "metadata": {},
   "source": [
    "### K-means Clustering"
   ]
  }
 ],
 "metadata": {
  "kernelspec": {
   "display_name": "Python 3 (ipykernel)",
   "language": "python",
   "name": "python3"
  },
  "language_info": {
   "codemirror_mode": {
    "name": "ipython",
    "version": 3
   },
   "file_extension": ".py",
   "mimetype": "text/x-python",
   "name": "python",
   "nbconvert_exporter": "python",
   "pygments_lexer": "ipython3",
   "version": "3.9.13"
  }
 },
 "nbformat": 4,
 "nbformat_minor": 5
}
