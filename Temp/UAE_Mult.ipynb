{
 "cells": [
  {
   "cell_type": "code",
   "execution_count": 2,
   "id": "c173cf42",
   "metadata": {},
   "outputs": [
    {
     "name": "stdout",
     "output_type": "stream",
     "text": [
      "Requirement already satisfied: openpyxl in c:\\users\\abhis\\anaconda3\\lib\\site-packages (3.0.10)\n",
      "Requirement already satisfied: et_xmlfile in c:\\users\\abhis\\anaconda3\\lib\\site-packages (from openpyxl) (1.1.0)\n",
      "Requirement already satisfied: imbalanced-learn in c:\\users\\abhis\\anaconda3\\lib\\site-packages (0.10.1)\n",
      "Requirement already satisfied: joblib>=1.1.1 in c:\\users\\abhis\\anaconda3\\lib\\site-packages (from imbalanced-learn) (1.2.0)\n",
      "Requirement already satisfied: scikit-learn>=1.0.2 in c:\\users\\abhis\\anaconda3\\lib\\site-packages (from imbalanced-learn) (1.0.2)\n",
      "Requirement already satisfied: numpy>=1.17.3 in c:\\users\\abhis\\anaconda3\\lib\\site-packages (from imbalanced-learn) (1.21.5)\n",
      "Requirement already satisfied: scipy>=1.3.2 in c:\\users\\abhis\\anaconda3\\lib\\site-packages (from imbalanced-learn) (1.9.1)\n",
      "Requirement already satisfied: threadpoolctl>=2.0.0 in c:\\users\\abhis\\anaconda3\\lib\\site-packages (from imbalanced-learn) (2.2.0)\n",
      "Requirement already satisfied: ipympl in c:\\users\\abhis\\anaconda3\\lib\\site-packages (0.9.3)\n",
      "Requirement already satisfied: matplotlib<4,>=3.4.0 in c:\\users\\abhis\\anaconda3\\lib\\site-packages (from ipympl) (3.5.2)\n",
      "Requirement already satisfied: ipython<9 in c:\\users\\abhis\\anaconda3\\lib\\site-packages (from ipympl) (7.31.1)\n",
      "Requirement already satisfied: pillow in c:\\users\\abhis\\anaconda3\\lib\\site-packages (from ipympl) (9.2.0)\n",
      "Requirement already satisfied: traitlets<6 in c:\\users\\abhis\\anaconda3\\lib\\site-packages (from ipympl) (5.1.1)\n",
      "Requirement already satisfied: ipywidgets<9,>=7.6.0 in c:\\users\\abhis\\anaconda3\\lib\\site-packages (from ipympl) (7.6.5)\n",
      "Requirement already satisfied: ipython-genutils in c:\\users\\abhis\\anaconda3\\lib\\site-packages (from ipympl) (0.2.0)\n",
      "Requirement already satisfied: numpy in c:\\users\\abhis\\anaconda3\\lib\\site-packages (from ipympl) (1.21.5)\n",
      "Requirement already satisfied: pygments in c:\\users\\abhis\\anaconda3\\lib\\site-packages (from ipython<9->ipympl) (2.11.2)\n",
      "Requirement already satisfied: decorator in c:\\users\\abhis\\anaconda3\\lib\\site-packages (from ipython<9->ipympl) (5.1.1)\n",
      "Requirement already satisfied: backcall in c:\\users\\abhis\\anaconda3\\lib\\site-packages (from ipython<9->ipympl) (0.2.0)\n",
      "Requirement already satisfied: pickleshare in c:\\users\\abhis\\anaconda3\\lib\\site-packages (from ipython<9->ipympl) (0.7.5)\n",
      "Requirement already satisfied: prompt-toolkit!=3.0.0,!=3.0.1,<3.1.0,>=2.0.0 in c:\\users\\abhis\\anaconda3\\lib\\site-packages (from ipython<9->ipympl) (3.0.20)\n",
      "Requirement already satisfied: colorama in c:\\users\\abhis\\anaconda3\\lib\\site-packages (from ipython<9->ipympl) (0.4.5)\n",
      "Requirement already satisfied: setuptools>=18.5 in c:\\users\\abhis\\anaconda3\\lib\\site-packages (from ipython<9->ipympl) (63.4.1)\n",
      "Requirement already satisfied: matplotlib-inline in c:\\users\\abhis\\anaconda3\\lib\\site-packages (from ipython<9->ipympl) (0.1.6)\n",
      "Requirement already satisfied: jedi>=0.16 in c:\\users\\abhis\\anaconda3\\lib\\site-packages (from ipython<9->ipympl) (0.18.1)\n",
      "Requirement already satisfied: nbformat>=4.2.0 in c:\\users\\abhis\\anaconda3\\lib\\site-packages (from ipywidgets<9,>=7.6.0->ipympl) (5.5.0)\n",
      "Requirement already satisfied: jupyterlab-widgets>=1.0.0 in c:\\users\\abhis\\anaconda3\\lib\\site-packages (from ipywidgets<9,>=7.6.0->ipympl) (1.0.0)\n",
      "Requirement already satisfied: ipykernel>=4.5.1 in c:\\users\\abhis\\anaconda3\\lib\\site-packages (from ipywidgets<9,>=7.6.0->ipympl) (6.15.2)\n",
      "Requirement already satisfied: widgetsnbextension~=3.5.0 in c:\\users\\abhis\\anaconda3\\lib\\site-packages (from ipywidgets<9,>=7.6.0->ipympl) (3.5.2)\n",
      "Requirement already satisfied: packaging>=20.0 in c:\\users\\abhis\\anaconda3\\lib\\site-packages (from matplotlib<4,>=3.4.0->ipympl) (21.3)\n",
      "Requirement already satisfied: cycler>=0.10 in c:\\users\\abhis\\anaconda3\\lib\\site-packages (from matplotlib<4,>=3.4.0->ipympl) (0.11.0)\n",
      "Requirement already satisfied: kiwisolver>=1.0.1 in c:\\users\\abhis\\anaconda3\\lib\\site-packages (from matplotlib<4,>=3.4.0->ipympl) (1.4.2)\n",
      "Requirement already satisfied: python-dateutil>=2.7 in c:\\users\\abhis\\anaconda3\\lib\\site-packages (from matplotlib<4,>=3.4.0->ipympl) (2.8.2)\n",
      "Requirement already satisfied: pyparsing>=2.2.1 in c:\\users\\abhis\\anaconda3\\lib\\site-packages (from matplotlib<4,>=3.4.0->ipympl) (3.0.9)\n",
      "Requirement already satisfied: fonttools>=4.22.0 in c:\\users\\abhis\\anaconda3\\lib\\site-packages (from matplotlib<4,>=3.4.0->ipympl) (4.25.0)\n",
      "Requirement already satisfied: tornado>=6.1 in c:\\users\\abhis\\anaconda3\\lib\\site-packages (from ipykernel>=4.5.1->ipywidgets<9,>=7.6.0->ipympl) (6.1)\n",
      "Requirement already satisfied: pyzmq>=17 in c:\\users\\abhis\\anaconda3\\lib\\site-packages (from ipykernel>=4.5.1->ipywidgets<9,>=7.6.0->ipympl) (23.2.0)\n",
      "Requirement already satisfied: nest-asyncio in c:\\users\\abhis\\anaconda3\\lib\\site-packages (from ipykernel>=4.5.1->ipywidgets<9,>=7.6.0->ipympl) (1.5.5)\n",
      "Requirement already satisfied: psutil in c:\\users\\abhis\\anaconda3\\lib\\site-packages (from ipykernel>=4.5.1->ipywidgets<9,>=7.6.0->ipympl) (5.9.0)\n",
      "Requirement already satisfied: debugpy>=1.0 in c:\\users\\abhis\\anaconda3\\lib\\site-packages (from ipykernel>=4.5.1->ipywidgets<9,>=7.6.0->ipympl) (1.5.1)\n",
      "Requirement already satisfied: jupyter-client>=6.1.12 in c:\\users\\abhis\\anaconda3\\lib\\site-packages (from ipykernel>=4.5.1->ipywidgets<9,>=7.6.0->ipympl) (7.3.4)\n",
      "Requirement already satisfied: parso<0.9.0,>=0.8.0 in c:\\users\\abhis\\anaconda3\\lib\\site-packages (from jedi>=0.16->ipython<9->ipympl) (0.8.3)\n",
      "Requirement already satisfied: fastjsonschema in c:\\users\\abhis\\anaconda3\\lib\\site-packages (from nbformat>=4.2.0->ipywidgets<9,>=7.6.0->ipympl) (2.16.2)\n",
      "Requirement already satisfied: jupyter_core in c:\\users\\abhis\\anaconda3\\lib\\site-packages (from nbformat>=4.2.0->ipywidgets<9,>=7.6.0->ipympl) (4.11.1)\n",
      "Requirement already satisfied: jsonschema>=2.6 in c:\\users\\abhis\\anaconda3\\lib\\site-packages (from nbformat>=4.2.0->ipywidgets<9,>=7.6.0->ipympl) (4.16.0)\n",
      "Requirement already satisfied: wcwidth in c:\\users\\abhis\\anaconda3\\lib\\site-packages (from prompt-toolkit!=3.0.0,!=3.0.1,<3.1.0,>=2.0.0->ipython<9->ipympl) (0.2.5)\n",
      "Requirement already satisfied: six>=1.5 in c:\\users\\abhis\\anaconda3\\lib\\site-packages (from python-dateutil>=2.7->matplotlib<4,>=3.4.0->ipympl) (1.16.0)\n",
      "Requirement already satisfied: notebook>=4.4.1 in c:\\users\\abhis\\anaconda3\\lib\\site-packages (from widgetsnbextension~=3.5.0->ipywidgets<9,>=7.6.0->ipympl) (6.4.12)\n",
      "Requirement already satisfied: attrs>=17.4.0 in c:\\users\\abhis\\anaconda3\\lib\\site-packages (from jsonschema>=2.6->nbformat>=4.2.0->ipywidgets<9,>=7.6.0->ipympl) (21.4.0)\n",
      "Requirement already satisfied: pyrsistent!=0.17.0,!=0.17.1,!=0.17.2,>=0.14.0 in c:\\users\\abhis\\anaconda3\\lib\\site-packages (from jsonschema>=2.6->nbformat>=4.2.0->ipywidgets<9,>=7.6.0->ipympl) (0.18.0)\n",
      "Requirement already satisfied: entrypoints in c:\\users\\abhis\\anaconda3\\lib\\site-packages (from jupyter-client>=6.1.12->ipykernel>=4.5.1->ipywidgets<9,>=7.6.0->ipympl) (0.4)\n",
      "Requirement already satisfied: pywin32>=1.0 in c:\\users\\abhis\\anaconda3\\lib\\site-packages (from jupyter_core->nbformat>=4.2.0->ipywidgets<9,>=7.6.0->ipympl) (302)\n",
      "Requirement already satisfied: prometheus-client in c:\\users\\abhis\\anaconda3\\lib\\site-packages (from notebook>=4.4.1->widgetsnbextension~=3.5.0->ipywidgets<9,>=7.6.0->ipympl) (0.14.1)\n",
      "Requirement already satisfied: argon2-cffi in c:\\users\\abhis\\anaconda3\\lib\\site-packages (from notebook>=4.4.1->widgetsnbextension~=3.5.0->ipywidgets<9,>=7.6.0->ipympl) (21.3.0)\n",
      "Requirement already satisfied: jinja2 in c:\\users\\abhis\\anaconda3\\lib\\site-packages (from notebook>=4.4.1->widgetsnbextension~=3.5.0->ipywidgets<9,>=7.6.0->ipympl) (2.11.3)\n",
      "Requirement already satisfied: nbconvert>=5 in c:\\users\\abhis\\anaconda3\\lib\\site-packages (from notebook>=4.4.1->widgetsnbextension~=3.5.0->ipywidgets<9,>=7.6.0->ipympl) (6.4.4)\n",
      "Requirement already satisfied: Send2Trash>=1.8.0 in c:\\users\\abhis\\anaconda3\\lib\\site-packages (from notebook>=4.4.1->widgetsnbextension~=3.5.0->ipywidgets<9,>=7.6.0->ipympl) (1.8.0)\n",
      "Requirement already satisfied: terminado>=0.8.3 in c:\\users\\abhis\\anaconda3\\lib\\site-packages (from notebook>=4.4.1->widgetsnbextension~=3.5.0->ipywidgets<9,>=7.6.0->ipympl) (0.13.1)\n",
      "Requirement already satisfied: bleach in c:\\users\\abhis\\anaconda3\\lib\\site-packages (from nbconvert>=5->notebook>=4.4.1->widgetsnbextension~=3.5.0->ipywidgets<9,>=7.6.0->ipympl) (4.1.0)\n",
      "Requirement already satisfied: jupyterlab-pygments in c:\\users\\abhis\\anaconda3\\lib\\site-packages (from nbconvert>=5->notebook>=4.4.1->widgetsnbextension~=3.5.0->ipywidgets<9,>=7.6.0->ipympl) (0.1.2)\n",
      "Requirement already satisfied: beautifulsoup4 in c:\\users\\abhis\\anaconda3\\lib\\site-packages (from nbconvert>=5->notebook>=4.4.1->widgetsnbextension~=3.5.0->ipywidgets<9,>=7.6.0->ipympl) (4.11.1)\n",
      "Requirement already satisfied: nbclient<0.6.0,>=0.5.0 in c:\\users\\abhis\\anaconda3\\lib\\site-packages (from nbconvert>=5->notebook>=4.4.1->widgetsnbextension~=3.5.0->ipywidgets<9,>=7.6.0->ipympl) (0.5.13)\n",
      "Requirement already satisfied: pandocfilters>=1.4.1 in c:\\users\\abhis\\anaconda3\\lib\\site-packages (from nbconvert>=5->notebook>=4.4.1->widgetsnbextension~=3.5.0->ipywidgets<9,>=7.6.0->ipympl) (1.5.0)\n",
      "Requirement already satisfied: mistune<2,>=0.8.1 in c:\\users\\abhis\\anaconda3\\lib\\site-packages (from nbconvert>=5->notebook>=4.4.1->widgetsnbextension~=3.5.0->ipywidgets<9,>=7.6.0->ipympl) (0.8.4)\n",
      "Requirement already satisfied: defusedxml in c:\\users\\abhis\\anaconda3\\lib\\site-packages (from nbconvert>=5->notebook>=4.4.1->widgetsnbextension~=3.5.0->ipywidgets<9,>=7.6.0->ipympl) (0.7.1)\n",
      "Requirement already satisfied: testpath in c:\\users\\abhis\\anaconda3\\lib\\site-packages (from nbconvert>=5->notebook>=4.4.1->widgetsnbextension~=3.5.0->ipywidgets<9,>=7.6.0->ipympl) (0.6.0)\n",
      "Requirement already satisfied: MarkupSafe>=0.23 in c:\\users\\abhis\\anaconda3\\lib\\site-packages (from jinja2->notebook>=4.4.1->widgetsnbextension~=3.5.0->ipywidgets<9,>=7.6.0->ipympl) (2.0.1)\n",
      "Requirement already satisfied: pywinpty>=1.1.0 in c:\\users\\abhis\\anaconda3\\lib\\site-packages (from terminado>=0.8.3->notebook>=4.4.1->widgetsnbextension~=3.5.0->ipywidgets<9,>=7.6.0->ipympl) (2.0.2)\n",
      "Requirement already satisfied: argon2-cffi-bindings in c:\\users\\abhis\\anaconda3\\lib\\site-packages (from argon2-cffi->notebook>=4.4.1->widgetsnbextension~=3.5.0->ipywidgets<9,>=7.6.0->ipympl) (21.2.0)\n",
      "Requirement already satisfied: cffi>=1.0.1 in c:\\users\\abhis\\anaconda3\\lib\\site-packages (from argon2-cffi-bindings->argon2-cffi->notebook>=4.4.1->widgetsnbextension~=3.5.0->ipywidgets<9,>=7.6.0->ipympl) (1.15.1)\n",
      "Requirement already satisfied: soupsieve>1.2 in c:\\users\\abhis\\anaconda3\\lib\\site-packages (from beautifulsoup4->nbconvert>=5->notebook>=4.4.1->widgetsnbextension~=3.5.0->ipywidgets<9,>=7.6.0->ipympl) (2.3.1)\n",
      "Requirement already satisfied: webencodings in c:\\users\\abhis\\anaconda3\\lib\\site-packages (from bleach->nbconvert>=5->notebook>=4.4.1->widgetsnbextension~=3.5.0->ipywidgets<9,>=7.6.0->ipympl) (0.5.1)\n",
      "Requirement already satisfied: pycparser in c:\\users\\abhis\\anaconda3\\lib\\site-packages (from cffi>=1.0.1->argon2-cffi-bindings->argon2-cffi->notebook>=4.4.1->widgetsnbextension~=3.5.0->ipywidgets<9,>=7.6.0->ipympl) (2.21)\n"
     ]
    },
    {
     "name": "stdout",
     "output_type": "stream",
     "text": [
      "Requirement already satisfied: shapely in c:\\users\\abhis\\anaconda3\\lib\\site-packages (2.0.1)\n",
      "Requirement already satisfied: numpy>=1.14 in c:\\users\\abhis\\anaconda3\\lib\\site-packages (from shapely) (1.21.5)\n",
      "Requirement already satisfied: SciencePlots in c:\\users\\abhis\\anaconda3\\lib\\site-packages (2.1.0)\n",
      "Requirement already satisfied: matplotlib in c:\\users\\abhis\\anaconda3\\lib\\site-packages (from SciencePlots) (3.5.2)\n",
      "Requirement already satisfied: kiwisolver>=1.0.1 in c:\\users\\abhis\\anaconda3\\lib\\site-packages (from matplotlib->SciencePlots) (1.4.2)\n",
      "Requirement already satisfied: python-dateutil>=2.7 in c:\\users\\abhis\\anaconda3\\lib\\site-packages (from matplotlib->SciencePlots) (2.8.2)\n",
      "Requirement already satisfied: fonttools>=4.22.0 in c:\\users\\abhis\\anaconda3\\lib\\site-packages (from matplotlib->SciencePlots) (4.25.0)\n",
      "Requirement already satisfied: pyparsing>=2.2.1 in c:\\users\\abhis\\anaconda3\\lib\\site-packages (from matplotlib->SciencePlots) (3.0.9)\n",
      "Requirement already satisfied: packaging>=20.0 in c:\\users\\abhis\\anaconda3\\lib\\site-packages (from matplotlib->SciencePlots) (21.3)\n",
      "Requirement already satisfied: cycler>=0.10 in c:\\users\\abhis\\anaconda3\\lib\\site-packages (from matplotlib->SciencePlots) (0.11.0)\n",
      "Requirement already satisfied: numpy>=1.17 in c:\\users\\abhis\\anaconda3\\lib\\site-packages (from matplotlib->SciencePlots) (1.21.5)\n",
      "Requirement already satisfied: pillow>=6.2.0 in c:\\users\\abhis\\anaconda3\\lib\\site-packages (from matplotlib->SciencePlots) (9.2.0)\n",
      "Requirement already satisfied: six>=1.5 in c:\\users\\abhis\\anaconda3\\lib\\site-packages (from python-dateutil>=2.7->matplotlib->SciencePlots) (1.16.0)\n",
      "Requirement already satisfied: seaborn in c:\\users\\abhis\\anaconda3\\lib\\site-packages (0.11.2)\n",
      "Requirement already satisfied: scipy>=1.0 in c:\\users\\abhis\\anaconda3\\lib\\site-packages (from seaborn) (1.9.1)\n",
      "Requirement already satisfied: matplotlib>=2.2 in c:\\users\\abhis\\anaconda3\\lib\\site-packages (from seaborn) (3.5.2)\n",
      "Requirement already satisfied: pandas>=0.23 in c:\\users\\abhis\\anaconda3\\lib\\site-packages (from seaborn) (1.4.4)\n",
      "Requirement already satisfied: numpy>=1.15 in c:\\users\\abhis\\anaconda3\\lib\\site-packages (from seaborn) (1.21.5)\n",
      "Requirement already satisfied: packaging>=20.0 in c:\\users\\abhis\\anaconda3\\lib\\site-packages (from matplotlib>=2.2->seaborn) (21.3)\n",
      "Requirement already satisfied: pyparsing>=2.2.1 in c:\\users\\abhis\\anaconda3\\lib\\site-packages (from matplotlib>=2.2->seaborn) (3.0.9)\n",
      "Requirement already satisfied: python-dateutil>=2.7 in c:\\users\\abhis\\anaconda3\\lib\\site-packages (from matplotlib>=2.2->seaborn) (2.8.2)\n",
      "Requirement already satisfied: cycler>=0.10 in c:\\users\\abhis\\anaconda3\\lib\\site-packages (from matplotlib>=2.2->seaborn) (0.11.0)\n",
      "Requirement already satisfied: fonttools>=4.22.0 in c:\\users\\abhis\\anaconda3\\lib\\site-packages (from matplotlib>=2.2->seaborn) (4.25.0)\n",
      "Requirement already satisfied: pillow>=6.2.0 in c:\\users\\abhis\\anaconda3\\lib\\site-packages (from matplotlib>=2.2->seaborn) (9.2.0)\n",
      "Requirement already satisfied: kiwisolver>=1.0.1 in c:\\users\\abhis\\anaconda3\\lib\\site-packages (from matplotlib>=2.2->seaborn) (1.4.2)\n",
      "Requirement already satisfied: pytz>=2020.1 in c:\\users\\abhis\\anaconda3\\lib\\site-packages (from pandas>=0.23->seaborn) (2022.1)\n",
      "Requirement already satisfied: six>=1.5 in c:\\users\\abhis\\anaconda3\\lib\\site-packages (from python-dateutil>=2.7->matplotlib>=2.2->seaborn) (1.16.0)\n",
      "Requirement already satisfied: tqdm in c:\\users\\abhis\\anaconda3\\lib\\site-packages (4.64.1)\n",
      "Requirement already satisfied: colorama in c:\\users\\abhis\\anaconda3\\lib\\site-packages (from tqdm) (0.4.5)\n",
      "Requirement already satisfied: ipywidgets in c:\\users\\abhis\\anaconda3\\lib\\site-packages (7.6.5)\n",
      "Requirement already satisfied: traitlets>=4.3.1 in c:\\users\\abhis\\anaconda3\\lib\\site-packages (from ipywidgets) (5.1.1)\n",
      "Requirement already satisfied: ipython-genutils~=0.2.0 in c:\\users\\abhis\\anaconda3\\lib\\site-packages (from ipywidgets) (0.2.0)\n",
      "Requirement already satisfied: nbformat>=4.2.0 in c:\\users\\abhis\\anaconda3\\lib\\site-packages (from ipywidgets) (5.5.0)\n",
      "Requirement already satisfied: ipykernel>=4.5.1 in c:\\users\\abhis\\anaconda3\\lib\\site-packages (from ipywidgets) (6.15.2)\n",
      "Requirement already satisfied: widgetsnbextension~=3.5.0 in c:\\users\\abhis\\anaconda3\\lib\\site-packages (from ipywidgets) (3.5.2)\n",
      "Requirement already satisfied: jupyterlab-widgets>=1.0.0 in c:\\users\\abhis\\anaconda3\\lib\\site-packages (from ipywidgets) (1.0.0)\n",
      "Requirement already satisfied: ipython>=4.0.0 in c:\\users\\abhis\\anaconda3\\lib\\site-packages (from ipywidgets) (7.31.1)\n",
      "Requirement already satisfied: packaging in c:\\users\\abhis\\anaconda3\\lib\\site-packages (from ipykernel>=4.5.1->ipywidgets) (21.3)\n",
      "Requirement already satisfied: jupyter-client>=6.1.12 in c:\\users\\abhis\\anaconda3\\lib\\site-packages (from ipykernel>=4.5.1->ipywidgets) (7.3.4)\n",
      "Requirement already satisfied: nest-asyncio in c:\\users\\abhis\\anaconda3\\lib\\site-packages (from ipykernel>=4.5.1->ipywidgets) (1.5.5)\n",
      "Requirement already satisfied: matplotlib-inline>=0.1 in c:\\users\\abhis\\anaconda3\\lib\\site-packages (from ipykernel>=4.5.1->ipywidgets) (0.1.6)\n",
      "Requirement already satisfied: psutil in c:\\users\\abhis\\anaconda3\\lib\\site-packages (from ipykernel>=4.5.1->ipywidgets) (5.9.0)\n",
      "Requirement already satisfied: tornado>=6.1 in c:\\users\\abhis\\anaconda3\\lib\\site-packages (from ipykernel>=4.5.1->ipywidgets) (6.1)\n",
      "Requirement already satisfied: pyzmq>=17 in c:\\users\\abhis\\anaconda3\\lib\\site-packages (from ipykernel>=4.5.1->ipywidgets) (23.2.0)\n",
      "Requirement already satisfied: debugpy>=1.0 in c:\\users\\abhis\\anaconda3\\lib\\site-packages (from ipykernel>=4.5.1->ipywidgets) (1.5.1)\n",
      "Requirement already satisfied: prompt-toolkit!=3.0.0,!=3.0.1,<3.1.0,>=2.0.0 in c:\\users\\abhis\\anaconda3\\lib\\site-packages (from ipython>=4.0.0->ipywidgets) (3.0.20)\n",
      "Requirement already satisfied: pickleshare in c:\\users\\abhis\\anaconda3\\lib\\site-packages (from ipython>=4.0.0->ipywidgets) (0.7.5)\n",
      "Requirement already satisfied: backcall in c:\\users\\abhis\\anaconda3\\lib\\site-packages (from ipython>=4.0.0->ipywidgets) (0.2.0)\n",
      "Requirement already satisfied: colorama in c:\\users\\abhis\\anaconda3\\lib\\site-packages (from ipython>=4.0.0->ipywidgets) (0.4.5)\n",
      "Requirement already satisfied: jedi>=0.16 in c:\\users\\abhis\\anaconda3\\lib\\site-packages (from ipython>=4.0.0->ipywidgets) (0.18.1)\n",
      "Requirement already satisfied: pygments in c:\\users\\abhis\\anaconda3\\lib\\site-packages (from ipython>=4.0.0->ipywidgets) (2.11.2)\n",
      "Requirement already satisfied: setuptools>=18.5 in c:\\users\\abhis\\anaconda3\\lib\\site-packages (from ipython>=4.0.0->ipywidgets) (63.4.1)\n",
      "Requirement already satisfied: decorator in c:\\users\\abhis\\anaconda3\\lib\\site-packages (from ipython>=4.0.0->ipywidgets) (5.1.1)\n",
      "Requirement already satisfied: jsonschema>=2.6 in c:\\users\\abhis\\anaconda3\\lib\\site-packages (from nbformat>=4.2.0->ipywidgets) (4.16.0)\n",
      "Requirement already satisfied: fastjsonschema in c:\\users\\abhis\\anaconda3\\lib\\site-packages (from nbformat>=4.2.0->ipywidgets) (2.16.2)\n",
      "Requirement already satisfied: jupyter_core in c:\\users\\abhis\\anaconda3\\lib\\site-packages (from nbformat>=4.2.0->ipywidgets) (4.11.1)\n",
      "Requirement already satisfied: notebook>=4.4.1 in c:\\users\\abhis\\anaconda3\\lib\\site-packages (from widgetsnbextension~=3.5.0->ipywidgets) (6.4.12)\n",
      "Requirement already satisfied: parso<0.9.0,>=0.8.0 in c:\\users\\abhis\\anaconda3\\lib\\site-packages (from jedi>=0.16->ipython>=4.0.0->ipywidgets) (0.8.3)\n",
      "Requirement already satisfied: pyrsistent!=0.17.0,!=0.17.1,!=0.17.2,>=0.14.0 in c:\\users\\abhis\\anaconda3\\lib\\site-packages (from jsonschema>=2.6->nbformat>=4.2.0->ipywidgets) (0.18.0)\n",
      "Requirement already satisfied: attrs>=17.4.0 in c:\\users\\abhis\\anaconda3\\lib\\site-packages (from jsonschema>=2.6->nbformat>=4.2.0->ipywidgets) (21.4.0)\n",
      "Requirement already satisfied: python-dateutil>=2.8.2 in c:\\users\\abhis\\anaconda3\\lib\\site-packages (from jupyter-client>=6.1.12->ipykernel>=4.5.1->ipywidgets) (2.8.2)\n",
      "Requirement already satisfied: entrypoints in c:\\users\\abhis\\anaconda3\\lib\\site-packages (from jupyter-client>=6.1.12->ipykernel>=4.5.1->ipywidgets) (0.4)\n",
      "Requirement already satisfied: pywin32>=1.0 in c:\\users\\abhis\\anaconda3\\lib\\site-packages (from jupyter_core->nbformat>=4.2.0->ipywidgets) (302)\n",
      "Requirement already satisfied: Send2Trash>=1.8.0 in c:\\users\\abhis\\anaconda3\\lib\\site-packages (from notebook>=4.4.1->widgetsnbextension~=3.5.0->ipywidgets) (1.8.0)\n",
      "Requirement already satisfied: terminado>=0.8.3 in c:\\users\\abhis\\anaconda3\\lib\\site-packages (from notebook>=4.4.1->widgetsnbextension~=3.5.0->ipywidgets) (0.13.1)\n",
      "Requirement already satisfied: nbconvert>=5 in c:\\users\\abhis\\anaconda3\\lib\\site-packages (from notebook>=4.4.1->widgetsnbextension~=3.5.0->ipywidgets) (6.4.4)\n",
      "Requirement already satisfied: jinja2 in c:\\users\\abhis\\anaconda3\\lib\\site-packages (from notebook>=4.4.1->widgetsnbextension~=3.5.0->ipywidgets) (2.11.3)\n",
      "Requirement already satisfied: prometheus-client in c:\\users\\abhis\\anaconda3\\lib\\site-packages (from notebook>=4.4.1->widgetsnbextension~=3.5.0->ipywidgets) (0.14.1)\n",
      "Requirement already satisfied: argon2-cffi in c:\\users\\abhis\\anaconda3\\lib\\site-packages (from notebook>=4.4.1->widgetsnbextension~=3.5.0->ipywidgets) (21.3.0)\n",
      "Requirement already satisfied: wcwidth in c:\\users\\abhis\\anaconda3\\lib\\site-packages (from prompt-toolkit!=3.0.0,!=3.0.1,<3.1.0,>=2.0.0->ipython>=4.0.0->ipywidgets) (0.2.5)\n",
      "Requirement already satisfied: pyparsing!=3.0.5,>=2.0.2 in c:\\users\\abhis\\anaconda3\\lib\\site-packages (from packaging->ipykernel>=4.5.1->ipywidgets) (3.0.9)\n",
      "Requirement already satisfied: bleach in c:\\users\\abhis\\anaconda3\\lib\\site-packages (from nbconvert>=5->notebook>=4.4.1->widgetsnbextension~=3.5.0->ipywidgets) (4.1.0)\n",
      "Requirement already satisfied: nbclient<0.6.0,>=0.5.0 in c:\\users\\abhis\\anaconda3\\lib\\site-packages (from nbconvert>=5->notebook>=4.4.1->widgetsnbextension~=3.5.0->ipywidgets) (0.5.13)\n",
      "Requirement already satisfied: pandocfilters>=1.4.1 in c:\\users\\abhis\\anaconda3\\lib\\site-packages (from nbconvert>=5->notebook>=4.4.1->widgetsnbextension~=3.5.0->ipywidgets) (1.5.0)\n",
      "Requirement already satisfied: testpath in c:\\users\\abhis\\anaconda3\\lib\\site-packages (from nbconvert>=5->notebook>=4.4.1->widgetsnbextension~=3.5.0->ipywidgets) (0.6.0)\n",
      "Requirement already satisfied: beautifulsoup4 in c:\\users\\abhis\\anaconda3\\lib\\site-packages (from nbconvert>=5->notebook>=4.4.1->widgetsnbextension~=3.5.0->ipywidgets) (4.11.1)\n",
      "Requirement already satisfied: jupyterlab-pygments in c:\\users\\abhis\\anaconda3\\lib\\site-packages (from nbconvert>=5->notebook>=4.4.1->widgetsnbextension~=3.5.0->ipywidgets) (0.1.2)\n",
      "Requirement already satisfied: defusedxml in c:\\users\\abhis\\anaconda3\\lib\\site-packages (from nbconvert>=5->notebook>=4.4.1->widgetsnbextension~=3.5.0->ipywidgets) (0.7.1)\n",
      "Requirement already satisfied: mistune<2,>=0.8.1 in c:\\users\\abhis\\anaconda3\\lib\\site-packages (from nbconvert>=5->notebook>=4.4.1->widgetsnbextension~=3.5.0->ipywidgets) (0.8.4)\n",
      "Requirement already satisfied: MarkupSafe>=0.23 in c:\\users\\abhis\\anaconda3\\lib\\site-packages (from jinja2->notebook>=4.4.1->widgetsnbextension~=3.5.0->ipywidgets) (2.0.1)\n",
      "Requirement already satisfied: six>=1.5 in c:\\users\\abhis\\anaconda3\\lib\\site-packages (from python-dateutil>=2.8.2->jupyter-client>=6.1.12->ipykernel>=4.5.1->ipywidgets) (1.16.0)\n",
      "Requirement already satisfied: pywinpty>=1.1.0 in c:\\users\\abhis\\anaconda3\\lib\\site-packages (from terminado>=0.8.3->notebook>=4.4.1->widgetsnbextension~=3.5.0->ipywidgets) (2.0.2)\n",
      "Requirement already satisfied: argon2-cffi-bindings in c:\\users\\abhis\\anaconda3\\lib\\site-packages (from argon2-cffi->notebook>=4.4.1->widgetsnbextension~=3.5.0->ipywidgets) (21.2.0)\n",
      "Requirement already satisfied: cffi>=1.0.1 in c:\\users\\abhis\\anaconda3\\lib\\site-packages (from argon2-cffi-bindings->argon2-cffi->notebook>=4.4.1->widgetsnbextension~=3.5.0->ipywidgets) (1.15.1)\n",
      "Requirement already satisfied: soupsieve>1.2 in c:\\users\\abhis\\anaconda3\\lib\\site-packages (from beautifulsoup4->nbconvert>=5->notebook>=4.4.1->widgetsnbextension~=3.5.0->ipywidgets) (2.3.1)\n",
      "Requirement already satisfied: webencodings in c:\\users\\abhis\\anaconda3\\lib\\site-packages (from bleach->nbconvert>=5->notebook>=4.4.1->widgetsnbextension~=3.5.0->ipywidgets) (0.5.1)\n",
      "Requirement already satisfied: pycparser in c:\\users\\abhis\\anaconda3\\lib\\site-packages (from cffi>=1.0.1->argon2-cffi-bindings->argon2-cffi->notebook>=4.4.1->widgetsnbextension~=3.5.0->ipywidgets) (2.21)\n"
     ]
    }
   ],
   "source": [
    "# !pip install openpyxl\n",
    "# !pip install imbalanced-learn\n",
    "# !pip3 install ipympl\n",
    "# !pip install shapely\n",
    "# !pip install SciencePlots \n",
    "# !pip install seaborn\n",
    "# !pip install tqdm\n",
    "# !pip install ipywidgets"
   ]
  },
  {
   "cell_type": "code",
   "execution_count": 4,
   "id": "22684781",
   "metadata": {},
   "outputs": [],
   "source": [
    "import pandas as pd\n",
    "import numpy as np\n",
    "import matplotlib.pyplot as plt\n",
    "import seaborn as sns\n",
    "import scienceplots\n",
    "import os, sys\n",
    "from numpy import nan\n",
    "import re\n",
    "import ipympl\n",
    "# from IPython.core.display import display, HTML\n",
    "import ipywidgets\n",
    "import json\n",
    "from os import listdir\n",
    "import glob\n",
    "import math\n",
    "from IPython.display import Image, display, HTML\n",
    "from shapely.geometry import mapping\n",
    "from sklearn.cross_decomposition import PLSRegression\n",
    "from sklearn.ensemble import RandomForestRegressor\n",
    "from sklearn.model_selection import cross_val_score, train_test_split, RepeatedKFold, cross_val_predict\n",
    "from sklearn.metrics import r2_score, mean_squared_error, precision_score, recall_score, mean_absolute_error, make_scorer\n",
    "from sklearn.svm import SVR\n",
    "from sklearn.linear_model import LinearRegression\n",
    "from sklearn.kernel_ridge import KernelRidge\n",
    "from sklearn.model_selection import GridSearchCV, RandomizedSearchCV, LeaveOneOut, cross_validate\n",
    "from sklearn.impute import SimpleImputer\n",
    "from tqdm.notebook import tqdm\n",
    "from sklearn.svm import SVC\n",
    "from tqdm import tqdm\n",
    "import pickle\n",
    "from imblearn.over_sampling import SMOTE\n",
    "from scipy.stats import ks_2samp\n",
    "from scipy import stats\n",
    "np.seterr(divide='ignore', invalid='ignore')\n",
    "pd.options.display.max_columns = 100\n",
    "from sklearn.preprocessing import PolynomialFeatures\n",
    "%matplotlib inline"
   ]
  },
  {
   "cell_type": "code",
   "execution_count": 5,
   "id": "c6414a9c",
   "metadata": {},
   "outputs": [
    {
     "name": "stdout",
     "output_type": "stream",
     "text": [
      "importing Jupyter notebook from SoilPrep.ipynb\n"
     ]
    }
   ],
   "source": [
    "import import_ipynb\n",
    "from SoilPrep import * "
   ]
  },
  {
   "cell_type": "markdown",
   "id": "8cd5b13f",
   "metadata": {},
   "source": [
    "# Step 1: Data Preprocessing (Normalization)"
   ]
  },
  {
   "cell_type": "code",
   "execution_count": 47,
   "id": "492df528",
   "metadata": {},
   "outputs": [],
   "source": [
    "# color scheme definition\n",
    "kado = '#8B7355'\n",
    "mati = '#A52A2A'\n",
    "balu = '#F4A460'\n",
    "\n",
    "udf = pd.read_csv('uae.csv')"
   ]
  },
  {
   "cell_type": "code",
   "execution_count": 48,
   "id": "d8b99635",
   "metadata": {},
   "outputs": [
    {
     "name": "stdout",
     "output_type": "stream",
     "text": [
      "(294, 2158)\n",
      "1 325\n"
     ]
    }
   ],
   "source": [
    "print(udf.shape)\n",
    "print(udf[\"FID\"].min(), udf[\"FID\"].max())\n",
    "\n",
    "# Note that some ids are missing in the data"
   ]
  },
  {
   "cell_type": "markdown",
   "id": "f00e07ff",
   "metadata": {},
   "source": [
    "# Step 3:  Train-Test Split  and its Goodness"
   ]
  },
  {
   "cell_type": "code",
   "execution_count": null,
   "id": "caec52e5",
   "metadata": {},
   "outputs": [],
   "source": [
    "def bin_error(X,y,tst_siz):\n",
    "    ymin = y.min()\n",
    "    ymax = y.max()\n",
    "    trn_siz = 1-tst_siz\n",
    "    X_train, X_test, y_train, y_test = train_test_split(X, y, test_size= tst_siz, random_state=0)\n",
    "    rand_st = 0\n",
    "    bin_train = np.histogram(y_train, bins = 8, range = (ymin,ymax), density=False)\n",
    "    bin_test = np.histogram(y_test, bins = 8, range = (ymin,ymax), density=False)\n",
    "    error = abs((bin_train[0])/trn_siz - (bin_test[0])/tst_siz)\n",
    "    cum_error = error.sum()\n",
    "    min_err= cum_error\n",
    "    \n",
    "    for i in np.arange(1,40,1):\n",
    "        X_train, X_test, y_train, y_test = train_test_split(X, y, test_size= tst_siz, random_state=i)\n",
    "        bin_train = np.histogram(y_train, bins = 8, range = (ymin,ymax), density=False)\n",
    "        bin_test = np.histogram(y_test, bins = 8, range = (ymin,ymax), density=False)\n",
    "        error = abs((bin_train[0])/trn_siz - (bin_test[0])/tst_siz)\n",
    "        cum_error = error.sum()\n",
    "        if cum_error < min_err:\n",
    "            min_err = cum_error\n",
    "            rand_st = i\n",
    "            #print(i)\n",
    "\n",
    "    return (min_err, rand_st)\n",
    "    \n",
    " \n",
    "min_err, rand_st = bin_error(X, yN, tst_siz)\n",
    "print ('Nitrogen: ')\n",
    "print ('For test size =', tst_siz, '\\t min bin error:', min_err, '\\t found at randome state =', rand_st)\n",
    "randN = rand_st\n",
    "\n",
    "min_err, rand_st = bin_error(X, yP, tst_siz)\n",
    "print ('Phosphorus: ')\n",
    "print ('For test size =', tst_siz, '\\t min bin error:', min_err, '\\t found at randome state =', rand_st)\n",
    "randP = rand_st\n",
    "\n",
    "min_err, rand_st = bin_error(X, yK, tst_siz)\n",
    "print ('Potassium: ')\n",
    "print ('For test size =', tst_siz, '\\t min bin error:', min_err, '\\t found at randome state =', rand_st)\n",
    "randK = rand_st\n"
   ]
  },
  {
   "cell_type": "code",
   "execution_count": 13,
   "id": "588bd90e",
   "metadata": {},
   "outputs": [],
   "source": [
    "y_silt = udf.loc[:, 'silt']\n",
    "y_sand = udf.loc[:, 'sand']\n",
    "y_clay = udf.loc[:, 'clay']\n",
    "y_toc = udf.loc[:, 'TOC']"
   ]
  },
  {
   "cell_type": "code",
   "execution_count": 16,
   "id": "b8ae444e",
   "metadata": {},
   "outputs": [
    {
     "name": "stdout",
     "output_type": "stream",
     "text": [
      "Sand: \n",
      "For test size = 0.3 \t min bin error: 13.33333333333334 \t found at randome state = 3\n",
      "Silt: \n",
      "For test size = 0.3 \t min bin error: 24.76190476190476 \t found at randome state = 4\n",
      "Clay: \n",
      "For test size = 0.3 \t min bin error: 30.476190476190474 \t found at randome state = 8\n",
      "TOC: \n",
      "For test size = 0.3 \t min bin error: 41.9047619047619 \t found at randome state = 17\n"
     ]
    }
   ],
   "source": [
    "\n",
    "\n",
    "# tst_siz = 0.3\n",
    "# X = udf.iloc[:, 7:2158].copy()\n",
    "\n",
    "# rand_sand, min_err = best_split(X, y_sand, tst_siz)\n",
    "# print ('Sand: ')\n",
    "# print ('For test size =', tst_siz, '\\t min bin error:', min_err, '\\t found at randome state =', rand_sand)\n",
    "\n",
    "# rand_silt, min_err = best_split(X, y_silt, tst_siz)\n",
    "# print ('Silt: ')\n",
    "# print ('For test size =', tst_siz, '\\t min bin error:', min_err, '\\t found at randome state =', rand_silt)\n",
    "\n",
    "# rand_clay, min_err = best_split(X, y_clay, tst_siz)\n",
    "# print ('Clay: ')\n",
    "# print ('For test size =', tst_siz, '\\t min bin error:', min_err, '\\t found at randome state =', rand_clay)\n",
    "\n",
    "# rand_toc, min_err = best_split(X, y_toc, tst_siz)\n",
    "# print ('TOC: ')\n",
    "# print ('For test size =', tst_siz, '\\t min bin error:', min_err, '\\t found at randome state =', rand_toc)"
   ]
  },
  {
   "cell_type": "markdown",
   "id": "e031f1d3",
   "metadata": {},
   "source": [
    "##  Optimal Train-Test Split"
   ]
  },
  {
   "cell_type": "code",
   "execution_count": 17,
   "id": "9030ec7f",
   "metadata": {},
   "outputs": [
    {
     "name": "stdout",
     "output_type": "stream",
     "text": [
      "\n",
      " \n",
      " Optimal Train-Test Split Done for y_sand y_silt y_clay y_toc\n"
     ]
    }
   ],
   "source": [
    "# Splitting the sample into train-test samples using obtained optimal parameters\n",
    "XSand_train, XSand_test, ySand_train, ySand_test = train_test_split(X, y_sand, test_size= tst_siz, random_state=rand_sand)\n",
    "\n",
    "XSilt_train, XSilt_test, ySilt_train, ySilt_test = train_test_split(X, y_silt, test_size= tst_siz, random_state=rand_silt)\n",
    "\n",
    "XClay_train, XClay_test, yClay_train, yClay_test = train_test_split(X, y_clay, test_size= tst_siz, random_state=rand_clay)\n",
    "\n",
    "XTOC_train, XTOC_test, yTOC_train, yTOC_test = train_test_split(X, y_toc, test_size= tst_siz, random_state=rand_toc)\n",
    "print ('\\n \\n Optimal Train-Test Split Done for y_sand y_silt y_clay y_toc')"
   ]
  },
  {
   "cell_type": "code",
   "execution_count": 18,
   "id": "af33a5e5",
   "metadata": {},
   "outputs": [
    {
     "data": {
      "text/plain": [
       "Text(0.5, 0.95, 'Train Test Distribution of Data')"
      ]
     },
     "execution_count": 18,
     "metadata": {},
     "output_type": "execute_result"
    },
    {
     "data": {
      "image/png": "[encoded data removed]",
      "text/plain": [
       "<Figure size 1800x1400 with 4 Axes>"
      ]
     },
     "metadata": {},
     "output_type": "display_data"
    }
   ],
   "source": [
    "# ## Plotting the Distribution of Train and Test Output Data \n",
    "# ## Plotting the Distribution of Train and Test Output Data \n",
    "plt.style.use(['science','notebook','grid'])\n",
    "\n",
    "fig, ax = plt.subplots(2,2, figsize=(18,14))\n",
    "\n",
    "minSand = np.min(y_sand)\n",
    "maxSand = np.max(y_sand)\n",
    "\n",
    "binsSand = np.linspace(minSand, maxSand, 8)\n",
    "# density =True : used to normalise bin heights to make the integral of  histogram 1.\n",
    "ax[0][0].hist([ySand_train, ySand_test], binsSand , label=['Train', 'Test'], density=True, color = ['blue','red'])\n",
    "# results in error when yN_train/ yN_test is data frame or ndarray\n",
    "ax[0][0].legend(loc='upper left', fontsize =12)\n",
    "ax[0][0].set_xlabel('Sand content',fontsize =16)\n",
    "ax[0][0].set_ylabel('Normalised frequency',fontsize =12)\n",
    "ax[0][0].tick_params(axis='both', labelsize=8)\n",
    "\n",
    "minSilt = np.min(y_silt)\n",
    "maxSilt = np.max(y_silt)\n",
    "\n",
    "binsSilt = np.linspace(minSilt, maxSilt, 8)\n",
    "# density =True : used to normalise bin heights to make the integral of  histogram 1.\n",
    "ax[0][1].hist([ySilt_train, ySilt_test], binsSilt , label=['Train', 'Test'], density=True, color = ['blue','red'])\n",
    "# results in error when yN_train/ yN_test is data frame or ndarray\n",
    "ax[0][1].legend(loc='upper right', fontsize =12)\n",
    "ax[0][1].set_xlabel('Silt content',fontsize =16)\n",
    "ax[0][1].set_ylabel('Normalised frequency',fontsize =12)\n",
    "ax[0][1].tick_params(axis='both', labelsize=8)\n",
    "\n",
    "minClay = np.min(y_clay)\n",
    "maxClay = np.max(y_clay)\n",
    "\n",
    "binsClay = np.linspace(minClay, maxClay, 8)\n",
    "# density =True : used to normalise bin heights to make the integral of  histogram 1.\n",
    "ax[1][1].hist([yClay_train, yClay_test], binsClay , label=['Train', 'Test'], density=True, color = ['blue','red'])\n",
    "# results in error when yN_train/ yN_test is data frame or ndarray\n",
    "ax[1][1].legend(loc='upper right', fontsize =12)\n",
    "ax[1][1].set_xlabel('Clay content',fontsize =16)\n",
    "ax[1][1].set_ylabel('Normalised frequency',fontsize =12)\n",
    "ax[1][1].tick_params(axis='both', labelsize=8)\n",
    "\n",
    "minTOC = np.min(y_toc)\n",
    "maxTOC = np.max(y_toc)\n",
    "\n",
    "binsTOC = np.linspace(minTOC, maxTOC, 8)\n",
    "# density =True : used to normalise bin heights to make the integral of  histogram 1.\n",
    "ax[1][0].hist([yTOC_train, yTOC_test], binsTOC , label=['Train', 'Test'], density=True, color = ['blue','red'])\n",
    "# results in error when yN_train/ yN_test is data frame or ndarray\n",
    "ax[1][0].legend(loc='upper right', fontsize =12)\n",
    "ax[1][0].set_xlabel('Total Organic Content',fontsize =16)\n",
    "ax[1][0].set_ylabel('Normalised frequency',fontsize =12)\n",
    "ax[1][0].tick_params(axis='both', labelsize=8)\n",
    "\n",
    "fig.suptitle('Train Test Distribution of Data', x = 0.5 ,y = .95, fontsize = 20)\n",
    "\n",
    "#plt.show()"
   ]
  },
  {
   "cell_type": "markdown",
   "id": "b164ad56",
   "metadata": {},
   "source": [
    "# Finding best model Parameters (window, n_components)"
   ]
  },
  {
   "cell_type": "code",
   "execution_count": 32,
   "id": "fd100788",
   "metadata": {},
   "outputs": [],
   "source": [
    "from sklearn import linear_model\n",
    "\n",
    "def best_param_MLR (spectra, target, rand_st, tst_siz, window):\n",
    "    X= spectra.copy()\n",
    "    y= target.copy()\n",
    "     \n",
    "    iqrpM = np.zeros(shape=(window, window))\n",
    "    iqrpMtr = np.zeros(shape=(window, window))\n",
    "    # test train split\n",
    "    X_train, X_test, y_train, y_test = train_test_split(X, y, test_size = tst_siz, random_state=rand_st)\n",
    "    for w in range (0,window):\n",
    "        X_train_smth = sgsmooth (X_train, w)\n",
    "        X_test_smth = sgsmooth (X_test, w)\n",
    "        \n",
    "        Model = linear_model.LinearRegression()\n",
    "        Model.fit(X_train_smth, y_train)\n",
    "        y_pred = Model.predict(X_test_smth)\n",
    "        yhat_pred = Model.predict(X_train_smth)            \n",
    "            \n",
    "        iqrp_test = iqrp(y_pred, y_test)\n",
    "        iqrp_train = iqrp(yhat_pred, y_train)\n",
    "            \n",
    "        iqrpM[w] = iqrp_test\n",
    "        iqrpMtr[w] = iqrp_train\n",
    "            \n",
    "            \n",
    "        if iqrp_test == iqrpM.max():\n",
    "            bestw = w\n",
    "            maxIQRP = iqrp_test\n",
    "            print('Found new best at w=', w, '>>   IQRP_test =', iqrp_test, '>>   IQRP_train =', iqrp_train)\n",
    "                \n",
    "            if iqrp_train == iqrpMtr.max():\n",
    "                bestwT = w\n",
    "                maxIQRPT = iqrp_train\n",
    "            \n",
    "    print('On Train data best at w=', bestwT, '>IQRP_train =', maxIQRPT)                    \n",
    "                \n",
    "    return (bestw, maxIQRP)\n"
   ]
  },
  {
   "cell_type": "code",
   "execution_count": 33,
   "id": "3472486c",
   "metadata": {},
   "outputs": [
    {
     "name": "stdout",
     "output_type": "stream",
     "text": [
      "Found new best at w= 0 >>   IQRP_test = 1.1985435610907298 >>   IQRP_train = 2144435706251.4949\n",
      "On Train data best at w= 0 >IQRP_train = 2144435706251.4949\n"
     ]
    }
   ],
   "source": [
    "spectra = udf.iloc[:, 7:2158].copy()\n",
    "w1, IQRP1 = best_param_MLR (spectra, y_sand, rand_sand, 0.3, 5)"
   ]
  },
  {
   "cell_type": "code",
   "execution_count": 40,
   "id": "000e4761",
   "metadata": {},
   "outputs": [
    {
     "name": "stdout",
     "output_type": "stream",
     "text": [
      "Found new best at w= 0 >>   IQRP_test = 1.0294436778566072 >>   IQRP_train = 2659559064002.1294\n",
      "Found new best at w= 3 >>   IQRP_test = 1.0593473674181728 >>   IQRP_train = 1069497294000.646\n",
      "Found new best at w= 4 >>   IQRP_test = 1.0612866276334323 >>   IQRP_train = 982880795513.4266\n",
      "On Train data best at w= 0 >IQRP_train = 2659559064002.1294\n"
     ]
    }
   ],
   "source": [
    "spectra = udf.iloc[:, 7:2158].copy()\n",
    "w2, IQRP2 = best_param_MLR (spectra, y_silt, rand_silt, 0.3, 5)  "
   ]
  },
  {
   "cell_type": "code",
   "execution_count": 41,
   "id": "3d59fc97",
   "metadata": {},
   "outputs": [
    {
     "name": "stdout",
     "output_type": "stream",
     "text": [
      "Found new best at w= 0 >>   IQRP_test = 1.2350434081474826 >>   IQRP_train = 2817180967612.8003\n",
      "On Train data best at w= 0 >IQRP_train = 2817180967612.8003\n"
     ]
    }
   ],
   "source": [
    "spectra = udf.iloc[:, 7:2158].copy()\n",
    "w3, IQRP3 = best_param_MLR (spectra, y_clay, rand_clay, 0.3, 5)"
   ]
  },
  {
   "cell_type": "code",
   "execution_count": 42,
   "id": "24278d6f",
   "metadata": {},
   "outputs": [
    {
     "name": "stdout",
     "output_type": "stream",
     "text": [
      "Found new best at w= 0 >>   IQRP_test = 0.9876182518288584 >>   IQRP_train = 2291973987422.1587\n",
      "Found new best at w= 1 >>   IQRP_test = 0.9883395290344705 >>   IQRP_train = 1862248881434.2417\n",
      "On Train data best at w= 0 >IQRP_train = 2291973987422.1587\n"
     ]
    }
   ],
   "source": [
    "spectra = udf.iloc[:, 7:2158].copy()\n",
    "w4, IQRP4 = best_param_MLR (spectra, y_toc, rand_toc, 0.3, 5)"
   ]
  },
  {
   "cell_type": "markdown",
   "id": "32115dae",
   "metadata": {},
   "source": [
    "# Step 4: Training the Model\n",
    "\n",
    "        - Create a linear regr object\n",
    "        - Apply fit function (using regr object) on training data\n",
    "        - Check the weights/parameters generated by fit function "
   ]
  },
  {
   "cell_type": "code",
   "execution_count": 43,
   "id": "8a1bef02",
   "metadata": {},
   "outputs": [
    {
     "data": {
      "text/plain": [
       "LinearRegression()"
      ]
     },
     "execution_count": 43,
     "metadata": {},
     "output_type": "execute_result"
    }
   ],
   "source": [
    "from sklearn import linear_model\n",
    "\n",
    "regSand = linear_model.LinearRegression()\n",
    "regSilt = linear_model.LinearRegression()\n",
    "regClay = linear_model.LinearRegression()\n",
    "regTOC = linear_model.LinearRegression()\n",
    "\n",
    "# train the model using X_train and y_train (identified in previous step)\n",
    "\n",
    "XSand_train_smth = sgsmooth (XSand_train, w1)       \n",
    "regSand.fit(XSand_train_smth, ySand_train)\n",
    "\n",
    "XSilt_train_smth = sgsmooth (XSilt_train, w2)\n",
    "regSilt.fit(XSilt_train_smth, ySilt_train)\n",
    "\n",
    "XClay_train_smth = sgsmooth (XClay_train, w3)\n",
    "regClay.fit(XClay_train_smth, yClay_train)\n",
    "\n",
    "XTOC_train_smth = sgsmooth (XTOC_train, w4)\n",
    "regTOC.fit(XTOC_train_smth, yTOC_train)\n"
   ]
  },
  {
   "cell_type": "markdown",
   "id": "e2d8567e",
   "metadata": {},
   "source": [
    "# Step 5: Prediction on Test Data "
   ]
  },
  {
   "cell_type": "code",
   "execution_count": 44,
   "id": "b4eea64c",
   "metadata": {},
   "outputs": [
    {
     "ename": "NameError",
     "evalue": "name 'XSand_test_smth' is not defined",
     "output_type": "error",
     "traceback": [
      "\u001b[1;31m---------------------------------------------------------------------------\u001b[0m",
      "\u001b[1;31mNameError\u001b[0m                                 Traceback (most recent call last)",
      "\u001b[1;32m~\\AppData\\Local\\Temp\\ipykernel_7356\\2234776151.py\u001b[0m in \u001b[0;36m<module>\u001b[1;34m\u001b[0m\n\u001b[0;32m      1\u001b[0m \u001b[1;31m# Predition using the trained-Model on the \"Test Data\"\u001b[0m\u001b[1;33m\u001b[0m\u001b[1;33m\u001b[0m\u001b[0m\n\u001b[0;32m      2\u001b[0m \u001b[1;33m\u001b[0m\u001b[0m\n\u001b[1;32m----> 3\u001b[1;33m \u001b[0mySand_pred\u001b[0m \u001b[1;33m=\u001b[0m \u001b[0mregSand\u001b[0m\u001b[1;33m.\u001b[0m\u001b[0mpredict\u001b[0m\u001b[1;33m(\u001b[0m\u001b[0mXSand_test_smth\u001b[0m\u001b[1;33m)\u001b[0m\u001b[1;33m\u001b[0m\u001b[1;33m\u001b[0m\u001b[0m\n\u001b[0m\u001b[0;32m      4\u001b[0m \u001b[0mySand_pred\u001b[0m \u001b[1;33m=\u001b[0m \u001b[0mnp\u001b[0m\u001b[1;33m.\u001b[0m\u001b[0mround\u001b[0m\u001b[1;33m(\u001b[0m\u001b[0mySand_pred\u001b[0m\u001b[1;33m,\u001b[0m \u001b[1;36m2\u001b[0m\u001b[1;33m)\u001b[0m\u001b[1;33m\u001b[0m\u001b[1;33m\u001b[0m\u001b[0m\n\u001b[0;32m      5\u001b[0m \u001b[1;33m\u001b[0m\u001b[0m\n",
      "\u001b[1;31mNameError\u001b[0m: name 'XSand_test_smth' is not defined"
     ]
    }
   ],
   "source": [
    "# Predition using the trained-Model on the \"Test Data\"\n",
    "\n",
    "ySand_pred = regSand.predict(XSand_test_smth)\n",
    "ySand_pred = np.round(ySand_pred, 2)\n",
    "\n",
    "ySilt_pred = regSilt.predict(XSilt_test_smth)\n",
    "ySilt_pred = np.round(ySilt_pred, 2)\n",
    "\n",
    "yClay_pred = regClay.predict(XClay_test_smth)\n",
    "yClay_pred = np.round(yClay_pred, 2)\n",
    "\n",
    "yTOC_pred = regTOC.predict(XTOC_test_smth)\n",
    "yTOC_pred = np.round(yTOC_pred, 2)\n"
   ]
  },
  {
   "cell_type": "markdown",
   "id": "75ae984f",
   "metadata": {},
   "source": [
    "# Step 6: Model Accuracy and Plots"
   ]
  },
  {
   "cell_type": "markdown",
   "id": "22141971",
   "metadata": {},
   "source": [
    "###  Model Accuracy  (Sand)"
   ]
  },
  {
   "cell_type": "code",
   "execution_count": 462,
   "id": "12008a42",
   "metadata": {},
   "outputs": [
    {
     "name": "stdout",
     "output_type": "stream",
     "text": [
      "Sand Model Accuracy\n",
      "Root Mean Square Error (Training): 0.000\n",
      "Root Mean Square Error (Testing): 0.847\n"
     ]
    }
   ],
   "source": [
    "#  Mean percentage error\n",
    "#error = np.mean(abs((ySand_pred - ySand_test)/ySand_test))\n",
    "\n",
    "#  Calculate the rmse for training data\n",
    "yhatSand_pred = regSand.predict(XSand_train)\n",
    "mseTrain = mean_squared_error(ySand_train, yhatSand_pred)\n",
    "rmseTrain = np.sqrt(mseTrain)\n",
    "#  Calculate the rmse for testing data\n",
    "mseTest = mean_squared_error(ySand_test, ySand_pred)\n",
    "rmseTest = np.sqrt(mseTest)\n",
    "\n",
    "print('Sand Model Accuracy') \n",
    "#print('Mean Percentage Error:', error*100)  \n",
    "print('Root Mean Square Error (Training): %.3f' % rmseTrain)\n",
    "print('Root Mean Square Error (Testing): %.3f' % rmseTest)\n",
    "rmseSand = rmseTest"
   ]
  },
  {
   "cell_type": "markdown",
   "id": "474ee450",
   "metadata": {},
   "source": [
    "###  Model Accuracy  (Silt)"
   ]
  },
  {
   "cell_type": "code",
   "execution_count": 463,
   "id": "e0c7d86b",
   "metadata": {},
   "outputs": [
    {
     "name": "stdout",
     "output_type": "stream",
     "text": [
      "Silt Model Accuracy\n",
      "Root Mean Square Error (Training): 0.000\n",
      "Root Mean Square Error (Testing): 1.697\n"
     ]
    }
   ],
   "source": [
    "#  Mean percentage error\n",
    "\n",
    "#  Calculate the rmse for training data\n",
    "yhatSilt_pred = regSilt.predict(XSilt_train)\n",
    "mseTrain = mean_squared_error(ySilt_train, yhatSilt_pred)\n",
    "rmseTrain = np.sqrt(mseTrain)\n",
    "#  Calculate the rmse for testing data\n",
    "mseTest = mean_squared_error(ySilt_test, ySilt_pred)\n",
    "rmseTest = np.sqrt(mseTest)\n",
    "\n",
    "print('Silt Model Accuracy')   \n",
    "print('Root Mean Square Error (Training): %.3f' % rmseTrain)\n",
    "print('Root Mean Square Error (Testing): %.3f' % rmseTest)\n",
    "rmseSilt = rmseTest"
   ]
  },
  {
   "cell_type": "markdown",
   "id": "2443d98a",
   "metadata": {},
   "source": [
    "###  Model Accuracy  (Clay)"
   ]
  },
  {
   "cell_type": "code",
   "execution_count": 464,
   "id": "956f13a0",
   "metadata": {},
   "outputs": [
    {
     "name": "stdout",
     "output_type": "stream",
     "text": [
      "Clay Model Accuracy\n",
      "Root Mean Square Error (Training): 0.000\n",
      "Root Mean Square Error (Testing): 2.494\n"
     ]
    }
   ],
   "source": [
    "#  Mean percentage error\n",
    "\n",
    "#  Calculate the rmse for training data\n",
    "yhatClay_pred = regClay.predict(XClay_train)\n",
    "mseTrain = mean_squared_error(yClay_train, yhatClay_pred)\n",
    "rmseTrain = np.sqrt(mseTrain)\n",
    "#  Calculate the rmse for testing data\n",
    "mseTest = mean_squared_error(yClay_test, yClay_pred)\n",
    "rmseTest = np.sqrt(mseTest)\n",
    "\n",
    "print('Clay Model Accuracy') \n",
    "print('Root Mean Square Error (Training): %.3f' % rmseTrain)\n",
    "print('Root Mean Square Error (Testing): %.3f' % rmseTest)\n",
    "rmseClay = rmseTest"
   ]
  },
  {
   "cell_type": "markdown",
   "id": "036ec8db",
   "metadata": {},
   "source": [
    "###  Model Accuracy  (TOC)"
   ]
  },
  {
   "cell_type": "code",
   "execution_count": 465,
   "id": "92a0a241",
   "metadata": {},
   "outputs": [
    {
     "name": "stdout",
     "output_type": "stream",
     "text": [
      "Total Organic Content Model Accuracy\n",
      "Root Mean Square Error (Training): 0.000\n",
      "Root Mean Square Error (Testing): 1.564\n"
     ]
    }
   ],
   "source": [
    "#  Mean percentage error\n",
    "\n",
    "#  Calculate the rmse for training data\n",
    "yhatTOC_pred = regTOC.predict(XTOC_train)\n",
    "mseTrain = mean_squared_error(yTOC_train, yhatTOC_pred)\n",
    "rmseTrain = np.sqrt(mseTrain)\n",
    "#  Calculate the rmse for testing data\n",
    "mseTest = mean_squared_error(yTOC_test, yTOC_pred)\n",
    "rmseTest = np.sqrt(mseTest)\n",
    "\n",
    "print('Total Organic Content Model Accuracy') \n",
    "#print('Mean Percentage Error:', error*100)  \n",
    "print('Root Mean Square Error (Training): %.3f' % rmseTrain)\n",
    "print('Root Mean Square Error (Testing): %.3f' % rmseTest)\n",
    "rmseTOC = rmseTest"
   ]
  },
  {
   "cell_type": "code",
   "execution_count": 466,
   "id": "f53548c6",
   "metadata": {},
   "outputs": [],
   "source": [
    "# Merging actual and predicted (Test data) in one data frame for plots\n",
    "ySand_tp = pd.DataFrame({'actual':ySand_test.values, 'predic': ySand_pred})\n",
    "ySand_sortedA = ySand_tp.sort_values(by =['actual'])\n",
    "ySand_srtA = ySand_sortedA.reset_index(drop=True)\n",
    "\n",
    "ySilt_tp = pd.DataFrame({'actual':ySilt_test.values, 'predic': ySilt_pred})\n",
    "ySilt_sortedA = ySilt_tp.sort_values(by =['actual'])\n",
    "ySilt_srtA = ySilt_sortedA.reset_index(drop=True)\n",
    "\n",
    "yClay_tp = pd.DataFrame({'actual':yClay_test.values, 'predic': yClay_pred})\n",
    "yClay_sortedA = yClay_tp.sort_values(by =['actual'])\n",
    "yClay_srtA = yClay_sortedA.reset_index(drop=True)\n",
    "\n",
    "yTOC_tp = pd.DataFrame({'actual':yTOC_test.values, 'predic': yTOC_pred})\n",
    "yTOC_sortedA = yTOC_tp.sort_values(by =['actual'])\n",
    "yTOC_srtA = yTOC_sortedA.reset_index(drop=True)"
   ]
  },
  {
   "cell_type": "code",
   "execution_count": 468,
   "id": "9aa86d4a",
   "metadata": {},
   "outputs": [
    {
     "data": {
      "application/vnd.jupyter.widget-view+json": {
       "model_id": "5da59668cf694cdebad8fa136caca22d",
       "version_major": 2,
       "version_minor": 0
      },
      "text/plain": [
       "interactive(children=(Dropdown(description='target', options=('sand', 'clay', 'silt', 'TOC', 'All'), value='sa…"
      ]
     },
     "metadata": {},
     "output_type": "display_data"
    },
    {
     "data": {
      "text/plain": [
       "<function __main__.plot_pred_acc(target)>"
      ]
     },
     "execution_count": 468,
     "metadata": {},
     "output_type": "execute_result"
    }
   ],
   "source": [
    "# Plots for Visualising the Model Accuracy\n",
    "plt.style.use(['science','notebook','grid'])\n",
    "\n",
    "def plot_pred_acc (target):\n",
    "\n",
    "    fig, axes = plt.subplots(1,1, figsize=(8,7))\n",
    "\n",
    "    if target == 'sand':\n",
    "        ySand_srtA.plot.scatter(ax= axes, x=\"actual\", y=\"predic\", alpha=0.8, color = balu)\n",
    "        axes.tick_params(axis='both', labelsize=10)\n",
    "        plt.text(1, 11, 'SAND', fontsize = 20, color = balu)\n",
    "        plt.text(1, 10.2, 'RMSE ={:.2f}'.format(rmseSand), fontsize = 16)\n",
    "\n",
    "    elif target == 'clay':\n",
    "        yClay_srtA.plot.scatter(ax= axes, x=\"actual\", y=\"predic\", alpha=0.8, color = mati)\n",
    "        axes.tick_params(axis='both', labelsize=10)\n",
    "        plt.text(1, 11, 'CLAY', fontsize = 20, color = mati)\n",
    "        plt.text(1, 10.2, 'RMSE ={:.2f}'.format(rmseClay), fontsize = 16)\n",
    "        \n",
    "    elif target == 'silt':\n",
    "        ySilt_srtA.plot.scatter(ax= axes, x=\"actual\", y=\"predic\", alpha=0.8, color = kado)\n",
    "        axes.tick_params(axis='both', labelsize=10)\n",
    "        plt.text(1, 11, 'SILT', fontsize = 20, color = kado)\n",
    "        plt.text(1, 10.2, 'RMSE ={:.2f}'.format(rmseSilt), fontsize = 16)\n",
    "\n",
    "    elif target == 'TOC':\n",
    "        yTOC_srtA.plot.scatter(ax= axes, x=\"actual\", y=\"predic\", alpha=0.8, color = 'green')\n",
    "        axes.tick_params(axis='both', labelsize=10)\n",
    "        plt.text(1, 11, 'TOC', fontsize = 20, color = 'green')\n",
    "        plt.text(1, 10.2, 'RMSE ={:.2f}'.format(rmseTOC), fontsize = 16)\n",
    "        \n",
    "    else:  \n",
    "        ySand_srtA.plot.scatter(ax= axes, x=\"actual\", y=\"predic\", alpha=0.8, color = balu)\n",
    "        axes.tick_params(axis='both', labelsize=10)\n",
    "        plt.text(3, 11, 'SAND', fontsize = 20, color = balu)\n",
    "        yClay_srtA.plot.scatter(ax= axes, x=\"actual\", y=\"predic\", alpha=0.8, color = mati)\n",
    "        axes.tick_params(axis='both', labelsize=10)\n",
    "        plt.text(3, 10, 'CLAY', fontsize = 20, color = mati)\n",
    "        ySilt_srtA.plot.scatter(ax= axes, x=\"actual\", y=\"predic\", alpha=0.8, color = kado)\n",
    "        axes.tick_params(axis='both', labelsize=10)\n",
    "        plt.text(1, 11, 'SILT', fontsize = 20, color = kado)\n",
    "        yTOC_srtA.plot.scatter(ax= axes, x=\"actual\", y=\"predic\", alpha=0.8, color = 'green')\n",
    "        axes.tick_params(axis='both', labelsize=10)\n",
    "        plt.text(1, 10, 'TOC', fontsize = 20, color = 'green')\n",
    "\n",
    "    fig.suptitle('Predictions on \"Test\" Data', x = 0.5 ,y = .95, fontsize=20)\n",
    "    plt.xlim([0, 12])\n",
    "    plt.ylim([0, 12])\n",
    "    plt.show()\n",
    "\n",
    "ipywidgets.interact(plot_pred_acc, target = ['sand', 'clay', 'silt', 'TOC', 'All'])\n"
   ]
  },
  {
   "cell_type": "code",
   "execution_count": null,
   "id": "5d2f40b0",
   "metadata": {},
   "outputs": [],
   "source": []
  },
  {
   "cell_type": "code",
   "execution_count": null,
   "id": "d828c633",
   "metadata": {},
   "outputs": [],
   "source": []
  }
 ],
 "metadata": {
  "kernelspec": {
   "display_name": "Python 3 (ipykernel)",
   "language": "python",
   "name": "python3"
  },
  "language_info": {
   "codemirror_mode": {
    "name": "ipython",
    "version": 3
   },
   "file_extension": ".py",
   "mimetype": "text/x-python",
   "name": "python",
   "nbconvert_exporter": "python",
   "pygments_lexer": "ipython3",
   "version": "3.9.13"
  }
 },
 "nbformat": 4,
 "nbformat_minor": 5
}
