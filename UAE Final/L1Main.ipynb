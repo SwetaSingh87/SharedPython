{
 "cells": [
  {
   "cell_type": "markdown",
   "id": "9e44ac43",
   "metadata": {},
   "source": [
    "# Importing Header and SoilPrep"
   ]
  },
  {
   "cell_type": "code",
   "execution_count": 2,
   "id": "188e54fc",
   "metadata": {},
   "outputs": [
    {
     "name": "stdout",
     "output_type": "stream",
     "text": [
      "importing Jupyter notebook from Header.ipynb\n"
     ]
    }
   ],
   "source": [
    "import import_ipynb \n",
    "from Header import *"
   ]
  },
  {
   "cell_type": "code",
   "execution_count": 3,
   "id": "22684781",
   "metadata": {},
   "outputs": [
    {
     "name": "stdout",
     "output_type": "stream",
     "text": [
      "importing Jupyter notebook from SoilPrep.ipynb\n"
     ]
    }
   ],
   "source": [
    "import import_ipynb\n",
    "from SoilPrep import * "
   ]
  },
  {
   "cell_type": "markdown",
   "id": "4bf91556",
   "metadata": {},
   "source": [
    "## Loading Data and MetaData"
   ]
  },
  {
   "cell_type": "code",
   "execution_count": 4,
   "id": "76054719",
   "metadata": {},
   "outputs": [
    {
     "name": "stdout",
     "output_type": "stream",
     "text": [
      "importing Jupyter notebook from LoadDataMetaData.ipynb\n"
     ]
    }
   ],
   "source": [
    "import import_ipynb\n",
    "from LoadDataMetaData import *"
   ]
  },
  {
   "cell_type": "markdown",
   "id": "fb33b3e5",
   "metadata": {},
   "source": [
    "# Step 3: Leave one out Predictions"
   ]
  },
  {
   "cell_type": "markdown",
   "id": "fdf5ad81",
   "metadata": {},
   "source": [
    "##  find_y_pred"
   ]
  },
  {
   "cell_type": "code",
   "execution_count": 4,
   "id": "7ec67bd9",
   "metadata": {},
   "outputs": [],
   "source": [
    "def find_y_pred (spectra, target, method):\n",
    "    m = method\n",
    "    (r,c) = spectra.shape\n",
    "    \n",
    "    Y_test = target.copy()\n",
    "    Y_pred = target.copy()\n",
    "    \n",
    "    n_comp = 'NA'\n",
    "    \n",
    "#     if method == 'plsr':\n",
    "#         #--- avg_iqrp[n] stores iqrp for plsr when plsr model is created with 'n' n_comp... \n",
    "#         avg_iqrp =[0]\n",
    "#         Yp =['NA']\n",
    "#         for n in range (1,max_n_comp):\n",
    "#             for i in range (0,r): \n",
    "#                 full_spec = spectra.copy()\n",
    "#                 X_train = full_spec.drop(full_spec.index[i], axis=0)\n",
    "#                 X_test = full_spec.iloc[[i],:].copy()\n",
    "#                 full_tar = target.copy()\n",
    "#                 y_train = full_tar.drop(full_tar.index[i], axis=0)\n",
    "#                 y_test = full_tar.iloc[i].copy() \n",
    "            \n",
    "#                 Model = PLSRegression(n_components=n, scale=True)\n",
    "#                 Model.fit(X_train, y_train)\n",
    "#                 y_pred = Model.predict(X_test, copy=True)\n",
    "#                 Y_pred.iloc[i] = y_pred\n",
    "                \n",
    "                \n",
    "#             avg_iqrp.append(np.round(find_iqrp (Y_pred, Y_test),2))\n",
    "            \n",
    "#             Yp.append(Y_pred)\n",
    "        \n",
    "#         max_iqrp = max(avg_iqrp)\n",
    "#         n_comp = avg_iqrp.index(max_iqrp)\n",
    "#         Y_pred = Yp[n_comp]\n",
    "                \n",
    "        \n",
    "        \n",
    "    if method == 'plsr':\n",
    "        #--- avg_iqrp[n] stores iqrp for plsr when plsr model is created with 'n' n_comp... \n",
    "        avg_iqrp =[]\n",
    "        Y_pred = []        \n",
    "        N =[]\n",
    "        \n",
    "        for n in range (0,max_n_comp):\n",
    "            avg_iqrp.append(0)\n",
    "            Y_pred.append(target.copy())\n",
    "            N.append(n)\n",
    "        \n",
    "        for i in range (0,r): \n",
    "            print('i: ', i)\n",
    "            full_spec = spectra.copy()\n",
    "            X_train = full_spec.drop(full_spec.index[i], axis=0)\n",
    "            X_test = full_spec.iloc[[i],:].copy()\n",
    "            full_tar = target.copy()\n",
    "            y_train = full_tar.drop(full_tar.index[i], axis=0)\n",
    "            y_test = full_tar.iloc[i].copy() \n",
    "            \n",
    "            Model = list(map(lambda x: (PLSRegression(n_components=x+1, scale=True)), N))            \n",
    "            Model = list(map(lambda x: Model[x].fit(X_train, y_train), N))            \n",
    "            y_pred = list(map(lambda x:Model[x].predict(X_test, copy=True), N))                          \n",
    "            for n in range (0,max_n_comp):\n",
    "                Y_pred[n].iloc[i] = y_pred[n]\n",
    "                                \n",
    "                \n",
    "        for n in range (0,max_n_comp):        \n",
    "            avg_iqrp[n] = (np.round(find_iqrp (Y_pred[n], Y_test),2))\n",
    "            \n",
    "        Yp = Y_pred.copy()\n",
    "        \n",
    "        max_iqrp = max(avg_iqrp)\n",
    "        n_comp = avg_iqrp.index(max_iqrp) + 1\n",
    "        Y_pred = Yp[n_comp - 1]\n",
    "                \n",
    "            \n",
    "    else:  \n",
    "        for i in range (0,r): \n",
    "            #print('i: ', i)\n",
    "            full_spec = spectra.copy()\n",
    "            X_train = full_spec.drop(full_spec.index[i], axis=0)\n",
    "            X_test = full_spec.iloc[[i],:].copy()\n",
    "            full_tar = target.copy()\n",
    "            y_train = full_tar.drop(full_tar.index[i], axis=0)\n",
    "            y_test = full_tar.iloc[i].copy() \n",
    "            \n",
    "            #----- MULTILINEAR:  fitting, and prediction---------- \n",
    "            if m == 'mult':\n",
    "                Model = linear_model.LinearRegression()    \n",
    "            #----- RANDOM_FOREST:   fitting, and prediction---------- \n",
    "            elif m == 'randomforest': \n",
    "                Model = RandomForestRegressor(random_state= 23)    \n",
    "            #----- CUBIST REGRESSION:    fitting and prediction---------\n",
    "            elif m == 'cubist':\n",
    "                Model = Cubist(n_rules = 50, n_committees = 5, random_state = 42)    \n",
    "            #------ SUPPORT VECTOR MACHINE FOR REGRESSION: fitting and prediction-----------      \n",
    "            elif m == 'svr': \n",
    "                Model = SVR()\n",
    "            #------ RIDGE REGRESSION: fitting and prediction-----------      \n",
    "            elif m == 'ridge': \n",
    "                Model = KernelRidge(alpha=0.001)\n",
    "            #------ LASSO REGRESSION: fitting and prediction-----------      \n",
    "            elif m == 'lasso': \n",
    "                Model = Lasso()   \n",
    "            #------ GRADIENT BOOSTING REGRESSION: fitting and prediction-----------      \n",
    "            else: \n",
    "                Model = GradientBoostingRegressor()\n",
    "                    \n",
    "            Model.fit(X_train, y_train)\n",
    "            y_pred = Model.predict(X_test)\n",
    "            #print(y_pred.shape)\n",
    "            Y_pred.iloc[i] = y_pred\n",
    "\n",
    "    return (Y_pred, n_comp)"
   ]
  },
  {
   "cell_type": "markdown",
   "id": "d908099c",
   "metadata": {},
   "source": [
    "# Step 4: Building Model Tree (Mtree)"
   ]
  },
  {
   "cell_type": "code",
   "execution_count": 5,
   "id": "07468618",
   "metadata": {},
   "outputs": [],
   "source": [
    "import os\n",
    "os.system('say \"your Meta Tree started building\"')\n",
    "import time"
   ]
  },
  {
   "cell_type": "code",
   "execution_count": 6,
   "id": "f4a97c5c",
   "metadata": {},
   "outputs": [],
   "source": [
    "# 0. Available machine learning regression models --------------------------------- (7)\n",
    "#ml_methods = ['mult', 'plsr', 'randomforest', 'svr', 'ridge', 'gbrt']\n",
    "#ml_methods = ['mult', 'plsr', 'cubist', 'randomforest', 'ridge' 'gbrt', 'svr']"
   ]
  },
  {
   "cell_type": "code",
   "execution_count": 7,
   "id": "260bf25a",
   "metadata": {},
   "outputs": [],
   "source": [
    "def build_tree_on (method_name, target):\n",
    "    tree ={}\n",
    "    start = time.time()\n",
    "    m = method_name\n",
    "    t = target\n",
    "    \n",
    "    print('tree for: '+ m +' ------> running on: ' + t)\n",
    "    \n",
    "    for tp in prepare_target:\n",
    "        tree[tp] ={}\n",
    "        for p in prepare_spec:\n",
    "            tree[tp][p] ={}\n",
    "            for n in nbands_sampling:\n",
    "                tree[tp][p][n] ={}\n",
    "                Y = tree[tp][p][n]\n",
    "                    \n",
    "                        \n",
    "                #------ setting spec to appropriate (sampled) spectra----\n",
    "                if p == 'none':\n",
    "                    if n == 0:\n",
    "                        if m == 'randomforest' or m == 'cubist' or m == 'gbrt':\n",
    "                            #---- reched here due to tree based methods e.g. randomforest--\n",
    "                            spec = sampled_spec[100]\n",
    "                        else:\n",
    "                            spec = spec2[51]\n",
    "                    else:\n",
    "                        #---- reached here with some n!=0----\n",
    "                         spec = sampled_spec[n]\n",
    "                        \n",
    "#                     elif p == 'fod':\n",
    "#                         if n == 0:\n",
    "#                             if m == 'randomforest' or m == 'cubist' or m == 'gbrt':\n",
    "#                                 #---- reched here due to tree based methods e.g. randomforest--\n",
    "#                                 spec = sampled_fod[100]\n",
    "#                             else:\n",
    "#                                 spec = fod_spec\n",
    "#                         else:\n",
    "#                             #---- reached here with some n!=0----\n",
    "#                             spec = sampled_fod[n]\n",
    "                elif p == 'fod2':\n",
    "                    if n == 0:\n",
    "                        if m == 'randomforest' or m == 'cubist' or m == 'gbrt':\n",
    "                            #---- reched here due to tree based methods e.g. randomforest--\n",
    "                            spec = fod_sampled[100]\n",
    "                        else:\n",
    "                            spec = fod_spec\n",
    "                    else:\n",
    "                        #---- reached here with some n!=0----\n",
    "                        spec = fod_sampled[n]            \n",
    "                elif p== 'continuum':  \n",
    "                    if n == 0:\n",
    "                        if m == 'randomforest' or m == 'cubist' or m == 'gbrt':\n",
    "                            #---- reched here due to tree based methods e.g. randomforest--\n",
    "                            spec = sampled_cr[100]\n",
    "                        else:\n",
    "                            spec = cr_spec\n",
    "                    else:\n",
    "                        #---- reached here with some n!=0----\n",
    "                        spec = sampled_cr[n]\n",
    "                        \n",
    "                else: \n",
    "                    if n == 0:\n",
    "                        if m == 'randomforest' or m == 'cubist' or m == 'gbrt':\n",
    "                            #---- reched here due to tree based methods e.g. randomforest--\n",
    "                            spec = sampled_log[100]\n",
    "                        else:\n",
    "                            spec = log_spec\n",
    "                    else:\n",
    "                        #---- reached here with some n!=0----\n",
    "                        spec = sampled_log[n]\n",
    "                    \n",
    "                    \n",
    "                    \n",
    "                #---- target selection and normalization ---\n",
    "                if tp == 'none':\n",
    "                    y = T[target_names.index(t)]\n",
    "                    rand_n = rand_t[target_names.index(t)]  #-- for future use in train-test split\n",
    "                else:\n",
    "                    y = NT[target_names.index(t)]\n",
    "                    rand_n = rand_nt[target_names.index(t)] #-- for future use in train-test split\n",
    "                    #print('one more target set')\n",
    "                            \n",
    "                #----- calling find_y_pred to compute leave one out predictions----\n",
    "                y_pred, n_com = find_y_pred (spec, y, m)\n",
    "                y_test = y\n",
    "                    \n",
    "                    \n",
    "#                     print(y_test.shape)\n",
    "#                     print(y_pred.shape)\n",
    "                    \n",
    "#                     if m == 'plsr':\n",
    "#                         y_pred = y_pred[:,0]\n",
    "                    \n",
    "                #----- Model accuracy evaluation and plotting datas-----------\n",
    "                            \n",
    "                Y['test'] = y_test\n",
    "                Y['testP'] = y_pred\n",
    "                Y['n_comp'] = n_com\n",
    "                    \n",
    "                    \n",
    "                    \n",
    "\n",
    "                Y['iqrp_test'] = find_iqrp(y_pred, y_test)\n",
    "                Y['r2_test'] = find_r2(y_pred, y_test)\n",
    "                Y['rpd_test'] = find_rpd(y_pred, y_test)                    \n",
    "                Y['rmse_test'] = find_rmse(y_pred, y_test)\n",
    "                                                                \n",
    "                                                                         \n",
    "    end = time.time()                            \n",
    "    os.system('say \"your meta tree finished for one more method\"')                            \n",
    "\n",
    "    print('End time - Start time =', (end-start)) \n",
    "    \n",
    "    return (tree.copy())"
   ]
  },
  {
   "cell_type": "code",
   "execution_count": 8,
   "id": "36d247b4",
   "metadata": {},
   "outputs": [],
   "source": [
    "def build_tree_for (method_name):\n",
    "    tree ={}\n",
    "    start = time.time()\n",
    "    m = method_name\n",
    "    #-- code to build tree----\n",
    "    for t in target_names:\n",
    "        print('tree for: '+ m +' ------> running on: ' + t)\n",
    "        tree[t] ={}\n",
    "        for tp in prepare_target:\n",
    "            tree[t][tp] ={}\n",
    "            for p in prepare_spec:\n",
    "                tree[t][tp][p] ={}\n",
    "                for n in nbands_sampling:\n",
    "                    tree[t][tp][p][n] ={}\n",
    "                    Y = tree[t][tp][p][n]\n",
    "                    \n",
    "                        \n",
    "                    #------ setting spec to appropriate (sampled) spectra----\n",
    "                    if p == 'none':\n",
    "                        if n == 0:\n",
    "                            if m == 'randomforest' or m == 'cubist' or m == 'gbrt':\n",
    "                                #---- reched here due to tree based methods e.g. randomforest--\n",
    "                                spec = sampled_spec[100]\n",
    "                            else:\n",
    "                                spec = spec2[51]\n",
    "                        else:\n",
    "                            #---- reached here with some n!=0----\n",
    "                            spec = sampled_spec[n]\n",
    "\n",
    "                    elif p == 'fod2':\n",
    "                        if n == 0:\n",
    "                            if m == 'randomforest' or m == 'cubist' or m == 'gbrt':\n",
    "                                #---- reched here due to tree based methods e.g. randomforest--\n",
    "                                spec = fod_sampled[100]\n",
    "                            else:\n",
    "                                spec = fod_spec\n",
    "                        else:\n",
    "                            #---- reached here with some n!=0----\n",
    "                            spec = fod_sampled[n]            \n",
    "                    elif p== 'continuum':  \n",
    "                        if n == 0:\n",
    "                            if m == 'randomforest' or m == 'cubist' or m == 'gbrt':\n",
    "                                #---- reched here due to tree based methods e.g. randomforest--\n",
    "                                spec = sampled_cr[100]\n",
    "                            else:\n",
    "                                spec = cr_spec\n",
    "                        else:\n",
    "                            #---- reached here with some n!=0----\n",
    "                            spec = sampled_cr[n]\n",
    "                        \n",
    "                    else: \n",
    "                        if n == 0:\n",
    "                            if m == 'randomforest' or m == 'cubist' or m == 'gbrt':\n",
    "                                #---- reched here due to tree based methods e.g. randomforest--\n",
    "                                spec = sampled_log[100]\n",
    "                            else:\n",
    "                                spec = log_spec\n",
    "                        else:\n",
    "                            #---- reached here with some n!=0----\n",
    "                            spec = sampled_log[n]\n",
    "                    \n",
    "                    \n",
    "                    \n",
    "                    #---- target selection and normalization ---\n",
    "                    if tp == 'none':\n",
    "                        y = T[target_names.index(t)]\n",
    "                        rand_n = rand_t[target_names.index(t)]  #-- for future use in train-test split\n",
    "                    else:\n",
    "                        y = NT[target_names.index(t)]\n",
    "                        rand_n = rand_nt[target_names.index(t)] #-- for future use in train-test split\n",
    "                        #print('one more target set')\n",
    "                            \n",
    "                    #----- calling find_y_pred to compute leave one out predictions----\n",
    "                    y_pred, n_com = find_y_pred (spec, y, m)\n",
    "                    y_test = y\n",
    "                    \n",
    "                    \n",
    "#                     print(y_test.shape)\n",
    "#                     print(y_pred.shape)\n",
    "                    \n",
    "#                     if m == 'plsr':\n",
    "#                         y_pred = y_pred[:,0]\n",
    "                    \n",
    "                    #----- Model accuracy evaluation and plotting datas-----------\n",
    "                                \n",
    "                    Y['test'] = y_test\n",
    "                    Y['testP'] = y_pred\n",
    "                    Y['n_comp'] = n_com\n",
    "                    \n",
    "                    \n",
    "                    \n",
    "\n",
    "                    Y['iqrp_test'] = find_iqrp(y_pred, y_test)\n",
    "                    Y['r2_test'] = find_r2(y_pred, y_test)\n",
    "                    Y['rpd_test'] = find_rpd(y_pred, y_test)\n",
    "                    Y['rmse_test'] = find_rmse(y_pred, y_test)\n",
    "                                                                \n",
    "                                                                         \n",
    "    end = time.time()                            \n",
    "    os.system('say \"your meta tree finished for one more method\"')                            \n",
    "\n",
    "    print('End time - Start time =', (end-start)) \n",
    "    \n",
    "    return (tree.copy())\n"
   ]
  },
  {
   "cell_type": "markdown",
   "id": "a5b71507",
   "metadata": {},
   "source": [
    "## Loading the saved Mtree"
   ]
  },
  {
   "cell_type": "code",
   "execution_count": 5,
   "id": "a2bd545a",
   "metadata": {},
   "outputs": [],
   "source": [
    "with open ('L1Mtree.pickle', 'rb') as file:\n",
    "    Mtree = pickle.load(file)\n",
    "    "
   ]
  },
  {
   "cell_type": "markdown",
   "id": "71e1faa5",
   "metadata": {},
   "source": [
    "## Best of all worlds"
   ]
  },
  {
   "cell_type": "code",
   "execution_count": 10,
   "id": "a1f85e45",
   "metadata": {},
   "outputs": [],
   "source": [
    "#ml_methods = ['mult', 'plsr', 'randomforest','svr', 'ridge', 'gbrt']"
   ]
  },
  {
   "cell_type": "code",
   "execution_count": 11,
   "id": "04241275",
   "metadata": {},
   "outputs": [],
   "source": [
    "def best_score_on (Mtree, target, method, scorer):\n",
    "    t=target\n",
    "    m= method\n",
    "    \n",
    "    best_score = -1\n",
    "    best_n_comp = 'NA'\n",
    "    \n",
    "    \n",
    "    for tp in prepare_target:\n",
    "        for p in prepare_spec:\n",
    "            for n in nbands_sampling:\n",
    "                Y = Mtree[m][t][tp][p][n]\n",
    "                #r2_train = Y['r2_train']\n",
    "                r2_test = Y['r2_test']\n",
    "                    \n",
    "                if scorer == 'iqrp':\n",
    "                    cur_score = Y['iqrp_test']\n",
    "                elif scorer == 'rpd':\n",
    "                    cur_score = Y['rpd_test']\n",
    "                else:\n",
    "                    cur_score = Y['r2_test']  \n",
    "                    \n",
    "                if cur_score > best_score:\n",
    "                    best_score = cur_score\n",
    "                    best_tp = tp\n",
    "                    best_n = n\n",
    "                    best_p = p\n",
    "                    if m == 'plsr':\n",
    "                        best_n_comp = Y['n_comp']\n",
    "                            \n",
    "    param_list = [scorer, np.round(best_score,2), 'Spec:', best_p, 'bands:', best_n, 'Tar:', best_tp]                                 \n",
    "    return (param_list)                                \n",
    "    "
   ]
  },
  {
   "cell_type": "code",
   "execution_count": 12,
   "id": "0b8e5bf2",
   "metadata": {},
   "outputs": [],
   "source": [
    "def best_score_for (Mtree, target, scorer):\n",
    "    \n",
    "    for method in ml_methods:\n",
    "        param_list= best_score_on (Mtree, target, method, scorer)\n",
    "        print('For:'+target+'->', param_list, ':'+method)\n",
    "     \n",
    "    return"
   ]
  },
  {
   "cell_type": "markdown",
   "id": "fe74d829",
   "metadata": {},
   "source": [
    "## Plotting Model Accuracy (ipywidgets)"
   ]
  },
  {
   "cell_type": "code",
   "execution_count": 7,
   "id": "8dd90a0e",
   "metadata": {},
   "outputs": [],
   "source": [
    "def plot_model_acc (method, target, target_preprocessing, spec_preprocessing, n_bands):\n",
    "    \n",
    "    m = method\n",
    "    t = target\n",
    "    \n",
    "    i = target_names.index(target)\n",
    "    \n",
    "    \n",
    "    p = spec_preprocessing\n",
    "    n = n_bands\n",
    "    tp = target_preprocessing\n",
    "    \n",
    "    Y = Mtree[m][t][tp][p][n]\n",
    "    \n",
    "    y_test = Y['test']\n",
    "    y_pred = Y['testP']\n",
    "#     y_train = Y['train']\n",
    "#     yhat_pred = Y['trainP']\n",
    "    \n",
    "    if m == 'plsr':\n",
    "        n_com = Y['n_comp']\n",
    "        #y_pred = y_pred[:,0]\n",
    "        #yhat_pred = yhat_pred[:,0]\n",
    "    \n",
    "    \n",
    "    iqrp_test = Y['iqrp_test']\n",
    "    r2_test = Y['r2_test']\n",
    "    rpd_test = Y['rpd_test']\n",
    "    \n",
    "#     iqrp_train = find_iqrp(yhat_pred, y_train)\n",
    "#     r2_train = find_r2(yhat_pred, y_train)\n",
    "#     rpd_train = find_rpd(yhat_pred, y_train)\n",
    "    \n",
    "    y_tp = pd.DataFrame({'actual':y_test.values, 'predic': y_pred})\n",
    "    z = np.polyfit(y_test, y_pred, 1)\n",
    "    \n",
    "#     yhat_tp = pd.DataFrame({'actual':y_train.values, 'predic': yhat_pred})\n",
    "#     zhat = np.polyfit(y_train, yhat_pred, 1)\n",
    "    \n",
    "    fig, axes = plt.subplots(1,2, figsize=(18,8))\n",
    "    \n",
    "    #with plt.style.context(('ggplot')): ---- PLOT of test-prediction --------------------------------------\n",
    "    y_tp.plot.scatter(ax= axes[0], x=\"actual\", y=\"predic\", alpha=0.8, color = clr[i], edgecolors='k')\n",
    "    axes[0].plot(y_test, np.polyval(z, y_test),  c='blue', linewidth=1)\n",
    "    axes[0].plot(y_test, y_test, color='green', linewidth=1)\n",
    "    axes[0].tick_params(axis='both', labelsize=10)\n",
    "    axes[0].text(0.05, 0.95, target_names[i]+' (Test Data)', transform=axes[0].transAxes, fontsize = 20, color = clr[i])\n",
    "    axes[0].text(0.05, 0.90, 'IQRP ={:.2f}'.format(iqrp_test), transform=axes[0].transAxes, fontsize = 16)\n",
    "    axes[0].text(0.05, 0.85, 'RPD ={:.2f}'.format(rpd_test), transform=axes[0].transAxes, fontsize = 16)\n",
    "    axes[0].text(0.05, 0.80, 'R2 ={:.2f}'.format(np.round(r2_test,3)), transform=axes[0].transAxes, fontsize = 16)\n",
    "    axes[0].text(0.95, 0.15, 'Method: '+method, transform=axes[0].transAxes, \n",
    "                    horizontalalignment='right', fontsize = 20)\n",
    "    \n",
    "    if method == 'plsr':\n",
    "        axes[0].text(0.95, 0.05, 'n_component={:.2f}'.format(n_com), transform=axes[0].transAxes, \n",
    "                    horizontalalignment='right', fontsize = 12)\n",
    "    \n",
    "     #------------------------ Ploting R2 Vs N_bands-----------------------------------\n",
    "    \n",
    "    #--- data for creating n_bands vs r2 scores plot -------------------------------\n",
    "    \n",
    "    pY = Mtree[m][t]['none'][p]\n",
    "    pYN = Mtree[m][t]['minmax'][p]\n",
    "    \n",
    "    \n",
    "    X = nbands_sampling\n",
    "    \n",
    "    Yr2 = []\n",
    "    YNr2 = []\n",
    "    \n",
    "    \n",
    "    for j in X:\n",
    "        Yr2.append(pY[j]['r2_test']) \n",
    "        YNr2.append(pYN[j]['r2_test'])\n",
    "        \n",
    "        \n",
    "   \n",
    "    j = 0\n",
    "    while j < len(Yr2): \n",
    "        if Yr2[j] <= 0:\n",
    "            Yr2[j] = 0\n",
    "        if YNr2[j] <= 0:\n",
    "            YNr2[j] = 0\n",
    "        \n",
    "        j = j + 1\n",
    " \n",
    "    #------------------------------ STEM PLOT ---- for accuracy Vs n_bands ---------------------------------- \n",
    "    if tp == 'none':\n",
    "        axes[1].stem(X,Yr2)\n",
    "        axes[1].tick_params(axis='both', labelsize=10)\n",
    "        axes[1].text(0.00, 1.01,  target_names[i], transform=axes[1].transAxes,fontsize = 20, color = clr[i])\n",
    "        axes[1].text(0.99, 1.01, 'Spec_prep: '+ p, transform=axes[1].transAxes, horizontalalignment='right', fontsize = 16)\n",
    "        axes[1].text(0.17, 1.01, '(none)', transform=axes[1].transAxes, horizontalalignment='left', fontsize = 16)\n",
    "        axes[1].text(0.60, -0.1, 'n_bands', transform=axes[1].transAxes, horizontalalignment='right', fontsize = 16)\n",
    "        axes[1].text(-0.1, 0.5, 'R2 Scores', horizontalalignment='left', verticalalignment='center', \\\n",
    "                    rotation='vertical', transform=axes[1].transAxes, fontsize = 16)\n",
    "        \n",
    "    else:\n",
    "        axes[1].stem(X,YNr2)\n",
    "        axes[1].tick_params(axis='both', labelsize=10)\n",
    "        axes[1].text(0.00, 1.01,  target_names[i], transform=axes[1].transAxes,fontsize = 20, color = clr[i])\n",
    "        axes[1].text(0.99, 1.01, 'Spec_prep: '+ p, transform=axes[1].transAxes, horizontalalignment='right', fontsize = 16)\n",
    "        axes[1].text(0.17, 1.01, '(minmax)', transform=axes[1].transAxes, horizontalalignment='left', fontsize = 16)\n",
    "        axes[1].text(0.60, -0.1, 'n_bands', transform=axes[1].transAxes, horizontalalignment='right', fontsize = 16)\n",
    "        axes[1].text(-0.1, 0.5, 'R2 Scores', horizontalalignment='left', verticalalignment='center', \\\n",
    "                    rotation='vertical', transform=axes[1].transAxes, fontsize = 16)\n",
    "        \n",
    "   \n",
    "    return    "
   ]
  },
  {
   "cell_type": "markdown",
   "id": "45f047e6",
   "metadata": {},
   "source": [
    "## Creating different branches of Mtree (for separate methods)"
   ]
  },
  {
   "cell_type": "code",
   "execution_count": 14,
   "id": "6192c1e2",
   "metadata": {},
   "outputs": [],
   "source": [
    "# Mtree Building (run below code only once)\n",
    "\n",
    "#Mtree ={}"
   ]
  },
  {
   "cell_type": "code",
   "execution_count": 15,
   "id": "c1a82c3d",
   "metadata": {},
   "outputs": [],
   "source": [
    "# max_n_comp = 10\n",
    "# Mtree['plsr'] = build_tree_for ('plsr')\n",
    "\n",
    "# Mtree['mult'] = build_tree_for ('mult')\n",
    "\n",
    "# Mtree['svr'] = build_tree_for ('svr')"
   ]
  },
  {
   "cell_type": "code",
   "execution_count": 16,
   "id": "264f4864",
   "metadata": {},
   "outputs": [],
   "source": [
    "#Mtree['ridge']['Sand'] = build_tree_on ('ridge', 'Sand')"
   ]
  },
  {
   "cell_type": "code",
   "execution_count": 17,
   "id": "ee04f6d3",
   "metadata": {},
   "outputs": [],
   "source": [
    "#Mtree['ridge'] = build_tree_for ('ridge')"
   ]
  },
  {
   "cell_type": "code",
   "execution_count": 18,
   "id": "10d27534",
   "metadata": {},
   "outputs": [],
   "source": [
    "#Mtree['lasso'] = build_tree_for ('lasso')"
   ]
  },
  {
   "cell_type": "code",
   "execution_count": 19,
   "id": "cc78110b",
   "metadata": {},
   "outputs": [],
   "source": [
    "#Mtree['cubist'] = build_tree_for ('cubist')"
   ]
  },
  {
   "cell_type": "code",
   "execution_count": 20,
   "id": "5cb1b3a2",
   "metadata": {},
   "outputs": [],
   "source": [
    "# with open ('L1Mtree.pickle', 'wb') as file:\n",
    "#     pickle.dump(Mtree, file)"
   ]
  },
  {
   "cell_type": "code",
   "execution_count": 21,
   "id": "fa7159f2",
   "metadata": {},
   "outputs": [],
   "source": [
    "#Mtree['gbrt'] = build_tree_for ('gbrt')"
   ]
  },
  {
   "cell_type": "code",
   "execution_count": 22,
   "id": "f051bd21",
   "metadata": {},
   "outputs": [],
   "source": [
    "# with open ('L1Mtree.pickle', 'wb') as file:\n",
    "#     pickle.dump(Mtree, file)"
   ]
  },
  {
   "cell_type": "code",
   "execution_count": 23,
   "id": "6395c798",
   "metadata": {},
   "outputs": [],
   "source": [
    "#Mtree['randomforest'] = build_tree_for ('randomforest')"
   ]
  },
  {
   "cell_type": "code",
   "execution_count": 24,
   "id": "aaf654cc",
   "metadata": {},
   "outputs": [],
   "source": [
    "# with open ('L1Mtree.pickle', 'wb') as file:\n",
    "#     pickle.dump(Mtree, file)"
   ]
  },
  {
   "cell_type": "code",
   "execution_count": 25,
   "id": "bdfed1fa",
   "metadata": {},
   "outputs": [
    {
     "name": "stdout",
     "output_type": "stream",
     "text": [
      "For:Sand-> ['r2', 0.54, 'Spec:', 'log', 'bands:', 7, 'Tar:', 'minmax'] :mult\n",
      "For:Sand-> ['r2', 0.6, 'Spec:', 'log', 'bands:', 7, 'Tar:', 'minmax'] :cubist\n",
      "For:Sand-> ['r2', 0.3, 'Spec:', 'log', 'bands:', 15, 'Tar:', 'minmax'] :svr\n",
      "For:Sand-> ['r2', 0.49, 'Spec:', 'log', 'bands:', 0, 'Tar:', 'minmax'] :ridge\n",
      "For:Sand-> ['r2', 0.6, 'Spec:', 'fod2', 'bands:', 39, 'Tar:', 'minmax'] :lasso\n",
      "For:Sand-> ['r2', 0.57, 'Spec:', 'log', 'bands:', 7, 'Tar:', 'none'] :plsr\n",
      "For:Sand-> ['r2', 0.55, 'Spec:', 'fod2', 'bands:', 39, 'Tar:', 'none'] :randomforest\n",
      "For:Sand-> ['r2', 0.6, 'Spec:', 'fod2', 'bands:', 39, 'Tar:', 'none'] :gbrt\n"
     ]
    }
   ],
   "source": [
    "best_score_for(Mtree, 'Sand', 'r2')"
   ]
  },
  {
   "cell_type": "code",
   "execution_count": 26,
   "id": "7033cf8d",
   "metadata": {},
   "outputs": [
    {
     "name": "stdout",
     "output_type": "stream",
     "text": [
      "For:Sand-> ['iqrp', 2.36, 'Spec:', 'log', 'bands:', 7, 'Tar:', 'minmax'] :mult\n",
      "For:Sand-> ['iqrp', 2.53, 'Spec:', 'log', 'bands:', 7, 'Tar:', 'minmax'] :cubist\n",
      "For:Sand-> ['iqrp', 1.9, 'Spec:', 'log', 'bands:', 15, 'Tar:', 'minmax'] :svr\n",
      "For:Sand-> ['iqrp', 2.22, 'Spec:', 'log', 'bands:', 0, 'Tar:', 'minmax'] :ridge\n",
      "For:Sand-> ['iqrp', 2.5, 'Spec:', 'fod2', 'bands:', 39, 'Tar:', 'minmax'] :lasso\n",
      "For:Sand-> ['iqrp', 2.43, 'Spec:', 'log', 'bands:', 7, 'Tar:', 'none'] :plsr\n",
      "For:Sand-> ['iqrp', 2.38, 'Spec:', 'fod2', 'bands:', 39, 'Tar:', 'none'] :randomforest\n",
      "For:Sand-> ['iqrp', 2.51, 'Spec:', 'fod2', 'bands:', 39, 'Tar:', 'none'] :gbrt\n"
     ]
    }
   ],
   "source": [
    "best_score_for(Mtree, 'Sand', 'iqrp')"
   ]
  },
  {
   "cell_type": "code",
   "execution_count": 27,
   "id": "2c25ffa3",
   "metadata": {},
   "outputs": [
    {
     "name": "stdout",
     "output_type": "stream",
     "text": [
      "For:Silt-> ['r2', 0.3, 'Spec:', 'none', 'bands:', 5, 'Tar:', 'none'] :mult\n",
      "For:Silt-> ['r2', 0.39, 'Spec:', 'fod2', 'bands:', 37, 'Tar:', 'none'] :cubist\n",
      "For:Silt-> ['r2', 0.2, 'Spec:', 'continuum', 'bands:', 11, 'Tar:', 'minmax'] :svr\n",
      "For:Silt-> ['r2', 0.29, 'Spec:', 'none', 'bands:', 0, 'Tar:', 'minmax'] :ridge\n",
      "For:Silt-> ['r2', 0.43, 'Spec:', 'fod2', 'bands:', 70, 'Tar:', 'minmax'] :lasso\n",
      "For:Silt-> ['r2', 0.35, 'Spec:', 'fod2', 'bands:', 29, 'Tar:', 'minmax'] :plsr\n",
      "For:Silt-> ['r2', 0.39, 'Spec:', 'fod2', 'bands:', 40, 'Tar:', 'minmax'] :randomforest\n",
      "For:Silt-> ['r2', 0.43, 'Spec:', 'fod2', 'bands:', 70, 'Tar:', 'minmax'] :gbrt\n"
     ]
    }
   ],
   "source": [
    "best_score_for(Mtree, 'Silt', 'r2')"
   ]
  },
  {
   "cell_type": "code",
   "execution_count": 28,
   "id": "4ae0b2d7",
   "metadata": {},
   "outputs": [
    {
     "name": "stdout",
     "output_type": "stream",
     "text": [
      "For:Silt-> ['iqrp', 1.67, 'Spec:', 'none', 'bands:', 5, 'Tar:', 'none'] :mult\n",
      "For:Silt-> ['iqrp', 1.78, 'Spec:', 'fod2', 'bands:', 37, 'Tar:', 'none'] :cubist\n",
      "For:Silt-> ['iqrp', 1.56, 'Spec:', 'continuum', 'bands:', 11, 'Tar:', 'minmax'] :svr\n",
      "For:Silt-> ['iqrp', 1.65, 'Spec:', 'none', 'bands:', 0, 'Tar:', 'minmax'] :ridge\n",
      "For:Silt-> ['iqrp', 1.85, 'Spec:', 'fod2', 'bands:', 70, 'Tar:', 'minmax'] :lasso\n",
      "For:Silt-> ['iqrp', 1.73, 'Spec:', 'fod2', 'bands:', 29, 'Tar:', 'none'] :plsr\n",
      "For:Silt-> ['iqrp', 1.79, 'Spec:', 'fod2', 'bands:', 40, 'Tar:', 'minmax'] :randomforest\n",
      "For:Silt-> ['iqrp', 1.84, 'Spec:', 'fod2', 'bands:', 70, 'Tar:', 'minmax'] :gbrt\n"
     ]
    }
   ],
   "source": [
    "best_score_for(Mtree, 'Silt', 'iqrp')"
   ]
  },
  {
   "cell_type": "code",
   "execution_count": 29,
   "id": "d5a6113d",
   "metadata": {},
   "outputs": [
    {
     "name": "stdout",
     "output_type": "stream",
     "text": [
      "For:Clay-> ['r2', 0.61, 'Spec:', 'log', 'bands:', 7, 'Tar:', 'minmax'] :mult\n",
      "For:Clay-> ['r2', 0.67, 'Spec:', 'log', 'bands:', 21, 'Tar:', 'none'] :cubist\n",
      "For:Clay-> ['r2', 0.47, 'Spec:', 'fod2', 'bands:', 7, 'Tar:', 'minmax'] :svr\n",
      "For:Clay-> ['r2', 0.6, 'Spec:', 'log', 'bands:', 0, 'Tar:', 'minmax'] :ridge\n",
      "For:Clay-> ['r2', 0.63, 'Spec:', 'fod2', 'bands:', 90, 'Tar:', 'minmax'] :lasso\n",
      "For:Clay-> ['r2', 0.66, 'Spec:', 'log', 'bands:', 15, 'Tar:', 'none'] :plsr\n",
      "For:Clay-> ['r2', 0.56, 'Spec:', 'fod2', 'bands:', 7, 'Tar:', 'none'] :randomforest\n",
      "For:Clay-> ['r2', 0.64, 'Spec:', 'fod2', 'bands:', 90, 'Tar:', 'none'] :gbrt\n"
     ]
    }
   ],
   "source": [
    "best_score_for(Mtree, 'Clay', 'r2')"
   ]
  },
  {
   "cell_type": "code",
   "execution_count": 30,
   "id": "329dccd6",
   "metadata": {},
   "outputs": [
    {
     "name": "stdout",
     "output_type": "stream",
     "text": [
      "For:Clay-> ['iqrp', 2.28, 'Spec:', 'log', 'bands:', 7, 'Tar:', 'minmax'] :mult\n",
      "For:Clay-> ['iqrp', 2.47, 'Spec:', 'log', 'bands:', 21, 'Tar:', 'none'] :cubist\n",
      "For:Clay-> ['iqrp', 1.95, 'Spec:', 'fod2', 'bands:', 7, 'Tar:', 'minmax'] :svr\n",
      "For:Clay-> ['iqrp', 2.25, 'Spec:', 'log', 'bands:', 0, 'Tar:', 'minmax'] :ridge\n",
      "For:Clay-> ['iqrp', 2.34, 'Spec:', 'fod2', 'bands:', 90, 'Tar:', 'minmax'] :lasso\n",
      "For:Clay-> ['iqrp', 2.43, 'Spec:', 'log', 'bands:', 15, 'Tar:', 'none'] :plsr\n",
      "For:Clay-> ['iqrp', 2.14, 'Spec:', 'fod2', 'bands:', 7, 'Tar:', 'none'] :randomforest\n",
      "For:Clay-> ['iqrp', 2.36, 'Spec:', 'fod2', 'bands:', 90, 'Tar:', 'none'] :gbrt\n"
     ]
    }
   ],
   "source": [
    "best_score_for(Mtree, 'Clay', 'iqrp')"
   ]
  },
  {
   "cell_type": "code",
   "execution_count": 31,
   "id": "7b89dc2c",
   "metadata": {},
   "outputs": [
    {
     "name": "stdout",
     "output_type": "stream",
     "text": [
      "For:TOC-> ['r2', 0.47, 'Spec:', 'log', 'bands:', 10, 'Tar:', 'minmax'] :mult\n",
      "For:TOC-> ['r2', 0.61, 'Spec:', 'fod2', 'bands:', 80, 'Tar:', 'minmax'] :cubist\n",
      "For:TOC-> ['r2', 0.29, 'Spec:', 'fod2', 'bands:', 15, 'Tar:', 'minmax'] :svr\n",
      "For:TOC-> ['r2', 0.5, 'Spec:', 'log', 'bands:', 0, 'Tar:', 'minmax'] :ridge\n",
      "For:TOC-> ['r2', 0.52, 'Spec:', 'fod2', 'bands:', 45, 'Tar:', 'minmax'] :lasso\n",
      "For:TOC-> ['r2', 0.5, 'Spec:', 'log', 'bands:', 27, 'Tar:', 'minmax'] :plsr\n",
      "For:TOC-> ['r2', 0.52, 'Spec:', 'continuum', 'bands:', 0, 'Tar:', 'none'] :randomforest\n",
      "For:TOC-> ['r2', 0.53, 'Spec:', 'continuum', 'bands:', 55, 'Tar:', 'minmax'] :gbrt\n"
     ]
    }
   ],
   "source": [
    "best_score_for(Mtree, 'TOC', 'r2')"
   ]
  },
  {
   "cell_type": "code",
   "execution_count": 32,
   "id": "342b6d30",
   "metadata": {},
   "outputs": [
    {
     "name": "stdout",
     "output_type": "stream",
     "text": [
      "For:TOC-> ['iqrp', 1.47, 'Spec:', 'log', 'bands:', 10, 'Tar:', 'minmax'] :mult\n",
      "For:TOC-> ['iqrp', 1.71, 'Spec:', 'fod2', 'bands:', 80, 'Tar:', 'minmax'] :cubist\n",
      "For:TOC-> ['iqrp', 1.27, 'Spec:', 'fod2', 'bands:', 15, 'Tar:', 'minmax'] :svr\n",
      "For:TOC-> ['iqrp', 1.52, 'Spec:', 'log', 'bands:', 0, 'Tar:', 'minmax'] :ridge\n",
      "For:TOC-> ['iqrp', 1.55, 'Spec:', 'fod2', 'bands:', 45, 'Tar:', 'minmax'] :lasso\n",
      "For:TOC-> ['iqrp', 1.51, 'Spec:', 'log', 'bands:', 27, 'Tar:', 'minmax'] :plsr\n",
      "For:TOC-> ['iqrp', 1.48, 'Spec:', 'continuum', 'bands:', 30, 'Tar:', 'minmax'] :randomforest\n",
      "For:TOC-> ['iqrp', 1.56, 'Spec:', 'continuum', 'bands:', 55, 'Tar:', 'minmax'] :gbrt\n"
     ]
    }
   ],
   "source": [
    "best_score_for(Mtree, 'TOC', 'iqrp')"
   ]
  },
  {
   "cell_type": "code",
   "execution_count": 33,
   "id": "41642a4d",
   "metadata": {},
   "outputs": [
    {
     "name": "stdout",
     "output_type": "stream",
     "text": [
      "For:CaCO3-> ['r2', 0.56, 'Spec:', 'log', 'bands:', 7, 'Tar:', 'minmax'] :mult\n",
      "For:CaCO3-> ['r2', 0.65, 'Spec:', 'log', 'bands:', 0, 'Tar:', 'none'] :cubist\n",
      "For:CaCO3-> ['r2', 0.39, 'Spec:', 'fod2', 'bands:', 45, 'Tar:', 'minmax'] :svr\n",
      "For:CaCO3-> ['r2', 0.6, 'Spec:', 'log', 'bands:', 0, 'Tar:', 'minmax'] :ridge\n",
      "For:CaCO3-> ['r2', 0.67, 'Spec:', 'fod2', 'bands:', 27, 'Tar:', 'none'] :lasso\n",
      "For:CaCO3-> ['r2', 0.61, 'Spec:', 'none', 'bands:', 10, 'Tar:', 'none'] :plsr\n",
      "For:CaCO3-> ['r2', 0.62, 'Spec:', 'continuum', 'bands:', 55, 'Tar:', 'none'] :randomforest\n",
      "For:CaCO3-> ['r2', 0.68, 'Spec:', 'fod2', 'bands:', 27, 'Tar:', 'minmax'] :gbrt\n"
     ]
    }
   ],
   "source": [
    "best_score_for(Mtree, 'CaCO3', 'r2')"
   ]
  },
  {
   "cell_type": "code",
   "execution_count": 34,
   "id": "c035cd7a",
   "metadata": {},
   "outputs": [
    {
     "name": "stdout",
     "output_type": "stream",
     "text": [
      "For:CaCO3-> ['iqrp', 2.17, 'Spec:', 'log', 'bands:', 7, 'Tar:', 'none'] :mult\n",
      "For:CaCO3-> ['iqrp', 2.43, 'Spec:', 'log', 'bands:', 0, 'Tar:', 'none'] :cubist\n",
      "For:CaCO3-> ['iqrp', 1.83, 'Spec:', 'fod2', 'bands:', 45, 'Tar:', 'minmax'] :svr\n",
      "For:CaCO3-> ['iqrp', 2.25, 'Spec:', 'log', 'bands:', 0, 'Tar:', 'minmax'] :ridge\n",
      "For:CaCO3-> ['iqrp', 2.49, 'Spec:', 'fod2', 'bands:', 27, 'Tar:', 'none'] :lasso\n",
      "For:CaCO3-> ['iqrp', 2.3, 'Spec:', 'none', 'bands:', 10, 'Tar:', 'none'] :plsr\n",
      "For:CaCO3-> ['iqrp', 2.32, 'Spec:', 'continuum', 'bands:', 55, 'Tar:', 'none'] :randomforest\n",
      "For:CaCO3-> ['iqrp', 2.53, 'Spec:', 'fod2', 'bands:', 27, 'Tar:', 'minmax'] :gbrt\n"
     ]
    }
   ],
   "source": [
    "best_score_for(Mtree, 'CaCO3', 'iqrp')"
   ]
  },
  {
   "cell_type": "code",
   "execution_count": 8,
   "id": "89b9db47",
   "metadata": {},
   "outputs": [
    {
     "data": {
      "application/vnd.jupyter.widget-view+json": {
       "model_id": "bc31ddbf8c294c56932c1325f151ca93",
       "version_major": 2,
       "version_minor": 0
      },
      "text/plain": [
       "interactive(children=(Dropdown(description='method', options=('mult', 'cubist', 'svr', 'ridge', 'lasso', 'plsr…"
      ]
     },
     "metadata": {},
     "output_type": "display_data"
    },
    {
     "data": {
      "text/plain": [
       "<function __main__.plot_model_acc(method, target, target_preprocessing, spec_preprocessing, n_bands)>"
      ]
     },
     "execution_count": 8,
     "metadata": {},
     "output_type": "execute_result"
    }
   ],
   "source": [
    "ipywidgets.interact( plot_model_acc, target = target_names, method = ml_methods, \\\n",
    "                    spec_preprocessing = prepare_spec,  \\\n",
    "                    target_preprocessing = prepare_target, n_bands = nbands_sampling )"
   ]
  },
  {
   "cell_type": "code",
   "execution_count": 36,
   "id": "7f8c3328",
   "metadata": {},
   "outputs": [],
   "source": [
    "# with open ('L1Mtree.pickle', 'wb') as file:\n",
    "#     pickle.dump(Mtree, file)"
   ]
  },
  {
   "cell_type": "code",
   "execution_count": 37,
   "id": "ce43f938",
   "metadata": {},
   "outputs": [
    {
     "name": "stdout",
     "output_type": "stream",
     "text": [
      "Fitting 100 folds for each of 13 candidates, totalling 1300 fits\n"
     ]
    },
    {
     "data": {
      "text/plain": [
       "GridSearchCV(cv=RepeatedKFold(n_repeats=10, n_splits=10, random_state=3),\n",
       "             error_score='raise', estimator=KernelRidge(), n_jobs=-1,\n",
       "             param_grid={'alpha': [1e-05, 5e-05, 2e-05, 0.00025, 0.001, 0.005,\n",
       "                                   0.0001, 0.0005, 0.01, 0.05, 0.1, 0.5, 1]},\n",
       "             scoring=make_scorer(mean_squared_error, greater_is_better=False),\n",
       "             verbose=1)"
      ]
     },
     "execution_count": 37,
     "metadata": {},
     "output_type": "execute_result"
    }
   ],
   "source": [
    "from sklearn.kernel_ridge import KernelRidge\n",
    "krr_reg = KernelRidge()\n",
    "\n",
    "param_grid={'alpha': [ 0.00001, 0.00005, 0.00002, 0.00025,0.001, 0.005, 0.0001, 0.0005, 0.01, 0.05, 0.1, 0.5, 1]}\n",
    "\n",
    "scorer = make_scorer(mean_squared_error, greater_is_better=False)\n",
    "cv = RepeatedKFold(n_splits=10, n_repeats=10, random_state=3)\n",
    "krr_random = GridSearchCV(krr_reg, param_grid=param_grid, cv=cv,\\\n",
    "                                scoring=scorer, refit=True, verbose=1, error_score='raise', n_jobs=-1)\n",
    "\n",
    "krr_random.fit(sampled_log[7],NT[0])"
   ]
  },
  {
   "cell_type": "code",
   "execution_count": 38,
   "id": "b56b5a6b",
   "metadata": {},
   "outputs": [
    {
     "name": "stdout",
     "output_type": "stream",
     "text": [
      "KernelRidge(alpha=0.001)\n"
     ]
    }
   ],
   "source": [
    "print(krr_random.best_estimator_)\n",
    "# # y_pred = krr_random.predict(X_test)\n",
    "# # y_pred = np.round(y_pred, 2)\n",
    "\n",
    "# # score_cv = r2_score(y_test, y_pred)\n",
    "\n",
    "\n"
   ]
  },
  {
   "cell_type": "code",
   "execution_count": null,
   "id": "2f9b1ae4",
   "metadata": {},
   "outputs": [],
   "source": []
  }
 ],
 "metadata": {
  "kernelspec": {
   "display_name": "Python 3 (ipykernel)",
   "language": "python",
   "name": "python3"
  },
  "language_info": {
   "codemirror_mode": {
    "name": "ipython",
    "version": 3
   },
   "file_extension": ".py",
   "mimetype": "text/x-python",
   "name": "python",
   "nbconvert_exporter": "python",
   "pygments_lexer": "ipython3",
   "version": "3.9.13"
  }
 },
 "nbformat": 4,
 "nbformat_minor": 5
}
