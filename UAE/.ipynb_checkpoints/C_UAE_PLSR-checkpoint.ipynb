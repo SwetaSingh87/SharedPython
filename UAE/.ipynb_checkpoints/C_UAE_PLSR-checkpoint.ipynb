{
 "cells": [
  {
   "cell_type": "code",
   "execution_count": null,
   "id": "c173cf42",
   "metadata": {},
   "outputs": [],
   "source": [
    "# !pip install openpyxl\n",
    "# !pip install imbalanced-learn\n",
    "# !pip3 install ipympl\n",
    "# !pip install import-ipynb\n",
    "# !pip install shapely\n",
    "# !pip install SciencePlots \n",
    "# !pip install seaborn\n",
    "# !pip install tqdm\n",
    "# !pip install ipywidgets"
   ]
  },
  {
   "cell_type": "code",
   "execution_count": 16,
   "id": "3ef6b01f",
   "metadata": {},
   "outputs": [],
   "source": [
    "import pandas as pd\n",
    "import numpy as np\n",
    "import matplotlib.pyplot as plt\n",
    "import seaborn as sns\n",
    "import scienceplots\n",
    "import os, sys\n",
    "from numpy import nan\n",
    "import re\n",
    "import ipympl\n",
    "# from IPython.core.display import display, HTML\n",
    "import ipywidgets\n",
    "import json\n",
    "from os import listdir\n",
    "import glob\n",
    "import math\n",
    "from IPython.display import Image, display, HTML\n",
    "from shapely.geometry import mapping\n",
    "from sklearn.cross_decomposition import PLSRegression\n",
    "from sklearn.ensemble import RandomForestRegressor\n",
    "from sklearn.model_selection import cross_val_score, train_test_split, RepeatedKFold, cross_val_predict\n",
    "from sklearn.metrics import r2_score, mean_squared_error, precision_score, recall_score, mean_absolute_error, make_scorer\n",
    "from sklearn.svm import SVR\n",
    "from sklearn.linear_model import LinearRegression\n",
    "from sklearn.kernel_ridge import KernelRidge\n",
    "from sklearn.model_selection import GridSearchCV, RandomizedSearchCV, LeaveOneOut, cross_validate\n",
    "from sklearn.impute import SimpleImputer\n",
    "from tqdm.notebook import tqdm\n",
    "from sklearn.svm import SVC\n",
    "from tqdm import tqdm\n",
    "import pickle\n",
    "from imblearn.over_sampling import SMOTE\n",
    "from scipy.stats import ks_2samp\n",
    "from scipy import stats\n",
    "np.seterr(divide='ignore', invalid='ignore')\n",
    "pd.options.display.max_columns = 100\n",
    "from sklearn.preprocessing import PolynomialFeatures\n",
    "%matplotlib inline"
   ]
  },
  {
   "cell_type": "code",
   "execution_count": 17,
   "id": "22684781",
   "metadata": {},
   "outputs": [],
   "source": [
    "import import_ipynb\n",
    "from SoilPrep import * "
   ]
  },
  {
   "cell_type": "markdown",
   "id": "8cd5b13f",
   "metadata": {},
   "source": [
    "# Step 1: Data Preprocessing (Normalisation)"
   ]
  },
  {
   "cell_type": "code",
   "execution_count": 18,
   "id": "492df528",
   "metadata": {},
   "outputs": [],
   "source": [
    "# Colour scheme definition\n",
    "kado = '#8B7355'\n",
    "mati = '#A52A2A'\n",
    "balu = '#F4A460'\n",
    "\n",
    "udf = pd.read_csv('uae.csv')\n",
    "# print(udf.shape)\n",
    "# print(udf[\"FID\"].min(), udf[\"FID\"].max())\n",
    "# Note that some ids are missing in the data"
   ]
  },
  {
   "cell_type": "code",
   "execution_count": 19,
   "id": "5b0b13b7",
   "metadata": {},
   "outputs": [],
   "source": [
    "udf['sand'] = lognormal (udf['sand'].copy())\n",
    "udf['silt'] = lognormal (udf['silt'].copy())\n",
    "udf['clay'] = lognormal (udf['clay'].copy())\n",
    "udf['TOC'] = lognormal (udf['TOC'].copy())\n",
    "\n",
    "# plt.hist(udf['clay'], bins=98)\n",
    "# plt.show()\n"
   ]
  },
  {
   "cell_type": "markdown",
   "id": "c12f62f4",
   "metadata": {},
   "source": [
    "## Correlation between wavelengths and Targets"
   ]
  },
  {
   "cell_type": "code",
   "execution_count": 20,
   "id": "90484fbd",
   "metadata": {},
   "outputs": [
    {
     "data": {
      "application/vnd.jupyter.widget-view+json": {
       "model_id": "3f188f6c28804c85b730ea8054e7bb9c",
       "version_major": 2,
       "version_minor": 0
      },
      "text/plain": [
       "interactive(children=(Dropdown(description='target', options=('sand', 'silt', 'clay', 'TOC', 'All'), value='sa…"
      ]
     },
     "metadata": {},
     "output_type": "display_data"
    },
    {
     "data": {
      "text/plain": [
       "<function __main__.plot_corr(target)>"
      ]
     },
     "execution_count": 20,
     "metadata": {},
     "output_type": "execute_result"
    }
   ],
   "source": [
    "plt.style.use(['science','notebook','grid'])\n",
    "# Pearson corelation between different wavelengths and Targets/Outputs (i.e, sand, clay, silt, and TOC) \n",
    "\n",
    "# First and second row of sand_rp will store r values and p values for different wavelengths\n",
    "# Similar is the case for silt_rp, clay_rp, and toc_rp\n",
    "sand_rp = udf.loc[0:1,:].copy()\n",
    "silt_rp = udf.loc[0:1,:].copy()\n",
    "clay_rp = udf.loc[0:1,:].copy()\n",
    "toc_rp = udf.loc[0:1,:].copy()\n",
    "\n",
    "# Calculating r value and p value for different wavelengths when calculated against different Targets \n",
    "for i in range(7,2158):\n",
    "    sand_rp.iloc[0, i], sand_rp.iloc[1, i] = stats.pearsonr(udf.loc[:,'sand'], udf.iloc[:, i])\n",
    "    silt_rp.iloc[0, i], silt_rp.iloc[1, i] = stats.pearsonr(udf.loc[:,'silt'], udf.iloc[:, i])\n",
    "    clay_rp.iloc[0, i], clay_rp.iloc[1, i] = stats.pearsonr(udf.loc[:,'clay'], udf.iloc[:, i])\n",
    "    toc_rp.iloc[0, i], toc_rp.iloc[1, i] = stats.pearsonr(udf.loc[:,'TOC'], udf.iloc[:, i])\n",
    "    \n",
    "# Ploting the pearson correlation coefficient for different wavelengths against different Targets\n",
    "\n",
    "def plot_corr (target):\n",
    "    if target == 'sand':\n",
    "        sand_rp.iloc[0,7:].plot(color = balu)\n",
    "    elif target == 'silt':\n",
    "        silt_rp.iloc[0,7:].plot(color = kado) \n",
    "    elif target == 'TOC':\n",
    "        toc_rp.iloc[0,7:].plot(color = 'green')\n",
    "    elif target == 'clay':\n",
    "        clay_rp.iloc[0,7:].plot(color = mati)   \n",
    "    else:\n",
    "        clay_rp.iloc[0,7:].plot(color = mati)\n",
    "        sand_rp.iloc[0,7:].plot(color = balu)\n",
    "        silt_rp.iloc[0,7:].plot(color = kado) \n",
    "        toc_rp.iloc[0,7:].plot(color = 'green') \n",
    "    plt.ylim([-0.6, 0.6])\n",
    "\n",
    "ipywidgets.interact(plot_corr, target= ['sand', 'silt', 'clay', 'TOC', 'All'])\n"
   ]
  },
  {
   "cell_type": "markdown",
   "id": "6e9a2470",
   "metadata": {},
   "source": [
    "## Visualizing Spectrum by Increasing Target Contents (Interactive)"
   ]
  },
  {
   "cell_type": "code",
   "execution_count": 21,
   "id": "6d8079eb",
   "metadata": {},
   "outputs": [],
   "source": [
    "# Sorting spectra by Sand content\n",
    "\n",
    "smt =25\n",
    "\n",
    "bySand = udf.sort_values(by =['sand'])\n",
    "bySand = bySand.reset_index(drop=True)\n",
    "bySandS = bySand.iloc[:,:].copy()\n",
    "bySandS.iloc[:, 7:2158] = sgsmooth (bySand.iloc[:, 7:2158],smt)\n",
    "\n",
    "# Sorting spectra by Silt content\n",
    "bySilt = udf.sort_values(by =['silt'])\n",
    "bySilt = bySilt.reset_index(drop=True)\n",
    "bySiltS = bySilt.iloc[:,:].copy()\n",
    "bySiltS.iloc[:, 7:2158] = sgsmooth (bySilt.iloc[:, 7:2158],smt)\n",
    "#bySiltS = sgsmooth (bySilt,25)\n",
    "\n",
    "# Sorting spectra by Clay content\n",
    "byClay = udf.sort_values(by =['clay'])\n",
    "byClay = byClay.reset_index(drop=True)\n",
    "byClayS = byClay.iloc[:,:].copy()\n",
    "byClayS.iloc[:, 7:2158] = sgsmooth (byClay.iloc[:, 7:2158],smt)\n",
    "#byClayS = sgsmooth (byClay,25)\n",
    "\n",
    "# Sorting spectra by Total Organic Content(TOC)\n",
    "byTOC = udf.sort_values(by =['TOC'])\n",
    "byTOC = byTOC.reset_index(drop=True)\n",
    "byTOCS = byTOC.iloc[:,:].copy()\n",
    "byTOCS.iloc[:, 7:2158] = sgsmooth (byTOC.iloc[:, 7:2158],smt)\n",
    "#byTOCS = sgsmooth(byTOC, 25)\n",
    "# Using ipywidgets to draw interactive plots"
   ]
  },
  {
   "cell_type": "code",
   "execution_count": 22,
   "id": "4d053c2e",
   "metadata": {},
   "outputs": [
    {
     "data": {
      "application/vnd.jupyter.widget-view+json": {
       "model_id": "0353e5d46c794f9d9f4eabddfd9684d1",
       "version_major": 2,
       "version_minor": 0
      },
      "text/plain": [
       "interactive(children=(Dropdown(description='sort_by', options=('sand', 'clay', 'silt', 'TOC'), value='sand'), …"
      ]
     },
     "metadata": {},
     "output_type": "display_data"
    },
    {
     "data": {
      "text/plain": [
       "<function __main__.plot_spec(sort_by, sample, smooth)>"
      ]
     },
     "execution_count": 22,
     "metadata": {},
     "output_type": "execute_result"
    }
   ],
   "source": [
    "def plot_spec (sort_by, sample, smooth):\n",
    "    if sort_by == 'sand':\n",
    "        x= bySand.iloc[sample, 7:2158]\n",
    "        if smooth == 'on':\n",
    "            x = bySandS.iloc[sample, 7:2158] \n",
    "    elif sort_by == 'silt':\n",
    "        x= bySilt.iloc[sample, 7:2158]\n",
    "        if smooth == 'on':\n",
    "            x= bySiltS.iloc[sample, 7:2158]\n",
    "    elif sort_by == 'TOC':\n",
    "        x= byTOC.iloc[sample, 7:2158]\n",
    "        if smooth == 'on':\n",
    "            x= byTOCS.iloc[sample, 7:2158]\n",
    "    else:\n",
    "        x= byClay.iloc[sample, 7:2158]\n",
    "        if smooth == 'on':\n",
    "            x = byClayS.iloc[sample, 7:2158]\n",
    "    x.plot()\n",
    "    plt.ylim([-0.6, 0.8])\n",
    "\n",
    "ipywidgets.interact(plot_spec, sort_by= ['sand', 'clay', 'silt', 'TOC'], sample = (0, 293,1), smooth = ['on', 'off'])"
   ]
  },
  {
   "cell_type": "markdown",
   "id": "f00e07ff",
   "metadata": {},
   "source": [
    "# Step 3:  Train-Test Split  and its Goodness"
   ]
  },
  {
   "cell_type": "code",
   "execution_count": 23,
   "id": "3e195a02",
   "metadata": {},
   "outputs": [],
   "source": [
    "y_silt = udf.loc[:, 'silt']\n",
    "y_sand = udf.loc[:, 'sand']\n",
    "y_clay = udf.loc[:, 'clay']\n",
    "y_toc = udf.loc[:, 'TOC']"
   ]
  },
  {
   "cell_type": "code",
   "execution_count": 24,
   "id": "9694200a",
   "metadata": {},
   "outputs": [
    {
     "name": "stdout",
     "output_type": "stream",
     "text": [
      "Sand: \n",
      "For test size = 0.2 \t min bin error: 36.25 \t found at randome state = 3\n",
      "Silt: \n",
      "For test size = 0.2 \t min bin error: 38.75 \t found at randome state = 2\n",
      "Clay: \n",
      "For test size = 0.2 \t min bin error: 31.25 \t found at randome state = 7\n",
      "TOC: \n",
      "For test size = 0.2 \t min bin error: 46.25 \t found at randome state = 0\n"
     ]
    }
   ],
   "source": [
    "tst_siz = 0.2\n",
    "X = udf.iloc[:, 7:2158].copy()\n",
    "\n",
    "rand_sand, min_err = best_split(X, y_sand, tst_siz)\n",
    "print ('Sand: ')\n",
    "print ('For test size =', tst_siz, '\\t min bin error:', min_err, '\\t found at randome state =', rand_sand)\n",
    "\n",
    "rand_silt, min_err = best_split(X, y_silt, tst_siz)\n",
    "print ('Silt: ')\n",
    "print ('For test size =', tst_siz, '\\t min bin error:', min_err, '\\t found at randome state =', rand_silt)\n",
    "\n",
    "rand_clay, min_err = best_split(X, y_clay, tst_siz)\n",
    "print ('Clay: ')\n",
    "print ('For test size =', tst_siz, '\\t min bin error:', min_err, '\\t found at randome state =', rand_clay)\n",
    "\n",
    "rand_toc, min_err = best_split(X, y_toc, tst_siz)\n",
    "print ('TOC: ')\n",
    "print ('For test size =', tst_siz, '\\t min bin error:', min_err, '\\t found at randome state =', rand_toc)"
   ]
  },
  {
   "cell_type": "markdown",
   "id": "e031f1d3",
   "metadata": {},
   "source": [
    "##  Optimal Train-Test Split"
   ]
  },
  {
   "cell_type": "code",
   "execution_count": 25,
   "id": "9030ec7f",
   "metadata": {},
   "outputs": [
    {
     "name": "stdout",
     "output_type": "stream",
     "text": [
      "\n",
      " \n",
      " Optimal Train-Test Split Done for y_sand y_silt y_clay y_toc\n"
     ]
    }
   ],
   "source": [
    "# Splitting the sample into train-test samples using obtained optimal parameters\n",
    "XSand_train, XSand_test, ySand_train, ySand_test = train_test_split(X, y_sand, test_size= tst_siz, random_state=rand_sand)\n",
    "\n",
    "XSilt_train, XSilt_test, ySilt_train, ySilt_test = train_test_split(X, y_silt, test_size= tst_siz, random_state=rand_silt)\n",
    "\n",
    "XClay_train, XClay_test, yClay_train, yClay_test = train_test_split(X, y_clay, test_size= tst_siz, random_state=rand_clay)\n",
    "\n",
    "XTOC_train, XTOC_test, yTOC_train, yTOC_test = train_test_split(X, y_toc, test_size= tst_siz, random_state=rand_toc)\n",
    "print ('\\n \\n Optimal Train-Test Split Done for y_sand y_silt y_clay y_toc')"
   ]
  },
  {
   "cell_type": "code",
   "execution_count": 26,
   "id": "af33a5e5",
   "metadata": {},
   "outputs": [
    {
     "data": {
      "text/plain": [
       "Text(0.5, 0.95, 'Train Test Distribution of Data')"
      ]
     },
     "execution_count": 26,
     "metadata": {},
     "output_type": "execute_result"
    },
    {
     "data": {
      "image/png": "[encoded data removed]",
      "text/plain": [
       "<Figure size 1800x1400 with 4 Axes>"
      ]
     },
     "metadata": {},
     "output_type": "display_data"
    }
   ],
   "source": [
    "# ## Plotting the Distribution of Train and Test Output Data \n",
    "plt.style.use(['science','notebook','grid'])\n",
    "\n",
    "fig, ax = plt.subplots(2,2, figsize=(18,14))\n",
    "\n",
    "minSand = np.min(y_sand)\n",
    "maxSand = np.max(y_sand)\n",
    "\n",
    "binsSand = np.linspace(minSand, maxSand, 8)\n",
    "# density =True : used to normalise bin heights to make the integral of  histogram 1.\n",
    "ax[0][0].hist([ySand_train, ySand_test], binsSand , label=['Train', 'Test'], density=True, color = ['blue','red'])\n",
    "# results in error when yN_train/ yN_test is data frame or ndarray\n",
    "ax[0][0].legend(loc='upper left', fontsize =12)\n",
    "ax[0][0].set_xlabel('Sand content',fontsize =16)\n",
    "ax[0][0].set_ylabel('Normalised frequency',fontsize =12)\n",
    "ax[0][0].tick_params(axis='both', labelsize=8)\n",
    "\n",
    "minSilt = np.min(y_silt)\n",
    "maxSilt = np.max(y_silt)\n",
    "\n",
    "binsSilt = np.linspace(minSilt, maxSilt, 8)\n",
    "# density =True : used to normalise bin heights to make the integral of  histogram 1.\n",
    "ax[0][1].hist([ySilt_train, ySilt_test], binsSilt , label=['Train', 'Test'], density=True, color = ['blue','red'])\n",
    "# results in error when yN_train/ yN_test is data frame or ndarray\n",
    "ax[0][1].legend(loc='upper right', fontsize =12)\n",
    "ax[0][1].set_xlabel('Silt content',fontsize =16)\n",
    "ax[0][1].set_ylabel('Normalised frequency',fontsize =12)\n",
    "ax[0][1].tick_params(axis='both', labelsize=8)\n",
    "\n",
    "minClay = np.min(y_clay)\n",
    "maxClay = np.max(y_clay)\n",
    "\n",
    "binsClay = np.linspace(minClay, maxClay, 8)\n",
    "# density =True : used to normalise bin heights to make the integral of  histogram 1.\n",
    "ax[1][1].hist([yClay_train, yClay_test], binsClay , label=['Train', 'Test'], density=True, color = ['blue','red'])\n",
    "# results in error when yN_train/ yN_test is data frame or ndarray\n",
    "ax[1][1].legend(loc='upper right', fontsize =12)\n",
    "ax[1][1].set_xlabel('Clay content',fontsize =16)\n",
    "ax[1][1].set_ylabel('Normalised frequency',fontsize =12)\n",
    "ax[1][1].tick_params(axis='both', labelsize=8)\n",
    "\n",
    "minTOC = np.min(y_toc)\n",
    "maxTOC = np.max(y_toc)\n",
    "\n",
    "binsTOC = np.linspace(minTOC, maxTOC, 8)\n",
    "# density =True : used to normalise bin heights to make the integral of  histogram 1.\n",
    "ax[1][0].hist([yTOC_train, yTOC_test], binsTOC , label=['Train', 'Test'], density=True, color = ['blue','red'])\n",
    "# results in error when yN_train/ yN_test is data frame or ndarray\n",
    "ax[1][0].legend(loc='upper right', fontsize =12)\n",
    "ax[1][0].set_xlabel('Total Organic Content',fontsize =16)\n",
    "ax[1][0].set_ylabel('Normalised frequency',fontsize =12)\n",
    "ax[1][0].tick_params(axis='both', labelsize=8)\n",
    "\n",
    "fig.suptitle('Train Test Distribution of Data', x = 0.5 ,y = .95, fontsize = 20)\n",
    "\n",
    "#plt.show()"
   ]
  },
  {
   "cell_type": "markdown",
   "id": "448d5aed",
   "metadata": {},
   "source": [
    "# Finding best Model Parameters (window, n_components)"
   ]
  },
  {
   "cell_type": "code",
   "execution_count": 35,
   "id": "5c02c95a",
   "metadata": {},
   "outputs": [],
   "source": [
    "from sklearn import linear_model\n",
    "\n",
    "def best_param_PLSR (spectra, target, rand_st, tst_siz, window, n_comp):\n",
    "    X= spectra.copy()\n",
    "    y= target.copy()\n",
    "     \n",
    "    iqrpM = np.zeros(shape=(window, n_comp))\n",
    "    iqrpMtr = np.zeros(shape=(window, n_comp))\n",
    "    # test train split\n",
    "    X_train, X_test, y_train, y_test = train_test_split(X, y, test_size = tst_siz, random_state=rand_st)\n",
    "    for w in range (0,window):\n",
    "        X_train_smth = sgsmooth (X_train, w)\n",
    "        X_test_smth = sgsmooth (X_test, w)\n",
    "        for n in range(1,n_comp):\n",
    "            Model = PLSRegression(n_components=n, scale=True)\n",
    "            \n",
    "            Model.fit(X_train_smth, y_train)\n",
    "            y_pred = Model.predict(X_test, copy=True)\n",
    "            yhat_pred = Model.predict(X_train, copy=True)            \n",
    "            \n",
    "            iqrp_test = iqrp(y_pred, y_test)\n",
    "            iqrp_train = iqrp(yhat_pred, y_train)\n",
    "            \n",
    "            iqrpM[w,n] = iqrp_test\n",
    "            iqrpMtr[w,n] = iqrp_train\n",
    "            \n",
    "            \n",
    "            if iqrp_test == iqrpM.max():\n",
    "                bestw = w\n",
    "                bestn = n\n",
    "                maxIQRP = iqrp_test\n",
    "                print('Found new best at w=', w, 'n=', n,  '>>   IQRP_test =', iqrp_test, '>>   IQRP_train =', iqrp_train)\n",
    "                \n",
    "            if iqrp_train == iqrpMtr.max():\n",
    "                bestwT = w\n",
    "                bestnT = n\n",
    "                maxIQRPT = iqrp_train\n",
    "            \n",
    "    print('On Train data best at w=', bestwT, 'n=', bestnT,  '>IQRP_train =', maxIQRPT)                    \n",
    "                \n",
    "    return (bestw, bestn, maxIQRP)\n",
    "\n"
   ]
  },
  {
   "cell_type": "code",
   "execution_count": 39,
   "id": "1520cab9",
   "metadata": {},
   "outputs": [
    {
     "name": "stdout",
     "output_type": "stream",
     "text": [
      "Found new best at w= 0 n= 1 >>   IQRP_test = 1.714718371605909 >>   IQRP_train = 1.4109699847850143\n",
      "Found new best at w= 0 n= 2 >>   IQRP_test = 1.7822572386844282 >>   IQRP_train = 1.4990026500386104\n",
      "Found new best at w= 0 n= 4 >>   IQRP_test = 1.8149261231937077 >>   IQRP_train = 1.6032145491926464\n",
      "Found new best at w= 0 n= 5 >>   IQRP_test = 1.9168751862497686 >>   IQRP_train = 1.6628395285347315\n",
      "Found new best at w= 0 n= 6 >>   IQRP_test = 1.9319034916603242 >>   IQRP_train = 1.6728119790758067\n",
      "Found new best at w= 0 n= 7 >>   IQRP_test = 1.941923515756085 >>   IQRP_train = 1.7146265502414066\n",
      "Found new best at w= 0 n= 8 >>   IQRP_test = 1.954402043334672 >>   IQRP_train = 1.7343991698971182\n",
      "Found new best at w= 0 n= 9 >>   IQRP_test = 1.9993203178668661 >>   IQRP_train = 1.7607034930655951\n",
      "Found new best at w= 0 n= 10 >>   IQRP_test = 2.0047614936515106 >>   IQRP_train = 1.7691551307172102\n",
      "On Train data best at w= 0 n= 14 >IQRP_train = 1.8705479408108618\n"
     ]
    }
   ],
   "source": [
    "spectra = udf.iloc[:, 7:2158].copy()\n",
    "w1, n1, IQRP1 = best_param_PLSR (spectra, y_sand, rand_sand, 0.2, 3,15)"
   ]
  },
  {
   "cell_type": "code",
   "execution_count": 40,
   "id": "03575d2f",
   "metadata": {},
   "outputs": [
    {
     "name": "stdout",
     "output_type": "stream",
     "text": [
      "Found new best at w= 0 n= 1 >>   IQRP_test = 1.4889144220806092 >>   IQRP_train = 1.2746793279765645\n",
      "Found new best at w= 0 n= 5 >>   IQRP_test = 1.493675611150902 >>   IQRP_train = 1.572068183708722\n",
      "Found new best at w= 0 n= 6 >>   IQRP_test = 1.5195081588231967 >>   IQRP_train = 1.582671425707796\n",
      "Found new best at w= 0 n= 8 >>   IQRP_test = 1.5233183912094719 >>   IQRP_train = 1.6343367738051064\n",
      "Found new best at w= 0 n= 10 >>   IQRP_test = 1.5620512701296452 >>   IQRP_train = 1.6753757732980616\n",
      "Found new best at w= 0 n= 11 >>   IQRP_test = 1.5969251668435247 >>   IQRP_train = 1.7022530416302342\n",
      "On Train data best at w= 0 n= 19 >IQRP_train = 2.0720984505142233\n"
     ]
    }
   ],
   "source": [
    "spectra = udf.iloc[:, 7:2158].copy()\n",
    "w2, n2, IQRP2 = best_param_PLSR (spectra, y_silt, rand_silt, 0.2, 3,20)  "
   ]
  },
  {
   "cell_type": "code",
   "execution_count": 41,
   "id": "322350b4",
   "metadata": {},
   "outputs": [
    {
     "name": "stdout",
     "output_type": "stream",
     "text": [
      "Found new best at w= 0 n= 1 >>   IQRP_test = 1.4620660990985221 >>   IQRP_train = 1.5992199675262353\n",
      "Found new best at w= 0 n= 2 >>   IQRP_test = 1.5318683958349695 >>   IQRP_train = 1.6391969500627726\n",
      "Found new best at w= 0 n= 3 >>   IQRP_test = 1.7352336890244533 >>   IQRP_train = 1.9853221849593186\n",
      "On Train data best at w= 0 n= 19 >IQRP_train = 2.616050048781103\n"
     ]
    }
   ],
   "source": [
    "spectra = udf.iloc[:, 7:2158].copy()\n",
    "w3, n3, IQRP3 = best_param_PLSR (spectra, y_clay, rand_clay, 0.2, 3,20)"
   ]
  },
  {
   "cell_type": "code",
   "execution_count": 42,
   "id": "5cc7e1be",
   "metadata": {},
   "outputs": [
    {
     "name": "stdout",
     "output_type": "stream",
     "text": [
      "Found new best at w= 0 n= 1 >>   IQRP_test = 1.334302510909189 >>   IQRP_train = 1.2079753587770878\n",
      "Found new best at w= 0 n= 2 >>   IQRP_test = 1.4415853080463379 >>   IQRP_train = 1.2644747806644034\n",
      "Found new best at w= 0 n= 3 >>   IQRP_test = 1.4777628787283181 >>   IQRP_train = 1.3024554792891188\n",
      "Found new best at w= 0 n= 4 >>   IQRP_test = 1.6038181359633812 >>   IQRP_train = 1.3928270596576156\n",
      "Found new best at w= 0 n= 6 >>   IQRP_test = 1.6095546073320706 >>   IQRP_train = 1.4551157739702847\n",
      "Found new best at w= 0 n= 7 >>   IQRP_test = 1.6426385265527945 >>   IQRP_train = 1.4936978904188682\n",
      "Found new best at w= 1 n= 7 >>   IQRP_test = 1.6437605462029738 >>   IQRP_train = 1.4920751250989723\n",
      "Found new best at w= 2 n= 7 >>   IQRP_test = 1.6459029863962757 >>   IQRP_train = 1.489207522673278\n",
      "On Train data best at w= 0 n= 19 >IQRP_train = 1.7657128492304337\n"
     ]
    }
   ],
   "source": [
    "spectra = udf.iloc[:, 7:2158].copy()\n",
    "w4, n4, IQRP4 = best_param_PLSR (spectra, y_toc, rand_toc, 0.2, 3, 20)"
   ]
  },
  {
   "cell_type": "markdown",
   "id": "32115dae",
   "metadata": {},
   "source": [
    "# Step 4: Training the Model\n",
    "\n",
    "        - Create a linear regr object\n",
    "        - Apply fit function (using regr object) on training data\n",
    "        - Check the weights/parameters generated by fit function "
   ]
  },
  {
   "cell_type": "code",
   "execution_count": 43,
   "id": "4438342c",
   "metadata": {},
   "outputs": [],
   "source": [
    "# spectra = udf.iloc[:,7:2158].copy()\n",
    "# smth_spec = sgsmooth (spectra,50)\n",
    "\n",
    "# smth_spec.iloc[1,:].plot()\n",
    "# plt.show()\n",
    "# spectra.iloc[1,:].plot()\n",
    "# plt.show()"
   ]
  },
  {
   "cell_type": "code",
   "execution_count": 44,
   "id": "8a1bef02",
   "metadata": {},
   "outputs": [
    {
     "data": {
      "text/plain": [
       "PLSRegression(n_components=7)"
      ]
     },
     "execution_count": 44,
     "metadata": {},
     "output_type": "execute_result"
    }
   ],
   "source": [
    "from sklearn import linear_model\n",
    "\n",
    "regSand = PLSRegression(n_components=n1, scale=True)\n",
    "regSilt = PLSRegression(n_components=n2, scale=True)\n",
    "regClay = PLSRegression(n_components=n3, scale=True)\n",
    "regTOC = PLSRegression(n_components=n4, scale=True)\n",
    "\n",
    "\n",
    "# train the model using X_train_smth and y_train (identified in previous step)\n",
    "\n",
    "XSand_train_smth = sgsmooth (XSand_train, w1)       \n",
    "regSand.fit(XSand_train_smth, ySand_train)\n",
    "\n",
    "XSilt_train_smth = sgsmooth (XSilt_train, w2)\n",
    "regSilt.fit(XSilt_train_smth, ySilt_train)\n",
    "\n",
    "XClay_train_smth = sgsmooth (XClay_train, w3)\n",
    "regClay.fit(XClay_train_smth, yClay_train)\n",
    "\n",
    "XTOC_train_smth = sgsmooth (XTOC_train, w4)\n",
    "regTOC.fit(XTOC_train_smth, yTOC_train)\n",
    "\n"
   ]
  },
  {
   "cell_type": "code",
   "execution_count": null,
   "id": "5c30a4bf",
   "metadata": {},
   "outputs": [],
   "source": []
  },
  {
   "cell_type": "markdown",
   "id": "e2d8567e",
   "metadata": {},
   "source": [
    "# Step 5: Prediction on Test Data "
   ]
  },
  {
   "cell_type": "code",
   "execution_count": 45,
   "id": "b4eea64c",
   "metadata": {},
   "outputs": [],
   "source": [
    "# Predition using the trained-Model on the \"Test Data\"\n",
    "\n",
    "ySand_pred = regSand.predict(XSand_test,copy=True)\n",
    "ySand_pred = np.round(ySand_pred, 2)\n",
    "\n",
    "ySilt_pred = regSilt.predict(XSilt_test,copy=True)\n",
    "ySilt_pred = np.round(ySilt_pred, 2)\n",
    "\n",
    "yClay_pred = regClay.predict(XClay_test,copy=True)\n",
    "yClay_pred = np.round(yClay_pred, 2)\n",
    "\n",
    "yTOC_pred = regTOC.predict(XTOC_test,copy=True)\n",
    "yTOC_pred = np.round(yTOC_pred, 2)\n"
   ]
  },
  {
   "cell_type": "markdown",
   "id": "75ae984f",
   "metadata": {},
   "source": [
    "# Step 6: Model Accuracy and Plots"
   ]
  },
  {
   "cell_type": "code",
   "execution_count": 47,
   "id": "f53548c6",
   "metadata": {},
   "outputs": [],
   "source": [
    "# Merging actual and predicted (Test data) in one data frame for plots\n",
    "ySand_tp = pd.DataFrame({'actual':ySand_test.values, 'predic': ySand_pred[:,0]})\n",
    "# ySand_sortedA = ySand_tp.sort_values(by =['actual'])\n",
    "# ySand_srtA = ySand_sortedA.reset_index(drop=True)\n",
    "\n",
    "ySilt_tp = pd.DataFrame({'actual':ySilt_test.values, 'predic': ySilt_pred[:,0]})\n",
    "# ySilt_sortedA = ySilt_tp.sort_values(by =['actual'])\n",
    "# ySilt_srtA = ySilt_sortedA.reset_index(drop=True)\n",
    "\n",
    "yClay_tp = pd.DataFrame({'actual':yClay_test.values, 'predic': yClay_pred[:,0]})\n",
    "# yClay_sortedA = yClay_tp.sort_values(by =['actual'])\n",
    "# yClay_srtA = yClay_sortedA.reset_index(drop=True)\n",
    "\n",
    "yTOC_tp = pd.DataFrame({'actual':yTOC_test.values, 'predic': yTOC_pred[:,0]})\n",
    "# yTOC_sortedA = yTOC_tp.sort_values(by =['actual'])\n",
    "# yTOC_srtA = yTOC_sortedA.reset_index(drop=True)"
   ]
  },
  {
   "cell_type": "code",
   "execution_count": 49,
   "id": "9aa86d4a",
   "metadata": {},
   "outputs": [
    {
     "data": {
      "application/vnd.jupyter.widget-view+json": {
       "model_id": "021c10646b834429a30060dc2bbe4b72",
       "version_major": 2,
       "version_minor": 0
      },
      "text/plain": [
       "interactive(children=(Dropdown(description='target', options=('sand', 'clay', 'silt', 'TOC', 'All'), value='sa…"
      ]
     },
     "metadata": {},
     "output_type": "display_data"
    },
    {
     "data": {
      "text/plain": [
       "<function __main__.plot_pred_acc(target)>"
      ]
     },
     "execution_count": 49,
     "metadata": {},
     "output_type": "execute_result"
    }
   ],
   "source": [
    "# # Plots for Visualising the Model Accuracy\n",
    "#plt.style.use(['science','notebook','grid'])\n",
    "\n",
    "def plot_pred_acc (target):\n",
    "\n",
    "    fig, axes = plt.subplots(1,1, figsize=(8,7))\n",
    "\n",
    "    if target == 'sand':\n",
    "        z = np.polyfit(ySand_test, ySand_pred, 1)\n",
    "        score_cv = r2_score(ySand_test, ySand_pred)\n",
    "        with plt.style.context(('ggplot')):\n",
    "            ySand_tp.plot.scatter(ax= axes, x=\"actual\", y=\"predic\", alpha=0.8, color = balu, edgecolors='k')\n",
    "            axes.plot(np.polyval(z, ySand_test), ySand_test, c='blue', linewidth=1)\n",
    "            axes.plot(ySand_test, ySand_test, color='green', linewidth=1)\n",
    "            axes.tick_params(axis='both', labelsize=10)\n",
    "            plt.text(1, 11, 'SAND', fontsize = 20, color = balu)\n",
    "            plt.text(1, 10.2, 'IQRP ={:.2f}'.format(IQRP1), fontsize = 16)\n",
    "            plt.text(1, 9.4, 'R2 ={:.2f}'.format(np.round(score_cv,3)), fontsize = 16)\n",
    "\n",
    "    elif target == 'clay':\n",
    "        z = np.polyfit(yClay_test, yClay_pred, 1)\n",
    "        score_cv = r2_score(yClay_test, yClay_pred)\n",
    "        with plt.style.context(('ggplot')):\n",
    "            yClay_tp.plot.scatter(ax= axes, x=\"actual\", y=\"predic\", alpha=0.8, color = mati, edgecolors='k')\n",
    "            axes.plot(np.polyval(z, yClay_test), yClay_test, c='blue', linewidth=1)\n",
    "            axes.plot(yClay_test, yClay_test, color='green', linewidth=1)\n",
    "            axes.tick_params(axis='both', labelsize=10)\n",
    "            plt.text(1, 11, 'CLAY', fontsize = 20, color = mati)\n",
    "            plt.text(1, 10.2, 'IQRP ={:.2f}'.format(IQRP3), fontsize = 16)\n",
    "            plt.text(1, 9.4, 'R2 ={:.2f}'.format(np.round(score_cv,3)), fontsize = 16)\n",
    "\n",
    "        \n",
    "    elif target == 'silt':\n",
    "        z = np.polyfit(ySilt_test, ySilt_pred, 1)\n",
    "        score_cv = r2_score(ySilt_test, ySilt_pred)\n",
    "        with plt.style.context(('ggplot')):\n",
    "            ySilt_tp.plot.scatter(ax= axes, x=\"actual\", y=\"predic\", alpha=0.8, color = kado, edgecolors='k')\n",
    "            axes.plot(np.polyval(z, ySilt_test), ySilt_test, c='blue', linewidth=1)\n",
    "            axes.plot(ySilt_test, ySilt_test, color='green', linewidth=1)\n",
    "            axes.tick_params(axis='both', labelsize=10)\n",
    "            plt.text(1, 11, 'SILT', fontsize = 20, color = kado)\n",
    "            plt.text(1, 10.2, 'IQRP ={:.2f}'.format(IQRP2), fontsize = 16)\n",
    "            plt.text(1, 9.4, 'R2 ={:.2f}'.format(np.round(score_cv,3)), fontsize = 16)\n",
    "\n",
    "\n",
    "    elif target == 'TOC':\n",
    "        z = np.polyfit(yTOC_test, yTOC_pred, 1)\n",
    "        score_cv = r2_score(yTOC_test, yTOC_pred)\n",
    "        with plt.style.context(('ggplot')):\n",
    "            yTOC_tp.plot.scatter(ax= axes, x=\"actual\", y=\"predic\", alpha=0.8, color = 'green', edgecolors='k' )\n",
    "            axes.plot(np.polyval(z, yTOC_test), yTOC_test, c='blue', linewidth=1)\n",
    "            axes.plot(yTOC_test, yTOC_test, color='green', linewidth=1)\n",
    "            axes.tick_params(axis='both', labelsize=10)\n",
    "            plt.text(1, 11, 'TOC', fontsize = 20, color = 'green')\n",
    "            plt.text(1, 10.2, 'IQRP ={:.2f}'.format(IQRP4), fontsize = 16)\n",
    "            plt.text(1, 9.4, 'R2 ={:.2f}'.format(np.round(score_cv,3)), fontsize = 16)\n",
    "\n",
    "        \n",
    "    else:  \n",
    "        ySand_tp.plot.scatter(ax= axes, x=\"actual\", y=\"predic\", alpha=0.8, color = balu)\n",
    "        axes.tick_params(axis='both', labelsize=10)\n",
    "        plt.text(3, 11, 'SAND', fontsize = 20, color = balu)\n",
    "        yClay_tp.plot.scatter(ax= axes, x=\"actual\", y=\"predic\", alpha=0.8, color = mati)\n",
    "        axes.tick_params(axis='both', labelsize=10)\n",
    "        plt.text(3, 10, 'CLAY', fontsize = 20, color = mati)\n",
    "        ySilt_tp.plot.scatter(ax= axes, x=\"actual\", y=\"predic\", alpha=0.8, color = kado)\n",
    "        axes.tick_params(axis='both', labelsize=10)\n",
    "        plt.text(1, 11, 'SILT', fontsize = 20, color = kado)\n",
    "        yTOC_tp.plot.scatter(ax= axes, x=\"actual\", y=\"predic\", alpha=0.8, color = 'green')\n",
    "        axes.tick_params(axis='both', labelsize=10)\n",
    "        plt.text(1, 10, 'TOC', fontsize = 20, color = 'green')\n",
    "     \n",
    "\n",
    "    fig.suptitle('Predictions on \"Test\" Data', x = 0.5 ,y = .95, fontsize=20)\n",
    "    plt.xlim([0, 12])\n",
    "    plt.ylim([0, 12])\n",
    "    plt.show()\n",
    "\n",
    "ipywidgets.interact(plot_pred_acc, target = ['sand', 'clay', 'silt', 'TOC', 'All'])\n",
    "\n"
   ]
  },
  {
   "cell_type": "code",
   "execution_count": null,
   "id": "fbf4c57d",
   "metadata": {},
   "outputs": [],
   "source": []
  },
  {
   "cell_type": "code",
   "execution_count": null,
   "id": "d828c633",
   "metadata": {},
   "outputs": [],
   "source": []
  }
 ],
 "metadata": {
  "kernelspec": {
   "display_name": "Python 3 (ipykernel)",
   "language": "python",
   "name": "python3"
  },
  "language_info": {
   "codemirror_mode": {
    "name": "ipython",
    "version": 3
   },
   "file_extension": ".py",
   "mimetype": "text/x-python",
   "name": "python",
   "nbconvert_exporter": "python",
   "pygments_lexer": "ipython3",
   "version": "3.9.13"
  }
 },
 "nbformat": 4,
 "nbformat_minor": 5
}
