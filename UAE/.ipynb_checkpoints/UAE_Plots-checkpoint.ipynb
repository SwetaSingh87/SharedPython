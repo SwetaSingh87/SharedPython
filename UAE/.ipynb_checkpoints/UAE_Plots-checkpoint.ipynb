{
 "cells": [
  {
   "cell_type": "code",
   "execution_count": 1,
   "id": "c173cf42",
   "metadata": {},
   "outputs": [],
   "source": [
    "# !pip install openpyxl\n",
    "# !pip install imbalanced-learn\n",
    "# !pip3 install ipympl\n",
    "# !pip install import-ipynb\n",
    "# !pip install shapely\n",
    "# !pip install SciencePlots \n",
    "# !pip install seaborn\n",
    "# !pip install tqdm\n",
    "# !pip install ipywidgets"
   ]
  },
  {
   "cell_type": "code",
   "execution_count": 2,
   "id": "3ef6b01f",
   "metadata": {},
   "outputs": [],
   "source": [
    "import pandas as pd\n",
    "import numpy as np\n",
    "import matplotlib.pyplot as plt\n",
    "import seaborn as sns\n",
    "import scienceplots\n",
    "import os, sys\n",
    "from numpy import nan\n",
    "import re\n",
    "import ipympl\n",
    "# from IPython.core.display import display, HTML\n",
    "import ipywidgets\n",
    "import json\n",
    "from os import listdir\n",
    "import glob\n",
    "import math\n",
    "from IPython.display import Image, display, HTML\n",
    "from shapely.geometry import mapping\n",
    "from sklearn.cross_decomposition import PLSRegression\n",
    "from sklearn.ensemble import RandomForestRegressor\n",
    "from sklearn.model_selection import cross_val_score, train_test_split, RepeatedKFold, cross_val_predict\n",
    "from sklearn.metrics import r2_score, mean_squared_error, precision_score, recall_score, mean_absolute_error, make_scorer\n",
    "from sklearn.svm import SVR\n",
    "from sklearn.linear_model import LinearRegression\n",
    "from sklearn.kernel_ridge import KernelRidge\n",
    "from sklearn.datasets import make_regression\n",
    "from sklearn.ensemble import GradientBoostingRegressor\n",
    "from cubist import Cubist\n",
    "from sklearn.model_selection import GridSearchCV, RandomizedSearchCV, LeaveOneOut, cross_validate\n",
    "from sklearn.impute import SimpleImputer\n",
    "from tqdm.notebook import tqdm\n",
    "from sklearn.svm import SVC\n",
    "from tqdm import tqdm\n",
    "import pickle\n",
    "from imblearn.over_sampling import SMOTE\n",
    "from scipy.stats import ks_2samp\n",
    "from scipy import stats\n",
    "np.seterr(divide='ignore', invalid='ignore')\n",
    "pd.options.display.max_columns = 100\n",
    "from sklearn.preprocessing import PolynomialFeatures\n",
    "%matplotlib inline\n",
    "from scipy.signal import savgol_filter\n",
    "from scipy.spatial import ConvexHull\n",
    "from scipy.interpolate import interp1d"
   ]
  },
  {
   "cell_type": "code",
   "execution_count": 3,
   "id": "22684781",
   "metadata": {},
   "outputs": [
    {
     "name": "stdout",
     "output_type": "stream",
     "text": [
      "importing Jupyter notebook from SoilPrep.ipynb\n"
     ]
    }
   ],
   "source": [
    "import import_ipynb\n",
    "from SoilPrep import * "
   ]
  },
  {
   "cell_type": "markdown",
   "id": "237d1771",
   "metadata": {},
   "source": [
    "## Setting up decision parameters (Data Tree)"
   ]
  },
  {
   "cell_type": "code",
   "execution_count": 4,
   "id": "aee7c2d7",
   "metadata": {},
   "outputs": [],
   "source": [
    "# 1. Available smoothing filter types: savgol1 and savgol2 ------------------------ (1)\n",
    "sg_filters = ['sg1', 'sg2']\n",
    "\n",
    "# 2. Available window lengths for the smoothing filter ---------------------------- (2)\n",
    "window_lengths = [0, 1, 11, 21, 31, 41, 51, 61, 71, 81, 91, 101]\n",
    "\n",
    "# 3. Available preprocessing for Spectral data ------------------------------------ (3)\n",
    "prepare_spec = ['none', 'fod', 'continuum']\n",
    "#prepare_spec = ['none', 'fod', 'continuum']\n",
    "\n",
    "# 4. Number of bands available for resampling spectra ----------------------------- (4) \n",
    "nbands_sampling = [0, 5, 10, 15, 20, 25, 30, 40, 50, 100]\n",
    "\n",
    "# 5. Names of target variables in the dataframe ----------------------------------- (5)\n",
    "target_names = ['sand', 'silt', 'clay', 'TOC']\n",
    "\n",
    "# 6. Available preprocessing for Target data -------------------------------------- (6)\n",
    "prepare_target = ['none', 'minmax']\n",
    "\n",
    "# 7. Available machine learning regression models --------------------------------- (7)\n",
    "ml_methods = ['mult', 'plsr', 'randomforest', 'cubist','svr', 'ridge', 'gbrt']\n",
    "\n",
    "# 8. Recorded predictions on test-train data for model accuracy  ------------------ (8)\n",
    "test_train_predict = ['test', 'testP', 'train', 'trainP']\n",
    "\n",
    "clr = ['#F4A460', '#8B7355', '#A52A2A', 'green']"
   ]
  },
  {
   "cell_type": "code",
   "execution_count": 5,
   "id": "24fbfeb7",
   "metadata": {},
   "outputs": [],
   "source": [
    "# Colour scheme definition\n",
    "kado = '#8B7355'\n",
    "mati = '#A52A2A'\n",
    "balu = '#F4A460'"
   ]
  },
  {
   "cell_type": "markdown",
   "id": "71e1faa5",
   "metadata": {},
   "source": [
    "## Best of all worlds"
   ]
  },
  {
   "cell_type": "code",
   "execution_count": 6,
   "id": "a1f85e45",
   "metadata": {},
   "outputs": [],
   "source": [
    "#ml_methods = ['mult', 'plsr', 'randomforest','svr', 'ridge', 'gbrt']"
   ]
  },
  {
   "cell_type": "code",
   "execution_count": 7,
   "id": "04241275",
   "metadata": {},
   "outputs": [],
   "source": [
    "def best_model_parameters (Mtree, target, method, scorer):\n",
    "    t=target\n",
    "    m= method\n",
    "    \n",
    "    best_score = -1\n",
    "    best_n_comp = 'NA'\n",
    "    \n",
    "    \n",
    "    for tp in prepare_target:\n",
    "        for n in nbands_sampling:\n",
    "            for p in prepare_spec:\n",
    "                Y = Mtree[m][t][tp][n][p]\n",
    "                    \n",
    "                if scorer == 'iqrp':\n",
    "                    cur_score = Y['iqrp_test']\n",
    "                elif scorer == 'rpd':\n",
    "                    cur_score = Y['rpd_test']\n",
    "                else:\n",
    "                    cur_score = Y['r2_test']  \n",
    "                    \n",
    "                if cur_score > best_score:\n",
    "                    best_score = cur_score\n",
    "                    best_tp = tp\n",
    "                    best_n = n\n",
    "                    best_p = p\n",
    "                    if m == 'plsr':\n",
    "                        best_n_comp = Y['n_comp']\n",
    "                            \n",
    "    param_list = [scorer, np.round(best_score,2), 'Spec:', best_p, 'bands:', best_n, 'Tar:', best_tp]                                 \n",
    "    return (param_list)                                \n",
    "    "
   ]
  },
  {
   "cell_type": "code",
   "execution_count": 8,
   "id": "0b8e5bf2",
   "metadata": {},
   "outputs": [],
   "source": [
    "def best_score_for (Mtree, target, scorer):\n",
    "    \n",
    "    for method in ml_methods:\n",
    "        param_list= best_model_parameters (Mtree, target, method, scorer)\n",
    "        print('For:'+target+'->', param_list, ':'+method)\n",
    "     \n",
    "    return"
   ]
  },
  {
   "cell_type": "markdown",
   "id": "fe74d829",
   "metadata": {},
   "source": [
    "## Plot Function for Model Accuracy (Normal)"
   ]
  },
  {
   "cell_type": "code",
   "execution_count": 9,
   "id": "8dd90a0e",
   "metadata": {},
   "outputs": [],
   "source": [
    "def plot_model_acc (target, target_preprocessing, spec_preprocessing, n_bands, method):\n",
    "    \n",
    "    m = method\n",
    "    t = target\n",
    "    \n",
    "    i = target_names.index(target)\n",
    "    \n",
    "    \n",
    "    p = spec_preprocessing\n",
    "    n = n_bands\n",
    "    tp = target_preprocessing\n",
    "    \n",
    "    Y = Mtree[m][t][tp][n][p]\n",
    "    \n",
    "    y_test = Y['test']\n",
    "    y_pred = Y['testP']\n",
    "    y_train = Y['train']\n",
    "    yhat_pred = Y['trainP']\n",
    "    \n",
    "    if m == 'plsr':\n",
    "        n_com = Y['n_comp']\n",
    "        y_pred = y_pred[:,0]\n",
    "        yhat_pred = yhat_pred[:,0]\n",
    "    \n",
    "    \n",
    "    iqrp_test = Y['iqrp_test']\n",
    "    r2_test = Y['r2_test']\n",
    "    rpd_test = Y['rpd_test']\n",
    "    \n",
    "    iqrp_train = find_iqrp(yhat_pred, y_train)\n",
    "    r2_train = find_r2(yhat_pred, y_train)\n",
    "    rpd_train = find_rpd(yhat_pred, y_train)\n",
    "    \n",
    "    y_tp = pd.DataFrame({'actual':y_test.values, 'predic': y_pred})\n",
    "    z = np.polyfit(y_test, y_pred, 1)\n",
    "    \n",
    "    yhat_tp = pd.DataFrame({'actual':y_train.values, 'predic': yhat_pred})\n",
    "    zhat = np.polyfit(y_train, yhat_pred, 1)\n",
    "    \n",
    "    fig, axes = plt.subplots(1,2, figsize=(18,8))\n",
    "    \n",
    "    #with plt.style.context(('ggplot')): ---- PLOT of test-prediction --------------------------------------\n",
    "    y_tp.plot.scatter(ax= axes[0], x=\"actual\", y=\"predic\", alpha=0.8, color = clr[i], edgecolors='k')\n",
    "    axes[0].plot(y_test, np.polyval(z, y_test),  c='blue', linewidth=1)\n",
    "    axes[0].plot(y_test, y_test, color='green', linewidth=1)\n",
    "    axes[0].tick_params(axis='both', labelsize=10)\n",
    "    axes[0].text(0.05, 0.95, target_names[i]+' (Test Data)', transform=axes[0].transAxes, fontsize = 20, color = clr[i])\n",
    "    axes[0].text(0.05, 0.90, 'IQRP ={:.2f}'.format(iqrp_test), transform=axes[0].transAxes, fontsize = 16)\n",
    "    axes[0].text(0.05, 0.85, 'RPD ={:.2f}'.format(rpd_test), transform=axes[0].transAxes, fontsize = 16)\n",
    "    axes[0].text(0.05, 0.80, 'R2 ={:.2f}'.format(np.round(r2_test,3)), transform=axes[0].transAxes, fontsize = 16)\n",
    "    axes[0].text(0.95, 0.15, 'Method: '+method, transform=axes[0].transAxes, \n",
    "                    horizontalalignment='right', fontsize = 20)\n",
    "    \n",
    "    if method == 'plsr':\n",
    "        axes[0].text(0.95, 0.05, 'n_component={:.2f}'.format(n_com), transform=axes[0].transAxes, \n",
    "                    horizontalalignment='right', fontsize = 12)\n",
    "    \n",
    "    #---------------------------------- ---- PLOT of train-prediction --------------------------------------\n",
    "    yhat_tp.plot.scatter(ax= axes[1], x=\"actual\", y=\"predic\", alpha=0.8, color = clr[i], edgecolors='k')\n",
    "    axes[1].plot(y_train, np.polyval(zhat, y_train),  c='blue', linewidth=1)\n",
    "    axes[1].plot(y_train, y_train, color='green', linewidth=1)\n",
    "    axes[1].tick_params(axis='both', labelsize=10)\n",
    "    axes[1].text(0.05, 0.95,  target_names[i]+' (Training Data)', transform=axes[1].transAxes,fontsize = 20, color = clr[i])\n",
    "    axes[1].text(0.05, 0.90, 'IQRP ={:.2f}'.format(iqrp_train), transform=axes[1].transAxes, fontsize = 16)\n",
    "    axes[1].text(0.05, 0.85, 'RPD ={:.2f}'.format(rpd_train), transform=axes[1].transAxes, fontsize = 16)\n",
    "    axes[1].text(0.05, 0.80, 'R2 ={:.2f}'.format(np.round(r2_train,3)), transform=axes[1].transAxes, fontsize = 16)\n",
    "    axes[1].text(0.95, 0.15, 'Method: '+method, transform=axes[1].transAxes, \n",
    "                    horizontalalignment='right', fontsize = 20)\n",
    "    return    "
   ]
  },
  {
   "cell_type": "markdown",
   "id": "fb9fb149",
   "metadata": {},
   "source": [
    "## Plot Function for Model Accuracy (Leave One Out)"
   ]
  },
  {
   "cell_type": "code",
   "execution_count": 10,
   "id": "169cfbf9",
   "metadata": {},
   "outputs": [],
   "source": [
    "def plot_model_acc_l1out (target, target_preprocessing, spec_preprocessing, n_bands, method):\n",
    "    \n",
    "    m = method\n",
    "    t = target\n",
    "    \n",
    "    i = target_names.index(target)\n",
    "    \n",
    "    \n",
    "    p = spec_preprocessing\n",
    "    n = n_bands\n",
    "    tp = target_preprocessing\n",
    "    \n",
    "    Y = Mtree[m][t][tp][n][p]\n",
    "    \n",
    "    y_test = Y['test']\n",
    "    y_pred = Y['testP']\n",
    "#     y_train = Y['train']\n",
    "#     yhat_pred = Y['trainP']\n",
    "    \n",
    "    if m == 'plsr':\n",
    "        n_com = Y['n_comp']\n",
    "        y_pred = y_pred[:,0]\n",
    "#         yhat_pred = yhat_pred[:,0]\n",
    "    \n",
    "    \n",
    "    iqrp_test = Y['iqrp_test']\n",
    "    r2_test = Y['r2_test']\n",
    "    rpd_test = Y['rpd_test']\n",
    "    \n",
    "#     iqrp_train = find_iqrp(yhat_pred, y_train)\n",
    "#     r2_train = find_r2(yhat_pred, y_train)\n",
    "#     rpd_train = find_rpd(yhat_pred, y_train)\n",
    "    \n",
    "    y_tp = pd.DataFrame({'actual':y_test.values, 'predic': y_pred})\n",
    "    z = np.polyfit(y_test, y_pred, 1)\n",
    "    \n",
    "#     yhat_tp = pd.DataFrame({'actual':y_train.values, 'predic': yhat_pred})\n",
    "#     zhat = np.polyfit(y_train, yhat_pred, 1)\n",
    "    \n",
    "    fig, axes = plt.subplots(1,2, figsize=(18,8))\n",
    "    \n",
    "    #with plt.style.context(('ggplot')): ---- PLOT of test-prediction --------------------------------------\n",
    "    y_tp.plot.scatter(ax= axes[0], x=\"actual\", y=\"predic\", alpha=0.8, color = clr[i], edgecolors='k')\n",
    "    axes[0].plot(y_test, np.polyval(z, y_test),  c='blue', linewidth=1)\n",
    "    axes[0].plot(y_test, y_test, color='green', linewidth=1)\n",
    "    axes[0].tick_params(axis='both', labelsize=10)\n",
    "    axes[0].text(0.05, 0.95, target_names[i]+' (Test Data)', transform=axes[0].transAxes, fontsize = 20, color = clr[i])\n",
    "    axes[0].text(0.05, 0.90, 'IQRP ={:.2f}'.format(iqrp_test), transform=axes[0].transAxes, fontsize = 16)\n",
    "    axes[0].text(0.05, 0.85, 'RPD ={:.2f}'.format(rpd_test), transform=axes[0].transAxes, fontsize = 16)\n",
    "    axes[0].text(0.05, 0.80, 'R2 ={:.2f}'.format(np.round(r2_test,3)), transform=axes[0].transAxes, fontsize = 16)\n",
    "    axes[0].text(0.95, 0.15, 'Method: '+method, transform=axes[0].transAxes, \n",
    "                    horizontalalignment='right', fontsize = 20)\n",
    "    \n",
    "    if method == 'plsr':\n",
    "        axes[0].text(0.95, 0.05, 'n_component={:.2f}'.format(n_com), transform=axes[0].transAxes, \n",
    "                    horizontalalignment='right', fontsize = 12)\n",
    "    \n",
    "    #---------------------------------- ---- PLOT of train-prediction --------------------------------------\n",
    "#     yhat_tp.plot.scatter(ax= axes[1], x=\"actual\", y=\"predic\", alpha=0.8, color = clr[i], edgecolors='k')\n",
    "#     axes[1].plot(y_train, np.polyval(zhat, y_train),  c='blue', linewidth=1)\n",
    "#     axes[1].plot(y_train, y_train, color='green', linewidth=1)\n",
    "#     axes[1].tick_params(axis='both', labelsize=10)\n",
    "#     axes[1].text(0.05, 0.95,  target_names[i]+' (Training Data)', transform=axes[1].transAxes,fontsize = 20, color = clr[i])\n",
    "#     axes[1].text(0.05, 0.90, 'IQRP ={:.2f}'.format(iqrp_train), transform=axes[1].transAxes, fontsize = 16)\n",
    "#     axes[1].text(0.05, 0.85, 'RPD ={:.2f}'.format(rpd_train), transform=axes[1].transAxes, fontsize = 16)\n",
    "#     axes[1].text(0.05, 0.80, 'R2 ={:.2f}'.format(np.round(r2_train,3)), transform=axes[1].transAxes, fontsize = 16)\n",
    "#     axes[1].text(0.95, 0.15, 'Method: '+method, transform=axes[1].transAxes, \n",
    "#                     horizontalalignment='right', fontsize = 20)\n",
    "    return    "
   ]
  },
  {
   "cell_type": "markdown",
   "id": "d908099c",
   "metadata": {},
   "source": [
    "## Loading Model Tree (Mtree)"
   ]
  },
  {
   "cell_type": "code",
   "execution_count": 11,
   "id": "fbc012ba",
   "metadata": {},
   "outputs": [],
   "source": [
    "with open ('uae_sampled_sat_l1out.pickle', 'rb') as file:\n",
    "    Mtree = pickle.load(file)"
   ]
  },
  {
   "cell_type": "code",
   "execution_count": 12,
   "id": "b948ff18",
   "metadata": {},
   "outputs": [
    {
     "name": "stdout",
     "output_type": "stream",
     "text": [
      "For:sand-> ['iqrp', 1.51, 'Spec:', 'none', 'bands:', 10, 'Tar:', 'none'] :mult\n",
      "For:sand-> ['iqrp', 1.56, 'Spec:', 'none', 'bands:', 10, 'Tar:', 'none'] :plsr\n",
      "For:sand-> ['iqrp', 1.73, 'Spec:', 'continuum', 'bands:', 30, 'Tar:', 'minmax'] :randomforest\n",
      "For:sand-> ['iqrp', 1.56, 'Spec:', 'continuum', 'bands:', 20, 'Tar:', 'minmax'] :cubist\n",
      "For:sand-> ['iqrp', 1.45, 'Spec:', 'continuum', 'bands:', 15, 'Tar:', 'minmax'] :svr\n",
      "For:sand-> ['iqrp', 1.51, 'Spec:', 'none', 'bands:', 0, 'Tar:', 'minmax'] :ridge\n",
      "For:sand-> ['iqrp', 1.72, 'Spec:', 'continuum', 'bands:', 25, 'Tar:', 'none'] :gbrt\n"
     ]
    }
   ],
   "source": [
    "best_score_for(Mtree, 'sand', 'iqrp')"
   ]
  },
  {
   "cell_type": "code",
   "execution_count": 13,
   "id": "41642a4d",
   "metadata": {},
   "outputs": [
    {
     "name": "stdout",
     "output_type": "stream",
     "text": [
      "For:sand-> ['r2', 0.13, 'Spec:', 'none', 'bands:', 10, 'Tar:', 'none'] :mult\n",
      "For:sand-> ['r2', 0.19, 'Spec:', 'none', 'bands:', 10, 'Tar:', 'none'] :plsr\n",
      "For:sand-> ['r2', 0.34, 'Spec:', 'continuum', 'bands:', 30, 'Tar:', 'minmax'] :randomforest\n",
      "For:sand-> ['r2', 0.19, 'Spec:', 'continuum', 'bands:', 20, 'Tar:', 'minmax'] :cubist\n",
      "For:sand-> ['r2', 0.06, 'Spec:', 'continuum', 'bands:', 15, 'Tar:', 'minmax'] :svr\n",
      "For:sand-> ['r2', 0.13, 'Spec:', 'none', 'bands:', 0, 'Tar:', 'minmax'] :ridge\n",
      "For:sand-> ['r2', 0.33, 'Spec:', 'continuum', 'bands:', 25, 'Tar:', 'none'] :gbrt\n"
     ]
    }
   ],
   "source": [
    "best_score_for(Mtree, 'sand', 'r2')"
   ]
  },
  {
   "cell_type": "code",
   "execution_count": 14,
   "id": "80d73321",
   "metadata": {},
   "outputs": [],
   "source": [
    "#best_score_for(Mtree, 'TOC', 'iqrp')"
   ]
  },
  {
   "cell_type": "code",
   "execution_count": 15,
   "id": "cd50f3db",
   "metadata": {},
   "outputs": [],
   "source": [
    "#best_score_for(Mtree, 'TOC', 'r2')"
   ]
  },
  {
   "cell_type": "markdown",
   "id": "a1345b40",
   "metadata": {},
   "source": [
    "## Plotting Model Accuracy (ipywidgets)"
   ]
  },
  {
   "cell_type": "markdown",
   "id": "fe41ab08",
   "metadata": {},
   "source": [
    "### Normal Plot"
   ]
  },
  {
   "cell_type": "code",
   "execution_count": 16,
   "id": "80469404",
   "metadata": {},
   "outputs": [],
   "source": [
    "# ipywidgets.interact(plot_model_acc, target = target_names,target_preprocessing = prepare_target, \\\n",
    "#                     method = ml_methods, spec_preprocessing = prepare_spec, n_bands = nbands_sampling)"
   ]
  },
  {
   "cell_type": "markdown",
   "id": "c13e6122",
   "metadata": {},
   "source": [
    "### Leave One Out Plot"
   ]
  },
  {
   "cell_type": "code",
   "execution_count": 17,
   "id": "89b9db47",
   "metadata": {},
   "outputs": [
    {
     "data": {
      "application/vnd.jupyter.widget-view+json": {
       "model_id": "74f9737e7dfa4fbb87134c571fdd6ad9",
       "version_major": 2,
       "version_minor": 0
      },
      "text/plain": [
       "interactive(children=(Dropdown(description='target', options=('sand', 'silt', 'clay', 'TOC'), value='sand'), D…"
      ]
     },
     "metadata": {},
     "output_type": "display_data"
    },
    {
     "data": {
      "text/plain": [
       "<function __main__.plot_model_acc_l1out(target, target_preprocessing, spec_preprocessing, n_bands, method)>"
      ]
     },
     "execution_count": 17,
     "metadata": {},
     "output_type": "execute_result"
    }
   ],
   "source": [
    "ipywidgets.interact(plot_model_acc_l1out, target = target_names,target_preprocessing = prepare_target, \\\n",
    "                    method = ml_methods, spec_preprocessing = prepare_spec, n_bands = nbands_sampling)"
   ]
  },
  {
   "cell_type": "code",
   "execution_count": null,
   "id": "7f8c3328",
   "metadata": {},
   "outputs": [],
   "source": []
  }
 ],
 "metadata": {
  "kernelspec": {
   "display_name": "Python 3 (ipykernel)",
   "language": "python",
   "name": "python3"
  },
  "language_info": {
   "codemirror_mode": {
    "name": "ipython",
    "version": 3
   },
   "file_extension": ".py",
   "mimetype": "text/x-python",
   "name": "python",
   "nbconvert_exporter": "python",
   "pygments_lexer": "ipython3",
   "version": "3.9.16"
  }
 },
 "nbformat": 4,
 "nbformat_minor": 5
}
