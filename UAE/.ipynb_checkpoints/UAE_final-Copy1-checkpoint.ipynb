{
 "cells": [
  {
   "cell_type": "code",
   "execution_count": 1,
   "id": "c173cf42",
   "metadata": {},
   "outputs": [],
   "source": [
    "# !pip install openpyxl\n",
    "# !pip install imbalanced-learn\n",
    "# !pip3 install ipympl\n",
    "# !pip install import-ipynb\n",
    "# !pip install shapely\n",
    "# !pip install SciencePlots \n",
    "# !pip install seaborn\n",
    "# !pip install tqdm\n",
    "# !pip install ipywidgets"
   ]
  },
  {
   "cell_type": "code",
   "execution_count": 73,
   "id": "3ef6b01f",
   "metadata": {},
   "outputs": [],
   "source": [
    "import pandas as pd\n",
    "import numpy as np\n",
    "import matplotlib.pyplot as plt\n",
    "import seaborn as sns\n",
    "import scienceplots\n",
    "import os, sys\n",
    "from numpy import nan\n",
    "import re\n",
    "import ipympl\n",
    "# from IPython.core.display import display, HTML\n",
    "import ipywidgets\n",
    "import json\n",
    "from os import listdir\n",
    "import glob\n",
    "import math\n",
    "from IPython.display import Image, display, HTML\n",
    "from shapely.geometry import mapping\n",
    "from sklearn.cross_decomposition import PLSRegression\n",
    "from sklearn.ensemble import RandomForestRegressor\n",
    "from sklearn.model_selection import cross_val_score, train_test_split, RepeatedKFold, cross_val_predict\n",
    "from sklearn.metrics import r2_score, mean_squared_error, precision_score, recall_score, mean_absolute_error, make_scorer\n",
    "from sklearn.svm import SVR\n",
    "from sklearn.linear_model import LinearRegression\n",
    "from sklearn.kernel_ridge import KernelRidge\n",
    "from sklearn.datasets import make_regression\n",
    "from sklearn.ensemble import GradientBoostingRegressor\n",
    "from sklearn.model_selection import GridSearchCV, RandomizedSearchCV, LeaveOneOut, cross_validate\n",
    "from sklearn.impute import SimpleImputer\n",
    "from tqdm.notebook import tqdm\n",
    "from sklearn.svm import SVC\n",
    "from tqdm import tqdm\n",
    "import pickle\n",
    "from imblearn.over_sampling import SMOTE\n",
    "from scipy.stats import ks_2samp\n",
    "from scipy import stats\n",
    "np.seterr(divide='ignore', invalid='ignore')\n",
    "pd.options.display.max_columns = 100\n",
    "from sklearn.preprocessing import PolynomialFeatures\n",
    "%matplotlib inline\n",
    "from scipy.signal import savgol_filter\n",
    "from scipy.spatial import ConvexHull\n",
    "from scipy.interpolate import interp1d"
   ]
  },
  {
   "cell_type": "code",
   "execution_count": 163,
   "id": "22684781",
   "metadata": {},
   "outputs": [],
   "source": [
    "import import_ipynb\n",
    "from SoilPrep import * "
   ]
  },
  {
   "cell_type": "markdown",
   "id": "237d1771",
   "metadata": {},
   "source": [
    "# Step 0: Setting up decision paramenters (Data Tree)"
   ]
  },
  {
   "cell_type": "code",
   "execution_count": 164,
   "id": "aee7c2d7",
   "metadata": {},
   "outputs": [],
   "source": [
    "# 1. Available smoothing filter types: savgol1 and savgol2 ------------------------ (1)\n",
    "sg_filters = ['sg1', 'sg2']\n",
    "\n",
    "# 2. Available window lengths for the smoothing filter ---------------------------- (2)\n",
    "window_lengths = [0, 1, 11, 21, 31, 41, 51, 61, 71, 81, 91, 101]\n",
    "\n",
    "# 3. Available preprocessing for Spectral data ------------------------------------ (3)\n",
    "prepare_spec = ['none', 'fod', 'continuum']\n",
    "#prepare_spec = ['none', 'fod', 'continuum']\n",
    "\n",
    "# 4. Number of bands available for resampling spectra ----------------------------- (4) \n",
    "nbands_sampling = [0, 10, 20, 50, 100, 200, 500]\n",
    "\n",
    "# 5. Names of target variables in the dataframe ----------------------------------- (5)\n",
    "target_names = ['sand', 'silt', 'clay', 'TOC']\n",
    "\n",
    "# 6. Available preprocessing for Target data -------------------------------------- (6)\n",
    "prepare_target = ['none', 'minmax']\n",
    "\n",
    "\n",
    "# 8. Recorded predictions on test-train data for model accuracy  ------------------ (8)\n",
    "test_train_predict = ['test', 'testP', 'train', 'trainP']"
   ]
  },
  {
   "cell_type": "markdown",
   "id": "8cd5b13f",
   "metadata": {},
   "source": [
    "# Step 1a: Spectra Preprocessing (Smooth, FOD/Contin, and Resample)"
   ]
  },
  {
   "cell_type": "code",
   "execution_count": 165,
   "id": "24fbfeb7",
   "metadata": {},
   "outputs": [],
   "source": [
    "# Colour scheme definition\n",
    "kado = '#8B7355'\n",
    "mati = '#A52A2A'\n",
    "balu = '#F4A460'"
   ]
  },
  {
   "cell_type": "code",
   "execution_count": 166,
   "id": "722bf977",
   "metadata": {},
   "outputs": [],
   "source": [
    "df = pd.read_csv('uae.csv')\n",
    "spectra = df.iloc[:, 7:2158].copy()"
   ]
  },
  {
   "cell_type": "markdown",
   "id": "b7aae8ec",
   "metadata": {},
   "source": [
    "## Savgol smoothing (order 1 and order 2)"
   ]
  },
  {
   "cell_type": "code",
   "execution_count": 182,
   "id": "99baabb8",
   "metadata": {},
   "outputs": [],
   "source": [
    "# -------------- Smoothed Spectra spec1 (savgol order 1) and spec2 (savgol order 2)  -----------\n",
    "\n",
    "def filt_sg(spectra, window_len, filt_type):\n",
    "    sg = filt_type\n",
    "    w = window_len\n",
    "    \n",
    "    if sg == 'sg1':\n",
    "        if w ==0 or w == 1:\n",
    "            smth_spec = spectra.copy()   \n",
    "        else:\n",
    "            smth_spec = spectra.copy()\n",
    "            pd.DataFrame(savgol_filter(smth_spec, w, 1, axis=1), columns=smth_spec.columns, index=smth_spec.index)\n",
    "            \n",
    "    else:\n",
    "        if w ==0 or w == 1:\n",
    "            smth_spec = spectra.copy()   \n",
    "        else:\n",
    "            smth_spec = spectra.copy()\n",
    "            pd.DataFrame(savgol_filter(smth_spec, w, 2, axis=1), columns=smth_spec.columns, index=smth_spec.index)\n",
    "            \n",
    "    return (smth_spec)\n",
    "\n",
    "spec1 = {}\n",
    "for i in window_lengths:\n",
    "    spec1[i] = filt_sg(spectra, i, 'sg1')           \n",
    "        \n",
    "# clipping out the initial 50 noisy wavelengths -------------- \n",
    "for i in window_lengths:\n",
    "    spec1[i] = spec1[i].iloc[:, 50:2151]  \n",
    "\n",
    "    \n",
    "spec2 = {}\n",
    "for i in window_lengths:\n",
    "    spec2[i] = filt_sg(spectra, i, 'sg2')\n",
    "        \n",
    "# clipping out the initial 50 noisy wavelengths --------------            \n",
    "for i in window_lengths:\n",
    "    spec2[i] = spec2[i].iloc[:, 50:2151] \n",
    "\n",
    "# clipped original spectra (initial 50 noisy wavelengths removed) ------------------------------------    \n",
    "\n",
    "clipped_spectra = spec1[1]\n",
    "\n",
    "\n",
    "# minimum and maximum iloc locations (c_min, c_max) and loc locations (loc_min, loc_max)------------\n",
    "c_min = 0\n",
    "c_max = 2100\n",
    "\n",
    "loc_min = 400\n",
    "loc_max = 2500"
   ]
  },
  {
   "cell_type": "code",
   "execution_count": 183,
   "id": "61561d09",
   "metadata": {},
   "outputs": [
    {
     "data": {
      "image/png": "[encoded data removed]",
      "text/plain": [
       "<Figure size 432x288 with 1 Axes>"
      ]
     },
     "metadata": {
      "needs_background": "light"
     },
     "output_type": "display_data"
    }
   ],
   "source": [
    "for i in range (0,10,1):\n",
    "    cliped_spectra.iloc[i,:].plot()"
   ]
  },
  {
   "cell_type": "markdown",
   "id": "48f299ea",
   "metadata": {},
   "source": [
    "## Moving average smoothing (not in use)"
   ]
  },
  {
   "cell_type": "code",
   "execution_count": 184,
   "id": "e88ccb6a",
   "metadata": {},
   "outputs": [],
   "source": [
    "# # --------------- MOVING WINDOW SMOOTHING OF ORIGINAL SPECTRUM ------------   \n",
    "# smoothed_spec ={}\n",
    "# for i in range (1,120,1):\n",
    "#     smoothed_spec[i] = sgsmooth (spectra,i)\n",
    "    \n",
    "\n",
    "# for i in range (1,120,1):\n",
    "#     smoothed_spec[i] = smoothed_spec[i].iloc[:,50:2151]\n",
    "    \n",
    "\n",
    "# for i in range (0,10,1):\n",
    "#     smoothed_spec[100].iloc[i,:].plot()    "
   ]
  },
  {
   "cell_type": "markdown",
   "id": "f253386c",
   "metadata": {},
   "source": [
    "## First Order Derivative"
   ]
  },
  {
   "cell_type": "code",
   "execution_count": 185,
   "id": "7a95423f",
   "metadata": {},
   "outputs": [],
   "source": [
    "def fod (spectra):\n",
    "    fo_spec = spectra.iloc[:,:].copy()\n",
    "    (row,col) = fo_spec.shape\n",
    "    \n",
    "    for i in range(0,col):\n",
    "        if i==col-1:\n",
    "            fo_spec.iloc[:,i] = fo_spec.iloc[:,i-1]\n",
    "        else:    \n",
    "            fo_spec.iloc[:,i] = (spectra.iloc[:,i+1]- spectra.iloc[:,i])\n",
    "        \n",
    "    fo_spec = 100*fo_spec\n",
    "    return(fo_spec.copy())"
   ]
  },
  {
   "cell_type": "code",
   "execution_count": 186,
   "id": "385ba98c",
   "metadata": {},
   "outputs": [
    {
     "data": {
      "image/png": "[encoded data removed]",
      "text/plain": [
       "<Figure size 432x288 with 1 Axes>"
      ]
     },
     "metadata": {
      "needs_background": "light"
     },
     "output_type": "display_data"
    }
   ],
   "source": [
    "fod_spec = fod(spec2[51])\n",
    "\n",
    "for i in range (0,10,1):\n",
    "    fod_spec.iloc[i,:].plot()\n"
   ]
  },
  {
   "cell_type": "code",
   "execution_count": 187,
   "id": "db076876",
   "metadata": {},
   "outputs": [],
   "source": [
    "fod1 = {}\n",
    "for i in window_lengths:\n",
    "    fod1[i] = filt_sg(fod_spec, i, 'sg1')\n",
    "    \n",
    "fod2 = {}\n",
    "for i in window_lengths:\n",
    "    fod2[i] = filt_sg(fod_spec, i, 'sg2') "
   ]
  },
  {
   "cell_type": "markdown",
   "id": "8f55420f",
   "metadata": {},
   "source": [
    "## Continuum Removal"
   ]
  },
  {
   "cell_type": "code",
   "execution_count": 188,
   "id": "37861382",
   "metadata": {},
   "outputs": [],
   "source": [
    "def continuum_removal(points, show=False):\n",
    "    x1, y1 = points.T\n",
    "    augmented = np.concatenate([points, [(x1[0], np.min(y1)-1), (x1[-1], np.min(y1)-1)]], axis=0)\n",
    "    hull = ConvexHull(augmented)\n",
    "    continuum_points = points[np.sort([v for v in hull.vertices if v < len(points)])]\n",
    "    continuum_function = interp1d(*continuum_points.T)\n",
    "    yprime = continuum_function(x1) - y1\n",
    "    #yprime = y1 / continuum_function(x1)\n",
    "\n",
    "    if show:\n",
    "        fig, axes = plt.subplots(2, 1, sharex=True)\n",
    "        axes[0].plot(x1, y1, label='Data')\n",
    "        axes[0].plot(*continuum_points.T, label='Continuum')\n",
    "        axes[0].legend()\n",
    "        axes[1].plot(x1, yprime, label='Data / Continuum')\n",
    "        axes[1].legend()\n",
    "\n",
    "    return yprime\n",
    "\n",
    "\n",
    "def continuum_removed(spectra):\n",
    "    cr_spec = spectra.copy()\n",
    "    \n",
    "    x1 = np.arange (loc_min, loc_max+1, 1)\n",
    "    row, col = spectra.shape\n",
    "    \n",
    "    for r in range(0,row,1):\n",
    "        y1 = cr_spec.iloc[r,:]\n",
    "        points = np.c_[x1, y1]\n",
    "        yprime = continuum_removal(points, show=False)\n",
    "        cr_spec.iloc[r,:] = yprime\n",
    "        \n",
    "    return cr_spec"
   ]
  },
  {
   "cell_type": "code",
   "execution_count": 189,
   "id": "e800b1b8",
   "metadata": {},
   "outputs": [
    {
     "data": {
      "image/png": "[encoded data removed]",
      "text/plain": [
       "<Figure size 432x288 with 1 Axes>"
      ]
     },
     "metadata": {
      "needs_background": "light"
     },
     "output_type": "display_data"
    }
   ],
   "source": [
    "cr_spec = continuum_removed(spec2[51])\n",
    "\n",
    "for i in range (0,10,1):\n",
    "    cr_spec.iloc[i,:].plot()\n",
    "    "
   ]
  },
  {
   "cell_type": "code",
   "execution_count": 190,
   "id": "a291a195",
   "metadata": {},
   "outputs": [],
   "source": [
    "cr1 = {}\n",
    "for i in window_lengths:\n",
    "    cr1[i] = filt_sg(cr_spec, i, 'sg1')\n",
    "    \n",
    "cr2 = {}\n",
    "for i in window_lengths:\n",
    "    cr2[i] = filt_sg(cr_spec, i, 'sg2')  \n",
    " "
   ]
  },
  {
   "cell_type": "markdown",
   "id": "88485b75",
   "metadata": {},
   "source": [
    "## Resampling (n_bands)"
   ]
  },
  {
   "cell_type": "code",
   "execution_count": 192,
   "id": "eb37e96f",
   "metadata": {},
   "outputs": [],
   "source": [
    "def resample_spectra (spectra, n_band):\n",
    "    #row, width = alldata_smoothed.shape\n",
    "    if n_band == 0:\n",
    "        red_spectra = spectra.copy()\n",
    "    else:\n",
    "        w = (c_max-c_min)/n_band\n",
    "        \n",
    "        #----- obtaining the sampling locations in indx----\n",
    "        indx = []\n",
    "        for i in range (0,n_band,1):\n",
    "            indx.append(np.floor((i+0.5)*w))\n",
    "            \n",
    "        #------ applying smoothing filter on spectra---------\n",
    "        temp_smooth = sgsmooth (spectra, np.floor(0.5*w).astype(int))\n",
    "        \n",
    "        #------ picking values at sampling locations---------\n",
    "        red_spectra = temp_smooth.iloc[:, indx].copy()\n",
    "        \n",
    "    return (red_spectra)"
   ]
  },
  {
   "cell_type": "markdown",
   "id": "c3293312",
   "metadata": {},
   "source": [
    "### 1. Sampled Original (sampled_spec: sampled clipped_spectra)"
   ]
  },
  {
   "cell_type": "code",
   "execution_count": 198,
   "id": "f516492c",
   "metadata": {},
   "outputs": [],
   "source": [
    "sampled_spec = {}\n",
    "for w in nbands_sampling:\n",
    "    sampled_spec[w] = resample_spectra (clipped_spectra, w)"
   ]
  },
  {
   "cell_type": "code",
   "execution_count": 199,
   "id": "e039a42c",
   "metadata": {},
   "outputs": [
    {
     "data": {
      "image/png": "[encoded data removed]",
      "text/plain": [
       "<Figure size 432x288 with 1 Axes>"
      ]
     },
     "metadata": {
      "needs_background": "light"
     },
     "output_type": "display_data"
    }
   ],
   "source": [
    "for i in range (0,10,1):\n",
    "    sampled_spec[20].iloc[i,:].plot()"
   ]
  },
  {
   "cell_type": "markdown",
   "id": "6b556f5a",
   "metadata": {},
   "source": [
    "### 2. Sampled Continuum Removed  (sampled_cr)"
   ]
  },
  {
   "cell_type": "code",
   "execution_count": 200,
   "id": "fab45619",
   "metadata": {},
   "outputs": [],
   "source": [
    "sampled_cr = {}\n",
    "for w in nbands_sampling:\n",
    "    sampled_cr[w] = resample_spectra (cr_spec, w)"
   ]
  },
  {
   "cell_type": "code",
   "execution_count": 203,
   "id": "de689267",
   "metadata": {},
   "outputs": [
    {
     "data": {
      "image/png": "[encoded data removed]",
      "text/plain": [
       "<Figure size 432x288 with 1 Axes>"
      ]
     },
     "metadata": {
      "needs_background": "light"
     },
     "output_type": "display_data"
    }
   ],
   "source": [
    "for i in range (0,10,1):\n",
    "    sampled_cr[20].iloc[i,:].plot()"
   ]
  },
  {
   "cell_type": "markdown",
   "id": "822eed90",
   "metadata": {},
   "source": [
    "### 3. Sampled FOD  (sampled_fod)"
   ]
  },
  {
   "cell_type": "code",
   "execution_count": 204,
   "id": "cd32e9c3",
   "metadata": {},
   "outputs": [],
   "source": [
    "sampled_fod = {}\n",
    "for w in nbands_sampling:\n",
    "    sampled_fod[w] = resample_spectra (fod_spec, w)"
   ]
  },
  {
   "cell_type": "code",
   "execution_count": 207,
   "id": "bbaa74eb",
   "metadata": {},
   "outputs": [
    {
     "data": {
      "image/png": "[encoded data removed]",
      "text/plain": [
       "<Figure size 432x288 with 1 Axes>"
      ]
     },
     "metadata": {
      "needs_background": "light"
     },
     "output_type": "display_data"
    }
   ],
   "source": [
    "for i in range (0,10,1):\n",
    "    sampled_fod[20].iloc[i,:].plot()"
   ]
  },
  {
   "cell_type": "markdown",
   "id": "ad37e7ab",
   "metadata": {},
   "source": [
    "## Visualizing Processed Spectrum (variable samples)"
   ]
  },
  {
   "cell_type": "code",
   "execution_count": 208,
   "id": "ecc8344d",
   "metadata": {},
   "outputs": [
    {
     "data": {
      "application/vnd.jupyter.widget-view+json": {
       "model_id": "79476488a0534b64af72f2f543b4a433",
       "version_major": 2,
       "version_minor": 0
      },
      "text/plain": [
       "interactive(children=(IntSlider(value=146, description='sample', max=293), Dropdown(description='process', opt…"
      ]
     },
     "metadata": {},
     "output_type": "display_data"
    },
    {
     "data": {
      "text/plain": [
       "<function __main__.plot_spec(sample, process)>"
      ]
     },
     "execution_count": 208,
     "metadata": {},
     "output_type": "execute_result"
    }
   ],
   "source": [
    "def plot_spec (sample, process):\n",
    "    x1 = spec2[51].iloc[sample,:]\n",
    "    x1.plot()\n",
    "    if process == 'continuum':\n",
    "        x2 = cr_spec.iloc[sample,:]\n",
    "        x2.plot()\n",
    "    else: \n",
    "        x3 = fod_spec.iloc[sample,:]/1.5\n",
    "        x3.plot()\n",
    "    plt.ylim([-0.6, 0.8])\n",
    "\n",
    "ipywidgets.interact(plot_spec, sample = (0, 293,1), process = ['fod', 'continuum'])"
   ]
  },
  {
   "cell_type": "markdown",
   "id": "868b6138",
   "metadata": {},
   "source": [
    "# Step 1b: Target  Preprocessing (Outliers removal and Normalization)"
   ]
  },
  {
   "cell_type": "code",
   "execution_count": 209,
   "id": "58ad22bd",
   "metadata": {},
   "outputs": [],
   "source": [
    "df = pd.read_csv('uae.csv')\n",
    "# ------------- Target Isolation ----------------------\n",
    "\n",
    "clr = ['#F4A460', '#8B7355', '#A52A2A', 'green']\n",
    "\n",
    "def isolate_targets(df, target_names):\n",
    "    T=[]\n",
    "    for i in range (0,len(target_names)):\n",
    "        T.append(df[target_names[i]])\n",
    "    return(T)\n",
    "    \n",
    "T = isolate_targets(df,target_names) \n",
    "\n",
    "\n",
    "# --- TODO : Also define and Use other normalisation methods ----\n",
    "def normalize_targets(T):          \n",
    "    NT =[]\n",
    "    for i in range(0, len(T)):\n",
    "        NT.append(lognormal(T[i].copy()))\n",
    "    return(NT)\n",
    "\n",
    "NT = normalize_targets(T)\n"
   ]
  },
  {
   "cell_type": "markdown",
   "id": "c12f62f4",
   "metadata": {},
   "source": [
    "## Correlation between wavelengths and Targets"
   ]
  },
  {
   "cell_type": "code",
   "execution_count": 210,
   "id": "dd230431",
   "metadata": {},
   "outputs": [
    {
     "data": {
      "application/vnd.jupyter.widget-view+json": {
       "model_id": "5bade5f8a6124119aa512dd6d89da697",
       "version_major": 2,
       "version_minor": 0
      },
      "text/plain": [
       "interactive(children=(Dropdown(description='target', options=('sand', 'silt', 'clay', 'TOC'), value='sand'), D…"
      ]
     },
     "metadata": {},
     "output_type": "display_data"
    },
    {
     "data": {
      "text/plain": [
       "<function __main__.plot_corr(target, mean_of_std)>"
      ]
     },
     "execution_count": 210,
     "metadata": {},
     "output_type": "execute_result"
    }
   ],
   "source": [
    "plt.style.use(['science','notebook','grid'])\n",
    "# Pearson corelation between different wavelengths and Targets/Outputs (i.e, sand, clay, silt, and TOC) \n",
    "\n",
    "def find_rpval (spectra, T):\n",
    "    r_val = []\n",
    "    p_val = []\n",
    "    for i in range (0,len(T)):\n",
    "        p_val.append(spectra.loc[[0],:].copy())\n",
    "        r_val.append(spectra.loc[[0],:].copy())\n",
    "        for j in range(c_min, c_max+1):\n",
    "            r_val[i].iloc[0,j], p_val[i].iloc[0,j] = stats.pearsonr(T[i], spectra.iloc[:, j])\n",
    "    return(r_val, p_val)\n",
    "\n",
    "r_val, p_val = find_rpval (spectra, T)\n",
    "\n",
    "light_blue = '#6495ED'\n",
    "spec_std = 6*spectra.std()\n",
    "mean_spec_std = spec_std.copy()\n",
    "mean_spec_std.iloc[:] = spec_std.mean()\n",
    "\n",
    "def plot_corr (target, mean_of_std):\n",
    "    i = target_names.index(target)\n",
    "    r_val[i].iloc[0,:].plot(color = clr[i])\n",
    "    spec_std.plot(color = 'blue')\n",
    "    if mean_of_std == 'on':\n",
    "        mean_spec_std.plot(color = 'blue', linewidth=1, linestyle='dashed')\n",
    "    plt.ylim([-0.6, 0.6])\n",
    "\n",
    "ipywidgets.interact(plot_corr, target = target_names, mean_of_std= ['on', 'off'])"
   ]
  },
  {
   "cell_type": "code",
   "execution_count": null,
   "id": "79aaf316",
   "metadata": {},
   "outputs": [],
   "source": [
    "\n"
   ]
  },
  {
   "cell_type": "markdown",
   "id": "f00e07ff",
   "metadata": {},
   "source": [
    "# Step 2:  Parameters for Best Train-Test Split  "
   ]
  },
  {
   "cell_type": "code",
   "execution_count": 211,
   "id": "1300a125",
   "metadata": {},
   "outputs": [
    {
     "name": "stdout",
     "output_type": "stream",
     "text": [
      "Without Normalization:\n",
      "For sand :test size = 0.2 \t min bin error= 66.25 \t at randome state = 21\n",
      "For silt :test size = 0.2 \t min bin error= 48.75 \t at randome state = 2\n",
      "For clay :test size = 0.2 \t min bin error= 33.75 \t at randome state = 7\n",
      "For TOC :test size = 0.2 \t min bin error= 41.25 \t at randome state = 24\n",
      "After Normalization:\n",
      "For sand :test size = 0.2 \t min bin error= 78.75 \t at randome state = 10\n",
      "For silt :test size = 0.2 \t min bin error= 53.75 \t at randome state = 23\n",
      "For clay :test size = 0.2 \t min bin error= 33.75 \t at randome state = 7\n",
      "For TOC :test size = 0.2 \t min bin error= 66.25 \t at randome state = 1\n"
     ]
    }
   ],
   "source": [
    "# Building Mtree (Model Tree) ----------------------------------\n",
    "\n",
    "tst_siz = 0.2\n",
    "\n",
    "rand_t = [None] * (len(T))\n",
    "err_t = [None] * (len(T))\n",
    "\n",
    "print('Without Normalization:')\n",
    "for i in range (0,len(T)):\n",
    "    rand_t[i], err_t[i] = best_split(spectra.copy(), T[i], tst_siz) \n",
    "    print ('For '+ target_names[i]+ ' :test size =', tst_siz, '\\t min bin error=', err_t[i], '\\t at randome state =', rand_t[i])\n",
    "    \n",
    "rand_nt = [None] * (len(T))\n",
    "err_nt = [None] * (len(T))\n",
    "\n",
    "print('After Normalization:')\n",
    "for i in range (0,len(T)):\n",
    "    rand_nt[i], err_nt[i] = best_split(spectra.copy(), NT[i], tst_siz)     \n",
    "    print ('For '+ target_names[i]+ ' :test size =', tst_siz, '\\t min bin error=', err_nt[i], '\\t at randome state =', rand_nt[i])\n",
    "    \n",
    "    "
   ]
  },
  {
   "cell_type": "markdown",
   "id": "7e853a50",
   "metadata": {},
   "source": [
    "# Step 3: Parameters for Best Model Fit "
   ]
  },
  {
   "cell_type": "markdown",
   "id": "d531478b",
   "metadata": {},
   "source": [
    "## PLSR"
   ]
  },
  {
   "cell_type": "code",
   "execution_count": 214,
   "id": "311d0c9a",
   "metadata": {},
   "outputs": [],
   "source": [
    "\n",
    "from sklearn import linear_model\n",
    "\n",
    "def best_param_PLSR (X_train, X_test, y_train, y_test, n_comp):\n",
    "        \n",
    "    iqrpL = []\n",
    "    \n",
    "    for n in range(1,n_comp):\n",
    "        Model = PLSRegression(n_components=n, scale=True)\n",
    "        Model.fit(X_train, y_train)\n",
    "        y_pred = Model.predict(X_test, copy=True)\n",
    "        \n",
    "        iqrp_test = iqrp(y_pred, y_test)\n",
    "#         r2_test = r2_score(y_test, y_pred)\n",
    "#         rpd_test = y_test.std()/np.sqrt(mean_squared_error(y_test, y_pred))\n",
    "               \n",
    "        iqrpL.append(iqrp_test)\n",
    "#         r2L.append(r2_test)\n",
    "#         rpdL.append(rpd_test)\n",
    "        \n",
    "        \n",
    "    \n",
    "    IQRP = max(iqrpL)\n",
    "    n_iqrp = iqrpL.index(max(iqrpL))+1\n",
    "    \n",
    "#     R2 = max(r2L)\n",
    "#     n_r2 = r2L.index(R2)+1    \n",
    "#     RPD = max(rpdL)\n",
    "#     n_rpd = rpdL.index(RPD)+1\n",
    "    \n",
    "#    print('IQRP :', IQRP,  'R2 :', R2,  'RPD:', RPD, '>>> n_comp: ', n_iqrp, n_r2, n_rpd)    \n",
    "    return (n_iqrp)\n",
    "        \n",
    " "
   ]
  },
  {
   "cell_type": "markdown",
   "id": "a65f2032",
   "metadata": {},
   "source": [
    "## Random Forest"
   ]
  },
  {
   "cell_type": "markdown",
   "id": "d908099c",
   "metadata": {},
   "source": [
    "# Step 4: Building Model Tree (Mtree)"
   ]
  },
  {
   "cell_type": "code",
   "execution_count": 215,
   "id": "07468618",
   "metadata": {},
   "outputs": [],
   "source": [
    "import os\n",
    "# os.system('say \"your program has finished\"')\n",
    "import time"
   ]
  },
  {
   "cell_type": "code",
   "execution_count": 216,
   "id": "f4a97c5c",
   "metadata": {},
   "outputs": [],
   "source": [
    "# 0. Available machine learning regression models --------------------------------- (7)\n",
    "ml_methods = ['mult', 'plsr', 'randomforest']\n",
    "#ml_methods = ['mult', 'plsr', 'cubist', 'randomforest', 'ridge' 'gbrt', 'svm']"
   ]
  },
  {
   "cell_type": "code",
   "execution_count": 217,
   "id": "36d247b4",
   "metadata": {},
   "outputs": [],
   "source": [
    "def build_tree_for (method_name):\n",
    "    tree ={}\n",
    "    start = time.time()\n",
    "    m = method_name\n",
    "    #-- code to build tree----\n",
    "    for t in target_names:\n",
    "        \n",
    "        if t == 'sand' and m == 'mult':\n",
    "            os.system('say \"tree for multilinear running on sand\"')\n",
    "        if t == 'silt' and m == 'mult':\n",
    "            os.system('say \"tree for multilinear running on silt\"')\n",
    "        if t == 'clay' and m == 'mult':\n",
    "            os.system('say \"tree for multilinear running on clay\"')\n",
    "        if t == 'TOC' and m == 'mult':\n",
    "            os.system('say \"tree for multilinear running on TOC\"')\n",
    "            \n",
    "        if t == 'sand' and m == 'plsr':\n",
    "            os.system('say \"tree for plsr running on sand\"')\n",
    "        if t == 'silt' and m == 'plsr':\n",
    "            os.system('say \"tree for plsr running on silt\"')\n",
    "        if t == 'clay' and m == 'plsr':\n",
    "            os.system('say \"tree for plsr running on clay\"')\n",
    "        if t == 'TOC' and m == 'plsr':\n",
    "            os.system('say \"tree for plsr running on TOC\"')\n",
    "            \n",
    "        if t == 'sand' and m == 'randomforest':\n",
    "            os.system('say \"tree for randomforest running on sand\"')\n",
    "        if t == 'silt' and m == 'randomforest':\n",
    "            os.system('say \"tree for randomforest running on silt\"')\n",
    "        if t == 'clay' and m == 'randomforest':\n",
    "            os.system('say \"tree for randomforest running on clay\"')\n",
    "        if t == 'TOC' and m == 'randomforest':\n",
    "            os.system('say \"tree for randomforest running on TOC\"')    \n",
    "            \n",
    "            \n",
    "        tree[t] ={}\n",
    "        for tp in prepare_target:\n",
    "            tree[t][tp] ={}\n",
    "            for n in nbands_sampling:\n",
    "                tree[t][tp][n] ={}\n",
    "                for p in prepare_spec:\n",
    "                    tree[t][tp][n][p] ={}\n",
    "                    \n",
    "                    #---- following case : either sampling or decision tree methods--\n",
    "                    #---- in this case select appropriate sampled spectrum -------\n",
    "                    if n!=0 or m == 'randomforest':\n",
    "                        #------ case: sampling required-----------------------\n",
    "                        Y = tree[t][tp][n][p]\n",
    "                        \n",
    "                        #------ seting spec to appropriate sampled spectra----\n",
    "                        if p == 'none':\n",
    "                            if n == 0:\n",
    "                                #---- reched here due to randomforest--\n",
    "                                spec = sampled_spec[100]\n",
    "                            else:\n",
    "                                #---- reached here with some n!=0----\n",
    "                                spec = sampled_spec[n]\n",
    "                        \n",
    "                        elif p == 'fod':\n",
    "                            if n == 0:\n",
    "                                #---- reched here due to randomforest--\n",
    "                                spec = sampled_fod[100]\n",
    "                            else:\n",
    "                                #---- reached here with some n!=0----\n",
    "                                spec = sampled_fod[n]\n",
    "                                \n",
    "                        else:  \n",
    "                            if n == 0:\n",
    "                                #---- reched here due to randomforest--\n",
    "                                spec = sampled_cr[100]\n",
    "                            else:\n",
    "                                #---- reached here with some n!=0----\n",
    "                                spec = sampled_cr[n]\n",
    "                        \n",
    "                        #---- target selection and normalization ---\n",
    "                        if tp == 'none':\n",
    "                            y = T[target_names.index(t)]\n",
    "                            rand_n = rand_t[target_names.index(t)]  #-- for future use in train-test split\n",
    "                        else:\n",
    "                            y = NT[target_names.index(t)]\n",
    "                            rand_n = rand_nt[target_names.index(t)] #-- for future use in train-test split\n",
    "                            #print('one more target set')\n",
    "                            \n",
    "                        #---- performing train-test split----------------------\n",
    "                        X_train, X_test, y_train, y_test = train_test_split(spec, y, test_size= tst_siz, random_state=rand_n)\n",
    "                            \n",
    "                        #----- PLSR: best parameters, fitting, and prediction\n",
    "                        if m == 'plsr':\n",
    "                            n_com = best_param_PLSR (X_train, X_test, y_train, y_test, 10)\n",
    "                            #print('one more n_comp', n_com)\n",
    "                            Model = PLSRegression(n_components=n_com, scale=True)\n",
    "                            Model.fit(X_train, y_train)\n",
    "                            y_pred = Model.predict(X_test, copy=True)\n",
    "                            yhat_pred = Model.predict(X_train, copy=True)\n",
    "                                \n",
    "                            Y['test'] = y_test\n",
    "                            Y['testP'] = y_pred\n",
    "                            Y['train'] = y_train\n",
    "                            Y['trainP'] = yhat_pred\n",
    "                            Y['n_comp'] = n_com\n",
    "                                \n",
    "                        #----- MULTILINEAR:  fitting, and prediction---------- \n",
    "                        if m == 'mult':\n",
    "                            Model = linear_model.LinearRegression()\n",
    "                            Model.fit(X_train, y_train)\n",
    "                            y_pred = Model.predict(X_test)\n",
    "                            yhat_pred = Model.predict(X_train)\n",
    "                                \n",
    "                            Y['test'] = y_test\n",
    "                            Y['testP'] = y_pred\n",
    "                            Y['train'] = y_train\n",
    "                            Y['trainP'] = yhat_pred\n",
    "                                \n",
    "                        #----- RANDOM_FOREST:   fitting, and prediction---------- \n",
    "                        if m == 'randomforest': \n",
    "                            Model = RandomForestRegressor(random_state= 20)\n",
    "                            Model.fit(X_train, y_train)\n",
    "                            y_pred = Model.predict(X_test)\n",
    "                            yhat_pred = Model.predict(X_train)\n",
    "                                \n",
    "                            Y['test'] = y_test\n",
    "                            Y['testP'] = y_pred\n",
    "                            Y['train'] = y_train\n",
    "                            Y['trainP'] = yhat_pred\n",
    "                            \n",
    "                        \n",
    "                    #---- following case: no sampling needed and model is not randomforest ---    \n",
    "                    else: \n",
    "                        for sg in sg_filters:\n",
    "                            tree[t][tp][n][p][sg] ={}\n",
    "                            for w in window_lengths:\n",
    "                                tree[t][tp][n][p][sg][w]={}\n",
    "                                Y = tree[t][tp][n][p][sg][w]\n",
    "                                \n",
    "                                # -- optimal train test split----------------------------------------\n",
    "                            \n",
    "                                # -- deciding the smoothed spectra in present branch ---\n",
    "                                if sg == 'sg1':\n",
    "                                    spec = spec1[w]\n",
    "                                else:\n",
    "                                    spec = spec2[w]\n",
    "                                \n",
    "                                # -- preprocessing the spectra ------\n",
    "                    \n",
    "                                #--- no preprocessing ---------------\n",
    "                                if p == 'none':\n",
    "                                    spec = spec\n",
    "                                \n",
    "                                #--- first order derivative + smoothing------    \n",
    "                                elif p == 'fod':\n",
    "                                    if sg == 'sg1':\n",
    "                                        spec = fod1[w]\n",
    "                                    else:\n",
    "                                        spec = fod2[w]\n",
    "                                    #print('fod for one more case')\n",
    "                                \n",
    "                                #--- continuum removal + smoothing---------    \n",
    "                                else: \n",
    "                                    if sg == 'sg1':\n",
    "                                        spec = cr1[w]\n",
    "                                    else:\n",
    "                                        spec = cr2[w]\n",
    "                                    #print('cr for one more case')\n",
    "                            \n",
    "                                \n",
    "                                #---- target selection and normalization ---\n",
    "                                if tp == 'none':\n",
    "                                    y = T[target_names.index(t)]\n",
    "                                    rand_n = rand_t[target_names.index(t)]  #-- for future use in train-test split\n",
    "                                else:\n",
    "                                    y = NT[target_names.index(t)]\n",
    "                                    rand_n = rand_nt[target_names.index(t)] #-- for future use in train-test split\n",
    "                                    #print('one more target set')\n",
    "                            \n",
    "                                #---- performing train-test split----------------------\n",
    "                                X_train, X_test, y_train, y_test = train_test_split(spec, y, test_size= tst_siz, random_state=rand_n)\n",
    "                            \n",
    "                                \n",
    "                                #----- PLSR: best parameters, fitting, and prediction\n",
    "                                if m == 'plsr':\n",
    "                                    n_com = best_param_PLSR (X_train, X_test, y_train, y_test, 10)\n",
    "                                    #print('one more n_comp', n_com)\n",
    "                                    Model = PLSRegression(n_components=n_com, scale=True)\n",
    "                                    Model.fit(X_train, y_train)\n",
    "                                    y_pred = Model.predict(X_test, copy=True)\n",
    "                                    yhat_pred = Model.predict(X_train, copy=True)\n",
    "                                \n",
    "                                    Y['test'] = y_test\n",
    "                                    Y['testP'] = y_pred\n",
    "                                    Y['train'] = y_train\n",
    "                                    Y['trainP'] = yhat_pred\n",
    "                                    Y['n_comp'] = n_com\n",
    "                                \n",
    "                                #----- MULTILINEAR:  fitting, and prediction---------- \n",
    "                                if m == 'mult':\n",
    "                                    Model = linear_model.LinearRegression()\n",
    "                                    Model.fit(X_train, y_train)\n",
    "                                    y_pred = Model.predict(X_test)\n",
    "                                    yhat_pred = Model.predict(X_train)\n",
    "                                \n",
    "                                    Y['test'] = y_test\n",
    "                                    Y['testP'] = y_pred\n",
    "                                    Y['train'] = y_train\n",
    "                                    Y['trainP'] = yhat_pred\n",
    "                                \n",
    "#                                 #----- RANDOM_FOREST:   fitting, and prediction---------- \n",
    "#                                 if m == 'randomforest': \n",
    "#                                     Model = RandomForestRegressor(random_state= 20)\n",
    "#                                     Model.fit(X_train, y_train)\n",
    "#                                     y_pred = Model.predict(X_test)\n",
    "#                                     yhat_pred = Model.predict(X_train)\n",
    "                                \n",
    "#                                     Y['test'] = y_test\n",
    "#                                     Y['testP'] = y_pred\n",
    "#                                     Y['train'] = y_train\n",
    "#                                     Y['trainP'] = yhat_pred\n",
    "                    \n",
    "                    \n",
    "                      \n",
    "     \n",
    "    \n",
    "    end = time.time()                            \n",
    "    os.system('say \"your program has finished\"')                            \n",
    "\n",
    "    print('End time - Start time =', (end-start)) \n",
    "    \n",
    "    return (tree.copy())\n"
   ]
  },
  {
   "cell_type": "code",
   "execution_count": 218,
   "id": "fbc012ba",
   "metadata": {},
   "outputs": [],
   "source": [
    "Mtree ={}"
   ]
  },
  {
   "cell_type": "code",
   "execution_count": 219,
   "id": "41c34738",
   "metadata": {},
   "outputs": [
    {
     "name": "stdout",
     "output_type": "stream",
     "text": [
      "End time - Start time = 197.71226596832275\n"
     ]
    }
   ],
   "source": [
    "Mtree['plsr'] = build_tree_for ('plsr')"
   ]
  },
  {
   "cell_type": "code",
   "execution_count": 220,
   "id": "b02641a6",
   "metadata": {},
   "outputs": [
    {
     "name": "stdout",
     "output_type": "stream",
     "text": [
      "End time - Start time = 262.4959228038788\n"
     ]
    }
   ],
   "source": [
    "Mtree['mult'] = build_tree_for ('mult')"
   ]
  },
  {
   "cell_type": "code",
   "execution_count": 221,
   "id": "867391a0",
   "metadata": {},
   "outputs": [
    {
     "name": "stdout",
     "output_type": "stream",
     "text": [
      "End time - Start time = 160.0738251209259\n"
     ]
    }
   ],
   "source": [
    "Mtree['randomforest'] = build_tree_for ('randomforest')"
   ]
  },
  {
   "cell_type": "markdown",
   "id": "fe74d829",
   "metadata": {},
   "source": [
    "## Ploting Model Accuracy (ipywidgets)"
   ]
  },
  {
   "cell_type": "code",
   "execution_count": 222,
   "id": "8dd90a0e",
   "metadata": {},
   "outputs": [],
   "source": [
    "def plot_model_acc (target, method, smth_filt, window_len, spec_preprocessing, n_bands, target_preprocessing):\n",
    "    \n",
    "    m = method\n",
    "    t = target\n",
    "    \n",
    "    i = target_names.index(target)\n",
    "    \n",
    "    sg = smth_filt\n",
    "    w = window_len\n",
    "    p = spec_preprocessing\n",
    "    n = n_bands\n",
    "    tp = target_preprocessing\n",
    "    \n",
    "    if n!=0 or m == 'randomforest':\n",
    "        Y = Mtree[m][t][tp][n][p]\n",
    "    else: \n",
    "        Y = Mtree[m][t][tp][n][p][sg][w]\n",
    "    \n",
    "    #Y = Mtree[m][t][sg][w][p][n][tp]\n",
    "    y_test = Y['test']\n",
    "    y_pred = Y['testP']\n",
    "    y_train = Y['train']\n",
    "    yhat_pred = Y['trainP']\n",
    "    \n",
    "    if m == 'plsr':\n",
    "        n_com = Y['n_comp']\n",
    "        y_pred = y_pred[:,0]\n",
    "        yhat_pred = yhat_pred[:,0]\n",
    "    \n",
    "    iqrp_test = iqrp(y_pred, y_test)\n",
    "    r2_test = r2_score(y_test, y_pred)\n",
    "    rpd_test = y_test.std()/np.sqrt(mean_squared_error(y_test, y_pred))\n",
    "    \n",
    "    iqrp_train = iqrp(yhat_pred, y_train)\n",
    "    r2_train = r2_score(y_train, yhat_pred)\n",
    "    rpd_train = y_train.std()/np.sqrt(mean_squared_error(y_train, yhat_pred))\n",
    "    \n",
    "    y_tp = pd.DataFrame({'actual':y_test.values, 'predic': y_pred})\n",
    "    z = np.polyfit(y_test, y_pred, 1)\n",
    "    \n",
    "    yhat_tp = pd.DataFrame({'actual':y_train.values, 'predic': yhat_pred})\n",
    "    zhat = np.polyfit(y_train, yhat_pred, 1)\n",
    "    \n",
    "    fig, axes = plt.subplots(1,2, figsize=(18,8))\n",
    "    \n",
    "    #with plt.style.context(('ggplot')): ---- PLOT of test-prediction --------------------------------------\n",
    "    y_tp.plot.scatter(ax= axes[0], x=\"actual\", y=\"predic\", alpha=0.8, color = clr[i], edgecolors='k')\n",
    "    axes[0].plot(y_test, np.polyval(z, y_test),  c='blue', linewidth=1)\n",
    "    axes[0].plot(y_test, y_test, color='green', linewidth=1)\n",
    "    axes[0].tick_params(axis='both', labelsize=10)\n",
    "    axes[0].text(0.05, 0.95, target_names[i]+' (Test Data)', transform=axes[0].transAxes, fontsize = 20, color = clr[i])\n",
    "    axes[0].text(0.05, 0.90, 'IQRP ={:.2f}'.format(iqrp_test), transform=axes[0].transAxes, fontsize = 16)\n",
    "    axes[0].text(0.05, 0.85, 'RPD ={:.2f}'.format(rpd_test), transform=axes[0].transAxes, fontsize = 16)\n",
    "    axes[0].text(0.05, 0.80, 'R2 ={:.2f}'.format(np.round(r2_test,3)), transform=axes[0].transAxes, fontsize = 16)\n",
    "    axes[0].text(0.95, 0.15, 'Method: '+method, transform=axes[0].transAxes, \n",
    "                    horizontalalignment='right', fontsize = 20)\n",
    "    axes[0].text(0.95, 0.10, 'smoothing window={:.2f}'.format(w), transform=axes[0].transAxes, \n",
    "                    horizontalalignment='right', fontsize = 12)\n",
    "    if method == 'plsr':\n",
    "        axes[0].text(0.95, 0.05, 'n_component={:.2f}'.format(n_com), transform=axes[0].transAxes, \n",
    "                    horizontalalignment='right', fontsize = 12)\n",
    "    \n",
    "    #---------------------------------- ---- PLOT of train-prediction --------------------------------------\n",
    "    yhat_tp.plot.scatter(ax= axes[1], x=\"actual\", y=\"predic\", alpha=0.8, color = clr[i], edgecolors='k')\n",
    "    axes[1].plot(y_train, np.polyval(zhat, y_train),  c='blue', linewidth=1)\n",
    "    axes[1].plot(y_train, y_train, color='green', linewidth=1)\n",
    "    axes[1].tick_params(axis='both', labelsize=10)\n",
    "    axes[1].text(0.05, 0.95,  target_names[i]+' (Training Data)', transform=axes[1].transAxes,fontsize = 20, color = clr[i])\n",
    "    axes[1].text(0.05, 0.90, 'IQRP ={:.2f}'.format(iqrp_train), transform=axes[1].transAxes, fontsize = 16)\n",
    "    axes[1].text(0.05, 0.85, 'RPD ={:.2f}'.format(rpd_train), transform=axes[1].transAxes, fontsize = 16)\n",
    "    axes[1].text(0.05, 0.80, 'R2 ={:.2f}'.format(np.round(r2_train,3)), transform=axes[1].transAxes, fontsize = 16)\n",
    "    axes[1].text(0.95, 0.15, 'Method: '+method, transform=axes[1].transAxes, \n",
    "                    horizontalalignment='right', fontsize = 20)\n",
    "    axes[1].text(0.95, 0.10, 'smoothing window={:.2f}'.format(w), transform=axes[1].transAxes, \n",
    "                    horizontalalignment='right', fontsize = 12)\n",
    "        \n",
    "    "
   ]
  },
  {
   "cell_type": "code",
   "execution_count": 223,
   "id": "89b9db47",
   "metadata": {},
   "outputs": [
    {
     "data": {
      "application/vnd.jupyter.widget-view+json": {
       "model_id": "bad3d843474049109aea6f0bc16ecab0",
       "version_major": 2,
       "version_minor": 0
      },
      "text/plain": [
       "interactive(children=(Dropdown(description='target', options=('sand', 'silt', 'clay', 'TOC'), value='sand'), D…"
      ]
     },
     "metadata": {},
     "output_type": "display_data"
    },
    {
     "data": {
      "text/plain": [
       "<function __main__.plot_model_acc(target, method, smth_filt, window_len, spec_preprocessing, n_bands, target_preprocessing)>"
      ]
     },
     "execution_count": 223,
     "metadata": {},
     "output_type": "execute_result"
    }
   ],
   "source": [
    "ipywidgets.interact(plot_model_acc, target = target_names, method = ml_methods, smth_filt = sg_filters, \n",
    "                    window_len = window_lengths, spec_preprocessing = prepare_spec, n_bands = nbands_sampling, \n",
    "                    target_preprocessing = prepare_target)"
   ]
  },
  {
   "cell_type": "code",
   "execution_count": null,
   "id": "ef58c10e",
   "metadata": {},
   "outputs": [],
   "source": [
    "# 1. Available smoothing filter types: savgol1 and savgol2 ------------------------ (1)\n",
    "sg_filters = ['sg1', 'sg2']\n",
    "\n",
    "# 2. Available window lengths for the smoothing filter ---------------------------- (2)\n",
    "window_lengths = [0, 1, 3, 5, 7, 9, 11, 21, 31, 41, 51, 61, 71, 81, 91, 101]\n",
    "\n",
    "# 3. Available preprocessing for Spectral data ------------------------------------ (3)\n",
    "prepare_spec = ['none', 'fod', 'continuum']\n",
    "#prepare_spec = ['none', 'fod', 'continuum']\n",
    "\n",
    "# 4. Number of bands available for resampling spectra ----------------------------- (4) \n",
    "nbands_sampling = [10, 20, 30, 40, 50, 100, 200, 300, 400, 500, 600, 700, 800, 900, 1000]\n",
    "\n",
    "# 5. Names of target variables in the dataframe ----------------------------------- (5)\n",
    "target_names = ['sand', 'silt', 'clay', 'TOC']\n",
    "\n",
    "# 6. Available preprocessing for Target data -------------------------------------- (6)\n",
    "prepare_target = ['none', 'minmax']\n",
    "\n",
    "# 0. Available machine learning regression models --------------------------------- (7)\n",
    "ml_methods = ['mult', 'plsr']\n",
    "#ml_methods = ['mult', 'plsr', 'cubist', 'randomforest', 'ridge' 'gbrt', 'svm']\n",
    "\n",
    "# 8. Recorded predictions on test-train data for model accuracy  ------------------ (8)\n",
    "test_train_predict = ['test', 'testP', 'train', 'trainP']"
   ]
  },
  {
   "cell_type": "markdown",
   "id": "8732545a",
   "metadata": {},
   "source": [
    "\n",
    "##  Visualizing the Optimal Test Train Split "
   ]
  },
  {
   "cell_type": "code",
   "execution_count": 14,
   "id": "3e195a02",
   "metadata": {},
   "outputs": [
    {
     "data": {
      "application/vnd.jupyter.widget-view+json": {
       "model_id": "d43caab5217e48ad95cd23346db4239b",
       "version_major": 2,
       "version_minor": 0
      },
      "text/plain": [
       "interactive(children=(Dropdown(description='target', options=('sand', 'silt', 'clay', 'TOC'), value='sand'), O…"
      ]
     },
     "metadata": {},
     "output_type": "display_data"
    },
    {
     "data": {
      "text/plain": [
       "<function __main__.best_split_plot(target)>"
      ]
     },
     "execution_count": 14,
     "metadata": {},
     "output_type": "execute_result"
    }
   ],
   "source": [
    "def best_split_plot (target):\n",
    "    \n",
    "    i = target_names.index(target)\n",
    "    \n",
    "    X_train, X_test, y_train, y_test = train_test_split(spectra, T[i], test_size= tst_siz, random_state=rand_t[i])\n",
    "    NX_train, NX_test, Ny_train, Ny_test = train_test_split(spectra, NT[i], test_size= tst_siz, random_state=rand_nt[i])\n",
    "    \n",
    "    fig, ax = plt.subplots(1,2, figsize=(18,7))\n",
    "    \n",
    "    binsT = np.linspace(np.min(T[i]), np.max(T[i]),10)\n",
    "    ax[0].hist([y_train, y_test], binsT , label=['Train', 'Test'], density=True, color = ['blue','red'])\n",
    "    ax[0].legend(loc='upper center', fontsize =12)\n",
    "    ax[0].set_xlabel(target_names[i]+' content',fontsize =16)\n",
    "    ax[0].set_ylabel('Normalised frequency',fontsize =12)\n",
    "    ax[0].tick_params(axis='both', labelsize=8)\n",
    "    \n",
    "    binsNT = np.linspace(np.min(NT[i]), np.max(NT[i]),10)\n",
    "    ax[1].hist([Ny_train, Ny_test], binsNT , label=['Train', 'Test'], density=True, color = ['blue','red'])\n",
    "    ax[1].legend(loc='upper center', fontsize =12)\n",
    "    ax[1].set_xlabel('Normalised '+target_names[i]+' content',fontsize =16)\n",
    "    ax[1].set_ylabel('Normalised frequency',fontsize =12)\n",
    "    ax[1].tick_params(axis='both', labelsize=8)\n",
    "\n",
    "    fig.suptitle('Train Test Distribution of Data', x = 0.5 ,y = .95, fontsize = 20)\n",
    "    \n",
    "\n",
    "ipywidgets.interact(best_split_plot, target = target_names)\n"
   ]
  },
  {
   "cell_type": "markdown",
   "id": "448d5aed",
   "metadata": {},
   "source": [
    "# Step 3: Best Model Parameters (window, n_components)"
   ]
  },
  {
   "cell_type": "markdown",
   "id": "dbe0bd20",
   "metadata": {},
   "source": [
    "## PLSR: obtaining best parameter (window, n_components, IQRP)"
   ]
  },
  {
   "cell_type": "code",
   "execution_count": 110,
   "id": "fa6dc69e",
   "metadata": {},
   "outputs": [],
   "source": [
    "# w1, n1, IQRP1 = best_param_PLSR (smth_spec.copy(), T[3], rand_t[3], 0.2, 5,30)\n",
    "# w1, n1, IQRP1 = best_param_PLSR (smth_spec.copy(), NT[3], rand_nt[3], 0.2, 5,30)"
   ]
  },
  {
   "cell_type": "markdown",
   "id": "f9191b0d",
   "metadata": {},
   "source": [
    "##  Multilinear: obtaining best parameters(window and IQRP)"
   ]
  },
  {
   "cell_type": "code",
   "execution_count": 134,
   "id": "e422ed8b",
   "metadata": {},
   "outputs": [],
   "source": [
    "#w1, IQRP1 = best_param_Mult (smth_spec.copy(), T[1], rand_t[1], 0.2, 5)\n",
    "# w1,  IQRP1 = best_param_Mult (smth_spec.copy(), NT[1], rand_nt[1], 0.2, 45)"
   ]
  },
  {
   "cell_type": "markdown",
   "id": "bb69483c",
   "metadata": {},
   "source": [
    "## RandomForest: obtaining best parameters(window and IQRP)"
   ]
  },
  {
   "cell_type": "code",
   "execution_count": 154,
   "id": "5fa53a61",
   "metadata": {},
   "outputs": [
    {
     "name": "stdout",
     "output_type": "stream",
     "text": [
      "{'n_estimators': [10, 20, 30, 40, 50], 'max_depth': [2, 4], 'max_features': ['sqrt', 'auto'], 'min_samples_split': [4, 6], 'min_samples_leaf': [1, 2, 4], 'bootstrap': ['True']}\n",
      "Fitting 16 folds for each of 100 candidates, totalling 1600 fits\n"
     ]
    },
    {
     "data": {
      "text/plain": [
       "RandomizedSearchCV(cv=RepeatedKFold(n_repeats=4, n_splits=4, random_state=10),\n",
       "                   error_score='raise', estimator=RandomForestRegressor(),\n",
       "                   n_iter=100, n_jobs=-1,\n",
       "                   param_distributions={'bootstrap': ['True'],\n",
       "                                        'max_depth': [2, 4],\n",
       "                                        'max_features': ['sqrt', 'auto'],\n",
       "                                        'min_samples_leaf': [1, 2, 4],\n",
       "                                        'min_samples_split': [4, 6],\n",
       "                                        'n_estimators': [10, 20, 30, 40, 50]},\n",
       "                   random_state=30,\n",
       "                   scoring=make_scorer(mean_squared_error, greater_is_better=False),\n",
       "                   verbose=1)"
      ]
     },
     "execution_count": 154,
     "metadata": {},
     "output_type": "execute_result"
    }
   ],
   "source": [
    "rf_reg = RandomForestRegressor()\n",
    "\n",
    "#to generate various random forests.\n",
    "n_estimators = [int(x) for x in np.linspace(start = 10, stop = 50, num = 5)]\n",
    "max_depth = [2,4]\n",
    "max_features = ['sqrt', 'auto']\n",
    "min_samples_split = [4,6]\n",
    "bootstrap = ['True']\n",
    "\n",
    "# Create the random grid\n",
    "random_grid = {'n_estimators': n_estimators, 'max_depth': max_depth, 'max_features':max_features,\\\n",
    "              'min_samples_split':min_samples_split, 'min_samples_leaf':min_samples_leaf,\\\n",
    "               'bootstrap':bootstrap}\n",
    "\n",
    "print(random_grid)\n",
    "\n",
    "scorer = make_scorer(mean_squared_error, greater_is_better=False)\n",
    "cv = RepeatedKFold(n_splits=4, n_repeats=4, random_state=10)\n",
    "rf_random = RandomizedSearchCV(estimator=rf_reg, param_distributions = random_grid, cv = cv, n_iter = 100,\\\n",
    "                            scoring=scorer, verbose=1, random_state = 30, error_score='raise', n_jobs=-1)\n",
    " \n",
    "red_spec = resample_spectra(spectra,10)\n",
    "X= 10*(red_spec.copy())\n",
    "y= T[0]\n",
    "\n",
    "X_train, X_test, y_train, y_test = train_test_split(X, y, test_size = tst_siz, random_state=rand_t[0])\n",
    "\n",
    "rf_random.fit(X_train, y_train)"
   ]
  },
  {
   "cell_type": "code",
   "execution_count": 155,
   "id": "17409661",
   "metadata": {},
   "outputs": [
    {
     "data": {
      "text/plain": [
       "1.6137614723416303"
      ]
     },
     "execution_count": 155,
     "metadata": {},
     "output_type": "execute_result"
    }
   ],
   "source": [
    "y_pred = rf_random.predict(X_test)\n",
    "iqrp_sand = iqrp(y_pred, y_test)\n",
    "iqrp_sand"
   ]
  },
  {
   "cell_type": "code",
   "execution_count": 89,
   "id": "d2967cb2",
   "metadata": {},
   "outputs": [
    {
     "name": "stdout",
     "output_type": "stream",
     "text": [
      "Fitting 16 folds for each of 100 candidates, totalling 1600 fits\n"
     ]
    },
    {
     "data": {
      "text/plain": [
       "RandomizedSearchCV(cv=RepeatedKFold(n_repeats=4, n_splits=4, random_state=10),\n",
       "                   error_score='raise', estimator=RandomForestRegressor(),\n",
       "                   n_iter=100, n_jobs=-1,\n",
       "                   param_distributions={'bootstrap': ['True'],\n",
       "                                        'max_depth': [2, 4],\n",
       "                                        'max_features': ['sqrt', 'auto'],\n",
       "                                        'min_samples_leaf': [1, 2, 4],\n",
       "                                        'min_samples_split': [4, 6],\n",
       "                                        'n_estimators': [10, 20, 30, 40, 50]},\n",
       "                   random_state=10,\n",
       "                   scoring=make_scorer(mean_squared_error, greater_is_better=False),\n",
       "                   verbose=1)"
      ]
     },
     "execution_count": 89,
     "metadata": {},
     "output_type": "execute_result"
    }
   ],
   "source": [
    "X_train, X_test, y_train, y_test = train_test_split(X, NT[0], test_size = tst_siz, random_state=rand_nt[0])\n",
    "\n",
    "rf_random.fit(X_train, y_train)"
   ]
  },
  {
   "cell_type": "code",
   "execution_count": 90,
   "id": "d24539b4",
   "metadata": {},
   "outputs": [
    {
     "data": {
      "text/plain": [
       "1.5407993064557126"
      ]
     },
     "execution_count": 90,
     "metadata": {},
     "output_type": "execute_result"
    }
   ],
   "source": [
    "y_pred = rf_random.predict(X_test)\n",
    "iqrp_sand = iqrp(y_pred, y_test)\n",
    "iqrp_sand"
   ]
  },
  {
   "cell_type": "markdown",
   "id": "86b037ab",
   "metadata": {},
   "source": [
    "### Support Vector Machine for Regression"
   ]
  },
  {
   "cell_type": "code",
   "execution_count": 152,
   "id": "772169d7",
   "metadata": {},
   "outputs": [
    {
     "name": "stdout",
     "output_type": "stream",
     "text": [
      "Fitting 16 folds for each of 100 candidates, totalling 1600 fits\n"
     ]
    },
    {
     "data": {
      "text/plain": [
       "RandomizedSearchCV(cv=RepeatedKFold(n_repeats=4, n_splits=4, random_state=None),\n",
       "                   error_score='raise', estimator=SVR(), n_iter=100, n_jobs=-1,\n",
       "                   param_distributions={'C': [1e-05, 5e-05, 0.0001, 0.0005,\n",
       "                                              0.001, 0.005, 0.01, 0.05, 0.1],\n",
       "                                        'degree': [2, 3, 4],\n",
       "                                        'gamma': [1, 0.1, 0.5, 0.05, 0.01,\n",
       "                                                  0.001, 0.005],\n",
       "                                        'kernel': ['poly', 'rbf', 'sigmoid']},\n",
       "                   random_state=32,\n",
       "                   scoring=make_scorer(mean_squared_error, greater_is_better=False),\n",
       "                   verbose=1)"
      ]
     },
     "execution_count": 152,
     "metadata": {},
     "output_type": "execute_result"
    }
   ],
   "source": [
    "sv_reg = SVR()\n",
    "random_grid = {'C': [0.00001, 0.00005, 0.0001, 0.0005,0.001, 0.005, 0.01, 0.05, 0.1], 'gamma': [1, 0.1, 0.5, 0.05, 0.01, 0.001, 0.005],\\\n",
    "             'kernel': [ 'poly', 'rbf', 'sigmoid'], 'degree':[2, 3, 4]}\n",
    "\n",
    "scorer = make_scorer(mean_squared_error, greater_is_better=False)\n",
    "cv = RepeatedKFold(n_splits=4, n_repeats=4)\n",
    "svr_random = RandomizedSearchCV(estimator=sv_reg, param_distributions = random_grid, cv = cv, n_iter = 100,\\\n",
    "                            scoring=scorer, verbose=1, random_state = 32, error_score='raise', n_jobs=-1)\n",
    "\n",
    "#svr_random.fit(X_train,y_train)\n",
    "\n",
    "red_spec = resample_spectra(spectra,25)\n",
    "X= red_spec.copy()\n",
    "y= T[0]\n",
    "\n",
    "X_train, X_test, y_train, y_test = train_test_split(X, y, test_size = tst_siz, random_state=rand_t[0])\n",
    "\n",
    "svr_random.fit(X_train, y_train)"
   ]
  },
  {
   "cell_type": "code",
   "execution_count": 153,
   "id": "81fcba44",
   "metadata": {},
   "outputs": [
    {
     "data": {
      "text/plain": [
       "1.4688770094225434"
      ]
     },
     "execution_count": 153,
     "metadata": {},
     "output_type": "execute_result"
    }
   ],
   "source": [
    "y_pred = svr_random.predict(X_test)\n",
    "iqrp_sand = iqrp(y_pred, y_test)\n",
    "iqrp_sand"
   ]
  },
  {
   "cell_type": "code",
   "execution_count": 182,
   "id": "b2419ba4",
   "metadata": {},
   "outputs": [
    {
     "name": "stdout",
     "output_type": "stream",
     "text": [
      "Fitting 16 folds for each of 100 candidates, totalling 1600 fits\n"
     ]
    },
    {
     "data": {
      "text/plain": [
       "RandomizedSearchCV(cv=RepeatedKFold(n_repeats=4, n_splits=4, random_state=None),\n",
       "                   error_score='raise', estimator=SVR(), n_iter=100, n_jobs=-1,\n",
       "                   param_distributions={'C': [1e-05, 5e-05, 0.0001, 0.0005,\n",
       "                                              0.001, 0.005, 0.01, 0.05, 0.1],\n",
       "                                        'degree': [2, 3, 4],\n",
       "                                        'gamma': [1, 0.1, 0.5, 0.05, 0.01,\n",
       "                                                  0.001, 0.005],\n",
       "                                        'kernel': ['poly', 'rbf', 'sigmoid']},\n",
       "                   random_state=32,\n",
       "                   scoring=make_scorer(mean_squared_error, greater_is_better=False),\n",
       "                   verbose=1)"
      ]
     },
     "execution_count": 182,
     "metadata": {},
     "output_type": "execute_result"
    }
   ],
   "source": [
    "X_train, X_test, y_train, y_test = train_test_split(X, NT[0], test_size = tst_siz, random_state=rand_nt[0])\n",
    "\n",
    "svr_random.fit(X_train, y_train)"
   ]
  },
  {
   "cell_type": "code",
   "execution_count": 183,
   "id": "57b831df",
   "metadata": {},
   "outputs": [
    {
     "data": {
      "text/plain": [
       "1.5534179516586588"
      ]
     },
     "execution_count": 183,
     "metadata": {},
     "output_type": "execute_result"
    }
   ],
   "source": [
    "y_pred = rf_random.predict(X_test)\n",
    "iqrp_sand = iqrp(y_pred, y_test)\n",
    "iqrp_sand"
   ]
  },
  {
   "cell_type": "markdown",
   "id": "7b79603f",
   "metadata": {},
   "source": [
    "## Gradient Boosting Regression Tree"
   ]
  },
  {
   "cell_type": "code",
   "execution_count": 177,
   "id": "ce88dc11",
   "metadata": {},
   "outputs": [
    {
     "name": "stdout",
     "output_type": "stream",
     "text": [
      "{'n_estimators': [5000], 'max_depth': [3, 4], 'min_samples_split': [3, 5, 6], 'learning_rate': [0.05], 'loss': ['squared_error'], 'subsample': [0.5], 'validation_fraction': [0.1], 'n_iter_no_change': [20, 25], 'max_features': ['log2', 'sqrt']}\n",
      "Fitting 16 folds for each of 24 candidates, totalling 384 fits\n"
     ]
    },
    {
     "name": "stderr",
     "output_type": "stream",
     "text": [
      "C:\\Users\\abhis\\anaconda3\\lib\\site-packages\\sklearn\\model_selection\\_search.py:292: UserWarning: The total space of parameters 24 is smaller than n_iter=100. Running 24 iterations. For exhaustive searches, use GridSearchCV.\n",
      "  warnings.warn(\n"
     ]
    },
    {
     "data": {
      "text/plain": [
       "RandomizedSearchCV(cv=RepeatedKFold(n_repeats=4, n_splits=4, random_state=10),\n",
       "                   error_score='raise', estimator=GradientBoostingRegressor(),\n",
       "                   n_iter=100, n_jobs=-1,\n",
       "                   param_distributions={'learning_rate': [0.05],\n",
       "                                        'loss': ['squared_error'],\n",
       "                                        'max_depth': [3, 4],\n",
       "                                        'max_features': ['log2', 'sqrt'],\n",
       "                                        'min_samples_split': [3, 5, 6],\n",
       "                                        'n_estimators': [5000],\n",
       "                                        'n_iter_no_change': [20, 25],\n",
       "                                        'subsample': [0.5],\n",
       "                                        'validation_fraction': [0.1]},\n",
       "                   random_state=42,\n",
       "                   scoring=make_scorer(mean_squared_error, greater_is_better=False),\n",
       "                   verbose=1)"
      ]
     },
     "execution_count": 177,
     "metadata": {},
     "output_type": "execute_result"
    }
   ],
   "source": [
    "gb_reg = GradientBoostingRegressor()\n",
    "\n",
    "n_estimators = [5000]\n",
    "max_depth = [3,4]\n",
    "min_samples_split = [3, 5, 6]\n",
    "learning_rate = [0.05]\n",
    "loss = [\"squared_error\"]\n",
    "subsample = [0.5]\n",
    "validation_fraction =[0.1]\n",
    "n_iter_no_change =[20, 25]\n",
    "max_features = ['log2','sqrt']\n",
    "    \n",
    "    \n",
    "# Create the random grid\n",
    "random_grid = {'n_estimators': n_estimators, 'max_depth': max_depth, 'min_samples_split': min_samples_split, \\\n",
    "               'learning_rate': learning_rate, 'loss': loss, 'subsample': subsample, 'validation_fraction': validation_fraction, \\\n",
    "               'n_iter_no_change': n_iter_no_change, 'max_features':max_features}\n",
    "    \n",
    "print(random_grid)\n",
    "\n",
    "scorer = make_scorer(mean_squared_error, greater_is_better=False)\n",
    "cv = RepeatedKFold(n_splits=4, n_repeats=4, random_state=10)\n",
    "gb_random = RandomizedSearchCV(estimator=gb_reg, param_distributions = random_grid, cv = cv, n_iter = 100,\\\n",
    "                            scoring=scorer, verbose=1, random_state = 42, error_score='raise', n_jobs=-1)\n",
    "\n",
    "\n",
    "red_spec = resample_spectra(spectra,25)\n",
    "X= red_spec.copy()\n",
    "y= T[0]\n",
    "\n",
    "X_train, X_test, y_train, y_test = train_test_split(X, y, test_size = tst_siz, random_state=rand_t[0])\n",
    "\n",
    "gb_random.fit(X_train, y_train)"
   ]
  },
  {
   "cell_type": "code",
   "execution_count": 178,
   "id": "bacc1e25",
   "metadata": {},
   "outputs": [
    {
     "data": {
      "text/plain": [
       "1.5859981443246949"
      ]
     },
     "execution_count": 178,
     "metadata": {},
     "output_type": "execute_result"
    }
   ],
   "source": [
    "y_pred = gb_random.predict(X_test)\n",
    "iqrp_sand = iqrp(y_pred, y_test)\n",
    "iqrp_sand"
   ]
  },
  {
   "cell_type": "code",
   "execution_count": 180,
   "id": "d108be57",
   "metadata": {},
   "outputs": [
    {
     "name": "stderr",
     "output_type": "stream",
     "text": [
      "C:\\Users\\abhis\\anaconda3\\lib\\site-packages\\sklearn\\model_selection\\_search.py:292: UserWarning: The total space of parameters 24 is smaller than n_iter=100. Running 24 iterations. For exhaustive searches, use GridSearchCV.\n",
      "  warnings.warn(\n"
     ]
    },
    {
     "name": "stdout",
     "output_type": "stream",
     "text": [
      "Fitting 16 folds for each of 24 candidates, totalling 384 fits\n"
     ]
    },
    {
     "data": {
      "text/plain": [
       "RandomizedSearchCV(cv=RepeatedKFold(n_repeats=4, n_splits=4, random_state=10),\n",
       "                   error_score='raise', estimator=GradientBoostingRegressor(),\n",
       "                   n_iter=100, n_jobs=-1,\n",
       "                   param_distributions={'learning_rate': [0.05],\n",
       "                                        'loss': ['squared_error'],\n",
       "                                        'max_depth': [3, 4],\n",
       "                                        'max_features': ['log2', 'sqrt'],\n",
       "                                        'min_samples_split': [3, 5, 6],\n",
       "                                        'n_estimators': [5000],\n",
       "                                        'n_iter_no_change': [20, 25],\n",
       "                                        'subsample': [0.5],\n",
       "                                        'validation_fraction': [0.1]},\n",
       "                   random_state=42,\n",
       "                   scoring=make_scorer(mean_squared_error, greater_is_better=False),\n",
       "                   verbose=1)"
      ]
     },
     "execution_count": 180,
     "metadata": {},
     "output_type": "execute_result"
    }
   ],
   "source": [
    "X_train, X_test, y_train, y_test = train_test_split(X, NT[0], test_size = tst_siz, random_state=rand_nt[0])\n",
    "\n",
    "gb_random.fit(X_train, y_train)"
   ]
  },
  {
   "cell_type": "code",
   "execution_count": 181,
   "id": "5ca456bc",
   "metadata": {},
   "outputs": [
    {
     "data": {
      "text/plain": [
       "1.5534179516586588"
      ]
     },
     "execution_count": 181,
     "metadata": {},
     "output_type": "execute_result"
    }
   ],
   "source": [
    "y_pred = rf_random.predict(X_test)\n",
    "iqrp_sand = iqrp(y_pred, y_test)\n",
    "iqrp_sand"
   ]
  },
  {
   "cell_type": "markdown",
   "id": "7a0bf4b6",
   "metadata": {},
   "source": [
    "## Visualizing Model Accuracy (PLSR)"
   ]
  },
  {
   "cell_type": "code",
   "execution_count": null,
   "id": "1520cab9",
   "metadata": {},
   "outputs": [],
   "source": [
    "spectra = udf.iloc[:, 7:2158].copy()\n",
    "w1, n1, IQRP1 = best_param_PLSR (spectra, y_sand, rand_sand, 0.2, 3,20)"
   ]
  },
  {
   "cell_type": "code",
   "execution_count": null,
   "id": "03575d2f",
   "metadata": {},
   "outputs": [],
   "source": [
    "spectra = udf.iloc[:, 7:2158].copy()\n",
    "w2, n2, IQRP2 = best_param_PLSR (spectra, y_silt, rand_silt, 0.2, 3,20)  "
   ]
  },
  {
   "cell_type": "code",
   "execution_count": null,
   "id": "322350b4",
   "metadata": {},
   "outputs": [],
   "source": [
    "spectra = udf.iloc[:, 7:2158].copy()\n",
    "w3, n3, IQRP3 = best_param_PLSR (spectra, y_clay, rand_clay, 0.2, 3,20)"
   ]
  },
  {
   "cell_type": "code",
   "execution_count": null,
   "id": "5cc7e1be",
   "metadata": {},
   "outputs": [],
   "source": [
    "spectra = udf.iloc[:, 7:2158].copy()\n",
    "w4, n4, IQRP4 = best_param_PLSR (spectra, y_toc, rand_toc, 0.2, 3, 20)"
   ]
  },
  {
   "cell_type": "markdown",
   "id": "32115dae",
   "metadata": {},
   "source": [
    "# Step 4: Training the Model\n",
    "\n",
    "        - Create a linear regr object\n",
    "        - Apply fit function (using regr object) on training data\n",
    "        - Check the weights/parameters generated by fit function "
   ]
  },
  {
   "cell_type": "code",
   "execution_count": null,
   "id": "871c5cf3",
   "metadata": {},
   "outputs": [],
   "source": []
  },
  {
   "cell_type": "markdown",
   "id": "e2d8567e",
   "metadata": {},
   "source": [
    "# Step 5: Prediction on Test Data "
   ]
  },
  {
   "cell_type": "markdown",
   "id": "75ae984f",
   "metadata": {},
   "source": [
    "# Step 6: Model Accuracy and Plots"
   ]
  },
  {
   "cell_type": "code",
   "execution_count": null,
   "id": "fbf4c57d",
   "metadata": {},
   "outputs": [],
   "source": []
  },
  {
   "cell_type": "code",
   "execution_count": null,
   "id": "d828c633",
   "metadata": {},
   "outputs": [],
   "source": []
  }
 ],
 "metadata": {
  "kernelspec": {
   "display_name": "Python 3 (ipykernel)",
   "language": "python",
   "name": "python3"
  },
  "language_info": {
   "codemirror_mode": {
    "name": "ipython",
    "version": 3
   },
   "file_extension": ".py",
   "mimetype": "text/x-python",
   "name": "python",
   "nbconvert_exporter": "python",
   "pygments_lexer": "ipython3",
   "version": "3.10.2"
  }
 },
 "nbformat": 4,
 "nbformat_minor": 5
}
