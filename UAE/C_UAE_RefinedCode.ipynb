{
 "cells": [
  {
   "cell_type": "code",
   "execution_count": 1,
   "id": "c173cf42",
   "metadata": {},
   "outputs": [
    {
     "name": "stdout",
     "output_type": "stream",
     "text": [
      "Requirement already satisfied: openpyxl in c:\\users\\abhis\\anaconda3\\lib\\site-packages (3.0.10)\n",
      "Requirement already satisfied: et_xmlfile in c:\\users\\abhis\\anaconda3\\lib\\site-packages (from openpyxl) (1.1.0)\n",
      "Requirement already satisfied: imbalanced-learn in c:\\users\\abhis\\anaconda3\\lib\\site-packages (0.10.1)\n",
      "Requirement already satisfied: numpy>=1.17.3 in c:\\users\\abhis\\anaconda3\\lib\\site-packages (from imbalanced-learn) (1.24.4)\n",
      "Requirement already satisfied: joblib>=1.1.1 in c:\\users\\abhis\\anaconda3\\lib\\site-packages (from imbalanced-learn) (1.2.0)\n",
      "Requirement already satisfied: scikit-learn>=1.0.2 in c:\\users\\abhis\\anaconda3\\lib\\site-packages (from imbalanced-learn) (1.0.2)\n",
      "Requirement already satisfied: scipy>=1.3.2 in c:\\users\\abhis\\anaconda3\\lib\\site-packages (from imbalanced-learn) (1.9.1)\n",
      "Requirement already satisfied: threadpoolctl>=2.0.0 in c:\\users\\abhis\\anaconda3\\lib\\site-packages (from imbalanced-learn) (2.2.0)\n",
      "Requirement already satisfied: ipympl in c:\\users\\abhis\\anaconda3\\lib\\site-packages (0.9.3)\n",
      "Requirement already satisfied: matplotlib<4,>=3.4.0 in c:\\users\\abhis\\anaconda3\\lib\\site-packages (from ipympl) (3.5.2)\n",
      "Requirement already satisfied: ipython-genutils in c:\\users\\abhis\\anaconda3\\lib\\site-packages (from ipympl) (0.2.0)\n",
      "Requirement already satisfied: ipywidgets<9,>=7.6.0 in c:\\users\\abhis\\anaconda3\\lib\\site-packages (from ipympl) (7.6.5)\n",
      "Requirement already satisfied: numpy in c:\\users\\abhis\\anaconda3\\lib\\site-packages (from ipympl) (1.24.4)\n",
      "Requirement already satisfied: traitlets<6 in c:\\users\\abhis\\anaconda3\\lib\\site-packages (from ipympl) (5.1.1)\n",
      "Requirement already satisfied: ipython<9 in c:\\users\\abhis\\anaconda3\\lib\\site-packages (from ipympl) (7.31.1)\n",
      "Requirement already satisfied: pillow in c:\\users\\abhis\\anaconda3\\lib\\site-packages (from ipympl) (9.2.0)\n",
      "Requirement already satisfied: decorator in c:\\users\\abhis\\anaconda3\\lib\\site-packages (from ipython<9->ipympl) (5.1.1)\n",
      "Requirement already satisfied: pygments in c:\\users\\abhis\\anaconda3\\lib\\site-packages (from ipython<9->ipympl) (2.11.2)\n",
      "Requirement already satisfied: jedi>=0.16 in c:\\users\\abhis\\anaconda3\\lib\\site-packages (from ipython<9->ipympl) (0.18.1)\n",
      "Requirement already satisfied: backcall in c:\\users\\abhis\\anaconda3\\lib\\site-packages (from ipython<9->ipympl) (0.2.0)\n",
      "Requirement already satisfied: matplotlib-inline in c:\\users\\abhis\\anaconda3\\lib\\site-packages (from ipython<9->ipympl) (0.1.6)\n",
      "Requirement already satisfied: colorama in c:\\users\\abhis\\anaconda3\\lib\\site-packages (from ipython<9->ipympl) (0.4.5)\n",
      "Requirement already satisfied: setuptools>=18.5 in c:\\users\\abhis\\anaconda3\\lib\\site-packages (from ipython<9->ipympl) (63.4.1)\n",
      "Requirement already satisfied: prompt-toolkit!=3.0.0,!=3.0.1,<3.1.0,>=2.0.0 in c:\\users\\abhis\\anaconda3\\lib\\site-packages (from ipython<9->ipympl) (3.0.20)\n",
      "Requirement already satisfied: pickleshare in c:\\users\\abhis\\anaconda3\\lib\\site-packages (from ipython<9->ipympl) (0.7.5)\n",
      "Requirement already satisfied: ipykernel>=4.5.1 in c:\\users\\abhis\\anaconda3\\lib\\site-packages (from ipywidgets<9,>=7.6.0->ipympl) (6.15.2)\n",
      "Requirement already satisfied: jupyterlab-widgets>=1.0.0 in c:\\users\\abhis\\anaconda3\\lib\\site-packages (from ipywidgets<9,>=7.6.0->ipympl) (1.0.0)\n",
      "Requirement already satisfied: widgetsnbextension~=3.5.0 in c:\\users\\abhis\\anaconda3\\lib\\site-packages (from ipywidgets<9,>=7.6.0->ipympl) (3.5.2)\n",
      "Requirement already satisfied: nbformat>=4.2.0 in c:\\users\\abhis\\anaconda3\\lib\\site-packages (from ipywidgets<9,>=7.6.0->ipympl) (5.5.0)\n",
      "Requirement already satisfied: python-dateutil>=2.7 in c:\\users\\abhis\\anaconda3\\lib\\site-packages (from matplotlib<4,>=3.4.0->ipympl) (2.8.2)\n",
      "Requirement already satisfied: packaging>=20.0 in c:\\users\\abhis\\anaconda3\\lib\\site-packages (from matplotlib<4,>=3.4.0->ipympl) (21.3)\n",
      "Requirement already satisfied: cycler>=0.10 in c:\\users\\abhis\\anaconda3\\lib\\site-packages (from matplotlib<4,>=3.4.0->ipympl) (0.11.0)\n",
      "Requirement already satisfied: pyparsing>=2.2.1 in c:\\users\\abhis\\anaconda3\\lib\\site-packages (from matplotlib<4,>=3.4.0->ipympl) (3.0.9)\n",
      "Requirement already satisfied: fonttools>=4.22.0 in c:\\users\\abhis\\anaconda3\\lib\\site-packages (from matplotlib<4,>=3.4.0->ipympl) (4.25.0)\n",
      "Requirement already satisfied: kiwisolver>=1.0.1 in c:\\users\\abhis\\anaconda3\\lib\\site-packages (from matplotlib<4,>=3.4.0->ipympl) (1.4.2)\n",
      "Requirement already satisfied: pyzmq>=17 in c:\\users\\abhis\\anaconda3\\lib\\site-packages (from ipykernel>=4.5.1->ipywidgets<9,>=7.6.0->ipympl) (23.2.0)\n",
      "Requirement already satisfied: tornado>=6.1 in c:\\users\\abhis\\anaconda3\\lib\\site-packages (from ipykernel>=4.5.1->ipywidgets<9,>=7.6.0->ipympl) (6.1)\n",
      "Requirement already satisfied: jupyter-client>=6.1.12 in c:\\users\\abhis\\anaconda3\\lib\\site-packages (from ipykernel>=4.5.1->ipywidgets<9,>=7.6.0->ipympl) (7.3.4)\n",
      "Requirement already satisfied: psutil in c:\\users\\abhis\\anaconda3\\lib\\site-packages (from ipykernel>=4.5.1->ipywidgets<9,>=7.6.0->ipympl) (5.9.0)\n",
      "Requirement already satisfied: debugpy>=1.0 in c:\\users\\abhis\\anaconda3\\lib\\site-packages (from ipykernel>=4.5.1->ipywidgets<9,>=7.6.0->ipympl) (1.5.1)\n",
      "Requirement already satisfied: nest-asyncio in c:\\users\\abhis\\anaconda3\\lib\\site-packages (from ipykernel>=4.5.1->ipywidgets<9,>=7.6.0->ipympl) (1.5.5)\n",
      "Requirement already satisfied: parso<0.9.0,>=0.8.0 in c:\\users\\abhis\\anaconda3\\lib\\site-packages (from jedi>=0.16->ipython<9->ipympl) (0.8.3)\n",
      "Requirement already satisfied: jsonschema>=2.6 in c:\\users\\abhis\\anaconda3\\lib\\site-packages (from nbformat>=4.2.0->ipywidgets<9,>=7.6.0->ipympl) (4.16.0)\n",
      "Requirement already satisfied: fastjsonschema in c:\\users\\abhis\\anaconda3\\lib\\site-packages (from nbformat>=4.2.0->ipywidgets<9,>=7.6.0->ipympl) (2.16.2)\n",
      "Requirement already satisfied: jupyter_core in c:\\users\\abhis\\anaconda3\\lib\\site-packages (from nbformat>=4.2.0->ipywidgets<9,>=7.6.0->ipympl) (4.11.1)\n",
      "Requirement already satisfied: wcwidth in c:\\users\\abhis\\anaconda3\\lib\\site-packages (from prompt-toolkit!=3.0.0,!=3.0.1,<3.1.0,>=2.0.0->ipython<9->ipympl) (0.2.5)\n",
      "Requirement already satisfied: six>=1.5 in c:\\users\\abhis\\anaconda3\\lib\\site-packages (from python-dateutil>=2.7->matplotlib<4,>=3.4.0->ipympl) (1.16.0)\n",
      "Requirement already satisfied: notebook>=4.4.1 in c:\\users\\abhis\\anaconda3\\lib\\site-packages (from widgetsnbextension~=3.5.0->ipywidgets<9,>=7.6.0->ipympl) (6.4.12)\n",
      "Requirement already satisfied: attrs>=17.4.0 in c:\\users\\abhis\\anaconda3\\lib\\site-packages (from jsonschema>=2.6->nbformat>=4.2.0->ipywidgets<9,>=7.6.0->ipympl) (21.4.0)\n",
      "Requirement already satisfied: pyrsistent!=0.17.0,!=0.17.1,!=0.17.2,>=0.14.0 in c:\\users\\abhis\\anaconda3\\lib\\site-packages (from jsonschema>=2.6->nbformat>=4.2.0->ipywidgets<9,>=7.6.0->ipympl) (0.18.0)\n",
      "Requirement already satisfied: entrypoints in c:\\users\\abhis\\anaconda3\\lib\\site-packages (from jupyter-client>=6.1.12->ipykernel>=4.5.1->ipywidgets<9,>=7.6.0->ipympl) (0.4)\n",
      "Requirement already satisfied: pywin32>=1.0 in c:\\users\\abhis\\anaconda3\\lib\\site-packages (from jupyter_core->nbformat>=4.2.0->ipywidgets<9,>=7.6.0->ipympl) (302)\n",
      "Requirement already satisfied: Send2Trash>=1.8.0 in c:\\users\\abhis\\anaconda3\\lib\\site-packages (from notebook>=4.4.1->widgetsnbextension~=3.5.0->ipywidgets<9,>=7.6.0->ipympl) (1.8.0)\n",
      "Requirement already satisfied: argon2-cffi in c:\\users\\abhis\\anaconda3\\lib\\site-packages (from notebook>=4.4.1->widgetsnbextension~=3.5.0->ipywidgets<9,>=7.6.0->ipympl) (21.3.0)\n",
      "Requirement already satisfied: terminado>=0.8.3 in c:\\users\\abhis\\anaconda3\\lib\\site-packages (from notebook>=4.4.1->widgetsnbextension~=3.5.0->ipywidgets<9,>=7.6.0->ipympl) (0.13.1)\n",
      "Requirement already satisfied: prometheus-client in c:\\users\\abhis\\anaconda3\\lib\\site-packages (from notebook>=4.4.1->widgetsnbextension~=3.5.0->ipywidgets<9,>=7.6.0->ipympl) (0.14.1)\n",
      "Requirement already satisfied: nbconvert>=5 in c:\\users\\abhis\\anaconda3\\lib\\site-packages (from notebook>=4.4.1->widgetsnbextension~=3.5.0->ipywidgets<9,>=7.6.0->ipympl) (6.4.4)\n",
      "Requirement already satisfied: jinja2 in c:\\users\\abhis\\anaconda3\\lib\\site-packages (from notebook>=4.4.1->widgetsnbextension~=3.5.0->ipywidgets<9,>=7.6.0->ipympl) (2.11.3)\n",
      "Requirement already satisfied: mistune<2,>=0.8.1 in c:\\users\\abhis\\anaconda3\\lib\\site-packages (from nbconvert>=5->notebook>=4.4.1->widgetsnbextension~=3.5.0->ipywidgets<9,>=7.6.0->ipympl) (0.8.4)\n",
      "Requirement already satisfied: pandocfilters>=1.4.1 in c:\\users\\abhis\\anaconda3\\lib\\site-packages (from nbconvert>=5->notebook>=4.4.1->widgetsnbextension~=3.5.0->ipywidgets<9,>=7.6.0->ipympl) (1.5.0)\n",
      "Requirement already satisfied: testpath in c:\\users\\abhis\\anaconda3\\lib\\site-packages (from nbconvert>=5->notebook>=4.4.1->widgetsnbextension~=3.5.0->ipywidgets<9,>=7.6.0->ipympl) (0.6.0)\n",
      "Requirement already satisfied: bleach in c:\\users\\abhis\\anaconda3\\lib\\site-packages (from nbconvert>=5->notebook>=4.4.1->widgetsnbextension~=3.5.0->ipywidgets<9,>=7.6.0->ipympl) (4.1.0)\n",
      "Requirement already satisfied: nbclient<0.6.0,>=0.5.0 in c:\\users\\abhis\\anaconda3\\lib\\site-packages (from nbconvert>=5->notebook>=4.4.1->widgetsnbextension~=3.5.0->ipywidgets<9,>=7.6.0->ipympl) (0.5.13)\n",
      "Requirement already satisfied: defusedxml in c:\\users\\abhis\\anaconda3\\lib\\site-packages (from nbconvert>=5->notebook>=4.4.1->widgetsnbextension~=3.5.0->ipywidgets<9,>=7.6.0->ipympl) (0.7.1)\n",
      "Requirement already satisfied: beautifulsoup4 in c:\\users\\abhis\\anaconda3\\lib\\site-packages (from nbconvert>=5->notebook>=4.4.1->widgetsnbextension~=3.5.0->ipywidgets<9,>=7.6.0->ipympl) (4.11.1)\n",
      "Requirement already satisfied: jupyterlab-pygments in c:\\users\\abhis\\anaconda3\\lib\\site-packages (from nbconvert>=5->notebook>=4.4.1->widgetsnbextension~=3.5.0->ipywidgets<9,>=7.6.0->ipympl) (0.1.2)\n",
      "Requirement already satisfied: MarkupSafe>=0.23 in c:\\users\\abhis\\anaconda3\\lib\\site-packages (from jinja2->notebook>=4.4.1->widgetsnbextension~=3.5.0->ipywidgets<9,>=7.6.0->ipympl) (2.0.1)\n",
      "Requirement already satisfied: pywinpty>=1.1.0 in c:\\users\\abhis\\anaconda3\\lib\\site-packages (from terminado>=0.8.3->notebook>=4.4.1->widgetsnbextension~=3.5.0->ipywidgets<9,>=7.6.0->ipympl) (2.0.2)\n",
      "Requirement already satisfied: argon2-cffi-bindings in c:\\users\\abhis\\anaconda3\\lib\\site-packages (from argon2-cffi->notebook>=4.4.1->widgetsnbextension~=3.5.0->ipywidgets<9,>=7.6.0->ipympl) (21.2.0)\n",
      "Requirement already satisfied: cffi>=1.0.1 in c:\\users\\abhis\\anaconda3\\lib\\site-packages (from argon2-cffi-bindings->argon2-cffi->notebook>=4.4.1->widgetsnbextension~=3.5.0->ipywidgets<9,>=7.6.0->ipympl) (1.15.1)\n",
      "Requirement already satisfied: soupsieve>1.2 in c:\\users\\abhis\\anaconda3\\lib\\site-packages (from beautifulsoup4->nbconvert>=5->notebook>=4.4.1->widgetsnbextension~=3.5.0->ipywidgets<9,>=7.6.0->ipympl) (2.3.1)\n",
      "Requirement already satisfied: webencodings in c:\\users\\abhis\\anaconda3\\lib\\site-packages (from bleach->nbconvert>=5->notebook>=4.4.1->widgetsnbextension~=3.5.0->ipywidgets<9,>=7.6.0->ipympl) (0.5.1)\n",
      "Requirement already satisfied: pycparser in c:\\users\\abhis\\anaconda3\\lib\\site-packages (from cffi>=1.0.1->argon2-cffi-bindings->argon2-cffi->notebook>=4.4.1->widgetsnbextension~=3.5.0->ipywidgets<9,>=7.6.0->ipympl) (2.21)\n"
     ]
    },
    {
     "name": "stdout",
     "output_type": "stream",
     "text": [
      "Requirement already satisfied: import-ipynb in c:\\users\\abhis\\anaconda3\\lib\\site-packages (0.1.4)\n",
      "Requirement already satisfied: IPython in c:\\users\\abhis\\anaconda3\\lib\\site-packages (from import-ipynb) (7.31.1)\n",
      "Requirement already satisfied: nbformat in c:\\users\\abhis\\anaconda3\\lib\\site-packages (from import-ipynb) (5.5.0)\n",
      "Requirement already satisfied: pickleshare in c:\\users\\abhis\\anaconda3\\lib\\site-packages (from IPython->import-ipynb) (0.7.5)\n",
      "Requirement already satisfied: setuptools>=18.5 in c:\\users\\abhis\\anaconda3\\lib\\site-packages (from IPython->import-ipynb) (63.4.1)\n",
      "Requirement already satisfied: matplotlib-inline in c:\\users\\abhis\\anaconda3\\lib\\site-packages (from IPython->import-ipynb) (0.1.6)\n",
      "Requirement already satisfied: prompt-toolkit!=3.0.0,!=3.0.1,<3.1.0,>=2.0.0 in c:\\users\\abhis\\anaconda3\\lib\\site-packages (from IPython->import-ipynb) (3.0.20)\n",
      "Requirement already satisfied: colorama in c:\\users\\abhis\\anaconda3\\lib\\site-packages (from IPython->import-ipynb) (0.4.5)\n",
      "Requirement already satisfied: traitlets>=4.2 in c:\\users\\abhis\\anaconda3\\lib\\site-packages (from IPython->import-ipynb) (5.1.1)\n",
      "Requirement already satisfied: decorator in c:\\users\\abhis\\anaconda3\\lib\\site-packages (from IPython->import-ipynb) (5.1.1)\n",
      "Requirement already satisfied: jedi>=0.16 in c:\\users\\abhis\\anaconda3\\lib\\site-packages (from IPython->import-ipynb) (0.18.1)\n",
      "Requirement already satisfied: backcall in c:\\users\\abhis\\anaconda3\\lib\\site-packages (from IPython->import-ipynb) (0.2.0)\n",
      "Requirement already satisfied: pygments in c:\\users\\abhis\\anaconda3\\lib\\site-packages (from IPython->import-ipynb) (2.11.2)\n",
      "Requirement already satisfied: fastjsonschema in c:\\users\\abhis\\anaconda3\\lib\\site-packages (from nbformat->import-ipynb) (2.16.2)\n",
      "Requirement already satisfied: jsonschema>=2.6 in c:\\users\\abhis\\anaconda3\\lib\\site-packages (from nbformat->import-ipynb) (4.16.0)\n",
      "Requirement already satisfied: jupyter_core in c:\\users\\abhis\\anaconda3\\lib\\site-packages (from nbformat->import-ipynb) (4.11.1)\n",
      "Requirement already satisfied: parso<0.9.0,>=0.8.0 in c:\\users\\abhis\\anaconda3\\lib\\site-packages (from jedi>=0.16->IPython->import-ipynb) (0.8.3)\n",
      "Requirement already satisfied: attrs>=17.4.0 in c:\\users\\abhis\\anaconda3\\lib\\site-packages (from jsonschema>=2.6->nbformat->import-ipynb) (21.4.0)\n",
      "Requirement already satisfied: pyrsistent!=0.17.0,!=0.17.1,!=0.17.2,>=0.14.0 in c:\\users\\abhis\\anaconda3\\lib\\site-packages (from jsonschema>=2.6->nbformat->import-ipynb) (0.18.0)\n",
      "Requirement already satisfied: wcwidth in c:\\users\\abhis\\anaconda3\\lib\\site-packages (from prompt-toolkit!=3.0.0,!=3.0.1,<3.1.0,>=2.0.0->IPython->import-ipynb) (0.2.5)\n",
      "Requirement already satisfied: pywin32>=1.0 in c:\\users\\abhis\\anaconda3\\lib\\site-packages (from jupyter_core->nbformat->import-ipynb) (302)\n",
      "Requirement already satisfied: shapely in c:\\users\\abhis\\anaconda3\\lib\\site-packages (2.0.1)\n",
      "Requirement already satisfied: numpy>=1.14 in c:\\users\\abhis\\anaconda3\\lib\\site-packages (from shapely) (1.24.4)\n",
      "Requirement already satisfied: SciencePlots in c:\\users\\abhis\\anaconda3\\lib\\site-packages (2.1.0)\n",
      "Requirement already satisfied: matplotlib in c:\\users\\abhis\\anaconda3\\lib\\site-packages (from SciencePlots) (3.5.2)\n",
      "Requirement already satisfied: python-dateutil>=2.7 in c:\\users\\abhis\\anaconda3\\lib\\site-packages (from matplotlib->SciencePlots) (2.8.2)\n",
      "Requirement already satisfied: packaging>=20.0 in c:\\users\\abhis\\anaconda3\\lib\\site-packages (from matplotlib->SciencePlots) (21.3)\n",
      "Requirement already satisfied: numpy>=1.17 in c:\\users\\abhis\\anaconda3\\lib\\site-packages (from matplotlib->SciencePlots) (1.24.4)\n",
      "Requirement already satisfied: fonttools>=4.22.0 in c:\\users\\abhis\\anaconda3\\lib\\site-packages (from matplotlib->SciencePlots) (4.25.0)\n",
      "Requirement already satisfied: cycler>=0.10 in c:\\users\\abhis\\anaconda3\\lib\\site-packages (from matplotlib->SciencePlots) (0.11.0)\n",
      "Requirement already satisfied: pyparsing>=2.2.1 in c:\\users\\abhis\\anaconda3\\lib\\site-packages (from matplotlib->SciencePlots) (3.0.9)\n",
      "Requirement already satisfied: pillow>=6.2.0 in c:\\users\\abhis\\anaconda3\\lib\\site-packages (from matplotlib->SciencePlots) (9.2.0)\n",
      "Requirement already satisfied: kiwisolver>=1.0.1 in c:\\users\\abhis\\anaconda3\\lib\\site-packages (from matplotlib->SciencePlots) (1.4.2)\n",
      "Requirement already satisfied: six>=1.5 in c:\\users\\abhis\\anaconda3\\lib\\site-packages (from python-dateutil>=2.7->matplotlib->SciencePlots) (1.16.0)\n",
      "Requirement already satisfied: seaborn in c:\\users\\abhis\\anaconda3\\lib\\site-packages (0.11.2)\n",
      "Requirement already satisfied: scipy>=1.0 in c:\\users\\abhis\\anaconda3\\lib\\site-packages (from seaborn) (1.9.1)\n",
      "Requirement already satisfied: pandas>=0.23 in c:\\users\\abhis\\anaconda3\\lib\\site-packages (from seaborn) (1.4.4)\n",
      "Requirement already satisfied: matplotlib>=2.2 in c:\\users\\abhis\\anaconda3\\lib\\site-packages (from seaborn) (3.5.2)\n",
      "Requirement already satisfied: numpy>=1.15 in c:\\users\\abhis\\anaconda3\\lib\\site-packages (from seaborn) (1.24.4)\n",
      "Requirement already satisfied: pyparsing>=2.2.1 in c:\\users\\abhis\\anaconda3\\lib\\site-packages (from matplotlib>=2.2->seaborn) (3.0.9)\n",
      "Requirement already satisfied: kiwisolver>=1.0.1 in c:\\users\\abhis\\anaconda3\\lib\\site-packages (from matplotlib>=2.2->seaborn) (1.4.2)\n",
      "Requirement already satisfied: fonttools>=4.22.0 in c:\\users\\abhis\\anaconda3\\lib\\site-packages (from matplotlib>=2.2->seaborn) (4.25.0)\n",
      "Requirement already satisfied: pillow>=6.2.0 in c:\\users\\abhis\\anaconda3\\lib\\site-packages (from matplotlib>=2.2->seaborn) (9.2.0)\n",
      "Requirement already satisfied: packaging>=20.0 in c:\\users\\abhis\\anaconda3\\lib\\site-packages (from matplotlib>=2.2->seaborn) (21.3)\n",
      "Requirement already satisfied: python-dateutil>=2.7 in c:\\users\\abhis\\anaconda3\\lib\\site-packages (from matplotlib>=2.2->seaborn) (2.8.2)\n",
      "Requirement already satisfied: cycler>=0.10 in c:\\users\\abhis\\anaconda3\\lib\\site-packages (from matplotlib>=2.2->seaborn) (0.11.0)\n",
      "Requirement already satisfied: pytz>=2020.1 in c:\\users\\abhis\\anaconda3\\lib\\site-packages (from pandas>=0.23->seaborn) (2022.1)\n",
      "Requirement already satisfied: six>=1.5 in c:\\users\\abhis\\anaconda3\\lib\\site-packages (from python-dateutil>=2.7->matplotlib>=2.2->seaborn) (1.16.0)\n",
      "Requirement already satisfied: tqdm in c:\\users\\abhis\\anaconda3\\lib\\site-packages (4.64.1)\n",
      "Requirement already satisfied: colorama in c:\\users\\abhis\\anaconda3\\lib\\site-packages (from tqdm) (0.4.5)\n",
      "Requirement already satisfied: ipywidgets in c:\\users\\abhis\\anaconda3\\lib\\site-packages (7.6.5)\n",
      "Requirement already satisfied: widgetsnbextension~=3.5.0 in c:\\users\\abhis\\anaconda3\\lib\\site-packages (from ipywidgets) (3.5.2)\n",
      "Requirement already satisfied: jupyterlab-widgets>=1.0.0 in c:\\users\\abhis\\anaconda3\\lib\\site-packages (from ipywidgets) (1.0.0)\n",
      "Requirement already satisfied: nbformat>=4.2.0 in c:\\users\\abhis\\anaconda3\\lib\\site-packages (from ipywidgets) (5.5.0)\n",
      "Requirement already satisfied: ipython>=4.0.0 in c:\\users\\abhis\\anaconda3\\lib\\site-packages (from ipywidgets) (7.31.1)\n",
      "Requirement already satisfied: ipykernel>=4.5.1 in c:\\users\\abhis\\anaconda3\\lib\\site-packages (from ipywidgets) (6.15.2)\n",
      "Requirement already satisfied: traitlets>=4.3.1 in c:\\users\\abhis\\anaconda3\\lib\\site-packages (from ipywidgets) (5.1.1)\n",
      "Requirement already satisfied: ipython-genutils~=0.2.0 in c:\\users\\abhis\\anaconda3\\lib\\site-packages (from ipywidgets) (0.2.0)\n",
      "Requirement already satisfied: jupyter-client>=6.1.12 in c:\\users\\abhis\\anaconda3\\lib\\site-packages (from ipykernel>=4.5.1->ipywidgets) (7.3.4)\n",
      "Requirement already satisfied: packaging in c:\\users\\abhis\\anaconda3\\lib\\site-packages (from ipykernel>=4.5.1->ipywidgets) (21.3)\n",
      "Requirement already satisfied: pyzmq>=17 in c:\\users\\abhis\\anaconda3\\lib\\site-packages (from ipykernel>=4.5.1->ipywidgets) (23.2.0)\n",
      "Requirement already satisfied: matplotlib-inline>=0.1 in c:\\users\\abhis\\anaconda3\\lib\\site-packages (from ipykernel>=4.5.1->ipywidgets) (0.1.6)\n",
      "Requirement already satisfied: tornado>=6.1 in c:\\users\\abhis\\anaconda3\\lib\\site-packages (from ipykernel>=4.5.1->ipywidgets) (6.1)\n",
      "Requirement already satisfied: psutil in c:\\users\\abhis\\anaconda3\\lib\\site-packages (from ipykernel>=4.5.1->ipywidgets) (5.9.0)\n",
      "Requirement already satisfied: debugpy>=1.0 in c:\\users\\abhis\\anaconda3\\lib\\site-packages (from ipykernel>=4.5.1->ipywidgets) (1.5.1)\n",
      "Requirement already satisfied: nest-asyncio in c:\\users\\abhis\\anaconda3\\lib\\site-packages (from ipykernel>=4.5.1->ipywidgets) (1.5.5)\n",
      "Requirement already satisfied: setuptools>=18.5 in c:\\users\\abhis\\anaconda3\\lib\\site-packages (from ipython>=4.0.0->ipywidgets) (63.4.1)\n",
      "Requirement already satisfied: jedi>=0.16 in c:\\users\\abhis\\anaconda3\\lib\\site-packages (from ipython>=4.0.0->ipywidgets) (0.18.1)\n",
      "Requirement already satisfied: pickleshare in c:\\users\\abhis\\anaconda3\\lib\\site-packages (from ipython>=4.0.0->ipywidgets) (0.7.5)\n",
      "Requirement already satisfied: pygments in c:\\users\\abhis\\anaconda3\\lib\\site-packages (from ipython>=4.0.0->ipywidgets) (2.11.2)\n",
      "Requirement already satisfied: decorator in c:\\users\\abhis\\anaconda3\\lib\\site-packages (from ipython>=4.0.0->ipywidgets) (5.1.1)\n",
      "Requirement already satisfied: backcall in c:\\users\\abhis\\anaconda3\\lib\\site-packages (from ipython>=4.0.0->ipywidgets) (0.2.0)\n",
      "Requirement already satisfied: prompt-toolkit!=3.0.0,!=3.0.1,<3.1.0,>=2.0.0 in c:\\users\\abhis\\anaconda3\\lib\\site-packages (from ipython>=4.0.0->ipywidgets) (3.0.20)\n",
      "Requirement already satisfied: colorama in c:\\users\\abhis\\anaconda3\\lib\\site-packages (from ipython>=4.0.0->ipywidgets) (0.4.5)\n",
      "Requirement already satisfied: jsonschema>=2.6 in c:\\users\\abhis\\anaconda3\\lib\\site-packages (from nbformat>=4.2.0->ipywidgets) (4.16.0)\n",
      "Requirement already satisfied: fastjsonschema in c:\\users\\abhis\\anaconda3\\lib\\site-packages (from nbformat>=4.2.0->ipywidgets) (2.16.2)\n",
      "Requirement already satisfied: jupyter_core in c:\\users\\abhis\\anaconda3\\lib\\site-packages (from nbformat>=4.2.0->ipywidgets) (4.11.1)\n",
      "Requirement already satisfied: notebook>=4.4.1 in c:\\users\\abhis\\anaconda3\\lib\\site-packages (from widgetsnbextension~=3.5.0->ipywidgets) (6.4.12)\n",
      "Requirement already satisfied: parso<0.9.0,>=0.8.0 in c:\\users\\abhis\\anaconda3\\lib\\site-packages (from jedi>=0.16->ipython>=4.0.0->ipywidgets) (0.8.3)\n",
      "Requirement already satisfied: pyrsistent!=0.17.0,!=0.17.1,!=0.17.2,>=0.14.0 in c:\\users\\abhis\\anaconda3\\lib\\site-packages (from jsonschema>=2.6->nbformat>=4.2.0->ipywidgets) (0.18.0)\n",
      "Requirement already satisfied: attrs>=17.4.0 in c:\\users\\abhis\\anaconda3\\lib\\site-packages (from jsonschema>=2.6->nbformat>=4.2.0->ipywidgets) (21.4.0)\n",
      "Requirement already satisfied: entrypoints in c:\\users\\abhis\\anaconda3\\lib\\site-packages (from jupyter-client>=6.1.12->ipykernel>=4.5.1->ipywidgets) (0.4)\n",
      "Requirement already satisfied: python-dateutil>=2.8.2 in c:\\users\\abhis\\anaconda3\\lib\\site-packages (from jupyter-client>=6.1.12->ipykernel>=4.5.1->ipywidgets) (2.8.2)\n",
      "Requirement already satisfied: pywin32>=1.0 in c:\\users\\abhis\\anaconda3\\lib\\site-packages (from jupyter_core->nbformat>=4.2.0->ipywidgets) (302)\n",
      "Requirement already satisfied: argon2-cffi in c:\\users\\abhis\\anaconda3\\lib\\site-packages (from notebook>=4.4.1->widgetsnbextension~=3.5.0->ipywidgets) (21.3.0)\n",
      "Requirement already satisfied: terminado>=0.8.3 in c:\\users\\abhis\\anaconda3\\lib\\site-packages (from notebook>=4.4.1->widgetsnbextension~=3.5.0->ipywidgets) (0.13.1)\n",
      "Requirement already satisfied: prometheus-client in c:\\users\\abhis\\anaconda3\\lib\\site-packages (from notebook>=4.4.1->widgetsnbextension~=3.5.0->ipywidgets) (0.14.1)\n",
      "Requirement already satisfied: Send2Trash>=1.8.0 in c:\\users\\abhis\\anaconda3\\lib\\site-packages (from notebook>=4.4.1->widgetsnbextension~=3.5.0->ipywidgets) (1.8.0)\n",
      "Requirement already satisfied: nbconvert>=5 in c:\\users\\abhis\\anaconda3\\lib\\site-packages (from notebook>=4.4.1->widgetsnbextension~=3.5.0->ipywidgets) (6.4.4)\n",
      "Requirement already satisfied: jinja2 in c:\\users\\abhis\\anaconda3\\lib\\site-packages (from notebook>=4.4.1->widgetsnbextension~=3.5.0->ipywidgets) (2.11.3)\n",
      "Requirement already satisfied: wcwidth in c:\\users\\abhis\\anaconda3\\lib\\site-packages (from prompt-toolkit!=3.0.0,!=3.0.1,<3.1.0,>=2.0.0->ipython>=4.0.0->ipywidgets) (0.2.5)\n",
      "Requirement already satisfied: pyparsing!=3.0.5,>=2.0.2 in c:\\users\\abhis\\anaconda3\\lib\\site-packages (from packaging->ipykernel>=4.5.1->ipywidgets) (3.0.9)\n",
      "Requirement already satisfied: beautifulsoup4 in c:\\users\\abhis\\anaconda3\\lib\\site-packages (from nbconvert>=5->notebook>=4.4.1->widgetsnbextension~=3.5.0->ipywidgets) (4.11.1)\n",
      "Requirement already satisfied: bleach in c:\\users\\abhis\\anaconda3\\lib\\site-packages (from nbconvert>=5->notebook>=4.4.1->widgetsnbextension~=3.5.0->ipywidgets) (4.1.0)\n",
      "Requirement already satisfied: pandocfilters>=1.4.1 in c:\\users\\abhis\\anaconda3\\lib\\site-packages (from nbconvert>=5->notebook>=4.4.1->widgetsnbextension~=3.5.0->ipywidgets) (1.5.0)\n",
      "Requirement already satisfied: nbclient<0.6.0,>=0.5.0 in c:\\users\\abhis\\anaconda3\\lib\\site-packages (from nbconvert>=5->notebook>=4.4.1->widgetsnbextension~=3.5.0->ipywidgets) (0.5.13)\n",
      "Requirement already satisfied: jupyterlab-pygments in c:\\users\\abhis\\anaconda3\\lib\\site-packages (from nbconvert>=5->notebook>=4.4.1->widgetsnbextension~=3.5.0->ipywidgets) (0.1.2)\n",
      "Requirement already satisfied: mistune<2,>=0.8.1 in c:\\users\\abhis\\anaconda3\\lib\\site-packages (from nbconvert>=5->notebook>=4.4.1->widgetsnbextension~=3.5.0->ipywidgets) (0.8.4)\n",
      "Requirement already satisfied: defusedxml in c:\\users\\abhis\\anaconda3\\lib\\site-packages (from nbconvert>=5->notebook>=4.4.1->widgetsnbextension~=3.5.0->ipywidgets) (0.7.1)\n",
      "Requirement already satisfied: testpath in c:\\users\\abhis\\anaconda3\\lib\\site-packages (from nbconvert>=5->notebook>=4.4.1->widgetsnbextension~=3.5.0->ipywidgets) (0.6.0)\n",
      "Requirement already satisfied: MarkupSafe>=0.23 in c:\\users\\abhis\\anaconda3\\lib\\site-packages (from jinja2->notebook>=4.4.1->widgetsnbextension~=3.5.0->ipywidgets) (2.0.1)\n",
      "Requirement already satisfied: six>=1.5 in c:\\users\\abhis\\anaconda3\\lib\\site-packages (from python-dateutil>=2.8.2->jupyter-client>=6.1.12->ipykernel>=4.5.1->ipywidgets) (1.16.0)\n",
      "Requirement already satisfied: pywinpty>=1.1.0 in c:\\users\\abhis\\anaconda3\\lib\\site-packages (from terminado>=0.8.3->notebook>=4.4.1->widgetsnbextension~=3.5.0->ipywidgets) (2.0.2)\n",
      "Requirement already satisfied: argon2-cffi-bindings in c:\\users\\abhis\\anaconda3\\lib\\site-packages (from argon2-cffi->notebook>=4.4.1->widgetsnbextension~=3.5.0->ipywidgets) (21.2.0)\n",
      "Requirement already satisfied: cffi>=1.0.1 in c:\\users\\abhis\\anaconda3\\lib\\site-packages (from argon2-cffi-bindings->argon2-cffi->notebook>=4.4.1->widgetsnbextension~=3.5.0->ipywidgets) (1.15.1)\n",
      "Requirement already satisfied: soupsieve>1.2 in c:\\users\\abhis\\anaconda3\\lib\\site-packages (from beautifulsoup4->nbconvert>=5->notebook>=4.4.1->widgetsnbextension~=3.5.0->ipywidgets) (2.3.1)\n",
      "Requirement already satisfied: webencodings in c:\\users\\abhis\\anaconda3\\lib\\site-packages (from bleach->nbconvert>=5->notebook>=4.4.1->widgetsnbextension~=3.5.0->ipywidgets) (0.5.1)\n",
      "Requirement already satisfied: pycparser in c:\\users\\abhis\\anaconda3\\lib\\site-packages (from cffi>=1.0.1->argon2-cffi-bindings->argon2-cffi->notebook>=4.4.1->widgetsnbextension~=3.5.0->ipywidgets) (2.21)\n"
     ]
    }
   ],
   "source": [
    "# !pip install openpyxl\n",
    "# !pip install imbalanced-learn\n",
    "# !pip3 install ipympl\n",
    "# !pip install import-ipynb\n",
    "# !pip install shapely\n",
    "# !pip install SciencePlots \n",
    "# !pip install seaborn\n",
    "# !pip install tqdm\n",
    "# !pip install ipywidgets"
   ]
  },
  {
   "cell_type": "code",
   "execution_count": 166,
   "id": "3ef6b01f",
   "metadata": {},
   "outputs": [],
   "source": [
    "import pandas as pd\n",
    "import numpy as np\n",
    "import matplotlib.pyplot as plt\n",
    "import seaborn as sns\n",
    "import scienceplots\n",
    "import os, sys\n",
    "from numpy import nan\n",
    "import re\n",
    "import ipympl\n",
    "# from IPython.core.display import display, HTML\n",
    "import ipywidgets\n",
    "import json\n",
    "from os import listdir\n",
    "import glob\n",
    "import math\n",
    "from IPython.display import Image, display, HTML\n",
    "from shapely.geometry import mapping\n",
    "from sklearn.cross_decomposition import PLSRegression\n",
    "from sklearn.ensemble import RandomForestRegressor\n",
    "from sklearn.model_selection import cross_val_score, train_test_split, RepeatedKFold, cross_val_predict\n",
    "from sklearn.metrics import r2_score, mean_squared_error, precision_score, recall_score, mean_absolute_error, make_scorer\n",
    "from sklearn.svm import SVR\n",
    "from sklearn.linear_model import LinearRegression\n",
    "from sklearn.kernel_ridge import KernelRidge\n",
    "from sklearn.datasets import make_regression\n",
    "from sklearn.ensemble import GradientBoostingRegressor\n",
    "from sklearn.model_selection import GridSearchCV, RandomizedSearchCV, LeaveOneOut, cross_validate\n",
    "from sklearn.impute import SimpleImputer\n",
    "from tqdm.notebook import tqdm\n",
    "from sklearn.svm import SVC\n",
    "from tqdm import tqdm\n",
    "import pickle\n",
    "from imblearn.over_sampling import SMOTE\n",
    "from scipy.stats import ks_2samp\n",
    "from scipy import stats\n",
    "np.seterr(divide='ignore', invalid='ignore')\n",
    "pd.options.display.max_columns = 100\n",
    "from sklearn.preprocessing import PolynomialFeatures\n",
    "%matplotlib inline"
   ]
  },
  {
   "cell_type": "code",
   "execution_count": 3,
   "id": "22684781",
   "metadata": {},
   "outputs": [
    {
     "name": "stdout",
     "output_type": "stream",
     "text": [
      "importing Jupyter notebook from SoilPrep.ipynb\n"
     ]
    }
   ],
   "source": [
    "import import_ipynb\n",
    "from SoilPrep import * "
   ]
  },
  {
   "cell_type": "markdown",
   "id": "8cd5b13f",
   "metadata": {},
   "source": [
    "# Step 1: Preprocessing (Normalisation and Smoothing)"
   ]
  },
  {
   "cell_type": "code",
   "execution_count": 4,
   "id": "492df528",
   "metadata": {},
   "outputs": [],
   "source": [
    "# Colour scheme definition\n",
    "kado = '#8B7355'\n",
    "mati = '#A52A2A'\n",
    "balu = '#F4A460'\n",
    "\n",
    "\n",
    "df = pd.read_csv('uae.csv')\n",
    "\n",
    "# ------------- Target Isolation ----------------------\n",
    "target_names = ['sand', 'silt', 'clay', 'TOC']\n",
    "clr = ['#F4A460', '#8B7355', '#A52A2A', 'green']\n",
    "def isolate_targets(df, target_names):\n",
    "    T=[]\n",
    "    for i in range (0,len(target_names)):\n",
    "        T.append(df[target_names[i]])\n",
    "    return(T)\n",
    "    \n",
    "T = isolate_targets(df,target_names) \n",
    "\n",
    "# -------------- Spectra and Smoothed Spectra-----------\n",
    "spectra = df.iloc[:, 7:2158].copy()\n",
    "c_min =0\n",
    "c_max =2150\n",
    "\n",
    "smth_spec =[]\n",
    "for i in range (0,51):\n",
    "    smth_spec.append(sgsmooth(spectra, i))\n"
   ]
  },
  {
   "cell_type": "code",
   "execution_count": 5,
   "id": "58ad22bd",
   "metadata": {},
   "outputs": [],
   "source": [
    "# --- TODO : Also define and Use other normalisation methods ----\n",
    "def normalize_targets(T):          \n",
    "    NT =[]\n",
    "    for i in range(0, len(T)):\n",
    "        NT.append(lognormal(T[i].copy()))\n",
    "    return(NT)\n",
    "\n",
    "NT = normalize_targets(T)\n"
   ]
  },
  {
   "cell_type": "code",
   "execution_count": 27,
   "id": "3d9e3693",
   "metadata": {},
   "outputs": [],
   "source": [
    "row, width = smth_spec[2].shape\n",
    "spec_band = smth_spec[2].iloc[:,0:width:100] "
   ]
  },
  {
   "cell_type": "markdown",
   "id": "c12f62f4",
   "metadata": {},
   "source": [
    "## Correlation between wavelengths and Targets"
   ]
  },
  {
   "cell_type": "markdown",
   "id": "2692ef74",
   "metadata": {},
   "source": [
    "## Resampled Spectra"
   ]
  },
  {
   "cell_type": "code",
   "execution_count": 49,
   "id": "4fb33485",
   "metadata": {},
   "outputs": [],
   "source": [
    "def resample_spectra (spectra, n_band):\n",
    "    row, width = spectra.shape\n",
    "    w = int(np.floor(width/n_band))\n",
    "    red_spectra = spectra.iloc[:,0:n_band].copy()\n",
    "    for i in range (0, n_band):\n",
    "        red_spectra.iloc[:,i] = spectra.iloc[:,i*w:(i+1)*w].mean(axis=1)\n",
    "        \n",
    "    return (red_spectra)\n",
    "\n",
    "# red_spec = resample_spectra(spectra,500)\n",
    "# red_spec\n",
    "     "
   ]
  },
  {
   "cell_type": "code",
   "execution_count": 6,
   "id": "76f6cde8",
   "metadata": {},
   "outputs": [],
   "source": [
    "plt.style.use(['science','notebook','grid'])\n",
    "# Pearson corelation between different wavelengths and Targets/Outputs (i.e, sand, clay, silt, and TOC) \n",
    "\n",
    "def find_rpval (spectra, T):\n",
    "    r_val = []\n",
    "    p_val = []\n",
    "    for i in range (0,len(T)):\n",
    "        p_val.append(spectra.loc[[0],:].copy())\n",
    "        r_val.append(spectra.loc[[0],:].copy())\n",
    "        for j in range(c_min, c_max+1):\n",
    "            r_val[i].iloc[0,j], p_val[i].iloc[0,j] = stats.pearsonr(T[i], spectra.iloc[:, j])\n",
    "    return(r_val, p_val)\n",
    "\n",
    "r_val, p_val = find_rpval (spectra, T)"
   ]
  },
  {
   "cell_type": "code",
   "execution_count": 7,
   "id": "dd230431",
   "metadata": {},
   "outputs": [
    {
     "data": {
      "application/vnd.jupyter.widget-view+json": {
       "model_id": "c015905bc6f64674ad35c99f4d3e9461",
       "version_major": 2,
       "version_minor": 0
      },
      "text/plain": [
       "interactive(children=(Dropdown(description='target', options=('sand', 'silt', 'clay', 'TOC'), value='sand'), D…"
      ]
     },
     "metadata": {},
     "output_type": "display_data"
    },
    {
     "data": {
      "text/plain": [
       "<function __main__.plot_corr(target, mean_of_std)>"
      ]
     },
     "execution_count": 7,
     "metadata": {},
     "output_type": "execute_result"
    }
   ],
   "source": [
    "light_blue = '#6495ED'\n",
    "spec_std = 6*spectra.std()\n",
    "mean_spec_std = spec_std.copy()\n",
    "mean_spec_std.iloc[:] = spec_std.mean()\n",
    "\n",
    "def plot_corr (target, mean_of_std):\n",
    "    i = target_names.index(target)\n",
    "    r_val[i].iloc[0,:].plot(color = clr[i])\n",
    "    spec_std.plot(color = 'blue')\n",
    "    if mean_of_std == 'on':\n",
    "        mean_spec_std.plot(color = 'blue', linewidth=1, linestyle='dashed')\n",
    "    plt.ylim([-0.6, 0.6])\n",
    "\n",
    "ipywidgets.interact(plot_corr, target = target_names, mean_of_std= ['on', 'off'])"
   ]
  },
  {
   "cell_type": "markdown",
   "id": "6e9a2470",
   "metadata": {},
   "source": [
    "## Visualizing Smoothed Spectrum (variable window)"
   ]
  },
  {
   "cell_type": "code",
   "execution_count": 8,
   "id": "4d053c2e",
   "metadata": {},
   "outputs": [
    {
     "data": {
      "application/vnd.jupyter.widget-view+json": {
       "model_id": "c0c3213972a54f6e8a33aaa0f3c14664",
       "version_major": 2,
       "version_minor": 0
      },
      "text/plain": [
       "interactive(children=(IntSlider(value=146, description='sample', max=293), IntSlider(value=24, description='wi…"
      ]
     },
     "metadata": {},
     "output_type": "display_data"
    },
    {
     "data": {
      "text/plain": [
       "<function __main__.plot_spec(sample, window)>"
      ]
     },
     "execution_count": 8,
     "metadata": {},
     "output_type": "execute_result"
    }
   ],
   "source": [
    "# ---- TODO: display the change in each target content (from previous) using little bars \n",
    "# ---- TODO: include continium removed spectra for better visualization ---\n",
    "def plot_spec (sample, window):\n",
    "    x = smth_spec[window].iloc[sample,:]\n",
    "    x.plot()\n",
    "    plt.ylim([-0.6, 0.8])\n",
    "\n",
    "ipywidgets.interact(plot_spec, sample = (0, 293,1), window = (0,49,1))"
   ]
  },
  {
   "cell_type": "markdown",
   "id": "f00e07ff",
   "metadata": {},
   "source": [
    "# Step 2:  Best Train-Test Split  (Parameters)"
   ]
  },
  {
   "cell_type": "code",
   "execution_count": 9,
   "id": "d089363d",
   "metadata": {},
   "outputs": [
    {
     "name": "stdout",
     "output_type": "stream",
     "text": [
      "Without Normalization:\n",
      "For sand :test size = 0.2 \t min bin error= 66.25 \t at randome state = 21\n",
      "For silt :test size = 0.2 \t min bin error= 48.75 \t at randome state = 2\n",
      "For clay :test size = 0.2 \t min bin error= 33.75 \t at randome state = 7\n",
      "For TOC :test size = 0.2 \t min bin error= 41.25 \t at randome state = 24\n",
      "After Normalization:\n",
      "For sand :test size = 0.2 \t min bin error= 78.75 \t at randome state = 10\n",
      "For silt :test size = 0.2 \t min bin error= 53.75 \t at randome state = 23\n",
      "For clay :test size = 0.2 \t min bin error= 33.75 \t at randome state = 7\n",
      "For TOC :test size = 0.2 \t min bin error= 66.25 \t at randome state = 1\n"
     ]
    }
   ],
   "source": [
    "tst_siz = 0.2\n",
    "\n",
    "rand_t = [None] * (len(T))\n",
    "err_t = [None] * (len(T))\n",
    "\n",
    "print('Without Normalization:')\n",
    "for i in range (0,len(T)):\n",
    "    rand_t[i], err_t[i] = best_split(spectra.copy(), T[i], tst_siz) \n",
    "    print ('For '+ target_names[i]+ ' :test size =', tst_siz, '\\t min bin error=', err_t[i], '\\t at randome state =', rand_t[i])\n",
    "    \n",
    "rand_nt = [None] * (len(T))\n",
    "err_nt = [None] * (len(T))\n",
    "\n",
    "print('After Normalization:')\n",
    "for i in range (0,len(T)):\n",
    "    rand_nt[i], err_nt[i] = best_split(spectra.copy(), NT[i], tst_siz)     \n",
    "    print ('For '+ target_names[i]+ ' :test size =', tst_siz, '\\t min bin error=', err_nt[i], '\\t at randome state =', rand_nt[i])\n",
    "    \n",
    "        "
   ]
  },
  {
   "cell_type": "markdown",
   "id": "8732545a",
   "metadata": {},
   "source": [
    "\n",
    "##  Visualizing the Optimal Test Train Split "
   ]
  },
  {
   "cell_type": "code",
   "execution_count": 10,
   "id": "3e195a02",
   "metadata": {},
   "outputs": [
    {
     "data": {
      "application/vnd.jupyter.widget-view+json": {
       "model_id": "b221ac4c6c024b6f805035ddd13aec3d",
       "version_major": 2,
       "version_minor": 0
      },
      "text/plain": [
       "interactive(children=(Dropdown(description='target', options=('sand', 'silt', 'clay', 'TOC'), value='sand'), O…"
      ]
     },
     "metadata": {},
     "output_type": "display_data"
    },
    {
     "data": {
      "text/plain": [
       "<function __main__.best_split_plot(target)>"
      ]
     },
     "execution_count": 10,
     "metadata": {},
     "output_type": "execute_result"
    }
   ],
   "source": [
    "def best_split_plot (target):\n",
    "    \n",
    "    i = target_names.index(target)\n",
    "    \n",
    "    X_train, X_test, y_train, y_test = train_test_split(spectra, T[i], test_size= tst_siz, random_state=rand_t[i])\n",
    "    NX_train, NX_test, Ny_train, Ny_test = train_test_split(spectra, NT[i], test_size= tst_siz, random_state=rand_nt[i])\n",
    "    \n",
    "    fig, ax = plt.subplots(1,2, figsize=(18,7))\n",
    "    \n",
    "    binsT = np.linspace(np.min(T[i]), np.max(T[i]),10)\n",
    "    ax[0].hist([y_train, y_test], binsT , label=['Train', 'Test'], density=True, color = ['blue','red'])\n",
    "    ax[0].legend(loc='upper center', fontsize =12)\n",
    "    ax[0].set_xlabel(target_names[i]+' content',fontsize =16)\n",
    "    ax[0].set_ylabel('Normalised frequency',fontsize =12)\n",
    "    ax[0].tick_params(axis='both', labelsize=8)\n",
    "    \n",
    "    binsNT = np.linspace(np.min(NT[i]), np.max(NT[i]),10)\n",
    "    ax[1].hist([Ny_train, Ny_test], binsNT , label=['Train', 'Test'], density=True, color = ['blue','red'])\n",
    "    ax[1].legend(loc='upper center', fontsize =12)\n",
    "    ax[1].set_xlabel('Normalised '+target_names[i]+' content',fontsize =16)\n",
    "    ax[1].set_ylabel('Normalised frequency',fontsize =12)\n",
    "    ax[1].tick_params(axis='both', labelsize=8)\n",
    "\n",
    "    fig.suptitle('Train Test Distribution of Data', x = 0.5 ,y = .95, fontsize = 20)\n",
    "    \n",
    "\n",
    "ipywidgets.interact(best_split_plot, target = target_names)\n"
   ]
  },
  {
   "cell_type": "markdown",
   "id": "448d5aed",
   "metadata": {},
   "source": [
    "# Step 3: Best Model Parameters (window, n_components)"
   ]
  },
  {
   "cell_type": "markdown",
   "id": "dbe0bd20",
   "metadata": {},
   "source": [
    "## PLSR: obtaining best parameter (window, n_components, IQRP)"
   ]
  },
  {
   "cell_type": "code",
   "execution_count": 109,
   "id": "5c02c95a",
   "metadata": {},
   "outputs": [],
   "source": [
    "from sklearn import linear_model\n",
    "\n",
    "def best_param_PLSR (spectra, target, rand_st, tst_siz, window, n_comp):\n",
    "    X= spectra.copy()\n",
    "    y= target.copy()\n",
    "     \n",
    "    iqrpM = np.zeros(shape=(window, n_comp))\n",
    "    iqrpMtr = np.zeros(shape=(window, n_comp))\n",
    "    \n",
    "    for w in range (0,window):\n",
    "        X_train, X_test, y_train, y_test = train_test_split(X[w], y, test_size = tst_siz, random_state=rand_st)\n",
    "        \n",
    "        for n in range(1,n_comp):\n",
    "            Model = PLSRegression(n_components=n, scale=True)\n",
    "            \n",
    "            Model.fit(X_train, y_train)\n",
    "            y_pred = Model.predict(X_test, copy=True)\n",
    "            yhat_pred = Model.predict(X_train, copy=True)            \n",
    "            \n",
    "            iqrp_test = iqrp(y_pred, y_test)\n",
    "            iqrp_train = iqrp(yhat_pred, y_train)\n",
    "            \n",
    "            iqrpM[w,n] = iqrp_test\n",
    "            iqrpMtr[w,n] = iqrp_train\n",
    "            \n",
    "            if iqrp_test == iqrpM.max():\n",
    "                bestw = w\n",
    "                bestn = n\n",
    "                maxIQRP = iqrp_test\n",
    "                #print('Found new best at w=', w, 'n=', n,  '>>   IQRP_test =', iqrp_test, '>>   IQRP_train =', iqrp_train)\n",
    "                \n",
    "                \n",
    "            if iqrp_train == iqrpMtr.max():\n",
    "                bestwT = w\n",
    "                bestnT = n\n",
    "                maxIQRPT = iqrp_train\n",
    "                \n",
    "    #print('On train data best at w=', bestwT, 'n=', bestnT,  '>>   IQRP_train =', maxIQRPT)\n",
    "                \n",
    "                \n",
    "    return (bestw, bestn, maxIQRP)\n",
    "\n",
    "\n",
    "w = [None] * (len(T))\n",
    "n_comp = [None] * (len(T))\n",
    "IQRP = [None] * (len(T))\n",
    "\n",
    "wN = [None] * (len(T))\n",
    "n_compN = [None] * (len(T))\n",
    "IQRPN = [None] * (len(T))\n",
    "\n",
    "for i in range (0,len(T)):\n",
    "    w[i], n_comp[i], IQRP[i] = best_param_PLSR (smth_spec.copy(), T[i], rand_t[i], 0.2, 5,30)\n",
    "    wN[i], n_compN[i], IQRPN[i] = best_param_PLSR (smth_spec.copy(), NT[i], rand_nt[i], 0.2, 5,30)"
   ]
  },
  {
   "cell_type": "code",
   "execution_count": 110,
   "id": "fa6dc69e",
   "metadata": {},
   "outputs": [],
   "source": [
    "# w1, n1, IQRP1 = best_param_PLSR (smth_spec.copy(), T[3], rand_t[3], 0.2, 5,30)\n",
    "# w1, n1, IQRP1 = best_param_PLSR (smth_spec.copy(), NT[3], rand_nt[3], 0.2, 5,30)"
   ]
  },
  {
   "cell_type": "markdown",
   "id": "f9191b0d",
   "metadata": {},
   "source": [
    "##  Multilinear: obtaining best parameters(window and IQRP)"
   ]
  },
  {
   "cell_type": "code",
   "execution_count": 131,
   "id": "43363400",
   "metadata": {},
   "outputs": [],
   "source": [
    "def best_param_Mult (spectra, target, rand_st, tst_siz, window):\n",
    "    X= spectra.copy()\n",
    "    y= target.copy()\n",
    "     \n",
    "    iqrpM = np.zeros(shape=(window, 1))\n",
    "    iqrpMtr = np.zeros(shape=(window, 1))\n",
    "    \n",
    "    for w in range (0,window):\n",
    "        X_train, X_test, y_train, y_test = train_test_split(X[w], y, test_size = tst_siz, random_state=rand_st)\n",
    "        Model = linear_model.LinearRegression()\n",
    "            \n",
    "        Model.fit(X_train, y_train)\n",
    "        y_pred = Model.predict(X_test)\n",
    "        yhat_pred = Model.predict(X_train)            \n",
    "            \n",
    "        iqrp_test = iqrp(y_pred, y_test)\n",
    "        iqrp_train = iqrp(yhat_pred, y_train)\n",
    "            \n",
    "        iqrpM[w,0] = iqrp_test\n",
    "        iqrpMtr[w,0] = iqrp_train\n",
    "        if iqrp_test == iqrpM.max():\n",
    "                bestw = w\n",
    "                #bestn = n\n",
    "                maxIQRP = iqrp_test\n",
    "                #print('Found new best at w=', w, '>>   IQRP_test =', iqrp_test, '>>   IQRP_train =', iqrp_train)\n",
    "         \n",
    "        if iqrp_train == iqrpMtr.max():\n",
    "                bestwT = w\n",
    "                #bestnT = n\n",
    "                maxIQRPT = iqrp_train\n",
    "        \n",
    "        \n",
    "        \n",
    "    #print('On train data best at w=', bestwT, '>>   IQRP_train =', maxIQRPT)\n",
    "                \n",
    "                \n",
    "    return (bestw, maxIQRP)\n",
    "\n",
    "w_mult = [None] * (len(T))\n",
    "IQRP_mult = [None] * (len(T))\n",
    "\n",
    "wN_mult = [None] * (len(T))\n",
    "IQRPN_mult = [None] * (len(T))\n",
    "\n",
    "for i in range (0,len(T)):\n",
    "    w_mult[i], IQRP_mult[i] = best_param_Mult (smth_spec.copy(), T[i], rand_t[i], 0.2, 5)\n",
    "    wN_mult[i], IQRPN_mult[i] = best_param_Mult (smth_spec.copy(), NT[i], rand_nt[i], 0.2, 5)\n",
    "    "
   ]
  },
  {
   "cell_type": "code",
   "execution_count": 134,
   "id": "e422ed8b",
   "metadata": {},
   "outputs": [],
   "source": [
    "#w1, IQRP1 = best_param_Mult (smth_spec.copy(), T[1], rand_t[1], 0.2, 5)\n",
    "# w1,  IQRP1 = best_param_Mult (smth_spec.copy(), NT[1], rand_nt[1], 0.2, 45)"
   ]
  },
  {
   "cell_type": "markdown",
   "id": "a85f5123",
   "metadata": {},
   "source": [
    "## RandomForest: obtaining best parameters(window and IQRP)"
   ]
  },
  {
   "cell_type": "code",
   "execution_count": 154,
   "id": "424da4f0",
   "metadata": {},
   "outputs": [
    {
     "name": "stdout",
     "output_type": "stream",
     "text": [
      "{'n_estimators': [10, 20, 30, 40, 50], 'max_depth': [2, 4], 'max_features': ['sqrt', 'auto'], 'min_samples_split': [4, 6], 'min_samples_leaf': [1, 2, 4], 'bootstrap': ['True']}\n",
      "Fitting 16 folds for each of 100 candidates, totalling 1600 fits\n"
     ]
    },
    {
     "data": {
      "text/plain": [
       "RandomizedSearchCV(cv=RepeatedKFold(n_repeats=4, n_splits=4, random_state=10),\n",
       "                   error_score='raise', estimator=RandomForestRegressor(),\n",
       "                   n_iter=100, n_jobs=-1,\n",
       "                   param_distributions={'bootstrap': ['True'],\n",
       "                                        'max_depth': [2, 4],\n",
       "                                        'max_features': ['sqrt', 'auto'],\n",
       "                                        'min_samples_leaf': [1, 2, 4],\n",
       "                                        'min_samples_split': [4, 6],\n",
       "                                        'n_estimators': [10, 20, 30, 40, 50]},\n",
       "                   random_state=30,\n",
       "                   scoring=make_scorer(mean_squared_error, greater_is_better=False),\n",
       "                   verbose=1)"
      ]
     },
     "execution_count": 154,
     "metadata": {},
     "output_type": "execute_result"
    }
   ],
   "source": [
    "rf_reg = RandomForestRegressor()\n",
    "\n",
    "#to generate various random forests.\n",
    "n_estimators = [int(x) for x in np.linspace(start = 10, stop = 50, num = 5)]\n",
    "max_depth = [2,4]\n",
    "max_features = ['sqrt', 'auto']\n",
    "min_samples_split = [4,6]\n",
    "bootstrap = ['True']\n",
    "\n",
    "# Create the random grid\n",
    "random_grid = {'n_estimators': n_estimators, 'max_depth': max_depth, 'max_features':max_features,\\\n",
    "              'min_samples_split':min_samples_split, 'min_samples_leaf':min_samples_leaf,\\\n",
    "               'bootstrap':bootstrap}\n",
    "\n",
    "print(random_grid)\n",
    "\n",
    "scorer = make_scorer(mean_squared_error, greater_is_better=False)\n",
    "cv = RepeatedKFold(n_splits=4, n_repeats=4, random_state=10)\n",
    "rf_random = RandomizedSearchCV(estimator=rf_reg, param_distributions = random_grid, cv = cv, n_iter = 100,\\\n",
    "                            scoring=scorer, verbose=1, random_state = 30, error_score='raise', n_jobs=-1)\n",
    " \n",
    "red_spec = resample_spectra(spectra,10)\n",
    "X= 10*(red_spec.copy())\n",
    "y= T[0]\n",
    "\n",
    "X_train, X_test, y_train, y_test = train_test_split(X, y, test_size = tst_siz, random_state=rand_t[0])\n",
    "\n",
    "rf_random.fit(X_train, y_train)"
   ]
  },
  {
   "cell_type": "code",
   "execution_count": 155,
   "id": "9c6b4897",
   "metadata": {},
   "outputs": [
    {
     "data": {
      "text/plain": [
       "1.6137614723416303"
      ]
     },
     "execution_count": 155,
     "metadata": {},
     "output_type": "execute_result"
    }
   ],
   "source": [
    "y_pred = rf_random.predict(X_test)\n",
    "iqrp_sand = iqrp(y_pred, y_test)\n",
    "iqrp_sand"
   ]
  },
  {
   "cell_type": "code",
   "execution_count": 89,
   "id": "894d4b0c",
   "metadata": {},
   "outputs": [
    {
     "name": "stdout",
     "output_type": "stream",
     "text": [
      "Fitting 16 folds for each of 100 candidates, totalling 1600 fits\n"
     ]
    },
    {
     "data": {
      "text/plain": [
       "RandomizedSearchCV(cv=RepeatedKFold(n_repeats=4, n_splits=4, random_state=10),\n",
       "                   error_score='raise', estimator=RandomForestRegressor(),\n",
       "                   n_iter=100, n_jobs=-1,\n",
       "                   param_distributions={'bootstrap': ['True'],\n",
       "                                        'max_depth': [2, 4],\n",
       "                                        'max_features': ['sqrt', 'auto'],\n",
       "                                        'min_samples_leaf': [1, 2, 4],\n",
       "                                        'min_samples_split': [4, 6],\n",
       "                                        'n_estimators': [10, 20, 30, 40, 50]},\n",
       "                   random_state=10,\n",
       "                   scoring=make_scorer(mean_squared_error, greater_is_better=False),\n",
       "                   verbose=1)"
      ]
     },
     "execution_count": 89,
     "metadata": {},
     "output_type": "execute_result"
    }
   ],
   "source": [
    "X_train, X_test, y_train, y_test = train_test_split(X, NT[0], test_size = tst_siz, random_state=rand_nt[0])\n",
    "\n",
    "rf_random.fit(X_train, y_train)"
   ]
  },
  {
   "cell_type": "code",
   "execution_count": 90,
   "id": "9cbc38c1",
   "metadata": {},
   "outputs": [
    {
     "data": {
      "text/plain": [
       "1.5407993064557126"
      ]
     },
     "execution_count": 90,
     "metadata": {},
     "output_type": "execute_result"
    }
   ],
   "source": [
    "y_pred = rf_random.predict(X_test)\n",
    "iqrp_sand = iqrp(y_pred, y_test)\n",
    "iqrp_sand"
   ]
  },
  {
   "cell_type": "markdown",
   "id": "8ec32768",
   "metadata": {},
   "source": [
    "### Support Vector Machine for Regression"
   ]
  },
  {
   "cell_type": "code",
   "execution_count": 152,
   "id": "24355ab4",
   "metadata": {},
   "outputs": [
    {
     "name": "stdout",
     "output_type": "stream",
     "text": [
      "Fitting 16 folds for each of 100 candidates, totalling 1600 fits\n"
     ]
    },
    {
     "data": {
      "text/plain": [
       "RandomizedSearchCV(cv=RepeatedKFold(n_repeats=4, n_splits=4, random_state=None),\n",
       "                   error_score='raise', estimator=SVR(), n_iter=100, n_jobs=-1,\n",
       "                   param_distributions={'C': [1e-05, 5e-05, 0.0001, 0.0005,\n",
       "                                              0.001, 0.005, 0.01, 0.05, 0.1],\n",
       "                                        'degree': [2, 3, 4],\n",
       "                                        'gamma': [1, 0.1, 0.5, 0.05, 0.01,\n",
       "                                                  0.001, 0.005],\n",
       "                                        'kernel': ['poly', 'rbf', 'sigmoid']},\n",
       "                   random_state=32,\n",
       "                   scoring=make_scorer(mean_squared_error, greater_is_better=False),\n",
       "                   verbose=1)"
      ]
     },
     "execution_count": 152,
     "metadata": {},
     "output_type": "execute_result"
    }
   ],
   "source": [
    "sv_reg = SVR()\n",
    "random_grid = {'C': [0.00001, 0.00005, 0.0001, 0.0005,0.001, 0.005, 0.01, 0.05, 0.1], 'gamma': [1, 0.1, 0.5, 0.05, 0.01, 0.001, 0.005],\\\n",
    "             'kernel': [ 'poly', 'rbf', 'sigmoid'], 'degree':[2, 3, 4]}\n",
    "\n",
    "scorer = make_scorer(mean_squared_error, greater_is_better=False)\n",
    "cv = RepeatedKFold(n_splits=4, n_repeats=4)\n",
    "svr_random = RandomizedSearchCV(estimator=sv_reg, param_distributions = random_grid, cv = cv, n_iter = 100,\\\n",
    "                            scoring=scorer, verbose=1, random_state = 32, error_score='raise', n_jobs=-1)\n",
    "\n",
    "#svr_random.fit(X_train,y_train)\n",
    "\n",
    "red_spec = resample_spectra(spectra,25)\n",
    "X= red_spec.copy()\n",
    "y= T[0]\n",
    "\n",
    "X_train, X_test, y_train, y_test = train_test_split(X, y, test_size = tst_siz, random_state=rand_t[0])\n",
    "\n",
    "svr_random.fit(X_train, y_train)"
   ]
  },
  {
   "cell_type": "code",
   "execution_count": 153,
   "id": "8c7a8366",
   "metadata": {},
   "outputs": [
    {
     "data": {
      "text/plain": [
       "1.4688770094225434"
      ]
     },
     "execution_count": 153,
     "metadata": {},
     "output_type": "execute_result"
    }
   ],
   "source": [
    "y_pred = svr_random.predict(X_test)\n",
    "iqrp_sand = iqrp(y_pred, y_test)\n",
    "iqrp_sand"
   ]
  },
  {
   "cell_type": "code",
   "execution_count": 182,
   "id": "0dc546dd",
   "metadata": {},
   "outputs": [
    {
     "name": "stdout",
     "output_type": "stream",
     "text": [
      "Fitting 16 folds for each of 100 candidates, totalling 1600 fits\n"
     ]
    },
    {
     "data": {
      "text/plain": [
       "RandomizedSearchCV(cv=RepeatedKFold(n_repeats=4, n_splits=4, random_state=None),\n",
       "                   error_score='raise', estimator=SVR(), n_iter=100, n_jobs=-1,\n",
       "                   param_distributions={'C': [1e-05, 5e-05, 0.0001, 0.0005,\n",
       "                                              0.001, 0.005, 0.01, 0.05, 0.1],\n",
       "                                        'degree': [2, 3, 4],\n",
       "                                        'gamma': [1, 0.1, 0.5, 0.05, 0.01,\n",
       "                                                  0.001, 0.005],\n",
       "                                        'kernel': ['poly', 'rbf', 'sigmoid']},\n",
       "                   random_state=32,\n",
       "                   scoring=make_scorer(mean_squared_error, greater_is_better=False),\n",
       "                   verbose=1)"
      ]
     },
     "execution_count": 182,
     "metadata": {},
     "output_type": "execute_result"
    }
   ],
   "source": [
    "X_train, X_test, y_train, y_test = train_test_split(X, NT[0], test_size = tst_siz, random_state=rand_nt[0])\n",
    "\n",
    "svr_random.fit(X_train, y_train)"
   ]
  },
  {
   "cell_type": "code",
   "execution_count": 183,
   "id": "f30ee5d6",
   "metadata": {},
   "outputs": [
    {
     "data": {
      "text/plain": [
       "1.5534179516586588"
      ]
     },
     "execution_count": 183,
     "metadata": {},
     "output_type": "execute_result"
    }
   ],
   "source": [
    "y_pred = rf_random.predict(X_test)\n",
    "iqrp_sand = iqrp(y_pred, y_test)\n",
    "iqrp_sand"
   ]
  },
  {
   "cell_type": "markdown",
   "id": "60ff161c",
   "metadata": {},
   "source": [
    "## Gradient Boosting Regression Tree"
   ]
  },
  {
   "cell_type": "code",
   "execution_count": 177,
   "id": "2ecbceb7",
   "metadata": {},
   "outputs": [
    {
     "name": "stdout",
     "output_type": "stream",
     "text": [
      "{'n_estimators': [5000], 'max_depth': [3, 4], 'min_samples_split': [3, 5, 6], 'learning_rate': [0.05], 'loss': ['squared_error'], 'subsample': [0.5], 'validation_fraction': [0.1], 'n_iter_no_change': [20, 25], 'max_features': ['log2', 'sqrt']}\n",
      "Fitting 16 folds for each of 24 candidates, totalling 384 fits\n"
     ]
    },
    {
     "name": "stderr",
     "output_type": "stream",
     "text": [
      "C:\\Users\\abhis\\anaconda3\\lib\\site-packages\\sklearn\\model_selection\\_search.py:292: UserWarning: The total space of parameters 24 is smaller than n_iter=100. Running 24 iterations. For exhaustive searches, use GridSearchCV.\n",
      "  warnings.warn(\n"
     ]
    },
    {
     "data": {
      "text/plain": [
       "RandomizedSearchCV(cv=RepeatedKFold(n_repeats=4, n_splits=4, random_state=10),\n",
       "                   error_score='raise', estimator=GradientBoostingRegressor(),\n",
       "                   n_iter=100, n_jobs=-1,\n",
       "                   param_distributions={'learning_rate': [0.05],\n",
       "                                        'loss': ['squared_error'],\n",
       "                                        'max_depth': [3, 4],\n",
       "                                        'max_features': ['log2', 'sqrt'],\n",
       "                                        'min_samples_split': [3, 5, 6],\n",
       "                                        'n_estimators': [5000],\n",
       "                                        'n_iter_no_change': [20, 25],\n",
       "                                        'subsample': [0.5],\n",
       "                                        'validation_fraction': [0.1]},\n",
       "                   random_state=42,\n",
       "                   scoring=make_scorer(mean_squared_error, greater_is_better=False),\n",
       "                   verbose=1)"
      ]
     },
     "execution_count": 177,
     "metadata": {},
     "output_type": "execute_result"
    }
   ],
   "source": [
    "gb_reg = GradientBoostingRegressor()\n",
    "\n",
    "n_estimators = [5000]\n",
    "max_depth = [3,4]\n",
    "min_samples_split = [3, 5, 6]\n",
    "learning_rate = [0.05]\n",
    "loss = [\"squared_error\"]\n",
    "subsample = [0.5]\n",
    "validation_fraction =[0.1]\n",
    "n_iter_no_change =[20, 25]\n",
    "max_features = ['log2','sqrt']\n",
    "    \n",
    "    \n",
    "# Create the random grid\n",
    "random_grid = {'n_estimators': n_estimators, 'max_depth': max_depth, 'min_samples_split': min_samples_split, \\\n",
    "               'learning_rate': learning_rate, 'loss': loss, 'subsample': subsample, 'validation_fraction': validation_fraction, \\\n",
    "               'n_iter_no_change': n_iter_no_change, 'max_features':max_features}\n",
    "    \n",
    "print(random_grid)\n",
    "\n",
    "scorer = make_scorer(mean_squared_error, greater_is_better=False)\n",
    "cv = RepeatedKFold(n_splits=4, n_repeats=4, random_state=10)\n",
    "gb_random = RandomizedSearchCV(estimator=gb_reg, param_distributions = random_grid, cv = cv, n_iter = 100,\\\n",
    "                            scoring=scorer, verbose=1, random_state = 42, error_score='raise', n_jobs=-1)\n",
    "\n",
    "\n",
    "red_spec = resample_spectra(spectra,25)\n",
    "X= red_spec.copy()\n",
    "y= T[0]\n",
    "\n",
    "X_train, X_test, y_train, y_test = train_test_split(X, y, test_size = tst_siz, random_state=rand_t[0])\n",
    "\n",
    "gb_random.fit(X_train, y_train)"
   ]
  },
  {
   "cell_type": "code",
   "execution_count": 178,
   "id": "831b69a2",
   "metadata": {},
   "outputs": [
    {
     "data": {
      "text/plain": [
       "1.5859981443246949"
      ]
     },
     "execution_count": 178,
     "metadata": {},
     "output_type": "execute_result"
    }
   ],
   "source": [
    "y_pred = gb_random.predict(X_test)\n",
    "iqrp_sand = iqrp(y_pred, y_test)\n",
    "iqrp_sand"
   ]
  },
  {
   "cell_type": "code",
   "execution_count": 180,
   "id": "de90ea28",
   "metadata": {},
   "outputs": [
    {
     "name": "stderr",
     "output_type": "stream",
     "text": [
      "C:\\Users\\abhis\\anaconda3\\lib\\site-packages\\sklearn\\model_selection\\_search.py:292: UserWarning: The total space of parameters 24 is smaller than n_iter=100. Running 24 iterations. For exhaustive searches, use GridSearchCV.\n",
      "  warnings.warn(\n"
     ]
    },
    {
     "name": "stdout",
     "output_type": "stream",
     "text": [
      "Fitting 16 folds for each of 24 candidates, totalling 384 fits\n"
     ]
    },
    {
     "data": {
      "text/plain": [
       "RandomizedSearchCV(cv=RepeatedKFold(n_repeats=4, n_splits=4, random_state=10),\n",
       "                   error_score='raise', estimator=GradientBoostingRegressor(),\n",
       "                   n_iter=100, n_jobs=-1,\n",
       "                   param_distributions={'learning_rate': [0.05],\n",
       "                                        'loss': ['squared_error'],\n",
       "                                        'max_depth': [3, 4],\n",
       "                                        'max_features': ['log2', 'sqrt'],\n",
       "                                        'min_samples_split': [3, 5, 6],\n",
       "                                        'n_estimators': [5000],\n",
       "                                        'n_iter_no_change': [20, 25],\n",
       "                                        'subsample': [0.5],\n",
       "                                        'validation_fraction': [0.1]},\n",
       "                   random_state=42,\n",
       "                   scoring=make_scorer(mean_squared_error, greater_is_better=False),\n",
       "                   verbose=1)"
      ]
     },
     "execution_count": 180,
     "metadata": {},
     "output_type": "execute_result"
    }
   ],
   "source": [
    "X_train, X_test, y_train, y_test = train_test_split(X, NT[0], test_size = tst_siz, random_state=rand_nt[0])\n",
    "\n",
    "gb_random.fit(X_train, y_train)"
   ]
  },
  {
   "cell_type": "code",
   "execution_count": 181,
   "id": "aef194d2",
   "metadata": {},
   "outputs": [
    {
     "data": {
      "text/plain": [
       "1.5534179516586588"
      ]
     },
     "execution_count": 181,
     "metadata": {},
     "output_type": "execute_result"
    }
   ],
   "source": [
    "y_pred = rf_random.predict(X_test)\n",
    "iqrp_sand = iqrp(y_pred, y_test)\n",
    "iqrp_sand"
   ]
  },
  {
   "cell_type": "markdown",
   "id": "7a0bf4b6",
   "metadata": {},
   "source": [
    "## Visualizing Model Accuracy (PLSR)"
   ]
  },
  {
   "cell_type": "code",
   "execution_count": 143,
   "id": "e0e13e34",
   "metadata": {},
   "outputs": [
    {
     "data": {
      "application/vnd.jupyter.widget-view+json": {
       "model_id": "8fbe7a8fa9214d0e91c842cb58cb5510",
       "version_major": 2,
       "version_minor": 0
      },
      "text/plain": [
       "interactive(children=(Dropdown(description='target', options=('sand', 'silt', 'clay', 'TOC'), value='sand'), D…"
      ]
     },
     "metadata": {},
     "output_type": "display_data"
    },
    {
     "data": {
      "text/plain": [
       "<function __main__.plot_model_acc(target, method1, method2)>"
      ]
     },
     "execution_count": 143,
     "metadata": {},
     "output_type": "execute_result"
    }
   ],
   "source": [
    "def plot_model_acc (target, method1, method2):\n",
    "    \n",
    "    i = target_names.index(target)  \n",
    "#--------------------------------------------- setting variables for method1 plot----------------    \n",
    "    if method1 == 'PLSR':\n",
    "        m1_wT = w[i]\n",
    "        m1_n_compT = n_comp[i]\n",
    "        m1_IQRPT = IQRP[i]\n",
    "    \n",
    "        m1_wNT = wN[i]\n",
    "        m1_n_compNT = n_compN[i]\n",
    "        m1_IQRPNT = IQRPN[i]\n",
    "    \n",
    "        # performing optimum train test split (note that it needs wT due to smth_spec[wT])\n",
    "        X1_train, X1_test, y1_train, y1_test = train_test_split(smth_spec[m1_wT], T[i], test_size= 0.2, random_state=rand_t[i])\n",
    "        NX1_train, NX1_test, Ny1_train, Ny1_test = train_test_split(smth_spec[m1_wNT], NT[i], test_size= 0.2, random_state=rand_nt[i])\n",
    "\n",
    "        # initializing regression model for the target and normalized target\n",
    "        m1_Model = PLSRegression(n_components=m1_n_compT, scale=True)\n",
    "        m1_ModelN = PLSRegression(n_components=m1_n_compNT, scale=True)\n",
    "    \n",
    "        # fitting PLSR model and prediction on test and normalized test data\n",
    "        m1_Model.fit(X1_train, y1_train)\n",
    "        m1_ModelN.fit(NX1_train, Ny1_train)\n",
    "    \n",
    "        y1_pred = m1_Model.predict(X1_test,copy=True)\n",
    "        y1_tp = pd.DataFrame({'actual':y1_test.values, 'predic': y1_pred[:,0]})\n",
    "        z1 = np.polyfit(y1_test, y1_pred, 1)\n",
    "        score1_cv = r2_score(y1_test, y1_pred)\n",
    "    \n",
    "        Ny1_pred = m1_ModelN.predict(NX1_test,copy=True)        \n",
    "        Ny1_tp = pd.DataFrame({'actual':Ny1_test.values, 'predic': Ny1_pred[:,0]})\n",
    "        z1N = np.polyfit(Ny1_test, Ny1_pred, 1)\n",
    "        score1_cvN = r2_score(Ny1_test, Ny1_pred)\n",
    "        \n",
    "    elif method1 == 'MULT':\n",
    "        m1_wT = w_mult[i]\n",
    "        \n",
    "        m1_IQRPT = IQRP_mult[i]\n",
    "    \n",
    "        m1_wNT = wN_mult[i]\n",
    "        \n",
    "        m1_IQRPNT = IQRPN_mult[i]\n",
    "    \n",
    "        # performing optimum train test split (note that it needs wT due to smth_spec[wT])\n",
    "        X1_train, X1_test, y1_train, y1_test = train_test_split(smth_spec[m1_wT], T[i], test_size= 0.2, random_state=rand_t[i])\n",
    "        NX1_train, NX1_test, Ny1_train, Ny1_test = train_test_split(smth_spec[m1_wNT], NT[i], test_size= 0.2, random_state=rand_nt[i])\n",
    "\n",
    "        # initializing regression model for the target and normalized target\n",
    "        m1_Model = linear_model.LinearRegression()\n",
    "        m1_ModelN = linear_model.LinearRegression()\n",
    "    \n",
    "        # fitting MULT model and prediction on test and normalized test data\n",
    "        m1_Model.fit(X1_train, y1_train)\n",
    "        m1_ModelN.fit(NX1_train, Ny1_train)\n",
    "    \n",
    "        y1_pred = m1_Model.predict(X1_test)\n",
    "        y1_tp = pd.DataFrame({'actual':y1_test.values, 'predic': y1_pred.copy()})\n",
    "        z1 = np.polyfit(y1_test, y1_pred, 1)\n",
    "        score1_cv = r2_score(y1_test, y1_pred)\n",
    "    \n",
    "        Ny1_pred = m1_ModelN.predict(NX1_test)        \n",
    "        Ny1_tp = pd.DataFrame({'actual':Ny1_test.values, 'predic': Ny1_pred.copy()})\n",
    "        z1N = np.polyfit(Ny1_test, Ny1_pred, 1)\n",
    "        score1_cvN = r2_score(Ny1_test, Ny1_pred)   \n",
    "    \n",
    "\n",
    "#--------------------------------------------- setting variables for method2 plot----------------     \n",
    "    \n",
    "    if method2 == 'PLSR':\n",
    "        m2_wT = w[i]\n",
    "        m2_n_compT = n_comp[i]\n",
    "        m2_IQRPT = IQRP[i]\n",
    "    \n",
    "        m2_wNT = wN[i]\n",
    "        m2_n_compNT = n_compN[i]\n",
    "        m2_IQRPNT = IQRPN[i]\n",
    "    \n",
    "        # performing optimum train test split (note that it needs wT due to smth_spec[wT])\n",
    "        X2_train, X2_test, y2_train, y2_test = train_test_split(smth_spec[m2_wT], T[i], test_size= 0.2, random_state=rand_t[i])\n",
    "        NX2_train, NX2_test, Ny2_train, Ny2_test = train_test_split(smth_spec[m2_wNT], NT[i], test_size= 0.2, random_state=rand_nt[i])\n",
    "\n",
    "        # initializing regression model for the target and normalized target\n",
    "        m2_Model = PLSRegression(n_components=m2_n_compT, scale=True)\n",
    "        m2_ModelN = PLSRegression(n_components=m2_n_compNT, scale=True)\n",
    "    \n",
    "        # fitting PLSR model and prediction on test and normalized test data\n",
    "        m2_Model.fit(X2_train, y2_train)\n",
    "        m2_ModelN.fit(NX2_train, Ny2_train)\n",
    "    \n",
    "        y2_pred = m2_Model.predict(X2_test,copy=True)\n",
    "        y2_tp = pd.DataFrame({'actual':y2_test.values, 'predic': y2_pred[:,0]})\n",
    "        z2 = np.polyfit(y2_test, y2_pred, 1)\n",
    "        score2_cv = r2_score(y2_test, y2_pred)\n",
    "    \n",
    "        Ny2_pred = m2_ModelN.predict(NX2_test,copy=True)        \n",
    "        Ny2_tp = pd.DataFrame({'actual':Ny2_test.values, 'predic': Ny2_pred[:,0]})\n",
    "        z2N = np.polyfit(Ny2_test, Ny2_pred, 1)\n",
    "        score2_cvN = r2_score(Ny2_test, Ny2_pred)\n",
    "        \n",
    "    elif method2 == 'MULT':\n",
    "        m2_wT = w_mult[i]\n",
    "        \n",
    "        m2_IQRPT = IQRP_mult[i]\n",
    "    \n",
    "        m2_wNT = wN_mult[i]\n",
    "        \n",
    "        m2_IQRPNT = IQRPN_mult[i]\n",
    "    \n",
    "        # performing optimum train test split (note that it needs wT due to smth_spec[wT])\n",
    "        X2_train, X2_test, y2_train, y2_test = train_test_split(smth_spec[m2_wT], T[i], test_size= 0.2, random_state=rand_t[i])\n",
    "        NX2_train, NX2_test, Ny2_train, Ny2_test = train_test_split(smth_spec[m2_wNT], NT[i], test_size= 0.2, random_state=rand_nt[i])\n",
    "\n",
    "        # initializing regression model for the target and normalized target\n",
    "        m2_Model = linear_model.LinearRegression()\n",
    "        m2_ModelN = linear_model.LinearRegression()\n",
    "    \n",
    "        # fitting MULT model and prediction on test and normalized test data\n",
    "        m2_Model.fit(X2_train, y2_train)\n",
    "        m2_ModelN.fit(NX2_train, Ny2_train)\n",
    "    \n",
    "        y2_pred = m2_Model.predict(X2_test)\n",
    "        y2_tp = pd.DataFrame({'actual':y2_test.values, 'predic': y2_pred.copy()})\n",
    "        z2 = np.polyfit(y2_test, y2_pred, 1)\n",
    "        score2_cv = r2_score(y2_test, y2_pred)\n",
    "    \n",
    "        Ny2_pred = m2_ModelN.predict(NX2_test)        \n",
    "        Ny2_tp = pd.DataFrame({'actual':Ny2_test.values, 'predic': Ny2_pred.copy()})\n",
    "        z2N = np.polyfit(Ny2_test, Ny2_pred, 1)\n",
    "        score2_cvN = r2_score(Ny2_test, Ny2_pred)     \n",
    "    \n",
    "    \n",
    "    fig, axes = plt.subplots(2,2, figsize=(16,16))\n",
    "    \n",
    "    #with plt.style.context(('ggplot')):  ------- PLOT for Model 1--------------------------------------\n",
    "    y1_tp.plot.scatter(ax= axes[0][0], x=\"actual\", y=\"predic\", alpha=0.8, color = clr[i], edgecolors='k')\n",
    "    axes[0][0].plot(y1_test, np.polyval(z1, y1_test),  c='blue', linewidth=1)\n",
    "    axes[0][0].plot(y1_test, y1_test, color='green', linewidth=1)\n",
    "    axes[0][0].tick_params(axis='both', labelsize=10)\n",
    "    axes[0][0].text(0.05, 0.95, target_names[i], transform=axes[0][0].transAxes, fontsize = 20, color = clr[i])\n",
    "    axes[0][0].text(0.05, 0.90, 'IQRP ={:.2f}'.format(m1_IQRPT), transform=axes[0][0].transAxes, fontsize = 16)\n",
    "    axes[0][0].text(0.05, 0.85, 'R2 ={:.2f}'.format(np.round(score1_cv,3)), transform=axes[0][0].transAxes, fontsize = 16)\n",
    "    axes[0][0].text(0.95, 0.15, 'Method: '+method1, transform=axes[0][0].transAxes, \n",
    "                    horizontalalignment='right', fontsize = 20)\n",
    "    axes[0][0].text(0.95, 0.10, 'smoothing window={:.2f}'.format(m1_wT), transform=axes[0][0].transAxes, \n",
    "                    horizontalalignment='right', fontsize = 12)\n",
    "    if method1 == 'PLSR':\n",
    "        axes[0][0].text(0.95, 0.05, 'n_component={:.2f}'.format(m1_n_compT), transform=axes[0][0].transAxes, \n",
    "                    horizontalalignment='right', fontsize = 12)\n",
    "    \n",
    "    \n",
    "    Ny1_tp.plot.scatter(ax= axes[0][1], x=\"actual\", y=\"predic\", alpha=0.8, color = clr[i], edgecolors='k')\n",
    "    axes[0][1].plot(Ny1_test, np.polyval(z1N, Ny1_test),  c='blue', linewidth=1)\n",
    "    axes[0][1].plot(Ny1_test, Ny1_test, color='green', linewidth=1)\n",
    "    axes[0][1].tick_params(axis='both', labelsize=10)\n",
    "    axes[0][1].text(0.05, 0.95,  target_names[i]+' (Normalised)', transform=axes[0][1].transAxes,fontsize = 20, color = clr[i])\n",
    "    axes[0][1].text(0.05, 0.90, 'IQRP ={:.2f}'.format(m1_IQRPNT), transform=axes[0][1].transAxes, fontsize = 16)\n",
    "    axes[0][1].text(0.05, 0.85, 'R2 ={:.2f}'.format(np.round(score1_cvN,3)), transform=axes[0][1].transAxes, fontsize = 16)\n",
    "    axes[0][1].text(0.95, 0.15, 'Method: '+method1, transform=axes[0][1].transAxes, \n",
    "                    horizontalalignment='right', fontsize = 20)\n",
    "    axes[0][1].text(0.95, 0.10, 'smoothing window={:.2f}'.format(m1_wNT), transform=axes[0][1].transAxes, \n",
    "                    horizontalalignment='right', fontsize = 12)\n",
    "    if method1 == 'PLSR':\n",
    "        axes[0][1].text(0.95, 0.05, 'n_component={:.2f}'.format(m1_n_compNT), transform=axes[0][1].transAxes, \n",
    "                    horizontalalignment='right', fontsize = 12)\n",
    "        \n",
    "        \n",
    "        \n",
    "    #with plt.style.context(('ggplot')):  ------- PLOT for Model 2--------------------------------------\n",
    "    y2_tp.plot.scatter(ax= axes[1][0], x=\"actual\", y=\"predic\", alpha=0.8, color = clr[i], edgecolors='k')\n",
    "    axes[1][0].plot(y2_test, np.polyval(z2, y2_test),  c='blue', linewidth=1)\n",
    "    axes[1][0].plot(y2_test, y2_test, color='green', linewidth=1)\n",
    "    axes[1][0].tick_params(axis='both', labelsize=10)\n",
    "    axes[1][0].text(0.05, 0.95, target_names[i], transform=axes[1][0].transAxes, fontsize = 20, color = clr[i])\n",
    "    axes[1][0].text(0.05, 0.90, 'IQRP ={:.2f}'.format(m2_IQRPT), transform=axes[1][0].transAxes, fontsize = 16)\n",
    "    axes[1][0].text(0.05, 0.85, 'R2 ={:.2f}'.format(np.round(score2_cv,3)), transform=axes[1][0].transAxes, fontsize = 16)\n",
    "    axes[1][0].text(0.95, 0.15, 'Method: '+method2, transform=axes[1][0].transAxes, \n",
    "                    horizontalalignment='right', fontsize = 20)\n",
    "    axes[1][0].text(0.95, 0.10, 'smoothing window={:.2f}'.format(m2_wT), transform=axes[1][0].transAxes, \n",
    "                    horizontalalignment='right', fontsize = 12)\n",
    "    if method2 == 'PLSR':\n",
    "        axes[1][0].text(0.95, 0.05, 'n_component={:.2f}'.format(m2_n_compT), transform=axes[1][0].transAxes, \n",
    "                    horizontalalignment='right', fontsize = 12)\n",
    "    \n",
    "    \n",
    "    Ny2_tp.plot.scatter(ax= axes[1][1], x=\"actual\", y=\"predic\", alpha=0.8, color = clr[i], edgecolors='k')\n",
    "    axes[1][1].plot(Ny2_test, np.polyval(z2N, Ny2_test),  c='blue', linewidth=1)\n",
    "    axes[1][1].plot(Ny2_test, Ny2_test, color='green', linewidth=1)\n",
    "    axes[1][1].tick_params(axis='both', labelsize=10)\n",
    "    axes[1][1].text(0.05, 0.95,  target_names[i]+' (Normalised)', transform=axes[1][1].transAxes,fontsize = 20, color = clr[i])\n",
    "    axes[1][1].text(0.05, 0.90, 'IQRP ={:.2f}'.format(m2_IQRPNT), transform=axes[1][1].transAxes, fontsize = 16)\n",
    "    axes[1][1].text(0.05, 0.85, 'R2 ={:.2f}'.format(np.round(score2_cvN,3)), transform=axes[1][1].transAxes, fontsize = 16)\n",
    "    axes[1][1].text(0.95, 0.15, 'Method: '+method2, transform=axes[1][1].transAxes, \n",
    "                    horizontalalignment='right', fontsize = 20)\n",
    "    axes[1][1].text(0.95, 0.10, 'smoothing window={:.2f}'.format(m2_wNT), transform=axes[1][1].transAxes, \n",
    "                    horizontalalignment='right', fontsize = 12)\n",
    "    if method2 == 'PLSR':\n",
    "        axes[1][1].text(0.95, 0.05, 'n_component={:.2f}'.format(m2_n_compNT), transform=axes[1][1].transAxes, \n",
    "                    horizontalalignment='right', fontsize = 12)        \n",
    "\n",
    "# ax.text(0.95, 0.01, 'colored text in axes coords',\n",
    "#         verticalalignment='bottom', horizontalalignment='right',\n",
    "#         transform=ax.transAxes,\n",
    "#         color='green', fontsize=15)    \n",
    "\n",
    "#    fig.suptitle('Predictions on \"Test\" Data', x = 0.5 ,y = .95, fontsize=20)\n",
    "#     plt.xlim([0, 12])\n",
    "#     plt.ylim([0, 12])\n",
    "    #plt.show()\n",
    "\n",
    "ipywidgets.interact(plot_model_acc, target = target_names, method1 = ['PLSR','MULT'], method2 = ['PLSR','MULT'])"
   ]
  },
  {
   "cell_type": "code",
   "execution_count": null,
   "id": "1520cab9",
   "metadata": {},
   "outputs": [],
   "source": [
    "spectra = udf.iloc[:, 7:2158].copy()\n",
    "w1, n1, IQRP1 = best_param_PLSR (spectra, y_sand, rand_sand, 0.2, 3,20)"
   ]
  },
  {
   "cell_type": "code",
   "execution_count": null,
   "id": "03575d2f",
   "metadata": {},
   "outputs": [],
   "source": [
    "spectra = udf.iloc[:, 7:2158].copy()\n",
    "w2, n2, IQRP2 = best_param_PLSR (spectra, y_silt, rand_silt, 0.2, 3,20)  "
   ]
  },
  {
   "cell_type": "code",
   "execution_count": null,
   "id": "322350b4",
   "metadata": {},
   "outputs": [],
   "source": [
    "spectra = udf.iloc[:, 7:2158].copy()\n",
    "w3, n3, IQRP3 = best_param_PLSR (spectra, y_clay, rand_clay, 0.2, 3,20)"
   ]
  },
  {
   "cell_type": "code",
   "execution_count": null,
   "id": "5cc7e1be",
   "metadata": {},
   "outputs": [],
   "source": [
    "spectra = udf.iloc[:, 7:2158].copy()\n",
    "w4, n4, IQRP4 = best_param_PLSR (spectra, y_toc, rand_toc, 0.2, 3, 20)"
   ]
  },
  {
   "cell_type": "markdown",
   "id": "32115dae",
   "metadata": {},
   "source": [
    "# Step 4: Training the Model\n",
    "\n",
    "        - Create a linear regr object\n",
    "        - Apply fit function (using regr object) on training data\n",
    "        - Check the weights/parameters generated by fit function "
   ]
  },
  {
   "cell_type": "code",
   "execution_count": null,
   "id": "4438342c",
   "metadata": {},
   "outputs": [],
   "source": [
    "# spectra = udf.iloc[:,7:2158].copy()\n",
    "# smth_spec = sgsmooth (spectra,50)\n",
    "\n",
    "# smth_spec.iloc[1,:].plot()\n",
    "# plt.show()\n",
    "# spectra.iloc[1,:].plot()\n",
    "# plt.show()"
   ]
  },
  {
   "cell_type": "code",
   "execution_count": null,
   "id": "8a1bef02",
   "metadata": {},
   "outputs": [],
   "source": [
    "from sklearn import linear_model\n",
    "\n",
    "regSand = PLSRegression(n_components=n1, scale=True)\n",
    "regSilt = PLSRegression(n_components=n2, scale=True)\n",
    "regClay = PLSRegression(n_components=n3, scale=True)\n",
    "regTOC = PLSRegression(n_components=n4, scale=True)\n",
    "\n",
    "\n",
    "# train the model using X_train_smth and y_train (identified in previous step)\n",
    "\n",
    "XSand_train_smth = sgsmooth (XSand_train, w1)       \n",
    "regSand.fit(XSand_train_smth, ySand_train)\n",
    "\n",
    "XSilt_train_smth = sgsmooth (XSilt_train, w2)\n",
    "regSilt.fit(XSilt_train_smth, ySilt_train)\n",
    "\n",
    "XClay_train_smth = sgsmooth (XClay_train, w3)\n",
    "regClay.fit(XClay_train_smth, yClay_train)\n",
    "\n",
    "XTOC_train_smth = sgsmooth (XTOC_train, w4)\n",
    "regTOC.fit(XTOC_train_smth, yTOC_train)\n",
    "\n"
   ]
  },
  {
   "cell_type": "code",
   "execution_count": null,
   "id": "871c5cf3",
   "metadata": {},
   "outputs": [],
   "source": []
  },
  {
   "cell_type": "markdown",
   "id": "e2d8567e",
   "metadata": {},
   "source": [
    "# Step 5: Prediction on Test Data "
   ]
  },
  {
   "cell_type": "code",
   "execution_count": null,
   "id": "b4eea64c",
   "metadata": {},
   "outputs": [],
   "source": [
    "# Predition using the trained-Model on the \"Test Data\"\n",
    "\n",
    "ySand_pred = regSand.predict(XSand_test,copy=True)\n",
    "ySand_pred = np.round(ySand_pred, 2)\n",
    "\n",
    "ySilt_pred = regSilt.predict(XSilt_test,copy=True)\n",
    "ySilt_pred = np.round(ySilt_pred, 2)\n",
    "\n",
    "yClay_pred = regClay.predict(XClay_test,copy=True)\n",
    "yClay_pred = np.round(yClay_pred, 2)\n",
    "\n",
    "yTOC_pred = regTOC.predict(XTOC_test,copy=True)\n",
    "yTOC_pred = np.round(yTOC_pred, 2)\n"
   ]
  },
  {
   "cell_type": "markdown",
   "id": "75ae984f",
   "metadata": {},
   "source": [
    "# Step 6: Model Accuracy and Plots"
   ]
  },
  {
   "cell_type": "code",
   "execution_count": null,
   "id": "f53548c6",
   "metadata": {},
   "outputs": [],
   "source": [
    "# Merging actual and predicted (Test data) in one data frame for plots\n",
    "ySand_tp = pd.DataFrame({'actual':ySand_test.values, 'predic': ySand_pred[:,0]})\n",
    "# ySand_sortedA = ySand_tp.sort_values(by =['actual'])\n",
    "# ySand_srtA = ySand_sortedA.reset_index(drop=True)\n",
    "\n",
    "ySilt_tp = pd.DataFrame({'actual':ySilt_test.values, 'predic': ySilt_pred[:,0]})\n",
    "# ySilt_sortedA = ySilt_tp.sort_values(by =['actual'])\n",
    "# ySilt_srtA = ySilt_sortedA.reset_index(drop=True)\n",
    "\n",
    "yClay_tp = pd.DataFrame({'actual':yClay_test.values, 'predic': yClay_pred[:,0]})\n",
    "# yClay_sortedA = yClay_tp.sort_values(by =['actual'])\n",
    "# yClay_srtA = yClay_sortedA.reset_index(drop=True)\n",
    "\n",
    "yTOC_tp = pd.DataFrame({'actual':yTOC_test.values, 'predic': yTOC_pred[:,0]})\n",
    "# yTOC_sortedA = yTOC_tp.sort_values(by =['actual'])\n",
    "# yTOC_srtA = yTOC_sortedA.reset_index(drop=True)"
   ]
  },
  {
   "cell_type": "code",
   "execution_count": null,
   "id": "9aa86d4a",
   "metadata": {},
   "outputs": [],
   "source": [
    "# # Plots for Visualising the Model Accuracy\n",
    "#plt.style.use(['science','notebook','grid'])\n",
    "\n",
    "def plot_pred_acc (target):\n",
    "\n",
    "    fig, axes = plt.subplots(1,1, figsize=(8,7))\n",
    "\n",
    "    if target == 'sand':\n",
    "        z = np.polyfit(ySand_test, ySand_pred, 1)\n",
    "        score_cv = r2_score(ySand_test, ySand_pred)\n",
    "        with plt.style.context(('ggplot')):\n",
    "            ySand_tp.plot.scatter(ax= axes, x=\"actual\", y=\"predic\", alpha=0.8, color = balu, edgecolors='k')\n",
    "            axes.plot(np.polyval(z, ySand_test), ySand_test, c='blue', linewidth=1)\n",
    "            axes.plot(ySand_test, ySand_test, color='green', linewidth=1)\n",
    "            axes.tick_params(axis='both', labelsize=10)\n",
    "            plt.text(1, 11, 'SAND', fontsize = 20, color = balu)\n",
    "            plt.text(1, 10.2, 'IQRP ={:.2f}'.format(IQRP1), fontsize = 16)\n",
    "            plt.text(1, 9.4, 'R2 ={:.2f}'.format(np.round(score_cv,3)), fontsize = 16)\n",
    "\n",
    "    elif target == 'clay':\n",
    "        z = np.polyfit(yClay_test, yClay_pred, 1)\n",
    "        score_cv = r2_score(yClay_test, yClay_pred)\n",
    "        with plt.style.context(('ggplot')):\n",
    "            yClay_tp.plot.scatter(ax= axes, x=\"actual\", y=\"predic\", alpha=0.8, color = mati, edgecolors='k')\n",
    "            axes.plot(np.polyval(z, yClay_test), yClay_test, c='blue', linewidth=1)\n",
    "            axes.plot(yClay_test, yClay_test, color='green', linewidth=1)\n",
    "            axes.tick_params(axis='both', labelsize=10)\n",
    "            plt.text(1, 11, 'CLAY', fontsize = 20, color = mati)\n",
    "            plt.text(1, 10.2, 'IQRP ={:.2f}'.format(IQRP3), fontsize = 16)\n",
    "            plt.text(1, 9.4, 'R2 ={:.2f}'.format(np.round(score_cv,3)), fontsize = 16)\n",
    "\n",
    "        \n",
    "    elif target == 'silt':\n",
    "        z = np.polyfit(ySilt_test, ySilt_pred, 1)\n",
    "        score_cv = r2_score(ySilt_test, ySilt_pred)\n",
    "        with plt.style.context(('ggplot')):\n",
    "            ySilt_tp.plot.scatter(ax= axes, x=\"actual\", y=\"predic\", alpha=0.8, color = kado, edgecolors='k')\n",
    "            axes.plot(np.polyval(z, ySilt_test), ySilt_test, c='blue', linewidth=1)\n",
    "            axes.plot(ySilt_test, ySilt_test, color='green', linewidth=1)\n",
    "            axes.tick_params(axis='both', labelsize=10)\n",
    "            plt.text(1, 11, 'SILT', fontsize = 20, color = kado)\n",
    "            plt.text(1, 10.2, 'IQRP ={:.2f}'.format(IQRP2), fontsize = 16)\n",
    "            plt.text(1, 9.4, 'R2 ={:.2f}'.format(np.round(score_cv,3)), fontsize = 16)\n",
    "\n",
    "\n",
    "    elif target == 'TOC':\n",
    "        z = np.polyfit(yTOC_test, yTOC_pred, 1)\n",
    "        score_cv = r2_score(yTOC_test, yTOC_pred)\n",
    "        with plt.style.context(('ggplot')):\n",
    "            yTOC_tp.plot.scatter(ax= axes, x=\"actual\", y=\"predic\", alpha=0.8, color = 'green', edgecolors='k' )\n",
    "            axes.plot(np.polyval(z, yTOC_test), yTOC_test, c='blue', linewidth=1)\n",
    "            axes.plot(yTOC_test, yTOC_test, color='green', linewidth=1)\n",
    "            axes.tick_params(axis='both', labelsize=10)\n",
    "            plt.text(1, 11, 'TOC', fontsize = 20, color = 'green')\n",
    "            plt.text(1, 10.2, 'IQRP ={:.2f}'.format(IQRP4), fontsize = 16)\n",
    "            plt.text(1, 9.4, 'R2 ={:.2f}'.format(np.round(score_cv,3)), fontsize = 16)\n",
    "\n",
    "        \n",
    "    else:  \n",
    "        ySand_srtA.plot.scatter(ax= axes, x=\"actual\", y=\"predic\", alpha=0.8, color = balu)\n",
    "        axes.tick_params(axis='both', labelsize=10)\n",
    "        plt.text(3, 11, 'SAND', fontsize = 20, color = balu)\n",
    "        yClay_srtA.plot.scatter(ax= axes, x=\"actual\", y=\"predic\", alpha=0.8, color = mati)\n",
    "        axes.tick_params(axis='both', labelsize=10)\n",
    "        plt.text(3, 10, 'CLAY', fontsize = 20, color = mati)\n",
    "        ySilt_srtA.plot.scatter(ax= axes, x=\"actual\", y=\"predic\", alpha=0.8, color = kado)\n",
    "        axes.tick_params(axis='both', labelsize=10)\n",
    "        plt.text(1, 11, 'SILT', fontsize = 20, color = kado)\n",
    "        yTOC_srtA.plot.scatter(ax= axes, x=\"actual\", y=\"predic\", alpha=0.8, color = 'green')\n",
    "        axes.tick_params(axis='both', labelsize=10)\n",
    "        plt.text(1, 10, 'TOC', fontsize = 20, color = 'green')\n",
    "     \n",
    "\n",
    "    fig.suptitle('Predictions on \"Test\" Data', x = 0.5 ,y = .95, fontsize=20)\n",
    "    plt.xlim([0, 12])\n",
    "    plt.ylim([0, 12])\n",
    "    plt.show()\n",
    "\n",
    "ipywidgets.interact(plot_pred_acc, target = ['sand', 'clay', 'silt', 'TOC', 'All'])\n",
    "\n"
   ]
  },
  {
   "cell_type": "code",
   "execution_count": null,
   "id": "fbf4c57d",
   "metadata": {},
   "outputs": [],
   "source": []
  },
  {
   "cell_type": "code",
   "execution_count": null,
   "id": "d828c633",
   "metadata": {},
   "outputs": [],
   "source": []
  }
 ],
 "metadata": {
  "kernelspec": {
   "display_name": "Python 3 (ipykernel)",
   "language": "python",
   "name": "python3"
  },
  "language_info": {
   "codemirror_mode": {
    "name": "ipython",
    "version": 3
   },
   "file_extension": ".py",
   "mimetype": "text/x-python",
   "name": "python",
   "nbconvert_exporter": "python",
   "pygments_lexer": "ipython3",
   "version": "3.9.13"
  }
 },
 "nbformat": 4,
 "nbformat_minor": 5
}
