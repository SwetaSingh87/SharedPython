{
 "cells": [
  {
   "cell_type": "code",
   "execution_count": 2,
   "id": "c173cf42",
   "metadata": {},
   "outputs": [],
   "source": [
    "# !pip install openpyxl\n",
    "# !pip install imbalanced-learn\n",
    "# !pip3 install ipympl\n",
    "# !pip install import-ipynb\n",
    "# !pip install shapely\n",
    "# !pip install SciencePlots \n",
    "# !pip install seaborn\n",
    "# !pip install tqdm\n",
    "# !pip install ipywidgets"
   ]
  },
  {
   "cell_type": "code",
   "execution_count": 3,
   "id": "3ef6b01f",
   "metadata": {},
   "outputs": [],
   "source": [
    "import pandas as pd\n",
    "import numpy as np\n",
    "import matplotlib.pyplot as plt\n",
    "import seaborn as sns\n",
    "import scienceplots\n",
    "import os, sys\n",
    "from numpy import nan\n",
    "import re\n",
    "import ipympl\n",
    "# from IPython.core.display import display, HTML\n",
    "import ipywidgets\n",
    "import json\n",
    "from os import listdir\n",
    "import glob\n",
    "import math\n",
    "from IPython.display import Image, display, HTML\n",
    "from shapely.geometry import mapping\n",
    "from sklearn.cross_decomposition import PLSRegression\n",
    "from sklearn.ensemble import RandomForestRegressor\n",
    "from sklearn.model_selection import cross_val_score, train_test_split, RepeatedKFold, cross_val_predict\n",
    "from sklearn.metrics import r2_score, mean_squared_error, precision_score, recall_score, mean_absolute_error, make_scorer\n",
    "from sklearn.svm import SVR\n",
    "from sklearn.linear_model import LinearRegression\n",
    "from sklearn.kernel_ridge import KernelRidge\n",
    "from sklearn.datasets import make_regression\n",
    "from sklearn.ensemble import GradientBoostingRegressor\n",
    "from cubist import Cubist\n",
    "from sklearn.model_selection import GridSearchCV, RandomizedSearchCV, LeaveOneOut, cross_validate\n",
    "from sklearn.impute import SimpleImputer\n",
    "from tqdm.notebook import tqdm\n",
    "from sklearn.svm import SVC\n",
    "from tqdm import tqdm\n",
    "import pickle\n",
    "from imblearn.over_sampling import SMOTE\n",
    "from scipy.stats import ks_2samp\n",
    "from scipy import stats\n",
    "np.seterr(divide='ignore', invalid='ignore')\n",
    "pd.options.display.max_columns = 100\n",
    "from sklearn.preprocessing import PolynomialFeatures\n",
    "%matplotlib inline\n",
    "from scipy.signal import savgol_filter\n",
    "from scipy.spatial import ConvexHull\n",
    "from scipy.interpolate import interp1d"
   ]
  },
  {
   "cell_type": "code",
   "execution_count": 4,
   "id": "22684781",
   "metadata": {},
   "outputs": [
    {
     "name": "stdout",
     "output_type": "stream",
     "text": [
      "importing Jupyter notebook from SoilPrep.ipynb\n"
     ]
    }
   ],
   "source": [
    "import import_ipynb\n",
    "from SoilPrep import * "
   ]
  },
  {
   "cell_type": "markdown",
   "id": "237d1771",
   "metadata": {},
   "source": [
    "# Step 0: Setting up decision paramenters (Data Tree)"
   ]
  },
  {
   "cell_type": "code",
   "execution_count": 5,
   "id": "aee7c2d7",
   "metadata": {},
   "outputs": [],
   "source": [
    "# 1. Available smoothing filter types: savgol1 and savgol2 ------------------------ (1)\n",
    "sg_filters = ['sg1', 'sg2']\n",
    "\n",
    "# 2. Available window lengths for the smoothing filter ---------------------------- (2)\n",
    "window_lengths = [0, 1, 11, 21, 31, 41, 51, 61, 71, 81, 91, 101]\n",
    "\n",
    "# 3. Available preprocessing for Spectral data ------------------------------------ (3)\n",
    "prepare_spec = ['none', 'fod', 'continuum']\n",
    "#prepare_spec = ['none', 'fod', 'continuum']\n",
    "\n",
    "# 4. Number of bands available for resampling spectra ----------------------------- (4) \n",
    "nbands_sampling = [0, 5, 10, 20, 30, 40, 50, 100, 200, 500]\n",
    "\n",
    "# 5. Names of target variables in the dataframe ----------------------------------- (5)\n",
    "target_names = ['sand', 'silt', 'clay', 'TOC']\n",
    "\n",
    "# 6. Available preprocessing for Target data -------------------------------------- (6)\n",
    "prepare_target = ['none', 'minmax']\n",
    "\n",
    "# 7. Available machine learning regression models --------------------------------- (7)\n",
    "ml_methods = ['mult', 'plsr', 'randomforest', 'cubist', 'svr', 'ridge', 'gbrt']\n",
    "\n",
    "# 8. Recorded predictions on test-train data for model accuracy  ------------------ (8)\n",
    "test_train_predict = ['test', 'testP', 'train', 'trainP']"
   ]
  },
  {
   "cell_type": "markdown",
   "id": "41b42ad8",
   "metadata": {},
   "source": [
    "# Step 1a: Obtaining Spectra (Noise and Outliers removal)"
   ]
  },
  {
   "cell_type": "code",
   "execution_count": 6,
   "id": "24fbfeb7",
   "metadata": {},
   "outputs": [],
   "source": [
    "# Colour scheme definition\n",
    "kado = '#8B7355'\n",
    "mati = '#A52A2A'\n",
    "balu = '#F4A460'"
   ]
  },
  {
   "cell_type": "code",
   "execution_count": 7,
   "id": "fd41aebf",
   "metadata": {},
   "outputs": [
    {
     "data": {
      "text/html": [
       "<div>\n",
       "<style scoped>\n",
       "    .dataframe tbody tr th:only-of-type {\n",
       "        vertical-align: middle;\n",
       "    }\n",
       "\n",
       "    .dataframe tbody tr th {\n",
       "        vertical-align: top;\n",
       "    }\n",
       "\n",
       "    .dataframe thead th {\n",
       "        text-align: right;\n",
       "    }\n",
       "</style>\n",
       "<table border=\"1\" class=\"dataframe\">\n",
       "  <thead>\n",
       "    <tr style=\"text-align: right;\">\n",
       "      <th></th>\n",
       "      <th>500</th>\n",
       "      <th>501</th>\n",
       "      <th>502</th>\n",
       "      <th>503</th>\n",
       "      <th>504</th>\n",
       "      <th>505</th>\n",
       "      <th>506</th>\n",
       "      <th>507</th>\n",
       "      <th>508</th>\n",
       "      <th>509</th>\n",
       "      <th>510</th>\n",
       "      <th>511</th>\n",
       "      <th>512</th>\n",
       "      <th>513</th>\n",
       "      <th>514</th>\n",
       "      <th>515</th>\n",
       "      <th>516</th>\n",
       "      <th>517</th>\n",
       "      <th>518</th>\n",
       "      <th>519</th>\n",
       "      <th>520</th>\n",
       "      <th>521</th>\n",
       "      <th>522</th>\n",
       "      <th>523</th>\n",
       "      <th>524</th>\n",
       "      <th>525</th>\n",
       "      <th>526</th>\n",
       "      <th>527</th>\n",
       "      <th>528</th>\n",
       "      <th>529</th>\n",
       "      <th>530</th>\n",
       "      <th>531</th>\n",
       "      <th>532</th>\n",
       "      <th>533</th>\n",
       "      <th>534</th>\n",
       "      <th>535</th>\n",
       "      <th>536</th>\n",
       "      <th>537</th>\n",
       "      <th>538</th>\n",
       "      <th>539</th>\n",
       "      <th>540</th>\n",
       "      <th>541</th>\n",
       "      <th>542</th>\n",
       "      <th>543</th>\n",
       "      <th>544</th>\n",
       "      <th>545</th>\n",
       "      <th>546</th>\n",
       "      <th>547</th>\n",
       "      <th>548</th>\n",
       "      <th>549</th>\n",
       "      <th>...</th>\n",
       "      <th>2351</th>\n",
       "      <th>2352</th>\n",
       "      <th>2353</th>\n",
       "      <th>2354</th>\n",
       "      <th>2355</th>\n",
       "      <th>2356</th>\n",
       "      <th>2357</th>\n",
       "      <th>2358</th>\n",
       "      <th>2359</th>\n",
       "      <th>2360</th>\n",
       "      <th>2361</th>\n",
       "      <th>2362</th>\n",
       "      <th>2363</th>\n",
       "      <th>2364</th>\n",
       "      <th>2365</th>\n",
       "      <th>2366</th>\n",
       "      <th>2367</th>\n",
       "      <th>2368</th>\n",
       "      <th>2369</th>\n",
       "      <th>2370</th>\n",
       "      <th>2371</th>\n",
       "      <th>2372</th>\n",
       "      <th>2373</th>\n",
       "      <th>2374</th>\n",
       "      <th>2375</th>\n",
       "      <th>2376</th>\n",
       "      <th>2377</th>\n",
       "      <th>2378</th>\n",
       "      <th>2379</th>\n",
       "      <th>2380</th>\n",
       "      <th>2381</th>\n",
       "      <th>2382</th>\n",
       "      <th>2383</th>\n",
       "      <th>2384</th>\n",
       "      <th>2385</th>\n",
       "      <th>2386</th>\n",
       "      <th>2387</th>\n",
       "      <th>2388</th>\n",
       "      <th>2389</th>\n",
       "      <th>2390</th>\n",
       "      <th>2391</th>\n",
       "      <th>2392</th>\n",
       "      <th>2393</th>\n",
       "      <th>2394</th>\n",
       "      <th>2395</th>\n",
       "      <th>2396</th>\n",
       "      <th>2397</th>\n",
       "      <th>2398</th>\n",
       "      <th>2399</th>\n",
       "      <th>2400</th>\n",
       "    </tr>\n",
       "  </thead>\n",
       "  <tbody>\n",
       "    <tr>\n",
       "      <th>0</th>\n",
       "      <td>0.219696</td>\n",
       "      <td>0.220718</td>\n",
       "      <td>0.221682</td>\n",
       "      <td>0.222762</td>\n",
       "      <td>0.223911</td>\n",
       "      <td>0.225072</td>\n",
       "      <td>0.225983</td>\n",
       "      <td>0.227195</td>\n",
       "      <td>0.228434</td>\n",
       "      <td>0.229447</td>\n",
       "      <td>0.230477</td>\n",
       "      <td>0.231651</td>\n",
       "      <td>0.232982</td>\n",
       "      <td>0.234067</td>\n",
       "      <td>0.235246</td>\n",
       "      <td>0.236547</td>\n",
       "      <td>0.237816</td>\n",
       "      <td>0.238973</td>\n",
       "      <td>0.240065</td>\n",
       "      <td>0.241200</td>\n",
       "      <td>0.242471</td>\n",
       "      <td>0.243782</td>\n",
       "      <td>0.245019</td>\n",
       "      <td>0.246231</td>\n",
       "      <td>0.247492</td>\n",
       "      <td>0.248815</td>\n",
       "      <td>0.250140</td>\n",
       "      <td>0.251416</td>\n",
       "      <td>0.252683</td>\n",
       "      <td>0.253977</td>\n",
       "      <td>0.255289</td>\n",
       "      <td>0.256609</td>\n",
       "      <td>0.257936</td>\n",
       "      <td>0.259318</td>\n",
       "      <td>0.260675</td>\n",
       "      <td>0.262001</td>\n",
       "      <td>0.263489</td>\n",
       "      <td>0.264948</td>\n",
       "      <td>0.266372</td>\n",
       "      <td>0.267808</td>\n",
       "      <td>0.269245</td>\n",
       "      <td>0.270721</td>\n",
       "      <td>0.272237</td>\n",
       "      <td>0.273741</td>\n",
       "      <td>0.275277</td>\n",
       "      <td>0.276850</td>\n",
       "      <td>0.278365</td>\n",
       "      <td>0.279914</td>\n",
       "      <td>0.281544</td>\n",
       "      <td>0.283125</td>\n",
       "      <td>...</td>\n",
       "      <td>0.528987</td>\n",
       "      <td>0.530938</td>\n",
       "      <td>0.532850</td>\n",
       "      <td>0.534835</td>\n",
       "      <td>0.536737</td>\n",
       "      <td>0.538591</td>\n",
       "      <td>0.540523</td>\n",
       "      <td>0.542499</td>\n",
       "      <td>0.544354</td>\n",
       "      <td>0.546408</td>\n",
       "      <td>0.548265</td>\n",
       "      <td>0.549809</td>\n",
       "      <td>0.551226</td>\n",
       "      <td>0.552392</td>\n",
       "      <td>0.553753</td>\n",
       "      <td>0.555323</td>\n",
       "      <td>0.556546</td>\n",
       "      <td>0.557664</td>\n",
       "      <td>0.558510</td>\n",
       "      <td>0.558794</td>\n",
       "      <td>0.559227</td>\n",
       "      <td>0.559746</td>\n",
       "      <td>0.560120</td>\n",
       "      <td>0.560477</td>\n",
       "      <td>0.560730</td>\n",
       "      <td>0.560851</td>\n",
       "      <td>0.560888</td>\n",
       "      <td>0.560840</td>\n",
       "      <td>0.560849</td>\n",
       "      <td>0.560863</td>\n",
       "      <td>0.560784</td>\n",
       "      <td>0.560749</td>\n",
       "      <td>0.560581</td>\n",
       "      <td>0.560264</td>\n",
       "      <td>0.560002</td>\n",
       "      <td>0.559633</td>\n",
       "      <td>0.559214</td>\n",
       "      <td>0.558821</td>\n",
       "      <td>0.558292</td>\n",
       "      <td>0.557767</td>\n",
       "      <td>0.557408</td>\n",
       "      <td>0.557213</td>\n",
       "      <td>0.556984</td>\n",
       "      <td>0.556703</td>\n",
       "      <td>0.556366</td>\n",
       "      <td>0.555859</td>\n",
       "      <td>0.555380</td>\n",
       "      <td>0.555058</td>\n",
       "      <td>0.554763</td>\n",
       "      <td>0.554330</td>\n",
       "    </tr>\n",
       "    <tr>\n",
       "      <th>1</th>\n",
       "      <td>0.187783</td>\n",
       "      <td>0.188788</td>\n",
       "      <td>0.189796</td>\n",
       "      <td>0.190691</td>\n",
       "      <td>0.191741</td>\n",
       "      <td>0.192860</td>\n",
       "      <td>0.193714</td>\n",
       "      <td>0.194845</td>\n",
       "      <td>0.195998</td>\n",
       "      <td>0.196942</td>\n",
       "      <td>0.197932</td>\n",
       "      <td>0.199039</td>\n",
       "      <td>0.200258</td>\n",
       "      <td>0.201246</td>\n",
       "      <td>0.202282</td>\n",
       "      <td>0.203435</td>\n",
       "      <td>0.204649</td>\n",
       "      <td>0.205728</td>\n",
       "      <td>0.206735</td>\n",
       "      <td>0.207810</td>\n",
       "      <td>0.209025</td>\n",
       "      <td>0.210258</td>\n",
       "      <td>0.211392</td>\n",
       "      <td>0.212488</td>\n",
       "      <td>0.213674</td>\n",
       "      <td>0.214930</td>\n",
       "      <td>0.216065</td>\n",
       "      <td>0.217232</td>\n",
       "      <td>0.218440</td>\n",
       "      <td>0.219600</td>\n",
       "      <td>0.220764</td>\n",
       "      <td>0.221956</td>\n",
       "      <td>0.223190</td>\n",
       "      <td>0.224454</td>\n",
       "      <td>0.225650</td>\n",
       "      <td>0.226782</td>\n",
       "      <td>0.228110</td>\n",
       "      <td>0.229408</td>\n",
       "      <td>0.230653</td>\n",
       "      <td>0.231906</td>\n",
       "      <td>0.233210</td>\n",
       "      <td>0.234532</td>\n",
       "      <td>0.235775</td>\n",
       "      <td>0.237029</td>\n",
       "      <td>0.238316</td>\n",
       "      <td>0.239613</td>\n",
       "      <td>0.240900</td>\n",
       "      <td>0.242202</td>\n",
       "      <td>0.243545</td>\n",
       "      <td>0.244887</td>\n",
       "      <td>...</td>\n",
       "      <td>0.460117</td>\n",
       "      <td>0.462621</td>\n",
       "      <td>0.465095</td>\n",
       "      <td>0.467602</td>\n",
       "      <td>0.470150</td>\n",
       "      <td>0.472715</td>\n",
       "      <td>0.475381</td>\n",
       "      <td>0.478245</td>\n",
       "      <td>0.480901</td>\n",
       "      <td>0.483715</td>\n",
       "      <td>0.486337</td>\n",
       "      <td>0.488608</td>\n",
       "      <td>0.490808</td>\n",
       "      <td>0.492912</td>\n",
       "      <td>0.494985</td>\n",
       "      <td>0.497080</td>\n",
       "      <td>0.498973</td>\n",
       "      <td>0.500710</td>\n",
       "      <td>0.502163</td>\n",
       "      <td>0.503260</td>\n",
       "      <td>0.504325</td>\n",
       "      <td>0.505288</td>\n",
       "      <td>0.506098</td>\n",
       "      <td>0.506824</td>\n",
       "      <td>0.507423</td>\n",
       "      <td>0.507750</td>\n",
       "      <td>0.508102</td>\n",
       "      <td>0.508479</td>\n",
       "      <td>0.508781</td>\n",
       "      <td>0.509077</td>\n",
       "      <td>0.509369</td>\n",
       "      <td>0.509536</td>\n",
       "      <td>0.509571</td>\n",
       "      <td>0.509527</td>\n",
       "      <td>0.509381</td>\n",
       "      <td>0.509154</td>\n",
       "      <td>0.509002</td>\n",
       "      <td>0.508859</td>\n",
       "      <td>0.508654</td>\n",
       "      <td>0.508430</td>\n",
       "      <td>0.508150</td>\n",
       "      <td>0.507865</td>\n",
       "      <td>0.507586</td>\n",
       "      <td>0.507207</td>\n",
       "      <td>0.506834</td>\n",
       "      <td>0.506487</td>\n",
       "      <td>0.506097</td>\n",
       "      <td>0.505641</td>\n",
       "      <td>0.505250</td>\n",
       "      <td>0.504820</td>\n",
       "    </tr>\n",
       "    <tr>\n",
       "      <th>2</th>\n",
       "      <td>0.165603</td>\n",
       "      <td>0.166606</td>\n",
       "      <td>0.167606</td>\n",
       "      <td>0.168545</td>\n",
       "      <td>0.169584</td>\n",
       "      <td>0.170685</td>\n",
       "      <td>0.171606</td>\n",
       "      <td>0.172728</td>\n",
       "      <td>0.173862</td>\n",
       "      <td>0.174827</td>\n",
       "      <td>0.175771</td>\n",
       "      <td>0.176913</td>\n",
       "      <td>0.178225</td>\n",
       "      <td>0.179122</td>\n",
       "      <td>0.180132</td>\n",
       "      <td>0.181309</td>\n",
       "      <td>0.182467</td>\n",
       "      <td>0.183550</td>\n",
       "      <td>0.184579</td>\n",
       "      <td>0.185635</td>\n",
       "      <td>0.186868</td>\n",
       "      <td>0.188132</td>\n",
       "      <td>0.189288</td>\n",
       "      <td>0.190384</td>\n",
       "      <td>0.191511</td>\n",
       "      <td>0.192711</td>\n",
       "      <td>0.193982</td>\n",
       "      <td>0.195140</td>\n",
       "      <td>0.196240</td>\n",
       "      <td>0.197401</td>\n",
       "      <td>0.198585</td>\n",
       "      <td>0.199772</td>\n",
       "      <td>0.200951</td>\n",
       "      <td>0.202163</td>\n",
       "      <td>0.203339</td>\n",
       "      <td>0.204486</td>\n",
       "      <td>0.205816</td>\n",
       "      <td>0.207072</td>\n",
       "      <td>0.208248</td>\n",
       "      <td>0.209476</td>\n",
       "      <td>0.210717</td>\n",
       "      <td>0.211974</td>\n",
       "      <td>0.213223</td>\n",
       "      <td>0.214438</td>\n",
       "      <td>0.215646</td>\n",
       "      <td>0.216856</td>\n",
       "      <td>0.218078</td>\n",
       "      <td>0.219319</td>\n",
       "      <td>0.220595</td>\n",
       "      <td>0.221881</td>\n",
       "      <td>...</td>\n",
       "      <td>0.293886</td>\n",
       "      <td>0.295451</td>\n",
       "      <td>0.297061</td>\n",
       "      <td>0.298779</td>\n",
       "      <td>0.300473</td>\n",
       "      <td>0.302255</td>\n",
       "      <td>0.303971</td>\n",
       "      <td>0.305683</td>\n",
       "      <td>0.307329</td>\n",
       "      <td>0.309024</td>\n",
       "      <td>0.310630</td>\n",
       "      <td>0.312102</td>\n",
       "      <td>0.313447</td>\n",
       "      <td>0.314723</td>\n",
       "      <td>0.315887</td>\n",
       "      <td>0.316964</td>\n",
       "      <td>0.317921</td>\n",
       "      <td>0.318633</td>\n",
       "      <td>0.319301</td>\n",
       "      <td>0.319886</td>\n",
       "      <td>0.320333</td>\n",
       "      <td>0.320726</td>\n",
       "      <td>0.320994</td>\n",
       "      <td>0.321101</td>\n",
       "      <td>0.321141</td>\n",
       "      <td>0.320984</td>\n",
       "      <td>0.320895</td>\n",
       "      <td>0.320859</td>\n",
       "      <td>0.320782</td>\n",
       "      <td>0.320510</td>\n",
       "      <td>0.320220</td>\n",
       "      <td>0.319724</td>\n",
       "      <td>0.319154</td>\n",
       "      <td>0.318653</td>\n",
       "      <td>0.318137</td>\n",
       "      <td>0.317584</td>\n",
       "      <td>0.316948</td>\n",
       "      <td>0.316324</td>\n",
       "      <td>0.315672</td>\n",
       "      <td>0.314978</td>\n",
       "      <td>0.314146</td>\n",
       "      <td>0.313320</td>\n",
       "      <td>0.312549</td>\n",
       "      <td>0.311700</td>\n",
       "      <td>0.310928</td>\n",
       "      <td>0.310244</td>\n",
       "      <td>0.309595</td>\n",
       "      <td>0.308888</td>\n",
       "      <td>0.308181</td>\n",
       "      <td>0.307299</td>\n",
       "    </tr>\n",
       "    <tr>\n",
       "      <th>3</th>\n",
       "      <td>0.258894</td>\n",
       "      <td>0.260033</td>\n",
       "      <td>0.261232</td>\n",
       "      <td>0.262371</td>\n",
       "      <td>0.263599</td>\n",
       "      <td>0.264844</td>\n",
       "      <td>0.265754</td>\n",
       "      <td>0.267021</td>\n",
       "      <td>0.268392</td>\n",
       "      <td>0.269578</td>\n",
       "      <td>0.270728</td>\n",
       "      <td>0.271973</td>\n",
       "      <td>0.273376</td>\n",
       "      <td>0.274612</td>\n",
       "      <td>0.275852</td>\n",
       "      <td>0.277160</td>\n",
       "      <td>0.278517</td>\n",
       "      <td>0.279843</td>\n",
       "      <td>0.281097</td>\n",
       "      <td>0.282317</td>\n",
       "      <td>0.283717</td>\n",
       "      <td>0.285161</td>\n",
       "      <td>0.286502</td>\n",
       "      <td>0.287831</td>\n",
       "      <td>0.289182</td>\n",
       "      <td>0.290585</td>\n",
       "      <td>0.292071</td>\n",
       "      <td>0.293412</td>\n",
       "      <td>0.294704</td>\n",
       "      <td>0.296116</td>\n",
       "      <td>0.297506</td>\n",
       "      <td>0.298905</td>\n",
       "      <td>0.300361</td>\n",
       "      <td>0.301824</td>\n",
       "      <td>0.303245</td>\n",
       "      <td>0.304631</td>\n",
       "      <td>0.306135</td>\n",
       "      <td>0.307635</td>\n",
       "      <td>0.309125</td>\n",
       "      <td>0.310584</td>\n",
       "      <td>0.312084</td>\n",
       "      <td>0.313623</td>\n",
       "      <td>0.315119</td>\n",
       "      <td>0.316595</td>\n",
       "      <td>0.318116</td>\n",
       "      <td>0.319678</td>\n",
       "      <td>0.321119</td>\n",
       "      <td>0.322629</td>\n",
       "      <td>0.324289</td>\n",
       "      <td>0.325896</td>\n",
       "      <td>...</td>\n",
       "      <td>0.488263</td>\n",
       "      <td>0.490756</td>\n",
       "      <td>0.493272</td>\n",
       "      <td>0.495855</td>\n",
       "      <td>0.498441</td>\n",
       "      <td>0.501130</td>\n",
       "      <td>0.503797</td>\n",
       "      <td>0.506493</td>\n",
       "      <td>0.509112</td>\n",
       "      <td>0.511922</td>\n",
       "      <td>0.514517</td>\n",
       "      <td>0.516820</td>\n",
       "      <td>0.519022</td>\n",
       "      <td>0.521089</td>\n",
       "      <td>0.523098</td>\n",
       "      <td>0.525139</td>\n",
       "      <td>0.526950</td>\n",
       "      <td>0.528498</td>\n",
       "      <td>0.529838</td>\n",
       "      <td>0.530912</td>\n",
       "      <td>0.531866</td>\n",
       "      <td>0.532648</td>\n",
       "      <td>0.533371</td>\n",
       "      <td>0.533968</td>\n",
       "      <td>0.534490</td>\n",
       "      <td>0.534928</td>\n",
       "      <td>0.535253</td>\n",
       "      <td>0.535459</td>\n",
       "      <td>0.535783</td>\n",
       "      <td>0.535840</td>\n",
       "      <td>0.535877</td>\n",
       "      <td>0.535990</td>\n",
       "      <td>0.535914</td>\n",
       "      <td>0.535973</td>\n",
       "      <td>0.536102</td>\n",
       "      <td>0.535930</td>\n",
       "      <td>0.535746</td>\n",
       "      <td>0.535411</td>\n",
       "      <td>0.534900</td>\n",
       "      <td>0.534548</td>\n",
       "      <td>0.534110</td>\n",
       "      <td>0.533735</td>\n",
       "      <td>0.533484</td>\n",
       "      <td>0.533093</td>\n",
       "      <td>0.532717</td>\n",
       "      <td>0.532423</td>\n",
       "      <td>0.532059</td>\n",
       "      <td>0.531621</td>\n",
       "      <td>0.531327</td>\n",
       "      <td>0.530812</td>\n",
       "    </tr>\n",
       "    <tr>\n",
       "      <th>4</th>\n",
       "      <td>0.094636</td>\n",
       "      <td>0.095097</td>\n",
       "      <td>0.095510</td>\n",
       "      <td>0.096142</td>\n",
       "      <td>0.096690</td>\n",
       "      <td>0.097173</td>\n",
       "      <td>0.097607</td>\n",
       "      <td>0.098273</td>\n",
       "      <td>0.098904</td>\n",
       "      <td>0.099322</td>\n",
       "      <td>0.099843</td>\n",
       "      <td>0.100478</td>\n",
       "      <td>0.101165</td>\n",
       "      <td>0.101590</td>\n",
       "      <td>0.102151</td>\n",
       "      <td>0.102836</td>\n",
       "      <td>0.103426</td>\n",
       "      <td>0.104015</td>\n",
       "      <td>0.104552</td>\n",
       "      <td>0.105025</td>\n",
       "      <td>0.105758</td>\n",
       "      <td>0.106476</td>\n",
       "      <td>0.107006</td>\n",
       "      <td>0.107597</td>\n",
       "      <td>0.108214</td>\n",
       "      <td>0.108849</td>\n",
       "      <td>0.109514</td>\n",
       "      <td>0.110105</td>\n",
       "      <td>0.110670</td>\n",
       "      <td>0.111302</td>\n",
       "      <td>0.111929</td>\n",
       "      <td>0.112549</td>\n",
       "      <td>0.113169</td>\n",
       "      <td>0.113786</td>\n",
       "      <td>0.114366</td>\n",
       "      <td>0.114948</td>\n",
       "      <td>0.115763</td>\n",
       "      <td>0.116463</td>\n",
       "      <td>0.117040</td>\n",
       "      <td>0.117727</td>\n",
       "      <td>0.118449</td>\n",
       "      <td>0.119169</td>\n",
       "      <td>0.119845</td>\n",
       "      <td>0.120538</td>\n",
       "      <td>0.121241</td>\n",
       "      <td>0.121925</td>\n",
       "      <td>0.122585</td>\n",
       "      <td>0.123269</td>\n",
       "      <td>0.124012</td>\n",
       "      <td>0.124778</td>\n",
       "      <td>...</td>\n",
       "      <td>0.396039</td>\n",
       "      <td>0.396854</td>\n",
       "      <td>0.397730</td>\n",
       "      <td>0.398695</td>\n",
       "      <td>0.399656</td>\n",
       "      <td>0.400719</td>\n",
       "      <td>0.401691</td>\n",
       "      <td>0.402629</td>\n",
       "      <td>0.403551</td>\n",
       "      <td>0.404527</td>\n",
       "      <td>0.405446</td>\n",
       "      <td>0.406320</td>\n",
       "      <td>0.406979</td>\n",
       "      <td>0.407481</td>\n",
       "      <td>0.407969</td>\n",
       "      <td>0.408339</td>\n",
       "      <td>0.408692</td>\n",
       "      <td>0.408942</td>\n",
       "      <td>0.409104</td>\n",
       "      <td>0.409146</td>\n",
       "      <td>0.409183</td>\n",
       "      <td>0.409274</td>\n",
       "      <td>0.409210</td>\n",
       "      <td>0.409034</td>\n",
       "      <td>0.408882</td>\n",
       "      <td>0.408613</td>\n",
       "      <td>0.408346</td>\n",
       "      <td>0.408172</td>\n",
       "      <td>0.408006</td>\n",
       "      <td>0.407627</td>\n",
       "      <td>0.407293</td>\n",
       "      <td>0.406988</td>\n",
       "      <td>0.406642</td>\n",
       "      <td>0.406345</td>\n",
       "      <td>0.406018</td>\n",
       "      <td>0.405552</td>\n",
       "      <td>0.405078</td>\n",
       "      <td>0.404654</td>\n",
       "      <td>0.404259</td>\n",
       "      <td>0.403936</td>\n",
       "      <td>0.403567</td>\n",
       "      <td>0.403306</td>\n",
       "      <td>0.403156</td>\n",
       "      <td>0.402824</td>\n",
       "      <td>0.402445</td>\n",
       "      <td>0.401975</td>\n",
       "      <td>0.401428</td>\n",
       "      <td>0.400986</td>\n",
       "      <td>0.400618</td>\n",
       "      <td>0.400252</td>\n",
       "    </tr>\n",
       "  </tbody>\n",
       "</table>\n",
       "<p>5 rows × 1901 columns</p>\n",
       "</div>"
      ],
      "text/plain": [
       "        500       501       502       503       504       505       506  \\\n",
       "0  0.219696  0.220718  0.221682  0.222762  0.223911  0.225072  0.225983   \n",
       "1  0.187783  0.188788  0.189796  0.190691  0.191741  0.192860  0.193714   \n",
       "2  0.165603  0.166606  0.167606  0.168545  0.169584  0.170685  0.171606   \n",
       "3  0.258894  0.260033  0.261232  0.262371  0.263599  0.264844  0.265754   \n",
       "4  0.094636  0.095097  0.095510  0.096142  0.096690  0.097173  0.097607   \n",
       "\n",
       "        507       508       509       510       511       512       513  \\\n",
       "0  0.227195  0.228434  0.229447  0.230477  0.231651  0.232982  0.234067   \n",
       "1  0.194845  0.195998  0.196942  0.197932  0.199039  0.200258  0.201246   \n",
       "2  0.172728  0.173862  0.174827  0.175771  0.176913  0.178225  0.179122   \n",
       "3  0.267021  0.268392  0.269578  0.270728  0.271973  0.273376  0.274612   \n",
       "4  0.098273  0.098904  0.099322  0.099843  0.100478  0.101165  0.101590   \n",
       "\n",
       "        514       515       516       517       518       519       520  \\\n",
       "0  0.235246  0.236547  0.237816  0.238973  0.240065  0.241200  0.242471   \n",
       "1  0.202282  0.203435  0.204649  0.205728  0.206735  0.207810  0.209025   \n",
       "2  0.180132  0.181309  0.182467  0.183550  0.184579  0.185635  0.186868   \n",
       "3  0.275852  0.277160  0.278517  0.279843  0.281097  0.282317  0.283717   \n",
       "4  0.102151  0.102836  0.103426  0.104015  0.104552  0.105025  0.105758   \n",
       "\n",
       "        521       522       523       524       525       526       527  \\\n",
       "0  0.243782  0.245019  0.246231  0.247492  0.248815  0.250140  0.251416   \n",
       "1  0.210258  0.211392  0.212488  0.213674  0.214930  0.216065  0.217232   \n",
       "2  0.188132  0.189288  0.190384  0.191511  0.192711  0.193982  0.195140   \n",
       "3  0.285161  0.286502  0.287831  0.289182  0.290585  0.292071  0.293412   \n",
       "4  0.106476  0.107006  0.107597  0.108214  0.108849  0.109514  0.110105   \n",
       "\n",
       "        528       529       530       531       532       533       534  \\\n",
       "0  0.252683  0.253977  0.255289  0.256609  0.257936  0.259318  0.260675   \n",
       "1  0.218440  0.219600  0.220764  0.221956  0.223190  0.224454  0.225650   \n",
       "2  0.196240  0.197401  0.198585  0.199772  0.200951  0.202163  0.203339   \n",
       "3  0.294704  0.296116  0.297506  0.298905  0.300361  0.301824  0.303245   \n",
       "4  0.110670  0.111302  0.111929  0.112549  0.113169  0.113786  0.114366   \n",
       "\n",
       "        535       536       537       538       539       540       541  \\\n",
       "0  0.262001  0.263489  0.264948  0.266372  0.267808  0.269245  0.270721   \n",
       "1  0.226782  0.228110  0.229408  0.230653  0.231906  0.233210  0.234532   \n",
       "2  0.204486  0.205816  0.207072  0.208248  0.209476  0.210717  0.211974   \n",
       "3  0.304631  0.306135  0.307635  0.309125  0.310584  0.312084  0.313623   \n",
       "4  0.114948  0.115763  0.116463  0.117040  0.117727  0.118449  0.119169   \n",
       "\n",
       "        542       543       544       545       546       547       548  \\\n",
       "0  0.272237  0.273741  0.275277  0.276850  0.278365  0.279914  0.281544   \n",
       "1  0.235775  0.237029  0.238316  0.239613  0.240900  0.242202  0.243545   \n",
       "2  0.213223  0.214438  0.215646  0.216856  0.218078  0.219319  0.220595   \n",
       "3  0.315119  0.316595  0.318116  0.319678  0.321119  0.322629  0.324289   \n",
       "4  0.119845  0.120538  0.121241  0.121925  0.122585  0.123269  0.124012   \n",
       "\n",
       "        549  ...      2351      2352      2353      2354      2355      2356  \\\n",
       "0  0.283125  ...  0.528987  0.530938  0.532850  0.534835  0.536737  0.538591   \n",
       "1  0.244887  ...  0.460117  0.462621  0.465095  0.467602  0.470150  0.472715   \n",
       "2  0.221881  ...  0.293886  0.295451  0.297061  0.298779  0.300473  0.302255   \n",
       "3  0.325896  ...  0.488263  0.490756  0.493272  0.495855  0.498441  0.501130   \n",
       "4  0.124778  ...  0.396039  0.396854  0.397730  0.398695  0.399656  0.400719   \n",
       "\n",
       "       2357      2358      2359      2360      2361      2362      2363  \\\n",
       "0  0.540523  0.542499  0.544354  0.546408  0.548265  0.549809  0.551226   \n",
       "1  0.475381  0.478245  0.480901  0.483715  0.486337  0.488608  0.490808   \n",
       "2  0.303971  0.305683  0.307329  0.309024  0.310630  0.312102  0.313447   \n",
       "3  0.503797  0.506493  0.509112  0.511922  0.514517  0.516820  0.519022   \n",
       "4  0.401691  0.402629  0.403551  0.404527  0.405446  0.406320  0.406979   \n",
       "\n",
       "       2364      2365      2366      2367      2368      2369      2370  \\\n",
       "0  0.552392  0.553753  0.555323  0.556546  0.557664  0.558510  0.558794   \n",
       "1  0.492912  0.494985  0.497080  0.498973  0.500710  0.502163  0.503260   \n",
       "2  0.314723  0.315887  0.316964  0.317921  0.318633  0.319301  0.319886   \n",
       "3  0.521089  0.523098  0.525139  0.526950  0.528498  0.529838  0.530912   \n",
       "4  0.407481  0.407969  0.408339  0.408692  0.408942  0.409104  0.409146   \n",
       "\n",
       "       2371      2372      2373      2374      2375      2376      2377  \\\n",
       "0  0.559227  0.559746  0.560120  0.560477  0.560730  0.560851  0.560888   \n",
       "1  0.504325  0.505288  0.506098  0.506824  0.507423  0.507750  0.508102   \n",
       "2  0.320333  0.320726  0.320994  0.321101  0.321141  0.320984  0.320895   \n",
       "3  0.531866  0.532648  0.533371  0.533968  0.534490  0.534928  0.535253   \n",
       "4  0.409183  0.409274  0.409210  0.409034  0.408882  0.408613  0.408346   \n",
       "\n",
       "       2378      2379      2380      2381      2382      2383      2384  \\\n",
       "0  0.560840  0.560849  0.560863  0.560784  0.560749  0.560581  0.560264   \n",
       "1  0.508479  0.508781  0.509077  0.509369  0.509536  0.509571  0.509527   \n",
       "2  0.320859  0.320782  0.320510  0.320220  0.319724  0.319154  0.318653   \n",
       "3  0.535459  0.535783  0.535840  0.535877  0.535990  0.535914  0.535973   \n",
       "4  0.408172  0.408006  0.407627  0.407293  0.406988  0.406642  0.406345   \n",
       "\n",
       "       2385      2386      2387      2388      2389      2390      2391  \\\n",
       "0  0.560002  0.559633  0.559214  0.558821  0.558292  0.557767  0.557408   \n",
       "1  0.509381  0.509154  0.509002  0.508859  0.508654  0.508430  0.508150   \n",
       "2  0.318137  0.317584  0.316948  0.316324  0.315672  0.314978  0.314146   \n",
       "3  0.536102  0.535930  0.535746  0.535411  0.534900  0.534548  0.534110   \n",
       "4  0.406018  0.405552  0.405078  0.404654  0.404259  0.403936  0.403567   \n",
       "\n",
       "       2392      2393      2394      2395      2396      2397      2398  \\\n",
       "0  0.557213  0.556984  0.556703  0.556366  0.555859  0.555380  0.555058   \n",
       "1  0.507865  0.507586  0.507207  0.506834  0.506487  0.506097  0.505641   \n",
       "2  0.313320  0.312549  0.311700  0.310928  0.310244  0.309595  0.308888   \n",
       "3  0.533735  0.533484  0.533093  0.532717  0.532423  0.532059  0.531621   \n",
       "4  0.403306  0.403156  0.402824  0.402445  0.401975  0.401428  0.400986   \n",
       "\n",
       "       2399      2400  \n",
       "0  0.554763  0.554330  \n",
       "1  0.505250  0.504820  \n",
       "2  0.308181  0.307299  \n",
       "3  0.531327  0.530812  \n",
       "4  0.400618  0.400252  \n",
       "\n",
       "[5 rows x 1901 columns]"
      ]
     },
     "execution_count": 7,
     "metadata": {},
     "output_type": "execute_result"
    }
   ],
   "source": [
    "df = pd.read_csv('uae.csv')\n",
    "spectra = df.iloc[:, 7:2158].copy()\n",
    "temp_spec = spectra.copy()\n",
    "spectra = temp_spec.iloc[:,150:2051].copy()\n",
    "spectra.head(5)"
   ]
  },
  {
   "cell_type": "code",
   "execution_count": 8,
   "id": "76185608",
   "metadata": {},
   "outputs": [],
   "source": [
    "# for i in range (0,5,1):\n",
    "#     spectra.iloc[i,:].plot()"
   ]
  },
  {
   "cell_type": "markdown",
   "id": "e1acff7d",
   "metadata": {},
   "source": [
    "# Step 1b: Obtaining Targets (Outliers removal and Normalization)"
   ]
  },
  {
   "cell_type": "code",
   "execution_count": 9,
   "id": "58ad22bd",
   "metadata": {},
   "outputs": [],
   "source": [
    "df = pd.read_csv('uae.csv')\n",
    "# ------------- Target Isolation ----------------------\n",
    "\n",
    "clr = ['#F4A460', '#8B7355', '#A52A2A', 'green']\n",
    "\n",
    "def isolate_targets(df, target_names):\n",
    "    T=[]\n",
    "    for i in range (0,len(target_names)):\n",
    "        T.append(df[target_names[i]])\n",
    "    return(T)\n",
    "    \n",
    "T = isolate_targets(df,target_names) \n",
    "\n",
    "\n",
    "def normalize_targets(T):          \n",
    "    NT =[]\n",
    "    for i in range(0, len(T)):\n",
    "        NT.append(min_max_normal(T[i].copy()))\n",
    "    return(NT)\n",
    "\n",
    "NT = normalize_targets(T)\n"
   ]
  },
  {
   "cell_type": "markdown",
   "id": "8cd5b13f",
   "metadata": {},
   "source": [
    "# Step 1c: Spectra Preprocessing (Smooth, FOD/Contin, and Resample)"
   ]
  },
  {
   "cell_type": "markdown",
   "id": "b7aae8ec",
   "metadata": {},
   "source": [
    "## Savgol smoothing (order 1 and order 2)"
   ]
  },
  {
   "cell_type": "code",
   "execution_count": 10,
   "id": "99baabb8",
   "metadata": {},
   "outputs": [],
   "source": [
    "# -------------- Smoothed Spectra spec1 (savgol order 1) and spec2 (savgol order 2)  -----------\n",
    "\n",
    "spec1 = {}\n",
    "for i in window_lengths:\n",
    "    spec1[i] = filt_sg(spectra, i, 'sg1')                   \n",
    "\n",
    "spec2 = {}\n",
    "for i in window_lengths:\n",
    "    spec2[i] = filt_sg(spectra, i, 'sg2')\n",
    "\n",
    "smth_spec = sgsmooth (spectra, 3)    "
   ]
  },
  {
   "cell_type": "code",
   "execution_count": 12,
   "id": "1d197c85",
   "metadata": {},
   "outputs": [
    {
     "data": {
      "image/png": "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\n",
      "text/plain": [
       "<Figure size 432x288 with 1 Axes>"
      ]
     },
     "metadata": {
      "needs_background": "light"
     },
     "output_type": "display_data"
    }
   ],
   "source": [
    "for i in range (0,50,1):\n",
    "    spec2[51].iloc[i,:].plot()"
   ]
  },
  {
   "cell_type": "markdown",
   "id": "f253386c",
   "metadata": {},
   "source": [
    "## First Order Derivative"
   ]
  },
  {
   "cell_type": "code",
   "execution_count": 13,
   "id": "385ba98c",
   "metadata": {},
   "outputs": [
    {
     "data": {
      "image/png": "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\n",
      "text/plain": [
       "<Figure size 432x288 with 1 Axes>"
      ]
     },
     "metadata": {
      "needs_background": "light"
     },
     "output_type": "display_data"
    }
   ],
   "source": [
    "fod_spec = fod(smth_spec)\n",
    "\n",
    "for i in range (0,5,1):\n",
    "    fod_spec.iloc[i,:].plot()\n"
   ]
  },
  {
   "cell_type": "markdown",
   "id": "8f55420f",
   "metadata": {},
   "source": [
    "## Continuum Removal"
   ]
  },
  {
   "cell_type": "code",
   "execution_count": 14,
   "id": "e800b1b8",
   "metadata": {},
   "outputs": [
    {
     "data": {
      "image/png": "iVBORw0KGgoAAAANSUhEUgAAAXoAAAD4CAYAAADiry33AAAAOXRFWHRTb2Z0d2FyZQBNYXRwbG90bGliIHZlcnNpb24zLjcuMSwgaHR0cHM6Ly9tYXRwbG90bGliLm9yZy/bCgiHAAAACXBIWXMAAAsTAAALEwEAmpwYAABZxUlEQVR4nO2dd5wcR5m/n+rJcXNOWuWck5Et54jjYWMMJph8HHfHkc53/A44H+GAgyODDdhHso0D4IAjtnGWrZzDrla72pzTzE7q7vr90aPVJkm72tkgqZ7PZ6TZ6qqed2d6v1P91lvvK6SUKBQKheLsRZtqAxQKhUIxsSihVygUirMcJfQKhUJxlqOEXqFQKM5ylNArFArFWY59qg0YSnZ2tpwxY8ZUm6FQKBRnFFu3bm2TUuaMdGzaCf2MGTPYsmXLVJuhUCgUZxRCiJoTHVOuG4VCoTjLUUKvUCgUZzlK6BUKheIsRwm9QqFQnOUooVcoFIqzHCX0CoVCcZajhF6hUCjOcpTQKxSKCaMh1MB9e+5jf/v+qTblnGbabZhSKBRnB32JPj70zIdoDDfitrn5/Tt/z9yMuVNt1jmJmtErFIoJ4YnDT9AYbuS/L/hvfA4fX3n9K6hCR1ODEnqFQpFyjuxqo+HnPs6LXsk15dfwzyv/mT3te3i1/tWpNu2cRAm9QqFIOVufOYIz6mXJkYsRQnDtrGvJcmfxx4o/TrVp5yRK6BUKRUqJhhM0H+klagujdXnoaY/g0BxcM/MaXq57ma5o11SbeM6hhF6hUKSUzsYwSNhR9CIAjRVdAFw38zp0U+eFoy9MoXXnJkroFQpFSuls7gPgaNZu7C6N5ppeAOZnzifXm8vrDa9PpXnnJEroFQpFSulq6sPUDAI5HrIK/bTXhQAQQvCOwnewqXETuqlPsZXnFkroFQpFSgl1xYi5Q5QGS8gu9tNeH+oPq9xQtIHeeC972vZMsZXnFkroFQpFSunridNr76IkUEJWkZ9Yn064KwbAeQXnoQmNNxremGIrzy2U0CsUipQS7okSsneR480hPc8LQFdLBIA0VxrzM+eztXnrVJp4zqGEXqFQpJS+7hgRRy9Z7izScjwA9LRG+o+vyF3B7rbdJMzEVJl4zqGEXqFQpAzDMIn3mfQ5esn2ZOPPdKPZBN2tff19lucsJ6JHONR5aAotPbdQQq9QKFJGpMeapfc5e8jyZKFpgmC2h+4BM/rlucsB2NGyYwosPDdRQq9QKFJGpDdu/Z+c0QOk5QwW+nxfPvm+fCX0k4gSeoVCkTJifdaMPm6LkOHOACCYFPqBmSuX5yxnR+uOqTDxnEQJvUKhSBnxqAGA02PHoTkACGa5SUQN4pHjm6SW5SyjKdxES1/LlNh5rqGEXqFQpIx41BJzl8fR3+bPcAPQ2xHtb5ufOR+Agx0HJ9G6cxcl9AqFImUcm7V7vM7+tkBWUujbjwv9vMx5ABzsVEI/GSihVygUKSMesVw3Pq+nvy2QeWxGHzve5gxQ7C9WtWQnCSX0CoUiZcSjOoamE/D4+9s8AQc2hzbIdQOW+0bN6CcHJfQKhSJlxKMGCVuUoDPY3yaEIJDpHuS6Act9c7TnKOFEeLLNPOcYldALIa4SQhwUQlQKIe4c4fhnhRD7hBC7hBAvCCHKBhz7oBCiIvn4YCqNVygU04t4RCdmixB0BQe1BzJdw2b0czPmIpFUdlVOponnJKcUeiGEDfgJcDWwELhNCLFwSLftwGop5VLgEeDbybGZwFeAdcBa4CtCiIzUma9QKKYTkUiM+JAZPYA/001oiNDPTJsJwJHuI5Nm37nKaGb0a4FKKWWVlDIOPAjcMLCDlPIlKeWxZBabgOLk8yuB56WUHVLKTuB54KrUmK5QKKYb0b74iEIfyHTT1xNHTxj9bUWBIuyaXQn9JDAaoS8Cagf8XJdsOxEfAZ4ey1ghxMeFEFuEEFtaW1tHYZJCoZiORCMJS+iHum6SIZahAZE3Ds1BaaCU6u7qyTTxnCSli7FCiNuB1cB3xjJOSnmPlHK1lHJ1Tk5OKk1SKBSTSCJqkLDF8Dv8g9oDxzZNdQ5235SnlXOkR83oJ5rRCH09UDLg5+Jk2yCEEJcBXwKul1LGxjJWoVCcHRgJE12L4XV4B7WPtGkKLKGv7alVueknmNEI/WZgjhCiXAjhBN4DPD6wgxBiBXA3lsgPTF7xLHCFECIjuQh7RbJNoVCchZgJia4l8NoHC70vwwWCYZE35Wnl6FKnrrduMs085zil0EspdeDTWAK9H3hISrlXCHGXEOL6ZLfvAH7gYSHEDiHE48mxHcB/YX1ZbAbuSrYpFIqzEDMBui0xbEZvs2n40lzDIm/Kg+WAiryZaOyj6SSlfAp4akjblwc8v+wkY+8F7j1dAxUKxZmBYZhgCnQtPmxGD1bkzdAZ/Yy0GYAS+olG7YxVKBQpwYibAJbQO0YSetcwH33AGSDbk011T/VkmHjOooReoVCkhETcipE3bQZOzTnseCDLTagzhjTloPYifxENoYZJsfFcRQm9QqFICUbCmtFrdoEQYtjxQKYb05D09cQHtRf6C6kPqWC8iUQJvUKhSAnHZvS24ZN5wEqDAMMjb4r8RTSHmzFMY6RhihSghF6hUKQEPemjtzttIx7vz0s/xE9f6C9ElzqtEbUrfqJQQq9QKFKCnpzR2x0jy0rgBDP6Ql8hgHLfTCBK6BUKRUo4NqN3uEaO2nZ67Li89uFC77eEXi3IThxK6BUKRUo4lpnS6XScsI9/hFj6Al8BoIR+IlFCr1AoUsKxGb3LfWKhD4yQl95td5PlzqIx3Dih9p3LKKFXKBQp4ZiP3u06QdgNjFhSEKzIG+WjnziU0CsUipRwbEbvdrtO2CeQ6SYeNYj1Dc5WWegvVK6bCUQJvUKhSAmJmA6A1+0+YZ/+dMUDCpAAFPgLaAw3Ykpz4gw8h1FCr1AoUkIsrmNi4nKeeEbvz7SOjRRimTATdERVctuJQAm9QqFICbFYHF2L47af3HUDwzdN5XitynItfS3DxijGjxJ6hUKREuKxBLotgcfuOWEfb8CJza4Nm9HnenIBaO1Tu2MnAiX0CoUiJcRiCQwtjmna+erje6ls6R3WR2gCf8bwAiT9M/qImtFPBEroFQpFSkjEDXQtweuHuvm/N6r5yuN7R+znz3AR7hq8GJvlyUIg1Ix+glBCr1AoUoKe0DGETmWzJeKbj3TSF9eH9fNluAh1DhZ6h+Yg052pfPQThBJ6hUKREvSEiaHp1HfqFKV7iBsmO2q7hvXzZ7gJd8UwhxQgyfHmqAyWE4QSeoVCkRIM3cAQOuGo4PKFeQAcbBrup/enuzBNSaR3cAGSHE+Oct1MEEroFQpFStB1a0YvpYOlxWlk+pwcaBxB6DOs8Muh7ptcb66a0U8QSugVCkVKMBMSQ0uA6aAgzcPsHD9VbaFh/fwZVix9eIjQ53hzaI+0o5vD/fqK8aGEXqFQpARTlxhCR0o7ufWVzPaa1LT3DevnS0/O6LuGhFh6cpBI2iPtk2LvuYQSeoVCkRJMQ2JoBgtbGol//EP83a++SmtPhEh8cC1YT8CBZhcjum4A5b6ZAJTQKxSKlCB1MLQE76g/CICvuY4FHTXUdg6e1Qsh8KcPD7FUaRAmDiX0CoUiJUhDYAid+d1NOGfPAmBp2+ER3Tf+DDehTpUGYbJQQq9QKFKCNMDUDArCHXgWL8E2o5x5nUepaQ8P6+tLH747NtOdiSY0mvuaJ8vkcwYl9AqFIjXoAilNMvq6cJQU41uymDnd9dR1RoZ19We4CHXFkAM2Tdk0GxmuDJWqeAJQQq9QKMaNNCVCariTVaacxcW4Zs8mK9JNS9PwKBp/hhtTl0RCgytNZXuyaYu0TYrN5xJK6BUKxbgx9GRh8GSEjT0vD9esmQAkjhwZ1v/4pqnBfnol9BODEnqFQjFu9IQl9I6EtdnJlpGBc6a1IGuvP4qUg/PanGh3bJYnSwn9BKCEXqFQjJtjM3pHckZvS0/HWVKMabOR19lE55Bi4Mc2TQ1dkM32ZNMebR/2xaAYH0roFQrFuDkm9M4BQi8cDoyCYkp6m6ntGBxi6Q040WzDN01le7LRTZ2eeM/kGH6OoIReoVCMG1O3ZuDuRALD5UZzWTN2R3k5JaGWYZE3QhP40l3D0iBke7IBlPsmxYxK6IUQVwkhDgohKoUQd45wfKMQYpsQQhdC3DzkmCGE2JF8PJ4qwxUKxfThmI/eHdMx/MH+9sC8ORSG26lr7R42xiopOMRH784ClNCnmlMKvRDCBvwEuBpYCNwmhFg4pNtR4EPA/SOcIiKlXJ58XD9OexUKxTTkmOvGE0tgBgYLvU2adFeMEHmTbsXSD0TN6CeG0czo1wKVUsoqKWUceBC4YWAHKWW1lHIXYE6AjQqFYppzTOi9sRgymNbf7ixPhlhWDxd6X4abcGds0MJrlsea0asMlqllNEJfBNQO+Lku2TZa3EKILUKITUKIG0fqIIT4eLLPltZWledCoTjTMBLHhD6OGCD0rpnlANjraoaN8ae7MHSTaPh4RE7QGcShOWiLqhl9KpmMxdgyKeVq4L3A94UQs4Z2kFLeI6VcLaVcnZOTMwkmKRSKVHJsRu9OJNB8PoiHwdDRvF76MrIJttQNqxHrzxweSy+EsEIs1Yw+pYxG6OuBkgE/FyfbRoWUsj75fxXwN2DFGOxTKBRnAP07YxNxHA4JP1gGP10HsV4SRWUUdzfTFhrsj/enW5WmRgqxVD761DIaod8MzBFClAshnMB7gFFFzwghMoQQruTzbGADsO90jVUoFNOTeNxyv7jjMbyxOgi3Qnsl7Lgf++w5lPY2c7R1cGz8iTZNqd2xqeeUQi+l1IFPA88C+4GHpJR7hRB3CSGuBxBCrBFC1AG3AHcLIfYmhy8AtgghdgIvAf8tpVRCr1CcZURjcQAcZgJXogXSyyB7Lhx8iozFC3CaOkd3Hxo0xpvmRGhC5buZBOyj6SSlfAp4akjblwc834zl0hk67g1gyThtVCgU05xY3BJ6zdSx6+2QuxCy58Cmn1Jw/ZepATp374cbz+8fo2kCb9A5fEbvzqIr1oVhGtg022T+GmctamesQqEYN8eFPoE93gY586B8I5g6bk8nhtDQKyuGjfNnDC8pmO3JxpQmnbHOSbH9XEAJvUKhGDfHfPSaqaNpOmTMgOI1gEBr3EpvdgHe+uphycpGqjSlNk2lHiX0CoVi3MQTA4TeLiFQAJ50yFsMR99EnzGL4o462kLxQeOU0E8OSugVCsW4ScR1TAwEEmGXEMi3DpSsgfqteJcsJr+vk0P7B2+c8qe7iEcN4lG9v+3Y7lgl9KlDCb1CoRg38YSOFJZYa3bzuNAXrYZYD8WLCwFo3rR50LiRQixVYrPUo4ReoVCMGz1hIEm6b+wCfMkd7kWrAMjJDqNrNuK7dg4aN1KlKa/Di8/hU7tjU4gSeoVCMW4soU/O6H0BOBYWmT0XXEG01p0058/AX7l/0LiTVppSQp8ylNArFIpxo+sGSEvoxYB89GgaFK6Aui3E5y6iuKWavvDxDVL+9BPUjnVnqcRmKUQJvUKhGDdW9sqk68afNvhg0Spo3kNw5WJcps7B17b2H7I7bbh8dpUGYYJRQq9QKMaNqcv+Gb0WzBh8sHg1mDqzF1hfAEMXZE9UgEQJfepQQq9QKMaNoUuE1EED4R0i9MkF2Tx7LW3eDIzdgxdkfenuEX30vfFeYsbgdsXpoYReoVCMG1OXaKZuxdB70gcfDORDsBhRv43WktmkVw9OheBPd6qSghOMEnqFQjFuZFLobTYT3OnDOxSthPotyAWLyQy1E2ps7j/ky3AT6Yn357SH40Lf2qcqzqUCJfQKhWLcmMax9Afm8Bk9WH76zmpyl1oF5g6/vKn/0LHIm3D38Vl9rjcXUDP6VKGEXqFQjB9DoJmGledmpBl9yXoAFszQ0YVG++bt/Yd8Gcdi6Y/nwemf0UfUjD4VKKFXKBTjRuoCu5GwfPTutOEdCpeDzUVW7y6OZhQh9+/pP3Q8lv54fH2mOxObsCnXTYpQQq9QKMaPKbAZOppNgss//LjdBUUrEbVv0Vk6h8zaw0jDAEbeHasJjSx3lprRpwgl9AqFYvwYGnYjmaLYOYLQA5Suh4Yd2BfMw52I0nvQir5xee3YHdrwyBtvthL6FKGEXqFQjBthaDj0hCX0Du/InUrWg5lg5lwfADWvvW2NFWLEvPS5nlza+tRibCpQQq9QKMaNZmo49GQcvdM3cqeStQDMyWim1+Ghc+uO/kP+jBEKkKgZfcpQQq9QKMaFNCWatGHXE5aP/kRC782EnPmkt22jKrsM24G9/Yd86cNrx+Z4cuiIdpAwExNp/jmBEnqFQjEujm10ch5z3ZxI6AFK1yNq36ZnxlzSW2oxw2EgOaPvjiHN4zVlj4VYqnTF40cJvUKhGBfHhF6T+sl99ACl50Gsm6y5OWhS0rNzF2DN6E1dEgkdn73neKziJWrT1PhRQq9QKMaFnrCEXpg6OG3Hi46MRMk6AOaVWYJe9+Y2YOQQy2O7Y1Us/fhRQq9QKMZF/4zeTCCczpN3zpgB/nzKxSGaPel077Y2TvnT3QCDQizV7tjUoYReoVCMCyNxTOh1NLfr5J2FgNJ1eJs2czSzBFvlIeAERcI9WQiEEvoUoIReoVCMi2jcEmfN1BGeUwg9QOl5iO5aZEk+gbZGzHAYb5oToYlBQm/X7GS4M5TrJgUooVcoFOOiL2rlqNHMBDbvSRZij5H00xeW2tGQ9O7dj6YJvEHnoHw3YPnp1WLs+FFCr1AoxkXs2Ixe6tg8oxD6/KXg8DErrxuAus07AEbcHZvtUZumUoESeoVCMS6icSu9sGbqaL6TxNAfw2aH4tUUmfvocvro2rEbsGLpR9o0pVw340cJvUKhGBex2DGhTyC8oxB6gJK1ODsOcjSzCCoPAiee0bdH2zFMI6U2n2sooVcoFOMiNnBG7z1B5sqhFK5ASANbYTppzXWY8Tj+dBfxqEE8qvd3y/HmYEqTzljnRJh+zqCEXqFQjItYwhJ6Yepo/uDoBhWuBCC7UMNmGsQOHTrppqnmvubh51CMGiX0CoViXMRj1i5XzUwgfIHRDQoWQKCA4pweAJp37MGfLCk4cNNUvjcfgKZwUwotPvcYldALIa4SQhwUQlQKIe4c4fhGIcQ2IYQuhLh5yLEPCiEqko8PpspwhUIxPYgnLFeL0HTESNWlTkThSgpth4lpdtr2HDg+ox+wIJvnywOU0I+XUwq9EMIG/AS4GlgI3CaEWDik21HgQ8D9Q8ZmAl8B1gFrga8IITLGb7ZCoZguJJJCb9Pi4BjlYixA4Qq8oSM0BLKJVVQcrx07YEaf6c7EoTloDivXzXgYzYx+LVAppaySUsaBB4EbBnaQUlZLKXcB5pCxVwLPSyk7pJSdwPPAVSmwW6FQTBMS8WNCHzt5iuKhFK0AIJbpx1lbjd1pw+WzD6sdm+fNo6lPzejHw2iEvgioHfBzXbJtNIxqrBDi40KILUKILa2tKmZWoTiT0BNW6KNdS4BzFBumjpFckE3LseHv6cDo7cU/QgGSfF++mtGPk2mxGCulvEdKuVpKuTonJ2eqzVEoFGMgkTBAJrCfrDD4SHgzIb2M/KwQANGKSnzp7mGx9Pm+fOWjHyejEfp6oGTAz8XJttEwnrEKheIMwEiYCDOB7WRlBE9E0UqKfJYkNO3ciz/dOchHD5DnzaOlr0VtmhoHoxH6zcAcIUS5EMIJvAd4fJTnfxa4QgiRkVyEvSLZplAozhL0hIEYTXWpkShcSdDWQNTmoH3PAXwZbiK98f4c92DN6HWp0x5VJQVPl1MKvZRSBz6NJdD7gYeklHuFEHcJIa4HEEKsEULUAbcAdwsh9ibHdgD/hfVlsRm4K9mmUCjOEoyERDN1bGN13QAUrUQI6AgGiR+utCJvJIS7B8TS+1Qs/Xixj6aTlPIp4KkhbV8e8HwzlltmpLH3AveOw0aFQjGN0RMSm5lA2MyxLcYCFCwDBLYMO+66mgG7Y+MEszzAYKFfmrM0laafM0yLxViFYroTToSJGbFTdzwHMXWJZiQs181YffSuAGTPJSszhi/Uhddh7bINdRzPS692x44fJfQKxSn4/f7fc/4D53PFI1ewq3XXVJsz7ZA62I1jPvoxCj1A0UryfFZYtavPKjLS3RrpP5zmSsNlc6l8N+NACb1CcRK2Nm/lv9/+b9bkr8Fj9/BPL/6Tqng0BKmDzUyAXbNyzY+VwhUE3VZ2ys4jR/AGnfS0HRd6IYQKsRwnSugVipPw/a3fp8BXwPcv/j4/vuTH9MZ7+cZb35hqs6YVImElNMPlOL0TFK7A4bNCJ9sqj5CW4xk0owfLfaN2x54+SugVihOwp20P+xoP8v6yO/A6vMzOmM3fL/97nq95ntfrX59q86YNwhBWYXDnaQp97gJsTkncaaevupZgjmfQjB6s5GZqRn/6KKFXKE7AX958kdu3fZWee/PY8tQRAD648IMU+gr50fYfIaWcYgunB0LXrBTFbtfpncAVQKaXYvo0jPo60nI8hLpi/akVAIr8RbT2tRI34imyenKQhkHnww8Tq6ycUjuU0CsUI2AYBuZLeQi3wczlObz1+BF2vliLw+bgE8s+wd72vWxu2jzVZk4LNDMp9B73aZ9D5C7C60/gaG0imO0BCT1txyNvivxFSCQNoYZUmDxpdD/2OE3/8WVqbr8daUzdzl4l9ArFCLz+9g6CfTnkX2Tjyo8tpnxZNm88WklLTQ9Xl1+Nz+Hj8cOj3SB+dqOZNst14/ac/klyF5DmCxHsaiOYbd0Z9Azw0xf5rVyI9aEzK4NKz58eBMDo6ia6b9+U2aGEXqEYgf1b64lrUS66cBWaJrjkAwvwBJw8f+8+7KaTK8qu4Pma5884V8JEoJl2NDOBzTsOoc9bhMufwG7q+LCSnHW19PUfLg5Y+zHPJKGX8Th92/fgK7DuTGLbp25dRwm9QjECfdXQkVVHftCqcOT2ObjsjoV0Nffx1p+ruLjkYvr0Pra3bJ9aQ6cYKSWaTAq9f4zpDwaSPbc/8qanrhZPwEFnY7j/cK43F4fmoC5UN16TJ43ogQNI3SR9eTYISXz3W1NmixJ6hWIIsb4EzpAfb6EY1F48L4MlFxax86VaZvQtwK7Zz/nom7gRR2BHM3XsvnEIfeZMHD6rgEnLoSoyC320NxwXek1oFPoLqes9c4Q+8pqVv9HzzjuweyWJxqmzXQm9QjGEyirrD7KwLHPYsfU3zSKQ6ebtR4+yKmcVr9a/OtnmTSvCsT4E1mKs3T/KwuAj4fIjcnOQQE9VDZmFfjoawkjzeGRTsb/4jHLdRDa/jt1jYF91LY6gA72ta8psUUKvUAyhqsoSk/KZBcOOOd12Vl89g7baEGvlRVR2VdIRPXcTsoajlh9dM3W0QHBc53LkzUJ6BPG6erIKfSRiBr0dgyNvziihP1iNJ9+OyCjFkeEn0dV36kEThBJ6hWIILU1dJLQ4c4tnjnh87to8HG4bGbUzANjefO766UP9Qp9A+MYn9CJrNi6fjtbSRFaR5QbqGOC+KQoU0R3rJhQPjet1JgO9o51ERwz3fOsasudkovcaU7b3Qgm9QjGE3s4IEWcveb68EY/bnTbKl2XTfcDEI7xsbdk6yRZOH/oiVgikEAmEexyuG4CsWXh8MXwdTWQWWMnR2huOi/qZFGIZ/dtjAHjWbQTAnpWNNASyp3NK7FFCr1AMIdZrIL1xhBAn7DNrRS6xPp314mK2Np+7Qh+OWkKvkRh7damhZM3G4TMIhrpw2CXBHA8t1b39h4+FWJ4JC7KRN18EIfFcdDMAtqxsAPSGqimxRwm9QjGUPjv2UwSQFM/PQNMEc8MrOdBxgL7E1Plfp5JIzPKh20R87Lnoh5I5C6fPQJOS9upaCmal0Xi4q9/dUexPCv0ZEGIZ2XsQV6aGlm+5bmzZ1t2h0VQzJfYooVcoBiClxBXz4QrYTtrP6baTPysNT2M2pjTZ2753kiycXkRjVjEWTUukQOjLsSdj6RsPHqFgVhqR3gTdLdZdQ9AZxO/wT3vXjUzEidT14pld1N9my7OeGy1TY7sSeoViAO09nTgMF9405yn7li7KJNoMnniA3W27J8G66Uckas3oHSI2fteN3YWWa7k42itrKJiVDkDj4S7AyktfEiihtrd2fK8zwcQ3P4MZF3hWrulvs+eVAmC0Tk0GTiX0CsUAapsbAUjPPPXmn9KFWQAsjZ7HnrY9E2rXdCUWs1JAOERs7IXBR8BZNgspoO/oUTLyvbh8dhoru/uPlwXLqOmZGvfHaIm8apXX9lx8Y3+brbAMAL2tZSpMUkKvUAykubUdgOys9FP2zS724wk4mBNecc6WGIzFrBqvTi069sLgI2DPm43dY2LU1yM0QcGsdOoPdfb76cuCZdSH6qd1jqHIzp1oTnAuXt3fpmUXg5AYHVOz50IJvUIxgPZ2a/aYn5N9yr5CE5QsyCTQnEdzuIWWvqmZrU0l8ZiVtsClpcB1A5A5C5c/gbfZWnAtW5xFT1u0P55+RtoMTGlOX/eNHidS3Ya7LBuhHZdXYbNhc1lZLKcCJfQKxQC6uyxBKckbvit2JEoXZiIjNrLDReekn/7YjN6upcZ1Q+ZMnH6d9E7Ll12+LBsEHNlpFQ8vD5YDUN1TPf7XmgDMqjeJddrwLFs67JjdZ8foDY8wauJRQq9QDCDcFUfXEvj8oyuiUZL005d1Lzon/fSxmBUl47TFUuK6IWsWzoCONxalq6UdX5qL/PIglVtbkFJSFrR83dXd1eN/rQkg+srjIAWeDVcCkDBMntvbRE80gc3nRO+NnOIME4MSeoViAImQScLdd9LNUgPxBp1kl/iZE1rO7tZzb0avRy3XjcMWA/vpV5jqJ70MR8D68qjZdQiAeesLaK8P03q0F7/TT7Yne9rO6CNbrVTEnrUbAPh/f9rDx3+7lc/+YQeaz4UZ0afELiX0CsUAzJAN6UmMaUzpwizSOvM52FyBKc0Jsmx6YkZ0hDQQTgGj/HI8KQ43Wp51l9SyvwKAOWvysDs09r5mlRGctpE3eozwwUaceQHsWVnUdfbx0FZrLeGFAy3gcWNEp6acoBJ6hWIAtqgLm39siadKF2YipEZ6exFHuo9MkGXTExkx0Iw4wn3qfQejxV0+C4BQVTUALo+d2atzqXi7mXhEZ0ZwxrR03cjDr9LXYse3ahkAD2+xFpR/eNsKpISIw405RcFCSugViiRxI4475scVtI9pXP6sNGxOQUnX/HMuzFKLSmxmAuEbRxnBIdjzZ2PzmJh1R/vbFl9YTCJmcPCtJsrTyumMddIdm5oIlhMReekRpK7hvfQ6DFPyyNY6zp+dzWULchECeu1uzIRARiY/+6YSeoUiSWNXM07DTSBtbL5mm12jZH4mpd0Lzzk/vZYAzYij+VOwEHuMzFm4Agl8zcdz2uTNCJJd4ufgW03HF2SnmZ8+/Kbln/dt2Mgbh9uo74rw7tUleJ12yrN8dGjWdWW2N066bUroFYok9S3NwOh2xQ6ldGEWgWgmlUePnrrzWYSW0LCZ8fHVix1K9lycfp3srmZ04/iax5zVeTQf6SFXt/LGTCv3TU8jfVXduMuysaWn88jWOtI8Di5faCUzK0z30K5Zdz2GEnqFYuo4tis2JztjzGNLF1llB/Ua9zmVydKu29CMOPb0tNSdNHcBzoCBLx6lpqa5v3n26lwAwvttODQHh7sOp+41x4l54K9E2p14168nHNN5bm8z71xagNthozfeS04QmrDueoz25lOcLfUooVcoknS09wBQmJs75rFpOV6cGVDcOY997ftSbdq0JGEksJl2bGYcR/rYvxxPSFoxtnRrneTo7kP9zcEsD/kz06ja3sbMtJkc6jp0ojNMOpFXn0GaAt9F1/B6ZRuRhMG1Swo43HWYSx66hC2J/+Soac3ozc7J30GthF6hSNLTZW1myc0eXhR8NJQtyqawZzY7m8+NBdneRC9204nNSOBIz0rdiYXAWWr54Y+FWB6jbEkWbbUh5nsWUdFZMdLoKaFvp7VZzrN6Na9VtuFx2Fg1I4PHKh8jakTp0mtpCFjXl9HZPun2KaFXKJJEuuMYmo7b5zit8XOWFuIwXRze35Biy6Yn4XgYm3QiZBzhS0/pud3zF4OQRA8Pds8Uz7PuHMrCC2npa5kekTeJKH01vbiKM7AFArxW0ca6mZk4bRrP1TzHqrxVaGi0Ba1qWWb35Cc2G5XQCyGuEkIcFEJUCiHuHOG4Swjxh+Txt4QQM5LtM4QQESHEjuTj5ym2X6FIGYmQRHdHRr0rdihFc9ORmkm4KgUbh84AehO9COlAIw6ucdaLHYJWuBin38BbWzmoPbcsgMNtI9BqLXIe6px6941sOUik3YF3yTzquyJUtYW5YE4OVd1V1IfquXbmtRT6SukOWK5Bo6tr0m08pdALIWzAT4CrgYXAbUKIhUO6fQTolFLOBv4X+NaAY4ellMuTj0+myG6FIuXIPjt4T3+LutNtx1GYILOtlKbw1BSYmExC8RACJzZi4Aqm9uS5C3AGE+S31xJNHN9Nqtk0CuekEztq+fCng/smsXcTUtdwL13FaxVW8rUL5mSzuWkzAOsL1jMvcx6RQBsgMXt7Jt3G0czo1wKVUsoqKWUceBC4YUifG4BfJ58/AlwqTndapFBMAaY0cUTcOAIC05TsruvGMMe2QxageEEG2X1FbK8+++PpQ4kQQjiterEpntGTuwBXmk5mqIeK2sGujsI56YRa4+RRNC1m9LF92wFwLlnLy4dayQu6mJPrZ3PTZgp8BRT5i5iXOQvh6kI4weidnhumioCByZ/rkm0j9pFS6kA3cGx1plwIsV0I8bIQ4oJx2qtQTAgd0Q488QCeoIP/ee4g1/34Nb7y+NizUa5cNReA/TvP/nj6UCKEFE4cxMCd4hm9Pw9HlhNNSqp27h90qGiO5adfqq+nomvqZ/Txw0n3UvlsXjnUxiXzLbfSluYtrM5bjRCCAr+V9tpwCszw5IffTvRibCNQKqVcAXwWuF8IMeyKEEJ8XAixRQixpbW1dYJNUiiG09DZhMvwEkj38ofN1rzm/reO0tg9trSy+WUZJFwRuiunJkvhZNIT6QVhw6FNgOtGCNyzrNzzbbsHC31OqR+Hy0ZJ7zwqOyunPJFcrK4Jm9/OlnaDUEznsgW5VHVX0RHtYE2+VTe20FcIQNylYYSjk27jaIS+HigZ8HNxsm3EPkIIO5AGtEspY1LKdgAp5VbgMDB36AtIKe+RUq6WUq7OyckZ+2+hUIyTY7tidYeLWGcX3wvW4kzE+kV/tAghcJbFCbQU0BnpmgBLpw/hPutL0CX6Ui/0gGvBUhCSRMXgWbtm0yiYlYanNYs+vY/60FA5mkT0GPHWCK6CTF7Y34zbobFh9nH//Op8q5xggc+a0fe5NMy+yc9sNhqh3wzMEUKUCyGcwHuAx4f0eRz4YPL5zcCLUkophMhJLuYihJgJzAGqUmO6QpE6mlstP3APbj6/9QEW/OYHfPPAo/xpe31/vdLRMntpIR7dz+s7tk6EqdOGULdVLclt6wN3CnfGJtFKV+P062Q2HByUCgGgcG46Rrsdd8I3pQuysvUQsR47zhll/HV/C+fPzsbtsLG5aTP5vnyK/cUA5Pksd06vU8OITv7d3imFPulz/zTwLLAfeEhKuVcIcZcQ4vpkt18BWUKISiwXzbEQzI3ALiHEDqxF2k9KKaemOq5CcRK62q0Fstb2MOua94OmMb9yG56KfWyv7RrTudavXozE5OCuulN3PoOJNncB4LJHwHt6m8xOStFKXGk6pV2NVLYOXsAsnJ0OQEHPrCldkDUOb8WMa3QVzqa+K8JViwuQUrKleQtr8tb0h+o6bU7cIp0ut8CITr6raVQ+einlU1LKuVLKWVLKryfbviylfDz5PCqlvEVKOVtKuVZKWZVsf1RKuSgZWrlSSvnExP0qCsXpE+q0/KZ9+61omZK770ZLT+e9FS/y2PaxuQaC6T4iGV1EjthSbud0Qu+0FhXtTh1sp7fJ7KRkz8WVBWnhMHsODd6EljsjiN1lY15kJQc7Dqb+tUdJPBlxs9U7E03A5QvyONR5iI5oR7/b5hh+ewbdbjDjEsZ4lzhe1M5YhQKI90h0R4y0w3sw7A6869aS+f7bWdO4jx0vbyVhjG0WFpxlI60rj4aOyU9gNVnIrhgAdu8ERVJrNtyzrVQIDVsGp5Ww2TUKZ6dT2D2H/R37Rxo9KcQqrC+Zl6JpLClOJ83r4MXaFxEINhZvHNQ36Myg2y0wExoyMrmx9EroFQrADGnonhgLWw+jz5qFtuPXZN58Habbw5W7nuWVQ2OLBlu6uhwNG397dcsEWTz1iF7L1zzWQi1jwbN8FQCxfcP3JRTPz8DZ46erPTRlqRDitY0Ih8YrXYJ3zLIiyvfsPswaxwVke7IH9c10Z9LtsSYMZtvkpslQQq845zGliT3iIeFIMKu7gXxfBTz1eWzP/wuZt76bC+t38PRzY1tYXbt0CX2ubup2Tv4uyMnCkYw8dWeksOjIEOzz34HdY1BwdDeh2OBFzOL5Vjx9Uc/cqXHfGDqx5hAiJ0BCCtaWZ7LztWoWvnYNK16/ic6m8KDuOd5sur3WLl+jbXJz0iuhV5zzdEY78caCiEgImzTxB1ogfylU/pXsS+ciNRsFzzxCc8/o459tmg0xuxd3YxY9veFTDzgDccQsl403J/Whlf0UrsCdkWBmZz3bajoHHcou8uPy2Sjqmjs17pvOI8S7NfqyrZDwco+LNx4+TKe7Gbtd48Xf7MccsLu6MJBDyGP9bEyyS08JveKcp7GnCW8igKurHSkEnhwd3vcwBItx7Popzmuu5bKazTzy/M4xnXfxujJs0n5Wum90U8cdt1w23sz0iXuhzJm4czXSe0Ns2zd4T4PQBCXzsyjtWcCB9gMTZ8MJMI7uJNFnpy6jhDyPk02/PoBu6Ly57CEufM98mqp6ePaePWx/7ijRcIKiQA59LuvL0eyY3I2hSugV5zz1Lc0INDJaG3FkCWwz10IgHzZ+Huo2M+Odi7FLg97f/5ZwbPQx0BetXEevq4OqLW0TaP3U0BPvwZ1wI8w4dn8Kc9EPRQg8i+YigOa3hrvPiudn4IkHOFo7+YvesZ1WjdjN3tlcF3bQ0Rjmhfm/Yf38lcxfX8CiCwqp3tXGG3+s5Jl79pDvyyaULEdsdE7uNaGE/jSQUtLdGkEfkFVPcebSktwsVdZxlGBWD8y90jqw4nbImIHz4N2YGy/h8kOv8eBLe0d9XrfdTWJWG/aGdHraz67ygt2xbpyGG5sZhUDehL6W57xLQUgyDmwelMkSoHi+Fb8v6zyTXsIxtn8PEkFffB4ZPSa5V5kcDuzi8hmXI4TgovfN55M/uYgL3zuP+oOdGJU++o4JfVfnyU+eYpTQnwYvP3CI3/3Hm/z5e9sx9KnNs6EYP53JzVK+aAfe3BjMvco6YHPAhf8KjTuZc8MSPHqcjp/fTWd49FvYl11QhkDw4l+3TYTpU0Z3rBu74cJGFAIFE/patoWX4krTWdF2gG1HBwtkWo4HRzoUd86f9BKO0cqjHFh4O+WGB+/KLDalPUOmO5PVecfj54UQLDq/kECmm869BmGX1W52T26UkBL6MVK7v4O9r9STXeKn+UgPbz+hMjqc6RzbLOWMdeKdnQs5848fXPJuyJqD+8h9iGuu46qDL/Pj//vrqM992eILaUyr5OjmHuRppD2ernRHOrFJN3ai4J/YGT35S/HkQUFHG68fGO6iKV+aTXH3PHY3jP5ua7zIniY222+hMXc9r7sTLL4yj1fqXuHyssuxa4PDTYUmKJqbTmdNlKgDTCExJjknvRL6MSCl5O0njuDPdHHzF1cz/7x8drxQ2y8UijOTaLcBZgyfvxfb4qtgYCkFmx0u/ndo3c+cq/IwPV4W/P5H/HX36OKgvQ4vjkV92EJuqvefPZlZe1obMGwunKJvwmf0aDa8i2ZjMySHN20fdnjRmlJs0k7Vnskrun3wqTepzdxIlrmPTR6dTnM/ET3CJaWXjNg/pyxApDdBml5I3AVmaHJz0iuhHwONlV00VXWz4vIybA6NNe8sBxO2PlMz1aYpxoHRI/BEuwjkRo+7bQay6CaYcwX2t79N8Wc/waKOal7/xvfpi49uYXbjBcuJ2EO89tzY89tPV7rq6zHsbpwiCt4JXIxN4r3gCgAKD71Oeyg26Fj+rDQMVwz9sGfC7QCIR3Vee9VJsOcIh7NszMkNsKnpVbx27yC3zUBySqzCLAWROURcAiM0uesJSujHwNana/AEHCzcYM1ggtkeFmwoYN9rDXS1nF2LbecKUkr83W7csS7cBcCM84d3EgKu+wHYnGTGHkHfsJEbdj7NQ4+/NarXOL90A0cKt9N9SNLTPrb89tOVcFMjus2Dy5EAbeJlxHHeLTi8Ohta9/Ba5eCIFU0TuGYlyG2bSXPvxM/q979ylJjhYc7hR3jOXsjCwgCv1L3COwrfgdPmHHFMVrEfgPxIGWG3QA/HRuw3USihHyVNVd0c3dfBsktLsDuPJ6tac205NofGaw9VjDmdrWLq6Yn34I0HccW68KxeDw73yB2DhXDVNxG1bzL/2lyETSN27z3DokBGwmFzULY+aGU1fPFwin+DqcFoaEZ3eHF5JinyLL0E70wfBa1tvLJ/eD3eOSvzcRpu3to88XdNFS/vIRiuJqfESU3Czoy8OM19zawrWHfCMU63HX+Gi4xoDr0uMCY5J70S+lFgJEz+dv9BfOkullxUPOiYL83F2mvLqdnTTvWusy9e+mynsbcRu0zDYXbiXPnOk3de/l5YdhuOnT/Cef5KzjuylSde3HXyMUluWnEt1Zm7OfB6I3r8zA/LtTW3kbB7cQcnIGvlCfCvX4tIQMfrrwxLMrd21SLitig1Oyc2C3rvs7+jpc1NRttB6q9+HwAev/XFsyBrwUnHZuR7CUYy6PGAGZncnPRK6E+BlJK//f4A7XUhLrxtLk738AROSy4uJqPAx2sPV5wVf8TnEvWtzSBsuO3tMOMUJY2FgHd+D3IXMjPzZWyYNNz361Hdyc3JmEPfvDpk1MahzWd+RktvexSEhj94gjugCcB3zftASC6te5lNVe2Djvk9Prpy6zCqPRMW3RR54wV2f+1RpLBT+o6ZvJq3CKdNIyKOogmNuRnDiucNIj3fhyvko9cDZmxyw7KV0J8EaUre+ONhDmxqYs07Z1C+bOQyhzabxsZb59DTFmX782d/UeizicZGKxLG6+qCzJmnHuD0wrt/g8sXxzXLy3l7X+GVnaNbjL9k/Xm0eevZ9PShQTlQzkSC3ZZ0uNN8k/aatvkX4MmBJc1VPLV7uPvGM9vAEfPQVJP6GHVpmjTe+Xl60mciBMz/wkd4u6aLZSVpVHYdojxYjsd+8sXgjDwvmm6jz5WGEReQmLxoPSX0JyARM3j67t3seP4oizcWWRE2J6F4fiazV+Wy9ZkaetrOjgW3c4G2w9bs2pumDQ6rPBnZs+HCL1I0o5pAIsKOe343qmFXl1/F3rKXibSZVJzBs3opJYE+y2Xjzpz4iJt+NA3/2kU4OxMceGvLsPKCc5cWYGKy4+3KlL9078O/JtYSJT5nKWm5Xpr74uyq6+L82Tns69jH/Kz5pzxHWq71RRDz5IIpMDsmrwKZEvoRMHSTp+/eTfWuNs5/9xw23jYXoZ1aBN7xrtkIAa89PHU1LBVjI97QC4CvIH1sA9d+DM/MXGx5dpZsepqD9afe0u53+nnHhsW0e+t584kKzDEWM5kudHe34Nat1MSurAneLDWEwM0fAuC66r8Mi75ZXbaSpkAVNbtT66eXuk7rj3+CM02nUi/icCLOFx/ZhSYEly/x0dLXwoLMk/vnAdJzrfcs4bQ8A0ZDdUrtPBlK6IdgGCbP/mIPtfs6uOj2+Sy7pKS/7uOpCGS6WX3NDI7sbKNmb/upByimHK3TRJg6wTllYxvo8MDGL5A/p4WCvg5e/MVDoxp2+6Lb2VH6V8JtCQ69fWbO6pv2bUe3J4U+r2hSX9u17lqcGYI1jQd5eMvgGXFJoISWvMMYbXa6W1MX7tz9xz8Qbw1TvXQ2rrhGdSLOm1XtvHt1MV16NcCohN6f6UazCUybJfR64+S5eZXQD8AwTJ7/5V6O7LRm8gs3FI75HMsvLSUt18OrfziEkTgzZ2znEo6IE1esi4xFy8Y+eMXtBBbmIgKCwmf/SFvvqX2u2Z5sVq+fR5uvjjefqMQ4A2f1tdu3ozuSQp+ZfYreKUYIAmsXYm9NULF9Kx0D8g4JIUifb4U+V+1ITQScGY/T9qMf4MqI88v0WwD4zM2L+J9blvHlaxf158GflznvlOfSNEEg24VNJIW+ZfKqTCmhTxLpjfPkj3ZyeHsrG26ezbJLSk7rPDaHxsZb59LdEmHHC2phdrpj1wM49C7cRaf2sQ7D5kBc8m/kzu1kbudRnv7906Ma9rGlH2NH2fP0dSQ4uGn4ouJ0p2//QaLOpND7Ji+88hhp7/04SMFHqv/MH7cNntUvKZ9Pm7eOg1vHVtB9KO2/upfD17yTw5ddRqK1l9YlWSwtWwJA2cx0bl5VjMdpY3/Hfor8RaS50kZ13vRcH24jFwCjZfI+eyX0QGdTmIe+sZmGQ11c+N55LL+sdFznK12UxczlOWz+S7XaMTuNCcVD2EjHbnZC2ul9sbPk3aSvKUV4IPO3PycyirQIOd4cLtqwmhZfDW8+UXHGZUB1VtfSEQxi1xI4XLZTD0gxrnVX4C1xsbz6ML97vQJjQATTitwVVGXtoL06cto5qDr/+EdavvMdKsKShDdCwdpO7iu9nbWZAexOjWDW8ZDSAx0HRuW2OUZ6rhdfIgeJQG+fvH0357zQdzSE+VMy3fDNd65m8cbU+BwvuHUuNpvgpd8eOKuyFp5NNIYaMW1pOLTuE++IPRU2O9q1Xyd/SScz24/yxP/+elTD7lhyB/tmvky0y2D/G5NbKHo8SMMgr7aZ3kAQr8cY9fpVqsm45SbMkOCq/Y/w/L7jax3zs+ZTl2u5Uw5vG3sSOTMep+Y7/0t7ZpBVF+5j4fpD/LTkRt7/nvcSbouSke/rD8zojfdS01PD/MzR3w2m53qwmw7C3gB6x+TlpD9nhV6akgObGnnkW1tASm78l5XklAZSdn5/hosNN8+hoaKLva+dOX/I5xI1TbVIzYnTMc5MgrMvI+2yDTjSDQr+8AuONpx6IT7oDPKey6+nKVDFq48fOGPWc6IHD+KJGSTcAbyTuCt2KIEPfhFnOlx34A1+/NeD/fsSHJqDGaWFhAJtHN429rw3zX94GFdnG8uXHCG7fAH1V93LhXd8jQ2zs+lsDJNZcHzfwLH894uzF4/6/GnJyJv29DwSXb1jtu90OeeEXkpJ7b4OHv3OVl74v/1kFvp497+vJbMw9Rs/FmwooHh+Bm88WpnSKABFaqjda+Wd8frGL7Lind8mf00f2X3dvPTZr4xqQ9RNc26ke+lhzJDGay+kPkdL7f4OHv7mZt5+8kjK8jA1vfSa9cQWwJuZuonRWBEuDznvuxqt22T95gd4Zu9xf/fy3OXsT3+bxsPdhDpHnzxMSknLz36EOytO35UfRnzoKYrWv4sNs7OJR3RCnTEyCrz9/fe0WZ/ZoqxFo36NtBwrlr4rmIvePXmacE4JfVdLH0/+aCeP/3AHPe1RLv3gAt71hVX4M1wT8npCCC75wAI0m+D5e/edkREWIyGlJLJrF+33/R9td99D16OPYsYnN0lTKuiusm7503KC4z9Z1iz87/13MuaGWLvjBf78yz+ecogmNO688R9pTjvC1qdriERSt1MyETd4/r59tNeH2fzkETYnxV5PGLQ3hEicZqqO1mefozoXbGYavuz0lNl7OgQ+9p+4siTvOvAK339qT7+vfmXuSg5nWXnrD28f/ay+/bVXcXZ0Yy4IknvDfw3aQNfRFAYYNKPf276XIn8R6e70Ub+GP9ON1Ex6fTnoocnLYDk8cctZyq6X6njt4QocTo0NN89m8caiQVkoJ4pAppsL3zuP5365l81PHGH9jbMm/DVHwoxGMSMRbD4fOBwn9a1KKYkfqcbo6kRoGvGaGqRhkmhoILp/P7H9+0k0DHZHtf3kp+T8y2dIu+66if5VUoZstnYwZ8wdexjtiKz7JDk3/ZXQz3ZT+uOvsXPJHJadt/SkQwoDhay+toza32v87MEH+ewdH0qJKftebSDSE+emz61k/+sNbP5LNYfebibUFcNImDhcNpZcXMzKK0pxeUfngknU1+Or2MfTG5xkG368aRMzQRotwh0g96O3UfutB3nXtl/xp+0LuHlVMctyltHjbYPsKHtfbWDpxcWjWkuo//n3cNtN9Pf/h1VGcgAdDZbQZySFXkrJ7rbdLM0++ec7FE0T2NIkkVgOeq+JTMQQjol/H88Jod/5Qi2vPVxB2eIsNr5nLsHsySlQcIw5q/Oo3dfB1mdrKJqbQcnCzAl7rURDA71/fYFYZSV6RzuJunrMcJhEbW1/H+F2Y8/OxrN0KfaCfACcJaX0vf02MpGgb8sWjM4RFoqEwFlaimv+fLL/4VP4L74YzecjsnUrLd/9Hg1f+CKRXbvJ++IXEI6p89+OFlvIhSZjFK5YkpoTahq2W39JUc0F6H+K0PaPn6D2/gcpmXvyzVjXX3AZP3jxTxjb0nl47SPcsujmcZmhJwy2P1dD4Zx0CuekUzArjbzyIDV7OyhdnEVuWYCje9rZ9mwNe16up3xpNmuuLe93K5yIuvt+A0jemh/knZVMudAD+D7wJTy/e4QL9+/g3x97lWuXvhu/08+8jHlUlW5h5rbzqdnTzowlJ4/3N8NhnDsPQqmduRfcOOx4W20Ih8tGWlI7jvQcoSncxMeWfGzMNgdzXbR05kJCw6jejX3OyMVKUslZL/Q1e9t57ZEKZq7I4YqPLsJmmxpv1QW3zqXpSA/P/Wovt/zb6pR+2Uhdp+uRR+h84EFiBw8CYMvMRAv4cZaWIYqKSLvpRmw+H2Ykgt7eQfxoDX3bt6M/3QQD/Le2nGw8K1bgWbEce2YWtswMHPn5aF4vtqxsbP7jt671oXo6euopX72UGQ8/RMu3vkXHr39DbP9+in70Q+wZGSn7HVONKU3siSAuow1f6TWpO7E3E88n7qe4+1rk84K6225F3n0PpatPPvP7u9s28vj3dvL4E4+RGcjg0tJLT9uEA280Eu6Oc+kdCwGrZuniC4tZfOHxFNvz1xew8qpedvy1lsPbWqjc2sJldyxk9qrcEc8ZO3yY8AP3s3N2ANNh5bcJZE1e5soTIWx2Cu76Gkc+9q98/vX/5d7XVvOpi+ewvnA9v++4n2U5l/HaQxUUzc04aSho/W9+Ajq0briSeSMUUmmr7SW72N8fcfNK7SsAXFB0ioynI5CVF6DjYDYSQXzfViX046WnLcLzv9pLVqGfy+5YOGUiD+Bw2bjmk0t4+Jubefru3bzrC6tS4joKv/EGTV//BvHDh3EvXUrO5z5L8MorcZaObi+A3t6OTPrX7dnZ/TPxcCJMQ6iBxnAjTeHdhHvDdLR20B5ppyPaQVV3FY3hRmucsLMgawEfee9HWLVoEU1f+n9UXnIpadddR9r11yE8HmIVFcQrKzFCIWzBNPwXX4Rn+fIpC89rCDVgIwuX0QbeFN9hFSzD/5mHKOVd8Ddou+MDRL75HeZde/kJh5TMzaJgXpCVR67gC3/9Iv+y/jPcvuD2Mb8/etxg6zM15M9Mo3jeyb9os4sDXPahhay/YRbP/mIPz/1yDzb7kmFZWqMHDnDkIx8lbHPy5sVxyqPW7DiYNbl3xifCteEGsq/5LfLJvXT/+vu0rP4u5xWcx3177iP7yjhHfm/y6h8OcckHThzvHnryUTSPSekddw47Jk1Ja12IBe+wKsuZ0uTRikdZkr2EAv/Y6+UWFGZxmE5irjTiFXvxnnrIuDlrhV6akhd+vR/DkPguyaeiLczCwhQsuo2D9Dwvl394EX/56S5e/O0BLr9j4aiSpY2E1HVaf/gj2u+5B0dZKcU/+THuizayq20XbzY8TldDF7qp0xppJWbE6I510xRuwpAGuqkjpaQ0WErQGSRuxCkLllGxpYLWvlbiZpze+PDQL5fNRZY7i0x3JktzlvKhRR8i35fPnrY9PFv9LJ/522c4r+A8/v3XP8b5x+fofvxxuh4akAPGYQefF9kbov2ee9Bml5P7/g+Rdt21aN7JuNyPs691H4YjB3fi0OizVo6FsvPw/eP9zHS/l+oXg5if/yfefOldrPvGf6C5RnZ5rL9uNo3/08MNsTv49uZvU9NTw51r78Suje7PVErJ649UEuqMcemHFo76S8IjIizLq+S1o16e+tlOls9sZPGCdIyeHoz2DlrvvY9Om4v7L7mBHekPckObleTPnzn1rptjZN11Lz1vrefG7S9w75/e4DPvfQdOzclu51tceNXNbH26BtOUbHjXbDyBweX+4q21iOpuuufmM69w+B1NV0sfeswgp8QqB/jS0Zeo7qnmG+d/47Rszcy3zhPy5RCrnJyKY2et0O94sZaGii6e9SXY9cRuAP5uRRHfvnkp9imc2c9Yms36G2ey6c9VeANONtwye+yztrY26j/3efreeovgze9iz+1r+WnTX9j00H/0C3S6Kx3DNCjwF+C2u8n15jI3Yy5euxenzUlUj1IfqqcuVEdbpI3a3lqKA8VsKNqAx+6hwFdAob+QQn8h+d58fA4fPodvRFsvKb2ETy3/FA8fepgfbPsBN7d8lg/f/GGu+/v7ST/YhB6PsNPXwT2dT7K7cy+eqOC8AxpXbjuC+ZWvcPTbX8f/rhspvuV2XHPmpOR9PhX7Nm/Hoa0h3Zv63OX9zLwI16efZGba+2h7PQx/eZS333ydos/8I8V/dz3CPvjPr3B2OmWLs3AcXMIdN32M+w7+gvpQPd/Z+B38Tv8JXyYRM9j5wlEqtrTQ0RBm+eWlp5zNA3QfOMS+b3yX4NuvoiFZafewedWdHNjrIvjrL2M3rCigNwsW86cNt/LVsnu4w2Yj27YEZ5Z7Su+QhyK8QYr+80sc+fR/sfY3X6bpmmdZmbeSTY2b+MK1XwBg+3NHqd7dxsxlOcxalUvpwkyEEFT99GtIQ2C+87YRz91Wa+2zyC4JUB+q565NdzE3Yy5XzRihkPwoyCq0Psv6/DKKK145rXOMlbNS6Dubwrz2x0qq7Aaz1+TyXxvKeXZvEz/922Fygi7+7erRb1meCFZeWUZfd5ydL9biCTpYddWMUY+N7NxJ3T/+E0Z3N12ffz9fzHqT6rceI9eby+Vll3NewXmsLVhLpnviFnwBaN4LB5+2/PtCYC9cwW1zb+Xikov51tvf4mc7f8bP+Bm53lx6471EmiOUBEr40rovsTZ/LVEjyvbmbWx97WlKn9zBqt8+RNVvHiJWlEXWhZeSvvFifGvWoPkmprBFx84m8oD00gl2PxStxPHPb5I35wsEnnsMuUMQ+vKX2Pqjn1D06b8n/103DhL88989hwfvepvFlZfy5QsK+Pqmr/OBZz7ATy/9Kfm+/GGn72rp46mf7qKzqY+C2Wlc8oH5zD/v5O6EcNURtn3tu2S++SJOm5MXl11O1hWXsGhNGYs7HWx5oJkXb/wOHWUQiyeYsXg2j8Qe4N79BxDONGxdAbKLT/zFM1W4Lnkf6Rfeh3ypnr9977usv20939/2fdpj7ay/YRZz1+Tz1hNVVO1oZf8bjcxbn8/F752H9rdX0X2CVR/86IjnbanpwWbXcGZJPvD0R0kYCb698ds4bKcXcOANOkkE+2jV5xM79BwyGkK4J/b9POuEXkrJ7364jZiUzD7PxwdL+nCa3Sy9ch6dfQnufrmK82dnc8GckatFjYa3//Q8LXf/D6HsYi75n2+Rmz+2DH5CCM6/ZQ6RUIJNf67C4bKx9OJT51rpfuwxGv/zLsz0APf90xyesT/ATDGT71/8fVZmn099R4S+njZ2vfAcPr+fYHoWaT43eflFCM0O7jTQxrguICX0dUBPHXTXWwJ/+EU4+sbwvnlLyH/n//C/F/8vdb11vFz3Mrtad5HhzmBd/jo2Fm/EptmIhOLUH+5iYftGStPX0veePt7Ud9Cx888U7a9g8UMPEbr/IaQmcM+bj3fVKryrVuJZuQpH3siLhWNhT9se0toKcerdFF504oLOKcOTjvauX+Cf/07mPv4v9B3uo3qPna6v/Af1P/wxGe9/P6U3XYcjL5f0XC8rryxl81+quWHDpfz00iI+9/LnuPXJW/l/6/8fl5Ve1n9XVbu/g2d/aW3aueEzyymef/Ivd72jg+1f+Saevz5FUNNoWTyDhZdl8Sm5Fb3hfrQ/xnEApN/BlvbruX1JE3NKWmH319GbdvPYzDm8I2stoU1xFq6ffkIPkPfN3xO6eiNrn3mAo7f8EoDnap7jfQveR2ahj6s/sQRDN9n6TA2bnzxC15GjzGnzEl0/G4djZDlsqOgirzzAN7d+g4ZwA/931f8xK318YdLp82yENs8lqmUQfeEhPO/88LjOdypEqnbMpYrVq1fLLVu2nPb4hx89QMvzDcxoeJyZh57tb3cWpJP2qX/m1qP5xA2TZz+zEa9z7N9zux57HPFv/0rMAZ4YtGQ5KLrnN8xdtHzM5zJ0K/f9kZ1trHnnDNZcWz6ia8SMRmn++tfpevgR2ubl8aUr2iErg/fP/xhZdX70fc+wOPQm88RRbOLkn2dI+Olz5RJPKyNt4eUEsotAGlCyDnoaoXFHUsg3IWM9ICVCDt5c0x2Yy5PyfL7btpYevHhsJv+Qt5cPRn6LJ9IEy94Ll34ZggNmlnqMxNEdvPlYLXsOZSCl9Xs63DakIdGTKQDsXkGoqI4jXY+S13CIFc1eZtTGscUSgBUV5Jo9G9fsOTjLZ2ALBBBuN5rbjRkOE3r1VcJvvonQbKTf+m6yPvIRxIAoCikln3jqUyz/87UUdm/lht/8M8I9usyDKSHaA2/fg/7qD+mrjlG1Jw9XZwITQdfM+QQvu4yS89bwxJNxpBS8+0trqIvX8O+v/Tv7O/ZzccnFfGndl2jfbvDS7w6Qke/lmk8t7S9qcSLqnnuRljv/FVckRHy+TtPyMJsznezx+KhwaOiAHY2F7mwu1N2kvXU9vYkCbs3+DIGcdJ5Yeg3/XvMYXyv9PnV/EFz/z8spWTDBd42nSceD36H5q/fSsHwud7/PhSY0Hrz2wWH99vytjlce2I9Nj7HwigLW3bBsWE3oeFTnl599FVa08TPnXfzD8n/gk8s+OW4bt1Xs4c3vtlB69BnWzDhA/k8fH/c5hRBbpZQjhvCMSuiFEFcBPwBswC+llP895LgL+A2wCmgHbpVSVieP/RvwEcAA/klK+SwnYTxC394R4f5/e4lgqIU5Fd9i0zKoLXAws8PkHVsSeLs0xC1XclX8Mj60oZyvXj/6rcsAB595gNCdd9Hjhq2fXkjw4FFWPxYi4oQdd2xk4y3/wOKcJWPyuZuGyUu/O8CBN5uYtTKXC26dg29AfHLftm00fuWrxCsqePYCP/e9I8K64IVcVB3jop4XKBQdGGg0BZcRK1iN5k7DUbaavlicSG833eE++jqbMHQDLdaNGWrFH61nLkfJFyMnVWoWObwpltGVcNAnHbTIdBplJk0ykyOygB58lGf7eOfCfNyGpDuU4LnqNlq6O/l2zrNcG/4jwtShcDkECqGvndbqTp7r+Ee6jCIWeZ5hgedF0uyNuDMyMPOW0+lbR7M+j7rWTKr2hjASJvaCBFtmPMVm4wVmt9q5precZT3pZDSEiFdVIfuGbyHXPC5cpU6M3jDxBpO0666i4Fvf7Rf7n27/GbW/a6U4fD7rIj9m9a9PvYN1Qoh0whs/xthyL3pTD211QZqPBvF0WxFQXYEZbF/5WdL0epYV1pE1r5w37BX8qOcJsmNLuHjf+ylZkMXVn1yC4yTRW0Ysxtuf+xzpf32Bhmz47g02anOt6zPg8LEoewkLshYQdAbpjfeyrXkbO1p3UKCXcv32z5BWaCP/PQbf2PINstxZ/FPf19n7WgMf/d7Gk77ulCIllTetIXEwxDN33sS9PMmj1z86uHi3aVLxo3+m5ze72Lviw/TaS3D7HZRe5mZ/9psc6DrAuoJ1rIpdyMv3VPHkgp+yctU8vrbhaymJFDOlyRe//EPKWxaz7PAv2PD078a992RcQi+EsAGHgMuBOmAzcJuUct+APp8ClkopPymEeA9wk5TyViHEQuABYC1QCPwVmCulPOH+6/EI/b1ffpBISy551d/iVzd3MnvGapx2D0d7j1LRup/P/Nlk3SFJ77JcPlb293zymjV8YuNMtCGRL1JKeusO0rj3b7T2NVHdVoW57RALN3UTcUD9F27hPe++C0yTt37wfnhgK8EeQVsQdixwYb/sAtZd/H5m5cwj6Aye8sKQUrL9uaO89VgVmk2waGMh2bIJ86WHEC+9QGeajZ9dKWkvz+L9zTFuix7ARHA0fR2eVbeRt+r6MYUImqZkT10XL7z5Fo0V2ymLHKSVIB3ko7sXYEvPJy3gwpftJuB1IICYIfE7bXjtGmU2J/FDPRze1kIian2UQhOIDAd/i0cIORr44oxdLIrvxmv0srfrPDY3XUVcGLzgCXHYobFIVLPOVcU7PHXMk1VkRY/n7o96yqjUbmJz3Vr6Yh4CmWHacqp4xfMqh92HSHd4uDK4gPVmPnOkj2BvGKO9GRq24HE184K5gXqzkFXV+/HtaMa5pJSin97Hffseo/WPIXKiKyhrfI61X1xF7oZbRn+BTQRGAqr+BnseRe5/Ar27j2ing47ONPaaV3Ek5ybymjYx/9AD2EydtsxF7F78UTCa6HbdR3DJKi648sMsKV806DqLJwx2PfATzLt/QaBd57kVgkOXZ3Ph8lvJy1lMrjeXeZnz0MTwBdX97fu5e9fdNGwJc+Hh29iX+zr1S7bzjQu+wev/3UzZkmyu+MjYJkmTTeTQVo7e/F6iQSf/+FEv5Xnz+cYF36DQW4CseJ7GX36F8PMdxDUXpX9+ikPNYV5/8iD25gANwUoOLX2ZA8Yurjr4UfK7Z3Lw2if5yRU/Pm2//Eh87dVv4nqwEK9RQsBoYMNnLmDWojFWOhvAeIX+POCrUsorkz//G4CU8psD+jyb7POmEMIONAE5wJ0D+w7sd6LXO12hP7D1Rf72sxDe8BGa3nuYf7nmu4M+lNa+Vn6+9Uf4736Uq7aYhD0QdgMSDJv1/zGvh92A9BDYh6SmOVKs4fncnVx89fsHtbcdfJuKH98FByoJ1IPNFOgaJJJ3gSfzphz705RA1J3N0dJracteBck/QFN2EnclCEgdn2mi48BwpOH0BRB2B4ZuIk2Jza5hmhIpJbE+HYfThmYTSFNa+6EEVty+lJiGJBpOYLNrxPqs/Oluv4NoKDHINk0TaA4NM2HiDjiI9+lIabmc7C4bs1flUjg7DZtDo6MhTO2+DlpqepFAl2aiSXBLgQtBvdPEszGP69aV4HHYqGjp5dVDbRxo7mVfQzcuI8wCcZTF2hEWa9Usth0lXUZo6ltDRfQCmhNzAA1BgoSji7DNBDQ004YmbdilhpB27KYTTR6faZrE8Ea6MWxOEo4gAsnsuj8z91o7M/7+B6e6rCaXRNQS/abd0F6J2VbJ5qrFbOm6ASchHPQRJpe0WDXzD/wEX6d1R6Nr0B2QCCmwmWAzwK6DOwGdPnj0ah+33PF11s+6ckzmtEfaeeHhXbS+IXG4bGh2QSys865/XUV++SS6u06Tqm99jth9f0F3Q7NXIKT1N+1OQLAP2gOCu+/I52iWQUe0Azt2bpYfJXvbIgxd4vAK4iGT8LIaPvWRW04a+XQ6NIebue4P1/EvT66nJ+MydIcfd2Qbd9z3WbQRNm2divEK/c3AVVLKjyZ/fj+wTkr56QF99iT71CV/PgysA74KbJJS/i7Z/ivgaSnlI0Ne4+PAxwFKS0tX1dTUjPmXPLhlB6//8AUy1zu58VP/eMJ+NT01vH7ff+B7Yy8ipmNIic0kqbgCIUDo0Bd0ES8owePKICNrJiXvuJxZ61cPm/0PJKEb7HnpKbqefpBQaz26HiUmdBLCQJMymUFO9P977IEQg342cdGZVUY4fTZpiSI8uLH7svCl56E5vdgcGtKkX+CFTWDEDRACTRM4PXaMhHEsIAY0AaYkETcRIingdq0/T36sT8fptZOI6uTPTOuPM26vD2EaEs0m6OuOI2wCl8dOTmmA0kWZePyD45GllLTU9FKzu422xjAR3aQ3oZM1N43LL5uB+wSLXeGYzpG2MHWdETrCcdpCMdpDMaIJE8OI44u14U9EcHVpyD4HxDWkhISIkrBFidt0dC2K22knGHBRPC+TjBw/jTUdNB7qRW/oIKutm7R4D+Xpdcz/h0/gX7jxFFfU9KFubwsVbx1FD4fISguzeH4PGhE6m1qp3nuQ2kMVGN1hJBLDJq1UhXaNaF428z/6edbOvxTbWBfhB9B0pJv9bzSixwxmLMlmzprJLQg+Hip/9B9En3+ePiNBj00SsUnCdicNswrpuKgc6ffgtDnJ8+Zx0+ybyPPlEe6OsftvdYS7YmQV+Vl6SclJ/+7Hw2OVj/FK5QvkvNVMds1iNC3Oh3/5X6d1rmkv9AMZ72KsQqFQnIucTOhHc39QDwyM/StOto3YJ+m6ScNalB3NWIVCoVBMIKMR+s3AHCFEuRDCCbwHGBoL9DjwweTzm4EXpXWr8DjwHiGESwhRDswB3k6N6QqFQqEYDacMJJdS6kKITwPPYoVX3iul3CuEuAvYIqV8HPgV8FshRCXQgfVlQLLfQ8A+QAf+4WQRNwqFQqFIPWfdhimFQqE4Fxmvj16hUCgUZzBK6BUKheIsRwm9QqFQnOUooVcoFIqznGm3GCuEaAXGvjX2ONlAW4rMmQiUfeND2Tc+lH3jYzrbVyalHDH/+rQT+vEihNhyopXn6YCyb3wo+8aHsm98THf7ToRy3SgUCsVZjhJ6hUKhOMs5G4X+nqk24BQo+8aHsm98KPvGx3S3b0TOOh+9QqFQKAZzNs7oFQqFQjEAJfQKhUJxlnPGCb0QoloIsVsIsUMIsSXZlimEeF4IUZH8PyPZLoQQPxRCVAohdgkhVk6wbfOSdh179AghPiOE+KoQon5A+zUDxvxb0r6DQoix1XobnU33CiFaksVhjrWN+f0SQnww2b9CCPHBkV4rhfZ9RwhxIGnDn4QQ6cn2GUKIyID38ecDxqxKXheVyd8hJSWBTmDfmD9PIcRVybZKIcSdqbDtJPb9YYBt1UKIHcn2qXj/SoQQLwkh9gkh9goh/jnZPi2uwZPYN22uwZQgpTyjHkA1kD2k7dvAncnndwLfSj6/Bngaq0LfeuCtSbTThlU7twyr0tbnR+izENgJuIBy4DBgS7EdG4GVwJ7Tfb+ATKAq+X9G8nnGBNp3BWBPPv/WAPtmDOw35DxvJ20Wyd/h6gm0b0yfZ/JxGJgJOJN9Fk6UfUOOfxf48hS+fwXAyuTzAHAo+T5Ni2vwJPZNm2swFY8zbkZ/Am4Afp18/mvgxgHtv5EWm4B0IUTBJNl0KXBYSnmyXb43AA9KKWNSyiNAJbA2lUZIKV/BqhEw9HXH8n5dCTwvpeyQUnYCzwNXTZR9UsrnpJR68sdNWJXJTkjSxqCUcpO0/uJ+M+B3Srl9J+FEn+daoFJKWSWljAMPJvtOqH3JGeW7gQdOdo4Jfv8apZTbks97gf1AEdPkGjyRfdPpGkwFZ6LQS+A5IcRWYRUVB8iTUjYmnzcBx6oXFwG1A8bWJdsmg/cw+A/s08nbwHuP3aZOoX1jfb+m8n38MNbs6BjlQojtQoiXhRAXJNuKkjZNpn1j+Tyn6v27AGiWUlYMaJuy908IMQNYAbzFNLwGh9g3kOl6DY6aM1Hoz5dSrgSuBv5BCLFx4MHkt+mUxowKq+Ti9cDDyaafAbOA5UAj1u30tGA6vF8nQgjxJazKZL9PNjUCpVLKFcBngfuFEMEpMG3afp5DuI3Bk40pe/+EEH7gUeAzUsqegcemwzV4Ivum8TU4Js44oZdS1if/bwH+hHVb3HzMJZP8vyXZfaqKk18NbJNSNidtbZZSGlJKE/gFx90zU2XfWN+vSbdTCPEh4FrgfUkhIOkSaU8+34rl956btGXgrfWE2ncan+dUvH924O+APwywe0rePyGEA0tEfy+l/GOyedpcgyewb1pfg2PljBJ6IYRPCBE49hxrwWQPg4uTfxB4LPn8ceADyZX89UD3gNvFiWTQTGrIusBNWDYfs28qiqeP9f16FrhCCJGRdFNckWybEIQQVwFfBK6XUvYNaM8RQtiSz2divV9VSRt7hBDrk37pDwz4nSbCvrF+npuBOUKI8uTd3nuSfSeSy4ADUsp+d8JUvH/J8/0K2C+l/N6AQ9PiGjyRfdP9Ghwzk736O54HVtTCzuRjL/ClZHsW8AJQAfwVyEy2C+AnWN+6u4HVk2CjD2gH0ga0/Tb5+ruwLuSCAce+lLTvIBOwSo/1hdMIJLD8hh85nfcLy09ZmXzcMcH2VWL5Y3ckHz9P9n1X8nPfAWwDrhtwntVYgnsY+DHJXd8TZN+YP0+saJJDyWNfmsj3L9n+f8Anh/SdivfvfCy3zK4Bn+c10+UaPIl90+YaTMVDpUBQKBSKs5wzynWjUCgUirGjhF6hUCjOcpTQKxQKxVmOEnqFQqE4y1FCr1AoFGc5SugVCoXiLEcJvUKhUJzl/H/xP9itGLud7QAAAABJRU5ErkJggg==\n",
      "text/plain": [
       "<Figure size 432x288 with 1 Axes>"
      ]
     },
     "metadata": {
      "needs_background": "light"
     },
     "output_type": "display_data"
    }
   ],
   "source": [
    "cr_spec = continuum_removed(spec2[51])\n",
    "\n",
    "for i in range (0,5,1):\n",
    "    cr_spec.iloc[i,:].plot()\n",
    "    "
   ]
  },
  {
   "cell_type": "markdown",
   "id": "88485b75",
   "metadata": {},
   "source": [
    "## Resampling (n_bands)"
   ]
  },
  {
   "cell_type": "markdown",
   "id": "c3293312",
   "metadata": {},
   "source": [
    "### 1. Sampled Original (sampled_spec: sampled clipped_spectra)"
   ]
  },
  {
   "cell_type": "code",
   "execution_count": 15,
   "id": "f516492c",
   "metadata": {},
   "outputs": [],
   "source": [
    "sampled_spec = {}\n",
    "for n in nbands_sampling:\n",
    "    sampled_spec[n] = resample_spectra (spec2[51], n)"
   ]
  },
  {
   "cell_type": "code",
   "execution_count": 16,
   "id": "e039a42c",
   "metadata": {},
   "outputs": [],
   "source": [
    "# for i in range (0,5,1):\n",
    "#     sampled_spec[200].iloc[i,:].plot()"
   ]
  },
  {
   "cell_type": "markdown",
   "id": "6b556f5a",
   "metadata": {},
   "source": [
    "### 2. Sampled Continuum Removed  (sampled_cr)"
   ]
  },
  {
   "cell_type": "code",
   "execution_count": 17,
   "id": "fab45619",
   "metadata": {},
   "outputs": [],
   "source": [
    "sampled_cr = {}\n",
    "for n in nbands_sampling:\n",
    "    sampled_cr[n] = resample_spectra (cr_spec, n)"
   ]
  },
  {
   "cell_type": "code",
   "execution_count": 18,
   "id": "de689267",
   "metadata": {},
   "outputs": [],
   "source": [
    "# for i in range (0,5,1):\n",
    "#     sampled_cr[200].iloc[i,:].plot()"
   ]
  },
  {
   "cell_type": "markdown",
   "id": "822eed90",
   "metadata": {},
   "source": [
    "### 3. Sampled FOD  (sampled_fod)"
   ]
  },
  {
   "cell_type": "code",
   "execution_count": 19,
   "id": "cd32e9c3",
   "metadata": {},
   "outputs": [],
   "source": [
    "sampled_fod = {}\n",
    "for n in nbands_sampling:\n",
    "    sampled_fod[n] = resample_spectra (fod_spec, n)"
   ]
  },
  {
   "cell_type": "code",
   "execution_count": 20,
   "id": "bbaa74eb",
   "metadata": {},
   "outputs": [],
   "source": [
    "# for i in range (0,10,1):\n",
    "#     sampled_fod[200].iloc[i,:].plot()"
   ]
  },
  {
   "cell_type": "markdown",
   "id": "ad37e7ab",
   "metadata": {},
   "source": [
    "## Visualizing Processed Spectrum (variable samples)"
   ]
  },
  {
   "cell_type": "code",
   "execution_count": 21,
   "id": "ecc8344d",
   "metadata": {},
   "outputs": [
    {
     "data": {
      "application/vnd.jupyter.widget-view+json": {
       "model_id": "73ef149e10e847ea9a70278f6e848249",
       "version_major": 2,
       "version_minor": 0
      },
      "text/plain": [
       "interactive(children=(IntSlider(value=146, description='sample', max=293), Dropdown(description='process', opt…"
      ]
     },
     "metadata": {},
     "output_type": "display_data"
    },
    {
     "data": {
      "text/plain": [
       "<function __main__.plot_spec(sample, process)>"
      ]
     },
     "execution_count": 21,
     "metadata": {},
     "output_type": "execute_result"
    }
   ],
   "source": [
    "def plot_spec (sample, process):\n",
    "    x1 = spec2[51].iloc[sample,:]\n",
    "    x1.plot()\n",
    "    if process == 'continuum':\n",
    "        x2 = cr_spec.iloc[sample,:]\n",
    "        x2.plot()\n",
    "    else: \n",
    "        x3 = fod_spec.iloc[sample,:]*100\n",
    "        \n",
    "        x3.plot()\n",
    "    plt.ylim([-0.6, 0.8])\n",
    "\n",
    "ipywidgets.interact(plot_spec, sample = (0, 293,1), process = ['fod', 'continuum'])"
   ]
  },
  {
   "cell_type": "markdown",
   "id": "c12f62f4",
   "metadata": {},
   "source": [
    "## Correlation between wavelengths and Targets"
   ]
  },
  {
   "cell_type": "code",
   "execution_count": 22,
   "id": "dd230431",
   "metadata": {},
   "outputs": [
    {
     "data": {
      "application/vnd.jupyter.widget-view+json": {
       "model_id": "c124f4a1df604c74ac13741b0fda69b5",
       "version_major": 2,
       "version_minor": 0
      },
      "text/plain": [
       "interactive(children=(Dropdown(description='target', options=('sand', 'silt', 'clay', 'TOC'), value='sand'), D…"
      ]
     },
     "metadata": {},
     "output_type": "display_data"
    },
    {
     "data": {
      "text/plain": [
       "<function __main__.plot_corr(target, spec_cr_fod, n_bands)>"
      ]
     },
     "execution_count": 22,
     "metadata": {},
     "output_type": "execute_result"
    }
   ],
   "source": [
    "plt.style.use(['science','notebook','grid'])\n",
    "\n",
    "def plot_corr (target, spec_cr_fod, n_bands):\n",
    "    \n",
    "    i = target_names.index(target)    \n",
    "    \n",
    "    if  spec_cr_fod == 'spec':\n",
    "        r_val, p_val = find_rpval (resample_spectra(spec2[51], n_bands), T[i])\n",
    "        r_val.iloc[0,:].plot(color = clr[i])\n",
    "    elif  spec_cr_fod == 'cr':\n",
    "        r_cr, p_cr = find_rpval (resample_spectra(cr_spec, n_bands), T[i])\n",
    "        r_cr.iloc[0,:].plot(color = clr[i])\n",
    "    else:\n",
    "        r_fod, p_fod = find_rpval (resample_spectra(fod_spec, n_bands), T[i])\n",
    "        r_fod.iloc[0,:].plot(color = clr[i])\n",
    "    \n",
    "    plt.ylim([-0.7, 0.7])\n",
    "\n",
    "ipywidgets.interact(plot_corr, target = target_names, spec_cr_fod = ['spec', 'cr','fod'], n_bands = nbands_sampling)\n",
    "\n"
   ]
  },
  {
   "cell_type": "markdown",
   "id": "f00e07ff",
   "metadata": {},
   "source": [
    "# Step 2:  Parameters for Best Train-Test Split  "
   ]
  },
  {
   "cell_type": "code",
   "execution_count": 20,
   "id": "1300a125",
   "metadata": {},
   "outputs": [
    {
     "name": "stdout",
     "output_type": "stream",
     "text": [
      "Without Normalization:\n",
      "For sand :test size = 0.2 \t min bin error= 21.25 \t at randome state = 18\n",
      "For silt :test size = 0.2 \t min bin error= 18.75 \t at randome state = 13\n",
      "For clay :test size = 0.2 \t min bin error= 31.25 \t at randome state = 7\n",
      "For TOC :test size = 0.2 \t min bin error= 13.75 \t at randome state = 15\n",
      "After Normalization:\n",
      "For sand :test size = 0.2 \t min bin error= 33.75 \t at randome state = 23\n",
      "For silt :test size = 0.2 \t min bin error= 33.75 \t at randome state = 0\n",
      "For clay :test size = 0.2 \t min bin error= 31.25 \t at randome state = 7\n",
      "For TOC :test size = 0.2 \t min bin error= 23.75 \t at randome state = 13\n"
     ]
    }
   ],
   "source": [
    "# Building Mtree (Model Tree) ----------------------------------\n",
    "\n",
    "tst_siz = 0.20\n",
    "\n",
    "rand_t = [None] * (len(T))\n",
    "err_t = [None] * (len(T))\n",
    "\n",
    "print('Without Normalization:')\n",
    "for i in range (0,len(T)):\n",
    "    rand_t[i], err_t[i] = best_split(spectra.copy(), T[i], tst_siz) \n",
    "    print ('For '+ target_names[i]+ ' :test size =', tst_siz, '\\t min bin error=', err_t[i], '\\t at randome state =', rand_t[i])\n",
    "    \n",
    "rand_nt = [None] * (len(T))\n",
    "err_nt = [None] * (len(T))\n",
    "\n",
    "print('After Normalization:')\n",
    "for i in range (0,len(T)):\n",
    "    rand_nt[i], err_nt[i] = best_split(spectra.copy(), NT[i], tst_siz)     \n",
    "    print ('For '+ target_names[i]+ ' :test size =', tst_siz, '\\t min bin error=', err_nt[i], '\\t at randome state =', rand_nt[i])\n",
    "    \n",
    "    "
   ]
  },
  {
   "cell_type": "markdown",
   "id": "7e853a50",
   "metadata": {},
   "source": [
    "# Step 3: Parameters for Best Model Fit "
   ]
  },
  {
   "cell_type": "markdown",
   "id": "d531478b",
   "metadata": {},
   "source": [
    "## PLSR"
   ]
  },
  {
   "cell_type": "code",
   "execution_count": 21,
   "id": "311d0c9a",
   "metadata": {},
   "outputs": [],
   "source": [
    "from sklearn import linear_model\n",
    "\n",
    "def best_param_PLSR (X_train, X_test, y_train, y_test, n_comp):\n",
    "        \n",
    "    iqrpL = []\n",
    "#     r2L = []\n",
    "#     rpdL = []\n",
    "    \n",
    "    for n in range(1,n_comp):\n",
    "        Model = PLSRegression(n_components=n, scale=True)\n",
    "        Model.fit(X_train, y_train)\n",
    "        y_pred = Model.predict(X_test, copy=True)\n",
    "        \n",
    "        iqrp_test = find_iqrp(y_pred, y_test)\n",
    "#         r2_test = find_r2(y_pred, y_test)         \n",
    "#         rpd_test = find_rpd(y_pred, y_test)\n",
    "               \n",
    "        iqrpL.append(iqrp_test)\n",
    "#         r2L.append(r2_test)\n",
    "#         rpdL.append(rpd_test)\n",
    "                \n",
    "    \n",
    "    IQRP = max(iqrpL)\n",
    "    n_iqrp = iqrpL.index(max(iqrpL))+1\n",
    "#     R2 = max(r2L)     \n",
    "#     n_r2 = r2L.index(R2)+1    \n",
    "#     RPD = max(rpdL)\n",
    "#     n_rpd = rpdL.index(RPD)+1\n",
    "    \n",
    "    #print('IQRP :', IQRP,  'R2 :', R2,  '>>> n_comp: ', n_iqrp)    \n",
    "    return (n_iqrp)\n",
    "        \n",
    " "
   ]
  },
  {
   "cell_type": "markdown",
   "id": "d908099c",
   "metadata": {},
   "source": [
    "# Step 4: Building Model Tree (Mtree)"
   ]
  },
  {
   "cell_type": "code",
   "execution_count": 22,
   "id": "07468618",
   "metadata": {},
   "outputs": [],
   "source": [
    "import os\n",
    "os.system('say \"your program has finished\"')\n",
    "import time"
   ]
  },
  {
   "cell_type": "code",
   "execution_count": 23,
   "id": "f4a97c5c",
   "metadata": {},
   "outputs": [],
   "source": [
    "# 0. Available machine learning regression models --------------------------------- (7)\n",
    "ml_methods = ['mult', 'plsr', 'randomforest', 'cubist', 'svr', 'ridge', 'gbrt']\n",
    "#ml_methods = ['mult', 'plsr', 'cubist', 'randomforest', 'ridge' 'gbrt', 'svr']"
   ]
  },
  {
   "cell_type": "code",
   "execution_count": 24,
   "id": "36d247b4",
   "metadata": {},
   "outputs": [],
   "source": [
    "max_n_comp = 5\n",
    "\n",
    "def build_tree_for (method_name):\n",
    "    tree ={}\n",
    "    start = time.time()\n",
    "    m = method_name\n",
    "    #-- code to build tree----\n",
    "    for t in target_names:\n",
    "        print('tree for: '+ m +' ------> running on: ' + t)\n",
    "        tree[t] ={}\n",
    "        for tp in prepare_target:\n",
    "            tree[t][tp] ={}\n",
    "            for n in nbands_sampling:\n",
    "                tree[t][tp][n] ={}\n",
    "                for p in prepare_spec:\n",
    "                    tree[t][tp][n][p] ={}\n",
    "                    Y = tree[t][tp][n][p]\n",
    "                    \n",
    "                        \n",
    "                    #------ setting spec to appropriate (sampled) spectra----\n",
    "                    if p == 'none':\n",
    "                        if n == 0:\n",
    "                            if m == 'randomforest' or m == 'cubist' or m == 'gbrt':\n",
    "                                #---- reched here due to tree based methods e.g. randomforest--\n",
    "                                spec = sampled_spec[100]\n",
    "                            else:\n",
    "                                spec = spec2[51]\n",
    "                        else:\n",
    "                            #---- reached here with some n!=0----\n",
    "                            spec = sampled_spec[n]\n",
    "                        \n",
    "                    elif p == 'fod':\n",
    "                        if n == 0:\n",
    "                            if m == 'randomforest' or m == 'cubist' or m == 'gbrt':\n",
    "                                #---- reched here due to tree based methods e.g. randomforest--\n",
    "                                spec = sampled_fod[100]\n",
    "                            else:\n",
    "                                spec = fod_spec\n",
    "                        else:\n",
    "                            #---- reached here with some n!=0----\n",
    "                            spec = sampled_fod[n]\n",
    "                                \n",
    "                    else:  \n",
    "                        if n == 0:\n",
    "                            if m == 'randomforest' or m == 'cubist' or m == 'gbrt':\n",
    "                                #---- reched here due to tree based methods e.g. randomforest--\n",
    "                                spec = sampled_cr[100]\n",
    "                            else:\n",
    "                                spec = cr_spec\n",
    "                        else:\n",
    "                            #---- reached here with some n!=0----\n",
    "                            spec = sampled_cr[n]\n",
    "                        \n",
    "                    #---- target selection and normalization ---\n",
    "                    if tp == 'none':\n",
    "                        y = T[target_names.index(t)]\n",
    "                        rand_n = rand_t[target_names.index(t)]  #-- for future use in train-test split\n",
    "                    else:\n",
    "                        y = NT[target_names.index(t)]\n",
    "                        rand_n = rand_nt[target_names.index(t)] #-- for future use in train-test split\n",
    "                        #print('one more target set')\n",
    "                            \n",
    "                    #---- performing train-test split----------------------\n",
    "                    X_train, X_test, y_train, y_test = train_test_split(spec, y, test_size= tst_siz, random_state=rand_n)\n",
    "                        \n",
    "                        \n",
    "                    #------INITIATING the appropriate models-----------------------------------------------\n",
    "                    #----- PLSR: best parameters, fitting, and prediction\n",
    "                    if m == 'plsr':\n",
    "                        n_com = best_param_PLSR (X_train, X_test, y_train, y_test, max_n_comp)\n",
    "                        Y['n_comp'] = n_com\n",
    "                        Model = PLSRegression(n_components=n_com, scale=True)\n",
    "                    #----- MULTILINEAR:  fitting, and prediction---------- \n",
    "                    elif m == 'mult':\n",
    "                        Model = linear_model.LinearRegression()    \n",
    "                    #----- RANDOM_FOREST:   fitting, and prediction---------- \n",
    "                    elif m == 'randomforest': \n",
    "                        Model = RandomForestRegressor(random_state= 23)    \n",
    "                    #----- CUBIST REGRESSION:    fitting and prediction---------\n",
    "                    elif m == 'cubist':\n",
    "                        Model = Cubist(n_rules = 50, n_committees = 5, random_state = 42)    \n",
    "                    #------ SUPPORT VECTOR MACHINE FOR REGRESSION: fitting and prediction-----------      \n",
    "                    elif m == 'svr': \n",
    "                        Model = SVR()\n",
    "                    #------ RIDGE REGRESSION: fitting and prediction-----------      \n",
    "                    elif m == 'ridge': \n",
    "                        Model = KernelRidge()\n",
    "                    #------ GRADIENT BOOSTING REGRESSION: fitting and prediction-----------      \n",
    "                    else: \n",
    "                        Model = GradientBoostingRegressor()                         \n",
    "                        \n",
    "                    Model.fit(X_train, y_train)\n",
    "                    y_pred = Model.predict(X_test)\n",
    "                    yhat_pred = Model.predict(X_train)\n",
    "                                \n",
    "                    Y['test'] = y_test\n",
    "                    Y['testP'] = y_pred\n",
    "                    Y['train'] = y_train\n",
    "                    Y['trainP'] = yhat_pred\n",
    "                    Y['iqrp_test'] = find_iqrp(y_pred, y_test)\n",
    "                    Y['r2_test'] = find_r2(y_pred, y_test)\n",
    "                    Y['rpd_test'] = find_rpd(y_pred, y_test)\n",
    "                    Y['rmse_test'] = find_rmse(y_pred, y_test)\n",
    "                                                                \n",
    "                                                                         \n",
    "    end = time.time()                            \n",
    "    os.system('say \"your program has finished\"')                            \n",
    "\n",
    "    print('End time - Start time =', (end-start)) \n",
    "    \n",
    "    return (tree.copy())\n"
   ]
  },
  {
   "cell_type": "markdown",
   "id": "2cbe7179",
   "metadata": {},
   "source": [
    "## Mtree initialisation (do not run below code every time)"
   ]
  },
  {
   "cell_type": "code",
   "execution_count": 25,
   "id": "fbc012ba",
   "metadata": {},
   "outputs": [],
   "source": [
    "Mtree ={}"
   ]
  },
  {
   "cell_type": "markdown",
   "id": "65d3136d",
   "metadata": {},
   "source": [
    "## Creating different branches of Mtree (for separate methods)"
   ]
  },
  {
   "cell_type": "markdown",
   "id": "9e879891",
   "metadata": {},
   "source": [
    "### PLSR Branch "
   ]
  },
  {
   "cell_type": "code",
   "execution_count": 26,
   "id": "41c34738",
   "metadata": {},
   "outputs": [
    {
     "name": "stdout",
     "output_type": "stream",
     "text": [
      "tree for: plsr ------> running on: sand\n",
      "tree for: plsr ------> running on: silt\n",
      "tree for: plsr ------> running on: clay\n",
      "tree for: plsr ------> running on: TOC\n",
      "End time - Start time = 31.486265182495117\n"
     ]
    }
   ],
   "source": [
    "Mtree['plsr'] = build_tree_for ('plsr')"
   ]
  },
  {
   "cell_type": "markdown",
   "id": "86e6ce3a",
   "metadata": {},
   "source": [
    "### Multiple Linear Regression Branch"
   ]
  },
  {
   "cell_type": "code",
   "execution_count": 27,
   "id": "b02641a6",
   "metadata": {},
   "outputs": [
    {
     "name": "stdout",
     "output_type": "stream",
     "text": [
      "tree for: mult ------> running on: sand\n",
      "tree for: mult ------> running on: silt\n",
      "tree for: mult ------> running on: clay\n",
      "tree for: mult ------> running on: TOC\n",
      "End time - Start time = 10.36452579498291\n"
     ]
    }
   ],
   "source": [
    "Mtree['mult'] = build_tree_for ('mult')"
   ]
  },
  {
   "cell_type": "markdown",
   "id": "4b9d0acc",
   "metadata": {},
   "source": [
    "\n",
    "### Random Forest Branch"
   ]
  },
  {
   "cell_type": "code",
   "execution_count": 28,
   "id": "867391a0",
   "metadata": {},
   "outputs": [
    {
     "name": "stdout",
     "output_type": "stream",
     "text": [
      "tree for: randomforest ------> running on: sand\n",
      "tree for: randomforest ------> running on: silt\n",
      "tree for: randomforest ------> running on: clay\n",
      "tree for: randomforest ------> running on: TOC\n",
      "End time - Start time = 548.3382275104523\n"
     ]
    }
   ],
   "source": [
    "Mtree['randomforest'] = build_tree_for ('randomforest')"
   ]
  },
  {
   "cell_type": "markdown",
   "id": "3a4358d9",
   "metadata": {},
   "source": [
    "### SVM Branch"
   ]
  },
  {
   "cell_type": "code",
   "execution_count": 29,
   "id": "3bfe29be",
   "metadata": {},
   "outputs": [
    {
     "name": "stdout",
     "output_type": "stream",
     "text": [
      "tree for: svr ------> running on: sand\n",
      "tree for: svr ------> running on: silt\n",
      "tree for: svr ------> running on: clay\n",
      "tree for: svr ------> running on: TOC\n",
      "End time - Start time = 20.018349409103394\n"
     ]
    }
   ],
   "source": [
    "Mtree['svr'] = build_tree_for ('svr')"
   ]
  },
  {
   "cell_type": "markdown",
   "id": "e5e189c3",
   "metadata": {},
   "source": [
    "### GBRT Branch"
   ]
  },
  {
   "cell_type": "code",
   "execution_count": 30,
   "id": "e6139101",
   "metadata": {},
   "outputs": [
    {
     "name": "stdout",
     "output_type": "stream",
     "text": [
      "tree for: gbrt ------> running on: sand\n",
      "tree for: gbrt ------> running on: silt\n",
      "tree for: gbrt ------> running on: clay\n",
      "tree for: gbrt ------> running on: TOC\n",
      "End time - Start time = 344.63750529289246\n"
     ]
    }
   ],
   "source": [
    "Mtree['gbrt'] = build_tree_for ('gbrt')"
   ]
  },
  {
   "cell_type": "markdown",
   "id": "32ff0fb2",
   "metadata": {},
   "source": [
    "### Ridge Regression Branch"
   ]
  },
  {
   "cell_type": "code",
   "execution_count": 31,
   "id": "93db53ce",
   "metadata": {},
   "outputs": [
    {
     "name": "stdout",
     "output_type": "stream",
     "text": [
      "tree for: ridge ------> running on: sand\n",
      "tree for: ridge ------> running on: silt\n",
      "tree for: ridge ------> running on: clay\n",
      "tree for: ridge ------> running on: TOC\n",
      "End time - Start time = 8.120288610458374\n"
     ]
    }
   ],
   "source": [
    "Mtree['ridge'] = build_tree_for ('ridge')"
   ]
  },
  {
   "cell_type": "markdown",
   "id": "fee13435",
   "metadata": {},
   "source": [
    "### Cubist Branch"
   ]
  },
  {
   "cell_type": "code",
   "execution_count": 32,
   "id": "062e07b1",
   "metadata": {},
   "outputs": [
    {
     "name": "stdout",
     "output_type": "stream",
     "text": [
      "tree for: cubist ------> running on: sand\n",
      "tree for: cubist ------> running on: silt\n",
      "tree for: cubist ------> running on: clay\n",
      "tree for: cubist ------> running on: TOC\n",
      "End time - Start time = 425.93206572532654\n"
     ]
    }
   ],
   "source": [
    "Mtree['cubist'] = build_tree_for ('cubist')"
   ]
  },
  {
   "cell_type": "markdown",
   "id": "71e1faa5",
   "metadata": {},
   "source": [
    "## Best of all worlds"
   ]
  },
  {
   "cell_type": "code",
   "execution_count": 33,
   "id": "a1f85e45",
   "metadata": {},
   "outputs": [],
   "source": [
    "#ml_methods = ['mult', 'plsr', 'randomforest','svr', 'ridge', 'gbrt']"
   ]
  },
  {
   "cell_type": "code",
   "execution_count": 34,
   "id": "04241275",
   "metadata": {},
   "outputs": [],
   "source": [
    "def best_model_parameters (Mtree, target, method, scorer):\n",
    "    t=target\n",
    "    m= method\n",
    "    \n",
    "    best_score = -1\n",
    "    best_n_comp = 'NA'\n",
    "    \n",
    "    \n",
    "    for tp in prepare_target:\n",
    "        for n in nbands_sampling:\n",
    "            for p in prepare_spec:\n",
    "                Y = Mtree[m][t][tp][n][p]\n",
    "                    \n",
    "                if scorer == 'iqrp':\n",
    "                    cur_score = Y['iqrp_test']\n",
    "                elif scorer == 'rpd':\n",
    "                    cur_score = Y['rpd_test']\n",
    "                else:\n",
    "                    cur_score = Y['r2_test']  \n",
    "                    \n",
    "                if cur_score > best_score:\n",
    "                    best_score = cur_score\n",
    "                    best_tp = tp\n",
    "                    best_n = n\n",
    "                    best_p = p\n",
    "                    if m == 'plsr':\n",
    "                        best_n_comp = Y['n_comp']\n",
    "                            \n",
    "    param_list = [scorer, np.round(best_score,2), 'Spec:', best_p, 'bands:', best_n, 'Tar:', best_tp]                                 \n",
    "    return (param_list)                                \n",
    "    "
   ]
  },
  {
   "cell_type": "code",
   "execution_count": 35,
   "id": "0b8e5bf2",
   "metadata": {},
   "outputs": [],
   "source": [
    "def best_score_for (Mtree, target, scorer):\n",
    "    \n",
    "    for method in ml_methods:\n",
    "        param_list= best_model_parameters (Mtree, target, method, scorer)\n",
    "        print('For:'+target+'->', param_list, ':'+method)\n",
    "     \n",
    "    return"
   ]
  },
  {
   "cell_type": "code",
   "execution_count": 36,
   "id": "b948ff18",
   "metadata": {},
   "outputs": [
    {
     "name": "stdout",
     "output_type": "stream",
     "text": [
      "For:sand-> ['iqrp', 2.08, 'Spec:', 'none', 'bands:', 50, 'Tar:', 'minmax'] :mult\n",
      "For:sand-> ['iqrp', 2.22, 'Spec:', 'continuum', 'bands:', 200, 'Tar:', 'minmax'] :plsr\n",
      "For:sand-> ['iqrp', 1.93, 'Spec:', 'continuum', 'bands:', 50, 'Tar:', 'minmax'] :randomforest\n",
      "For:sand-> ['iqrp', 2.16, 'Spec:', 'continuum', 'bands:', 0, 'Tar:', 'minmax'] :cubist\n",
      "For:sand-> ['iqrp', 1.7, 'Spec:', 'fod', 'bands:', 500, 'Tar:', 'minmax'] :svr\n",
      "For:sand-> ['iqrp', 1.71, 'Spec:', 'none', 'bands:', 0, 'Tar:', 'minmax'] :ridge\n",
      "For:sand-> ['iqrp', 2.02, 'Spec:', 'fod', 'bands:', 500, 'Tar:', 'minmax'] :gbrt\n"
     ]
    }
   ],
   "source": [
    "best_score_for(Mtree, 'sand', 'iqrp')"
   ]
  },
  {
   "cell_type": "code",
   "execution_count": 37,
   "id": "41642a4d",
   "metadata": {},
   "outputs": [
    {
     "name": "stdout",
     "output_type": "stream",
     "text": [
      "For:sand-> ['r2', 0.58, 'Spec:', 'none', 'bands:', 50, 'Tar:', 'minmax'] :mult\n",
      "For:sand-> ['r2', 0.63, 'Spec:', 'continuum', 'bands:', 200, 'Tar:', 'minmax'] :plsr\n",
      "For:sand-> ['r2', 0.51, 'Spec:', 'continuum', 'bands:', 50, 'Tar:', 'minmax'] :randomforest\n",
      "For:sand-> ['r2', 0.61, 'Spec:', 'continuum', 'bands:', 0, 'Tar:', 'minmax'] :cubist\n",
      "For:sand-> ['r2', 0.37, 'Spec:', 'fod', 'bands:', 500, 'Tar:', 'minmax'] :svr\n",
      "For:sand-> ['r2', 0.38, 'Spec:', 'none', 'bands:', 0, 'Tar:', 'minmax'] :ridge\n",
      "For:sand-> ['r2', 0.56, 'Spec:', 'fod', 'bands:', 500, 'Tar:', 'minmax'] :gbrt\n"
     ]
    }
   ],
   "source": [
    "best_score_for(Mtree, 'sand', 'r2')"
   ]
  },
  {
   "cell_type": "code",
   "execution_count": 38,
   "id": "80d73321",
   "metadata": {},
   "outputs": [
    {
     "name": "stdout",
     "output_type": "stream",
     "text": [
      "For:TOC-> ['iqrp', 1.75, 'Spec:', 'continuum', 'bands:', 10, 'Tar:', 'none'] :mult\n",
      "For:TOC-> ['iqrp', 1.9, 'Spec:', 'continuum', 'bands:', 200, 'Tar:', 'none'] :plsr\n",
      "For:TOC-> ['iqrp', 1.83, 'Spec:', 'continuum', 'bands:', 500, 'Tar:', 'none'] :randomforest\n",
      "For:TOC-> ['iqrp', 1.91, 'Spec:', 'continuum', 'bands:', 10, 'Tar:', 'none'] :cubist\n",
      "For:TOC-> ['iqrp', 1.83, 'Spec:', 'fod', 'bands:', 0, 'Tar:', 'none'] :svr\n",
      "For:TOC-> ['iqrp', 1.62, 'Spec:', 'continuum', 'bands:', 0, 'Tar:', 'none'] :ridge\n",
      "For:TOC-> ['iqrp', 1.8, 'Spec:', 'fod', 'bands:', 100, 'Tar:', 'none'] :gbrt\n"
     ]
    }
   ],
   "source": [
    "best_score_for(Mtree, 'TOC', 'iqrp')"
   ]
  },
  {
   "cell_type": "code",
   "execution_count": 39,
   "id": "cd50f3db",
   "metadata": {},
   "outputs": [
    {
     "name": "stdout",
     "output_type": "stream",
     "text": [
      "For:TOC-> ['r2', 0.5, 'Spec:', 'continuum', 'bands:', 10, 'Tar:', 'none'] :mult\n",
      "For:TOC-> ['r2', 0.57, 'Spec:', 'continuum', 'bands:', 200, 'Tar:', 'none'] :plsr\n",
      "For:TOC-> ['r2', 0.54, 'Spec:', 'continuum', 'bands:', 500, 'Tar:', 'none'] :randomforest\n",
      "For:TOC-> ['r2', 0.58, 'Spec:', 'continuum', 'bands:', 10, 'Tar:', 'none'] :cubist\n",
      "For:TOC-> ['r2', 0.54, 'Spec:', 'fod', 'bands:', 0, 'Tar:', 'none'] :svr\n",
      "For:TOC-> ['r2', 0.42, 'Spec:', 'continuum', 'bands:', 0, 'Tar:', 'none'] :ridge\n",
      "For:TOC-> ['r2', 0.53, 'Spec:', 'fod', 'bands:', 100, 'Tar:', 'none'] :gbrt\n"
     ]
    }
   ],
   "source": [
    "best_score_for(Mtree, 'TOC', 'r2')"
   ]
  },
  {
   "cell_type": "markdown",
   "id": "fe74d829",
   "metadata": {},
   "source": [
    "## Plotting Model Accuracy (ipywidgets)"
   ]
  },
  {
   "cell_type": "code",
   "execution_count": 40,
   "id": "8dd90a0e",
   "metadata": {},
   "outputs": [],
   "source": [
    "def plot_model_acc (target, target_preprocessing, spec_preprocessing, n_bands, method):\n",
    "    \n",
    "    m = method\n",
    "    t = target\n",
    "    \n",
    "    i = target_names.index(target)\n",
    "    \n",
    "    \n",
    "    p = spec_preprocessing\n",
    "    n = n_bands\n",
    "    tp = target_preprocessing\n",
    "    \n",
    "    Y = Mtree[m][t][tp][n][p]\n",
    "    \n",
    "    y_test = Y['test']\n",
    "    y_pred = Y['testP']\n",
    "    y_train = Y['train']\n",
    "    yhat_pred = Y['trainP']\n",
    "    \n",
    "    if m == 'plsr':\n",
    "        n_com = Y['n_comp']\n",
    "        y_pred = y_pred[:,0]\n",
    "        yhat_pred = yhat_pred[:,0]\n",
    "    \n",
    "    \n",
    "    iqrp_test = Y['iqrp_test']\n",
    "    r2_test = Y['r2_test']\n",
    "    rpd_test = Y['rpd_test']\n",
    "    \n",
    "    iqrp_train = find_iqrp(yhat_pred, y_train)\n",
    "    r2_train = find_r2(yhat_pred, y_train)\n",
    "    rpd_train = find_rpd(yhat_pred, y_train)\n",
    "    \n",
    "    y_tp = pd.DataFrame({'actual':y_test.values, 'predic': y_pred})\n",
    "    z = np.polyfit(y_test, y_pred, 1)\n",
    "    \n",
    "    yhat_tp = pd.DataFrame({'actual':y_train.values, 'predic': yhat_pred})\n",
    "    zhat = np.polyfit(y_train, yhat_pred, 1)\n",
    "    \n",
    "    fig, axes = plt.subplots(1,2, figsize=(18,8))\n",
    "    \n",
    "    #with plt.style.context(('ggplot')): ---- PLOT of test-prediction --------------------------------------\n",
    "    y_tp.plot.scatter(ax= axes[0], x=\"actual\", y=\"predic\", alpha=0.8, color = clr[i], edgecolors='k')\n",
    "    axes[0].plot(y_test, np.polyval(z, y_test),  c='blue', linewidth=1)\n",
    "    axes[0].plot(y_test, y_test, color='green', linewidth=1)\n",
    "    axes[0].tick_params(axis='both', labelsize=10)\n",
    "    axes[0].text(0.05, 0.95, target_names[i]+' (Test Data)', transform=axes[0].transAxes, fontsize = 20, color = clr[i])\n",
    "    axes[0].text(0.05, 0.90, 'IQRP ={:.2f}'.format(iqrp_test), transform=axes[0].transAxes, fontsize = 16)\n",
    "    axes[0].text(0.05, 0.85, 'RPD ={:.2f}'.format(rpd_test), transform=axes[0].transAxes, fontsize = 16)\n",
    "    axes[0].text(0.05, 0.80, 'R2 ={:.2f}'.format(np.round(r2_test,3)), transform=axes[0].transAxes, fontsize = 16)\n",
    "    axes[0].text(0.95, 0.15, 'Method: '+method, transform=axes[0].transAxes, \n",
    "                    horizontalalignment='right', fontsize = 20)\n",
    "    \n",
    "    if method == 'plsr':\n",
    "        axes[0].text(0.95, 0.05, 'n_component={:.2f}'.format(n_com), transform=axes[0].transAxes, \n",
    "                    horizontalalignment='right', fontsize = 12)\n",
    "    \n",
    "    #---------------------------------- ---- PLOT of train-prediction --------------------------------------\n",
    "    yhat_tp.plot.scatter(ax= axes[1], x=\"actual\", y=\"predic\", alpha=0.8, color = clr[i], edgecolors='k')\n",
    "    axes[1].plot(y_train, np.polyval(zhat, y_train),  c='blue', linewidth=1)\n",
    "    axes[1].plot(y_train, y_train, color='green', linewidth=1)\n",
    "    axes[1].tick_params(axis='both', labelsize=10)\n",
    "    axes[1].text(0.05, 0.95,  target_names[i]+' (Training Data)', transform=axes[1].transAxes,fontsize = 20, color = clr[i])\n",
    "    axes[1].text(0.05, 0.90, 'IQRP ={:.2f}'.format(iqrp_train), transform=axes[1].transAxes, fontsize = 16)\n",
    "    axes[1].text(0.05, 0.85, 'RPD ={:.2f}'.format(rpd_train), transform=axes[1].transAxes, fontsize = 16)\n",
    "    axes[1].text(0.05, 0.80, 'R2 ={:.2f}'.format(np.round(r2_train,3)), transform=axes[1].transAxes, fontsize = 16)\n",
    "    axes[1].text(0.95, 0.15, 'Method: '+method, transform=axes[1].transAxes, \n",
    "                    horizontalalignment='right', fontsize = 20)\n",
    "    return    "
   ]
  },
  {
   "cell_type": "code",
   "execution_count": 41,
   "id": "89b9db47",
   "metadata": {},
   "outputs": [
    {
     "data": {
      "application/vnd.jupyter.widget-view+json": {
       "model_id": "a2dd8ff5316344aa93e3c307855c8fff",
       "version_major": 2,
       "version_minor": 0
      },
      "text/plain": [
       "interactive(children=(Dropdown(description='target', options=('sand', 'silt', 'clay', 'TOC'), value='sand'), D…"
      ]
     },
     "metadata": {},
     "output_type": "display_data"
    },
    {
     "data": {
      "text/plain": [
       "<function __main__.plot_model_acc(target, target_preprocessing, spec_preprocessing, n_bands, method)>"
      ]
     },
     "execution_count": 41,
     "metadata": {},
     "output_type": "execute_result"
    }
   ],
   "source": [
    "ipywidgets.interact(plot_model_acc, target = target_names,target_preprocessing = prepare_target, \\\n",
    "                    method = ml_methods, spec_preprocessing = prepare_spec, n_bands = nbands_sampling)"
   ]
  },
  {
   "cell_type": "code",
   "execution_count": null,
   "id": "7f8c3328",
   "metadata": {},
   "outputs": [],
   "source": []
  }
 ],
 "metadata": {
  "kernelspec": {
   "display_name": "Python 3 (ipykernel)",
   "language": "python",
   "name": "python3"
  },
  "language_info": {
   "codemirror_mode": {
    "name": "ipython",
    "version": 3
   },
   "file_extension": ".py",
   "mimetype": "text/x-python",
   "name": "python",
   "nbconvert_exporter": "python",
   "pygments_lexer": "ipython3",
<<<<<<< Updated upstream
<<<<<<< Updated upstream
   "version": "3.9.16"
=======
   "version": "3.10.2"
>>>>>>> Stashed changes
=======
   "version": "3.10.2"
>>>>>>> Stashed changes
  }
 },
 "nbformat": 4,
 "nbformat_minor": 5
}
