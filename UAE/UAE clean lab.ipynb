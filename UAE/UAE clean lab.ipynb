{
 "cells": [
  {
   "cell_type": "code",
   "execution_count": 1,
   "id": "c173cf42",
   "metadata": {},
   "outputs": [],
   "source": [
    "# !pip install openpyxl\n",
    "# !pip install imbalanced-learn\n",
    "# !pip3 install ipympl\n",
    "# !pip install import-ipynb\n",
    "# !pip install shapely\n",
    "# !pip install SciencePlots \n",
    "# !pip install seaborn\n",
    "# !pip install tqdm\n",
    "# !pip install ipywidgets"
   ]
  },
  {
   "cell_type": "code",
   "execution_count": 1,
   "id": "3ef6b01f",
   "metadata": {},
   "outputs": [],
   "source": [
    "import pandas as pd\n",
    "import numpy as np\n",
    "import matplotlib.pyplot as plt\n",
    "import seaborn as sns\n",
    "import scienceplots\n",
    "import os, sys\n",
    "from numpy import nan\n",
    "import re\n",
    "import ipympl\n",
    "# from IPython.core.display import display, HTML\n",
    "import ipywidgets\n",
    "import json\n",
    "from os import listdir\n",
    "import glob\n",
    "import math\n",
    "from IPython.display import Image, display, HTML\n",
    "from shapely.geometry import mapping\n",
    "from sklearn.cross_decomposition import PLSRegression\n",
    "from sklearn.ensemble import RandomForestRegressor\n",
    "from sklearn.model_selection import cross_val_score, train_test_split, RepeatedKFold, cross_val_predict\n",
    "from sklearn.metrics import r2_score, mean_squared_error, precision_score, recall_score, mean_absolute_error, make_scorer\n",
    "from sklearn.svm import SVR\n",
    "from sklearn.linear_model import LinearRegression\n",
    "from sklearn.kernel_ridge import KernelRidge\n",
    "from sklearn.datasets import make_regression\n",
    "from sklearn.ensemble import GradientBoostingRegressor\n",
    "from cubist import Cubist\n",
    "from sklearn.model_selection import GridSearchCV, RandomizedSearchCV, LeaveOneOut, cross_validate\n",
    "from sklearn.impute import SimpleImputer\n",
    "from tqdm.notebook import tqdm\n",
    "from sklearn.svm import SVC\n",
    "from tqdm import tqdm\n",
    "import pickle\n",
    "from imblearn.over_sampling import SMOTE\n",
    "from scipy.stats import ks_2samp\n",
    "from scipy import stats\n",
    "np.seterr(divide='ignore', invalid='ignore')\n",
    "pd.options.display.max_columns = 100\n",
    "from sklearn.preprocessing import PolynomialFeatures\n",
    "%matplotlib inline\n",
    "from scipy.signal import savgol_filter\n",
    "from scipy.spatial import ConvexHull\n",
    "from scipy.interpolate import interp1d"
   ]
  },
  {
   "cell_type": "code",
   "execution_count": 2,
   "id": "22684781",
   "metadata": {},
   "outputs": [
    {
     "name": "stdout",
     "output_type": "stream",
     "text": [
      "importing Jupyter notebook from SoilPrep.ipynb\n"
     ]
    }
   ],
   "source": [
    "import import_ipynb\n",
    "from SoilPrep import * "
   ]
  },
  {
   "cell_type": "markdown",
   "id": "237d1771",
   "metadata": {},
   "source": [
    "# Step 0: Setting up decision paramenters (Data Tree)"
   ]
  },
  {
   "cell_type": "code",
   "execution_count": 3,
   "id": "aee7c2d7",
   "metadata": {},
   "outputs": [],
   "source": [
    "# 1. Available smoothing filter types: savgol1 and savgol2 ------------------------ (1)\n",
    "sg_filters = ['sg1', 'sg2']\n",
    "\n",
    "# 2. Available window lengths for the smoothing filter ---------------------------- (2)\n",
    "window_lengths = [0, 1, 11, 21, 31, 41, 51, 61, 71, 81, 91, 101]\n",
    "\n",
    "# 3. Available preprocessing for Spectral data ------------------------------------ (3)\n",
    "prepare_spec = ['none', 'fod', 'continuum']\n",
    "#prepare_spec = ['none', 'fod', 'continuum']\n",
    "\n",
    "# 4. Number of bands available for resampling spectra ----------------------------- (4) \n",
    "nbands_sampling = [0, 5, 10, 20, 50, 100, 200, 500]\n",
    "\n",
    "# 5. Names of target variables in the dataframe ----------------------------------- (5)\n",
    "target_names = ['sand', 'silt', 'clay', 'TOC']\n",
    "\n",
    "# 6. Available preprocessing for Target data -------------------------------------- (6)\n",
    "prepare_target = ['none', 'minmax']\n",
    "\n",
    "\n",
    "# 8. Recorded predictions on test-train data for model accuracy  ------------------ (8)\n",
    "test_train_predict = ['test', 'testP', 'train', 'trainP']"
   ]
  },
  {
   "cell_type": "markdown",
   "id": "8cd5b13f",
   "metadata": {},
   "source": [
    "# Step 1a: Spectra Preprocessing (Smooth, FOD/Contin, and Resample)"
   ]
  },
  {
   "cell_type": "code",
   "execution_count": 4,
   "id": "24fbfeb7",
   "metadata": {},
   "outputs": [],
   "source": [
    "# Colour scheme definition\n",
    "kado = '#8B7355'\n",
    "mati = '#A52A2A'\n",
    "balu = '#F4A460'"
   ]
  },
  {
   "cell_type": "code",
   "execution_count": 5,
   "id": "722bf977",
   "metadata": {},
   "outputs": [],
   "source": [
    "# ------------------- Reading lab data and data containing contaminated samples ------------------------\n",
    "\n",
    "df = pd.read_csv('uae.csv')\n",
    "df_faulty = pd.read_csv('oil.csv')\n",
    "df_faulty = df_faulty.T\n",
    "df_faulty.columns = df_faulty.iloc[0,:].copy()\n",
    "df_faulty = df_faulty.reset_index(drop=True)\n",
    "df_faulty = df_faulty.iloc[1:, :].copy()"
   ]
  },
  {
   "cell_type": "code",
   "execution_count": 6,
   "id": "44716709",
   "metadata": {},
   "outputs": [],
   "source": [
    "# -------------------- Renaming and matching column names of lab data and data containing contaminated samples ------------------\n",
    "\n",
    "df.rename(columns = {'Lon': 'long', 'Lat':'lat'}, inplace = True)\n",
    "df_faulty.rename(columns = {'Lon': 'long', 'Lat':'lat'}, inplace = True)"
   ]
  },
  {
   "cell_type": "code",
   "execution_count": 7,
   "id": "1b8cf7ff",
   "metadata": {},
   "outputs": [],
   "source": [
    "# obtaining faulty rows of df using the data frame df_faulty ---------------------------------- \n",
    "\n",
    "faulty_rows =[]\n",
    "(row, col) = df.shape\n",
    "for i in range (0, row):\n",
    "    lat = df.loc[i,'lat']\n",
    "    long = df.loc[i,'long']\n",
    "    temp = df_faulty.loc[:,:][(df_faulty.loc[:,'lat'] == lat) & (df_faulty.loc[:,'long'] == long)]\n",
    "    (r, c) = temp.shape\n",
    "    if r != 0:\n",
    "        faulty_rows.append(i)"
   ]
  },
  {
   "cell_type": "code",
   "execution_count": 8,
   "id": "ede0c6cc",
   "metadata": {},
   "outputs": [],
   "source": [
    "# removing faulty rows from lab data --------------------------------------------\n",
    "\n",
    "clean_lab = df.drop(df.index[faulty_rows]).copy()"
   ]
  },
  {
   "cell_type": "markdown",
   "id": "d1a0776c",
   "metadata": {},
   "source": [
    "### Extracting Spectra from clean_lab"
   ]
  },
  {
   "cell_type": "code",
   "execution_count": 9,
   "id": "c3387452",
   "metadata": {},
   "outputs": [],
   "source": [
    "spectra = clean_lab.iloc[:, 7:2158].copy()\n",
    "temp_spec = spectra.copy()"
   ]
  },
  {
   "cell_type": "code",
   "execution_count": 10,
   "id": "476c565e",
   "metadata": {},
   "outputs": [
    {
     "data": {
      "text/html": [
       "<div>\n",
       "<style scoped>\n",
       "    .dataframe tbody tr th:only-of-type {\n",
       "        vertical-align: middle;\n",
       "    }\n",
       "\n",
       "    .dataframe tbody tr th {\n",
       "        vertical-align: top;\n",
       "    }\n",
       "\n",
       "    .dataframe thead th {\n",
       "        text-align: right;\n",
       "    }\n",
       "</style>\n",
       "<table border=\"1\" class=\"dataframe\">\n",
       "  <thead>\n",
       "    <tr style=\"text-align: right;\">\n",
       "      <th></th>\n",
       "      <th>500</th>\n",
       "      <th>501</th>\n",
       "      <th>502</th>\n",
       "      <th>503</th>\n",
       "      <th>504</th>\n",
       "      <th>505</th>\n",
       "      <th>506</th>\n",
       "      <th>507</th>\n",
       "      <th>508</th>\n",
       "      <th>509</th>\n",
       "      <th>510</th>\n",
       "      <th>511</th>\n",
       "      <th>512</th>\n",
       "      <th>513</th>\n",
       "      <th>514</th>\n",
       "      <th>515</th>\n",
       "      <th>516</th>\n",
       "      <th>517</th>\n",
       "      <th>518</th>\n",
       "      <th>519</th>\n",
       "      <th>520</th>\n",
       "      <th>521</th>\n",
       "      <th>522</th>\n",
       "      <th>523</th>\n",
       "      <th>524</th>\n",
       "      <th>525</th>\n",
       "      <th>526</th>\n",
       "      <th>527</th>\n",
       "      <th>528</th>\n",
       "      <th>529</th>\n",
       "      <th>530</th>\n",
       "      <th>531</th>\n",
       "      <th>532</th>\n",
       "      <th>533</th>\n",
       "      <th>534</th>\n",
       "      <th>535</th>\n",
       "      <th>536</th>\n",
       "      <th>537</th>\n",
       "      <th>538</th>\n",
       "      <th>539</th>\n",
       "      <th>540</th>\n",
       "      <th>541</th>\n",
       "      <th>542</th>\n",
       "      <th>543</th>\n",
       "      <th>544</th>\n",
       "      <th>545</th>\n",
       "      <th>546</th>\n",
       "      <th>547</th>\n",
       "      <th>548</th>\n",
       "      <th>549</th>\n",
       "      <th>...</th>\n",
       "      <th>2301</th>\n",
       "      <th>2302</th>\n",
       "      <th>2303</th>\n",
       "      <th>2304</th>\n",
       "      <th>2305</th>\n",
       "      <th>2306</th>\n",
       "      <th>2307</th>\n",
       "      <th>2308</th>\n",
       "      <th>2309</th>\n",
       "      <th>2310</th>\n",
       "      <th>2311</th>\n",
       "      <th>2312</th>\n",
       "      <th>2313</th>\n",
       "      <th>2314</th>\n",
       "      <th>2315</th>\n",
       "      <th>2316</th>\n",
       "      <th>2317</th>\n",
       "      <th>2318</th>\n",
       "      <th>2319</th>\n",
       "      <th>2320</th>\n",
       "      <th>2321</th>\n",
       "      <th>2322</th>\n",
       "      <th>2323</th>\n",
       "      <th>2324</th>\n",
       "      <th>2325</th>\n",
       "      <th>2326</th>\n",
       "      <th>2327</th>\n",
       "      <th>2328</th>\n",
       "      <th>2329</th>\n",
       "      <th>2330</th>\n",
       "      <th>2331</th>\n",
       "      <th>2332</th>\n",
       "      <th>2333</th>\n",
       "      <th>2334</th>\n",
       "      <th>2335</th>\n",
       "      <th>2336</th>\n",
       "      <th>2337</th>\n",
       "      <th>2338</th>\n",
       "      <th>2339</th>\n",
       "      <th>2340</th>\n",
       "      <th>2341</th>\n",
       "      <th>2342</th>\n",
       "      <th>2343</th>\n",
       "      <th>2344</th>\n",
       "      <th>2345</th>\n",
       "      <th>2346</th>\n",
       "      <th>2347</th>\n",
       "      <th>2348</th>\n",
       "      <th>2349</th>\n",
       "      <th>2350</th>\n",
       "    </tr>\n",
       "  </thead>\n",
       "  <tbody>\n",
       "    <tr>\n",
       "      <th>0</th>\n",
       "      <td>0.219696</td>\n",
       "      <td>0.220718</td>\n",
       "      <td>0.221682</td>\n",
       "      <td>0.222762</td>\n",
       "      <td>0.223911</td>\n",
       "      <td>0.225072</td>\n",
       "      <td>0.225983</td>\n",
       "      <td>0.227195</td>\n",
       "      <td>0.228434</td>\n",
       "      <td>0.229447</td>\n",
       "      <td>0.230477</td>\n",
       "      <td>0.231651</td>\n",
       "      <td>0.232982</td>\n",
       "      <td>0.234067</td>\n",
       "      <td>0.235246</td>\n",
       "      <td>0.236547</td>\n",
       "      <td>0.237816</td>\n",
       "      <td>0.238973</td>\n",
       "      <td>0.240065</td>\n",
       "      <td>0.241200</td>\n",
       "      <td>0.242471</td>\n",
       "      <td>0.243782</td>\n",
       "      <td>0.245019</td>\n",
       "      <td>0.246231</td>\n",
       "      <td>0.247492</td>\n",
       "      <td>0.248815</td>\n",
       "      <td>0.250140</td>\n",
       "      <td>0.251416</td>\n",
       "      <td>0.252683</td>\n",
       "      <td>0.253977</td>\n",
       "      <td>0.255289</td>\n",
       "      <td>0.256609</td>\n",
       "      <td>0.257936</td>\n",
       "      <td>0.259318</td>\n",
       "      <td>0.260675</td>\n",
       "      <td>0.262001</td>\n",
       "      <td>0.263489</td>\n",
       "      <td>0.264948</td>\n",
       "      <td>0.266372</td>\n",
       "      <td>0.267808</td>\n",
       "      <td>0.269245</td>\n",
       "      <td>0.270721</td>\n",
       "      <td>0.272237</td>\n",
       "      <td>0.273741</td>\n",
       "      <td>0.275277</td>\n",
       "      <td>0.276850</td>\n",
       "      <td>0.278365</td>\n",
       "      <td>0.279914</td>\n",
       "      <td>0.281544</td>\n",
       "      <td>0.283125</td>\n",
       "      <td>...</td>\n",
       "      <td>0.548568</td>\n",
       "      <td>0.547523</td>\n",
       "      <td>0.546551</td>\n",
       "      <td>0.545502</td>\n",
       "      <td>0.544453</td>\n",
       "      <td>0.543383</td>\n",
       "      <td>0.542296</td>\n",
       "      <td>0.541136</td>\n",
       "      <td>0.539884</td>\n",
       "      <td>0.538690</td>\n",
       "      <td>0.537511</td>\n",
       "      <td>0.536361</td>\n",
       "      <td>0.535279</td>\n",
       "      <td>0.534267</td>\n",
       "      <td>0.533291</td>\n",
       "      <td>0.532329</td>\n",
       "      <td>0.531300</td>\n",
       "      <td>0.530299</td>\n",
       "      <td>0.529453</td>\n",
       "      <td>0.528574</td>\n",
       "      <td>0.527715</td>\n",
       "      <td>0.526822</td>\n",
       "      <td>0.525901</td>\n",
       "      <td>0.524927</td>\n",
       "      <td>0.523996</td>\n",
       "      <td>0.523157</td>\n",
       "      <td>0.522242</td>\n",
       "      <td>0.521233</td>\n",
       "      <td>0.520369</td>\n",
       "      <td>0.519540</td>\n",
       "      <td>0.518788</td>\n",
       "      <td>0.518109</td>\n",
       "      <td>0.517505</td>\n",
       "      <td>0.516937</td>\n",
       "      <td>0.516485</td>\n",
       "      <td>0.516108</td>\n",
       "      <td>0.515913</td>\n",
       "      <td>0.515871</td>\n",
       "      <td>0.515937</td>\n",
       "      <td>0.516114</td>\n",
       "      <td>0.516497</td>\n",
       "      <td>0.516969</td>\n",
       "      <td>0.517710</td>\n",
       "      <td>0.518798</td>\n",
       "      <td>0.519921</td>\n",
       "      <td>0.521295</td>\n",
       "      <td>0.522641</td>\n",
       "      <td>0.524016</td>\n",
       "      <td>0.525497</td>\n",
       "      <td>0.527245</td>\n",
       "    </tr>\n",
       "    <tr>\n",
       "      <th>1</th>\n",
       "      <td>0.187783</td>\n",
       "      <td>0.188788</td>\n",
       "      <td>0.189796</td>\n",
       "      <td>0.190691</td>\n",
       "      <td>0.191741</td>\n",
       "      <td>0.192860</td>\n",
       "      <td>0.193714</td>\n",
       "      <td>0.194845</td>\n",
       "      <td>0.195998</td>\n",
       "      <td>0.196942</td>\n",
       "      <td>0.197932</td>\n",
       "      <td>0.199039</td>\n",
       "      <td>0.200258</td>\n",
       "      <td>0.201246</td>\n",
       "      <td>0.202282</td>\n",
       "      <td>0.203435</td>\n",
       "      <td>0.204649</td>\n",
       "      <td>0.205728</td>\n",
       "      <td>0.206735</td>\n",
       "      <td>0.207810</td>\n",
       "      <td>0.209025</td>\n",
       "      <td>0.210258</td>\n",
       "      <td>0.211392</td>\n",
       "      <td>0.212488</td>\n",
       "      <td>0.213674</td>\n",
       "      <td>0.214930</td>\n",
       "      <td>0.216065</td>\n",
       "      <td>0.217232</td>\n",
       "      <td>0.218440</td>\n",
       "      <td>0.219600</td>\n",
       "      <td>0.220764</td>\n",
       "      <td>0.221956</td>\n",
       "      <td>0.223190</td>\n",
       "      <td>0.224454</td>\n",
       "      <td>0.225650</td>\n",
       "      <td>0.226782</td>\n",
       "      <td>0.228110</td>\n",
       "      <td>0.229408</td>\n",
       "      <td>0.230653</td>\n",
       "      <td>0.231906</td>\n",
       "      <td>0.233210</td>\n",
       "      <td>0.234532</td>\n",
       "      <td>0.235775</td>\n",
       "      <td>0.237029</td>\n",
       "      <td>0.238316</td>\n",
       "      <td>0.239613</td>\n",
       "      <td>0.240900</td>\n",
       "      <td>0.242202</td>\n",
       "      <td>0.243545</td>\n",
       "      <td>0.244887</td>\n",
       "      <td>...</td>\n",
       "      <td>0.481900</td>\n",
       "      <td>0.480791</td>\n",
       "      <td>0.479606</td>\n",
       "      <td>0.478463</td>\n",
       "      <td>0.477334</td>\n",
       "      <td>0.476237</td>\n",
       "      <td>0.475171</td>\n",
       "      <td>0.474048</td>\n",
       "      <td>0.472947</td>\n",
       "      <td>0.471775</td>\n",
       "      <td>0.470605</td>\n",
       "      <td>0.469389</td>\n",
       "      <td>0.468078</td>\n",
       "      <td>0.466911</td>\n",
       "      <td>0.465758</td>\n",
       "      <td>0.464640</td>\n",
       "      <td>0.463542</td>\n",
       "      <td>0.462409</td>\n",
       "      <td>0.461363</td>\n",
       "      <td>0.460321</td>\n",
       "      <td>0.459297</td>\n",
       "      <td>0.458224</td>\n",
       "      <td>0.457183</td>\n",
       "      <td>0.456022</td>\n",
       "      <td>0.454792</td>\n",
       "      <td>0.453677</td>\n",
       "      <td>0.452579</td>\n",
       "      <td>0.451411</td>\n",
       "      <td>0.450385</td>\n",
       "      <td>0.449516</td>\n",
       "      <td>0.448543</td>\n",
       "      <td>0.447514</td>\n",
       "      <td>0.446665</td>\n",
       "      <td>0.445817</td>\n",
       "      <td>0.445149</td>\n",
       "      <td>0.444598</td>\n",
       "      <td>0.444283</td>\n",
       "      <td>0.444134</td>\n",
       "      <td>0.444170</td>\n",
       "      <td>0.444446</td>\n",
       "      <td>0.444846</td>\n",
       "      <td>0.445304</td>\n",
       "      <td>0.446132</td>\n",
       "      <td>0.447312</td>\n",
       "      <td>0.448589</td>\n",
       "      <td>0.450178</td>\n",
       "      <td>0.451836</td>\n",
       "      <td>0.453576</td>\n",
       "      <td>0.455498</td>\n",
       "      <td>0.457836</td>\n",
       "    </tr>\n",
       "    <tr>\n",
       "      <th>2</th>\n",
       "      <td>0.165603</td>\n",
       "      <td>0.166606</td>\n",
       "      <td>0.167606</td>\n",
       "      <td>0.168545</td>\n",
       "      <td>0.169584</td>\n",
       "      <td>0.170685</td>\n",
       "      <td>0.171606</td>\n",
       "      <td>0.172728</td>\n",
       "      <td>0.173862</td>\n",
       "      <td>0.174827</td>\n",
       "      <td>0.175771</td>\n",
       "      <td>0.176913</td>\n",
       "      <td>0.178225</td>\n",
       "      <td>0.179122</td>\n",
       "      <td>0.180132</td>\n",
       "      <td>0.181309</td>\n",
       "      <td>0.182467</td>\n",
       "      <td>0.183550</td>\n",
       "      <td>0.184579</td>\n",
       "      <td>0.185635</td>\n",
       "      <td>0.186868</td>\n",
       "      <td>0.188132</td>\n",
       "      <td>0.189288</td>\n",
       "      <td>0.190384</td>\n",
       "      <td>0.191511</td>\n",
       "      <td>0.192711</td>\n",
       "      <td>0.193982</td>\n",
       "      <td>0.195140</td>\n",
       "      <td>0.196240</td>\n",
       "      <td>0.197401</td>\n",
       "      <td>0.198585</td>\n",
       "      <td>0.199772</td>\n",
       "      <td>0.200951</td>\n",
       "      <td>0.202163</td>\n",
       "      <td>0.203339</td>\n",
       "      <td>0.204486</td>\n",
       "      <td>0.205816</td>\n",
       "      <td>0.207072</td>\n",
       "      <td>0.208248</td>\n",
       "      <td>0.209476</td>\n",
       "      <td>0.210717</td>\n",
       "      <td>0.211974</td>\n",
       "      <td>0.213223</td>\n",
       "      <td>0.214438</td>\n",
       "      <td>0.215646</td>\n",
       "      <td>0.216856</td>\n",
       "      <td>0.218078</td>\n",
       "      <td>0.219319</td>\n",
       "      <td>0.220595</td>\n",
       "      <td>0.221881</td>\n",
       "      <td>...</td>\n",
       "      <td>0.325707</td>\n",
       "      <td>0.324645</td>\n",
       "      <td>0.323585</td>\n",
       "      <td>0.322552</td>\n",
       "      <td>0.321656</td>\n",
       "      <td>0.320649</td>\n",
       "      <td>0.319619</td>\n",
       "      <td>0.318495</td>\n",
       "      <td>0.317285</td>\n",
       "      <td>0.316069</td>\n",
       "      <td>0.314771</td>\n",
       "      <td>0.313555</td>\n",
       "      <td>0.312371</td>\n",
       "      <td>0.311240</td>\n",
       "      <td>0.310246</td>\n",
       "      <td>0.309107</td>\n",
       "      <td>0.307824</td>\n",
       "      <td>0.306576</td>\n",
       "      <td>0.305310</td>\n",
       "      <td>0.304074</td>\n",
       "      <td>0.302909</td>\n",
       "      <td>0.301695</td>\n",
       "      <td>0.300475</td>\n",
       "      <td>0.299184</td>\n",
       "      <td>0.297907</td>\n",
       "      <td>0.296608</td>\n",
       "      <td>0.295357</td>\n",
       "      <td>0.294048</td>\n",
       "      <td>0.292844</td>\n",
       "      <td>0.291730</td>\n",
       "      <td>0.290597</td>\n",
       "      <td>0.289435</td>\n",
       "      <td>0.288448</td>\n",
       "      <td>0.287499</td>\n",
       "      <td>0.286723</td>\n",
       "      <td>0.286104</td>\n",
       "      <td>0.285588</td>\n",
       "      <td>0.285187</td>\n",
       "      <td>0.284954</td>\n",
       "      <td>0.284847</td>\n",
       "      <td>0.284924</td>\n",
       "      <td>0.285193</td>\n",
       "      <td>0.285565</td>\n",
       "      <td>0.286104</td>\n",
       "      <td>0.286806</td>\n",
       "      <td>0.287685</td>\n",
       "      <td>0.288667</td>\n",
       "      <td>0.289847</td>\n",
       "      <td>0.291051</td>\n",
       "      <td>0.292455</td>\n",
       "    </tr>\n",
       "    <tr>\n",
       "      <th>3</th>\n",
       "      <td>0.258894</td>\n",
       "      <td>0.260033</td>\n",
       "      <td>0.261232</td>\n",
       "      <td>0.262371</td>\n",
       "      <td>0.263599</td>\n",
       "      <td>0.264844</td>\n",
       "      <td>0.265754</td>\n",
       "      <td>0.267021</td>\n",
       "      <td>0.268392</td>\n",
       "      <td>0.269578</td>\n",
       "      <td>0.270728</td>\n",
       "      <td>0.271973</td>\n",
       "      <td>0.273376</td>\n",
       "      <td>0.274612</td>\n",
       "      <td>0.275852</td>\n",
       "      <td>0.277160</td>\n",
       "      <td>0.278517</td>\n",
       "      <td>0.279843</td>\n",
       "      <td>0.281097</td>\n",
       "      <td>0.282317</td>\n",
       "      <td>0.283717</td>\n",
       "      <td>0.285161</td>\n",
       "      <td>0.286502</td>\n",
       "      <td>0.287831</td>\n",
       "      <td>0.289182</td>\n",
       "      <td>0.290585</td>\n",
       "      <td>0.292071</td>\n",
       "      <td>0.293412</td>\n",
       "      <td>0.294704</td>\n",
       "      <td>0.296116</td>\n",
       "      <td>0.297506</td>\n",
       "      <td>0.298905</td>\n",
       "      <td>0.300361</td>\n",
       "      <td>0.301824</td>\n",
       "      <td>0.303245</td>\n",
       "      <td>0.304631</td>\n",
       "      <td>0.306135</td>\n",
       "      <td>0.307635</td>\n",
       "      <td>0.309125</td>\n",
       "      <td>0.310584</td>\n",
       "      <td>0.312084</td>\n",
       "      <td>0.313623</td>\n",
       "      <td>0.315119</td>\n",
       "      <td>0.316595</td>\n",
       "      <td>0.318116</td>\n",
       "      <td>0.319678</td>\n",
       "      <td>0.321119</td>\n",
       "      <td>0.322629</td>\n",
       "      <td>0.324289</td>\n",
       "      <td>0.325896</td>\n",
       "      <td>...</td>\n",
       "      <td>0.512836</td>\n",
       "      <td>0.511671</td>\n",
       "      <td>0.510519</td>\n",
       "      <td>0.509369</td>\n",
       "      <td>0.508311</td>\n",
       "      <td>0.507176</td>\n",
       "      <td>0.506015</td>\n",
       "      <td>0.504784</td>\n",
       "      <td>0.503485</td>\n",
       "      <td>0.502168</td>\n",
       "      <td>0.500832</td>\n",
       "      <td>0.499511</td>\n",
       "      <td>0.498206</td>\n",
       "      <td>0.496946</td>\n",
       "      <td>0.495713</td>\n",
       "      <td>0.494456</td>\n",
       "      <td>0.493082</td>\n",
       "      <td>0.491726</td>\n",
       "      <td>0.490486</td>\n",
       "      <td>0.489220</td>\n",
       "      <td>0.487937</td>\n",
       "      <td>0.486653</td>\n",
       "      <td>0.485347</td>\n",
       "      <td>0.484017</td>\n",
       "      <td>0.482767</td>\n",
       "      <td>0.481587</td>\n",
       "      <td>0.480352</td>\n",
       "      <td>0.479059</td>\n",
       "      <td>0.477850</td>\n",
       "      <td>0.476649</td>\n",
       "      <td>0.475542</td>\n",
       "      <td>0.474444</td>\n",
       "      <td>0.473563</td>\n",
       "      <td>0.472773</td>\n",
       "      <td>0.472154</td>\n",
       "      <td>0.471744</td>\n",
       "      <td>0.471405</td>\n",
       "      <td>0.471144</td>\n",
       "      <td>0.471171</td>\n",
       "      <td>0.471308</td>\n",
       "      <td>0.471800</td>\n",
       "      <td>0.472615</td>\n",
       "      <td>0.473598</td>\n",
       "      <td>0.474918</td>\n",
       "      <td>0.476352</td>\n",
       "      <td>0.478051</td>\n",
       "      <td>0.479799</td>\n",
       "      <td>0.481674</td>\n",
       "      <td>0.483663</td>\n",
       "      <td>0.485973</td>\n",
       "    </tr>\n",
       "    <tr>\n",
       "      <th>4</th>\n",
       "      <td>0.094636</td>\n",
       "      <td>0.095097</td>\n",
       "      <td>0.095510</td>\n",
       "      <td>0.096142</td>\n",
       "      <td>0.096690</td>\n",
       "      <td>0.097173</td>\n",
       "      <td>0.097607</td>\n",
       "      <td>0.098273</td>\n",
       "      <td>0.098904</td>\n",
       "      <td>0.099322</td>\n",
       "      <td>0.099843</td>\n",
       "      <td>0.100478</td>\n",
       "      <td>0.101165</td>\n",
       "      <td>0.101590</td>\n",
       "      <td>0.102151</td>\n",
       "      <td>0.102836</td>\n",
       "      <td>0.103426</td>\n",
       "      <td>0.104015</td>\n",
       "      <td>0.104552</td>\n",
       "      <td>0.105025</td>\n",
       "      <td>0.105758</td>\n",
       "      <td>0.106476</td>\n",
       "      <td>0.107006</td>\n",
       "      <td>0.107597</td>\n",
       "      <td>0.108214</td>\n",
       "      <td>0.108849</td>\n",
       "      <td>0.109514</td>\n",
       "      <td>0.110105</td>\n",
       "      <td>0.110670</td>\n",
       "      <td>0.111302</td>\n",
       "      <td>0.111929</td>\n",
       "      <td>0.112549</td>\n",
       "      <td>0.113169</td>\n",
       "      <td>0.113786</td>\n",
       "      <td>0.114366</td>\n",
       "      <td>0.114948</td>\n",
       "      <td>0.115763</td>\n",
       "      <td>0.116463</td>\n",
       "      <td>0.117040</td>\n",
       "      <td>0.117727</td>\n",
       "      <td>0.118449</td>\n",
       "      <td>0.119169</td>\n",
       "      <td>0.119845</td>\n",
       "      <td>0.120538</td>\n",
       "      <td>0.121241</td>\n",
       "      <td>0.121925</td>\n",
       "      <td>0.122585</td>\n",
       "      <td>0.123269</td>\n",
       "      <td>0.124012</td>\n",
       "      <td>0.124778</td>\n",
       "      <td>...</td>\n",
       "      <td>0.408072</td>\n",
       "      <td>0.407330</td>\n",
       "      <td>0.406665</td>\n",
       "      <td>0.405883</td>\n",
       "      <td>0.405049</td>\n",
       "      <td>0.404307</td>\n",
       "      <td>0.403499</td>\n",
       "      <td>0.402771</td>\n",
       "      <td>0.402134</td>\n",
       "      <td>0.401524</td>\n",
       "      <td>0.400964</td>\n",
       "      <td>0.400461</td>\n",
       "      <td>0.400028</td>\n",
       "      <td>0.399733</td>\n",
       "      <td>0.399536</td>\n",
       "      <td>0.399361</td>\n",
       "      <td>0.399288</td>\n",
       "      <td>0.399111</td>\n",
       "      <td>0.398993</td>\n",
       "      <td>0.398847</td>\n",
       "      <td>0.398660</td>\n",
       "      <td>0.398428</td>\n",
       "      <td>0.398191</td>\n",
       "      <td>0.397860</td>\n",
       "      <td>0.397508</td>\n",
       "      <td>0.397199</td>\n",
       "      <td>0.396776</td>\n",
       "      <td>0.396229</td>\n",
       "      <td>0.395778</td>\n",
       "      <td>0.395321</td>\n",
       "      <td>0.394854</td>\n",
       "      <td>0.394410</td>\n",
       "      <td>0.393959</td>\n",
       "      <td>0.393423</td>\n",
       "      <td>0.393040</td>\n",
       "      <td>0.392740</td>\n",
       "      <td>0.392461</td>\n",
       "      <td>0.392291</td>\n",
       "      <td>0.392081</td>\n",
       "      <td>0.391805</td>\n",
       "      <td>0.391706</td>\n",
       "      <td>0.391621</td>\n",
       "      <td>0.391722</td>\n",
       "      <td>0.392038</td>\n",
       "      <td>0.392383</td>\n",
       "      <td>0.392866</td>\n",
       "      <td>0.393376</td>\n",
       "      <td>0.393964</td>\n",
       "      <td>0.394541</td>\n",
       "      <td>0.395287</td>\n",
       "    </tr>\n",
       "  </tbody>\n",
       "</table>\n",
       "<p>5 rows × 1851 columns</p>\n",
       "</div>"
      ],
      "text/plain": [
       "        500       501       502       503       504       505       506  \\\n",
       "0  0.219696  0.220718  0.221682  0.222762  0.223911  0.225072  0.225983   \n",
       "1  0.187783  0.188788  0.189796  0.190691  0.191741  0.192860  0.193714   \n",
       "2  0.165603  0.166606  0.167606  0.168545  0.169584  0.170685  0.171606   \n",
       "3  0.258894  0.260033  0.261232  0.262371  0.263599  0.264844  0.265754   \n",
       "4  0.094636  0.095097  0.095510  0.096142  0.096690  0.097173  0.097607   \n",
       "\n",
       "        507       508       509       510       511       512       513  \\\n",
       "0  0.227195  0.228434  0.229447  0.230477  0.231651  0.232982  0.234067   \n",
       "1  0.194845  0.195998  0.196942  0.197932  0.199039  0.200258  0.201246   \n",
       "2  0.172728  0.173862  0.174827  0.175771  0.176913  0.178225  0.179122   \n",
       "3  0.267021  0.268392  0.269578  0.270728  0.271973  0.273376  0.274612   \n",
       "4  0.098273  0.098904  0.099322  0.099843  0.100478  0.101165  0.101590   \n",
       "\n",
       "        514       515       516       517       518       519       520  \\\n",
       "0  0.235246  0.236547  0.237816  0.238973  0.240065  0.241200  0.242471   \n",
       "1  0.202282  0.203435  0.204649  0.205728  0.206735  0.207810  0.209025   \n",
       "2  0.180132  0.181309  0.182467  0.183550  0.184579  0.185635  0.186868   \n",
       "3  0.275852  0.277160  0.278517  0.279843  0.281097  0.282317  0.283717   \n",
       "4  0.102151  0.102836  0.103426  0.104015  0.104552  0.105025  0.105758   \n",
       "\n",
       "        521       522       523       524       525       526       527  \\\n",
       "0  0.243782  0.245019  0.246231  0.247492  0.248815  0.250140  0.251416   \n",
       "1  0.210258  0.211392  0.212488  0.213674  0.214930  0.216065  0.217232   \n",
       "2  0.188132  0.189288  0.190384  0.191511  0.192711  0.193982  0.195140   \n",
       "3  0.285161  0.286502  0.287831  0.289182  0.290585  0.292071  0.293412   \n",
       "4  0.106476  0.107006  0.107597  0.108214  0.108849  0.109514  0.110105   \n",
       "\n",
       "        528       529       530       531       532       533       534  \\\n",
       "0  0.252683  0.253977  0.255289  0.256609  0.257936  0.259318  0.260675   \n",
       "1  0.218440  0.219600  0.220764  0.221956  0.223190  0.224454  0.225650   \n",
       "2  0.196240  0.197401  0.198585  0.199772  0.200951  0.202163  0.203339   \n",
       "3  0.294704  0.296116  0.297506  0.298905  0.300361  0.301824  0.303245   \n",
       "4  0.110670  0.111302  0.111929  0.112549  0.113169  0.113786  0.114366   \n",
       "\n",
       "        535       536       537       538       539       540       541  \\\n",
       "0  0.262001  0.263489  0.264948  0.266372  0.267808  0.269245  0.270721   \n",
       "1  0.226782  0.228110  0.229408  0.230653  0.231906  0.233210  0.234532   \n",
       "2  0.204486  0.205816  0.207072  0.208248  0.209476  0.210717  0.211974   \n",
       "3  0.304631  0.306135  0.307635  0.309125  0.310584  0.312084  0.313623   \n",
       "4  0.114948  0.115763  0.116463  0.117040  0.117727  0.118449  0.119169   \n",
       "\n",
       "        542       543       544       545       546       547       548  \\\n",
       "0  0.272237  0.273741  0.275277  0.276850  0.278365  0.279914  0.281544   \n",
       "1  0.235775  0.237029  0.238316  0.239613  0.240900  0.242202  0.243545   \n",
       "2  0.213223  0.214438  0.215646  0.216856  0.218078  0.219319  0.220595   \n",
       "3  0.315119  0.316595  0.318116  0.319678  0.321119  0.322629  0.324289   \n",
       "4  0.119845  0.120538  0.121241  0.121925  0.122585  0.123269  0.124012   \n",
       "\n",
       "        549  ...      2301      2302      2303      2304      2305      2306  \\\n",
       "0  0.283125  ...  0.548568  0.547523  0.546551  0.545502  0.544453  0.543383   \n",
       "1  0.244887  ...  0.481900  0.480791  0.479606  0.478463  0.477334  0.476237   \n",
       "2  0.221881  ...  0.325707  0.324645  0.323585  0.322552  0.321656  0.320649   \n",
       "3  0.325896  ...  0.512836  0.511671  0.510519  0.509369  0.508311  0.507176   \n",
       "4  0.124778  ...  0.408072  0.407330  0.406665  0.405883  0.405049  0.404307   \n",
       "\n",
       "       2307      2308      2309      2310      2311      2312      2313  \\\n",
       "0  0.542296  0.541136  0.539884  0.538690  0.537511  0.536361  0.535279   \n",
       "1  0.475171  0.474048  0.472947  0.471775  0.470605  0.469389  0.468078   \n",
       "2  0.319619  0.318495  0.317285  0.316069  0.314771  0.313555  0.312371   \n",
       "3  0.506015  0.504784  0.503485  0.502168  0.500832  0.499511  0.498206   \n",
       "4  0.403499  0.402771  0.402134  0.401524  0.400964  0.400461  0.400028   \n",
       "\n",
       "       2314      2315      2316      2317      2318      2319      2320  \\\n",
       "0  0.534267  0.533291  0.532329  0.531300  0.530299  0.529453  0.528574   \n",
       "1  0.466911  0.465758  0.464640  0.463542  0.462409  0.461363  0.460321   \n",
       "2  0.311240  0.310246  0.309107  0.307824  0.306576  0.305310  0.304074   \n",
       "3  0.496946  0.495713  0.494456  0.493082  0.491726  0.490486  0.489220   \n",
       "4  0.399733  0.399536  0.399361  0.399288  0.399111  0.398993  0.398847   \n",
       "\n",
       "       2321      2322      2323      2324      2325      2326      2327  \\\n",
       "0  0.527715  0.526822  0.525901  0.524927  0.523996  0.523157  0.522242   \n",
       "1  0.459297  0.458224  0.457183  0.456022  0.454792  0.453677  0.452579   \n",
       "2  0.302909  0.301695  0.300475  0.299184  0.297907  0.296608  0.295357   \n",
       "3  0.487937  0.486653  0.485347  0.484017  0.482767  0.481587  0.480352   \n",
       "4  0.398660  0.398428  0.398191  0.397860  0.397508  0.397199  0.396776   \n",
       "\n",
       "       2328      2329      2330      2331      2332      2333      2334  \\\n",
       "0  0.521233  0.520369  0.519540  0.518788  0.518109  0.517505  0.516937   \n",
       "1  0.451411  0.450385  0.449516  0.448543  0.447514  0.446665  0.445817   \n",
       "2  0.294048  0.292844  0.291730  0.290597  0.289435  0.288448  0.287499   \n",
       "3  0.479059  0.477850  0.476649  0.475542  0.474444  0.473563  0.472773   \n",
       "4  0.396229  0.395778  0.395321  0.394854  0.394410  0.393959  0.393423   \n",
       "\n",
       "       2335      2336      2337      2338      2339      2340      2341  \\\n",
       "0  0.516485  0.516108  0.515913  0.515871  0.515937  0.516114  0.516497   \n",
       "1  0.445149  0.444598  0.444283  0.444134  0.444170  0.444446  0.444846   \n",
       "2  0.286723  0.286104  0.285588  0.285187  0.284954  0.284847  0.284924   \n",
       "3  0.472154  0.471744  0.471405  0.471144  0.471171  0.471308  0.471800   \n",
       "4  0.393040  0.392740  0.392461  0.392291  0.392081  0.391805  0.391706   \n",
       "\n",
       "       2342      2343      2344      2345      2346      2347      2348  \\\n",
       "0  0.516969  0.517710  0.518798  0.519921  0.521295  0.522641  0.524016   \n",
       "1  0.445304  0.446132  0.447312  0.448589  0.450178  0.451836  0.453576   \n",
       "2  0.285193  0.285565  0.286104  0.286806  0.287685  0.288667  0.289847   \n",
       "3  0.472615  0.473598  0.474918  0.476352  0.478051  0.479799  0.481674   \n",
       "4  0.391621  0.391722  0.392038  0.392383  0.392866  0.393376  0.393964   \n",
       "\n",
       "       2349      2350  \n",
       "0  0.525497  0.527245  \n",
       "1  0.455498  0.457836  \n",
       "2  0.291051  0.292455  \n",
       "3  0.483663  0.485973  \n",
       "4  0.394541  0.395287  \n",
       "\n",
       "[5 rows x 1851 columns]"
      ]
     },
     "execution_count": 10,
     "metadata": {},
     "output_type": "execute_result"
    }
   ],
   "source": [
    "#    dont combine with the previous cell--------------------\n",
    "\n",
    "spectra = temp_spec.iloc[:,150:2001].copy()\n",
    "spectra.head(5)\n",
    "#spectra.shape"
   ]
  },
  {
   "cell_type": "markdown",
   "id": "b7aae8ec",
   "metadata": {},
   "source": [
    "## Savgol smoothing (order 1 and order 2)"
   ]
  },
  {
   "cell_type": "code",
   "execution_count": 32,
   "id": "99baabb8",
   "metadata": {},
   "outputs": [],
   "source": [
    "spec1 = {}\n",
    "for i in window_lengths:\n",
    "    spec1[i] = filt_sg(spectra, i, 'sg1')           \n",
    "        \n",
    "spec2 = {}\n",
    "for i in window_lengths:\n",
    "    spec2[i] = filt_sg(spectra, i, 'sg2')    "
   ]
  },
  {
   "cell_type": "code",
   "execution_count": 34,
   "id": "61561d09",
   "metadata": {},
   "outputs": [
    {
     "data": {
      "image/png": "[encoded data removed]",
      "text/plain": [
       "<Figure size 800x600 with 1 Axes>"
      ]
     },
     "metadata": {},
     "output_type": "display_data"
    }
   ],
   "source": [
    "for i in range (0,5,1):\n",
    "    spectra.iloc[i,:].plot()"
   ]
  },
  {
   "cell_type": "markdown",
   "id": "f253386c",
   "metadata": {},
   "source": [
    "## First Order Derivative"
   ]
  },
  {
   "cell_type": "code",
   "execution_count": 15,
   "id": "385ba98c",
   "metadata": {},
   "outputs": [
    {
     "data": {
      "image/png": "[encoded data removed]",
      "text/plain": [
       "<Figure size 640x480 with 1 Axes>"
      ]
     },
     "metadata": {},
     "output_type": "display_data"
    }
   ],
   "source": [
    "fod_spec = fod(spec2[51])\n",
    "\n",
    "for i in range (0,5,1):\n",
    "    fod_spec.iloc[i,:].plot()\n"
   ]
  },
  {
   "cell_type": "code",
   "execution_count": 16,
   "id": "db076876",
   "metadata": {},
   "outputs": [],
   "source": [
    "fod1 = {}\n",
    "for i in window_lengths:\n",
    "    fod1[i] = filt_sg(fod_spec, i, 'sg1')\n",
    "    \n",
    "fod2 = {}\n",
    "for i in window_lengths:\n",
    "    fod2[i] = filt_sg(fod_spec, i, 'sg2') "
   ]
  },
  {
   "cell_type": "code",
   "execution_count": 17,
   "id": "10528229",
   "metadata": {},
   "outputs": [],
   "source": [
    "# smoothing the clipped fod spectra using sgsmooth\n",
    "\n",
    "smth_fod = sgsmooth (fod_spec, 3)"
   ]
  },
  {
   "cell_type": "code",
   "execution_count": 18,
   "id": "38831b7f",
   "metadata": {},
   "outputs": [
    {
     "data": {
      "image/png": "[encoded data removed]",
      "text/plain": [
       "<Figure size 640x480 with 1 Axes>"
      ]
     },
     "metadata": {},
     "output_type": "display_data"
    }
   ],
   "source": [
    "for i in range (0,10,1):\n",
    "    smth_fod.iloc[i,:].plot()"
   ]
  },
  {
   "cell_type": "markdown",
   "id": "8f55420f",
   "metadata": {},
   "source": [
    "## Continuum Removal"
   ]
  },
  {
   "cell_type": "code",
   "execution_count": 19,
   "id": "e800b1b8",
   "metadata": {},
   "outputs": [
    {
     "data": {
      "image/png": "[encoded data removed]",
      "text/plain": [
       "<Figure size 640x480 with 1 Axes>"
      ]
     },
     "metadata": {},
     "output_type": "display_data"
    }
   ],
   "source": [
    "cr_spec = continuum_removed(spec2[51])\n",
    "\n",
    "for i in range (0,5,1):\n",
    "    cr_spec.iloc[i,:].plot()\n",
    "    "
   ]
  },
  {
   "cell_type": "code",
   "execution_count": 20,
   "id": "a291a195",
   "metadata": {},
   "outputs": [],
   "source": [
    "cr1 = {}\n",
    "for i in window_lengths:\n",
    "    cr1[i] = filt_sg(cr_spec, i, 'sg1')\n",
    "    \n",
    "cr2 = {}\n",
    "for i in window_lengths:\n",
    "    cr2[i] = filt_sg(cr_spec, i, 'sg2')  \n",
    " "
   ]
  },
  {
   "cell_type": "markdown",
   "id": "88485b75",
   "metadata": {},
   "source": [
    "## Resampling (n_bands)"
   ]
  },
  {
   "cell_type": "markdown",
   "id": "c3293312",
   "metadata": {},
   "source": [
    "### 1. Sampled Original (sampled_spec: sampled clipped_spectra)"
   ]
  },
  {
   "cell_type": "code",
   "execution_count": 21,
   "id": "f516492c",
   "metadata": {},
   "outputs": [],
   "source": [
    "sampled_spec = {}\n",
    "for w in nbands_sampling:\n",
    "    sampled_spec[w] = resample_spectra (spec2[51], w)"
   ]
  },
  {
   "cell_type": "code",
   "execution_count": 22,
   "id": "e039a42c",
   "metadata": {},
   "outputs": [
    {
     "data": {
      "image/png": "[encoded data removed]",
      "text/plain": [
       "<Figure size 640x480 with 1 Axes>"
      ]
     },
     "metadata": {},
     "output_type": "display_data"
    }
   ],
   "source": [
    "for i in range (0,5,1):\n",
    "    sampled_spec[100].iloc[i,:].plot()"
   ]
  },
  {
   "cell_type": "markdown",
   "id": "6b556f5a",
   "metadata": {},
   "source": [
    "### 2. Sampled Continuum Removed  (sampled_cr)"
   ]
  },
  {
   "cell_type": "code",
   "execution_count": 23,
   "id": "fab45619",
   "metadata": {},
   "outputs": [],
   "source": [
    "sampled_cr = {}\n",
    "for w in nbands_sampling:\n",
    "    sampled_cr[w] = resample_spectra (cr_spec, w)"
   ]
  },
  {
   "cell_type": "code",
   "execution_count": 24,
   "id": "de689267",
   "metadata": {},
   "outputs": [
    {
     "data": {
      "image/png": "[encoded data removed]",
      "text/plain": [
       "<Figure size 640x480 with 1 Axes>"
      ]
     },
     "metadata": {},
     "output_type": "display_data"
    }
   ],
   "source": [
    "for i in range (0,5,1):\n",
    "    sampled_cr[100].iloc[i,:].plot()"
   ]
  },
  {
   "cell_type": "markdown",
   "id": "822eed90",
   "metadata": {},
   "source": [
    "### 3. Sampled FOD  (sampled_fod)"
   ]
  },
  {
   "cell_type": "code",
   "execution_count": 25,
   "id": "cd32e9c3",
   "metadata": {},
   "outputs": [],
   "source": [
    "sampled_fod = {}\n",
    "for w in nbands_sampling:\n",
    "    sampled_fod[w] = resample_spectra (smth_fod, w)"
   ]
  },
  {
   "cell_type": "code",
   "execution_count": 26,
   "id": "bbaa74eb",
   "metadata": {},
   "outputs": [
    {
     "data": {
      "image/png": "[encoded data removed]",
      "text/plain": [
       "<Figure size 640x480 with 1 Axes>"
      ]
     },
     "metadata": {},
     "output_type": "display_data"
    }
   ],
   "source": [
    "for i in range (0,10,1):\n",
    "    sampled_fod[100].iloc[i,:].plot()"
   ]
  },
  {
   "cell_type": "markdown",
   "id": "ad37e7ab",
   "metadata": {},
   "source": [
    "## Visualizing Processed Spectrum (variable samples)"
   ]
  },
  {
   "cell_type": "code",
   "execution_count": 27,
   "id": "ecc8344d",
   "metadata": {},
   "outputs": [
    {
     "data": {
      "application/vnd.jupyter.widget-view+json": {
       "model_id": "44224575975048838f1d8d7910ec0d0e",
       "version_major": 2,
       "version_minor": 0
      },
      "text/plain": [
       "interactive(children=(IntSlider(value=105, description='sample', max=210), Dropdown(description='process', opt…"
      ]
     },
     "metadata": {},
     "output_type": "display_data"
    },
    {
     "data": {
      "text/plain": [
       "<function __main__.plot_spec(sample, process)>"
      ]
     },
     "execution_count": 27,
     "metadata": {},
     "output_type": "execute_result"
    }
   ],
   "source": [
    "def plot_spec (sample, process):\n",
    "    x1 = spec2[51].iloc[sample,:]\n",
    "    x1.plot()\n",
    "    if process == 'continuum':\n",
    "        x2 = cr_spec.iloc[sample,:]\n",
    "        x2.plot()\n",
    "    else: \n",
    "        x3 = smth_fod.iloc[sample,:]*100\n",
    "        x3.plot()\n",
    "    plt.ylim([-0.6, 0.8])\n",
    "\n",
    "ipywidgets.interact(plot_spec, sample = (0, 210,1), process = ['fod', 'continuum'])"
   ]
  },
  {
   "cell_type": "markdown",
   "id": "868b6138",
   "metadata": {},
   "source": [
    "# Step 1b: Target  Preprocessing (Outliers removal and Normalization)"
   ]
  },
  {
   "cell_type": "code",
   "execution_count": 28,
   "id": "58ad22bd",
   "metadata": {},
   "outputs": [],
   "source": [
    "df = pd.read_csv('uae.csv')\n",
    "# ------------- Target Isolation ----------------------\n",
    "\n",
    "clr = ['#F4A460', '#8B7355', '#A52A2A', 'green']\n",
    "\n",
    "def isolate_targets(df, target_names):\n",
    "    T=[]\n",
    "    for i in range (0,len(target_names)):\n",
    "        T.append(df[target_names[i]])\n",
    "    return(T)\n",
    "    \n",
    "T = isolate_targets(clean_lab,target_names) \n",
    "\n",
    "\n",
    "# --- TODO : Also define and Use other normalisation methods ----\n",
    "def normalize_targets(T):          \n",
    "    NT =[]\n",
    "    for i in range(0, len(T)):\n",
    "        NT.append(min_max_normal(T[i].copy()))\n",
    "    return(NT)\n",
    "\n",
    "NT = normalize_targets(T)\n"
   ]
  },
  {
   "cell_type": "markdown",
   "id": "c12f62f4",
   "metadata": {},
   "source": [
    "## Correlation between wavelengths and Targets"
   ]
  },
  {
   "cell_type": "code",
   "execution_count": 29,
   "id": "dd230431",
   "metadata": {},
   "outputs": [
    {
     "data": {
      "application/vnd.jupyter.widget-view+json": {
       "model_id": "99f4c950b10f49f29d8986ca363d5162",
       "version_major": 2,
       "version_minor": 0
      },
      "text/plain": [
       "interactive(children=(Dropdown(description='target', options=('sand', 'silt', 'clay', 'TOC'), value='sand'), D…"
      ]
     },
     "metadata": {},
     "output_type": "display_data"
    },
    {
     "data": {
      "text/plain": [
       "<function __main__.plot_corr(target, spec_cr_fod, n_bands)>"
      ]
     },
     "execution_count": 29,
     "metadata": {},
     "output_type": "execute_result"
    }
   ],
   "source": [
    "plt.style.use(['science','notebook','grid'])\n",
    "\n",
    "def plot_corr (target, spec_cr_fod, n_bands):\n",
    "    \n",
    "    i = target_names.index(target)    \n",
    "    \n",
    "    if  spec_cr_fod == 'spec':\n",
    "        r_val, p_val = find_rpval (resample_spectra(spec2[51], n_bands), T[i])\n",
    "        r_val.iloc[0,:].plot(color = clr[i])\n",
    "    elif  spec_cr_fod == 'cr':\n",
    "        r_cr, p_cr = find_rpval (resample_spectra(cr_spec, n_bands), T[i])\n",
    "        r_cr.iloc[0,:].plot(color = clr[i])\n",
    "    else:\n",
    "        r_fod, p_fod = find_rpval (resample_spectra(smth_fod, n_bands), T[i])\n",
    "        r_fod.iloc[0,:].plot(color = clr[i])\n",
    "    \n",
    "    plt.ylim([-0.7, 0.7])\n",
    "\n",
    "ipywidgets.interact(plot_corr, target = target_names, spec_cr_fod = ['spec', 'cr','fod'], n_bands = nbands_sampling)\n"
   ]
  },
  {
   "cell_type": "markdown",
   "id": "f00e07ff",
   "metadata": {},
   "source": [
    "# Step 2:  Parameters for Best Train-Test Split  "
   ]
  },
  {
   "cell_type": "code",
   "execution_count": 35,
   "id": "1300a125",
   "metadata": {},
   "outputs": [
    {
     "name": "stdout",
     "output_type": "stream",
     "text": [
      "Without Normalization:\n",
      "For sand :test size = 0.2 \t min bin error= 15.0 \t at randome state = 2\n",
      "For silt :test size = 0.2 \t min bin error= 15.0 \t at randome state = 23\n",
      "For clay :test size = 0.2 \t min bin error= 22.5 \t at randome state = 18\n",
      "For TOC :test size = 0.2 \t min bin error= 15.0 \t at randome state = 20\n",
      "After Normalization:\n",
      "For sand :test size = 0.2 \t min bin error= 30.0 \t at randome state = 3\n",
      "For silt :test size = 0.2 \t min bin error= 25.0 \t at randome state = 2\n",
      "For clay :test size = 0.2 \t min bin error= 20.0 \t at randome state = 18\n",
      "For TOC :test size = 0.2 \t min bin error= 30.0 \t at randome state = 10\n"
     ]
    }
   ],
   "source": [
    "# Building Mtree (Model Tree) ----------------------------------\n",
    "\n",
    "tst_siz = 0.2\n",
    "\n",
    "rand_t = [None] * (len(T))\n",
    "err_t = [None] * (len(T))\n",
    "\n",
    "print('Without Normalization:')\n",
    "for i in range (0,len(T)):\n",
    "    rand_t[i], err_t[i] = best_split(spec2[51].copy(), T[i], tst_siz) \n",
    "    print ('For '+ target_names[i]+ ' :test size =', tst_siz, '\\t min bin error=', err_t[i], '\\t at randome state =', rand_t[i])\n",
    "    \n",
    "rand_nt = [None] * (len(T))\n",
    "err_nt = [None] * (len(T))\n",
    "\n",
    "print('After Normalization:')\n",
    "for i in range (0,len(T)):\n",
    "    rand_nt[i], err_nt[i] = best_split(spec2[51].copy(), NT[i], tst_siz)     \n",
    "    print ('For '+ target_names[i]+ ' :test size =', tst_siz, '\\t min bin error=', err_nt[i], '\\t at randome state =', rand_nt[i])\n",
    "    \n",
    "    "
   ]
  },
  {
   "cell_type": "markdown",
   "id": "7e853a50",
   "metadata": {},
   "source": [
    "# Step 3: Parameters for Best Model Fit "
   ]
  },
  {
   "cell_type": "markdown",
   "id": "d531478b",
   "metadata": {},
   "source": [
    "## PLSR"
   ]
  },
  {
   "cell_type": "code",
   "execution_count": 36,
   "id": "311d0c9a",
   "metadata": {},
   "outputs": [],
   "source": [
    "\n",
    "from sklearn import linear_model\n",
    "\n",
    "def best_param_PLSR (X_train, X_test, y_train, y_test, n_comp):\n",
    "        \n",
    "    iqrpL = []\n",
    "    r2L = []\n",
    "    \n",
    "    for n in range(1,n_comp):\n",
    "        Model = PLSRegression(n_components=n, scale=True)\n",
    "        Model.fit(X_train, y_train)\n",
    "        y_pred = Model.predict(X_test, copy=True)\n",
    "        \n",
    "        iqrp_test = iqrp(y_pred, y_test)\n",
    "        r2_test = r2_score(y_test, y_pred)\n",
    "#       rpd_test = y_test.std()/np.sqrt(mean_squared_error(y_test, y_pred))\n",
    "               \n",
    "        iqrpL.append(iqrp_test)\n",
    "        r2L.append(r2_test)\n",
    "#         rpdL.append(rpd_test)\n",
    "        \n",
    "        \n",
    "    \n",
    "    IQRP = max(iqrpL)\n",
    "    n_iqrp = iqrpL.index(max(iqrpL))+1\n",
    "    \n",
    "    R2 = max(r2L)\n",
    "    n_r2 = r2L.index(R2)+1    \n",
    "\n",
    "#     RPD = max(rpdL)\n",
    "#     n_rpd = rpdL.index(RPD)+1\n",
    "    \n",
    "#    print('IQRP :', IQRP,  'R2 :', R2,  'RPD:', RPD, '>>> n_comp: ', n_iqrp, n_r2, n_rpd)    \n",
    "    return (n_iqrp)\n",
    "        \n",
    " "
   ]
  },
  {
   "cell_type": "markdown",
   "id": "d908099c",
   "metadata": {},
   "source": [
    "# Step 4: Building Model Tree (Mtree)"
   ]
  },
  {
   "cell_type": "code",
   "execution_count": 37,
   "id": "07468618",
   "metadata": {},
   "outputs": [],
   "source": [
    "import os\n",
    "os.system('say \"your program has finished\"')\n",
    "import time"
   ]
  },
  {
   "cell_type": "code",
   "execution_count": 38,
   "id": "f4a97c5c",
   "metadata": {},
   "outputs": [],
   "source": [
    "# 0. Available machine learning regression models --------------------------------- (7)\n",
    "ml_methods = ['mult', 'plsr', 'randomforest', 'cubist', 'svr', 'ridge', 'gbrt']\n",
    "#ml_methods = ['mult', 'plsr', 'cubist', 'randomforest', 'ridge' 'gbrt', 'svr']"
   ]
  },
  {
   "cell_type": "code",
   "execution_count": 39,
   "id": "36d247b4",
   "metadata": {},
   "outputs": [],
   "source": [
    "max_n_comp = 6\n",
    "\n",
    "def build_tree_for (method_name):\n",
    "    tree ={}\n",
    "    start = time.time()\n",
    "    m = method_name\n",
    "    #-- code to build tree----\n",
    "    for t in target_names:\n",
    "        \n",
    "        if t == 'sand' and m == 'mult':\n",
    "            os.system('say \"tree for multilinear running on sand\"')\n",
    "            print('tree for multilinear running on sand')\n",
    "        if t == 'silt' and m == 'mult':\n",
    "            os.system('say \"tree for multilinear running on silt\"')\n",
    "            print('tree for multilinear running on silt')\n",
    "        if t == 'clay' and m == 'mult':\n",
    "            os.system('say \"tree for multilinear running on clay\"')\n",
    "            print('tree for multilinear running on clay')\n",
    "        if t == 'TOC' and m == 'mult':\n",
    "            os.system('say \"tree for multilinear running on TOC\"')\n",
    "            print('tree for multilinear running on TOC')\n",
    "            \n",
    "        if t == 'sand' and m == 'plsr':\n",
    "            os.system('say \"tree for plsr running on sand\"')\n",
    "            print('tree for plsr running on sand')\n",
    "        if t == 'silt' and m == 'plsr':\n",
    "            os.system('say \"tree for plsr running on silt\"')\n",
    "            print('tree for plsr running on silt')\n",
    "        if t == 'clay' and m == 'plsr':\n",
    "            os.system('say \"tree for plsr running on clay\"')\n",
    "            print('tree for plsr running on clay')\n",
    "        if t == 'TOC' and m == 'plsr':\n",
    "            os.system('say \"tree for plsr running on TOC\"')\n",
    "            print('tree for plsr running on TOC')\n",
    "            \n",
    "        if t == 'sand' and m == 'randomforest':\n",
    "            os.system('say \"tree for randomforest running on sand\"')\n",
    "            print('tree for randomforest running on sand')\n",
    "        if t == 'silt' and m == 'randomforest':\n",
    "            os.system('say \"tree for randomforest running on silt\"')\n",
    "            print('tree for randomforest running on silt')\n",
    "        if t == 'clay' and m == 'randomforest':\n",
    "            os.system('say \"tree for randomforest running on clay\"')\n",
    "            print('tree for randomforest running on clay')\n",
    "        if t == 'TOC' and m == 'randomforest':\n",
    "            os.system('say \"tree for randomforest running on TOC\"')    \n",
    "            print('tree for randomforest running on TOC')\n",
    "            \n",
    "        if t == 'sand' and m == 'cubist':\n",
    "            os.system('say \"tree for cubist running on sand\"')\n",
    "            print('tree for cubist running on sand')\n",
    "        if t == 'silt' and m == 'cubist':\n",
    "            os.system('say \"tree for cubist running on silt\"')\n",
    "            print('tree for cubist running on silt')\n",
    "        if t == 'clay' and m == 'cubist':\n",
    "            os.system('say \"tree for cubist running on clay\"')\n",
    "            print('tree for cubist running on clay')\n",
    "        if t == 'TOC' and m == 'cubist':\n",
    "            os.system('say \"tree for cubist running on TOC\"')\n",
    "            print('tree for cubist running on TOC')\n",
    "            \n",
    "        if t == 'sand' and m == 'svr':\n",
    "            os.system('say \"tree for svr running on sand\"')\n",
    "            print('tree for svr running on sand')\n",
    "        if t == 'silt' and m == 'svr':\n",
    "            os.system('say \"tree for svr running on silt\"')\n",
    "            print('tree for svr running on silt')\n",
    "        if t == 'clay' and m == 'svr':\n",
    "            os.system('say \"tree for svr running on clay\"')\n",
    "            print('tree for svr running on clay')\n",
    "        if t == 'TOC' and m == 'svr':\n",
    "            os.system('say \"tree for svr running on TOC\"')\n",
    "            print('tree for svr running on TOC')\n",
    "            \n",
    "        if t == 'sand' and m == 'ridge':\n",
    "            os.system('say \"tree for ridge running on sand\"')\n",
    "            print('tree for ridge running on sand')\n",
    "        if t == 'silt' and m == 'ridge':\n",
    "            os.system('say \"tree for ridge running on silt\"')\n",
    "            print('tree for ridge running on silt')\n",
    "        if t == 'clay' and m == 'ridge':\n",
    "            os.system('say \"tree for ridge running on clay\"')\n",
    "            print('tree for ridge running on clay')\n",
    "        if t == 'TOC' and m == 'ridge':\n",
    "            os.system('say \"tree for ridge running on TOC\"')\n",
    "            print('tree for ridge running on TOC')\n",
    "            \n",
    "            \n",
    "        if t == 'sand' and m == 'gbrt':\n",
    "            os.system('say \"tree for gbrt running on sand\"')\n",
    "            print('tree for gbrt running on sand')\n",
    "        if t == 'silt' and m == 'gbrt':\n",
    "            os.system('say \"tree for gbrt running on silt\"')\n",
    "            print('tree for gbrt running on silt')\n",
    "        if t == 'clay' and m == 'gbrt':\n",
    "            os.system('say \"tree for gbrt running on clay\"')\n",
    "            print('tree for gbrt running on clay')\n",
    "        if t == 'TOC' and m == 'gbrt':\n",
    "            os.system('say \"tree for gbrt running on TOC\"')\n",
    "            print('tree for gbrt running on TOC')     \n",
    "                 \n",
    "            \n",
    "        tree[t] ={}\n",
    "        for tp in prepare_target:\n",
    "            tree[t][tp] ={}\n",
    "            for n in nbands_sampling:\n",
    "                tree[t][tp][n] ={}\n",
    "                for p in prepare_spec:\n",
    "                    tree[t][tp][n][p] ={}\n",
    "                    \n",
    "                    #---- following case : either sampling or decision tree methods--\n",
    "                    #---- in this case select appropriate sampled spectrum -------\n",
    "                    if n!=0 or m == 'randomforest' or m == 'cubist' or m == 'gbrt':\n",
    "                        #------ case: sampling required-----------------------\n",
    "                        Y = tree[t][tp][n][p]\n",
    "                        \n",
    "                        #------ setting spec to appropriate sampled spectra----\n",
    "                        if p == 'none':\n",
    "                            if n == 0:\n",
    "                                #---- reched here due to tree based methods e.g. randomforest--\n",
    "                                spec = sampled_spec[100]\n",
    "                            else:\n",
    "                                #---- reached here with some n!=0----\n",
    "                                spec = sampled_spec[n]\n",
    "                        \n",
    "                        elif p == 'fod':\n",
    "                            if n == 0:\n",
    "                                #---- reched here due to tree based methods e.g. randomforest--\n",
    "                                spec = sampled_fod[100]\n",
    "                            else:\n",
    "                                #---- reached here with some n!=0----\n",
    "                                spec = sampled_fod[n]\n",
    "                                \n",
    "                        else:  \n",
    "                            if n == 0:\n",
    "                                #---- reched here due to tree based methods e.g. randomforest--\n",
    "                                spec = sampled_cr[100]\n",
    "                            else:\n",
    "                                #---- reached here with some n!=0----\n",
    "                                spec = sampled_cr[n]\n",
    "                        \n",
    "                        #---- target selection and normalization ---\n",
    "                        if tp == 'none':\n",
    "                            y = T[target_names.index(t)]\n",
    "                            rand_n = rand_t[target_names.index(t)]  #-- for future use in train-test split\n",
    "                        else:\n",
    "                            y = NT[target_names.index(t)]\n",
    "                            rand_n = rand_nt[target_names.index(t)] #-- for future use in train-test split\n",
    "                            #print('one more target set')\n",
    "                            \n",
    "                        #---- performing train-test split----------------------\n",
    "                        X_train, X_test, y_train, y_test = train_test_split(spec, y, test_size= tst_siz, random_state=rand_n)\n",
    "                            \n",
    "                        #----- PLSR: best parameters, fitting, and prediction\n",
    "                        if m == 'plsr':\n",
    "                            n_com = best_param_PLSR (X_train, X_test, y_train, y_test, max_n_comp)\n",
    "                            #print('one more n_comp', n_com)\n",
    "                            Model = PLSRegression(n_components=n_com, scale=True)\n",
    "                            Model.fit(X_train, y_train)\n",
    "                            y_pred = Model.predict(X_test, copy=True)\n",
    "                            yhat_pred = Model.predict(X_train, copy=True)\n",
    "                                \n",
    "                            Y['test'] = y_test\n",
    "                            Y['testP'] = y_pred\n",
    "                            Y['train'] = y_train\n",
    "                            Y['trainP'] = yhat_pred\n",
    "                            Y['n_comp'] = n_com\n",
    "                            Y['iqrp_test'] = iqrp(y_pred, y_test)\n",
    "                                \n",
    "                        #----- MULTILINEAR:  fitting, and prediction---------- \n",
    "                        if m == 'mult':\n",
    "                            Model = linear_model.LinearRegression()\n",
    "                            Model.fit(X_train, y_train)\n",
    "                            y_pred = Model.predict(X_test)\n",
    "                            yhat_pred = Model.predict(X_train)\n",
    "                                \n",
    "                            Y['test'] = y_test\n",
    "                            Y['testP'] = y_pred\n",
    "                            Y['train'] = y_train\n",
    "                            Y['trainP'] = yhat_pred\n",
    "                            Y['iqrp_test'] = iqrp(y_pred, y_test)\n",
    "                                \n",
    "                        #----- RANDOM_FOREST:   fitting, and prediction---------- \n",
    "                        if m == 'randomforest': \n",
    "                            Model = RandomForestRegressor(random_state= 20)\n",
    "                            Model.fit(X_train, y_train)\n",
    "                            y_pred = Model.predict(X_test)\n",
    "                            yhat_pred = Model.predict(X_train)\n",
    "                                \n",
    "                            Y['test'] = y_test\n",
    "                            Y['testP'] = y_pred\n",
    "                            Y['train'] = y_train\n",
    "                            Y['trainP'] = yhat_pred\n",
    "                            Y['iqrp_test'] = iqrp(y_pred, y_test)\n",
    "                            \n",
    "                       \n",
    "                       #----- CUBIST REGRESSION:    fitting and prediction---------\n",
    "                        if m == 'cubist':\n",
    "                            Model = Cubist(n_rules = 50, n_committees = 5, random_state = 42)\n",
    "                            Model.fit(X_train, y_train)\n",
    "                            y_pred = Model.predict(X_test)\n",
    "                            yhat_pred = Model.predict(X_train)\n",
    "                                \n",
    "                            Y['test'] = y_test\n",
    "                            Y['testP'] = y_pred\n",
    "                            Y['train'] = y_train\n",
    "                            Y['trainP'] = yhat_pred\n",
    "                            Y['iqrp_test'] = iqrp(y_pred, y_test)\n",
    "                            \n",
    "                            \n",
    "                      #------ SUPPORT VECTOR MACHINE FOR REGRESSION: fitting and prediction-----------      \n",
    "                        if m == 'svr': \n",
    "                            Model = SVR()\n",
    "                            Model.fit(X_train, y_train)\n",
    "                            y_pred = Model.predict(X_test)\n",
    "                            yhat_pred = Model.predict(X_train)\n",
    "                                \n",
    "                            Y['test'] = y_test\n",
    "                            Y['testP'] = y_pred\n",
    "                            Y['train'] = y_train\n",
    "                            Y['trainP'] = yhat_pred \n",
    "                            Y['iqrp_test'] = iqrp(y_pred, y_test)\n",
    "                            \n",
    "                     \n",
    "                    #------ RIDGE REGRESSION: fitting and prediction-----------      \n",
    "                        if m == 'ridge': \n",
    "                            Model = KernelRidge()\n",
    "                            Model.fit(X_train, y_train)\n",
    "                            y_pred = Model.predict(X_test)\n",
    "                            yhat_pred = Model.predict(X_train)\n",
    "                                \n",
    "                            Y['test'] = y_test\n",
    "                            Y['testP'] = y_pred\n",
    "                            Y['train'] = y_train\n",
    "                            Y['trainP'] = yhat_pred \n",
    "                            Y['iqrp_test'] = iqrp(y_pred, y_test)\n",
    "                            \n",
    "                            \n",
    "                            \n",
    "                   #------ GRADIENT BOOSTING REGRESSION: fitting and prediction-----------      \n",
    "                        if m == 'gbrt': \n",
    "                            Model = GradientBoostingRegressor()\n",
    "                            Model.fit(X_train, y_train)\n",
    "                            y_pred = Model.predict(X_test)\n",
    "                            yhat_pred = Model.predict(X_train)\n",
    "                                \n",
    "                            Y['test'] = y_test\n",
    "                            Y['testP'] = y_pred\n",
    "                            Y['train'] = y_train\n",
    "                            Y['trainP'] = yhat_pred \n",
    "                            Y['iqrp_test'] = iqrp(y_pred, y_test)\n",
    "                                      \n",
    "                            \n",
    "                            \n",
    "                    #---- following case: no sampling needed and model is not tree based methods e.g. randomforest ---    \n",
    "                    else: \n",
    "                        for sg in sg_filters:\n",
    "                            tree[t][tp][n][p][sg] ={}\n",
    "                            for w in window_lengths:\n",
    "                                tree[t][tp][n][p][sg][w]={}\n",
    "                                Y = tree[t][tp][n][p][sg][w]\n",
    "                                \n",
    "                                # -- optimal train test split----------------------------------------\n",
    "                            \n",
    "                                # -- deciding the smoothed spectra in present branch ---\n",
    "                                if sg == 'sg1':\n",
    "                                    spec = spec1[w]\n",
    "                                else:\n",
    "                                    spec = spec2[w]\n",
    "                                \n",
    "                                # -- preprocessing the spectra ------\n",
    "                    \n",
    "                                #--- no preprocessing ---------------\n",
    "                                if p == 'none':\n",
    "                                    spec = spec\n",
    "                                \n",
    "                                #--- first order derivative + smoothing------    \n",
    "                                elif p == 'fod':\n",
    "                                    if sg == 'sg1':\n",
    "                                        spec = fod1[w]\n",
    "                                    else:\n",
    "                                        spec = fod2[w]\n",
    "                                    #print('fod for one more case')\n",
    "                                \n",
    "                                #--- continuum removal + smoothing---------    \n",
    "                                else: \n",
    "                                    if sg == 'sg1':\n",
    "                                        spec = cr1[w]\n",
    "                                    else:\n",
    "                                        spec = cr2[w]\n",
    "                                    #print('cr for one more case')\n",
    "                            \n",
    "                                \n",
    "                                #---- target selection and normalization ---\n",
    "                                if tp == 'none':\n",
    "                                    y = T[target_names.index(t)]\n",
    "                                    rand_n = rand_t[target_names.index(t)]  #-- for future use in train-test split\n",
    "                                else:\n",
    "                                    y = NT[target_names.index(t)]\n",
    "                                    rand_n = rand_nt[target_names.index(t)] #-- for future use in train-test split\n",
    "                                    #print('one more target set')\n",
    "                            \n",
    "                                #---- performing train-test split----------------------\n",
    "                                X_train, X_test, y_train, y_test = train_test_split(spec, y, test_size= tst_siz, random_state=rand_n)\n",
    "                            \n",
    "                                \n",
    "                                #----- PLSR: best parameters, fitting, and prediction\n",
    "                                if m == 'plsr':\n",
    "                                    n_com = best_param_PLSR (X_train, X_test, y_train, y_test, max_n_comp)\n",
    "                                    #print('one more n_comp', n_com)\n",
    "                                    Model = PLSRegression(n_components=n_com, scale=True)\n",
    "                                    Model.fit(X_train, y_train)\n",
    "                                    y_pred = Model.predict(X_test, copy=True)\n",
    "                                    yhat_pred = Model.predict(X_train, copy=True)\n",
    "                                \n",
    "                                    Y['test'] = y_test\n",
    "                                    Y['testP'] = y_pred\n",
    "                                    Y['train'] = y_train\n",
    "                                    Y['trainP'] = yhat_pred\n",
    "                                    Y['n_comp'] = n_com\n",
    "                                    Y['iqrp_test'] = iqrp(y_pred, y_test)\n",
    "                                \n",
    "                                #----- MULTILINEAR:  fitting, and prediction---------- \n",
    "                                if m == 'mult':\n",
    "                                    Model = linear_model.LinearRegression()\n",
    "                                    Model.fit(X_train, y_train)\n",
    "                                    y_pred = Model.predict(X_test)\n",
    "                                    yhat_pred = Model.predict(X_train)\n",
    "                                \n",
    "                                    Y['test'] = y_test\n",
    "                                    Y['testP'] = y_pred\n",
    "                                    Y['train'] = y_train\n",
    "                                    Y['trainP'] = yhat_pred\n",
    "                                    Y['iqrp_test'] = iqrp(y_pred, y_test)\n",
    "                                \n",
    "\n",
    "\n",
    "                    \n",
    "                                #------ SUPPORT VECTOR MACHINE FOR REGRESSION: fitting and prediction-----------      \n",
    "                                if m == 'svr': \n",
    "                                    Model = SVR(kernel = 'poly', degree =3, C = 0.0001)\n",
    "                                    Model.fit(X_train, y_train)\n",
    "                                    y_pred = Model.predict(X_test)\n",
    "                                    yhat_pred = Model.predict(X_train)\n",
    "                                \n",
    "                                    Y['test'] = y_test\n",
    "                                    Y['testP'] = y_pred\n",
    "                                    Y['train'] = y_train\n",
    "                                    Y['trainP'] = yhat_pred  \n",
    "                                    Y['iqrp_test'] = iqrp(y_pred, y_test)\n",
    "                                    \n",
    "                         \n",
    "                         #--------- RIDGE REGRESSION: fitting and prediction------------------\n",
    "                                if m == 'ridge': \n",
    "                                    Model = KernelRidge()\n",
    "                                    Model.fit(X_train, y_train)\n",
    "                                    y_pred = Model.predict(X_test)\n",
    "                                    yhat_pred = Model.predict(X_train)\n",
    "                                \n",
    "                                    Y['test'] = y_test\n",
    "                                    Y['testP'] = y_pred\n",
    "                                    Y['train'] = y_train\n",
    "                                    Y['trainP'] = yhat_pred \n",
    "                                    Y['iqrp_test'] = iqrp(y_pred, y_test)\n",
    "                            \n",
    "                            \n",
    "                      \n",
    "     \n",
    "    \n",
    "    end = time.time()                            \n",
    "    os.system('say \"your program has finished\"')                            \n",
    "\n",
    "    print('End time - Start time =', (end-start)) \n",
    "    \n",
    "    return (tree.copy())\n"
   ]
  },
  {
   "cell_type": "markdown",
   "id": "2cbe7179",
   "metadata": {},
   "source": [
    "## Mtree initialisation (do not run below code every time)"
   ]
  },
  {
   "cell_type": "code",
   "execution_count": 40,
   "id": "fbc012ba",
   "metadata": {},
   "outputs": [],
   "source": [
    "Mtree ={}"
   ]
  },
  {
   "cell_type": "markdown",
   "id": "65d3136d",
   "metadata": {},
   "source": [
    "## Creating different branches of Mtree (for separate methods)"
   ]
  },
  {
   "cell_type": "markdown",
   "id": "9e879891",
   "metadata": {},
   "source": [
    "### PLSR Branch "
   ]
  },
  {
   "cell_type": "code",
   "execution_count": 41,
   "id": "41c34738",
   "metadata": {},
   "outputs": [
    {
     "name": "stdout",
     "output_type": "stream",
     "text": [
      "tree for plsr running on sand\n",
      "tree for plsr running on silt\n",
      "tree for plsr running on clay\n",
      "tree for plsr running on TOC\n",
      "End time - Start time = 127.39276885986328\n"
     ]
    }
   ],
   "source": [
    "Mtree['plsr'] = build_tree_for ('plsr')"
   ]
  },
  {
   "cell_type": "markdown",
   "id": "86e6ce3a",
   "metadata": {},
   "source": [
    "### Multiple Linear Regression Branch"
   ]
  },
  {
   "cell_type": "code",
   "execution_count": 42,
   "id": "b02641a6",
   "metadata": {},
   "outputs": [
    {
     "name": "stdout",
     "output_type": "stream",
     "text": [
      "tree for multilinear running on sand\n",
      "tree for multilinear running on silt\n",
      "tree for multilinear running on clay\n",
      "tree for multilinear running on TOC\n",
      "End time - Start time = 28.229124069213867\n"
     ]
    }
   ],
   "source": [
    "Mtree['mult'] = build_tree_for ('mult')"
   ]
  },
  {
   "cell_type": "markdown",
   "id": "4b9d0acc",
   "metadata": {},
   "source": [
    "### Random Forest Branch"
   ]
  },
  {
   "cell_type": "code",
   "execution_count": 43,
   "id": "867391a0",
   "metadata": {},
   "outputs": [
    {
     "name": "stdout",
     "output_type": "stream",
     "text": [
      "tree for randomforest running on sand\n",
      "tree for randomforest running on silt\n",
      "tree for randomforest running on clay\n",
      "tree for randomforest running on TOC\n",
      "End time - Start time = 209.06787753105164\n"
     ]
    }
   ],
   "source": [
    "Mtree['randomforest'] = build_tree_for ('randomforest')"
   ]
  },
  {
   "cell_type": "markdown",
   "id": "3a4358d9",
   "metadata": {},
   "source": [
    "### SVM Branch"
   ]
  },
  {
   "cell_type": "code",
   "execution_count": 44,
   "id": "3bfe29be",
   "metadata": {},
   "outputs": [
    {
     "name": "stdout",
     "output_type": "stream",
     "text": [
      "tree for svr running on sand\n",
      "tree for svr running on silt\n",
      "tree for svr running on clay\n",
      "tree for svr running on TOC\n",
      "End time - Start time = 42.369226694107056\n"
     ]
    }
   ],
   "source": [
    "Mtree['svr'] = build_tree_for ('svr')"
   ]
  },
  {
   "cell_type": "markdown",
   "id": "e5e189c3",
   "metadata": {},
   "source": [
    "### GBRT Branch"
   ]
  },
  {
   "cell_type": "code",
   "execution_count": 45,
   "id": "e6139101",
   "metadata": {},
   "outputs": [
    {
     "name": "stdout",
     "output_type": "stream",
     "text": [
      "tree for gbrt running on sand\n",
      "tree for gbrt running on silt\n",
      "tree for gbrt running on clay\n",
      "tree for gbrt running on TOC\n",
      "End time - Start time = 149.01844668388367\n"
     ]
    }
   ],
   "source": [
    "Mtree['gbrt'] = build_tree_for ('gbrt')"
   ]
  },
  {
   "cell_type": "markdown",
   "id": "32ff0fb2",
   "metadata": {},
   "source": [
    "### Ridge Regression Branch"
   ]
  },
  {
   "cell_type": "code",
   "execution_count": 46,
   "id": "93db53ce",
   "metadata": {},
   "outputs": [
    {
     "name": "stdout",
     "output_type": "stream",
     "text": [
      "tree for ridge running on sand\n",
      "tree for ridge running on silt\n",
      "tree for ridge running on clay\n",
      "tree for ridge running on TOC\n",
      "End time - Start time = 25.04943299293518\n"
     ]
    }
   ],
   "source": [
    "Mtree['ridge'] = build_tree_for ('ridge')"
   ]
  },
  {
   "cell_type": "markdown",
   "id": "fee13435",
   "metadata": {},
   "source": [
    "### Cubist Branch"
   ]
  },
  {
   "cell_type": "code",
   "execution_count": 47,
   "id": "062e07b1",
   "metadata": {},
   "outputs": [
    {
     "name": "stdout",
     "output_type": "stream",
     "text": [
      "tree for cubist running on sand\n"
     ]
    },
    {
     "name": "stderr",
     "output_type": "stream",
     "text": [
      "C:\\Users\\abhis\\anaconda3\\envs\\RP_Env\\lib\\site-packages\\cubist\\_quinlan_attributes.py:67: FutureWarning: iteritems is deprecated and will be removed in a future version. Use .items instead.\n",
      "  return {col_name: _get_data_format(col_data) for col_name, col_data in df.iteritems()}\n",
      "C:\\Users\\abhis\\anaconda3\\envs\\RP_Env\\lib\\site-packages\\cubist\\_quinlan_attributes.py:67: FutureWarning: iteritems is deprecated and will be removed in a future version. Use .items instead.\n",
      "  return {col_name: _get_data_format(col_data) for col_name, col_data in df.iteritems()}\n",
      "C:\\Users\\abhis\\anaconda3\\envs\\RP_Env\\lib\\site-packages\\cubist\\_quinlan_attributes.py:67: FutureWarning: iteritems is deprecated and will be removed in a future version. Use .items instead.\n",
      "  return {col_name: _get_data_format(col_data) for col_name, col_data in df.iteritems()}\n",
      "C:\\Users\\abhis\\anaconda3\\envs\\RP_Env\\lib\\site-packages\\cubist\\_quinlan_attributes.py:67: FutureWarning: iteritems is deprecated and will be removed in a future version. Use .items instead.\n",
      "  return {col_name: _get_data_format(col_data) for col_name, col_data in df.iteritems()}\n",
      "C:\\Users\\abhis\\anaconda3\\envs\\RP_Env\\lib\\site-packages\\cubist\\_quinlan_attributes.py:67: FutureWarning: iteritems is deprecated and will be removed in a future version. Use .items instead.\n",
      "  return {col_name: _get_data_format(col_data) for col_name, col_data in df.iteritems()}\n",
      "C:\\Users\\abhis\\anaconda3\\envs\\RP_Env\\lib\\site-packages\\cubist\\_quinlan_attributes.py:67: FutureWarning: iteritems is deprecated and will be removed in a future version. Use .items instead.\n",
      "  return {col_name: _get_data_format(col_data) for col_name, col_data in df.iteritems()}\n",
      "C:\\Users\\abhis\\anaconda3\\envs\\RP_Env\\lib\\site-packages\\cubist\\_quinlan_attributes.py:67: FutureWarning: iteritems is deprecated and will be removed in a future version. Use .items instead.\n",
      "  return {col_name: _get_data_format(col_data) for col_name, col_data in df.iteritems()}\n",
      "C:\\Users\\abhis\\anaconda3\\envs\\RP_Env\\lib\\site-packages\\cubist\\_quinlan_attributes.py:67: FutureWarning: iteritems is deprecated and will be removed in a future version. Use .items instead.\n",
      "  return {col_name: _get_data_format(col_data) for col_name, col_data in df.iteritems()}\n",
      "C:\\Users\\abhis\\anaconda3\\envs\\RP_Env\\lib\\site-packages\\cubist\\_quinlan_attributes.py:67: FutureWarning: iteritems is deprecated and will be removed in a future version. Use .items instead.\n",
      "  return {col_name: _get_data_format(col_data) for col_name, col_data in df.iteritems()}\n",
      "C:\\Users\\abhis\\anaconda3\\envs\\RP_Env\\lib\\site-packages\\cubist\\_quinlan_attributes.py:67: FutureWarning: iteritems is deprecated and will be removed in a future version. Use .items instead.\n",
      "  return {col_name: _get_data_format(col_data) for col_name, col_data in df.iteritems()}\n",
      "C:\\Users\\abhis\\anaconda3\\envs\\RP_Env\\lib\\site-packages\\cubist\\_quinlan_attributes.py:67: FutureWarning: iteritems is deprecated and will be removed in a future version. Use .items instead.\n",
      "  return {col_name: _get_data_format(col_data) for col_name, col_data in df.iteritems()}\n",
      "C:\\Users\\abhis\\anaconda3\\envs\\RP_Env\\lib\\site-packages\\cubist\\_quinlan_attributes.py:67: FutureWarning: iteritems is deprecated and will be removed in a future version. Use .items instead.\n",
      "  return {col_name: _get_data_format(col_data) for col_name, col_data in df.iteritems()}\n",
      "C:\\Users\\abhis\\anaconda3\\envs\\RP_Env\\lib\\site-packages\\cubist\\_quinlan_attributes.py:67: FutureWarning: iteritems is deprecated and will be removed in a future version. Use .items instead.\n",
      "  return {col_name: _get_data_format(col_data) for col_name, col_data in df.iteritems()}\n",
      "C:\\Users\\abhis\\anaconda3\\envs\\RP_Env\\lib\\site-packages\\cubist\\_quinlan_attributes.py:67: FutureWarning: iteritems is deprecated and will be removed in a future version. Use .items instead.\n",
      "  return {col_name: _get_data_format(col_data) for col_name, col_data in df.iteritems()}\n",
      "C:\\Users\\abhis\\anaconda3\\envs\\RP_Env\\lib\\site-packages\\cubist\\_quinlan_attributes.py:67: FutureWarning: iteritems is deprecated and will be removed in a future version. Use .items instead.\n",
      "  return {col_name: _get_data_format(col_data) for col_name, col_data in df.iteritems()}\n",
      "C:\\Users\\abhis\\anaconda3\\envs\\RP_Env\\lib\\site-packages\\cubist\\_quinlan_attributes.py:67: FutureWarning: iteritems is deprecated and will be removed in a future version. Use .items instead.\n",
      "  return {col_name: _get_data_format(col_data) for col_name, col_data in df.iteritems()}\n",
      "C:\\Users\\abhis\\anaconda3\\envs\\RP_Env\\lib\\site-packages\\cubist\\_quinlan_attributes.py:67: FutureWarning: iteritems is deprecated and will be removed in a future version. Use .items instead.\n",
      "  return {col_name: _get_data_format(col_data) for col_name, col_data in df.iteritems()}\n",
      "C:\\Users\\abhis\\anaconda3\\envs\\RP_Env\\lib\\site-packages\\cubist\\_quinlan_attributes.py:67: FutureWarning: iteritems is deprecated and will be removed in a future version. Use .items instead.\n",
      "  return {col_name: _get_data_format(col_data) for col_name, col_data in df.iteritems()}\n",
      "C:\\Users\\abhis\\anaconda3\\envs\\RP_Env\\lib\\site-packages\\cubist\\_quinlan_attributes.py:67: FutureWarning: iteritems is deprecated and will be removed in a future version. Use .items instead.\n",
      "  return {col_name: _get_data_format(col_data) for col_name, col_data in df.iteritems()}\n",
      "C:\\Users\\abhis\\anaconda3\\envs\\RP_Env\\lib\\site-packages\\cubist\\_quinlan_attributes.py:67: FutureWarning: iteritems is deprecated and will be removed in a future version. Use .items instead.\n",
      "  return {col_name: _get_data_format(col_data) for col_name, col_data in df.iteritems()}\n",
      "C:\\Users\\abhis\\anaconda3\\envs\\RP_Env\\lib\\site-packages\\cubist\\_quinlan_attributes.py:67: FutureWarning: iteritems is deprecated and will be removed in a future version. Use .items instead.\n",
      "  return {col_name: _get_data_format(col_data) for col_name, col_data in df.iteritems()}\n",
      "C:\\Users\\abhis\\anaconda3\\envs\\RP_Env\\lib\\site-packages\\cubist\\_quinlan_attributes.py:67: FutureWarning: iteritems is deprecated and will be removed in a future version. Use .items instead.\n",
      "  return {col_name: _get_data_format(col_data) for col_name, col_data in df.iteritems()}\n",
      "C:\\Users\\abhis\\anaconda3\\envs\\RP_Env\\lib\\site-packages\\cubist\\_quinlan_attributes.py:67: FutureWarning: iteritems is deprecated and will be removed in a future version. Use .items instead.\n",
      "  return {col_name: _get_data_format(col_data) for col_name, col_data in df.iteritems()}\n",
      "C:\\Users\\abhis\\anaconda3\\envs\\RP_Env\\lib\\site-packages\\cubist\\_quinlan_attributes.py:67: FutureWarning: iteritems is deprecated and will be removed in a future version. Use .items instead.\n",
      "  return {col_name: _get_data_format(col_data) for col_name, col_data in df.iteritems()}\n",
      "C:\\Users\\abhis\\anaconda3\\envs\\RP_Env\\lib\\site-packages\\cubist\\_quinlan_attributes.py:67: FutureWarning: iteritems is deprecated and will be removed in a future version. Use .items instead.\n",
      "  return {col_name: _get_data_format(col_data) for col_name, col_data in df.iteritems()}\n",
      "C:\\Users\\abhis\\anaconda3\\envs\\RP_Env\\lib\\site-packages\\cubist\\_quinlan_attributes.py:67: FutureWarning: iteritems is deprecated and will be removed in a future version. Use .items instead.\n",
      "  return {col_name: _get_data_format(col_data) for col_name, col_data in df.iteritems()}\n",
      "C:\\Users\\abhis\\anaconda3\\envs\\RP_Env\\lib\\site-packages\\cubist\\_quinlan_attributes.py:67: FutureWarning: iteritems is deprecated and will be removed in a future version. Use .items instead.\n",
      "  return {col_name: _get_data_format(col_data) for col_name, col_data in df.iteritems()}\n",
      "C:\\Users\\abhis\\anaconda3\\envs\\RP_Env\\lib\\site-packages\\cubist\\_quinlan_attributes.py:67: FutureWarning: iteritems is deprecated and will be removed in a future version. Use .items instead.\n",
      "  return {col_name: _get_data_format(col_data) for col_name, col_data in df.iteritems()}\n",
      "C:\\Users\\abhis\\anaconda3\\envs\\RP_Env\\lib\\site-packages\\cubist\\_quinlan_attributes.py:67: FutureWarning: iteritems is deprecated and will be removed in a future version. Use .items instead.\n",
      "  return {col_name: _get_data_format(col_data) for col_name, col_data in df.iteritems()}\n",
      "C:\\Users\\abhis\\anaconda3\\envs\\RP_Env\\lib\\site-packages\\cubist\\_quinlan_attributes.py:67: FutureWarning: iteritems is deprecated and will be removed in a future version. Use .items instead.\n",
      "  return {col_name: _get_data_format(col_data) for col_name, col_data in df.iteritems()}\n",
      "C:\\Users\\abhis\\anaconda3\\envs\\RP_Env\\lib\\site-packages\\cubist\\_quinlan_attributes.py:67: FutureWarning: iteritems is deprecated and will be removed in a future version. Use .items instead.\n",
      "  return {col_name: _get_data_format(col_data) for col_name, col_data in df.iteritems()}\n",
      "C:\\Users\\abhis\\anaconda3\\envs\\RP_Env\\lib\\site-packages\\cubist\\_quinlan_attributes.py:67: FutureWarning: iteritems is deprecated and will be removed in a future version. Use .items instead.\n",
      "  return {col_name: _get_data_format(col_data) for col_name, col_data in df.iteritems()}\n"
     ]
    },
    {
     "name": "stderr",
     "output_type": "stream",
     "text": [
      "C:\\Users\\abhis\\anaconda3\\envs\\RP_Env\\lib\\site-packages\\cubist\\_quinlan_attributes.py:67: FutureWarning: iteritems is deprecated and will be removed in a future version. Use .items instead.\n",
      "  return {col_name: _get_data_format(col_data) for col_name, col_data in df.iteritems()}\n",
      "C:\\Users\\abhis\\anaconda3\\envs\\RP_Env\\lib\\site-packages\\cubist\\_quinlan_attributes.py:67: FutureWarning: iteritems is deprecated and will be removed in a future version. Use .items instead.\n",
      "  return {col_name: _get_data_format(col_data) for col_name, col_data in df.iteritems()}\n",
      "C:\\Users\\abhis\\anaconda3\\envs\\RP_Env\\lib\\site-packages\\cubist\\_quinlan_attributes.py:67: FutureWarning: iteritems is deprecated and will be removed in a future version. Use .items instead.\n",
      "  return {col_name: _get_data_format(col_data) for col_name, col_data in df.iteritems()}\n",
      "C:\\Users\\abhis\\anaconda3\\envs\\RP_Env\\lib\\site-packages\\cubist\\_quinlan_attributes.py:67: FutureWarning: iteritems is deprecated and will be removed in a future version. Use .items instead.\n",
      "  return {col_name: _get_data_format(col_data) for col_name, col_data in df.iteritems()}\n",
      "C:\\Users\\abhis\\anaconda3\\envs\\RP_Env\\lib\\site-packages\\cubist\\_quinlan_attributes.py:67: FutureWarning: iteritems is deprecated and will be removed in a future version. Use .items instead.\n",
      "  return {col_name: _get_data_format(col_data) for col_name, col_data in df.iteritems()}\n",
      "C:\\Users\\abhis\\anaconda3\\envs\\RP_Env\\lib\\site-packages\\cubist\\_quinlan_attributes.py:67: FutureWarning: iteritems is deprecated and will be removed in a future version. Use .items instead.\n",
      "  return {col_name: _get_data_format(col_data) for col_name, col_data in df.iteritems()}\n",
      "C:\\Users\\abhis\\anaconda3\\envs\\RP_Env\\lib\\site-packages\\cubist\\_quinlan_attributes.py:67: FutureWarning: iteritems is deprecated and will be removed in a future version. Use .items instead.\n",
      "  return {col_name: _get_data_format(col_data) for col_name, col_data in df.iteritems()}\n",
      "C:\\Users\\abhis\\anaconda3\\envs\\RP_Env\\lib\\site-packages\\cubist\\_quinlan_attributes.py:67: FutureWarning: iteritems is deprecated and will be removed in a future version. Use .items instead.\n",
      "  return {col_name: _get_data_format(col_data) for col_name, col_data in df.iteritems()}\n",
      "C:\\Users\\abhis\\anaconda3\\envs\\RP_Env\\lib\\site-packages\\cubist\\_quinlan_attributes.py:67: FutureWarning: iteritems is deprecated and will be removed in a future version. Use .items instead.\n",
      "  return {col_name: _get_data_format(col_data) for col_name, col_data in df.iteritems()}\n",
      "C:\\Users\\abhis\\anaconda3\\envs\\RP_Env\\lib\\site-packages\\cubist\\_quinlan_attributes.py:67: FutureWarning: iteritems is deprecated and will be removed in a future version. Use .items instead.\n",
      "  return {col_name: _get_data_format(col_data) for col_name, col_data in df.iteritems()}\n",
      "C:\\Users\\abhis\\anaconda3\\envs\\RP_Env\\lib\\site-packages\\cubist\\_quinlan_attributes.py:67: FutureWarning: iteritems is deprecated and will be removed in a future version. Use .items instead.\n",
      "  return {col_name: _get_data_format(col_data) for col_name, col_data in df.iteritems()}\n",
      "C:\\Users\\abhis\\anaconda3\\envs\\RP_Env\\lib\\site-packages\\cubist\\_quinlan_attributes.py:67: FutureWarning: iteritems is deprecated and will be removed in a future version. Use .items instead.\n",
      "  return {col_name: _get_data_format(col_data) for col_name, col_data in df.iteritems()}\n",
      "C:\\Users\\abhis\\anaconda3\\envs\\RP_Env\\lib\\site-packages\\cubist\\_quinlan_attributes.py:67: FutureWarning: iteritems is deprecated and will be removed in a future version. Use .items instead.\n",
      "  return {col_name: _get_data_format(col_data) for col_name, col_data in df.iteritems()}\n",
      "C:\\Users\\abhis\\anaconda3\\envs\\RP_Env\\lib\\site-packages\\cubist\\_quinlan_attributes.py:67: FutureWarning: iteritems is deprecated and will be removed in a future version. Use .items instead.\n",
      "  return {col_name: _get_data_format(col_data) for col_name, col_data in df.iteritems()}\n",
      "C:\\Users\\abhis\\anaconda3\\envs\\RP_Env\\lib\\site-packages\\cubist\\_quinlan_attributes.py:67: FutureWarning: iteritems is deprecated and will be removed in a future version. Use .items instead.\n",
      "  return {col_name: _get_data_format(col_data) for col_name, col_data in df.iteritems()}\n",
      "C:\\Users\\abhis\\anaconda3\\envs\\RP_Env\\lib\\site-packages\\cubist\\_quinlan_attributes.py:67: FutureWarning: iteritems is deprecated and will be removed in a future version. Use .items instead.\n",
      "  return {col_name: _get_data_format(col_data) for col_name, col_data in df.iteritems()}\n"
     ]
    },
    {
     "name": "stdout",
     "output_type": "stream",
     "text": [
      "tree for cubist running on silt\n"
     ]
    },
    {
     "name": "stderr",
     "output_type": "stream",
     "text": [
      "C:\\Users\\abhis\\anaconda3\\envs\\RP_Env\\lib\\site-packages\\cubist\\_quinlan_attributes.py:67: FutureWarning: iteritems is deprecated and will be removed in a future version. Use .items instead.\n",
      "  return {col_name: _get_data_format(col_data) for col_name, col_data in df.iteritems()}\n",
      "C:\\Users\\abhis\\anaconda3\\envs\\RP_Env\\lib\\site-packages\\cubist\\_quinlan_attributes.py:67: FutureWarning: iteritems is deprecated and will be removed in a future version. Use .items instead.\n",
      "  return {col_name: _get_data_format(col_data) for col_name, col_data in df.iteritems()}\n",
      "C:\\Users\\abhis\\anaconda3\\envs\\RP_Env\\lib\\site-packages\\cubist\\_quinlan_attributes.py:67: FutureWarning: iteritems is deprecated and will be removed in a future version. Use .items instead.\n",
      "  return {col_name: _get_data_format(col_data) for col_name, col_data in df.iteritems()}\n",
      "C:\\Users\\abhis\\anaconda3\\envs\\RP_Env\\lib\\site-packages\\cubist\\_quinlan_attributes.py:67: FutureWarning: iteritems is deprecated and will be removed in a future version. Use .items instead.\n",
      "  return {col_name: _get_data_format(col_data) for col_name, col_data in df.iteritems()}\n",
      "C:\\Users\\abhis\\anaconda3\\envs\\RP_Env\\lib\\site-packages\\cubist\\_quinlan_attributes.py:67: FutureWarning: iteritems is deprecated and will be removed in a future version. Use .items instead.\n",
      "  return {col_name: _get_data_format(col_data) for col_name, col_data in df.iteritems()}\n",
      "C:\\Users\\abhis\\anaconda3\\envs\\RP_Env\\lib\\site-packages\\cubist\\_quinlan_attributes.py:67: FutureWarning: iteritems is deprecated and will be removed in a future version. Use .items instead.\n",
      "  return {col_name: _get_data_format(col_data) for col_name, col_data in df.iteritems()}\n",
      "C:\\Users\\abhis\\anaconda3\\envs\\RP_Env\\lib\\site-packages\\cubist\\_quinlan_attributes.py:67: FutureWarning: iteritems is deprecated and will be removed in a future version. Use .items instead.\n",
      "  return {col_name: _get_data_format(col_data) for col_name, col_data in df.iteritems()}\n",
      "C:\\Users\\abhis\\anaconda3\\envs\\RP_Env\\lib\\site-packages\\cubist\\_quinlan_attributes.py:67: FutureWarning: iteritems is deprecated and will be removed in a future version. Use .items instead.\n",
      "  return {col_name: _get_data_format(col_data) for col_name, col_data in df.iteritems()}\n",
      "C:\\Users\\abhis\\anaconda3\\envs\\RP_Env\\lib\\site-packages\\cubist\\_quinlan_attributes.py:67: FutureWarning: iteritems is deprecated and will be removed in a future version. Use .items instead.\n",
      "  return {col_name: _get_data_format(col_data) for col_name, col_data in df.iteritems()}\n",
      "C:\\Users\\abhis\\anaconda3\\envs\\RP_Env\\lib\\site-packages\\cubist\\_quinlan_attributes.py:67: FutureWarning: iteritems is deprecated and will be removed in a future version. Use .items instead.\n",
      "  return {col_name: _get_data_format(col_data) for col_name, col_data in df.iteritems()}\n",
      "C:\\Users\\abhis\\anaconda3\\envs\\RP_Env\\lib\\site-packages\\cubist\\_quinlan_attributes.py:67: FutureWarning: iteritems is deprecated and will be removed in a future version. Use .items instead.\n",
      "  return {col_name: _get_data_format(col_data) for col_name, col_data in df.iteritems()}\n",
      "C:\\Users\\abhis\\anaconda3\\envs\\RP_Env\\lib\\site-packages\\cubist\\_quinlan_attributes.py:67: FutureWarning: iteritems is deprecated and will be removed in a future version. Use .items instead.\n",
      "  return {col_name: _get_data_format(col_data) for col_name, col_data in df.iteritems()}\n",
      "C:\\Users\\abhis\\anaconda3\\envs\\RP_Env\\lib\\site-packages\\cubist\\_quinlan_attributes.py:67: FutureWarning: iteritems is deprecated and will be removed in a future version. Use .items instead.\n",
      "  return {col_name: _get_data_format(col_data) for col_name, col_data in df.iteritems()}\n",
      "C:\\Users\\abhis\\anaconda3\\envs\\RP_Env\\lib\\site-packages\\cubist\\_quinlan_attributes.py:67: FutureWarning: iteritems is deprecated and will be removed in a future version. Use .items instead.\n",
      "  return {col_name: _get_data_format(col_data) for col_name, col_data in df.iteritems()}\n",
      "C:\\Users\\abhis\\anaconda3\\envs\\RP_Env\\lib\\site-packages\\cubist\\_quinlan_attributes.py:67: FutureWarning: iteritems is deprecated and will be removed in a future version. Use .items instead.\n",
      "  return {col_name: _get_data_format(col_data) for col_name, col_data in df.iteritems()}\n",
      "C:\\Users\\abhis\\anaconda3\\envs\\RP_Env\\lib\\site-packages\\cubist\\_quinlan_attributes.py:67: FutureWarning: iteritems is deprecated and will be removed in a future version. Use .items instead.\n",
      "  return {col_name: _get_data_format(col_data) for col_name, col_data in df.iteritems()}\n",
      "C:\\Users\\abhis\\anaconda3\\envs\\RP_Env\\lib\\site-packages\\cubist\\_quinlan_attributes.py:67: FutureWarning: iteritems is deprecated and will be removed in a future version. Use .items instead.\n",
      "  return {col_name: _get_data_format(col_data) for col_name, col_data in df.iteritems()}\n",
      "C:\\Users\\abhis\\anaconda3\\envs\\RP_Env\\lib\\site-packages\\cubist\\_quinlan_attributes.py:67: FutureWarning: iteritems is deprecated and will be removed in a future version. Use .items instead.\n",
      "  return {col_name: _get_data_format(col_data) for col_name, col_data in df.iteritems()}\n",
      "C:\\Users\\abhis\\anaconda3\\envs\\RP_Env\\lib\\site-packages\\cubist\\_quinlan_attributes.py:67: FutureWarning: iteritems is deprecated and will be removed in a future version. Use .items instead.\n",
      "  return {col_name: _get_data_format(col_data) for col_name, col_data in df.iteritems()}\n",
      "C:\\Users\\abhis\\anaconda3\\envs\\RP_Env\\lib\\site-packages\\cubist\\_quinlan_attributes.py:67: FutureWarning: iteritems is deprecated and will be removed in a future version. Use .items instead.\n",
      "  return {col_name: _get_data_format(col_data) for col_name, col_data in df.iteritems()}\n",
      "C:\\Users\\abhis\\anaconda3\\envs\\RP_Env\\lib\\site-packages\\cubist\\_quinlan_attributes.py:67: FutureWarning: iteritems is deprecated and will be removed in a future version. Use .items instead.\n",
      "  return {col_name: _get_data_format(col_data) for col_name, col_data in df.iteritems()}\n",
      "C:\\Users\\abhis\\anaconda3\\envs\\RP_Env\\lib\\site-packages\\cubist\\_quinlan_attributes.py:67: FutureWarning: iteritems is deprecated and will be removed in a future version. Use .items instead.\n",
      "  return {col_name: _get_data_format(col_data) for col_name, col_data in df.iteritems()}\n",
      "C:\\Users\\abhis\\anaconda3\\envs\\RP_Env\\lib\\site-packages\\cubist\\_quinlan_attributes.py:67: FutureWarning: iteritems is deprecated and will be removed in a future version. Use .items instead.\n",
      "  return {col_name: _get_data_format(col_data) for col_name, col_data in df.iteritems()}\n",
      "C:\\Users\\abhis\\anaconda3\\envs\\RP_Env\\lib\\site-packages\\cubist\\_quinlan_attributes.py:67: FutureWarning: iteritems is deprecated and will be removed in a future version. Use .items instead.\n",
      "  return {col_name: _get_data_format(col_data) for col_name, col_data in df.iteritems()}\n",
      "C:\\Users\\abhis\\anaconda3\\envs\\RP_Env\\lib\\site-packages\\cubist\\_quinlan_attributes.py:67: FutureWarning: iteritems is deprecated and will be removed in a future version. Use .items instead.\n",
      "  return {col_name: _get_data_format(col_data) for col_name, col_data in df.iteritems()}\n",
      "C:\\Users\\abhis\\anaconda3\\envs\\RP_Env\\lib\\site-packages\\cubist\\_quinlan_attributes.py:67: FutureWarning: iteritems is deprecated and will be removed in a future version. Use .items instead.\n",
      "  return {col_name: _get_data_format(col_data) for col_name, col_data in df.iteritems()}\n",
      "C:\\Users\\abhis\\anaconda3\\envs\\RP_Env\\lib\\site-packages\\cubist\\_quinlan_attributes.py:67: FutureWarning: iteritems is deprecated and will be removed in a future version. Use .items instead.\n",
      "  return {col_name: _get_data_format(col_data) for col_name, col_data in df.iteritems()}\n",
      "C:\\Users\\abhis\\anaconda3\\envs\\RP_Env\\lib\\site-packages\\cubist\\_quinlan_attributes.py:67: FutureWarning: iteritems is deprecated and will be removed in a future version. Use .items instead.\n",
      "  return {col_name: _get_data_format(col_data) for col_name, col_data in df.iteritems()}\n",
      "C:\\Users\\abhis\\anaconda3\\envs\\RP_Env\\lib\\site-packages\\cubist\\_quinlan_attributes.py:67: FutureWarning: iteritems is deprecated and will be removed in a future version. Use .items instead.\n",
      "  return {col_name: _get_data_format(col_data) for col_name, col_data in df.iteritems()}\n",
      "C:\\Users\\abhis\\anaconda3\\envs\\RP_Env\\lib\\site-packages\\cubist\\_quinlan_attributes.py:67: FutureWarning: iteritems is deprecated and will be removed in a future version. Use .items instead.\n",
      "  return {col_name: _get_data_format(col_data) for col_name, col_data in df.iteritems()}\n",
      "C:\\Users\\abhis\\anaconda3\\envs\\RP_Env\\lib\\site-packages\\cubist\\_quinlan_attributes.py:67: FutureWarning: iteritems is deprecated and will be removed in a future version. Use .items instead.\n",
      "  return {col_name: _get_data_format(col_data) for col_name, col_data in df.iteritems()}\n",
      "C:\\Users\\abhis\\anaconda3\\envs\\RP_Env\\lib\\site-packages\\cubist\\_quinlan_attributes.py:67: FutureWarning: iteritems is deprecated and will be removed in a future version. Use .items instead.\n",
      "  return {col_name: _get_data_format(col_data) for col_name, col_data in df.iteritems()}\n"
     ]
    },
    {
     "name": "stderr",
     "output_type": "stream",
     "text": [
      "C:\\Users\\abhis\\anaconda3\\envs\\RP_Env\\lib\\site-packages\\cubist\\_quinlan_attributes.py:67: FutureWarning: iteritems is deprecated and will be removed in a future version. Use .items instead.\n",
      "  return {col_name: _get_data_format(col_data) for col_name, col_data in df.iteritems()}\n",
      "C:\\Users\\abhis\\anaconda3\\envs\\RP_Env\\lib\\site-packages\\cubist\\_quinlan_attributes.py:67: FutureWarning: iteritems is deprecated and will be removed in a future version. Use .items instead.\n",
      "  return {col_name: _get_data_format(col_data) for col_name, col_data in df.iteritems()}\n",
      "C:\\Users\\abhis\\anaconda3\\envs\\RP_Env\\lib\\site-packages\\cubist\\_quinlan_attributes.py:67: FutureWarning: iteritems is deprecated and will be removed in a future version. Use .items instead.\n",
      "  return {col_name: _get_data_format(col_data) for col_name, col_data in df.iteritems()}\n",
      "C:\\Users\\abhis\\anaconda3\\envs\\RP_Env\\lib\\site-packages\\cubist\\_quinlan_attributes.py:67: FutureWarning: iteritems is deprecated and will be removed in a future version. Use .items instead.\n",
      "  return {col_name: _get_data_format(col_data) for col_name, col_data in df.iteritems()}\n",
      "C:\\Users\\abhis\\anaconda3\\envs\\RP_Env\\lib\\site-packages\\cubist\\_quinlan_attributes.py:67: FutureWarning: iteritems is deprecated and will be removed in a future version. Use .items instead.\n",
      "  return {col_name: _get_data_format(col_data) for col_name, col_data in df.iteritems()}\n",
      "C:\\Users\\abhis\\anaconda3\\envs\\RP_Env\\lib\\site-packages\\cubist\\_quinlan_attributes.py:67: FutureWarning: iteritems is deprecated and will be removed in a future version. Use .items instead.\n",
      "  return {col_name: _get_data_format(col_data) for col_name, col_data in df.iteritems()}\n",
      "C:\\Users\\abhis\\anaconda3\\envs\\RP_Env\\lib\\site-packages\\cubist\\_quinlan_attributes.py:67: FutureWarning: iteritems is deprecated and will be removed in a future version. Use .items instead.\n",
      "  return {col_name: _get_data_format(col_data) for col_name, col_data in df.iteritems()}\n",
      "C:\\Users\\abhis\\anaconda3\\envs\\RP_Env\\lib\\site-packages\\cubist\\_quinlan_attributes.py:67: FutureWarning: iteritems is deprecated and will be removed in a future version. Use .items instead.\n",
      "  return {col_name: _get_data_format(col_data) for col_name, col_data in df.iteritems()}\n",
      "C:\\Users\\abhis\\anaconda3\\envs\\RP_Env\\lib\\site-packages\\cubist\\_quinlan_attributes.py:67: FutureWarning: iteritems is deprecated and will be removed in a future version. Use .items instead.\n",
      "  return {col_name: _get_data_format(col_data) for col_name, col_data in df.iteritems()}\n",
      "C:\\Users\\abhis\\anaconda3\\envs\\RP_Env\\lib\\site-packages\\cubist\\_quinlan_attributes.py:67: FutureWarning: iteritems is deprecated and will be removed in a future version. Use .items instead.\n",
      "  return {col_name: _get_data_format(col_data) for col_name, col_data in df.iteritems()}\n",
      "C:\\Users\\abhis\\anaconda3\\envs\\RP_Env\\lib\\site-packages\\cubist\\_quinlan_attributes.py:67: FutureWarning: iteritems is deprecated and will be removed in a future version. Use .items instead.\n",
      "  return {col_name: _get_data_format(col_data) for col_name, col_data in df.iteritems()}\n",
      "C:\\Users\\abhis\\anaconda3\\envs\\RP_Env\\lib\\site-packages\\cubist\\_quinlan_attributes.py:67: FutureWarning: iteritems is deprecated and will be removed in a future version. Use .items instead.\n",
      "  return {col_name: _get_data_format(col_data) for col_name, col_data in df.iteritems()}\n",
      "C:\\Users\\abhis\\anaconda3\\envs\\RP_Env\\lib\\site-packages\\cubist\\_quinlan_attributes.py:67: FutureWarning: iteritems is deprecated and will be removed in a future version. Use .items instead.\n",
      "  return {col_name: _get_data_format(col_data) for col_name, col_data in df.iteritems()}\n",
      "C:\\Users\\abhis\\anaconda3\\envs\\RP_Env\\lib\\site-packages\\cubist\\_quinlan_attributes.py:67: FutureWarning: iteritems is deprecated and will be removed in a future version. Use .items instead.\n",
      "  return {col_name: _get_data_format(col_data) for col_name, col_data in df.iteritems()}\n",
      "C:\\Users\\abhis\\anaconda3\\envs\\RP_Env\\lib\\site-packages\\cubist\\_quinlan_attributes.py:67: FutureWarning: iteritems is deprecated and will be removed in a future version. Use .items instead.\n",
      "  return {col_name: _get_data_format(col_data) for col_name, col_data in df.iteritems()}\n",
      "C:\\Users\\abhis\\anaconda3\\envs\\RP_Env\\lib\\site-packages\\cubist\\_quinlan_attributes.py:67: FutureWarning: iteritems is deprecated and will be removed in a future version. Use .items instead.\n",
      "  return {col_name: _get_data_format(col_data) for col_name, col_data in df.iteritems()}\n"
     ]
    },
    {
     "name": "stdout",
     "output_type": "stream",
     "text": [
      "tree for cubist running on clay\n"
     ]
    },
    {
     "name": "stderr",
     "output_type": "stream",
     "text": [
      "C:\\Users\\abhis\\anaconda3\\envs\\RP_Env\\lib\\site-packages\\cubist\\_quinlan_attributes.py:67: FutureWarning: iteritems is deprecated and will be removed in a future version. Use .items instead.\n",
      "  return {col_name: _get_data_format(col_data) for col_name, col_data in df.iteritems()}\n",
      "C:\\Users\\abhis\\anaconda3\\envs\\RP_Env\\lib\\site-packages\\cubist\\_quinlan_attributes.py:67: FutureWarning: iteritems is deprecated and will be removed in a future version. Use .items instead.\n",
      "  return {col_name: _get_data_format(col_data) for col_name, col_data in df.iteritems()}\n",
      "C:\\Users\\abhis\\anaconda3\\envs\\RP_Env\\lib\\site-packages\\cubist\\_quinlan_attributes.py:67: FutureWarning: iteritems is deprecated and will be removed in a future version. Use .items instead.\n",
      "  return {col_name: _get_data_format(col_data) for col_name, col_data in df.iteritems()}\n",
      "C:\\Users\\abhis\\anaconda3\\envs\\RP_Env\\lib\\site-packages\\cubist\\_quinlan_attributes.py:67: FutureWarning: iteritems is deprecated and will be removed in a future version. Use .items instead.\n",
      "  return {col_name: _get_data_format(col_data) for col_name, col_data in df.iteritems()}\n",
      "C:\\Users\\abhis\\anaconda3\\envs\\RP_Env\\lib\\site-packages\\cubist\\_quinlan_attributes.py:67: FutureWarning: iteritems is deprecated and will be removed in a future version. Use .items instead.\n",
      "  return {col_name: _get_data_format(col_data) for col_name, col_data in df.iteritems()}\n",
      "C:\\Users\\abhis\\anaconda3\\envs\\RP_Env\\lib\\site-packages\\cubist\\_quinlan_attributes.py:67: FutureWarning: iteritems is deprecated and will be removed in a future version. Use .items instead.\n",
      "  return {col_name: _get_data_format(col_data) for col_name, col_data in df.iteritems()}\n",
      "C:\\Users\\abhis\\anaconda3\\envs\\RP_Env\\lib\\site-packages\\cubist\\_quinlan_attributes.py:67: FutureWarning: iteritems is deprecated and will be removed in a future version. Use .items instead.\n",
      "  return {col_name: _get_data_format(col_data) for col_name, col_data in df.iteritems()}\n",
      "C:\\Users\\abhis\\anaconda3\\envs\\RP_Env\\lib\\site-packages\\cubist\\_quinlan_attributes.py:67: FutureWarning: iteritems is deprecated and will be removed in a future version. Use .items instead.\n",
      "  return {col_name: _get_data_format(col_data) for col_name, col_data in df.iteritems()}\n",
      "C:\\Users\\abhis\\anaconda3\\envs\\RP_Env\\lib\\site-packages\\cubist\\_quinlan_attributes.py:67: FutureWarning: iteritems is deprecated and will be removed in a future version. Use .items instead.\n",
      "  return {col_name: _get_data_format(col_data) for col_name, col_data in df.iteritems()}\n",
      "C:\\Users\\abhis\\anaconda3\\envs\\RP_Env\\lib\\site-packages\\cubist\\_quinlan_attributes.py:67: FutureWarning: iteritems is deprecated and will be removed in a future version. Use .items instead.\n",
      "  return {col_name: _get_data_format(col_data) for col_name, col_data in df.iteritems()}\n",
      "C:\\Users\\abhis\\anaconda3\\envs\\RP_Env\\lib\\site-packages\\cubist\\_quinlan_attributes.py:67: FutureWarning: iteritems is deprecated and will be removed in a future version. Use .items instead.\n",
      "  return {col_name: _get_data_format(col_data) for col_name, col_data in df.iteritems()}\n",
      "C:\\Users\\abhis\\anaconda3\\envs\\RP_Env\\lib\\site-packages\\cubist\\_quinlan_attributes.py:67: FutureWarning: iteritems is deprecated and will be removed in a future version. Use .items instead.\n",
      "  return {col_name: _get_data_format(col_data) for col_name, col_data in df.iteritems()}\n",
      "C:\\Users\\abhis\\anaconda3\\envs\\RP_Env\\lib\\site-packages\\cubist\\_quinlan_attributes.py:67: FutureWarning: iteritems is deprecated and will be removed in a future version. Use .items instead.\n",
      "  return {col_name: _get_data_format(col_data) for col_name, col_data in df.iteritems()}\n",
      "C:\\Users\\abhis\\anaconda3\\envs\\RP_Env\\lib\\site-packages\\cubist\\_quinlan_attributes.py:67: FutureWarning: iteritems is deprecated and will be removed in a future version. Use .items instead.\n",
      "  return {col_name: _get_data_format(col_data) for col_name, col_data in df.iteritems()}\n",
      "C:\\Users\\abhis\\anaconda3\\envs\\RP_Env\\lib\\site-packages\\cubist\\_quinlan_attributes.py:67: FutureWarning: iteritems is deprecated and will be removed in a future version. Use .items instead.\n",
      "  return {col_name: _get_data_format(col_data) for col_name, col_data in df.iteritems()}\n",
      "C:\\Users\\abhis\\anaconda3\\envs\\RP_Env\\lib\\site-packages\\cubist\\_quinlan_attributes.py:67: FutureWarning: iteritems is deprecated and will be removed in a future version. Use .items instead.\n",
      "  return {col_name: _get_data_format(col_data) for col_name, col_data in df.iteritems()}\n",
      "C:\\Users\\abhis\\anaconda3\\envs\\RP_Env\\lib\\site-packages\\cubist\\_quinlan_attributes.py:67: FutureWarning: iteritems is deprecated and will be removed in a future version. Use .items instead.\n",
      "  return {col_name: _get_data_format(col_data) for col_name, col_data in df.iteritems()}\n",
      "C:\\Users\\abhis\\anaconda3\\envs\\RP_Env\\lib\\site-packages\\cubist\\_quinlan_attributes.py:67: FutureWarning: iteritems is deprecated and will be removed in a future version. Use .items instead.\n",
      "  return {col_name: _get_data_format(col_data) for col_name, col_data in df.iteritems()}\n",
      "C:\\Users\\abhis\\anaconda3\\envs\\RP_Env\\lib\\site-packages\\cubist\\_quinlan_attributes.py:67: FutureWarning: iteritems is deprecated and will be removed in a future version. Use .items instead.\n",
      "  return {col_name: _get_data_format(col_data) for col_name, col_data in df.iteritems()}\n",
      "C:\\Users\\abhis\\anaconda3\\envs\\RP_Env\\lib\\site-packages\\cubist\\_quinlan_attributes.py:67: FutureWarning: iteritems is deprecated and will be removed in a future version. Use .items instead.\n",
      "  return {col_name: _get_data_format(col_data) for col_name, col_data in df.iteritems()}\n",
      "C:\\Users\\abhis\\anaconda3\\envs\\RP_Env\\lib\\site-packages\\cubist\\_quinlan_attributes.py:67: FutureWarning: iteritems is deprecated and will be removed in a future version. Use .items instead.\n",
      "  return {col_name: _get_data_format(col_data) for col_name, col_data in df.iteritems()}\n",
      "C:\\Users\\abhis\\anaconda3\\envs\\RP_Env\\lib\\site-packages\\cubist\\_quinlan_attributes.py:67: FutureWarning: iteritems is deprecated and will be removed in a future version. Use .items instead.\n",
      "  return {col_name: _get_data_format(col_data) for col_name, col_data in df.iteritems()}\n",
      "C:\\Users\\abhis\\anaconda3\\envs\\RP_Env\\lib\\site-packages\\cubist\\_quinlan_attributes.py:67: FutureWarning: iteritems is deprecated and will be removed in a future version. Use .items instead.\n",
      "  return {col_name: _get_data_format(col_data) for col_name, col_data in df.iteritems()}\n",
      "C:\\Users\\abhis\\anaconda3\\envs\\RP_Env\\lib\\site-packages\\cubist\\_quinlan_attributes.py:67: FutureWarning: iteritems is deprecated and will be removed in a future version. Use .items instead.\n",
      "  return {col_name: _get_data_format(col_data) for col_name, col_data in df.iteritems()}\n",
      "C:\\Users\\abhis\\anaconda3\\envs\\RP_Env\\lib\\site-packages\\cubist\\_quinlan_attributes.py:67: FutureWarning: iteritems is deprecated and will be removed in a future version. Use .items instead.\n",
      "  return {col_name: _get_data_format(col_data) for col_name, col_data in df.iteritems()}\n",
      "C:\\Users\\abhis\\anaconda3\\envs\\RP_Env\\lib\\site-packages\\cubist\\_quinlan_attributes.py:67: FutureWarning: iteritems is deprecated and will be removed in a future version. Use .items instead.\n",
      "  return {col_name: _get_data_format(col_data) for col_name, col_data in df.iteritems()}\n",
      "C:\\Users\\abhis\\anaconda3\\envs\\RP_Env\\lib\\site-packages\\cubist\\_quinlan_attributes.py:67: FutureWarning: iteritems is deprecated and will be removed in a future version. Use .items instead.\n",
      "  return {col_name: _get_data_format(col_data) for col_name, col_data in df.iteritems()}\n",
      "C:\\Users\\abhis\\anaconda3\\envs\\RP_Env\\lib\\site-packages\\cubist\\_quinlan_attributes.py:67: FutureWarning: iteritems is deprecated and will be removed in a future version. Use .items instead.\n",
      "  return {col_name: _get_data_format(col_data) for col_name, col_data in df.iteritems()}\n",
      "C:\\Users\\abhis\\anaconda3\\envs\\RP_Env\\lib\\site-packages\\cubist\\_quinlan_attributes.py:67: FutureWarning: iteritems is deprecated and will be removed in a future version. Use .items instead.\n",
      "  return {col_name: _get_data_format(col_data) for col_name, col_data in df.iteritems()}\n",
      "C:\\Users\\abhis\\anaconda3\\envs\\RP_Env\\lib\\site-packages\\cubist\\_quinlan_attributes.py:67: FutureWarning: iteritems is deprecated and will be removed in a future version. Use .items instead.\n",
      "  return {col_name: _get_data_format(col_data) for col_name, col_data in df.iteritems()}\n",
      "C:\\Users\\abhis\\anaconda3\\envs\\RP_Env\\lib\\site-packages\\cubist\\_quinlan_attributes.py:67: FutureWarning: iteritems is deprecated and will be removed in a future version. Use .items instead.\n",
      "  return {col_name: _get_data_format(col_data) for col_name, col_data in df.iteritems()}\n",
      "C:\\Users\\abhis\\anaconda3\\envs\\RP_Env\\lib\\site-packages\\cubist\\_quinlan_attributes.py:67: FutureWarning: iteritems is deprecated and will be removed in a future version. Use .items instead.\n",
      "  return {col_name: _get_data_format(col_data) for col_name, col_data in df.iteritems()}\n",
      "C:\\Users\\abhis\\anaconda3\\envs\\RP_Env\\lib\\site-packages\\cubist\\_quinlan_attributes.py:67: FutureWarning: iteritems is deprecated and will be removed in a future version. Use .items instead.\n",
      "  return {col_name: _get_data_format(col_data) for col_name, col_data in df.iteritems()}\n"
     ]
    },
    {
     "name": "stderr",
     "output_type": "stream",
     "text": [
      "C:\\Users\\abhis\\anaconda3\\envs\\RP_Env\\lib\\site-packages\\cubist\\_quinlan_attributes.py:67: FutureWarning: iteritems is deprecated and will be removed in a future version. Use .items instead.\n",
      "  return {col_name: _get_data_format(col_data) for col_name, col_data in df.iteritems()}\n",
      "C:\\Users\\abhis\\anaconda3\\envs\\RP_Env\\lib\\site-packages\\cubist\\_quinlan_attributes.py:67: FutureWarning: iteritems is deprecated and will be removed in a future version. Use .items instead.\n",
      "  return {col_name: _get_data_format(col_data) for col_name, col_data in df.iteritems()}\n",
      "C:\\Users\\abhis\\anaconda3\\envs\\RP_Env\\lib\\site-packages\\cubist\\_quinlan_attributes.py:67: FutureWarning: iteritems is deprecated and will be removed in a future version. Use .items instead.\n",
      "  return {col_name: _get_data_format(col_data) for col_name, col_data in df.iteritems()}\n",
      "C:\\Users\\abhis\\anaconda3\\envs\\RP_Env\\lib\\site-packages\\cubist\\_quinlan_attributes.py:67: FutureWarning: iteritems is deprecated and will be removed in a future version. Use .items instead.\n",
      "  return {col_name: _get_data_format(col_data) for col_name, col_data in df.iteritems()}\n",
      "C:\\Users\\abhis\\anaconda3\\envs\\RP_Env\\lib\\site-packages\\cubist\\_quinlan_attributes.py:67: FutureWarning: iteritems is deprecated and will be removed in a future version. Use .items instead.\n",
      "  return {col_name: _get_data_format(col_data) for col_name, col_data in df.iteritems()}\n",
      "C:\\Users\\abhis\\anaconda3\\envs\\RP_Env\\lib\\site-packages\\cubist\\_quinlan_attributes.py:67: FutureWarning: iteritems is deprecated and will be removed in a future version. Use .items instead.\n",
      "  return {col_name: _get_data_format(col_data) for col_name, col_data in df.iteritems()}\n",
      "C:\\Users\\abhis\\anaconda3\\envs\\RP_Env\\lib\\site-packages\\cubist\\_quinlan_attributes.py:67: FutureWarning: iteritems is deprecated and will be removed in a future version. Use .items instead.\n",
      "  return {col_name: _get_data_format(col_data) for col_name, col_data in df.iteritems()}\n",
      "C:\\Users\\abhis\\anaconda3\\envs\\RP_Env\\lib\\site-packages\\cubist\\_quinlan_attributes.py:67: FutureWarning: iteritems is deprecated and will be removed in a future version. Use .items instead.\n",
      "  return {col_name: _get_data_format(col_data) for col_name, col_data in df.iteritems()}\n",
      "C:\\Users\\abhis\\anaconda3\\envs\\RP_Env\\lib\\site-packages\\cubist\\_quinlan_attributes.py:67: FutureWarning: iteritems is deprecated and will be removed in a future version. Use .items instead.\n",
      "  return {col_name: _get_data_format(col_data) for col_name, col_data in df.iteritems()}\n",
      "C:\\Users\\abhis\\anaconda3\\envs\\RP_Env\\lib\\site-packages\\cubist\\_quinlan_attributes.py:67: FutureWarning: iteritems is deprecated and will be removed in a future version. Use .items instead.\n",
      "  return {col_name: _get_data_format(col_data) for col_name, col_data in df.iteritems()}\n",
      "C:\\Users\\abhis\\anaconda3\\envs\\RP_Env\\lib\\site-packages\\cubist\\_quinlan_attributes.py:67: FutureWarning: iteritems is deprecated and will be removed in a future version. Use .items instead.\n",
      "  return {col_name: _get_data_format(col_data) for col_name, col_data in df.iteritems()}\n",
      "C:\\Users\\abhis\\anaconda3\\envs\\RP_Env\\lib\\site-packages\\cubist\\_quinlan_attributes.py:67: FutureWarning: iteritems is deprecated and will be removed in a future version. Use .items instead.\n",
      "  return {col_name: _get_data_format(col_data) for col_name, col_data in df.iteritems()}\n",
      "C:\\Users\\abhis\\anaconda3\\envs\\RP_Env\\lib\\site-packages\\cubist\\_quinlan_attributes.py:67: FutureWarning: iteritems is deprecated and will be removed in a future version. Use .items instead.\n",
      "  return {col_name: _get_data_format(col_data) for col_name, col_data in df.iteritems()}\n",
      "C:\\Users\\abhis\\anaconda3\\envs\\RP_Env\\lib\\site-packages\\cubist\\_quinlan_attributes.py:67: FutureWarning: iteritems is deprecated and will be removed in a future version. Use .items instead.\n",
      "  return {col_name: _get_data_format(col_data) for col_name, col_data in df.iteritems()}\n",
      "C:\\Users\\abhis\\anaconda3\\envs\\RP_Env\\lib\\site-packages\\cubist\\_quinlan_attributes.py:67: FutureWarning: iteritems is deprecated and will be removed in a future version. Use .items instead.\n",
      "  return {col_name: _get_data_format(col_data) for col_name, col_data in df.iteritems()}\n"
     ]
    },
    {
     "name": "stdout",
     "output_type": "stream",
     "text": [
      "tree for cubist running on TOC\n"
     ]
    },
    {
     "name": "stderr",
     "output_type": "stream",
     "text": [
      "C:\\Users\\abhis\\anaconda3\\envs\\RP_Env\\lib\\site-packages\\cubist\\_quinlan_attributes.py:67: FutureWarning: iteritems is deprecated and will be removed in a future version. Use .items instead.\n",
      "  return {col_name: _get_data_format(col_data) for col_name, col_data in df.iteritems()}\n",
      "C:\\Users\\abhis\\anaconda3\\envs\\RP_Env\\lib\\site-packages\\cubist\\_quinlan_attributes.py:67: FutureWarning: iteritems is deprecated and will be removed in a future version. Use .items instead.\n",
      "  return {col_name: _get_data_format(col_data) for col_name, col_data in df.iteritems()}\n",
      "C:\\Users\\abhis\\anaconda3\\envs\\RP_Env\\lib\\site-packages\\cubist\\_quinlan_attributes.py:67: FutureWarning: iteritems is deprecated and will be removed in a future version. Use .items instead.\n",
      "  return {col_name: _get_data_format(col_data) for col_name, col_data in df.iteritems()}\n",
      "C:\\Users\\abhis\\anaconda3\\envs\\RP_Env\\lib\\site-packages\\cubist\\_quinlan_attributes.py:67: FutureWarning: iteritems is deprecated and will be removed in a future version. Use .items instead.\n",
      "  return {col_name: _get_data_format(col_data) for col_name, col_data in df.iteritems()}\n",
      "C:\\Users\\abhis\\anaconda3\\envs\\RP_Env\\lib\\site-packages\\cubist\\_quinlan_attributes.py:67: FutureWarning: iteritems is deprecated and will be removed in a future version. Use .items instead.\n",
      "  return {col_name: _get_data_format(col_data) for col_name, col_data in df.iteritems()}\n",
      "C:\\Users\\abhis\\anaconda3\\envs\\RP_Env\\lib\\site-packages\\cubist\\_quinlan_attributes.py:67: FutureWarning: iteritems is deprecated and will be removed in a future version. Use .items instead.\n",
      "  return {col_name: _get_data_format(col_data) for col_name, col_data in df.iteritems()}\n",
      "C:\\Users\\abhis\\anaconda3\\envs\\RP_Env\\lib\\site-packages\\cubist\\_quinlan_attributes.py:67: FutureWarning: iteritems is deprecated and will be removed in a future version. Use .items instead.\n",
      "  return {col_name: _get_data_format(col_data) for col_name, col_data in df.iteritems()}\n",
      "C:\\Users\\abhis\\anaconda3\\envs\\RP_Env\\lib\\site-packages\\cubist\\_quinlan_attributes.py:67: FutureWarning: iteritems is deprecated and will be removed in a future version. Use .items instead.\n",
      "  return {col_name: _get_data_format(col_data) for col_name, col_data in df.iteritems()}\n",
      "C:\\Users\\abhis\\anaconda3\\envs\\RP_Env\\lib\\site-packages\\cubist\\_quinlan_attributes.py:67: FutureWarning: iteritems is deprecated and will be removed in a future version. Use .items instead.\n",
      "  return {col_name: _get_data_format(col_data) for col_name, col_data in df.iteritems()}\n",
      "C:\\Users\\abhis\\anaconda3\\envs\\RP_Env\\lib\\site-packages\\cubist\\_quinlan_attributes.py:67: FutureWarning: iteritems is deprecated and will be removed in a future version. Use .items instead.\n",
      "  return {col_name: _get_data_format(col_data) for col_name, col_data in df.iteritems()}\n",
      "C:\\Users\\abhis\\anaconda3\\envs\\RP_Env\\lib\\site-packages\\cubist\\_quinlan_attributes.py:67: FutureWarning: iteritems is deprecated and will be removed in a future version. Use .items instead.\n",
      "  return {col_name: _get_data_format(col_data) for col_name, col_data in df.iteritems()}\n",
      "C:\\Users\\abhis\\anaconda3\\envs\\RP_Env\\lib\\site-packages\\cubist\\_quinlan_attributes.py:67: FutureWarning: iteritems is deprecated and will be removed in a future version. Use .items instead.\n",
      "  return {col_name: _get_data_format(col_data) for col_name, col_data in df.iteritems()}\n",
      "C:\\Users\\abhis\\anaconda3\\envs\\RP_Env\\lib\\site-packages\\cubist\\_quinlan_attributes.py:67: FutureWarning: iteritems is deprecated and will be removed in a future version. Use .items instead.\n",
      "  return {col_name: _get_data_format(col_data) for col_name, col_data in df.iteritems()}\n",
      "C:\\Users\\abhis\\anaconda3\\envs\\RP_Env\\lib\\site-packages\\cubist\\_quinlan_attributes.py:67: FutureWarning: iteritems is deprecated and will be removed in a future version. Use .items instead.\n",
      "  return {col_name: _get_data_format(col_data) for col_name, col_data in df.iteritems()}\n",
      "C:\\Users\\abhis\\anaconda3\\envs\\RP_Env\\lib\\site-packages\\cubist\\_quinlan_attributes.py:67: FutureWarning: iteritems is deprecated and will be removed in a future version. Use .items instead.\n",
      "  return {col_name: _get_data_format(col_data) for col_name, col_data in df.iteritems()}\n",
      "C:\\Users\\abhis\\anaconda3\\envs\\RP_Env\\lib\\site-packages\\cubist\\_quinlan_attributes.py:67: FutureWarning: iteritems is deprecated and will be removed in a future version. Use .items instead.\n",
      "  return {col_name: _get_data_format(col_data) for col_name, col_data in df.iteritems()}\n",
      "C:\\Users\\abhis\\anaconda3\\envs\\RP_Env\\lib\\site-packages\\cubist\\_quinlan_attributes.py:67: FutureWarning: iteritems is deprecated and will be removed in a future version. Use .items instead.\n",
      "  return {col_name: _get_data_format(col_data) for col_name, col_data in df.iteritems()}\n",
      "C:\\Users\\abhis\\anaconda3\\envs\\RP_Env\\lib\\site-packages\\cubist\\_quinlan_attributes.py:67: FutureWarning: iteritems is deprecated and will be removed in a future version. Use .items instead.\n",
      "  return {col_name: _get_data_format(col_data) for col_name, col_data in df.iteritems()}\n",
      "C:\\Users\\abhis\\anaconda3\\envs\\RP_Env\\lib\\site-packages\\cubist\\_quinlan_attributes.py:67: FutureWarning: iteritems is deprecated and will be removed in a future version. Use .items instead.\n",
      "  return {col_name: _get_data_format(col_data) for col_name, col_data in df.iteritems()}\n",
      "C:\\Users\\abhis\\anaconda3\\envs\\RP_Env\\lib\\site-packages\\cubist\\_quinlan_attributes.py:67: FutureWarning: iteritems is deprecated and will be removed in a future version. Use .items instead.\n",
      "  return {col_name: _get_data_format(col_data) for col_name, col_data in df.iteritems()}\n",
      "C:\\Users\\abhis\\anaconda3\\envs\\RP_Env\\lib\\site-packages\\cubist\\_quinlan_attributes.py:67: FutureWarning: iteritems is deprecated and will be removed in a future version. Use .items instead.\n",
      "  return {col_name: _get_data_format(col_data) for col_name, col_data in df.iteritems()}\n",
      "C:\\Users\\abhis\\anaconda3\\envs\\RP_Env\\lib\\site-packages\\cubist\\_quinlan_attributes.py:67: FutureWarning: iteritems is deprecated and will be removed in a future version. Use .items instead.\n",
      "  return {col_name: _get_data_format(col_data) for col_name, col_data in df.iteritems()}\n",
      "C:\\Users\\abhis\\anaconda3\\envs\\RP_Env\\lib\\site-packages\\cubist\\_quinlan_attributes.py:67: FutureWarning: iteritems is deprecated and will be removed in a future version. Use .items instead.\n",
      "  return {col_name: _get_data_format(col_data) for col_name, col_data in df.iteritems()}\n",
      "C:\\Users\\abhis\\anaconda3\\envs\\RP_Env\\lib\\site-packages\\cubist\\_quinlan_attributes.py:67: FutureWarning: iteritems is deprecated and will be removed in a future version. Use .items instead.\n",
      "  return {col_name: _get_data_format(col_data) for col_name, col_data in df.iteritems()}\n",
      "C:\\Users\\abhis\\anaconda3\\envs\\RP_Env\\lib\\site-packages\\cubist\\_quinlan_attributes.py:67: FutureWarning: iteritems is deprecated and will be removed in a future version. Use .items instead.\n",
      "  return {col_name: _get_data_format(col_data) for col_name, col_data in df.iteritems()}\n",
      "C:\\Users\\abhis\\anaconda3\\envs\\RP_Env\\lib\\site-packages\\cubist\\_quinlan_attributes.py:67: FutureWarning: iteritems is deprecated and will be removed in a future version. Use .items instead.\n",
      "  return {col_name: _get_data_format(col_data) for col_name, col_data in df.iteritems()}\n",
      "C:\\Users\\abhis\\anaconda3\\envs\\RP_Env\\lib\\site-packages\\cubist\\_quinlan_attributes.py:67: FutureWarning: iteritems is deprecated and will be removed in a future version. Use .items instead.\n",
      "  return {col_name: _get_data_format(col_data) for col_name, col_data in df.iteritems()}\n",
      "C:\\Users\\abhis\\anaconda3\\envs\\RP_Env\\lib\\site-packages\\cubist\\_quinlan_attributes.py:67: FutureWarning: iteritems is deprecated and will be removed in a future version. Use .items instead.\n",
      "  return {col_name: _get_data_format(col_data) for col_name, col_data in df.iteritems()}\n",
      "C:\\Users\\abhis\\anaconda3\\envs\\RP_Env\\lib\\site-packages\\cubist\\_quinlan_attributes.py:67: FutureWarning: iteritems is deprecated and will be removed in a future version. Use .items instead.\n",
      "  return {col_name: _get_data_format(col_data) for col_name, col_data in df.iteritems()}\n",
      "C:\\Users\\abhis\\anaconda3\\envs\\RP_Env\\lib\\site-packages\\cubist\\_quinlan_attributes.py:67: FutureWarning: iteritems is deprecated and will be removed in a future version. Use .items instead.\n",
      "  return {col_name: _get_data_format(col_data) for col_name, col_data in df.iteritems()}\n",
      "C:\\Users\\abhis\\anaconda3\\envs\\RP_Env\\lib\\site-packages\\cubist\\_quinlan_attributes.py:67: FutureWarning: iteritems is deprecated and will be removed in a future version. Use .items instead.\n",
      "  return {col_name: _get_data_format(col_data) for col_name, col_data in df.iteritems()}\n",
      "C:\\Users\\abhis\\anaconda3\\envs\\RP_Env\\lib\\site-packages\\cubist\\_quinlan_attributes.py:67: FutureWarning: iteritems is deprecated and will be removed in a future version. Use .items instead.\n",
      "  return {col_name: _get_data_format(col_data) for col_name, col_data in df.iteritems()}\n",
      "C:\\Users\\abhis\\anaconda3\\envs\\RP_Env\\lib\\site-packages\\cubist\\_quinlan_attributes.py:67: FutureWarning: iteritems is deprecated and will be removed in a future version. Use .items instead.\n",
      "  return {col_name: _get_data_format(col_data) for col_name, col_data in df.iteritems()}\n"
     ]
    },
    {
     "name": "stderr",
     "output_type": "stream",
     "text": [
      "C:\\Users\\abhis\\anaconda3\\envs\\RP_Env\\lib\\site-packages\\cubist\\_quinlan_attributes.py:67: FutureWarning: iteritems is deprecated and will be removed in a future version. Use .items instead.\n",
      "  return {col_name: _get_data_format(col_data) for col_name, col_data in df.iteritems()}\n",
      "C:\\Users\\abhis\\anaconda3\\envs\\RP_Env\\lib\\site-packages\\cubist\\_quinlan_attributes.py:67: FutureWarning: iteritems is deprecated and will be removed in a future version. Use .items instead.\n",
      "  return {col_name: _get_data_format(col_data) for col_name, col_data in df.iteritems()}\n",
      "C:\\Users\\abhis\\anaconda3\\envs\\RP_Env\\lib\\site-packages\\cubist\\_quinlan_attributes.py:67: FutureWarning: iteritems is deprecated and will be removed in a future version. Use .items instead.\n",
      "  return {col_name: _get_data_format(col_data) for col_name, col_data in df.iteritems()}\n",
      "C:\\Users\\abhis\\anaconda3\\envs\\RP_Env\\lib\\site-packages\\cubist\\_quinlan_attributes.py:67: FutureWarning: iteritems is deprecated and will be removed in a future version. Use .items instead.\n",
      "  return {col_name: _get_data_format(col_data) for col_name, col_data in df.iteritems()}\n",
      "C:\\Users\\abhis\\anaconda3\\envs\\RP_Env\\lib\\site-packages\\cubist\\_quinlan_attributes.py:67: FutureWarning: iteritems is deprecated and will be removed in a future version. Use .items instead.\n",
      "  return {col_name: _get_data_format(col_data) for col_name, col_data in df.iteritems()}\n",
      "C:\\Users\\abhis\\anaconda3\\envs\\RP_Env\\lib\\site-packages\\cubist\\_quinlan_attributes.py:67: FutureWarning: iteritems is deprecated and will be removed in a future version. Use .items instead.\n",
      "  return {col_name: _get_data_format(col_data) for col_name, col_data in df.iteritems()}\n",
      "C:\\Users\\abhis\\anaconda3\\envs\\RP_Env\\lib\\site-packages\\cubist\\_quinlan_attributes.py:67: FutureWarning: iteritems is deprecated and will be removed in a future version. Use .items instead.\n",
      "  return {col_name: _get_data_format(col_data) for col_name, col_data in df.iteritems()}\n",
      "C:\\Users\\abhis\\anaconda3\\envs\\RP_Env\\lib\\site-packages\\cubist\\_quinlan_attributes.py:67: FutureWarning: iteritems is deprecated and will be removed in a future version. Use .items instead.\n",
      "  return {col_name: _get_data_format(col_data) for col_name, col_data in df.iteritems()}\n",
      "C:\\Users\\abhis\\anaconda3\\envs\\RP_Env\\lib\\site-packages\\cubist\\_quinlan_attributes.py:67: FutureWarning: iteritems is deprecated and will be removed in a future version. Use .items instead.\n",
      "  return {col_name: _get_data_format(col_data) for col_name, col_data in df.iteritems()}\n",
      "C:\\Users\\abhis\\anaconda3\\envs\\RP_Env\\lib\\site-packages\\cubist\\_quinlan_attributes.py:67: FutureWarning: iteritems is deprecated and will be removed in a future version. Use .items instead.\n",
      "  return {col_name: _get_data_format(col_data) for col_name, col_data in df.iteritems()}\n",
      "C:\\Users\\abhis\\anaconda3\\envs\\RP_Env\\lib\\site-packages\\cubist\\_quinlan_attributes.py:67: FutureWarning: iteritems is deprecated and will be removed in a future version. Use .items instead.\n",
      "  return {col_name: _get_data_format(col_data) for col_name, col_data in df.iteritems()}\n",
      "C:\\Users\\abhis\\anaconda3\\envs\\RP_Env\\lib\\site-packages\\cubist\\_quinlan_attributes.py:67: FutureWarning: iteritems is deprecated and will be removed in a future version. Use .items instead.\n",
      "  return {col_name: _get_data_format(col_data) for col_name, col_data in df.iteritems()}\n",
      "C:\\Users\\abhis\\anaconda3\\envs\\RP_Env\\lib\\site-packages\\cubist\\_quinlan_attributes.py:67: FutureWarning: iteritems is deprecated and will be removed in a future version. Use .items instead.\n",
      "  return {col_name: _get_data_format(col_data) for col_name, col_data in df.iteritems()}\n",
      "C:\\Users\\abhis\\anaconda3\\envs\\RP_Env\\lib\\site-packages\\cubist\\_quinlan_attributes.py:67: FutureWarning: iteritems is deprecated and will be removed in a future version. Use .items instead.\n",
      "  return {col_name: _get_data_format(col_data) for col_name, col_data in df.iteritems()}\n",
      "C:\\Users\\abhis\\anaconda3\\envs\\RP_Env\\lib\\site-packages\\cubist\\_quinlan_attributes.py:67: FutureWarning: iteritems is deprecated and will be removed in a future version. Use .items instead.\n",
      "  return {col_name: _get_data_format(col_data) for col_name, col_data in df.iteritems()}\n"
     ]
    },
    {
     "name": "stdout",
     "output_type": "stream",
     "text": [
      "End time - Start time = 91.08937454223633\n"
     ]
    }
   ],
   "source": [
    "Mtree['cubist'] = build_tree_for ('cubist')"
   ]
  },
  {
   "cell_type": "markdown",
   "id": "71e1faa5",
   "metadata": {},
   "source": [
    "## Best of all worlds"
   ]
  },
  {
   "cell_type": "code",
   "execution_count": 48,
   "id": "04241275",
   "metadata": {},
   "outputs": [],
   "source": [
    "def best_model_parameters (Mtree, target, method):\n",
    "    t=target\n",
    "    m= method\n",
    "    \n",
    "    best_iqrp = 0\n",
    "    best_sg ='NA'\n",
    "    best_w = 'NA'\n",
    "    best_n_comp = 'NA'\n",
    "    \n",
    "    if m == 'randomforest' or m == 'cubist' or m == 'gbrt':\n",
    "        for tp in prepare_target:\n",
    "            for n in nbands_sampling:\n",
    "                for p in prepare_spec:\n",
    "                    Y = Mtree[m][t][tp][n][p]\n",
    "                    cur_iqrp = Y['iqrp_test']\n",
    "                    if cur_iqrp > best_iqrp:\n",
    "                        best_iqrp = cur_iqrp\n",
    "                        best_tp = tp\n",
    "                        best_n = n\n",
    "                        best_p = p\n",
    "                        \n",
    "                            \n",
    "    else:\n",
    "        for tp in prepare_target:\n",
    "            for n in nbands_sampling:\n",
    "                for p in prepare_spec:\n",
    "                    for sg in sg_filters:\n",
    "                        for w in window_lengths:\n",
    "                            if n == 0:\n",
    "                                Y = Mtree[m][t][tp][n][p][sg][w]\n",
    "                            else:\n",
    "                                Y = Mtree[m][t][tp][n][p]\n",
    "                            cur_iqrp = Y['iqrp_test']\n",
    "                            if cur_iqrp > best_iqrp:\n",
    "                                best_iqrp = cur_iqrp\n",
    "                                best_tp = tp\n",
    "                                best_n = n\n",
    "                                best_p = p\n",
    "                                best_sg = sg\n",
    "                                best_w = w\n",
    "                                if m == 'plsr':\n",
    "                                    best_n_comp = Y['n_comp']\n",
    "    param_list = ['IQRP:', np.round(best_iqrp,2), 'pSpec:', best_p, 'bands:', best_n, 'pTar:', best_tp, 'filt:', best_sg, 'win:', best_w, 'best_n_comp: ', best_n_comp]                                 \n",
    "    return (param_list)                                \n",
    "    "
   ]
  },
  {
   "cell_type": "code",
   "execution_count": 49,
   "id": "41642a4d",
   "metadata": {},
   "outputs": [
    {
     "name": "stdout",
     "output_type": "stream",
     "text": [
      "['IQRP:', 2.01, 'pSpec:', 'fod', 'bands:', 5, 'pTar:', 'minmax', 'filt:', 'NA', 'win:', 'NA', 'best_n_comp: ', 'NA']\n"
     ]
    }
   ],
   "source": [
    "param_list = best_model_parameters (Mtree, 'sand', 'randomforest')\n",
    "print(param_list)"
   ]
  },
  {
   "cell_type": "code",
   "execution_count": 50,
   "id": "274ebfd8",
   "metadata": {},
   "outputs": [
    {
     "name": "stdout",
     "output_type": "stream",
     "text": [
      "['IQRP:', 1.62, 'pSpec:', 'fod', 'bands:', 20, 'pTar:', 'none', 'filt:', 'sg1', 'win:', 0, 'best_n_comp: ', 3]\n"
     ]
    }
   ],
   "source": [
    "param_list = best_model_parameters (Mtree, 'sand', 'plsr')\n",
    "print(param_list)"
   ]
  },
  {
   "cell_type": "code",
   "execution_count": 51,
   "id": "251c6b96",
   "metadata": {},
   "outputs": [
    {
     "name": "stdout",
     "output_type": "stream",
     "text": [
      "['IQRP:', 1.52, 'pSpec:', 'none', 'bands:', 5, 'pTar:', 'minmax', 'filt:', 'NA', 'win:', 'NA', 'best_n_comp: ', 'NA']\n"
     ]
    }
   ],
   "source": [
    "param_list = best_model_parameters (Mtree, 'sand', 'cubist')\n",
    "print(param_list)"
   ]
  },
  {
   "cell_type": "code",
   "execution_count": 52,
   "id": "7d38ee5f",
   "metadata": {},
   "outputs": [
    {
     "name": "stdout",
     "output_type": "stream",
     "text": [
      "['IQRP:', 1.64, 'pSpec:', 'none', 'bands:', 10, 'pTar:', 'minmax', 'filt:', 'sg1', 'win:', 0, 'best_n_comp: ', 'NA']\n"
     ]
    }
   ],
   "source": [
    "param_list = best_model_parameters (Mtree, 'sand', 'mult')\n",
    "print(param_list)"
   ]
  },
  {
   "cell_type": "code",
   "execution_count": 53,
   "id": "0f8cd274",
   "metadata": {},
   "outputs": [
    {
     "name": "stdout",
     "output_type": "stream",
     "text": [
      "['IQRP:', 1.49, 'pSpec:', 'none', 'bands:', 0, 'pTar:', 'minmax', 'filt:', 'sg1', 'win:', 0, 'best_n_comp: ', 'NA']\n"
     ]
    }
   ],
   "source": [
    "param_list = best_model_parameters (Mtree, 'sand', 'ridge')\n",
    "print(param_list)"
   ]
  },
  {
   "cell_type": "code",
   "execution_count": 54,
   "id": "a2e31b95",
   "metadata": {},
   "outputs": [
    {
     "name": "stdout",
     "output_type": "stream",
     "text": [
      "['IQRP:', 1.41, 'pSpec:', 'none', 'bands:', 5, 'pTar:', 'minmax', 'filt:', 'sg1', 'win:', 0, 'best_n_comp: ', 'NA']\n"
     ]
    }
   ],
   "source": [
    "param_list = best_model_parameters (Mtree, 'sand', 'svr')\n",
    "print(param_list)"
   ]
  },
  {
   "cell_type": "code",
   "execution_count": 55,
   "id": "0cf6e37e",
   "metadata": {},
   "outputs": [
    {
     "name": "stdout",
     "output_type": "stream",
     "text": [
      "['IQRP:', 2.0, 'pSpec:', 'fod', 'bands:', 5, 'pTar:', 'minmax', 'filt:', 'NA', 'win:', 'NA', 'best_n_comp: ', 'NA']\n"
     ]
    }
   ],
   "source": [
    "param_list = best_model_parameters (Mtree, 'sand', 'gbrt')\n",
    "print(param_list)"
   ]
  },
  {
   "cell_type": "code",
   "execution_count": 56,
   "id": "a289e888",
   "metadata": {},
   "outputs": [
    {
     "name": "stdout",
     "output_type": "stream",
     "text": [
      "['IQRP:', 1.7, 'pSpec:', 'fod', 'bands:', 100, 'pTar:', 'none', 'filt:', 'sg1', 'win:', 0, 'best_n_comp: ', 2]\n"
     ]
    }
   ],
   "source": [
    "param_list = best_model_parameters (Mtree, 'clay', 'plsr')\n",
    "print(param_list)"
   ]
  },
  {
   "cell_type": "code",
   "execution_count": 57,
   "id": "0dba6cd7",
   "metadata": {},
   "outputs": [
    {
     "name": "stdout",
     "output_type": "stream",
     "text": [
      "['IQRP:', 1.59, 'pSpec:', 'fod', 'bands:', 5, 'pTar:', 'minmax', 'filt:', 'NA', 'win:', 'NA', 'best_n_comp: ', 'NA']\n"
     ]
    }
   ],
   "source": [
    "param_list = best_model_parameters (Mtree, 'clay', 'randomforest')\n",
    "print(param_list)"
   ]
  },
  {
   "cell_type": "code",
   "execution_count": 58,
   "id": "b3a4ceff",
   "metadata": {},
   "outputs": [
    {
     "name": "stdout",
     "output_type": "stream",
     "text": [
      "['IQRP:', 1.68, 'pSpec:', 'fod', 'bands:', 5, 'pTar:', 'none', 'filt:', 'sg1', 'win:', 0, 'best_n_comp: ', 'NA']\n"
     ]
    }
   ],
   "source": [
    "param_list = best_model_parameters (Mtree, 'clay', 'mult')\n",
    "print(param_list)"
   ]
  },
  {
   "cell_type": "code",
   "execution_count": 59,
   "id": "0912c3ed",
   "metadata": {},
   "outputs": [
    {
     "name": "stdout",
     "output_type": "stream",
     "text": [
      "['IQRP:', 1.66, 'pSpec:', 'none', 'bands:', 0, 'pTar:', 'none', 'filt:', 'sg1', 'win:', 0, 'best_n_comp: ', 'NA']\n"
     ]
    }
   ],
   "source": [
    "param_list = best_model_parameters (Mtree, 'clay', 'ridge')\n",
    "print(param_list)"
   ]
  },
  {
   "cell_type": "code",
   "execution_count": 60,
   "id": "cd2f89b7",
   "metadata": {},
   "outputs": [
    {
     "name": "stdout",
     "output_type": "stream",
     "text": [
      "['IQRP:', 1.64, 'pSpec:', 'fod', 'bands:', 500, 'pTar:', 'none', 'filt:', 'sg1', 'win:', 0, 'best_n_comp: ', 'NA']\n"
     ]
    }
   ],
   "source": [
    "param_list = best_model_parameters (Mtree, 'clay', 'svr')\n",
    "print(param_list)"
   ]
  },
  {
   "cell_type": "code",
   "execution_count": 61,
   "id": "e7359f91",
   "metadata": {},
   "outputs": [
    {
     "name": "stdout",
     "output_type": "stream",
     "text": [
      "['IQRP:', 1.72, 'pSpec:', 'none', 'bands:', 200, 'pTar:', 'minmax', 'filt:', 'NA', 'win:', 'NA', 'best_n_comp: ', 'NA']\n"
     ]
    }
   ],
   "source": [
    "param_list = best_model_parameters (Mtree, 'clay', 'cubist')\n",
    "print(param_list)"
   ]
  },
  {
   "cell_type": "code",
   "execution_count": 62,
   "id": "94a5aac9",
   "metadata": {},
   "outputs": [
    {
     "name": "stdout",
     "output_type": "stream",
     "text": [
      "['IQRP:', 1.71, 'pSpec:', 'fod', 'bands:', 50, 'pTar:', 'minmax', 'filt:', 'NA', 'win:', 'NA', 'best_n_comp: ', 'NA']\n"
     ]
    }
   ],
   "source": [
    "param_list = best_model_parameters (Mtree, 'clay', 'gbrt')\n",
    "print(param_list)"
   ]
  },
  {
   "cell_type": "code",
   "execution_count": 63,
   "id": "7eab3722",
   "metadata": {},
   "outputs": [
    {
     "name": "stdout",
     "output_type": "stream",
     "text": [
      "['IQRP:', 1.47, 'pSpec:', 'fod', 'bands:', 10, 'pTar:', 'minmax', 'filt:', 'sg1', 'win:', 0, 'best_n_comp: ', 4]\n"
     ]
    }
   ],
   "source": [
    "param_list = best_model_parameters (Mtree, 'silt', 'plsr')\n",
    "print(param_list)"
   ]
  },
  {
   "cell_type": "code",
   "execution_count": 64,
   "id": "147ac9b5",
   "metadata": {},
   "outputs": [
    {
     "name": "stdout",
     "output_type": "stream",
     "text": [
      "['IQRP:', 1.61, 'pSpec:', 'fod', 'bands:', 500, 'pTar:', 'minmax', 'filt:', 'NA', 'win:', 'NA', 'best_n_comp: ', 'NA']\n"
     ]
    }
   ],
   "source": [
    "param_list = best_model_parameters (Mtree, 'silt', 'randomforest')\n",
    "print(param_list)"
   ]
  },
  {
   "cell_type": "code",
   "execution_count": 65,
   "id": "a88d857d",
   "metadata": {},
   "outputs": [
    {
     "name": "stdout",
     "output_type": "stream",
     "text": [
      "['IQRP:', 1.44, 'pSpec:', 'fod', 'bands:', 10, 'pTar:', 'minmax', 'filt:', 'sg1', 'win:', 0, 'best_n_comp: ', 'NA']\n"
     ]
    }
   ],
   "source": [
    "param_list = best_model_parameters (Mtree, 'silt', 'mult')\n",
    "print(param_list)"
   ]
  },
  {
   "cell_type": "code",
   "execution_count": 66,
   "id": "f043b113",
   "metadata": {},
   "outputs": [
    {
     "name": "stdout",
     "output_type": "stream",
     "text": [
      "['IQRP:', 1.39, 'pSpec:', 'none', 'bands:', 0, 'pTar:', 'minmax', 'filt:', 'sg1', 'win:', 0, 'best_n_comp: ', 'NA']\n"
     ]
    }
   ],
   "source": [
    "param_list = best_model_parameters (Mtree, 'silt', 'ridge')\n",
    "print(param_list)"
   ]
  },
  {
   "cell_type": "code",
   "execution_count": 67,
   "id": "b751aa35",
   "metadata": {},
   "outputs": [
    {
     "name": "stdout",
     "output_type": "stream",
     "text": [
      "['IQRP:', 1.49, 'pSpec:', 'none', 'bands:', 5, 'pTar:', 'minmax', 'filt:', 'sg1', 'win:', 0, 'best_n_comp: ', 'NA']\n"
     ]
    }
   ],
   "source": [
    "param_list = best_model_parameters (Mtree, 'silt', 'svr')\n",
    "print(param_list)"
   ]
  },
  {
   "cell_type": "code",
   "execution_count": 68,
   "id": "4eb1265d",
   "metadata": {},
   "outputs": [
    {
     "name": "stdout",
     "output_type": "stream",
     "text": [
      "['IQRP:', 1.54, 'pSpec:', 'continuum', 'bands:', 0, 'pTar:', 'minmax', 'filt:', 'NA', 'win:', 'NA', 'best_n_comp: ', 'NA']\n"
     ]
    }
   ],
   "source": [
    "param_list = best_model_parameters (Mtree, 'silt', 'cubist')\n",
    "print(param_list)"
   ]
  },
  {
   "cell_type": "code",
   "execution_count": 69,
   "id": "d77c1950",
   "metadata": {},
   "outputs": [
    {
     "name": "stdout",
     "output_type": "stream",
     "text": [
      "['IQRP:', 1.55, 'pSpec:', 'fod', 'bands:', 10, 'pTar:', 'minmax', 'filt:', 'NA', 'win:', 'NA', 'best_n_comp: ', 'NA']\n"
     ]
    }
   ],
   "source": [
    "param_list = best_model_parameters (Mtree, 'silt', 'gbrt')\n",
    "print(param_list)"
   ]
  },
  {
   "cell_type": "code",
   "execution_count": 70,
   "id": "9a0b13bd",
   "metadata": {},
   "outputs": [
    {
     "name": "stdout",
     "output_type": "stream",
     "text": [
      "['IQRP:', 1.35, 'pSpec:', 'fod', 'bands:', 20, 'pTar:', 'minmax', 'filt:', 'sg1', 'win:', 0, 'best_n_comp: ', 3]\n"
     ]
    }
   ],
   "source": [
    "param_list = best_model_parameters (Mtree, 'TOC', 'plsr')\n",
    "print(param_list)"
   ]
  },
  {
   "cell_type": "code",
   "execution_count": 71,
   "id": "65d2554c",
   "metadata": {},
   "outputs": [
    {
     "name": "stdout",
     "output_type": "stream",
     "text": [
      "['IQRP:', 1.41, 'pSpec:', 'fod', 'bands:', 20, 'pTar:', 'minmax', 'filt:', 'NA', 'win:', 'NA', 'best_n_comp: ', 'NA']\n"
     ]
    }
   ],
   "source": [
    "param_list = best_model_parameters (Mtree, 'TOC', 'randomforest')\n",
    "print(param_list)"
   ]
  },
  {
   "cell_type": "code",
   "execution_count": 72,
   "id": "00ab21f3",
   "metadata": {},
   "outputs": [
    {
     "name": "stdout",
     "output_type": "stream",
     "text": [
      "['IQRP:', 1.28, 'pSpec:', 'continuum', 'bands:', 10, 'pTar:', 'minmax', 'filt:', 'sg1', 'win:', 0, 'best_n_comp: ', 'NA']\n"
     ]
    }
   ],
   "source": [
    "param_list = best_model_parameters (Mtree, 'TOC', 'mult')\n",
    "print(param_list)"
   ]
  },
  {
   "cell_type": "code",
   "execution_count": 73,
   "id": "9a621cb2",
   "metadata": {},
   "outputs": [
    {
     "name": "stdout",
     "output_type": "stream",
     "text": [
      "['IQRP:', 1.13, 'pSpec:', 'none', 'bands:', 0, 'pTar:', 'minmax', 'filt:', 'sg1', 'win:', 0, 'best_n_comp: ', 'NA']\n"
     ]
    }
   ],
   "source": [
    "param_list = best_model_parameters (Mtree, 'TOC', 'ridge')\n",
    "print(param_list)"
   ]
  },
  {
   "cell_type": "code",
   "execution_count": 74,
   "id": "ec509146",
   "metadata": {},
   "outputs": [
    {
     "name": "stdout",
     "output_type": "stream",
     "text": [
      "['IQRP:', 1.16, 'pSpec:', 'fod', 'bands:', 20, 'pTar:', 'minmax', 'filt:', 'sg1', 'win:', 0, 'best_n_comp: ', 'NA']\n"
     ]
    }
   ],
   "source": [
    "param_list = best_model_parameters (Mtree, 'TOC', 'svr')\n",
    "print(param_list)"
   ]
  },
  {
   "cell_type": "code",
   "execution_count": 75,
   "id": "86b1ceb4",
   "metadata": {},
   "outputs": [
    {
     "name": "stdout",
     "output_type": "stream",
     "text": [
      "['IQRP:', 1.3, 'pSpec:', 'continuum', 'bands:', 500, 'pTar:', 'minmax', 'filt:', 'NA', 'win:', 'NA', 'best_n_comp: ', 'NA']\n"
     ]
    }
   ],
   "source": [
    "param_list = best_model_parameters (Mtree, 'TOC', 'cubist')\n",
    "print(param_list)"
   ]
  },
  {
   "cell_type": "code",
   "execution_count": 76,
   "id": "85365f12",
   "metadata": {},
   "outputs": [
    {
     "name": "stdout",
     "output_type": "stream",
     "text": [
      "['IQRP:', 1.48, 'pSpec:', 'fod', 'bands:', 200, 'pTar:', 'minmax', 'filt:', 'NA', 'win:', 'NA', 'best_n_comp: ', 'NA']\n"
     ]
    }
   ],
   "source": [
    "param_list = best_model_parameters (Mtree, 'TOC', 'gbrt')\n",
    "print(param_list)"
   ]
  },
  {
   "cell_type": "markdown",
   "id": "fe74d829",
   "metadata": {},
   "source": [
    "## Plotting Model Accuracy (ipywidgets)"
   ]
  },
  {
   "cell_type": "code",
   "execution_count": 77,
   "id": "8dd90a0e",
   "metadata": {},
   "outputs": [],
   "source": [
    "def plot_model_acc (target, method, smth_filt, window_len, spec_preprocessing, n_bands, target_preprocessing):\n",
    "    \n",
    "    m = method\n",
    "    t = target\n",
    "    \n",
    "    i = target_names.index(target)\n",
    "    \n",
    "    sg = smth_filt\n",
    "    w = window_len\n",
    "    p = spec_preprocessing\n",
    "    n = n_bands\n",
    "    tp = target_preprocessing\n",
    "    \n",
    "    if n!=0 or m == 'randomforest' or m =='cubist' or m == 'gbrt':\n",
    "        Y = Mtree[m][t][tp][n][p]\n",
    "    else: \n",
    "        Y = Mtree[m][t][tp][n][p][sg][w]\n",
    "    \n",
    "    \n",
    "    y_test = Y['test']\n",
    "    y_pred = Y['testP']\n",
    "    y_train = Y['train']\n",
    "    yhat_pred = Y['trainP']\n",
    "    \n",
    "    if m == 'plsr':\n",
    "        n_com = Y['n_comp']\n",
    "        y_pred = y_pred[:,0]\n",
    "        yhat_pred = yhat_pred[:,0]\n",
    "    \n",
    "    iqrp_test = iqrp(y_pred, y_test)\n",
    "    r2_test = r2_score(y_test, y_pred)\n",
    "    rpd_test = y_test.std()/np.sqrt(mean_squared_error(y_test, y_pred))\n",
    "    \n",
    "    iqrp_train = iqrp(yhat_pred, y_train)\n",
    "    r2_train = r2_score(y_train, yhat_pred)\n",
    "    rpd_train = y_train.std()/np.sqrt(mean_squared_error(y_train, yhat_pred))\n",
    "    \n",
    "    y_tp = pd.DataFrame({'actual':y_test.values, 'predic': y_pred})\n",
    "    z = np.polyfit(y_test, y_pred, 1)\n",
    "    \n",
    "    yhat_tp = pd.DataFrame({'actual':y_train.values, 'predic': yhat_pred})\n",
    "    zhat = np.polyfit(y_train, yhat_pred, 1)\n",
    "    \n",
    "    fig, axes = plt.subplots(1,2, figsize=(18,8))\n",
    "    \n",
    "    #with plt.style.context(('ggplot')): ---- PLOT of test-prediction --------------------------------------\n",
    "    y_tp.plot.scatter(ax= axes[0], x=\"actual\", y=\"predic\", alpha=0.8, color = clr[i], edgecolors='k')\n",
    "    axes[0].plot(y_test, np.polyval(z, y_test),  c='blue', linewidth=1)\n",
    "    axes[0].plot(y_test, y_test, color='green', linewidth=1)\n",
    "    axes[0].tick_params(axis='both', labelsize=10)\n",
    "    axes[0].text(0.05, 0.95, target_names[i]+' (Test Data)', transform=axes[0].transAxes, fontsize = 20, color = clr[i])\n",
    "    axes[0].text(0.05, 0.90, 'IQRP ={:.2f}'.format(iqrp_test), transform=axes[0].transAxes, fontsize = 16)\n",
    "    axes[0].text(0.05, 0.85, 'RPD ={:.2f}'.format(rpd_test), transform=axes[0].transAxes, fontsize = 16)\n",
    "    axes[0].text(0.05, 0.80, 'R2 ={:.2f}'.format(np.round(r2_test,3)), transform=axes[0].transAxes, fontsize = 16)\n",
    "    axes[0].text(0.95, 0.15, 'Method: '+method, transform=axes[0].transAxes, \n",
    "                    horizontalalignment='right', fontsize = 20)\n",
    "    axes[0].text(0.95, 0.10, 'smoothing window={:.2f}'.format(w), transform=axes[0].transAxes, \n",
    "                    horizontalalignment='right', fontsize = 12)\n",
    "    if method == 'plsr':\n",
    "        axes[0].text(0.95, 0.05, 'n_component={:.2f}'.format(n_com), transform=axes[0].transAxes, \n",
    "                    horizontalalignment='right', fontsize = 12)\n",
    "    \n",
    "    #---------------------------------- ---- PLOT of train-prediction --------------------------------------\n",
    "    yhat_tp.plot.scatter(ax= axes[1], x=\"actual\", y=\"predic\", alpha=0.8, color = clr[i], edgecolors='k')\n",
    "    axes[1].plot(y_train, np.polyval(zhat, y_train),  c='blue', linewidth=1)\n",
    "    axes[1].plot(y_train, y_train, color='green', linewidth=1)\n",
    "    axes[1].tick_params(axis='both', labelsize=10)\n",
    "    axes[1].text(0.05, 0.95,  target_names[i]+' (Training Data)', transform=axes[1].transAxes,fontsize = 20, color = clr[i])\n",
    "    axes[1].text(0.05, 0.90, 'IQRP ={:.2f}'.format(iqrp_train), transform=axes[1].transAxes, fontsize = 16)\n",
    "    axes[1].text(0.05, 0.85, 'RPD ={:.2f}'.format(rpd_train), transform=axes[1].transAxes, fontsize = 16)\n",
    "    axes[1].text(0.05, 0.80, 'R2 ={:.2f}'.format(np.round(r2_train,3)), transform=axes[1].transAxes, fontsize = 16)\n",
    "    axes[1].text(0.95, 0.15, 'Method: '+method, transform=axes[1].transAxes, \n",
    "                    horizontalalignment='right', fontsize = 20)\n",
    "    axes[1].text(0.95, 0.10, 'smoothing window={:.2f}'.format(w), transform=axes[1].transAxes, \n",
    "                    horizontalalignment='right', fontsize = 12)\n",
    "        \n",
    "    "
   ]
  },
  {
   "cell_type": "code",
   "execution_count": 79,
   "id": "89b9db47",
   "metadata": {
    "scrolled": false
   },
   "outputs": [
    {
     "data": {
      "application/vnd.jupyter.widget-view+json": {
       "model_id": "242d0315adb844d7befcd17ec619e97b",
       "version_major": 2,
       "version_minor": 0
      },
      "text/plain": [
       "interactive(children=(Dropdown(description='target', options=('sand', 'silt', 'clay', 'TOC'), value='sand'), D…"
      ]
     },
     "metadata": {},
     "output_type": "display_data"
    },
    {
     "data": {
      "text/plain": [
       "<function __main__.plot_model_acc(target, method, smth_filt, window_len, spec_preprocessing, n_bands, target_preprocessing)>"
      ]
     },
     "execution_count": 79,
     "metadata": {},
     "output_type": "execute_result"
    }
   ],
   "source": [
    "ipywidgets.interact(plot_model_acc, target = target_names, method = ml_methods, smth_filt = sg_filters, \n",
    "                    window_len = window_lengths, spec_preprocessing = prepare_spec, n_bands = nbands_sampling, \n",
    "                    target_preprocessing = prepare_target)"
   ]
  },
  {
   "cell_type": "code",
   "execution_count": 80,
   "id": "ef58c10e",
   "metadata": {},
   "outputs": [],
   "source": [
    "# 1. Available smoothing filter types: savgol1 and savgol2 ------------------------ (1)\n",
    "sg_filters = ['sg1', 'sg2']\n",
    "\n",
    "# 2. Available window lengths for the smoothing filter ---------------------------- (2)\n",
    "window_lengths = [0, 1, 3, 5, 7, 9, 11, 21, 31, 41, 51, 61, 71, 81, 91, 101]\n",
    "\n",
    "# 3. Available preprocessing for Spectral data ------------------------------------ (3)\n",
    "prepare_spec = ['none', 'fod', 'continuum']\n",
    "#prepare_spec = ['none', 'fod', 'continuum']\n",
    "\n",
    "# 4. Number of bands available for resampling spectra ----------------------------- (4) \n",
    "nbands_sampling = [10, 20, 30, 40, 50, 100, 200, 300, 400, 500, 600, 700, 800, 900, 1000]\n",
    "\n",
    "# 5. Names of target variables in the dataframe ----------------------------------- (5)\n",
    "target_names = ['sand', 'silt', 'clay', 'TOC']\n",
    "\n",
    "# 6. Available preprocessing for Target data -------------------------------------- (6)\n",
    "prepare_target = ['none', 'minmax']\n",
    "\n",
    "# 0. Available machine learning regression models --------------------------------- (7)\n",
    "ml_methods = ['mult', 'plsr']\n",
    "#ml_methods = ['mult', 'plsr', 'cubist', 'randomforest', 'ridge' 'gbrt', 'svm']\n",
    "\n",
    "# 8. Recorded predictions on test-train data for model accuracy  ------------------ (8)\n",
    "test_train_predict = ['test', 'testP', 'train', 'trainP']"
   ]
  },
  {
   "cell_type": "code",
   "execution_count": null,
   "id": "1116b61e",
   "metadata": {},
   "outputs": [],
   "source": []
  }
 ],
 "metadata": {
  "kernelspec": {
   "display_name": "Python 3 (ipykernel)",
   "language": "python",
   "name": "python3"
  },
  "language_info": {
   "codemirror_mode": {
    "name": "ipython",
    "version": 3
   },
   "file_extension": ".py",
   "mimetype": "text/x-python",
   "name": "python",
   "nbconvert_exporter": "python",
   "pygments_lexer": "ipython3",
   "version": "3.9.16"
  }
 },
 "nbformat": 4,
 "nbformat_minor": 5
}
