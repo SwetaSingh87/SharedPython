{
 "cells": [
  {
   "cell_type": "code",
   "execution_count": null,
   "id": "c173cf42",
   "metadata": {},
   "outputs": [],
   "source": [
    "# !pip install openpyxl\n",
    "# !pip install imbalanced-learn\n",
    "# !pip3 install ipympl\n",
    "# !pip install import-ipynb\n",
    "# !pip install shapely\n",
    "# !pip install SciencePlots \n",
    "# !pip install seaborn\n",
    "# !pip install tqdm\n",
    "# !pip install ipywidgets"
   ]
  },
  {
   "cell_type": "code",
   "execution_count": 6,
   "id": "3ef6b01f",
   "metadata": {},
   "outputs": [],
   "source": [
    "import pandas as pd\n",
    "import numpy as np\n",
    "import matplotlib.pyplot as plt\n",
    "import seaborn as sns\n",
    "import scienceplots\n",
    "import os, sys\n",
    "from numpy import nan\n",
    "import re\n",
    "import ipympl\n",
    "# from IPython.core.display import display, HTML\n",
    "import ipywidgets\n",
    "import json\n",
    "from os import listdir\n",
    "import glob\n",
    "import math\n",
    "from IPython.display import Image, display, HTML\n",
    "from shapely.geometry import mapping\n",
    "from sklearn.cross_decomposition import PLSRegression\n",
    "from sklearn.ensemble import RandomForestRegressor\n",
    "from sklearn.model_selection import cross_val_score, train_test_split, RepeatedKFold, cross_val_predict\n",
    "from sklearn.metrics import r2_score, mean_squared_error, precision_score, recall_score, mean_absolute_error, make_scorer\n",
    "from sklearn.svm import SVR\n",
    "from sklearn.linear_model import LinearRegression\n",
    "from sklearn.kernel_ridge import KernelRidge\n",
    "from sklearn.datasets import make_regression\n",
    "from sklearn.ensemble import GradientBoostingRegressor\n",
    "from cubist import Cubist\n",
    "from sklearn.model_selection import GridSearchCV, RandomizedSearchCV, LeaveOneOut, cross_validate\n",
    "from sklearn.impute import SimpleImputer\n",
    "from tqdm.notebook import tqdm\n",
    "from sklearn.svm import SVC\n",
    "from tqdm import tqdm\n",
    "import pickle\n",
    "from imblearn.over_sampling import SMOTE\n",
    "from scipy.stats import ks_2samp\n",
    "from scipy import stats\n",
    "np.seterr(divide='ignore', invalid='ignore')\n",
    "pd.options.display.max_columns = 100\n",
    "from sklearn.preprocessing import PolynomialFeatures\n",
    "%matplotlib inline\n",
    "from scipy.signal import savgol_filter\n",
    "from scipy.spatial import ConvexHull\n",
    "from scipy.interpolate import interp1d"
   ]
  },
  {
   "cell_type": "code",
   "execution_count": 7,
   "id": "22684781",
   "metadata": {},
   "outputs": [
    {
     "name": "stdout",
     "output_type": "stream",
     "text": [
      "importing Jupyter notebook from SoilPrep.ipynb\n"
     ]
    }
   ],
   "source": [
    "import import_ipynb\n",
    "from SoilPrep import * "
   ]
  },
  {
   "cell_type": "markdown",
   "id": "237d1771",
   "metadata": {},
   "source": [
    "# Step 0: Setting up decision paramenters (Data Tree)"
   ]
  },
  {
   "cell_type": "code",
   "execution_count": 8,
   "id": "aee7c2d7",
   "metadata": {},
   "outputs": [],
   "source": [
    "# 1. Available smoothing filter types: savgol1 and savgol2 ------------------------ (1)\n",
    "sg_filters = ['sg1', 'sg2']\n",
    "\n",
    "# 2. Available window lengths for the smoothing filter ---------------------------- (2)\n",
    "window_lengths = [0, 1, 11, 21, 31, 41, 51, 61, 71, 81, 91, 101]\n",
    "\n",
    "# 3. Available preprocessing for Spectral data ------------------------------------ (3)\n",
    "prepare_spec = ['none', 'fod', 'continuum']\n",
    "#prepare_spec = ['none', 'fod', 'continuum']\n",
    "\n",
    "# 4. Number of bands available for resampling spectra ----------------------------- (4) \n",
    "nbands_sampling = [0, 5, 10, 20, 50, 100, 200, 500]\n",
    "\n",
    "# 5. Names of target variables in the dataframe ----------------------------------- (5)\n",
    "target_names = ['sand', 'silt', 'clay', 'TOC']\n",
    "\n",
    "# 6. Available preprocessing for Target data -------------------------------------- (6)\n",
    "prepare_target = ['none', 'minmax']\n",
    "\n",
    "\n",
    "# 8. Recorded predictions on test-train data for model accuracy  ------------------ (8)\n",
    "test_train_predict = ['test', 'testP', 'train', 'trainP']"
   ]
  },
  {
   "cell_type": "markdown",
   "id": "8cd5b13f",
   "metadata": {},
   "source": [
    "# Step 1a: Spectra Preprocessing (Smooth, FOD/Contin, and Resample)"
   ]
  },
  {
   "cell_type": "code",
   "execution_count": 9,
   "id": "24fbfeb7",
   "metadata": {},
   "outputs": [],
   "source": [
    "# Colour scheme definition\n",
    "kado = '#8B7355'\n",
    "mati = '#A52A2A'\n",
    "balu = '#F4A460'"
   ]
  },
  {
   "cell_type": "code",
   "execution_count": 10,
   "id": "722bf977",
   "metadata": {},
   "outputs": [],
   "source": [
    "df = pd.read_csv('uae.csv')\n",
    "spectra = df.iloc[:, 7:2158].copy()"
   ]
  },
  {
   "cell_type": "markdown",
   "id": "b7aae8ec",
   "metadata": {},
   "source": [
    "## Savgol smoothing (order 1 and order 2)"
   ]
  },
  {
   "cell_type": "code",
   "execution_count": 11,
   "id": "99baabb8",
   "metadata": {},
   "outputs": [],
   "source": [
    "# -------------- Smoothed Spectra spec1 (savgol order 1) and spec2 (savgol order 2)  -----------\n",
    "\n",
    "spec1 = {}\n",
    "for i in window_lengths:\n",
    "    spec1[i] = filt_sg(spectra, i, 'sg1')           \n",
    "        \n",
    "# clipping out the initial 50 noisy wavelengths -------------- \n",
    "for i in window_lengths:\n",
    "    spec1[i] = spec1[i].iloc[:, 150:2001]  \n",
    "\n",
    "    \n",
    "spec2 = {}\n",
    "for i in window_lengths:\n",
    "    spec2[i] = filt_sg(spectra, i, 'sg2')\n",
    "        \n",
    "# clipping out the initial 50 noisy wavelengths --------------            \n",
    "for i in window_lengths:\n",
    "    spec2[i] = spec2[i].iloc[:, 150:2001] \n",
    "\n",
    "# clipped original spectra (initial 50 noisy wavelengths removed) ------------------------------------    \n",
    "\n",
    "clipped_spectra = spec1[1]\n",
    "\n",
    "# minimum and maximum iloc locations (c_min, c_max) and loc locations (loc_min, loc_max)------------\n",
    "c_min = 0\n",
    "c_max = 1851\n",
    "\n",
    "loc_min = 500\n",
    "loc_max = 2350"
   ]
  },
  {
   "cell_type": "code",
   "execution_count": 12,
   "id": "61561d09",
   "metadata": {},
   "outputs": [
    {
     "data": {
      "image/png": "[encoded data removed]",
      "text/plain": [
       "<Figure size 640x480 with 1 Axes>"
      ]
     },
     "metadata": {},
     "output_type": "display_data"
    }
   ],
   "source": [
    "for i in range (0,5,1):\n",
    "    clipped_spectra.iloc[i,:].plot()"
   ]
  },
  {
   "cell_type": "markdown",
   "id": "f253386c",
   "metadata": {},
   "source": [
    "## First Order Derivative"
   ]
  },
  {
   "cell_type": "code",
   "execution_count": 13,
   "id": "385ba98c",
   "metadata": {},
   "outputs": [
    {
     "data": {
      "image/png": "[encoded data removed]",
      "text/plain": [
       "<Figure size 640x480 with 1 Axes>"
      ]
     },
     "metadata": {},
     "output_type": "display_data"
    }
   ],
   "source": [
    "fod_spec = fod(spec2[51])\n",
    "\n",
    "for i in range (0,5,1):\n",
    "    fod_spec.iloc[i,:].plot()\n"
   ]
  },
  {
   "cell_type": "code",
   "execution_count": 14,
   "id": "db076876",
   "metadata": {},
   "outputs": [],
   "source": [
    "fod1 = {}\n",
    "for i in window_lengths:\n",
    "    fod1[i] = filt_sg(fod_spec, i, 'sg1')\n",
    "    \n",
    "fod2 = {}\n",
    "for i in window_lengths:\n",
    "    fod2[i] = filt_sg(fod_spec, i, 'sg2') "
   ]
  },
  {
   "cell_type": "code",
   "execution_count": 15,
   "id": "64051e91",
   "metadata": {},
   "outputs": [],
   "source": [
    "# smoothing the clipped fod spectra using sgsmooth\n",
    "\n",
    "smth_fod = sgsmooth (fod_spec, 3)"
   ]
  },
  {
   "cell_type": "code",
   "execution_count": 16,
   "id": "441fe77e",
   "metadata": {},
   "outputs": [
    {
     "data": {
      "image/png": "[encoded data removed]",
      "text/plain": [
       "<Figure size 640x480 with 1 Axes>"
      ]
     },
     "metadata": {},
     "output_type": "display_data"
    }
   ],
   "source": [
    "for i in range (0,10,1):\n",
    "    smth_fod.iloc[i,:].plot()"
   ]
  },
  {
   "cell_type": "markdown",
   "id": "8f55420f",
   "metadata": {},
   "source": [
    "## Continuum Removal"
   ]
  },
  {
   "cell_type": "code",
   "execution_count": 17,
   "id": "e800b1b8",
   "metadata": {},
   "outputs": [
    {
     "data": {
      "image/png": "[encoded data removed]",
      "text/plain": [
       "<Figure size 640x480 with 1 Axes>"
      ]
     },
     "metadata": {},
     "output_type": "display_data"
    }
   ],
   "source": [
    "cr_spec = continuum_removed(spec2[51])\n",
    "\n",
    "for i in range (0,5,1):\n",
    "    cr_spec.iloc[i,:].plot()\n",
    "    "
   ]
  },
  {
   "cell_type": "code",
   "execution_count": 18,
   "id": "a291a195",
   "metadata": {},
   "outputs": [],
   "source": [
    "cr1 = {}\n",
    "for i in window_lengths:\n",
    "    cr1[i] = filt_sg(cr_spec, i, 'sg1')\n",
    "    \n",
    "cr2 = {}\n",
    "for i in window_lengths:\n",
    "    cr2[i] = filt_sg(cr_spec, i, 'sg2')  \n",
    " "
   ]
  },
  {
   "cell_type": "markdown",
   "id": "88485b75",
   "metadata": {},
   "source": [
    "## Resampling (n_bands)"
   ]
  },
  {
   "cell_type": "markdown",
   "id": "c3293312",
   "metadata": {},
   "source": [
    "### 1. Sampled Original (sampled_spec: sampled clipped_spectra)"
   ]
  },
  {
   "cell_type": "code",
   "execution_count": 19,
   "id": "f516492c",
   "metadata": {},
   "outputs": [],
   "source": [
    "sampled_spec = {}\n",
    "for w in nbands_sampling:\n",
    "    sampled_spec[w] = resample_spectra (spec2[51], w)"
   ]
  },
  {
   "cell_type": "code",
   "execution_count": 20,
   "id": "e039a42c",
   "metadata": {},
   "outputs": [
    {
     "data": {
      "image/png": "[encoded data removed]",
      "text/plain": [
       "<Figure size 640x480 with 1 Axes>"
      ]
     },
     "metadata": {},
     "output_type": "display_data"
    }
   ],
   "source": [
    "for i in range (0,5,1):\n",
    "    sampled_spec[100].iloc[i,:].plot()"
   ]
  },
  {
   "cell_type": "markdown",
   "id": "6b556f5a",
   "metadata": {},
   "source": [
    "### 2. Sampled Continuum Removed  (sampled_cr)"
   ]
  },
  {
   "cell_type": "code",
   "execution_count": 21,
   "id": "fab45619",
   "metadata": {},
   "outputs": [],
   "source": [
    "sampled_cr = {}\n",
    "for w in nbands_sampling:\n",
    "    sampled_cr[w] = resample_spectra (cr_spec, w)"
   ]
  },
  {
   "cell_type": "code",
   "execution_count": 22,
   "id": "de689267",
   "metadata": {},
   "outputs": [
    {
     "data": {
      "image/png": "[encoded data removed]",
      "text/plain": [
       "<Figure size 640x480 with 1 Axes>"
      ]
     },
     "metadata": {},
     "output_type": "display_data"
    }
   ],
   "source": [
    "for i in range (0,5,1):\n",
    "    sampled_cr[100].iloc[i,:].plot()"
   ]
  },
  {
   "cell_type": "markdown",
   "id": "822eed90",
   "metadata": {},
   "source": [
    "### 3. Sampled FOD  (sampled_fod)"
   ]
  },
  {
   "cell_type": "code",
   "execution_count": 23,
   "id": "cd32e9c3",
   "metadata": {},
   "outputs": [],
   "source": [
    "sampled_fod = {}\n",
    "for w in nbands_sampling:\n",
    "    sampled_fod[w] = resample_spectra (smth_fod, w)"
   ]
  },
  {
   "cell_type": "code",
   "execution_count": 24,
   "id": "bbaa74eb",
   "metadata": {},
   "outputs": [
    {
     "data": {
      "image/png": "[encoded data removed]",
      "text/plain": [
       "<Figure size 640x480 with 1 Axes>"
      ]
     },
     "metadata": {},
     "output_type": "display_data"
    }
   ],
   "source": [
    "for i in range (0,10,1):\n",
    "    sampled_fod[100].iloc[i,:].plot()"
   ]
  },
  {
   "cell_type": "markdown",
   "id": "ad37e7ab",
   "metadata": {},
   "source": [
    "## Visualizing Processed Spectrum (variable samples)"
   ]
  },
  {
   "cell_type": "code",
   "execution_count": 25,
   "id": "ecc8344d",
   "metadata": {},
   "outputs": [
    {
     "data": {
      "application/vnd.jupyter.widget-view+json": {
       "model_id": "5980595e0495454a8ae08836b984272e",
       "version_major": 2,
       "version_minor": 0
      },
      "text/plain": [
       "interactive(children=(IntSlider(value=146, description='sample', max=293), Dropdown(description='process', opt…"
      ]
     },
     "metadata": {},
     "output_type": "display_data"
    },
    {
     "data": {
      "text/plain": [
       "<function __main__.plot_spec(sample, process)>"
      ]
     },
     "execution_count": 25,
     "metadata": {},
     "output_type": "execute_result"
    }
   ],
   "source": [
    "def plot_spec (sample, process):\n",
    "    x1 = spec2[51].iloc[sample,:]\n",
    "    x1.plot()\n",
    "    if process == 'continuum':\n",
    "        x2 = cr_spec.iloc[sample,:]\n",
    "        x2.plot()\n",
    "    else: \n",
    "        x3 = smth_fod.iloc[sample,:]*100\n",
    "        \n",
    "        x3.plot()\n",
    "    plt.ylim([-0.6, 0.8])\n",
    "\n",
    "ipywidgets.interact(plot_spec, sample = (0, 293,1), process = ['fod', 'continuum'])"
   ]
  },
  {
   "cell_type": "markdown",
   "id": "868b6138",
   "metadata": {},
   "source": [
    "# Step 1b: Target  Preprocessing (Outliers removal and Normalization)"
   ]
  },
  {
   "cell_type": "code",
   "execution_count": 26,
   "id": "58ad22bd",
   "metadata": {},
   "outputs": [],
   "source": [
    "df = pd.read_csv('uae.csv')\n",
    "# ------------- Target Isolation ----------------------\n",
    "\n",
    "clr = ['#F4A460', '#8B7355', '#A52A2A', 'green']\n",
    "\n",
    "def isolate_targets(df, target_names):\n",
    "    T=[]\n",
    "    for i in range (0,len(target_names)):\n",
    "        T.append(df[target_names[i]])\n",
    "    return(T)\n",
    "    \n",
    "T = isolate_targets(df,target_names) \n",
    "\n",
    "\n",
    "def normalize_targets(T):          \n",
    "    NT =[]\n",
    "    for i in range(0, len(T)):\n",
    "        NT.append(min_max_normal(T[i].copy()))\n",
    "    return(NT)\n",
    "\n",
    "NT = normalize_targets(T)\n"
   ]
  },
  {
   "cell_type": "markdown",
   "id": "c12f62f4",
   "metadata": {},
   "source": [
    "## Correlation between wavelengths and Targets"
   ]
  },
  {
   "cell_type": "code",
   "execution_count": 27,
   "id": "dd230431",
   "metadata": {},
   "outputs": [
    {
     "data": {
      "application/vnd.jupyter.widget-view+json": {
       "model_id": "1e18b6dec43641bc81d7f50c4921a12e",
       "version_major": 2,
       "version_minor": 0
      },
      "text/plain": [
       "interactive(children=(Dropdown(description='target', options=('sand', 'silt', 'clay', 'TOC'), value='sand'), D…"
      ]
     },
     "metadata": {},
     "output_type": "display_data"
    },
    {
     "data": {
      "text/plain": [
       "<function __main__.plot_corr(target, spec_cr_fod, n_bands)>"
      ]
     },
     "execution_count": 27,
     "metadata": {},
     "output_type": "execute_result"
    }
   ],
   "source": [
    "plt.style.use(['science','notebook','grid'])\n",
    "\n",
    "def plot_corr (target, spec_cr_fod, n_bands):\n",
    "    \n",
    "    i = target_names.index(target)    \n",
    "    \n",
    "    if  spec_cr_fod == 'spec':\n",
    "        r_val, p_val = find_rpval (resample_spectra(spec2[51], n_bands), T[i])\n",
    "        r_val.iloc[0,:].plot(color = clr[i])\n",
    "    elif  spec_cr_fod == 'cr':\n",
    "        r_cr, p_cr = find_rpval (resample_spectra(cr_spec, n_bands), T[i])\n",
    "        r_cr.iloc[0,:].plot(color = clr[i])\n",
    "    else:\n",
    "        r_fod, p_fod = find_rpval (resample_spectra(smth_fod, n_bands), T[i])\n",
    "        r_fod.iloc[0,:].plot(color = clr[i])\n",
    "    \n",
    "    plt.ylim([-0.7, 0.7])\n",
    "\n",
    "ipywidgets.interact(plot_corr, target = target_names, spec_cr_fod = ['spec', 'cr','fod'], n_bands = nbands_sampling)\n",
    "\n"
   ]
  },
  {
   "cell_type": "markdown",
   "id": "f00e07ff",
   "metadata": {},
   "source": [
    "# Step 2:  Parameters for Best Train-Test Split  "
   ]
  },
  {
   "cell_type": "code",
   "execution_count": 28,
   "id": "1300a125",
   "metadata": {},
   "outputs": [
    {
     "name": "stdout",
     "output_type": "stream",
     "text": [
      "Without Normalization:\n",
      "For sand :test size = 0.2 \t min bin error= 21.25 \t at randome state = 18\n",
      "For silt :test size = 0.2 \t min bin error= 18.75 \t at randome state = 13\n",
      "For clay :test size = 0.2 \t min bin error= 31.25 \t at randome state = 7\n",
      "For TOC :test size = 0.2 \t min bin error= 13.75 \t at randome state = 15\n",
      "After Normalization:\n",
      "For sand :test size = 0.2 \t min bin error= 33.75 \t at randome state = 23\n",
      "For silt :test size = 0.2 \t min bin error= 33.75 \t at randome state = 0\n",
      "For clay :test size = 0.2 \t min bin error= 31.25 \t at randome state = 7\n",
      "For TOC :test size = 0.2 \t min bin error= 23.75 \t at randome state = 13\n"
     ]
    }
   ],
   "source": [
    "# Building Mtree (Model Tree) ----------------------------------\n",
    "\n",
    "tst_siz = 0.20\n",
    "\n",
    "rand_t = [None] * (len(T))\n",
    "err_t = [None] * (len(T))\n",
    "\n",
    "print('Without Normalization:')\n",
    "for i in range (0,len(T)):\n",
    "    rand_t[i], err_t[i] = best_split(spec2[51].copy(), T[i], tst_siz) \n",
    "    print ('For '+ target_names[i]+ ' :test size =', tst_siz, '\\t min bin error=', err_t[i], '\\t at randome state =', rand_t[i])\n",
    "    \n",
    "rand_nt = [None] * (len(T))\n",
    "err_nt = [None] * (len(T))\n",
    "\n",
    "print('After Normalization:')\n",
    "for i in range (0,len(T)):\n",
    "    rand_nt[i], err_nt[i] = best_split(spec2[51].copy(), NT[i], tst_siz)     \n",
    "    print ('For '+ target_names[i]+ ' :test size =', tst_siz, '\\t min bin error=', err_nt[i], '\\t at randome state =', rand_nt[i])\n",
    "    \n",
    "    "
   ]
  },
  {
   "cell_type": "code",
   "execution_count": 29,
   "id": "66eccbaf",
   "metadata": {},
   "outputs": [],
   "source": [
    "# ## Plotting the Distribution of Train and Test Output Data  --------------\n",
    "\n",
    "##### Plot train test split fr normalised and without normalised data using ipywidgets for all  the 4 targets---------\n",
    "# plt.style.use(['science','notebook','grid'])\n",
    "\n",
    "# def train_test_plot (target):\n",
    "\n",
    "#     fig, ax = plt.subplots(1,2, figsize=(18,7))\n",
    "\n",
    "#     i = target_names.index(target)\n",
    "    \n",
    "#     for i in range (0, len(target)):\n",
    "#         minimum = np.min(target[i])\n",
    "#         maximum = np.max(target[i])\n",
    "    \n",
    "#     bins = np.linspace(minimum, maximum, 8)\n",
    "    \n",
    "#     for i in range (0, len(target)):\n",
    "        \n",
    "#         if preprocessing == 'none':\n",
    "#             ax[0].hist([y_train, y_test], bins , label=['Train', 'Test'], density=True, color = ['mediumaquamarine','lightcoral'])\n",
    "#             ax[0].legend(loc='upper right', fontsize =8)\n",
    "#             ax[0].set_xlabel('Without Normalisation'+target+'content',fontsize =12)\n",
    "#             ax[0].set_ylabel('Normalised frequency',fontsize =12)\n",
    "#             ax[0].tick_params(axis='both', labelsize=8)\n",
    "        \n",
    "#         else:\n",
    "#             ax[1].hist([y_train, y_test], bins , label=['Train', 'Test'], density=True, color = ['mediumaquamarine','lightcoral'])\n",
    "#             ax[1].legend(loc='upper right', fontsize =8)\n",
    "#             ax[1].set_xlabel('Normalised '+target_names[i]+' content',fontsize =12)\n",
    "#             ax[1].set_ylabel('Normalised frequency',fontsize =12)\n",
    "#             ax[1].tick_params(axis='both', labelsize=8)\n",
    "       \n",
    "#      #elif  target == 'silt' and preprocessing == 'none':\n",
    "# #         ax[0].legend(loc='upper right', fontsize =8)\n",
    "# #         ax[0].set_xlabel('Without Normalisation SILT content',fontsize =12)\n",
    "# #         ax[0].set_ylabel('Normalised frequency',fontsize =12)\n",
    "# #         ax[0].tick_params(axis='both', labelsize=8)\n",
    "        \n",
    "# #         else:\n",
    "# #             ax[1].legend(loc='upper right', fontsize =8)\n",
    "# #             ax[1].set_xlabel('Normalised SILT content',fontsize =12)\n",
    "# #             ax[1].set_ylabel('Normalised frequency',fontsize =12)\n",
    "# #             ax[1].tick_params(axis='both', labelsize=8)\n",
    "            \n",
    "# #     elif  target == 'clay' and preprocessing == 'none':\n",
    "# #         ax[0].legend(loc='upper right', fontsize =8)\n",
    "# #         ax[0].set_xlabel('Without Normalisation CLAY content',fontsize =12)\n",
    "# #         ax[0].set_ylabel('Normalised frequency',fontsize =12)\n",
    "# #         ax[0].tick_params(axis='both', labelsize=8)\n",
    "        \n",
    "# #         else:\n",
    "# #             ax[1].legend(loc='upper right', fontsize =8)\n",
    "# #             ax[1].set_xlabel('Normalised CLAY content',fontsize =12)\n",
    "# #             ax[1].set_ylabel('Normalised frequency',fontsize =12)\n",
    "# #             ax[1].tick_params(axis='both', labelsize=8)\n",
    "              \n",
    "     \n",
    "# #      else:\n",
    "# #         if preprocessing == 'none':\n",
    "# #             ax[0].legend(loc='upper right', fontsize =8)\n",
    "# #             ax[0].set_xlabel('Without Normalisation TOC content',fontsize =12)\n",
    "# #             ax[0].set_ylabel('Normalised frequency',fontsize =12)\n",
    "# #             ax[0].tick_params(axis='both', labelsize=8)\n",
    "        \n",
    "# #         else:\n",
    "# #             ax[1].legend(loc='upper right', fontsize =8)\n",
    "# #             ax[1].set_xlabel('Normalised TOC content',fontsize =12)\n",
    "# #             ax[1].set_ylabel('Normalised frequency',fontsize =12)\n",
    "# #             ax[1].tick_params(axis='both', labelsize=8)\n",
    "            \n",
    "#     fig.suptitle('Train Test Distribution of Data', x = 0.5 ,y = .95, fontsize = 20)\n",
    "\n",
    "#     plt.show()\n",
    "       \n",
    "# ipywidgets.interact(train_test_plot, target = ['sand', 'silt','clay', 'TOC'])\n",
    "\n"
   ]
  },
  {
   "cell_type": "markdown",
   "id": "7e853a50",
   "metadata": {},
   "source": [
    "# Step 3: Parameters for Best Model Fit "
   ]
  },
  {
   "cell_type": "markdown",
   "id": "d531478b",
   "metadata": {},
   "source": [
    "## PLSR"
   ]
  },
  {
   "cell_type": "code",
   "execution_count": 30,
   "id": "311d0c9a",
   "metadata": {},
   "outputs": [],
   "source": [
    "\n",
    "from sklearn import linear_model\n",
    "\n",
    "def best_param_PLSR (X_train, X_test, y_train, y_test, n_comp):\n",
    "        \n",
    "    iqrpL = []\n",
    "    r2L = []\n",
    "    \n",
    "    for n in range(1,n_comp):\n",
    "        Model = PLSRegression(n_components=n, scale=True)\n",
    "        Model.fit(X_train, y_train)\n",
    "        y_pred = Model.predict(X_test, copy=True)\n",
    "        \n",
    "        iqrp_test = iqrp(y_pred, y_test)\n",
    "        r2_test = r2_score(y_test, y_pred)         \n",
    "        #rpd_test = y_test.std()/np.sqrt(mean_squared_error(y_test, y_pred))\n",
    "               \n",
    "        iqrpL.append(iqrp_test)\n",
    "        r2L.append(r2_test)\n",
    "#         rpdL.append(rpd_test)\n",
    "        \n",
    "        \n",
    "    \n",
    "    IQRP = max(iqrpL)\n",
    "    n_iqrp = iqrpL.index(max(iqrpL))+1\n",
    "    R2 = max(r2L)     \n",
    "    n_r2 = r2L.index(R2)+1    \n",
    "\n",
    "    #     RPD = max(rpdL)\n",
    "#     n_rpd = rpdL.index(RPD)+1\n",
    "    \n",
    "    #print('IQRP :', IQRP,  'R2 :', R2,  '>>> n_comp: ', n_iqrp)    \n",
    "    return (n_iqrp)\n",
    "        \n",
    " "
   ]
  },
  {
   "cell_type": "markdown",
   "id": "d908099c",
   "metadata": {},
   "source": [
    "# Step 4: Building Model Tree (Mtree)"
   ]
  },
  {
   "cell_type": "code",
   "execution_count": 49,
   "id": "07468618",
   "metadata": {},
   "outputs": [],
   "source": [
    "import os\n",
    "os.system('say \"your program has finished\"')\n",
    "import time"
   ]
  },
  {
   "cell_type": "code",
   "execution_count": 50,
   "id": "f4a97c5c",
   "metadata": {},
   "outputs": [],
   "source": [
    "# 0. Available machine learning regression models --------------------------------- (7)\n",
    "ml_methods = ['mult', 'plsr', 'randomforest', 'cubist', 'svr', 'ridge', 'gbrt']\n",
    "#ml_methods = ['mult', 'plsr', 'cubist', 'randomforest', 'ridge' 'gbrt', 'svr']"
   ]
  },
  {
   "cell_type": "code",
   "execution_count": 152,
   "id": "36d247b4",
   "metadata": {},
   "outputs": [],
   "source": [
    "max_n_comp = 5\n",
    "\n",
    "def build_tree_for (method_name):\n",
    "    tree ={}\n",
    "    start = time.time()\n",
    "    m = method_name\n",
    "    #-- code to build tree----\n",
    "    for t in target_names:\n",
    "        print('tree for: '+ m +' ------> running on: ' + t)\n",
    "        tree[t] ={}\n",
    "        for tp in prepare_target:\n",
    "            tree[t][tp] ={}\n",
    "            for n in nbands_sampling:\n",
    "                tree[t][tp][n] ={}\n",
    "                for p in prepare_spec:\n",
    "                    tree[t][tp][n][p] ={}\n",
    "                    \n",
    "                    #---- following case : either sampling or decision tree methods--\n",
    "                    #---- in this case select appropriate sampled spectrum -------\n",
    "                    if n!=0 or m == 'randomforest' or m == 'cubist' or m == 'gbrt':\n",
    "                        #------ case: sampling required-----------------------\n",
    "                        Y = tree[t][tp][n][p]\n",
    "                        \n",
    "                        #------ setting spec to appropriate sampled spectra----\n",
    "                        if p == 'none':\n",
    "                            if n == 0:\n",
    "                                #---- reched here due to tree based methods e.g. randomforest--\n",
    "                                spec = sampled_spec[100]\n",
    "                            else:\n",
    "                                #---- reached here with some n!=0----\n",
    "                                spec = sampled_spec[n]\n",
    "                        \n",
    "                        elif p == 'fod':\n",
    "                            if n == 0:\n",
    "                                #---- reched here due to tree based methods e.g. randomforest--\n",
    "                                spec = sampled_fod[100]\n",
    "                            else:\n",
    "                                #---- reached here with some n!=0----\n",
    "                                spec = sampled_fod[n]\n",
    "                                \n",
    "                        else:  \n",
    "                            if n == 0:\n",
    "                                #---- reched here due to tree based methods e.g. randomforest--\n",
    "                                spec = sampled_cr[100]\n",
    "                            else:\n",
    "                                #---- reached here with some n!=0----\n",
    "                                spec = sampled_cr[n]\n",
    "                        \n",
    "                        #---- target selection and normalization ---\n",
    "                        if tp == 'none':\n",
    "                            y = T[target_names.index(t)]\n",
    "                            rand_n = rand_t[target_names.index(t)]  #-- for future use in train-test split\n",
    "                        else:\n",
    "                            y = NT[target_names.index(t)]\n",
    "                            rand_n = rand_nt[target_names.index(t)] #-- for future use in train-test split\n",
    "                            #print('one more target set')\n",
    "                            \n",
    "                        #---- performing train-test split----------------------\n",
    "                        X_train, X_test, y_train, y_test = train_test_split(spec, y, test_size= tst_siz, random_state=rand_n)\n",
    "                        \n",
    "                        \n",
    "                        #------INITIATING the appropriate models-----------------------------------------------\n",
    "                        #----- PLSR: best parameters, fitting, and prediction\n",
    "                        if m == 'plsr':\n",
    "                            n_com = best_param_PLSR (X_train, X_test, y_train, y_test, max_n_comp)\n",
    "                            Y['n_comp'] = n_com\n",
    "                            Model = PLSRegression(n_components=n_com, scale=True)\n",
    "                        #----- MULTILINEAR:  fitting, and prediction---------- \n",
    "                        elif m == 'mult':\n",
    "                            Model = linear_model.LinearRegression()    \n",
    "                        #----- RANDOM_FOREST:   fitting, and prediction---------- \n",
    "                        elif m == 'randomforest': \n",
    "                            Model = RandomForestRegressor(random_state= 20)    \n",
    "                        #----- CUBIST REGRESSION:    fitting and prediction---------\n",
    "                        elif m == 'cubist':\n",
    "                            Model = Cubist(n_rules = 50, n_committees = 5, random_state = 42)    \n",
    "                        #------ SUPPORT VECTOR MACHINE FOR REGRESSION: fitting and prediction-----------      \n",
    "                        elif m == 'svr': \n",
    "                            Model = SVR()\n",
    "                        #------ RIDGE REGRESSION: fitting and prediction-----------      \n",
    "                        elif m == 'ridge': \n",
    "                            Model = KernelRidge()\n",
    "                        #------ GRADIENT BOOSTING REGRESSION: fitting and prediction-----------      \n",
    "                        else: \n",
    "                            Model = GradientBoostingRegressor()                         \n",
    "                        \n",
    "                        Model.fit(X_train, y_train)\n",
    "                        y_pred = Model.predict(X_test)\n",
    "                        yhat_pred = Model.predict(X_train)\n",
    "                                \n",
    "                        Y['test'] = y_test\n",
    "                        Y['testP'] = y_pred\n",
    "                        Y['train'] = y_train\n",
    "                        Y['trainP'] = yhat_pred\n",
    "                        Y['iqrp_test'] = iqrp(y_pred, y_test)\n",
    "                        Y['r2_test'] = r2_score(y_test, y_pred)\n",
    "                        Y['rpd_test'] = rpd(y_pred, y_test)\n",
    "                        Y['rmse_test'] = np.sqrt(mean_squared_error(y_pred, y_test))\n",
    "                                              \n",
    "                                                                                             \n",
    "                    #---- following case: no sampling needed and model is not tree based methods e.g. randomforest ---    \n",
    "                    else: \n",
    "                        for sg in sg_filters:\n",
    "                            tree[t][tp][n][p][sg] ={}\n",
    "                            for w in window_lengths:\n",
    "                                tree[t][tp][n][p][sg][w]={}\n",
    "                                Y = tree[t][tp][n][p][sg][w]\n",
    "                                \n",
    "                                # -- optimal train test split----------------------------------------\n",
    "                            \n",
    "                                # -- deciding the smoothed spectra in present branch ---\n",
    "                                if sg == 'sg1':\n",
    "                                    spec = spec1[w]\n",
    "                                else:\n",
    "                                    spec = spec2[w]\n",
    "                                \n",
    "                                # -- preprocessing the spectra ------\n",
    "                    \n",
    "                                #--- no preprocessing ---------------\n",
    "                                if p == 'none':\n",
    "                                    spec = spec\n",
    "                                \n",
    "                                #--- first order derivative + smoothing------    \n",
    "                                elif p == 'fod':\n",
    "                                    if sg == 'sg1':\n",
    "                                        spec = fod1[w]\n",
    "                                    else:\n",
    "                                        spec = fod2[w]\n",
    "                                    #print('fod for one more case')\n",
    "                                \n",
    "                                #--- continuum removal + smoothing---------    \n",
    "                                else: \n",
    "                                    if sg == 'sg1':\n",
    "                                        spec = cr1[w]\n",
    "                                    else:\n",
    "                                        spec = cr2[w]\n",
    "                                    #print('cr for one more case')\n",
    "                            \n",
    "                                \n",
    "                                #---- target selection and normalization ---\n",
    "                                if tp == 'none':\n",
    "                                    y = T[target_names.index(t)]\n",
    "                                    rand_n = rand_t[target_names.index(t)]  #-- for future use in train-test split\n",
    "                                else:\n",
    "                                    y = NT[target_names.index(t)]\n",
    "                                    rand_n = rand_nt[target_names.index(t)] #-- for future use in train-test split\n",
    "                                    #print('one more target set')\n",
    "                            \n",
    "                                #---- performing train-test split----------------------\n",
    "                                X_train, X_test, y_train, y_test = train_test_split(spec, y, test_size= tst_siz, random_state=rand_n)\n",
    "                            \n",
    "                                \n",
    "                                #----- PLSR: best parameters, fitting, and prediction\n",
    "                                if m == 'plsr':\n",
    "                                    n_com = best_param_PLSR (X_train, X_test, y_train, y_test, max_n_comp)\n",
    "                                    Y['n_comp'] = n_com\n",
    "                                    Model = PLSRegression(n_components=n_com, scale=True)\n",
    "                                #----- MULTILINEAR:  fitting, and prediction---------- \n",
    "                                elif m == 'mult':\n",
    "                                    Model = linear_model.LinearRegression()    \n",
    "                                    \n",
    "                                #------ SUPPORT VECTOR MACHINE FOR REGRESSION: fitting and prediction-----------      \n",
    "                                elif m == 'svr': \n",
    "                                    Model = SVR(kernel = 'poly', degree =3, C = 0.0001)    \n",
    "                                    \n",
    "                                #--------- RIDGE REGRESSION: fitting and prediction------------------\n",
    "                                else: \n",
    "                                    Model = KernelRidge()                                        \n",
    "                                \n",
    "                                Model.fit(X_train, y_train)\n",
    "                                y_pred = Model.predict(X_test)\n",
    "                                yhat_pred = Model.predict(X_train)\n",
    "                                \n",
    "                                Y['test'] = y_test\n",
    "                                Y['testP'] = y_pred\n",
    "                                Y['train'] = y_train\n",
    "                                Y['trainP'] = yhat_pred\n",
    "                                Y['iqrp_test'] = iqrp(y_pred, y_test)\n",
    "                                Y['r2_test'] = r2_score(y_test, y_pred)\n",
    "                                Y['rpd_test'] = rpd(y_pred, y_test)\n",
    "                                Y['rmse_test'] = np.sqrt(mean_squared_error(y_pred, y_test))\n",
    "                                \n",
    "                                     \n",
    "    \n",
    "    end = time.time()                            \n",
    "    os.system('say \"your program has finished\"')                            \n",
    "\n",
    "    print('End time - Start time =', (end-start)) \n",
    "    \n",
    "    return (tree.copy())\n"
   ]
  },
  {
   "cell_type": "markdown",
   "id": "2cbe7179",
   "metadata": {},
   "source": [
    "## Mtree initialisation (do not run below code every time)"
   ]
  },
  {
   "cell_type": "code",
   "execution_count": 93,
   "id": "fbc012ba",
   "metadata": {},
   "outputs": [],
   "source": [
    "Mtree ={}"
   ]
  },
  {
   "cell_type": "markdown",
   "id": "65d3136d",
   "metadata": {},
   "source": [
    "## Creating different branches of Mtree (for separate methods)"
   ]
  },
  {
   "cell_type": "markdown",
   "id": "9e879891",
   "metadata": {},
   "source": [
    "### PLSR Branch "
   ]
  },
  {
   "cell_type": "code",
   "execution_count": 120,
   "id": "41c34738",
   "metadata": {},
   "outputs": [
    {
     "name": "stdout",
     "output_type": "stream",
     "text": [
      "tree for plsr running on sand\n",
      "before updating n_comp\n",
      "kept n_comp 4\n",
      "before updating n_comp\n",
      "kept n_comp 4\n",
      "before updating n_comp\n",
      "kept n_comp 4\n",
      "before updating n_comp\n",
      "kept n_comp 4\n",
      "before updating n_comp\n",
      "kept n_comp 4\n",
      "before updating n_comp\n",
      "kept n_comp 4\n",
      "before updating n_comp\n",
      "kept n_comp 4\n",
      "before updating n_comp\n",
      "kept n_comp 4\n",
      "before updating n_comp\n",
      "kept n_comp 4\n",
      "before updating n_comp\n",
      "kept n_comp 4\n",
      "before updating n_comp\n",
      "kept n_comp 4\n",
      "before updating n_comp\n",
      "kept n_comp 4\n",
      "before updating n_comp\n",
      "kept n_comp 4\n",
      "before updating n_comp\n",
      "kept n_comp 4\n",
      "before updating n_comp\n",
      "kept n_comp 4\n",
      "before updating n_comp\n",
      "kept n_comp 4\n",
      "before updating n_comp\n",
      "kept n_comp 4\n",
      "before updating n_comp\n",
      "kept n_comp 4\n",
      "before updating n_comp\n",
      "kept n_comp 4\n",
      "before updating n_comp\n",
      "kept n_comp 4\n",
      "before updating n_comp\n",
      "kept n_comp 4\n",
      "before updating n_comp\n",
      "kept n_comp 4\n",
      "before updating n_comp\n",
      "kept n_comp 4\n",
      "before updating n_comp\n",
      "kept n_comp 4\n",
      "before updating n_comp\n",
      "kept n_comp 1\n",
      "before updating n_comp\n",
      "kept n_comp 1\n",
      "before updating n_comp\n",
      "kept n_comp 1\n",
      "before updating n_comp\n",
      "kept n_comp 1\n",
      "before updating n_comp\n",
      "kept n_comp 1\n",
      "before updating n_comp\n",
      "kept n_comp 1\n",
      "before updating n_comp\n",
      "kept n_comp 1\n",
      "before updating n_comp\n",
      "kept n_comp 1\n",
      "before updating n_comp\n",
      "kept n_comp 1\n",
      "before updating n_comp\n",
      "kept n_comp 1\n",
      "before updating n_comp\n",
      "kept n_comp 1\n",
      "before updating n_comp\n",
      "kept n_comp 1\n",
      "before updating n_comp\n",
      "kept n_comp 1\n",
      "before updating n_comp\n",
      "kept n_comp 1\n",
      "before updating n_comp\n",
      "kept n_comp 1\n",
      "before updating n_comp\n",
      "kept n_comp 1\n",
      "before updating n_comp\n",
      "kept n_comp 1\n",
      "before updating n_comp\n",
      "kept n_comp 1\n",
      "before updating n_comp\n",
      "kept n_comp 1\n",
      "before updating n_comp\n",
      "kept n_comp 1\n",
      "before updating n_comp\n",
      "kept n_comp 1\n",
      "before updating n_comp\n",
      "kept n_comp 1\n",
      "before updating n_comp\n",
      "kept n_comp 1\n",
      "before updating n_comp\n",
      "kept n_comp 1\n",
      "before updating n_comp\n",
      "kept n_comp 2\n",
      "before updating n_comp\n",
      "kept n_comp 2\n",
      "before updating n_comp\n",
      "kept n_comp 2\n",
      "before updating n_comp\n",
      "kept n_comp 2\n",
      "before updating n_comp\n",
      "kept n_comp 2\n",
      "before updating n_comp\n",
      "kept n_comp 2\n",
      "before updating n_comp\n",
      "kept n_comp 2\n",
      "before updating n_comp\n",
      "kept n_comp 2\n",
      "before updating n_comp\n",
      "kept n_comp 2\n",
      "before updating n_comp\n",
      "kept n_comp 2\n",
      "before updating n_comp\n",
      "kept n_comp 2\n",
      "before updating n_comp\n",
      "kept n_comp 2\n",
      "before updating n_comp\n",
      "kept n_comp 2\n",
      "before updating n_comp\n",
      "kept n_comp 2\n",
      "before updating n_comp\n",
      "kept n_comp 2\n",
      "before updating n_comp\n",
      "kept n_comp 2\n",
      "before updating n_comp\n",
      "kept n_comp 2\n",
      "before updating n_comp\n",
      "kept n_comp 2\n",
      "before updating n_comp\n",
      "kept n_comp 2\n",
      "before updating n_comp\n",
      "kept n_comp 2\n",
      "before updating n_comp\n",
      "kept n_comp 2\n",
      "before updating n_comp\n",
      "kept n_comp 2\n",
      "before updating n_comp\n",
      "kept n_comp 2\n",
      "before updating n_comp\n",
      "kept n_comp 2\n",
      "before updating n_comp\n",
      "after updating n_comp\n",
      "before updating n_comp\n",
      "after updating n_comp\n",
      "before updating n_comp\n",
      "after updating n_comp\n",
      "before updating n_comp\n",
      "after updating n_comp\n",
      "before updating n_comp\n",
      "after updating n_comp\n",
      "before updating n_comp\n",
      "after updating n_comp\n",
      "before updating n_comp\n",
      "after updating n_comp\n",
      "before updating n_comp\n",
      "after updating n_comp\n",
      "before updating n_comp\n",
      "after updating n_comp\n",
      "before updating n_comp\n",
      "after updating n_comp\n",
      "before updating n_comp\n",
      "after updating n_comp\n",
      "before updating n_comp\n",
      "after updating n_comp\n",
      "before updating n_comp\n",
      "after updating n_comp\n",
      "before updating n_comp\n",
      "after updating n_comp\n",
      "before updating n_comp\n",
      "after updating n_comp\n",
      "before updating n_comp\n",
      "after updating n_comp\n",
      "before updating n_comp\n",
      "after updating n_comp\n",
      "before updating n_comp\n",
      "after updating n_comp\n",
      "before updating n_comp\n",
      "after updating n_comp\n",
      "before updating n_comp\n",
      "after updating n_comp\n",
      "before updating n_comp\n",
      "after updating n_comp\n",
      "before updating n_comp\n",
      "kept n_comp 4\n",
      "before updating n_comp\n",
      "kept n_comp 4\n",
      "before updating n_comp\n",
      "kept n_comp 4\n",
      "before updating n_comp\n",
      "kept n_comp 4\n",
      "before updating n_comp\n",
      "kept n_comp 4\n",
      "before updating n_comp\n",
      "kept n_comp 4\n",
      "before updating n_comp\n",
      "kept n_comp 4\n",
      "before updating n_comp\n",
      "kept n_comp 4\n",
      "before updating n_comp\n",
      "kept n_comp 4\n",
      "before updating n_comp\n",
      "kept n_comp 4\n",
      "before updating n_comp\n",
      "kept n_comp 4\n",
      "before updating n_comp\n",
      "kept n_comp 4\n",
      "before updating n_comp\n",
      "kept n_comp 4\n",
      "before updating n_comp\n",
      "kept n_comp 4\n",
      "before updating n_comp\n",
      "kept n_comp 4\n",
      "before updating n_comp\n",
      "kept n_comp 4\n",
      "before updating n_comp\n",
      "kept n_comp 4\n",
      "before updating n_comp\n",
      "kept n_comp 4\n",
      "before updating n_comp\n",
      "kept n_comp 4\n",
      "before updating n_comp\n",
      "kept n_comp 4\n",
      "before updating n_comp\n",
      "kept n_comp 4\n",
      "before updating n_comp\n",
      "kept n_comp 4\n",
      "before updating n_comp\n",
      "kept n_comp 4\n",
      "before updating n_comp\n",
      "kept n_comp 4\n",
      "before updating n_comp\n",
      "kept n_comp 4\n",
      "before updating n_comp\n",
      "kept n_comp 4\n",
      "before updating n_comp\n",
      "kept n_comp 4\n",
      "before updating n_comp\n",
      "kept n_comp 4\n",
      "before updating n_comp\n",
      "kept n_comp 4\n",
      "before updating n_comp\n",
      "kept n_comp 4\n",
      "before updating n_comp\n",
      "kept n_comp 4\n",
      "before updating n_comp\n",
      "kept n_comp 4\n",
      "before updating n_comp\n",
      "kept n_comp 4\n",
      "before updating n_comp\n",
      "kept n_comp 4\n",
      "before updating n_comp\n",
      "kept n_comp 4\n",
      "before updating n_comp\n",
      "kept n_comp 4\n",
      "before updating n_comp\n",
      "kept n_comp 4\n",
      "before updating n_comp\n",
      "kept n_comp 4\n",
      "before updating n_comp\n",
      "kept n_comp 4\n",
      "before updating n_comp\n",
      "kept n_comp 4\n",
      "before updating n_comp\n",
      "kept n_comp 4\n",
      "before updating n_comp\n",
      "kept n_comp 4\n",
      "before updating n_comp\n",
      "kept n_comp 4\n",
      "before updating n_comp\n",
      "kept n_comp 4\n",
      "before updating n_comp\n",
      "kept n_comp 4\n",
      "before updating n_comp\n",
      "kept n_comp 4\n",
      "before updating n_comp\n",
      "kept n_comp 4\n",
      "before updating n_comp\n",
      "kept n_comp 4\n",
      "before updating n_comp\n",
      "kept n_comp 4\n",
      "before updating n_comp\n",
      "kept n_comp 4\n",
      "before updating n_comp\n",
      "kept n_comp 4\n",
      "before updating n_comp\n",
      "kept n_comp 4\n",
      "before updating n_comp\n",
      "kept n_comp 4\n",
      "before updating n_comp\n",
      "kept n_comp 4\n",
      "before updating n_comp\n",
      "kept n_comp 4\n",
      "before updating n_comp\n",
      "kept n_comp 4\n",
      "before updating n_comp\n",
      "kept n_comp 4\n",
      "before updating n_comp\n",
      "kept n_comp 4\n",
      "before updating n_comp\n",
      "kept n_comp 4\n",
      "before updating n_comp\n",
      "kept n_comp 4\n",
      "before updating n_comp\n",
      "kept n_comp 4\n",
      "before updating n_comp\n",
      "kept n_comp 4\n",
      "before updating n_comp\n",
      "kept n_comp 4\n",
      "before updating n_comp\n",
      "kept n_comp 4\n",
      "before updating n_comp\n",
      "kept n_comp 4\n",
      "before updating n_comp\n",
      "kept n_comp 4\n",
      "before updating n_comp\n",
      "kept n_comp 4\n",
      "before updating n_comp\n",
      "kept n_comp 4\n",
      "before updating n_comp\n",
      "kept n_comp 4\n",
      "before updating n_comp\n",
      "kept n_comp 4\n",
      "before updating n_comp\n",
      "kept n_comp 4\n",
      "before updating n_comp\n",
      "kept n_comp 4\n",
      "before updating n_comp\n",
      "after updating n_comp\n",
      "before updating n_comp\n",
      "after updating n_comp\n",
      "before updating n_comp\n",
      "after updating n_comp\n",
      "before updating n_comp\n",
      "after updating n_comp\n",
      "before updating n_comp\n",
      "after updating n_comp\n",
      "before updating n_comp\n",
      "after updating n_comp\n",
      "before updating n_comp\n",
      "after updating n_comp\n",
      "before updating n_comp\n",
      "after updating n_comp\n",
      "before updating n_comp\n",
      "after updating n_comp\n",
      "before updating n_comp\n",
      "after updating n_comp\n",
      "before updating n_comp\n",
      "after updating n_comp\n",
      "before updating n_comp\n",
      "after updating n_comp\n",
      "before updating n_comp\n",
      "after updating n_comp\n",
      "before updating n_comp\n",
      "after updating n_comp\n",
      "before updating n_comp\n",
      "after updating n_comp\n",
      "before updating n_comp\n",
      "after updating n_comp\n",
      "before updating n_comp\n",
      "after updating n_comp\n",
      "before updating n_comp\n",
      "after updating n_comp\n",
      "before updating n_comp\n",
      "after updating n_comp\n",
      "before updating n_comp\n",
      "after updating n_comp\n",
      "before updating n_comp\n",
      "after updating n_comp\n",
      "tree for plsr running on silt\n",
      "before updating n_comp\n",
      "kept n_comp 4\n",
      "before updating n_comp\n",
      "kept n_comp 4\n",
      "before updating n_comp\n",
      "kept n_comp 4\n",
      "before updating n_comp\n",
      "kept n_comp 4\n",
      "before updating n_comp\n",
      "kept n_comp 4\n",
      "before updating n_comp\n",
      "kept n_comp 4\n",
      "before updating n_comp\n",
      "kept n_comp 4\n",
      "before updating n_comp\n",
      "kept n_comp 4\n",
      "before updating n_comp\n",
      "kept n_comp 4\n",
      "before updating n_comp\n",
      "kept n_comp 4\n",
      "before updating n_comp\n",
      "kept n_comp 4\n",
      "before updating n_comp\n",
      "kept n_comp 4\n",
      "before updating n_comp\n",
      "kept n_comp 4\n",
      "before updating n_comp\n",
      "kept n_comp 4\n",
      "before updating n_comp\n",
      "kept n_comp 4\n",
      "before updating n_comp\n",
      "kept n_comp 4\n",
      "before updating n_comp\n",
      "kept n_comp 4\n",
      "before updating n_comp\n",
      "kept n_comp 4\n",
      "before updating n_comp\n",
      "kept n_comp 4\n",
      "before updating n_comp\n",
      "kept n_comp 4\n",
      "before updating n_comp\n",
      "kept n_comp 4\n",
      "before updating n_comp\n",
      "kept n_comp 4\n",
      "before updating n_comp\n",
      "kept n_comp 4\n",
      "before updating n_comp\n",
      "kept n_comp 4\n",
      "before updating n_comp\n",
      "kept n_comp 4\n"
     ]
    },
    {
     "name": "stdout",
     "output_type": "stream",
     "text": [
      "before updating n_comp\n",
      "kept n_comp 4\n",
      "before updating n_comp\n",
      "kept n_comp 4\n",
      "before updating n_comp\n",
      "kept n_comp 4\n",
      "before updating n_comp\n",
      "kept n_comp 4\n",
      "before updating n_comp\n",
      "kept n_comp 4\n",
      "before updating n_comp\n",
      "kept n_comp 4\n",
      "before updating n_comp\n",
      "kept n_comp 4\n",
      "before updating n_comp\n",
      "kept n_comp 4\n",
      "before updating n_comp\n",
      "kept n_comp 4\n",
      "before updating n_comp\n",
      "kept n_comp 4\n",
      "before updating n_comp\n",
      "kept n_comp 4\n",
      "before updating n_comp\n",
      "kept n_comp 4\n",
      "before updating n_comp\n",
      "kept n_comp 4\n",
      "before updating n_comp\n",
      "kept n_comp 4\n",
      "before updating n_comp\n",
      "kept n_comp 4\n",
      "before updating n_comp\n",
      "kept n_comp 4\n",
      "before updating n_comp\n",
      "kept n_comp 4\n",
      "before updating n_comp\n",
      "kept n_comp 4\n",
      "before updating n_comp\n",
      "kept n_comp 4\n",
      "before updating n_comp\n",
      "kept n_comp 4\n",
      "before updating n_comp\n",
      "kept n_comp 4\n",
      "before updating n_comp\n",
      "kept n_comp 4\n",
      "before updating n_comp\n",
      "kept n_comp 4\n",
      "before updating n_comp\n",
      "kept n_comp 1\n",
      "before updating n_comp\n",
      "kept n_comp 1\n",
      "before updating n_comp\n",
      "kept n_comp 1\n",
      "before updating n_comp\n",
      "kept n_comp 1\n",
      "before updating n_comp\n",
      "kept n_comp 1\n",
      "before updating n_comp\n",
      "kept n_comp 1\n",
      "before updating n_comp\n",
      "kept n_comp 1\n",
      "before updating n_comp\n",
      "kept n_comp 1\n",
      "before updating n_comp\n",
      "kept n_comp 1\n",
      "before updating n_comp\n",
      "kept n_comp 1\n",
      "before updating n_comp\n",
      "kept n_comp 1\n",
      "before updating n_comp\n",
      "kept n_comp 1\n",
      "before updating n_comp\n",
      "kept n_comp 1\n",
      "before updating n_comp\n",
      "kept n_comp 1\n",
      "before updating n_comp\n",
      "kept n_comp 1\n",
      "before updating n_comp\n",
      "kept n_comp 1\n",
      "before updating n_comp\n",
      "kept n_comp 1\n",
      "before updating n_comp\n",
      "kept n_comp 1\n",
      "before updating n_comp\n",
      "kept n_comp 1\n",
      "before updating n_comp\n",
      "kept n_comp 1\n",
      "before updating n_comp\n",
      "kept n_comp 1\n",
      "before updating n_comp\n",
      "kept n_comp 1\n",
      "before updating n_comp\n",
      "kept n_comp 1\n",
      "before updating n_comp\n",
      "kept n_comp 1\n",
      "before updating n_comp\n",
      "after updating n_comp\n",
      "before updating n_comp\n",
      "after updating n_comp\n",
      "before updating n_comp\n",
      "after updating n_comp\n",
      "before updating n_comp\n",
      "after updating n_comp\n",
      "before updating n_comp\n",
      "after updating n_comp\n",
      "before updating n_comp\n",
      "after updating n_comp\n",
      "before updating n_comp\n",
      "after updating n_comp\n",
      "before updating n_comp\n",
      "after updating n_comp\n",
      "before updating n_comp\n",
      "after updating n_comp\n",
      "before updating n_comp\n",
      "after updating n_comp\n",
      "before updating n_comp\n",
      "after updating n_comp\n",
      "before updating n_comp\n",
      "after updating n_comp\n",
      "before updating n_comp\n",
      "after updating n_comp\n",
      "before updating n_comp\n",
      "after updating n_comp\n",
      "before updating n_comp\n",
      "after updating n_comp\n",
      "before updating n_comp\n",
      "after updating n_comp\n",
      "before updating n_comp\n",
      "after updating n_comp\n",
      "before updating n_comp\n",
      "after updating n_comp\n",
      "before updating n_comp\n",
      "after updating n_comp\n",
      "before updating n_comp\n",
      "after updating n_comp\n",
      "before updating n_comp\n",
      "after updating n_comp\n",
      "before updating n_comp\n",
      "kept n_comp 4\n",
      "before updating n_comp\n",
      "kept n_comp 4\n",
      "before updating n_comp\n",
      "kept n_comp 4\n",
      "before updating n_comp\n",
      "kept n_comp 4\n",
      "before updating n_comp\n",
      "kept n_comp 4\n",
      "before updating n_comp\n",
      "kept n_comp 4\n",
      "before updating n_comp\n",
      "kept n_comp 4\n",
      "before updating n_comp\n",
      "kept n_comp 4\n",
      "before updating n_comp\n",
      "kept n_comp 4\n",
      "before updating n_comp\n",
      "kept n_comp 4\n",
      "before updating n_comp\n",
      "kept n_comp 4\n",
      "before updating n_comp\n",
      "kept n_comp 4\n",
      "before updating n_comp\n",
      "kept n_comp 4\n",
      "before updating n_comp\n",
      "kept n_comp 4\n",
      "before updating n_comp\n",
      "kept n_comp 4\n",
      "before updating n_comp\n",
      "kept n_comp 4\n",
      "before updating n_comp\n",
      "kept n_comp 4\n",
      "before updating n_comp\n",
      "kept n_comp 4\n",
      "before updating n_comp\n",
      "kept n_comp 4\n",
      "before updating n_comp\n",
      "kept n_comp 4\n",
      "before updating n_comp\n",
      "kept n_comp 4\n",
      "before updating n_comp\n",
      "kept n_comp 4\n",
      "before updating n_comp\n",
      "kept n_comp 4\n",
      "before updating n_comp\n",
      "kept n_comp 4\n",
      "before updating n_comp\n",
      "kept n_comp 4\n",
      "before updating n_comp\n",
      "kept n_comp 4\n",
      "before updating n_comp\n",
      "kept n_comp 4\n",
      "before updating n_comp\n",
      "kept n_comp 4\n",
      "before updating n_comp\n",
      "kept n_comp 4\n",
      "before updating n_comp\n",
      "kept n_comp 4\n",
      "before updating n_comp\n",
      "kept n_comp 4\n",
      "before updating n_comp\n",
      "kept n_comp 4\n",
      "before updating n_comp\n",
      "kept n_comp 4\n",
      "before updating n_comp\n",
      "kept n_comp 4\n",
      "before updating n_comp\n",
      "kept n_comp 4\n",
      "before updating n_comp\n",
      "kept n_comp 4\n",
      "before updating n_comp\n",
      "kept n_comp 4\n",
      "before updating n_comp\n",
      "kept n_comp 4\n",
      "before updating n_comp\n",
      "kept n_comp 4\n",
      "before updating n_comp\n",
      "kept n_comp 4\n",
      "before updating n_comp\n",
      "kept n_comp 4\n",
      "before updating n_comp\n",
      "kept n_comp 4\n",
      "before updating n_comp\n",
      "kept n_comp 4\n",
      "before updating n_comp\n",
      "kept n_comp 4\n",
      "before updating n_comp\n",
      "kept n_comp 4\n",
      "before updating n_comp\n",
      "kept n_comp 4\n",
      "before updating n_comp\n",
      "kept n_comp 4\n",
      "before updating n_comp\n",
      "kept n_comp 4\n",
      "before updating n_comp\n",
      "kept n_comp 4\n",
      "before updating n_comp\n",
      "kept n_comp 4\n",
      "before updating n_comp\n",
      "kept n_comp 4\n",
      "before updating n_comp\n",
      "kept n_comp 4\n",
      "before updating n_comp\n",
      "kept n_comp 4\n",
      "before updating n_comp\n",
      "kept n_comp 4\n",
      "before updating n_comp\n",
      "kept n_comp 4\n",
      "before updating n_comp\n",
      "kept n_comp 4\n",
      "before updating n_comp\n",
      "kept n_comp 4\n",
      "before updating n_comp\n",
      "kept n_comp 4\n",
      "before updating n_comp\n",
      "kept n_comp 4\n",
      "before updating n_comp\n",
      "kept n_comp 4\n",
      "before updating n_comp\n",
      "kept n_comp 4\n",
      "before updating n_comp\n",
      "kept n_comp 4\n",
      "before updating n_comp\n",
      "kept n_comp 4\n",
      "before updating n_comp\n",
      "kept n_comp 4\n",
      "before updating n_comp\n",
      "kept n_comp 4\n",
      "before updating n_comp\n",
      "kept n_comp 4\n",
      "before updating n_comp\n",
      "kept n_comp 4\n",
      "before updating n_comp\n",
      "kept n_comp 4\n",
      "before updating n_comp\n",
      "kept n_comp 4\n",
      "before updating n_comp\n",
      "kept n_comp 4\n",
      "before updating n_comp\n",
      "kept n_comp 4\n",
      "before updating n_comp\n",
      "kept n_comp 4\n",
      "before updating n_comp\n",
      "after updating n_comp\n",
      "before updating n_comp\n",
      "after updating n_comp\n",
      "before updating n_comp\n",
      "after updating n_comp\n",
      "before updating n_comp\n",
      "after updating n_comp\n",
      "before updating n_comp\n",
      "after updating n_comp\n",
      "before updating n_comp\n",
      "after updating n_comp\n",
      "before updating n_comp\n",
      "after updating n_comp\n",
      "before updating n_comp\n",
      "after updating n_comp\n",
      "before updating n_comp\n",
      "after updating n_comp\n",
      "before updating n_comp\n",
      "after updating n_comp\n",
      "before updating n_comp\n",
      "after updating n_comp\n",
      "before updating n_comp\n",
      "after updating n_comp\n",
      "before updating n_comp\n",
      "after updating n_comp\n",
      "before updating n_comp\n",
      "after updating n_comp\n",
      "before updating n_comp\n",
      "after updating n_comp\n",
      "before updating n_comp\n",
      "after updating n_comp\n",
      "before updating n_comp\n",
      "after updating n_comp\n",
      "before updating n_comp\n",
      "after updating n_comp\n",
      "before updating n_comp\n",
      "after updating n_comp\n",
      "before updating n_comp\n",
      "after updating n_comp\n",
      "before updating n_comp\n",
      "after updating n_comp\n",
      "tree for plsr running on clay\n",
      "before updating n_comp\n",
      "kept n_comp 3\n",
      "before updating n_comp\n",
      "kept n_comp 3\n",
      "before updating n_comp\n",
      "kept n_comp 3\n",
      "before updating n_comp\n",
      "kept n_comp 3\n",
      "before updating n_comp\n",
      "kept n_comp 3\n",
      "before updating n_comp\n",
      "kept n_comp 3\n",
      "before updating n_comp\n",
      "kept n_comp 3\n",
      "before updating n_comp\n",
      "kept n_comp 3\n",
      "before updating n_comp\n",
      "kept n_comp 3\n",
      "before updating n_comp\n",
      "kept n_comp 3\n",
      "before updating n_comp\n",
      "kept n_comp 3\n",
      "before updating n_comp\n",
      "kept n_comp 3\n",
      "before updating n_comp\n",
      "kept n_comp 3\n",
      "before updating n_comp\n",
      "kept n_comp 3\n",
      "before updating n_comp\n",
      "kept n_comp 3\n",
      "before updating n_comp\n",
      "kept n_comp 3\n",
      "before updating n_comp\n",
      "kept n_comp 3\n",
      "before updating n_comp\n",
      "kept n_comp 3\n",
      "before updating n_comp\n",
      "kept n_comp 3\n",
      "before updating n_comp\n",
      "kept n_comp 3\n",
      "before updating n_comp\n",
      "kept n_comp 3\n",
      "before updating n_comp\n",
      "kept n_comp 3\n",
      "before updating n_comp\n",
      "kept n_comp 3\n",
      "before updating n_comp\n",
      "kept n_comp 3\n",
      "before updating n_comp\n",
      "kept n_comp 4\n",
      "before updating n_comp\n",
      "kept n_comp 4\n",
      "before updating n_comp\n",
      "kept n_comp 4\n",
      "before updating n_comp\n",
      "kept n_comp 4\n",
      "before updating n_comp\n",
      "kept n_comp 4\n",
      "before updating n_comp\n",
      "kept n_comp 4\n",
      "before updating n_comp\n",
      "kept n_comp 4\n",
      "before updating n_comp\n",
      "kept n_comp 4\n",
      "before updating n_comp\n",
      "kept n_comp 4\n",
      "before updating n_comp\n",
      "kept n_comp 4\n",
      "before updating n_comp\n",
      "kept n_comp 4\n",
      "before updating n_comp\n",
      "kept n_comp 4\n",
      "before updating n_comp\n",
      "kept n_comp 4\n",
      "before updating n_comp\n",
      "kept n_comp 4\n",
      "before updating n_comp\n",
      "kept n_comp 4\n",
      "before updating n_comp\n",
      "kept n_comp 4\n",
      "before updating n_comp\n",
      "kept n_comp 4\n",
      "before updating n_comp\n",
      "kept n_comp 4\n",
      "before updating n_comp\n",
      "kept n_comp 4\n",
      "before updating n_comp\n",
      "kept n_comp 4\n",
      "before updating n_comp\n",
      "kept n_comp 4\n",
      "before updating n_comp\n",
      "kept n_comp 4\n",
      "before updating n_comp\n",
      "kept n_comp 4\n",
      "before updating n_comp\n",
      "kept n_comp 4\n",
      "before updating n_comp\n",
      "kept n_comp 4\n",
      "before updating n_comp\n",
      "kept n_comp 4\n",
      "before updating n_comp\n",
      "kept n_comp 4\n",
      "before updating n_comp\n",
      "kept n_comp 4\n"
     ]
    },
    {
     "name": "stdout",
     "output_type": "stream",
     "text": [
      "before updating n_comp\n",
      "kept n_comp 4\n",
      "before updating n_comp\n",
      "kept n_comp 4\n",
      "before updating n_comp\n",
      "kept n_comp 4\n",
      "before updating n_comp\n",
      "kept n_comp 4\n",
      "before updating n_comp\n",
      "kept n_comp 4\n",
      "before updating n_comp\n",
      "kept n_comp 4\n",
      "before updating n_comp\n",
      "kept n_comp 4\n",
      "before updating n_comp\n",
      "kept n_comp 4\n",
      "before updating n_comp\n",
      "kept n_comp 4\n",
      "before updating n_comp\n",
      "kept n_comp 4\n",
      "before updating n_comp\n",
      "kept n_comp 4\n",
      "before updating n_comp\n",
      "kept n_comp 4\n",
      "before updating n_comp\n",
      "kept n_comp 4\n",
      "before updating n_comp\n",
      "kept n_comp 4\n",
      "before updating n_comp\n",
      "kept n_comp 4\n",
      "before updating n_comp\n",
      "kept n_comp 4\n",
      "before updating n_comp\n",
      "kept n_comp 4\n",
      "before updating n_comp\n",
      "kept n_comp 4\n",
      "before updating n_comp\n",
      "kept n_comp 4\n",
      "before updating n_comp\n",
      "kept n_comp 4\n",
      "before updating n_comp\n",
      "after updating n_comp\n",
      "before updating n_comp\n",
      "after updating n_comp\n",
      "before updating n_comp\n",
      "after updating n_comp\n",
      "before updating n_comp\n",
      "after updating n_comp\n",
      "before updating n_comp\n",
      "after updating n_comp\n",
      "before updating n_comp\n",
      "after updating n_comp\n",
      "before updating n_comp\n",
      "after updating n_comp\n",
      "before updating n_comp\n",
      "after updating n_comp\n",
      "before updating n_comp\n",
      "after updating n_comp\n",
      "before updating n_comp\n",
      "after updating n_comp\n",
      "before updating n_comp\n",
      "after updating n_comp\n",
      "before updating n_comp\n",
      "after updating n_comp\n",
      "before updating n_comp\n",
      "after updating n_comp\n",
      "before updating n_comp\n",
      "after updating n_comp\n",
      "before updating n_comp\n",
      "after updating n_comp\n",
      "before updating n_comp\n",
      "after updating n_comp\n",
      "before updating n_comp\n",
      "after updating n_comp\n",
      "before updating n_comp\n",
      "after updating n_comp\n",
      "before updating n_comp\n",
      "after updating n_comp\n",
      "before updating n_comp\n",
      "after updating n_comp\n",
      "before updating n_comp\n",
      "after updating n_comp\n",
      "before updating n_comp\n",
      "kept n_comp 3\n",
      "before updating n_comp\n",
      "kept n_comp 3\n",
      "before updating n_comp\n",
      "kept n_comp 3\n",
      "before updating n_comp\n",
      "kept n_comp 3\n",
      "before updating n_comp\n",
      "kept n_comp 3\n",
      "before updating n_comp\n",
      "kept n_comp 3\n",
      "before updating n_comp\n",
      "kept n_comp 3\n",
      "before updating n_comp\n",
      "kept n_comp 3\n",
      "before updating n_comp\n",
      "kept n_comp 3\n",
      "before updating n_comp\n",
      "kept n_comp 3\n",
      "before updating n_comp\n",
      "kept n_comp 3\n",
      "before updating n_comp\n",
      "kept n_comp 3\n",
      "before updating n_comp\n",
      "kept n_comp 3\n",
      "before updating n_comp\n",
      "kept n_comp 3\n",
      "before updating n_comp\n",
      "kept n_comp 3\n",
      "before updating n_comp\n",
      "kept n_comp 3\n",
      "before updating n_comp\n",
      "kept n_comp 3\n",
      "before updating n_comp\n",
      "kept n_comp 3\n",
      "before updating n_comp\n",
      "kept n_comp 3\n",
      "before updating n_comp\n",
      "kept n_comp 3\n",
      "before updating n_comp\n",
      "kept n_comp 3\n",
      "before updating n_comp\n",
      "kept n_comp 3\n",
      "before updating n_comp\n",
      "kept n_comp 3\n",
      "before updating n_comp\n",
      "kept n_comp 3\n",
      "before updating n_comp\n",
      "kept n_comp 4\n",
      "before updating n_comp\n",
      "kept n_comp 4\n",
      "before updating n_comp\n",
      "kept n_comp 4\n",
      "before updating n_comp\n",
      "kept n_comp 4\n",
      "before updating n_comp\n",
      "kept n_comp 4\n",
      "before updating n_comp\n",
      "kept n_comp 4\n",
      "before updating n_comp\n",
      "kept n_comp 4\n",
      "before updating n_comp\n",
      "kept n_comp 4\n",
      "before updating n_comp\n",
      "kept n_comp 4\n",
      "before updating n_comp\n",
      "kept n_comp 4\n",
      "before updating n_comp\n",
      "kept n_comp 4\n",
      "before updating n_comp\n",
      "kept n_comp 4\n",
      "before updating n_comp\n",
      "kept n_comp 4\n",
      "before updating n_comp\n",
      "kept n_comp 4\n",
      "before updating n_comp\n",
      "kept n_comp 4\n",
      "before updating n_comp\n",
      "kept n_comp 4\n",
      "before updating n_comp\n",
      "kept n_comp 4\n",
      "before updating n_comp\n",
      "kept n_comp 4\n",
      "before updating n_comp\n",
      "kept n_comp 4\n",
      "before updating n_comp\n",
      "kept n_comp 4\n",
      "before updating n_comp\n",
      "kept n_comp 4\n",
      "before updating n_comp\n",
      "kept n_comp 4\n",
      "before updating n_comp\n",
      "kept n_comp 4\n",
      "before updating n_comp\n",
      "kept n_comp 4\n",
      "before updating n_comp\n",
      "kept n_comp 4\n",
      "before updating n_comp\n",
      "kept n_comp 4\n",
      "before updating n_comp\n",
      "kept n_comp 4\n",
      "before updating n_comp\n",
      "kept n_comp 4\n",
      "before updating n_comp\n",
      "kept n_comp 4\n",
      "before updating n_comp\n",
      "kept n_comp 4\n",
      "before updating n_comp\n",
      "kept n_comp 4\n",
      "before updating n_comp\n",
      "kept n_comp 4\n",
      "before updating n_comp\n",
      "kept n_comp 4\n",
      "before updating n_comp\n",
      "kept n_comp 4\n",
      "before updating n_comp\n",
      "kept n_comp 4\n",
      "before updating n_comp\n",
      "kept n_comp 4\n",
      "before updating n_comp\n",
      "kept n_comp 4\n",
      "before updating n_comp\n",
      "kept n_comp 4\n",
      "before updating n_comp\n",
      "kept n_comp 4\n",
      "before updating n_comp\n",
      "kept n_comp 4\n",
      "before updating n_comp\n",
      "kept n_comp 4\n",
      "before updating n_comp\n",
      "kept n_comp 4\n",
      "before updating n_comp\n",
      "kept n_comp 4\n",
      "before updating n_comp\n",
      "kept n_comp 4\n",
      "before updating n_comp\n",
      "kept n_comp 4\n",
      "before updating n_comp\n",
      "kept n_comp 4\n",
      "before updating n_comp\n",
      "kept n_comp 4\n",
      "before updating n_comp\n",
      "kept n_comp 4\n",
      "before updating n_comp\n",
      "after updating n_comp\n",
      "before updating n_comp\n",
      "after updating n_comp\n",
      "before updating n_comp\n",
      "after updating n_comp\n",
      "before updating n_comp\n",
      "after updating n_comp\n",
      "before updating n_comp\n",
      "after updating n_comp\n",
      "before updating n_comp\n",
      "after updating n_comp\n",
      "before updating n_comp\n",
      "after updating n_comp\n",
      "before updating n_comp\n",
      "after updating n_comp\n",
      "before updating n_comp\n",
      "after updating n_comp\n",
      "before updating n_comp\n",
      "after updating n_comp\n",
      "before updating n_comp\n",
      "after updating n_comp\n",
      "before updating n_comp\n",
      "after updating n_comp\n",
      "before updating n_comp\n",
      "after updating n_comp\n",
      "before updating n_comp\n",
      "after updating n_comp\n",
      "before updating n_comp\n",
      "after updating n_comp\n",
      "before updating n_comp\n",
      "after updating n_comp\n",
      "before updating n_comp\n",
      "after updating n_comp\n",
      "before updating n_comp\n",
      "after updating n_comp\n",
      "before updating n_comp\n",
      "after updating n_comp\n",
      "before updating n_comp\n",
      "after updating n_comp\n",
      "before updating n_comp\n",
      "after updating n_comp\n",
      "tree for plsr running on TOC\n",
      "before updating n_comp\n",
      "kept n_comp 3\n",
      "before updating n_comp\n",
      "kept n_comp 3\n",
      "before updating n_comp\n",
      "kept n_comp 3\n",
      "before updating n_comp\n",
      "kept n_comp 3\n",
      "before updating n_comp\n",
      "kept n_comp 3\n",
      "before updating n_comp\n",
      "kept n_comp 3\n",
      "before updating n_comp\n",
      "kept n_comp 3\n",
      "before updating n_comp\n",
      "kept n_comp 3\n",
      "before updating n_comp\n",
      "kept n_comp 3\n",
      "before updating n_comp\n",
      "kept n_comp 3\n",
      "before updating n_comp\n",
      "kept n_comp 3\n",
      "before updating n_comp\n",
      "kept n_comp 3\n",
      "before updating n_comp\n",
      "kept n_comp 3\n",
      "before updating n_comp\n",
      "kept n_comp 3\n",
      "before updating n_comp\n",
      "kept n_comp 3\n",
      "before updating n_comp\n",
      "kept n_comp 3\n",
      "before updating n_comp\n",
      "kept n_comp 3\n",
      "before updating n_comp\n",
      "kept n_comp 3\n",
      "before updating n_comp\n",
      "kept n_comp 3\n",
      "before updating n_comp\n",
      "kept n_comp 3\n",
      "before updating n_comp\n",
      "kept n_comp 3\n",
      "before updating n_comp\n",
      "kept n_comp 3\n",
      "before updating n_comp\n",
      "kept n_comp 3\n",
      "before updating n_comp\n",
      "kept n_comp 3\n",
      "before updating n_comp\n",
      "kept n_comp 2\n",
      "before updating n_comp\n",
      "kept n_comp 2\n",
      "before updating n_comp\n",
      "kept n_comp 2\n",
      "before updating n_comp\n",
      "kept n_comp 2\n",
      "before updating n_comp\n",
      "kept n_comp 2\n",
      "before updating n_comp\n",
      "kept n_comp 2\n",
      "before updating n_comp\n",
      "kept n_comp 2\n",
      "before updating n_comp\n",
      "kept n_comp 2\n",
      "before updating n_comp\n",
      "kept n_comp 2\n",
      "before updating n_comp\n",
      "kept n_comp 2\n",
      "before updating n_comp\n",
      "kept n_comp 2\n",
      "before updating n_comp\n",
      "kept n_comp 2\n",
      "before updating n_comp\n",
      "kept n_comp 2\n",
      "before updating n_comp\n",
      "kept n_comp 2\n",
      "before updating n_comp\n",
      "kept n_comp 2\n",
      "before updating n_comp\n",
      "kept n_comp 2\n",
      "before updating n_comp\n",
      "kept n_comp 2\n",
      "before updating n_comp\n",
      "kept n_comp 2\n",
      "before updating n_comp\n",
      "kept n_comp 2\n",
      "before updating n_comp\n",
      "kept n_comp 2\n",
      "before updating n_comp\n",
      "kept n_comp 2\n",
      "before updating n_comp\n",
      "kept n_comp 2\n",
      "before updating n_comp\n",
      "kept n_comp 2\n",
      "before updating n_comp\n",
      "kept n_comp 2\n",
      "before updating n_comp\n",
      "kept n_comp 1\n",
      "before updating n_comp\n",
      "kept n_comp 1\n",
      "before updating n_comp\n",
      "kept n_comp 1\n",
      "before updating n_comp\n",
      "kept n_comp 1\n",
      "before updating n_comp\n",
      "kept n_comp 1\n",
      "before updating n_comp\n",
      "kept n_comp 1\n",
      "before updating n_comp\n",
      "kept n_comp 1\n",
      "before updating n_comp\n",
      "kept n_comp 1\n",
      "before updating n_comp\n",
      "kept n_comp 1\n",
      "before updating n_comp\n",
      "kept n_comp 1\n",
      "before updating n_comp\n",
      "kept n_comp 1\n",
      "before updating n_comp\n",
      "kept n_comp 1\n",
      "before updating n_comp\n",
      "kept n_comp 1\n",
      "before updating n_comp\n",
      "kept n_comp 1\n",
      "before updating n_comp\n",
      "kept n_comp 1\n",
      "before updating n_comp\n",
      "kept n_comp 1\n",
      "before updating n_comp\n",
      "kept n_comp 1\n",
      "before updating n_comp\n",
      "kept n_comp 1\n",
      "before updating n_comp\n",
      "kept n_comp 1\n",
      "before updating n_comp\n",
      "kept n_comp 1\n",
      "before updating n_comp\n",
      "kept n_comp 1\n",
      "before updating n_comp\n",
      "kept n_comp 1\n",
      "before updating n_comp\n",
      "kept n_comp 1\n",
      "before updating n_comp\n",
      "kept n_comp 1\n",
      "before updating n_comp\n",
      "after updating n_comp\n",
      "before updating n_comp\n",
      "after updating n_comp\n",
      "before updating n_comp\n",
      "after updating n_comp\n",
      "before updating n_comp\n",
      "after updating n_comp\n",
      "before updating n_comp\n",
      "after updating n_comp\n",
      "before updating n_comp\n",
      "after updating n_comp\n",
      "before updating n_comp\n",
      "after updating n_comp\n",
      "before updating n_comp\n",
      "after updating n_comp\n",
      "before updating n_comp\n",
      "after updating n_comp\n"
     ]
    },
    {
     "name": "stdout",
     "output_type": "stream",
     "text": [
      "before updating n_comp\n",
      "after updating n_comp\n",
      "before updating n_comp\n",
      "after updating n_comp\n",
      "before updating n_comp\n",
      "after updating n_comp\n",
      "before updating n_comp\n",
      "after updating n_comp\n",
      "before updating n_comp\n",
      "after updating n_comp\n",
      "before updating n_comp\n",
      "after updating n_comp\n",
      "before updating n_comp\n",
      "after updating n_comp\n",
      "before updating n_comp\n",
      "after updating n_comp\n",
      "before updating n_comp\n",
      "after updating n_comp\n",
      "before updating n_comp\n",
      "after updating n_comp\n",
      "before updating n_comp\n",
      "after updating n_comp\n",
      "before updating n_comp\n",
      "after updating n_comp\n",
      "before updating n_comp\n",
      "kept n_comp 4\n",
      "before updating n_comp\n",
      "kept n_comp 4\n",
      "before updating n_comp\n",
      "kept n_comp 4\n",
      "before updating n_comp\n",
      "kept n_comp 4\n",
      "before updating n_comp\n",
      "kept n_comp 4\n",
      "before updating n_comp\n",
      "kept n_comp 4\n",
      "before updating n_comp\n",
      "kept n_comp 4\n",
      "before updating n_comp\n",
      "kept n_comp 4\n",
      "before updating n_comp\n",
      "kept n_comp 4\n",
      "before updating n_comp\n",
      "kept n_comp 4\n",
      "before updating n_comp\n",
      "kept n_comp 4\n",
      "before updating n_comp\n",
      "kept n_comp 4\n",
      "before updating n_comp\n",
      "kept n_comp 4\n",
      "before updating n_comp\n",
      "kept n_comp 4\n",
      "before updating n_comp\n",
      "kept n_comp 4\n",
      "before updating n_comp\n",
      "kept n_comp 4\n",
      "before updating n_comp\n",
      "kept n_comp 4\n",
      "before updating n_comp\n",
      "kept n_comp 4\n",
      "before updating n_comp\n",
      "kept n_comp 4\n",
      "before updating n_comp\n",
      "kept n_comp 4\n",
      "before updating n_comp\n",
      "kept n_comp 4\n",
      "before updating n_comp\n",
      "kept n_comp 4\n",
      "before updating n_comp\n",
      "kept n_comp 4\n",
      "before updating n_comp\n",
      "kept n_comp 4\n",
      "before updating n_comp\n",
      "kept n_comp 3\n",
      "before updating n_comp\n",
      "kept n_comp 3\n",
      "before updating n_comp\n",
      "kept n_comp 3\n",
      "before updating n_comp\n",
      "kept n_comp 3\n",
      "before updating n_comp\n",
      "kept n_comp 3\n",
      "before updating n_comp\n",
      "kept n_comp 3\n",
      "before updating n_comp\n",
      "kept n_comp 3\n",
      "before updating n_comp\n",
      "kept n_comp 3\n",
      "before updating n_comp\n",
      "kept n_comp 3\n",
      "before updating n_comp\n",
      "kept n_comp 3\n",
      "before updating n_comp\n",
      "kept n_comp 3\n",
      "before updating n_comp\n",
      "kept n_comp 3\n",
      "before updating n_comp\n",
      "kept n_comp 3\n",
      "before updating n_comp\n",
      "kept n_comp 3\n",
      "before updating n_comp\n",
      "kept n_comp 3\n",
      "before updating n_comp\n",
      "kept n_comp 3\n",
      "before updating n_comp\n",
      "kept n_comp 3\n",
      "before updating n_comp\n",
      "kept n_comp 3\n",
      "before updating n_comp\n",
      "kept n_comp 3\n",
      "before updating n_comp\n",
      "kept n_comp 3\n",
      "before updating n_comp\n",
      "kept n_comp 3\n",
      "before updating n_comp\n",
      "kept n_comp 3\n",
      "before updating n_comp\n",
      "kept n_comp 3\n",
      "before updating n_comp\n",
      "kept n_comp 3\n",
      "before updating n_comp\n",
      "kept n_comp 4\n",
      "before updating n_comp\n",
      "kept n_comp 4\n",
      "before updating n_comp\n",
      "kept n_comp 4\n",
      "before updating n_comp\n",
      "kept n_comp 4\n",
      "before updating n_comp\n",
      "kept n_comp 4\n",
      "before updating n_comp\n",
      "kept n_comp 4\n",
      "before updating n_comp\n",
      "kept n_comp 4\n",
      "before updating n_comp\n",
      "kept n_comp 4\n",
      "before updating n_comp\n",
      "kept n_comp 4\n",
      "before updating n_comp\n",
      "kept n_comp 4\n",
      "before updating n_comp\n",
      "kept n_comp 4\n",
      "before updating n_comp\n",
      "kept n_comp 4\n",
      "before updating n_comp\n",
      "kept n_comp 4\n",
      "before updating n_comp\n",
      "kept n_comp 4\n",
      "before updating n_comp\n",
      "kept n_comp 4\n",
      "before updating n_comp\n",
      "kept n_comp 4\n",
      "before updating n_comp\n",
      "kept n_comp 4\n",
      "before updating n_comp\n",
      "kept n_comp 4\n",
      "before updating n_comp\n",
      "kept n_comp 4\n",
      "before updating n_comp\n",
      "kept n_comp 4\n",
      "before updating n_comp\n",
      "kept n_comp 4\n",
      "before updating n_comp\n",
      "kept n_comp 4\n",
      "before updating n_comp\n",
      "kept n_comp 4\n",
      "before updating n_comp\n",
      "kept n_comp 4\n",
      "before updating n_comp\n",
      "after updating n_comp\n",
      "before updating n_comp\n",
      "after updating n_comp\n",
      "before updating n_comp\n",
      "after updating n_comp\n",
      "before updating n_comp\n",
      "after updating n_comp\n",
      "before updating n_comp\n",
      "after updating n_comp\n",
      "before updating n_comp\n",
      "after updating n_comp\n",
      "before updating n_comp\n",
      "after updating n_comp\n",
      "before updating n_comp\n",
      "after updating n_comp\n",
      "before updating n_comp\n",
      "after updating n_comp\n",
      "before updating n_comp\n",
      "after updating n_comp\n",
      "before updating n_comp\n",
      "after updating n_comp\n",
      "before updating n_comp\n",
      "after updating n_comp\n",
      "before updating n_comp\n",
      "after updating n_comp\n",
      "before updating n_comp\n",
      "after updating n_comp\n",
      "before updating n_comp\n",
      "after updating n_comp\n",
      "before updating n_comp\n",
      "after updating n_comp\n",
      "before updating n_comp\n",
      "after updating n_comp\n",
      "before updating n_comp\n",
      "after updating n_comp\n",
      "before updating n_comp\n",
      "after updating n_comp\n",
      "before updating n_comp\n",
      "after updating n_comp\n",
      "before updating n_comp\n",
      "after updating n_comp\n",
      "End time - Start time = 139.1857419013977\n"
     ]
    }
   ],
   "source": [
    "Mtree['plsr'] = build_tree_for ('plsr')"
   ]
  },
  {
   "cell_type": "markdown",
   "id": "86e6ce3a",
   "metadata": {},
   "source": [
    "### Multiple Linear Regression Branch"
   ]
  },
  {
   "cell_type": "code",
   "execution_count": 153,
   "id": "b02641a6",
   "metadata": {},
   "outputs": [
    {
     "name": "stdout",
     "output_type": "stream",
     "text": [
      "tree for: mult ------> running on: sand\n",
      "tree for: mult ------> running on: silt\n",
      "tree for: mult ------> running on: clay\n",
      "tree for: mult ------> running on: TOC\n",
      "End time - Start time = 44.405115365982056\n"
     ]
    }
   ],
   "source": [
    "Mtree['mult'] = build_tree_for ('mult')"
   ]
  },
  {
   "cell_type": "markdown",
   "id": "4b9d0acc",
   "metadata": {},
   "source": [
    "\n",
    "### Random Forest Branch"
   ]
  },
  {
   "cell_type": "code",
   "execution_count": 96,
   "id": "867391a0",
   "metadata": {},
   "outputs": [
    {
     "name": "stdout",
     "output_type": "stream",
     "text": [
      "tree for randomforest running on sand\n",
      "tree for randomforest running on silt\n",
      "tree for randomforest running on clay\n",
      "tree for randomforest running on TOC\n",
      "End time - Start time = 416.72732949256897\n"
     ]
    }
   ],
   "source": [
    "Mtree['randomforest'] = build_tree_for ('randomforest')"
   ]
  },
  {
   "cell_type": "markdown",
   "id": "3a4358d9",
   "metadata": {},
   "source": [
    "### SVM Branch"
   ]
  },
  {
   "cell_type": "code",
   "execution_count": 97,
   "id": "3bfe29be",
   "metadata": {},
   "outputs": [
    {
     "name": "stdout",
     "output_type": "stream",
     "text": [
      "tree for svr running on sand\n",
      "tree for svr running on silt\n",
      "tree for svr running on clay\n",
      "tree for svr running on TOC\n",
      "End time - Start time = 65.59491395950317\n"
     ]
    }
   ],
   "source": [
    "Mtree['svr'] = build_tree_for ('svr')"
   ]
  },
  {
   "cell_type": "markdown",
   "id": "e5e189c3",
   "metadata": {},
   "source": [
    "### GBRT Branch"
   ]
  },
  {
   "cell_type": "code",
   "execution_count": 98,
   "id": "e6139101",
   "metadata": {},
   "outputs": [
    {
     "name": "stdout",
     "output_type": "stream",
     "text": [
      "tree for gbrt running on sand\n",
      "tree for gbrt running on silt\n",
      "tree for gbrt running on clay\n",
      "tree for gbrt running on TOC\n",
      "End time - Start time = 244.625981092453\n"
     ]
    }
   ],
   "source": [
    "Mtree['gbrt'] = build_tree_for ('gbrt')"
   ]
  },
  {
   "cell_type": "markdown",
   "id": "32ff0fb2",
   "metadata": {},
   "source": [
    "### Ridge Regression Branch"
   ]
  },
  {
   "cell_type": "code",
   "execution_count": 99,
   "id": "93db53ce",
   "metadata": {},
   "outputs": [
    {
     "name": "stdout",
     "output_type": "stream",
     "text": [
      "tree for ridge running on sand\n",
      "tree for ridge running on silt\n",
      "tree for ridge running on clay\n",
      "tree for ridge running on TOC\n",
      "End time - Start time = 30.412766933441162\n"
     ]
    }
   ],
   "source": [
    "Mtree['ridge'] = build_tree_for ('ridge')"
   ]
  },
  {
   "cell_type": "markdown",
   "id": "fee13435",
   "metadata": {},
   "source": [
    "### Cubist Branch"
   ]
  },
  {
   "cell_type": "code",
   "execution_count": 100,
   "id": "062e07b1",
   "metadata": {},
   "outputs": [
    {
     "name": "stdout",
     "output_type": "stream",
     "text": [
      "tree for cubist running on sand\n"
     ]
    },
    {
     "name": "stderr",
     "output_type": "stream",
     "text": [
      "C:\\Users\\abhis\\anaconda3\\envs\\RP_Env\\lib\\site-packages\\cubist\\_quinlan_attributes.py:67: FutureWarning: iteritems is deprecated and will be removed in a future version. Use .items instead.\n",
      "  return {col_name: _get_data_format(col_data) for col_name, col_data in df.iteritems()}\n",
      "C:\\Users\\abhis\\anaconda3\\envs\\RP_Env\\lib\\site-packages\\cubist\\_quinlan_attributes.py:67: FutureWarning: iteritems is deprecated and will be removed in a future version. Use .items instead.\n",
      "  return {col_name: _get_data_format(col_data) for col_name, col_data in df.iteritems()}\n",
      "C:\\Users\\abhis\\anaconda3\\envs\\RP_Env\\lib\\site-packages\\cubist\\_quinlan_attributes.py:67: FutureWarning: iteritems is deprecated and will be removed in a future version. Use .items instead.\n",
      "  return {col_name: _get_data_format(col_data) for col_name, col_data in df.iteritems()}\n",
      "C:\\Users\\abhis\\anaconda3\\envs\\RP_Env\\lib\\site-packages\\cubist\\_quinlan_attributes.py:67: FutureWarning: iteritems is deprecated and will be removed in a future version. Use .items instead.\n",
      "  return {col_name: _get_data_format(col_data) for col_name, col_data in df.iteritems()}\n",
      "C:\\Users\\abhis\\anaconda3\\envs\\RP_Env\\lib\\site-packages\\cubist\\_quinlan_attributes.py:67: FutureWarning: iteritems is deprecated and will be removed in a future version. Use .items instead.\n",
      "  return {col_name: _get_data_format(col_data) for col_name, col_data in df.iteritems()}\n",
      "C:\\Users\\abhis\\anaconda3\\envs\\RP_Env\\lib\\site-packages\\cubist\\_quinlan_attributes.py:67: FutureWarning: iteritems is deprecated and will be removed in a future version. Use .items instead.\n",
      "  return {col_name: _get_data_format(col_data) for col_name, col_data in df.iteritems()}\n",
      "C:\\Users\\abhis\\anaconda3\\envs\\RP_Env\\lib\\site-packages\\cubist\\_quinlan_attributes.py:67: FutureWarning: iteritems is deprecated and will be removed in a future version. Use .items instead.\n",
      "  return {col_name: _get_data_format(col_data) for col_name, col_data in df.iteritems()}\n",
      "C:\\Users\\abhis\\anaconda3\\envs\\RP_Env\\lib\\site-packages\\cubist\\_quinlan_attributes.py:67: FutureWarning: iteritems is deprecated and will be removed in a future version. Use .items instead.\n",
      "  return {col_name: _get_data_format(col_data) for col_name, col_data in df.iteritems()}\n",
      "C:\\Users\\abhis\\anaconda3\\envs\\RP_Env\\lib\\site-packages\\cubist\\_quinlan_attributes.py:67: FutureWarning: iteritems is deprecated and will be removed in a future version. Use .items instead.\n",
      "  return {col_name: _get_data_format(col_data) for col_name, col_data in df.iteritems()}\n",
      "C:\\Users\\abhis\\anaconda3\\envs\\RP_Env\\lib\\site-packages\\cubist\\_quinlan_attributes.py:67: FutureWarning: iteritems is deprecated and will be removed in a future version. Use .items instead.\n",
      "  return {col_name: _get_data_format(col_data) for col_name, col_data in df.iteritems()}\n",
      "C:\\Users\\abhis\\anaconda3\\envs\\RP_Env\\lib\\site-packages\\cubist\\_quinlan_attributes.py:67: FutureWarning: iteritems is deprecated and will be removed in a future version. Use .items instead.\n",
      "  return {col_name: _get_data_format(col_data) for col_name, col_data in df.iteritems()}\n",
      "C:\\Users\\abhis\\anaconda3\\envs\\RP_Env\\lib\\site-packages\\cubist\\_quinlan_attributes.py:67: FutureWarning: iteritems is deprecated and will be removed in a future version. Use .items instead.\n",
      "  return {col_name: _get_data_format(col_data) for col_name, col_data in df.iteritems()}\n",
      "C:\\Users\\abhis\\anaconda3\\envs\\RP_Env\\lib\\site-packages\\cubist\\_quinlan_attributes.py:67: FutureWarning: iteritems is deprecated and will be removed in a future version. Use .items instead.\n",
      "  return {col_name: _get_data_format(col_data) for col_name, col_data in df.iteritems()}\n",
      "C:\\Users\\abhis\\anaconda3\\envs\\RP_Env\\lib\\site-packages\\cubist\\_quinlan_attributes.py:67: FutureWarning: iteritems is deprecated and will be removed in a future version. Use .items instead.\n",
      "  return {col_name: _get_data_format(col_data) for col_name, col_data in df.iteritems()}\n",
      "C:\\Users\\abhis\\anaconda3\\envs\\RP_Env\\lib\\site-packages\\cubist\\_quinlan_attributes.py:67: FutureWarning: iteritems is deprecated and will be removed in a future version. Use .items instead.\n",
      "  return {col_name: _get_data_format(col_data) for col_name, col_data in df.iteritems()}\n",
      "C:\\Users\\abhis\\anaconda3\\envs\\RP_Env\\lib\\site-packages\\cubist\\_quinlan_attributes.py:67: FutureWarning: iteritems is deprecated and will be removed in a future version. Use .items instead.\n",
      "  return {col_name: _get_data_format(col_data) for col_name, col_data in df.iteritems()}\n",
      "C:\\Users\\abhis\\anaconda3\\envs\\RP_Env\\lib\\site-packages\\cubist\\_quinlan_attributes.py:67: FutureWarning: iteritems is deprecated and will be removed in a future version. Use .items instead.\n",
      "  return {col_name: _get_data_format(col_data) for col_name, col_data in df.iteritems()}\n",
      "C:\\Users\\abhis\\anaconda3\\envs\\RP_Env\\lib\\site-packages\\cubist\\_quinlan_attributes.py:67: FutureWarning: iteritems is deprecated and will be removed in a future version. Use .items instead.\n",
      "  return {col_name: _get_data_format(col_data) for col_name, col_data in df.iteritems()}\n",
      "C:\\Users\\abhis\\anaconda3\\envs\\RP_Env\\lib\\site-packages\\cubist\\_quinlan_attributes.py:67: FutureWarning: iteritems is deprecated and will be removed in a future version. Use .items instead.\n",
      "  return {col_name: _get_data_format(col_data) for col_name, col_data in df.iteritems()}\n",
      "C:\\Users\\abhis\\anaconda3\\envs\\RP_Env\\lib\\site-packages\\cubist\\_quinlan_attributes.py:67: FutureWarning: iteritems is deprecated and will be removed in a future version. Use .items instead.\n",
      "  return {col_name: _get_data_format(col_data) for col_name, col_data in df.iteritems()}\n",
      "C:\\Users\\abhis\\anaconda3\\envs\\RP_Env\\lib\\site-packages\\cubist\\_quinlan_attributes.py:67: FutureWarning: iteritems is deprecated and will be removed in a future version. Use .items instead.\n",
      "  return {col_name: _get_data_format(col_data) for col_name, col_data in df.iteritems()}\n",
      "C:\\Users\\abhis\\anaconda3\\envs\\RP_Env\\lib\\site-packages\\cubist\\_quinlan_attributes.py:67: FutureWarning: iteritems is deprecated and will be removed in a future version. Use .items instead.\n",
      "  return {col_name: _get_data_format(col_data) for col_name, col_data in df.iteritems()}\n",
      "C:\\Users\\abhis\\anaconda3\\envs\\RP_Env\\lib\\site-packages\\cubist\\_quinlan_attributes.py:67: FutureWarning: iteritems is deprecated and will be removed in a future version. Use .items instead.\n",
      "  return {col_name: _get_data_format(col_data) for col_name, col_data in df.iteritems()}\n",
      "C:\\Users\\abhis\\anaconda3\\envs\\RP_Env\\lib\\site-packages\\cubist\\_quinlan_attributes.py:67: FutureWarning: iteritems is deprecated and will be removed in a future version. Use .items instead.\n",
      "  return {col_name: _get_data_format(col_data) for col_name, col_data in df.iteritems()}\n",
      "C:\\Users\\abhis\\anaconda3\\envs\\RP_Env\\lib\\site-packages\\cubist\\_quinlan_attributes.py:67: FutureWarning: iteritems is deprecated and will be removed in a future version. Use .items instead.\n",
      "  return {col_name: _get_data_format(col_data) for col_name, col_data in df.iteritems()}\n",
      "C:\\Users\\abhis\\anaconda3\\envs\\RP_Env\\lib\\site-packages\\cubist\\_quinlan_attributes.py:67: FutureWarning: iteritems is deprecated and will be removed in a future version. Use .items instead.\n",
      "  return {col_name: _get_data_format(col_data) for col_name, col_data in df.iteritems()}\n",
      "C:\\Users\\abhis\\anaconda3\\envs\\RP_Env\\lib\\site-packages\\cubist\\_quinlan_attributes.py:67: FutureWarning: iteritems is deprecated and will be removed in a future version. Use .items instead.\n",
      "  return {col_name: _get_data_format(col_data) for col_name, col_data in df.iteritems()}\n",
      "C:\\Users\\abhis\\anaconda3\\envs\\RP_Env\\lib\\site-packages\\cubist\\_quinlan_attributes.py:67: FutureWarning: iteritems is deprecated and will be removed in a future version. Use .items instead.\n",
      "  return {col_name: _get_data_format(col_data) for col_name, col_data in df.iteritems()}\n",
      "C:\\Users\\abhis\\anaconda3\\envs\\RP_Env\\lib\\site-packages\\cubist\\_quinlan_attributes.py:67: FutureWarning: iteritems is deprecated and will be removed in a future version. Use .items instead.\n",
      "  return {col_name: _get_data_format(col_data) for col_name, col_data in df.iteritems()}\n",
      "C:\\Users\\abhis\\anaconda3\\envs\\RP_Env\\lib\\site-packages\\cubist\\_quinlan_attributes.py:67: FutureWarning: iteritems is deprecated and will be removed in a future version. Use .items instead.\n",
      "  return {col_name: _get_data_format(col_data) for col_name, col_data in df.iteritems()}\n",
      "C:\\Users\\abhis\\anaconda3\\envs\\RP_Env\\lib\\site-packages\\cubist\\_quinlan_attributes.py:67: FutureWarning: iteritems is deprecated and will be removed in a future version. Use .items instead.\n",
      "  return {col_name: _get_data_format(col_data) for col_name, col_data in df.iteritems()}\n"
     ]
    },
    {
     "name": "stderr",
     "output_type": "stream",
     "text": [
      "C:\\Users\\abhis\\anaconda3\\envs\\RP_Env\\lib\\site-packages\\cubist\\_quinlan_attributes.py:67: FutureWarning: iteritems is deprecated and will be removed in a future version. Use .items instead.\n",
      "  return {col_name: _get_data_format(col_data) for col_name, col_data in df.iteritems()}\n",
      "C:\\Users\\abhis\\anaconda3\\envs\\RP_Env\\lib\\site-packages\\cubist\\_quinlan_attributes.py:67: FutureWarning: iteritems is deprecated and will be removed in a future version. Use .items instead.\n",
      "  return {col_name: _get_data_format(col_data) for col_name, col_data in df.iteritems()}\n",
      "C:\\Users\\abhis\\anaconda3\\envs\\RP_Env\\lib\\site-packages\\cubist\\_quinlan_attributes.py:67: FutureWarning: iteritems is deprecated and will be removed in a future version. Use .items instead.\n",
      "  return {col_name: _get_data_format(col_data) for col_name, col_data in df.iteritems()}\n",
      "C:\\Users\\abhis\\anaconda3\\envs\\RP_Env\\lib\\site-packages\\cubist\\_quinlan_attributes.py:67: FutureWarning: iteritems is deprecated and will be removed in a future version. Use .items instead.\n",
      "  return {col_name: _get_data_format(col_data) for col_name, col_data in df.iteritems()}\n",
      "C:\\Users\\abhis\\anaconda3\\envs\\RP_Env\\lib\\site-packages\\cubist\\_quinlan_attributes.py:67: FutureWarning: iteritems is deprecated and will be removed in a future version. Use .items instead.\n",
      "  return {col_name: _get_data_format(col_data) for col_name, col_data in df.iteritems()}\n",
      "C:\\Users\\abhis\\anaconda3\\envs\\RP_Env\\lib\\site-packages\\cubist\\_quinlan_attributes.py:67: FutureWarning: iteritems is deprecated and will be removed in a future version. Use .items instead.\n",
      "  return {col_name: _get_data_format(col_data) for col_name, col_data in df.iteritems()}\n",
      "C:\\Users\\abhis\\anaconda3\\envs\\RP_Env\\lib\\site-packages\\cubist\\_quinlan_attributes.py:67: FutureWarning: iteritems is deprecated and will be removed in a future version. Use .items instead.\n",
      "  return {col_name: _get_data_format(col_data) for col_name, col_data in df.iteritems()}\n",
      "C:\\Users\\abhis\\anaconda3\\envs\\RP_Env\\lib\\site-packages\\cubist\\_quinlan_attributes.py:67: FutureWarning: iteritems is deprecated and will be removed in a future version. Use .items instead.\n",
      "  return {col_name: _get_data_format(col_data) for col_name, col_data in df.iteritems()}\n",
      "C:\\Users\\abhis\\anaconda3\\envs\\RP_Env\\lib\\site-packages\\cubist\\_quinlan_attributes.py:67: FutureWarning: iteritems is deprecated and will be removed in a future version. Use .items instead.\n",
      "  return {col_name: _get_data_format(col_data) for col_name, col_data in df.iteritems()}\n",
      "C:\\Users\\abhis\\anaconda3\\envs\\RP_Env\\lib\\site-packages\\cubist\\_quinlan_attributes.py:67: FutureWarning: iteritems is deprecated and will be removed in a future version. Use .items instead.\n",
      "  return {col_name: _get_data_format(col_data) for col_name, col_data in df.iteritems()}\n",
      "C:\\Users\\abhis\\anaconda3\\envs\\RP_Env\\lib\\site-packages\\cubist\\_quinlan_attributes.py:67: FutureWarning: iteritems is deprecated and will be removed in a future version. Use .items instead.\n",
      "  return {col_name: _get_data_format(col_data) for col_name, col_data in df.iteritems()}\n",
      "C:\\Users\\abhis\\anaconda3\\envs\\RP_Env\\lib\\site-packages\\cubist\\_quinlan_attributes.py:67: FutureWarning: iteritems is deprecated and will be removed in a future version. Use .items instead.\n",
      "  return {col_name: _get_data_format(col_data) for col_name, col_data in df.iteritems()}\n",
      "C:\\Users\\abhis\\anaconda3\\envs\\RP_Env\\lib\\site-packages\\cubist\\_quinlan_attributes.py:67: FutureWarning: iteritems is deprecated and will be removed in a future version. Use .items instead.\n",
      "  return {col_name: _get_data_format(col_data) for col_name, col_data in df.iteritems()}\n",
      "C:\\Users\\abhis\\anaconda3\\envs\\RP_Env\\lib\\site-packages\\cubist\\_quinlan_attributes.py:67: FutureWarning: iteritems is deprecated and will be removed in a future version. Use .items instead.\n",
      "  return {col_name: _get_data_format(col_data) for col_name, col_data in df.iteritems()}\n",
      "C:\\Users\\abhis\\anaconda3\\envs\\RP_Env\\lib\\site-packages\\cubist\\_quinlan_attributes.py:67: FutureWarning: iteritems is deprecated and will be removed in a future version. Use .items instead.\n",
      "  return {col_name: _get_data_format(col_data) for col_name, col_data in df.iteritems()}\n",
      "C:\\Users\\abhis\\anaconda3\\envs\\RP_Env\\lib\\site-packages\\cubist\\_quinlan_attributes.py:67: FutureWarning: iteritems is deprecated and will be removed in a future version. Use .items instead.\n",
      "  return {col_name: _get_data_format(col_data) for col_name, col_data in df.iteritems()}\n",
      "C:\\Users\\abhis\\anaconda3\\envs\\RP_Env\\lib\\site-packages\\cubist\\_quinlan_attributes.py:67: FutureWarning: iteritems is deprecated and will be removed in a future version. Use .items instead.\n",
      "  return {col_name: _get_data_format(col_data) for col_name, col_data in df.iteritems()}\n"
     ]
    },
    {
     "name": "stdout",
     "output_type": "stream",
     "text": [
      "tree for cubist running on silt\n"
     ]
    },
    {
     "name": "stderr",
     "output_type": "stream",
     "text": [
      "C:\\Users\\abhis\\anaconda3\\envs\\RP_Env\\lib\\site-packages\\cubist\\_quinlan_attributes.py:67: FutureWarning: iteritems is deprecated and will be removed in a future version. Use .items instead.\n",
      "  return {col_name: _get_data_format(col_data) for col_name, col_data in df.iteritems()}\n",
      "C:\\Users\\abhis\\anaconda3\\envs\\RP_Env\\lib\\site-packages\\cubist\\_quinlan_attributes.py:67: FutureWarning: iteritems is deprecated and will be removed in a future version. Use .items instead.\n",
      "  return {col_name: _get_data_format(col_data) for col_name, col_data in df.iteritems()}\n",
      "C:\\Users\\abhis\\anaconda3\\envs\\RP_Env\\lib\\site-packages\\cubist\\_quinlan_attributes.py:67: FutureWarning: iteritems is deprecated and will be removed in a future version. Use .items instead.\n",
      "  return {col_name: _get_data_format(col_data) for col_name, col_data in df.iteritems()}\n",
      "C:\\Users\\abhis\\anaconda3\\envs\\RP_Env\\lib\\site-packages\\cubist\\_quinlan_attributes.py:67: FutureWarning: iteritems is deprecated and will be removed in a future version. Use .items instead.\n",
      "  return {col_name: _get_data_format(col_data) for col_name, col_data in df.iteritems()}\n",
      "C:\\Users\\abhis\\anaconda3\\envs\\RP_Env\\lib\\site-packages\\cubist\\_quinlan_attributes.py:67: FutureWarning: iteritems is deprecated and will be removed in a future version. Use .items instead.\n",
      "  return {col_name: _get_data_format(col_data) for col_name, col_data in df.iteritems()}\n",
      "C:\\Users\\abhis\\anaconda3\\envs\\RP_Env\\lib\\site-packages\\cubist\\_quinlan_attributes.py:67: FutureWarning: iteritems is deprecated and will be removed in a future version. Use .items instead.\n",
      "  return {col_name: _get_data_format(col_data) for col_name, col_data in df.iteritems()}\n",
      "C:\\Users\\abhis\\anaconda3\\envs\\RP_Env\\lib\\site-packages\\cubist\\_quinlan_attributes.py:67: FutureWarning: iteritems is deprecated and will be removed in a future version. Use .items instead.\n",
      "  return {col_name: _get_data_format(col_data) for col_name, col_data in df.iteritems()}\n",
      "C:\\Users\\abhis\\anaconda3\\envs\\RP_Env\\lib\\site-packages\\cubist\\_quinlan_attributes.py:67: FutureWarning: iteritems is deprecated and will be removed in a future version. Use .items instead.\n",
      "  return {col_name: _get_data_format(col_data) for col_name, col_data in df.iteritems()}\n",
      "C:\\Users\\abhis\\anaconda3\\envs\\RP_Env\\lib\\site-packages\\cubist\\_quinlan_attributes.py:67: FutureWarning: iteritems is deprecated and will be removed in a future version. Use .items instead.\n",
      "  return {col_name: _get_data_format(col_data) for col_name, col_data in df.iteritems()}\n",
      "C:\\Users\\abhis\\anaconda3\\envs\\RP_Env\\lib\\site-packages\\cubist\\_quinlan_attributes.py:67: FutureWarning: iteritems is deprecated and will be removed in a future version. Use .items instead.\n",
      "  return {col_name: _get_data_format(col_data) for col_name, col_data in df.iteritems()}\n",
      "C:\\Users\\abhis\\anaconda3\\envs\\RP_Env\\lib\\site-packages\\cubist\\_quinlan_attributes.py:67: FutureWarning: iteritems is deprecated and will be removed in a future version. Use .items instead.\n",
      "  return {col_name: _get_data_format(col_data) for col_name, col_data in df.iteritems()}\n",
      "C:\\Users\\abhis\\anaconda3\\envs\\RP_Env\\lib\\site-packages\\cubist\\_quinlan_attributes.py:67: FutureWarning: iteritems is deprecated and will be removed in a future version. Use .items instead.\n",
      "  return {col_name: _get_data_format(col_data) for col_name, col_data in df.iteritems()}\n",
      "C:\\Users\\abhis\\anaconda3\\envs\\RP_Env\\lib\\site-packages\\cubist\\_quinlan_attributes.py:67: FutureWarning: iteritems is deprecated and will be removed in a future version. Use .items instead.\n",
      "  return {col_name: _get_data_format(col_data) for col_name, col_data in df.iteritems()}\n",
      "C:\\Users\\abhis\\anaconda3\\envs\\RP_Env\\lib\\site-packages\\cubist\\_quinlan_attributes.py:67: FutureWarning: iteritems is deprecated and will be removed in a future version. Use .items instead.\n",
      "  return {col_name: _get_data_format(col_data) for col_name, col_data in df.iteritems()}\n",
      "C:\\Users\\abhis\\anaconda3\\envs\\RP_Env\\lib\\site-packages\\cubist\\_quinlan_attributes.py:67: FutureWarning: iteritems is deprecated and will be removed in a future version. Use .items instead.\n",
      "  return {col_name: _get_data_format(col_data) for col_name, col_data in df.iteritems()}\n",
      "C:\\Users\\abhis\\anaconda3\\envs\\RP_Env\\lib\\site-packages\\cubist\\_quinlan_attributes.py:67: FutureWarning: iteritems is deprecated and will be removed in a future version. Use .items instead.\n",
      "  return {col_name: _get_data_format(col_data) for col_name, col_data in df.iteritems()}\n",
      "C:\\Users\\abhis\\anaconda3\\envs\\RP_Env\\lib\\site-packages\\cubist\\_quinlan_attributes.py:67: FutureWarning: iteritems is deprecated and will be removed in a future version. Use .items instead.\n",
      "  return {col_name: _get_data_format(col_data) for col_name, col_data in df.iteritems()}\n",
      "C:\\Users\\abhis\\anaconda3\\envs\\RP_Env\\lib\\site-packages\\cubist\\_quinlan_attributes.py:67: FutureWarning: iteritems is deprecated and will be removed in a future version. Use .items instead.\n",
      "  return {col_name: _get_data_format(col_data) for col_name, col_data in df.iteritems()}\n",
      "C:\\Users\\abhis\\anaconda3\\envs\\RP_Env\\lib\\site-packages\\cubist\\_quinlan_attributes.py:67: FutureWarning: iteritems is deprecated and will be removed in a future version. Use .items instead.\n",
      "  return {col_name: _get_data_format(col_data) for col_name, col_data in df.iteritems()}\n",
      "C:\\Users\\abhis\\anaconda3\\envs\\RP_Env\\lib\\site-packages\\cubist\\_quinlan_attributes.py:67: FutureWarning: iteritems is deprecated and will be removed in a future version. Use .items instead.\n",
      "  return {col_name: _get_data_format(col_data) for col_name, col_data in df.iteritems()}\n",
      "C:\\Users\\abhis\\anaconda3\\envs\\RP_Env\\lib\\site-packages\\cubist\\_quinlan_attributes.py:67: FutureWarning: iteritems is deprecated and will be removed in a future version. Use .items instead.\n",
      "  return {col_name: _get_data_format(col_data) for col_name, col_data in df.iteritems()}\n",
      "C:\\Users\\abhis\\anaconda3\\envs\\RP_Env\\lib\\site-packages\\cubist\\_quinlan_attributes.py:67: FutureWarning: iteritems is deprecated and will be removed in a future version. Use .items instead.\n",
      "  return {col_name: _get_data_format(col_data) for col_name, col_data in df.iteritems()}\n",
      "C:\\Users\\abhis\\anaconda3\\envs\\RP_Env\\lib\\site-packages\\cubist\\_quinlan_attributes.py:67: FutureWarning: iteritems is deprecated and will be removed in a future version. Use .items instead.\n",
      "  return {col_name: _get_data_format(col_data) for col_name, col_data in df.iteritems()}\n",
      "C:\\Users\\abhis\\anaconda3\\envs\\RP_Env\\lib\\site-packages\\cubist\\_quinlan_attributes.py:67: FutureWarning: iteritems is deprecated and will be removed in a future version. Use .items instead.\n",
      "  return {col_name: _get_data_format(col_data) for col_name, col_data in df.iteritems()}\n",
      "C:\\Users\\abhis\\anaconda3\\envs\\RP_Env\\lib\\site-packages\\cubist\\_quinlan_attributes.py:67: FutureWarning: iteritems is deprecated and will be removed in a future version. Use .items instead.\n",
      "  return {col_name: _get_data_format(col_data) for col_name, col_data in df.iteritems()}\n",
      "C:\\Users\\abhis\\anaconda3\\envs\\RP_Env\\lib\\site-packages\\cubist\\_quinlan_attributes.py:67: FutureWarning: iteritems is deprecated and will be removed in a future version. Use .items instead.\n",
      "  return {col_name: _get_data_format(col_data) for col_name, col_data in df.iteritems()}\n",
      "C:\\Users\\abhis\\anaconda3\\envs\\RP_Env\\lib\\site-packages\\cubist\\_quinlan_attributes.py:67: FutureWarning: iteritems is deprecated and will be removed in a future version. Use .items instead.\n",
      "  return {col_name: _get_data_format(col_data) for col_name, col_data in df.iteritems()}\n",
      "C:\\Users\\abhis\\anaconda3\\envs\\RP_Env\\lib\\site-packages\\cubist\\_quinlan_attributes.py:67: FutureWarning: iteritems is deprecated and will be removed in a future version. Use .items instead.\n",
      "  return {col_name: _get_data_format(col_data) for col_name, col_data in df.iteritems()}\n",
      "C:\\Users\\abhis\\anaconda3\\envs\\RP_Env\\lib\\site-packages\\cubist\\_quinlan_attributes.py:67: FutureWarning: iteritems is deprecated and will be removed in a future version. Use .items instead.\n",
      "  return {col_name: _get_data_format(col_data) for col_name, col_data in df.iteritems()}\n",
      "C:\\Users\\abhis\\anaconda3\\envs\\RP_Env\\lib\\site-packages\\cubist\\_quinlan_attributes.py:67: FutureWarning: iteritems is deprecated and will be removed in a future version. Use .items instead.\n",
      "  return {col_name: _get_data_format(col_data) for col_name, col_data in df.iteritems()}\n"
     ]
    },
    {
     "name": "stderr",
     "output_type": "stream",
     "text": [
      "C:\\Users\\abhis\\anaconda3\\envs\\RP_Env\\lib\\site-packages\\cubist\\_quinlan_attributes.py:67: FutureWarning: iteritems is deprecated and will be removed in a future version. Use .items instead.\n",
      "  return {col_name: _get_data_format(col_data) for col_name, col_data in df.iteritems()}\n",
      "C:\\Users\\abhis\\anaconda3\\envs\\RP_Env\\lib\\site-packages\\cubist\\_quinlan_attributes.py:67: FutureWarning: iteritems is deprecated and will be removed in a future version. Use .items instead.\n",
      "  return {col_name: _get_data_format(col_data) for col_name, col_data in df.iteritems()}\n",
      "C:\\Users\\abhis\\anaconda3\\envs\\RP_Env\\lib\\site-packages\\cubist\\_quinlan_attributes.py:67: FutureWarning: iteritems is deprecated and will be removed in a future version. Use .items instead.\n",
      "  return {col_name: _get_data_format(col_data) for col_name, col_data in df.iteritems()}\n",
      "C:\\Users\\abhis\\anaconda3\\envs\\RP_Env\\lib\\site-packages\\cubist\\_quinlan_attributes.py:67: FutureWarning: iteritems is deprecated and will be removed in a future version. Use .items instead.\n",
      "  return {col_name: _get_data_format(col_data) for col_name, col_data in df.iteritems()}\n",
      "C:\\Users\\abhis\\anaconda3\\envs\\RP_Env\\lib\\site-packages\\cubist\\_quinlan_attributes.py:67: FutureWarning: iteritems is deprecated and will be removed in a future version. Use .items instead.\n",
      "  return {col_name: _get_data_format(col_data) for col_name, col_data in df.iteritems()}\n",
      "C:\\Users\\abhis\\anaconda3\\envs\\RP_Env\\lib\\site-packages\\cubist\\_quinlan_attributes.py:67: FutureWarning: iteritems is deprecated and will be removed in a future version. Use .items instead.\n",
      "  return {col_name: _get_data_format(col_data) for col_name, col_data in df.iteritems()}\n",
      "C:\\Users\\abhis\\anaconda3\\envs\\RP_Env\\lib\\site-packages\\cubist\\_quinlan_attributes.py:67: FutureWarning: iteritems is deprecated and will be removed in a future version. Use .items instead.\n",
      "  return {col_name: _get_data_format(col_data) for col_name, col_data in df.iteritems()}\n",
      "C:\\Users\\abhis\\anaconda3\\envs\\RP_Env\\lib\\site-packages\\cubist\\_quinlan_attributes.py:67: FutureWarning: iteritems is deprecated and will be removed in a future version. Use .items instead.\n",
      "  return {col_name: _get_data_format(col_data) for col_name, col_data in df.iteritems()}\n",
      "C:\\Users\\abhis\\anaconda3\\envs\\RP_Env\\lib\\site-packages\\cubist\\_quinlan_attributes.py:67: FutureWarning: iteritems is deprecated and will be removed in a future version. Use .items instead.\n",
      "  return {col_name: _get_data_format(col_data) for col_name, col_data in df.iteritems()}\n",
      "C:\\Users\\abhis\\anaconda3\\envs\\RP_Env\\lib\\site-packages\\cubist\\_quinlan_attributes.py:67: FutureWarning: iteritems is deprecated and will be removed in a future version. Use .items instead.\n",
      "  return {col_name: _get_data_format(col_data) for col_name, col_data in df.iteritems()}\n",
      "C:\\Users\\abhis\\anaconda3\\envs\\RP_Env\\lib\\site-packages\\cubist\\_quinlan_attributes.py:67: FutureWarning: iteritems is deprecated and will be removed in a future version. Use .items instead.\n",
      "  return {col_name: _get_data_format(col_data) for col_name, col_data in df.iteritems()}\n",
      "C:\\Users\\abhis\\anaconda3\\envs\\RP_Env\\lib\\site-packages\\cubist\\_quinlan_attributes.py:67: FutureWarning: iteritems is deprecated and will be removed in a future version. Use .items instead.\n",
      "  return {col_name: _get_data_format(col_data) for col_name, col_data in df.iteritems()}\n",
      "C:\\Users\\abhis\\anaconda3\\envs\\RP_Env\\lib\\site-packages\\cubist\\_quinlan_attributes.py:67: FutureWarning: iteritems is deprecated and will be removed in a future version. Use .items instead.\n",
      "  return {col_name: _get_data_format(col_data) for col_name, col_data in df.iteritems()}\n",
      "C:\\Users\\abhis\\anaconda3\\envs\\RP_Env\\lib\\site-packages\\cubist\\_quinlan_attributes.py:67: FutureWarning: iteritems is deprecated and will be removed in a future version. Use .items instead.\n",
      "  return {col_name: _get_data_format(col_data) for col_name, col_data in df.iteritems()}\n",
      "C:\\Users\\abhis\\anaconda3\\envs\\RP_Env\\lib\\site-packages\\cubist\\_quinlan_attributes.py:67: FutureWarning: iteritems is deprecated and will be removed in a future version. Use .items instead.\n",
      "  return {col_name: _get_data_format(col_data) for col_name, col_data in df.iteritems()}\n",
      "C:\\Users\\abhis\\anaconda3\\envs\\RP_Env\\lib\\site-packages\\cubist\\_quinlan_attributes.py:67: FutureWarning: iteritems is deprecated and will be removed in a future version. Use .items instead.\n",
      "  return {col_name: _get_data_format(col_data) for col_name, col_data in df.iteritems()}\n",
      "C:\\Users\\abhis\\anaconda3\\envs\\RP_Env\\lib\\site-packages\\cubist\\_quinlan_attributes.py:67: FutureWarning: iteritems is deprecated and will be removed in a future version. Use .items instead.\n",
      "  return {col_name: _get_data_format(col_data) for col_name, col_data in df.iteritems()}\n",
      "C:\\Users\\abhis\\anaconda3\\envs\\RP_Env\\lib\\site-packages\\cubist\\_quinlan_attributes.py:67: FutureWarning: iteritems is deprecated and will be removed in a future version. Use .items instead.\n",
      "  return {col_name: _get_data_format(col_data) for col_name, col_data in df.iteritems()}\n"
     ]
    },
    {
     "name": "stdout",
     "output_type": "stream",
     "text": [
      "tree for cubist running on clay\n"
     ]
    },
    {
     "name": "stderr",
     "output_type": "stream",
     "text": [
      "C:\\Users\\abhis\\anaconda3\\envs\\RP_Env\\lib\\site-packages\\cubist\\_quinlan_attributes.py:67: FutureWarning: iteritems is deprecated and will be removed in a future version. Use .items instead.\n",
      "  return {col_name: _get_data_format(col_data) for col_name, col_data in df.iteritems()}\n",
      "C:\\Users\\abhis\\anaconda3\\envs\\RP_Env\\lib\\site-packages\\cubist\\_quinlan_attributes.py:67: FutureWarning: iteritems is deprecated and will be removed in a future version. Use .items instead.\n",
      "  return {col_name: _get_data_format(col_data) for col_name, col_data in df.iteritems()}\n",
      "C:\\Users\\abhis\\anaconda3\\envs\\RP_Env\\lib\\site-packages\\cubist\\_quinlan_attributes.py:67: FutureWarning: iteritems is deprecated and will be removed in a future version. Use .items instead.\n",
      "  return {col_name: _get_data_format(col_data) for col_name, col_data in df.iteritems()}\n",
      "C:\\Users\\abhis\\anaconda3\\envs\\RP_Env\\lib\\site-packages\\cubist\\_quinlan_attributes.py:67: FutureWarning: iteritems is deprecated and will be removed in a future version. Use .items instead.\n",
      "  return {col_name: _get_data_format(col_data) for col_name, col_data in df.iteritems()}\n",
      "C:\\Users\\abhis\\anaconda3\\envs\\RP_Env\\lib\\site-packages\\cubist\\_quinlan_attributes.py:67: FutureWarning: iteritems is deprecated and will be removed in a future version. Use .items instead.\n",
      "  return {col_name: _get_data_format(col_data) for col_name, col_data in df.iteritems()}\n",
      "C:\\Users\\abhis\\anaconda3\\envs\\RP_Env\\lib\\site-packages\\cubist\\_quinlan_attributes.py:67: FutureWarning: iteritems is deprecated and will be removed in a future version. Use .items instead.\n",
      "  return {col_name: _get_data_format(col_data) for col_name, col_data in df.iteritems()}\n",
      "C:\\Users\\abhis\\anaconda3\\envs\\RP_Env\\lib\\site-packages\\cubist\\_quinlan_attributes.py:67: FutureWarning: iteritems is deprecated and will be removed in a future version. Use .items instead.\n",
      "  return {col_name: _get_data_format(col_data) for col_name, col_data in df.iteritems()}\n",
      "C:\\Users\\abhis\\anaconda3\\envs\\RP_Env\\lib\\site-packages\\cubist\\_quinlan_attributes.py:67: FutureWarning: iteritems is deprecated and will be removed in a future version. Use .items instead.\n",
      "  return {col_name: _get_data_format(col_data) for col_name, col_data in df.iteritems()}\n",
      "C:\\Users\\abhis\\anaconda3\\envs\\RP_Env\\lib\\site-packages\\cubist\\_quinlan_attributes.py:67: FutureWarning: iteritems is deprecated and will be removed in a future version. Use .items instead.\n",
      "  return {col_name: _get_data_format(col_data) for col_name, col_data in df.iteritems()}\n",
      "C:\\Users\\abhis\\anaconda3\\envs\\RP_Env\\lib\\site-packages\\cubist\\_quinlan_attributes.py:67: FutureWarning: iteritems is deprecated and will be removed in a future version. Use .items instead.\n",
      "  return {col_name: _get_data_format(col_data) for col_name, col_data in df.iteritems()}\n",
      "C:\\Users\\abhis\\anaconda3\\envs\\RP_Env\\lib\\site-packages\\cubist\\_quinlan_attributes.py:67: FutureWarning: iteritems is deprecated and will be removed in a future version. Use .items instead.\n",
      "  return {col_name: _get_data_format(col_data) for col_name, col_data in df.iteritems()}\n",
      "C:\\Users\\abhis\\anaconda3\\envs\\RP_Env\\lib\\site-packages\\cubist\\_quinlan_attributes.py:67: FutureWarning: iteritems is deprecated and will be removed in a future version. Use .items instead.\n",
      "  return {col_name: _get_data_format(col_data) for col_name, col_data in df.iteritems()}\n",
      "C:\\Users\\abhis\\anaconda3\\envs\\RP_Env\\lib\\site-packages\\cubist\\_quinlan_attributes.py:67: FutureWarning: iteritems is deprecated and will be removed in a future version. Use .items instead.\n",
      "  return {col_name: _get_data_format(col_data) for col_name, col_data in df.iteritems()}\n",
      "C:\\Users\\abhis\\anaconda3\\envs\\RP_Env\\lib\\site-packages\\cubist\\_quinlan_attributes.py:67: FutureWarning: iteritems is deprecated and will be removed in a future version. Use .items instead.\n",
      "  return {col_name: _get_data_format(col_data) for col_name, col_data in df.iteritems()}\n",
      "C:\\Users\\abhis\\anaconda3\\envs\\RP_Env\\lib\\site-packages\\cubist\\_quinlan_attributes.py:67: FutureWarning: iteritems is deprecated and will be removed in a future version. Use .items instead.\n",
      "  return {col_name: _get_data_format(col_data) for col_name, col_data in df.iteritems()}\n",
      "C:\\Users\\abhis\\anaconda3\\envs\\RP_Env\\lib\\site-packages\\cubist\\_quinlan_attributes.py:67: FutureWarning: iteritems is deprecated and will be removed in a future version. Use .items instead.\n",
      "  return {col_name: _get_data_format(col_data) for col_name, col_data in df.iteritems()}\n",
      "C:\\Users\\abhis\\anaconda3\\envs\\RP_Env\\lib\\site-packages\\cubist\\_quinlan_attributes.py:67: FutureWarning: iteritems is deprecated and will be removed in a future version. Use .items instead.\n",
      "  return {col_name: _get_data_format(col_data) for col_name, col_data in df.iteritems()}\n",
      "C:\\Users\\abhis\\anaconda3\\envs\\RP_Env\\lib\\site-packages\\cubist\\_quinlan_attributes.py:67: FutureWarning: iteritems is deprecated and will be removed in a future version. Use .items instead.\n",
      "  return {col_name: _get_data_format(col_data) for col_name, col_data in df.iteritems()}\n",
      "C:\\Users\\abhis\\anaconda3\\envs\\RP_Env\\lib\\site-packages\\cubist\\_quinlan_attributes.py:67: FutureWarning: iteritems is deprecated and will be removed in a future version. Use .items instead.\n",
      "  return {col_name: _get_data_format(col_data) for col_name, col_data in df.iteritems()}\n",
      "C:\\Users\\abhis\\anaconda3\\envs\\RP_Env\\lib\\site-packages\\cubist\\_quinlan_attributes.py:67: FutureWarning: iteritems is deprecated and will be removed in a future version. Use .items instead.\n",
      "  return {col_name: _get_data_format(col_data) for col_name, col_data in df.iteritems()}\n",
      "C:\\Users\\abhis\\anaconda3\\envs\\RP_Env\\lib\\site-packages\\cubist\\_quinlan_attributes.py:67: FutureWarning: iteritems is deprecated and will be removed in a future version. Use .items instead.\n",
      "  return {col_name: _get_data_format(col_data) for col_name, col_data in df.iteritems()}\n",
      "C:\\Users\\abhis\\anaconda3\\envs\\RP_Env\\lib\\site-packages\\cubist\\_quinlan_attributes.py:67: FutureWarning: iteritems is deprecated and will be removed in a future version. Use .items instead.\n",
      "  return {col_name: _get_data_format(col_data) for col_name, col_data in df.iteritems()}\n",
      "C:\\Users\\abhis\\anaconda3\\envs\\RP_Env\\lib\\site-packages\\cubist\\_quinlan_attributes.py:67: FutureWarning: iteritems is deprecated and will be removed in a future version. Use .items instead.\n",
      "  return {col_name: _get_data_format(col_data) for col_name, col_data in df.iteritems()}\n",
      "C:\\Users\\abhis\\anaconda3\\envs\\RP_Env\\lib\\site-packages\\cubist\\_quinlan_attributes.py:67: FutureWarning: iteritems is deprecated and will be removed in a future version. Use .items instead.\n",
      "  return {col_name: _get_data_format(col_data) for col_name, col_data in df.iteritems()}\n",
      "C:\\Users\\abhis\\anaconda3\\envs\\RP_Env\\lib\\site-packages\\cubist\\_quinlan_attributes.py:67: FutureWarning: iteritems is deprecated and will be removed in a future version. Use .items instead.\n",
      "  return {col_name: _get_data_format(col_data) for col_name, col_data in df.iteritems()}\n",
      "C:\\Users\\abhis\\anaconda3\\envs\\RP_Env\\lib\\site-packages\\cubist\\_quinlan_attributes.py:67: FutureWarning: iteritems is deprecated and will be removed in a future version. Use .items instead.\n",
      "  return {col_name: _get_data_format(col_data) for col_name, col_data in df.iteritems()}\n",
      "C:\\Users\\abhis\\anaconda3\\envs\\RP_Env\\lib\\site-packages\\cubist\\_quinlan_attributes.py:67: FutureWarning: iteritems is deprecated and will be removed in a future version. Use .items instead.\n",
      "  return {col_name: _get_data_format(col_data) for col_name, col_data in df.iteritems()}\n",
      "C:\\Users\\abhis\\anaconda3\\envs\\RP_Env\\lib\\site-packages\\cubist\\_quinlan_attributes.py:67: FutureWarning: iteritems is deprecated and will be removed in a future version. Use .items instead.\n",
      "  return {col_name: _get_data_format(col_data) for col_name, col_data in df.iteritems()}\n",
      "C:\\Users\\abhis\\anaconda3\\envs\\RP_Env\\lib\\site-packages\\cubist\\_quinlan_attributes.py:67: FutureWarning: iteritems is deprecated and will be removed in a future version. Use .items instead.\n",
      "  return {col_name: _get_data_format(col_data) for col_name, col_data in df.iteritems()}\n",
      "C:\\Users\\abhis\\anaconda3\\envs\\RP_Env\\lib\\site-packages\\cubist\\_quinlan_attributes.py:67: FutureWarning: iteritems is deprecated and will be removed in a future version. Use .items instead.\n",
      "  return {col_name: _get_data_format(col_data) for col_name, col_data in df.iteritems()}\n",
      "C:\\Users\\abhis\\anaconda3\\envs\\RP_Env\\lib\\site-packages\\cubist\\_quinlan_attributes.py:67: FutureWarning: iteritems is deprecated and will be removed in a future version. Use .items instead.\n",
      "  return {col_name: _get_data_format(col_data) for col_name, col_data in df.iteritems()}\n"
     ]
    },
    {
     "name": "stderr",
     "output_type": "stream",
     "text": [
      "C:\\Users\\abhis\\anaconda3\\envs\\RP_Env\\lib\\site-packages\\cubist\\_quinlan_attributes.py:67: FutureWarning: iteritems is deprecated and will be removed in a future version. Use .items instead.\n",
      "  return {col_name: _get_data_format(col_data) for col_name, col_data in df.iteritems()}\n",
      "C:\\Users\\abhis\\anaconda3\\envs\\RP_Env\\lib\\site-packages\\cubist\\_quinlan_attributes.py:67: FutureWarning: iteritems is deprecated and will be removed in a future version. Use .items instead.\n",
      "  return {col_name: _get_data_format(col_data) for col_name, col_data in df.iteritems()}\n",
      "C:\\Users\\abhis\\anaconda3\\envs\\RP_Env\\lib\\site-packages\\cubist\\_quinlan_attributes.py:67: FutureWarning: iteritems is deprecated and will be removed in a future version. Use .items instead.\n",
      "  return {col_name: _get_data_format(col_data) for col_name, col_data in df.iteritems()}\n",
      "C:\\Users\\abhis\\anaconda3\\envs\\RP_Env\\lib\\site-packages\\cubist\\_quinlan_attributes.py:67: FutureWarning: iteritems is deprecated and will be removed in a future version. Use .items instead.\n",
      "  return {col_name: _get_data_format(col_data) for col_name, col_data in df.iteritems()}\n",
      "C:\\Users\\abhis\\anaconda3\\envs\\RP_Env\\lib\\site-packages\\cubist\\_quinlan_attributes.py:67: FutureWarning: iteritems is deprecated and will be removed in a future version. Use .items instead.\n",
      "  return {col_name: _get_data_format(col_data) for col_name, col_data in df.iteritems()}\n",
      "C:\\Users\\abhis\\anaconda3\\envs\\RP_Env\\lib\\site-packages\\cubist\\_quinlan_attributes.py:67: FutureWarning: iteritems is deprecated and will be removed in a future version. Use .items instead.\n",
      "  return {col_name: _get_data_format(col_data) for col_name, col_data in df.iteritems()}\n",
      "C:\\Users\\abhis\\anaconda3\\envs\\RP_Env\\lib\\site-packages\\cubist\\_quinlan_attributes.py:67: FutureWarning: iteritems is deprecated and will be removed in a future version. Use .items instead.\n",
      "  return {col_name: _get_data_format(col_data) for col_name, col_data in df.iteritems()}\n",
      "C:\\Users\\abhis\\anaconda3\\envs\\RP_Env\\lib\\site-packages\\cubist\\_quinlan_attributes.py:67: FutureWarning: iteritems is deprecated and will be removed in a future version. Use .items instead.\n",
      "  return {col_name: _get_data_format(col_data) for col_name, col_data in df.iteritems()}\n",
      "C:\\Users\\abhis\\anaconda3\\envs\\RP_Env\\lib\\site-packages\\cubist\\_quinlan_attributes.py:67: FutureWarning: iteritems is deprecated and will be removed in a future version. Use .items instead.\n",
      "  return {col_name: _get_data_format(col_data) for col_name, col_data in df.iteritems()}\n",
      "C:\\Users\\abhis\\anaconda3\\envs\\RP_Env\\lib\\site-packages\\cubist\\_quinlan_attributes.py:67: FutureWarning: iteritems is deprecated and will be removed in a future version. Use .items instead.\n",
      "  return {col_name: _get_data_format(col_data) for col_name, col_data in df.iteritems()}\n",
      "C:\\Users\\abhis\\anaconda3\\envs\\RP_Env\\lib\\site-packages\\cubist\\_quinlan_attributes.py:67: FutureWarning: iteritems is deprecated and will be removed in a future version. Use .items instead.\n",
      "  return {col_name: _get_data_format(col_data) for col_name, col_data in df.iteritems()}\n",
      "C:\\Users\\abhis\\anaconda3\\envs\\RP_Env\\lib\\site-packages\\cubist\\_quinlan_attributes.py:67: FutureWarning: iteritems is deprecated and will be removed in a future version. Use .items instead.\n",
      "  return {col_name: _get_data_format(col_data) for col_name, col_data in df.iteritems()}\n",
      "C:\\Users\\abhis\\anaconda3\\envs\\RP_Env\\lib\\site-packages\\cubist\\_quinlan_attributes.py:67: FutureWarning: iteritems is deprecated and will be removed in a future version. Use .items instead.\n",
      "  return {col_name: _get_data_format(col_data) for col_name, col_data in df.iteritems()}\n",
      "C:\\Users\\abhis\\anaconda3\\envs\\RP_Env\\lib\\site-packages\\cubist\\_quinlan_attributes.py:67: FutureWarning: iteritems is deprecated and will be removed in a future version. Use .items instead.\n",
      "  return {col_name: _get_data_format(col_data) for col_name, col_data in df.iteritems()}\n",
      "C:\\Users\\abhis\\anaconda3\\envs\\RP_Env\\lib\\site-packages\\cubist\\_quinlan_attributes.py:67: FutureWarning: iteritems is deprecated and will be removed in a future version. Use .items instead.\n",
      "  return {col_name: _get_data_format(col_data) for col_name, col_data in df.iteritems()}\n",
      "C:\\Users\\abhis\\anaconda3\\envs\\RP_Env\\lib\\site-packages\\cubist\\_quinlan_attributes.py:67: FutureWarning: iteritems is deprecated and will be removed in a future version. Use .items instead.\n",
      "  return {col_name: _get_data_format(col_data) for col_name, col_data in df.iteritems()}\n",
      "C:\\Users\\abhis\\anaconda3\\envs\\RP_Env\\lib\\site-packages\\cubist\\_quinlan_attributes.py:67: FutureWarning: iteritems is deprecated and will be removed in a future version. Use .items instead.\n",
      "  return {col_name: _get_data_format(col_data) for col_name, col_data in df.iteritems()}\n"
     ]
    },
    {
     "name": "stdout",
     "output_type": "stream",
     "text": [
      "tree for cubist running on TOC\n"
     ]
    },
    {
     "name": "stderr",
     "output_type": "stream",
     "text": [
      "C:\\Users\\abhis\\anaconda3\\envs\\RP_Env\\lib\\site-packages\\cubist\\_quinlan_attributes.py:67: FutureWarning: iteritems is deprecated and will be removed in a future version. Use .items instead.\n",
      "  return {col_name: _get_data_format(col_data) for col_name, col_data in df.iteritems()}\n",
      "C:\\Users\\abhis\\anaconda3\\envs\\RP_Env\\lib\\site-packages\\cubist\\_quinlan_attributes.py:67: FutureWarning: iteritems is deprecated and will be removed in a future version. Use .items instead.\n",
      "  return {col_name: _get_data_format(col_data) for col_name, col_data in df.iteritems()}\n",
      "C:\\Users\\abhis\\anaconda3\\envs\\RP_Env\\lib\\site-packages\\cubist\\_quinlan_attributes.py:67: FutureWarning: iteritems is deprecated and will be removed in a future version. Use .items instead.\n",
      "  return {col_name: _get_data_format(col_data) for col_name, col_data in df.iteritems()}\n",
      "C:\\Users\\abhis\\anaconda3\\envs\\RP_Env\\lib\\site-packages\\cubist\\_quinlan_attributes.py:67: FutureWarning: iteritems is deprecated and will be removed in a future version. Use .items instead.\n",
      "  return {col_name: _get_data_format(col_data) for col_name, col_data in df.iteritems()}\n",
      "C:\\Users\\abhis\\anaconda3\\envs\\RP_Env\\lib\\site-packages\\cubist\\_quinlan_attributes.py:67: FutureWarning: iteritems is deprecated and will be removed in a future version. Use .items instead.\n",
      "  return {col_name: _get_data_format(col_data) for col_name, col_data in df.iteritems()}\n",
      "C:\\Users\\abhis\\anaconda3\\envs\\RP_Env\\lib\\site-packages\\cubist\\_quinlan_attributes.py:67: FutureWarning: iteritems is deprecated and will be removed in a future version. Use .items instead.\n",
      "  return {col_name: _get_data_format(col_data) for col_name, col_data in df.iteritems()}\n",
      "C:\\Users\\abhis\\anaconda3\\envs\\RP_Env\\lib\\site-packages\\cubist\\_quinlan_attributes.py:67: FutureWarning: iteritems is deprecated and will be removed in a future version. Use .items instead.\n",
      "  return {col_name: _get_data_format(col_data) for col_name, col_data in df.iteritems()}\n",
      "C:\\Users\\abhis\\anaconda3\\envs\\RP_Env\\lib\\site-packages\\cubist\\_quinlan_attributes.py:67: FutureWarning: iteritems is deprecated and will be removed in a future version. Use .items instead.\n",
      "  return {col_name: _get_data_format(col_data) for col_name, col_data in df.iteritems()}\n",
      "C:\\Users\\abhis\\anaconda3\\envs\\RP_Env\\lib\\site-packages\\cubist\\_quinlan_attributes.py:67: FutureWarning: iteritems is deprecated and will be removed in a future version. Use .items instead.\n",
      "  return {col_name: _get_data_format(col_data) for col_name, col_data in df.iteritems()}\n",
      "C:\\Users\\abhis\\anaconda3\\envs\\RP_Env\\lib\\site-packages\\cubist\\_quinlan_attributes.py:67: FutureWarning: iteritems is deprecated and will be removed in a future version. Use .items instead.\n",
      "  return {col_name: _get_data_format(col_data) for col_name, col_data in df.iteritems()}\n",
      "C:\\Users\\abhis\\anaconda3\\envs\\RP_Env\\lib\\site-packages\\cubist\\_quinlan_attributes.py:67: FutureWarning: iteritems is deprecated and will be removed in a future version. Use .items instead.\n",
      "  return {col_name: _get_data_format(col_data) for col_name, col_data in df.iteritems()}\n",
      "C:\\Users\\abhis\\anaconda3\\envs\\RP_Env\\lib\\site-packages\\cubist\\_quinlan_attributes.py:67: FutureWarning: iteritems is deprecated and will be removed in a future version. Use .items instead.\n",
      "  return {col_name: _get_data_format(col_data) for col_name, col_data in df.iteritems()}\n",
      "C:\\Users\\abhis\\anaconda3\\envs\\RP_Env\\lib\\site-packages\\cubist\\_quinlan_attributes.py:67: FutureWarning: iteritems is deprecated and will be removed in a future version. Use .items instead.\n",
      "  return {col_name: _get_data_format(col_data) for col_name, col_data in df.iteritems()}\n",
      "C:\\Users\\abhis\\anaconda3\\envs\\RP_Env\\lib\\site-packages\\cubist\\_quinlan_attributes.py:67: FutureWarning: iteritems is deprecated and will be removed in a future version. Use .items instead.\n",
      "  return {col_name: _get_data_format(col_data) for col_name, col_data in df.iteritems()}\n",
      "C:\\Users\\abhis\\anaconda3\\envs\\RP_Env\\lib\\site-packages\\cubist\\_quinlan_attributes.py:67: FutureWarning: iteritems is deprecated and will be removed in a future version. Use .items instead.\n",
      "  return {col_name: _get_data_format(col_data) for col_name, col_data in df.iteritems()}\n",
      "C:\\Users\\abhis\\anaconda3\\envs\\RP_Env\\lib\\site-packages\\cubist\\_quinlan_attributes.py:67: FutureWarning: iteritems is deprecated and will be removed in a future version. Use .items instead.\n",
      "  return {col_name: _get_data_format(col_data) for col_name, col_data in df.iteritems()}\n",
      "C:\\Users\\abhis\\anaconda3\\envs\\RP_Env\\lib\\site-packages\\cubist\\_quinlan_attributes.py:67: FutureWarning: iteritems is deprecated and will be removed in a future version. Use .items instead.\n",
      "  return {col_name: _get_data_format(col_data) for col_name, col_data in df.iteritems()}\n",
      "C:\\Users\\abhis\\anaconda3\\envs\\RP_Env\\lib\\site-packages\\cubist\\_quinlan_attributes.py:67: FutureWarning: iteritems is deprecated and will be removed in a future version. Use .items instead.\n",
      "  return {col_name: _get_data_format(col_data) for col_name, col_data in df.iteritems()}\n",
      "C:\\Users\\abhis\\anaconda3\\envs\\RP_Env\\lib\\site-packages\\cubist\\_quinlan_attributes.py:67: FutureWarning: iteritems is deprecated and will be removed in a future version. Use .items instead.\n",
      "  return {col_name: _get_data_format(col_data) for col_name, col_data in df.iteritems()}\n",
      "C:\\Users\\abhis\\anaconda3\\envs\\RP_Env\\lib\\site-packages\\cubist\\_quinlan_attributes.py:67: FutureWarning: iteritems is deprecated and will be removed in a future version. Use .items instead.\n",
      "  return {col_name: _get_data_format(col_data) for col_name, col_data in df.iteritems()}\n",
      "C:\\Users\\abhis\\anaconda3\\envs\\RP_Env\\lib\\site-packages\\cubist\\_quinlan_attributes.py:67: FutureWarning: iteritems is deprecated and will be removed in a future version. Use .items instead.\n",
      "  return {col_name: _get_data_format(col_data) for col_name, col_data in df.iteritems()}\n",
      "C:\\Users\\abhis\\anaconda3\\envs\\RP_Env\\lib\\site-packages\\cubist\\_quinlan_attributes.py:67: FutureWarning: iteritems is deprecated and will be removed in a future version. Use .items instead.\n",
      "  return {col_name: _get_data_format(col_data) for col_name, col_data in df.iteritems()}\n",
      "C:\\Users\\abhis\\anaconda3\\envs\\RP_Env\\lib\\site-packages\\cubist\\_quinlan_attributes.py:67: FutureWarning: iteritems is deprecated and will be removed in a future version. Use .items instead.\n",
      "  return {col_name: _get_data_format(col_data) for col_name, col_data in df.iteritems()}\n",
      "C:\\Users\\abhis\\anaconda3\\envs\\RP_Env\\lib\\site-packages\\cubist\\_quinlan_attributes.py:67: FutureWarning: iteritems is deprecated and will be removed in a future version. Use .items instead.\n",
      "  return {col_name: _get_data_format(col_data) for col_name, col_data in df.iteritems()}\n",
      "C:\\Users\\abhis\\anaconda3\\envs\\RP_Env\\lib\\site-packages\\cubist\\_quinlan_attributes.py:67: FutureWarning: iteritems is deprecated and will be removed in a future version. Use .items instead.\n",
      "  return {col_name: _get_data_format(col_data) for col_name, col_data in df.iteritems()}\n",
      "C:\\Users\\abhis\\anaconda3\\envs\\RP_Env\\lib\\site-packages\\cubist\\_quinlan_attributes.py:67: FutureWarning: iteritems is deprecated and will be removed in a future version. Use .items instead.\n",
      "  return {col_name: _get_data_format(col_data) for col_name, col_data in df.iteritems()}\n",
      "C:\\Users\\abhis\\anaconda3\\envs\\RP_Env\\lib\\site-packages\\cubist\\_quinlan_attributes.py:67: FutureWarning: iteritems is deprecated and will be removed in a future version. Use .items instead.\n",
      "  return {col_name: _get_data_format(col_data) for col_name, col_data in df.iteritems()}\n",
      "C:\\Users\\abhis\\anaconda3\\envs\\RP_Env\\lib\\site-packages\\cubist\\_quinlan_attributes.py:67: FutureWarning: iteritems is deprecated and will be removed in a future version. Use .items instead.\n",
      "  return {col_name: _get_data_format(col_data) for col_name, col_data in df.iteritems()}\n",
      "C:\\Users\\abhis\\anaconda3\\envs\\RP_Env\\lib\\site-packages\\cubist\\_quinlan_attributes.py:67: FutureWarning: iteritems is deprecated and will be removed in a future version. Use .items instead.\n",
      "  return {col_name: _get_data_format(col_data) for col_name, col_data in df.iteritems()}\n",
      "C:\\Users\\abhis\\anaconda3\\envs\\RP_Env\\lib\\site-packages\\cubist\\_quinlan_attributes.py:67: FutureWarning: iteritems is deprecated and will be removed in a future version. Use .items instead.\n",
      "  return {col_name: _get_data_format(col_data) for col_name, col_data in df.iteritems()}\n",
      "C:\\Users\\abhis\\anaconda3\\envs\\RP_Env\\lib\\site-packages\\cubist\\_quinlan_attributes.py:67: FutureWarning: iteritems is deprecated and will be removed in a future version. Use .items instead.\n",
      "  return {col_name: _get_data_format(col_data) for col_name, col_data in df.iteritems()}\n",
      "C:\\Users\\abhis\\anaconda3\\envs\\RP_Env\\lib\\site-packages\\cubist\\_quinlan_attributes.py:67: FutureWarning: iteritems is deprecated and will be removed in a future version. Use .items instead.\n",
      "  return {col_name: _get_data_format(col_data) for col_name, col_data in df.iteritems()}\n"
     ]
    },
    {
     "name": "stderr",
     "output_type": "stream",
     "text": [
      "C:\\Users\\abhis\\anaconda3\\envs\\RP_Env\\lib\\site-packages\\cubist\\_quinlan_attributes.py:67: FutureWarning: iteritems is deprecated and will be removed in a future version. Use .items instead.\n",
      "  return {col_name: _get_data_format(col_data) for col_name, col_data in df.iteritems()}\n",
      "C:\\Users\\abhis\\anaconda3\\envs\\RP_Env\\lib\\site-packages\\cubist\\_quinlan_attributes.py:67: FutureWarning: iteritems is deprecated and will be removed in a future version. Use .items instead.\n",
      "  return {col_name: _get_data_format(col_data) for col_name, col_data in df.iteritems()}\n",
      "C:\\Users\\abhis\\anaconda3\\envs\\RP_Env\\lib\\site-packages\\cubist\\_quinlan_attributes.py:67: FutureWarning: iteritems is deprecated and will be removed in a future version. Use .items instead.\n",
      "  return {col_name: _get_data_format(col_data) for col_name, col_data in df.iteritems()}\n",
      "C:\\Users\\abhis\\anaconda3\\envs\\RP_Env\\lib\\site-packages\\cubist\\_quinlan_attributes.py:67: FutureWarning: iteritems is deprecated and will be removed in a future version. Use .items instead.\n",
      "  return {col_name: _get_data_format(col_data) for col_name, col_data in df.iteritems()}\n",
      "C:\\Users\\abhis\\anaconda3\\envs\\RP_Env\\lib\\site-packages\\cubist\\_quinlan_attributes.py:67: FutureWarning: iteritems is deprecated and will be removed in a future version. Use .items instead.\n",
      "  return {col_name: _get_data_format(col_data) for col_name, col_data in df.iteritems()}\n",
      "C:\\Users\\abhis\\anaconda3\\envs\\RP_Env\\lib\\site-packages\\cubist\\_quinlan_attributes.py:67: FutureWarning: iteritems is deprecated and will be removed in a future version. Use .items instead.\n",
      "  return {col_name: _get_data_format(col_data) for col_name, col_data in df.iteritems()}\n",
      "C:\\Users\\abhis\\anaconda3\\envs\\RP_Env\\lib\\site-packages\\cubist\\_quinlan_attributes.py:67: FutureWarning: iteritems is deprecated and will be removed in a future version. Use .items instead.\n",
      "  return {col_name: _get_data_format(col_data) for col_name, col_data in df.iteritems()}\n",
      "C:\\Users\\abhis\\anaconda3\\envs\\RP_Env\\lib\\site-packages\\cubist\\_quinlan_attributes.py:67: FutureWarning: iteritems is deprecated and will be removed in a future version. Use .items instead.\n",
      "  return {col_name: _get_data_format(col_data) for col_name, col_data in df.iteritems()}\n",
      "C:\\Users\\abhis\\anaconda3\\envs\\RP_Env\\lib\\site-packages\\cubist\\_quinlan_attributes.py:67: FutureWarning: iteritems is deprecated and will be removed in a future version. Use .items instead.\n",
      "  return {col_name: _get_data_format(col_data) for col_name, col_data in df.iteritems()}\n",
      "C:\\Users\\abhis\\anaconda3\\envs\\RP_Env\\lib\\site-packages\\cubist\\_quinlan_attributes.py:67: FutureWarning: iteritems is deprecated and will be removed in a future version. Use .items instead.\n",
      "  return {col_name: _get_data_format(col_data) for col_name, col_data in df.iteritems()}\n",
      "C:\\Users\\abhis\\anaconda3\\envs\\RP_Env\\lib\\site-packages\\cubist\\_quinlan_attributes.py:67: FutureWarning: iteritems is deprecated and will be removed in a future version. Use .items instead.\n",
      "  return {col_name: _get_data_format(col_data) for col_name, col_data in df.iteritems()}\n",
      "C:\\Users\\abhis\\anaconda3\\envs\\RP_Env\\lib\\site-packages\\cubist\\_quinlan_attributes.py:67: FutureWarning: iteritems is deprecated and will be removed in a future version. Use .items instead.\n",
      "  return {col_name: _get_data_format(col_data) for col_name, col_data in df.iteritems()}\n",
      "C:\\Users\\abhis\\anaconda3\\envs\\RP_Env\\lib\\site-packages\\cubist\\_quinlan_attributes.py:67: FutureWarning: iteritems is deprecated and will be removed in a future version. Use .items instead.\n",
      "  return {col_name: _get_data_format(col_data) for col_name, col_data in df.iteritems()}\n",
      "C:\\Users\\abhis\\anaconda3\\envs\\RP_Env\\lib\\site-packages\\cubist\\_quinlan_attributes.py:67: FutureWarning: iteritems is deprecated and will be removed in a future version. Use .items instead.\n",
      "  return {col_name: _get_data_format(col_data) for col_name, col_data in df.iteritems()}\n",
      "C:\\Users\\abhis\\anaconda3\\envs\\RP_Env\\lib\\site-packages\\cubist\\_quinlan_attributes.py:67: FutureWarning: iteritems is deprecated and will be removed in a future version. Use .items instead.\n",
      "  return {col_name: _get_data_format(col_data) for col_name, col_data in df.iteritems()}\n",
      "C:\\Users\\abhis\\anaconda3\\envs\\RP_Env\\lib\\site-packages\\cubist\\_quinlan_attributes.py:67: FutureWarning: iteritems is deprecated and will be removed in a future version. Use .items instead.\n",
      "  return {col_name: _get_data_format(col_data) for col_name, col_data in df.iteritems()}\n"
     ]
    },
    {
     "name": "stdout",
     "output_type": "stream",
     "text": [
      "End time - Start time = 146.30562472343445\n"
     ]
    }
   ],
   "source": [
    "Mtree['cubist'] = build_tree_for ('cubist')"
   ]
  },
  {
   "cell_type": "markdown",
   "id": "71e1faa5",
   "metadata": {},
   "source": [
    "## Best of all worlds"
   ]
  },
  {
   "cell_type": "code",
   "execution_count": 126,
   "id": "04241275",
   "metadata": {},
   "outputs": [],
   "source": [
    "def best_model_parameters (Mtree, target, method, scorer):\n",
    "    t=target\n",
    "    m= method\n",
    "    \n",
    "    best_score = -1\n",
    "    best_n_comp = 'NA'\n",
    "    \n",
    "    if m == 'randomforest' or m == 'cubist' or m == 'gbrt':\n",
    "        for tp in prepare_target:\n",
    "            for n in nbands_sampling:\n",
    "                for p in prepare_spec:\n",
    "                    Y = Mtree[m][t][tp][n][p]\n",
    "                    \n",
    "                    if scorer == 'iqrp':\n",
    "                        cur_score = Y['iqrp_test']\n",
    "                    elif scorer == 'rpd':\n",
    "                        cur_score = Y['rpd_test']\n",
    "                    elif scorer == 'r2':\n",
    "                        cur_score = Y['r2_test']  \n",
    "                    else:\n",
    "                        cur_score = Y['rmse_test']  \n",
    "                        \n",
    "                    if cur_score > best_score:\n",
    "                        best_score = cur_score\n",
    "                        best_tp = tp\n",
    "                        best_n = n\n",
    "                        best_p = p\n",
    "                        \n",
    "                            \n",
    "    else:\n",
    "        for tp in prepare_target:\n",
    "            for n in nbands_sampling:\n",
    "                for p in prepare_spec:\n",
    "                    for sg in sg_filters:\n",
    "                        for w in window_lengths:\n",
    "                            if n == 0:\n",
    "                                Y = Mtree[m][t][tp][n][p][sg][w]\n",
    "                            else:\n",
    "                                Y = Mtree[m][t][tp][n][p]\n",
    "                                \n",
    "                            if scorer == 'iqrp':\n",
    "                                cur_score = Y['iqrp_test']\n",
    "                            elif scorer == 'rpd':\n",
    "                                cur_score = Y['rpd_test']\n",
    "                            elif scorer == 'r2':\n",
    "                                cur_score = Y['r2_test']  \n",
    "                            else:\n",
    "                                cur_score = Y['rmse_test']      \n",
    "                                \n",
    "                            if cur_score > best_score:\n",
    "                                best_score = cur_score\n",
    "                                best_tp = tp\n",
    "                                best_n = n\n",
    "                                best_p = p\n",
    "                                if m == 'plsr':\n",
    "                                    best_n_comp = Y['n_comp']\n",
    "                                    \n",
    "                                    \n",
    "    param_list = [scorer, np.round(best_score,2), 'pSpec:', best_p, 'bands:', best_n, 'pTar:', best_tp, 'best_n_comp: ', best_n_comp]                                 \n",
    "    return (param_list)                                \n",
    "    "
   ]
  },
  {
   "cell_type": "code",
   "execution_count": 127,
   "id": "41642a4d",
   "metadata": {},
   "outputs": [
    {
     "name": "stdout",
     "output_type": "stream",
     "text": [
      "['r2', 0.53, 'pSpec:', 'fod', 'bands:', 0, 'pTar:', 'minmax', 'best_n_comp: ', 'NA']\n"
     ]
    }
   ],
   "source": [
    "param_list = best_model_parameters (Mtree, 'sand', 'randomforest', 'r2')\n",
    "print(param_list)"
   ]
  },
  {
   "cell_type": "code",
   "execution_count": 128,
   "id": "274ebfd8",
   "metadata": {},
   "outputs": [
    {
     "name": "stdout",
     "output_type": "stream",
     "text": [
      "['r2', 0.54, 'pSpec:', 'continuum', 'bands:', 500, 'pTar:', 'minmax', 'best_n_comp: ', 4]\n"
     ]
    }
   ],
   "source": [
    "param_list = best_model_parameters (Mtree, 'sand', 'plsr', 'r2')\n",
    "print(param_list)"
   ]
  },
  {
   "cell_type": "code",
   "execution_count": 136,
   "id": "07b502b1",
   "metadata": {},
   "outputs": [
    {
     "name": "stdout",
     "output_type": "stream",
     "text": [
      "['iqrp', 1.97, 'pSpec:', 'continuum', 'bands:', 500, 'pTar:', 'minmax', 'best_n_comp: ', 4]\n"
     ]
    }
   ],
   "source": [
    "param_list = best_model_parameters (Mtree, 'sand', 'plsr', 'iqrp')\n",
    "print(param_list)"
   ]
  },
  {
   "cell_type": "code",
   "execution_count": 130,
   "id": "251c6b96",
   "metadata": {},
   "outputs": [
    {
     "name": "stdout",
     "output_type": "stream",
     "text": [
      "['r2', 0.54, 'pSpec:', 'none', 'bands:', 200, 'pTar:', 'minmax', 'best_n_comp: ', 'NA']\n"
     ]
    }
   ],
   "source": [
    "param_list = best_model_parameters (Mtree, 'sand', 'cubist','r2')\n",
    "print(param_list)"
   ]
  },
  {
   "cell_type": "code",
   "execution_count": 138,
   "id": "b2d3ea1e",
   "metadata": {},
   "outputs": [
    {
     "name": "stdout",
     "output_type": "stream",
     "text": [
      "['iqrp', 1.98, 'pSpec:', 'none', 'bands:', 200, 'pTar:', 'minmax', 'best_n_comp: ', 'NA']\n"
     ]
    }
   ],
   "source": [
    "param_list = best_model_parameters (Mtree, 'sand', 'cubist', 'iqrp')\n",
    "print(param_list)"
   ]
  },
  {
   "cell_type": "code",
   "execution_count": 132,
   "id": "7d38ee5f",
   "metadata": {},
   "outputs": [
    {
     "name": "stdout",
     "output_type": "stream",
     "text": [
      "['r2', 0.52, 'pSpec:', 'continuum', 'bands:', 20, 'pTar:', 'minmax', 'best_n_comp: ', 'NA']\n"
     ]
    }
   ],
   "source": [
    "param_list = best_model_parameters (Mtree, 'sand', 'mult','r2')\n",
    "print(param_list)"
   ]
  },
  {
   "cell_type": "code",
   "execution_count": 133,
   "id": "0f8cd274",
   "metadata": {},
   "outputs": [
    {
     "name": "stdout",
     "output_type": "stream",
     "text": [
      "['r2', 0.35, 'pSpec:', 'none', 'bands:', 0, 'pTar:', 'minmax', 'best_n_comp: ', 'NA']\n"
     ]
    }
   ],
   "source": [
    "param_list = best_model_parameters (Mtree, 'sand', 'ridge','r2')\n",
    "print(param_list)"
   ]
  },
  {
   "cell_type": "code",
   "execution_count": 134,
   "id": "a2e31b95",
   "metadata": {},
   "outputs": [
    {
     "name": "stdout",
     "output_type": "stream",
     "text": [
      "['r2', 0.29, 'pSpec:', 'none', 'bands:', 500, 'pTar:', 'minmax', 'best_n_comp: ', 'NA']\n"
     ]
    }
   ],
   "source": [
    "param_list = best_model_parameters (Mtree, 'sand', 'svr','r2')\n",
    "print(param_list)"
   ]
  },
  {
   "cell_type": "code",
   "execution_count": 135,
   "id": "0cf6e37e",
   "metadata": {},
   "outputs": [
    {
     "name": "stdout",
     "output_type": "stream",
     "text": [
      "['r2', 0.52, 'pSpec:', 'fod', 'bands:', 200, 'pTar:', 'minmax', 'best_n_comp: ', 'NA']\n"
     ]
    }
   ],
   "source": [
    "param_list = best_model_parameters (Mtree, 'sand', 'gbrt','r2')\n",
    "print(param_list)"
   ]
  },
  {
   "cell_type": "code",
   "execution_count": 68,
   "id": "a289e888",
   "metadata": {},
   "outputs": [
    {
     "name": "stdout",
     "output_type": "stream",
     "text": [
      "['IQRP:', 1.78, 'pSpec:', 'continuum', 'bands:', 20, 'pTar:', 'none', 'filt:', 'sg1', 'win:', 0, 'best_n_comp: ', 4]\n"
     ]
    }
   ],
   "source": [
    "param_list = best_model_parameters (Mtree, 'clay', 'plsr')\n",
    "print(param_list)"
   ]
  },
  {
   "cell_type": "code",
   "execution_count": 140,
   "id": "3c90601e",
   "metadata": {},
   "outputs": [
    {
     "name": "stdout",
     "output_type": "stream",
     "text": [
      "['r2', 0.49, 'pSpec:', 'fod', 'bands:', 20, 'pTar:', 'none', 'best_n_comp: ', 'NA']\n"
     ]
    }
   ],
   "source": [
    "param_list = best_model_parameters (Mtree, 'clay', 'randomforest', 'r2')\n",
    "print(param_list)"
   ]
  },
  {
   "cell_type": "code",
   "execution_count": 70,
   "id": "61e95b0b",
   "metadata": {},
   "outputs": [
    {
     "name": "stdout",
     "output_type": "stream",
     "text": [
      "['IQRP:', 1.96, 'pSpec:', 'continuum', 'bands:', 20, 'pTar:', 'minmax', 'filt:', 'NA', 'win:', 'NA', 'best_n_comp: ', 'NA']\n"
     ]
    }
   ],
   "source": [
    "param_list = best_model_parameters (Mtree, 'clay', 'cubist')\n",
    "print(param_list)"
   ]
  },
  {
   "cell_type": "code",
   "execution_count": 139,
   "id": "99f84240",
   "metadata": {},
   "outputs": [
    {
     "name": "stdout",
     "output_type": "stream",
     "text": [
      "['r2', 0.54, 'pSpec:', 'continuum', 'bands:', 20, 'pTar:', 'minmax', 'best_n_comp: ', 'NA']\n"
     ]
    }
   ],
   "source": [
    "param_list = best_model_parameters (Mtree, 'clay', 'cubist', 'r2')\n",
    "print(param_list)"
   ]
  },
  {
   "cell_type": "code",
   "execution_count": 71,
   "id": "22c7931e",
   "metadata": {},
   "outputs": [
    {
     "name": "stdout",
     "output_type": "stream",
     "text": [
      "['IQRP:', 1.79, 'pSpec:', 'fod', 'bands:', 50, 'pTar:', 'none', 'filt:', 'sg1', 'win:', 0, 'best_n_comp: ', 'NA']\n"
     ]
    }
   ],
   "source": [
    "param_list = best_model_parameters (Mtree, 'clay', 'mult')\n",
    "print(param_list)"
   ]
  },
  {
   "cell_type": "code",
   "execution_count": 141,
   "id": "814a4e45",
   "metadata": {},
   "outputs": [
    {
     "name": "stdout",
     "output_type": "stream",
     "text": [
      "['r2', 0.45, 'pSpec:', 'fod', 'bands:', 50, 'pTar:', 'none', 'best_n_comp: ', 'NA']\n"
     ]
    }
   ],
   "source": [
    "param_list = best_model_parameters (Mtree, 'clay', 'mult', 'r2')\n",
    "print(param_list)"
   ]
  },
  {
   "cell_type": "code",
   "execution_count": 72,
   "id": "11954757",
   "metadata": {},
   "outputs": [
    {
     "name": "stdout",
     "output_type": "stream",
     "text": [
      "['IQRP:', 1.73, 'pSpec:', 'continuum', 'bands:', 0, 'pTar:', 'minmax', 'filt:', 'sg1', 'win:', 0, 'best_n_comp: ', 'NA']\n"
     ]
    }
   ],
   "source": [
    "param_list = best_model_parameters (Mtree, 'clay', 'ridge')\n",
    "print(param_list)"
   ]
  },
  {
   "cell_type": "code",
   "execution_count": 73,
   "id": "1b90d0e5",
   "metadata": {},
   "outputs": [
    {
     "name": "stdout",
     "output_type": "stream",
     "text": [
      "['IQRP:', 1.73, 'pSpec:', 'fod', 'bands:', 20, 'pTar:', 'none', 'filt:', 'sg1', 'win:', 0, 'best_n_comp: ', 'NA']\n"
     ]
    }
   ],
   "source": [
    "param_list = best_model_parameters (Mtree, 'clay', 'svr')\n",
    "print(param_list)"
   ]
  },
  {
   "cell_type": "code",
   "execution_count": 74,
   "id": "3fe7a26a",
   "metadata": {},
   "outputs": [
    {
     "name": "stdout",
     "output_type": "stream",
     "text": [
      "['IQRP:', 1.93, 'pSpec:', 'none', 'bands:', 100, 'pTar:', 'minmax', 'filt:', 'NA', 'win:', 'NA', 'best_n_comp: ', 'NA']\n"
     ]
    }
   ],
   "source": [
    "param_list = best_model_parameters (Mtree, 'clay', 'gbrt')\n",
    "print(param_list)"
   ]
  },
  {
   "cell_type": "code",
   "execution_count": 142,
   "id": "4de432af",
   "metadata": {},
   "outputs": [
    {
     "name": "stdout",
     "output_type": "stream",
     "text": [
      "['r2', 0.52, 'pSpec:', 'none', 'bands:', 100, 'pTar:', 'none', 'best_n_comp: ', 'NA']\n"
     ]
    }
   ],
   "source": [
    "param_list = best_model_parameters (Mtree, 'clay', 'gbrt', 'r2')\n",
    "print(param_list)"
   ]
  },
  {
   "cell_type": "code",
   "execution_count": 75,
   "id": "7eab3722",
   "metadata": {},
   "outputs": [
    {
     "name": "stdout",
     "output_type": "stream",
     "text": [
      "['IQRP:', 1.8, 'pSpec:', 'fod', 'bands:', 10, 'pTar:', 'none', 'filt:', 'sg1', 'win:', 0, 'best_n_comp: ', 1]\n"
     ]
    }
   ],
   "source": [
    "param_list = best_model_parameters (Mtree, 'silt', 'plsr')\n",
    "print(param_list)"
   ]
  },
  {
   "cell_type": "code",
   "execution_count": 76,
   "id": "ad272ca0",
   "metadata": {},
   "outputs": [
    {
     "name": "stdout",
     "output_type": "stream",
     "text": [
      "['IQRP:', 1.88, 'pSpec:', 'continuum', 'bands:', 50, 'pTar:', 'none', 'filt:', 'NA', 'win:', 'NA', 'best_n_comp: ', 'NA']\n"
     ]
    }
   ],
   "source": [
    "param_list = best_model_parameters (Mtree, 'silt', 'randomforest')\n",
    "print(param_list)"
   ]
  },
  {
   "cell_type": "code",
   "execution_count": 144,
   "id": "00d74d21",
   "metadata": {},
   "outputs": [
    {
     "name": "stdout",
     "output_type": "stream",
     "text": [
      "['r2', 0.26, 'pSpec:', 'none', 'bands:', 200, 'pTar:', 'minmax', 'best_n_comp: ', 'NA']\n"
     ]
    }
   ],
   "source": [
    "param_list = best_model_parameters (Mtree, 'silt', 'randomforest', 'r2')\n",
    "print(param_list)"
   ]
  },
  {
   "cell_type": "code",
   "execution_count": 77,
   "id": "7c218cf2",
   "metadata": {},
   "outputs": [
    {
     "name": "stdout",
     "output_type": "stream",
     "text": [
      "['IQRP:', 1.9, 'pSpec:', 'continuum', 'bands:', 50, 'pTar:', 'none', 'filt:', 'NA', 'win:', 'NA', 'best_n_comp: ', 'NA']\n"
     ]
    }
   ],
   "source": [
    "param_list = best_model_parameters (Mtree, 'silt', 'cubist')\n",
    "print(param_list)"
   ]
  },
  {
   "cell_type": "code",
   "execution_count": 145,
   "id": "8ccddfe2",
   "metadata": {},
   "outputs": [
    {
     "name": "stdout",
     "output_type": "stream",
     "text": [
      "['r2', 0.33, 'pSpec:', 'continuum', 'bands:', 500, 'pTar:', 'minmax', 'best_n_comp: ', 'NA']\n"
     ]
    }
   ],
   "source": [
    "param_list = best_model_parameters (Mtree, 'silt', 'cubist', 'r2')\n",
    "print(param_list)"
   ]
  },
  {
   "cell_type": "code",
   "execution_count": 78,
   "id": "dac7dd5e",
   "metadata": {},
   "outputs": [
    {
     "name": "stdout",
     "output_type": "stream",
     "text": [
      "['IQRP:', 1.74, 'pSpec:', 'none', 'bands:', 5, 'pTar:', 'none', 'filt:', 'sg1', 'win:', 0, 'best_n_comp: ', 'NA']\n"
     ]
    }
   ],
   "source": [
    "param_list = best_model_parameters (Mtree, 'silt', 'mult')\n",
    "print(param_list)"
   ]
  },
  {
   "cell_type": "code",
   "execution_count": 146,
   "id": "32096826",
   "metadata": {},
   "outputs": [
    {
     "name": "stdout",
     "output_type": "stream",
     "text": [
      "['r2', 0.25, 'pSpec:', 'fod', 'bands:', 10, 'pTar:', 'minmax', 'best_n_comp: ', 'NA']\n"
     ]
    }
   ],
   "source": [
    "param_list = best_model_parameters (Mtree, 'silt', 'mult', 'r2')\n",
    "print(param_list)"
   ]
  },
  {
   "cell_type": "code",
   "execution_count": 79,
   "id": "3f54a279",
   "metadata": {},
   "outputs": [
    {
     "name": "stdout",
     "output_type": "stream",
     "text": [
      "['IQRP:', 1.73, 'pSpec:', 'none', 'bands:', 0, 'pTar:', 'none', 'filt:', 'sg1', 'win:', 0, 'best_n_comp: ', 'NA']\n"
     ]
    }
   ],
   "source": [
    "param_list = best_model_parameters (Mtree, 'silt', 'ridge')\n",
    "print(param_list)"
   ]
  },
  {
   "cell_type": "code",
   "execution_count": 80,
   "id": "aed94eeb",
   "metadata": {},
   "outputs": [
    {
     "name": "stdout",
     "output_type": "stream",
     "text": [
      "['IQRP:', 1.74, 'pSpec:', 'fod', 'bands:', 20, 'pTar:', 'none', 'filt:', 'sg1', 'win:', 0, 'best_n_comp: ', 'NA']\n"
     ]
    }
   ],
   "source": [
    "param_list = best_model_parameters (Mtree, 'silt', 'svr')\n",
    "print(param_list)"
   ]
  },
  {
   "cell_type": "code",
   "execution_count": 81,
   "id": "3a64e343",
   "metadata": {},
   "outputs": [
    {
     "name": "stdout",
     "output_type": "stream",
     "text": [
      "['IQRP:', 1.79, 'pSpec:', 'continuum', 'bands:', 50, 'pTar:', 'none', 'filt:', 'NA', 'win:', 'NA', 'best_n_comp: ', 'NA']\n"
     ]
    }
   ],
   "source": [
    "param_list = best_model_parameters (Mtree, 'silt', 'gbrt')\n",
    "print(param_list)"
   ]
  },
  {
   "cell_type": "code",
   "execution_count": 82,
   "id": "eed652cc",
   "metadata": {},
   "outputs": [
    {
     "name": "stdout",
     "output_type": "stream",
     "text": [
      "['IQRP:', 1.91, 'pSpec:', 'continuum', 'bands:', 10, 'pTar:', 'none', 'filt:', 'sg1', 'win:', 0, 'best_n_comp: ', 4]\n"
     ]
    }
   ],
   "source": [
    "param_list = best_model_parameters (Mtree, 'TOC', 'plsr')\n",
    "print(param_list)"
   ]
  },
  {
   "cell_type": "code",
   "execution_count": 83,
   "id": "2f8c63f4",
   "metadata": {},
   "outputs": [
    {
     "name": "stdout",
     "output_type": "stream",
     "text": [
      "['IQRP:', 1.92, 'pSpec:', 'continuum', 'bands:', 0, 'pTar:', 'none', 'filt:', 'NA', 'win:', 'NA', 'best_n_comp: ', 'NA']\n"
     ]
    }
   ],
   "source": [
    "param_list = best_model_parameters (Mtree, 'TOC', 'randomforest')\n",
    "print(param_list)"
   ]
  },
  {
   "cell_type": "code",
   "execution_count": 84,
   "id": "3d23a60b",
   "metadata": {},
   "outputs": [
    {
     "name": "stdout",
     "output_type": "stream",
     "text": [
      "['IQRP:', 1.93, 'pSpec:', 'continuum', 'bands:', 20, 'pTar:', 'none', 'filt:', 'NA', 'win:', 'NA', 'best_n_comp: ', 'NA']\n"
     ]
    }
   ],
   "source": [
    "param_list = best_model_parameters (Mtree, 'TOC', 'cubist')\n",
    "print(param_list)"
   ]
  },
  {
   "cell_type": "code",
   "execution_count": 85,
   "id": "9a5c95bb",
   "metadata": {},
   "outputs": [
    {
     "name": "stdout",
     "output_type": "stream",
     "text": [
      "['IQRP:', 1.55, 'pSpec:', 'continuum', 'bands:', 0, 'pTar:', 'none', 'filt:', 'sg1', 'win:', 0, 'best_n_comp: ', 'NA']\n"
     ]
    }
   ],
   "source": [
    "param_list = best_model_parameters (Mtree, 'TOC', 'ridge')\n",
    "print(param_list)"
   ]
  },
  {
   "cell_type": "code",
   "execution_count": 86,
   "id": "294975e7",
   "metadata": {},
   "outputs": [
    {
     "name": "stdout",
     "output_type": "stream",
     "text": [
      "['IQRP:', 1.82, 'pSpec:', 'fod', 'bands:', 20, 'pTar:', 'none', 'filt:', 'sg1', 'win:', 0, 'best_n_comp: ', 'NA']\n"
     ]
    }
   ],
   "source": [
    "param_list = best_model_parameters (Mtree, 'TOC', 'svr')\n",
    "print(param_list)"
   ]
  },
  {
   "cell_type": "code",
   "execution_count": 87,
   "id": "2531dd2e",
   "metadata": {},
   "outputs": [
    {
     "name": "stdout",
     "output_type": "stream",
     "text": [
      "['IQRP:', 2.16, 'pSpec:', 'continuum', 'bands:', 100, 'pTar:', 'none', 'filt:', 'NA', 'win:', 'NA', 'best_n_comp: ', 'NA']\n"
     ]
    }
   ],
   "source": [
    "param_list = best_model_parameters (Mtree, 'TOC', 'gbrt')\n",
    "print(param_list)"
   ]
  },
  {
   "cell_type": "code",
   "execution_count": 88,
   "id": "2f876aa5",
   "metadata": {},
   "outputs": [
    {
     "name": "stdout",
     "output_type": "stream",
     "text": [
      "['IQRP:', 1.93, 'pSpec:', 'continuum', 'bands:', 10, 'pTar:', 'none', 'filt:', 'sg1', 'win:', 0, 'best_n_comp: ', 'NA']\n"
     ]
    }
   ],
   "source": [
    "param_list = best_model_parameters (Mtree, 'TOC', 'mult')\n",
    "print(param_list)"
   ]
  },
  {
   "cell_type": "markdown",
   "id": "fe74d829",
   "metadata": {},
   "source": [
    "## Plotting Model Accuracy (ipywidgets)"
   ]
  },
  {
   "cell_type": "code",
   "execution_count": 89,
   "id": "8dd90a0e",
   "metadata": {},
   "outputs": [],
   "source": [
    "def plot_model_acc (target, method, smth_filt, window_len, spec_preprocessing, n_bands, target_preprocessing):\n",
    "    \n",
    "    m = method\n",
    "    t = target\n",
    "    \n",
    "    i = target_names.index(target)\n",
    "    \n",
    "    sg = smth_filt\n",
    "    w = window_len\n",
    "    p = spec_preprocessing\n",
    "    n = n_bands\n",
    "    tp = target_preprocessing\n",
    "    \n",
    "    if n!=0 or m == 'randomforest' or m =='cubist' or m == 'gbrt':\n",
    "        Y = Mtree[m][t][tp][n][p]\n",
    "    else: \n",
    "        Y = Mtree[m][t][tp][n][p][sg][w]\n",
    "    \n",
    "    \n",
    "    y_test = Y['test']\n",
    "    y_pred = Y['testP']\n",
    "    y_train = Y['train']\n",
    "    yhat_pred = Y['trainP']\n",
    "    \n",
    "    if m == 'plsr':\n",
    "        n_com = Y['n_comp']\n",
    "        y_pred = y_pred[:,0]\n",
    "        yhat_pred = yhat_pred[:,0]\n",
    "    \n",
    "    iqrp_test = iqrp(y_pred, y_test)\n",
    "    r2_test = r2_score(y_test, y_pred)\n",
    "    rpd_test = y_test.std()/np.sqrt(mean_squared_error(y_test, y_pred))\n",
    "    \n",
    "    iqrp_train = iqrp(yhat_pred, y_train)\n",
    "    r2_train = r2_score(y_train, yhat_pred)\n",
    "    rpd_train = y_train.std()/np.sqrt(mean_squared_error(y_train, yhat_pred))\n",
    "    \n",
    "    y_tp = pd.DataFrame({'actual':y_test.values, 'predic': y_pred})\n",
    "    z = np.polyfit(y_test, y_pred, 1)\n",
    "    \n",
    "    yhat_tp = pd.DataFrame({'actual':y_train.values, 'predic': yhat_pred})\n",
    "    zhat = np.polyfit(y_train, yhat_pred, 1)\n",
    "    \n",
    "    fig, axes = plt.subplots(1,2, figsize=(18,8))\n",
    "    \n",
    "    #with plt.style.context(('ggplot')): ---- PLOT of test-prediction --------------------------------------\n",
    "    y_tp.plot.scatter(ax= axes[0], x=\"actual\", y=\"predic\", alpha=0.8, color = clr[i], edgecolors='k')\n",
    "    axes[0].plot(y_test, np.polyval(z, y_test),  c='blue', linewidth=1)\n",
    "    axes[0].plot(y_test, y_test, color='green', linewidth=1)\n",
    "    axes[0].tick_params(axis='both', labelsize=10)\n",
    "    axes[0].text(0.05, 0.95, target_names[i]+' (Test Data)', transform=axes[0].transAxes, fontsize = 20, color = clr[i])\n",
    "    axes[0].text(0.05, 0.90, 'IQRP ={:.2f}'.format(iqrp_test), transform=axes[0].transAxes, fontsize = 16)\n",
    "    axes[0].text(0.05, 0.85, 'RPD ={:.2f}'.format(rpd_test), transform=axes[0].transAxes, fontsize = 16)\n",
    "    axes[0].text(0.05, 0.80, 'R2 ={:.2f}'.format(np.round(r2_test,3)), transform=axes[0].transAxes, fontsize = 16)\n",
    "    axes[0].text(0.95, 0.15, 'Method: '+method, transform=axes[0].transAxes, \n",
    "                    horizontalalignment='right', fontsize = 20)\n",
    "    axes[0].text(0.95, 0.10, 'smoothing window={:.2f}'.format(w), transform=axes[0].transAxes, \n",
    "                    horizontalalignment='right', fontsize = 12)\n",
    "    if method == 'plsr':\n",
    "        axes[0].text(0.95, 0.05, 'n_component={:.2f}'.format(n_com), transform=axes[0].transAxes, \n",
    "                    horizontalalignment='right', fontsize = 12)\n",
    "    \n",
    "    #---------------------------------- ---- PLOT of train-prediction --------------------------------------\n",
    "    yhat_tp.plot.scatter(ax= axes[1], x=\"actual\", y=\"predic\", alpha=0.8, color = clr[i], edgecolors='k')\n",
    "    axes[1].plot(y_train, np.polyval(zhat, y_train),  c='blue', linewidth=1)\n",
    "    axes[1].plot(y_train, y_train, color='green', linewidth=1)\n",
    "    axes[1].tick_params(axis='both', labelsize=10)\n",
    "    axes[1].text(0.05, 0.95,  target_names[i]+' (Training Data)', transform=axes[1].transAxes,fontsize = 20, color = clr[i])\n",
    "    axes[1].text(0.05, 0.90, 'IQRP ={:.2f}'.format(iqrp_train), transform=axes[1].transAxes, fontsize = 16)\n",
    "    axes[1].text(0.05, 0.85, 'RPD ={:.2f}'.format(rpd_train), transform=axes[1].transAxes, fontsize = 16)\n",
    "    axes[1].text(0.05, 0.80, 'R2 ={:.2f}'.format(np.round(r2_train,3)), transform=axes[1].transAxes, fontsize = 16)\n",
    "    axes[1].text(0.95, 0.15, 'Method: '+method, transform=axes[1].transAxes, \n",
    "                    horizontalalignment='right', fontsize = 20)\n",
    "    axes[1].text(0.95, 0.10, 'smoothing window={:.2f}'.format(w), transform=axes[1].transAxes, \n",
    "                    horizontalalignment='right', fontsize = 12)\n",
    "        \n",
    "    "
   ]
  },
  {
   "cell_type": "code",
   "execution_count": 90,
   "id": "89b9db47",
   "metadata": {},
   "outputs": [
    {
     "data": {
      "application/vnd.jupyter.widget-view+json": {
       "model_id": "93251318da4749fb83d721d61e9c25a5",
       "version_major": 2,
       "version_minor": 0
      },
      "text/plain": [
       "interactive(children=(Dropdown(description='target', options=('sand', 'silt', 'clay', 'TOC'), value='sand'), D…"
      ]
     },
     "metadata": {},
     "output_type": "display_data"
    },
    {
     "data": {
      "text/plain": [
       "<function __main__.plot_model_acc(target, method, smth_filt, window_len, spec_preprocessing, n_bands, target_preprocessing)>"
      ]
     },
     "execution_count": 90,
     "metadata": {},
     "output_type": "execute_result"
    }
   ],
   "source": [
    "ipywidgets.interact(plot_model_acc, target = target_names, method = ml_methods, smth_filt = sg_filters, \n",
    "                    window_len = window_lengths, spec_preprocessing = prepare_spec, n_bands = nbands_sampling, \n",
    "                    target_preprocessing = prepare_target)"
   ]
  },
  {
   "cell_type": "code",
   "execution_count": 5,
   "id": "ef58c10e",
   "metadata": {},
   "outputs": [],
   "source": [
    "# 1. Available smoothing filter types: savgol1 and savgol2 ------------------------ (1)\n",
    "sg_filters = ['sg1', 'sg2']\n",
    "\n",
    "# 2. Available window lengths for the smoothing filter ---------------------------- (2)\n",
    "window_lengths = [0, 1, 3, 5, 7, 9, 11, 21, 31, 41, 51, 61, 71, 81, 91, 101]\n",
    "\n",
    "# 3. Available preprocessing for Spectral data ------------------------------------ (3)\n",
    "prepare_spec = ['none', 'fod', 'continuum']\n",
    "#prepare_spec = ['none', 'fod', 'continuum']\n",
    "\n",
    "# 4. Number of bands available for resampling spectra ----------------------------- (4) \n",
    "nbands_sampling = [10, 20, 30, 40, 50, 100, 200, 300, 400, 500, 600, 700, 800, 900, 1000]\n",
    "\n",
    "# 5. Names of target variables in the dataframe ----------------------------------- (5)\n",
    "target_names = ['sand', 'silt', 'clay', 'TOC']\n",
    "\n",
    "# 6. Available preprocessing for Target data -------------------------------------- (6)\n",
    "prepare_target = ['none', 'minmax']\n",
    "\n",
    "# 0. Available machine learning regression models --------------------------------- (7)\n",
    "ml_methods = ['mult', 'plsr']\n",
    "#ml_methods = ['mult', 'plsr', 'cubist', 'randomforest', 'ridge' 'gbrt', 'svm']\n",
    "\n",
    "# 8. Recorded predictions on test-train data for model accuracy  ------------------ (8)\n",
    "test_train_predict = ['test', 'testP', 'train', 'trainP']"
   ]
  },
  {
   "cell_type": "code",
   "execution_count": null,
   "id": "bab84163",
   "metadata": {},
   "outputs": [],
   "source": []
  }
 ],
 "metadata": {
  "kernelspec": {
   "display_name": "Python 3 (ipykernel)",
   "language": "python",
   "name": "python3"
  },
  "language_info": {
   "codemirror_mode": {
    "name": "ipython",
    "version": 3
   },
   "file_extension": ".py",
   "mimetype": "text/x-python",
   "name": "python",
   "nbconvert_exporter": "python",
   "pygments_lexer": "ipython3",
   "version": "3.9.16"
  }
 },
 "nbformat": 4,
 "nbformat_minor": 5
}
