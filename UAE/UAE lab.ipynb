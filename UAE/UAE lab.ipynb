{
 "cells": [
  {
   "cell_type": "code",
   "execution_count": 1,
   "id": "c173cf42",
   "metadata": {},
   "outputs": [],
   "source": [
    "# !pip install openpyxl\n",
    "# !pip install imbalanced-learn\n",
    "# !pip3 install ipympl\n",
    "# !pip install import-ipynb\n",
    "# !pip install shapely\n",
    "# !pip install SciencePlots \n",
    "# !pip install seaborn\n",
    "# !pip install tqdm\n",
    "# !pip install ipywidgets"
   ]
  },
  {
   "cell_type": "code",
   "execution_count": 2,
   "id": "3ef6b01f",
   "metadata": {},
   "outputs": [],
   "source": [
    "import pandas as pd\n",
    "import numpy as np\n",
    "import matplotlib.pyplot as plt\n",
    "import seaborn as sns\n",
    "import scienceplots\n",
    "import os, sys\n",
    "from numpy import nan\n",
    "import re\n",
    "import ipympl\n",
    "# from IPython.core.display import display, HTML\n",
    "import ipywidgets\n",
    "import json\n",
    "from os import listdir\n",
    "import glob\n",
    "import math\n",
    "from IPython.display import Image, display, HTML\n",
    "from shapely.geometry import mapping\n",
    "from sklearn.cross_decomposition import PLSRegression\n",
    "from sklearn.ensemble import RandomForestRegressor\n",
    "from sklearn.model_selection import cross_val_score, train_test_split, RepeatedKFold, cross_val_predict\n",
    "from sklearn.metrics import r2_score, mean_squared_error, precision_score, recall_score, mean_absolute_error, make_scorer\n",
    "from sklearn.svm import SVR\n",
    "from sklearn.linear_model import LinearRegression\n",
    "from sklearn.kernel_ridge import KernelRidge\n",
    "from sklearn.datasets import make_regression\n",
    "from sklearn.ensemble import GradientBoostingRegressor\n",
    "from cubist import Cubist\n",
    "from sklearn.model_selection import GridSearchCV, RandomizedSearchCV, LeaveOneOut, cross_validate\n",
    "from sklearn.impute import SimpleImputer\n",
    "from tqdm.notebook import tqdm\n",
    "from sklearn.svm import SVC\n",
    "from tqdm import tqdm\n",
    "import pickle\n",
    "from imblearn.over_sampling import SMOTE\n",
    "from scipy.stats import ks_2samp\n",
    "from scipy import stats\n",
    "np.seterr(divide='ignore', invalid='ignore')\n",
    "pd.options.display.max_columns = 100\n",
    "from sklearn.preprocessing import PolynomialFeatures\n",
    "%matplotlib inline\n",
    "from scipy.signal import savgol_filter\n",
    "from scipy.spatial import ConvexHull\n",
    "from scipy.interpolate import interp1d"
   ]
  },
  {
   "cell_type": "code",
   "execution_count": 3,
   "id": "22684781",
   "metadata": {},
   "outputs": [
    {
     "name": "stdout",
     "output_type": "stream",
     "text": [
      "importing Jupyter notebook from SoilPrep.ipynb\n"
     ]
    }
   ],
   "source": [
    "import import_ipynb\n",
    "from SoilPrep import * "
   ]
  },
  {
   "cell_type": "markdown",
   "id": "237d1771",
   "metadata": {},
   "source": [
    "# Step 0: Setting up decision paramenters (Data Tree)"
   ]
  },
  {
   "cell_type": "code",
   "execution_count": 4,
   "id": "aee7c2d7",
   "metadata": {},
   "outputs": [],
   "source": [
    "# 1. Available smoothing filter types: savgol1 and savgol2 ------------------------ (1)\n",
    "sg_filters = ['sg1', 'sg2']\n",
    "\n",
    "# 2. Available window lengths for the smoothing filter ---------------------------- (2)\n",
    "window_lengths = [0, 1, 11, 21, 31, 41, 51, 61, 71, 81, 91, 101]\n",
    "\n",
    "# 3. Available preprocessing for Spectral data ------------------------------------ (3)\n",
    "prepare_spec = ['none', 'fod', 'continuum']\n",
    "#prepare_spec = ['none', 'fod', 'continuum']\n",
    "\n",
    "# 4. Number of bands available for resampling spectra ----------------------------- (4) \n",
    "nbands_sampling = [0, 5, 10, 20, 30, 40, 50, 100, 200, 500]\n",
    "\n",
    "# 5. Names of target variables in the dataframe ----------------------------------- (5)\n",
    "target_names = ['sand', 'silt', 'clay', 'TOC']\n",
    "\n",
    "# 6. Available preprocessing for Target data -------------------------------------- (6)\n",
    "prepare_target = ['none', 'minmax']\n",
    "\n",
    "# 7. Available machine learning regression models --------------------------------- (7)\n",
    "ml_methods = ['mult', 'plsr', 'randomforest', 'cubist', 'svr', 'ridge', 'gbrt']\n",
    "\n",
    "# 8. Recorded predictions on test-train data for model accuracy  ------------------ (8)\n",
    "test_train_predict = ['test', 'testP', 'train', 'trainP']"
   ]
  },
  {
   "cell_type": "markdown",
   "id": "41b42ad8",
   "metadata": {},
   "source": [
    "# Step 1a: Obtaining Spectra (Noise and Outliers removal)"
   ]
  },
  {
   "cell_type": "code",
   "execution_count": 5,
   "id": "24fbfeb7",
   "metadata": {},
   "outputs": [],
   "source": [
    "# Colour scheme definition\n",
    "kado = '#8B7355'\n",
    "mati = '#A52A2A'\n",
    "balu = '#F4A460'"
   ]
  },
  {
   "cell_type": "code",
   "execution_count": 6,
   "id": "fd41aebf",
   "metadata": {},
   "outputs": [
    {
     "data": {
      "text/html": [
       "<div>\n",
       "<style scoped>\n",
       "    .dataframe tbody tr th:only-of-type {\n",
       "        vertical-align: middle;\n",
       "    }\n",
       "\n",
       "    .dataframe tbody tr th {\n",
       "        vertical-align: top;\n",
       "    }\n",
       "\n",
       "    .dataframe thead th {\n",
       "        text-align: right;\n",
       "    }\n",
       "</style>\n",
       "<table border=\"1\" class=\"dataframe\">\n",
       "  <thead>\n",
       "    <tr style=\"text-align: right;\">\n",
       "      <th></th>\n",
       "      <th>500</th>\n",
       "      <th>501</th>\n",
       "      <th>502</th>\n",
       "      <th>503</th>\n",
       "      <th>504</th>\n",
       "      <th>505</th>\n",
       "      <th>506</th>\n",
       "      <th>507</th>\n",
       "      <th>508</th>\n",
       "      <th>509</th>\n",
       "      <th>510</th>\n",
       "      <th>511</th>\n",
       "      <th>512</th>\n",
       "      <th>513</th>\n",
       "      <th>514</th>\n",
       "      <th>515</th>\n",
       "      <th>516</th>\n",
       "      <th>517</th>\n",
       "      <th>518</th>\n",
       "      <th>519</th>\n",
       "      <th>520</th>\n",
       "      <th>521</th>\n",
       "      <th>522</th>\n",
       "      <th>523</th>\n",
       "      <th>524</th>\n",
       "      <th>525</th>\n",
       "      <th>526</th>\n",
       "      <th>527</th>\n",
       "      <th>528</th>\n",
       "      <th>529</th>\n",
       "      <th>530</th>\n",
       "      <th>531</th>\n",
       "      <th>532</th>\n",
       "      <th>533</th>\n",
       "      <th>534</th>\n",
       "      <th>535</th>\n",
       "      <th>536</th>\n",
       "      <th>537</th>\n",
       "      <th>538</th>\n",
       "      <th>539</th>\n",
       "      <th>540</th>\n",
       "      <th>541</th>\n",
       "      <th>542</th>\n",
       "      <th>543</th>\n",
       "      <th>544</th>\n",
       "      <th>545</th>\n",
       "      <th>546</th>\n",
       "      <th>547</th>\n",
       "      <th>548</th>\n",
       "      <th>549</th>\n",
       "      <th>...</th>\n",
       "      <th>2351</th>\n",
       "      <th>2352</th>\n",
       "      <th>2353</th>\n",
       "      <th>2354</th>\n",
       "      <th>2355</th>\n",
       "      <th>2356</th>\n",
       "      <th>2357</th>\n",
       "      <th>2358</th>\n",
       "      <th>2359</th>\n",
       "      <th>2360</th>\n",
       "      <th>2361</th>\n",
       "      <th>2362</th>\n",
       "      <th>2363</th>\n",
       "      <th>2364</th>\n",
       "      <th>2365</th>\n",
       "      <th>2366</th>\n",
       "      <th>2367</th>\n",
       "      <th>2368</th>\n",
       "      <th>2369</th>\n",
       "      <th>2370</th>\n",
       "      <th>2371</th>\n",
       "      <th>2372</th>\n",
       "      <th>2373</th>\n",
       "      <th>2374</th>\n",
       "      <th>2375</th>\n",
       "      <th>2376</th>\n",
       "      <th>2377</th>\n",
       "      <th>2378</th>\n",
       "      <th>2379</th>\n",
       "      <th>2380</th>\n",
       "      <th>2381</th>\n",
       "      <th>2382</th>\n",
       "      <th>2383</th>\n",
       "      <th>2384</th>\n",
       "      <th>2385</th>\n",
       "      <th>2386</th>\n",
       "      <th>2387</th>\n",
       "      <th>2388</th>\n",
       "      <th>2389</th>\n",
       "      <th>2390</th>\n",
       "      <th>2391</th>\n",
       "      <th>2392</th>\n",
       "      <th>2393</th>\n",
       "      <th>2394</th>\n",
       "      <th>2395</th>\n",
       "      <th>2396</th>\n",
       "      <th>2397</th>\n",
       "      <th>2398</th>\n",
       "      <th>2399</th>\n",
       "      <th>2400</th>\n",
       "    </tr>\n",
       "  </thead>\n",
       "  <tbody>\n",
       "    <tr>\n",
       "      <th>0</th>\n",
       "      <td>0.219696</td>\n",
       "      <td>0.220718</td>\n",
       "      <td>0.221682</td>\n",
       "      <td>0.222762</td>\n",
       "      <td>0.223911</td>\n",
       "      <td>0.225072</td>\n",
       "      <td>0.225983</td>\n",
       "      <td>0.227195</td>\n",
       "      <td>0.228434</td>\n",
       "      <td>0.229447</td>\n",
       "      <td>0.230477</td>\n",
       "      <td>0.231651</td>\n",
       "      <td>0.232982</td>\n",
       "      <td>0.234067</td>\n",
       "      <td>0.235246</td>\n",
       "      <td>0.236547</td>\n",
       "      <td>0.237816</td>\n",
       "      <td>0.238973</td>\n",
       "      <td>0.240065</td>\n",
       "      <td>0.241200</td>\n",
       "      <td>0.242471</td>\n",
       "      <td>0.243782</td>\n",
       "      <td>0.245019</td>\n",
       "      <td>0.246231</td>\n",
       "      <td>0.247492</td>\n",
       "      <td>0.248815</td>\n",
       "      <td>0.250140</td>\n",
       "      <td>0.251416</td>\n",
       "      <td>0.252683</td>\n",
       "      <td>0.253977</td>\n",
       "      <td>0.255289</td>\n",
       "      <td>0.256609</td>\n",
       "      <td>0.257936</td>\n",
       "      <td>0.259318</td>\n",
       "      <td>0.260675</td>\n",
       "      <td>0.262001</td>\n",
       "      <td>0.263489</td>\n",
       "      <td>0.264948</td>\n",
       "      <td>0.266372</td>\n",
       "      <td>0.267808</td>\n",
       "      <td>0.269245</td>\n",
       "      <td>0.270721</td>\n",
       "      <td>0.272237</td>\n",
       "      <td>0.273741</td>\n",
       "      <td>0.275277</td>\n",
       "      <td>0.276850</td>\n",
       "      <td>0.278365</td>\n",
       "      <td>0.279914</td>\n",
       "      <td>0.281544</td>\n",
       "      <td>0.283125</td>\n",
       "      <td>...</td>\n",
       "      <td>0.528987</td>\n",
       "      <td>0.530938</td>\n",
       "      <td>0.532850</td>\n",
       "      <td>0.534835</td>\n",
       "      <td>0.536737</td>\n",
       "      <td>0.538591</td>\n",
       "      <td>0.540523</td>\n",
       "      <td>0.542499</td>\n",
       "      <td>0.544354</td>\n",
       "      <td>0.546408</td>\n",
       "      <td>0.548265</td>\n",
       "      <td>0.549809</td>\n",
       "      <td>0.551226</td>\n",
       "      <td>0.552392</td>\n",
       "      <td>0.553753</td>\n",
       "      <td>0.555323</td>\n",
       "      <td>0.556546</td>\n",
       "      <td>0.557664</td>\n",
       "      <td>0.558510</td>\n",
       "      <td>0.558794</td>\n",
       "      <td>0.559227</td>\n",
       "      <td>0.559746</td>\n",
       "      <td>0.560120</td>\n",
       "      <td>0.560477</td>\n",
       "      <td>0.560730</td>\n",
       "      <td>0.560851</td>\n",
       "      <td>0.560888</td>\n",
       "      <td>0.560840</td>\n",
       "      <td>0.560849</td>\n",
       "      <td>0.560863</td>\n",
       "      <td>0.560784</td>\n",
       "      <td>0.560749</td>\n",
       "      <td>0.560581</td>\n",
       "      <td>0.560264</td>\n",
       "      <td>0.560002</td>\n",
       "      <td>0.559633</td>\n",
       "      <td>0.559214</td>\n",
       "      <td>0.558821</td>\n",
       "      <td>0.558292</td>\n",
       "      <td>0.557767</td>\n",
       "      <td>0.557408</td>\n",
       "      <td>0.557213</td>\n",
       "      <td>0.556984</td>\n",
       "      <td>0.556703</td>\n",
       "      <td>0.556366</td>\n",
       "      <td>0.555859</td>\n",
       "      <td>0.555380</td>\n",
       "      <td>0.555058</td>\n",
       "      <td>0.554763</td>\n",
       "      <td>0.554330</td>\n",
       "    </tr>\n",
       "    <tr>\n",
       "      <th>1</th>\n",
       "      <td>0.187783</td>\n",
       "      <td>0.188788</td>\n",
       "      <td>0.189796</td>\n",
       "      <td>0.190691</td>\n",
       "      <td>0.191741</td>\n",
       "      <td>0.192860</td>\n",
       "      <td>0.193714</td>\n",
       "      <td>0.194845</td>\n",
       "      <td>0.195998</td>\n",
       "      <td>0.196942</td>\n",
       "      <td>0.197932</td>\n",
       "      <td>0.199039</td>\n",
       "      <td>0.200258</td>\n",
       "      <td>0.201246</td>\n",
       "      <td>0.202282</td>\n",
       "      <td>0.203435</td>\n",
       "      <td>0.204649</td>\n",
       "      <td>0.205728</td>\n",
       "      <td>0.206735</td>\n",
       "      <td>0.207810</td>\n",
       "      <td>0.209025</td>\n",
       "      <td>0.210258</td>\n",
       "      <td>0.211392</td>\n",
       "      <td>0.212488</td>\n",
       "      <td>0.213674</td>\n",
       "      <td>0.214930</td>\n",
       "      <td>0.216065</td>\n",
       "      <td>0.217232</td>\n",
       "      <td>0.218440</td>\n",
       "      <td>0.219600</td>\n",
       "      <td>0.220764</td>\n",
       "      <td>0.221956</td>\n",
       "      <td>0.223190</td>\n",
       "      <td>0.224454</td>\n",
       "      <td>0.225650</td>\n",
       "      <td>0.226782</td>\n",
       "      <td>0.228110</td>\n",
       "      <td>0.229408</td>\n",
       "      <td>0.230653</td>\n",
       "      <td>0.231906</td>\n",
       "      <td>0.233210</td>\n",
       "      <td>0.234532</td>\n",
       "      <td>0.235775</td>\n",
       "      <td>0.237029</td>\n",
       "      <td>0.238316</td>\n",
       "      <td>0.239613</td>\n",
       "      <td>0.240900</td>\n",
       "      <td>0.242202</td>\n",
       "      <td>0.243545</td>\n",
       "      <td>0.244887</td>\n",
       "      <td>...</td>\n",
       "      <td>0.460117</td>\n",
       "      <td>0.462621</td>\n",
       "      <td>0.465095</td>\n",
       "      <td>0.467602</td>\n",
       "      <td>0.470150</td>\n",
       "      <td>0.472715</td>\n",
       "      <td>0.475381</td>\n",
       "      <td>0.478245</td>\n",
       "      <td>0.480901</td>\n",
       "      <td>0.483715</td>\n",
       "      <td>0.486337</td>\n",
       "      <td>0.488608</td>\n",
       "      <td>0.490808</td>\n",
       "      <td>0.492912</td>\n",
       "      <td>0.494985</td>\n",
       "      <td>0.497080</td>\n",
       "      <td>0.498973</td>\n",
       "      <td>0.500710</td>\n",
       "      <td>0.502163</td>\n",
       "      <td>0.503260</td>\n",
       "      <td>0.504325</td>\n",
       "      <td>0.505288</td>\n",
       "      <td>0.506098</td>\n",
       "      <td>0.506824</td>\n",
       "      <td>0.507423</td>\n",
       "      <td>0.507750</td>\n",
       "      <td>0.508102</td>\n",
       "      <td>0.508479</td>\n",
       "      <td>0.508781</td>\n",
       "      <td>0.509077</td>\n",
       "      <td>0.509369</td>\n",
       "      <td>0.509536</td>\n",
       "      <td>0.509571</td>\n",
       "      <td>0.509527</td>\n",
       "      <td>0.509381</td>\n",
       "      <td>0.509154</td>\n",
       "      <td>0.509002</td>\n",
       "      <td>0.508859</td>\n",
       "      <td>0.508654</td>\n",
       "      <td>0.508430</td>\n",
       "      <td>0.508150</td>\n",
       "      <td>0.507865</td>\n",
       "      <td>0.507586</td>\n",
       "      <td>0.507207</td>\n",
       "      <td>0.506834</td>\n",
       "      <td>0.506487</td>\n",
       "      <td>0.506097</td>\n",
       "      <td>0.505641</td>\n",
       "      <td>0.505250</td>\n",
       "      <td>0.504820</td>\n",
       "    </tr>\n",
       "    <tr>\n",
       "      <th>2</th>\n",
       "      <td>0.165603</td>\n",
       "      <td>0.166606</td>\n",
       "      <td>0.167606</td>\n",
       "      <td>0.168545</td>\n",
       "      <td>0.169584</td>\n",
       "      <td>0.170685</td>\n",
       "      <td>0.171606</td>\n",
       "      <td>0.172728</td>\n",
       "      <td>0.173862</td>\n",
       "      <td>0.174827</td>\n",
       "      <td>0.175771</td>\n",
       "      <td>0.176913</td>\n",
       "      <td>0.178225</td>\n",
       "      <td>0.179122</td>\n",
       "      <td>0.180132</td>\n",
       "      <td>0.181309</td>\n",
       "      <td>0.182467</td>\n",
       "      <td>0.183550</td>\n",
       "      <td>0.184579</td>\n",
       "      <td>0.185635</td>\n",
       "      <td>0.186868</td>\n",
       "      <td>0.188132</td>\n",
       "      <td>0.189288</td>\n",
       "      <td>0.190384</td>\n",
       "      <td>0.191511</td>\n",
       "      <td>0.192711</td>\n",
       "      <td>0.193982</td>\n",
       "      <td>0.195140</td>\n",
       "      <td>0.196240</td>\n",
       "      <td>0.197401</td>\n",
       "      <td>0.198585</td>\n",
       "      <td>0.199772</td>\n",
       "      <td>0.200951</td>\n",
       "      <td>0.202163</td>\n",
       "      <td>0.203339</td>\n",
       "      <td>0.204486</td>\n",
       "      <td>0.205816</td>\n",
       "      <td>0.207072</td>\n",
       "      <td>0.208248</td>\n",
       "      <td>0.209476</td>\n",
       "      <td>0.210717</td>\n",
       "      <td>0.211974</td>\n",
       "      <td>0.213223</td>\n",
       "      <td>0.214438</td>\n",
       "      <td>0.215646</td>\n",
       "      <td>0.216856</td>\n",
       "      <td>0.218078</td>\n",
       "      <td>0.219319</td>\n",
       "      <td>0.220595</td>\n",
       "      <td>0.221881</td>\n",
       "      <td>...</td>\n",
       "      <td>0.293886</td>\n",
       "      <td>0.295451</td>\n",
       "      <td>0.297061</td>\n",
       "      <td>0.298779</td>\n",
       "      <td>0.300473</td>\n",
       "      <td>0.302255</td>\n",
       "      <td>0.303971</td>\n",
       "      <td>0.305683</td>\n",
       "      <td>0.307329</td>\n",
       "      <td>0.309024</td>\n",
       "      <td>0.310630</td>\n",
       "      <td>0.312102</td>\n",
       "      <td>0.313447</td>\n",
       "      <td>0.314723</td>\n",
       "      <td>0.315887</td>\n",
       "      <td>0.316964</td>\n",
       "      <td>0.317921</td>\n",
       "      <td>0.318633</td>\n",
       "      <td>0.319301</td>\n",
       "      <td>0.319886</td>\n",
       "      <td>0.320333</td>\n",
       "      <td>0.320726</td>\n",
       "      <td>0.320994</td>\n",
       "      <td>0.321101</td>\n",
       "      <td>0.321141</td>\n",
       "      <td>0.320984</td>\n",
       "      <td>0.320895</td>\n",
       "      <td>0.320859</td>\n",
       "      <td>0.320782</td>\n",
       "      <td>0.320510</td>\n",
       "      <td>0.320220</td>\n",
       "      <td>0.319724</td>\n",
       "      <td>0.319154</td>\n",
       "      <td>0.318653</td>\n",
       "      <td>0.318137</td>\n",
       "      <td>0.317584</td>\n",
       "      <td>0.316948</td>\n",
       "      <td>0.316324</td>\n",
       "      <td>0.315672</td>\n",
       "      <td>0.314978</td>\n",
       "      <td>0.314146</td>\n",
       "      <td>0.313320</td>\n",
       "      <td>0.312549</td>\n",
       "      <td>0.311700</td>\n",
       "      <td>0.310928</td>\n",
       "      <td>0.310244</td>\n",
       "      <td>0.309595</td>\n",
       "      <td>0.308888</td>\n",
       "      <td>0.308181</td>\n",
       "      <td>0.307299</td>\n",
       "    </tr>\n",
       "    <tr>\n",
       "      <th>3</th>\n",
       "      <td>0.258894</td>\n",
       "      <td>0.260033</td>\n",
       "      <td>0.261232</td>\n",
       "      <td>0.262371</td>\n",
       "      <td>0.263599</td>\n",
       "      <td>0.264844</td>\n",
       "      <td>0.265754</td>\n",
       "      <td>0.267021</td>\n",
       "      <td>0.268392</td>\n",
       "      <td>0.269578</td>\n",
       "      <td>0.270728</td>\n",
       "      <td>0.271973</td>\n",
       "      <td>0.273376</td>\n",
       "      <td>0.274612</td>\n",
       "      <td>0.275852</td>\n",
       "      <td>0.277160</td>\n",
       "      <td>0.278517</td>\n",
       "      <td>0.279843</td>\n",
       "      <td>0.281097</td>\n",
       "      <td>0.282317</td>\n",
       "      <td>0.283717</td>\n",
       "      <td>0.285161</td>\n",
       "      <td>0.286502</td>\n",
       "      <td>0.287831</td>\n",
       "      <td>0.289182</td>\n",
       "      <td>0.290585</td>\n",
       "      <td>0.292071</td>\n",
       "      <td>0.293412</td>\n",
       "      <td>0.294704</td>\n",
       "      <td>0.296116</td>\n",
       "      <td>0.297506</td>\n",
       "      <td>0.298905</td>\n",
       "      <td>0.300361</td>\n",
       "      <td>0.301824</td>\n",
       "      <td>0.303245</td>\n",
       "      <td>0.304631</td>\n",
       "      <td>0.306135</td>\n",
       "      <td>0.307635</td>\n",
       "      <td>0.309125</td>\n",
       "      <td>0.310584</td>\n",
       "      <td>0.312084</td>\n",
       "      <td>0.313623</td>\n",
       "      <td>0.315119</td>\n",
       "      <td>0.316595</td>\n",
       "      <td>0.318116</td>\n",
       "      <td>0.319678</td>\n",
       "      <td>0.321119</td>\n",
       "      <td>0.322629</td>\n",
       "      <td>0.324289</td>\n",
       "      <td>0.325896</td>\n",
       "      <td>...</td>\n",
       "      <td>0.488263</td>\n",
       "      <td>0.490756</td>\n",
       "      <td>0.493272</td>\n",
       "      <td>0.495855</td>\n",
       "      <td>0.498441</td>\n",
       "      <td>0.501130</td>\n",
       "      <td>0.503797</td>\n",
       "      <td>0.506493</td>\n",
       "      <td>0.509112</td>\n",
       "      <td>0.511922</td>\n",
       "      <td>0.514517</td>\n",
       "      <td>0.516820</td>\n",
       "      <td>0.519022</td>\n",
       "      <td>0.521089</td>\n",
       "      <td>0.523098</td>\n",
       "      <td>0.525139</td>\n",
       "      <td>0.526950</td>\n",
       "      <td>0.528498</td>\n",
       "      <td>0.529838</td>\n",
       "      <td>0.530912</td>\n",
       "      <td>0.531866</td>\n",
       "      <td>0.532648</td>\n",
       "      <td>0.533371</td>\n",
       "      <td>0.533968</td>\n",
       "      <td>0.534490</td>\n",
       "      <td>0.534928</td>\n",
       "      <td>0.535253</td>\n",
       "      <td>0.535459</td>\n",
       "      <td>0.535783</td>\n",
       "      <td>0.535840</td>\n",
       "      <td>0.535877</td>\n",
       "      <td>0.535990</td>\n",
       "      <td>0.535914</td>\n",
       "      <td>0.535973</td>\n",
       "      <td>0.536102</td>\n",
       "      <td>0.535930</td>\n",
       "      <td>0.535746</td>\n",
       "      <td>0.535411</td>\n",
       "      <td>0.534900</td>\n",
       "      <td>0.534548</td>\n",
       "      <td>0.534110</td>\n",
       "      <td>0.533735</td>\n",
       "      <td>0.533484</td>\n",
       "      <td>0.533093</td>\n",
       "      <td>0.532717</td>\n",
       "      <td>0.532423</td>\n",
       "      <td>0.532059</td>\n",
       "      <td>0.531621</td>\n",
       "      <td>0.531327</td>\n",
       "      <td>0.530812</td>\n",
       "    </tr>\n",
       "    <tr>\n",
       "      <th>4</th>\n",
       "      <td>0.094636</td>\n",
       "      <td>0.095097</td>\n",
       "      <td>0.095510</td>\n",
       "      <td>0.096142</td>\n",
       "      <td>0.096690</td>\n",
       "      <td>0.097173</td>\n",
       "      <td>0.097607</td>\n",
       "      <td>0.098273</td>\n",
       "      <td>0.098904</td>\n",
       "      <td>0.099322</td>\n",
       "      <td>0.099843</td>\n",
       "      <td>0.100478</td>\n",
       "      <td>0.101165</td>\n",
       "      <td>0.101590</td>\n",
       "      <td>0.102151</td>\n",
       "      <td>0.102836</td>\n",
       "      <td>0.103426</td>\n",
       "      <td>0.104015</td>\n",
       "      <td>0.104552</td>\n",
       "      <td>0.105025</td>\n",
       "      <td>0.105758</td>\n",
       "      <td>0.106476</td>\n",
       "      <td>0.107006</td>\n",
       "      <td>0.107597</td>\n",
       "      <td>0.108214</td>\n",
       "      <td>0.108849</td>\n",
       "      <td>0.109514</td>\n",
       "      <td>0.110105</td>\n",
       "      <td>0.110670</td>\n",
       "      <td>0.111302</td>\n",
       "      <td>0.111929</td>\n",
       "      <td>0.112549</td>\n",
       "      <td>0.113169</td>\n",
       "      <td>0.113786</td>\n",
       "      <td>0.114366</td>\n",
       "      <td>0.114948</td>\n",
       "      <td>0.115763</td>\n",
       "      <td>0.116463</td>\n",
       "      <td>0.117040</td>\n",
       "      <td>0.117727</td>\n",
       "      <td>0.118449</td>\n",
       "      <td>0.119169</td>\n",
       "      <td>0.119845</td>\n",
       "      <td>0.120538</td>\n",
       "      <td>0.121241</td>\n",
       "      <td>0.121925</td>\n",
       "      <td>0.122585</td>\n",
       "      <td>0.123269</td>\n",
       "      <td>0.124012</td>\n",
       "      <td>0.124778</td>\n",
       "      <td>...</td>\n",
       "      <td>0.396039</td>\n",
       "      <td>0.396854</td>\n",
       "      <td>0.397730</td>\n",
       "      <td>0.398695</td>\n",
       "      <td>0.399656</td>\n",
       "      <td>0.400719</td>\n",
       "      <td>0.401691</td>\n",
       "      <td>0.402629</td>\n",
       "      <td>0.403551</td>\n",
       "      <td>0.404527</td>\n",
       "      <td>0.405446</td>\n",
       "      <td>0.406320</td>\n",
       "      <td>0.406979</td>\n",
       "      <td>0.407481</td>\n",
       "      <td>0.407969</td>\n",
       "      <td>0.408339</td>\n",
       "      <td>0.408692</td>\n",
       "      <td>0.408942</td>\n",
       "      <td>0.409104</td>\n",
       "      <td>0.409146</td>\n",
       "      <td>0.409183</td>\n",
       "      <td>0.409274</td>\n",
       "      <td>0.409210</td>\n",
       "      <td>0.409034</td>\n",
       "      <td>0.408882</td>\n",
       "      <td>0.408613</td>\n",
       "      <td>0.408346</td>\n",
       "      <td>0.408172</td>\n",
       "      <td>0.408006</td>\n",
       "      <td>0.407627</td>\n",
       "      <td>0.407293</td>\n",
       "      <td>0.406988</td>\n",
       "      <td>0.406642</td>\n",
       "      <td>0.406345</td>\n",
       "      <td>0.406018</td>\n",
       "      <td>0.405552</td>\n",
       "      <td>0.405078</td>\n",
       "      <td>0.404654</td>\n",
       "      <td>0.404259</td>\n",
       "      <td>0.403936</td>\n",
       "      <td>0.403567</td>\n",
       "      <td>0.403306</td>\n",
       "      <td>0.403156</td>\n",
       "      <td>0.402824</td>\n",
       "      <td>0.402445</td>\n",
       "      <td>0.401975</td>\n",
       "      <td>0.401428</td>\n",
       "      <td>0.400986</td>\n",
       "      <td>0.400618</td>\n",
       "      <td>0.400252</td>\n",
       "    </tr>\n",
       "  </tbody>\n",
       "</table>\n",
       "<p>5 rows × 1901 columns</p>\n",
       "</div>"
      ],
      "text/plain": [
       "        500       501       502       503       504       505       506  \\\n",
       "0  0.219696  0.220718  0.221682  0.222762  0.223911  0.225072  0.225983   \n",
       "1  0.187783  0.188788  0.189796  0.190691  0.191741  0.192860  0.193714   \n",
       "2  0.165603  0.166606  0.167606  0.168545  0.169584  0.170685  0.171606   \n",
       "3  0.258894  0.260033  0.261232  0.262371  0.263599  0.264844  0.265754   \n",
       "4  0.094636  0.095097  0.095510  0.096142  0.096690  0.097173  0.097607   \n",
       "\n",
       "        507       508       509       510       511       512       513  \\\n",
       "0  0.227195  0.228434  0.229447  0.230477  0.231651  0.232982  0.234067   \n",
       "1  0.194845  0.195998  0.196942  0.197932  0.199039  0.200258  0.201246   \n",
       "2  0.172728  0.173862  0.174827  0.175771  0.176913  0.178225  0.179122   \n",
       "3  0.267021  0.268392  0.269578  0.270728  0.271973  0.273376  0.274612   \n",
       "4  0.098273  0.098904  0.099322  0.099843  0.100478  0.101165  0.101590   \n",
       "\n",
       "        514       515       516       517       518       519       520  \\\n",
       "0  0.235246  0.236547  0.237816  0.238973  0.240065  0.241200  0.242471   \n",
       "1  0.202282  0.203435  0.204649  0.205728  0.206735  0.207810  0.209025   \n",
       "2  0.180132  0.181309  0.182467  0.183550  0.184579  0.185635  0.186868   \n",
       "3  0.275852  0.277160  0.278517  0.279843  0.281097  0.282317  0.283717   \n",
       "4  0.102151  0.102836  0.103426  0.104015  0.104552  0.105025  0.105758   \n",
       "\n",
       "        521       522       523       524       525       526       527  \\\n",
       "0  0.243782  0.245019  0.246231  0.247492  0.248815  0.250140  0.251416   \n",
       "1  0.210258  0.211392  0.212488  0.213674  0.214930  0.216065  0.217232   \n",
       "2  0.188132  0.189288  0.190384  0.191511  0.192711  0.193982  0.195140   \n",
       "3  0.285161  0.286502  0.287831  0.289182  0.290585  0.292071  0.293412   \n",
       "4  0.106476  0.107006  0.107597  0.108214  0.108849  0.109514  0.110105   \n",
       "\n",
       "        528       529       530       531       532       533       534  \\\n",
       "0  0.252683  0.253977  0.255289  0.256609  0.257936  0.259318  0.260675   \n",
       "1  0.218440  0.219600  0.220764  0.221956  0.223190  0.224454  0.225650   \n",
       "2  0.196240  0.197401  0.198585  0.199772  0.200951  0.202163  0.203339   \n",
       "3  0.294704  0.296116  0.297506  0.298905  0.300361  0.301824  0.303245   \n",
       "4  0.110670  0.111302  0.111929  0.112549  0.113169  0.113786  0.114366   \n",
       "\n",
       "        535       536       537       538       539       540       541  \\\n",
       "0  0.262001  0.263489  0.264948  0.266372  0.267808  0.269245  0.270721   \n",
       "1  0.226782  0.228110  0.229408  0.230653  0.231906  0.233210  0.234532   \n",
       "2  0.204486  0.205816  0.207072  0.208248  0.209476  0.210717  0.211974   \n",
       "3  0.304631  0.306135  0.307635  0.309125  0.310584  0.312084  0.313623   \n",
       "4  0.114948  0.115763  0.116463  0.117040  0.117727  0.118449  0.119169   \n",
       "\n",
       "        542       543       544       545       546       547       548  \\\n",
       "0  0.272237  0.273741  0.275277  0.276850  0.278365  0.279914  0.281544   \n",
       "1  0.235775  0.237029  0.238316  0.239613  0.240900  0.242202  0.243545   \n",
       "2  0.213223  0.214438  0.215646  0.216856  0.218078  0.219319  0.220595   \n",
       "3  0.315119  0.316595  0.318116  0.319678  0.321119  0.322629  0.324289   \n",
       "4  0.119845  0.120538  0.121241  0.121925  0.122585  0.123269  0.124012   \n",
       "\n",
       "        549  ...      2351      2352      2353      2354      2355      2356  \\\n",
       "0  0.283125  ...  0.528987  0.530938  0.532850  0.534835  0.536737  0.538591   \n",
       "1  0.244887  ...  0.460117  0.462621  0.465095  0.467602  0.470150  0.472715   \n",
       "2  0.221881  ...  0.293886  0.295451  0.297061  0.298779  0.300473  0.302255   \n",
       "3  0.325896  ...  0.488263  0.490756  0.493272  0.495855  0.498441  0.501130   \n",
       "4  0.124778  ...  0.396039  0.396854  0.397730  0.398695  0.399656  0.400719   \n",
       "\n",
       "       2357      2358      2359      2360      2361      2362      2363  \\\n",
       "0  0.540523  0.542499  0.544354  0.546408  0.548265  0.549809  0.551226   \n",
       "1  0.475381  0.478245  0.480901  0.483715  0.486337  0.488608  0.490808   \n",
       "2  0.303971  0.305683  0.307329  0.309024  0.310630  0.312102  0.313447   \n",
       "3  0.503797  0.506493  0.509112  0.511922  0.514517  0.516820  0.519022   \n",
       "4  0.401691  0.402629  0.403551  0.404527  0.405446  0.406320  0.406979   \n",
       "\n",
       "       2364      2365      2366      2367      2368      2369      2370  \\\n",
       "0  0.552392  0.553753  0.555323  0.556546  0.557664  0.558510  0.558794   \n",
       "1  0.492912  0.494985  0.497080  0.498973  0.500710  0.502163  0.503260   \n",
       "2  0.314723  0.315887  0.316964  0.317921  0.318633  0.319301  0.319886   \n",
       "3  0.521089  0.523098  0.525139  0.526950  0.528498  0.529838  0.530912   \n",
       "4  0.407481  0.407969  0.408339  0.408692  0.408942  0.409104  0.409146   \n",
       "\n",
       "       2371      2372      2373      2374      2375      2376      2377  \\\n",
       "0  0.559227  0.559746  0.560120  0.560477  0.560730  0.560851  0.560888   \n",
       "1  0.504325  0.505288  0.506098  0.506824  0.507423  0.507750  0.508102   \n",
       "2  0.320333  0.320726  0.320994  0.321101  0.321141  0.320984  0.320895   \n",
       "3  0.531866  0.532648  0.533371  0.533968  0.534490  0.534928  0.535253   \n",
       "4  0.409183  0.409274  0.409210  0.409034  0.408882  0.408613  0.408346   \n",
       "\n",
       "       2378      2379      2380      2381      2382      2383      2384  \\\n",
       "0  0.560840  0.560849  0.560863  0.560784  0.560749  0.560581  0.560264   \n",
       "1  0.508479  0.508781  0.509077  0.509369  0.509536  0.509571  0.509527   \n",
       "2  0.320859  0.320782  0.320510  0.320220  0.319724  0.319154  0.318653   \n",
       "3  0.535459  0.535783  0.535840  0.535877  0.535990  0.535914  0.535973   \n",
       "4  0.408172  0.408006  0.407627  0.407293  0.406988  0.406642  0.406345   \n",
       "\n",
       "       2385      2386      2387      2388      2389      2390      2391  \\\n",
       "0  0.560002  0.559633  0.559214  0.558821  0.558292  0.557767  0.557408   \n",
       "1  0.509381  0.509154  0.509002  0.508859  0.508654  0.508430  0.508150   \n",
       "2  0.318137  0.317584  0.316948  0.316324  0.315672  0.314978  0.314146   \n",
       "3  0.536102  0.535930  0.535746  0.535411  0.534900  0.534548  0.534110   \n",
       "4  0.406018  0.405552  0.405078  0.404654  0.404259  0.403936  0.403567   \n",
       "\n",
       "       2392      2393      2394      2395      2396      2397      2398  \\\n",
       "0  0.557213  0.556984  0.556703  0.556366  0.555859  0.555380  0.555058   \n",
       "1  0.507865  0.507586  0.507207  0.506834  0.506487  0.506097  0.505641   \n",
       "2  0.313320  0.312549  0.311700  0.310928  0.310244  0.309595  0.308888   \n",
       "3  0.533735  0.533484  0.533093  0.532717  0.532423  0.532059  0.531621   \n",
       "4  0.403306  0.403156  0.402824  0.402445  0.401975  0.401428  0.400986   \n",
       "\n",
       "       2399      2400  \n",
       "0  0.554763  0.554330  \n",
       "1  0.505250  0.504820  \n",
       "2  0.308181  0.307299  \n",
       "3  0.531327  0.530812  \n",
       "4  0.400618  0.400252  \n",
       "\n",
       "[5 rows x 1901 columns]"
      ]
     },
     "execution_count": 6,
     "metadata": {},
     "output_type": "execute_result"
    }
   ],
   "source": [
    "df = pd.read_csv('uae.csv')\n",
    "spectra = df.iloc[:, 7:2158].copy()\n",
    "temp_spec = spectra.copy()\n",
    "spectra = temp_spec.iloc[:,150:2051].copy()\n",
    "spectra.head(5)"
   ]
  },
  {
   "cell_type": "code",
   "execution_count": 7,
   "id": "76185608",
   "metadata": {},
   "outputs": [],
   "source": [
    "# for i in range (0,5,1):\n",
    "#     spectra.iloc[i,:].plot()"
   ]
  },
  {
   "cell_type": "markdown",
   "id": "e1acff7d",
   "metadata": {},
   "source": [
    "# Step 1b: Obtaining Targets (Outliers removal and Normalization)"
   ]
  },
  {
   "cell_type": "code",
   "execution_count": 8,
   "id": "58ad22bd",
   "metadata": {},
   "outputs": [],
   "source": [
    "df = pd.read_csv('uae.csv')\n",
    "# ------------- Target Isolation ----------------------\n",
    "\n",
    "clr = ['#F4A460', '#8B7355', '#A52A2A', 'green']\n",
    "\n",
    "def isolate_targets(df, target_names):\n",
    "    T=[]\n",
    "    for i in range (0,len(target_names)):\n",
    "        T.append(df[target_names[i]])\n",
    "    return(T)\n",
    "    \n",
    "T = isolate_targets(df,target_names) \n",
    "\n",
    "\n",
    "def normalize_targets(T):          \n",
    "    NT =[]\n",
    "    for i in range(0, len(T)):\n",
    "        NT.append(min_max_normal(T[i].copy()))\n",
    "    return(NT)\n",
    "\n",
    "NT = normalize_targets(T)\n"
   ]
  },
  {
   "cell_type": "markdown",
   "id": "8cd5b13f",
   "metadata": {},
   "source": [
    "# Step 1c: Spectra Preprocessing (Smooth, FOD/Contin, and Resample)"
   ]
  },
  {
   "cell_type": "markdown",
   "id": "b7aae8ec",
   "metadata": {},
   "source": [
    "## Savgol smoothing (order 1 and order 2)"
   ]
  },
  {
   "cell_type": "code",
   "execution_count": 9,
   "id": "99baabb8",
   "metadata": {},
   "outputs": [],
   "source": [
    "# -------------- Smoothed Spectra spec1 (savgol order 1) and spec2 (savgol order 2)  -----------\n",
    "\n",
    "spec1 = {}\n",
    "for i in window_lengths:\n",
    "    spec1[i] = filt_sg(spectra, i, 'sg1')                   \n",
    "\n",
    "spec2 = {}\n",
    "for i in window_lengths:\n",
    "    spec2[i] = filt_sg(spectra, i, 'sg2')\n",
    "\n",
    "smth_spec = sgsmooth (spectra, 3)    "
   ]
  },
  {
   "cell_type": "markdown",
   "id": "f253386c",
   "metadata": {},
   "source": [
    "## First Order Derivative"
   ]
  },
  {
   "cell_type": "code",
   "execution_count": 34,
   "id": "385ba98c",
   "metadata": {},
   "outputs": [
    {
     "data": {
      "image/png": "[encoded data removed]",
      "text/plain": [
       "<Figure size 576x432 with 1 Axes>"
      ]
     },
     "metadata": {
      "needs_background": "light"
     },
     "output_type": "display_data"
    }
   ],
   "source": [
    "fod_spec = fod(smth_spec)\n",
    "\n",
    "for i in range (0,5,1):\n",
    "    fod_spec.iloc[i,:].plot()\n"
   ]
  },
  {
   "cell_type": "markdown",
   "id": "8f55420f",
   "metadata": {},
   "source": [
    "## Continuum Removal"
   ]
  },
  {
   "cell_type": "code",
   "execution_count": 33,
   "id": "e800b1b8",
   "metadata": {},
   "outputs": [
    {
     "data": {
      "image/png": "[encoded data removed]",
      "text/plain": [
       "<Figure size 576x432 with 1 Axes>"
      ]
     },
     "metadata": {
      "needs_background": "light"
     },
     "output_type": "display_data"
    }
   ],
   "source": [
    "cr_spec = continuum_removed(spec2[51])\n",
    "\n",
    "for i in range (0,5,1):\n",
    "    cr_spec.iloc[i,:].plot()\n",
    "    "
   ]
  },
  {
   "cell_type": "markdown",
   "id": "88485b75",
   "metadata": {},
   "source": [
    "## Resampling (n_bands)"
   ]
  },
  {
   "cell_type": "markdown",
   "id": "c3293312",
   "metadata": {},
   "source": [
    "### 1. Sampled Original (sampled_spec: sampled clipped_spectra)"
   ]
  },
  {
   "cell_type": "code",
   "execution_count": 12,
   "id": "f516492c",
   "metadata": {},
   "outputs": [],
   "source": [
    "sampled_spec = {}\n",
    "for n in nbands_sampling:\n",
    "    sampled_spec[n] = resample_spectra (spec2[51], n)"
   ]
  },
  {
   "cell_type": "code",
   "execution_count": 13,
   "id": "e039a42c",
   "metadata": {},
   "outputs": [],
   "source": [
    "# for i in range (0,5,1):\n",
    "#     sampled_spec[200].iloc[i,:].plot()"
   ]
  },
  {
   "cell_type": "markdown",
   "id": "6b556f5a",
   "metadata": {},
   "source": [
    "### 2. Sampled Continuum Removed  (sampled_cr)"
   ]
  },
  {
   "cell_type": "code",
   "execution_count": 14,
   "id": "fab45619",
   "metadata": {},
   "outputs": [],
   "source": [
    "sampled_cr = {}\n",
    "for n in nbands_sampling:\n",
    "    sampled_cr[n] = resample_spectra (cr_spec, n)"
   ]
  },
  {
   "cell_type": "code",
   "execution_count": 15,
   "id": "de689267",
   "metadata": {},
   "outputs": [],
   "source": [
    "# for i in range (0,5,1):\n",
    "#     sampled_cr[200].iloc[i,:].plot()"
   ]
  },
  {
   "cell_type": "markdown",
   "id": "822eed90",
   "metadata": {},
   "source": [
    "### 3. Sampled FOD  (sampled_fod)"
   ]
  },
  {
   "cell_type": "code",
   "execution_count": 16,
   "id": "cd32e9c3",
   "metadata": {},
   "outputs": [],
   "source": [
    "sampled_fod = {}\n",
    "for n in nbands_sampling:\n",
    "    sampled_fod[n] = resample_spectra (fod_spec, n)"
   ]
  },
  {
   "cell_type": "code",
   "execution_count": 35,
   "id": "bbaa74eb",
   "metadata": {},
   "outputs": [],
   "source": [
    "# for i in range (0,10,1):\n",
    "#     sampled_fod[200].iloc[i,:].plot()"
   ]
  },
  {
   "cell_type": "markdown",
   "id": "ad37e7ab",
   "metadata": {},
   "source": [
    "## Visualizing Processed Spectrum (variable samples)"
   ]
  },
  {
   "cell_type": "code",
   "execution_count": 18,
   "id": "ecc8344d",
   "metadata": {},
   "outputs": [
    {
     "data": {
      "application/vnd.jupyter.widget-view+json": {
       "model_id": "87ada00c9c9b4f8ba280537f5f274c00",
       "version_major": 2,
       "version_minor": 0
      },
      "text/plain": [
       "interactive(children=(IntSlider(value=146, description='sample', max=293), Dropdown(description='process', opt…"
      ]
     },
     "metadata": {},
     "output_type": "display_data"
    },
    {
     "data": {
      "text/plain": [
       "<function __main__.plot_spec(sample, process)>"
      ]
     },
     "execution_count": 18,
     "metadata": {},
     "output_type": "execute_result"
    }
   ],
   "source": [
    "def plot_spec (sample, process):\n",
    "    x1 = spec2[51].iloc[sample,:]\n",
    "    x1.plot()\n",
    "    if process == 'continuum':\n",
    "        x2 = cr_spec.iloc[sample,:]\n",
    "        x2.plot()\n",
    "    else: \n",
    "        x3 = fod_spec.iloc[sample,:]*100\n",
    "        \n",
    "        x3.plot()\n",
    "    plt.ylim([-0.6, 0.8])\n",
    "\n",
    "ipywidgets.interact(plot_spec, sample = (0, 293,1), process = ['fod', 'continuum'])"
   ]
  },
  {
   "cell_type": "markdown",
   "id": "c12f62f4",
   "metadata": {},
   "source": [
    "## Correlation between wavelengths and Targets"
   ]
  },
  {
   "cell_type": "code",
   "execution_count": 19,
   "id": "dd230431",
   "metadata": {},
   "outputs": [
    {
     "data": {
      "application/vnd.jupyter.widget-view+json": {
       "model_id": "09f4150d56c84f449db1aa9a6b2f0ed7",
       "version_major": 2,
       "version_minor": 0
      },
      "text/plain": [
       "interactive(children=(Dropdown(description='target', options=('sand', 'silt', 'clay', 'TOC'), value='sand'), D…"
      ]
     },
     "metadata": {},
     "output_type": "display_data"
    },
    {
     "data": {
      "text/plain": [
       "<function __main__.plot_corr(target, spec_cr_fod, n_bands)>"
      ]
     },
     "execution_count": 19,
     "metadata": {},
     "output_type": "execute_result"
    }
   ],
   "source": [
    "plt.style.use(['science','notebook','grid'])\n",
    "\n",
    "def plot_corr (target, spec_cr_fod, n_bands):\n",
    "    \n",
    "    i = target_names.index(target)    \n",
    "    \n",
    "    if  spec_cr_fod == 'spec':\n",
    "        r_val, p_val = find_rpval (resample_spectra(spec2[51], n_bands), T[i])\n",
    "        r_val.iloc[0,:].plot(color = clr[i])\n",
    "    elif  spec_cr_fod == 'cr':\n",
    "        r_cr, p_cr = find_rpval (resample_spectra(cr_spec, n_bands), T[i])\n",
    "        r_cr.iloc[0,:].plot(color = clr[i])\n",
    "    else:\n",
    "        r_fod, p_fod = find_rpval (resample_spectra(fod_spec, n_bands), T[i])\n",
    "        r_fod.iloc[0,:].plot(color = clr[i])\n",
    "    \n",
    "    plt.ylim([-0.7, 0.7])\n",
    "\n",
    "ipywidgets.interact(plot_corr, target = target_names, spec_cr_fod = ['spec', 'cr','fod'], n_bands = nbands_sampling)\n",
    "\n"
   ]
  },
  {
   "cell_type": "markdown",
   "id": "f00e07ff",
   "metadata": {},
   "source": [
    "# Step 2:  Parameters for Best Train-Test Split  "
   ]
  },
  {
   "cell_type": "code",
   "execution_count": 20,
   "id": "1300a125",
   "metadata": {},
   "outputs": [
    {
     "name": "stdout",
     "output_type": "stream",
     "text": [
      "Without Normalization:\n",
      "For sand :test size = 0.2 \t min bin error= 21.25 \t at randome state = 18\n",
      "For silt :test size = 0.2 \t min bin error= 18.75 \t at randome state = 13\n",
      "For clay :test size = 0.2 \t min bin error= 31.25 \t at randome state = 7\n",
      "For TOC :test size = 0.2 \t min bin error= 13.75 \t at randome state = 15\n",
      "After Normalization:\n",
      "For sand :test size = 0.2 \t min bin error= 33.75 \t at randome state = 23\n",
      "For silt :test size = 0.2 \t min bin error= 33.75 \t at randome state = 0\n",
      "For clay :test size = 0.2 \t min bin error= 31.25 \t at randome state = 7\n",
      "For TOC :test size = 0.2 \t min bin error= 23.75 \t at randome state = 13\n"
     ]
    }
   ],
   "source": [
    "# Building Mtree (Model Tree) ----------------------------------\n",
    "\n",
    "tst_siz = 0.20\n",
    "\n",
    "rand_t = [None] * (len(T))\n",
    "err_t = [None] * (len(T))\n",
    "\n",
    "print('Without Normalization:')\n",
    "for i in range (0,len(T)):\n",
    "    rand_t[i], err_t[i] = best_split(spectra.copy(), T[i], tst_siz) \n",
    "    print ('For '+ target_names[i]+ ' :test size =', tst_siz, '\\t min bin error=', err_t[i], '\\t at randome state =', rand_t[i])\n",
    "    \n",
    "rand_nt = [None] * (len(T))\n",
    "err_nt = [None] * (len(T))\n",
    "\n",
    "print('After Normalization:')\n",
    "for i in range (0,len(T)):\n",
    "    rand_nt[i], err_nt[i] = best_split(spectra.copy(), NT[i], tst_siz)     \n",
    "    print ('For '+ target_names[i]+ ' :test size =', tst_siz, '\\t min bin error=', err_nt[i], '\\t at randome state =', rand_nt[i])\n",
    "    \n",
    "    "
   ]
  },
  {
   "cell_type": "markdown",
   "id": "7e853a50",
   "metadata": {},
   "source": [
    "# Step 3: Parameters for Best Model Fit "
   ]
  },
  {
   "cell_type": "markdown",
   "id": "d531478b",
   "metadata": {},
   "source": [
    "## PLSR"
   ]
  },
  {
   "cell_type": "code",
   "execution_count": 21,
   "id": "311d0c9a",
   "metadata": {},
   "outputs": [],
   "source": [
    "from sklearn import linear_model\n",
    "\n",
    "def best_param_PLSR (X_train, X_test, y_train, y_test, n_comp):\n",
    "        \n",
    "    iqrpL = []\n",
    "#     r2L = []\n",
    "#     rpdL = []\n",
    "    \n",
    "    for n in range(1,n_comp):\n",
    "        Model = PLSRegression(n_components=n, scale=True)\n",
    "        Model.fit(X_train, y_train)\n",
    "        y_pred = Model.predict(X_test, copy=True)\n",
    "        \n",
    "        iqrp_test = find_iqrp(y_pred, y_test)\n",
    "#         r2_test = find_r2(y_pred, y_test)         \n",
    "#         rpd_test = find_rpd(y_pred, y_test)\n",
    "               \n",
    "        iqrpL.append(iqrp_test)\n",
    "#         r2L.append(r2_test)\n",
    "#         rpdL.append(rpd_test)\n",
    "                \n",
    "    \n",
    "    IQRP = max(iqrpL)\n",
    "    n_iqrp = iqrpL.index(max(iqrpL))+1\n",
    "#     R2 = max(r2L)     \n",
    "#     n_r2 = r2L.index(R2)+1    \n",
    "#     RPD = max(rpdL)\n",
    "#     n_rpd = rpdL.index(RPD)+1\n",
    "    \n",
    "    #print('IQRP :', IQRP,  'R2 :', R2,  '>>> n_comp: ', n_iqrp)    \n",
    "    return (n_iqrp)\n",
    "        \n",
    " "
   ]
  },
  {
   "cell_type": "markdown",
   "id": "d908099c",
   "metadata": {},
   "source": [
    "# Step 4: Building Model Tree (Mtree)"
   ]
  },
  {
   "cell_type": "code",
   "execution_count": 22,
   "id": "07468618",
   "metadata": {},
   "outputs": [],
   "source": [
    "import os\n",
    "os.system('say \"your program has finished\"')\n",
    "import time"
   ]
  },
  {
   "cell_type": "code",
   "execution_count": 23,
   "id": "f4a97c5c",
   "metadata": {},
   "outputs": [],
   "source": [
    "# 0. Available machine learning regression models --------------------------------- (7)\n",
    "ml_methods = ['mult', 'plsr', 'randomforest', 'cubist', 'svr', 'ridge', 'gbrt']\n",
    "#ml_methods = ['mult', 'plsr', 'cubist', 'randomforest', 'ridge' 'gbrt', 'svr']"
   ]
  },
  {
   "cell_type": "code",
   "execution_count": 24,
   "id": "36d247b4",
   "metadata": {},
   "outputs": [],
   "source": [
    "max_n_comp = 5\n",
    "\n",
    "def build_tree_for (method_name):\n",
    "    tree ={}\n",
    "    start = time.time()\n",
    "    m = method_name\n",
    "    #-- code to build tree----\n",
    "    for t in target_names:\n",
    "        print('tree for: '+ m +' ------> running on: ' + t)\n",
    "        tree[t] ={}\n",
    "        for tp in prepare_target:\n",
    "            tree[t][tp] ={}\n",
    "            for n in nbands_sampling:\n",
    "                tree[t][tp][n] ={}\n",
    "                for p in prepare_spec:\n",
    "                    tree[t][tp][n][p] ={}\n",
    "                    Y = tree[t][tp][n][p]\n",
    "                    \n",
    "                        \n",
    "                    #------ setting spec to appropriate (sampled) spectra----\n",
    "                    if p == 'none':\n",
    "                        if n == 0:\n",
    "                            if m == 'randomforest' or m == 'cubist' or m == 'gbrt':\n",
    "                                #---- reched here due to tree based methods e.g. randomforest--\n",
    "                                spec = sampled_spec[100]\n",
    "                            else:\n",
    "                                spec = spec2[51]\n",
    "                        else:\n",
    "                            #---- reached here with some n!=0----\n",
    "                            spec = sampled_spec[n]\n",
    "                        \n",
    "                    elif p == 'fod':\n",
    "                        if n == 0:\n",
    "                            if m == 'randomforest' or m == 'cubist' or m == 'gbrt':\n",
    "                                #---- reched here due to tree based methods e.g. randomforest--\n",
    "                                spec = sampled_fod[100]\n",
    "                            else:\n",
    "                                spec = fod_spec\n",
    "                        else:\n",
    "                            #---- reached here with some n!=0----\n",
    "                            spec = sampled_fod[n]\n",
    "                                \n",
    "                    else:  \n",
    "                        if n == 0:\n",
    "                            if m == 'randomforest' or m == 'cubist' or m == 'gbrt':\n",
    "                                #---- reched here due to tree based methods e.g. randomforest--\n",
    "                                spec = sampled_cr[100]\n",
    "                            else:\n",
    "                                spec = cr_spec\n",
    "                        else:\n",
    "                            #---- reached here with some n!=0----\n",
    "                            spec = sampled_cr[n]\n",
    "                        \n",
    "                    #---- target selection and normalization ---\n",
    "                    if tp == 'none':\n",
    "                        y = T[target_names.index(t)]\n",
    "                        rand_n = rand_t[target_names.index(t)]  #-- for future use in train-test split\n",
    "                    else:\n",
    "                        y = NT[target_names.index(t)]\n",
    "                        rand_n = rand_nt[target_names.index(t)] #-- for future use in train-test split\n",
    "                        #print('one more target set')\n",
    "                            \n",
    "                    #---- performing train-test split----------------------\n",
    "                    X_train, X_test, y_train, y_test = train_test_split(spec, y, test_size= tst_siz, random_state=rand_n)\n",
    "                        \n",
    "                        \n",
    "                    #------INITIATING the appropriate models-----------------------------------------------\n",
    "                    #----- PLSR: best parameters, fitting, and prediction\n",
    "                    if m == 'plsr':\n",
    "                        n_com = best_param_PLSR (X_train, X_test, y_train, y_test, max_n_comp)\n",
    "                        Y['n_comp'] = n_com\n",
    "                        Model = PLSRegression(n_components=n_com, scale=True)\n",
    "                    #----- MULTILINEAR:  fitting, and prediction---------- \n",
    "                    elif m == 'mult':\n",
    "                        Model = linear_model.LinearRegression()    \n",
    "                    #----- RANDOM_FOREST:   fitting, and prediction---------- \n",
    "                    elif m == 'randomforest': \n",
    "                        Model = RandomForestRegressor(random_state= 23)    \n",
    "                    #----- CUBIST REGRESSION:    fitting and prediction---------\n",
    "                    elif m == 'cubist':\n",
    "                        Model = Cubist(n_rules = 50, n_committees = 5, random_state = 42)    \n",
    "                    #------ SUPPORT VECTOR MACHINE FOR REGRESSION: fitting and prediction-----------      \n",
    "                    elif m == 'svr': \n",
    "                        Model = SVR()\n",
    "                    #------ RIDGE REGRESSION: fitting and prediction-----------      \n",
    "                    elif m == 'ridge': \n",
    "                        Model = KernelRidge()\n",
    "                    #------ GRADIENT BOOSTING REGRESSION: fitting and prediction-----------      \n",
    "                    else: \n",
    "                        Model = GradientBoostingRegressor()                         \n",
    "                        \n",
    "                    Model.fit(X_train, y_train)\n",
    "                    y_pred = Model.predict(X_test)\n",
    "                    yhat_pred = Model.predict(X_train)\n",
    "                                \n",
    "                    Y['test'] = y_test\n",
    "                    Y['testP'] = y_pred\n",
    "                    Y['train'] = y_train\n",
    "                    Y['trainP'] = yhat_pred\n",
    "                    Y['iqrp_test'] = find_iqrp(y_pred, y_test)\n",
    "                    Y['r2_test'] = find_r2(y_pred, y_test)\n",
    "                    Y['rpd_test'] = find_rpd(y_pred, y_test)\n",
    "                    Y['rmse_test'] = find_rmse(y_pred, y_test)\n",
    "                                                                \n",
    "                                                                         \n",
    "    end = time.time()                            \n",
    "    os.system('say \"your program has finished\"')                            \n",
    "\n",
    "    print('End time - Start time =', (end-start)) \n",
    "    \n",
    "    return (tree.copy())\n"
   ]
  },
  {
   "cell_type": "markdown",
   "id": "2cbe7179",
   "metadata": {},
   "source": [
    "## Mtree initialisation (do not run below code every time)"
   ]
  },
  {
   "cell_type": "code",
   "execution_count": 25,
   "id": "fbc012ba",
   "metadata": {},
   "outputs": [],
   "source": [
    "Mtree ={}"
   ]
  },
  {
   "cell_type": "markdown",
   "id": "65d3136d",
   "metadata": {},
   "source": [
    "## Creating different branches of Mtree (for separate methods)"
   ]
  },
  {
   "cell_type": "markdown",
   "id": "9e879891",
   "metadata": {},
   "source": [
    "### PLSR Branch "
   ]
  },
  {
   "cell_type": "code",
   "execution_count": 26,
   "id": "41c34738",
   "metadata": {},
   "outputs": [
    {
     "name": "stdout",
     "output_type": "stream",
     "text": [
      "tree for: plsr ------> running on: sand\n",
      "tree for: plsr ------> running on: silt\n",
      "tree for: plsr ------> running on: clay\n",
      "tree for: plsr ------> running on: TOC\n",
      "End time - Start time = 7.1029088497161865\n"
     ]
    }
   ],
   "source": [
    "Mtree['plsr'] = build_tree_for ('plsr')"
   ]
  },
  {
   "cell_type": "markdown",
   "id": "86e6ce3a",
   "metadata": {},
   "source": [
    "### Multiple Linear Regression Branch"
   ]
  },
  {
   "cell_type": "code",
   "execution_count": 27,
   "id": "b02641a6",
   "metadata": {},
   "outputs": [
    {
     "name": "stdout",
     "output_type": "stream",
     "text": [
      "tree for: mult ------> running on: sand\n",
      "tree for: mult ------> running on: silt\n",
      "tree for: mult ------> running on: clay\n",
      "tree for: mult ------> running on: TOC\n",
      "End time - Start time = 42.934598207473755\n"
     ]
    }
   ],
   "source": [
    "Mtree['mult'] = build_tree_for ('mult')"
   ]
  },
  {
   "cell_type": "markdown",
   "id": "4b9d0acc",
   "metadata": {},
   "source": [
    "\n",
    "### Random Forest Branch"
   ]
  },
  {
   "cell_type": "code",
   "execution_count": 28,
   "id": "867391a0",
   "metadata": {},
   "outputs": [
    {
     "name": "stdout",
     "output_type": "stream",
     "text": [
      "tree for: randomforest ------> running on: sand\n",
      "tree for: randomforest ------> running on: silt\n",
      "tree for: randomforest ------> running on: clay\n",
      "tree for: randomforest ------> running on: TOC\n",
      "End time - Start time = 173.21582698822021\n"
     ]
    }
   ],
   "source": [
    "Mtree['randomforest'] = build_tree_for ('randomforest')"
   ]
  },
  {
   "cell_type": "markdown",
   "id": "3a4358d9",
   "metadata": {},
   "source": [
    "### SVM Branch"
   ]
  },
  {
   "cell_type": "code",
   "execution_count": 29,
   "id": "3bfe29be",
   "metadata": {},
   "outputs": [
    {
     "name": "stdout",
     "output_type": "stream",
     "text": [
      "tree for: svr ------> running on: sand\n",
      "tree for: svr ------> running on: silt\n",
      "tree for: svr ------> running on: clay\n",
      "tree for: svr ------> running on: TOC\n",
      "End time - Start time = 7.855412006378174\n"
     ]
    }
   ],
   "source": [
    "Mtree['svr'] = build_tree_for ('svr')"
   ]
  },
  {
   "cell_type": "markdown",
   "id": "e5e189c3",
   "metadata": {},
   "source": [
    "### GBRT Branch"
   ]
  },
  {
   "cell_type": "code",
   "execution_count": 30,
   "id": "e6139101",
   "metadata": {},
   "outputs": [
    {
     "name": "stdout",
     "output_type": "stream",
     "text": [
      "tree for: gbrt ------> running on: sand\n",
      "tree for: gbrt ------> running on: silt\n",
      "tree for: gbrt ------> running on: clay\n",
      "tree for: gbrt ------> running on: TOC\n",
      "End time - Start time = 117.48671197891235\n"
     ]
    }
   ],
   "source": [
    "Mtree['gbrt'] = build_tree_for ('gbrt')"
   ]
  },
  {
   "cell_type": "markdown",
   "id": "32ff0fb2",
   "metadata": {},
   "source": [
    "### Ridge Regression Branch"
   ]
  },
  {
   "cell_type": "code",
   "execution_count": 31,
   "id": "93db53ce",
   "metadata": {},
   "outputs": [
    {
     "name": "stdout",
     "output_type": "stream",
     "text": [
      "tree for: ridge ------> running on: sand\n",
      "tree for: ridge ------> running on: silt\n",
      "tree for: ridge ------> running on: clay\n",
      "tree for: ridge ------> running on: TOC\n",
      "End time - Start time = 93.23359775543213\n"
     ]
    }
   ],
   "source": [
    "Mtree['ridge'] = build_tree_for ('ridge')"
   ]
  },
  {
   "cell_type": "markdown",
   "id": "fee13435",
   "metadata": {},
   "source": [
    "### Cubist Branch"
   ]
  },
  {
   "cell_type": "code",
   "execution_count": 36,
   "id": "062e07b1",
   "metadata": {},
   "outputs": [],
   "source": [
    "#Mtree['cubist'] = build_tree_for ('cubist')"
   ]
  },
  {
   "cell_type": "markdown",
   "id": "71e1faa5",
   "metadata": {},
   "source": [
    "## Best of all worlds"
   ]
  },
  {
   "cell_type": "code",
   "execution_count": 37,
   "id": "a1f85e45",
   "metadata": {},
   "outputs": [],
   "source": [
    "ml_methods = ['mult', 'plsr', 'randomforest','svr', 'ridge', 'gbrt']"
   ]
  },
  {
   "cell_type": "code",
   "execution_count": 46,
   "id": "04241275",
   "metadata": {},
   "outputs": [],
   "source": [
    "def best_model_parameters (Mtree, target, method, scorer):\n",
    "    t=target\n",
    "    m= method\n",
    "    \n",
    "    best_score = -1\n",
    "    best_n_comp = 'NA'\n",
    "    \n",
    "    \n",
    "    for tp in prepare_target:\n",
    "        for n in nbands_sampling:\n",
    "            for p in prepare_spec:\n",
    "                Y = Mtree[m][t][tp][n][p]\n",
    "                    \n",
    "                if scorer == 'iqrp':\n",
    "                    cur_score = Y['iqrp_test']\n",
    "                elif scorer == 'rpd':\n",
    "                    cur_score = Y['rpd_test']\n",
    "                else:\n",
    "                    cur_score = Y['r2_test']  \n",
    "                    \n",
    "                if cur_score > best_score:\n",
    "                    best_score = cur_score\n",
    "                    best_tp = tp\n",
    "                    best_n = n\n",
    "                    best_p = p\n",
    "                    if m == 'plsr':\n",
    "                        best_n_comp = Y['n_comp']\n",
    "                            \n",
    "    param_list = [scorer, np.round(best_score,2), 'Spec:', best_p, 'bands:', best_n, 'Tar:', best_tp]                                 \n",
    "    return (param_list)                                \n",
    "    "
   ]
  },
  {
   "cell_type": "code",
   "execution_count": 47,
   "id": "0b8e5bf2",
   "metadata": {},
   "outputs": [],
   "source": [
    "def best_score_for (Mtree, target, scorer):\n",
    "    \n",
    "    for method in ml_methods:\n",
    "        param_list= best_model_parameters (Mtree, target, method, scorer)\n",
    "        print('For:'+target+'->', param_list, ':'+method)\n",
    "     \n",
    "    return"
   ]
  },
  {
   "cell_type": "code",
   "execution_count": 48,
   "id": "b948ff18",
   "metadata": {},
   "outputs": [
    {
     "name": "stdout",
     "output_type": "stream",
     "text": [
      "For:sand-> ['iqrp', 2.08, 'Spec:', 'none', 'bands:', 50, 'Tar:', 'minmax'] :mult\n",
      "For:sand-> ['iqrp', 2.22, 'Spec:', 'continuum', 'bands:', 200, 'Tar:', 'minmax'] :plsr\n",
      "For:sand-> ['iqrp', 1.93, 'Spec:', 'continuum', 'bands:', 50, 'Tar:', 'minmax'] :randomforest\n",
      "For:sand-> ['iqrp', 1.7, 'Spec:', 'fod', 'bands:', 500, 'Tar:', 'minmax'] :svr\n",
      "For:sand-> ['iqrp', 1.71, 'Spec:', 'none', 'bands:', 0, 'Tar:', 'minmax'] :ridge\n",
      "For:sand-> ['iqrp', 1.98, 'Spec:', 'fod', 'bands:', 500, 'Tar:', 'minmax'] :gbrt\n"
     ]
    }
   ],
   "source": [
    "best_score_for(Mtree, 'sand', 'iqrp')"
   ]
  },
  {
   "cell_type": "code",
   "execution_count": 49,
   "id": "41642a4d",
   "metadata": {},
   "outputs": [
    {
     "name": "stdout",
     "output_type": "stream",
     "text": [
      "For:sand-> ['r2', 0.58, 'Spec:', 'none', 'bands:', 50, 'Tar:', 'minmax'] :mult\n",
      "For:sand-> ['r2', 0.63, 'Spec:', 'continuum', 'bands:', 200, 'Tar:', 'minmax'] :plsr\n",
      "For:sand-> ['r2', 0.51, 'Spec:', 'continuum', 'bands:', 50, 'Tar:', 'minmax'] :randomforest\n",
      "For:sand-> ['r2', 0.37, 'Spec:', 'fod', 'bands:', 500, 'Tar:', 'minmax'] :svr\n",
      "For:sand-> ['r2', 0.38, 'Spec:', 'none', 'bands:', 0, 'Tar:', 'minmax'] :ridge\n",
      "For:sand-> ['r2', 0.54, 'Spec:', 'fod', 'bands:', 500, 'Tar:', 'minmax'] :gbrt\n"
     ]
    }
   ],
   "source": [
    "best_score_for(Mtree, 'sand', 'r2')"
   ]
  },
  {
   "cell_type": "code",
   "execution_count": 50,
   "id": "80d73321",
   "metadata": {},
   "outputs": [
    {
     "name": "stdout",
     "output_type": "stream",
     "text": [
      "For:TOC-> ['iqrp', 1.75, 'Spec:', 'continuum', 'bands:', 10, 'Tar:', 'none'] :mult\n",
      "For:TOC-> ['iqrp', 1.9, 'Spec:', 'continuum', 'bands:', 200, 'Tar:', 'none'] :plsr\n",
      "For:TOC-> ['iqrp', 1.83, 'Spec:', 'continuum', 'bands:', 500, 'Tar:', 'none'] :randomforest\n",
      "For:TOC-> ['iqrp', 1.83, 'Spec:', 'fod', 'bands:', 0, 'Tar:', 'none'] :svr\n",
      "For:TOC-> ['iqrp', 1.62, 'Spec:', 'continuum', 'bands:', 0, 'Tar:', 'none'] :ridge\n",
      "For:TOC-> ['iqrp', 1.77, 'Spec:', 'fod', 'bands:', 100, 'Tar:', 'none'] :gbrt\n"
     ]
    }
   ],
   "source": [
    "best_score_for(Mtree, 'TOC', 'iqrp')"
   ]
  },
  {
   "cell_type": "code",
   "execution_count": 51,
   "id": "cd50f3db",
   "metadata": {},
   "outputs": [
    {
     "name": "stdout",
     "output_type": "stream",
     "text": [
      "For:TOC-> ['r2', 0.5, 'Spec:', 'continuum', 'bands:', 10, 'Tar:', 'none'] :mult\n",
      "For:TOC-> ['r2', 0.57, 'Spec:', 'continuum', 'bands:', 200, 'Tar:', 'none'] :plsr\n",
      "For:TOC-> ['r2', 0.54, 'Spec:', 'continuum', 'bands:', 500, 'Tar:', 'none'] :randomforest\n",
      "For:TOC-> ['r2', 0.54, 'Spec:', 'fod', 'bands:', 0, 'Tar:', 'none'] :svr\n",
      "For:TOC-> ['r2', 0.42, 'Spec:', 'continuum', 'bands:', 0, 'Tar:', 'none'] :ridge\n",
      "For:TOC-> ['r2', 0.51, 'Spec:', 'fod', 'bands:', 100, 'Tar:', 'none'] :gbrt\n"
     ]
    }
   ],
   "source": [
    "best_score_for(Mtree, 'TOC', 'r2')"
   ]
  },
  {
   "cell_type": "markdown",
   "id": "fe74d829",
   "metadata": {},
   "source": [
    "## Plotting Model Accuracy (ipywidgets)"
   ]
  },
  {
   "cell_type": "code",
   "execution_count": 44,
   "id": "8dd90a0e",
   "metadata": {},
   "outputs": [],
   "source": [
    "def plot_model_acc (target, target_preprocessing, spec_preprocessing, n_bands, method):\n",
    "    \n",
    "    m = method\n",
    "    t = target\n",
    "    \n",
    "    i = target_names.index(target)\n",
    "    \n",
    "    \n",
    "    p = spec_preprocessing\n",
    "    n = n_bands\n",
    "    tp = target_preprocessing\n",
    "    \n",
    "    Y = Mtree[m][t][tp][n][p]\n",
    "    \n",
    "    y_test = Y['test']\n",
    "    y_pred = Y['testP']\n",
    "    y_train = Y['train']\n",
    "    yhat_pred = Y['trainP']\n",
    "    \n",
    "    if m == 'plsr':\n",
    "        n_com = Y['n_comp']\n",
    "        y_pred = y_pred[:,0]\n",
    "        yhat_pred = yhat_pred[:,0]\n",
    "    \n",
    "    \n",
    "    iqrp_test = Y['iqrp_test']\n",
    "    r2_test = Y['r2_test']\n",
    "    rpd_test = Y['rpd_test']\n",
    "    \n",
    "    iqrp_train = find_iqrp(yhat_pred, y_train)\n",
    "    r2_train = find_r2(yhat_pred, y_train)\n",
    "    rpd_train = find_rpd(yhat_pred, y_train)\n",
    "    \n",
    "    y_tp = pd.DataFrame({'actual':y_test.values, 'predic': y_pred})\n",
    "    z = np.polyfit(y_test, y_pred, 1)\n",
    "    \n",
    "    yhat_tp = pd.DataFrame({'actual':y_train.values, 'predic': yhat_pred})\n",
    "    zhat = np.polyfit(y_train, yhat_pred, 1)\n",
    "    \n",
    "    fig, axes = plt.subplots(1,2, figsize=(18,8))\n",
    "    \n",
    "    #with plt.style.context(('ggplot')): ---- PLOT of test-prediction --------------------------------------\n",
    "    y_tp.plot.scatter(ax= axes[0], x=\"actual\", y=\"predic\", alpha=0.8, color = clr[i], edgecolors='k')\n",
    "    axes[0].plot(y_test, np.polyval(z, y_test),  c='blue', linewidth=1)\n",
    "    axes[0].plot(y_test, y_test, color='green', linewidth=1)\n",
    "    axes[0].tick_params(axis='both', labelsize=10)\n",
    "    axes[0].text(0.05, 0.95, target_names[i]+' (Test Data)', transform=axes[0].transAxes, fontsize = 20, color = clr[i])\n",
    "    axes[0].text(0.05, 0.90, 'IQRP ={:.2f}'.format(iqrp_test), transform=axes[0].transAxes, fontsize = 16)\n",
    "    axes[0].text(0.05, 0.85, 'RPD ={:.2f}'.format(rpd_test), transform=axes[0].transAxes, fontsize = 16)\n",
    "    axes[0].text(0.05, 0.80, 'R2 ={:.2f}'.format(np.round(r2_test,3)), transform=axes[0].transAxes, fontsize = 16)\n",
    "    axes[0].text(0.95, 0.15, 'Method: '+method, transform=axes[0].transAxes, \n",
    "                    horizontalalignment='right', fontsize = 20)\n",
    "    \n",
    "    if method == 'plsr':\n",
    "        axes[0].text(0.95, 0.05, 'n_component={:.2f}'.format(n_com), transform=axes[0].transAxes, \n",
    "                    horizontalalignment='right', fontsize = 12)\n",
    "    \n",
    "    #---------------------------------- ---- PLOT of train-prediction --------------------------------------\n",
    "    yhat_tp.plot.scatter(ax= axes[1], x=\"actual\", y=\"predic\", alpha=0.8, color = clr[i], edgecolors='k')\n",
    "    axes[1].plot(y_train, np.polyval(zhat, y_train),  c='blue', linewidth=1)\n",
    "    axes[1].plot(y_train, y_train, color='green', linewidth=1)\n",
    "    axes[1].tick_params(axis='both', labelsize=10)\n",
    "    axes[1].text(0.05, 0.95,  target_names[i]+' (Training Data)', transform=axes[1].transAxes,fontsize = 20, color = clr[i])\n",
    "    axes[1].text(0.05, 0.90, 'IQRP ={:.2f}'.format(iqrp_train), transform=axes[1].transAxes, fontsize = 16)\n",
    "    axes[1].text(0.05, 0.85, 'RPD ={:.2f}'.format(rpd_train), transform=axes[1].transAxes, fontsize = 16)\n",
    "    axes[1].text(0.05, 0.80, 'R2 ={:.2f}'.format(np.round(r2_train,3)), transform=axes[1].transAxes, fontsize = 16)\n",
    "    axes[1].text(0.95, 0.15, 'Method: '+method, transform=axes[1].transAxes, \n",
    "                    horizontalalignment='right', fontsize = 20)\n",
    "    return    "
   ]
  },
  {
   "cell_type": "code",
   "execution_count": 45,
   "id": "89b9db47",
   "metadata": {},
   "outputs": [
    {
     "data": {
      "application/vnd.jupyter.widget-view+json": {
       "model_id": "eea04dcef1684f3f86d6b551c8baa20a",
       "version_major": 2,
       "version_minor": 0
      },
      "text/plain": [
       "interactive(children=(Dropdown(description='target', options=('sand', 'silt', 'clay', 'TOC'), value='sand'), D…"
      ]
     },
     "metadata": {},
     "output_type": "display_data"
    },
    {
     "data": {
      "text/plain": [
       "<function __main__.plot_model_acc(target, target_preprocessing, spec_preprocessing, n_bands, method)>"
      ]
     },
     "execution_count": 45,
     "metadata": {},
     "output_type": "execute_result"
    }
   ],
   "source": [
    "ipywidgets.interact(plot_model_acc, target = target_names,target_preprocessing = prepare_target, \\\n",
    "                    method = ml_methods, spec_preprocessing = prepare_spec, n_bands = nbands_sampling)"
   ]
  },
  {
   "cell_type": "code",
   "execution_count": null,
   "id": "7f8c3328",
   "metadata": {},
   "outputs": [],
   "source": []
  }
 ],
 "metadata": {
  "kernelspec": {
   "display_name": "Python 3 (ipykernel)",
   "language": "python",
   "name": "python3"
  },
  "language_info": {
   "codemirror_mode": {
    "name": "ipython",
    "version": 3
   },
   "file_extension": ".py",
   "mimetype": "text/x-python",
   "name": "python",
   "nbconvert_exporter": "python",
   "pygments_lexer": "ipython3",
   "version": "3.10.2"
  }
 },
 "nbformat": 4,
 "nbformat_minor": 5
}
