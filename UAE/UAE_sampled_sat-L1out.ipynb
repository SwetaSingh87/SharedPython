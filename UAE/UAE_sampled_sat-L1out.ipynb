{
 "cells": [
  {
   "cell_type": "code",
   "execution_count": 1,
   "id": "c173cf42",
   "metadata": {},
   "outputs": [],
   "source": [
    "# !pip install openpyxl\n",
    "# !pip install imbalanced-learn\n",
    "# !pip3 install ipympl\n",
    "# !pip install import-ipynb\n",
    "# !pip install shapely\n",
    "# !pip install SciencePlots \n",
    "# !pip install seaborn\n",
    "# !pip install tqdm\n",
    "# !pip install ipywidgets\n",
    "#!pip install cubist"
   ]
  },
  {
   "cell_type": "code",
   "execution_count": 2,
   "id": "3ef6b01f",
   "metadata": {},
   "outputs": [],
   "source": [
    "import pandas as pd\n",
    "pd.DataFrame.iteritems = pd.DataFrame.items\n",
    "import numpy as np\n",
    "import matplotlib.pyplot as plt\n",
    "import seaborn as sns\n",
    "import scienceplots\n",
    "import os, sys\n",
    "from numpy import nan\n",
    "import re\n",
    "import ipympl\n",
    "# from IPython.core.display import display, HTML\n",
    "import ipywidgets\n",
    "import json\n",
    "from os import listdir\n",
    "import glob\n",
    "import math\n",
    "from IPython.display import Image, display, HTML\n",
    "from shapely.geometry import mapping\n",
    "from sklearn.cross_decomposition import PLSRegression\n",
    "from sklearn.ensemble import RandomForestRegressor\n",
    "from sklearn.model_selection import cross_val_score, train_test_split, RepeatedKFold, cross_val_predict\n",
    "from sklearn.metrics import r2_score, mean_squared_error, precision_score, recall_score, mean_absolute_error, make_scorer\n",
    "from sklearn.svm import SVR\n",
    "from sklearn.linear_model import LinearRegression\n",
    "from sklearn import linear_model\n",
    "from sklearn.kernel_ridge import KernelRidge\n",
    "from sklearn.datasets import make_regression\n",
    "from sklearn.ensemble import GradientBoostingRegressor\n",
    "from cubist import Cubist\n",
    "from sklearn.model_selection import GridSearchCV, RandomizedSearchCV, LeaveOneOut, cross_validate\n",
    "from sklearn.impute import SimpleImputer\n",
    "from tqdm.notebook import tqdm\n",
    "from sklearn.svm import SVC\n",
    "from tqdm import tqdm\n",
    "import pickle\n",
    "from imblearn.over_sampling import SMOTE\n",
    "from scipy.stats import ks_2samp\n",
    "from scipy import stats\n",
    "np.seterr(divide='ignore', invalid='ignore')\n",
    "pd.options.display.max_columns = 100\n",
    "from sklearn.preprocessing import PolynomialFeatures\n",
    "%matplotlib inline\n",
    "from scipy.signal import savgol_filter\n",
    "from scipy.spatial import ConvexHull\n",
    "from scipy.interpolate import interp1d"
   ]
  },
  {
   "cell_type": "code",
   "execution_count": 3,
   "id": "22684781",
   "metadata": {},
   "outputs": [
    {
     "name": "stdout",
     "output_type": "stream",
     "text": [
      "importing Jupyter notebook from SoilPrep.ipynb\n"
     ]
    }
   ],
   "source": [
    "import import_ipynb\n",
    "from SoilPrep import * "
   ]
  },
  {
   "cell_type": "markdown",
   "id": "237d1771",
   "metadata": {},
   "source": [
    "# Step 0: Setting up decision paramenters (Data Tree)"
   ]
  },
  {
   "cell_type": "code",
   "execution_count": 4,
   "id": "aee7c2d7",
   "metadata": {},
   "outputs": [],
   "source": [
    "# 1. Available smoothing filter types: savgol1 and savgol2 ------------------------ (1)\n",
    "sg_filters = ['sg1', 'sg2']\n",
    "\n",
    "# 2. Available window lengths for the smoothing filter ---------------------------- (2)\n",
    "window_lengths = [0, 1, 11, 21, 31, 41, 51, 61, 71, 81, 91, 101]\n",
    "\n",
    "# 3. Available preprocessing for Spectral data ------------------------------------ (3)\n",
    "prepare_spec = ['none', 'fod', 'continuum']\n",
    "#prepare_spec = ['none', 'fod', 'continuum']\n",
    "\n",
    "# 4. Number of bands available for resampling spectra ----------------------------- (4) \n",
    "nbands_sampling = [0, 5, 10, 15, 20, 25, 30, 40, 50, 100]\n",
    "\n",
    "# 5. Names of target variables in the dataframe ----------------------------------- (5)\n",
    "target_names = ['sand', 'silt', 'clay', 'TOC']\n",
    "\n",
    "# 6. Available preprocessing for Target data -------------------------------------- (6)\n",
    "prepare_target = ['none', 'minmax']\n",
    "\n",
    "# 7. Available machine learning regression models --------------------------------- (7)\n",
    "ml_methods = ['mult', 'plsr', 'randomforest', 'cubist','svr', 'ridge', 'gbrt']\n",
    "\n",
    "# 8. Recorded predictions on test-train data for model accuracy  ------------------ (8)\n",
    "test_train_predict = ['test', 'testP', 'train', 'trainP']"
   ]
  },
  {
   "cell_type": "markdown",
   "id": "8cd5b13f",
   "metadata": {},
   "source": [
    "# Step 1a: Obtaining Spectra  (Noise and Outliers removal)"
   ]
  },
  {
   "cell_type": "code",
   "execution_count": 5,
   "id": "24fbfeb7",
   "metadata": {},
   "outputs": [],
   "source": [
    "# Colour scheme definition\n",
    "kado = '#8B7355'\n",
    "mati = '#A52A2A'\n",
    "balu = '#F4A460'"
   ]
  },
  {
   "cell_type": "code",
   "execution_count": 6,
   "id": "fde9a0d6",
   "metadata": {},
   "outputs": [],
   "source": [
    "#----------- Reading lab data, emit data and data having contaminated samples-----------------------------\n",
    "df_lab = pd.read_csv('uae.csv')\n",
    "df_sat = pd.read_csv('uae_emit.csv')\n",
    "\n",
    "df_faulty = pd.read_csv('oil.csv')\n",
    "df_faulty = df_faulty.T\n",
    "df_faulty.columns = df_faulty.iloc[0,:].copy()\n",
    "df_faulty = df_faulty.reset_index(drop=True)\n",
    "df_faulty = df_faulty.iloc[1:, :].copy()\n",
    "df_faulty.head(5)\n",
    "\n",
    "#-------------Renaming columns---------------------------------------------------------------------------\n",
    "df_sat.rename(columns= {'latitude':'long', 'longitude': 'lat'}, inplace=True)\n",
    "df_lab.rename(columns = {'Lon': 'long', 'Lat':'lat'}, inplace = True)\n",
    "df_faulty.rename(columns = {'Lon': 'long', 'Lat':'lat'}, inplace = True)\n",
    "\n",
    "df_sat.rename(columns = {'OM': 'TOC', 'Clay': 'clay', 'Silt':'silt', 'Sand': 'sand'}, inplace = True)"
   ]
  },
  {
   "cell_type": "code",
   "execution_count": 7,
   "id": "06a7c501",
   "metadata": {},
   "outputs": [
    {
     "data": {
      "text/plain": [
       "(294, 2158)"
      ]
     },
     "execution_count": 7,
     "metadata": {},
     "output_type": "execute_result"
    }
   ],
   "source": [
    "clean_sat = df_sat.copy()\n",
    "clean_lab = df_lab.copy()\n",
    "\n",
    "clean_sat.reset_index(drop=True)\n",
    "clean_lab.reset_index(drop=True)\n",
    "clean_lab.shape"
   ]
  },
  {
   "cell_type": "code",
   "execution_count": 8,
   "id": "3ae6f733",
   "metadata": {},
   "outputs": [
    {
     "data": {
      "text/plain": [
       "(83, 2158)"
      ]
     },
     "execution_count": 8,
     "metadata": {},
     "output_type": "execute_result"
    }
   ],
   "source": [
    "# obtaining corresponding rows of clean_sat using clean_lab and removing extra rows -------------- \n",
    "\n",
    "missing_rows =[]\n",
    "\n",
    "(row, col) = clean_sat.shape\n",
    "small_lab = clean_lab.iloc[0:row,:].copy()\n",
    "\n",
    "for i in range (0, row):\n",
    "    lat = clean_sat.iloc[i, clean_sat.columns.get_loc('lat')]\n",
    "    long = clean_sat.iloc[i, clean_sat.columns.get_loc('long')]\n",
    "    temp = clean_lab.loc[:,:][(clean_lab.loc[:,'lat'] == lat) & (clean_lab.loc[:,'long'] == long)]\n",
    "    (r, c) = temp.shape\n",
    "    if r == 0:\n",
    "        #print('missing:', i)\n",
    "        missing_rows.append(i)\n",
    "        #print(r, 'at', i)\n",
    "    else:\n",
    "        #print(i)\n",
    "        small_lab.iloc[i,:] = temp.iloc[0, :].copy()\n",
    "        \n",
    "\n",
    "small_lab = small_lab.drop(small_lab.index[missing_rows]).copy()\n",
    "small_sat = clean_sat.drop(clean_sat.index[missing_rows]).copy()\n",
    "#small_sat.rename(columns = {'OM': 'TOC', 'Clay': 'clay', 'Silt':'silt', 'Sand': 'sand'}, inplace = True)\n",
    "small_lab.reset_index()\n",
    "small_sat.reset_index()\n",
    "small_lab.shape"
   ]
  },
  {
   "cell_type": "markdown",
   "id": "c2342e78",
   "metadata": {},
   "source": [
    "## Extracting spectra from small_sat and small_lab"
   ]
  },
  {
   "cell_type": "code",
   "execution_count": 9,
   "id": "29c762de",
   "metadata": {},
   "outputs": [
    {
     "name": "stdout",
     "output_type": "stream",
     "text": [
      "(83, 283)\n",
      "(83, 2120)\n"
     ]
    }
   ],
   "source": [
    "min_loc_sat = small_sat.columns.get_loc('field_30')\n",
    "max_loc_sat = small_sat.columns.get_loc('field_312')\n",
    "small_sat_spec = small_sat.iloc[:, min_loc_sat: max_loc_sat+1].copy()\n",
    "print(small_sat_spec.shape)\n",
    "\n",
    "min_loc_lab = small_lab.columns.get_loc('380')\n",
    "max_loc_lab = small_lab.columns.get_loc('2500')\n",
    "small_lab_spec = small_lab.iloc[:, min_loc_lab: max_loc_lab].copy()\n",
    "print(small_lab_spec.shape)"
   ]
  },
  {
   "cell_type": "markdown",
   "id": "34705362",
   "metadata": {},
   "source": [
    "### Resampling small_lab_spec into 283 bands"
   ]
  },
  {
   "cell_type": "code",
   "execution_count": 10,
   "id": "96113545",
   "metadata": {},
   "outputs": [
    {
     "data": {
      "text/plain": [
       "(83, 283)"
      ]
     },
     "execution_count": 10,
     "metadata": {},
     "output_type": "execute_result"
    }
   ],
   "source": [
    "sampled_lab_spec = resample_spectra(small_lab_spec, 283)\n",
    "sampled_lab_spec.shape"
   ]
  },
  {
   "cell_type": "markdown",
   "id": "d10518a8",
   "metadata": {},
   "source": [
    "### Renaming columns of sampled_sat_spec using columns of sampled_lab_spec"
   ]
  },
  {
   "cell_type": "code",
   "execution_count": 11,
   "id": "f38f5c01",
   "metadata": {},
   "outputs": [
    {
     "data": {
      "text/plain": [
       "(83, 283)"
      ]
     },
     "execution_count": 11,
     "metadata": {},
     "output_type": "execute_result"
    }
   ],
   "source": [
    "header = list(sampled_lab_spec.columns.values)\n",
    "sampled_sat_spec = small_sat_spec.copy()\n",
    "sampled_sat_spec.columns = header\n",
    "sampled_sat_spec.shape"
   ]
  },
  {
   "cell_type": "markdown",
   "id": "53d2c5fd",
   "metadata": {},
   "source": [
    "### Dropping faulty bands from sampled_sat_spec and sampled_lab_spec"
   ]
  },
  {
   "cell_type": "code",
   "execution_count": 12,
   "id": "dbcc6695",
   "metadata": {},
   "outputs": [
    {
     "name": "stdout",
     "output_type": "stream",
     "text": [
      "[125, 126, 127, 128, 129, 130, 131, 132, 133, 134, 135, 136, 137, 138, 139, 140, 141, 142, 143, 144, 145, 185, 186, 187, 188, 189, 190, 191, 192, 193, 194, 195, 196, 197, 198, 199, 200, 201, 202, 203, 204, 205, 206, 207, 208, 209, 210, 211]\n"
     ]
    }
   ],
   "source": [
    "# Select faulty column based on condition (i,e. boundary columns-- [1320/125:1447/142] + [1769/185:1964/211])-\n",
    "faulty_columns = list(np.arange(125,146,1)) + list(np.arange(185,212,1))\n",
    "print(faulty_columns)"
   ]
  },
  {
   "cell_type": "code",
   "execution_count": 13,
   "id": "9100b1d4",
   "metadata": {},
   "outputs": [],
   "source": [
    "sat_spec = sampled_sat_spec.drop(sampled_sat_spec.columns[faulty_columns], axis=1).copy()\n",
    "lab_spec = sampled_lab_spec.drop(sampled_lab_spec.columns[faulty_columns], axis=1).copy()"
   ]
  },
  {
   "cell_type": "markdown",
   "id": "7c66b0dc",
   "metadata": {},
   "source": [
    "## Setting the \"spectra\" for future computations"
   ]
  },
  {
   "cell_type": "code",
   "execution_count": 14,
   "id": "c1da7472",
   "metadata": {},
   "outputs": [
    {
     "data": {
      "text/plain": [
       "(83, 235)"
      ]
     },
     "execution_count": 14,
     "metadata": {},
     "output_type": "execute_result"
    }
   ],
   "source": [
    "spectra = sat_spec.copy()\n",
    "spectra.shape"
   ]
  },
  {
   "cell_type": "markdown",
   "id": "b76a4850",
   "metadata": {},
   "source": [
    "# Step 1b: Obtaining Targets (Outliers removal and Normalization)"
   ]
  },
  {
   "cell_type": "code",
   "execution_count": 15,
   "id": "58ad22bd",
   "metadata": {},
   "outputs": [],
   "source": [
    "df = small_sat\n",
    "# ------------- Target Isolation ----------------------\n",
    "\n",
    "clr = ['#F4A460', '#8B7355', '#A52A2A', 'green']\n",
    "\n",
    "def isolate_targets(df, target_names):\n",
    "    T=[]\n",
    "    for i in range (0,len(target_names)):\n",
    "        T.append(df[target_names[i]])\n",
    "    return(T)\n",
    "    \n",
    "T = isolate_targets(df,target_names) \n",
    "\n",
    "\n",
    "def normalize_targets(T):          \n",
    "    NT =[]\n",
    "    for i in range(0, len(T)):\n",
    "        NT.append(min_max_normal(T[i].copy()))\n",
    "    return(NT)\n",
    "\n",
    "NT = normalize_targets(T)\n"
   ]
  },
  {
   "cell_type": "markdown",
   "id": "e14ac048",
   "metadata": {},
   "source": [
    "# Step 1c: Spectra Preprocessing (Smooth, FOD/Contin, and Resample)"
   ]
  },
  {
   "cell_type": "markdown",
   "id": "b7aae8ec",
   "metadata": {},
   "source": [
    "## Savgol smoothing (order 1 and order 2)"
   ]
  },
  {
   "cell_type": "code",
   "execution_count": 16,
   "id": "99baabb8",
   "metadata": {},
   "outputs": [],
   "source": [
    "# -------------- Smoothed Spectra spec1 (savgol order 1) and spec2 (savgol order 2)  -----------\n",
    "\n",
    "spec1 = {}\n",
    "for i in window_lengths:\n",
    "    spec1[i] = filt_sg(spectra, i, 'sg1')                   \n",
    "\n",
    "spec2 = {}\n",
    "for i in window_lengths:\n",
    "    spec2[i] = filt_sg(spectra, i, 'sg2')\n",
    "\n",
    "smth_spec = sgsmooth (spectra, 3)    "
   ]
  },
  {
   "cell_type": "markdown",
   "id": "f253386c",
   "metadata": {},
   "source": [
    "## First Order Derivative"
   ]
  },
  {
   "cell_type": "code",
   "execution_count": 17,
   "id": "385ba98c",
   "metadata": {},
   "outputs": [],
   "source": [
    "fod_spec = fod(smth_spec)\n",
    "\n",
    "# for i in range (0,5,1):\n",
    "#     fod_spec.iloc[i,:].plot()\n"
   ]
  },
  {
   "cell_type": "markdown",
   "id": "8f55420f",
   "metadata": {},
   "source": [
    "## Continuum Removal"
   ]
  },
  {
   "cell_type": "code",
   "execution_count": 18,
   "id": "e800b1b8",
   "metadata": {},
   "outputs": [],
   "source": [
    "cr_spec = continuum_removed(spec2[51])\n",
    "\n",
    "# for i in range (0,5,1):\n",
    "#     cr_spec.iloc[i,:].plot()\n",
    "    "
   ]
  },
  {
   "cell_type": "markdown",
   "id": "88485b75",
   "metadata": {},
   "source": [
    "## Resampling (n_bands)"
   ]
  },
  {
   "cell_type": "markdown",
   "id": "c3293312",
   "metadata": {},
   "source": [
    "### 1. Sampled Original (sampled_spec: sampled clipped_spectra)"
   ]
  },
  {
   "cell_type": "code",
   "execution_count": 19,
   "id": "f516492c",
   "metadata": {},
   "outputs": [],
   "source": [
    "sampled_spec = {}\n",
    "for n in nbands_sampling:\n",
    "    sampled_spec[n] = resample_spectra (spec2[51], n)"
   ]
  },
  {
   "cell_type": "code",
   "execution_count": 20,
   "id": "e039a42c",
   "metadata": {},
   "outputs": [],
   "source": [
    "# for i in range (0,5,1):\n",
    "#     sampled_spec[200].iloc[i,:].plot()"
   ]
  },
  {
   "cell_type": "markdown",
   "id": "6b556f5a",
   "metadata": {},
   "source": [
    "### 2. Sampled Continuum Removed  (sampled_cr)"
   ]
  },
  {
   "cell_type": "code",
   "execution_count": 21,
   "id": "fab45619",
   "metadata": {},
   "outputs": [],
   "source": [
    "sampled_cr = {}\n",
    "for n in nbands_sampling:\n",
    "    sampled_cr[n] = resample_spectra (cr_spec, n)"
   ]
  },
  {
   "cell_type": "code",
   "execution_count": 22,
   "id": "de689267",
   "metadata": {},
   "outputs": [],
   "source": [
    "# for i in range (0,5,1):\n",
    "#     sampled_cr[200].iloc[i,:].plot()"
   ]
  },
  {
   "cell_type": "markdown",
   "id": "822eed90",
   "metadata": {},
   "source": [
    "### 3. Sampled FOD  (sampled_fod)"
   ]
  },
  {
   "cell_type": "code",
   "execution_count": 23,
   "id": "cd32e9c3",
   "metadata": {},
   "outputs": [],
   "source": [
    "sampled_fod = {}\n",
    "for n in nbands_sampling:\n",
    "    sampled_fod[n] = resample_spectra (fod_spec, n)"
   ]
  },
  {
   "cell_type": "code",
   "execution_count": 24,
   "id": "bbaa74eb",
   "metadata": {},
   "outputs": [],
   "source": [
    "# for i in range (0,10,1):\n",
    "#     sampled_fod[200].iloc[i,:].plot()"
   ]
  },
  {
   "cell_type": "markdown",
   "id": "ad37e7ab",
   "metadata": {},
   "source": [
    "## Visualizing Processed Spectrum (variable samples)"
   ]
  },
  {
   "cell_type": "code",
   "execution_count": 25,
   "id": "ecc8344d",
   "metadata": {},
   "outputs": [
    {
     "data": {
      "application/vnd.jupyter.widget-view+json": {
       "model_id": "a2944a5f6378436aa6675d1019069051",
       "version_major": 2,
       "version_minor": 0
      },
      "text/plain": [
       "interactive(children=(IntSlider(value=41, description='sample', max=83), Dropdown(description='process', optio…"
      ]
     },
     "metadata": {},
     "output_type": "display_data"
    },
    {
     "data": {
      "text/plain": [
       "<function __main__.plot_spec(sample, process)>"
      ]
     },
     "execution_count": 25,
     "metadata": {},
     "output_type": "execute_result"
    }
   ],
   "source": [
    "row, col = spectra.shape\n",
    "\n",
    "def plot_spec (sample, process):\n",
    "    x1 = spec2[51].iloc[sample,:]\n",
    "    x1.plot()\n",
    "    if process == 'continuum':\n",
    "        x2 = cr_spec.iloc[sample,:]\n",
    "        x2.plot()\n",
    "    else: \n",
    "        x3 = fod_spec.iloc[sample,:]*10\n",
    "        \n",
    "        x3.plot()\n",
    "    plt.ylim([-0.6, 0.8])\n",
    "\n",
    "ipywidgets.interact(plot_spec, sample = (0, row,1), process = ['fod', 'continuum'])"
   ]
  },
  {
   "cell_type": "markdown",
   "id": "c12f62f4",
   "metadata": {},
   "source": [
    "## Correlation between wavelengths and Targets"
   ]
  },
  {
   "cell_type": "code",
   "execution_count": 26,
   "id": "dd230431",
   "metadata": {},
   "outputs": [
    {
     "data": {
      "application/vnd.jupyter.widget-view+json": {
       "model_id": "520cc5aebd0e4e9281aac447ae57a58e",
       "version_major": 2,
       "version_minor": 0
      },
      "text/plain": [
       "interactive(children=(Dropdown(description='target', options=('sand', 'silt', 'clay', 'TOC'), value='sand'), D…"
      ]
     },
     "metadata": {},
     "output_type": "display_data"
    },
    {
     "data": {
      "text/plain": [
       "<function __main__.plot_corr(target, spec_cr_fod, n_bands)>"
      ]
     },
     "execution_count": 26,
     "metadata": {},
     "output_type": "execute_result"
    }
   ],
   "source": [
    "plt.style.use(['science','notebook','grid'])\n",
    "\n",
    "def plot_corr (target, spec_cr_fod, n_bands):\n",
    "    \n",
    "    i = target_names.index(target)    \n",
    "    \n",
    "    if  spec_cr_fod == 'spec':\n",
    "        r_val, p_val = find_rpval (resample_spectra(spec2[51], n_bands), T[i])\n",
    "        r_val.iloc[0,:].plot(color = clr[i])\n",
    "    elif  spec_cr_fod == 'cr':\n",
    "        r_cr, p_cr = find_rpval (resample_spectra(cr_spec, n_bands), T[i])\n",
    "        r_cr.iloc[0,:].plot(color = clr[i])\n",
    "    else:\n",
    "        r_fod, p_fod = find_rpval (resample_spectra(fod_spec, n_bands), T[i])\n",
    "        r_fod.iloc[0,:].plot(color = clr[i])\n",
    "    \n",
    "    plt.ylim([-0.7, 0.7])\n",
    "\n",
    "ipywidgets.interact(plot_corr, target = target_names, spec_cr_fod = ['spec', 'cr','fod'], n_bands = nbands_sampling)\n",
    "\n"
   ]
  },
  {
   "cell_type": "markdown",
   "id": "f00e07ff",
   "metadata": {},
   "source": [
    "# Step 2:  Parameters for Best Train-Test Split  "
   ]
  },
  {
   "cell_type": "code",
   "execution_count": 27,
   "id": "1300a125",
   "metadata": {},
   "outputs": [
    {
     "name": "stdout",
     "output_type": "stream",
     "text": [
      "Without Normalization:\n",
      "For sand :test size = 0.2 \t min bin error= 20.0 \t at randome state = 34\n",
      "For silt :test size = 0.2 \t min bin error= 10.0 \t at randome state = 25\n",
      "For clay :test size = 0.2 \t min bin error= 10.0 \t at randome state = 20\n",
      "For TOC :test size = 0.2 \t min bin error= 10.0 \t at randome state = 0\n",
      "After Normalization:\n",
      "For sand :test size = 0.2 \t min bin error= 20.0 \t at randome state = 34\n",
      "For silt :test size = 0.2 \t min bin error= 20.0 \t at randome state = 25\n",
      "For clay :test size = 0.2 \t min bin error= 10.0 \t at randome state = 20\n",
      "For TOC :test size = 0.2 \t min bin error= 15.0 \t at randome state = 30\n"
     ]
    }
   ],
   "source": [
    "# Building Mtree (Model Tree) ----------------------------------\n",
    "\n",
    "tst_siz = 0.20\n",
    "\n",
    "rand_t = [None] * (len(T))\n",
    "err_t = [None] * (len(T))\n",
    "\n",
    "print('Without Normalization:')\n",
    "for i in range (0,len(T)):\n",
    "    rand_t[i], err_t[i] = best_split(spectra.copy(), T[i], tst_siz) \n",
    "    print ('For '+ target_names[i]+ ' :test size =', tst_siz, '\\t min bin error=', err_t[i], '\\t at randome state =', rand_t[i])\n",
    "    \n",
    "rand_nt = [None] * (len(T))\n",
    "err_nt = [None] * (len(T))\n",
    "\n",
    "print('After Normalization:')\n",
    "for i in range (0,len(T)):\n",
    "    rand_nt[i], err_nt[i] = best_split(spectra.copy(), NT[i], tst_siz)     \n",
    "    print ('For '+ target_names[i]+ ' :test size =', tst_siz, '\\t min bin error=', err_nt[i], '\\t at randome state =', rand_nt[i])\n",
    "    \n",
    "    "
   ]
  },
  {
   "cell_type": "markdown",
   "id": "7e853a50",
   "metadata": {},
   "source": [
    "# Step 3: Leave one out Predictions"
   ]
  },
  {
   "cell_type": "markdown",
   "id": "d531478b",
   "metadata": {},
   "source": [
    "##  leave_one_out"
   ]
  },
  {
   "cell_type": "code",
   "execution_count": 28,
   "id": "311d0c9a",
   "metadata": {},
   "outputs": [],
   "source": [
    "def leave_one_out (spectra, target, method):\n",
    "    m = method\n",
    "    (r,c) = spectra.shape\n",
    "    \n",
    "    Y_test = target.copy()\n",
    "    Y_pred = target.copy()\n",
    "    \n",
    "    n_comp = 'NA'\n",
    "    \n",
    "    if method == 'plsr':\n",
    "        avg_iqrp =[0]\n",
    "        Yp =['NA']\n",
    "        for n in range (1,6):\n",
    "            for i in range (0,r): \n",
    "                full_spec = spectra.copy()\n",
    "                X_train = full_spec.drop(full_spec.index[i], axis=0)\n",
    "                X_test = full_spec.iloc[[i],:].copy()\n",
    "                full_tar = target.copy()\n",
    "                y_train = full_tar.drop(full_tar.index[i], axis=0)\n",
    "                y_test = full_tar.iloc[i].copy() \n",
    "            \n",
    "                Model = PLSRegression(n_components=n, scale=True)\n",
    "                Model.fit(X_train, y_train)\n",
    "                y_pred = Model.predict(X_test, copy=True)\n",
    "                Y_pred.iloc[i] = y_pred\n",
    "                \n",
    "            avg_iqrp.append(np.round(find_iqrp (Y_pred, Y_test),2))\n",
    "            Yp.append(Y_pred)\n",
    "        \n",
    "        max_iqrp = max(avg_iqrp)\n",
    "        n_comp = avg_iqrp.index(max_iqrp)\n",
    "        Y_pred = Yp[n_comp]\n",
    "                \n",
    "        \n",
    "    else:  \n",
    "        for i in range (0,r): \n",
    "            full_spec = spectra.copy()\n",
    "            X_train = full_spec.drop(full_spec.index[i], axis=0)\n",
    "            X_test = full_spec.iloc[[i],:].copy()\n",
    "            full_tar = target.copy()\n",
    "            y_train = full_tar.drop(full_tar.index[i], axis=0)\n",
    "            y_test = full_tar.iloc[i].copy() \n",
    "            \n",
    "            #----- MULTILINEAR:  fitting, and prediction---------- \n",
    "            if m == 'mult':\n",
    "                Model = linear_model.LinearRegression()    \n",
    "            #----- RANDOM_FOREST:   fitting, and prediction---------- \n",
    "            elif m == 'randomforest': \n",
    "                Model = RandomForestRegressor(random_state= 23)    \n",
    "            #----- CUBIST REGRESSION:    fitting and prediction---------\n",
    "            elif m == 'cubist':\n",
    "                Model = Cubist(n_rules = 50, n_committees = 5, random_state = 42)    \n",
    "            #------ SUPPORT VECTOR MACHINE FOR REGRESSION: fitting and prediction-----------      \n",
    "            elif m == 'svr': \n",
    "                Model = SVR()\n",
    "            #------ RIDGE REGRESSION: fitting and prediction-----------      \n",
    "            elif m == 'ridge': \n",
    "                Model = KernelRidge()\n",
    "            #------ GRADIENT BOOSTING REGRESSION: fitting and prediction-----------      \n",
    "            else: \n",
    "                Model = GradientBoostingRegressor()\n",
    "                    \n",
    "            Model.fit(X_train, y_train)\n",
    "            y_pred = Model.predict(X_test)\n",
    "            Y_pred.iloc[i] = y_pred\n",
    "\n",
    "    return (Y_pred, n_comp)\n"
   ]
  },
  {
   "cell_type": "code",
   "execution_count": 29,
   "id": "37493b36",
   "metadata": {},
   "outputs": [
    {
     "data": {
      "text/plain": [
       "'NA'"
      ]
     },
     "execution_count": 29,
     "metadata": {},
     "output_type": "execute_result"
    }
   ],
   "source": [
    "y_pred , n_comp = leave_one_out (sampled_spec[50], NT[0],'randomforest')\n",
    "n_comp"
   ]
  },
  {
   "cell_type": "code",
   "execution_count": 30,
   "id": "fde9b3e5",
   "metadata": {},
   "outputs": [
    {
     "data": {
      "text/plain": [
       "0.2428589913405974"
      ]
     },
     "execution_count": 30,
     "metadata": {},
     "output_type": "execute_result"
    }
   ],
   "source": [
    "find_r2(y_pred, NT[0])"
   ]
  },
  {
   "cell_type": "markdown",
   "id": "d908099c",
   "metadata": {},
   "source": [
    "# Step 4: Building Model Tree (Mtree)"
   ]
  },
  {
   "cell_type": "code",
   "execution_count": 31,
   "id": "07468618",
   "metadata": {},
   "outputs": [],
   "source": [
    "import os\n",
    "os.system('say \"M Tree bulding about to start\"')\n",
    "import time"
   ]
  },
  {
   "cell_type": "code",
   "execution_count": 32,
   "id": "f4a97c5c",
   "metadata": {},
   "outputs": [],
   "source": [
    "# 0. Available machine learning regression models --------------------------------- (7)\n",
    "ml_methods = ['mult', 'plsr', 'randomforest', 'cubist', 'svr', 'ridge', 'gbrt']\n",
    "#ml_methods = ['mult', 'plsr', 'cubist', 'randomforest', 'ridge' 'gbrt', 'svr']"
   ]
  },
  {
   "cell_type": "code",
   "execution_count": 33,
   "id": "36d247b4",
   "metadata": {},
   "outputs": [],
   "source": [
    "max_n_comp = 5\n",
    "\n",
    "def build_tree_for (method_name):\n",
    "    tree ={}\n",
    "    start = time.time()\n",
    "    m = method_name\n",
    "    #-- code to build tree----\n",
    "    for t in target_names:\n",
    "        print('tree for: '+ m +' ------> running on: ' + t)\n",
    "        tree[t] ={}\n",
    "        for tp in prepare_target:\n",
    "            tree[t][tp] ={}\n",
    "            for n in nbands_sampling:\n",
    "                tree[t][tp][n] ={}\n",
    "                for p in prepare_spec:\n",
    "                    tree[t][tp][n][p] ={}\n",
    "                    Y = tree[t][tp][n][p]\n",
    "                    \n",
    "                        \n",
    "                    #------ setting spec to appropriate (sampled) spectra----\n",
    "                    if p == 'none':\n",
    "                        if n == 0:\n",
    "                            if m == 'randomforest' or m == 'cubist' or m == 'gbrt':\n",
    "                                #---- reched here due to tree based methods e.g. randomforest--\n",
    "                                spec = sampled_spec[100]\n",
    "                            else:\n",
    "                                spec = spec2[51]\n",
    "                        else:\n",
    "                            #---- reached here with some n!=0----\n",
    "                            spec = sampled_spec[n]\n",
    "                        \n",
    "                    elif p == 'fod':\n",
    "                        if n == 0:\n",
    "                            if m == 'randomforest' or m == 'cubist' or m == 'gbrt':\n",
    "                                #---- reched here due to tree based methods e.g. randomforest--\n",
    "                                spec = sampled_fod[100]\n",
    "                            else:\n",
    "                                spec = fod_spec\n",
    "                        else:\n",
    "                            #---- reached here with some n!=0----\n",
    "                            spec = sampled_fod[n]\n",
    "                                \n",
    "                    else:  \n",
    "                        if n == 0:\n",
    "                            if m == 'randomforest' or m == 'cubist' or m == 'gbrt':\n",
    "                                #---- reched here due to tree based methods e.g. randomforest--\n",
    "                                spec = sampled_cr[100]\n",
    "                            else:\n",
    "                                spec = cr_spec\n",
    "                        else:\n",
    "                            #---- reached here with some n!=0----\n",
    "                            spec = sampled_cr[n]\n",
    "                        \n",
    "                    #---- target selection and normalization ---\n",
    "                    if tp == 'none':\n",
    "                        y = T[target_names.index(t)]\n",
    "                        \n",
    "                    else:\n",
    "                        y = NT[target_names.index(t)]\n",
    "                        \n",
    "                    #----- calling find_y_pred to compute leave one out predictions----\n",
    "                    y_pred, n_com = leave_one_out (spec, y, m)\n",
    "                    y_test = y\n",
    "                    \n",
    "                    #----- Model accuracy evaluation and plotting datas-----------\n",
    "                                \n",
    "                    Y['test'] = y_test\n",
    "                    Y['testP'] = y_pred\n",
    "                    Y['n_comp'] = n_com\n",
    "\n",
    "                    Y['iqrp_test'] = find_iqrp(y_pred, y_test)\n",
    "                    Y['r2_test'] = find_r2(y_pred, y_test)\n",
    "                    Y['rpd_test'] = find_rpd(y_pred, y_test)\n",
    "                    Y['rmse_test'] = find_rmse(y_pred, y_test)\n",
    "                                                                \n",
    "                                                                         \n",
    "    end = time.time()                            \n",
    "    os.system('say \"M Tree has been built for one more method\"')                            \n",
    "\n",
    "    print('End time - Start time =', (end-start)) \n",
    "    \n",
    "    return (tree.copy())\n"
   ]
  },
  {
   "cell_type": "markdown",
   "id": "2cbe7179",
   "metadata": {},
   "source": [
    "## Mtree initialisation (do not run below code every time)"
   ]
  },
  {
   "cell_type": "code",
   "execution_count": 34,
   "id": "fbc012ba",
   "metadata": {},
   "outputs": [],
   "source": [
    "Mtree ={}"
   ]
  },
  {
   "cell_type": "markdown",
   "id": "65d3136d",
   "metadata": {},
   "source": [
    "## Creating different branches of Mtree (for separate methods)"
   ]
  },
  {
   "cell_type": "markdown",
   "id": "9e879891",
   "metadata": {},
   "source": [
    "### PLSR Branch "
   ]
  },
  {
   "cell_type": "code",
   "execution_count": 35,
   "id": "41c34738",
   "metadata": {},
   "outputs": [
    {
     "name": "stdout",
     "output_type": "stream",
     "text": [
      "tree for: plsr ------> running on: sand\n",
      "tree for: plsr ------> running on: silt\n",
      "tree for: plsr ------> running on: clay\n",
      "tree for: plsr ------> running on: TOC\n",
      "End time - Start time = 390.79838705062866\n"
     ]
    }
   ],
   "source": [
    "Mtree['plsr'] = build_tree_for ('plsr')"
   ]
  },
  {
   "cell_type": "markdown",
   "id": "86e6ce3a",
   "metadata": {},
   "source": [
    "### Multiple Linear Regression Branch"
   ]
  },
  {
   "cell_type": "code",
   "execution_count": 36,
   "id": "b02641a6",
   "metadata": {},
   "outputs": [
    {
     "name": "stdout",
     "output_type": "stream",
     "text": [
      "tree for: mult ------> running on: sand\n",
      "tree for: mult ------> running on: silt\n",
      "tree for: mult ------> running on: clay\n",
      "tree for: mult ------> running on: TOC\n",
      "End time - Start time = 76.25055289268494\n"
     ]
    }
   ],
   "source": [
    "Mtree['mult'] = build_tree_for ('mult')"
   ]
  },
  {
   "cell_type": "markdown",
   "id": "3a4358d9",
   "metadata": {},
   "source": [
    "### SVM Branch"
   ]
  },
  {
   "cell_type": "code",
   "execution_count": 37,
   "id": "3bfe29be",
   "metadata": {},
   "outputs": [
    {
     "name": "stdout",
     "output_type": "stream",
     "text": [
      "tree for: svr ------> running on: sand\n",
      "tree for: svr ------> running on: silt\n",
      "tree for: svr ------> running on: clay\n",
      "tree for: svr ------> running on: TOC\n",
      "End time - Start time = 52.789610862731934\n"
     ]
    }
   ],
   "source": [
    "Mtree['svr'] = build_tree_for ('svr')"
   ]
  },
  {
   "cell_type": "markdown",
   "id": "32ff0fb2",
   "metadata": {},
   "source": [
    "### Ridge Regression Branch"
   ]
  },
  {
   "cell_type": "code",
   "execution_count": 38,
   "id": "93db53ce",
   "metadata": {},
   "outputs": [
    {
     "name": "stdout",
     "output_type": "stream",
     "text": [
      "tree for: ridge ------> running on: sand\n",
      "tree for: ridge ------> running on: silt\n",
      "tree for: ridge ------> running on: clay\n",
      "tree for: ridge ------> running on: TOC\n",
      "End time - Start time = 50.558943033218384\n"
     ]
    }
   ],
   "source": [
    "Mtree['ridge'] = build_tree_for ('ridge')"
   ]
  },
  {
   "cell_type": "markdown",
   "id": "4b9d0acc",
   "metadata": {},
   "source": [
    "\n",
    "### Random Forest Branch"
   ]
  },
  {
   "cell_type": "code",
   "execution_count": 39,
   "id": "867391a0",
   "metadata": {},
   "outputs": [
    {
     "name": "stdout",
     "output_type": "stream",
     "text": [
      "tree for: randomforest ------> running on: sand\n",
      "tree for: randomforest ------> running on: silt\n",
      "tree for: randomforest ------> running on: clay\n",
      "tree for: randomforest ------> running on: TOC\n",
      "End time - Start time = 3720.8849902153015\n"
     ]
    }
   ],
   "source": [
    "Mtree['randomforest'] = build_tree_for ('randomforest')"
   ]
  },
  {
   "cell_type": "markdown",
   "id": "e5e189c3",
   "metadata": {},
   "source": [
    "### GBRT Branch"
   ]
  },
  {
   "cell_type": "code",
   "execution_count": 40,
   "id": "e6139101",
   "metadata": {},
   "outputs": [
    {
     "name": "stdout",
     "output_type": "stream",
     "text": [
      "tree for: gbrt ------> running on: sand\n",
      "tree for: gbrt ------> running on: silt\n",
      "tree for: gbrt ------> running on: clay\n",
      "tree for: gbrt ------> running on: TOC\n",
      "End time - Start time = 2445.6525502204895\n"
     ]
    }
   ],
   "source": [
    "Mtree['gbrt'] = build_tree_for ('gbrt')"
   ]
  },
  {
   "cell_type": "markdown",
   "id": "fee13435",
   "metadata": {},
   "source": [
    "### Cubist Branch"
   ]
  },
  {
   "cell_type": "code",
   "execution_count": 41,
   "id": "062e07b1",
   "metadata": {},
   "outputs": [
    {
     "name": "stdout",
     "output_type": "stream",
     "text": [
      "tree for: cubist ------> running on: sand\n",
      "tree for: cubist ------> running on: silt\n",
      "tree for: cubist ------> running on: clay\n",
      "tree for: cubist ------> running on: TOC\n",
      "End time - Start time = 1189.9978563785553\n"
     ]
    }
   ],
   "source": [
    "Mtree['cubist'] = build_tree_for ('cubist')"
   ]
  },
  {
   "cell_type": "markdown",
   "id": "71e1faa5",
   "metadata": {},
   "source": [
    "## Best of all worlds"
   ]
  },
  {
   "cell_type": "code",
   "execution_count": 42,
   "id": "3b933d67",
   "metadata": {},
   "outputs": [],
   "source": [
    "ml_methods = ['mult', 'plsr', 'randomforest','cubist','svr', 'ridge', 'gbrt']"
   ]
  },
  {
   "cell_type": "code",
   "execution_count": 43,
   "id": "04241275",
   "metadata": {},
   "outputs": [],
   "source": [
    "def best_model_parameters (Mtree, target, method, scorer):\n",
    "    t=target\n",
    "    m= method\n",
    "    \n",
    "    best_score = -1\n",
    "    best_n_comp = 'NA'\n",
    "    \n",
    "    \n",
    "    for tp in prepare_target:\n",
    "        for n in nbands_sampling:\n",
    "            for p in prepare_spec:\n",
    "                Y = Mtree[m][t][tp][n][p]\n",
    "                    \n",
    "                if scorer == 'iqrp':\n",
    "                    cur_score = Y['iqrp_test']\n",
    "                elif scorer == 'rpd':\n",
    "                    cur_score = Y['rpd_test']\n",
    "                else:\n",
    "                    cur_score = Y['r2_test']  \n",
    "                    \n",
    "                if cur_score > best_score:\n",
    "                    best_score = cur_score\n",
    "                    best_tp = tp\n",
    "                    best_n = n\n",
    "                    best_p = p\n",
    "                    if m == 'plsr':\n",
    "                        best_n_comp = Y['n_comp']\n",
    "                            \n",
    "    param_list = [scorer, np.round(best_score,2), 'Spec:', best_p, 'bands:', best_n, 'Tar:', best_tp]                                 \n",
    "    return (param_list)                                \n",
    "    "
   ]
  },
  {
   "cell_type": "code",
   "execution_count": 44,
   "id": "0b8e5bf2",
   "metadata": {},
   "outputs": [],
   "source": [
    "def best_score_for (Mtree, target, scorer):\n",
    "    \n",
    "    for method in ml_methods:\n",
    "        param_list= best_model_parameters (Mtree, target, method, scorer)\n",
    "        print('For:'+target+'->', param_list, ':'+method)\n",
    "     \n",
    "    return"
   ]
  },
  {
   "cell_type": "code",
   "execution_count": 45,
   "id": "b948ff18",
   "metadata": {},
   "outputs": [
    {
     "name": "stdout",
     "output_type": "stream",
     "text": [
      "For:sand-> ['iqrp', 1.51, 'Spec:', 'none', 'bands:', 10, 'Tar:', 'none'] :mult\n",
      "For:sand-> ['iqrp', 1.56, 'Spec:', 'none', 'bands:', 10, 'Tar:', 'none'] :plsr\n",
      "For:sand-> ['iqrp', 1.73, 'Spec:', 'continuum', 'bands:', 30, 'Tar:', 'minmax'] :randomforest\n",
      "For:sand-> ['iqrp', 1.56, 'Spec:', 'continuum', 'bands:', 20, 'Tar:', 'minmax'] :cubist\n",
      "For:sand-> ['iqrp', 1.45, 'Spec:', 'continuum', 'bands:', 15, 'Tar:', 'minmax'] :svr\n",
      "For:sand-> ['iqrp', 1.51, 'Spec:', 'none', 'bands:', 0, 'Tar:', 'minmax'] :ridge\n",
      "For:sand-> ['iqrp', 1.72, 'Spec:', 'continuum', 'bands:', 25, 'Tar:', 'none'] :gbrt\n"
     ]
    }
   ],
   "source": [
    "best_score_for(Mtree, 'sand', 'iqrp')"
   ]
  },
  {
   "cell_type": "code",
   "execution_count": 46,
   "id": "41642a4d",
   "metadata": {},
   "outputs": [
    {
     "name": "stdout",
     "output_type": "stream",
     "text": [
      "For:sand-> ['r2', 0.13, 'Spec:', 'none', 'bands:', 10, 'Tar:', 'none'] :mult\n",
      "For:sand-> ['r2', 0.19, 'Spec:', 'none', 'bands:', 10, 'Tar:', 'none'] :plsr\n",
      "For:sand-> ['r2', 0.34, 'Spec:', 'continuum', 'bands:', 30, 'Tar:', 'minmax'] :randomforest\n",
      "For:sand-> ['r2', 0.19, 'Spec:', 'continuum', 'bands:', 20, 'Tar:', 'minmax'] :cubist\n",
      "For:sand-> ['r2', 0.06, 'Spec:', 'continuum', 'bands:', 15, 'Tar:', 'minmax'] :svr\n",
      "For:sand-> ['r2', 0.13, 'Spec:', 'none', 'bands:', 0, 'Tar:', 'minmax'] :ridge\n",
      "For:sand-> ['r2', 0.33, 'Spec:', 'continuum', 'bands:', 25, 'Tar:', 'none'] :gbrt\n"
     ]
    }
   ],
   "source": [
    "best_score_for(Mtree, 'sand', 'r2')"
   ]
  },
  {
   "cell_type": "code",
   "execution_count": 47,
   "id": "80d73321",
   "metadata": {},
   "outputs": [
    {
     "name": "stdout",
     "output_type": "stream",
     "text": [
      "For:TOC-> ['iqrp', 1.07, 'Spec:', 'none', 'bands:', 5, 'Tar:', 'minmax'] :mult\n",
      "For:TOC-> ['iqrp', 1.08, 'Spec:', 'none', 'bands:', 40, 'Tar:', 'minmax'] :plsr\n",
      "For:TOC-> ['iqrp', 1.08, 'Spec:', 'continuum', 'bands:', 20, 'Tar:', 'minmax'] :randomforest\n",
      "For:TOC-> ['iqrp', 1.13, 'Spec:', 'fod', 'bands:', 40, 'Tar:', 'minmax'] :cubist\n",
      "For:TOC-> ['iqrp', 1.08, 'Spec:', 'continuum', 'bands:', 100, 'Tar:', 'minmax'] :svr\n",
      "For:TOC-> ['iqrp', 1.06, 'Spec:', 'none', 'bands:', 0, 'Tar:', 'minmax'] :ridge\n",
      "For:TOC-> ['iqrp', 1.05, 'Spec:', 'fod', 'bands:', 5, 'Tar:', 'minmax'] :gbrt\n"
     ]
    }
   ],
   "source": [
    "best_score_for(Mtree, 'TOC', 'iqrp')"
   ]
  },
  {
   "cell_type": "code",
   "execution_count": 48,
   "id": "cd50f3db",
   "metadata": {},
   "outputs": [
    {
     "name": "stdout",
     "output_type": "stream",
     "text": [
      "For:TOC-> ['r2', 0.18, 'Spec:', 'none', 'bands:', 5, 'Tar:', 'minmax'] :mult\n",
      "For:TOC-> ['r2', 0.2, 'Spec:', 'none', 'bands:', 40, 'Tar:', 'minmax'] :plsr\n",
      "For:TOC-> ['r2', 0.19, 'Spec:', 'continuum', 'bands:', 20, 'Tar:', 'minmax'] :randomforest\n",
      "For:TOC-> ['r2', 0.27, 'Spec:', 'fod', 'bands:', 40, 'Tar:', 'minmax'] :cubist\n",
      "For:TOC-> ['r2', 0.2, 'Spec:', 'continuum', 'bands:', 100, 'Tar:', 'minmax'] :svr\n",
      "For:TOC-> ['r2', 0.18, 'Spec:', 'none', 'bands:', 0, 'Tar:', 'minmax'] :ridge\n",
      "For:TOC-> ['r2', 0.15, 'Spec:', 'fod', 'bands:', 5, 'Tar:', 'minmax'] :gbrt\n"
     ]
    }
   ],
   "source": [
    "best_score_for(Mtree, 'TOC', 'r2')"
   ]
  },
  {
   "cell_type": "markdown",
   "id": "fe74d829",
   "metadata": {},
   "source": [
    "## Plotting Model Accuracy (ipywidgets)"
   ]
  },
  {
   "cell_type": "code",
   "execution_count": 49,
   "id": "8dd90a0e",
   "metadata": {},
   "outputs": [],
   "source": [
    "def plot_model_acc (target, target_preprocessing, spec_preprocessing, n_bands, method):\n",
    "    \n",
    "    m = method\n",
    "    t = target\n",
    "    \n",
    "    i = target_names.index(target)\n",
    "    \n",
    "    \n",
    "    p = spec_preprocessing\n",
    "    n = n_bands\n",
    "    tp = target_preprocessing\n",
    "    \n",
    "    Y = Mtree[m][t][tp][n][p]\n",
    "    \n",
    "    y_test = Y['test']\n",
    "    y_pred = Y['testP']\n",
    "#     y_train = Y['train']\n",
    "#     yhat_pred = Y['trainP']\n",
    "    \n",
    "    if m == 'plsr':\n",
    "        n_com = Y['n_comp']\n",
    "        y_pred = y_pred[:,0]\n",
    "#         yhat_pred = yhat_pred[:,0]\n",
    "    \n",
    "    \n",
    "    iqrp_test = Y['iqrp_test']\n",
    "    r2_test = Y['r2_test']\n",
    "    rpd_test = Y['rpd_test']\n",
    "    \n",
    "#     iqrp_train = find_iqrp(yhat_pred, y_train)\n",
    "#     r2_train = find_r2(yhat_pred, y_train)\n",
    "#     rpd_train = find_rpd(yhat_pred, y_train)\n",
    "    \n",
    "    y_tp = pd.DataFrame({'actual':y_test.values, 'predic': y_pred})\n",
    "    z = np.polyfit(y_test, y_pred, 1)\n",
    "    \n",
    "#     yhat_tp = pd.DataFrame({'actual':y_train.values, 'predic': yhat_pred})\n",
    "#     zhat = np.polyfit(y_train, yhat_pred, 1)\n",
    "    \n",
    "    fig, axes = plt.subplots(1,2, figsize=(18,8))\n",
    "    \n",
    "    #with plt.style.context(('ggplot')): ---- PLOT of test-prediction --------------------------------------\n",
    "    y_tp.plot.scatter(ax= axes[0], x=\"actual\", y=\"predic\", alpha=0.8, color = clr[i], edgecolors='k')\n",
    "    axes[0].plot(y_test, np.polyval(z, y_test),  c='blue', linewidth=1)\n",
    "    axes[0].plot(y_test, y_test, color='green', linewidth=1)\n",
    "    axes[0].tick_params(axis='both', labelsize=10)\n",
    "    axes[0].text(0.05, 0.95, target_names[i]+' (Test Data)', transform=axes[0].transAxes, fontsize = 20, color = clr[i])\n",
    "    axes[0].text(0.05, 0.90, 'IQRP ={:.2f}'.format(iqrp_test), transform=axes[0].transAxes, fontsize = 16)\n",
    "    axes[0].text(0.05, 0.85, 'RPD ={:.2f}'.format(rpd_test), transform=axes[0].transAxes, fontsize = 16)\n",
    "    axes[0].text(0.05, 0.80, 'R2 ={:.2f}'.format(np.round(r2_test,3)), transform=axes[0].transAxes, fontsize = 16)\n",
    "    axes[0].text(0.95, 0.15, 'Method: '+method, transform=axes[0].transAxes, \n",
    "                    horizontalalignment='right', fontsize = 20)\n",
    "    \n",
    "    if method == 'plsr':\n",
    "        axes[0].text(0.95, 0.05, 'n_component={:.2f}'.format(n_com), transform=axes[0].transAxes, \n",
    "                    horizontalalignment='right', fontsize = 12)\n",
    "    \n",
    "    #---------------------------------- ---- PLOT of train-prediction --------------------------------------\n",
    "#     yhat_tp.plot.scatter(ax= axes[1], x=\"actual\", y=\"predic\", alpha=0.8, color = clr[i], edgecolors='k')\n",
    "#     axes[1].plot(y_train, np.polyval(zhat, y_train),  c='blue', linewidth=1)\n",
    "#     axes[1].plot(y_train, y_train, color='green', linewidth=1)\n",
    "#     axes[1].tick_params(axis='both', labelsize=10)\n",
    "#     axes[1].text(0.05, 0.95,  target_names[i]+' (Training Data)', transform=axes[1].transAxes,fontsize = 20, color = clr[i])\n",
    "#     axes[1].text(0.05, 0.90, 'IQRP ={:.2f}'.format(iqrp_train), transform=axes[1].transAxes, fontsize = 16)\n",
    "#     axes[1].text(0.05, 0.85, 'RPD ={:.2f}'.format(rpd_train), transform=axes[1].transAxes, fontsize = 16)\n",
    "#     axes[1].text(0.05, 0.80, 'R2 ={:.2f}'.format(np.round(r2_train,3)), transform=axes[1].transAxes, fontsize = 16)\n",
    "#     axes[1].text(0.95, 0.15, 'Method: '+method, transform=axes[1].transAxes, \n",
    "#                     horizontalalignment='right', fontsize = 20)\n",
    "    return    "
   ]
  },
  {
   "cell_type": "code",
   "execution_count": 50,
   "id": "89b9db47",
   "metadata": {},
   "outputs": [
    {
     "data": {
      "application/vnd.jupyter.widget-view+json": {
       "model_id": "1286602a392845ab9dd624b571748b33",
       "version_major": 2,
       "version_minor": 0
      },
      "text/plain": [
       "interactive(children=(Dropdown(description='target', options=('sand', 'silt', 'clay', 'TOC'), value='sand'), D…"
      ]
     },
     "metadata": {},
     "output_type": "display_data"
    },
    {
     "data": {
      "text/plain": [
       "<function __main__.plot_model_acc(target, target_preprocessing, spec_preprocessing, n_bands, method)>"
      ]
     },
     "execution_count": 50,
     "metadata": {},
     "output_type": "execute_result"
    }
   ],
   "source": [
    "ipywidgets.interact(plot_model_acc, target = target_names,target_preprocessing = prepare_target, \\\n",
    "                    method = ml_methods, spec_preprocessing = prepare_spec, n_bands = nbands_sampling)"
   ]
  },
  {
   "cell_type": "markdown",
   "id": "2593d17e",
   "metadata": {},
   "source": [
    "## Saving Mtree using pickle"
   ]
  },
  {
   "cell_type": "code",
   "execution_count": 56,
   "id": "2be69955",
   "metadata": {},
   "outputs": [],
   "source": [
    "with open ('uae_sampled_sat_l1out.pickle', 'wb') as file:\n",
    "    pickle.dump(Mtree, file)"
   ]
  },
  {
   "cell_type": "code",
   "execution_count": 57,
   "id": "28995b35",
   "metadata": {},
   "outputs": [],
   "source": [
    "with open ('uae_sampled_sat_l1out.pickle', 'rb') as file:\n",
    "    Mtree1 = pickle.load(file)"
   ]
  },
  {
   "cell_type": "code",
   "execution_count": 59,
   "id": "e82ed947",
   "metadata": {},
   "outputs": [],
   "source": [
    "#Mtree1"
   ]
  },
  {
   "cell_type": "code",
   "execution_count": 51,
   "id": "7f8c3328",
   "metadata": {},
   "outputs": [],
   "source": [
    "person1 = {'name': 'Abhishek', 'age': '34'}"
   ]
  },
  {
   "cell_type": "code",
   "execution_count": 53,
   "id": "5344e0e3",
   "metadata": {},
   "outputs": [],
   "source": [
    "with open ('name_age.pickle', 'wb') as file:\n",
    "    pickle.dump(person1, file)"
   ]
  },
  {
   "cell_type": "code",
   "execution_count": 54,
   "id": "402cce88",
   "metadata": {},
   "outputs": [],
   "source": [
    "with open ('name_age.pickle', 'rb') as file:\n",
    "    data = pickle.load(file)"
   ]
  },
  {
   "cell_type": "code",
   "execution_count": 55,
   "id": "fb1611a8",
   "metadata": {},
   "outputs": [
    {
     "data": {
      "text/plain": [
       "{'name': 'Abhishek', 'age': '34'}"
      ]
     },
     "execution_count": 55,
     "metadata": {},
     "output_type": "execute_result"
    }
   ],
   "source": [
    "data"
   ]
  },
  {
   "cell_type": "code",
   "execution_count": null,
   "id": "75ca4fee",
   "metadata": {},
   "outputs": [],
   "source": []
  }
 ],
 "metadata": {
  "kernelspec": {
   "display_name": "Python 3 (ipykernel)",
   "language": "python",
   "name": "python3"
  },
  "language_info": {
   "codemirror_mode": {
    "name": "ipython",
    "version": 3
   },
   "file_extension": ".py",
   "mimetype": "text/x-python",
   "name": "python",
   "nbconvert_exporter": "python",
   "pygments_lexer": "ipython3",
   "version": "3.9.16"
  }
 },
 "nbformat": 4,
 "nbformat_minor": 5
}
